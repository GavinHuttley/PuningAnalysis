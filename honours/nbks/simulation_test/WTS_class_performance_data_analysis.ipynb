{
 "cells": [
  {
   "cell_type": "code",
   "execution_count": 24,
   "metadata": {},
   "outputs": [],
   "source": [
    "import sys\n",
    "sys.path.insert(0, '/Users/gulugulu/repos/PuningAnalysis/src')\n",
    "from scipy import stats\n",
    "\n",
    "import numpy as np\n",
    "from cogent3.maths.matrix_exponential_integration import expected_number_subs\n",
    "from simulation.waiting_time_simulator_iid import get_histograms2\n",
    "import numpy as np\n",
    "import json\n",
    "import plotly.express as px\n",
    "\n",
    "from simulation.WTS_class import SeqSimulate\n",
    "\n"
   ]
  },
  {
   "cell_type": "code",
   "execution_count": 25,
   "metadata": {},
   "outputs": [],
   "source": [
    "Q_matrix = np.array([[-1.75025094,  0.94143256,  0.45306226,  0.35575611],\n",
    "       [ 0.49505807, -2.27893035,  0.88176788,  0.90210439],\n",
    "       [ 0.36411798,  0.18070926, -0.91594839,  0.37112115],\n",
    "       [ 0.77758124,  0.75396143,  0.52505328, -2.05659595]])\n",
    "Q_dict = {'0': Q_matrix}\n",
    "n = 1000\n",
    "pi = [0.35, 0.15, 0.05, 0.45]\n",
    "time_range = [0.5, 1, 2, 3, 4]\n",
    "repeat_test = 100\n",
    "time = 1"
   ]
  },
  {
   "cell_type": "code",
   "execution_count": 26,
   "metadata": {},
   "outputs": [],
   "source": [
    "# simulator = SeqSimulate(Q_matrix, 100, 100, 5, pi)\n",
    "# simulator.average_substitution(max_time=1)"
   ]
  },
  {
   "cell_type": "code",
   "execution_count": 27,
   "metadata": {},
   "outputs": [
    {
     "data": {
      "text/plain": [
       "0.035"
      ]
     },
     "execution_count": 27,
     "metadata": {},
     "output_type": "execute_result"
    }
   ],
   "source": [
    "2.1/60"
   ]
  },
  {
   "cell_type": "code",
   "execution_count": 28,
   "metadata": {},
   "outputs": [],
   "source": [
    "elapsed_time = [0.035, 0.583, 2.3, 8.34, 19, 34, 54, 212]\n",
    "sequence_length = [100, 500, 1000, 2000, 3000, 4000, 5000, 6000]"
   ]
  },
  {
   "cell_type": "code",
   "execution_count": 29,
   "metadata": {},
   "outputs": [],
   "source": [
    "elapsed_time2 = [0.08, 3.27, 18.916, 125.4, 947]\n",
    "sequence_length2 = [100, 500, 1000, 2000, 3000]"
   ]
  },
  {
   "cell_type": "code",
   "execution_count": 94,
   "metadata": {},
   "outputs": [
    {
     "data": {
      "application/vnd.plotly.v1+json": {
       "config": {
        "plotlyServerURL": "https://plot.ly"
       },
       "data": [
        {
         "mode": "markers+lines",
         "name": "Updated WTS",
         "type": "scatter",
         "x": [
          100,
          500,
          1000,
          2000,
          3000,
          4000,
          5000,
          6000
         ],
         "y": [
          0.035,
          0.583,
          2.3,
          8.34,
          19,
          34,
          54,
          212
         ]
        },
        {
         "mode": "markers+lines",
         "name": "Original WTS",
         "type": "scatter",
         "x": [
          100,
          500,
          1000,
          2000,
          3000
         ],
         "y": [
          0.08,
          3.27,
          18.916,
          125.4,
          947
         ]
        }
       ],
       "layout": {
        "legend": {
         "title": {}
        },
        "template": {
         "data": {
          "bar": [
           {
            "error_x": {
             "color": "#2a3f5f"
            },
            "error_y": {
             "color": "#2a3f5f"
            },
            "marker": {
             "line": {
              "color": "white",
              "width": 0.5
             },
             "pattern": {
              "fillmode": "overlay",
              "size": 10,
              "solidity": 0.2
             }
            },
            "type": "bar"
           }
          ],
          "barpolar": [
           {
            "marker": {
             "line": {
              "color": "white",
              "width": 0.5
             },
             "pattern": {
              "fillmode": "overlay",
              "size": 10,
              "solidity": 0.2
             }
            },
            "type": "barpolar"
           }
          ],
          "carpet": [
           {
            "aaxis": {
             "endlinecolor": "#2a3f5f",
             "gridcolor": "#C8D4E3",
             "linecolor": "#C8D4E3",
             "minorgridcolor": "#C8D4E3",
             "startlinecolor": "#2a3f5f"
            },
            "baxis": {
             "endlinecolor": "#2a3f5f",
             "gridcolor": "#C8D4E3",
             "linecolor": "#C8D4E3",
             "minorgridcolor": "#C8D4E3",
             "startlinecolor": "#2a3f5f"
            },
            "type": "carpet"
           }
          ],
          "choropleth": [
           {
            "colorbar": {
             "outlinewidth": 0,
             "ticks": ""
            },
            "type": "choropleth"
           }
          ],
          "contour": [
           {
            "colorbar": {
             "outlinewidth": 0,
             "ticks": ""
            },
            "colorscale": [
             [
              0,
              "#0d0887"
             ],
             [
              0.1111111111111111,
              "#46039f"
             ],
             [
              0.2222222222222222,
              "#7201a8"
             ],
             [
              0.3333333333333333,
              "#9c179e"
             ],
             [
              0.4444444444444444,
              "#bd3786"
             ],
             [
              0.5555555555555556,
              "#d8576b"
             ],
             [
              0.6666666666666666,
              "#ed7953"
             ],
             [
              0.7777777777777778,
              "#fb9f3a"
             ],
             [
              0.8888888888888888,
              "#fdca26"
             ],
             [
              1,
              "#f0f921"
             ]
            ],
            "type": "contour"
           }
          ],
          "contourcarpet": [
           {
            "colorbar": {
             "outlinewidth": 0,
             "ticks": ""
            },
            "type": "contourcarpet"
           }
          ],
          "heatmap": [
           {
            "colorbar": {
             "outlinewidth": 0,
             "ticks": ""
            },
            "colorscale": [
             [
              0,
              "#0d0887"
             ],
             [
              0.1111111111111111,
              "#46039f"
             ],
             [
              0.2222222222222222,
              "#7201a8"
             ],
             [
              0.3333333333333333,
              "#9c179e"
             ],
             [
              0.4444444444444444,
              "#bd3786"
             ],
             [
              0.5555555555555556,
              "#d8576b"
             ],
             [
              0.6666666666666666,
              "#ed7953"
             ],
             [
              0.7777777777777778,
              "#fb9f3a"
             ],
             [
              0.8888888888888888,
              "#fdca26"
             ],
             [
              1,
              "#f0f921"
             ]
            ],
            "type": "heatmap"
           }
          ],
          "heatmapgl": [
           {
            "colorbar": {
             "outlinewidth": 0,
             "ticks": ""
            },
            "colorscale": [
             [
              0,
              "#0d0887"
             ],
             [
              0.1111111111111111,
              "#46039f"
             ],
             [
              0.2222222222222222,
              "#7201a8"
             ],
             [
              0.3333333333333333,
              "#9c179e"
             ],
             [
              0.4444444444444444,
              "#bd3786"
             ],
             [
              0.5555555555555556,
              "#d8576b"
             ],
             [
              0.6666666666666666,
              "#ed7953"
             ],
             [
              0.7777777777777778,
              "#fb9f3a"
             ],
             [
              0.8888888888888888,
              "#fdca26"
             ],
             [
              1,
              "#f0f921"
             ]
            ],
            "type": "heatmapgl"
           }
          ],
          "histogram": [
           {
            "marker": {
             "pattern": {
              "fillmode": "overlay",
              "size": 10,
              "solidity": 0.2
             }
            },
            "type": "histogram"
           }
          ],
          "histogram2d": [
           {
            "colorbar": {
             "outlinewidth": 0,
             "ticks": ""
            },
            "colorscale": [
             [
              0,
              "#0d0887"
             ],
             [
              0.1111111111111111,
              "#46039f"
             ],
             [
              0.2222222222222222,
              "#7201a8"
             ],
             [
              0.3333333333333333,
              "#9c179e"
             ],
             [
              0.4444444444444444,
              "#bd3786"
             ],
             [
              0.5555555555555556,
              "#d8576b"
             ],
             [
              0.6666666666666666,
              "#ed7953"
             ],
             [
              0.7777777777777778,
              "#fb9f3a"
             ],
             [
              0.8888888888888888,
              "#fdca26"
             ],
             [
              1,
              "#f0f921"
             ]
            ],
            "type": "histogram2d"
           }
          ],
          "histogram2dcontour": [
           {
            "colorbar": {
             "outlinewidth": 0,
             "ticks": ""
            },
            "colorscale": [
             [
              0,
              "#0d0887"
             ],
             [
              0.1111111111111111,
              "#46039f"
             ],
             [
              0.2222222222222222,
              "#7201a8"
             ],
             [
              0.3333333333333333,
              "#9c179e"
             ],
             [
              0.4444444444444444,
              "#bd3786"
             ],
             [
              0.5555555555555556,
              "#d8576b"
             ],
             [
              0.6666666666666666,
              "#ed7953"
             ],
             [
              0.7777777777777778,
              "#fb9f3a"
             ],
             [
              0.8888888888888888,
              "#fdca26"
             ],
             [
              1,
              "#f0f921"
             ]
            ],
            "type": "histogram2dcontour"
           }
          ],
          "mesh3d": [
           {
            "colorbar": {
             "outlinewidth": 0,
             "ticks": ""
            },
            "type": "mesh3d"
           }
          ],
          "parcoords": [
           {
            "line": {
             "colorbar": {
              "outlinewidth": 0,
              "ticks": ""
             }
            },
            "type": "parcoords"
           }
          ],
          "pie": [
           {
            "automargin": true,
            "type": "pie"
           }
          ],
          "scatter": [
           {
            "fillpattern": {
             "fillmode": "overlay",
             "size": 10,
             "solidity": 0.2
            },
            "type": "scatter"
           }
          ],
          "scatter3d": [
           {
            "line": {
             "colorbar": {
              "outlinewidth": 0,
              "ticks": ""
             }
            },
            "marker": {
             "colorbar": {
              "outlinewidth": 0,
              "ticks": ""
             }
            },
            "type": "scatter3d"
           }
          ],
          "scattercarpet": [
           {
            "marker": {
             "colorbar": {
              "outlinewidth": 0,
              "ticks": ""
             }
            },
            "type": "scattercarpet"
           }
          ],
          "scattergeo": [
           {
            "marker": {
             "colorbar": {
              "outlinewidth": 0,
              "ticks": ""
             }
            },
            "type": "scattergeo"
           }
          ],
          "scattergl": [
           {
            "marker": {
             "colorbar": {
              "outlinewidth": 0,
              "ticks": ""
             }
            },
            "type": "scattergl"
           }
          ],
          "scattermapbox": [
           {
            "marker": {
             "colorbar": {
              "outlinewidth": 0,
              "ticks": ""
             }
            },
            "type": "scattermapbox"
           }
          ],
          "scatterpolar": [
           {
            "marker": {
             "colorbar": {
              "outlinewidth": 0,
              "ticks": ""
             }
            },
            "type": "scatterpolar"
           }
          ],
          "scatterpolargl": [
           {
            "marker": {
             "colorbar": {
              "outlinewidth": 0,
              "ticks": ""
             }
            },
            "type": "scatterpolargl"
           }
          ],
          "scatterternary": [
           {
            "marker": {
             "colorbar": {
              "outlinewidth": 0,
              "ticks": ""
             }
            },
            "type": "scatterternary"
           }
          ],
          "surface": [
           {
            "colorbar": {
             "outlinewidth": 0,
             "ticks": ""
            },
            "colorscale": [
             [
              0,
              "#0d0887"
             ],
             [
              0.1111111111111111,
              "#46039f"
             ],
             [
              0.2222222222222222,
              "#7201a8"
             ],
             [
              0.3333333333333333,
              "#9c179e"
             ],
             [
              0.4444444444444444,
              "#bd3786"
             ],
             [
              0.5555555555555556,
              "#d8576b"
             ],
             [
              0.6666666666666666,
              "#ed7953"
             ],
             [
              0.7777777777777778,
              "#fb9f3a"
             ],
             [
              0.8888888888888888,
              "#fdca26"
             ],
             [
              1,
              "#f0f921"
             ]
            ],
            "type": "surface"
           }
          ],
          "table": [
           {
            "cells": {
             "fill": {
              "color": "#EBF0F8"
             },
             "line": {
              "color": "white"
             }
            },
            "header": {
             "fill": {
              "color": "#C8D4E3"
             },
             "line": {
              "color": "white"
             }
            },
            "type": "table"
           }
          ]
         },
         "layout": {
          "annotationdefaults": {
           "arrowcolor": "#2a3f5f",
           "arrowhead": 0,
           "arrowwidth": 1
          },
          "autotypenumbers": "strict",
          "coloraxis": {
           "colorbar": {
            "outlinewidth": 0,
            "ticks": ""
           }
          },
          "colorscale": {
           "diverging": [
            [
             0,
             "#8e0152"
            ],
            [
             0.1,
             "#c51b7d"
            ],
            [
             0.2,
             "#de77ae"
            ],
            [
             0.3,
             "#f1b6da"
            ],
            [
             0.4,
             "#fde0ef"
            ],
            [
             0.5,
             "#f7f7f7"
            ],
            [
             0.6,
             "#e6f5d0"
            ],
            [
             0.7,
             "#b8e186"
            ],
            [
             0.8,
             "#7fbc41"
            ],
            [
             0.9,
             "#4d9221"
            ],
            [
             1,
             "#276419"
            ]
           ],
           "sequential": [
            [
             0,
             "#0d0887"
            ],
            [
             0.1111111111111111,
             "#46039f"
            ],
            [
             0.2222222222222222,
             "#7201a8"
            ],
            [
             0.3333333333333333,
             "#9c179e"
            ],
            [
             0.4444444444444444,
             "#bd3786"
            ],
            [
             0.5555555555555556,
             "#d8576b"
            ],
            [
             0.6666666666666666,
             "#ed7953"
            ],
            [
             0.7777777777777778,
             "#fb9f3a"
            ],
            [
             0.8888888888888888,
             "#fdca26"
            ],
            [
             1,
             "#f0f921"
            ]
           ],
           "sequentialminus": [
            [
             0,
             "#0d0887"
            ],
            [
             0.1111111111111111,
             "#46039f"
            ],
            [
             0.2222222222222222,
             "#7201a8"
            ],
            [
             0.3333333333333333,
             "#9c179e"
            ],
            [
             0.4444444444444444,
             "#bd3786"
            ],
            [
             0.5555555555555556,
             "#d8576b"
            ],
            [
             0.6666666666666666,
             "#ed7953"
            ],
            [
             0.7777777777777778,
             "#fb9f3a"
            ],
            [
             0.8888888888888888,
             "#fdca26"
            ],
            [
             1,
             "#f0f921"
            ]
           ]
          },
          "colorway": [
           "#636efa",
           "#EF553B",
           "#00cc96",
           "#ab63fa",
           "#FFA15A",
           "#19d3f3",
           "#FF6692",
           "#B6E880",
           "#FF97FF",
           "#FECB52"
          ],
          "font": {
           "color": "#2a3f5f"
          },
          "geo": {
           "bgcolor": "white",
           "lakecolor": "white",
           "landcolor": "white",
           "showlakes": true,
           "showland": true,
           "subunitcolor": "#C8D4E3"
          },
          "hoverlabel": {
           "align": "left"
          },
          "hovermode": "closest",
          "mapbox": {
           "style": "light"
          },
          "paper_bgcolor": "white",
          "plot_bgcolor": "white",
          "polar": {
           "angularaxis": {
            "gridcolor": "#EBF0F8",
            "linecolor": "#EBF0F8",
            "ticks": ""
           },
           "bgcolor": "white",
           "radialaxis": {
            "gridcolor": "#EBF0F8",
            "linecolor": "#EBF0F8",
            "ticks": ""
           }
          },
          "scene": {
           "xaxis": {
            "backgroundcolor": "white",
            "gridcolor": "#DFE8F3",
            "gridwidth": 2,
            "linecolor": "#EBF0F8",
            "showbackground": true,
            "ticks": "",
            "zerolinecolor": "#EBF0F8"
           },
           "yaxis": {
            "backgroundcolor": "white",
            "gridcolor": "#DFE8F3",
            "gridwidth": 2,
            "linecolor": "#EBF0F8",
            "showbackground": true,
            "ticks": "",
            "zerolinecolor": "#EBF0F8"
           },
           "zaxis": {
            "backgroundcolor": "white",
            "gridcolor": "#DFE8F3",
            "gridwidth": 2,
            "linecolor": "#EBF0F8",
            "showbackground": true,
            "ticks": "",
            "zerolinecolor": "#EBF0F8"
           }
          },
          "shapedefaults": {
           "line": {
            "color": "#2a3f5f"
           }
          },
          "ternary": {
           "aaxis": {
            "gridcolor": "#DFE8F3",
            "linecolor": "#A2B1C6",
            "ticks": ""
           },
           "baxis": {
            "gridcolor": "#DFE8F3",
            "linecolor": "#A2B1C6",
            "ticks": ""
           },
           "bgcolor": "white",
           "caxis": {
            "gridcolor": "#DFE8F3",
            "linecolor": "#A2B1C6",
            "ticks": ""
           }
          },
          "title": {
           "x": 0.05
          },
          "xaxis": {
           "automargin": true,
           "gridcolor": "#EBF0F8",
           "linecolor": "#EBF0F8",
           "ticks": "",
           "title": {
            "standoff": 15
           },
           "zerolinecolor": "#EBF0F8",
           "zerolinewidth": 2
          },
          "yaxis": {
           "automargin": true,
           "gridcolor": "#EBF0F8",
           "linecolor": "#EBF0F8",
           "ticks": "",
           "title": {
            "standoff": 15
           },
           "zerolinecolor": "#EBF0F8",
           "zerolinewidth": 2
          }
         }
        },
        "title": {
         "text": "Performance comparison between the old and updated WTS algorithm, t = 1, repeat = 100"
        },
        "xaxis": {
         "title": {
          "text": "Sequence Length (bp)"
         }
        },
        "yaxis": {
         "title": {
          "text": "Elapsed Time (min)"
         }
        }
       }
      }
     },
     "metadata": {},
     "output_type": "display_data"
    }
   ],
   "source": [
    "import plotly.express as px\n",
    "import plotly.graph_objs as go\n",
    "\n",
    "# Assuming you have these data lists: sequence_length, elapsed_time, elapsed_time_std\n",
    "# And for a second set of data: sequence_length2, elapsed_time2, elapsed_time_std2\n",
    "\n",
    "# Create a scatter plot with error bars\n",
    "fig = go.Figure()\n",
    "\n",
    "# Add first dataset\n",
    "fig.add_trace(go.Scatter(\n",
    "    x=sequence_length,\n",
    "    y=elapsed_time,\n",
    "    mode='markers+lines',  # Combines dot plot with connecting lines\n",
    "    name='Updated WTS'\n",
    "))\n",
    "\n",
    "# Add second dataset\n",
    "fig.add_trace(go.Scatter(\n",
    "    x=sequence_length2,\n",
    "    y=elapsed_time2,\n",
    "    mode='markers+lines',\n",
    "    name='Original WTS'\n",
    "))\n",
    "\n",
    "# Update layout with labels and title\n",
    "fig.update_layout(\n",
    "    title='Performance comparison between the old and updated WTS algorithm, t = 1, repeat = 100',\n",
    "    xaxis_title='Sequence Length (bp)',\n",
    "    yaxis_title='Elapsed Time (min)',\n",
    "    legend_title=None,\n",
    "    template='plotly_white'  # Optional: Provides a clean white background\n",
    ")\n",
    "\n",
    "# Show the plot\n",
    "fig.show()\n",
    "\n",
    "# Optionally save the plot as a PDF file\n",
    "fig.write_image(\"elapsed_time_sequence_length.pdf\")\n"
   ]
  },
  {
   "cell_type": "markdown",
   "metadata": {},
   "source": [
    "## Test for different simulation time\n"
   ]
  },
  {
   "cell_type": "code",
   "execution_count": 31,
   "metadata": {},
   "outputs": [],
   "source": [
    "theoretical_dict = {}\n",
    "for i in range(len(time_range)):\n",
    "    theoretical_dict[time_range[i]] = expected_number_subs(pi, Q_matrix, time_range[i])\n",
    "\n",
    "theoretical_ns_error_dict = {time: 0 for time in time_range}"
   ]
  },
  {
   "cell_type": "code",
   "execution_count": 32,
   "metadata": {},
   "outputs": [],
   "source": [
    "\n",
    "import json\n",
    "\n",
    "def load_data(filepath):\n",
    "    with open(filepath, 'r') as file:\n",
    "        data = json.load(file)\n",
    "    converted_data = {}\n",
    "    for length, times in data.items():\n",
    "        converted_data[length] = {float(key): value for key, value in times.items()}\n",
    "    return converted_data\n",
    "\n",
    "def compute_errors(ns_data, theoretical_dict):\n",
    "    error_ns_dict = {}\n",
    "    for key, times in ns_data.items():\n",
    "        error_ns_dict[key] = {}\n",
    "        for time, ns_value in times.items():\n",
    "            ns_error_list = [a - theoretical_dict[time] for a in ns_value['ns_per_site_list']]\n",
    "            error_ns_dict[key][time] = {\n",
    "                'ns_per_site_list': ns_error_list,\n",
    "                'avg_ns_per_site': ns_value['avg_ns_per_site'] - theoretical_dict[time]   \n",
    "            }\n",
    "    return error_ns_dict\n",
    "\n",
    "from scipy import stats\n",
    "import numpy as np\n",
    "\n",
    "def calculate_p_values(error_ns_dict):\n",
    "    p_values = []\n",
    "    for length, times in error_ns_dict.items():\n",
    "        for time, ns_values in times.items():\n",
    "            ns_error_list = ns_values['ns_per_site_list']\n",
    "            theoretical_value = 0  # Change if your theoretical value is different\n",
    "            t_stat, p_value = stats.ttest_1samp(ns_error_list, theoretical_value)\n",
    "            p_values.append(p_value)\n",
    "    return p_values"
   ]
  },
  {
   "cell_type": "code",
   "execution_count": 33,
   "metadata": {},
   "outputs": [],
   "source": [
    "import glob\n",
    "import os\n",
    "\n",
    "def find_json_files(directory, pattern):\n",
    "    # Construct the full pattern with directory and pattern\n",
    "    full_pattern = os.path.join(directory, pattern)\n",
    "    # Use glob to find all files that match the full pattern\n",
    "    file_paths = glob.glob(full_pattern)\n",
    "    return file_paths\n",
    "\n",
    "# Example usage\n",
    "directory = '../../../results'\n",
    "\n",
    "paths_3000 = find_json_files(directory, 'WTS_3000(*).json')\n",
    "paths_2000 = find_json_files(directory,'WTS_2000(*).json')\n",
    "paths_1000 = find_json_files(directory, 'WTS_1000(*).json')\n"
   ]
  },
  {
   "cell_type": "markdown",
   "metadata": {},
   "source": [
    "### sequence length = 1000, repeat = 200"
   ]
  },
  {
   "cell_type": "code",
   "execution_count": 34,
   "metadata": {},
   "outputs": [],
   "source": [
    "result_time_1000_dict = {}\n",
    "for i in range(len(paths_1000)):\n",
    "    result_time_1000_dict[i] = {}\n",
    "    ns_result_time = load_data(paths_1000[i])\n",
    "    error_ns_time = compute_errors(ns_result_time, theoretical_dict)\n",
    "    p_values = calculate_p_values(error_ns_time)\n",
    "    result_time_1000_dict[i] = {'ns_result_time': ns_result_time, 'error_ns_time': error_ns_time, 'p_values': p_values}\n",
    "\n",
    "p_value_time_1000_all = np.array([result_time_1000_dict[0]['p_values'], result_time_1000_dict[1]['p_values'], result_time_1000_dict[2]['p_values']])\n",
    "\n",
    "p_value_time_mean_1000 = np.mean(p_value_time_1000_all, axis=0)\n",
    "\n",
    "# Calculate elementwise standard deviation\n",
    "p_value_time_std_dev_1000 = np.std(p_value_time_1000_all, axis=0)"
   ]
  },
  {
   "cell_type": "code",
   "execution_count": 35,
   "metadata": {},
   "outputs": [
    {
     "data": {
      "application/vnd.plotly.v1+json": {
       "config": {
        "plotlyServerURL": "https://plot.ly"
       },
       "data": [
        {
         "error_y": {
          "array": [
           0.08327790928012582,
           0.1895633570023664,
           0.2584011833790036,
           0.3319003078362445,
           0.3820130464491095
          ]
         },
         "hovertemplate": "Simulation Time=%{x}<br>P-value=%{y}<extra></extra>",
         "legendgroup": "",
         "marker": {
          "color": "#636efa",
          "symbol": "circle"
         },
         "mode": "markers",
         "name": "",
         "orientation": "v",
         "showlegend": false,
         "type": "scatter",
         "x": [
          0.5,
          1,
          2,
          3,
          4
         ],
         "xaxis": "x",
         "y": [
          0.757880147115937,
          0.5293436135113255,
          0.493465305700482,
          0.4701743538007725,
          0.5568517728427301
         ],
         "yaxis": "y"
        },
        {
         "mode": "lines",
         "showlegend": false,
         "type": "scatter",
         "x": [
          0.5,
          1,
          2,
          3,
          4
         ],
         "y": [
          0.757880147115937,
          0.5293436135113255,
          0.493465305700482,
          0.4701743538007725,
          0.5568517728427301
         ]
        },
        {
         "line": {
          "color": "red",
          "dash": "dash",
          "width": 3
         },
         "mode": "lines",
         "name": "Threshold: p-value = 0.05",
         "type": "scatter",
         "x": [
          0,
          5
         ],
         "y": [
          0.05,
          0.05
         ]
        }
       ],
       "layout": {
        "legend": {
         "tracegroupgap": 0
        },
        "template": {
         "data": {
          "bar": [
           {
            "error_x": {
             "color": "#2a3f5f"
            },
            "error_y": {
             "color": "#2a3f5f"
            },
            "marker": {
             "line": {
              "color": "#E5ECF6",
              "width": 0.5
             },
             "pattern": {
              "fillmode": "overlay",
              "size": 10,
              "solidity": 0.2
             }
            },
            "type": "bar"
           }
          ],
          "barpolar": [
           {
            "marker": {
             "line": {
              "color": "#E5ECF6",
              "width": 0.5
             },
             "pattern": {
              "fillmode": "overlay",
              "size": 10,
              "solidity": 0.2
             }
            },
            "type": "barpolar"
           }
          ],
          "carpet": [
           {
            "aaxis": {
             "endlinecolor": "#2a3f5f",
             "gridcolor": "white",
             "linecolor": "white",
             "minorgridcolor": "white",
             "startlinecolor": "#2a3f5f"
            },
            "baxis": {
             "endlinecolor": "#2a3f5f",
             "gridcolor": "white",
             "linecolor": "white",
             "minorgridcolor": "white",
             "startlinecolor": "#2a3f5f"
            },
            "type": "carpet"
           }
          ],
          "choropleth": [
           {
            "colorbar": {
             "outlinewidth": 0,
             "ticks": ""
            },
            "type": "choropleth"
           }
          ],
          "contour": [
           {
            "colorbar": {
             "outlinewidth": 0,
             "ticks": ""
            },
            "colorscale": [
             [
              0,
              "#0d0887"
             ],
             [
              0.1111111111111111,
              "#46039f"
             ],
             [
              0.2222222222222222,
              "#7201a8"
             ],
             [
              0.3333333333333333,
              "#9c179e"
             ],
             [
              0.4444444444444444,
              "#bd3786"
             ],
             [
              0.5555555555555556,
              "#d8576b"
             ],
             [
              0.6666666666666666,
              "#ed7953"
             ],
             [
              0.7777777777777778,
              "#fb9f3a"
             ],
             [
              0.8888888888888888,
              "#fdca26"
             ],
             [
              1,
              "#f0f921"
             ]
            ],
            "type": "contour"
           }
          ],
          "contourcarpet": [
           {
            "colorbar": {
             "outlinewidth": 0,
             "ticks": ""
            },
            "type": "contourcarpet"
           }
          ],
          "heatmap": [
           {
            "colorbar": {
             "outlinewidth": 0,
             "ticks": ""
            },
            "colorscale": [
             [
              0,
              "#0d0887"
             ],
             [
              0.1111111111111111,
              "#46039f"
             ],
             [
              0.2222222222222222,
              "#7201a8"
             ],
             [
              0.3333333333333333,
              "#9c179e"
             ],
             [
              0.4444444444444444,
              "#bd3786"
             ],
             [
              0.5555555555555556,
              "#d8576b"
             ],
             [
              0.6666666666666666,
              "#ed7953"
             ],
             [
              0.7777777777777778,
              "#fb9f3a"
             ],
             [
              0.8888888888888888,
              "#fdca26"
             ],
             [
              1,
              "#f0f921"
             ]
            ],
            "type": "heatmap"
           }
          ],
          "heatmapgl": [
           {
            "colorbar": {
             "outlinewidth": 0,
             "ticks": ""
            },
            "colorscale": [
             [
              0,
              "#0d0887"
             ],
             [
              0.1111111111111111,
              "#46039f"
             ],
             [
              0.2222222222222222,
              "#7201a8"
             ],
             [
              0.3333333333333333,
              "#9c179e"
             ],
             [
              0.4444444444444444,
              "#bd3786"
             ],
             [
              0.5555555555555556,
              "#d8576b"
             ],
             [
              0.6666666666666666,
              "#ed7953"
             ],
             [
              0.7777777777777778,
              "#fb9f3a"
             ],
             [
              0.8888888888888888,
              "#fdca26"
             ],
             [
              1,
              "#f0f921"
             ]
            ],
            "type": "heatmapgl"
           }
          ],
          "histogram": [
           {
            "marker": {
             "pattern": {
              "fillmode": "overlay",
              "size": 10,
              "solidity": 0.2
             }
            },
            "type": "histogram"
           }
          ],
          "histogram2d": [
           {
            "colorbar": {
             "outlinewidth": 0,
             "ticks": ""
            },
            "colorscale": [
             [
              0,
              "#0d0887"
             ],
             [
              0.1111111111111111,
              "#46039f"
             ],
             [
              0.2222222222222222,
              "#7201a8"
             ],
             [
              0.3333333333333333,
              "#9c179e"
             ],
             [
              0.4444444444444444,
              "#bd3786"
             ],
             [
              0.5555555555555556,
              "#d8576b"
             ],
             [
              0.6666666666666666,
              "#ed7953"
             ],
             [
              0.7777777777777778,
              "#fb9f3a"
             ],
             [
              0.8888888888888888,
              "#fdca26"
             ],
             [
              1,
              "#f0f921"
             ]
            ],
            "type": "histogram2d"
           }
          ],
          "histogram2dcontour": [
           {
            "colorbar": {
             "outlinewidth": 0,
             "ticks": ""
            },
            "colorscale": [
             [
              0,
              "#0d0887"
             ],
             [
              0.1111111111111111,
              "#46039f"
             ],
             [
              0.2222222222222222,
              "#7201a8"
             ],
             [
              0.3333333333333333,
              "#9c179e"
             ],
             [
              0.4444444444444444,
              "#bd3786"
             ],
             [
              0.5555555555555556,
              "#d8576b"
             ],
             [
              0.6666666666666666,
              "#ed7953"
             ],
             [
              0.7777777777777778,
              "#fb9f3a"
             ],
             [
              0.8888888888888888,
              "#fdca26"
             ],
             [
              1,
              "#f0f921"
             ]
            ],
            "type": "histogram2dcontour"
           }
          ],
          "mesh3d": [
           {
            "colorbar": {
             "outlinewidth": 0,
             "ticks": ""
            },
            "type": "mesh3d"
           }
          ],
          "parcoords": [
           {
            "line": {
             "colorbar": {
              "outlinewidth": 0,
              "ticks": ""
             }
            },
            "type": "parcoords"
           }
          ],
          "pie": [
           {
            "automargin": true,
            "type": "pie"
           }
          ],
          "scatter": [
           {
            "fillpattern": {
             "fillmode": "overlay",
             "size": 10,
             "solidity": 0.2
            },
            "type": "scatter"
           }
          ],
          "scatter3d": [
           {
            "line": {
             "colorbar": {
              "outlinewidth": 0,
              "ticks": ""
             }
            },
            "marker": {
             "colorbar": {
              "outlinewidth": 0,
              "ticks": ""
             }
            },
            "type": "scatter3d"
           }
          ],
          "scattercarpet": [
           {
            "marker": {
             "colorbar": {
              "outlinewidth": 0,
              "ticks": ""
             }
            },
            "type": "scattercarpet"
           }
          ],
          "scattergeo": [
           {
            "marker": {
             "colorbar": {
              "outlinewidth": 0,
              "ticks": ""
             }
            },
            "type": "scattergeo"
           }
          ],
          "scattergl": [
           {
            "marker": {
             "colorbar": {
              "outlinewidth": 0,
              "ticks": ""
             }
            },
            "type": "scattergl"
           }
          ],
          "scattermapbox": [
           {
            "marker": {
             "colorbar": {
              "outlinewidth": 0,
              "ticks": ""
             }
            },
            "type": "scattermapbox"
           }
          ],
          "scatterpolar": [
           {
            "marker": {
             "colorbar": {
              "outlinewidth": 0,
              "ticks": ""
             }
            },
            "type": "scatterpolar"
           }
          ],
          "scatterpolargl": [
           {
            "marker": {
             "colorbar": {
              "outlinewidth": 0,
              "ticks": ""
             }
            },
            "type": "scatterpolargl"
           }
          ],
          "scatterternary": [
           {
            "marker": {
             "colorbar": {
              "outlinewidth": 0,
              "ticks": ""
             }
            },
            "type": "scatterternary"
           }
          ],
          "surface": [
           {
            "colorbar": {
             "outlinewidth": 0,
             "ticks": ""
            },
            "colorscale": [
             [
              0,
              "#0d0887"
             ],
             [
              0.1111111111111111,
              "#46039f"
             ],
             [
              0.2222222222222222,
              "#7201a8"
             ],
             [
              0.3333333333333333,
              "#9c179e"
             ],
             [
              0.4444444444444444,
              "#bd3786"
             ],
             [
              0.5555555555555556,
              "#d8576b"
             ],
             [
              0.6666666666666666,
              "#ed7953"
             ],
             [
              0.7777777777777778,
              "#fb9f3a"
             ],
             [
              0.8888888888888888,
              "#fdca26"
             ],
             [
              1,
              "#f0f921"
             ]
            ],
            "type": "surface"
           }
          ],
          "table": [
           {
            "cells": {
             "fill": {
              "color": "#EBF0F8"
             },
             "line": {
              "color": "white"
             }
            },
            "header": {
             "fill": {
              "color": "#C8D4E3"
             },
             "line": {
              "color": "white"
             }
            },
            "type": "table"
           }
          ]
         },
         "layout": {
          "annotationdefaults": {
           "arrowcolor": "#2a3f5f",
           "arrowhead": 0,
           "arrowwidth": 1
          },
          "autotypenumbers": "strict",
          "coloraxis": {
           "colorbar": {
            "outlinewidth": 0,
            "ticks": ""
           }
          },
          "colorscale": {
           "diverging": [
            [
             0,
             "#8e0152"
            ],
            [
             0.1,
             "#c51b7d"
            ],
            [
             0.2,
             "#de77ae"
            ],
            [
             0.3,
             "#f1b6da"
            ],
            [
             0.4,
             "#fde0ef"
            ],
            [
             0.5,
             "#f7f7f7"
            ],
            [
             0.6,
             "#e6f5d0"
            ],
            [
             0.7,
             "#b8e186"
            ],
            [
             0.8,
             "#7fbc41"
            ],
            [
             0.9,
             "#4d9221"
            ],
            [
             1,
             "#276419"
            ]
           ],
           "sequential": [
            [
             0,
             "#0d0887"
            ],
            [
             0.1111111111111111,
             "#46039f"
            ],
            [
             0.2222222222222222,
             "#7201a8"
            ],
            [
             0.3333333333333333,
             "#9c179e"
            ],
            [
             0.4444444444444444,
             "#bd3786"
            ],
            [
             0.5555555555555556,
             "#d8576b"
            ],
            [
             0.6666666666666666,
             "#ed7953"
            ],
            [
             0.7777777777777778,
             "#fb9f3a"
            ],
            [
             0.8888888888888888,
             "#fdca26"
            ],
            [
             1,
             "#f0f921"
            ]
           ],
           "sequentialminus": [
            [
             0,
             "#0d0887"
            ],
            [
             0.1111111111111111,
             "#46039f"
            ],
            [
             0.2222222222222222,
             "#7201a8"
            ],
            [
             0.3333333333333333,
             "#9c179e"
            ],
            [
             0.4444444444444444,
             "#bd3786"
            ],
            [
             0.5555555555555556,
             "#d8576b"
            ],
            [
             0.6666666666666666,
             "#ed7953"
            ],
            [
             0.7777777777777778,
             "#fb9f3a"
            ],
            [
             0.8888888888888888,
             "#fdca26"
            ],
            [
             1,
             "#f0f921"
            ]
           ]
          },
          "colorway": [
           "#636efa",
           "#EF553B",
           "#00cc96",
           "#ab63fa",
           "#FFA15A",
           "#19d3f3",
           "#FF6692",
           "#B6E880",
           "#FF97FF",
           "#FECB52"
          ],
          "font": {
           "color": "#2a3f5f"
          },
          "geo": {
           "bgcolor": "white",
           "lakecolor": "white",
           "landcolor": "#E5ECF6",
           "showlakes": true,
           "showland": true,
           "subunitcolor": "white"
          },
          "hoverlabel": {
           "align": "left"
          },
          "hovermode": "closest",
          "mapbox": {
           "style": "light"
          },
          "paper_bgcolor": "white",
          "plot_bgcolor": "#E5ECF6",
          "polar": {
           "angularaxis": {
            "gridcolor": "white",
            "linecolor": "white",
            "ticks": ""
           },
           "bgcolor": "#E5ECF6",
           "radialaxis": {
            "gridcolor": "white",
            "linecolor": "white",
            "ticks": ""
           }
          },
          "scene": {
           "xaxis": {
            "backgroundcolor": "#E5ECF6",
            "gridcolor": "white",
            "gridwidth": 2,
            "linecolor": "white",
            "showbackground": true,
            "ticks": "",
            "zerolinecolor": "white"
           },
           "yaxis": {
            "backgroundcolor": "#E5ECF6",
            "gridcolor": "white",
            "gridwidth": 2,
            "linecolor": "white",
            "showbackground": true,
            "ticks": "",
            "zerolinecolor": "white"
           },
           "zaxis": {
            "backgroundcolor": "#E5ECF6",
            "gridcolor": "white",
            "gridwidth": 2,
            "linecolor": "white",
            "showbackground": true,
            "ticks": "",
            "zerolinecolor": "white"
           }
          },
          "shapedefaults": {
           "line": {
            "color": "#2a3f5f"
           }
          },
          "ternary": {
           "aaxis": {
            "gridcolor": "white",
            "linecolor": "white",
            "ticks": ""
           },
           "baxis": {
            "gridcolor": "white",
            "linecolor": "white",
            "ticks": ""
           },
           "bgcolor": "#E5ECF6",
           "caxis": {
            "gridcolor": "white",
            "linecolor": "white",
            "ticks": ""
           }
          },
          "title": {
           "x": 0.05
          },
          "xaxis": {
           "automargin": true,
           "gridcolor": "white",
           "linecolor": "white",
           "ticks": "",
           "title": {
            "standoff": 15
           },
           "zerolinecolor": "white",
           "zerolinewidth": 2
          },
          "yaxis": {
           "automargin": true,
           "gridcolor": "white",
           "linecolor": "white",
           "ticks": "",
           "title": {
            "standoff": 15
           },
           "zerolinecolor": "white",
           "zerolinewidth": 2
          }
         }
        },
        "title": {
         "text": "P-value for Different Simulation Time, sequence length 1000"
        },
        "xaxis": {
         "anchor": "y",
         "domain": [
          0,
          1
         ],
         "range": [
          0,
          5
         ],
         "title": {
          "text": "Simulation Time"
         }
        },
        "yaxis": {
         "anchor": "x",
         "domain": [
          0,
          1
         ],
         "range": [
          0,
          1
         ],
         "title": {
          "text": "P-value"
         }
        }
       }
      }
     },
     "metadata": {},
     "output_type": "display_data"
    }
   ],
   "source": [
    "# Create a dot plot with error bars for standard deviations\n",
    "fig_time_pvalue = px.scatter(x=time_range, y=p_value_time_mean_1000,\n",
    "                             labels={'x': 'Simulation Time', 'y': 'P-value'},\n",
    "                             title='P-value for Different Simulation Time, sequence length 1000',\n",
    "                             error_y=p_value_time_std_dev_1000)\n",
    "\n",
    "fig_time_pvalue.add_scatter(x=time_range, y=p_value_time_mean_1000, mode='lines', showlegend=False)\n",
    "\n",
    "# Add a horizontal line at y=0.05\n",
    "fig_time_pvalue.add_scatter(x=[0, 5], y=[0.05, 0.05],\n",
    "                              mode='lines', line=dict(color='red', dash='dash', width=3),\n",
    "                              name='Threshold: p-value = 0.05')\n",
    "# Save the plot as a PDF\n",
    "# fig_repeat_pvalue.write_image(\"P_value_length_time.pdf\")\n",
    "fig_time_pvalue.update_yaxes(range=[0, 1])\n",
    "fig_time_pvalue.update_xaxes(range=[0, 5])\n",
    "\n",
    "# Show the plot\n",
    "fig_time_pvalue.show()"
   ]
  },
  {
   "cell_type": "markdown",
   "metadata": {},
   "source": [
    "### Test for different simulation time, sequence length = 2000, repeat = 200"
   ]
  },
  {
   "cell_type": "code",
   "execution_count": 36,
   "metadata": {},
   "outputs": [],
   "source": [
    "result_time_2000_dict = {}\n",
    "for i in range(len(paths_2000)):\n",
    "    result_time_2000_dict[i] = {}\n",
    "    ns_result_time = load_data(paths_2000[i])\n",
    "    error_ns_time = compute_errors(ns_result_time, theoretical_dict)\n",
    "    p_values = calculate_p_values(error_ns_time)\n",
    "    result_time_2000_dict[i] = {'ns_result_time': ns_result_time, 'error_ns_time': error_ns_time, 'p_values': p_values}\n",
    "\n",
    "p_value_time_2000_all = np.array([result_time_2000_dict[0]['p_values'], result_time_2000_dict[1]['p_values'], result_time_2000_dict[2]['p_values']])\n",
    "\n",
    "p_value_time_mean_2000 = np.mean(p_value_time_2000_all, axis=0)\n",
    "\n",
    "# Calculate elementwise standard deviation\n",
    "p_value_time_std_dev_2000 = np.std(p_value_time_2000_all, axis=0)"
   ]
  },
  {
   "cell_type": "code",
   "execution_count": 37,
   "metadata": {},
   "outputs": [
    {
     "data": {
      "application/vnd.plotly.v1+json": {
       "config": {
        "plotlyServerURL": "https://plot.ly"
       },
       "data": [
        {
         "error_y": {
          "array": [
           0.33018016921862553,
           0.22105963685795843,
           0.3214821707543155,
           0.17270346254378197,
           0.0836870255251005
          ]
         },
         "hovertemplate": "Simulation Time=%{x}<br>P-value=%{y}<extra></extra>",
         "legendgroup": "",
         "marker": {
          "color": "#636efa",
          "symbol": "circle"
         },
         "mode": "markers",
         "name": "",
         "orientation": "v",
         "showlegend": false,
         "type": "scatter",
         "x": [
          0.5,
          1,
          2,
          3,
          4
         ],
         "xaxis": "x",
         "y": [
          0.5954729406928192,
          0.4206461875385266,
          0.549755573085497,
          0.1494569689592166,
          0.656971848470497
         ],
         "yaxis": "y"
        },
        {
         "mode": "lines",
         "showlegend": false,
         "type": "scatter",
         "x": [
          0.5,
          1,
          2,
          3,
          4
         ],
         "y": [
          0.5954729406928192,
          0.4206461875385266,
          0.549755573085497,
          0.1494569689592166,
          0.656971848470497
         ]
        },
        {
         "line": {
          "color": "red",
          "dash": "dash",
          "width": 3
         },
         "mode": "lines",
         "name": "Threshold: p-value = 0.05",
         "type": "scatter",
         "x": [
          0,
          5
         ],
         "y": [
          0.05,
          0.05
         ]
        }
       ],
       "layout": {
        "legend": {
         "tracegroupgap": 0
        },
        "template": {
         "data": {
          "bar": [
           {
            "error_x": {
             "color": "#2a3f5f"
            },
            "error_y": {
             "color": "#2a3f5f"
            },
            "marker": {
             "line": {
              "color": "#E5ECF6",
              "width": 0.5
             },
             "pattern": {
              "fillmode": "overlay",
              "size": 10,
              "solidity": 0.2
             }
            },
            "type": "bar"
           }
          ],
          "barpolar": [
           {
            "marker": {
             "line": {
              "color": "#E5ECF6",
              "width": 0.5
             },
             "pattern": {
              "fillmode": "overlay",
              "size": 10,
              "solidity": 0.2
             }
            },
            "type": "barpolar"
           }
          ],
          "carpet": [
           {
            "aaxis": {
             "endlinecolor": "#2a3f5f",
             "gridcolor": "white",
             "linecolor": "white",
             "minorgridcolor": "white",
             "startlinecolor": "#2a3f5f"
            },
            "baxis": {
             "endlinecolor": "#2a3f5f",
             "gridcolor": "white",
             "linecolor": "white",
             "minorgridcolor": "white",
             "startlinecolor": "#2a3f5f"
            },
            "type": "carpet"
           }
          ],
          "choropleth": [
           {
            "colorbar": {
             "outlinewidth": 0,
             "ticks": ""
            },
            "type": "choropleth"
           }
          ],
          "contour": [
           {
            "colorbar": {
             "outlinewidth": 0,
             "ticks": ""
            },
            "colorscale": [
             [
              0,
              "#0d0887"
             ],
             [
              0.1111111111111111,
              "#46039f"
             ],
             [
              0.2222222222222222,
              "#7201a8"
             ],
             [
              0.3333333333333333,
              "#9c179e"
             ],
             [
              0.4444444444444444,
              "#bd3786"
             ],
             [
              0.5555555555555556,
              "#d8576b"
             ],
             [
              0.6666666666666666,
              "#ed7953"
             ],
             [
              0.7777777777777778,
              "#fb9f3a"
             ],
             [
              0.8888888888888888,
              "#fdca26"
             ],
             [
              1,
              "#f0f921"
             ]
            ],
            "type": "contour"
           }
          ],
          "contourcarpet": [
           {
            "colorbar": {
             "outlinewidth": 0,
             "ticks": ""
            },
            "type": "contourcarpet"
           }
          ],
          "heatmap": [
           {
            "colorbar": {
             "outlinewidth": 0,
             "ticks": ""
            },
            "colorscale": [
             [
              0,
              "#0d0887"
             ],
             [
              0.1111111111111111,
              "#46039f"
             ],
             [
              0.2222222222222222,
              "#7201a8"
             ],
             [
              0.3333333333333333,
              "#9c179e"
             ],
             [
              0.4444444444444444,
              "#bd3786"
             ],
             [
              0.5555555555555556,
              "#d8576b"
             ],
             [
              0.6666666666666666,
              "#ed7953"
             ],
             [
              0.7777777777777778,
              "#fb9f3a"
             ],
             [
              0.8888888888888888,
              "#fdca26"
             ],
             [
              1,
              "#f0f921"
             ]
            ],
            "type": "heatmap"
           }
          ],
          "heatmapgl": [
           {
            "colorbar": {
             "outlinewidth": 0,
             "ticks": ""
            },
            "colorscale": [
             [
              0,
              "#0d0887"
             ],
             [
              0.1111111111111111,
              "#46039f"
             ],
             [
              0.2222222222222222,
              "#7201a8"
             ],
             [
              0.3333333333333333,
              "#9c179e"
             ],
             [
              0.4444444444444444,
              "#bd3786"
             ],
             [
              0.5555555555555556,
              "#d8576b"
             ],
             [
              0.6666666666666666,
              "#ed7953"
             ],
             [
              0.7777777777777778,
              "#fb9f3a"
             ],
             [
              0.8888888888888888,
              "#fdca26"
             ],
             [
              1,
              "#f0f921"
             ]
            ],
            "type": "heatmapgl"
           }
          ],
          "histogram": [
           {
            "marker": {
             "pattern": {
              "fillmode": "overlay",
              "size": 10,
              "solidity": 0.2
             }
            },
            "type": "histogram"
           }
          ],
          "histogram2d": [
           {
            "colorbar": {
             "outlinewidth": 0,
             "ticks": ""
            },
            "colorscale": [
             [
              0,
              "#0d0887"
             ],
             [
              0.1111111111111111,
              "#46039f"
             ],
             [
              0.2222222222222222,
              "#7201a8"
             ],
             [
              0.3333333333333333,
              "#9c179e"
             ],
             [
              0.4444444444444444,
              "#bd3786"
             ],
             [
              0.5555555555555556,
              "#d8576b"
             ],
             [
              0.6666666666666666,
              "#ed7953"
             ],
             [
              0.7777777777777778,
              "#fb9f3a"
             ],
             [
              0.8888888888888888,
              "#fdca26"
             ],
             [
              1,
              "#f0f921"
             ]
            ],
            "type": "histogram2d"
           }
          ],
          "histogram2dcontour": [
           {
            "colorbar": {
             "outlinewidth": 0,
             "ticks": ""
            },
            "colorscale": [
             [
              0,
              "#0d0887"
             ],
             [
              0.1111111111111111,
              "#46039f"
             ],
             [
              0.2222222222222222,
              "#7201a8"
             ],
             [
              0.3333333333333333,
              "#9c179e"
             ],
             [
              0.4444444444444444,
              "#bd3786"
             ],
             [
              0.5555555555555556,
              "#d8576b"
             ],
             [
              0.6666666666666666,
              "#ed7953"
             ],
             [
              0.7777777777777778,
              "#fb9f3a"
             ],
             [
              0.8888888888888888,
              "#fdca26"
             ],
             [
              1,
              "#f0f921"
             ]
            ],
            "type": "histogram2dcontour"
           }
          ],
          "mesh3d": [
           {
            "colorbar": {
             "outlinewidth": 0,
             "ticks": ""
            },
            "type": "mesh3d"
           }
          ],
          "parcoords": [
           {
            "line": {
             "colorbar": {
              "outlinewidth": 0,
              "ticks": ""
             }
            },
            "type": "parcoords"
           }
          ],
          "pie": [
           {
            "automargin": true,
            "type": "pie"
           }
          ],
          "scatter": [
           {
            "fillpattern": {
             "fillmode": "overlay",
             "size": 10,
             "solidity": 0.2
            },
            "type": "scatter"
           }
          ],
          "scatter3d": [
           {
            "line": {
             "colorbar": {
              "outlinewidth": 0,
              "ticks": ""
             }
            },
            "marker": {
             "colorbar": {
              "outlinewidth": 0,
              "ticks": ""
             }
            },
            "type": "scatter3d"
           }
          ],
          "scattercarpet": [
           {
            "marker": {
             "colorbar": {
              "outlinewidth": 0,
              "ticks": ""
             }
            },
            "type": "scattercarpet"
           }
          ],
          "scattergeo": [
           {
            "marker": {
             "colorbar": {
              "outlinewidth": 0,
              "ticks": ""
             }
            },
            "type": "scattergeo"
           }
          ],
          "scattergl": [
           {
            "marker": {
             "colorbar": {
              "outlinewidth": 0,
              "ticks": ""
             }
            },
            "type": "scattergl"
           }
          ],
          "scattermapbox": [
           {
            "marker": {
             "colorbar": {
              "outlinewidth": 0,
              "ticks": ""
             }
            },
            "type": "scattermapbox"
           }
          ],
          "scatterpolar": [
           {
            "marker": {
             "colorbar": {
              "outlinewidth": 0,
              "ticks": ""
             }
            },
            "type": "scatterpolar"
           }
          ],
          "scatterpolargl": [
           {
            "marker": {
             "colorbar": {
              "outlinewidth": 0,
              "ticks": ""
             }
            },
            "type": "scatterpolargl"
           }
          ],
          "scatterternary": [
           {
            "marker": {
             "colorbar": {
              "outlinewidth": 0,
              "ticks": ""
             }
            },
            "type": "scatterternary"
           }
          ],
          "surface": [
           {
            "colorbar": {
             "outlinewidth": 0,
             "ticks": ""
            },
            "colorscale": [
             [
              0,
              "#0d0887"
             ],
             [
              0.1111111111111111,
              "#46039f"
             ],
             [
              0.2222222222222222,
              "#7201a8"
             ],
             [
              0.3333333333333333,
              "#9c179e"
             ],
             [
              0.4444444444444444,
              "#bd3786"
             ],
             [
              0.5555555555555556,
              "#d8576b"
             ],
             [
              0.6666666666666666,
              "#ed7953"
             ],
             [
              0.7777777777777778,
              "#fb9f3a"
             ],
             [
              0.8888888888888888,
              "#fdca26"
             ],
             [
              1,
              "#f0f921"
             ]
            ],
            "type": "surface"
           }
          ],
          "table": [
           {
            "cells": {
             "fill": {
              "color": "#EBF0F8"
             },
             "line": {
              "color": "white"
             }
            },
            "header": {
             "fill": {
              "color": "#C8D4E3"
             },
             "line": {
              "color": "white"
             }
            },
            "type": "table"
           }
          ]
         },
         "layout": {
          "annotationdefaults": {
           "arrowcolor": "#2a3f5f",
           "arrowhead": 0,
           "arrowwidth": 1
          },
          "autotypenumbers": "strict",
          "coloraxis": {
           "colorbar": {
            "outlinewidth": 0,
            "ticks": ""
           }
          },
          "colorscale": {
           "diverging": [
            [
             0,
             "#8e0152"
            ],
            [
             0.1,
             "#c51b7d"
            ],
            [
             0.2,
             "#de77ae"
            ],
            [
             0.3,
             "#f1b6da"
            ],
            [
             0.4,
             "#fde0ef"
            ],
            [
             0.5,
             "#f7f7f7"
            ],
            [
             0.6,
             "#e6f5d0"
            ],
            [
             0.7,
             "#b8e186"
            ],
            [
             0.8,
             "#7fbc41"
            ],
            [
             0.9,
             "#4d9221"
            ],
            [
             1,
             "#276419"
            ]
           ],
           "sequential": [
            [
             0,
             "#0d0887"
            ],
            [
             0.1111111111111111,
             "#46039f"
            ],
            [
             0.2222222222222222,
             "#7201a8"
            ],
            [
             0.3333333333333333,
             "#9c179e"
            ],
            [
             0.4444444444444444,
             "#bd3786"
            ],
            [
             0.5555555555555556,
             "#d8576b"
            ],
            [
             0.6666666666666666,
             "#ed7953"
            ],
            [
             0.7777777777777778,
             "#fb9f3a"
            ],
            [
             0.8888888888888888,
             "#fdca26"
            ],
            [
             1,
             "#f0f921"
            ]
           ],
           "sequentialminus": [
            [
             0,
             "#0d0887"
            ],
            [
             0.1111111111111111,
             "#46039f"
            ],
            [
             0.2222222222222222,
             "#7201a8"
            ],
            [
             0.3333333333333333,
             "#9c179e"
            ],
            [
             0.4444444444444444,
             "#bd3786"
            ],
            [
             0.5555555555555556,
             "#d8576b"
            ],
            [
             0.6666666666666666,
             "#ed7953"
            ],
            [
             0.7777777777777778,
             "#fb9f3a"
            ],
            [
             0.8888888888888888,
             "#fdca26"
            ],
            [
             1,
             "#f0f921"
            ]
           ]
          },
          "colorway": [
           "#636efa",
           "#EF553B",
           "#00cc96",
           "#ab63fa",
           "#FFA15A",
           "#19d3f3",
           "#FF6692",
           "#B6E880",
           "#FF97FF",
           "#FECB52"
          ],
          "font": {
           "color": "#2a3f5f"
          },
          "geo": {
           "bgcolor": "white",
           "lakecolor": "white",
           "landcolor": "#E5ECF6",
           "showlakes": true,
           "showland": true,
           "subunitcolor": "white"
          },
          "hoverlabel": {
           "align": "left"
          },
          "hovermode": "closest",
          "mapbox": {
           "style": "light"
          },
          "paper_bgcolor": "white",
          "plot_bgcolor": "#E5ECF6",
          "polar": {
           "angularaxis": {
            "gridcolor": "white",
            "linecolor": "white",
            "ticks": ""
           },
           "bgcolor": "#E5ECF6",
           "radialaxis": {
            "gridcolor": "white",
            "linecolor": "white",
            "ticks": ""
           }
          },
          "scene": {
           "xaxis": {
            "backgroundcolor": "#E5ECF6",
            "gridcolor": "white",
            "gridwidth": 2,
            "linecolor": "white",
            "showbackground": true,
            "ticks": "",
            "zerolinecolor": "white"
           },
           "yaxis": {
            "backgroundcolor": "#E5ECF6",
            "gridcolor": "white",
            "gridwidth": 2,
            "linecolor": "white",
            "showbackground": true,
            "ticks": "",
            "zerolinecolor": "white"
           },
           "zaxis": {
            "backgroundcolor": "#E5ECF6",
            "gridcolor": "white",
            "gridwidth": 2,
            "linecolor": "white",
            "showbackground": true,
            "ticks": "",
            "zerolinecolor": "white"
           }
          },
          "shapedefaults": {
           "line": {
            "color": "#2a3f5f"
           }
          },
          "ternary": {
           "aaxis": {
            "gridcolor": "white",
            "linecolor": "white",
            "ticks": ""
           },
           "baxis": {
            "gridcolor": "white",
            "linecolor": "white",
            "ticks": ""
           },
           "bgcolor": "#E5ECF6",
           "caxis": {
            "gridcolor": "white",
            "linecolor": "white",
            "ticks": ""
           }
          },
          "title": {
           "x": 0.05
          },
          "xaxis": {
           "automargin": true,
           "gridcolor": "white",
           "linecolor": "white",
           "ticks": "",
           "title": {
            "standoff": 15
           },
           "zerolinecolor": "white",
           "zerolinewidth": 2
          },
          "yaxis": {
           "automargin": true,
           "gridcolor": "white",
           "linecolor": "white",
           "ticks": "",
           "title": {
            "standoff": 15
           },
           "zerolinecolor": "white",
           "zerolinewidth": 2
          }
         }
        },
        "title": {
         "text": "P-value for Different Simulation Time, sequence length = 2000"
        },
        "xaxis": {
         "anchor": "y",
         "domain": [
          0,
          1
         ],
         "range": [
          0,
          5
         ],
         "title": {
          "text": "Simulation Time"
         }
        },
        "yaxis": {
         "anchor": "x",
         "domain": [
          0,
          1
         ],
         "range": [
          0,
          1
         ],
         "title": {
          "text": "P-value"
         }
        }
       }
      }
     },
     "metadata": {},
     "output_type": "display_data"
    }
   ],
   "source": [
    "# Create a dot plot with error bars for standard deviations\n",
    "fig_time_pvalue = px.scatter(x=time_range, y=p_value_time_mean_2000,\n",
    "                             labels={'x': 'Simulation Time', 'y': 'P-value'},\n",
    "                             title='P-value for Different Simulation Time, sequence length = 2000',\n",
    "                              error_y=p_value_time_std_dev_2000\n",
    "                            )\n",
    "\n",
    "fig_time_pvalue.add_scatter(x=time_range, y=p_value_time_mean_2000, mode='lines', showlegend=False)\n",
    "\n",
    "# Add a horizontal line at y=0.05\n",
    "fig_time_pvalue.add_scatter(x=[0, 5], y=[0.05, 0.05],\n",
    "                              mode='lines', line=dict(color='red', dash='dash', width=3),\n",
    "                              name='Threshold: p-value = 0.05')\n",
    "# Save the plot as a PDF\n",
    "# fig_repeat_pvalue.write_image(\"P_value_length_time.pdf\")\n",
    "fig_time_pvalue.update_yaxes(range=[0, 1])\n",
    "fig_time_pvalue.update_xaxes(range=[0, 5])\n",
    "\n",
    "# Show the plot\n",
    "fig_time_pvalue.show()"
   ]
  },
  {
   "cell_type": "markdown",
   "metadata": {},
   "source": [
    "### Length = 3000, repeat  = 100"
   ]
  },
  {
   "cell_type": "code",
   "execution_count": 38,
   "metadata": {},
   "outputs": [],
   "source": [
    "result_time_2000_dict = {}\n",
    "for i in range(len(paths_2000)):\n",
    "    result_time_2000_dict[i] = {}\n",
    "    ns_result_time = load_data(paths_2000[i])\n",
    "    error_ns_time = compute_errors(ns_result_time, theoretical_dict)\n",
    "    p_values = calculate_p_values(error_ns_time)\n",
    "    result_time_2000_dict[i] = {'ns_result_time': ns_result_time, 'error_ns_time': error_ns_time, 'p_values': p_values}\n",
    "\n"
   ]
  },
  {
   "cell_type": "code",
   "execution_count": 39,
   "metadata": {},
   "outputs": [],
   "source": [
    "result_time_3000_dict = {}\n",
    "for i in range(len(paths_3000)):\n",
    "    result_time_3000_dict[i] = {}\n",
    "    ns_result_time = load_data(paths_3000[i])\n",
    "    error_ns_time = compute_errors(ns_result_time, theoretical_dict)\n",
    "    p_values = calculate_p_values(error_ns_time)\n",
    "    result_time_3000_dict[i] = {'ns_result_time': ns_result_time, 'error_ns_time': error_ns_time, 'p_values': p_values}\n",
    "\n",
    "\n",
    "p_value_time_3000_all = np.array([result_time_3000_dict[0]['p_values'], result_time_3000_dict[1]['p_values'], result_time_3000_dict[2]['p_values']])\n",
    "\n",
    "p_value_time_mean_3000 = np.mean(p_value_time_3000_all, axis=0)\n",
    "\n",
    "# Calculate elementwise standard deviation\n",
    "p_value_time_std_dev_3000 = np.std(p_value_time_3000_all, axis=0)\n",
    "\n",
    "\n",
    "\n",
    "\n"
   ]
  },
  {
   "cell_type": "code",
   "execution_count": 40,
   "metadata": {},
   "outputs": [
    {
     "data": {
      "application/vnd.plotly.v1+json": {
       "config": {
        "plotlyServerURL": "https://plot.ly"
       },
       "data": [
        {
         "error_y": {
          "array": [
           0.09626923226999572,
           0.08949583384638742,
           0.07571595296031736,
           0.20546316646229346,
           0.380839636949925
          ]
         },
         "hovertemplate": "Simulation Time=%{x}<br>P-value=%{y}<extra></extra>",
         "legendgroup": "",
         "marker": {
          "color": "#636efa",
          "symbol": "circle"
         },
         "mode": "markers",
         "name": "",
         "orientation": "v",
         "showlegend": false,
         "type": "scatter",
         "x": [
          0.5,
          1,
          2,
          3,
          4
         ],
         "xaxis": "x",
         "y": [
          0.27011924414062277,
          0.4173900743755536,
          0.37502082227001426,
          0.38777773879724414,
          0.33712003451718814
         ],
         "yaxis": "y"
        },
        {
         "mode": "lines",
         "showlegend": false,
         "type": "scatter",
         "x": [
          0.5,
          1,
          2,
          3,
          4
         ],
         "y": [
          0.27011924414062277,
          0.4173900743755536,
          0.37502082227001426,
          0.38777773879724414,
          0.33712003451718814
         ]
        },
        {
         "line": {
          "color": "red",
          "dash": "dash",
          "width": 3
         },
         "mode": "lines",
         "name": "Threshold: p-value = 0.05",
         "type": "scatter",
         "x": [
          0,
          5
         ],
         "y": [
          0.05,
          0.05
         ]
        }
       ],
       "layout": {
        "legend": {
         "tracegroupgap": 0
        },
        "template": {
         "data": {
          "bar": [
           {
            "error_x": {
             "color": "#2a3f5f"
            },
            "error_y": {
             "color": "#2a3f5f"
            },
            "marker": {
             "line": {
              "color": "#E5ECF6",
              "width": 0.5
             },
             "pattern": {
              "fillmode": "overlay",
              "size": 10,
              "solidity": 0.2
             }
            },
            "type": "bar"
           }
          ],
          "barpolar": [
           {
            "marker": {
             "line": {
              "color": "#E5ECF6",
              "width": 0.5
             },
             "pattern": {
              "fillmode": "overlay",
              "size": 10,
              "solidity": 0.2
             }
            },
            "type": "barpolar"
           }
          ],
          "carpet": [
           {
            "aaxis": {
             "endlinecolor": "#2a3f5f",
             "gridcolor": "white",
             "linecolor": "white",
             "minorgridcolor": "white",
             "startlinecolor": "#2a3f5f"
            },
            "baxis": {
             "endlinecolor": "#2a3f5f",
             "gridcolor": "white",
             "linecolor": "white",
             "minorgridcolor": "white",
             "startlinecolor": "#2a3f5f"
            },
            "type": "carpet"
           }
          ],
          "choropleth": [
           {
            "colorbar": {
             "outlinewidth": 0,
             "ticks": ""
            },
            "type": "choropleth"
           }
          ],
          "contour": [
           {
            "colorbar": {
             "outlinewidth": 0,
             "ticks": ""
            },
            "colorscale": [
             [
              0,
              "#0d0887"
             ],
             [
              0.1111111111111111,
              "#46039f"
             ],
             [
              0.2222222222222222,
              "#7201a8"
             ],
             [
              0.3333333333333333,
              "#9c179e"
             ],
             [
              0.4444444444444444,
              "#bd3786"
             ],
             [
              0.5555555555555556,
              "#d8576b"
             ],
             [
              0.6666666666666666,
              "#ed7953"
             ],
             [
              0.7777777777777778,
              "#fb9f3a"
             ],
             [
              0.8888888888888888,
              "#fdca26"
             ],
             [
              1,
              "#f0f921"
             ]
            ],
            "type": "contour"
           }
          ],
          "contourcarpet": [
           {
            "colorbar": {
             "outlinewidth": 0,
             "ticks": ""
            },
            "type": "contourcarpet"
           }
          ],
          "heatmap": [
           {
            "colorbar": {
             "outlinewidth": 0,
             "ticks": ""
            },
            "colorscale": [
             [
              0,
              "#0d0887"
             ],
             [
              0.1111111111111111,
              "#46039f"
             ],
             [
              0.2222222222222222,
              "#7201a8"
             ],
             [
              0.3333333333333333,
              "#9c179e"
             ],
             [
              0.4444444444444444,
              "#bd3786"
             ],
             [
              0.5555555555555556,
              "#d8576b"
             ],
             [
              0.6666666666666666,
              "#ed7953"
             ],
             [
              0.7777777777777778,
              "#fb9f3a"
             ],
             [
              0.8888888888888888,
              "#fdca26"
             ],
             [
              1,
              "#f0f921"
             ]
            ],
            "type": "heatmap"
           }
          ],
          "heatmapgl": [
           {
            "colorbar": {
             "outlinewidth": 0,
             "ticks": ""
            },
            "colorscale": [
             [
              0,
              "#0d0887"
             ],
             [
              0.1111111111111111,
              "#46039f"
             ],
             [
              0.2222222222222222,
              "#7201a8"
             ],
             [
              0.3333333333333333,
              "#9c179e"
             ],
             [
              0.4444444444444444,
              "#bd3786"
             ],
             [
              0.5555555555555556,
              "#d8576b"
             ],
             [
              0.6666666666666666,
              "#ed7953"
             ],
             [
              0.7777777777777778,
              "#fb9f3a"
             ],
             [
              0.8888888888888888,
              "#fdca26"
             ],
             [
              1,
              "#f0f921"
             ]
            ],
            "type": "heatmapgl"
           }
          ],
          "histogram": [
           {
            "marker": {
             "pattern": {
              "fillmode": "overlay",
              "size": 10,
              "solidity": 0.2
             }
            },
            "type": "histogram"
           }
          ],
          "histogram2d": [
           {
            "colorbar": {
             "outlinewidth": 0,
             "ticks": ""
            },
            "colorscale": [
             [
              0,
              "#0d0887"
             ],
             [
              0.1111111111111111,
              "#46039f"
             ],
             [
              0.2222222222222222,
              "#7201a8"
             ],
             [
              0.3333333333333333,
              "#9c179e"
             ],
             [
              0.4444444444444444,
              "#bd3786"
             ],
             [
              0.5555555555555556,
              "#d8576b"
             ],
             [
              0.6666666666666666,
              "#ed7953"
             ],
             [
              0.7777777777777778,
              "#fb9f3a"
             ],
             [
              0.8888888888888888,
              "#fdca26"
             ],
             [
              1,
              "#f0f921"
             ]
            ],
            "type": "histogram2d"
           }
          ],
          "histogram2dcontour": [
           {
            "colorbar": {
             "outlinewidth": 0,
             "ticks": ""
            },
            "colorscale": [
             [
              0,
              "#0d0887"
             ],
             [
              0.1111111111111111,
              "#46039f"
             ],
             [
              0.2222222222222222,
              "#7201a8"
             ],
             [
              0.3333333333333333,
              "#9c179e"
             ],
             [
              0.4444444444444444,
              "#bd3786"
             ],
             [
              0.5555555555555556,
              "#d8576b"
             ],
             [
              0.6666666666666666,
              "#ed7953"
             ],
             [
              0.7777777777777778,
              "#fb9f3a"
             ],
             [
              0.8888888888888888,
              "#fdca26"
             ],
             [
              1,
              "#f0f921"
             ]
            ],
            "type": "histogram2dcontour"
           }
          ],
          "mesh3d": [
           {
            "colorbar": {
             "outlinewidth": 0,
             "ticks": ""
            },
            "type": "mesh3d"
           }
          ],
          "parcoords": [
           {
            "line": {
             "colorbar": {
              "outlinewidth": 0,
              "ticks": ""
             }
            },
            "type": "parcoords"
           }
          ],
          "pie": [
           {
            "automargin": true,
            "type": "pie"
           }
          ],
          "scatter": [
           {
            "fillpattern": {
             "fillmode": "overlay",
             "size": 10,
             "solidity": 0.2
            },
            "type": "scatter"
           }
          ],
          "scatter3d": [
           {
            "line": {
             "colorbar": {
              "outlinewidth": 0,
              "ticks": ""
             }
            },
            "marker": {
             "colorbar": {
              "outlinewidth": 0,
              "ticks": ""
             }
            },
            "type": "scatter3d"
           }
          ],
          "scattercarpet": [
           {
            "marker": {
             "colorbar": {
              "outlinewidth": 0,
              "ticks": ""
             }
            },
            "type": "scattercarpet"
           }
          ],
          "scattergeo": [
           {
            "marker": {
             "colorbar": {
              "outlinewidth": 0,
              "ticks": ""
             }
            },
            "type": "scattergeo"
           }
          ],
          "scattergl": [
           {
            "marker": {
             "colorbar": {
              "outlinewidth": 0,
              "ticks": ""
             }
            },
            "type": "scattergl"
           }
          ],
          "scattermapbox": [
           {
            "marker": {
             "colorbar": {
              "outlinewidth": 0,
              "ticks": ""
             }
            },
            "type": "scattermapbox"
           }
          ],
          "scatterpolar": [
           {
            "marker": {
             "colorbar": {
              "outlinewidth": 0,
              "ticks": ""
             }
            },
            "type": "scatterpolar"
           }
          ],
          "scatterpolargl": [
           {
            "marker": {
             "colorbar": {
              "outlinewidth": 0,
              "ticks": ""
             }
            },
            "type": "scatterpolargl"
           }
          ],
          "scatterternary": [
           {
            "marker": {
             "colorbar": {
              "outlinewidth": 0,
              "ticks": ""
             }
            },
            "type": "scatterternary"
           }
          ],
          "surface": [
           {
            "colorbar": {
             "outlinewidth": 0,
             "ticks": ""
            },
            "colorscale": [
             [
              0,
              "#0d0887"
             ],
             [
              0.1111111111111111,
              "#46039f"
             ],
             [
              0.2222222222222222,
              "#7201a8"
             ],
             [
              0.3333333333333333,
              "#9c179e"
             ],
             [
              0.4444444444444444,
              "#bd3786"
             ],
             [
              0.5555555555555556,
              "#d8576b"
             ],
             [
              0.6666666666666666,
              "#ed7953"
             ],
             [
              0.7777777777777778,
              "#fb9f3a"
             ],
             [
              0.8888888888888888,
              "#fdca26"
             ],
             [
              1,
              "#f0f921"
             ]
            ],
            "type": "surface"
           }
          ],
          "table": [
           {
            "cells": {
             "fill": {
              "color": "#EBF0F8"
             },
             "line": {
              "color": "white"
             }
            },
            "header": {
             "fill": {
              "color": "#C8D4E3"
             },
             "line": {
              "color": "white"
             }
            },
            "type": "table"
           }
          ]
         },
         "layout": {
          "annotationdefaults": {
           "arrowcolor": "#2a3f5f",
           "arrowhead": 0,
           "arrowwidth": 1
          },
          "autotypenumbers": "strict",
          "coloraxis": {
           "colorbar": {
            "outlinewidth": 0,
            "ticks": ""
           }
          },
          "colorscale": {
           "diverging": [
            [
             0,
             "#8e0152"
            ],
            [
             0.1,
             "#c51b7d"
            ],
            [
             0.2,
             "#de77ae"
            ],
            [
             0.3,
             "#f1b6da"
            ],
            [
             0.4,
             "#fde0ef"
            ],
            [
             0.5,
             "#f7f7f7"
            ],
            [
             0.6,
             "#e6f5d0"
            ],
            [
             0.7,
             "#b8e186"
            ],
            [
             0.8,
             "#7fbc41"
            ],
            [
             0.9,
             "#4d9221"
            ],
            [
             1,
             "#276419"
            ]
           ],
           "sequential": [
            [
             0,
             "#0d0887"
            ],
            [
             0.1111111111111111,
             "#46039f"
            ],
            [
             0.2222222222222222,
             "#7201a8"
            ],
            [
             0.3333333333333333,
             "#9c179e"
            ],
            [
             0.4444444444444444,
             "#bd3786"
            ],
            [
             0.5555555555555556,
             "#d8576b"
            ],
            [
             0.6666666666666666,
             "#ed7953"
            ],
            [
             0.7777777777777778,
             "#fb9f3a"
            ],
            [
             0.8888888888888888,
             "#fdca26"
            ],
            [
             1,
             "#f0f921"
            ]
           ],
           "sequentialminus": [
            [
             0,
             "#0d0887"
            ],
            [
             0.1111111111111111,
             "#46039f"
            ],
            [
             0.2222222222222222,
             "#7201a8"
            ],
            [
             0.3333333333333333,
             "#9c179e"
            ],
            [
             0.4444444444444444,
             "#bd3786"
            ],
            [
             0.5555555555555556,
             "#d8576b"
            ],
            [
             0.6666666666666666,
             "#ed7953"
            ],
            [
             0.7777777777777778,
             "#fb9f3a"
            ],
            [
             0.8888888888888888,
             "#fdca26"
            ],
            [
             1,
             "#f0f921"
            ]
           ]
          },
          "colorway": [
           "#636efa",
           "#EF553B",
           "#00cc96",
           "#ab63fa",
           "#FFA15A",
           "#19d3f3",
           "#FF6692",
           "#B6E880",
           "#FF97FF",
           "#FECB52"
          ],
          "font": {
           "color": "#2a3f5f"
          },
          "geo": {
           "bgcolor": "white",
           "lakecolor": "white",
           "landcolor": "#E5ECF6",
           "showlakes": true,
           "showland": true,
           "subunitcolor": "white"
          },
          "hoverlabel": {
           "align": "left"
          },
          "hovermode": "closest",
          "mapbox": {
           "style": "light"
          },
          "paper_bgcolor": "white",
          "plot_bgcolor": "#E5ECF6",
          "polar": {
           "angularaxis": {
            "gridcolor": "white",
            "linecolor": "white",
            "ticks": ""
           },
           "bgcolor": "#E5ECF6",
           "radialaxis": {
            "gridcolor": "white",
            "linecolor": "white",
            "ticks": ""
           }
          },
          "scene": {
           "xaxis": {
            "backgroundcolor": "#E5ECF6",
            "gridcolor": "white",
            "gridwidth": 2,
            "linecolor": "white",
            "showbackground": true,
            "ticks": "",
            "zerolinecolor": "white"
           },
           "yaxis": {
            "backgroundcolor": "#E5ECF6",
            "gridcolor": "white",
            "gridwidth": 2,
            "linecolor": "white",
            "showbackground": true,
            "ticks": "",
            "zerolinecolor": "white"
           },
           "zaxis": {
            "backgroundcolor": "#E5ECF6",
            "gridcolor": "white",
            "gridwidth": 2,
            "linecolor": "white",
            "showbackground": true,
            "ticks": "",
            "zerolinecolor": "white"
           }
          },
          "shapedefaults": {
           "line": {
            "color": "#2a3f5f"
           }
          },
          "ternary": {
           "aaxis": {
            "gridcolor": "white",
            "linecolor": "white",
            "ticks": ""
           },
           "baxis": {
            "gridcolor": "white",
            "linecolor": "white",
            "ticks": ""
           },
           "bgcolor": "#E5ECF6",
           "caxis": {
            "gridcolor": "white",
            "linecolor": "white",
            "ticks": ""
           }
          },
          "title": {
           "x": 0.05
          },
          "xaxis": {
           "automargin": true,
           "gridcolor": "white",
           "linecolor": "white",
           "ticks": "",
           "title": {
            "standoff": 15
           },
           "zerolinecolor": "white",
           "zerolinewidth": 2
          },
          "yaxis": {
           "automargin": true,
           "gridcolor": "white",
           "linecolor": "white",
           "ticks": "",
           "title": {
            "standoff": 15
           },
           "zerolinecolor": "white",
           "zerolinewidth": 2
          }
         }
        },
        "title": {
         "text": "P-value for Different Simulation Time, sequence length = 3000"
        },
        "xaxis": {
         "anchor": "y",
         "domain": [
          0,
          1
         ],
         "range": [
          0,
          5
         ],
         "title": {
          "text": "Simulation Time"
         }
        },
        "yaxis": {
         "anchor": "x",
         "domain": [
          0,
          1
         ],
         "range": [
          0,
          1
         ],
         "title": {
          "text": "P-value"
         }
        }
       }
      }
     },
     "metadata": {},
     "output_type": "display_data"
    }
   ],
   "source": [
    "# Create a dot plot with error bars for standard deviations\n",
    "fig_time_pvalue = px.scatter(x=time_range, y=p_value_time_mean_3000,\n",
    "                             labels={'x': 'Simulation Time', 'y': 'P-value'},\n",
    "                             title='P-value for Different Simulation Time, sequence length = 3000',\n",
    "                              error_y=p_value_time_std_dev_3000\n",
    "                            )\n",
    "\n",
    "fig_time_pvalue.add_scatter(x=time_range, y=p_value_time_mean_3000, mode='lines', showlegend=False)\n",
    "\n",
    "# Add a horizontal line at y=0.05\n",
    "fig_time_pvalue.add_scatter(x=[0, 5], y=[0.05, 0.05],\n",
    "                              mode='lines', line=dict(color='red', dash='dash', width=3),\n",
    "                              name='Threshold: p-value = 0.05')\n",
    "# Save the plot as a PDF\n",
    "# fig_repeat_pvalue.write_image(\"P_value_length_time.pdf\")\n",
    "fig_time_pvalue.update_yaxes(range=[0, 1])\n",
    "fig_time_pvalue.update_xaxes(range=[0, 5])\n",
    "\n",
    "# Show the plot\n",
    "fig_time_pvalue.show()"
   ]
  },
  {
   "cell_type": "code",
   "execution_count": 41,
   "metadata": {},
   "outputs": [
    {
     "data": {
      "application/vnd.plotly.v1+json": {
       "config": {
        "plotlyServerURL": "https://plot.ly"
       },
       "data": [
        {
         "error_y": {
          "array": [
           0.08327790928012582,
           0.1895633570023664,
           0.2584011833790036,
           0.3319003078362445,
           0.3820130464491095
          ],
          "type": "data"
         },
         "mode": "markers+lines",
         "name": "Sequence Length = 1000",
         "type": "scatter",
         "x": [
          0.5,
          1,
          2,
          3,
          4
         ],
         "xaxis": "x",
         "y": [
          0.757880147115937,
          0.5293436135113255,
          0.493465305700482,
          0.4701743538007725,
          0.5568517728427301
         ],
         "yaxis": "y"
        },
        {
         "line": {
          "color": "red",
          "dash": "dash",
          "width": 3
         },
         "mode": "lines",
         "name": "Threshold: p-value = 0.05",
         "showlegend": true,
         "type": "scatter",
         "x": [
          0,
          5
         ],
         "xaxis": "x",
         "y": [
          0.05,
          0.05
         ],
         "yaxis": "y"
        },
        {
         "error_y": {
          "array": [
           0.33018016921862553,
           0.22105963685795843,
           0.3214821707543155,
           0.17270346254378197,
           0.0836870255251005
          ],
          "type": "data"
         },
         "mode": "markers+lines",
         "name": "Sequence Length = 2000",
         "type": "scatter",
         "x": [
          0.5,
          1,
          2,
          3,
          4
         ],
         "xaxis": "x2",
         "y": [
          0.5954729406928192,
          0.4206461875385266,
          0.549755573085497,
          0.1494569689592166,
          0.656971848470497
         ],
         "yaxis": "y2"
        },
        {
         "line": {
          "color": "red",
          "dash": "dash",
          "width": 3
         },
         "mode": "lines",
         "name": "Threshold: p-value = 0.05",
         "showlegend": false,
         "type": "scatter",
         "x": [
          0,
          5
         ],
         "xaxis": "x2",
         "y": [
          0.05,
          0.05
         ],
         "yaxis": "y2"
        },
        {
         "error_y": {
          "array": [
           0.09626923226999572,
           0.08949583384638742,
           0.07571595296031736,
           0.20546316646229346,
           0.380839636949925
          ],
          "type": "data"
         },
         "mode": "markers+lines",
         "name": "Sequence Length = 3000",
         "type": "scatter",
         "x": [
          0.5,
          1,
          2,
          3,
          4
         ],
         "xaxis": "x3",
         "y": [
          0.27011924414062277,
          0.4173900743755536,
          0.37502082227001426,
          0.38777773879724414,
          0.33712003451718814
         ],
         "yaxis": "y3"
        },
        {
         "line": {
          "color": "red",
          "dash": "dash",
          "width": 3
         },
         "mode": "lines",
         "name": "Threshold: p-value = 0.05",
         "showlegend": false,
         "type": "scatter",
         "x": [
          0,
          5
         ],
         "xaxis": "x3",
         "y": [
          0.05,
          0.05
         ],
         "yaxis": "y3"
        }
       ],
       "layout": {
        "height": 900,
        "showlegend": true,
        "template": {
         "data": {
          "bar": [
           {
            "error_x": {
             "color": "#2a3f5f"
            },
            "error_y": {
             "color": "#2a3f5f"
            },
            "marker": {
             "line": {
              "color": "#E5ECF6",
              "width": 0.5
             },
             "pattern": {
              "fillmode": "overlay",
              "size": 10,
              "solidity": 0.2
             }
            },
            "type": "bar"
           }
          ],
          "barpolar": [
           {
            "marker": {
             "line": {
              "color": "#E5ECF6",
              "width": 0.5
             },
             "pattern": {
              "fillmode": "overlay",
              "size": 10,
              "solidity": 0.2
             }
            },
            "type": "barpolar"
           }
          ],
          "carpet": [
           {
            "aaxis": {
             "endlinecolor": "#2a3f5f",
             "gridcolor": "white",
             "linecolor": "white",
             "minorgridcolor": "white",
             "startlinecolor": "#2a3f5f"
            },
            "baxis": {
             "endlinecolor": "#2a3f5f",
             "gridcolor": "white",
             "linecolor": "white",
             "minorgridcolor": "white",
             "startlinecolor": "#2a3f5f"
            },
            "type": "carpet"
           }
          ],
          "choropleth": [
           {
            "colorbar": {
             "outlinewidth": 0,
             "ticks": ""
            },
            "type": "choropleth"
           }
          ],
          "contour": [
           {
            "colorbar": {
             "outlinewidth": 0,
             "ticks": ""
            },
            "colorscale": [
             [
              0,
              "#0d0887"
             ],
             [
              0.1111111111111111,
              "#46039f"
             ],
             [
              0.2222222222222222,
              "#7201a8"
             ],
             [
              0.3333333333333333,
              "#9c179e"
             ],
             [
              0.4444444444444444,
              "#bd3786"
             ],
             [
              0.5555555555555556,
              "#d8576b"
             ],
             [
              0.6666666666666666,
              "#ed7953"
             ],
             [
              0.7777777777777778,
              "#fb9f3a"
             ],
             [
              0.8888888888888888,
              "#fdca26"
             ],
             [
              1,
              "#f0f921"
             ]
            ],
            "type": "contour"
           }
          ],
          "contourcarpet": [
           {
            "colorbar": {
             "outlinewidth": 0,
             "ticks": ""
            },
            "type": "contourcarpet"
           }
          ],
          "heatmap": [
           {
            "colorbar": {
             "outlinewidth": 0,
             "ticks": ""
            },
            "colorscale": [
             [
              0,
              "#0d0887"
             ],
             [
              0.1111111111111111,
              "#46039f"
             ],
             [
              0.2222222222222222,
              "#7201a8"
             ],
             [
              0.3333333333333333,
              "#9c179e"
             ],
             [
              0.4444444444444444,
              "#bd3786"
             ],
             [
              0.5555555555555556,
              "#d8576b"
             ],
             [
              0.6666666666666666,
              "#ed7953"
             ],
             [
              0.7777777777777778,
              "#fb9f3a"
             ],
             [
              0.8888888888888888,
              "#fdca26"
             ],
             [
              1,
              "#f0f921"
             ]
            ],
            "type": "heatmap"
           }
          ],
          "heatmapgl": [
           {
            "colorbar": {
             "outlinewidth": 0,
             "ticks": ""
            },
            "colorscale": [
             [
              0,
              "#0d0887"
             ],
             [
              0.1111111111111111,
              "#46039f"
             ],
             [
              0.2222222222222222,
              "#7201a8"
             ],
             [
              0.3333333333333333,
              "#9c179e"
             ],
             [
              0.4444444444444444,
              "#bd3786"
             ],
             [
              0.5555555555555556,
              "#d8576b"
             ],
             [
              0.6666666666666666,
              "#ed7953"
             ],
             [
              0.7777777777777778,
              "#fb9f3a"
             ],
             [
              0.8888888888888888,
              "#fdca26"
             ],
             [
              1,
              "#f0f921"
             ]
            ],
            "type": "heatmapgl"
           }
          ],
          "histogram": [
           {
            "marker": {
             "pattern": {
              "fillmode": "overlay",
              "size": 10,
              "solidity": 0.2
             }
            },
            "type": "histogram"
           }
          ],
          "histogram2d": [
           {
            "colorbar": {
             "outlinewidth": 0,
             "ticks": ""
            },
            "colorscale": [
             [
              0,
              "#0d0887"
             ],
             [
              0.1111111111111111,
              "#46039f"
             ],
             [
              0.2222222222222222,
              "#7201a8"
             ],
             [
              0.3333333333333333,
              "#9c179e"
             ],
             [
              0.4444444444444444,
              "#bd3786"
             ],
             [
              0.5555555555555556,
              "#d8576b"
             ],
             [
              0.6666666666666666,
              "#ed7953"
             ],
             [
              0.7777777777777778,
              "#fb9f3a"
             ],
             [
              0.8888888888888888,
              "#fdca26"
             ],
             [
              1,
              "#f0f921"
             ]
            ],
            "type": "histogram2d"
           }
          ],
          "histogram2dcontour": [
           {
            "colorbar": {
             "outlinewidth": 0,
             "ticks": ""
            },
            "colorscale": [
             [
              0,
              "#0d0887"
             ],
             [
              0.1111111111111111,
              "#46039f"
             ],
             [
              0.2222222222222222,
              "#7201a8"
             ],
             [
              0.3333333333333333,
              "#9c179e"
             ],
             [
              0.4444444444444444,
              "#bd3786"
             ],
             [
              0.5555555555555556,
              "#d8576b"
             ],
             [
              0.6666666666666666,
              "#ed7953"
             ],
             [
              0.7777777777777778,
              "#fb9f3a"
             ],
             [
              0.8888888888888888,
              "#fdca26"
             ],
             [
              1,
              "#f0f921"
             ]
            ],
            "type": "histogram2dcontour"
           }
          ],
          "mesh3d": [
           {
            "colorbar": {
             "outlinewidth": 0,
             "ticks": ""
            },
            "type": "mesh3d"
           }
          ],
          "parcoords": [
           {
            "line": {
             "colorbar": {
              "outlinewidth": 0,
              "ticks": ""
             }
            },
            "type": "parcoords"
           }
          ],
          "pie": [
           {
            "automargin": true,
            "type": "pie"
           }
          ],
          "scatter": [
           {
            "fillpattern": {
             "fillmode": "overlay",
             "size": 10,
             "solidity": 0.2
            },
            "type": "scatter"
           }
          ],
          "scatter3d": [
           {
            "line": {
             "colorbar": {
              "outlinewidth": 0,
              "ticks": ""
             }
            },
            "marker": {
             "colorbar": {
              "outlinewidth": 0,
              "ticks": ""
             }
            },
            "type": "scatter3d"
           }
          ],
          "scattercarpet": [
           {
            "marker": {
             "colorbar": {
              "outlinewidth": 0,
              "ticks": ""
             }
            },
            "type": "scattercarpet"
           }
          ],
          "scattergeo": [
           {
            "marker": {
             "colorbar": {
              "outlinewidth": 0,
              "ticks": ""
             }
            },
            "type": "scattergeo"
           }
          ],
          "scattergl": [
           {
            "marker": {
             "colorbar": {
              "outlinewidth": 0,
              "ticks": ""
             }
            },
            "type": "scattergl"
           }
          ],
          "scattermapbox": [
           {
            "marker": {
             "colorbar": {
              "outlinewidth": 0,
              "ticks": ""
             }
            },
            "type": "scattermapbox"
           }
          ],
          "scatterpolar": [
           {
            "marker": {
             "colorbar": {
              "outlinewidth": 0,
              "ticks": ""
             }
            },
            "type": "scatterpolar"
           }
          ],
          "scatterpolargl": [
           {
            "marker": {
             "colorbar": {
              "outlinewidth": 0,
              "ticks": ""
             }
            },
            "type": "scatterpolargl"
           }
          ],
          "scatterternary": [
           {
            "marker": {
             "colorbar": {
              "outlinewidth": 0,
              "ticks": ""
             }
            },
            "type": "scatterternary"
           }
          ],
          "surface": [
           {
            "colorbar": {
             "outlinewidth": 0,
             "ticks": ""
            },
            "colorscale": [
             [
              0,
              "#0d0887"
             ],
             [
              0.1111111111111111,
              "#46039f"
             ],
             [
              0.2222222222222222,
              "#7201a8"
             ],
             [
              0.3333333333333333,
              "#9c179e"
             ],
             [
              0.4444444444444444,
              "#bd3786"
             ],
             [
              0.5555555555555556,
              "#d8576b"
             ],
             [
              0.6666666666666666,
              "#ed7953"
             ],
             [
              0.7777777777777778,
              "#fb9f3a"
             ],
             [
              0.8888888888888888,
              "#fdca26"
             ],
             [
              1,
              "#f0f921"
             ]
            ],
            "type": "surface"
           }
          ],
          "table": [
           {
            "cells": {
             "fill": {
              "color": "#EBF0F8"
             },
             "line": {
              "color": "white"
             }
            },
            "header": {
             "fill": {
              "color": "#C8D4E3"
             },
             "line": {
              "color": "white"
             }
            },
            "type": "table"
           }
          ]
         },
         "layout": {
          "annotationdefaults": {
           "arrowcolor": "#2a3f5f",
           "arrowhead": 0,
           "arrowwidth": 1
          },
          "autotypenumbers": "strict",
          "coloraxis": {
           "colorbar": {
            "outlinewidth": 0,
            "ticks": ""
           }
          },
          "colorscale": {
           "diverging": [
            [
             0,
             "#8e0152"
            ],
            [
             0.1,
             "#c51b7d"
            ],
            [
             0.2,
             "#de77ae"
            ],
            [
             0.3,
             "#f1b6da"
            ],
            [
             0.4,
             "#fde0ef"
            ],
            [
             0.5,
             "#f7f7f7"
            ],
            [
             0.6,
             "#e6f5d0"
            ],
            [
             0.7,
             "#b8e186"
            ],
            [
             0.8,
             "#7fbc41"
            ],
            [
             0.9,
             "#4d9221"
            ],
            [
             1,
             "#276419"
            ]
           ],
           "sequential": [
            [
             0,
             "#0d0887"
            ],
            [
             0.1111111111111111,
             "#46039f"
            ],
            [
             0.2222222222222222,
             "#7201a8"
            ],
            [
             0.3333333333333333,
             "#9c179e"
            ],
            [
             0.4444444444444444,
             "#bd3786"
            ],
            [
             0.5555555555555556,
             "#d8576b"
            ],
            [
             0.6666666666666666,
             "#ed7953"
            ],
            [
             0.7777777777777778,
             "#fb9f3a"
            ],
            [
             0.8888888888888888,
             "#fdca26"
            ],
            [
             1,
             "#f0f921"
            ]
           ],
           "sequentialminus": [
            [
             0,
             "#0d0887"
            ],
            [
             0.1111111111111111,
             "#46039f"
            ],
            [
             0.2222222222222222,
             "#7201a8"
            ],
            [
             0.3333333333333333,
             "#9c179e"
            ],
            [
             0.4444444444444444,
             "#bd3786"
            ],
            [
             0.5555555555555556,
             "#d8576b"
            ],
            [
             0.6666666666666666,
             "#ed7953"
            ],
            [
             0.7777777777777778,
             "#fb9f3a"
            ],
            [
             0.8888888888888888,
             "#fdca26"
            ],
            [
             1,
             "#f0f921"
            ]
           ]
          },
          "colorway": [
           "#636efa",
           "#EF553B",
           "#00cc96",
           "#ab63fa",
           "#FFA15A",
           "#19d3f3",
           "#FF6692",
           "#B6E880",
           "#FF97FF",
           "#FECB52"
          ],
          "font": {
           "color": "#2a3f5f"
          },
          "geo": {
           "bgcolor": "white",
           "lakecolor": "white",
           "landcolor": "#E5ECF6",
           "showlakes": true,
           "showland": true,
           "subunitcolor": "white"
          },
          "hoverlabel": {
           "align": "left"
          },
          "hovermode": "closest",
          "mapbox": {
           "style": "light"
          },
          "paper_bgcolor": "white",
          "plot_bgcolor": "#E5ECF6",
          "polar": {
           "angularaxis": {
            "gridcolor": "white",
            "linecolor": "white",
            "ticks": ""
           },
           "bgcolor": "#E5ECF6",
           "radialaxis": {
            "gridcolor": "white",
            "linecolor": "white",
            "ticks": ""
           }
          },
          "scene": {
           "xaxis": {
            "backgroundcolor": "#E5ECF6",
            "gridcolor": "white",
            "gridwidth": 2,
            "linecolor": "white",
            "showbackground": true,
            "ticks": "",
            "zerolinecolor": "white"
           },
           "yaxis": {
            "backgroundcolor": "#E5ECF6",
            "gridcolor": "white",
            "gridwidth": 2,
            "linecolor": "white",
            "showbackground": true,
            "ticks": "",
            "zerolinecolor": "white"
           },
           "zaxis": {
            "backgroundcolor": "#E5ECF6",
            "gridcolor": "white",
            "gridwidth": 2,
            "linecolor": "white",
            "showbackground": true,
            "ticks": "",
            "zerolinecolor": "white"
           }
          },
          "shapedefaults": {
           "line": {
            "color": "#2a3f5f"
           }
          },
          "ternary": {
           "aaxis": {
            "gridcolor": "white",
            "linecolor": "white",
            "ticks": ""
           },
           "baxis": {
            "gridcolor": "white",
            "linecolor": "white",
            "ticks": ""
           },
           "bgcolor": "#E5ECF6",
           "caxis": {
            "gridcolor": "white",
            "linecolor": "white",
            "ticks": ""
           }
          },
          "title": {
           "x": 0.05
          },
          "xaxis": {
           "automargin": true,
           "gridcolor": "white",
           "linecolor": "white",
           "ticks": "",
           "title": {
            "standoff": 15
           },
           "zerolinecolor": "white",
           "zerolinewidth": 2
          },
          "yaxis": {
           "automargin": true,
           "gridcolor": "white",
           "linecolor": "white",
           "ticks": "",
           "title": {
            "standoff": 15
           },
           "zerolinecolor": "white",
           "zerolinewidth": 2
          }
         }
        },
        "title": {
         "text": "P-value for Different Simulation Times Across Sequence Lengths"
        },
        "xaxis": {
         "anchor": "y",
         "domain": [
          0,
          1
         ]
        },
        "xaxis2": {
         "anchor": "y2",
         "domain": [
          0,
          1
         ]
        },
        "xaxis3": {
         "anchor": "y3",
         "domain": [
          0,
          1
         ],
         "title": {
          "text": "Simulation Time"
         }
        },
        "yaxis": {
         "anchor": "x",
         "domain": [
          0.7333333333333334,
          1
         ],
         "range": [
          0,
          1
         ],
         "title": {
          "text": "P-value"
         }
        },
        "yaxis2": {
         "anchor": "x2",
         "domain": [
          0.3666666666666667,
          0.6333333333333333
         ],
         "range": [
          0,
          1
         ],
         "title": {
          "text": "P-value"
         }
        },
        "yaxis3": {
         "anchor": "x3",
         "domain": [
          0,
          0.26666666666666666
         ],
         "range": [
          0,
          1
         ],
         "title": {
          "text": "P-value"
         }
        }
       }
      }
     },
     "metadata": {},
     "output_type": "display_data"
    }
   ],
   "source": [
    "import plotly.graph_objects as go\n",
    "from plotly.subplots import make_subplots\n",
    "\n",
    "# Assuming time_range and p_value_time_mean/std_dev are already defined\n",
    "# Define the sequence lengths you will use\n",
    "seq_lengths = [1000, 2000, 3000]\n",
    "\n",
    "# Create a subplot figure with 3 rows\n",
    "fig = make_subplots(rows=3, cols=1,\n",
    "                    vertical_spacing=0.1)\n",
    "\n",
    "# Dictionary to store data, replace this with your actual data fetching logic\n",
    "data = {\n",
    "    1000: {'mean': p_value_time_mean_1000, 'std_dev': p_value_time_std_dev_1000},\n",
    "    2000: {'mean': p_value_time_mean_2000, 'std_dev': p_value_time_std_dev_2000},\n",
    "    3000: {'mean': p_value_time_mean_3000, 'std_dev': p_value_time_std_dev_3000}\n",
    "}\n",
    "\n",
    "# Loop through each sequence length and add a trace for each one\n",
    "for i, seq_len in enumerate(seq_lengths, start=1):\n",
    "    fig.add_trace(\n",
    "        go.Scatter(\n",
    "            x=time_range, \n",
    "            y=data[seq_len]['mean'], \n",
    "            mode='markers+lines',\n",
    "            error_y=dict(type='data', array=data[seq_len]['std_dev']),\n",
    "            name=f'Sequence Length = {seq_len}'\n",
    "        ),\n",
    "        row=i, col=1\n",
    "    )\n",
    "\n",
    "    # Add a horizontal line at y=0.05 to indicate significance threshold\n",
    "    fig.add_trace(\n",
    "        go.Scatter(\n",
    "            x=[0, 5], y=[0.05, 0.05], mode='lines',\n",
    "            line=dict(color='red', dash='dash', width=3),\n",
    "            name='Threshold: p-value = 0.05',\n",
    "            showlegend=(i == 1)  # Show legend only in the first subplot\n",
    "        ),\n",
    "        row=i, col=1\n",
    "    )\n",
    "\n",
    "# Update y-axis and x-axis properties for all plots\n",
    "fig.update_yaxes(title_text=\"P-value\", range=[0, 1])\n",
    "fig.update_xaxes(title_text=\"Simulation Time\", row=3, col=1)\n",
    "\n",
    "# Update layout and titles\n",
    "fig.update_layout(\n",
    "    title='P-value for Different Simulation Times Across Sequence Lengths',\n",
    "    height=900,  # Adjust height to fit all subplots comfortably\n",
    "    showlegend=True\n",
    ")\n",
    "\n",
    "# Show the plot\n",
    "fig.show()\n"
   ]
  },
  {
   "cell_type": "code",
   "execution_count": 42,
   "metadata": {},
   "outputs": [
    {
     "data": {
      "text/plain": [
       "{1000: {'mean': array([0.75788015, 0.52934361, 0.49346531, 0.47017435, 0.55685177]),\n",
       "  'std_dev': array([0.08327791, 0.18956336, 0.25840118, 0.33190031, 0.38201305])},\n",
       " 2000: {'mean': array([0.59547294, 0.42064619, 0.54975557, 0.14945697, 0.65697185]),\n",
       "  'std_dev': array([0.33018017, 0.22105964, 0.32148217, 0.17270346, 0.08368703])},\n",
       " 3000: {'mean': array([0.27011924, 0.41739007, 0.37502082, 0.38777774, 0.33712003]),\n",
       "  'std_dev': array([0.09626923, 0.08949583, 0.07571595, 0.20546317, 0.38083964])}}"
      ]
     },
     "execution_count": 42,
     "metadata": {},
     "output_type": "execute_result"
    }
   ],
   "source": [
    "data"
   ]
  },
  {
   "cell_type": "code",
   "execution_count": 43,
   "metadata": {},
   "outputs": [],
   "source": [
    "error_ns_dict_time_length = {'1000': result_time_1000_dict[0]['error_ns_time']['1000'], '2000': result_time_2000_dict[0]['error_ns_time']['2000'], '3000': result_time_3000_dict[0]['error_ns_time']['3000']}\n"
   ]
  },
  {
   "cell_type": "code",
   "execution_count": 44,
   "metadata": {},
   "outputs": [
    {
     "data": {
      "application/vnd.plotly.v1+json": {
       "config": {
        "plotlyServerURL": "https://plot.ly"
       },
       "data": [
        {
         "histnorm": "probability",
         "marker": {
          "line": {
           "width": 1
          }
         },
         "name": "Length 1000, Time 0.5",
         "type": "histogram",
         "x": [
          0.06494256926984843,
          0.018942569269848497,
          -0.04605743073015156,
          -0.04805743073015156,
          0.02194256926984839,
          0.0009425692698484811,
          0.018942569269848497,
          -0.014057430730151532,
          0.011942569269848491,
          -0.04805743073015156,
          0.0379425692698484,
          0.0359425692698484,
          -0.08105743073015159,
          -0.03505743073015155,
          -0.028057430730151545,
          -0.02105743073015154,
          -0.01205743073015153,
          -0.005057430730151524,
          0.013942569269848493,
          0.0359425692698484,
          -0.01105743073015153,
          0.040942569269848406,
          -0.030057430730151546,
          -0.0900574307301516,
          -0.014057430730151532,
          0.04394256926984841,
          0.002942569269848483,
          -0.0020574307301515216,
          -0.027057430730151544,
          0.04594256926984841,
          -0.0030574307301515224,
          -0.015057430730151533,
          0.02194256926984839,
          0.04494256926984841,
          -0.027057430730151544,
          -0.05405743073015157,
          -0.018057430730151536,
          0.02394256926984839,
          0.028942569269848395,
          -0.01105743073015153,
          -0.020057430730151538,
          -0.019057430730151537,
          -0.029057430730151546,
          -0.018057430730151536,
          -0.0020574307301515216,
          -0.04705743073015156,
          -0.03205743073015155,
          0.01094256926984849,
          0.01094256926984849,
          0.04294256926984841,
          0.011942569269848491,
          0.02294256926984839,
          -0.03705743073015155,
          -0.02405743073015154,
          0.007942569269848487,
          -0.019057430730151537,
          -0.008057430730151527,
          0.06294256926984843,
          0.02194256926984839,
          0.029942569269848396,
          0.038942569269848404,
          0.02494256926984839,
          0.017942569269848496,
          -0.0030574307301515224,
          0.04494256926984841,
          -0.03605743073015155,
          -0.009057430730151528,
          -0.0030574307301515224,
          -0.029057430730151546,
          0.025942569269848392,
          -0.038057430730151554,
          0.04794256926984841,
          0.0339425692698484,
          -0.02405743073015154,
          -0.010057430730151529,
          -0.006057430730151525,
          0.002942569269848483,
          0.014942569269848494,
          -0.05505743073015157,
          0.05894256926984842,
          0.04394256926984841,
          -0.016057430730151534,
          0.001942569269848482,
          0.0329425692698484,
          0.007942569269848487,
          -0.009057430730151528,
          -0.03705743073015155,
          0.01094256926984849,
          -0.02305743073015154,
          0.019942569269848498,
          -0.008057430730151527,
          0.02394256926984839,
          -0.03205743073015155,
          0.020942569269848388,
          -0.015057430730151533,
          -0.004057430730151523,
          0.02194256926984839,
          -0.052057430730151566,
          0.007942569269848487,
          -0.04905743073015156,
          0.002942569269848483,
          -0.02305743073015154,
          0.0059425692698484855,
          0.029942569269848396,
          -0.01205743073015153,
          0.0379425692698484,
          -0.02105743073015154,
          -0.04805743073015156,
          -0.0020574307301515216,
          0.09494256926984845,
          -0.028057430730151545,
          -0.07305743073015158,
          0.04794256926984841,
          -0.025057430730151542,
          -0.030057430730151546,
          0.0059425692698484855,
          -0.038057430730151554,
          0.020942569269848388,
          -0.04505743073015156,
          0.025942569269848392,
          0.0059425692698484855,
          -0.0030574307301515224,
          -0.05305743073015157,
          0.018942569269848497,
          0.020942569269848388,
          0.01094256926984849,
          0.0009425692698484811,
          0.04394256926984841,
          -0.05605743073015157,
          -0.015057430730151533,
          -0.030057430730151546,
          -0.04805743073015156,
          -0.039057430730151554,
          -0.016057430730151534,
          0.02494256926984839,
          -0.04805743073015156,
          -0.0010574307301515207,
          0.01094256926984849,
          -0.009057430730151528,
          0.02194256926984839,
          0.0379425692698484,
          0.011942569269848491,
          -0.041057430730151556,
          -0.02205743073015154,
          0.018942569269848497,
          -0.051057430730151565,
          0.001942569269848482,
          0.012942569269848492,
          0.012942569269848492,
          0.02294256926984839,
          -0.004057430730151523,
          0.007942569269848487,
          0.015942569269848494,
          -0.009057430730151528,
          -0.02305743073015154,
          -0.007057430730151526,
          0.018942569269848497,
          0.016942569269848495,
          -0.004057430730151523,
          0.013942569269848493,
          -0.00005743073015151978,
          -0.03705743073015155,
          0.020942569269848388,
          0.041942569269848406,
          -0.004057430730151523,
          0.020942569269848388,
          0.004942569269848485,
          -0.00005743073015151978,
          0.016942569269848495,
          0.0329425692698484,
          0.018942569269848497,
          -0.03205743073015155,
          0.040942569269848406,
          0.002942569269848483,
          0.018942569269848497,
          -0.019057430730151537,
          0.0359425692698484,
          0.0059425692698484855,
          0.018942569269848497,
          0.027942569269848394,
          -0.0020574307301515216,
          0.007942569269848487,
          -0.0020574307301515216,
          0.015942569269848494,
          -0.008057430730151527,
          -0.030057430730151546,
          0.019942569269848498,
          -0.03205743073015155,
          0.025942569269848392,
          0.0349425692698484,
          0.052942569269848416,
          -0.006057430730151525,
          -0.04405743073015156,
          -0.031057430730151547,
          -0.06905743073015158,
          -0.0010574307301515207,
          0.0009425692698484811,
          -0.004057430730151523,
          0.002942569269848483,
          -0.0010574307301515207
         ],
         "xaxis": "x",
         "xbins": {
          "end": 0.29218541882997506,
          "size": 0.02366877794627085,
          "start": -0.18119014009544188
         },
         "yaxis": "y"
        },
        {
         "histnorm": "probability",
         "marker": {
          "line": {
           "width": 1
          }
         },
         "name": "Length 1000, Time 1.0",
         "type": "histogram",
         "x": [
          0.07051898129530376,
          0.018518981295303716,
          -0.03448101870469622,
          -0.050481018704696234,
          -0.00048101870469641206,
          -0.014481018704696424,
          0.02251898129530372,
          0.05651898129530375,
          0.03451898129530373,
          -0.027481018704696325,
          0.08751898129530367,
          0.030518981295303726,
          -0.1184810187046963,
          0.016518981295303714,
          0.0015189812953035897,
          -0.029481018704696327,
          -0.006481018704696417,
          0.0015189812953035897,
          0.03751898129530362,
          -0.014481018704696424,
          -0.039481018704696336,
          0.05751898129530364,
          -0.04248101870469623,
          -0.038481018704696224,
          -0.00048101870469641206,
          -0.0034810187046963037,
          -0.03148101870469633,
          0.02251898129530372,
          -0.02348101870469632,
          0.06251898129530375,
          -0.007481018704696307,
          -0.028481018704696215,
          0.02351898129530361,
          -0.007481018704696307,
          -0.020481018704696208,
          -0.06948101870469636,
          -0.03648101870469622,
          -0.006481018704696417,
          -0.00048101870469641206,
          -0.049481018704696345,
          0.006518981295303705,
          -0.019481018704696318,
          -0.03148101870469633,
          -0.017481018704696316,
          -0.025481018704696323,
          -0.020481018704696208,
          -0.02248101870469621,
          -0.040481018704696226,
          0.03351898129530362,
          0.08251898129530377,
          0.08451898129530377,
          0.05551898129530364,
          -0.038481018704696224,
          0.030518981295303726,
          -0.010481018704696421,
          -0.05848101870469624,
          0.03351898129530362,
          0.02351898129530361,
          0.06151898129530364,
          0.04851898129530374,
          0.038518981295303734,
          0.05851898129530375,
          0.027518981295303613,
          -0.020481018704696208,
          0.006518981295303705,
          -0.028481018704696215,
          -0.051481018704696346,
          0.038518981295303734,
          -0.0034810187046963037,
          0.06451898129530376,
          -0.08148101870469637,
          0.05551898129530364,
          0.02451898129530372,
          0.005518981295303593,
          0.05951898129530364,
          -0.007481018704696307,
          0.008518981295303707,
          -0.051481018704696346,
          -0.015481018704696314,
          0.06051898129530375,
          0.03451898129530373,
          -0.038481018704696224,
          -0.05848101870469624,
          0.03351898129530362,
          0.02551898129530361,
          -0.037481018704696334,
          -0.06748101870469636,
          0.03951898129530362,
          0.03251898129530373,
          -0.00848101870469642,
          0.005518981295303593,
          0.05951898129530364,
          0.007518981295303595,
          0.015518981295303602,
          -0.001481018704696302,
          0.0035189812953035915,
          -0.006481018704696417,
          -0.05648101870469624,
          0.052518981295303746,
          -0.04448101870469623,
          -0.06348101870469636,
          -0.025481018704696323,
          0.03251898129530373,
          0.027518981295303613,
          -0.03448101870469622,
          0.09151898129530367,
          0.0025189812953037016,
          -0.02148101870469632,
          -0.018481018704696428,
          0.07251898129530376,
          -0.08248101870469626,
          -0.07048101870469625,
          0.08251898129530377,
          0.0025189812953037016,
          -0.03148101870469633,
          -0.012481018704696423,
          -0.09948101870469639,
          0.007518981295303595,
          -0.06648101870469625,
          0.11351898129530369,
          0.04351898129530363,
          0.011518981295303599,
          -0.061481018704696355,
          -0.019481018704696318,
          0.020518981295303718,
          -0.014481018704696424,
          0.026518981295303723,
          0.050518981295303744,
          -0.08448101870469626,
          -0.012481018704696423,
          -0.03148101870469633,
          -0.10348101870469639,
          -0.027481018704696325,
          -0.03148101870469633,
          0.03451898129530373,
          -0.06948101870469636,
          -0.0034810187046963037,
          0.052518981295303746,
          -0.04548101870469634,
          0.018518981295303716,
          0.06051898129530375,
          0.041518981295303625,
          -0.02348101870469632,
          -0.051481018704696346,
          -0.00048101870469641206,
          -0.08948101870469638,
          0.040518981295303735,
          -0.027481018704696325,
          0.03451898129530373,
          0.030518981295303726,
          -0.040481018704696226,
          0.03751898129530362,
          0.029518981295303615,
          0.009518981295303597,
          -0.08848101870469627,
          -0.013481018704696313,
          -0.006481018704696417,
          0.009518981295303597,
          0.006518981295303705,
          0.014518981295303712,
          0.05551898129530364,
          -0.0034810187046963037,
          0.05651898129530375,
          0.06551898129530365,
          -0.00048101870469641206,
          -0.0034810187046963037,
          0.02451898129530372,
          -0.016481018704696426,
          0.05751898129530364,
          0.03651898129530373,
          0.06751898129530365,
          -0.019481018704696318,
          0.017518981295303604,
          -0.030481018704696217,
          0.030518981295303726,
          -0.0034810187046963037,
          0.09851898129530379,
          -0.03148101870469633,
          -0.02448101870469621,
          0.07051898129530376,
          -0.04148101870469634,
          -0.002481018704696414,
          0.017518981295303604,
          0.05551898129530364,
          -0.004481018704696416,
          -0.009481018704696309,
          0.03751898129530362,
          -0.017481018704696316,
          -0.007481018704696307,
          0.02351898129530361,
          0.10251898129530379,
          0.038518981295303734,
          -0.04448101870469623,
          -0.007481018704696307,
          -0.09348101870469638,
          -0.010481018704696421,
          -0.08148101870469637,
          -0.03248101870469622,
          -0.0034810187046963037,
          0.015518981295303602
         ],
         "xaxis": "x2",
         "xbins": {
          "end": 0.29218541882997506,
          "size": 0.02366877794627085,
          "start": -0.18119014009544188
         },
         "yaxis": "y2"
        },
        {
         "histnorm": "probability",
         "marker": {
          "line": {
           "width": 1
          }
         },
         "name": "Length 1000, Time 2.0",
         "type": "histogram",
         "x": [
          0.08219884161635926,
          0.03319884161635933,
          0.037198841616359335,
          -0.004801158383640924,
          0.029198841616359328,
          -0.05380115838364086,
          0.14919884161635943,
          0.09819884161635928,
          -0.013801158383640821,
          -0.02180115838364083,
          0.06519884161635936,
          0.05519884161635913,
          -0.09380115838364089,
          0.03519884161635911,
          -0.05980115838364064,
          0.004198841616359417,
          0.001198841616359303,
          0.06819884161635947,
          0.037198841616359335,
          -0.07680115838364054,
          -0.03980115838364062,
          0.05619884161635946,
          -0.06080115838364053,
          -0.04880115838364052,
          -0.005801158383640814,
          0.08119884161635937,
          -0.005801158383640814,
          0.07619884161635948,
          0.04019884161635945,
          0.05319884161635935,
          -0.03380115838364084,
          -0.032801158383640505,
          0.11519884161635918,
          -0.023801158383640608,
          -0.03580115838364062,
          -0.10380115838364068,
          -0.08080115838364055,
          0.002198841616359193,
          -0.05280115838364052,
          -0.05980115838364064,
          0.1171988416163594,
          0.002198841616359193,
          -0.019801158383640605,
          -0.02180115838364083,
          0.00919884161635931,
          0.050198841616359235,
          -0.014801158383640711,
          -0.07780115838364088,
          0.016198841616359427,
          0.037198841616359335,
          0.12319884161635919,
          0.049198841616359346,
          -0.04880115838364052,
          0.05519884161635913,
          0.030198841616359218,
          -0.08980115838364089,
          -0.0038011583836405904,
          -0.030801158383640725,
          0.09019884161635927,
          0.062198841616359246,
          0.0231988416163591,
          0.03519884161635911,
          0.07119884161635914,
          -0.03580115838364062,
          0.049198841616359346,
          -0.007801158383640594,
          -0.012801158383640932,
          0.03219884161635944,
          -0.011801158383640598,
          0.002198841616359193,
          -0.08880115838364055,
          0.037198841616359335,
          -0.0018011583836408107,
          0.0051988416163593065,
          0.11519884161635918,
          -0.041801158383640846,
          0.051198841616359125,
          -0.06380115838364064,
          -0.024801158383640498,
          0.05219884161635946,
          0.002198841616359193,
          0.0031988416163590827,
          -0.10480115838364057,
          0.0051988416163593065,
          0.028198841616359438,
          0.018198841616359207,
          -0.041801158383640846,
          0.0921988416163595,
          -0.013801158383640821,
          -0.04580115838364085,
          0.00919884161635931,
          0.031198841616359108,
          0.007198841616359086,
          0.0231988416163591,
          0.06719884161635914,
          0.0051988416163593065,
          0.04719884161635912,
          -0.1098011583836409,
          0.10119884161635939,
          -0.1058011583836409,
          -0.03780115838364084,
          0.03319884161635933,
          0.03219884161635944,
          0.06519884161635936,
          -0.07380115838364087,
          0.030198841616359218,
          0.051198841616359125,
          0.15319884161635944,
          -0.006801158383640704,
          0.08819884161635949,
          0.018198841616359207,
          -0.07780115838364088,
          0.14119884161635943,
          0.05419884161635924,
          0.01119884161635909,
          -0.07880115838364077,
          -0.04980115838364085,
          0.09019884161635927,
          -0.04980115838364085,
          0.07319884161635937,
          0.05719884161635935,
          0.025198841616359324,
          -0.11580115838364069,
          -0.03680115838364051,
          0.00819884161635942,
          -0.029801158383640836,
          0.060198841616359466,
          0.04019884161635945,
          -0.08380115838364066,
          0.04519884161635934,
          -0.03480115838364073,
          -0.08380115838364066,
          -0.024801158383640498,
          -0.01680115838364049,
          0.09419884161635927,
          -0.06580115838364087,
          -0.03480115838364073,
          0.07419884161635926,
          -0.07080115838364076,
          0.07319884161635937,
          0.0031988416163590827,
          0.05819884161635924,
          -0.006801158383640704,
          -0.1198011583836407,
          -0.0028011583836407006,
          -0.08080115838364055,
          0.01119884161635909,
          0.036198841616359445,
          0.01119884161635909,
          -0.032801158383640505,
          -0.04680115838364074,
          0.050198841616359235,
          0.026198841616359214,
          0.026198841616359214,
          -0.11780115838364091,
          0.03519884161635911,
          -0.05580115838364064,
          -0.013801158383640821,
          0.006198841616359196,
          -0.0158011583836406,
          0.06319884161635914,
          0.031198841616359108,
          0.04319884161635912,
          0.10119884161635939,
          0.030198841616359218,
          -0.023801158383640608,
          0.09519884161635916,
          0.01119884161635909,
          0.07819884161635926,
          0.08719884161635916,
          0.02019884161635943,
          0.031198841616359108,
          -0.017801158383640825,
          -0.09480115838364078,
          0.036198841616359445,
          0.014198841616359203,
          0.11919884161635919,
          -0.10280115838364079,
          0.03219884161635944,
          0.10219884161635928,
          -0.07380115838364087,
          0.006198841616359196,
          0.09319884161635938,
          0.0231988416163591,
          -0.044801158383640516,
          -0.04080115838364051,
          0.03519884161635911,
          0.01119884161635909,
          -0.010801158383640708,
          0.02219884161635921,
          0.06619884161635925,
          0.02019884161635943,
          -0.06980115838364087,
          -0.02180115838364083,
          -0.1198011583836407,
          -0.08280115838364077,
          -0.11180115838364069,
          -0.006801158383640704,
          -0.0288011583836405,
          0.05219884161635946
         ],
         "xaxis": "x3",
         "xbins": {
          "end": 0.29218541882997506,
          "size": 0.02366877794627085,
          "start": -0.18119014009544188
         },
         "yaxis": "y3"
        },
        {
         "histnorm": "probability",
         "marker": {
          "line": {
           "width": 1
          }
         },
         "name": "Length 1000, Time 3.0",
         "type": "histogram",
         "x": [
          0.053809859904557555,
          0.09780985990455804,
          0.06980985990455757,
          -0.05019014009544165,
          0.03380985990455798,
          -0.04219014009544164,
          0.20780985990455836,
          0.12580985990455762,
          -0.08419014009544235,
          -0.032190140095441855,
          0.1358098599045583,
          0.12480985990455817,
          -0.05519014009544243,
          0.025809859904557975,
          -0.07419014009544167,
          0.08280985990455836,
          0.047809859904558216,
          0.08580985990455758,
          0.02680985990455831,
          -0.0801901400954419,
          -0.01619014009544184,
          0.016809859904557634,
          -0.0011901400954421604,
          -0.08319014009544201,
          -0.04019014009544186,
          0.09280985990455815,
          0.02680985990455831,
          0.05280985990455811,
          0.08480985990455814,
          0.07180985990455824,
          -0.01619014009544184,
          -0.023190140095442402,
          0.1488098599045582,
          -0.03819014009544208,
          0.04680985990455788,
          -0.11119014009544159,
          -0.03519014009544197,
          0.007809859904558181,
          -0.013190140095441727,
          -0.03819014009544208,
          0.09880985990455837,
          0.09080985990455837,
          0.0628098599045579,
          -0.05319014009544176,
          -0.015190140095442395,
          -0.062190140095442104,
          -0.07319014009544222,
          -0.04219014009544164,
          -0.00319014009544194,
          0.08680985990455792,
          0.11080985990455794,
          0.11880985990455795,
          -0.07719014009544178,
          0.06780985990455779,
          0.09280985990455815,
          -0.05119014009544198,
          0.003809859904557733,
          -0.0801901400954419,
          0.07980985990455824,
          0.09780985990455804,
          0.07980985990455824,
          0.0018098599045579533,
          0.07780985990455758,
          -0.06519014009544222,
          0.040809859904557655,
          0.023809859904558195,
          -0.04219014009544164,
          -0.045190140095441755,
          -0.03719014009544175,
          -0.05319014009544176,
          -0.05919014009544199,
          0.016809859904557634,
          -0.013190140095441727,
          -0.06319014009544244,
          0.12880985990455773,
          -0.09419014009544213,
          0.07980985990455824,
          -0.023190140095442402,
          0.00980985990455796,
          0.023809859904558195,
          -0.019190140095441954,
          0.017809859904557968,
          -0.08719014009544246,
          -0.015190140095442395,
          0.04680985990455788,
          0.06080985990455812,
          -0.04719014009544242,
          0.0758098599045578,
          -0.028190140095442295,
          -0.07319014009544222,
          0.057809859904558,
          0.0008098599045576194,
          -0.08919014009544224,
          0.047809859904558216,
          0.1408098599045582,
          0.03280985990455765,
          0.051809859904557776,
          -0.11219014009544193,
          0.17080985990455755,
          -0.12019014009544193,
          -0.13019014009544172,
          0.040809859904557655,
          0.00980985990455796,
          0.07180985990455824,
          -0.067190140095442,
          0.014809859904557854,
          0.06080985990455812,
          0.1018098599045576,
          -0.034190140095441635,
          0.0448098599045581,
          0.013809859904558408,
          -0.14919014009544185,
          0.21480985990455803,
          0.021809859904558415,
          0.09780985990455804,
          -0.05119014009544198,
          -0.028190140095442295,
          -0.00019014009544182642,
          -0.021190140095441734,
          0.03780985990455754,
          0.08080985990455769,
          0.07980985990455824,
          -0.12419014009544238,
          0.0708098599045579,
          -0.00019014009544182642,
          -0.011190140095441947,
          0.10680985990455838,
          0.06980985990455757,
          0.019809859904557747,
          0.007809859904558181,
          -0.04719014009544242,
          -0.11519014009544204,
          -0.04019014009544186,
          -0.07319014009544222,
          0.1358098599045583,
          -0.03819014009544208,
          -0.02919014009544174,
          0.038809859904557875,
          -0.1271901400954416,
          0.07480985990455835,
          -0.00019014009544182642,
          0.027809859904557754,
          0.05080985990455833,
          -0.060190140095442324,
          -0.011190140095441947,
          -0.07119014009544244,
          0.04580985990455755,
          -0.02019014009544229,
          0.05480985990455789,
          0.0008098599045576194,
          0.0628098599045579,
          0.05680985990455767,
          0.08980985990455803,
          0.1018098599045576,
          -0.11619014009544237,
          0.08680985990455792,
          -0.054190140095442096,
          -0.03519014009544197,
          -0.021190140095441734,
          0.07980985990455824,
          0.047809859904558216,
          0.025809859904557975,
          0.03580985990455776,
          0.14980985990455764,
          0.008809859904557626,
          -0.06419014009544188,
          0.0708098599045579,
          0.016809859904557634,
          -0.04619014009544209,
          0.07880985990455791,
          0.006809859904557847,
          0.05980985990455778,
          -0.0361901400954423,
          -0.11119014009544159,
          -0.009190140095442167,
          0.11580985990455783,
          0.11580985990455783,
          -0.06119014009544177,
          0.06880985990455812,
          0.08680985990455792,
          0.01180985990455774,
          0.017809859904557968,
          0.08080985990455769,
          -0.012190140095442281,
          -0.09019014009544168,
          -0.01619014009544184,
          0.06880985990455812,
          0.07280985990455768,
          0.02480985990455764,
          -0.06919014009544178,
          0.13480985990455796,
          0.004809859904558067,
          -0.07719014009544178,
          -0.028190140095442295,
          -0.18119014009544188,
          -0.11119014009544159,
          -0.07419014009544167,
          -0.08719014009544246,
          -0.1061901400954417,
          -0.023190140095442402
         ],
         "xaxis": "x4",
         "xbins": {
          "end": 0.29218541882997506,
          "size": 0.02366877794627085,
          "start": -0.18119014009544188
         },
         "yaxis": "y4"
        },
        {
         "histnorm": "probability",
         "marker": {
          "line": {
           "width": 1
          }
         },
         "name": "Length 1000, Time 4.0",
         "type": "histogram",
         "x": [
          0.04718541882997496,
          0.12318541882997547,
          0.0691854188299752,
          -0.13081458117002498,
          0.011185418829975369,
          0.0031854188299753616,
          0.29218541882997506,
          0.0901854188299751,
          -0.0948145811700245,
          -0.04881458117002513,
          0.0691854188299752,
          0.09818541882997511,
          -0.09381458117002506,
          -0.012814581170024653,
          -0.06381458117002481,
          0.08018541882997532,
          0.05918541882997541,
          0.11018541882997468,
          0.021185418829975156,
          -0.138814581170025,
          0.09318541882997522,
          0.018185418829975042,
          0.0011854188299746937,
          -0.13581458117002487,
          -0.032814581170025114,
          0.08518541882997521,
          0.034185418829975056,
          0.034185418829975056,
          0.1161854188299749,
          0.08618541882997466,
          -0.01881458117002488,
          -0.07081458117002448,
          0.1681854188299754,
          0.019185418829975376,
          0.04618541882997551,
          -0.09781458117002462,
          -0.05281458117002469,
          -0.049814581170024574,
          0.006185418829975475,
          0.019185418829975376,
          0.0771854188299752,
          0.10418541882997534,
          -0.024814581170025107,
          -0.02781458117002522,
          -0.07281458117002515,
          -0.0738145811700246,
          -0.015814581170024766,
          0.013185418829975148,
          0.023185418829974935,
          0.13818541882997515,
          0.0641854188299753,
          0.19618541882997498,
          -0.10081458117002473,
          0.03918541882997495,
          0.10218541882997467,
          -0.09681458117002517,
          -0.009814581170024539,
          -0.008814581170025093,
          0.13318541882997526,
          0.0641854188299753,
          0.13818541882997515,
          -0.0038145811700251997,
          0.10118541882997523,
          -0.06381458117002481,
          0.10618541882997512,
          0.049185418829974736,
          -0.02781458117002522,
          -0.03781458117002501,
          -0.08781458117002483,
          -0.028814581170024667,
          -0.03781458117002501,
          0.02818541882997483,
          -0.00781458117002476,
          -0.03181458117002478,
          0.10718541882997545,
          -0.07081458117002448,
          0.10518541882997479,
          -0.019814581170025214,
          0.021185418829975156,
          -0.0028145811700248657,
          -0.08581458117002505,
          0.012185418829974815,
          -0.04181458117002457,
          -0.02781458117002522,
          0.04518541882997518,
          0.030185418829975497,
          -0.05781458117002458,
          0.10618541882997512,
          -0.03181458117002478,
          -0.05381458117002502,
          0.05718541882997474,
          -0.04181458117002457,
          -0.015814581170024766,
          0.0091854188299747,
          0.10518541882997479,
          0.017185418829974708,
          0.049185418829974736,
          -0.10181458117002506,
          0.14618541882997516,
          -0.043814581170025235,
          -0.14481458117002521,
          -0.022814581170025328,
          0.049185418829974736,
          0.08818541882997533,
          -0.07781458117002504,
          0.010185418829975035,
          0.07218541882997531,
          0.11018541882997468,
          -0.006814581170025313,
          0.02218541882997549,
          0.0561854188299753,
          -0.10581458117002462,
          0.18818541882997497,
          0.040185418829975283,
          0.0691854188299752,
          -0.01881458117002488,
          -0.07981458117002482,
          -0.04081458117002512,
          0.0021854188299750277,
          0.0011854188299746937,
          0.09718541882997478,
          0.08118541882997476,
          -0.15281458117002522,
          0.051185418829975404,
          -0.04081458117002512,
          0.018185418829975042,
          0.13118541882997548,
          0.10418541882997534,
          -0.019814581170025214,
          0.02418541882997527,
          -0.056814581170025136,
          -0.15081458117002455,
          0.05418541882997552,
          -0.05181458117002524,
          0.15618541882997494,
          0.08318541882997543,
          -0.06781458117002526,
          -0.00781458117002476,
          -0.11881458117002452,
          0.103185418829975,
          0.09418541882997467,
          0.04818541882997529,
          0.08518541882997521,
          -0.11881458117002452,
          0.05718541882997474,
          -0.10481458117002518,
          0.016185418829975262,
          -0.03781458117002501,
          0.07918541882997499,
          0.0011854188299746937,
          0.03318541882997472,
          0.05218541882997485,
          0.10518541882997479,
          0.19518541882997553,
          -0.1368145811700252,
          -0.01481458117002532,
          -0.0688145811700247,
          -0.030814581170025335,
          -0.00781458117002476,
          0.09418541882997467,
          0.053185418829975184,
          -0.05081458117002491,
          0.051185418829975404,
          0.1601854188299754,
          0.021185418829975156,
          -0.08381458117002527,
          0.08018541882997532,
          0.029185418829975163,
          0.02418541882997527,
          0.10618541882997512,
          0.021185418829975156,
          0.040185418829975283,
          -0.0048145811700246455,
          -0.16581458117002512,
          -0.02781458117002522,
          0.08718541882997499,
          0.14118541882997526,
          -0.03981458117002479,
          0.008185418829975255,
          0.0691854188299752,
          0.010185418829975035,
          -0.006814581170025313,
          0.10218541882997467,
          -0.02781458117002522,
          -0.10681458117002496,
          -0.12681458117002453,
          0.07018541882997553,
          0.0771854188299752,
          0.034185418829975056,
          -0.00781458117002476,
          0.021185418829975156,
          0.05018541882997507,
          -0.026814581170024887,
          -0.025814581170024553,
          -0.17381458117002513,
          -0.09381458117002506,
          -0.10581458117002462,
          -0.06381458117002481,
          -0.09681458117002517,
          -0.05481458117002447
         ],
         "xaxis": "x5",
         "xbins": {
          "end": 0.29218541882997506,
          "size": 0.02366877794627085,
          "start": -0.18119014009544188
         },
         "yaxis": "y5"
        },
        {
         "histnorm": "probability",
         "marker": {
          "line": {
           "width": 1
          }
         },
         "name": "Length 2000, Time 0.5",
         "type": "histogram",
         "x": [
          -0.018057430730151536,
          -0.031057430730151547,
          0.016942569269848495,
          -0.013557430730151587,
          -0.008557430730151583,
          0.02394256926984839,
          -0.01755743073015159,
          0.03844256926984846,
          -0.013557430730151587,
          0.025942569269848392,
          0.012942569269848492,
          0.003442569269848428,
          0.007442569269848431,
          0.0059425692698484855,
          -0.01205743073015153,
          0.0369425692698484,
          0.019942569269848498,
          0.013442569269848437,
          -0.03305743073015155,
          -0.009557430730151584,
          0.003442569269848428,
          -0.013057430730151531,
          0.03744256926984846,
          -0.00005743073015151978,
          0.025942569269848392,
          -0.0015574307301515766,
          -0.023557430730151596,
          -0.010557430730151585,
          -0.02105743073015154,
          -0.014057430730151532,
          -0.00555743073015158,
          0.007942569269848487,
          -0.03705743073015155,
          -0.01855743073015159,
          0.012942569269848492,
          0.0069425692698484864,
          0.001942569269848482,
          -0.02305743073015154,
          -0.006057430730151525,
          0.014942569269848494,
          -0.004057430730151523,
          -0.0010574307301515207,
          -0.029057430730151546,
          -0.03555743073015161,
          0.022442569269848445,
          -0.015057430730151533,
          0.001442569269848426,
          -0.0025574307301515775,
          -0.00555743073015158,
          0.01644256926984844,
          0.00544256926984843,
          0.02194256926984839,
          -0.020557430730151594,
          -0.010557430730151585,
          -0.006557430730151581,
          -0.020057430730151538,
          -0.030057430730151546,
          0.026942569269848393,
          0.0064425692698484305,
          -0.017057430730151535,
          -0.0025574307301515775,
          -0.005057430730151524,
          -0.055557430730151514,
          -0.008057430730151527,
          -0.01205743073015153,
          0.02744256926984845,
          -0.041057430730151556,
          -0.023557430730151596,
          -0.0010574307301515207,
          0.010442569269848434,
          0.018942569269848497,
          -0.013557430730151587,
          0.00044256926984842515,
          -0.0005574307301515757,
          -0.00005743073015151978,
          -0.020057430730151538,
          0.025942569269848392,
          0.012442569269848436,
          -0.015057430730151533,
          0.0059425692698484855,
          0.028942569269848395,
          -0.016057430730151534,
          0.0064425692698484305,
          -0.01855743073015159,
          0.01644256926984844,
          0.049942569269848414,
          -0.009057430730151528,
          -0.016057430730151534,
          0.001442569269848426,
          -0.013557430730151587,
          0.008942569269848488,
          -0.007057430730151526,
          -0.03605743073015155,
          -0.017057430730151535,
          0.028942569269848395,
          0.00044256926984842515,
          0.004442569269848429,
          0.004942569269848485,
          -0.024557430730151597,
          -0.015057430730151533,
          0.0319425692698484,
          0.001942569269848482,
          -0.020057430730151538,
          -0.006557430730151581,
          0.010442569269848434,
          0.0059425692698484855,
          -0.0025574307301515775,
          -0.004557430730151579,
          -0.004557430730151579,
          0.021442569269848444,
          0.0319425692698484,
          0.014442569269848438,
          0.01644256926984844,
          -0.020557430730151594,
          0.011442569269848435,
          -0.0025574307301515775,
          0.001442569269848426,
          0.007442569269848431,
          0.0329425692698484,
          0.038942569269848404,
          -0.03705743073015155,
          -0.0035574307301515784,
          0.008442569269848432,
          -0.031057430730151547,
          0.007942569269848487,
          0.0059425692698484855,
          0.028942569269848395,
          -0.020557430730151594,
          0.012942569269848492,
          0.009942569269848489,
          -0.0020574307301515216,
          -0.01205743073015153,
          0.02194256926984839,
          -0.005057430730151524,
          0.0329425692698484,
          0.0069425692698484864,
          -0.01855743073015159,
          0.002942569269848483,
          -0.019557430730151593,
          0.002442569269848427,
          -0.023557430730151596,
          -0.01655743073015159,
          0.00544256926984843,
          -0.01105743073015153,
          -0.008557430730151583,
          -0.007557430730151582,
          -0.00005743073015151978,
          -0.0285574307301516,
          -0.006557430730151581,
          0.019442569269848442,
          -0.025057430730151542,
          0.027942569269848394,
          -0.006057430730151525,
          -0.005057430730151524,
          0.018942569269848497,
          0.025942569269848392,
          -0.0265574307301516,
          0.016942569269848495,
          0.02194256926984839,
          0.0359425692698484,
          -0.00555743073015158,
          0.013942569269848493,
          0.001442569269848426,
          0.017942569269848496,
          -0.010057430730151529,
          0.009942569269848489,
          0.03844256926984846,
          0.022442569269848445,
          -0.0025574307301515775,
          0.004942569269848485,
          0.002942569269848483,
          -0.017057430730151535,
          -0.029057430730151546,
          -0.006057430730151525,
          -0.00005743073015151978,
          -0.02305743073015154,
          0.002942569269848483,
          0.009442569269848433,
          -0.014057430730151532,
          0.0059425692698484855,
          -0.006557430730151581,
          -0.01105743073015153,
          0.003942569269848484,
          -0.00005743073015151978,
          -0.01755743073015159,
          0.0319425692698484,
          0.00044256926984842515,
          -0.011557430730151586,
          0.0009425692698484811,
          -0.0030574307301515224,
          -0.008557430730151583,
          0.003942569269848484,
          -0.010057430730151529,
          0.014442569269848438,
          0.023442569269848446,
          -0.012557430730151586,
          0.028942569269848395,
          0.012442569269848436,
          -0.014557430730151588,
          0.023442569269848446
         ],
         "xaxis": "x6",
         "xbins": {
          "end": 0.29218541882997506,
          "size": 0.02366877794627085,
          "start": -0.18119014009544188
         },
         "yaxis": "y6"
        },
        {
         "histnorm": "probability",
         "marker": {
          "line": {
           "width": 1
          }
         },
         "name": "Length 2000, Time 1.0",
         "type": "histogram",
         "x": [
          -0.003981018704696249,
          -0.027481018704696325,
          0.03001898129530378,
          0.02801898129530378,
          -0.013481018704696313,
          0.00601898129530376,
          -0.00848101870469642,
          -0.04548101870469634,
          -0.038481018704696224,
          0.01251898129530371,
          0.0135189812953036,
          0.015018981295303657,
          -0.030981018704696384,
          0.015518981295303602,
          0.008518981295303707,
          0.022018981295303774,
          -0.0034810187046963037,
          -0.03648101870469622,
          -0.0034810187046963037,
          0.014018981295303767,
          -0.0529810187046964,
          0.058018981295303584,
          0.03651898129530373,
          0.0015189812953035897,
          0.0135189812953036,
          -0.003981018704696249,
          -0.04448101870469623,
          -0.012481018704696423,
          0.010018981295303764,
          -0.016481018704696426,
          -0.02248101870469621,
          0.050518981295303744,
          0.009018981295303652,
          -0.062481018704696245,
          0.02251898129530372,
          0.005518981295303593,
          0.016518981295303714,
          0.024018981295303776,
          -0.0029810187046963588,
          0.05751898129530364,
          -0.003981018704696249,
          0.018518981295303716,
          -0.0529810187046964,
          -0.021981018704696265,
          0.04301898129530368,
          0.01801898129530377,
          -0.0034810187046963037,
          0.030518981295303726,
          0.010518981295303709,
          -0.010481018704696421,
          -0.016481018704696426,
          0.04651898129530374,
          0.046018981295303574,
          -0.0029810187046963588,
          -0.02148101870469632,
          -0.01598101870469626,
          0.01601898129530377,
          0.04401898129530357,
          -0.01598101870469626,
          -0.009981018704696254,
          0.019518981295303606,
          0.0035189812953035915,
          -0.006981018704696362,
          0.02901898129530367,
          0.014518981295303712,
          0.0030189812953036466,
          0.0020189812953037567,
          -0.039481018704696336,
          0.00701898129530365,
          0.021018981295303663,
          -0.020981018704696375,
          -0.008981018704696364,
          -0.04548101870469634,
          0.04451898129530374,
          -0.011981018704696256,
          -0.04998101870469629,
          0.07851898129530377,
          -0.04198101870469628,
          0.014518981295303712,
          0.04251898129530374,
          -0.004481018704696416,
          0.029518981295303615,
          -0.011981018704696256,
          -0.03998101870469628,
          0.031518981295303616,
          0.04201898129530379,
          0.0135189812953036,
          0.04251898129530374,
          -0.013981018704696258,
          0.0005189812953036999,
          0.053518981295303636,
          0.008518981295303707,
          -0.020481018704696208,
          0.004518981295303703,
          -0.009981018704696254,
          0.020518981295303718,
          0.011018981295303654,
          0.034018981295303785,
          0.00601898129530376,
          -0.01148101870469631,
          0.02551898129530361,
          0.015518981295303602,
          -0.0034810187046963037,
          0.03301898129530367,
          -0.009481018704696309,
          -0.020981018704696375,
          -0.033981018704696275,
          -0.007981018704696252,
          0.024018981295303776,
          -0.04998101870469629,
          -0.017481018704696316,
          0.035018981295303675,
          -0.01498101870469637,
          0.03201898129530378,
          -0.03498101870469639,
          -0.0054810187046963055,
          0.007518981295303595,
          0.01251898129530371,
          -0.0034810187046963037,
          0.01701898129530366,
          0.023018981295303664,
          0.005018981295303648,
          0.012018981295303766,
          -0.044981018704696396,
          -0.008981018704696364,
          -0.006481018704696417,
          -0.012481018704696423,
          0.04401898129530357,
          -0.006481018704696417,
          -0.02698101870469638,
          -0.017481018704696316,
          0.00001898129530375492,
          -0.01798101870469626,
          0.00701898129530365,
          0.01701898129530366,
          -0.01698101870469637,
          -0.055981018704696295,
          -0.012981018704696368,
          0.008018981295303762,
          -0.012981018704696368,
          0.031518981295303616,
          0.008518981295303707,
          -0.009981018704696254,
          0.01601898129530377,
          0.009018981295303652,
          0.0030189812953036466,
          0.06951898129530365,
          0.02351898129530361,
          0.034018981295303785,
          0.012018981295303766,
          0.05101898129530369,
          0.024018981295303776,
          0.008518981295303707,
          0.010018981295303764,
          -0.02998101870469627,
          0.03201898129530378,
          -0.019981018704696263,
          -0.03798101870469628,
          -0.006481018704696417,
          -0.004481018704696416,
          -0.021981018704696265,
          0.0020189812953037567,
          0.0020189812953037567,
          -0.016481018704696426,
          0.052518981295303746,
          0.021518981295303607,
          0.0010189812953036448,
          -0.05548101870469635,
          -0.009481018704696309,
          0.00601898129530376,
          -0.018981018704696373,
          0.03651898129530373,
          0.02251898129530372,
          0.0030189812953036466,
          -0.03648101870469622,
          -0.008981018704696364,
          0.011018981295303654,
          0.020518981295303718,
          -0.028481018704696215,
          -0.02998101870469627,
          0.0005189812953036999,
          -0.026481018704696213,
          0.04751898129530363,
          -0.019481018704696318,
          0.05101898129530369,
          -0.04198101870469628,
          0.01901898129530366,
          0.029518981295303615,
          -0.044981018704696396,
          -0.0054810187046963055,
          -0.06348101870469636,
          -0.03498101870469639,
          0.00001898129530375492,
          0.04401898129530357,
          -0.006481018704696417,
          0.025018981295303666,
          -0.003981018704696249,
          -0.03248101870469622,
          -0.0029810187046963588,
          -0.010981018704696366
         ],
         "xaxis": "x7",
         "xbins": {
          "end": 0.29218541882997506,
          "size": 0.02366877794627085,
          "start": -0.18119014009544188
         },
         "yaxis": "y7"
        },
        {
         "histnorm": "probability",
         "marker": {
          "line": {
           "width": 1
          }
         },
         "name": "Length 2000, Time 2.0",
         "type": "histogram",
         "x": [
          -0.04780115838364063,
          0.0046988416163591396,
          0.09519884161635916,
          0.03469884161635939,
          -0.05830115838364058,
          -0.03980115838364062,
          0.0506988416163594,
          0.012698841616359147,
          -0.017301158383640658,
          -0.019801158383640605,
          0.002198841616359193,
          -0.031801158383640615,
          0.0001988416163594131,
          0.0231988416163591,
          -0.035301158383640896,
          0.01669884161635915,
          0.007198841616359086,
          -0.10230115838364062,
          0.054698841616359406,
          -0.06430115838364081,
          -0.08080115838364055,
          0.050198841616359235,
          -0.007801158383640594,
          -0.03130115838364089,
          0.01669884161635915,
          -0.061801158383640864,
          0.00169884161635947,
          -0.013801158383640821,
          0.01119884161635909,
          -0.03430115838364056,
          0.0056988416163594735,
          -0.006301158383640537,
          -0.005301158383640647,
          0.00169884161635947,
          -0.008801158383640928,
          -0.012801158383640932,
          0.029698841616359495,
          -0.03030115838364056,
          0.04119884161635934,
          -0.02030115838364077,
          0.017198841616359317,
          0.006698841616359363,
          0.001198841616359303,
          0.08219884161635926,
          -0.0433011583836409,
          -0.02930115838364067,
          0.02219884161635921,
          0.03569884161635928,
          -0.02130115838364066,
          0.0466988416163594,
          0.0036988416163592497,
          0.037198841616359335,
          0.14119884161635943,
          0.017698841616359484,
          -0.041801158383640846,
          -0.03580115838364062,
          0.01669884161635915,
          -0.018301158383640548,
          0.019198841616359097,
          0.017198841616359317,
          0.004198841616359417,
          0.012698841616359147,
          0.009698841616359477,
          -0.06230115838364059,
          0.030698841616359385,
          0.04869884161635918,
          0.019698841616359264,
          0.02669884161635938,
          -0.05480115838364075,
          -0.007301158383640871,
          0.037198841616359335,
          -0.0158011583836406,
          -0.00930115838364065,
          -0.09980115838364068,
          0.014198841616359203,
          0.0596988416163593,
          -0.025801158383640832,
          0.013198841616359314,
          -0.0028011583836407006,
          -0.08880115838364055,
          0.009698841616359477,
          -0.0033011583836408676,
          -0.010801158383640708,
          0.054698841616359406,
          0.030198841616359218,
          0.022698841616359378,
          -0.055301158383640914,
          0.10069884161635922,
          0.006698841616359363,
          -0.05430115838364058,
          -0.02280115838364072,
          0.04619884161635923,
          -0.05830115838364058,
          0.0056988416163594735,
          -0.0028011583836407006,
          0.044698841616359175,
          -0.013801158383640821,
          0.01569884161635926,
          0.027198841616359104,
          -0.01030115838364054,
          0.037198841616359335,
          0.03469884161635939,
          0.0001988416163594131,
          0.01669884161635915,
          0.07569884161635931,
          -0.012301158383640765,
          -0.024301158383640775,
          0.0051988416163593065,
          -0.031801158383640615,
          0.05919884161635913,
          0.08719884161635916,
          -0.0523011583836408,
          0.011698841616359257,
          -0.00030115838364075387,
          0.10219884161635928,
          -0.042801158383640736,
          -0.00030115838364075387,
          0.05169884161635929,
          -0.08580115838364089,
          -0.0028011583836407006,
          0.018198841616359207,
          0.018198841616359207,
          -0.06380115838364064,
          -0.04630115838364057,
          0.021698841616359488,
          -0.04530115838364068,
          -0.02230115838364055,
          -0.06480115838364053,
          -0.008801158383640928,
          0.04069884161635917,
          -0.0018011583836408107,
          -0.04730115838364091,
          -0.057301158383640693,
          -0.05280115838364052,
          0.025198841616359324,
          0.023698841616359267,
          -0.015301158383640878,
          -0.05330115838364069,
          0.041698841616359505,
          0.09069884161635944,
          0.0036988416163592497,
          0.021698841616359488,
          0.0231988416163591,
          0.03469884161635939,
          0.00919884161635931,
          0.0051988416163593065,
          0.0336988416163595,
          0.04719884161635912,
          -0.03230115838364078,
          0.02219884161635921,
          0.01569884161635926,
          -0.0433011583836409,
          0.0231988416163591,
          0.024698841616359157,
          -0.03380115838364084,
          0.028198841616359438,
          -0.04630115838364057,
          0.008698841616359143,
          -0.018801158383640715,
          -0.015301158383640878,
          0.030698841616359385,
          -0.011801158383640598,
          0.03469884161635939,
          -0.02830115838364078,
          -0.03780115838364084,
          0.030198841616359218,
          0.004198841616359417,
          0.02019884161635943,
          0.05819884161635924,
          -0.016301158383640768,
          -0.02830115838364078,
          -0.005301158383640647,
          0.042698841616359395,
          0.01119884161635909,
          0.011698841616359257,
          -0.018301158383640548,
          0.01669884161635915,
          -0.05130115838364091,
          -0.012301158383640765,
          0.001198841616359303,
          0.0856988416163591,
          0.041698841616359505,
          -0.05880115838364075,
          -0.05480115838364075,
          -0.057301158383640693,
          -0.07580115838364065,
          0.02569884161635949,
          -0.050301158383640576,
          -0.05880115838364075,
          -0.00030115838364075387,
          -0.008801158383640928,
          -0.006801158383640704,
          0.0036988416163592497,
          -0.0038011583836405904,
          -0.09280115838364056,
          0.06919884161635936,
          -0.009801158383640818,
          0.0031988416163590827,
          0.01119884161635909,
          -0.0013011583836406437
         ],
         "xaxis": "x8",
         "xbins": {
          "end": 0.29218541882997506,
          "size": 0.02366877794627085,
          "start": -0.18119014009544188
         },
         "yaxis": "y8"
        },
        {
         "histnorm": "probability",
         "marker": {
          "line": {
           "width": 1
          }
         },
         "name": "Length 2000, Time 3.0",
         "type": "histogram",
         "x": [
          -0.11219014009544193,
          -0.04719014009544242,
          0.03630985990455837,
          -0.02069014009544201,
          0.04830985990455794,
          -0.017190140095442175,
          0.00530985990455779,
          0.004809859904558067,
          0.006309859904558124,
          0.017309859904558245,
          -0.002190140095441606,
          0.014809859904557854,
          0.009309859904558238,
          -0.04869014009544159,
          -0.029690140095442352,
          -0.051690140095441706,
          0.02730985990455803,
          -0.02519014009544218,
          -0.041190140095442196,
          -0.11369014009544198,
          -0.017190140095442175,
          -0.002690140095442217,
          0.04230985990455771,
          0.017309859904558245,
          -0.014690140095441784,
          0.06680985990455834,
          -0.05719014009544221,
          -0.023690140095442125,
          0.034809859904558316,
          -0.11069014009544187,
          -0.008190140095441834,
          -0.02019014009544229,
          -0.0006901400954424375,
          -0.06819014009544233,
          -0.06369014009544216,
          -0.07419014009544167,
          0.0008098599045576194,
          0.010309859904557683,
          -0.03519014009544197,
          -0.02269014009544179,
          -0.0856901400954424,
          0.029809859904557534,
          0.003809859904557733,
          0.05480985990455789,
          -0.039190140095442416,
          0.002309859904557676,
          -0.08619014009544212,
          -0.05569014009544215,
          0.02280985990455786,
          -0.060190140095442324,
          0.016809859904557634,
          -0.08919014009544224,
          -0.027690140095441684,
          -0.051690140095441706,
          -0.07969014009544217,
          -0.053690140095442374,
          0.027809859904557754,
          -0.023690140095442125,
          0.06880985990455812,
          0.00530985990455779,
          -0.06819014009544233,
          -0.0006901400954424375,
          0.09730985990455832,
          0.0008098599045576194,
          0.00980985990455796,
          -0.015690140095442118,
          -0.08119014009544223,
          0.0318098599045582,
          0.07630985990455841,
          -0.01869014009544223,
          0.0758098599045578,
          -0.04219014009544164,
          0.028309859904558365,
          0.030309859904558145,
          0.014309859904558131,
          -0.02069014009544201,
          -0.032690140095442466,
          0.05880985990455834,
          0.023309859904557584,
          0.09230985990455753,
          0.0028098599045582873,
          0.03330985990455826,
          0.047809859904558216,
          -0.05869014009544227,
          -0.0011901400954421604,
          0.013809859904558408,
          0.06680985990455834,
          0.0018098599045579533,
          -0.029690140095442352,
          -0.12519014009544183,
          -0.009190140095442167,
          -0.030690140095441798,
          -0.004190140095442274,
          -0.022190140095442068,
          -0.07369014009544195,
          0.017809859904557968,
          0.060309859904558394,
          -0.11119014009544159,
          0.01180985990455774,
          0.11080985990455794,
          0.049809859904557996,
          0.05680985990455767,
          -0.01669014009544245,
          0.02880985990455809,
          0.002309859904557676,
          -0.02019014009544229,
          0.09330985990455787,
          0.003809859904557733,
          0.03580985990455776,
          -0.004690140095441997,
          0.0968098599045577,
          -0.040690140095441585,
          -0.075190140095442,
          0.0028098599045582873,
          -0.023690140095442125,
          0.004809859904558067,
          0.00730985990455757,
          -0.05119014009544198,
          -0.09969014009544175,
          0.028309859904558365,
          -0.04169014009544192,
          0.04430985990455838,
          -0.0361901400954423,
          -0.08269014009544229,
          0.04280985990455832,
          0.040809859904557655,
          -0.017690140095441897,
          -0.017690140095441897,
          -0.02069014009544201,
          0.006809859904557847,
          -0.12119014009544227,
          -0.023190140095442402,
          0.02930985990455781,
          -0.04869014009544159,
          0.05480985990455789,
          -0.0646901400954416,
          0.007809859904558181,
          -0.038690140095441805,
          -0.007190140095442388,
          0.04230985990455771,
          -0.010190140095441613,
          -0.04669014009544181,
          -0.056190140095441876,
          -0.03819014009544208,
          -0.025690140095441905,
          -0.051690140095441706,
          -0.02269014009544179,
          -0.07019014009544211,
          -0.11119014009544159,
          -0.07619014009544234,
          -0.06319014009544244,
          -0.02269014009544179,
          0.08230985990455775,
          -0.07269014009544161,
          0.01630985990455791,
          0.002309859904557676,
          0.015809859904558188,
          0.11080985990455794,
          0.036809859904558095,
          -0.05219014009544232,
          0.005809859904558401,
          -0.008190140095441834,
          0.01180985990455774,
          -0.039190140095442416,
          -0.07319014009544222,
          -0.017690140095441897,
          -0.12019014009544193,
          0.054309859904558166,
          0.010809859904558294,
          -0.03519014009544197,
          0.05730985990455828,
          0.006809859904557847,
          -0.054190140095442096,
          -0.03969014009544214,
          0.014809859904557854,
          0.029809859904557534,
          -0.05919014009544199,
          0.0448098599045581,
          -0.04269014009544225,
          -0.08719014009544246,
          -0.006190140095442054,
          0.013309859904557797,
          0.04380985990455777,
          0.04830985990455794,
          -0.02519014009544218,
          -0.01669014009544245,
          0.019309859904558024,
          0.0683098599045584,
          0.009309859904558238,
          0.005809859904558401,
          0.02480985990455764,
          -0.049690140095441926,
          -0.005690140095442331,
          0.10380985990455827,
          -0.07219014009544189,
          -0.05269014009544204,
          -0.01869014009544223,
          0.07380985990455802,
          0.03530985990455804,
          0.015309859904557577
         ],
         "xaxis": "x9",
         "xbins": {
          "end": 0.29218541882997506,
          "size": 0.02366877794627085,
          "start": -0.18119014009544188
         },
         "yaxis": "y9"
        },
        {
         "histnorm": "probability",
         "marker": {
          "line": {
           "width": 1
          }
         },
         "name": "Length 2000, Time 4.0",
         "type": "histogram",
         "x": [
          -0.04031458117002451,
          -0.0053145811700252565,
          0.018185418829975042,
          0.015185418829974928,
          -0.05131458117002463,
          0.10418541882997534,
          0.04518541882997518,
          0.025685418829975326,
          0.018185418829975042,
          0.08368541882997516,
          0.04218541882997506,
          0.08818541882997533,
          0.0091854188299747,
          -0.021814581170024994,
          0.06818541882997486,
          0.04768541882997468,
          0.09718541882997478,
          -0.11931458117002514,
          0.0036854188299750845,
          -0.024814581170025107,
          -0.09081458117002494,
          0.016685418829974985,
          0.0431854188299754,
          -0.09681458117002517,
          -0.04231458117002518,
          -0.009814581170024539,
          0.05368541882997491,
          0.02418541882997527,
          0.011685418829975092,
          0.05668541882997502,
          0.00018541882997524795,
          -0.013814581170024987,
          -0.08231458117002521,
          0.026685418829974772,
          -0.06231458117002475,
          -0.037314581170025285,
          0.02818541882997483,
          0.04168541882997534,
          0.08918541882997477,
          -0.0558145811700248,
          -0.01881458117002488,
          -0.04731458117002507,
          0.0026854188299747506,
          0.040185418829975283,
          -0.11931458117002514,
          -0.06381458117002481,
          0.02218541882997549,
          -0.03781458117002501,
          -0.07081458117002448,
          -0.0533145811700253,
          0.032185418829975276,
          0.09118541882997544,
          -0.036814581170024674,
          0.06318541882997497,
          -0.050314581170025185,
          0.1471854188299755,
          0.10718541882997545,
          0.04868541882997501,
          0.046685418829975234,
          0.08018541882997532,
          -0.12581458117002509,
          -0.12181458117002464,
          0.016685418829974985,
          -0.015814581170024766,
          0.03868541882997523,
          -0.09931458117002467,
          0.07818541882997465,
          0.01568541882997465,
          0.0691854188299752,
          0.08468541882997549,
          -0.10331458117002512,
          -0.018314581170025157,
          -0.04431458117002496,
          0.030185418829975497,
          0.010185418829975035,
          0.04618541882997551,
          -0.009814581170024539,
          -0.015314581170025043,
          0.07218541882997531,
          -0.02781458117002522,
          0.09918541882997545,
          -0.049814581170024574,
          0.012685418829975426,
          -0.07731458117002532,
          -0.04931458117002485,
          0.007685418829975532,
          -0.05731458117002486,
          -0.004314581170024923,
          -0.022814581170025328,
          -0.028814581170024667,
          -0.007314581170025036,
          0.016685418829974985,
          0.034185418829975056,
          -0.054314581170024745,
          -0.02131458117002527,
          0.03868541882997523,
          0.05168541882997513,
          -0.08131458117002488,
          -0.036814581170024674,
          0.023685418829974658,
          -0.008814581170025093,
          0.015185418829974928,
          0.0021854188299750277,
          0.03068541882997522,
          0.07018541882997553,
          0.06768541882997514,
          -0.006814581170025313,
          -0.10631458117002524,
          0.05218541882997485,
          -0.06531458117002487,
          -0.09431458117002478,
          -0.15581458117002533,
          0.173685418829975,
          0.09568541882997472,
          -0.04531458117002529,
          0.025685418829975326,
          -0.01631458117002449,
          -0.09081458117002494,
          0.0006854188299749708,
          -0.09281458117002472,
          0.023685418829974658,
          -0.04031458117002451,
          -0.03981458117002479,
          0.031185418829974942,
          -0.04881458117002513,
          0.0771854188299752,
          -0.03831458117002473,
          0.006685418829975198,
          0.10918541882997523,
          -0.0053145811700252565,
          -0.07231458117002454,
          0.007185418829974921,
          -0.0738145811700246,
          -0.0868145811700245,
          -0.050314581170025185,
          -0.024814581170025107,
          0.0046854188299754185,
          -0.09931458117002467,
          0.04818541882997529,
          0.09818541882997511,
          -0.002314581170025143,
          -0.09281458117002472,
          0.010185418829975035,
          -0.05931458117002464,
          0.011685418829975092,
          0.15068541882997533,
          0.04818541882997529,
          0.014185418829975482,
          -0.10481458117002518,
          0.061685418829974914,
          0.02818541882997483,
          -0.02131458117002527,
          -0.01881458117002488,
          0.0091854188299747,
          -0.03581458117002523,
          0.04168541882997534,
          0.0456854188299749,
          -0.13031458117002526,
          -0.0168145811700251,
          -0.008814581170025093,
          -0.1363145811700246,
          -0.004314581170024923,
          0.06968541882997492,
          -0.07081458117002448,
          -0.05731458117002486,
          0.15118541882997505,
          -0.0973145811700249,
          -0.058814581170024915,
          0.0561854188299753,
          -0.030814581170025335,
          0.0021854188299750277,
          -0.030814581170025335,
          0.032185418829975276,
          0.034185418829975056,
          -0.010814581170024873,
          0.09368541882997494,
          0.02618541882997505,
          -0.04481458117002468,
          -0.049814581170024574,
          -0.058814581170024915,
          -0.00031458117002447494,
          -0.017314581170024823,
          0.018185418829975042,
          -0.03631458117002495,
          -0.16681458117002457,
          -0.0743145811700252,
          0.09618541882997533,
          0.03318541882997472,
          0.030185418829975497,
          0.04718541882997496,
          0.07468541882997481,
          0.03368541882997533,
          -0.009814581170024539,
          0.013685418829974871,
          -0.0533145811700253,
          -0.03881458117002534,
          -0.03531458117002462,
          0.0036854188299750845,
          0.04618541882997551,
          -0.01431458117002471
         ],
         "xaxis": "x10",
         "xbins": {
          "end": 0.29218541882997506,
          "size": 0.02366877794627085,
          "start": -0.18119014009544188
         },
         "yaxis": "y10"
        },
        {
         "histnorm": "probability",
         "marker": {
          "line": {
           "width": 1
          }
         },
         "name": "Length 3000, Time 0.5",
         "type": "histogram",
         "x": [
          -0.006724097396818229,
          -0.019057430730151537,
          0.00860923593651508,
          -0.007390764063484934,
          -0.013390764063484939,
          0.023275902603181797,
          0.0026092359365150752,
          0.013942569269848493,
          -0.01539076406348494,
          -0.008057430730151527,
          -0.01772409739681824,
          0.00427590260318178,
          -0.010057430730151529,
          0.022275902603181796,
          -0.01772409739681824,
          0.03727590260318181,
          0.0059425692698484855,
          0.009609235936515081,
          0.0009425692698484811,
          0.012275902603181787,
          -0.03172409739681825,
          0.005609235936515078,
          -0.01439076406348494,
          -0.007057430730151526,
          0.0329425692698484,
          -0.0003907640634849274,
          -0.00772409739681823,
          -0.006390764063484933,
          -0.0037240973968182267,
          -0.02105743073015154,
          -0.004057430730151523,
          0.04160923593651511,
          0.0032759026031817795,
          -0.007390764063484934,
          0.030942569269848397,
          0.013275902603181788,
          0.02060923593651509,
          0.016942569269848495,
          -0.01105743073015153,
          0.058609235936515125,
          0.005609235936515078,
          0.021275902603181795,
          -0.03605743073015155,
          -0.009057430730151528,
          0.022275902603181796,
          0.00427590260318178,
          0.026942569269848393,
          -0.015057430730151533,
          0.018942569269848497,
          0.009275902603181785,
          -0.01105743073015153,
          0.03727590260318181,
          -0.01972409739681824,
          -0.011390764063484937,
          0.016942569269848495,
          0.017275902603181792,
          -0.005057430730151524,
          -0.013057430730151531,
          0.005609235936515078,
          -0.014057430730151532,
          0.0006092359365150735,
          0.013609235936515085,
          -0.032390764063484845,
          -0.015724097396818237,
          0.004942569269848485,
          -0.005057430730151524,
          -0.015724097396818237,
          -0.004057430730151523,
          0.003609235936515076,
          0.001942569269848482,
          0.015942569269848494,
          -0.03172409739681825,
          -0.018057430730151536,
          -0.009390764063484935,
          0.015609235936515087,
          -0.010057430730151529,
          0.009942569269848489,
          -0.014724097396818236,
          0.002942569269848483,
          0.022609235936515093,
          0.02494256926984839,
          0.0032759026031817795,
          0.003609235936515076,
          -0.02539076406348484,
          -0.008057430730151527,
          0.021275902603181795,
          0.01527590260318179,
          -0.005057430730151524,
          -0.00005743073015151978,
          0.002942569269848483,
          0.005275902603181781,
          0.015609235936515087,
          -0.014057430730151532,
          -0.00339076406348493,
          0.016609235936515088,
          0.012609235936515084,
          0.003609235936515076,
          0.009275902603181785,
          -0.006057430730151525,
          -0.0013907640634849283
         ],
         "xaxis": "x11",
         "xbins": {
          "end": 0.29218541882997506,
          "size": 0.02366877794627085,
          "start": -0.18119014009544188
         },
         "yaxis": "y11"
        },
        {
         "histnorm": "probability",
         "marker": {
          "line": {
           "width": 1
          }
         },
         "name": "Length 3000, Time 1.0",
         "type": "histogram",
         "x": [
          -0.014147685371362906,
          -0.014147685371362906,
          0.042852314628637034,
          0.020518981295303718,
          -0.007147685371363011,
          -0.052814352038029755,
          0.018852314628637012,
          -0.003147685371363007,
          0.006518981295303705,
          -0.012147685371362904,
          0.03418564796197043,
          -0.03681435203802974,
          -0.026814352038029732,
          -0.009814352038029606,
          -0.004814352038029712,
          0.01251898129530371,
          0.02785231462863691,
          -0.03214768537136292,
          0.05751898129530364,
          -0.02481435203802973,
          -0.010814352038029718,
          0.033852314628636915,
          -0.009481018704696309,
          0.002185647961970405,
          0.014852314628637009,
          0.007518981295303595,
          -0.006814352038029714,
          0.003185647961970295,
          0.013185647961970304,
          -0.01581435203802961,
          -0.009481018704696309,
          -0.015147685371363018,
          -0.003147685371363007,
          -0.005147685371363009,
          -0.01281435203802972,
          -0.021814352038029616,
          0.004518981295303703,
          0.013852314628637119,
          0.004852314628637,
          0.002185647961970405,
          0.01818564796197042,
          -0.023814352038029618,
          -0.02148101870469632,
          0.03218564796197043,
          0.016185647961970417,
          -0.00048101870469641206,
          -0.023814352038029618,
          0.032852314628637025,
          -0.042814352038029746,
          0.013852314628637119,
          0.005518981295303593,
          0.025185647961970314,
          0.03685231462863703,
          0.015518981295303602,
          0.002185647961970405,
          0.0015189812953035897,
          0.046185647961970444,
          0.03418564796197043,
          -0.030814352038029735,
          0.009852314628637115,
          0.009518981295303597,
          0.01918564796197031,
          -0.01914768537136302,
          0.0061856479619704086,
          -0.020814352038029726,
          0.032852314628637025,
          -0.00848101870469642,
          -0.0008143520380297087,
          0.020518981295303718,
          0.01251898129530371,
          0.03985231462863692,
          -0.010814352038029718,
          0.010185647961970412,
          0.0005189812953036999,
          0.01685231462863701,
          -0.011814352038029607,
          0.007185647961970298,
          -0.05114768537136305,
          -0.01281435203802972,
          -0.052481018704696236,
          -0.0034810187046963037,
          0.012185647961970414,
          -0.03348101870469633,
          0.019852314628637124,
          -0.011147685371363014,
          0.025852314628636908,
          -0.010481018704696421,
          0.05285231462863704,
          0.020852314628637014,
          -0.01148101870469631,
          0.007852314628637114,
          -0.013481018704696313,
          -0.042814352038029746,
          0.023852314628636906,
          -0.0038143520380296003,
          0.0135189812953036,
          0.003185647961970295,
          -0.011147685371363014,
          0.05018564796197045,
          0.02551898129530361
         ],
         "xaxis": "x12",
         "xbins": {
          "end": 0.29218541882997506,
          "size": 0.02366877794627085,
          "start": -0.18119014009544188
         },
         "yaxis": "y12"
        },
        {
         "histnorm": "probability",
         "marker": {
          "line": {
           "width": 1
          }
         },
         "name": "Length 3000, Time 2.0",
         "type": "histogram",
         "x": [
          -0.006134491716974111,
          -0.03146782505030732,
          0.034865508283025815,
          -0.009467825050307521,
          -0.014134491716974118,
          0.016532174949692724,
          0.012198841616359424,
          0.009532174949692607,
          0.014198841616359203,
          0.0058655082830259,
          0.007532174949692827,
          0.06053217494969276,
          0.00486550828302601,
          -0.006134491716974111,
          0.019865508283026134,
          0.04753217494969242,
          -0.013801158383640821,
          -0.01913449171697401,
          0.02653217494969251,
          -0.06346782505030735,
          -0.019467825050307308,
          -0.014801158383640711,
          0.021532174949692617,
          0.06286550828302584,
          -0.02246782505030742,
          0.02019884161635943,
          0.01153217494969283,
          0.054532174949692536,
          0.04086550828302604,
          -0.026801158383640722,
          0.024198841616359434,
          -0.0021344917169741073,
          0.052532174949692756,
          -0.01713449171697423,
          -0.06313449171697405,
          -0.03913449171697403,
          0.020865508283026024,
          0.00686550828302579,
          -0.034134491716974136,
          0.02019884161635943,
          -0.0158011583836406,
          -0.005134491716974221,
          -0.0038011583836405904,
          -0.023801158383640608,
          -0.046134491716974146,
          0.01153217494969283,
          -0.0158011583836406,
          -0.05046782505030745,
          0.037198841616359335,
          -0.04646782505030744,
          -0.009134491716974225,
          0.00686550828302579,
          -0.0244678250503072,
          -0.01913449171697401,
          -0.06946782505030757,
          0.054532174949692536,
          0.009865508283025903,
          -0.008801158383640928,
          -0.0064678250503074075,
          0.01153217494969283,
          -0.05013449171697415,
          0.03953217494969241,
          -0.008467825050307187,
          0.0035321749496928234,
          -0.015134491716974008,
          -0.006801158383640704,
          0.0031988416163590827,
          0.051198841616359125,
          0.029532174949692624,
          -0.027801158383640612,
          -0.005467825050307518,
          0.043865508283026156,
          0.007198841616359086,
          0.017198841616359317,
          0.07486550828302585,
          0.03553217494969241,
          0.044865508283026045,
          -0.024801158383640498,
          0.020532174949692727,
          0.04519884161635934,
          0.002198841616359193,
          0.03653217494969274,
          0.02653217494969251,
          0.015198841616359093,
          -0.014801158383640711,
          0.01253217494969272,
          0.010865508283025793,
          0.03886550828302582,
          0.02119884161635932,
          -0.06646782505030746,
          0.027198841616359104,
          0.0101988416163592,
          -0.013467825050307525,
          -0.036134491716973915,
          -0.03346782505030754,
          -0.012134491716973894,
          0.0035321749496928234,
          -0.04680115838364074,
          -0.014134491716974118,
          0.031865508283026145
         ],
         "xaxis": "x13",
         "xbins": {
          "end": 0.29218541882997506,
          "size": 0.02366877794627085,
          "start": -0.18119014009544188
         },
         "yaxis": "y13"
        },
        {
         "histnorm": "probability",
         "marker": {
          "line": {
           "width": 1
          }
         },
         "name": "Length 3000, Time 3.0",
         "type": "histogram",
         "x": [
          -0.024190140095441848,
          -0.039190140095442416,
          -0.030523473428774928,
          -0.017190140095442175,
          0.00947652657122422,
          0.01214319323789148,
          -0.0065234734287757945,
          -0.013523473428775468,
          0.00547652657122466,
          -0.0011901400954421604,
          0.02280985990455786,
          -0.01185680676210854,
          0.00014319323789102611,
          0.011476526571224888,
          -0.047856806762109017,
          -0.005856806762108313,
          -0.01819014009544162,
          -0.041190140095442196,
          0.0404765265712248,
          0.05947652657122493,
          -0.0361901400954423,
          0.0061431932378912535,
          0.06414319323789108,
          0.05947652657122493,
          0.04414319323789151,
          -0.03785680676210834,
          -0.043190140095441976,
          0.003809859904557733,
          -0.023190140095442402,
          0.03147652657122446,
          0.0534765265712247,
          -0.0405234734287756,
          -0.054190140095442096,
          -0.06819014009544233,
          0.021809859904558415,
          -0.007856806762108981,
          -0.02085680676210888,
          0.012809859904558074,
          0.026476526571224568,
          0.0361431932378915,
          0.08247652657122462,
          -0.036856806762108896,
          0.05014319323789174,
          -0.034856806762109116,
          -0.0535234734287755,
          0.030476526571225016,
          -0.08419014009544235,
          -0.03519014009544197,
          -0.08152347342877508,
          -0.04285680676210912,
          0.026143193237891715,
          0.013809859904558408,
          0.00547652657122466,
          0.002143193237891694,
          0.007809859904558181,
          0.10514319323789145,
          -0.024190140095441848,
          0.08280985990455836,
          0.06347652657122449,
          0.017809859904557968,
          -0.014523473428775802,
          -0.09352347342877554,
          -0.006856806762108647,
          -0.004523473428775127,
          0.054143193237891296,
          -0.001523473428775013,
          0.07047652657122505,
          0.021809859904558415,
          0.029809859904557534,
          0.09947652657122497,
          -0.02019014009544229,
          -0.06985680676210837,
          0.04447652657122436,
          0.019143193237891154,
          0.05680985990455767,
          -0.017523473428775027,
          0.0361431932378915,
          0.06580985990455801,
          -0.010190140095441613,
          -0.05219014009544232,
          -0.032523473428775596,
          0.01180985990455774,
          -0.03385680676210878,
          -0.003523473428775681,
          -0.03719014009544175,
          -0.00019014009544182642,
          -0.019523473428775695,
          0.021809859904558415,
          -0.04385680676210857,
          0.00547652657122466,
          0.032143193237891055,
          0.012809859904558074,
          0.008143193237891033,
          0.051809859904557776,
          0.03314319323789139,
          0.03547652657122491,
          0.060143193237891523,
          0.025809859904557975,
          0.054143193237891296,
          -0.08619014009544212
         ],
         "xaxis": "x14",
         "xbins": {
          "end": 0.29218541882997506,
          "size": 0.02366877794627085,
          "start": -0.18119014009544188
         },
         "yaxis": "y14"
        },
        {
         "histnorm": "probability",
         "marker": {
          "line": {
           "width": 1
          }
         },
         "name": "Length 3000, Time 4.0",
         "type": "histogram",
         "x": [
          -0.024147914503358514,
          0.03285208549664187,
          -0.01448124783669158,
          0.016185418829975262,
          -0.03214791450335852,
          0.04818541882997529,
          0.04351875216330825,
          0.03251875216330813,
          -0.009147914503357946,
          -0.07081458117002448,
          0.051852085496642,
          -0.061147914503358436,
          0.04518541882997518,
          -0.016147914503358507,
          0.020852085496641415,
          -0.006481247836691573,
          0.01785208549664219,
          -0.003481247836691459,
          -0.03181458117002478,
          0.0068520854966420686,
          -0.05981458117002525,
          0.03518541882997539,
          -0.019481247836691473,
          -0.04514791450335842,
          -0.020147914503358066,
          -0.018147914503358287,
          -0.02514791450335796,
          -0.024814581170025107,
          -0.006814581170025313,
          0.012185418829974815,
          -0.019814581170025214,
          -0.030814581170025335,
          -0.06248124783669162,
          0.05885208549664167,
          0.016185418829975262,
          0.009518752163308442,
          0.016518752163308115,
          -0.011814581170025207,
          0.004518752163308548,
          0.005185418829975141,
          -0.09148124783669154,
          0.002852085496641621,
          -0.032814581170025114,
          0.06885208549664146,
          -0.024147914503358514,
          -0.043481247836691495,
          -0.08981458117002461,
          0.021185418829975156,
          -0.10148124783669132,
          -0.06648124783669118,
          -0.034814581170024894,
          -0.02314791450335818,
          0.007852085496641514,
          0.012185418829974815,
          0.07518541882997543,
          0.053518752163308037,
          0.016852085496641855,
          0.10085208549664149,
          -0.061147914503358436,
          0.03485208549664165,
          -0.04081458117002512,
          -0.032814581170025114,
          -0.013481247836691246,
          0.044852085496641436,
          0.038518752163308356,
          -0.0341479145033583,
          0.003518752163308214,
          0.0641854188299753,
          -0.024147914503358514,
          0.03785208549664176,
          -0.06648124783669118,
          -0.009147914503357946,
          0.09685208549664193,
          0.07085208549664213,
          0.06551875216330849,
          -0.0471479145033582,
          0.06518541882997475,
          0.012518752163308555,
          0.03651875216330858,
          0.06385208549664156,
          0.05851875216330882,
          -0.03548124783669149,
          -0.12314791450335782,
          -0.03148124783669193,
          -0.0644812478366914,
          -0.017481247836691693,
          0.08018541882997532,
          0.020518752163308562,
          0.03651875216330858,
          0.004185418829974807,
          0.025518752163308456,
          -0.029147914503358408,
          0.07985208549664158,
          0.023185418829974935,
          0.003852085496641955,
          0.02818541882997483,
          0.053518752163308037,
          -0.02948124783669126,
          0.0025187521633087684,
          -0.030481247836691594
         ],
         "xaxis": "x15",
         "xbins": {
          "end": 0.29218541882997506,
          "size": 0.02366877794627085,
          "start": -0.18119014009544188
         },
         "yaxis": "y15"
        }
       ],
       "layout": {
        "annotations": [
         {
          "font": {
           "size": 16
          },
          "showarrow": false,
          "text": "Time = 0.5, Length = 1000",
          "x": 0.08399999999999999,
          "xanchor": "center",
          "xref": "paper",
          "y": 1,
          "yanchor": "bottom",
          "yref": "paper"
         },
         {
          "font": {
           "size": 16
          },
          "showarrow": false,
          "text": "Time = 1.0, Length = 1000",
          "x": 0.292,
          "xanchor": "center",
          "xref": "paper",
          "y": 1,
          "yanchor": "bottom",
          "yref": "paper"
         },
         {
          "font": {
           "size": 16
          },
          "showarrow": false,
          "text": "Time = 2.0, Length = 1000",
          "x": 0.5,
          "xanchor": "center",
          "xref": "paper",
          "y": 1,
          "yanchor": "bottom",
          "yref": "paper"
         },
         {
          "font": {
           "size": 16
          },
          "showarrow": false,
          "text": "Time = 3.0, Length = 1000",
          "x": 0.708,
          "xanchor": "center",
          "xref": "paper",
          "y": 1,
          "yanchor": "bottom",
          "yref": "paper"
         },
         {
          "font": {
           "size": 16
          },
          "showarrow": false,
          "text": "Time = 4.0, Length = 1000",
          "x": 0.9159999999999999,
          "xanchor": "center",
          "xref": "paper",
          "y": 1,
          "yanchor": "bottom",
          "yref": "paper"
         },
         {
          "font": {
           "size": 16
          },
          "showarrow": false,
          "text": "Time = 0.5, Length = 2000",
          "x": 0.08399999999999999,
          "xanchor": "center",
          "xref": "paper",
          "y": 0.6111111111111112,
          "yanchor": "bottom",
          "yref": "paper"
         },
         {
          "font": {
           "size": 16
          },
          "showarrow": false,
          "text": "Time = 1.0, Length = 2000",
          "x": 0.292,
          "xanchor": "center",
          "xref": "paper",
          "y": 0.6111111111111112,
          "yanchor": "bottom",
          "yref": "paper"
         },
         {
          "font": {
           "size": 16
          },
          "showarrow": false,
          "text": "Time = 2.0, Length = 2000",
          "x": 0.5,
          "xanchor": "center",
          "xref": "paper",
          "y": 0.6111111111111112,
          "yanchor": "bottom",
          "yref": "paper"
         },
         {
          "font": {
           "size": 16
          },
          "showarrow": false,
          "text": "Time = 3.0, Length = 2000",
          "x": 0.708,
          "xanchor": "center",
          "xref": "paper",
          "y": 0.6111111111111112,
          "yanchor": "bottom",
          "yref": "paper"
         },
         {
          "font": {
           "size": 16
          },
          "showarrow": false,
          "text": "Time = 4.0, Length = 2000",
          "x": 0.9159999999999999,
          "xanchor": "center",
          "xref": "paper",
          "y": 0.6111111111111112,
          "yanchor": "bottom",
          "yref": "paper"
         },
         {
          "font": {
           "size": 16
          },
          "showarrow": false,
          "text": "Time = 0.5, Length = 3000",
          "x": 0.08399999999999999,
          "xanchor": "center",
          "xref": "paper",
          "y": 0.22222222222222224,
          "yanchor": "bottom",
          "yref": "paper"
         },
         {
          "font": {
           "size": 16
          },
          "showarrow": false,
          "text": "Time = 1.0, Length = 3000",
          "x": 0.292,
          "xanchor": "center",
          "xref": "paper",
          "y": 0.22222222222222224,
          "yanchor": "bottom",
          "yref": "paper"
         },
         {
          "font": {
           "size": 16
          },
          "showarrow": false,
          "text": "Time = 2.0, Length = 3000",
          "x": 0.5,
          "xanchor": "center",
          "xref": "paper",
          "y": 0.22222222222222224,
          "yanchor": "bottom",
          "yref": "paper"
         },
         {
          "font": {
           "size": 16
          },
          "showarrow": false,
          "text": "Time = 3.0, Length = 3000",
          "x": 0.708,
          "xanchor": "center",
          "xref": "paper",
          "y": 0.22222222222222224,
          "yanchor": "bottom",
          "yref": "paper"
         },
         {
          "font": {
           "size": 16
          },
          "showarrow": false,
          "text": "Time = 4.0, Length = 3000",
          "x": 0.9159999999999999,
          "xanchor": "center",
          "xref": "paper",
          "y": 0.22222222222222224,
          "yanchor": "bottom",
          "yref": "paper"
         }
        ],
        "bargap": 0.05,
        "height": 900,
        "shapes": [
         {
          "line": {
           "color": "red",
           "dash": "dash",
           "width": 2
          },
          "type": "line",
          "x0": -0.0008374307301515227,
          "x1": -0.0008374307301515227,
          "xref": "x",
          "y0": 0,
          "y1": 1,
          "yref": "y domain"
         },
         {
          "line": {
           "color": "green",
           "dash": "dash",
           "width": 2
          },
          "type": "line",
          "x0": 0,
          "x1": 0,
          "xref": "x",
          "y0": 0,
          "y1": 1,
          "yref": "y domain"
         },
         {
          "line": {
           "color": "red",
           "dash": "dash",
           "width": 2
          },
          "type": "line",
          "x0": 0.001053981295303874,
          "x1": 0.001053981295303874,
          "xref": "x2",
          "y0": 0,
          "y1": 1,
          "yref": "y2 domain"
         },
         {
          "line": {
           "color": "green",
           "dash": "dash",
           "width": 2
          },
          "type": "line",
          "x0": 0,
          "x1": 0,
          "xref": "x2",
          "y0": 0,
          "y1": 1,
          "yref": "y2 domain"
         },
         {
          "line": {
           "color": "red",
           "dash": "dash",
           "width": 2
          },
          "type": "line",
          "x0": 0.006213841616359073,
          "x1": 0.006213841616359073,
          "xref": "x3",
          "y0": 0,
          "y1": 1,
          "yref": "y3 domain"
         },
         {
          "line": {
           "color": "green",
           "dash": "dash",
           "width": 2
          },
          "type": "line",
          "x0": 0,
          "x1": 0,
          "xref": "x3",
          "y0": 0,
          "y1": 1,
          "yref": "y3 domain"
         },
         {
          "line": {
           "color": "red",
           "dash": "dash",
           "width": 2
          },
          "type": "line",
          "x0": 0.010414859904557261,
          "x1": 0.010414859904557261,
          "xref": "x4",
          "y0": 0,
          "y1": 1,
          "yref": "y4 domain"
         },
         {
          "line": {
           "color": "green",
           "dash": "dash",
           "width": 2
          },
          "type": "line",
          "x0": 0,
          "x1": 0,
          "xref": "x4",
          "y0": 0,
          "y1": 1,
          "yref": "y4 domain"
         },
         {
          "line": {
           "color": "red",
           "dash": "dash",
           "width": 2
          },
          "type": "line",
          "x0": 0.011755418829975106,
          "x1": 0.011755418829975106,
          "xref": "x5",
          "y0": 0,
          "y1": 1,
          "yref": "y5 domain"
         },
         {
          "line": {
           "color": "green",
           "dash": "dash",
           "width": 2
          },
          "type": "line",
          "x0": 0,
          "x1": 0,
          "xref": "x5",
          "y0": 0,
          "y1": 1,
          "yref": "y5 domain"
         },
         {
          "line": {
           "color": "red",
           "dash": "dash",
           "width": 2
          },
          "type": "line",
          "x0": 0.000030069269848387314,
          "x1": 0.000030069269848387314,
          "xref": "x6",
          "y0": 0,
          "y1": 1,
          "yref": "y6 domain"
         },
         {
          "line": {
           "color": "green",
           "dash": "dash",
           "width": 2
          },
          "type": "line",
          "x0": 0,
          "x1": 0,
          "xref": "x6",
          "y0": 0,
          "y1": 1,
          "yref": "y6 domain"
         },
         {
          "line": {
           "color": "red",
           "dash": "dash",
           "width": 2
          },
          "type": "line",
          "x0": 0.0017564812953037023,
          "x1": 0.0017564812953037023,
          "xref": "x7",
          "y0": 0,
          "y1": 1,
          "yref": "y7 domain"
         },
         {
          "line": {
           "color": "green",
           "dash": "dash",
           "width": 2
          },
          "type": "line",
          "x0": 0,
          "x1": 0,
          "xref": "x7",
          "y0": 0,
          "y1": 1,
          "yref": "y7 domain"
         },
         {
          "line": {
           "color": "red",
           "dash": "dash",
           "width": 2
          },
          "type": "line",
          "x0": 0.000008841616359056559,
          "x1": 0.000008841616359056559,
          "xref": "x8",
          "y0": 0,
          "y1": 1,
          "yref": "y8 domain"
         },
         {
          "line": {
           "color": "green",
           "dash": "dash",
           "width": 2
          },
          "type": "line",
          "x0": 0,
          "x1": 0,
          "xref": "x8",
          "y0": 0,
          "y1": 1,
          "yref": "y8 domain"
         },
         {
          "line": {
           "color": "red",
           "dash": "dash",
           "width": 2
          },
          "type": "line",
          "x0": -0.008502640095442437,
          "x1": -0.008502640095442437,
          "xref": "x9",
          "y0": 0,
          "y1": 1,
          "yref": "y9 domain"
         },
         {
          "line": {
           "color": "green",
           "dash": "dash",
           "width": 2
          },
          "type": "line",
          "x0": 0,
          "x1": 0,
          "xref": "x9",
          "y0": 0,
          "y1": 1,
          "yref": "y9 domain"
         },
         {
          "line": {
           "color": "red",
           "dash": "dash",
           "width": 2
          },
          "type": "line",
          "x0": -0.002329581170025463,
          "x1": -0.002329581170025463,
          "xref": "x10",
          "y0": 0,
          "y1": 1,
          "yref": "y10 domain"
         },
         {
          "line": {
           "color": "green",
           "dash": "dash",
           "width": 2
          },
          "type": "line",
          "x0": 0,
          "x1": 0,
          "xref": "x10",
          "y0": 0,
          "y1": 1,
          "yref": "y10 domain"
         },
         {
          "line": {
           "color": "red",
           "dash": "dash",
           "width": 2
          },
          "type": "line",
          "x0": 0.0019125692698483965,
          "x1": 0.0019125692698483965,
          "xref": "x11",
          "y0": 0,
          "y1": 1,
          "yref": "y11 domain"
         },
         {
          "line": {
           "color": "green",
           "dash": "dash",
           "width": 2
          },
          "type": "line",
          "x0": 0,
          "x1": 0,
          "xref": "x11",
          "y0": 0,
          "y1": 1,
          "yref": "y11 domain"
         },
         {
          "line": {
           "color": "red",
           "dash": "dash",
           "width": 2
          },
          "type": "line",
          "x0": 0.002202314628637181,
          "x1": 0.002202314628637181,
          "xref": "x12",
          "y0": 0,
          "y1": 1,
          "yref": "y12 domain"
         },
         {
          "line": {
           "color": "green",
           "dash": "dash",
           "width": 2
          },
          "type": "line",
          "x0": 0,
          "x1": 0,
          "xref": "x12",
          "y0": 0,
          "y1": 1,
          "yref": "y12 domain"
         },
         {
          "line": {
           "color": "red",
           "dash": "dash",
           "width": 2
          },
          "type": "line",
          "x0": 0.0025688416163593963,
          "x1": 0.0025688416163593963,
          "xref": "x13",
          "y0": 0,
          "y1": 1,
          "yref": "y13 domain"
         },
         {
          "line": {
           "color": "green",
           "dash": "dash",
           "width": 2
          },
          "type": "line",
          "x0": 0,
          "x1": 0,
          "xref": "x13",
          "y0": 0,
          "y1": 1,
          "yref": "y13 domain"
         },
         {
          "line": {
           "color": "red",
           "dash": "dash",
           "width": 2
          },
          "type": "line",
          "x0": 0.0032965265712245895,
          "x1": 0.0032965265712245895,
          "xref": "x14",
          "y0": 0,
          "y1": 1,
          "yref": "y14 domain"
         },
         {
          "line": {
           "color": "green",
           "dash": "dash",
           "width": 2
          },
          "type": "line",
          "x0": 0,
          "x1": 0,
          "xref": "x14",
          "y0": 0,
          "y1": 1,
          "yref": "y14 domain"
         },
         {
          "line": {
           "color": "red",
           "dash": "dash",
           "width": 2
          },
          "type": "line",
          "x0": 0.0007254188299743447,
          "x1": 0.0007254188299743447,
          "xref": "x15",
          "y0": 0,
          "y1": 1,
          "yref": "y15 domain"
         },
         {
          "line": {
           "color": "green",
           "dash": "dash",
           "width": 2
          },
          "type": "line",
          "x0": 0,
          "x1": 0,
          "xref": "x15",
          "y0": 0,
          "y1": 1,
          "yref": "y15 domain"
         }
        ],
        "showlegend": false,
        "template": {
         "data": {
          "bar": [
           {
            "error_x": {
             "color": "#2a3f5f"
            },
            "error_y": {
             "color": "#2a3f5f"
            },
            "marker": {
             "line": {
              "color": "#E5ECF6",
              "width": 0.5
             },
             "pattern": {
              "fillmode": "overlay",
              "size": 10,
              "solidity": 0.2
             }
            },
            "type": "bar"
           }
          ],
          "barpolar": [
           {
            "marker": {
             "line": {
              "color": "#E5ECF6",
              "width": 0.5
             },
             "pattern": {
              "fillmode": "overlay",
              "size": 10,
              "solidity": 0.2
             }
            },
            "type": "barpolar"
           }
          ],
          "carpet": [
           {
            "aaxis": {
             "endlinecolor": "#2a3f5f",
             "gridcolor": "white",
             "linecolor": "white",
             "minorgridcolor": "white",
             "startlinecolor": "#2a3f5f"
            },
            "baxis": {
             "endlinecolor": "#2a3f5f",
             "gridcolor": "white",
             "linecolor": "white",
             "minorgridcolor": "white",
             "startlinecolor": "#2a3f5f"
            },
            "type": "carpet"
           }
          ],
          "choropleth": [
           {
            "colorbar": {
             "outlinewidth": 0,
             "ticks": ""
            },
            "type": "choropleth"
           }
          ],
          "contour": [
           {
            "colorbar": {
             "outlinewidth": 0,
             "ticks": ""
            },
            "colorscale": [
             [
              0,
              "#0d0887"
             ],
             [
              0.1111111111111111,
              "#46039f"
             ],
             [
              0.2222222222222222,
              "#7201a8"
             ],
             [
              0.3333333333333333,
              "#9c179e"
             ],
             [
              0.4444444444444444,
              "#bd3786"
             ],
             [
              0.5555555555555556,
              "#d8576b"
             ],
             [
              0.6666666666666666,
              "#ed7953"
             ],
             [
              0.7777777777777778,
              "#fb9f3a"
             ],
             [
              0.8888888888888888,
              "#fdca26"
             ],
             [
              1,
              "#f0f921"
             ]
            ],
            "type": "contour"
           }
          ],
          "contourcarpet": [
           {
            "colorbar": {
             "outlinewidth": 0,
             "ticks": ""
            },
            "type": "contourcarpet"
           }
          ],
          "heatmap": [
           {
            "colorbar": {
             "outlinewidth": 0,
             "ticks": ""
            },
            "colorscale": [
             [
              0,
              "#0d0887"
             ],
             [
              0.1111111111111111,
              "#46039f"
             ],
             [
              0.2222222222222222,
              "#7201a8"
             ],
             [
              0.3333333333333333,
              "#9c179e"
             ],
             [
              0.4444444444444444,
              "#bd3786"
             ],
             [
              0.5555555555555556,
              "#d8576b"
             ],
             [
              0.6666666666666666,
              "#ed7953"
             ],
             [
              0.7777777777777778,
              "#fb9f3a"
             ],
             [
              0.8888888888888888,
              "#fdca26"
             ],
             [
              1,
              "#f0f921"
             ]
            ],
            "type": "heatmap"
           }
          ],
          "heatmapgl": [
           {
            "colorbar": {
             "outlinewidth": 0,
             "ticks": ""
            },
            "colorscale": [
             [
              0,
              "#0d0887"
             ],
             [
              0.1111111111111111,
              "#46039f"
             ],
             [
              0.2222222222222222,
              "#7201a8"
             ],
             [
              0.3333333333333333,
              "#9c179e"
             ],
             [
              0.4444444444444444,
              "#bd3786"
             ],
             [
              0.5555555555555556,
              "#d8576b"
             ],
             [
              0.6666666666666666,
              "#ed7953"
             ],
             [
              0.7777777777777778,
              "#fb9f3a"
             ],
             [
              0.8888888888888888,
              "#fdca26"
             ],
             [
              1,
              "#f0f921"
             ]
            ],
            "type": "heatmapgl"
           }
          ],
          "histogram": [
           {
            "marker": {
             "pattern": {
              "fillmode": "overlay",
              "size": 10,
              "solidity": 0.2
             }
            },
            "type": "histogram"
           }
          ],
          "histogram2d": [
           {
            "colorbar": {
             "outlinewidth": 0,
             "ticks": ""
            },
            "colorscale": [
             [
              0,
              "#0d0887"
             ],
             [
              0.1111111111111111,
              "#46039f"
             ],
             [
              0.2222222222222222,
              "#7201a8"
             ],
             [
              0.3333333333333333,
              "#9c179e"
             ],
             [
              0.4444444444444444,
              "#bd3786"
             ],
             [
              0.5555555555555556,
              "#d8576b"
             ],
             [
              0.6666666666666666,
              "#ed7953"
             ],
             [
              0.7777777777777778,
              "#fb9f3a"
             ],
             [
              0.8888888888888888,
              "#fdca26"
             ],
             [
              1,
              "#f0f921"
             ]
            ],
            "type": "histogram2d"
           }
          ],
          "histogram2dcontour": [
           {
            "colorbar": {
             "outlinewidth": 0,
             "ticks": ""
            },
            "colorscale": [
             [
              0,
              "#0d0887"
             ],
             [
              0.1111111111111111,
              "#46039f"
             ],
             [
              0.2222222222222222,
              "#7201a8"
             ],
             [
              0.3333333333333333,
              "#9c179e"
             ],
             [
              0.4444444444444444,
              "#bd3786"
             ],
             [
              0.5555555555555556,
              "#d8576b"
             ],
             [
              0.6666666666666666,
              "#ed7953"
             ],
             [
              0.7777777777777778,
              "#fb9f3a"
             ],
             [
              0.8888888888888888,
              "#fdca26"
             ],
             [
              1,
              "#f0f921"
             ]
            ],
            "type": "histogram2dcontour"
           }
          ],
          "mesh3d": [
           {
            "colorbar": {
             "outlinewidth": 0,
             "ticks": ""
            },
            "type": "mesh3d"
           }
          ],
          "parcoords": [
           {
            "line": {
             "colorbar": {
              "outlinewidth": 0,
              "ticks": ""
             }
            },
            "type": "parcoords"
           }
          ],
          "pie": [
           {
            "automargin": true,
            "type": "pie"
           }
          ],
          "scatter": [
           {
            "fillpattern": {
             "fillmode": "overlay",
             "size": 10,
             "solidity": 0.2
            },
            "type": "scatter"
           }
          ],
          "scatter3d": [
           {
            "line": {
             "colorbar": {
              "outlinewidth": 0,
              "ticks": ""
             }
            },
            "marker": {
             "colorbar": {
              "outlinewidth": 0,
              "ticks": ""
             }
            },
            "type": "scatter3d"
           }
          ],
          "scattercarpet": [
           {
            "marker": {
             "colorbar": {
              "outlinewidth": 0,
              "ticks": ""
             }
            },
            "type": "scattercarpet"
           }
          ],
          "scattergeo": [
           {
            "marker": {
             "colorbar": {
              "outlinewidth": 0,
              "ticks": ""
             }
            },
            "type": "scattergeo"
           }
          ],
          "scattergl": [
           {
            "marker": {
             "colorbar": {
              "outlinewidth": 0,
              "ticks": ""
             }
            },
            "type": "scattergl"
           }
          ],
          "scattermapbox": [
           {
            "marker": {
             "colorbar": {
              "outlinewidth": 0,
              "ticks": ""
             }
            },
            "type": "scattermapbox"
           }
          ],
          "scatterpolar": [
           {
            "marker": {
             "colorbar": {
              "outlinewidth": 0,
              "ticks": ""
             }
            },
            "type": "scatterpolar"
           }
          ],
          "scatterpolargl": [
           {
            "marker": {
             "colorbar": {
              "outlinewidth": 0,
              "ticks": ""
             }
            },
            "type": "scatterpolargl"
           }
          ],
          "scatterternary": [
           {
            "marker": {
             "colorbar": {
              "outlinewidth": 0,
              "ticks": ""
             }
            },
            "type": "scatterternary"
           }
          ],
          "surface": [
           {
            "colorbar": {
             "outlinewidth": 0,
             "ticks": ""
            },
            "colorscale": [
             [
              0,
              "#0d0887"
             ],
             [
              0.1111111111111111,
              "#46039f"
             ],
             [
              0.2222222222222222,
              "#7201a8"
             ],
             [
              0.3333333333333333,
              "#9c179e"
             ],
             [
              0.4444444444444444,
              "#bd3786"
             ],
             [
              0.5555555555555556,
              "#d8576b"
             ],
             [
              0.6666666666666666,
              "#ed7953"
             ],
             [
              0.7777777777777778,
              "#fb9f3a"
             ],
             [
              0.8888888888888888,
              "#fdca26"
             ],
             [
              1,
              "#f0f921"
             ]
            ],
            "type": "surface"
           }
          ],
          "table": [
           {
            "cells": {
             "fill": {
              "color": "#EBF0F8"
             },
             "line": {
              "color": "white"
             }
            },
            "header": {
             "fill": {
              "color": "#C8D4E3"
             },
             "line": {
              "color": "white"
             }
            },
            "type": "table"
           }
          ]
         },
         "layout": {
          "annotationdefaults": {
           "arrowcolor": "#2a3f5f",
           "arrowhead": 0,
           "arrowwidth": 1
          },
          "autotypenumbers": "strict",
          "coloraxis": {
           "colorbar": {
            "outlinewidth": 0,
            "ticks": ""
           }
          },
          "colorscale": {
           "diverging": [
            [
             0,
             "#8e0152"
            ],
            [
             0.1,
             "#c51b7d"
            ],
            [
             0.2,
             "#de77ae"
            ],
            [
             0.3,
             "#f1b6da"
            ],
            [
             0.4,
             "#fde0ef"
            ],
            [
             0.5,
             "#f7f7f7"
            ],
            [
             0.6,
             "#e6f5d0"
            ],
            [
             0.7,
             "#b8e186"
            ],
            [
             0.8,
             "#7fbc41"
            ],
            [
             0.9,
             "#4d9221"
            ],
            [
             1,
             "#276419"
            ]
           ],
           "sequential": [
            [
             0,
             "#0d0887"
            ],
            [
             0.1111111111111111,
             "#46039f"
            ],
            [
             0.2222222222222222,
             "#7201a8"
            ],
            [
             0.3333333333333333,
             "#9c179e"
            ],
            [
             0.4444444444444444,
             "#bd3786"
            ],
            [
             0.5555555555555556,
             "#d8576b"
            ],
            [
             0.6666666666666666,
             "#ed7953"
            ],
            [
             0.7777777777777778,
             "#fb9f3a"
            ],
            [
             0.8888888888888888,
             "#fdca26"
            ],
            [
             1,
             "#f0f921"
            ]
           ],
           "sequentialminus": [
            [
             0,
             "#0d0887"
            ],
            [
             0.1111111111111111,
             "#46039f"
            ],
            [
             0.2222222222222222,
             "#7201a8"
            ],
            [
             0.3333333333333333,
             "#9c179e"
            ],
            [
             0.4444444444444444,
             "#bd3786"
            ],
            [
             0.5555555555555556,
             "#d8576b"
            ],
            [
             0.6666666666666666,
             "#ed7953"
            ],
            [
             0.7777777777777778,
             "#fb9f3a"
            ],
            [
             0.8888888888888888,
             "#fdca26"
            ],
            [
             1,
             "#f0f921"
            ]
           ]
          },
          "colorway": [
           "#636efa",
           "#EF553B",
           "#00cc96",
           "#ab63fa",
           "#FFA15A",
           "#19d3f3",
           "#FF6692",
           "#B6E880",
           "#FF97FF",
           "#FECB52"
          ],
          "font": {
           "color": "#2a3f5f"
          },
          "geo": {
           "bgcolor": "white",
           "lakecolor": "white",
           "landcolor": "#E5ECF6",
           "showlakes": true,
           "showland": true,
           "subunitcolor": "white"
          },
          "hoverlabel": {
           "align": "left"
          },
          "hovermode": "closest",
          "mapbox": {
           "style": "light"
          },
          "paper_bgcolor": "white",
          "plot_bgcolor": "#E5ECF6",
          "polar": {
           "angularaxis": {
            "gridcolor": "white",
            "linecolor": "white",
            "ticks": ""
           },
           "bgcolor": "#E5ECF6",
           "radialaxis": {
            "gridcolor": "white",
            "linecolor": "white",
            "ticks": ""
           }
          },
          "scene": {
           "xaxis": {
            "backgroundcolor": "#E5ECF6",
            "gridcolor": "white",
            "gridwidth": 2,
            "linecolor": "white",
            "showbackground": true,
            "ticks": "",
            "zerolinecolor": "white"
           },
           "yaxis": {
            "backgroundcolor": "#E5ECF6",
            "gridcolor": "white",
            "gridwidth": 2,
            "linecolor": "white",
            "showbackground": true,
            "ticks": "",
            "zerolinecolor": "white"
           },
           "zaxis": {
            "backgroundcolor": "#E5ECF6",
            "gridcolor": "white",
            "gridwidth": 2,
            "linecolor": "white",
            "showbackground": true,
            "ticks": "",
            "zerolinecolor": "white"
           }
          },
          "shapedefaults": {
           "line": {
            "color": "#2a3f5f"
           }
          },
          "ternary": {
           "aaxis": {
            "gridcolor": "white",
            "linecolor": "white",
            "ticks": ""
           },
           "baxis": {
            "gridcolor": "white",
            "linecolor": "white",
            "ticks": ""
           },
           "bgcolor": "#E5ECF6",
           "caxis": {
            "gridcolor": "white",
            "linecolor": "white",
            "ticks": ""
           }
          },
          "title": {
           "x": 0.05
          },
          "xaxis": {
           "automargin": true,
           "gridcolor": "white",
           "linecolor": "white",
           "ticks": "",
           "title": {
            "standoff": 15
           },
           "zerolinecolor": "white",
           "zerolinewidth": 2
          },
          "yaxis": {
           "automargin": true,
           "gridcolor": "white",
           "linecolor": "white",
           "ticks": "",
           "title": {
            "standoff": 15
           },
           "zerolinecolor": "white",
           "zerolinewidth": 2
          }
         }
        },
        "title": {
         "text": "Number of Subsitituion Error per Site with Average and Theoretical Values"
        },
        "width": 1500,
        "xaxis": {
         "anchor": "y",
         "domain": [
          0,
          0.16799999999999998
         ],
         "range": [
          -0.2,
          0.25
         ]
        },
        "xaxis10": {
         "anchor": "y10",
         "domain": [
          0.832,
          1
         ],
         "range": [
          -0.2,
          0.25
         ]
        },
        "xaxis11": {
         "anchor": "y11",
         "domain": [
          0,
          0.16799999999999998
         ],
         "range": [
          -0.2,
          0.25
         ]
        },
        "xaxis12": {
         "anchor": "y12",
         "domain": [
          0.208,
          0.376
         ],
         "range": [
          -0.2,
          0.25
         ]
        },
        "xaxis13": {
         "anchor": "y13",
         "domain": [
          0.416,
          0.584
         ],
         "range": [
          -0.2,
          0.25
         ]
        },
        "xaxis14": {
         "anchor": "y14",
         "domain": [
          0.624,
          0.792
         ],
         "range": [
          -0.2,
          0.25
         ]
        },
        "xaxis15": {
         "anchor": "y15",
         "domain": [
          0.832,
          1
         ],
         "range": [
          -0.2,
          0.25
         ]
        },
        "xaxis2": {
         "anchor": "y2",
         "domain": [
          0.208,
          0.376
         ],
         "range": [
          -0.2,
          0.25
         ]
        },
        "xaxis3": {
         "anchor": "y3",
         "domain": [
          0.416,
          0.584
         ],
         "range": [
          -0.2,
          0.25
         ]
        },
        "xaxis4": {
         "anchor": "y4",
         "domain": [
          0.624,
          0.792
         ],
         "range": [
          -0.2,
          0.25
         ]
        },
        "xaxis5": {
         "anchor": "y5",
         "domain": [
          0.832,
          1
         ],
         "range": [
          -0.2,
          0.25
         ]
        },
        "xaxis6": {
         "anchor": "y6",
         "domain": [
          0,
          0.16799999999999998
         ],
         "range": [
          -0.2,
          0.25
         ]
        },
        "xaxis7": {
         "anchor": "y7",
         "domain": [
          0.208,
          0.376
         ],
         "range": [
          -0.2,
          0.25
         ]
        },
        "xaxis8": {
         "anchor": "y8",
         "domain": [
          0.416,
          0.584
         ],
         "range": [
          -0.2,
          0.25
         ]
        },
        "xaxis9": {
         "anchor": "y9",
         "domain": [
          0.624,
          0.792
         ],
         "range": [
          -0.2,
          0.25
         ]
        },
        "yaxis": {
         "anchor": "x",
         "domain": [
          0.7777777777777778,
          1
         ],
         "range": [
          0,
          0.4
         ]
        },
        "yaxis10": {
         "anchor": "x10",
         "domain": [
          0.3888888888888889,
          0.6111111111111112
         ],
         "range": [
          0,
          0.4
         ]
        },
        "yaxis11": {
         "anchor": "x11",
         "domain": [
          0,
          0.22222222222222224
         ],
         "range": [
          0,
          0.4
         ]
        },
        "yaxis12": {
         "anchor": "x12",
         "domain": [
          0,
          0.22222222222222224
         ],
         "range": [
          0,
          0.4
         ]
        },
        "yaxis13": {
         "anchor": "x13",
         "domain": [
          0,
          0.22222222222222224
         ],
         "range": [
          0,
          0.4
         ]
        },
        "yaxis14": {
         "anchor": "x14",
         "domain": [
          0,
          0.22222222222222224
         ],
         "range": [
          0,
          0.4
         ]
        },
        "yaxis15": {
         "anchor": "x15",
         "domain": [
          0,
          0.22222222222222224
         ],
         "range": [
          0,
          0.4
         ]
        },
        "yaxis2": {
         "anchor": "x2",
         "domain": [
          0.7777777777777778,
          1
         ],
         "range": [
          0,
          0.4
         ]
        },
        "yaxis3": {
         "anchor": "x3",
         "domain": [
          0.7777777777777778,
          1
         ],
         "range": [
          0,
          0.4
         ]
        },
        "yaxis4": {
         "anchor": "x4",
         "domain": [
          0.7777777777777778,
          1
         ],
         "range": [
          0,
          0.4
         ]
        },
        "yaxis5": {
         "anchor": "x5",
         "domain": [
          0.7777777777777778,
          1
         ],
         "range": [
          0,
          0.4
         ]
        },
        "yaxis6": {
         "anchor": "x6",
         "domain": [
          0.3888888888888889,
          0.6111111111111112
         ],
         "range": [
          0,
          0.4
         ]
        },
        "yaxis7": {
         "anchor": "x7",
         "domain": [
          0.3888888888888889,
          0.6111111111111112
         ],
         "range": [
          0,
          0.4
         ]
        },
        "yaxis8": {
         "anchor": "x8",
         "domain": [
          0.3888888888888889,
          0.6111111111111112
         ],
         "range": [
          0,
          0.4
         ]
        },
        "yaxis9": {
         "anchor": "x9",
         "domain": [
          0.3888888888888889,
          0.6111111111111112
         ],
         "range": [
          0,
          0.4
         ]
        }
       }
      }
     },
     "metadata": {},
     "output_type": "display_data"
    }
   ],
   "source": [
    "error_fig = get_histograms2(error_ns_dict_time_length, theoretical_ns_error_dict)\n",
    "error_fig.update_layout(\n",
    "    title_text=\"Number of Subsitituion Error per Site with Average and Theoretical Values\",\n",
    "    showlegend=False)\n",
    "error_fig.update_xaxes(range=[-0.2, 0.25])\n",
    "error_fig.update_yaxes(range=[0, 0.4])"
   ]
  },
  {
   "cell_type": "markdown",
   "metadata": {},
   "source": [
    "### Test for different repeat, length = 1000, time = 1"
   ]
  },
  {
   "cell_type": "code",
   "execution_count": 45,
   "metadata": {},
   "outputs": [],
   "source": [
    "\n",
    "with open('../../../results/WTS_repeat.json', 'r') as file:\n",
    "    repeat_data = json.load(file)\n",
    "\n",
    "with open('../../../results/WTS_repeat(2).json', 'r') as file:\n",
    "    repeat_data2 = json.load(file)\n",
    "\n",
    "with open('../../../results/WTS_repeat(3).json', 'r') as file:\n",
    "    repeat_data3 = json.load(file)"
   ]
  },
  {
   "cell_type": "code",
   "execution_count": 46,
   "metadata": {},
   "outputs": [],
   "source": [
    "repeats = [10, 50, 100, 200, 300, 500]\n",
    "\n",
    "p_value_list_repeat = []\n",
    "for key, value in repeat_data.items():\n",
    "    p_value_list_repeat.append(value['p_value'])\n",
    "\n",
    "p_value_list_repeat2 = []\n",
    "for key, value in repeat_data2.items():\n",
    "    p_value_list_repeat2.append(value['p_value'])\n",
    "\n",
    "p_value_list_repeat3 = []\n",
    "for key, value in repeat_data3.items():\n",
    "    p_value_list_repeat3.append(value['p_value'])"
   ]
  },
  {
   "cell_type": "code",
   "execution_count": 47,
   "metadata": {},
   "outputs": [],
   "source": [
    "p_value_repeat_total = np.array([p_value_list_repeat, p_value_list_repeat2, p_value_list_repeat3])\n",
    "# Calculate elementwise mean\n",
    "p_value_repeat_mean_values = np.mean(p_value_repeat_total, axis=0)\n",
    "\n",
    "# Calculate elementwise standard deviation\n",
    "p_value_repeat_std_dev_values = np.std(p_value_repeat_total, axis=0)"
   ]
  },
  {
   "cell_type": "code",
   "execution_count": 48,
   "metadata": {},
   "outputs": [
    {
     "data": {
      "application/vnd.plotly.v1+json": {
       "config": {
        "plotlyServerURL": "https://plot.ly"
       },
       "data": [
        {
         "error_y": {
          "array": [
           0.10593892403158721,
           0.11142728889150821,
           0.306768057501404,
           0.3631875264726537,
           0.12932190616163045,
           0.18675598647246727
          ]
         },
         "hovertemplate": "Repetition=%{x}<br>P-value=%{y}<extra></extra>",
         "legendgroup": "",
         "marker": {
          "color": "#636efa",
          "symbol": "circle"
         },
         "mode": "markers",
         "name": "",
         "orientation": "v",
         "showlegend": false,
         "type": "scatter",
         "x": [
          10,
          50,
          100,
          200,
          300,
          500
         ],
         "xaxis": "x",
         "y": [
          0.5273749137388168,
          0.848393632812343,
          0.585233486487532,
          0.5425755818224096,
          0.8993522253628573,
          0.4885328318802729
         ],
         "yaxis": "y"
        },
        {
         "mode": "lines",
         "showlegend": false,
         "type": "scatter",
         "x": [
          10,
          50,
          100,
          200,
          300,
          500
         ],
         "y": [
          0.5273749137388168,
          0.848393632812343,
          0.585233486487532,
          0.5425755818224096,
          0.8993522253628573,
          0.4885328318802729
         ]
        },
        {
         "line": {
          "color": "red",
          "dash": "dash",
          "width": 3
         },
         "mode": "lines",
         "name": "Threshold: p-value = 0.05",
         "type": "scatter",
         "x": [
          0,
          550
         ],
         "y": [
          0.05,
          0.05
         ]
        }
       ],
       "layout": {
        "legend": {
         "tracegroupgap": 0
        },
        "template": {
         "data": {
          "bar": [
           {
            "error_x": {
             "color": "#2a3f5f"
            },
            "error_y": {
             "color": "#2a3f5f"
            },
            "marker": {
             "line": {
              "color": "#E5ECF6",
              "width": 0.5
             },
             "pattern": {
              "fillmode": "overlay",
              "size": 10,
              "solidity": 0.2
             }
            },
            "type": "bar"
           }
          ],
          "barpolar": [
           {
            "marker": {
             "line": {
              "color": "#E5ECF6",
              "width": 0.5
             },
             "pattern": {
              "fillmode": "overlay",
              "size": 10,
              "solidity": 0.2
             }
            },
            "type": "barpolar"
           }
          ],
          "carpet": [
           {
            "aaxis": {
             "endlinecolor": "#2a3f5f",
             "gridcolor": "white",
             "linecolor": "white",
             "minorgridcolor": "white",
             "startlinecolor": "#2a3f5f"
            },
            "baxis": {
             "endlinecolor": "#2a3f5f",
             "gridcolor": "white",
             "linecolor": "white",
             "minorgridcolor": "white",
             "startlinecolor": "#2a3f5f"
            },
            "type": "carpet"
           }
          ],
          "choropleth": [
           {
            "colorbar": {
             "outlinewidth": 0,
             "ticks": ""
            },
            "type": "choropleth"
           }
          ],
          "contour": [
           {
            "colorbar": {
             "outlinewidth": 0,
             "ticks": ""
            },
            "colorscale": [
             [
              0,
              "#0d0887"
             ],
             [
              0.1111111111111111,
              "#46039f"
             ],
             [
              0.2222222222222222,
              "#7201a8"
             ],
             [
              0.3333333333333333,
              "#9c179e"
             ],
             [
              0.4444444444444444,
              "#bd3786"
             ],
             [
              0.5555555555555556,
              "#d8576b"
             ],
             [
              0.6666666666666666,
              "#ed7953"
             ],
             [
              0.7777777777777778,
              "#fb9f3a"
             ],
             [
              0.8888888888888888,
              "#fdca26"
             ],
             [
              1,
              "#f0f921"
             ]
            ],
            "type": "contour"
           }
          ],
          "contourcarpet": [
           {
            "colorbar": {
             "outlinewidth": 0,
             "ticks": ""
            },
            "type": "contourcarpet"
           }
          ],
          "heatmap": [
           {
            "colorbar": {
             "outlinewidth": 0,
             "ticks": ""
            },
            "colorscale": [
             [
              0,
              "#0d0887"
             ],
             [
              0.1111111111111111,
              "#46039f"
             ],
             [
              0.2222222222222222,
              "#7201a8"
             ],
             [
              0.3333333333333333,
              "#9c179e"
             ],
             [
              0.4444444444444444,
              "#bd3786"
             ],
             [
              0.5555555555555556,
              "#d8576b"
             ],
             [
              0.6666666666666666,
              "#ed7953"
             ],
             [
              0.7777777777777778,
              "#fb9f3a"
             ],
             [
              0.8888888888888888,
              "#fdca26"
             ],
             [
              1,
              "#f0f921"
             ]
            ],
            "type": "heatmap"
           }
          ],
          "heatmapgl": [
           {
            "colorbar": {
             "outlinewidth": 0,
             "ticks": ""
            },
            "colorscale": [
             [
              0,
              "#0d0887"
             ],
             [
              0.1111111111111111,
              "#46039f"
             ],
             [
              0.2222222222222222,
              "#7201a8"
             ],
             [
              0.3333333333333333,
              "#9c179e"
             ],
             [
              0.4444444444444444,
              "#bd3786"
             ],
             [
              0.5555555555555556,
              "#d8576b"
             ],
             [
              0.6666666666666666,
              "#ed7953"
             ],
             [
              0.7777777777777778,
              "#fb9f3a"
             ],
             [
              0.8888888888888888,
              "#fdca26"
             ],
             [
              1,
              "#f0f921"
             ]
            ],
            "type": "heatmapgl"
           }
          ],
          "histogram": [
           {
            "marker": {
             "pattern": {
              "fillmode": "overlay",
              "size": 10,
              "solidity": 0.2
             }
            },
            "type": "histogram"
           }
          ],
          "histogram2d": [
           {
            "colorbar": {
             "outlinewidth": 0,
             "ticks": ""
            },
            "colorscale": [
             [
              0,
              "#0d0887"
             ],
             [
              0.1111111111111111,
              "#46039f"
             ],
             [
              0.2222222222222222,
              "#7201a8"
             ],
             [
              0.3333333333333333,
              "#9c179e"
             ],
             [
              0.4444444444444444,
              "#bd3786"
             ],
             [
              0.5555555555555556,
              "#d8576b"
             ],
             [
              0.6666666666666666,
              "#ed7953"
             ],
             [
              0.7777777777777778,
              "#fb9f3a"
             ],
             [
              0.8888888888888888,
              "#fdca26"
             ],
             [
              1,
              "#f0f921"
             ]
            ],
            "type": "histogram2d"
           }
          ],
          "histogram2dcontour": [
           {
            "colorbar": {
             "outlinewidth": 0,
             "ticks": ""
            },
            "colorscale": [
             [
              0,
              "#0d0887"
             ],
             [
              0.1111111111111111,
              "#46039f"
             ],
             [
              0.2222222222222222,
              "#7201a8"
             ],
             [
              0.3333333333333333,
              "#9c179e"
             ],
             [
              0.4444444444444444,
              "#bd3786"
             ],
             [
              0.5555555555555556,
              "#d8576b"
             ],
             [
              0.6666666666666666,
              "#ed7953"
             ],
             [
              0.7777777777777778,
              "#fb9f3a"
             ],
             [
              0.8888888888888888,
              "#fdca26"
             ],
             [
              1,
              "#f0f921"
             ]
            ],
            "type": "histogram2dcontour"
           }
          ],
          "mesh3d": [
           {
            "colorbar": {
             "outlinewidth": 0,
             "ticks": ""
            },
            "type": "mesh3d"
           }
          ],
          "parcoords": [
           {
            "line": {
             "colorbar": {
              "outlinewidth": 0,
              "ticks": ""
             }
            },
            "type": "parcoords"
           }
          ],
          "pie": [
           {
            "automargin": true,
            "type": "pie"
           }
          ],
          "scatter": [
           {
            "fillpattern": {
             "fillmode": "overlay",
             "size": 10,
             "solidity": 0.2
            },
            "type": "scatter"
           }
          ],
          "scatter3d": [
           {
            "line": {
             "colorbar": {
              "outlinewidth": 0,
              "ticks": ""
             }
            },
            "marker": {
             "colorbar": {
              "outlinewidth": 0,
              "ticks": ""
             }
            },
            "type": "scatter3d"
           }
          ],
          "scattercarpet": [
           {
            "marker": {
             "colorbar": {
              "outlinewidth": 0,
              "ticks": ""
             }
            },
            "type": "scattercarpet"
           }
          ],
          "scattergeo": [
           {
            "marker": {
             "colorbar": {
              "outlinewidth": 0,
              "ticks": ""
             }
            },
            "type": "scattergeo"
           }
          ],
          "scattergl": [
           {
            "marker": {
             "colorbar": {
              "outlinewidth": 0,
              "ticks": ""
             }
            },
            "type": "scattergl"
           }
          ],
          "scattermapbox": [
           {
            "marker": {
             "colorbar": {
              "outlinewidth": 0,
              "ticks": ""
             }
            },
            "type": "scattermapbox"
           }
          ],
          "scatterpolar": [
           {
            "marker": {
             "colorbar": {
              "outlinewidth": 0,
              "ticks": ""
             }
            },
            "type": "scatterpolar"
           }
          ],
          "scatterpolargl": [
           {
            "marker": {
             "colorbar": {
              "outlinewidth": 0,
              "ticks": ""
             }
            },
            "type": "scatterpolargl"
           }
          ],
          "scatterternary": [
           {
            "marker": {
             "colorbar": {
              "outlinewidth": 0,
              "ticks": ""
             }
            },
            "type": "scatterternary"
           }
          ],
          "surface": [
           {
            "colorbar": {
             "outlinewidth": 0,
             "ticks": ""
            },
            "colorscale": [
             [
              0,
              "#0d0887"
             ],
             [
              0.1111111111111111,
              "#46039f"
             ],
             [
              0.2222222222222222,
              "#7201a8"
             ],
             [
              0.3333333333333333,
              "#9c179e"
             ],
             [
              0.4444444444444444,
              "#bd3786"
             ],
             [
              0.5555555555555556,
              "#d8576b"
             ],
             [
              0.6666666666666666,
              "#ed7953"
             ],
             [
              0.7777777777777778,
              "#fb9f3a"
             ],
             [
              0.8888888888888888,
              "#fdca26"
             ],
             [
              1,
              "#f0f921"
             ]
            ],
            "type": "surface"
           }
          ],
          "table": [
           {
            "cells": {
             "fill": {
              "color": "#EBF0F8"
             },
             "line": {
              "color": "white"
             }
            },
            "header": {
             "fill": {
              "color": "#C8D4E3"
             },
             "line": {
              "color": "white"
             }
            },
            "type": "table"
           }
          ]
         },
         "layout": {
          "annotationdefaults": {
           "arrowcolor": "#2a3f5f",
           "arrowhead": 0,
           "arrowwidth": 1
          },
          "autotypenumbers": "strict",
          "coloraxis": {
           "colorbar": {
            "outlinewidth": 0,
            "ticks": ""
           }
          },
          "colorscale": {
           "diverging": [
            [
             0,
             "#8e0152"
            ],
            [
             0.1,
             "#c51b7d"
            ],
            [
             0.2,
             "#de77ae"
            ],
            [
             0.3,
             "#f1b6da"
            ],
            [
             0.4,
             "#fde0ef"
            ],
            [
             0.5,
             "#f7f7f7"
            ],
            [
             0.6,
             "#e6f5d0"
            ],
            [
             0.7,
             "#b8e186"
            ],
            [
             0.8,
             "#7fbc41"
            ],
            [
             0.9,
             "#4d9221"
            ],
            [
             1,
             "#276419"
            ]
           ],
           "sequential": [
            [
             0,
             "#0d0887"
            ],
            [
             0.1111111111111111,
             "#46039f"
            ],
            [
             0.2222222222222222,
             "#7201a8"
            ],
            [
             0.3333333333333333,
             "#9c179e"
            ],
            [
             0.4444444444444444,
             "#bd3786"
            ],
            [
             0.5555555555555556,
             "#d8576b"
            ],
            [
             0.6666666666666666,
             "#ed7953"
            ],
            [
             0.7777777777777778,
             "#fb9f3a"
            ],
            [
             0.8888888888888888,
             "#fdca26"
            ],
            [
             1,
             "#f0f921"
            ]
           ],
           "sequentialminus": [
            [
             0,
             "#0d0887"
            ],
            [
             0.1111111111111111,
             "#46039f"
            ],
            [
             0.2222222222222222,
             "#7201a8"
            ],
            [
             0.3333333333333333,
             "#9c179e"
            ],
            [
             0.4444444444444444,
             "#bd3786"
            ],
            [
             0.5555555555555556,
             "#d8576b"
            ],
            [
             0.6666666666666666,
             "#ed7953"
            ],
            [
             0.7777777777777778,
             "#fb9f3a"
            ],
            [
             0.8888888888888888,
             "#fdca26"
            ],
            [
             1,
             "#f0f921"
            ]
           ]
          },
          "colorway": [
           "#636efa",
           "#EF553B",
           "#00cc96",
           "#ab63fa",
           "#FFA15A",
           "#19d3f3",
           "#FF6692",
           "#B6E880",
           "#FF97FF",
           "#FECB52"
          ],
          "font": {
           "color": "#2a3f5f"
          },
          "geo": {
           "bgcolor": "white",
           "lakecolor": "white",
           "landcolor": "#E5ECF6",
           "showlakes": true,
           "showland": true,
           "subunitcolor": "white"
          },
          "hoverlabel": {
           "align": "left"
          },
          "hovermode": "closest",
          "mapbox": {
           "style": "light"
          },
          "paper_bgcolor": "white",
          "plot_bgcolor": "#E5ECF6",
          "polar": {
           "angularaxis": {
            "gridcolor": "white",
            "linecolor": "white",
            "ticks": ""
           },
           "bgcolor": "#E5ECF6",
           "radialaxis": {
            "gridcolor": "white",
            "linecolor": "white",
            "ticks": ""
           }
          },
          "scene": {
           "xaxis": {
            "backgroundcolor": "#E5ECF6",
            "gridcolor": "white",
            "gridwidth": 2,
            "linecolor": "white",
            "showbackground": true,
            "ticks": "",
            "zerolinecolor": "white"
           },
           "yaxis": {
            "backgroundcolor": "#E5ECF6",
            "gridcolor": "white",
            "gridwidth": 2,
            "linecolor": "white",
            "showbackground": true,
            "ticks": "",
            "zerolinecolor": "white"
           },
           "zaxis": {
            "backgroundcolor": "#E5ECF6",
            "gridcolor": "white",
            "gridwidth": 2,
            "linecolor": "white",
            "showbackground": true,
            "ticks": "",
            "zerolinecolor": "white"
           }
          },
          "shapedefaults": {
           "line": {
            "color": "#2a3f5f"
           }
          },
          "ternary": {
           "aaxis": {
            "gridcolor": "white",
            "linecolor": "white",
            "ticks": ""
           },
           "baxis": {
            "gridcolor": "white",
            "linecolor": "white",
            "ticks": ""
           },
           "bgcolor": "#E5ECF6",
           "caxis": {
            "gridcolor": "white",
            "linecolor": "white",
            "ticks": ""
           }
          },
          "title": {
           "x": 0.05
          },
          "xaxis": {
           "automargin": true,
           "gridcolor": "white",
           "linecolor": "white",
           "ticks": "",
           "title": {
            "standoff": 15
           },
           "zerolinecolor": "white",
           "zerolinewidth": 2
          },
          "yaxis": {
           "automargin": true,
           "gridcolor": "white",
           "linecolor": "white",
           "ticks": "",
           "title": {
            "standoff": 15
           },
           "zerolinecolor": "white",
           "zerolinewidth": 2
          }
         }
        },
        "title": {
         "text": "P-value for Different Repetitions"
        },
        "xaxis": {
         "anchor": "y",
         "domain": [
          0,
          1
         ],
         "range": [
          0,
          550
         ],
         "title": {
          "text": "Repetition"
         }
        },
        "yaxis": {
         "anchor": "x",
         "domain": [
          0,
          1
         ],
         "range": [
          0,
          1.1
         ],
         "title": {
          "text": "P-value"
         }
        }
       }
      }
     },
     "metadata": {},
     "output_type": "display_data"
    }
   ],
   "source": [
    "# Create a dot plot with error bars for standard deviations\n",
    "fig_repeat_pvalue = px.scatter(x=repeats, y=p_value_repeat_mean_values,\n",
    "                             labels={'x': 'Repetition', 'y': 'P-value'},\n",
    "                             title='P-value for Different Repetitions',\n",
    "                             error_y=p_value_repeat_std_dev_values)\n",
    "\n",
    "fig_repeat_pvalue.add_scatter(x=repeats, y=p_value_repeat_mean_values, mode='lines', showlegend=False)\n",
    "\n",
    "# Add a horizontal line at y=0.05\n",
    "fig_repeat_pvalue.add_scatter(x=[0, 550], y=[0.05, 0.05],\n",
    "                              mode='lines', line=dict(color='red', dash='dash', width=3),\n",
    "                              name='Threshold: p-value = 0.05')\n",
    "# Save the plot as a PDF\n",
    "# fig_repeat_pvalue.write_image(\"P_value_length_time.pdf\")\n",
    "fig_repeat_pvalue.update_yaxes(range=[0, 1.1])\n",
    "fig_repeat_pvalue.update_xaxes(range=[0, 550])\n",
    "\n",
    "# Show the plot\n",
    "fig_repeat_pvalue.show()"
   ]
  },
  {
   "cell_type": "code",
   "execution_count": 49,
   "metadata": {},
   "outputs": [],
   "source": [
    "error_ns_dict_repeat_1 = {}\n",
    "for key, values in repeat_data.items():\n",
    "    error_ns_dict_repeat_1[key] = {}  # Ensures key is initialized\n",
    "    ns_error_list = [a - values['theoretical_value'] for a in values['ns_per_site_list']]\n",
    "    error_ns_dict_repeat_1[key] = {\n",
    "        'ns_per_site_list': ns_error_list,\n",
    "        'avg_ns_per_site': values['avg_ns_per_site'] - values['theoretical_value'],\n",
    "        'theoretical_value': 0\n",
    "        }\n",
    "    \n",
    "error_ns_dict_repeat_2 = {}\n",
    "for key, values in repeat_data2.items():\n",
    "    error_ns_dict_repeat_2[key] = {}  # Ensures key is initialized\n",
    "    ns_error_list = [a - values['theoretical_value'] for a in values['ns_per_site_list']]\n",
    "    error_ns_dict_repeat_2[key] = {\n",
    "        'ns_per_site_list': ns_error_list,\n",
    "        'avg_ns_per_site': values['avg_ns_per_site'] - values['theoretical_value'],\n",
    "        'theoretical_value': 0\n",
    "        }\n",
    "\n",
    "error_ns_dict_repeat_3 = {}\n",
    "for key, values in repeat_data3.items():\n",
    "    error_ns_dict_repeat_3[key] = {}  # Ensures key is initialized\n",
    "    ns_error_list = [a - values['theoretical_value'] for a in values['ns_per_site_list']]\n",
    "    error_ns_dict_repeat_3[key] = {\n",
    "        'ns_per_site_list': ns_error_list,\n",
    "        'avg_ns_per_site': values['avg_ns_per_site'] - values['theoretical_value'],\n",
    "        'theoretical_value': 0\n",
    "        }"
   ]
  },
  {
   "cell_type": "code",
   "execution_count": 50,
   "metadata": {},
   "outputs": [],
   "source": [
    "from plotly.subplots import make_subplots\n",
    "import plotly.graph_objects as go\n",
    "\n",
    "def plot_ns_per_site_histograms(data):\n",
    "    \"\"\"\n",
    "    Plot histograms for ns_per_site_list with vertical lines for avg_ns_per_site and theoretical_value.\n",
    "    \n",
    "    Parameters:\n",
    "        data (dict): A dictionary with keys as repetition numbers and values as another dict\n",
    "                     containing ns_per_site_list, avg_ns_per_site, and theoretical_value.\n",
    "    \"\"\"\n",
    "    # Create a subplot for each key\n",
    "    rows = len(data)\n",
    "    fig = make_subplots(rows=rows, cols=1)\n",
    "\n",
    "    for i, (key, values) in enumerate(data.items(), start=1):\n",
    "        # Add histogram to subplot\n",
    "        fig.add_trace(\n",
    "            go.Histogram(x=values['ns_per_site_list'], histnorm='probability',\n",
    "                    marker=dict(line=dict(width=1)), xbins=dict(  # Control the bar widths here\n",
    "                        # start=x_min,\n",
    "                        # end=x_max,\n",
    "                        size=0.005\n",
    "                    ),\n",
    "                name=f'Ns per Site - Rep {key}'),\n",
    "                row=i, col=1)\n",
    "\n",
    "        # Add vertical lines for average and theoretical values\n",
    "        fig.add_vline(x=values['avg_ns_per_site'], line_color='blue', line_dash='dash', row=i, col=1,\n",
    "                      annotation_text='Avg', annotation_position='top right')\n",
    "        fig.add_vline(x=values['theoretical_value'], line_color='red', line_dash='dash', row=i, col=1,\n",
    "                      annotation_text='Theoretical', annotation_position='top left')\n",
    "\n",
    "\n",
    "        \n",
    "\n",
    "    # Update layout\n",
    "    fig.update_layout(\n",
    "        height=300 * rows,  # Adjust height based on number of subplots\n",
    "        width=800,\n",
    "        title_text=\"Histograms of Ns per Site with Average and Theoretical Values\",\n",
    "        showlegend=False)\n",
    "    \n",
    "    return fig"
   ]
  },
  {
   "cell_type": "code",
   "execution_count": 51,
   "metadata": {},
   "outputs": [
    {
     "data": {
      "application/vnd.plotly.v1+json": {
       "config": {
        "plotlyServerURL": "https://plot.ly"
       },
       "data": [
        {
         "histnorm": "probability",
         "marker": {
          "line": {
           "width": 1
          }
         },
         "name": "Ns per Site - Rep 10",
         "type": "histogram",
         "x": [
          0.020018981295303773,
          0.009518981295303597,
          0.00701898129530365,
          -0.03998101870469628,
          -0.0529810187046964,
          -0.01148101870469631,
          0.023018981295303664,
          0.014018981295303767,
          0.021018981295303663,
          -0.030481018704696217
         ],
         "xaxis": "x",
         "xbins": {
          "size": 0.005
         },
         "yaxis": "y"
        },
        {
         "histnorm": "probability",
         "marker": {
          "line": {
           "width": 1
          }
         },
         "name": "Ns per Site - Rep 50",
         "type": "histogram",
         "x": [
          0.0030189812953036466,
          -0.018981018704696373,
          0.04551898129530363,
          -0.013981018704696258,
          0.0025189812953037016,
          -0.050481018704696234,
          -0.03648101870469622,
          -0.04248101870469623,
          0.016518981295303714,
          0.005018981295303648,
          -0.019481018704696318,
          0.03601898129530379,
          -0.001981018704696247,
          -0.018981018704696373,
          0.017518981295303604,
          0.011018981295303654,
          -0.00048101870469641206,
          -0.001481018704696302,
          0.04201898129530379,
          0.05551898129530364,
          0.02451898129530372,
          0.007518981295303595,
          -0.02148101870469632,
          0.00701898129530365,
          0.034018981295303785,
          -0.03648101870469622,
          0.009518981295303597,
          0.059018981295303696,
          -0.013481018704696313,
          -0.03898101870469639,
          0.0010189812953036448,
          0.0040189812953037585,
          0.0030189812953036466,
          0.0025189812953037016,
          0.019518981295303606,
          -0.0054810187046963055,
          0.011018981295303654,
          0.005518981295303593,
          -0.042981018704696394,
          -0.044981018704696396,
          -0.022981018704696377,
          -0.038481018704696224,
          0.030518981295303726,
          -0.02148101870469632,
          0.03701898129530368,
          0.0005189812953036999,
          -0.028481018704696215,
          -0.027481018704696325,
          0.051518981295303634,
          -0.07198101870469631
         ],
         "xaxis": "x2",
         "xbins": {
          "size": 0.005
         },
         "yaxis": "y2"
        },
        {
         "histnorm": "probability",
         "marker": {
          "line": {
           "width": 1
          }
         },
         "name": "Ns per Site - Rep 100",
         "type": "histogram",
         "x": [
          0.015018981295303657,
          -0.019981018704696263,
          -0.020981018704696375,
          0.029518981295303615,
          -0.013481018704696313,
          0.03101898129530367,
          -0.0054810187046963055,
          -0.02498101870469638,
          0.04901898129530369,
          0.030518981295303726,
          -0.011981018704696256,
          -0.007981018704696252,
          -0.03998101870469628,
          -0.026481018704696213,
          0.04751898129530363,
          -0.00848101870469642,
          -0.019481018704696318,
          0.011018981295303654,
          0.020518981295303718,
          -0.01698101870469637,
          0.03951898129530362,
          -0.022981018704696377,
          -0.01148101870469631,
          0.0010189812953036448,
          -0.026481018704696213,
          0.027518981295303613,
          0.04451898129530374,
          0.006518981295303705,
          0.01801898129530377,
          0.012018981295303766,
          -0.009981018704696254,
          -0.016481018704696426,
          -0.02448101870469621,
          -0.02248101870469621,
          0.048018981295303576,
          0.010018981295303764,
          -0.03698101870469639,
          -0.020981018704696375,
          -0.00598101870469625,
          0.005018981295303648,
          -0.03248101870469622,
          0.02451898129530372,
          0.01701898129530366,
          -0.0034810187046963037,
          0.03201898129530378,
          0.014018981295303767,
          -0.009981018704696254,
          0.009518981295303597,
          -0.0619810187046963,
          -0.044981018704696396,
          -0.016481018704696426,
          0.027518981295303613,
          -0.01798101870469626,
          0.011018981295303654,
          -0.020481018704696208,
          0.06051898129530375,
          0.006518981295303705,
          -0.040481018704696226,
          0.010018981295303764,
          -0.028981018704696382,
          -0.002481018704696414,
          -0.01148101870469631,
          -0.006981018704696362,
          -0.01598101870469626,
          0.0010189812953036448,
          0.06651898129530376,
          0.040518981295303735,
          0.005018981295303648,
          0.004518981295303703,
          -0.00048101870469641206,
          0.019518981295303606,
          0.021518981295303607,
          -0.009981018704696254,
          0.02251898129530372,
          0.020518981295303718,
          -0.018481018704696428,
          0.028518981295303725,
          0.018518981295303716,
          0.00701898129530365,
          -0.025481018704696323,
          0.023018981295303664,
          0.020018981295303773,
          -0.01698101870469637,
          -0.00598101870469625,
          0.01701898129530366,
          0.010018981295303764,
          0.03301898129530367,
          -0.07548101870469637,
          -0.03448101870469622,
          0.007518981295303595,
          0.022018981295303774,
          -0.006481018704696417,
          -0.016481018704696426,
          -0.027481018704696325,
          -0.004481018704696416,
          0.029518981295303615,
          0.0015189812953035897,
          -0.04648101870469623,
          -0.013981018704696258,
          0.0135189812953036
         ],
         "xaxis": "x3",
         "xbins": {
          "size": 0.005
         },
         "yaxis": "y3"
        },
        {
         "histnorm": "probability",
         "marker": {
          "line": {
           "width": 1
          }
         },
         "name": "Ns per Site - Rep 200",
         "type": "histogram",
         "x": [
          -0.05948101870469635,
          -0.0489810187046964,
          -0.017481018704696316,
          -0.045981018704696286,
          -0.012481018704696423,
          0.009018981295303652,
          0.024018981295303776,
          -0.049481018704696345,
          -0.00048101870469641206,
          -0.013481018704696313,
          0.03201898129530378,
          -0.02448101870469621,
          0.028518981295303725,
          -0.00048101870469641206,
          0.0035189812953035915,
          -0.021981018704696265,
          0.01901898129530366,
          -0.0579810187046963,
          0.06351898129530364,
          -0.0034810187046963037,
          -0.025481018704696323,
          -0.001481018704696302,
          -0.020481018704696208,
          -0.011981018704696256,
          -0.05448101870469624,
          0.018518981295303716,
          -0.013981018704696258,
          0.04251898129530374,
          -0.07048101870469625,
          -0.000981018704696357,
          -0.03998101870469628,
          0.010018981295303764,
          0.06201898129530359,
          0.027518981295303613,
          0.06951898129530365,
          -0.025481018704696323,
          0.014018981295303767,
          0.0010189812953036448,
          0.023018981295303664,
          0.026018981295303778,
          0.01601898129530377,
          0.03251898129530373,
          0.010018981295303764,
          0.0610189812953037,
          0.025018981295303666,
          0.00701898129530365,
          -0.02448101870469621,
          -0.03498101870469639,
          0.011018981295303654,
          0.022018981295303774,
          0.004518981295303703,
          -0.017481018704696316,
          0.014018981295303767,
          0.03251898129530373,
          0.05001898129530358,
          0.03301898129530367,
          -0.02348101870469632,
          0.011018981295303654,
          0.03751898129530362,
          0.015018981295303657,
          -0.042981018704696394,
          0.013018981295303655,
          0.05451898129530375,
          -0.000981018704696357,
          -0.009481018704696309,
          -0.006481018704696417,
          -0.044981018704696396,
          0.07501898129530371,
          -0.0509810187046964,
          0.016518981295303714,
          0.008018981295303762,
          0.00701898129530365,
          0.05451898129530375,
          0.021518981295303607,
          0.012018981295303766,
          -0.013481018704696313,
          0.04651898129530374,
          0.034018981295303785,
          -0.0469810187046964,
          -0.02448101870469621,
          -0.010481018704696421,
          -0.04648101870469623,
          0.009018981295303652,
          -0.0054810187046963055,
          0.006518981295303705,
          -0.015481018704696314,
          -0.03348101870469633,
          -0.044981018704696396,
          -0.004481018704696416,
          0.02251898129530372,
          -0.028481018704696215,
          0.020018981295303773,
          -0.019481018704696318,
          -0.03248101870469622,
          0.012018981295303766,
          0.038518981295303734,
          -0.020481018704696208,
          -0.02698101870469638,
          0.06151898129530364,
          -0.025481018704696323,
          0.011518981295303599,
          0.06751898129530365,
          0.016518981295303714,
          0.0010189812953036448,
          0.04951898129530363,
          -0.011981018704696256,
          -0.0034810187046963037,
          0.03101898129530367,
          0.01801898129530377,
          0.02801898129530378,
          -0.01798101870469626,
          0.0030189812953036466,
          0.035018981295303675,
          0.03751898129530362,
          -0.006481018704696417,
          0.035018981295303675,
          -0.007481018704696307,
          -0.006981018704696362,
          0.009018981295303652,
          -0.027481018704696325,
          0.028518981295303725,
          -0.06348101870469636,
          0.03201898129530378,
          -0.022981018704696377,
          -0.030481018704696217,
          0.03701898129530368,
          0.009018981295303652,
          -0.01148101870469631,
          0.04751898129530363,
          -0.020981018704696375,
          0.00601898129530376,
          0.021518981295303607,
          -0.01498101870469637,
          -0.02448101870469621,
          0.0035189812953035915,
          0.01251898129530371,
          -0.027481018704696325,
          -0.004481018704696416,
          0.01801898129530377,
          0.020518981295303718,
          -0.04748101870469634,
          0.019518981295303606,
          0.015518981295303602,
          0.01901898129530366,
          -0.03348101870469633,
          0.03701898129530368,
          -0.029481018704696327,
          -0.05448101870469624,
          -0.0034810187046963037,
          0.03101898129530367,
          0.040518981295303735,
          0.0020189812953037567,
          -0.01498101870469637,
          -0.03498101870469639,
          -0.07148101870469636,
          0.014518981295303712,
          -0.06848101870469625,
          0.022018981295303774,
          0.005518981295303593,
          0.028518981295303725,
          -0.006481018704696417,
          -0.00598101870469625,
          -0.03148101870469633,
          -0.02348101870469632,
          -0.0639810187046963,
          -0.001981018704696247,
          -0.03598101870469628,
          0.0035189812953035915,
          0.050518981295303744,
          0.05001898129530358,
          0.013018981295303655,
          -0.0029810187046963588,
          0.00701898129530365,
          0.03651898129530373,
          0.008518981295303707,
          0.06401898129530359,
          0.013018981295303655,
          -0.028981018704696382,
          -0.031981018704696274,
          -0.0489810187046964,
          0.047018981295303686,
          0.017518981295303604,
          -0.027481018704696325,
          -0.01698101870469637,
          0.01801898129530377,
          0.0020189812953037567,
          -0.044981018704696396,
          -0.028481018704696215,
          -0.07848101870469626,
          0.006518981295303705,
          -0.015481018704696314,
          -0.00048101870469641206,
          0.00601898129530376,
          -0.0509810187046964,
          -0.029481018704696327,
          0.020518981295303718,
          -0.031981018704696274,
          -0.02498101870469638,
          -0.001981018704696247,
          -0.0529810187046964
         ],
         "xaxis": "x4",
         "xbins": {
          "size": 0.005
         },
         "yaxis": "y4"
        },
        {
         "histnorm": "probability",
         "marker": {
          "line": {
           "width": 1
          }
         },
         "name": "Ns per Site - Rep 300",
         "type": "histogram",
         "x": [
          -0.05698101870469641,
          -0.05748101870469635,
          0.034018981295303785,
          -0.043981018704696284,
          -0.011981018704696256,
          0.04201898129530379,
          -0.0029810187046963588,
          0.040518981295303735,
          0.0035189812953035915,
          -0.007981018704696252,
          -0.05448101870469624,
          0.009018981295303652,
          -0.01798101870469626,
          -0.008981018704696364,
          -0.0599810187046963,
          0.013018981295303655,
          0.0030189812953036466,
          0.03551898129530362,
          0.00601898129530376,
          0.008018981295303762,
          0.06451898129530376,
          -0.042981018704696394,
          0.03551898129530362,
          0.048018981295303576,
          -0.04748101870469634,
          0.027018981295303668,
          -0.025981018704696268,
          0.0025189812953037016,
          0.005018981295303648,
          -0.02148101870469632,
          -0.05398101870469629,
          -0.014481018704696424,
          -0.02498101870469638,
          -0.02248101870469621,
          0.01601898129530377,
          0.031518981295303616,
          0.0030189812953036466,
          -0.003981018704696249,
          0.0010189812953036448,
          0.06551898129530365,
          -0.002481018704696414,
          0.026518981295303723,
          -0.01798101870469626,
          -0.016481018704696426,
          0.047018981295303686,
          0.021018981295303663,
          0.01251898129530371,
          0.030518981295303726,
          0.008518981295303707,
          -0.04348101870469634,
          -0.04448101870469623,
          0.0010189812953036448,
          0.005018981295303648,
          0.034018981295303785,
          0.025018981295303666,
          0.012018981295303766,
          0.0030189812953036466,
          0.00701898129530365,
          0.0015189812953035897,
          -0.02448101870469621,
          -0.04098101870469639,
          0.0005189812953036999,
          0.023018981295303664,
          0.005018981295303648,
          0.014518981295303712,
          0.0020189812953037567,
          -0.001481018704696302,
          0.03701898129530368,
          -0.038481018704696224,
          -0.031981018704696274,
          0.004518981295303703,
          -0.010981018704696366,
          -0.052481018704696236,
          0.022018981295303774,
          0.027018981295303668,
          0.005018981295303648,
          0.0135189812953036,
          -0.017481018704696316,
          -0.030981018704696384,
          -0.001981018704696247,
          -0.001981018704696247,
          -0.007481018704696307,
          0.010518981295303709,
          -0.028481018704696215,
          0.016518981295303714,
          0.0020189812953037567,
          0.01701898129530366,
          -0.010481018704696421,
          0.060018981295303586,
          -0.011981018704696256,
          0.00001898129530375492,
          -0.022981018704696377,
          0.05201898129530358,
          -0.00848101870469642,
          0.0005189812953036999,
          -0.025981018704696268,
          0.03351898129530362,
          0.05551898129530364,
          -0.050481018704696234,
          0.0040189812953037585,
          -0.026481018704696213,
          -0.044981018704696396,
          0.008518981295303707,
          -0.0049810187046963605,
          -0.003981018704696249,
          0.050518981295303744,
          -0.03148101870469633,
          0.059018981295303696,
          -0.018981018704696373,
          0.013018981295303655,
          -0.008981018704696364,
          0.04201898129530379,
          -0.01598101870469626,
          0.0670189812953037,
          0.010518981295303709,
          0.0040189812953037585,
          0.04901898129530369,
          0.0035189812953035915,
          -0.00048101870469641206,
          -0.020481018704696208,
          0.010518981295303709,
          -0.05648101870469624,
          -0.02448101870469621,
          0.02451898129530372,
          -0.03998101870469628,
          0.0040189812953037585,
          -0.03998101870469628,
          0.0005189812953036999,
          0.045018981295303684,
          0.07051898129530376,
          0.048018981295303576,
          -0.0029810187046963588,
          -0.04848101870469623,
          0.005518981295303593,
          -0.001981018704696247,
          0.024018981295303776,
          0.02451898129530372,
          -0.03148101870469633,
          -0.03698101870469639,
          0.012018981295303766,
          0.08051898129530377,
          -0.03898101870469639,
          -0.02248101870469621,
          0.019518981295303606,
          -0.00048101870469641206,
          0.0005189812953036999,
          0.008518981295303707,
          0.005518981295303593,
          -0.04198101870469628,
          -0.019481018704696318,
          0.047018981295303686,
          -0.014481018704696424,
          -0.045981018704696286,
          0.014018981295303767,
          -0.04798101870469629,
          -0.04848101870469623,
          -0.030481018704696217,
          0.026518981295303723,
          -0.001981018704696247,
          -0.02348101870469632,
          -0.025481018704696323,
          0.038518981295303734,
          0.027518981295303613,
          -0.0029810187046963588,
          -0.013481018704696313,
          -0.023981018704696266,
          -0.03548101870469633,
          -0.03798101870469628,
          0.02901898129530367,
          0.006518981295303705,
          -0.052481018704696236,
          -0.017481018704696316,
          -0.007481018704696307,
          -0.038481018704696224,
          -0.0029810187046963588,
          0.04451898129530374,
          0.01251898129530371,
          0.03201898129530378,
          -0.03498101870469639,
          -0.013481018704696313,
          0.011518981295303599,
          -0.010981018704696366,
          -0.006981018704696362,
          0.048018981295303576,
          -0.00048101870469641206,
          -0.007481018704696307,
          -0.017481018704696316,
          0.05001898129530358,
          -0.02448101870469621,
          0.005518981295303593,
          0.01801898129530377,
          -0.010481018704696421,
          0.026518981295303723,
          0.03901898129530368,
          -0.01498101870469637,
          0.06401898129530359,
          0.02451898129530372,
          -0.013481018704696313,
          -0.010981018704696366,
          -0.02448101870469621,
          0.06201898129530359,
          0.023018981295303664,
          -0.02148101870469632,
          0.011518981295303599,
          -0.00048101870469641206,
          -0.003981018704696249,
          -0.019981018704696263,
          0.052518981295303746,
          0.01901898129530366,
          0.053518981295303636,
          0.008518981295303707,
          0.0020189812953037567,
          0.014518981295303712,
          0.0005189812953036999,
          -0.013981018704696258,
          -0.03598101870469628,
          -0.020481018704696208,
          0.004518981295303703,
          -0.03798101870469628,
          -0.03248101870469622,
          0.03251898129530373,
          0.03201898129530378,
          -0.012981018704696368,
          0.026018981295303778,
          -0.04648101870469623,
          0.027018981295303668,
          0.01251898129530371,
          -0.009481018704696309,
          -0.012981018704696368,
          -0.020481018704696208,
          -0.013481018704696313,
          -0.02348101870469632,
          0.02451898129530372,
          0.00701898129530365,
          0.021518981295303607,
          0.0005189812953036999,
          0.008518981295303707,
          0.014018981295303767,
          -0.03598101870469628,
          -0.010481018704696421,
          -0.0049810187046963605,
          0.03651898129530373,
          0.01701898129530366,
          0.008518981295303707,
          -0.018981018704696373,
          -0.014481018704696424,
          0.0015189812953035897,
          -0.045981018704696286,
          0.01901898129530366,
          0.021018981295303663,
          0.013018981295303655,
          0.029518981295303615,
          -0.013481018704696313,
          0.0020189812953037567,
          0.019518981295303606,
          -0.0529810187046964,
          -0.013481018704696313,
          -0.007981018704696252,
          0.02901898129530367,
          -0.028981018704696382,
          0.04001898129530379,
          0.0020189812953037567,
          -0.05748101870469635,
          -0.017481018704696316,
          0.008518981295303707,
          0.041518981295303625,
          0.011018981295303654,
          -0.012981018704696368,
          0.024018981295303776,
          0.025018981295303666,
          0.0015189812953035897,
          0.029518981295303615,
          0.005518981295303593,
          -0.0029810187046963588,
          0.050518981295303744,
          0.04751898129530363,
          0.0010189812953036448,
          -0.018481018704696428,
          0.009518981295303597,
          -0.006481018704696417,
          -0.044981018704696396,
          -0.03498101870469639,
          0.011518981295303599,
          0.0035189812953035915,
          0.06851898129530376,
          -0.025981018704696268,
          -0.007981018704696252,
          -0.006981018704696362,
          0.020518981295303718,
          0.00601898129530376,
          -0.029481018704696327,
          -0.006481018704696417,
          -0.018481018704696428,
          -0.009981018704696254,
          -0.018481018704696428,
          0.04301898129530368,
          -0.007481018704696307,
          -0.040481018704696226,
          0.007518981295303595,
          -0.010481018704696421
         ],
         "xaxis": "x5",
         "xbins": {
          "size": 0.005
         },
         "yaxis": "y5"
        },
        {
         "histnorm": "probability",
         "marker": {
          "line": {
           "width": 1
          }
         },
         "name": "Ns per Site - Rep 500",
         "type": "histogram",
         "x": [
          -0.030981018704696384,
          -0.002481018704696414,
          -0.002481018704696414,
          -0.019481018704696318,
          0.03001898129530378,
          -0.02248101870469621,
          -0.032981018704696385,
          0.008018981295303762,
          -0.04248101870469623,
          -0.012981018704696368,
          -0.018981018704696373,
          -0.006481018704696417,
          0.010518981295303709,
          0.008018981295303762,
          0.09101898129530372,
          -0.008981018704696364,
          0.020018981295303773,
          -0.02698101870469638,
          -0.05698101870469641,
          -0.03148101870469633,
          0.03201898129530378,
          -0.020481018704696208,
          -0.0049810187046963605,
          0.009018981295303652,
          -0.043981018704696284,
          0.0025189812953037016,
          -0.032981018704696385,
          0.03451898129530373,
          0.05951898129530364,
          0.010018981295303764,
          -0.001481018704696302,
          0.02551898129530361,
          -0.00048101870469641206,
          -0.013981018704696258,
          -0.04098101870469639,
          -0.00848101870469642,
          0.012018981295303766,
          0.05551898129530364,
          -0.030981018704696384,
          0.02801898129530378,
          0.03951898129530362,
          0.005018981295303648,
          -0.03798101870469628,
          -0.0029810187046963588,
          0.015018981295303657,
          0.006518981295303705,
          0.0040189812953037585,
          0.03201898129530378,
          0.014018981295303767,
          0.04851898129530374,
          0.02901898129530367,
          0.0010189812953036448,
          0.0010189812953036448,
          0.007518981295303595,
          -0.028981018704696382,
          -0.008981018704696364,
          -0.008981018704696364,
          -0.014481018704696424,
          -0.0029810187046963588,
          -0.007981018704696252,
          -0.04648101870469623,
          -0.039481018704696336,
          -0.018481018704696428,
          0.023018981295303664,
          -0.0049810187046963605,
          0.048018981295303576,
          -0.019981018704696263,
          0.005018981295303648,
          0.009018981295303652,
          0.014018981295303767,
          -0.028481018704696215,
          0.019518981295303606,
          0.04651898129530374,
          -0.0054810187046963055,
          0.0040189812953037585,
          0.013018981295303655,
          0.03301898129530367,
          -0.04798101870469629,
          0.008018981295303762,
          0.05101898129530369,
          0.0015189812953035897,
          0.0030189812953036466,
          0.005518981295303593,
          -0.03898101870469639,
          0.021018981295303663,
          0.005518981295303593,
          0.06051898129530375,
          0.01901898129530366,
          -0.021981018704696265,
          -0.019981018704696263,
          -0.007481018704696307,
          0.057018981295303695,
          -0.00598101870469625,
          0.057018981295303695,
          0.00701898129530365,
          0.018518981295303716,
          -0.015481018704696314,
          0.00701898129530365,
          -0.018481018704696428,
          -0.028481018704696215,
          -0.018481018704696428,
          0.011018981295303654,
          0.04751898129530363,
          0.0010189812953036448,
          0.019518981295303606,
          0.020018981295303773,
          0.01251898129530371,
          0.0025189812953037016,
          0.025018981295303666,
          0.0020189812953037567,
          0.022018981295303774,
          0.04951898129530363,
          0.04201898129530379,
          -0.028481018704696215,
          -0.031981018704696274,
          -0.026481018704696213,
          -0.01598101870469626,
          0.0630189812953037,
          -0.018481018704696428,
          0.00001898129530375492,
          -0.04748101870469634,
          0.010018981295303764,
          0.021518981295303607,
          -0.03248101870469622,
          -0.007481018704696307,
          0.016518981295303714,
          -0.013481018704696313,
          0.00601898129530376,
          -0.0034810187046963037,
          -0.03548101870469633,
          0.03251898129530373,
          0.01901898129530366,
          0.01801898129530377,
          0.02551898129530361,
          0.04651898129530374,
          0.004518981295303703,
          0.06551898129530365,
          -0.013981018704696258,
          -0.028981018704696382,
          0.0005189812953036999,
          -0.033981018704696275,
          -0.006481018704696417,
          -0.02798101870469627,
          0.010518981295303709,
          -0.038481018704696224,
          -0.037481018704696334,
          0.014018981295303767,
          -0.06648101870469625,
          -0.008981018704696364,
          -0.0054810187046963055,
          0.026018981295303778,
          -0.003981018704696249,
          -0.00048101870469641206,
          -0.019981018704696263,
          -0.010481018704696421,
          -0.03248101870469622,
          0.06151898129530364,
          -0.007481018704696307,
          0.02351898129530361,
          0.00001898129530375492,
          -0.017481018704696316,
          -0.019981018704696263,
          -0.042981018704696394,
          0.0040189812953037585,
          0.03551898129530362,
          0.027518981295303613,
          0.008018981295303762,
          -0.03348101870469633,
          -0.007481018704696307,
          0.021518981295303607,
          -0.0639810187046963,
          0.004518981295303703,
          -0.05448101870469624,
          -0.03548101870469633,
          -0.019981018704696263,
          0.03451898129530373,
          -0.030481018704696217,
          0.04551898129530363,
          0.0035189812953035915,
          0.008518981295303707,
          -0.0529810187046964,
          -0.01798101870469626,
          -0.01598101870469626,
          -0.00848101870469642,
          -0.009981018704696254,
          -0.01698101870469637,
          -0.06298101870469641,
          0.0005189812953036999,
          -0.01698101870469637,
          -0.06998101870469631,
          0.050518981295303744,
          0.031518981295303616,
          0.02551898129530361,
          0.017518981295303604,
          0.06051898129530375,
          0.04201898129530379,
          -0.02348101870469632,
          0.0020189812953037567,
          0.02351898129530361,
          0.040518981295303735,
          0.05501898129530369,
          0.031518981295303616,
          -0.03998101870469628,
          -0.013481018704696313,
          -0.009981018704696254,
          -0.00598101870469625,
          0.007518981295303595,
          -0.029481018704696327,
          -0.007981018704696252,
          -0.004481018704696416,
          -0.009981018704696254,
          0.017518981295303604,
          -0.05898101870469641,
          -0.03648101870469622,
          0.030518981295303726,
          -0.025481018704696323,
          -0.000981018704696357,
          0.012018981295303766,
          -0.03998101870469628,
          0.03351898129530362,
          -0.03248101870469622,
          0.07301898129530371,
          -0.01798101870469626,
          0.01251898129530371,
          -0.010981018704696366,
          -0.01798101870469626,
          -0.010481018704696421,
          0.009018981295303652,
          -0.05898101870469641,
          -0.06048101870469624,
          -0.000981018704696357,
          -0.007481018704696307,
          -0.02348101870469632,
          0.007518981295303595,
          0.020018981295303773,
          0.02901898129530367,
          -0.044981018704696396,
          -0.016481018704696426,
          0.020018981295303773,
          -0.04248101870469623,
          -0.001981018704696247,
          0.050518981295303744,
          -0.0054810187046963055,
          0.03101898129530367,
          0.00601898129530376,
          0.01601898129530377,
          -0.02348101870469632,
          0.02251898129530372,
          -0.006481018704696417,
          0.010518981295303709,
          0.01901898129530366,
          -0.00848101870469642,
          0.014518981295303712,
          0.009018981295303652,
          0.025018981295303666,
          -0.0489810187046964,
          0.02351898129530361,
          0.014518981295303712,
          0.012018981295303766,
          -0.016481018704696426,
          0.009018981295303652,
          0.06251898129530375,
          0.018518981295303716,
          -0.04848101870469623,
          0.0015189812953035897,
          0.07501898129530371,
          0.010518981295303709,
          0.021018981295303663,
          0.04851898129530374,
          0.013018981295303655,
          0.04651898129530374,
          0.04901898129530369,
          -0.016481018704696426,
          -0.01698101870469637,
          0.018518981295303716,
          0.046018981295303574,
          0.04001898129530379,
          0.04851898129530374,
          0.05001898129530358,
          0.03551898129530362,
          -0.07798101870469631,
          -0.037481018704696334,
          -0.015481018704696314,
          0.02351898129530361,
          -0.031981018704696274,
          0.01701898129530366,
          0.03801898129530379,
          -0.02148101870469632,
          -0.04348101870469634,
          -0.05748101870469635,
          -0.008981018704696364,
          -0.01498101870469637,
          -0.000981018704696357,
          0.015518981295303602,
          -0.03648101870469622,
          0.035018981295303675,
          0.010018981295303764,
          -0.03548101870469633,
          -0.0029810187046963588,
          0.004518981295303703,
          0.012018981295303766,
          -0.009981018704696254,
          -0.008981018704696364,
          -0.008981018704696364,
          -0.00598101870469625,
          -0.044981018704696396,
          -0.040481018704696226,
          0.04901898129530369,
          0.040518981295303735,
          0.060018981295303586,
          -0.020481018704696208,
          -0.0029810187046963588,
          0.048018981295303576,
          -0.019981018704696263,
          0.05651898129530375,
          0.0010189812953036448,
          0.012018981295303766,
          -0.011981018704696256,
          -0.029481018704696327,
          0.019518981295303606,
          -0.0509810187046964,
          -0.010481018704696421,
          0.01701898129530366,
          -0.028981018704696382,
          0.019518981295303606,
          -0.01498101870469637,
          0.0135189812953036,
          0.011518981295303599,
          0.008018981295303762,
          0.00001898129530375492,
          0.009018981295303652,
          0.027018981295303668,
          0.040518981295303735,
          -0.00048101870469641206,
          0.005518981295303593,
          0.01701898129530366,
          -0.04748101870469634,
          -0.00848101870469642,
          -0.01798101870469626,
          -0.04798101870469629,
          -0.042981018704696394,
          0.008018981295303762,
          0.023018981295303664,
          -0.0034810187046963037,
          -0.039481018704696336,
          0.019518981295303606,
          0.024018981295303776,
          -0.02698101870469638,
          -0.030981018704696384,
          -0.008981018704696364,
          -0.001481018704696302,
          -0.03348101870469633,
          0.0005189812953036999,
          -0.013981018704696258,
          0.03001898129530378,
          -0.020981018704696375,
          -0.0599810187046963,
          -0.0049810187046963605,
          -0.0509810187046964,
          0.005518981295303593,
          0.0040189812953037585,
          -0.010981018704696366,
          0.015018981295303657,
          0.011518981295303599,
          -0.008981018704696364,
          0.01601898129530377,
          -0.02148101870469632,
          -0.01798101870469626,
          0.020018981295303773,
          0.030518981295303726,
          -0.04248101870469623,
          -0.018981018704696373,
          0.008018981295303762,
          0.008518981295303707,
          -0.052481018704696236,
          0.015018981295303657,
          -0.0509810187046964,
          -0.0529810187046964,
          0.0030189812953036466,
          0.020018981295303773,
          -0.001981018704696247,
          0.020018981295303773,
          0.008018981295303762,
          -0.06298101870469641,
          0.02451898129530372,
          0.0005189812953036999,
          -0.025981018704696268,
          0.01701898129530366,
          0.006518981295303705,
          0.06601898129530359,
          -0.007481018704696307,
          0.011518981295303599,
          -0.05948101870469635,
          0.01901898129530366,
          -0.00048101870469641206,
          -0.0049810187046963605,
          0.020518981295303718,
          0.040518981295303735,
          0.018518981295303716,
          0.053518981295303636,
          -0.013481018704696313,
          0.010518981295303709,
          0.04201898129530379,
          -0.05348101870469635,
          -0.003981018704696249,
          -0.02798101870469627,
          0.041518981295303625,
          0.02551898129530361,
          0.00601898129530376,
          -0.000981018704696357,
          0.03751898129530362,
          -0.0029810187046963588,
          0.005018981295303648,
          0.009018981295303652,
          -0.030481018704696217,
          -0.06098101870469641,
          0.03751898129530362,
          -0.015481018704696314,
          0.03351898129530362,
          -0.007981018704696252,
          0.014518981295303712,
          0.0015189812953035897,
          -0.001481018704696302,
          0.048018981295303576,
          0.00601898129530376,
          -0.033981018704696275,
          0.011018981295303654,
          -0.020481018704696208,
          -0.03798101870469628,
          0.04001898129530379,
          -0.019981018704696263,
          0.05301898129530369,
          -0.0054810187046963055,
          -0.000981018704696357,
          -0.013981018704696258,
          -0.030981018704696384,
          0.04201898129530379,
          -0.031981018704696274,
          0.08101898129530372,
          -0.011981018704696256,
          -0.013981018704696258,
          0.04201898129530379,
          -0.003981018704696249,
          -0.025981018704696268,
          0.01901898129530366,
          0.03451898129530373,
          0.01251898129530371,
          0.0030189812953036466,
          0.0030189812953036466,
          -0.000981018704696357,
          -0.02798101870469627,
          -0.01798101870469626,
          0.02351898129530361,
          0.04451898129530374,
          0.005518981295303593,
          0.007518981295303595,
          0.0005189812953036999,
          -0.015481018704696314,
          -0.013481018704696313,
          0.009018981295303652,
          0.03551898129530362,
          -0.007981018704696252,
          0.0780189812953036,
          0.012018981295303766,
          0.034018981295303785,
          0.00701898129530365,
          -0.011981018704696256,
          -0.039481018704696336,
          0.0135189812953036,
          0.03301898129530367,
          0.008518981295303707,
          0.00001898129530375492,
          0.010518981295303709,
          -0.0049810187046963605,
          0.029518981295303615,
          0.006518981295303705,
          0.02451898129530372,
          0.00601898129530376,
          0.04251898129530374,
          0.02901898129530367,
          0.019518981295303606,
          -0.02148101870469632,
          -0.02248101870469621,
          -0.0029810187046963588,
          0.0010189812953036448,
          0.00601898129530376,
          0.05101898129530369,
          0.008018981295303762,
          0.021018981295303663,
          0.027518981295303613,
          -0.03598101870469628,
          -0.027481018704696325,
          -0.001981018704696247,
          0.007518981295303595,
          0.03101898129530367,
          0.027518981295303613,
          -0.0029810187046963588,
          0.026018981295303778,
          0.015518981295303602,
          0.03751898129530362
         ],
         "xaxis": "x6",
         "xbins": {
          "size": 0.005
         },
         "yaxis": "y6"
        }
       ],
       "layout": {
        "annotations": [
         {
          "showarrow": false,
          "text": "Avg",
          "x": -0.004031018704696354,
          "xanchor": "left",
          "xref": "x",
          "y": 1,
          "yanchor": "top",
          "yref": "y domain"
         },
         {
          "showarrow": false,
          "text": "Theoretical",
          "x": 0,
          "xanchor": "right",
          "xref": "x",
          "y": 1,
          "yanchor": "top",
          "yref": "y domain"
         },
         {
          "showarrow": false,
          "text": "Avg",
          "x": -0.001541018704696251,
          "xanchor": "left",
          "xref": "x2",
          "y": 1,
          "yanchor": "top",
          "yref": "y2 domain"
         },
         {
          "showarrow": false,
          "text": "Theoretical",
          "x": 0,
          "xanchor": "right",
          "xref": "x2",
          "y": 1,
          "yanchor": "top",
          "yref": "y2 domain"
         },
         {
          "showarrow": false,
          "text": "Avg",
          "x": 0.0006039812953038126,
          "xanchor": "left",
          "xref": "x3",
          "y": 1,
          "yanchor": "top",
          "yref": "y3 domain"
         },
         {
          "showarrow": false,
          "text": "Theoretical",
          "x": 0,
          "xanchor": "right",
          "xref": "x3",
          "y": 1,
          "yanchor": "top",
          "yref": "y3 domain"
         },
         {
          "showarrow": false,
          "text": "Avg",
          "x": -0.0003885187046963612,
          "xanchor": "left",
          "xref": "x4",
          "y": 1,
          "yanchor": "top",
          "yref": "y4 domain"
         },
         {
          "showarrow": false,
          "text": "Theoretical",
          "x": 0,
          "xanchor": "right",
          "xref": "x4",
          "y": 1,
          "yanchor": "top",
          "yref": "y4 domain"
         },
         {
          "showarrow": false,
          "text": "Avg",
          "x": 0.0006056479619702682,
          "xanchor": "left",
          "xref": "x5",
          "y": 1,
          "yanchor": "top",
          "yref": "y5 domain"
         },
         {
          "showarrow": false,
          "text": "Theoretical",
          "x": 0,
          "xanchor": "right",
          "xref": "x5",
          "y": 1,
          "yanchor": "top",
          "yref": "y5 domain"
         },
         {
          "showarrow": false,
          "text": "Avg",
          "x": 0.00156598129530372,
          "xanchor": "left",
          "xref": "x6",
          "y": 1,
          "yanchor": "top",
          "yref": "y6 domain"
         },
         {
          "showarrow": false,
          "text": "Theoretical",
          "x": 0,
          "xanchor": "right",
          "xref": "x6",
          "y": 1,
          "yanchor": "top",
          "yref": "y6 domain"
         }
        ],
        "height": 1800,
        "shapes": [
         {
          "line": {
           "color": "blue",
           "dash": "dash"
          },
          "type": "line",
          "x0": -0.004031018704696354,
          "x1": -0.004031018704696354,
          "xref": "x",
          "y0": 0,
          "y1": 1,
          "yref": "y domain"
         },
         {
          "line": {
           "color": "red",
           "dash": "dash"
          },
          "type": "line",
          "x0": 0,
          "x1": 0,
          "xref": "x",
          "y0": 0,
          "y1": 1,
          "yref": "y domain"
         },
         {
          "line": {
           "color": "blue",
           "dash": "dash"
          },
          "type": "line",
          "x0": -0.001541018704696251,
          "x1": -0.001541018704696251,
          "xref": "x2",
          "y0": 0,
          "y1": 1,
          "yref": "y2 domain"
         },
         {
          "line": {
           "color": "red",
           "dash": "dash"
          },
          "type": "line",
          "x0": 0,
          "x1": 0,
          "xref": "x2",
          "y0": 0,
          "y1": 1,
          "yref": "y2 domain"
         },
         {
          "line": {
           "color": "blue",
           "dash": "dash"
          },
          "type": "line",
          "x0": 0.0006039812953038126,
          "x1": 0.0006039812953038126,
          "xref": "x3",
          "y0": 0,
          "y1": 1,
          "yref": "y3 domain"
         },
         {
          "line": {
           "color": "red",
           "dash": "dash"
          },
          "type": "line",
          "x0": 0,
          "x1": 0,
          "xref": "x3",
          "y0": 0,
          "y1": 1,
          "yref": "y3 domain"
         },
         {
          "line": {
           "color": "blue",
           "dash": "dash"
          },
          "type": "line",
          "x0": -0.0003885187046963612,
          "x1": -0.0003885187046963612,
          "xref": "x4",
          "y0": 0,
          "y1": 1,
          "yref": "y4 domain"
         },
         {
          "line": {
           "color": "red",
           "dash": "dash"
          },
          "type": "line",
          "x0": 0,
          "x1": 0,
          "xref": "x4",
          "y0": 0,
          "y1": 1,
          "yref": "y4 domain"
         },
         {
          "line": {
           "color": "blue",
           "dash": "dash"
          },
          "type": "line",
          "x0": 0.0006056479619702682,
          "x1": 0.0006056479619702682,
          "xref": "x5",
          "y0": 0,
          "y1": 1,
          "yref": "y5 domain"
         },
         {
          "line": {
           "color": "red",
           "dash": "dash"
          },
          "type": "line",
          "x0": 0,
          "x1": 0,
          "xref": "x5",
          "y0": 0,
          "y1": 1,
          "yref": "y5 domain"
         },
         {
          "line": {
           "color": "blue",
           "dash": "dash"
          },
          "type": "line",
          "x0": 0.00156598129530372,
          "x1": 0.00156598129530372,
          "xref": "x6",
          "y0": 0,
          "y1": 1,
          "yref": "y6 domain"
         },
         {
          "line": {
           "color": "red",
           "dash": "dash"
          },
          "type": "line",
          "x0": 0,
          "x1": 0,
          "xref": "x6",
          "y0": 0,
          "y1": 1,
          "yref": "y6 domain"
         }
        ],
        "showlegend": false,
        "template": {
         "data": {
          "bar": [
           {
            "error_x": {
             "color": "#2a3f5f"
            },
            "error_y": {
             "color": "#2a3f5f"
            },
            "marker": {
             "line": {
              "color": "#E5ECF6",
              "width": 0.5
             },
             "pattern": {
              "fillmode": "overlay",
              "size": 10,
              "solidity": 0.2
             }
            },
            "type": "bar"
           }
          ],
          "barpolar": [
           {
            "marker": {
             "line": {
              "color": "#E5ECF6",
              "width": 0.5
             },
             "pattern": {
              "fillmode": "overlay",
              "size": 10,
              "solidity": 0.2
             }
            },
            "type": "barpolar"
           }
          ],
          "carpet": [
           {
            "aaxis": {
             "endlinecolor": "#2a3f5f",
             "gridcolor": "white",
             "linecolor": "white",
             "minorgridcolor": "white",
             "startlinecolor": "#2a3f5f"
            },
            "baxis": {
             "endlinecolor": "#2a3f5f",
             "gridcolor": "white",
             "linecolor": "white",
             "minorgridcolor": "white",
             "startlinecolor": "#2a3f5f"
            },
            "type": "carpet"
           }
          ],
          "choropleth": [
           {
            "colorbar": {
             "outlinewidth": 0,
             "ticks": ""
            },
            "type": "choropleth"
           }
          ],
          "contour": [
           {
            "colorbar": {
             "outlinewidth": 0,
             "ticks": ""
            },
            "colorscale": [
             [
              0,
              "#0d0887"
             ],
             [
              0.1111111111111111,
              "#46039f"
             ],
             [
              0.2222222222222222,
              "#7201a8"
             ],
             [
              0.3333333333333333,
              "#9c179e"
             ],
             [
              0.4444444444444444,
              "#bd3786"
             ],
             [
              0.5555555555555556,
              "#d8576b"
             ],
             [
              0.6666666666666666,
              "#ed7953"
             ],
             [
              0.7777777777777778,
              "#fb9f3a"
             ],
             [
              0.8888888888888888,
              "#fdca26"
             ],
             [
              1,
              "#f0f921"
             ]
            ],
            "type": "contour"
           }
          ],
          "contourcarpet": [
           {
            "colorbar": {
             "outlinewidth": 0,
             "ticks": ""
            },
            "type": "contourcarpet"
           }
          ],
          "heatmap": [
           {
            "colorbar": {
             "outlinewidth": 0,
             "ticks": ""
            },
            "colorscale": [
             [
              0,
              "#0d0887"
             ],
             [
              0.1111111111111111,
              "#46039f"
             ],
             [
              0.2222222222222222,
              "#7201a8"
             ],
             [
              0.3333333333333333,
              "#9c179e"
             ],
             [
              0.4444444444444444,
              "#bd3786"
             ],
             [
              0.5555555555555556,
              "#d8576b"
             ],
             [
              0.6666666666666666,
              "#ed7953"
             ],
             [
              0.7777777777777778,
              "#fb9f3a"
             ],
             [
              0.8888888888888888,
              "#fdca26"
             ],
             [
              1,
              "#f0f921"
             ]
            ],
            "type": "heatmap"
           }
          ],
          "heatmapgl": [
           {
            "colorbar": {
             "outlinewidth": 0,
             "ticks": ""
            },
            "colorscale": [
             [
              0,
              "#0d0887"
             ],
             [
              0.1111111111111111,
              "#46039f"
             ],
             [
              0.2222222222222222,
              "#7201a8"
             ],
             [
              0.3333333333333333,
              "#9c179e"
             ],
             [
              0.4444444444444444,
              "#bd3786"
             ],
             [
              0.5555555555555556,
              "#d8576b"
             ],
             [
              0.6666666666666666,
              "#ed7953"
             ],
             [
              0.7777777777777778,
              "#fb9f3a"
             ],
             [
              0.8888888888888888,
              "#fdca26"
             ],
             [
              1,
              "#f0f921"
             ]
            ],
            "type": "heatmapgl"
           }
          ],
          "histogram": [
           {
            "marker": {
             "pattern": {
              "fillmode": "overlay",
              "size": 10,
              "solidity": 0.2
             }
            },
            "type": "histogram"
           }
          ],
          "histogram2d": [
           {
            "colorbar": {
             "outlinewidth": 0,
             "ticks": ""
            },
            "colorscale": [
             [
              0,
              "#0d0887"
             ],
             [
              0.1111111111111111,
              "#46039f"
             ],
             [
              0.2222222222222222,
              "#7201a8"
             ],
             [
              0.3333333333333333,
              "#9c179e"
             ],
             [
              0.4444444444444444,
              "#bd3786"
             ],
             [
              0.5555555555555556,
              "#d8576b"
             ],
             [
              0.6666666666666666,
              "#ed7953"
             ],
             [
              0.7777777777777778,
              "#fb9f3a"
             ],
             [
              0.8888888888888888,
              "#fdca26"
             ],
             [
              1,
              "#f0f921"
             ]
            ],
            "type": "histogram2d"
           }
          ],
          "histogram2dcontour": [
           {
            "colorbar": {
             "outlinewidth": 0,
             "ticks": ""
            },
            "colorscale": [
             [
              0,
              "#0d0887"
             ],
             [
              0.1111111111111111,
              "#46039f"
             ],
             [
              0.2222222222222222,
              "#7201a8"
             ],
             [
              0.3333333333333333,
              "#9c179e"
             ],
             [
              0.4444444444444444,
              "#bd3786"
             ],
             [
              0.5555555555555556,
              "#d8576b"
             ],
             [
              0.6666666666666666,
              "#ed7953"
             ],
             [
              0.7777777777777778,
              "#fb9f3a"
             ],
             [
              0.8888888888888888,
              "#fdca26"
             ],
             [
              1,
              "#f0f921"
             ]
            ],
            "type": "histogram2dcontour"
           }
          ],
          "mesh3d": [
           {
            "colorbar": {
             "outlinewidth": 0,
             "ticks": ""
            },
            "type": "mesh3d"
           }
          ],
          "parcoords": [
           {
            "line": {
             "colorbar": {
              "outlinewidth": 0,
              "ticks": ""
             }
            },
            "type": "parcoords"
           }
          ],
          "pie": [
           {
            "automargin": true,
            "type": "pie"
           }
          ],
          "scatter": [
           {
            "fillpattern": {
             "fillmode": "overlay",
             "size": 10,
             "solidity": 0.2
            },
            "type": "scatter"
           }
          ],
          "scatter3d": [
           {
            "line": {
             "colorbar": {
              "outlinewidth": 0,
              "ticks": ""
             }
            },
            "marker": {
             "colorbar": {
              "outlinewidth": 0,
              "ticks": ""
             }
            },
            "type": "scatter3d"
           }
          ],
          "scattercarpet": [
           {
            "marker": {
             "colorbar": {
              "outlinewidth": 0,
              "ticks": ""
             }
            },
            "type": "scattercarpet"
           }
          ],
          "scattergeo": [
           {
            "marker": {
             "colorbar": {
              "outlinewidth": 0,
              "ticks": ""
             }
            },
            "type": "scattergeo"
           }
          ],
          "scattergl": [
           {
            "marker": {
             "colorbar": {
              "outlinewidth": 0,
              "ticks": ""
             }
            },
            "type": "scattergl"
           }
          ],
          "scattermapbox": [
           {
            "marker": {
             "colorbar": {
              "outlinewidth": 0,
              "ticks": ""
             }
            },
            "type": "scattermapbox"
           }
          ],
          "scatterpolar": [
           {
            "marker": {
             "colorbar": {
              "outlinewidth": 0,
              "ticks": ""
             }
            },
            "type": "scatterpolar"
           }
          ],
          "scatterpolargl": [
           {
            "marker": {
             "colorbar": {
              "outlinewidth": 0,
              "ticks": ""
             }
            },
            "type": "scatterpolargl"
           }
          ],
          "scatterternary": [
           {
            "marker": {
             "colorbar": {
              "outlinewidth": 0,
              "ticks": ""
             }
            },
            "type": "scatterternary"
           }
          ],
          "surface": [
           {
            "colorbar": {
             "outlinewidth": 0,
             "ticks": ""
            },
            "colorscale": [
             [
              0,
              "#0d0887"
             ],
             [
              0.1111111111111111,
              "#46039f"
             ],
             [
              0.2222222222222222,
              "#7201a8"
             ],
             [
              0.3333333333333333,
              "#9c179e"
             ],
             [
              0.4444444444444444,
              "#bd3786"
             ],
             [
              0.5555555555555556,
              "#d8576b"
             ],
             [
              0.6666666666666666,
              "#ed7953"
             ],
             [
              0.7777777777777778,
              "#fb9f3a"
             ],
             [
              0.8888888888888888,
              "#fdca26"
             ],
             [
              1,
              "#f0f921"
             ]
            ],
            "type": "surface"
           }
          ],
          "table": [
           {
            "cells": {
             "fill": {
              "color": "#EBF0F8"
             },
             "line": {
              "color": "white"
             }
            },
            "header": {
             "fill": {
              "color": "#C8D4E3"
             },
             "line": {
              "color": "white"
             }
            },
            "type": "table"
           }
          ]
         },
         "layout": {
          "annotationdefaults": {
           "arrowcolor": "#2a3f5f",
           "arrowhead": 0,
           "arrowwidth": 1
          },
          "autotypenumbers": "strict",
          "coloraxis": {
           "colorbar": {
            "outlinewidth": 0,
            "ticks": ""
           }
          },
          "colorscale": {
           "diverging": [
            [
             0,
             "#8e0152"
            ],
            [
             0.1,
             "#c51b7d"
            ],
            [
             0.2,
             "#de77ae"
            ],
            [
             0.3,
             "#f1b6da"
            ],
            [
             0.4,
             "#fde0ef"
            ],
            [
             0.5,
             "#f7f7f7"
            ],
            [
             0.6,
             "#e6f5d0"
            ],
            [
             0.7,
             "#b8e186"
            ],
            [
             0.8,
             "#7fbc41"
            ],
            [
             0.9,
             "#4d9221"
            ],
            [
             1,
             "#276419"
            ]
           ],
           "sequential": [
            [
             0,
             "#0d0887"
            ],
            [
             0.1111111111111111,
             "#46039f"
            ],
            [
             0.2222222222222222,
             "#7201a8"
            ],
            [
             0.3333333333333333,
             "#9c179e"
            ],
            [
             0.4444444444444444,
             "#bd3786"
            ],
            [
             0.5555555555555556,
             "#d8576b"
            ],
            [
             0.6666666666666666,
             "#ed7953"
            ],
            [
             0.7777777777777778,
             "#fb9f3a"
            ],
            [
             0.8888888888888888,
             "#fdca26"
            ],
            [
             1,
             "#f0f921"
            ]
           ],
           "sequentialminus": [
            [
             0,
             "#0d0887"
            ],
            [
             0.1111111111111111,
             "#46039f"
            ],
            [
             0.2222222222222222,
             "#7201a8"
            ],
            [
             0.3333333333333333,
             "#9c179e"
            ],
            [
             0.4444444444444444,
             "#bd3786"
            ],
            [
             0.5555555555555556,
             "#d8576b"
            ],
            [
             0.6666666666666666,
             "#ed7953"
            ],
            [
             0.7777777777777778,
             "#fb9f3a"
            ],
            [
             0.8888888888888888,
             "#fdca26"
            ],
            [
             1,
             "#f0f921"
            ]
           ]
          },
          "colorway": [
           "#636efa",
           "#EF553B",
           "#00cc96",
           "#ab63fa",
           "#FFA15A",
           "#19d3f3",
           "#FF6692",
           "#B6E880",
           "#FF97FF",
           "#FECB52"
          ],
          "font": {
           "color": "#2a3f5f"
          },
          "geo": {
           "bgcolor": "white",
           "lakecolor": "white",
           "landcolor": "#E5ECF6",
           "showlakes": true,
           "showland": true,
           "subunitcolor": "white"
          },
          "hoverlabel": {
           "align": "left"
          },
          "hovermode": "closest",
          "mapbox": {
           "style": "light"
          },
          "paper_bgcolor": "white",
          "plot_bgcolor": "#E5ECF6",
          "polar": {
           "angularaxis": {
            "gridcolor": "white",
            "linecolor": "white",
            "ticks": ""
           },
           "bgcolor": "#E5ECF6",
           "radialaxis": {
            "gridcolor": "white",
            "linecolor": "white",
            "ticks": ""
           }
          },
          "scene": {
           "xaxis": {
            "backgroundcolor": "#E5ECF6",
            "gridcolor": "white",
            "gridwidth": 2,
            "linecolor": "white",
            "showbackground": true,
            "ticks": "",
            "zerolinecolor": "white"
           },
           "yaxis": {
            "backgroundcolor": "#E5ECF6",
            "gridcolor": "white",
            "gridwidth": 2,
            "linecolor": "white",
            "showbackground": true,
            "ticks": "",
            "zerolinecolor": "white"
           },
           "zaxis": {
            "backgroundcolor": "#E5ECF6",
            "gridcolor": "white",
            "gridwidth": 2,
            "linecolor": "white",
            "showbackground": true,
            "ticks": "",
            "zerolinecolor": "white"
           }
          },
          "shapedefaults": {
           "line": {
            "color": "#2a3f5f"
           }
          },
          "ternary": {
           "aaxis": {
            "gridcolor": "white",
            "linecolor": "white",
            "ticks": ""
           },
           "baxis": {
            "gridcolor": "white",
            "linecolor": "white",
            "ticks": ""
           },
           "bgcolor": "#E5ECF6",
           "caxis": {
            "gridcolor": "white",
            "linecolor": "white",
            "ticks": ""
           }
          },
          "title": {
           "x": 0.05
          },
          "xaxis": {
           "automargin": true,
           "gridcolor": "white",
           "linecolor": "white",
           "ticks": "",
           "title": {
            "standoff": 15
           },
           "zerolinecolor": "white",
           "zerolinewidth": 2
          },
          "yaxis": {
           "automargin": true,
           "gridcolor": "white",
           "linecolor": "white",
           "ticks": "",
           "title": {
            "standoff": 15
           },
           "zerolinecolor": "white",
           "zerolinewidth": 2
          }
         }
        },
        "title": {
         "text": "Histograms of Ns per Site with Average and Theoretical Values"
        },
        "width": 800,
        "xaxis": {
         "anchor": "y",
         "domain": [
          0,
          1
         ],
         "range": [
          -0.15,
          0.15
         ]
        },
        "xaxis2": {
         "anchor": "y2",
         "domain": [
          0,
          1
         ],
         "range": [
          -0.15,
          0.15
         ]
        },
        "xaxis3": {
         "anchor": "y3",
         "domain": [
          0,
          1
         ],
         "range": [
          -0.15,
          0.15
         ]
        },
        "xaxis4": {
         "anchor": "y4",
         "domain": [
          0,
          1
         ],
         "range": [
          -0.15,
          0.15
         ]
        },
        "xaxis5": {
         "anchor": "y5",
         "domain": [
          0,
          1
         ],
         "range": [
          -0.15,
          0.15
         ]
        },
        "xaxis6": {
         "anchor": "y6",
         "domain": [
          0,
          1
         ],
         "range": [
          -0.15,
          0.15
         ]
        },
        "yaxis": {
         "anchor": "x",
         "domain": [
          0.875,
          1
         ]
        },
        "yaxis2": {
         "anchor": "x2",
         "domain": [
          0.7,
          0.825
         ]
        },
        "yaxis3": {
         "anchor": "x3",
         "domain": [
          0.525,
          0.65
         ]
        },
        "yaxis4": {
         "anchor": "x4",
         "domain": [
          0.35,
          0.475
         ]
        },
        "yaxis5": {
         "anchor": "x5",
         "domain": [
          0.175,
          0.3
         ]
        },
        "yaxis6": {
         "anchor": "x6",
         "domain": [
          0,
          0.125
         ]
        }
       }
      }
     },
     "metadata": {},
     "output_type": "display_data"
    }
   ],
   "source": [
    "fig = plot_ns_per_site_histograms(error_ns_dict_repeat_3)\n",
    "fig.update_xaxes(range=[-0.15, 0.15])\n",
    "fig.show()"
   ]
  },
  {
   "cell_type": "code",
   "execution_count": 52,
   "metadata": {},
   "outputs": [],
   "source": [
    "data_10 = repeat_data['10']['ns_per_site_list']\n",
    "data_50 = repeat_data['50']['ns_per_site_list']\n",
    "data_100 = repeat_data['100']['ns_per_site_list']\n",
    "data_200 = repeat_data['200']['ns_per_site_list']\n",
    "data_300 = repeat_data['300']['ns_per_site_list']\n",
    "data_500 = repeat_data['500']['ns_per_site_list']\n",
    "\n"
   ]
  },
  {
   "cell_type": "code",
   "execution_count": 53,
   "metadata": {},
   "outputs": [
    {
     "name": "stdout",
     "output_type": "stream",
     "text": [
      "K-S Statistic: 0.10819697915608428\n",
      "P-Value: 0.17870097661028753\n",
      "Fail to reject the null hypothesis - The sample follows the normal distribution.\n"
     ]
    }
   ],
   "source": [
    "import numpy as np\n",
    "from scipy.stats import norm, kstest\n",
    "\n",
    "# Generate a sample from a normal distribution\n",
    "theoretcal = expected_number_subs(pi, Q_matrix, 1)\n",
    "mean = theoretcal\n",
    "variance = theoretcal/2000\n",
    "std_dev = np.sqrt(variance)\n",
    "\n",
    "# Perform the K-S test comparing the data against the theoretical normal CDF\n",
    "ks_statistic, p_value = kstest(data_100, 'norm', args=(mean, std_dev))\n",
    "\n",
    "print(\"K-S Statistic:\", ks_statistic)\n",
    "print(\"P-Value:\", p_value)\n",
    "\n",
    "# Interpret the result\n",
    "if p_value < 0.05:\n",
    "    print(\"Reject the null hypothesis - The sample does not follow the normal distribution.\")\n",
    "else:\n",
    "    print(\"Fail to reject the null hypothesis - The sample follows the normal distribution.\")\n"
   ]
  },
  {
   "cell_type": "code",
   "execution_count": 54,
   "metadata": {},
   "outputs": [
    {
     "name": "stdout",
     "output_type": "stream",
     "text": [
      "K-S Statistic: 0.10819697915608428\n",
      "P-Value: 0.17870097661028753\n",
      "Fail to reject the null hypothesis - The sample follows the normal distribution.\n"
     ]
    }
   ],
   "source": [
    "import numpy as np\n",
    "from scipy.stats import norm, kstest\n",
    "\n",
    "# Generate a sample from a normal distribution\n",
    "theoretcal = expected_number_subs(pi, Q_matrix, 1)\n",
    "mean = theoretcal\n",
    "variance = theoretcal/2000\n",
    "std_dev = np.sqrt(variance)\n",
    "\n",
    "# Perform the K-S test comparing the data against the theoretical normal CDF\n",
    "ks_statistic, p_value = kstest(data_100, 'norm', args=(mean, std_dev))\n",
    "\n",
    "print(\"K-S Statistic:\", ks_statistic)\n",
    "print(\"P-Value:\", p_value)\n",
    "\n",
    "# Interpret the result\n",
    "if p_value < 0.05:\n",
    "    print(\"Reject the null hypothesis - The sample does not follow the normal distribution.\")\n",
    "else:\n",
    "    print(\"Fail to reject the null hypothesis - The sample follows the normal distribution.\")"
   ]
  },
  {
   "cell_type": "code",
   "execution_count": 55,
   "metadata": {},
   "outputs": [
    {
     "data": {
      "text/plain": [
       "76.832"
      ]
     },
     "execution_count": 55,
     "metadata": {},
     "output_type": "execute_result"
    }
   ],
   "source": [
    "theoretcal = 2\n",
    "mean = theoretcal\n",
    "variance = theoretcal/1000\n",
    "std_dev = np.sqrt(variance)\n",
    "\n",
    "n = np.square(((1.96*std_dev)/0.01))\n",
    "n"
   ]
  },
  {
   "cell_type": "code",
   "execution_count": 56,
   "metadata": {},
   "outputs": [
    {
     "data": {
      "text/plain": [
       "0.044721359549995794"
      ]
     },
     "execution_count": 56,
     "metadata": {},
     "output_type": "execute_result"
    }
   ],
   "source": [
    "std_dev"
   ]
  },
  {
   "cell_type": "markdown",
   "metadata": {},
   "source": [
    "## Changing Q and pi\n"
   ]
  },
  {
   "cell_type": "code",
   "execution_count": 57,
   "metadata": {},
   "outputs": [],
   "source": [
    "paths_Q = find_json_files(directory, 'WTS_Q(*).json')\n",
    "result_Q_dict = {}\n",
    "for i in range(len(paths_Q)):\n",
    "    with open(paths_Q[i], 'r') as file:\n",
    "        ns_result_Q = json.load(file)\n",
    "    result_Q_dict[i] = ns_result_Q\n",
    "\n",
    "error_Q_dict = {}\n",
    "p_value_Q_dict = {}\n",
    "for repeat, value in result_Q_dict.items():\n",
    "    error_Q_dict[repeat] = {}\n",
    "    p_value_Q_dict[repeat] = {}\n",
    "    for Q, data in value.items():\n",
    "        error_Q_dict[repeat][Q] = data['error']\n",
    "        p_value_Q_dict[repeat][Q] = data['p_value']"
   ]
  },
  {
   "cell_type": "code",
   "execution_count": 58,
   "metadata": {},
   "outputs": [],
   "source": [
    "paths_pi = find_json_files(directory, 'WTS_pi(*).json')\n",
    "result_pi_dict = {}\n",
    "for i in range(len(paths_pi)):\n",
    "    with open(paths_pi[i], 'r') as file:\n",
    "        ns_result_pi = json.load(file)\n",
    "    result_pi_dict[i] = ns_result_pi\n",
    "\n",
    "error_pi_dict = {}\n",
    "p_value_pi_dict = {}\n",
    "for repeat, value in result_pi_dict.items():\n",
    "    error_pi_dict[repeat] = {}\n",
    "    p_value_pi_dict[repeat] = {}\n",
    "    for pi, data in value.items():\n",
    "        error_pi_dict[repeat][pi] = data['error']\n",
    "        p_value_pi_dict[repeat][pi] = data['p_value']\n"
   ]
  },
  {
   "cell_type": "markdown",
   "metadata": {},
   "source": [
    "## Stability test ANOVA"
   ]
  },
  {
   "cell_type": "code",
   "execution_count": 59,
   "metadata": {},
   "outputs": [],
   "source": [
    "ns_result_length_time1 = {'1000': result_time_1000_dict[0]['ns_result_time']['1000'], '2000': result_time_2000_dict[0]['ns_result_time']['2000'], '3000': result_time_3000_dict[0]['ns_result_time']['3000']}\n",
    "ns_result_time = {'0': result_time_1000_dict[0]['ns_result_time']['1000'], '1': result_time_1000_dict[1]['ns_result_time']['1000'], '2': result_time_1000_dict[2]['ns_result_time']['1000']}\n",
    "ns_result_length_time2 = {'1000': result_time_1000_dict[1]['ns_result_time']['1000'], '2000': result_time_2000_dict[1]['ns_result_time']['2000'], '3000': result_time_3000_dict[1]['ns_result_time']['3000']}\n",
    "ns_result_length_time3 = {'1000': result_time_1000_dict[2]['ns_result_time']['1000'], '2000': result_time_2000_dict[2]['ns_result_time']['2000'], '3000': result_time_3000_dict[2]['ns_result_time']['3000']}\n"
   ]
  },
  {
   "cell_type": "code",
   "execution_count": 60,
   "metadata": {},
   "outputs": [],
   "source": [
    "time_lenth_cv1 = {}\n",
    "for length, times in ns_result_length_time1.items():\n",
    "    time_lenth_cv1[length] = {}\n",
    "    for time, data in times.items():\n",
    "        ns_per_site_list = data['ns_per_site_list']\n",
    "        avg_ns_per_site = data['avg_ns_per_site']\n",
    "        std_dev = np.std(ns_per_site_list)\n",
    "        cv = std_dev/avg_ns_per_site\n",
    "        time_lenth_cv1[length][time] = cv*100\n",
    "\n",
    "time_lenth_cv2 = {}\n",
    "for length, times in ns_result_length_time2.items():\n",
    "    time_lenth_cv2[length] = {}\n",
    "    for time, data in times.items():\n",
    "        ns_per_site_list = data['ns_per_site_list']\n",
    "        avg_ns_per_site = data['avg_ns_per_site']\n",
    "        std_dev = np.std(ns_per_site_list)\n",
    "        cv = std_dev/avg_ns_per_site\n",
    "        time_lenth_cv2[length][time] = cv*100\n",
    "\n",
    "time_lenth_cv3 = {}\n",
    "for length, times in ns_result_length_time3.items():\n",
    "    time_lenth_cv3[length] = {}\n",
    "    for time, data in times.items():\n",
    "        ns_per_site_list = data['ns_per_site_list']\n",
    "        avg_ns_per_site = data['avg_ns_per_site']\n",
    "        std_dev = np.std(ns_per_site_list)\n",
    "        cv = std_dev/avg_ns_per_site\n",
    "        time_lenth_cv3[length][time] = cv*100\n",
    "\n",
    "time_lenth_cv = {0: time_lenth_cv1, 1: time_lenth_cv2, 2:time_lenth_cv3}\n",
    "\n"
   ]
  },
  {
   "cell_type": "code",
   "execution_count": 61,
   "metadata": {},
   "outputs": [],
   "source": [
    "length_cv = {}\n",
    "for repeat, element in time_lenth_cv.items():\n",
    "    length_cv[repeat] = {}\n",
    "    for length, time in element.items():\n",
    "        length_cv[repeat][length] = element[length][1]"
   ]
  },
  {
   "cell_type": "code",
   "execution_count": 62,
   "metadata": {},
   "outputs": [],
   "source": [
    "time_cv = {}\n",
    "for repeat, times in ns_result_time.items():\n",
    "    time_cv[repeat] = {}\n",
    "    for time, data in times.items():\n",
    "        ns_per_site_list = data['ns_per_site_list']\n",
    "        avg_ns_per_site = data['avg_ns_per_site']\n",
    "        std_dev = np.std(ns_per_site_list)\n",
    "        cv = std_dev/avg_ns_per_site\n",
    "        time_cv[repeat][time] = cv*100"
   ]
  },
  {
   "cell_type": "code",
   "execution_count": 63,
   "metadata": {},
   "outputs": [],
   "source": [
    "Q_cv = {}\n",
    "for repeat, value in result_Q_dict.items():\n",
    "    Q_cv[repeat] = {}\n",
    "    for Q, data in value.items():\n",
    "        Q_cv[repeat][Q] = data['cv']*100\n",
    "\n",
    "pi_cv = {}\n",
    "for repeat, value in result_pi_dict.items():\n",
    "    pi_cv[repeat] = {}\n",
    "    for pi, data in value.items():\n",
    "        pi_cv[repeat][pi] = data['cv']*100\n",
    "\n",
    "time_cv_list = [value for nested_dict in time_cv.values() for value in nested_dict.values()]\n",
    "length_cv_list = [value for nested_dict in length_cv.values() for value in nested_dict.values()]\n",
    "Q_cv_list = [value for nested_dict in Q_cv.values() for value in nested_dict.values()]\n",
    "pi_cv_list = [value for nested_dict in pi_cv.values() for value in nested_dict.values()]\n"
   ]
  },
  {
   "cell_type": "code",
   "execution_count": 64,
   "metadata": {},
   "outputs": [],
   "source": [
    "# import pandas as pd\n",
    "# from scipy import stats\n",
    "# Q_matrix1 = np.array([[-1.75025094,  0.94143256,  0.45306226,  0.35575611],\n",
    "#        [ 0.49505807, -2.27893035,  0.88176788,  0.90210439],\n",
    "#        [ 0.36411798,  0.18070926, -0.91594839,  0.37112115],\n",
    "#        [ 0.77758124,  0.75396143,  0.52505328, -2.05659595]])\n",
    "\n",
    "# Q_matrix2 = np.array([[-0.8913651590062768,\n",
    "#   0.06758713003981928,\n",
    "#   0.26750861021623484,\n",
    "#   0.5562694187502226],\n",
    "#  [0.48766534934241146,\n",
    "#   -1.1914228729789795,\n",
    "#   0.2796236707498311,\n",
    "#   0.42413385288673694],\n",
    "#  [0.48963798725695706,\n",
    "#   0.6855172408178508,\n",
    "#   -1.5509279536481513,\n",
    "#   0.3757727255733433],\n",
    "#  [0.1537313911769212,\n",
    "#   0.7977890102842006,\n",
    "#   0.551525454894267,\n",
    "#   -1.5030458563553888]])\n",
    "\n",
    "# pi1 = [0.35, 0.15, 0.05, 0.45]\n",
    "# pi2 = [0.1, 0.1, 0.1, 0.7]\n",
    "\n",
    "# lengths = [1000, 2000]\n",
    "# times = [0.5, 2]\n",
    "# Q_matrices = [Q_matrix1, Q_matrix2]\n",
    "# pis = [pi1, pi2]\n",
    "# repeat = 100\n",
    "# seeds = range(16)\n",
    "# import itertools\n",
    "# param_combinations = list(itertools.product(lengths, times, Q_matrices, pis))\n",
    "# results = []\n",
    "\n",
    "# # Running simulations for each combination\n",
    "# for i in range(len(param_combinations)):\n",
    "#     length, time, Q, pi = param_combinations[i]\n",
    "#     simulator = SeqSimulate(Q, length, 100, seeds[i], pi)\n",
    "#     ns_per_site, avg_ns_per_site = simulator.average_substitution(max_time=time)\n",
    "#     std = np.std(ns_per_site)\n",
    "#     cv = std / avg_ns_per_site\n",
    "#     theoretical = expected_number_subs(pi, Q, time)\n",
    "#     error_list = [a - theoretical for a in ns_per_site]\n",
    "#     t_stat, p_value = stats.ttest_1samp(ns_per_site, theoretical)\n",
    "\n",
    "#     # Append results\n",
    "#     results.append({\n",
    "#         'Length': length,\n",
    "#         'Time': time,\n",
    "#         'Q': Q,\n",
    "#         'Pi': pi,\n",
    "#         'Seed': seeds[i],\n",
    "#         'Avg_NS_Per_Site': avg_ns_per_site,\n",
    "#         'Theoretical_Value': theoretical,\n",
    "#         'Error': error_list,\n",
    "#         'P_Value': p_value,\n",
    "#         'T_Stat': t_stat,\n",
    "#         'CV': cv,\n",
    "#         'Standard_Deviation': std\n",
    "#     })\n",
    "\n",
    "# # Convert to DataFrame for analysis and reporting\n",
    "# results_df = pd.DataFrame(results)"
   ]
  },
  {
   "cell_type": "code",
   "execution_count": 65,
   "metadata": {},
   "outputs": [],
   "source": [
    "# with open('../../../results/anova_test.json', 'w') as outfile:\n",
    "#     json.dump(result_no_Q_value, outfile, indent=4)"
   ]
  },
  {
   "cell_type": "code",
   "execution_count": 66,
   "metadata": {},
   "outputs": [],
   "source": [
    "with open('../../../results/anova_test.json', 'r') as file:\n",
    "    anova_results = json.load(file)\n",
    "\n",
    "cv = []\n",
    "for element in anova_results:\n",
    "    cv.append(element['CV'])"
   ]
  },
  {
   "cell_type": "code",
   "execution_count": 67,
   "metadata": {},
   "outputs": [],
   "source": [
    "# import pandas as pd\n",
    "# import statsmodels.api as sm\n",
    "# from statsmodels.formula.api import ols\n",
    "# # Example data\n",
    "# data = {\n",
    "#     'CV': cv,\n",
    "#     'Sequence_Length': ['long', 'long', 'long', 'long', 'long', 'long', 'long', 'long', 'short', 'short', 'short', 'short','short', 'short', 'short', 'short'],\n",
    "#     'Simulation_Time': ['short', 'short', 'short',  'short', 'long', 'long', 'long', 'long', 'short', 'short',  'short', 'short', 'long', 'long', 'long', 'long'],\n",
    "#     'Q': ['type1', 'type1', 'type2', 'type2', 'type1', 'type1', 'type2', 'type2', 'type1', 'type1', 'type2', 'type2', 'type1', 'type1', 'type2', 'type2'],\n",
    "#     'Pi': ['dist1', 'dist2', 'dist1', 'dist2', 'dist1', 'dist2', 'dist1', 'dist2','dist1', 'dist2', 'dist1', 'dist2', 'dist1', 'dist2', 'dist1', 'dist2']\n",
    "# }\n",
    "# df = pd.DataFrame(data)\n",
    "\n",
    "# # Fit ANOVA model with interaction terms if needed\n",
    "# model = ols('CV ~ C(Sequence_Length) + C(Simulation_Time) + C(Q) + C(Pi)', data=df).fit()\n",
    "# anova_results = sm.stats.anova_lm(model, typ=2)  # Type 2 ANOVA for unbalanced designs\n",
    "\n",
    "# # Print the ANOVA table\n",
    "# print(anova_results)"
   ]
  },
  {
   "cell_type": "code",
   "execution_count": 93,
   "metadata": {},
   "outputs": [
    {
     "name": "stderr",
     "output_type": "stream",
     "text": [
      "/Users/gulugulu/opt/anaconda3/envs/c312/lib/python3.12/site-packages/plotly/express/_core.py:2065: FutureWarning:\n",
      "\n",
      "When grouping with a length-1 list-like, you will need to pass a length-1 tuple to get_group in a future version of pandas. Pass `(name,)` instead of `name` to silence this warning.\n",
      "\n"
     ]
    },
    {
     "data": {
      "application/vnd.plotly.v1+json": {
       "config": {
        "plotlyServerURL": "https://plot.ly"
       },
       "data": [
        {
         "alignmentgroup": "True",
         "hovertemplate": "Parameter Group=%{x}<br>Coefficient of Variation (%)=%{y}<extra></extra>",
         "legendgroup": "Time",
         "marker": {
          "color": "#636efa"
         },
         "name": "Time",
         "notched": false,
         "offsetgroup": "Time",
         "orientation": "v",
         "showlegend": true,
         "type": "box",
         "x": [
          "Time",
          "Time",
          "Time",
          "Time",
          "Time",
          "Time",
          "Time",
          "Time",
          "Time",
          "Time",
          "Time",
          "Time",
          "Time",
          "Time",
          "Time"
         ],
         "x0": " ",
         "xaxis": "x",
         "y": [
          3.2972023754619504,
          2.4888243101850223,
          1.7513022892514076,
          1.4653937323893762,
          1.2233388853670906,
          3.460080641141297,
          2.4792627326195826,
          1.8220317181855648,
          1.5671877860480674,
          1.40842580950065,
          3.363217417938817,
          2.2335377925589617,
          1.6140831252510175,
          1.360282331401268,
          1.2475025208084083
         ],
         "y0": " ",
         "yaxis": "y"
        },
        {
         "alignmentgroup": "True",
         "hovertemplate": "Parameter Group=%{x}<br>Coefficient of Variation (%)=%{y}<extra></extra>",
         "legendgroup": "Length",
         "marker": {
          "color": "#EF553B"
         },
         "name": "Length",
         "notched": false,
         "offsetgroup": "Length",
         "orientation": "v",
         "showlegend": true,
         "type": "box",
         "x": [
          "Length",
          "Length",
          "Length",
          "Length",
          "Length",
          "Length",
          "Length",
          "Length",
          "Length"
         ],
         "x0": " ",
         "xaxis": "x",
         "y": [
          2.4888243101850223,
          1.5478910041175278,
          1.3122498993422518,
          2.4792627326195826,
          1.469535981211221,
          1.4143169363724475,
          2.2335377925589617,
          1.7151975207135388,
          1.4308589962519687
         ],
         "y0": " ",
         "yaxis": "y"
        },
        {
         "alignmentgroup": "True",
         "hovertemplate": "Parameter Group=%{x}<br>Coefficient of Variation (%)=%{y}<extra></extra>",
         "legendgroup": "Q",
         "marker": {
          "color": "#00cc96"
         },
         "name": "Q",
         "notched": false,
         "offsetgroup": "Q",
         "orientation": "v",
         "showlegend": true,
         "type": "box",
         "x": [
          "Q",
          "Q",
          "Q",
          "Q",
          "Q",
          "Q",
          "Q",
          "Q",
          "Q"
         ],
         "x0": " ",
         "xaxis": "x",
         "y": [
          2.15248892348149,
          2.9314871939038545,
          4.000045036399561,
          2.3817955017948536,
          3.1951335842406734,
          3.134428823427324,
          2.768471846418365,
          2.926194314846419,
          3.015350971031661
         ],
         "y0": " ",
         "yaxis": "y"
        },
        {
         "alignmentgroup": "True",
         "hovertemplate": "Parameter Group=%{x}<br>Coefficient of Variation (%)=%{y}<extra></extra>",
         "legendgroup": "pi",
         "marker": {
          "color": "#ab63fa"
         },
         "name": "pi",
         "notched": false,
         "offsetgroup": "pi",
         "orientation": "v",
         "showlegend": true,
         "type": "box",
         "x": [
          "pi",
          "pi",
          "pi",
          "pi",
          "pi",
          "pi",
          "pi",
          "pi",
          "pi"
         ],
         "x0": " ",
         "xaxis": "x",
         "y": [
          2.15248892348149,
          2.4309766901438943,
          2.638079999176797,
          2.3817955017948536,
          2.3687744568460323,
          2.4959184552021823,
          2.768471846418365,
          2.388152632712159,
          2.455869900790606
         ],
         "y0": " ",
         "yaxis": "y"
        }
       ],
       "layout": {
        "annotations": [
         {
          "showarrow": false,
          "text": "Threshold",
          "x": 0,
          "xanchor": "left",
          "xref": "x domain",
          "y": 5,
          "yanchor": "bottom",
          "yref": "y"
         }
        ],
        "boxmode": "overlay",
        "legend": {
         "title": {
          "text": "Parameter Group"
         },
         "tracegroupgap": 0
        },
        "margin": {
         "t": 60
        },
        "plot_bgcolor": "white",
        "shapes": [
         {
          "line": {
           "color": "red",
           "dash": "dash"
          },
          "type": "line",
          "x0": 0,
          "x1": 1,
          "xref": "x domain",
          "y0": 5,
          "y1": 5,
          "yref": "y"
         }
        ],
        "showlegend": false,
        "template": {
         "data": {
          "bar": [
           {
            "error_x": {
             "color": "#2a3f5f"
            },
            "error_y": {
             "color": "#2a3f5f"
            },
            "marker": {
             "line": {
              "color": "white",
              "width": 0.5
             },
             "pattern": {
              "fillmode": "overlay",
              "size": 10,
              "solidity": 0.2
             }
            },
            "type": "bar"
           }
          ],
          "barpolar": [
           {
            "marker": {
             "line": {
              "color": "white",
              "width": 0.5
             },
             "pattern": {
              "fillmode": "overlay",
              "size": 10,
              "solidity": 0.2
             }
            },
            "type": "barpolar"
           }
          ],
          "carpet": [
           {
            "aaxis": {
             "endlinecolor": "#2a3f5f",
             "gridcolor": "#C8D4E3",
             "linecolor": "#C8D4E3",
             "minorgridcolor": "#C8D4E3",
             "startlinecolor": "#2a3f5f"
            },
            "baxis": {
             "endlinecolor": "#2a3f5f",
             "gridcolor": "#C8D4E3",
             "linecolor": "#C8D4E3",
             "minorgridcolor": "#C8D4E3",
             "startlinecolor": "#2a3f5f"
            },
            "type": "carpet"
           }
          ],
          "choropleth": [
           {
            "colorbar": {
             "outlinewidth": 0,
             "ticks": ""
            },
            "type": "choropleth"
           }
          ],
          "contour": [
           {
            "colorbar": {
             "outlinewidth": 0,
             "ticks": ""
            },
            "colorscale": [
             [
              0,
              "#0d0887"
             ],
             [
              0.1111111111111111,
              "#46039f"
             ],
             [
              0.2222222222222222,
              "#7201a8"
             ],
             [
              0.3333333333333333,
              "#9c179e"
             ],
             [
              0.4444444444444444,
              "#bd3786"
             ],
             [
              0.5555555555555556,
              "#d8576b"
             ],
             [
              0.6666666666666666,
              "#ed7953"
             ],
             [
              0.7777777777777778,
              "#fb9f3a"
             ],
             [
              0.8888888888888888,
              "#fdca26"
             ],
             [
              1,
              "#f0f921"
             ]
            ],
            "type": "contour"
           }
          ],
          "contourcarpet": [
           {
            "colorbar": {
             "outlinewidth": 0,
             "ticks": ""
            },
            "type": "contourcarpet"
           }
          ],
          "heatmap": [
           {
            "colorbar": {
             "outlinewidth": 0,
             "ticks": ""
            },
            "colorscale": [
             [
              0,
              "#0d0887"
             ],
             [
              0.1111111111111111,
              "#46039f"
             ],
             [
              0.2222222222222222,
              "#7201a8"
             ],
             [
              0.3333333333333333,
              "#9c179e"
             ],
             [
              0.4444444444444444,
              "#bd3786"
             ],
             [
              0.5555555555555556,
              "#d8576b"
             ],
             [
              0.6666666666666666,
              "#ed7953"
             ],
             [
              0.7777777777777778,
              "#fb9f3a"
             ],
             [
              0.8888888888888888,
              "#fdca26"
             ],
             [
              1,
              "#f0f921"
             ]
            ],
            "type": "heatmap"
           }
          ],
          "heatmapgl": [
           {
            "colorbar": {
             "outlinewidth": 0,
             "ticks": ""
            },
            "colorscale": [
             [
              0,
              "#0d0887"
             ],
             [
              0.1111111111111111,
              "#46039f"
             ],
             [
              0.2222222222222222,
              "#7201a8"
             ],
             [
              0.3333333333333333,
              "#9c179e"
             ],
             [
              0.4444444444444444,
              "#bd3786"
             ],
             [
              0.5555555555555556,
              "#d8576b"
             ],
             [
              0.6666666666666666,
              "#ed7953"
             ],
             [
              0.7777777777777778,
              "#fb9f3a"
             ],
             [
              0.8888888888888888,
              "#fdca26"
             ],
             [
              1,
              "#f0f921"
             ]
            ],
            "type": "heatmapgl"
           }
          ],
          "histogram": [
           {
            "marker": {
             "pattern": {
              "fillmode": "overlay",
              "size": 10,
              "solidity": 0.2
             }
            },
            "type": "histogram"
           }
          ],
          "histogram2d": [
           {
            "colorbar": {
             "outlinewidth": 0,
             "ticks": ""
            },
            "colorscale": [
             [
              0,
              "#0d0887"
             ],
             [
              0.1111111111111111,
              "#46039f"
             ],
             [
              0.2222222222222222,
              "#7201a8"
             ],
             [
              0.3333333333333333,
              "#9c179e"
             ],
             [
              0.4444444444444444,
              "#bd3786"
             ],
             [
              0.5555555555555556,
              "#d8576b"
             ],
             [
              0.6666666666666666,
              "#ed7953"
             ],
             [
              0.7777777777777778,
              "#fb9f3a"
             ],
             [
              0.8888888888888888,
              "#fdca26"
             ],
             [
              1,
              "#f0f921"
             ]
            ],
            "type": "histogram2d"
           }
          ],
          "histogram2dcontour": [
           {
            "colorbar": {
             "outlinewidth": 0,
             "ticks": ""
            },
            "colorscale": [
             [
              0,
              "#0d0887"
             ],
             [
              0.1111111111111111,
              "#46039f"
             ],
             [
              0.2222222222222222,
              "#7201a8"
             ],
             [
              0.3333333333333333,
              "#9c179e"
             ],
             [
              0.4444444444444444,
              "#bd3786"
             ],
             [
              0.5555555555555556,
              "#d8576b"
             ],
             [
              0.6666666666666666,
              "#ed7953"
             ],
             [
              0.7777777777777778,
              "#fb9f3a"
             ],
             [
              0.8888888888888888,
              "#fdca26"
             ],
             [
              1,
              "#f0f921"
             ]
            ],
            "type": "histogram2dcontour"
           }
          ],
          "mesh3d": [
           {
            "colorbar": {
             "outlinewidth": 0,
             "ticks": ""
            },
            "type": "mesh3d"
           }
          ],
          "parcoords": [
           {
            "line": {
             "colorbar": {
              "outlinewidth": 0,
              "ticks": ""
             }
            },
            "type": "parcoords"
           }
          ],
          "pie": [
           {
            "automargin": true,
            "type": "pie"
           }
          ],
          "scatter": [
           {
            "fillpattern": {
             "fillmode": "overlay",
             "size": 10,
             "solidity": 0.2
            },
            "type": "scatter"
           }
          ],
          "scatter3d": [
           {
            "line": {
             "colorbar": {
              "outlinewidth": 0,
              "ticks": ""
             }
            },
            "marker": {
             "colorbar": {
              "outlinewidth": 0,
              "ticks": ""
             }
            },
            "type": "scatter3d"
           }
          ],
          "scattercarpet": [
           {
            "marker": {
             "colorbar": {
              "outlinewidth": 0,
              "ticks": ""
             }
            },
            "type": "scattercarpet"
           }
          ],
          "scattergeo": [
           {
            "marker": {
             "colorbar": {
              "outlinewidth": 0,
              "ticks": ""
             }
            },
            "type": "scattergeo"
           }
          ],
          "scattergl": [
           {
            "marker": {
             "colorbar": {
              "outlinewidth": 0,
              "ticks": ""
             }
            },
            "type": "scattergl"
           }
          ],
          "scattermapbox": [
           {
            "marker": {
             "colorbar": {
              "outlinewidth": 0,
              "ticks": ""
             }
            },
            "type": "scattermapbox"
           }
          ],
          "scatterpolar": [
           {
            "marker": {
             "colorbar": {
              "outlinewidth": 0,
              "ticks": ""
             }
            },
            "type": "scatterpolar"
           }
          ],
          "scatterpolargl": [
           {
            "marker": {
             "colorbar": {
              "outlinewidth": 0,
              "ticks": ""
             }
            },
            "type": "scatterpolargl"
           }
          ],
          "scatterternary": [
           {
            "marker": {
             "colorbar": {
              "outlinewidth": 0,
              "ticks": ""
             }
            },
            "type": "scatterternary"
           }
          ],
          "surface": [
           {
            "colorbar": {
             "outlinewidth": 0,
             "ticks": ""
            },
            "colorscale": [
             [
              0,
              "#0d0887"
             ],
             [
              0.1111111111111111,
              "#46039f"
             ],
             [
              0.2222222222222222,
              "#7201a8"
             ],
             [
              0.3333333333333333,
              "#9c179e"
             ],
             [
              0.4444444444444444,
              "#bd3786"
             ],
             [
              0.5555555555555556,
              "#d8576b"
             ],
             [
              0.6666666666666666,
              "#ed7953"
             ],
             [
              0.7777777777777778,
              "#fb9f3a"
             ],
             [
              0.8888888888888888,
              "#fdca26"
             ],
             [
              1,
              "#f0f921"
             ]
            ],
            "type": "surface"
           }
          ],
          "table": [
           {
            "cells": {
             "fill": {
              "color": "#EBF0F8"
             },
             "line": {
              "color": "white"
             }
            },
            "header": {
             "fill": {
              "color": "#C8D4E3"
             },
             "line": {
              "color": "white"
             }
            },
            "type": "table"
           }
          ]
         },
         "layout": {
          "annotationdefaults": {
           "arrowcolor": "#2a3f5f",
           "arrowhead": 0,
           "arrowwidth": 1
          },
          "autotypenumbers": "strict",
          "coloraxis": {
           "colorbar": {
            "outlinewidth": 0,
            "ticks": ""
           }
          },
          "colorscale": {
           "diverging": [
            [
             0,
             "#8e0152"
            ],
            [
             0.1,
             "#c51b7d"
            ],
            [
             0.2,
             "#de77ae"
            ],
            [
             0.3,
             "#f1b6da"
            ],
            [
             0.4,
             "#fde0ef"
            ],
            [
             0.5,
             "#f7f7f7"
            ],
            [
             0.6,
             "#e6f5d0"
            ],
            [
             0.7,
             "#b8e186"
            ],
            [
             0.8,
             "#7fbc41"
            ],
            [
             0.9,
             "#4d9221"
            ],
            [
             1,
             "#276419"
            ]
           ],
           "sequential": [
            [
             0,
             "#0d0887"
            ],
            [
             0.1111111111111111,
             "#46039f"
            ],
            [
             0.2222222222222222,
             "#7201a8"
            ],
            [
             0.3333333333333333,
             "#9c179e"
            ],
            [
             0.4444444444444444,
             "#bd3786"
            ],
            [
             0.5555555555555556,
             "#d8576b"
            ],
            [
             0.6666666666666666,
             "#ed7953"
            ],
            [
             0.7777777777777778,
             "#fb9f3a"
            ],
            [
             0.8888888888888888,
             "#fdca26"
            ],
            [
             1,
             "#f0f921"
            ]
           ],
           "sequentialminus": [
            [
             0,
             "#0d0887"
            ],
            [
             0.1111111111111111,
             "#46039f"
            ],
            [
             0.2222222222222222,
             "#7201a8"
            ],
            [
             0.3333333333333333,
             "#9c179e"
            ],
            [
             0.4444444444444444,
             "#bd3786"
            ],
            [
             0.5555555555555556,
             "#d8576b"
            ],
            [
             0.6666666666666666,
             "#ed7953"
            ],
            [
             0.7777777777777778,
             "#fb9f3a"
            ],
            [
             0.8888888888888888,
             "#fdca26"
            ],
            [
             1,
             "#f0f921"
            ]
           ]
          },
          "colorway": [
           "#636efa",
           "#EF553B",
           "#00cc96",
           "#ab63fa",
           "#FFA15A",
           "#19d3f3",
           "#FF6692",
           "#B6E880",
           "#FF97FF",
           "#FECB52"
          ],
          "font": {
           "color": "#2a3f5f"
          },
          "geo": {
           "bgcolor": "white",
           "lakecolor": "white",
           "landcolor": "white",
           "showlakes": true,
           "showland": true,
           "subunitcolor": "#C8D4E3"
          },
          "hoverlabel": {
           "align": "left"
          },
          "hovermode": "closest",
          "mapbox": {
           "style": "light"
          },
          "paper_bgcolor": "white",
          "plot_bgcolor": "white",
          "polar": {
           "angularaxis": {
            "gridcolor": "#EBF0F8",
            "linecolor": "#EBF0F8",
            "ticks": ""
           },
           "bgcolor": "white",
           "radialaxis": {
            "gridcolor": "#EBF0F8",
            "linecolor": "#EBF0F8",
            "ticks": ""
           }
          },
          "scene": {
           "xaxis": {
            "backgroundcolor": "white",
            "gridcolor": "#DFE8F3",
            "gridwidth": 2,
            "linecolor": "#EBF0F8",
            "showbackground": true,
            "ticks": "",
            "zerolinecolor": "#EBF0F8"
           },
           "yaxis": {
            "backgroundcolor": "white",
            "gridcolor": "#DFE8F3",
            "gridwidth": 2,
            "linecolor": "#EBF0F8",
            "showbackground": true,
            "ticks": "",
            "zerolinecolor": "#EBF0F8"
           },
           "zaxis": {
            "backgroundcolor": "white",
            "gridcolor": "#DFE8F3",
            "gridwidth": 2,
            "linecolor": "#EBF0F8",
            "showbackground": true,
            "ticks": "",
            "zerolinecolor": "#EBF0F8"
           }
          },
          "shapedefaults": {
           "line": {
            "color": "#2a3f5f"
           }
          },
          "ternary": {
           "aaxis": {
            "gridcolor": "#DFE8F3",
            "linecolor": "#A2B1C6",
            "ticks": ""
           },
           "baxis": {
            "gridcolor": "#DFE8F3",
            "linecolor": "#A2B1C6",
            "ticks": ""
           },
           "bgcolor": "white",
           "caxis": {
            "gridcolor": "#DFE8F3",
            "linecolor": "#A2B1C6",
            "ticks": ""
           }
          },
          "title": {
           "x": 0.05
          },
          "xaxis": {
           "automargin": true,
           "gridcolor": "#EBF0F8",
           "linecolor": "#EBF0F8",
           "ticks": "",
           "title": {
            "standoff": 15
           },
           "zerolinecolor": "#EBF0F8",
           "zerolinewidth": 2
          },
          "yaxis": {
           "automargin": true,
           "gridcolor": "#EBF0F8",
           "linecolor": "#EBF0F8",
           "ticks": "",
           "title": {
            "standoff": 15
           },
           "zerolinecolor": "#EBF0F8",
           "zerolinewidth": 2
          }
         }
        },
        "xaxis": {
         "anchor": "y",
         "categoryarray": [
          "Time",
          "Length",
          "Q",
          "pi"
         ],
         "categoryorder": "array",
         "domain": [
          0,
          1
         ],
         "title": {
          "text": "Parameter Group Variation"
         }
        },
        "yaxis": {
         "anchor": "x",
         "domain": [
          0,
          1
         ],
         "range": [
          0,
          5.5
         ],
         "title": {
          "text": "Coefficient of Variation (%)"
         }
        }
       }
      }
     },
     "metadata": {},
     "output_type": "display_data"
    }
   ],
   "source": [
    "import plotly.express as px\n",
    "import pandas as pd\n",
    "\n",
    "# Example DataFrame setup\n",
    "data = {\n",
    "    'CV': time_cv_list + length_cv_list + Q_cv_list + pi_cv_list,\n",
    "    'ParameterGroup': ['Time', 'Time', 'Time', 'Time', 'Time', 'Time', 'Time', 'Time', 'Time', 'Time', 'Time', 'Time', 'Time', 'Time', 'Time',\n",
    "                       'Length', 'Length', 'Length', 'Length', 'Length', 'Length', 'Length', 'Length', 'Length',\n",
    "                       'Q', 'Q', 'Q', 'Q', 'Q', 'Q', 'Q', 'Q', 'Q',\n",
    "                       'pi', 'pi', 'pi', 'pi', 'pi', 'pi', 'pi', 'pi', 'pi']\n",
    "}\n",
    "df = pd.DataFrame(data)\n",
    "\n",
    "# Create a box plot\n",
    "fig = px.box(df, x='ParameterGroup', y='CV',\n",
    "             labels={'CV': 'Coefficient of Variation (%)', 'ParameterGroup': 'Parameter Group'},\n",
    "             color='ParameterGroup',  # Adds different colors per ParameterGroup\n",
    "             template='plotly_white'  # Clean white background\n",
    "             )\n",
    "\n",
    "# Add a horizontal line at y=5 with annotation\n",
    "fig.add_hline(y=5, line_color='red', line_dash='dash',\n",
    "              annotation_text='Threshold', annotation_position='top left')\n",
    "\n",
    "# Update the y-axis range to focus on the data\n",
    "fig.update_yaxes(range=[0, 5.5])  # Adjust based on your maximum CV value\n",
    "\n",
    "# Optionally enhance the layout further\n",
    "fig.update_layout(plot_bgcolor='white',  # Ensures background remains white across the plot\n",
    "    yaxis_title='Coefficient of Variation (%)',\n",
    "    xaxis_title='Parameter Group Variation',\n",
    "    showlegend=False\n",
    ")\n",
    "\n",
    "# Show the plot\n",
    "fig.show()\n",
    "\n",
    "# Optionally, save the plot as a PDF file\n",
    "fig.write_image(\"parameter_variation_impact.pdf\")\n"
   ]
  },
  {
   "cell_type": "code",
   "execution_count": 69,
   "metadata": {},
   "outputs": [],
   "source": [
    "p_value_time_list = [list(a) for a in p_value_time_1000_all]\n"
   ]
  },
  {
   "cell_type": "code",
   "execution_count": 70,
   "metadata": {},
   "outputs": [],
   "source": [
    "p_value_time_length_all = [p_value_time_1000_all, p_value_time_2000_all, p_value_time_3000_all]\n",
    "p_value_length_list = []\n",
    "for element in p_value_time_length_all:\n",
    "    p_value_length_list.append(list(element[:,0]))"
   ]
  },
  {
   "cell_type": "code",
   "execution_count": 71,
   "metadata": {},
   "outputs": [],
   "source": [
    "p_value_pi_list = []\n",
    "for repeat, pi in p_value_pi_dict.items():\n",
    "    p_value_pi_list.append(list(pi.values()))\n",
    "\n",
    "p_value_Q_list = []\n",
    "for repeat, Q in p_value_Q_dict.items():\n",
    "    p_value_Q_list.append(list(Q.values()))\n"
   ]
  },
  {
   "cell_type": "code",
   "execution_count": 82,
   "metadata": {},
   "outputs": [],
   "source": [
    "p_value_pi = [item for sublist in p_value_pi_list for item in sublist]\n",
    "p_value_time = [item for sublist in p_value_time_list for item in sublist]\n",
    "p_value_length = [item for sublist in p_value_length_list for item in sublist]\n",
    "p_value_Q = [item for sublist in p_value_Q_list for item in sublist]"
   ]
  },
  {
   "cell_type": "code",
   "execution_count": 92,
   "metadata": {},
   "outputs": [
    {
     "name": "stderr",
     "output_type": "stream",
     "text": [
      "/Users/gulugulu/opt/anaconda3/envs/c312/lib/python3.12/site-packages/plotly/express/_core.py:2065: FutureWarning:\n",
      "\n",
      "When grouping with a length-1 list-like, you will need to pass a length-1 tuple to get_group in a future version of pandas. Pass `(name,)` instead of `name` to silence this warning.\n",
      "\n"
     ]
    },
    {
     "data": {
      "application/vnd.plotly.v1+json": {
       "config": {
        "plotlyServerURL": "https://plot.ly"
       },
       "data": [
        {
         "alignmentgroup": "True",
         "hovertemplate": "Parameter Group=%{x}<br>P - value =%{y}<extra></extra>",
         "legendgroup": "Time",
         "marker": {
          "color": "#636efa"
         },
         "name": "Time",
         "notched": false,
         "offsetgroup": "Time",
         "orientation": "v",
         "showlegend": true,
         "type": "box",
         "x": [
          "Time",
          "Time",
          "Time",
          "Time",
          "Time",
          "Time",
          "Time",
          "Time",
          "Time",
          "Time",
          "Time",
          "Time",
          "Time",
          "Time",
          "Time"
         ],
         "x0": " ",
         "xaxis": "x",
         "y": [
          0.6961801116368648,
          0.7361618698210082,
          0.14209960794950205,
          0.04563395868364613,
          0.0401629617509474,
          0.8756073452742358,
          0.5736540037681574,
          0.756115776082366,
          0.8558250900539552,
          0.9518543499533481,
          0.7018529844367107,
          0.27821496694481074,
          0.5821805330695778,
          0.5090640126647159,
          0.6785380068238949
         ],
         "y0": " ",
         "yaxis": "y"
        },
        {
         "alignmentgroup": "True",
         "hovertemplate": "Parameter Group=%{x}<br>P - value =%{y}<extra></extra>",
         "legendgroup": "Length",
         "marker": {
          "color": "#EF553B"
         },
         "name": "Length",
         "notched": false,
         "offsetgroup": "Length",
         "orientation": "v",
         "showlegend": true,
         "type": "box",
         "x": [
          "Length",
          "Length",
          "Length",
          "Length",
          "Length",
          "Length",
          "Length",
          "Length",
          "Length"
         ],
         "x0": " ",
         "xaxis": "x",
         "y": [
          0.6961801116368648,
          0.8756073452742358,
          0.7018529844367107,
          0.9817538617516243,
          0.6295299795715993,
          0.17513498075523395,
          0.2671365738260556,
          0.1537336291289801,
          0.3894875294668326
         ],
         "y0": " ",
         "yaxis": "y"
        },
        {
         "alignmentgroup": "True",
         "hovertemplate": "Parameter Group=%{x}<br>P - value =%{y}<extra></extra>",
         "legendgroup": "Q",
         "marker": {
          "color": "#00cc96"
         },
         "name": "Q",
         "notched": false,
         "offsetgroup": "Q",
         "orientation": "v",
         "showlegend": true,
         "type": "box",
         "x": [
          "Q",
          "Q",
          "Q",
          "Q",
          "Q",
          "Q",
          "Q",
          "Q",
          "Q"
         ],
         "x0": " ",
         "xaxis": "x",
         "y": [
          0.8311059416767986,
          0.026333578016162183,
          0.9285441874661612,
          0.22282633412212238,
          0.290694992696267,
          0.15762270728398606,
          0.9384572506239536,
          0.9986623381925721,
          0.6198303767916109
         ],
         "y0": " ",
         "yaxis": "y"
        },
        {
         "alignmentgroup": "True",
         "hovertemplate": "Parameter Group=%{x}<br>P - value =%{y}<extra></extra>",
         "legendgroup": "pi",
         "marker": {
          "color": "#ab63fa"
         },
         "name": "pi",
         "notched": false,
         "offsetgroup": "pi",
         "orientation": "v",
         "showlegend": true,
         "type": "box",
         "x": [
          "pi",
          "pi",
          "pi",
          "pi",
          "pi",
          "pi",
          "pi",
          "pi",
          "pi"
         ],
         "x0": " ",
         "xaxis": "x",
         "y": [
          0.8311059416767986,
          0.9873019553142433,
          0.9763705248979953,
          0.22282633412212238,
          0.1775197753998079,
          0.10606489293360252,
          0.9384572506239536,
          0.5791571162320326,
          0.879987063238023
         ],
         "y0": " ",
         "yaxis": "y"
        }
       ],
       "layout": {
        "annotations": [
         {
          "showarrow": false,
          "text": "Threshold",
          "x": 0,
          "xanchor": "left",
          "xref": "x domain",
          "y": 0.05,
          "yanchor": "bottom",
          "yref": "y"
         }
        ],
        "boxmode": "overlay",
        "legend": {
         "title": {
          "text": "Parameter Group"
         },
         "tracegroupgap": 0
        },
        "margin": {
         "t": 60
        },
        "plot_bgcolor": "white",
        "shapes": [
         {
          "line": {
           "color": "red",
           "dash": "dash"
          },
          "type": "line",
          "x0": 0,
          "x1": 1,
          "xref": "x domain",
          "y0": 0.05,
          "y1": 0.05,
          "yref": "y"
         }
        ],
        "showlegend": false,
        "template": {
         "data": {
          "bar": [
           {
            "error_x": {
             "color": "#2a3f5f"
            },
            "error_y": {
             "color": "#2a3f5f"
            },
            "marker": {
             "line": {
              "color": "white",
              "width": 0.5
             },
             "pattern": {
              "fillmode": "overlay",
              "size": 10,
              "solidity": 0.2
             }
            },
            "type": "bar"
           }
          ],
          "barpolar": [
           {
            "marker": {
             "line": {
              "color": "white",
              "width": 0.5
             },
             "pattern": {
              "fillmode": "overlay",
              "size": 10,
              "solidity": 0.2
             }
            },
            "type": "barpolar"
           }
          ],
          "carpet": [
           {
            "aaxis": {
             "endlinecolor": "#2a3f5f",
             "gridcolor": "#C8D4E3",
             "linecolor": "#C8D4E3",
             "minorgridcolor": "#C8D4E3",
             "startlinecolor": "#2a3f5f"
            },
            "baxis": {
             "endlinecolor": "#2a3f5f",
             "gridcolor": "#C8D4E3",
             "linecolor": "#C8D4E3",
             "minorgridcolor": "#C8D4E3",
             "startlinecolor": "#2a3f5f"
            },
            "type": "carpet"
           }
          ],
          "choropleth": [
           {
            "colorbar": {
             "outlinewidth": 0,
             "ticks": ""
            },
            "type": "choropleth"
           }
          ],
          "contour": [
           {
            "colorbar": {
             "outlinewidth": 0,
             "ticks": ""
            },
            "colorscale": [
             [
              0,
              "#0d0887"
             ],
             [
              0.1111111111111111,
              "#46039f"
             ],
             [
              0.2222222222222222,
              "#7201a8"
             ],
             [
              0.3333333333333333,
              "#9c179e"
             ],
             [
              0.4444444444444444,
              "#bd3786"
             ],
             [
              0.5555555555555556,
              "#d8576b"
             ],
             [
              0.6666666666666666,
              "#ed7953"
             ],
             [
              0.7777777777777778,
              "#fb9f3a"
             ],
             [
              0.8888888888888888,
              "#fdca26"
             ],
             [
              1,
              "#f0f921"
             ]
            ],
            "type": "contour"
           }
          ],
          "contourcarpet": [
           {
            "colorbar": {
             "outlinewidth": 0,
             "ticks": ""
            },
            "type": "contourcarpet"
           }
          ],
          "heatmap": [
           {
            "colorbar": {
             "outlinewidth": 0,
             "ticks": ""
            },
            "colorscale": [
             [
              0,
              "#0d0887"
             ],
             [
              0.1111111111111111,
              "#46039f"
             ],
             [
              0.2222222222222222,
              "#7201a8"
             ],
             [
              0.3333333333333333,
              "#9c179e"
             ],
             [
              0.4444444444444444,
              "#bd3786"
             ],
             [
              0.5555555555555556,
              "#d8576b"
             ],
             [
              0.6666666666666666,
              "#ed7953"
             ],
             [
              0.7777777777777778,
              "#fb9f3a"
             ],
             [
              0.8888888888888888,
              "#fdca26"
             ],
             [
              1,
              "#f0f921"
             ]
            ],
            "type": "heatmap"
           }
          ],
          "heatmapgl": [
           {
            "colorbar": {
             "outlinewidth": 0,
             "ticks": ""
            },
            "colorscale": [
             [
              0,
              "#0d0887"
             ],
             [
              0.1111111111111111,
              "#46039f"
             ],
             [
              0.2222222222222222,
              "#7201a8"
             ],
             [
              0.3333333333333333,
              "#9c179e"
             ],
             [
              0.4444444444444444,
              "#bd3786"
             ],
             [
              0.5555555555555556,
              "#d8576b"
             ],
             [
              0.6666666666666666,
              "#ed7953"
             ],
             [
              0.7777777777777778,
              "#fb9f3a"
             ],
             [
              0.8888888888888888,
              "#fdca26"
             ],
             [
              1,
              "#f0f921"
             ]
            ],
            "type": "heatmapgl"
           }
          ],
          "histogram": [
           {
            "marker": {
             "pattern": {
              "fillmode": "overlay",
              "size": 10,
              "solidity": 0.2
             }
            },
            "type": "histogram"
           }
          ],
          "histogram2d": [
           {
            "colorbar": {
             "outlinewidth": 0,
             "ticks": ""
            },
            "colorscale": [
             [
              0,
              "#0d0887"
             ],
             [
              0.1111111111111111,
              "#46039f"
             ],
             [
              0.2222222222222222,
              "#7201a8"
             ],
             [
              0.3333333333333333,
              "#9c179e"
             ],
             [
              0.4444444444444444,
              "#bd3786"
             ],
             [
              0.5555555555555556,
              "#d8576b"
             ],
             [
              0.6666666666666666,
              "#ed7953"
             ],
             [
              0.7777777777777778,
              "#fb9f3a"
             ],
             [
              0.8888888888888888,
              "#fdca26"
             ],
             [
              1,
              "#f0f921"
             ]
            ],
            "type": "histogram2d"
           }
          ],
          "histogram2dcontour": [
           {
            "colorbar": {
             "outlinewidth": 0,
             "ticks": ""
            },
            "colorscale": [
             [
              0,
              "#0d0887"
             ],
             [
              0.1111111111111111,
              "#46039f"
             ],
             [
              0.2222222222222222,
              "#7201a8"
             ],
             [
              0.3333333333333333,
              "#9c179e"
             ],
             [
              0.4444444444444444,
              "#bd3786"
             ],
             [
              0.5555555555555556,
              "#d8576b"
             ],
             [
              0.6666666666666666,
              "#ed7953"
             ],
             [
              0.7777777777777778,
              "#fb9f3a"
             ],
             [
              0.8888888888888888,
              "#fdca26"
             ],
             [
              1,
              "#f0f921"
             ]
            ],
            "type": "histogram2dcontour"
           }
          ],
          "mesh3d": [
           {
            "colorbar": {
             "outlinewidth": 0,
             "ticks": ""
            },
            "type": "mesh3d"
           }
          ],
          "parcoords": [
           {
            "line": {
             "colorbar": {
              "outlinewidth": 0,
              "ticks": ""
             }
            },
            "type": "parcoords"
           }
          ],
          "pie": [
           {
            "automargin": true,
            "type": "pie"
           }
          ],
          "scatter": [
           {
            "fillpattern": {
             "fillmode": "overlay",
             "size": 10,
             "solidity": 0.2
            },
            "type": "scatter"
           }
          ],
          "scatter3d": [
           {
            "line": {
             "colorbar": {
              "outlinewidth": 0,
              "ticks": ""
             }
            },
            "marker": {
             "colorbar": {
              "outlinewidth": 0,
              "ticks": ""
             }
            },
            "type": "scatter3d"
           }
          ],
          "scattercarpet": [
           {
            "marker": {
             "colorbar": {
              "outlinewidth": 0,
              "ticks": ""
             }
            },
            "type": "scattercarpet"
           }
          ],
          "scattergeo": [
           {
            "marker": {
             "colorbar": {
              "outlinewidth": 0,
              "ticks": ""
             }
            },
            "type": "scattergeo"
           }
          ],
          "scattergl": [
           {
            "marker": {
             "colorbar": {
              "outlinewidth": 0,
              "ticks": ""
             }
            },
            "type": "scattergl"
           }
          ],
          "scattermapbox": [
           {
            "marker": {
             "colorbar": {
              "outlinewidth": 0,
              "ticks": ""
             }
            },
            "type": "scattermapbox"
           }
          ],
          "scatterpolar": [
           {
            "marker": {
             "colorbar": {
              "outlinewidth": 0,
              "ticks": ""
             }
            },
            "type": "scatterpolar"
           }
          ],
          "scatterpolargl": [
           {
            "marker": {
             "colorbar": {
              "outlinewidth": 0,
              "ticks": ""
             }
            },
            "type": "scatterpolargl"
           }
          ],
          "scatterternary": [
           {
            "marker": {
             "colorbar": {
              "outlinewidth": 0,
              "ticks": ""
             }
            },
            "type": "scatterternary"
           }
          ],
          "surface": [
           {
            "colorbar": {
             "outlinewidth": 0,
             "ticks": ""
            },
            "colorscale": [
             [
              0,
              "#0d0887"
             ],
             [
              0.1111111111111111,
              "#46039f"
             ],
             [
              0.2222222222222222,
              "#7201a8"
             ],
             [
              0.3333333333333333,
              "#9c179e"
             ],
             [
              0.4444444444444444,
              "#bd3786"
             ],
             [
              0.5555555555555556,
              "#d8576b"
             ],
             [
              0.6666666666666666,
              "#ed7953"
             ],
             [
              0.7777777777777778,
              "#fb9f3a"
             ],
             [
              0.8888888888888888,
              "#fdca26"
             ],
             [
              1,
              "#f0f921"
             ]
            ],
            "type": "surface"
           }
          ],
          "table": [
           {
            "cells": {
             "fill": {
              "color": "#EBF0F8"
             },
             "line": {
              "color": "white"
             }
            },
            "header": {
             "fill": {
              "color": "#C8D4E3"
             },
             "line": {
              "color": "white"
             }
            },
            "type": "table"
           }
          ]
         },
         "layout": {
          "annotationdefaults": {
           "arrowcolor": "#2a3f5f",
           "arrowhead": 0,
           "arrowwidth": 1
          },
          "autotypenumbers": "strict",
          "coloraxis": {
           "colorbar": {
            "outlinewidth": 0,
            "ticks": ""
           }
          },
          "colorscale": {
           "diverging": [
            [
             0,
             "#8e0152"
            ],
            [
             0.1,
             "#c51b7d"
            ],
            [
             0.2,
             "#de77ae"
            ],
            [
             0.3,
             "#f1b6da"
            ],
            [
             0.4,
             "#fde0ef"
            ],
            [
             0.5,
             "#f7f7f7"
            ],
            [
             0.6,
             "#e6f5d0"
            ],
            [
             0.7,
             "#b8e186"
            ],
            [
             0.8,
             "#7fbc41"
            ],
            [
             0.9,
             "#4d9221"
            ],
            [
             1,
             "#276419"
            ]
           ],
           "sequential": [
            [
             0,
             "#0d0887"
            ],
            [
             0.1111111111111111,
             "#46039f"
            ],
            [
             0.2222222222222222,
             "#7201a8"
            ],
            [
             0.3333333333333333,
             "#9c179e"
            ],
            [
             0.4444444444444444,
             "#bd3786"
            ],
            [
             0.5555555555555556,
             "#d8576b"
            ],
            [
             0.6666666666666666,
             "#ed7953"
            ],
            [
             0.7777777777777778,
             "#fb9f3a"
            ],
            [
             0.8888888888888888,
             "#fdca26"
            ],
            [
             1,
             "#f0f921"
            ]
           ],
           "sequentialminus": [
            [
             0,
             "#0d0887"
            ],
            [
             0.1111111111111111,
             "#46039f"
            ],
            [
             0.2222222222222222,
             "#7201a8"
            ],
            [
             0.3333333333333333,
             "#9c179e"
            ],
            [
             0.4444444444444444,
             "#bd3786"
            ],
            [
             0.5555555555555556,
             "#d8576b"
            ],
            [
             0.6666666666666666,
             "#ed7953"
            ],
            [
             0.7777777777777778,
             "#fb9f3a"
            ],
            [
             0.8888888888888888,
             "#fdca26"
            ],
            [
             1,
             "#f0f921"
            ]
           ]
          },
          "colorway": [
           "#636efa",
           "#EF553B",
           "#00cc96",
           "#ab63fa",
           "#FFA15A",
           "#19d3f3",
           "#FF6692",
           "#B6E880",
           "#FF97FF",
           "#FECB52"
          ],
          "font": {
           "color": "#2a3f5f"
          },
          "geo": {
           "bgcolor": "white",
           "lakecolor": "white",
           "landcolor": "white",
           "showlakes": true,
           "showland": true,
           "subunitcolor": "#C8D4E3"
          },
          "hoverlabel": {
           "align": "left"
          },
          "hovermode": "closest",
          "mapbox": {
           "style": "light"
          },
          "paper_bgcolor": "white",
          "plot_bgcolor": "white",
          "polar": {
           "angularaxis": {
            "gridcolor": "#EBF0F8",
            "linecolor": "#EBF0F8",
            "ticks": ""
           },
           "bgcolor": "white",
           "radialaxis": {
            "gridcolor": "#EBF0F8",
            "linecolor": "#EBF0F8",
            "ticks": ""
           }
          },
          "scene": {
           "xaxis": {
            "backgroundcolor": "white",
            "gridcolor": "#DFE8F3",
            "gridwidth": 2,
            "linecolor": "#EBF0F8",
            "showbackground": true,
            "ticks": "",
            "zerolinecolor": "#EBF0F8"
           },
           "yaxis": {
            "backgroundcolor": "white",
            "gridcolor": "#DFE8F3",
            "gridwidth": 2,
            "linecolor": "#EBF0F8",
            "showbackground": true,
            "ticks": "",
            "zerolinecolor": "#EBF0F8"
           },
           "zaxis": {
            "backgroundcolor": "white",
            "gridcolor": "#DFE8F3",
            "gridwidth": 2,
            "linecolor": "#EBF0F8",
            "showbackground": true,
            "ticks": "",
            "zerolinecolor": "#EBF0F8"
           }
          },
          "shapedefaults": {
           "line": {
            "color": "#2a3f5f"
           }
          },
          "ternary": {
           "aaxis": {
            "gridcolor": "#DFE8F3",
            "linecolor": "#A2B1C6",
            "ticks": ""
           },
           "baxis": {
            "gridcolor": "#DFE8F3",
            "linecolor": "#A2B1C6",
            "ticks": ""
           },
           "bgcolor": "white",
           "caxis": {
            "gridcolor": "#DFE8F3",
            "linecolor": "#A2B1C6",
            "ticks": ""
           }
          },
          "title": {
           "x": 0.05
          },
          "xaxis": {
           "automargin": true,
           "gridcolor": "#EBF0F8",
           "linecolor": "#EBF0F8",
           "ticks": "",
           "title": {
            "standoff": 15
           },
           "zerolinecolor": "#EBF0F8",
           "zerolinewidth": 2
          },
          "yaxis": {
           "automargin": true,
           "gridcolor": "#EBF0F8",
           "linecolor": "#EBF0F8",
           "ticks": "",
           "title": {
            "standoff": 15
           },
           "zerolinecolor": "#EBF0F8",
           "zerolinewidth": 2
          }
         }
        },
        "xaxis": {
         "anchor": "y",
         "categoryarray": [
          "Time",
          "Length",
          "Q",
          "pi"
         ],
         "categoryorder": "array",
         "domain": [
          0,
          1
         ],
         "title": {
          "text": "Parameter Group Variation"
         }
        },
        "yaxis": {
         "anchor": "x",
         "domain": [
          0,
          1
         ],
         "range": [
          -0.1,
          1.1
         ],
         "title": {
          "text": "P-value"
         }
        }
       }
      }
     },
     "metadata": {},
     "output_type": "display_data"
    }
   ],
   "source": [
    "import plotly.express as px\n",
    "import pandas as pd\n",
    "\n",
    "# Example DataFrame setup\n",
    "data = {\n",
    "    'p-value':  p_value_time + p_value_length + p_value_Q + p_value_pi,\n",
    "    'ParameterGroup': ['Time', 'Time', 'Time', 'Time', 'Time', 'Time', 'Time', 'Time', 'Time', 'Time', 'Time', 'Time', 'Time','Time', 'Time',\n",
    "                       'Length', 'Length', 'Length', 'Length', 'Length', 'Length', 'Length', 'Length','Length',\n",
    "                       'Q', 'Q', 'Q', 'Q', 'Q', 'Q', 'Q', 'Q', 'Q',\n",
    "                       'pi', 'pi', 'pi', 'pi', 'pi', 'pi', 'pi', 'pi', 'pi'\n",
    "                       ]\n",
    "}\n",
    "df = pd.DataFrame(data)\n",
    "\n",
    "# Create a box plot\n",
    "fig = px.box(df, x='ParameterGroup', y='p-value',\n",
    "             labels={'p-value': 'P - value ', 'ParameterGroup': 'Parameter Group'},\n",
    "             color='ParameterGroup',  # Adds different colors per ParameterGroup\n",
    "             template='plotly_white'  # Clean white background\n",
    "             )\n",
    "\n",
    "# Add a horizontal line at y=5 with annotation\n",
    "fig.add_hline(y=0.05, line_color='red', line_dash='dash',\n",
    "              annotation_text='Threshold', annotation_position='top left')\n",
    "\n",
    "# Update the y-axis range to focus on the data\n",
    "fig.update_yaxes(range=[-0.1, 1.1])  # Adjust based on your maximum CV value\n",
    "\n",
    "# Optionally enhance the layout further\n",
    "fig.update_layout(plot_bgcolor='white',  # Ensures background remains white across the plot\n",
    "    yaxis_title='P-value',\n",
    "    xaxis_title='Parameter Group Variation',\n",
    "    showlegend=False\n",
    ")\n",
    "\n",
    "# Show the plot\n",
    "fig.show()\n",
    "\n",
    "# Optionally, save the plot as a PDF file\n",
    "fig.write_image(\"parameter_accuracy_impact.pdf\")"
   ]
  }
 ],
 "metadata": {
  "kernelspec": {
   "display_name": "c312",
   "language": "python",
   "name": "python3"
  },
  "language_info": {
   "codemirror_mode": {
    "name": "ipython",
    "version": 3
   },
   "file_extension": ".py",
   "mimetype": "text/x-python",
   "name": "python",
   "nbconvert_exporter": "python",
   "pygments_lexer": "ipython3",
   "version": "3.12.1"
  }
 },
 "nbformat": 4,
 "nbformat_minor": 2
}
