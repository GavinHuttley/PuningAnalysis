{
 "cells": [
  {
   "cell_type": "code",
   "execution_count": 1,
   "metadata": {},
   "outputs": [],
   "source": [
    "from cogent3 import load_tree\n",
    "from ensembl_lite._species import Species\n",
    "\n",
    "path = '/Users/gulugulu/repos/PuningAnalysis/data/dataset2_ensemble_trees/raw_data/tree_nh_file/91_eutherian_mammals_EPO-Extended_default.nh'\n",
    "tree = load_tree(path)"
   ]
  },
  {
   "cell_type": "code",
   "execution_count": 3,
   "metadata": {},
   "outputs": [],
   "source": [
    "from ensembl_lite._species import Species\n",
    "from cogent3 import load_tree\n",
    "\n",
    "def make_db_prefixes():\n",
    "    return [n.lower().replace(\" \", \"_\") for n in Species.get_species_names()]\n",
    "\n",
    "db_prefixes = make_db_prefixes()\n",
    "\n",
    "def find_db_prefix(name):\n",
    "    for db_prefix in db_prefixes:\n",
    "        if name.startswith(db_prefix):\n",
    "            return db_prefix\n",
    "    return None\n",
    "\n",
    "tree = load_tree('/Users/gulugulu/repos/PuningAnalysis/data/dataset2_ensemble_trees/raw_data/tree_nh_file/91_eutherian_mammals_EPO-Extended_default.nh')\n",
    "\n",
    "db_names = []\n",
    "probs = []\n",
    "for tip_name in tree.get_tip_names():\n",
    "    db_name = find_db_prefix(tip_name.lower())\n",
    "    if db_name is None:\n",
    "        probs.append(tip_name)\n",
    "    else:\n",
    "        db_names.append(db_name)\n",
    "\n",
    "\n",
    "    \n",
    "\n",
    "\n"
   ]
  },
  {
   "cell_type": "code",
   "execution_count": 6,
   "metadata": {},
   "outputs": [],
   "source": [
    "import json\n",
    "with open('available_species_name.json', 'w') as outfile:\n",
    "    json.dump(db_names, outfile, indent=4)"
   ]
  }
 ],
 "metadata": {
  "kernelspec": {
   "display_name": "c312",
   "language": "python",
   "name": "python3"
  },
  "language_info": {
   "codemirror_mode": {
    "name": "ipython",
    "version": 3
   },
   "file_extension": ".py",
   "mimetype": "text/x-python",
   "name": "python",
   "nbconvert_exporter": "python",
   "pygments_lexer": "ipython3",
   "version": "3.11.8"
  }
 },
 "nbformat": 4,
 "nbformat_minor": 2
}
