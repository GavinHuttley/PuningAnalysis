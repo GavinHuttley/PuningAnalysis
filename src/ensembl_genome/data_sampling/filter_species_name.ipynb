{
 "cells": [
  {
   "cell_type": "code",
   "execution_count": 1,
   "metadata": {},
   "outputs": [],
   "source": [
    "from cogent3 import load_tree\n",
    "from ensembl_lite._species import Species\n",
    "\n",
    "path = '/Users/gulugulu/repos/PuningAnalysis/data/dataset2_ensemble_trees/raw_data/tree_nh_file/91_eutherian_mammals_EPO-Extended_default.nh'\n",
    "tree = load_tree(path)"
   ]
  },
  {
   "cell_type": "code",
   "execution_count": 2,
   "metadata": {},
   "outputs": [],
   "source": [
    "from ensembl_lite._species import Species\n",
    "from cogent3 import load_tree\n",
    "\n",
    "def make_db_prefixes():\n",
    "    return [n.lower().replace(\" \", \"_\") for n in Species.get_species_names()]\n",
    "\n",
    "db_prefixes = make_db_prefixes()\n",
    "\n",
    "def find_db_prefix(name):\n",
    "    for db_prefix in db_prefixes:\n",
    "        if name.startswith(db_prefix):\n",
    "            return db_prefix\n",
    "    return None\n",
    "\n",
    "tree = load_tree('/Users/gulugulu/repos/PuningAnalysis/data/dataset2_ensemble_trees/raw_data/tree_nh_file/91_eutherian_mammals_EPO-Extended_default.nh')\n",
    "\n",
    "db_names = []\n",
    "probs = []\n",
    "for tip_name in tree.get_tip_names():\n",
    "    db_name = find_db_prefix(tip_name.lower())\n",
    "    if db_name is None:\n",
    "        probs.append(tip_name)\n",
    "    else:\n",
    "        db_names.append(db_name)\n",
    "\n",
    "\n",
    "    \n",
    "\n",
    "\n"
   ]
  },
  {
   "cell_type": "code",
   "execution_count": 3,
   "metadata": {},
   "outputs": [],
   "source": [
    "import json\n",
    "with open('available_species_name.json', 'w') as outfile:\n",
    "    json.dump(db_names, outfile, indent=4)"
   ]
  },
  {
   "cell_type": "code",
   "execution_count": 4,
   "metadata": {},
   "outputs": [
    {
     "data": {
      "text/plain": [
       "['loxodonta_africana',\n",
       " 'procavia_capensis',\n",
       " 'echinops_telfairi',\n",
       " 'dasypus_novemcinctus',\n",
       " 'choloepus_hoffmanni',\n",
       " 'ursus_maritimus',\n",
       " 'ursus_americanus',\n",
       " 'ailuropoda_melanoleuca',\n",
       " 'mustela_putorius_furo',\n",
       " 'canis_lupus_dingo',\n",
       " 'canis_lupus_familiaris',\n",
       " 'vulpes_vulpes',\n",
       " 'panthera_pardus',\n",
       " 'panthera_leo',\n",
       " 'panthera_tigris_altaica',\n",
       " 'felis_catus',\n",
       " 'equus_caballus',\n",
       " 'equus_asinus',\n",
       " 'monodon_monoceros',\n",
       " 'delphinapterus_leucas',\n",
       " 'phocoena_sinus',\n",
       " 'tursiops_truncatus',\n",
       " 'physeter_catodon',\n",
       " 'balaenoptera_musculus',\n",
       " 'ovis_aries',\n",
       " 'capra_hircus',\n",
       " 'bos_mutus',\n",
       " 'bos_grunniens',\n",
       " 'bison_bison_bison',\n",
       " 'bos_taurus',\n",
       " 'moschus_moschiferus',\n",
       " 'cervus_hanglu_yarkandensis',\n",
       " 'sus_scrofa',\n",
       " 'catagonus_wagneri',\n",
       " 'camelus_dromedarius',\n",
       " 'vicugna_pacos',\n",
       " 'rhinolophus_ferrumequinum',\n",
       " 'pteropus_vampyrus',\n",
       " 'myotis_lucifugus',\n",
       " 'erinaceus_europaeus',\n",
       " 'mesocricetus_auratus',\n",
       " 'microtus_ochrogaster',\n",
       " 'peromyscus_maniculatus_bairdii',\n",
       " 'mus_spretus',\n",
       " 'mus_spicilegus',\n",
       " 'mus_musculus',\n",
       " 'mus_caroli',\n",
       " 'mus_pahari',\n",
       " 'rattus_norvegicus',\n",
       " 'nannospalax_galili',\n",
       " 'jaculus_jaculus',\n",
       " 'dipodomys_ordii',\n",
       " 'chinchilla_lanigera',\n",
       " 'octodon_degus',\n",
       " 'cavia_porcellus',\n",
       " 'urocitellus_parryii',\n",
       " 'ictidomys_tridecemlineatus',\n",
       " 'marmota_marmota_marmota',\n",
       " 'sciurus_vulgaris',\n",
       " 'oryctolagus_cuniculus',\n",
       " 'ochotona_princeps',\n",
       " 'pan_troglodytes',\n",
       " 'pan_paniscus',\n",
       " 'homo_sapiens',\n",
       " 'gorilla_gorilla',\n",
       " 'pongo_abelii',\n",
       " 'nomascus_leucogenys',\n",
       " 'cercocebus_atys',\n",
       " 'mandrillus_leucophaeus',\n",
       " 'papio_anubis',\n",
       " 'macaca_mulatta',\n",
       " 'macaca_fascicularis',\n",
       " 'macaca_nemestrina',\n",
       " 'chlorocebus_sabaeus',\n",
       " 'rhinopithecus_roxellana',\n",
       " 'rhinopithecus_bieti',\n",
       " 'cebus_imitator',\n",
       " 'saimiri_boliviensis_boliviensis',\n",
       " 'aotus_nancymaae',\n",
       " 'callithrix_jacchus',\n",
       " 'carlito_syrichta',\n",
       " 'prolemur_simus',\n",
       " 'propithecus_coquereli',\n",
       " 'microcebus_murinus',\n",
       " 'otolemur_garnettii',\n",
       " 'tupaia_belangeri',\n",
       " 'sorex_araneus']"
      ]
     },
     "execution_count": 4,
     "metadata": {},
     "output_type": "execute_result"
    }
   ],
   "source": [
    "db_names"
   ]
  },
  {
   "cell_type": "code",
   "execution_count": 5,
   "metadata": {},
   "outputs": [
    {
     "data": {
      "text/plain": [
       "['Neogale_vison',\n",
       " 'Bos_indicus_x_Bos_taurus_UOA_Brahman_1',\n",
       " 'Cricetulus_griseus_CHOK1GS_HDv1',\n",
       " 'Heterocephalus_glaber_reference_strain']"
      ]
     },
     "execution_count": 5,
     "metadata": {},
     "output_type": "execute_result"
    }
   ],
   "source": [
    "probs"
   ]
  }
 ],
 "metadata": {
  "kernelspec": {
   "display_name": "c312",
   "language": "python",
   "name": "python3"
  },
  "language_info": {
   "codemirror_mode": {
    "name": "ipython",
    "version": 3
   },
   "file_extension": ".py",
   "mimetype": "text/x-python",
   "name": "python",
   "nbconvert_exporter": "python",
   "pygments_lexer": "ipython3",
   "version": "3.11.8"
  }
 },
 "nbformat": 4,
 "nbformat_minor": 2
}
