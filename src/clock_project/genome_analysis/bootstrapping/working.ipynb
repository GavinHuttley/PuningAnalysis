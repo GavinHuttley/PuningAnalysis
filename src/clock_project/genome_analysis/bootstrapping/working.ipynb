{
 "cells": [
  {
   "cell_type": "code",
   "execution_count": 3,
   "metadata": {},
   "outputs": [],
   "source": [
    "from cogent3.app.result import bootstrap_result\n"
   ]
  },
  {
   "cell_type": "code",
   "execution_count": 4,
   "metadata": {},
   "outputs": [
    {
     "data": {
      "text/plain": [
       "<property at 0x15db99800>"
      ]
     },
     "execution_count": 4,
     "metadata": {},
     "output_type": "execute_result"
    }
   ],
   "source": [
    "bootstrap_result.observed"
   ]
  },
  {
   "cell_type": "code",
   "execution_count": null,
   "metadata": {},
   "outputs": [],
   "source": [
    "import json\n",
    "from cogent3.util.deserialise import deserialise_object\n",
    "\n",
    "# Assuming the required classes and functions have been defined or imported as per the previous discussion\n",
    "# including the bootstrap class, test_of_substitution_model, etc.\n",
    "\n",
    "# Define a function to simulate the full process with 10 bootstrap iterations\n",
    "def run_bootstrap_example(aln_serialisable, outgroup_name, tree, num_reps=10, verbose=True):\n",
    "    \"\"\"\n",
    "    Run the bootstrap process for a test of substitution model with 10 repetitions.\n",
    "    \n",
    "    Parameters:\n",
    "    -----------\n",
    "    aln_serialisable : str\n",
    "        Path to the alignment JSON file.\n",
    "    outgroup_name : str\n",
    "        Name of the out-group in the alignment.\n",
    "    tree : PhyloNode\n",
    "        The phylogenetic tree object.\n",
    "    num_reps : int\n",
    "        Number of bootstrap iterations (default is 10).\n",
    "    verbose : bool\n",
    "        Whether to show progress (default is True).\n",
    "        \n",
    "    Returns:\n",
    "    --------\n",
    "    bootstrap_result : compact_bootstrap_result\n",
    "        The result of the bootstrap process.\n",
    "    \"\"\"\n",
    "    # Load the alignment from a serialized file\n",
    "    aln = deserialise_object(json.load(open(aln_serialisable, 'r')))\n",
    "    \n",
    "    # Run the bootstrap process\n",
    "    bootstrap_result = create_bootstrap_substitution_app(\n",
    "        aln=aln,\n",
    "        outgroup_name=outgroup_name,\n",
    "        tree=tree,\n",
    "        just_continuous=False,\n",
    "        num_reps=num_reps,\n",
    "        opt_args=None,\n",
    "        verbose=verbose\n",
    "    )\n",
    "    \n",
    "    return bootstrap_result\n",
    "\n",
    "# Set paths and parameters\n",
    "aln_serialisable = '/Users/gulugulu/Desktop/honours/data_local/triples_aln_subset/ENSG00000007933_7.json'\n",
    "result_lf_serialisable = '/Users/gulugulu/Desktop/honours/data_local/whole_genome_mammal87/triads_model_fitting_350_threshold/ENSG00000007933/model_fitting_result/7.json'\n",
    "outgroup_name = \"Sperm_whale\"\n",
    "\n",
    "# Load the tree\n",
    "load_json_app = get_app(\"load_json\")\n",
    "result_lf = load_json_app(result_lf_serialisable)\n",
    "my_tree = result_lf.get_ens_tree()\n",
    "\n",
    "# Run the bootstrap with 10 repetitions\n",
    "bootstrap_result = run_bootstrap_example(aln_serialisable, outgroup_name, my_tree, num_reps=10)\n",
    "\n",
    "# Examine the bootstrap result\n",
    "print(\"Observed Likelihood Ratio (LR):\", bootstrap_result.observed.LR)\n",
    "print(\"P-value from bootstrap:\", bootstrap_result.pvalue)\n",
    "print(\"Number of bootstrap replicates:\", len(bootstrap_result))\n",
    "print(\"Bootstrap replicate Likelihood Ratios (LRs):\")\n",
    "for i, (key, val) in enumerate(bootstrap_result.items()):\n",
    "    print(f\"Replicate {i+1} - LR: {val['LR']}, p-value: {val['pvalue']}\")\n",
    "\n",
    "# Optional: Inspect the entire bootstrap result object if needed\n",
    "# print(bootstrap_result)\n"
   ]
  },
  {
   "cell_type": "code",
   "execution_count": 12,
   "metadata": {},
   "outputs": [],
   "source": [
    "import glob\n",
    "import os\n",
    "import re\n",
    "import json\n",
    "\n",
    "def extract_info(path):\n",
    "    # Define the regular expression pattern to extract the gene name and identifier\n",
    "    pattern = r\"/(ENSG\\d+)_(\\d+)\\.json\"\n",
    "    \n",
    "    # Search the pattern in the path\n",
    "    match = re.search(pattern, path)\n",
    "    if match:\n",
    "        gene_name = match.group(1)\n",
    "        identifier = match.group(2)\n",
    "        return gene_name, identifier\n",
    "    else:\n",
    "        return None, None\n",
    "    \n",
    "subset_dir = '/Users/gulugulu/Desktop/honours/data_local/triples_aln_subset'\n",
    "subset_triples_set_names = {}\n",
    "paths = glob.glob(os.path.join(subset_dir, '*.json'))\n",
    "info_dir = '/Users/gulugulu/Desktop/honours/data_local/whole_genome_mammal87/triads_350_threshold'\n",
    "for path in paths:\n",
    "    file_name = os.path.basename(path).rsplit('.', 1)[0]\n",
    "    gene_name, identifier = extract_info(path)\n",
    "    triples_name_info_dir = os.path.join(info_dir, gene_name, 'triads_species_names_dict.json')\n",
    "    triples_name_info = json.load(open(triples_name_info_dir, 'r'))\n",
    "    triple_names = triples_name_info[identifier]\n",
    "    subset_triples_set_names[file_name] = triple_names\n",
    "\n",
    "with open ('/Users/gulugulu/Desktop/honours/data_local/triples_aln_subset_names.json', 'w') as outfile:\n",
    "    json.dump(subset_triples_set_names, outfile, indent=4)\n",
    "\n"
   ]
  }
 ],
 "metadata": {
  "kernelspec": {
   "display_name": "c312",
   "language": "python",
   "name": "python3"
  },
  "language_info": {
   "codemirror_mode": {
    "name": "ipython",
    "version": 3
   },
   "file_extension": ".py",
   "mimetype": "text/x-python",
   "name": "python",
   "nbconvert_exporter": "python",
   "pygments_lexer": "ipython3",
   "version": "3.12.1"
  }
 },
 "nbformat": 4,
 "nbformat_minor": 2
}
