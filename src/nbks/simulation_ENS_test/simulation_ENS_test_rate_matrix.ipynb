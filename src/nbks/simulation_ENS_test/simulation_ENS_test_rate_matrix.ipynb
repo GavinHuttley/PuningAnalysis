{
 "cells": [
  {
   "cell_type": "code",
   "execution_count": 3,
   "metadata": {},
   "outputs": [],
   "source": [
    "import sys\n",
    "sys.path.insert(0, '/Users/gulugulu/repos/PuningAnalysis/src')"
   ]
  },
  {
   "cell_type": "code",
   "execution_count": 7,
   "metadata": {},
   "outputs": [],
   "source": [
    "from simulation.waiting_time_simulator import generate_ancestor, average_substitution, get_descrip_stat, simulate_seq\n",
    "from cogent3.maths.matrix_exponential_integration import expected_number_subs\n",
    "import numpy as np"
   ]
  },
  {
   "cell_type": "code",
   "execution_count": 5,
   "metadata": {},
   "outputs": [],
   "source": [
    "#parameter set up\n",
    "import json\n",
    "with open('../../../data/dataset1_16s-10_initial_alignments/matrix_motif.json', 'r') as file:\n",
    "    matrix_motif = json.load(file)\n"
   ]
  },
  {
   "cell_type": "code",
   "execution_count": 4,
   "metadata": {},
   "outputs": [],
   "source": [
    "Q1 = {'0': np.array(matrix_motif['0']['matrix']['200580'])}\n",
    "Q2 = {'0': np.array(matrix_motif['0']['matrix']['100667'])}\n",
    "Q3 = {'0': np.array(matrix_motif['0']['matrix']['279422'])}"
   ]
  },
  {
   "cell_type": "code",
   "execution_count": 5,
   "metadata": {},
   "outputs": [],
   "source": [
    "Q_list = [Q1, Q2, Q3]\n",
    "repeat_times = [100, 200, 500]"
   ]
  },
  {
   "cell_type": "code",
   "execution_count": 6,
   "metadata": {},
   "outputs": [],
   "source": [
    "t = 0.5\n",
    "pi_0 = matrix_motif['0']['motif_prob']\n",
    "n = 500\n",
    "ances_seq = generate_ancestor(n, pi_0)\n",
    "markov_order = 0\n"
   ]
  },
  {
   "cell_type": "code",
   "execution_count": 7,
   "metadata": {},
   "outputs": [],
   "source": [
    "#theoretical value of ENS\n",
    "theoretical_ns_list = []\n",
    "for Q in Q_list:\n",
    "    theoretical_ns = expected_number_subs(pi_0, Q['0'], t)\n",
    "    theoretical_ns_list.append(theoretical_ns)"
   ]
  },
  {
   "cell_type": "code",
   "execution_count": 8,
   "metadata": {},
   "outputs": [
    {
     "data": {
      "text/plain": [
       "[0.39739721133458367, 0.48703346620041577, 0.4753119637143971]"
      ]
     },
     "execution_count": 8,
     "metadata": {},
     "output_type": "execute_result"
    }
   ],
   "source": [
    "theoretical_ns_list"
   ]
  },
  {
   "cell_type": "code",
   "execution_count": 9,
   "metadata": {},
   "outputs": [],
   "source": [
    "# import plotly.express as px\n",
    "\n",
    "# simulated_ns_dict_100repeats = {}\n",
    "# for i in range(len(Q_list)):\n",
    "#     for r in repeat_times:\n",
    "#         print(r)\n",
    "#         simulated_ns_dict_100repeats[(i, r)] = average_substitution(Q_list[i], t, ances_seq, r, markov_order)\n"
   ]
  },
  {
   "cell_type": "code",
   "execution_count": 10,
   "metadata": {},
   "outputs": [],
   "source": [
    "# len(simulated_ns_dict_100repeats.keys())"
   ]
  },
  {
   "cell_type": "code",
   "execution_count": 11,
   "metadata": {},
   "outputs": [],
   "source": [
    "# keys = ['Q1, 100', 'Q1, 200', 'Q1, 500', 'Q2, 100', 'Q2, 200', 'Q2, 500', 'Q3, 100', 'Q3, 200', 'Q3, 500']\n",
    "# simulated_ns_dict = {}\n",
    "# for i in range(9):\n",
    "#     simulated_ns_dict[keys[i]] = list(simulated_ns_dict_100repeats.values())[i]\n"
   ]
  },
  {
   "cell_type": "code",
   "execution_count": 12,
   "metadata": {},
   "outputs": [],
   "source": [
    "# with open('../../../results/Q_test.json', 'w') as outfile:\n",
    "#     json.dump(simulated_ns_dict, outfile, indent=4)"
   ]
  },
  {
   "cell_type": "code",
   "execution_count": 16,
   "metadata": {},
   "outputs": [],
   "source": [
    "with open('../../../results/Q_test.json', 'r') as infile:\n",
    "    simulated_ns_dict_Q = json.load(infile)"
   ]
  },
  {
   "cell_type": "code",
   "execution_count": 17,
   "metadata": {},
   "outputs": [],
   "source": [
    "descrip_stata_Q = get_descrip_stat(simulated_ns_dict_Q)"
   ]
  },
  {
   "cell_type": "code",
   "execution_count": 15,
   "metadata": {},
   "outputs": [],
   "source": [
    "# fig = px.histogram(x=ns_list, nbins=10)\n",
    "\n",
    "# fig.update_layout(\n",
    "#     title_text='Number Distribution',\n",
    "#     xaxis_title_text='Number of Substitutions',\n",
    "#     yaxis_title_text='Count',\n",
    "#     bargap=0.2,\n",
    "# )\n",
    "\n",
    "# # Add a vertical line for the average\n",
    "# fig.add_vline(x=average, line_width=3, line_dash=\"dash\", line_color=\"red\")\n",
    "\n",
    "# fig.show()"
   ]
  },
  {
   "cell_type": "code",
   "execution_count": 18,
   "metadata": {},
   "outputs": [],
   "source": [
    "Q_ = {'0': np.array(matrix_motif['0']['matrix']['200580'])}\n",
    "pi_0 = matrix_motif['0']['motif_prob']\n",
    "repeats = 100\n",
    "markov_order = 0\n",
    "length = 2000\n",
    "time_range = [0.5, 1, 2, 3, 4]\n",
    "ances_seq = generate_ancestor(length, pi_0)"
   ]
  },
  {
   "cell_type": "code",
   "execution_count": 19,
   "metadata": {},
   "outputs": [
    {
     "name": "stdout",
     "output_type": "stream",
     "text": [
      "0.5\n",
      "1\n",
      "2\n",
      "3\n",
      "4\n"
     ]
    }
   ],
   "source": [
    "# Dictionary to store results\n",
    "results = {}\n",
    "\n",
    "# Loop over each sequence length and time to perform simulations\n",
    "for t in time_range:\n",
    "    print(t)\n",
    "    length = 2000\n",
    "    ns_per_site_list, avg_ns_per_site = average_substitution(Q_, t, ances_seq, repeats, markov_order)\n",
    "    # Store the results\n",
    "    results[f\"Length {length}, Time {t}\"] = {\n",
    "        'avg_ns_per_site': avg_ns_per_site,\n",
    "        'ns_per_site_list': ns_per_site_list\n",
    "    }\n",
    "\n",
    "with open('../../../results/length_2000.json', 'w') as outfile:\n",
    "    json.dump(results, outfile, indent=4)"
   ]
  },
  {
   "cell_type": "code",
   "execution_count": null,
   "metadata": {},
   "outputs": [],
   "source": [
    "# a = simulate_seq(ances_seq, 3, Q_, 0)"
   ]
  }
 ],
 "metadata": {
  "kernelspec": {
   "display_name": "c311",
   "language": "python",
   "name": "python3"
  },
  "language_info": {
   "codemirror_mode": {
    "name": "ipython",
    "version": 3
   },
   "file_extension": ".py",
   "mimetype": "text/x-python",
   "name": "python",
   "nbconvert_exporter": "python",
   "pygments_lexer": "ipython3",
   "version": "3.12.1"
  }
 },
 "nbformat": 4,
 "nbformat_minor": 2
}
