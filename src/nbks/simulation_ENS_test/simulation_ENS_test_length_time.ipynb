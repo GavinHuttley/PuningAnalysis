{
 "cells": [
  {
   "cell_type": "code",
   "execution_count": 3,
   "metadata": {},
   "outputs": [],
   "source": [
    "#parameter set up\n",
    "import json\n",
    "with open('../../../data/dataset1_16s-10_initial_alignments/matrix_motif.json', 'r') as file:\n",
    "    matrix_motif = json.load(file)"
   ]
  },
  {
   "cell_type": "code",
   "execution_count": 37,
   "metadata": {},
   "outputs": [],
   "source": [
    "with open('../../../results/length_3000.json', 'r') as file1:\n",
    "    results_3000 = json.load(file1)\n",
    "\n",
    "with open('../../../results/length_1000.json', 'r') as file2:\n",
    "    results_1000 = json.load(file2)\n",
    "\n",
    "with open('../../../results/length_2000.json', 'r') as file3:\n",
    "    results_2000 = json.load(file3)\n",
    "\n",
    "with open('../../../results/length_4000.json', 'r') as file4:\n",
    "    results_4000 = json.load(file4)"
   ]
  },
  {
   "cell_type": "code",
   "execution_count": null,
   "metadata": {},
   "outputs": [],
   "source": [
    "time_range = [0.5, 1, 2, 3, 4]\n",
    "time_range_ = [0.5, 1, 2, 3]"
   ]
  },
  {
   "cell_type": "code",
   "execution_count": null,
   "metadata": {},
   "outputs": [],
   "source": [
    "results_1000_new = {t: value for t, value in zip(time_range, results_1000.values())}\n",
    "results_2000_new = {t: value for t, value in zip(time_range, results_2000.values())}\n",
    "results_3000_new = {t: value for t, value in zip(time_range, results_3000.values())}\n",
    "results_4000_new = {t: value for t, value in zip([0.5, 1, 2, 3], results_4000.values())}"
   ]
  },
  {
   "cell_type": "code",
   "execution_count": null,
   "metadata": {},
   "outputs": [],
   "source": [
    "from scipy import stats\n",
    "import statistics\n",
    "\n",
    "def get_all_stats(ns_dict, theoretical_ns_dict, time_range):\n",
    "    \n",
    "    combined_results = {}\n",
    "\n",
    "    # Loop over each time point in the ns_dict\n",
    "    for i, t in enumerate(time_range):\n",
    "        ns_per_site_list = ns_dict[t]['ns_per_site_list']\n",
    "        theoretical_mean = theoretical_ns_dict[t]\n",
    "\n",
    "        # Calculate descriptive statistics\n",
    "        average = statistics.mean(ns_per_site_list)\n",
    "        std_dev = statistics.stdev(ns_per_site_list)\n",
    "        cv = (std_dev / average) * 100\n",
    "\n",
    "        # Perform t-test\n",
    "        t_stat, p_value = stats.ttest_1samp(ns_per_site_list, theoretical_mean)\n",
    "\n",
    "        # Store results in dictionary\n",
    "        combined_results[t] = {\n",
    "            'average': average,\n",
    "            'theoretical_ns':theoretical_ns_dict[t],\n",
    "            'standard_deviation': std_dev,\n",
    "            'coefficient_of_variation': cv,\n",
    "            't_stat': t_stat,\n",
    "            'p_value': p_value\n",
    "        }\n",
    "\n",
    "    return combined_results\n",
    "\n"
   ]
  },
  {
   "cell_type": "code",
   "execution_count": null,
   "metadata": {},
   "outputs": [],
   "source": [
    "from cogent3.maths.matrix_exponential_integration import expected_number_subs\n",
    "\n",
    "theoretical_ns_dict = {}\n",
    "for t in time_range:\n",
    "    theoretical_ns_dict[t] = expected_number_subs()\n",
    "\n"
   ]
  },
  {
   "cell_type": "code",
   "execution_count": null,
   "metadata": {},
   "outputs": [],
   "source": [
    "stats_1000 = get_all_stats(results_1000_new, theoretical_ns_dict, time_range)\n",
    "stats_2000 = get_all_stats(results_2000_new, theoretical_ns_dict, time_range)\n",
    "stats_3000 = get_all_stats(results_3000_new, theoretical_ns_dict, time_range)\n",
    "stats_4000 = get_all_stats(results_4000_new, theoretical_ns_dict, time_range_)"
   ]
  },
  {
   "cell_type": "code",
   "execution_count": null,
   "metadata": {},
   "outputs": [],
   "source": [
    "ns_dict_all = {'1000': results_1000_new, '2000': results_2000_new, '3000': results_3000_new, '4000': results_4000_new}"
   ]
  },
  {
   "cell_type": "code",
   "execution_count": null,
   "metadata": {},
   "outputs": [],
   "source": [
    "import pandas as pd\n",
    "stat_dict_all = {'1000': stats_1000, '2000': stats_2000, '3000': stats_3000, '4000': stats_4000}\n"
   ]
  },
  {
   "cell_type": "code",
   "execution_count": null,
   "metadata": {},
   "outputs": [],
   "source": [
    "# Creating a DataFrame\n",
    "df_list = []\n",
    "for length, times in stat_dict_all.items():\n",
    "    for time, stats in times.items():\n",
    "        df_list.append({'Length': int(length), 'Time': time, 'Theoretical': theoretical_ns_dict[time], 'Average': stats['average'], 'stdev':stats['standard_deviation'], 'cv': stats['coefficient_of_variation'], 't-value': stats['t_stat'], 'p-value': stats['p_value']})\n",
    "\n",
    "df = pd.DataFrame(df_list)"
   ]
  },
  {
   "cell_type": "code",
   "execution_count": null,
   "metadata": {},
   "outputs": [
    {
     "name": "stderr",
     "output_type": "stream",
     "text": [
      "/Users/gulugulu/opt/anaconda3/envs/c312/lib/python3.12/site-packages/plotly/express/_core.py:2065: FutureWarning: When grouping with a length-1 list-like, you will need to pass a length-1 tuple to get_group in a future version of pandas. Pass `(name,)` instead of `name` to silence this warning.\n",
      "  sf: grouped.get_group(s if len(s) > 1 else s[0])\n"
     ]
    },
    {
     "data": {
      "application/vnd.plotly.v1+json": {
       "config": {
        "plotlyServerURL": "https://plot.ly"
       },
       "data": [
        {
         "hovertemplate": "Length=1000<br>Time=%{x}<br>P-value=%{y}<extra></extra>",
         "legendgroup": "1000",
         "line": {
          "color": "#636efa",
          "dash": "solid"
         },
         "marker": {
          "symbol": "circle"
         },
         "mode": "markers+lines",
         "name": "1000",
         "orientation": "v",
         "showlegend": true,
         "type": "scatter",
         "x": [
          0.5,
          1,
          2,
          3,
          4
         ],
         "xaxis": "x",
         "y": [
          0.2210191837224552,
          0.377472244784529,
          0.4282597197071567,
          0.054865623373893495,
          0.014490312472583379
         ],
         "yaxis": "y"
        },
        {
         "hovertemplate": "Length=2000<br>Time=%{x}<br>P-value=%{y}<extra></extra>",
         "legendgroup": "2000",
         "line": {
          "color": "#EF553B",
          "dash": "solid"
         },
         "marker": {
          "symbol": "circle"
         },
         "mode": "markers+lines",
         "name": "2000",
         "orientation": "v",
         "showlegend": true,
         "type": "scatter",
         "x": [
          0.5,
          1,
          2,
          3,
          4
         ],
         "xaxis": "x",
         "y": [
          0.000289459906180589,
          0.00014094581222440157,
          0.000020958632444952262,
          2.11659847579328e-9,
          3.407978168187848e-9
         ],
         "yaxis": "y"
        },
        {
         "hovertemplate": "Length=3000<br>Time=%{x}<br>P-value=%{y}<extra></extra>",
         "legendgroup": "3000",
         "line": {
          "color": "#00cc96",
          "dash": "solid"
         },
         "marker": {
          "symbol": "circle"
         },
         "mode": "markers+lines",
         "name": "3000",
         "orientation": "v",
         "showlegend": true,
         "type": "scatter",
         "x": [
          0.5,
          1,
          2,
          3,
          4
         ],
         "xaxis": "x",
         "y": [
          0.08912718446908877,
          0.011474332730431533,
          0.0035406111080797465,
          0.0006421117970276769,
          0.09901857188667378
         ],
         "yaxis": "y"
        },
        {
         "hovertemplate": "Length=4000<br>Time=%{x}<br>P-value=%{y}<extra></extra>",
         "legendgroup": "4000",
         "line": {
          "color": "#ab63fa",
          "dash": "solid"
         },
         "marker": {
          "symbol": "circle"
         },
         "mode": "markers+lines",
         "name": "4000",
         "orientation": "v",
         "showlegend": true,
         "type": "scatter",
         "x": [
          0.5,
          1,
          2,
          3
         ],
         "xaxis": "x",
         "y": [
          0.19866685526063424,
          0.9871899301509157,
          0.2573624940798912,
          0.3267593972984888
         ],
         "yaxis": "y"
        }
       ],
       "layout": {
        "legend": {
         "title": {
          "text": "Length"
         },
         "tracegroupgap": 0
        },
        "shapes": [
         {
          "line": {
           "color": "red",
           "dash": "dash",
           "width": 3
          },
          "type": "line",
          "x0": 0,
          "x1": 1,
          "xref": "x domain",
          "y0": 0.05,
          "y1": 0.05,
          "yref": "y"
         }
        ],
        "template": {
         "data": {
          "bar": [
           {
            "error_x": {
             "color": "#2a3f5f"
            },
            "error_y": {
             "color": "#2a3f5f"
            },
            "marker": {
             "line": {
              "color": "#E5ECF6",
              "width": 0.5
             },
             "pattern": {
              "fillmode": "overlay",
              "size": 10,
              "solidity": 0.2
             }
            },
            "type": "bar"
           }
          ],
          "barpolar": [
           {
            "marker": {
             "line": {
              "color": "#E5ECF6",
              "width": 0.5
             },
             "pattern": {
              "fillmode": "overlay",
              "size": 10,
              "solidity": 0.2
             }
            },
            "type": "barpolar"
           }
          ],
          "carpet": [
           {
            "aaxis": {
             "endlinecolor": "#2a3f5f",
             "gridcolor": "white",
             "linecolor": "white",
             "minorgridcolor": "white",
             "startlinecolor": "#2a3f5f"
            },
            "baxis": {
             "endlinecolor": "#2a3f5f",
             "gridcolor": "white",
             "linecolor": "white",
             "minorgridcolor": "white",
             "startlinecolor": "#2a3f5f"
            },
            "type": "carpet"
           }
          ],
          "choropleth": [
           {
            "colorbar": {
             "outlinewidth": 0,
             "ticks": ""
            },
            "type": "choropleth"
           }
          ],
          "contour": [
           {
            "colorbar": {
             "outlinewidth": 0,
             "ticks": ""
            },
            "colorscale": [
             [
              0,
              "#0d0887"
             ],
             [
              0.1111111111111111,
              "#46039f"
             ],
             [
              0.2222222222222222,
              "#7201a8"
             ],
             [
              0.3333333333333333,
              "#9c179e"
             ],
             [
              0.4444444444444444,
              "#bd3786"
             ],
             [
              0.5555555555555556,
              "#d8576b"
             ],
             [
              0.6666666666666666,
              "#ed7953"
             ],
             [
              0.7777777777777778,
              "#fb9f3a"
             ],
             [
              0.8888888888888888,
              "#fdca26"
             ],
             [
              1,
              "#f0f921"
             ]
            ],
            "type": "contour"
           }
          ],
          "contourcarpet": [
           {
            "colorbar": {
             "outlinewidth": 0,
             "ticks": ""
            },
            "type": "contourcarpet"
           }
          ],
          "heatmap": [
           {
            "colorbar": {
             "outlinewidth": 0,
             "ticks": ""
            },
            "colorscale": [
             [
              0,
              "#0d0887"
             ],
             [
              0.1111111111111111,
              "#46039f"
             ],
             [
              0.2222222222222222,
              "#7201a8"
             ],
             [
              0.3333333333333333,
              "#9c179e"
             ],
             [
              0.4444444444444444,
              "#bd3786"
             ],
             [
              0.5555555555555556,
              "#d8576b"
             ],
             [
              0.6666666666666666,
              "#ed7953"
             ],
             [
              0.7777777777777778,
              "#fb9f3a"
             ],
             [
              0.8888888888888888,
              "#fdca26"
             ],
             [
              1,
              "#f0f921"
             ]
            ],
            "type": "heatmap"
           }
          ],
          "heatmapgl": [
           {
            "colorbar": {
             "outlinewidth": 0,
             "ticks": ""
            },
            "colorscale": [
             [
              0,
              "#0d0887"
             ],
             [
              0.1111111111111111,
              "#46039f"
             ],
             [
              0.2222222222222222,
              "#7201a8"
             ],
             [
              0.3333333333333333,
              "#9c179e"
             ],
             [
              0.4444444444444444,
              "#bd3786"
             ],
             [
              0.5555555555555556,
              "#d8576b"
             ],
             [
              0.6666666666666666,
              "#ed7953"
             ],
             [
              0.7777777777777778,
              "#fb9f3a"
             ],
             [
              0.8888888888888888,
              "#fdca26"
             ],
             [
              1,
              "#f0f921"
             ]
            ],
            "type": "heatmapgl"
           }
          ],
          "histogram": [
           {
            "marker": {
             "pattern": {
              "fillmode": "overlay",
              "size": 10,
              "solidity": 0.2
             }
            },
            "type": "histogram"
           }
          ],
          "histogram2d": [
           {
            "colorbar": {
             "outlinewidth": 0,
             "ticks": ""
            },
            "colorscale": [
             [
              0,
              "#0d0887"
             ],
             [
              0.1111111111111111,
              "#46039f"
             ],
             [
              0.2222222222222222,
              "#7201a8"
             ],
             [
              0.3333333333333333,
              "#9c179e"
             ],
             [
              0.4444444444444444,
              "#bd3786"
             ],
             [
              0.5555555555555556,
              "#d8576b"
             ],
             [
              0.6666666666666666,
              "#ed7953"
             ],
             [
              0.7777777777777778,
              "#fb9f3a"
             ],
             [
              0.8888888888888888,
              "#fdca26"
             ],
             [
              1,
              "#f0f921"
             ]
            ],
            "type": "histogram2d"
           }
          ],
          "histogram2dcontour": [
           {
            "colorbar": {
             "outlinewidth": 0,
             "ticks": ""
            },
            "colorscale": [
             [
              0,
              "#0d0887"
             ],
             [
              0.1111111111111111,
              "#46039f"
             ],
             [
              0.2222222222222222,
              "#7201a8"
             ],
             [
              0.3333333333333333,
              "#9c179e"
             ],
             [
              0.4444444444444444,
              "#bd3786"
             ],
             [
              0.5555555555555556,
              "#d8576b"
             ],
             [
              0.6666666666666666,
              "#ed7953"
             ],
             [
              0.7777777777777778,
              "#fb9f3a"
             ],
             [
              0.8888888888888888,
              "#fdca26"
             ],
             [
              1,
              "#f0f921"
             ]
            ],
            "type": "histogram2dcontour"
           }
          ],
          "mesh3d": [
           {
            "colorbar": {
             "outlinewidth": 0,
             "ticks": ""
            },
            "type": "mesh3d"
           }
          ],
          "parcoords": [
           {
            "line": {
             "colorbar": {
              "outlinewidth": 0,
              "ticks": ""
             }
            },
            "type": "parcoords"
           }
          ],
          "pie": [
           {
            "automargin": true,
            "type": "pie"
           }
          ],
          "scatter": [
           {
            "fillpattern": {
             "fillmode": "overlay",
             "size": 10,
             "solidity": 0.2
            },
            "type": "scatter"
           }
          ],
          "scatter3d": [
           {
            "line": {
             "colorbar": {
              "outlinewidth": 0,
              "ticks": ""
             }
            },
            "marker": {
             "colorbar": {
              "outlinewidth": 0,
              "ticks": ""
             }
            },
            "type": "scatter3d"
           }
          ],
          "scattercarpet": [
           {
            "marker": {
             "colorbar": {
              "outlinewidth": 0,
              "ticks": ""
             }
            },
            "type": "scattercarpet"
           }
          ],
          "scattergeo": [
           {
            "marker": {
             "colorbar": {
              "outlinewidth": 0,
              "ticks": ""
             }
            },
            "type": "scattergeo"
           }
          ],
          "scattergl": [
           {
            "marker": {
             "colorbar": {
              "outlinewidth": 0,
              "ticks": ""
             }
            },
            "type": "scattergl"
           }
          ],
          "scattermapbox": [
           {
            "marker": {
             "colorbar": {
              "outlinewidth": 0,
              "ticks": ""
             }
            },
            "type": "scattermapbox"
           }
          ],
          "scatterpolar": [
           {
            "marker": {
             "colorbar": {
              "outlinewidth": 0,
              "ticks": ""
             }
            },
            "type": "scatterpolar"
           }
          ],
          "scatterpolargl": [
           {
            "marker": {
             "colorbar": {
              "outlinewidth": 0,
              "ticks": ""
             }
            },
            "type": "scatterpolargl"
           }
          ],
          "scatterternary": [
           {
            "marker": {
             "colorbar": {
              "outlinewidth": 0,
              "ticks": ""
             }
            },
            "type": "scatterternary"
           }
          ],
          "surface": [
           {
            "colorbar": {
             "outlinewidth": 0,
             "ticks": ""
            },
            "colorscale": [
             [
              0,
              "#0d0887"
             ],
             [
              0.1111111111111111,
              "#46039f"
             ],
             [
              0.2222222222222222,
              "#7201a8"
             ],
             [
              0.3333333333333333,
              "#9c179e"
             ],
             [
              0.4444444444444444,
              "#bd3786"
             ],
             [
              0.5555555555555556,
              "#d8576b"
             ],
             [
              0.6666666666666666,
              "#ed7953"
             ],
             [
              0.7777777777777778,
              "#fb9f3a"
             ],
             [
              0.8888888888888888,
              "#fdca26"
             ],
             [
              1,
              "#f0f921"
             ]
            ],
            "type": "surface"
           }
          ],
          "table": [
           {
            "cells": {
             "fill": {
              "color": "#EBF0F8"
             },
             "line": {
              "color": "white"
             }
            },
            "header": {
             "fill": {
              "color": "#C8D4E3"
             },
             "line": {
              "color": "white"
             }
            },
            "type": "table"
           }
          ]
         },
         "layout": {
          "annotationdefaults": {
           "arrowcolor": "#2a3f5f",
           "arrowhead": 0,
           "arrowwidth": 1
          },
          "autotypenumbers": "strict",
          "coloraxis": {
           "colorbar": {
            "outlinewidth": 0,
            "ticks": ""
           }
          },
          "colorscale": {
           "diverging": [
            [
             0,
             "#8e0152"
            ],
            [
             0.1,
             "#c51b7d"
            ],
            [
             0.2,
             "#de77ae"
            ],
            [
             0.3,
             "#f1b6da"
            ],
            [
             0.4,
             "#fde0ef"
            ],
            [
             0.5,
             "#f7f7f7"
            ],
            [
             0.6,
             "#e6f5d0"
            ],
            [
             0.7,
             "#b8e186"
            ],
            [
             0.8,
             "#7fbc41"
            ],
            [
             0.9,
             "#4d9221"
            ],
            [
             1,
             "#276419"
            ]
           ],
           "sequential": [
            [
             0,
             "#0d0887"
            ],
            [
             0.1111111111111111,
             "#46039f"
            ],
            [
             0.2222222222222222,
             "#7201a8"
            ],
            [
             0.3333333333333333,
             "#9c179e"
            ],
            [
             0.4444444444444444,
             "#bd3786"
            ],
            [
             0.5555555555555556,
             "#d8576b"
            ],
            [
             0.6666666666666666,
             "#ed7953"
            ],
            [
             0.7777777777777778,
             "#fb9f3a"
            ],
            [
             0.8888888888888888,
             "#fdca26"
            ],
            [
             1,
             "#f0f921"
            ]
           ],
           "sequentialminus": [
            [
             0,
             "#0d0887"
            ],
            [
             0.1111111111111111,
             "#46039f"
            ],
            [
             0.2222222222222222,
             "#7201a8"
            ],
            [
             0.3333333333333333,
             "#9c179e"
            ],
            [
             0.4444444444444444,
             "#bd3786"
            ],
            [
             0.5555555555555556,
             "#d8576b"
            ],
            [
             0.6666666666666666,
             "#ed7953"
            ],
            [
             0.7777777777777778,
             "#fb9f3a"
            ],
            [
             0.8888888888888888,
             "#fdca26"
            ],
            [
             1,
             "#f0f921"
            ]
           ]
          },
          "colorway": [
           "#636efa",
           "#EF553B",
           "#00cc96",
           "#ab63fa",
           "#FFA15A",
           "#19d3f3",
           "#FF6692",
           "#B6E880",
           "#FF97FF",
           "#FECB52"
          ],
          "font": {
           "color": "#2a3f5f"
          },
          "geo": {
           "bgcolor": "white",
           "lakecolor": "white",
           "landcolor": "#E5ECF6",
           "showlakes": true,
           "showland": true,
           "subunitcolor": "white"
          },
          "hoverlabel": {
           "align": "left"
          },
          "hovermode": "closest",
          "mapbox": {
           "style": "light"
          },
          "paper_bgcolor": "white",
          "plot_bgcolor": "#E5ECF6",
          "polar": {
           "angularaxis": {
            "gridcolor": "white",
            "linecolor": "white",
            "ticks": ""
           },
           "bgcolor": "#E5ECF6",
           "radialaxis": {
            "gridcolor": "white",
            "linecolor": "white",
            "ticks": ""
           }
          },
          "scene": {
           "xaxis": {
            "backgroundcolor": "#E5ECF6",
            "gridcolor": "white",
            "gridwidth": 2,
            "linecolor": "white",
            "showbackground": true,
            "ticks": "",
            "zerolinecolor": "white"
           },
           "yaxis": {
            "backgroundcolor": "#E5ECF6",
            "gridcolor": "white",
            "gridwidth": 2,
            "linecolor": "white",
            "showbackground": true,
            "ticks": "",
            "zerolinecolor": "white"
           },
           "zaxis": {
            "backgroundcolor": "#E5ECF6",
            "gridcolor": "white",
            "gridwidth": 2,
            "linecolor": "white",
            "showbackground": true,
            "ticks": "",
            "zerolinecolor": "white"
           }
          },
          "shapedefaults": {
           "line": {
            "color": "#2a3f5f"
           }
          },
          "ternary": {
           "aaxis": {
            "gridcolor": "white",
            "linecolor": "white",
            "ticks": ""
           },
           "baxis": {
            "gridcolor": "white",
            "linecolor": "white",
            "ticks": ""
           },
           "bgcolor": "#E5ECF6",
           "caxis": {
            "gridcolor": "white",
            "linecolor": "white",
            "ticks": ""
           }
          },
          "title": {
           "x": 0.05
          },
          "xaxis": {
           "automargin": true,
           "gridcolor": "white",
           "linecolor": "white",
           "ticks": "",
           "title": {
            "standoff": 15
           },
           "zerolinecolor": "white",
           "zerolinewidth": 2
          },
          "yaxis": {
           "automargin": true,
           "gridcolor": "white",
           "linecolor": "white",
           "ticks": "",
           "title": {
            "standoff": 15
           },
           "zerolinecolor": "white",
           "zerolinewidth": 2
          }
         }
        },
        "title": {
         "text": "P-value vs. Time for Different Sequence Lengths"
        },
        "xaxis": {
         "anchor": "y",
         "domain": [
          0,
          1
         ],
         "title": {
          "text": "Time"
         }
        },
        "yaxis": {
         "anchor": "x",
         "domain": [
          0,
          1
         ],
         "title": {
          "text": "P-value"
         }
        }
       }
      }
     },
     "metadata": {},
     "output_type": "display_data"
    }
   ],
   "source": [
    "import plotly.express as px\n",
    "# Time vs. p-value for each sequence length\n",
    "fig_time_pvalue = px.line(df, x='Time', y='p-value', color='Length', markers=True,\n",
    "                          labels={'p-value': 'P-value', 'Time': 'Time'},\n",
    "                          title='P-value vs. Time for Different Sequence Lengths')\n",
    "fig_time_pvalue.add_hline(y=0.05, line_width=3, line_dash=\"dash\", line_color=\"red\")\n",
    "fig_time_pvalue.write_image(\"P_value_length_time.pdf\")\n",
    "\n",
    "fig_time_pvalue.show()"
   ]
  },
  {
   "cell_type": "code",
   "execution_count": null,
   "metadata": {},
   "outputs": [
    {
     "name": "stderr",
     "output_type": "stream",
     "text": [
      "/Users/gulugulu/opt/anaconda3/envs/c312/lib/python3.12/site-packages/plotly/express/_core.py:2065: FutureWarning:\n",
      "\n",
      "When grouping with a length-1 list-like, you will need to pass a length-1 tuple to get_group in a future version of pandas. Pass `(name,)` instead of `name` to silence this warning.\n",
      "\n"
     ]
    },
    {
     "data": {
      "application/vnd.plotly.v1+json": {
       "config": {
        "plotlyServerURL": "https://plot.ly"
       },
       "data": [
        {
         "hovertemplate": "Length=1000<br>Time=%{x}<br>Coefficient of variation=%{y}<extra></extra>",
         "legendgroup": "1000",
         "line": {
          "color": "#636efa",
          "dash": "solid"
         },
         "marker": {
          "symbol": "circle"
         },
         "mode": "markers+lines",
         "name": "1000",
         "orientation": "v",
         "showlegend": true,
         "type": "scatter",
         "x": [
          0.5,
          1,
          2,
          3,
          4
         ],
         "xaxis": "x",
         "y": [
          3.7477859423750632,
          2.928392379381625,
          2.3945504942603257,
          2.287019636914155,
          2.211692120177226
         ],
         "yaxis": "y"
        },
        {
         "hovertemplate": "Length=2000<br>Time=%{x}<br>Coefficient of variation=%{y}<extra></extra>",
         "legendgroup": "2000",
         "line": {
          "color": "#EF553B",
          "dash": "solid"
         },
         "marker": {
          "symbol": "circle"
         },
         "mode": "markers+lines",
         "name": "2000",
         "orientation": "v",
         "showlegend": true,
         "type": "scatter",
         "x": [
          0.5,
          1,
          2,
          3,
          4
         ],
         "xaxis": "x",
         "y": [
          2.8437404962491604,
          1.9269828497616048,
          1.6816600865207996,
          1.5244306614407406,
          1.5226490945305144
         ],
         "yaxis": "y"
        },
        {
         "hovertemplate": "Length=3000<br>Time=%{x}<br>Coefficient of variation=%{y}<extra></extra>",
         "legendgroup": "3000",
         "line": {
          "color": "#00cc96",
          "dash": "solid"
         },
         "marker": {
          "symbol": "circle"
         },
         "mode": "markers+lines",
         "name": "3000",
         "orientation": "v",
         "showlegend": true,
         "type": "scatter",
         "x": [
          0.5,
          1,
          2,
          3,
          4
         ],
         "xaxis": "x",
         "y": [
          2.0984956134153343,
          1.4993211708946648,
          1.2344942241637915,
          1.343199444778742,
          1.194004766047007
         ],
         "yaxis": "y"
        },
        {
         "hovertemplate": "Length=4000<br>Time=%{x}<br>Coefficient of variation=%{y}<extra></extra>",
         "legendgroup": "4000",
         "line": {
          "color": "#ab63fa",
          "dash": "solid"
         },
         "marker": {
          "symbol": "circle"
         },
         "mode": "markers+lines",
         "name": "4000",
         "orientation": "v",
         "showlegend": true,
         "type": "scatter",
         "x": [
          0.5,
          1,
          2,
          3
         ],
         "xaxis": "x",
         "y": [
          1.888543751685138,
          1.536008633442996,
          1.064033464624605,
          1.023352534436144
         ],
         "yaxis": "y"
        }
       ],
       "layout": {
        "legend": {
         "title": {
          "text": "Length"
         },
         "tracegroupgap": 0
        },
        "template": {
         "data": {
          "bar": [
           {
            "error_x": {
             "color": "#2a3f5f"
            },
            "error_y": {
             "color": "#2a3f5f"
            },
            "marker": {
             "line": {
              "color": "#E5ECF6",
              "width": 0.5
             },
             "pattern": {
              "fillmode": "overlay",
              "size": 10,
              "solidity": 0.2
             }
            },
            "type": "bar"
           }
          ],
          "barpolar": [
           {
            "marker": {
             "line": {
              "color": "#E5ECF6",
              "width": 0.5
             },
             "pattern": {
              "fillmode": "overlay",
              "size": 10,
              "solidity": 0.2
             }
            },
            "type": "barpolar"
           }
          ],
          "carpet": [
           {
            "aaxis": {
             "endlinecolor": "#2a3f5f",
             "gridcolor": "white",
             "linecolor": "white",
             "minorgridcolor": "white",
             "startlinecolor": "#2a3f5f"
            },
            "baxis": {
             "endlinecolor": "#2a3f5f",
             "gridcolor": "white",
             "linecolor": "white",
             "minorgridcolor": "white",
             "startlinecolor": "#2a3f5f"
            },
            "type": "carpet"
           }
          ],
          "choropleth": [
           {
            "colorbar": {
             "outlinewidth": 0,
             "ticks": ""
            },
            "type": "choropleth"
           }
          ],
          "contour": [
           {
            "colorbar": {
             "outlinewidth": 0,
             "ticks": ""
            },
            "colorscale": [
             [
              0,
              "#0d0887"
             ],
             [
              0.1111111111111111,
              "#46039f"
             ],
             [
              0.2222222222222222,
              "#7201a8"
             ],
             [
              0.3333333333333333,
              "#9c179e"
             ],
             [
              0.4444444444444444,
              "#bd3786"
             ],
             [
              0.5555555555555556,
              "#d8576b"
             ],
             [
              0.6666666666666666,
              "#ed7953"
             ],
             [
              0.7777777777777778,
              "#fb9f3a"
             ],
             [
              0.8888888888888888,
              "#fdca26"
             ],
             [
              1,
              "#f0f921"
             ]
            ],
            "type": "contour"
           }
          ],
          "contourcarpet": [
           {
            "colorbar": {
             "outlinewidth": 0,
             "ticks": ""
            },
            "type": "contourcarpet"
           }
          ],
          "heatmap": [
           {
            "colorbar": {
             "outlinewidth": 0,
             "ticks": ""
            },
            "colorscale": [
             [
              0,
              "#0d0887"
             ],
             [
              0.1111111111111111,
              "#46039f"
             ],
             [
              0.2222222222222222,
              "#7201a8"
             ],
             [
              0.3333333333333333,
              "#9c179e"
             ],
             [
              0.4444444444444444,
              "#bd3786"
             ],
             [
              0.5555555555555556,
              "#d8576b"
             ],
             [
              0.6666666666666666,
              "#ed7953"
             ],
             [
              0.7777777777777778,
              "#fb9f3a"
             ],
             [
              0.8888888888888888,
              "#fdca26"
             ],
             [
              1,
              "#f0f921"
             ]
            ],
            "type": "heatmap"
           }
          ],
          "heatmapgl": [
           {
            "colorbar": {
             "outlinewidth": 0,
             "ticks": ""
            },
            "colorscale": [
             [
              0,
              "#0d0887"
             ],
             [
              0.1111111111111111,
              "#46039f"
             ],
             [
              0.2222222222222222,
              "#7201a8"
             ],
             [
              0.3333333333333333,
              "#9c179e"
             ],
             [
              0.4444444444444444,
              "#bd3786"
             ],
             [
              0.5555555555555556,
              "#d8576b"
             ],
             [
              0.6666666666666666,
              "#ed7953"
             ],
             [
              0.7777777777777778,
              "#fb9f3a"
             ],
             [
              0.8888888888888888,
              "#fdca26"
             ],
             [
              1,
              "#f0f921"
             ]
            ],
            "type": "heatmapgl"
           }
          ],
          "histogram": [
           {
            "marker": {
             "pattern": {
              "fillmode": "overlay",
              "size": 10,
              "solidity": 0.2
             }
            },
            "type": "histogram"
           }
          ],
          "histogram2d": [
           {
            "colorbar": {
             "outlinewidth": 0,
             "ticks": ""
            },
            "colorscale": [
             [
              0,
              "#0d0887"
             ],
             [
              0.1111111111111111,
              "#46039f"
             ],
             [
              0.2222222222222222,
              "#7201a8"
             ],
             [
              0.3333333333333333,
              "#9c179e"
             ],
             [
              0.4444444444444444,
              "#bd3786"
             ],
             [
              0.5555555555555556,
              "#d8576b"
             ],
             [
              0.6666666666666666,
              "#ed7953"
             ],
             [
              0.7777777777777778,
              "#fb9f3a"
             ],
             [
              0.8888888888888888,
              "#fdca26"
             ],
             [
              1,
              "#f0f921"
             ]
            ],
            "type": "histogram2d"
           }
          ],
          "histogram2dcontour": [
           {
            "colorbar": {
             "outlinewidth": 0,
             "ticks": ""
            },
            "colorscale": [
             [
              0,
              "#0d0887"
             ],
             [
              0.1111111111111111,
              "#46039f"
             ],
             [
              0.2222222222222222,
              "#7201a8"
             ],
             [
              0.3333333333333333,
              "#9c179e"
             ],
             [
              0.4444444444444444,
              "#bd3786"
             ],
             [
              0.5555555555555556,
              "#d8576b"
             ],
             [
              0.6666666666666666,
              "#ed7953"
             ],
             [
              0.7777777777777778,
              "#fb9f3a"
             ],
             [
              0.8888888888888888,
              "#fdca26"
             ],
             [
              1,
              "#f0f921"
             ]
            ],
            "type": "histogram2dcontour"
           }
          ],
          "mesh3d": [
           {
            "colorbar": {
             "outlinewidth": 0,
             "ticks": ""
            },
            "type": "mesh3d"
           }
          ],
          "parcoords": [
           {
            "line": {
             "colorbar": {
              "outlinewidth": 0,
              "ticks": ""
             }
            },
            "type": "parcoords"
           }
          ],
          "pie": [
           {
            "automargin": true,
            "type": "pie"
           }
          ],
          "scatter": [
           {
            "fillpattern": {
             "fillmode": "overlay",
             "size": 10,
             "solidity": 0.2
            },
            "type": "scatter"
           }
          ],
          "scatter3d": [
           {
            "line": {
             "colorbar": {
              "outlinewidth": 0,
              "ticks": ""
             }
            },
            "marker": {
             "colorbar": {
              "outlinewidth": 0,
              "ticks": ""
             }
            },
            "type": "scatter3d"
           }
          ],
          "scattercarpet": [
           {
            "marker": {
             "colorbar": {
              "outlinewidth": 0,
              "ticks": ""
             }
            },
            "type": "scattercarpet"
           }
          ],
          "scattergeo": [
           {
            "marker": {
             "colorbar": {
              "outlinewidth": 0,
              "ticks": ""
             }
            },
            "type": "scattergeo"
           }
          ],
          "scattergl": [
           {
            "marker": {
             "colorbar": {
              "outlinewidth": 0,
              "ticks": ""
             }
            },
            "type": "scattergl"
           }
          ],
          "scattermapbox": [
           {
            "marker": {
             "colorbar": {
              "outlinewidth": 0,
              "ticks": ""
             }
            },
            "type": "scattermapbox"
           }
          ],
          "scatterpolar": [
           {
            "marker": {
             "colorbar": {
              "outlinewidth": 0,
              "ticks": ""
             }
            },
            "type": "scatterpolar"
           }
          ],
          "scatterpolargl": [
           {
            "marker": {
             "colorbar": {
              "outlinewidth": 0,
              "ticks": ""
             }
            },
            "type": "scatterpolargl"
           }
          ],
          "scatterternary": [
           {
            "marker": {
             "colorbar": {
              "outlinewidth": 0,
              "ticks": ""
             }
            },
            "type": "scatterternary"
           }
          ],
          "surface": [
           {
            "colorbar": {
             "outlinewidth": 0,
             "ticks": ""
            },
            "colorscale": [
             [
              0,
              "#0d0887"
             ],
             [
              0.1111111111111111,
              "#46039f"
             ],
             [
              0.2222222222222222,
              "#7201a8"
             ],
             [
              0.3333333333333333,
              "#9c179e"
             ],
             [
              0.4444444444444444,
              "#bd3786"
             ],
             [
              0.5555555555555556,
              "#d8576b"
             ],
             [
              0.6666666666666666,
              "#ed7953"
             ],
             [
              0.7777777777777778,
              "#fb9f3a"
             ],
             [
              0.8888888888888888,
              "#fdca26"
             ],
             [
              1,
              "#f0f921"
             ]
            ],
            "type": "surface"
           }
          ],
          "table": [
           {
            "cells": {
             "fill": {
              "color": "#EBF0F8"
             },
             "line": {
              "color": "white"
             }
            },
            "header": {
             "fill": {
              "color": "#C8D4E3"
             },
             "line": {
              "color": "white"
             }
            },
            "type": "table"
           }
          ]
         },
         "layout": {
          "annotationdefaults": {
           "arrowcolor": "#2a3f5f",
           "arrowhead": 0,
           "arrowwidth": 1
          },
          "autotypenumbers": "strict",
          "coloraxis": {
           "colorbar": {
            "outlinewidth": 0,
            "ticks": ""
           }
          },
          "colorscale": {
           "diverging": [
            [
             0,
             "#8e0152"
            ],
            [
             0.1,
             "#c51b7d"
            ],
            [
             0.2,
             "#de77ae"
            ],
            [
             0.3,
             "#f1b6da"
            ],
            [
             0.4,
             "#fde0ef"
            ],
            [
             0.5,
             "#f7f7f7"
            ],
            [
             0.6,
             "#e6f5d0"
            ],
            [
             0.7,
             "#b8e186"
            ],
            [
             0.8,
             "#7fbc41"
            ],
            [
             0.9,
             "#4d9221"
            ],
            [
             1,
             "#276419"
            ]
           ],
           "sequential": [
            [
             0,
             "#0d0887"
            ],
            [
             0.1111111111111111,
             "#46039f"
            ],
            [
             0.2222222222222222,
             "#7201a8"
            ],
            [
             0.3333333333333333,
             "#9c179e"
            ],
            [
             0.4444444444444444,
             "#bd3786"
            ],
            [
             0.5555555555555556,
             "#d8576b"
            ],
            [
             0.6666666666666666,
             "#ed7953"
            ],
            [
             0.7777777777777778,
             "#fb9f3a"
            ],
            [
             0.8888888888888888,
             "#fdca26"
            ],
            [
             1,
             "#f0f921"
            ]
           ],
           "sequentialminus": [
            [
             0,
             "#0d0887"
            ],
            [
             0.1111111111111111,
             "#46039f"
            ],
            [
             0.2222222222222222,
             "#7201a8"
            ],
            [
             0.3333333333333333,
             "#9c179e"
            ],
            [
             0.4444444444444444,
             "#bd3786"
            ],
            [
             0.5555555555555556,
             "#d8576b"
            ],
            [
             0.6666666666666666,
             "#ed7953"
            ],
            [
             0.7777777777777778,
             "#fb9f3a"
            ],
            [
             0.8888888888888888,
             "#fdca26"
            ],
            [
             1,
             "#f0f921"
            ]
           ]
          },
          "colorway": [
           "#636efa",
           "#EF553B",
           "#00cc96",
           "#ab63fa",
           "#FFA15A",
           "#19d3f3",
           "#FF6692",
           "#B6E880",
           "#FF97FF",
           "#FECB52"
          ],
          "font": {
           "color": "#2a3f5f"
          },
          "geo": {
           "bgcolor": "white",
           "lakecolor": "white",
           "landcolor": "#E5ECF6",
           "showlakes": true,
           "showland": true,
           "subunitcolor": "white"
          },
          "hoverlabel": {
           "align": "left"
          },
          "hovermode": "closest",
          "mapbox": {
           "style": "light"
          },
          "paper_bgcolor": "white",
          "plot_bgcolor": "#E5ECF6",
          "polar": {
           "angularaxis": {
            "gridcolor": "white",
            "linecolor": "white",
            "ticks": ""
           },
           "bgcolor": "#E5ECF6",
           "radialaxis": {
            "gridcolor": "white",
            "linecolor": "white",
            "ticks": ""
           }
          },
          "scene": {
           "xaxis": {
            "backgroundcolor": "#E5ECF6",
            "gridcolor": "white",
            "gridwidth": 2,
            "linecolor": "white",
            "showbackground": true,
            "ticks": "",
            "zerolinecolor": "white"
           },
           "yaxis": {
            "backgroundcolor": "#E5ECF6",
            "gridcolor": "white",
            "gridwidth": 2,
            "linecolor": "white",
            "showbackground": true,
            "ticks": "",
            "zerolinecolor": "white"
           },
           "zaxis": {
            "backgroundcolor": "#E5ECF6",
            "gridcolor": "white",
            "gridwidth": 2,
            "linecolor": "white",
            "showbackground": true,
            "ticks": "",
            "zerolinecolor": "white"
           }
          },
          "shapedefaults": {
           "line": {
            "color": "#2a3f5f"
           }
          },
          "ternary": {
           "aaxis": {
            "gridcolor": "white",
            "linecolor": "white",
            "ticks": ""
           },
           "baxis": {
            "gridcolor": "white",
            "linecolor": "white",
            "ticks": ""
           },
           "bgcolor": "#E5ECF6",
           "caxis": {
            "gridcolor": "white",
            "linecolor": "white",
            "ticks": ""
           }
          },
          "title": {
           "x": 0.05
          },
          "xaxis": {
           "automargin": true,
           "gridcolor": "white",
           "linecolor": "white",
           "ticks": "",
           "title": {
            "standoff": 15
           },
           "zerolinecolor": "white",
           "zerolinewidth": 2
          },
          "yaxis": {
           "automargin": true,
           "gridcolor": "white",
           "linecolor": "white",
           "ticks": "",
           "title": {
            "standoff": 15
           },
           "zerolinecolor": "white",
           "zerolinewidth": 2
          }
         }
        },
        "title": {
         "text": "Coefficient of variatio vs. Time for Different Sequence Lengths"
        },
        "xaxis": {
         "anchor": "y",
         "domain": [
          0,
          1
         ],
         "title": {
          "text": "Time"
         }
        },
        "yaxis": {
         "anchor": "x",
         "domain": [
          0,
          1
         ],
         "title": {
          "text": "Coefficient of variation"
         }
        }
       }
      }
     },
     "metadata": {},
     "output_type": "display_data"
    }
   ],
   "source": [
    "import plotly.express as px\n",
    "# Time vs. p-value for each sequence length\n",
    "fig_time_pvalue = px.line(df, x='Time', y='cv', color='Length', markers=True,\n",
    "                          labels={'cv': 'Coefficient of variation', 'Time': 'Time'},\n",
    "                          title='Coefficient of variatio vs. Time for Different Sequence Lengths')\n",
    "fig_time_pvalue.write_image(\"Stability_length_time.pdf\")\n",
    "\n",
    "fig_time_pvalue.show()"
   ]
  },
  {
   "cell_type": "code",
   "execution_count": null,
   "metadata": {},
   "outputs": [],
   "source": [
    "import plotly.graph_objects as go\n",
    "from plotly.subplots import make_subplots\n",
    "\n",
    "def get_histograms(ns_dict, theoretical_ns_list):\n",
    "    lengths = list(ns_dict.keys())\n",
    "    # Gather all unique time keys from each length\n",
    "    all_times = {time for length in ns_dict for time in ns_dict[length].keys()}\n",
    "    times = sorted(all_times)  # Sorting to maintain a consistent order\n",
    "    \n",
    "    rows = len(lengths)\n",
    "    cols = len(times)\n",
    "    \n",
    "    # Create subplots\n",
    "    fig = make_subplots(rows=rows, cols=cols, subplot_titles=[f'Time = {t}, Length = {l}' for l in lengths for t in times])\n",
    "    \n",
    "    # Populate subplots\n",
    "    for row, length in enumerate(lengths, start=1):\n",
    "        for col, time in enumerate(times, start=1):\n",
    "            if time in ns_dict[length]:\n",
    "                data = ns_dict[length][time]['ns_per_site_list']\n",
    "                theoretical_ns = theoretical_ns_list[time]\n",
    "                average_ns = ns_dict[length][time]['avg_ns_per_site']\n",
    "                \n",
    "                # Add histogram to subplot\n",
    "                fig.add_trace(\n",
    "                    go.Histogram(\n",
    "                        x=data,\n",
    "                        nbinsx=10,\n",
    "                        name=f'Length {length}, Time {time}'\n",
    "                    ),\n",
    "                    row=row,\n",
    "                    col=col\n",
    "                )\n",
    "                \n",
    "                # Add vertical lines for average and theoretical values\n",
    "                fig.add_vline(x=average_ns, line_width=3, line_dash=\"dash\", line_color=\"red\", row=row, col=col)\n",
    "                fig.add_vline(x=theoretical_ns, line_width=3, line_dash=\"dash\", line_color=\"green\", row=row, col=col)\n",
    "            else:\n",
    "                # Handle missing data for this time point by adding an empty trace\n",
    "                fig.add_trace(\n",
    "                    go.Histogram(\n",
    "                        x=[],\n",
    "                        name=f'Length {length}, Time {time} (no data)'\n",
    "                    ),\n",
    "                    row=row,\n",
    "                    col=col\n",
    "                )\n",
    "\n",
    "    fig.update_layout(\n",
    "        yaxis_title_text='Count',\n",
    "        height=300 * rows,  \n",
    "        width=300 * cols,   \n",
    "        showlegend=False,\n",
    "        bargap=0.1,\n",
    "        xaxis_title_text='Subsitution Number'\n",
    "    )\n",
    "\n",
    "    return fig\n"
   ]
  },
  {
   "cell_type": "code",
   "execution_count": null,
   "metadata": {},
   "outputs": [],
   "source": [
    "import plotly.graph_objects as go\n",
    "from plotly.subplots import make_subplots\n",
    "\n",
    "def get_histograms1(ns_dict, theoretical_ns_list):\n",
    "    lengths = list(ns_dict.keys())\n",
    "    all_times = {time for length in ns_dict for time in ns_dict[length].keys()}\n",
    "    times = sorted(all_times)  # Sorting to maintain a consistent order\n",
    "\n",
    "    rows = len(lengths)\n",
    "    cols = len(times)\n",
    "    \n",
    "    # Create subplots\n",
    "    fig = make_subplots(rows=rows, cols=cols, subplot_titles=[f'Time = {t}, Length = {l}' for l in lengths for t in times])\n",
    "\n",
    "    # Initialize dictionary to hold x-axis ranges for each time\n",
    "    x_ranges = {}\n",
    "    \n",
    "    # Calculate x-axis range for each time to apply consistently across corresponding columns\n",
    "    for time in times:\n",
    "        min_xs = []\n",
    "        max_xs = []\n",
    "        for length in lengths:\n",
    "            if time in ns_dict[length]:\n",
    "                data = ns_dict[length][time]['ns_per_site_list']\n",
    "                min_xs.append(min(data))\n",
    "                max_xs.append(max(data))\n",
    "        x_ranges[time] = (min(min_xs), max(max_xs))\n",
    "\n",
    "    # Populate subplots\n",
    "    for row, length in enumerate(lengths, start=1):\n",
    "        for col, time in enumerate(times, start=1):\n",
    "            if time in ns_dict[length]:\n",
    "                data = ns_dict[length][time]['ns_per_site_list']\n",
    "                theoretical_ns = theoretical_ns_list[time]\n",
    "                average_ns = ns_dict[length][time]['avg_ns_per_site']\n",
    "                \n",
    "                # Add histogram to subplot\n",
    "                fig.add_trace(\n",
    "                    go.Histogram(\n",
    "                        x=data,\n",
    "                        xbins=dict(  # Control the bar widths here\n",
    "                            start=x_ranges[time][0],\n",
    "                            end=x_ranges[time][1],\n",
    "                            size=(x_ranges[time][1] - x_ranges[time][0]) / 20  # Adjust size for consistent bar width\n",
    "                        ),\n",
    "                        marker=dict(line=dict(width=1)),\n",
    "                        name=f'Length {length}, Time {time}'\n",
    "                    ),\n",
    "                    row=row,\n",
    "                    col=col\n",
    "                )\n",
    "                \n",
    "                # Add vertical lines for average and theoretical values\n",
    "                fig.add_vline(x=average_ns, line_width=2, line_dash=\"dash\", line_color=\"red\", row=row, col=col)\n",
    "                fig.add_vline(x=theoretical_ns, line_width=2, line_dash=\"dash\", line_color=\"green\", row=row, col=col)\n",
    "\n",
    "    # Update layout for all subplots\n",
    "    fig.update_layout(\n",
    "        height=300 * rows,\n",
    "        width=300 * cols,\n",
    "        showlegend=False,\n",
    "        bargap=0.05  # Adjust space between bars\n",
    "    )\n",
    "    \n",
    "    # Set consistent x-axis range across all subplots per column\n",
    "    for col, time in enumerate(times, start=1):\n",
    "        for r in range(1, rows+1):\n",
    "            fig.update_xaxes(range=[x_ranges[time][0], x_ranges[time][1]], row=r, col=col)\n",
    "\n",
    "    return fig\n"
   ]
  },
  {
   "cell_type": "code",
   "execution_count": null,
   "metadata": {},
   "outputs": [
    {
     "data": {
      "application/vnd.plotly.v1+json": {
       "config": {
        "plotlyServerURL": "https://plot.ly"
       },
       "data": [
        {
         "marker": {
          "line": {
           "width": 1
          }
         },
         "name": "Length 1000, Time 0.5",
         "type": "histogram",
         "x": [
          0.416,
          0.418,
          0.418,
          0.399,
          0.42,
          0.411,
          0.403,
          0.394,
          0.425,
          0.418,
          0.383,
          0.386,
          0.4,
          0.402,
          0.382,
          0.407,
          0.387,
          0.417,
          0.394,
          0.394,
          0.39,
          0.407,
          0.412,
          0.405,
          0.399,
          0.42,
          0.378,
          0.389,
          0.354,
          0.387,
          0.401,
          0.408,
          0.408,
          0.405,
          0.367,
          0.404,
          0.396,
          0.388,
          0.415,
          0.392,
          0.409,
          0.38,
          0.406,
          0.412,
          0.386,
          0.389,
          0.41,
          0.408,
          0.395,
          0.428,
          0.413,
          0.374,
          0.386,
          0.425,
          0.409,
          0.408,
          0.399,
          0.395,
          0.394,
          0.394,
          0.407,
          0.389,
          0.395,
          0.385,
          0.411,
          0.394,
          0.398,
          0.384,
          0.409,
          0.373,
          0.372,
          0.382,
          0.402,
          0.384,
          0.384,
          0.397,
          0.405,
          0.407,
          0.373,
          0.415,
          0.41,
          0.383,
          0.395,
          0.421,
          0.401,
          0.391,
          0.381,
          0.41,
          0.425,
          0.38,
          0.407,
          0.407,
          0.415,
          0.375,
          0.387,
          0.426,
          0.402,
          0.411,
          0.422,
          0.39
         ],
         "xaxis": "x",
         "xbins": {
          "end": 0.4285,
          "size": 0.0037250000000000004,
          "start": 0.354
         },
         "yaxis": "y"
        },
        {
         "marker": {
          "line": {
           "width": 1
          }
         },
         "name": "Length 1000, Time 1",
         "type": "histogram",
         "x": [
          0.669,
          0.676,
          0.642,
          0.642,
          0.639,
          0.679,
          0.677,
          0.665,
          0.681,
          0.659,
          0.67,
          0.68,
          0.677,
          0.665,
          0.637,
          0.687,
          0.685,
          0.685,
          0.678,
          0.636,
          0.677,
          0.658,
          0.674,
          0.654,
          0.674,
          0.644,
          0.651,
          0.671,
          0.647,
          0.677,
          0.672,
          0.666,
          0.642,
          0.681,
          0.661,
          0.675,
          0.624,
          0.681,
          0.669,
          0.649,
          0.645,
          0.666,
          0.664,
          0.663,
          0.631,
          0.66,
          0.667,
          0.654,
          0.65,
          0.655,
          0.651,
          0.622,
          0.684,
          0.651,
          0.695,
          0.641,
          0.677,
          0.669,
          0.644,
          0.665,
          0.677,
          0.67,
          0.638,
          0.671,
          0.664,
          0.686,
          0.675,
          0.678,
          0.634,
          0.643,
          0.66,
          0.66,
          0.673,
          0.672,
          0.686,
          0.643,
          0.633,
          0.657,
          0.664,
          0.632,
          0.621,
          0.649,
          0.632,
          0.707,
          0.641,
          0.642,
          0.68,
          0.667,
          0.675,
          0.612,
          0.707,
          0.671,
          0.669,
          0.657,
          0.632,
          0.669,
          0.652,
          0.665,
          0.7,
          0.633
         ],
         "xaxis": "x2",
         "xbins": {
          "end": 0.707,
          "size": 0.004749999999999999,
          "start": 0.612
         },
         "yaxis": "y2"
        },
        {
         "marker": {
          "line": {
           "width": 1
          }
         },
         "name": "Length 1000, Time 2",
         "type": "histogram",
         "x": [
          1.026,
          1.05,
          1.013,
          1.03,
          0.991,
          1.039,
          1.041,
          1.053,
          1.015,
          1.012,
          1.026,
          1.078,
          1.009,
          0.994,
          1.044,
          0.985,
          1.028,
          1.059,
          1.025,
          1.026,
          1.049,
          1.013,
          1.04,
          1.03,
          1.04,
          1.01,
          1.035,
          0.981,
          0.998,
          0.986,
          1.021,
          1.012,
          1.066,
          0.974,
          1.049,
          1.012,
          1.022,
          1.016,
          0.987,
          1.024,
          1.001,
          1.022,
          1.049,
          0.987,
          1.054,
          1.008,
          1.05,
          1.023,
          1.047,
          1.031,
          0.971,
          1.046,
          1.053,
          1.011,
          0.993,
          0.993,
          1.025,
          0.991,
          1.02,
          1.026,
          1.039,
          1.058,
          1.001,
          1.018,
          0.983,
          1.02,
          1.032,
          0.981,
          1.022,
          1,
          1.014,
          1.043,
          1.029,
          0.981,
          0.972,
          1.019,
          1.039,
          1.058,
          1.034,
          0.998,
          1.032,
          1.038,
          1.029,
          0.998,
          1.056,
          1.066,
          1.01,
          1.068,
          1.021,
          0.979,
          1.044,
          1.031,
          0.983,
          1.025,
          1.052,
          1.034,
          1.018,
          1.016,
          1.025,
          1.012
         ],
         "xaxis": "x3",
         "xbins": {
          "end": 1.078,
          "size": 0.005350000000000005,
          "start": 0.971
         },
         "yaxis": "y3"
        },
        {
         "marker": {
          "line": {
           "width": 1
          }
         },
         "name": "Length 1000, Time 3",
         "type": "histogram",
         "x": [
          1.312,
          1.294,
          1.286,
          1.264,
          1.342,
          1.27,
          1.237,
          1.262,
          1.297,
          1.29,
          1.303,
          1.315,
          1.27,
          1.296,
          1.282,
          1.293,
          1.304,
          1.235,
          1.253,
          1.308,
          1.314,
          1.299,
          1.306,
          1.289,
          1.279,
          1.258,
          1.305,
          1.306,
          1.268,
          1.307,
          1.293,
          1.268,
          1.245,
          1.285,
          1.345,
          1.353,
          1.258,
          1.28,
          1.284,
          1.326,
          1.25,
          1.296,
          1.302,
          1.298,
          1.311,
          1.269,
          1.274,
          1.337,
          1.321,
          1.28,
          1.29,
          1.313,
          1.246,
          1.276,
          1.291,
          1.31,
          1.287,
          1.312,
          1.278,
          1.283,
          1.304,
          1.266,
          1.3,
          1.274,
          1.281,
          1.254,
          1.363,
          1.251,
          1.322,
          1.219,
          1.298,
          1.332,
          1.273,
          1.32,
          1.256,
          1.292,
          1.288,
          1.256,
          1.238,
          1.315,
          1.293,
          1.234,
          1.288,
          1.291,
          1.301,
          1.383,
          1.282,
          1.29,
          1.268,
          1.252,
          1.284,
          1.256,
          1.341,
          1.322,
          1.261,
          1.27,
          1.313,
          1.314,
          1.259,
          1.266
         ],
         "xaxis": "x4",
         "xbins": {
          "end": 1.383,
          "size": 0.008325000000000004,
          "start": 1.2165
         },
         "yaxis": "y4"
        },
        {
         "marker": {
          "line": {
           "width": 1
          }
         },
         "name": "Length 1000, Time 4",
         "type": "histogram",
         "x": [
          1.47,
          1.489,
          1.456,
          1.49,
          1.502,
          1.546,
          1.544,
          1.492,
          1.501,
          1.581,
          1.524,
          1.54,
          1.546,
          1.575,
          1.515,
          1.507,
          1.54,
          1.574,
          1.514,
          1.531,
          1.536,
          1.484,
          1.548,
          1.533,
          1.481,
          1.572,
          1.505,
          1.553,
          1.498,
          1.534,
          1.531,
          1.493,
          1.556,
          1.505,
          1.506,
          1.529,
          1.532,
          1.456,
          1.508,
          1.503,
          1.532,
          1.541,
          1.485,
          1.54,
          1.547,
          1.609,
          1.57,
          1.486,
          1.581,
          1.528,
          1.464,
          1.542,
          1.484,
          1.461,
          1.555,
          1.533,
          1.474,
          1.512,
          1.523,
          1.519,
          1.577,
          1.568,
          1.509,
          1.517,
          1.529,
          1.489,
          1.494,
          1.486,
          1.532,
          1.535,
          1.526,
          1.492,
          1.533,
          1.464,
          1.487,
          1.545,
          1.583,
          1.496,
          1.558,
          1.51,
          1.5,
          1.545,
          1.515,
          1.55,
          1.492,
          1.526,
          1.551,
          1.535,
          1.482,
          1.557,
          1.553,
          1.513,
          1.53,
          1.441,
          1.548,
          1.518,
          1.511,
          1.463,
          1.565,
          1.567
         ],
         "xaxis": "x5",
         "xbins": {
          "end": 1.609,
          "size": 0.008399999999999996,
          "start": 1.441
         },
         "yaxis": "y5"
        },
        {
         "marker": {
          "line": {
           "width": 1
          }
         },
         "name": "Length 2000, Time 0.5",
         "type": "histogram",
         "x": [
          0.413,
          0.3865,
          0.3975,
          0.3905,
          0.397,
          0.399,
          0.398,
          0.3925,
          0.3965,
          0.409,
          0.405,
          0.3765,
          0.388,
          0.3845,
          0.4245,
          0.391,
          0.384,
          0.4095,
          0.4005,
          0.3965,
          0.3935,
          0.403,
          0.391,
          0.3935,
          0.412,
          0.3855,
          0.3895,
          0.393,
          0.3875,
          0.3735,
          0.394,
          0.4185,
          0.3935,
          0.377,
          0.39,
          0.3635,
          0.4055,
          0.3895,
          0.3925,
          0.4045,
          0.3835,
          0.387,
          0.387,
          0.3985,
          0.3985,
          0.387,
          0.393,
          0.3865,
          0.3785,
          0.3865,
          0.3935,
          0.385,
          0.394,
          0.39,
          0.3875,
          0.3795,
          0.406,
          0.4075,
          0.395,
          0.391,
          0.385,
          0.408,
          0.382,
          0.3865,
          0.3715,
          0.4055,
          0.382,
          0.3895,
          0.383,
          0.387,
          0.4005,
          0.4005,
          0.383,
          0.386,
          0.3975,
          0.4285,
          0.4005,
          0.4005,
          0.3885,
          0.4085,
          0.394,
          0.386,
          0.396,
          0.39,
          0.402,
          0.38,
          0.413,
          0.377,
          0.393,
          0.382,
          0.3965,
          0.3815,
          0.3925,
          0.404,
          0.404,
          0.3995,
          0.405,
          0.3775,
          0.3875,
          0.3795
         ],
         "xaxis": "x6",
         "xbins": {
          "end": 0.4285,
          "size": 0.0037250000000000004,
          "start": 0.354
         },
         "yaxis": "y6"
        },
        {
         "marker": {
          "line": {
           "width": 1
          }
         },
         "name": "Length 2000, Time 1",
         "type": "histogram",
         "x": [
          0.6525,
          0.6685,
          0.6435,
          0.639,
          0.644,
          0.658,
          0.65,
          0.648,
          0.6705,
          0.667,
          0.64,
          0.667,
          0.6635,
          0.6525,
          0.667,
          0.645,
          0.6665,
          0.6695,
          0.6505,
          0.658,
          0.6485,
          0.643,
          0.6555,
          0.666,
          0.634,
          0.6545,
          0.6765,
          0.641,
          0.6585,
          0.6565,
          0.672,
          0.619,
          0.6805,
          0.6505,
          0.6675,
          0.6805,
          0.651,
          0.644,
          0.6385,
          0.674,
          0.671,
          0.65,
          0.662,
          0.659,
          0.656,
          0.658,
          0.6715,
          0.67,
          0.666,
          0.6665,
          0.67,
          0.6615,
          0.6665,
          0.662,
          0.6615,
          0.65,
          0.656,
          0.643,
          0.6685,
          0.674,
          0.679,
          0.66,
          0.629,
          0.6565,
          0.661,
          0.6495,
          0.651,
          0.6575,
          0.645,
          0.675,
          0.6335,
          0.667,
          0.6625,
          0.6425,
          0.6435,
          0.6555,
          0.651,
          0.635,
          0.647,
          0.6695,
          0.664,
          0.6395,
          0.6675,
          0.678,
          0.6545,
          0.657,
          0.654,
          0.661,
          0.644,
          0.673,
          0.6685,
          0.6735,
          0.668,
          0.663,
          0.676,
          0.6775,
          0.6565,
          0.666,
          0.6455,
          0.664
         ],
         "xaxis": "x7",
         "xbins": {
          "end": 0.707,
          "size": 0.004749999999999999,
          "start": 0.612
         },
         "yaxis": "y7"
        },
        {
         "marker": {
          "line": {
           "width": 1
          }
         },
         "name": "Length 2000, Time 2",
         "type": "histogram",
         "x": [
          1.0055,
          1.0195,
          1.022,
          1.022,
          0.9905,
          1.001,
          1.0145,
          1.011,
          0.9965,
          1.008,
          0.985,
          0.9865,
          1.0135,
          1.026,
          1.02,
          1.0245,
          1.019,
          1.0145,
          1.073,
          1.001,
          0.994,
          1.001,
          0.9905,
          1.0075,
          1.007,
          1.031,
          0.9975,
          1.0185,
          1.0095,
          1.0435,
          1.062,
          1.0405,
          1.047,
          1.015,
          1.027,
          1.017,
          1.033,
          1.0235,
          1.0165,
          1.013,
          1.021,
          1.0135,
          0.984,
          1.0455,
          1.0165,
          1.029,
          1.0215,
          1.017,
          1.0415,
          1.0205,
          1.0395,
          0.9965,
          1.0005,
          0.9895,
          0.999,
          1.0015,
          0.991,
          0.9875,
          1.034,
          1.028,
          0.9955,
          1.034,
          1.007,
          1.007,
          1.024,
          1.0365,
          1.017,
          1.014,
          0.9955,
          1.0205,
          1.005,
          1.036,
          0.994,
          1.0535,
          1.0055,
          1.009,
          1.015,
          1.0145,
          1.0015,
          1.01,
          0.992,
          1.037,
          1.0155,
          1.003,
          1.024,
          1.027,
          1.018,
          1.0185,
          1.0205,
          1.012,
          0.999,
          1.019,
          1.018,
          1.033,
          1.0235,
          1.0245,
          1.0375,
          1.019,
          1.0375,
          1.0205
         ],
         "xaxis": "x8",
         "xbins": {
          "end": 1.078,
          "size": 0.005350000000000005,
          "start": 0.971
         },
         "yaxis": "y8"
        },
        {
         "marker": {
          "line": {
           "width": 1
          }
         },
         "name": "Length 2000, Time 3",
         "type": "histogram",
         "x": [
          1.2765,
          1.3065,
          1.284,
          1.2775,
          1.2795,
          1.2655,
          1.281,
          1.2685,
          1.284,
          1.281,
          1.305,
          1.2995,
          1.256,
          1.305,
          1.263,
          1.263,
          1.2835,
          1.3075,
          1.3095,
          1.3015,
          1.2665,
          1.2665,
          1.3165,
          1.33,
          1.276,
          1.2845,
          1.286,
          1.2945,
          1.284,
          1.2865,
          1.3115,
          1.303,
          1.277,
          1.2745,
          1.2425,
          1.287,
          1.2915,
          1.273,
          1.3015,
          1.263,
          1.2735,
          1.2855,
          1.2695,
          1.2915,
          1.2615,
          1.294,
          1.2585,
          1.287,
          1.2755,
          1.272,
          1.2655,
          1.252,
          1.271,
          1.249,
          1.2825,
          1.3085,
          1.283,
          1.272,
          1.296,
          1.2845,
          1.286,
          1.2945,
          1.2905,
          1.2755,
          1.2685,
          1.28,
          1.281,
          1.3395,
          1.2555,
          1.301,
          1.296,
          1.2945,
          1.284,
          1.293,
          1.261,
          1.2985,
          1.281,
          1.2805,
          1.2825,
          1.323,
          1.2575,
          1.2165,
          1.248,
          1.2855,
          1.299,
          1.282,
          1.2945,
          1.299,
          1.24,
          1.2675,
          1.2545,
          1.275,
          1.2895,
          1.266,
          1.2985,
          1.2895,
          1.2645,
          1.291,
          1.273,
          1.257
         ],
         "xaxis": "x9",
         "xbins": {
          "end": 1.383,
          "size": 0.008325000000000004,
          "start": 1.2165
         },
         "yaxis": "y9"
        },
        {
         "marker": {
          "line": {
           "width": 1
          }
         },
         "name": "Length 2000, Time 4",
         "type": "histogram",
         "x": [
          1.5215,
          1.536,
          1.5195,
          1.5055,
          1.546,
          1.541,
          1.5395,
          1.494,
          1.5635,
          1.516,
          1.5045,
          1.502,
          1.5345,
          1.5225,
          1.502,
          1.509,
          1.5575,
          1.5055,
          1.492,
          1.5015,
          1.5545,
          1.495,
          1.524,
          1.5535,
          1.483,
          1.5145,
          1.5135,
          1.529,
          1.5385,
          1.529,
          1.5125,
          1.5175,
          1.5385,
          1.5035,
          1.4845,
          1.506,
          1.4655,
          1.53,
          1.5495,
          1.5505,
          1.5235,
          1.5,
          1.5245,
          1.5225,
          1.4775,
          1.5135,
          1.5465,
          1.4865,
          1.523,
          1.4505,
          1.5255,
          1.511,
          1.542,
          1.5015,
          1.481,
          1.5065,
          1.5655,
          1.5155,
          1.487,
          1.4975,
          1.485,
          1.4615,
          1.5255,
          1.517,
          1.528,
          1.53,
          1.528,
          1.4935,
          1.509,
          1.518,
          1.4945,
          1.493,
          1.486,
          1.524,
          1.5425,
          1.534,
          1.544,
          1.503,
          1.5245,
          1.527,
          1.529,
          1.5025,
          1.491,
          1.514,
          1.529,
          1.511,
          1.5115,
          1.49,
          1.489,
          1.511,
          1.4775,
          1.517,
          1.53,
          1.519,
          1.5215,
          1.5605,
          1.4725,
          1.524,
          1.529,
          1.514
         ],
         "xaxis": "x10",
         "xbins": {
          "end": 1.609,
          "size": 0.008399999999999996,
          "start": 1.441
         },
         "yaxis": "y10"
        },
        {
         "marker": {
          "line": {
           "width": 1
          }
         },
         "name": "Length 3000, Time 0.5",
         "type": "histogram",
         "x": [
          0.3993333333333333,
          0.4086666666666667,
          0.41533333333333333,
          0.4,
          0.41333333333333333,
          0.409,
          0.4086666666666667,
          0.38366666666666666,
          0.3883333333333333,
          0.39566666666666667,
          0.387,
          0.407,
          0.39466666666666667,
          0.416,
          0.391,
          0.4043333333333333,
          0.4013333333333333,
          0.4023333333333333,
          0.3923333333333333,
          0.4033333333333333,
          0.39566666666666667,
          0.39266666666666666,
          0.39666666666666667,
          0.385,
          0.4103333333333333,
          0.3953333333333333,
          0.39866666666666667,
          0.401,
          0.398,
          0.407,
          0.3993333333333333,
          0.403,
          0.395,
          0.39766666666666667,
          0.40166666666666667,
          0.39366666666666666,
          0.3953333333333333,
          0.4023333333333333,
          0.4076666666666667,
          0.4046666666666667,
          0.37733333333333335,
          0.4,
          0.401,
          0.3993333333333333,
          0.39366666666666666,
          0.4086666666666667,
          0.3873333333333333,
          0.38866666666666666,
          0.4083333333333333,
          0.4063333333333333
         ],
         "xaxis": "x11",
         "xbins": {
          "end": 0.4285,
          "size": 0.0037250000000000004,
          "start": 0.354
         },
         "yaxis": "y11"
        },
        {
         "marker": {
          "line": {
           "width": 1
          }
         },
         "name": "Length 3000, Time 1",
         "type": "histogram",
         "x": [
          0.671,
          0.6636666666666666,
          0.673,
          0.6733333333333333,
          0.678,
          0.6546666666666666,
          0.673,
          0.665,
          0.6606666666666666,
          0.6656666666666666,
          0.6643333333333333,
          0.6503333333333333,
          0.6996666666666667,
          0.6716666666666666,
          0.666,
          0.6696666666666666,
          0.6743333333333333,
          0.669,
          0.67,
          0.6666666666666666,
          0.6653333333333333,
          0.659,
          0.665,
          0.67,
          0.668,
          0.6693333333333333,
          0.6526666666666666,
          0.6743333333333333,
          0.6713333333333333,
          0.6466666666666666,
          0.6426666666666667,
          0.655,
          0.664,
          0.667,
          0.6713333333333333,
          0.6713333333333333,
          0.6853333333333333,
          0.6696666666666666,
          0.663,
          0.6723333333333333,
          0.6693333333333333,
          0.6643333333333333,
          0.665,
          0.6693333333333333,
          0.66,
          0.6713333333333333,
          0.685,
          0.669,
          0.648,
          0.6506666666666666
         ],
         "xaxis": "x12",
         "xbins": {
          "end": 0.707,
          "size": 0.004749999999999999,
          "start": 0.612
         },
         "yaxis": "y12"
        },
        {
         "marker": {
          "line": {
           "width": 1
          }
         },
         "name": "Length 3000, Time 2",
         "type": "histogram",
         "x": [
          1.025,
          1.0273333333333334,
          1.0423333333333333,
          0.9936666666666667,
          1.014,
          1.0296666666666667,
          1.0316666666666667,
          1.0186666666666666,
          1.0476666666666667,
          1.024,
          1.0443333333333333,
          1.037,
          1.015,
          1.0323333333333333,
          1.029,
          1.0206666666666666,
          1.0186666666666666,
          1.0333333333333334,
          1.0373333333333334,
          1.0443333333333333,
          1.0323333333333333,
          1.027,
          1.02,
          1.0643333333333334,
          1.016,
          1.0353333333333334,
          1.0173333333333334,
          1.0406666666666666,
          1.0336666666666667,
          1.0266666666666666,
          1.0316666666666667,
          1.0293333333333334,
          1.0306666666666666,
          1.031,
          1.03,
          1.0273333333333334,
          1.0216666666666667,
          1.047,
          1.0376666666666667,
          1.0156666666666667,
          1.036,
          1.0256666666666667,
          1.023,
          1.017,
          1.0066666666666666,
          1.0496666666666667,
          1.046,
          1.0073333333333334,
          1.027,
          1.047
         ],
         "xaxis": "x13",
         "xbins": {
          "end": 1.078,
          "size": 0.005350000000000005,
          "start": 0.971
         },
         "yaxis": "y13"
        },
        {
         "marker": {
          "line": {
           "width": 1
          }
         },
         "name": "Length 3000, Time 3",
         "type": "histogram",
         "x": [
          1.302,
          1.317,
          1.3266666666666667,
          1.2916666666666667,
          1.299,
          1.3236666666666668,
          1.3003333333333333,
          1.2846666666666666,
          1.2863333333333333,
          1.2953333333333332,
          1.2853333333333334,
          1.2946666666666666,
          1.3383333333333334,
          1.304,
          1.2833333333333334,
          1.2903333333333333,
          1.2933333333333332,
          1.3256666666666668,
          1.3236666666666668,
          1.302,
          1.2946666666666666,
          1.3136666666666668,
          1.2833333333333334,
          1.3153333333333332,
          1.2956666666666667,
          1.3093333333333332,
          1.2946666666666666,
          1.288,
          1.3036666666666668,
          1.323,
          1.338,
          1.3256666666666668,
          1.3213333333333332,
          1.3026666666666666,
          1.3176666666666668,
          1.2936666666666667,
          1.2873333333333334,
          1.268,
          1.3016666666666667,
          1.301,
          1.2866666666666666,
          1.2836666666666667,
          1.3156666666666668,
          1.292,
          1.293,
          1.2793333333333334,
          1.3316666666666668,
          1.342,
          1.319,
          1.2866666666666666
         ],
         "xaxis": "x14",
         "xbins": {
          "end": 1.383,
          "size": 0.008325000000000004,
          "start": 1.2165
         },
         "yaxis": "y14"
        },
        {
         "marker": {
          "line": {
           "width": 1
          }
         },
         "name": "Length 3000, Time 4",
         "type": "histogram",
         "x": [
          1.5603333333333333,
          1.5136666666666667,
          1.5383333333333333,
          1.5513333333333332,
          1.545,
          1.5403333333333333,
          1.5436666666666667,
          1.5436666666666667,
          1.527,
          1.5103333333333333,
          1.5086666666666666,
          1.5456666666666667,
          1.5203333333333333,
          1.5213333333333334,
          1.5473333333333332,
          1.4926666666666666,
          1.5143333333333333,
          1.5243333333333333,
          1.5456666666666667,
          1.5196666666666667,
          1.5696666666666668,
          1.557,
          1.5696666666666668,
          1.5546666666666666,
          1.5366666666666666,
          1.5236666666666667,
          1.5286666666666666,
          1.5436666666666667,
          1.534,
          1.5533333333333332,
          1.5296666666666667,
          1.5226666666666666,
          1.5533333333333332,
          1.5083333333333333,
          1.538,
          1.5366666666666666,
          1.5293333333333334,
          1.5513333333333332,
          1.5303333333333333,
          1.506,
          1.541,
          1.528,
          1.5056666666666667,
          1.575,
          1.5426666666666666,
          1.512,
          1.5246666666666666,
          1.5533333333333332,
          1.534,
          1.519
         ],
         "xaxis": "x15",
         "xbins": {
          "end": 1.609,
          "size": 0.008399999999999996,
          "start": 1.441
         },
         "yaxis": "y15"
        },
        {
         "marker": {
          "line": {
           "width": 1
          }
         },
         "name": "Length 4000, Time 0.5",
         "type": "histogram",
         "x": [
          0.40625,
          0.3875,
          0.391,
          0.39075,
          0.39325,
          0.406,
          0.3945,
          0.4065,
          0.38725,
          0.39725,
          0.40375,
          0.388,
          0.40275,
          0.406,
          0.403,
          0.40575,
          0.4025,
          0.38475,
          0.3895,
          0.3965,
          0.40075,
          0.392,
          0.39675,
          0.386,
          0.38525,
          0.40825,
          0.399,
          0.3985,
          0.40775,
          0.39625,
          0.386,
          0.38825,
          0.40325,
          0.411,
          0.403,
          0.39875,
          0.4015,
          0.4095,
          0.40425,
          0.399,
          0.40475,
          0.41575,
          0.40425,
          0.40125,
          0.404,
          0.3955,
          0.39875,
          0.39725,
          0.4015,
          0.3985
         ],
         "xaxis": "x16",
         "xbins": {
          "end": 0.4285,
          "size": 0.0037250000000000004,
          "start": 0.354
         },
         "yaxis": "y16"
        },
        {
         "marker": {
          "line": {
           "width": 1
          }
         },
         "name": "Length 4000, Time 1",
         "type": "histogram",
         "x": [
          0.64925,
          0.66725,
          0.6575,
          0.668,
          0.6545,
          0.6635,
          0.65775,
          0.6625,
          0.679,
          0.66275,
          0.6705,
          0.65925,
          0.63575,
          0.6735,
          0.65425,
          0.66825,
          0.658,
          0.6535,
          0.66575,
          0.66875,
          0.65275,
          0.65275,
          0.663,
          0.671,
          0.6625,
          0.6615,
          0.66375,
          0.646,
          0.676,
          0.665,
          0.677,
          0.6575,
          0.65675,
          0.67375,
          0.669,
          0.67075,
          0.6525,
          0.63875,
          0.663,
          0.66975,
          0.66075,
          0.652,
          0.67525,
          0.65875,
          0.66025,
          0.67375,
          0.665,
          0.67475,
          0.66725,
          0.69025
         ],
         "xaxis": "x17",
         "xbins": {
          "end": 0.707,
          "size": 0.004749999999999999,
          "start": 0.612
         },
         "yaxis": "y17"
        },
        {
         "marker": {
          "line": {
           "width": 1
          }
         },
         "name": "Length 4000, Time 2",
         "type": "histogram",
         "x": [
          1.0265,
          1.0275,
          1.02075,
          1.02325,
          1.02275,
          1.01875,
          1.02475,
          1.0315,
          1.04725,
          1.04425,
          1.0145,
          1.025,
          1.00675,
          1.0505,
          1.024,
          1.0075,
          1.0205,
          1.01825,
          1.03825,
          1.02075,
          1.02475,
          1.033,
          1.0345,
          1.02325,
          1.02275,
          1.008,
          1.0265,
          1.0405,
          1.0215,
          1.02525,
          1.02,
          1.011,
          1.016,
          1.03725,
          1.022,
          1.01425,
          1.0125,
          1.01675,
          1.02175,
          1.00575,
          1.02175,
          1.03425,
          1.044,
          1.0405,
          1.02175,
          1.03225,
          1.04075,
          1.02,
          1.03775,
          1.03625
         ],
         "xaxis": "x18",
         "xbins": {
          "end": 1.078,
          "size": 0.005350000000000005,
          "start": 0.971
         },
         "yaxis": "y18"
        },
        {
         "marker": {
          "line": {
           "width": 1
          }
         },
         "name": "Length 4000, Time 3",
         "type": "histogram",
         "x": [
          1.272,
          1.27325,
          1.31125,
          1.27825,
          1.30325,
          1.29925,
          1.2985,
          1.3025,
          1.27025,
          1.2895,
          1.29225,
          1.30925,
          1.2855,
          1.30675,
          1.313,
          1.30625,
          1.2755,
          1.299,
          1.2865,
          1.3035,
          1.3155,
          1.3095,
          1.284,
          1.3005,
          1.306,
          1.29625,
          1.28875,
          1.2965,
          1.29775,
          1.30175,
          1.293,
          1.31925,
          1.299,
          1.28775,
          1.3025,
          1.28075,
          1.28325,
          1.301,
          1.276,
          1.31725,
          1.316,
          1.30575,
          1.304,
          1.3005,
          1.309,
          1.2955,
          1.286,
          1.3145,
          1.275,
          1.27875
         ],
         "xaxis": "x19",
         "xbins": {
          "end": 1.383,
          "size": 0.008325000000000004,
          "start": 1.2165
         },
         "yaxis": "y19"
        }
       ],
       "layout": {
        "annotations": [
         {
          "font": {
           "size": 16
          },
          "showarrow": false,
          "text": "Time = 0.5, Length = 1000",
          "x": 0.08399999999999999,
          "xanchor": "center",
          "xref": "paper",
          "y": 1,
          "yanchor": "bottom",
          "yref": "paper"
         },
         {
          "font": {
           "size": 16
          },
          "showarrow": false,
          "text": "Time = 1, Length = 1000",
          "x": 0.292,
          "xanchor": "center",
          "xref": "paper",
          "y": 1,
          "yanchor": "bottom",
          "yref": "paper"
         },
         {
          "font": {
           "size": 16
          },
          "showarrow": false,
          "text": "Time = 2, Length = 1000",
          "x": 0.5,
          "xanchor": "center",
          "xref": "paper",
          "y": 1,
          "yanchor": "bottom",
          "yref": "paper"
         },
         {
          "font": {
           "size": 16
          },
          "showarrow": false,
          "text": "Time = 3, Length = 1000",
          "x": 0.708,
          "xanchor": "center",
          "xref": "paper",
          "y": 1,
          "yanchor": "bottom",
          "yref": "paper"
         },
         {
          "font": {
           "size": 16
          },
          "showarrow": false,
          "text": "Time = 4, Length = 1000",
          "x": 0.9159999999999999,
          "xanchor": "center",
          "xref": "paper",
          "y": 1,
          "yanchor": "bottom",
          "yref": "paper"
         },
         {
          "font": {
           "size": 16
          },
          "showarrow": false,
          "text": "Time = 0.5, Length = 2000",
          "x": 0.08399999999999999,
          "xanchor": "center",
          "xref": "paper",
          "y": 0.71875,
          "yanchor": "bottom",
          "yref": "paper"
         },
         {
          "font": {
           "size": 16
          },
          "showarrow": false,
          "text": "Time = 1, Length = 2000",
          "x": 0.292,
          "xanchor": "center",
          "xref": "paper",
          "y": 0.71875,
          "yanchor": "bottom",
          "yref": "paper"
         },
         {
          "font": {
           "size": 16
          },
          "showarrow": false,
          "text": "Time = 2, Length = 2000",
          "x": 0.5,
          "xanchor": "center",
          "xref": "paper",
          "y": 0.71875,
          "yanchor": "bottom",
          "yref": "paper"
         },
         {
          "font": {
           "size": 16
          },
          "showarrow": false,
          "text": "Time = 3, Length = 2000",
          "x": 0.708,
          "xanchor": "center",
          "xref": "paper",
          "y": 0.71875,
          "yanchor": "bottom",
          "yref": "paper"
         },
         {
          "font": {
           "size": 16
          },
          "showarrow": false,
          "text": "Time = 4, Length = 2000",
          "x": 0.9159999999999999,
          "xanchor": "center",
          "xref": "paper",
          "y": 0.71875,
          "yanchor": "bottom",
          "yref": "paper"
         },
         {
          "font": {
           "size": 16
          },
          "showarrow": false,
          "text": "Time = 0.5, Length = 3000",
          "x": 0.08399999999999999,
          "xanchor": "center",
          "xref": "paper",
          "y": 0.4375,
          "yanchor": "bottom",
          "yref": "paper"
         },
         {
          "font": {
           "size": 16
          },
          "showarrow": false,
          "text": "Time = 1, Length = 3000",
          "x": 0.292,
          "xanchor": "center",
          "xref": "paper",
          "y": 0.4375,
          "yanchor": "bottom",
          "yref": "paper"
         },
         {
          "font": {
           "size": 16
          },
          "showarrow": false,
          "text": "Time = 2, Length = 3000",
          "x": 0.5,
          "xanchor": "center",
          "xref": "paper",
          "y": 0.4375,
          "yanchor": "bottom",
          "yref": "paper"
         },
         {
          "font": {
           "size": 16
          },
          "showarrow": false,
          "text": "Time = 3, Length = 3000",
          "x": 0.708,
          "xanchor": "center",
          "xref": "paper",
          "y": 0.4375,
          "yanchor": "bottom",
          "yref": "paper"
         },
         {
          "font": {
           "size": 16
          },
          "showarrow": false,
          "text": "Time = 4, Length = 3000",
          "x": 0.9159999999999999,
          "xanchor": "center",
          "xref": "paper",
          "y": 0.4375,
          "yanchor": "bottom",
          "yref": "paper"
         },
         {
          "font": {
           "size": 16
          },
          "showarrow": false,
          "text": "Time = 0.5, Length = 4000",
          "x": 0.08399999999999999,
          "xanchor": "center",
          "xref": "paper",
          "y": 0.15625,
          "yanchor": "bottom",
          "yref": "paper"
         },
         {
          "font": {
           "size": 16
          },
          "showarrow": false,
          "text": "Time = 1, Length = 4000",
          "x": 0.292,
          "xanchor": "center",
          "xref": "paper",
          "y": 0.15625,
          "yanchor": "bottom",
          "yref": "paper"
         },
         {
          "font": {
           "size": 16
          },
          "showarrow": false,
          "text": "Time = 2, Length = 4000",
          "x": 0.5,
          "xanchor": "center",
          "xref": "paper",
          "y": 0.15625,
          "yanchor": "bottom",
          "yref": "paper"
         },
         {
          "font": {
           "size": 16
          },
          "showarrow": false,
          "text": "Time = 3, Length = 4000",
          "x": 0.708,
          "xanchor": "center",
          "xref": "paper",
          "y": 0.15625,
          "yanchor": "bottom",
          "yref": "paper"
         },
         {
          "font": {
           "size": 16
          },
          "showarrow": false,
          "text": "Time = 4, Length = 4000",
          "x": 0.9159999999999999,
          "xanchor": "center",
          "xref": "paper",
          "y": 0.15625,
          "yanchor": "bottom",
          "yref": "paper"
         }
        ],
        "bargap": 0.05,
        "height": 1200,
        "shapes": [
         {
          "line": {
           "color": "red",
           "dash": "dash",
           "width": 2
          },
          "type": "line",
          "x0": 0.39924,
          "x1": 0.39924,
          "xref": "x",
          "y0": 0,
          "y1": 1,
          "yref": "y domain"
         },
         {
          "line": {
           "color": "green",
           "dash": "dash",
           "width": 2
          },
          "type": "line",
          "x0": 0.39739721133458367,
          "x1": 0.39739721133458367,
          "xref": "x",
          "y0": 0,
          "y1": 1,
          "yref": "y domain"
         },
         {
          "line": {
           "color": "red",
           "dash": "dash",
           "width": 2
          },
          "type": "line",
          "x0": 0.66127,
          "x1": 0.66127,
          "xref": "x2",
          "y0": 0,
          "y1": 1,
          "yref": "y2 domain"
         },
         {
          "line": {
           "color": "green",
           "dash": "dash",
           "width": 2
          },
          "type": "line",
          "x0": 0.6629867579174638,
          "x1": 0.6629867579174638,
          "xref": "x2",
          "y0": 0,
          "y1": 1,
          "yref": "y2 domain"
         },
         {
          "line": {
           "color": "red",
           "dash": "dash",
           "width": 2
          },
          "type": "line",
          "x0": 1.02188,
          "x1": 1.02188,
          "xref": "x3",
          "y0": 0,
          "y1": 1,
          "yref": "y3 domain"
         },
         {
          "line": {
           "color": "green",
           "dash": "dash",
           "width": 2
          },
          "type": "line",
          "x0": 1.0238264004308901,
          "x1": 1.0238264004308901,
          "xref": "x3",
          "y0": 0,
          "y1": 1,
          "yref": "y3 domain"
         },
         {
          "line": {
           "color": "red",
           "dash": "dash",
           "width": 2
          },
          "type": "line",
          "x0": 1.28875,
          "x1": 1.28875,
          "xref": "x4",
          "y0": 0,
          "y1": 1,
          "yref": "y4 domain"
         },
         {
          "line": {
           "color": "green",
           "dash": "dash",
           "width": 2
          },
          "type": "line",
          "x0": 1.294476574578524,
          "x1": 1.294476574578524,
          "xref": "x4",
          "y0": 0,
          "y1": 1,
          "yref": "y4 domain"
         },
         {
          "line": {
           "color": "red",
           "dash": "dash",
           "width": 2
          },
          "type": "line",
          "x0": 1.52178,
          "x1": 1.52178,
          "xref": "x5",
          "y0": 0,
          "y1": 1,
          "yref": "y5 domain"
         },
         {
          "line": {
           "color": "green",
           "dash": "dash",
           "width": 2
          },
          "type": "line",
          "x0": 1.5301561751417054,
          "x1": 1.5301561751417054,
          "xref": "x5",
          "y0": 0,
          "y1": 1,
          "yref": "y5 domain"
         },
         {
          "line": {
           "color": "red",
           "dash": "dash",
           "width": 2
          },
          "type": "line",
          "x0": 0.393195,
          "x1": 0.393195,
          "xref": "x6",
          "y0": 0,
          "y1": 1,
          "yref": "y6 domain"
         },
         {
          "line": {
           "color": "green",
           "dash": "dash",
           "width": 2
          },
          "type": "line",
          "x0": 0.39739721133458367,
          "x1": 0.39739721133458367,
          "xref": "x6",
          "y0": 0,
          "y1": 1,
          "yref": "y6 domain"
         },
         {
          "line": {
           "color": "red",
           "dash": "dash",
           "width": 2
          },
          "type": "line",
          "x0": 0.657965,
          "x1": 0.657965,
          "xref": "x7",
          "y0": 0,
          "y1": 1,
          "yref": "y7 domain"
         },
         {
          "line": {
           "color": "green",
           "dash": "dash",
           "width": 2
          },
          "type": "line",
          "x0": 0.6629867579174638,
          "x1": 0.6629867579174638,
          "xref": "x7",
          "y0": 0,
          "y1": 1,
          "yref": "y7 domain"
         },
         {
          "line": {
           "color": "red",
           "dash": "dash",
           "width": 2
          },
          "type": "line",
          "x0": 1.0161900000000001,
          "x1": 1.0161900000000001,
          "xref": "x8",
          "y0": 0,
          "y1": 1,
          "yref": "y8 domain"
         },
         {
          "line": {
           "color": "green",
           "dash": "dash",
           "width": 2
          },
          "type": "line",
          "x0": 1.0238264004308901,
          "x1": 1.0238264004308901,
          "xref": "x8",
          "y0": 0,
          "y1": 1,
          "yref": "y8 domain"
         },
         {
          "line": {
           "color": "red",
           "dash": "dash",
           "width": 2
          },
          "type": "line",
          "x0": 1.281595,
          "x1": 1.281595,
          "xref": "x9",
          "y0": 0,
          "y1": 1,
          "yref": "y9 domain"
         },
         {
          "line": {
           "color": "green",
           "dash": "dash",
           "width": 2
          },
          "type": "line",
          "x0": 1.294476574578524,
          "x1": 1.294476574578524,
          "xref": "x9",
          "y0": 0,
          "y1": 1,
          "yref": "y9 domain"
         },
         {
          "line": {
           "color": "red",
           "dash": "dash",
           "width": 2
          },
          "type": "line",
          "x0": 1.51518,
          "x1": 1.51518,
          "xref": "x10",
          "y0": 0,
          "y1": 1,
          "yref": "y10 domain"
         },
         {
          "line": {
           "color": "green",
           "dash": "dash",
           "width": 2
          },
          "type": "line",
          "x0": 1.5301561751417054,
          "x1": 1.5301561751417054,
          "xref": "x10",
          "y0": 0,
          "y1": 1,
          "yref": "y10 domain"
         },
         {
          "line": {
           "color": "red",
           "dash": "dash",
           "width": 2
          },
          "type": "line",
          "x0": 0.3994533333333333,
          "x1": 0.3994533333333333,
          "xref": "x11",
          "y0": 0,
          "y1": 1,
          "yref": "y11 domain"
         },
         {
          "line": {
           "color": "green",
           "dash": "dash",
           "width": 2
          },
          "type": "line",
          "x0": 0.39739721133458367,
          "x1": 0.39739721133458367,
          "xref": "x11",
          "y0": 0,
          "y1": 1,
          "yref": "y11 domain"
         },
         {
          "line": {
           "color": "red",
           "dash": "dash",
           "width": 2
          },
          "type": "line",
          "x0": 0.6667,
          "x1": 0.6667,
          "xref": "x12",
          "y0": 0,
          "y1": 1,
          "yref": "y12 domain"
         },
         {
          "line": {
           "color": "green",
           "dash": "dash",
           "width": 2
          },
          "type": "line",
          "x0": 0.6629867579174638,
          "x1": 0.6629867579174638,
          "xref": "x12",
          "y0": 0,
          "y1": 1,
          "yref": "y12 domain"
         },
         {
          "line": {
           "color": "red",
           "dash": "dash",
           "width": 2
          },
          "type": "line",
          "x0": 1.0293333333333334,
          "x1": 1.0293333333333334,
          "xref": "x13",
          "y0": 0,
          "y1": 1,
          "yref": "y13 domain"
         },
         {
          "line": {
           "color": "green",
           "dash": "dash",
           "width": 2
          },
          "type": "line",
          "x0": 1.0238264004308901,
          "x1": 1.0238264004308901,
          "xref": "x13",
          "y0": 0,
          "y1": 1,
          "yref": "y13 domain"
         },
         {
          "line": {
           "color": "red",
           "dash": "dash",
           "width": 2
          },
          "type": "line",
          "x0": 1.3035066666666666,
          "x1": 1.3035066666666666,
          "xref": "x14",
          "y0": 0,
          "y1": 1,
          "yref": "y14 domain"
         },
         {
          "line": {
           "color": "green",
           "dash": "dash",
           "width": 2
          },
          "type": "line",
          "x0": 1.294476574578524,
          "x1": 1.294476574578524,
          "xref": "x14",
          "y0": 0,
          "y1": 1,
          "yref": "y14 domain"
         },
         {
          "line": {
           "color": "red",
           "dash": "dash",
           "width": 2
          },
          "type": "line",
          "x0": 1.5345133333333334,
          "x1": 1.5345133333333334,
          "xref": "x15",
          "y0": 0,
          "y1": 1,
          "yref": "y15 domain"
         },
         {
          "line": {
           "color": "green",
           "dash": "dash",
           "width": 2
          },
          "type": "line",
          "x0": 1.5301561751417054,
          "x1": 1.5301561751417054,
          "xref": "x15",
          "y0": 0,
          "y1": 1,
          "yref": "y15 domain"
         },
         {
          "line": {
           "color": "red",
           "dash": "dash",
           "width": 2
          },
          "type": "line",
          "x0": 0.398785,
          "x1": 0.398785,
          "xref": "x16",
          "y0": 0,
          "y1": 1,
          "yref": "y16 domain"
         },
         {
          "line": {
           "color": "green",
           "dash": "dash",
           "width": 2
          },
          "type": "line",
          "x0": 0.39739721133458367,
          "x1": 0.39739721133458367,
          "xref": "x16",
          "y0": 0,
          "y1": 1,
          "yref": "y16 domain"
         },
         {
          "line": {
           "color": "red",
           "dash": "dash",
           "width": 2
          },
          "type": "line",
          "x0": 0.66301,
          "x1": 0.66301,
          "xref": "x17",
          "y0": 0,
          "y1": 1,
          "yref": "y17 domain"
         },
         {
          "line": {
           "color": "green",
           "dash": "dash",
           "width": 2
          },
          "type": "line",
          "x0": 0.6629867579174638,
          "x1": 0.6629867579174638,
          "xref": "x17",
          "y0": 0,
          "y1": 1,
          "yref": "y17 domain"
         },
         {
          "line": {
           "color": "red",
           "dash": "dash",
           "width": 2
          },
          "type": "line",
          "x0": 1.025595,
          "x1": 1.025595,
          "xref": "x18",
          "y0": 0,
          "y1": 1,
          "yref": "y18 domain"
         },
         {
          "line": {
           "color": "green",
           "dash": "dash",
           "width": 2
          },
          "type": "line",
          "x0": 1.0238264004308901,
          "x1": 1.0238264004308901,
          "xref": "x18",
          "y0": 0,
          "y1": 1,
          "yref": "y18 domain"
         },
         {
          "line": {
           "color": "red",
           "dash": "dash",
           "width": 2
          },
          "type": "line",
          "x0": 1.296335,
          "x1": 1.296335,
          "xref": "x19",
          "y0": 0,
          "y1": 1,
          "yref": "y19 domain"
         },
         {
          "line": {
           "color": "green",
           "dash": "dash",
           "width": 2
          },
          "type": "line",
          "x0": 1.294476574578524,
          "x1": 1.294476574578524,
          "xref": "x19",
          "y0": 0,
          "y1": 1,
          "yref": "y19 domain"
         }
        ],
        "showlegend": false,
        "template": {
         "data": {
          "bar": [
           {
            "error_x": {
             "color": "#2a3f5f"
            },
            "error_y": {
             "color": "#2a3f5f"
            },
            "marker": {
             "line": {
              "color": "#E5ECF6",
              "width": 0.5
             },
             "pattern": {
              "fillmode": "overlay",
              "size": 10,
              "solidity": 0.2
             }
            },
            "type": "bar"
           }
          ],
          "barpolar": [
           {
            "marker": {
             "line": {
              "color": "#E5ECF6",
              "width": 0.5
             },
             "pattern": {
              "fillmode": "overlay",
              "size": 10,
              "solidity": 0.2
             }
            },
            "type": "barpolar"
           }
          ],
          "carpet": [
           {
            "aaxis": {
             "endlinecolor": "#2a3f5f",
             "gridcolor": "white",
             "linecolor": "white",
             "minorgridcolor": "white",
             "startlinecolor": "#2a3f5f"
            },
            "baxis": {
             "endlinecolor": "#2a3f5f",
             "gridcolor": "white",
             "linecolor": "white",
             "minorgridcolor": "white",
             "startlinecolor": "#2a3f5f"
            },
            "type": "carpet"
           }
          ],
          "choropleth": [
           {
            "colorbar": {
             "outlinewidth": 0,
             "ticks": ""
            },
            "type": "choropleth"
           }
          ],
          "contour": [
           {
            "colorbar": {
             "outlinewidth": 0,
             "ticks": ""
            },
            "colorscale": [
             [
              0,
              "#0d0887"
             ],
             [
              0.1111111111111111,
              "#46039f"
             ],
             [
              0.2222222222222222,
              "#7201a8"
             ],
             [
              0.3333333333333333,
              "#9c179e"
             ],
             [
              0.4444444444444444,
              "#bd3786"
             ],
             [
              0.5555555555555556,
              "#d8576b"
             ],
             [
              0.6666666666666666,
              "#ed7953"
             ],
             [
              0.7777777777777778,
              "#fb9f3a"
             ],
             [
              0.8888888888888888,
              "#fdca26"
             ],
             [
              1,
              "#f0f921"
             ]
            ],
            "type": "contour"
           }
          ],
          "contourcarpet": [
           {
            "colorbar": {
             "outlinewidth": 0,
             "ticks": ""
            },
            "type": "contourcarpet"
           }
          ],
          "heatmap": [
           {
            "colorbar": {
             "outlinewidth": 0,
             "ticks": ""
            },
            "colorscale": [
             [
              0,
              "#0d0887"
             ],
             [
              0.1111111111111111,
              "#46039f"
             ],
             [
              0.2222222222222222,
              "#7201a8"
             ],
             [
              0.3333333333333333,
              "#9c179e"
             ],
             [
              0.4444444444444444,
              "#bd3786"
             ],
             [
              0.5555555555555556,
              "#d8576b"
             ],
             [
              0.6666666666666666,
              "#ed7953"
             ],
             [
              0.7777777777777778,
              "#fb9f3a"
             ],
             [
              0.8888888888888888,
              "#fdca26"
             ],
             [
              1,
              "#f0f921"
             ]
            ],
            "type": "heatmap"
           }
          ],
          "heatmapgl": [
           {
            "colorbar": {
             "outlinewidth": 0,
             "ticks": ""
            },
            "colorscale": [
             [
              0,
              "#0d0887"
             ],
             [
              0.1111111111111111,
              "#46039f"
             ],
             [
              0.2222222222222222,
              "#7201a8"
             ],
             [
              0.3333333333333333,
              "#9c179e"
             ],
             [
              0.4444444444444444,
              "#bd3786"
             ],
             [
              0.5555555555555556,
              "#d8576b"
             ],
             [
              0.6666666666666666,
              "#ed7953"
             ],
             [
              0.7777777777777778,
              "#fb9f3a"
             ],
             [
              0.8888888888888888,
              "#fdca26"
             ],
             [
              1,
              "#f0f921"
             ]
            ],
            "type": "heatmapgl"
           }
          ],
          "histogram": [
           {
            "marker": {
             "pattern": {
              "fillmode": "overlay",
              "size": 10,
              "solidity": 0.2
             }
            },
            "type": "histogram"
           }
          ],
          "histogram2d": [
           {
            "colorbar": {
             "outlinewidth": 0,
             "ticks": ""
            },
            "colorscale": [
             [
              0,
              "#0d0887"
             ],
             [
              0.1111111111111111,
              "#46039f"
             ],
             [
              0.2222222222222222,
              "#7201a8"
             ],
             [
              0.3333333333333333,
              "#9c179e"
             ],
             [
              0.4444444444444444,
              "#bd3786"
             ],
             [
              0.5555555555555556,
              "#d8576b"
             ],
             [
              0.6666666666666666,
              "#ed7953"
             ],
             [
              0.7777777777777778,
              "#fb9f3a"
             ],
             [
              0.8888888888888888,
              "#fdca26"
             ],
             [
              1,
              "#f0f921"
             ]
            ],
            "type": "histogram2d"
           }
          ],
          "histogram2dcontour": [
           {
            "colorbar": {
             "outlinewidth": 0,
             "ticks": ""
            },
            "colorscale": [
             [
              0,
              "#0d0887"
             ],
             [
              0.1111111111111111,
              "#46039f"
             ],
             [
              0.2222222222222222,
              "#7201a8"
             ],
             [
              0.3333333333333333,
              "#9c179e"
             ],
             [
              0.4444444444444444,
              "#bd3786"
             ],
             [
              0.5555555555555556,
              "#d8576b"
             ],
             [
              0.6666666666666666,
              "#ed7953"
             ],
             [
              0.7777777777777778,
              "#fb9f3a"
             ],
             [
              0.8888888888888888,
              "#fdca26"
             ],
             [
              1,
              "#f0f921"
             ]
            ],
            "type": "histogram2dcontour"
           }
          ],
          "mesh3d": [
           {
            "colorbar": {
             "outlinewidth": 0,
             "ticks": ""
            },
            "type": "mesh3d"
           }
          ],
          "parcoords": [
           {
            "line": {
             "colorbar": {
              "outlinewidth": 0,
              "ticks": ""
             }
            },
            "type": "parcoords"
           }
          ],
          "pie": [
           {
            "automargin": true,
            "type": "pie"
           }
          ],
          "scatter": [
           {
            "fillpattern": {
             "fillmode": "overlay",
             "size": 10,
             "solidity": 0.2
            },
            "type": "scatter"
           }
          ],
          "scatter3d": [
           {
            "line": {
             "colorbar": {
              "outlinewidth": 0,
              "ticks": ""
             }
            },
            "marker": {
             "colorbar": {
              "outlinewidth": 0,
              "ticks": ""
             }
            },
            "type": "scatter3d"
           }
          ],
          "scattercarpet": [
           {
            "marker": {
             "colorbar": {
              "outlinewidth": 0,
              "ticks": ""
             }
            },
            "type": "scattercarpet"
           }
          ],
          "scattergeo": [
           {
            "marker": {
             "colorbar": {
              "outlinewidth": 0,
              "ticks": ""
             }
            },
            "type": "scattergeo"
           }
          ],
          "scattergl": [
           {
            "marker": {
             "colorbar": {
              "outlinewidth": 0,
              "ticks": ""
             }
            },
            "type": "scattergl"
           }
          ],
          "scattermapbox": [
           {
            "marker": {
             "colorbar": {
              "outlinewidth": 0,
              "ticks": ""
             }
            },
            "type": "scattermapbox"
           }
          ],
          "scatterpolar": [
           {
            "marker": {
             "colorbar": {
              "outlinewidth": 0,
              "ticks": ""
             }
            },
            "type": "scatterpolar"
           }
          ],
          "scatterpolargl": [
           {
            "marker": {
             "colorbar": {
              "outlinewidth": 0,
              "ticks": ""
             }
            },
            "type": "scatterpolargl"
           }
          ],
          "scatterternary": [
           {
            "marker": {
             "colorbar": {
              "outlinewidth": 0,
              "ticks": ""
             }
            },
            "type": "scatterternary"
           }
          ],
          "surface": [
           {
            "colorbar": {
             "outlinewidth": 0,
             "ticks": ""
            },
            "colorscale": [
             [
              0,
              "#0d0887"
             ],
             [
              0.1111111111111111,
              "#46039f"
             ],
             [
              0.2222222222222222,
              "#7201a8"
             ],
             [
              0.3333333333333333,
              "#9c179e"
             ],
             [
              0.4444444444444444,
              "#bd3786"
             ],
             [
              0.5555555555555556,
              "#d8576b"
             ],
             [
              0.6666666666666666,
              "#ed7953"
             ],
             [
              0.7777777777777778,
              "#fb9f3a"
             ],
             [
              0.8888888888888888,
              "#fdca26"
             ],
             [
              1,
              "#f0f921"
             ]
            ],
            "type": "surface"
           }
          ],
          "table": [
           {
            "cells": {
             "fill": {
              "color": "#EBF0F8"
             },
             "line": {
              "color": "white"
             }
            },
            "header": {
             "fill": {
              "color": "#C8D4E3"
             },
             "line": {
              "color": "white"
             }
            },
            "type": "table"
           }
          ]
         },
         "layout": {
          "annotationdefaults": {
           "arrowcolor": "#2a3f5f",
           "arrowhead": 0,
           "arrowwidth": 1
          },
          "autotypenumbers": "strict",
          "coloraxis": {
           "colorbar": {
            "outlinewidth": 0,
            "ticks": ""
           }
          },
          "colorscale": {
           "diverging": [
            [
             0,
             "#8e0152"
            ],
            [
             0.1,
             "#c51b7d"
            ],
            [
             0.2,
             "#de77ae"
            ],
            [
             0.3,
             "#f1b6da"
            ],
            [
             0.4,
             "#fde0ef"
            ],
            [
             0.5,
             "#f7f7f7"
            ],
            [
             0.6,
             "#e6f5d0"
            ],
            [
             0.7,
             "#b8e186"
            ],
            [
             0.8,
             "#7fbc41"
            ],
            [
             0.9,
             "#4d9221"
            ],
            [
             1,
             "#276419"
            ]
           ],
           "sequential": [
            [
             0,
             "#0d0887"
            ],
            [
             0.1111111111111111,
             "#46039f"
            ],
            [
             0.2222222222222222,
             "#7201a8"
            ],
            [
             0.3333333333333333,
             "#9c179e"
            ],
            [
             0.4444444444444444,
             "#bd3786"
            ],
            [
             0.5555555555555556,
             "#d8576b"
            ],
            [
             0.6666666666666666,
             "#ed7953"
            ],
            [
             0.7777777777777778,
             "#fb9f3a"
            ],
            [
             0.8888888888888888,
             "#fdca26"
            ],
            [
             1,
             "#f0f921"
            ]
           ],
           "sequentialminus": [
            [
             0,
             "#0d0887"
            ],
            [
             0.1111111111111111,
             "#46039f"
            ],
            [
             0.2222222222222222,
             "#7201a8"
            ],
            [
             0.3333333333333333,
             "#9c179e"
            ],
            [
             0.4444444444444444,
             "#bd3786"
            ],
            [
             0.5555555555555556,
             "#d8576b"
            ],
            [
             0.6666666666666666,
             "#ed7953"
            ],
            [
             0.7777777777777778,
             "#fb9f3a"
            ],
            [
             0.8888888888888888,
             "#fdca26"
            ],
            [
             1,
             "#f0f921"
            ]
           ]
          },
          "colorway": [
           "#636efa",
           "#EF553B",
           "#00cc96",
           "#ab63fa",
           "#FFA15A",
           "#19d3f3",
           "#FF6692",
           "#B6E880",
           "#FF97FF",
           "#FECB52"
          ],
          "font": {
           "color": "#2a3f5f"
          },
          "geo": {
           "bgcolor": "white",
           "lakecolor": "white",
           "landcolor": "#E5ECF6",
           "showlakes": true,
           "showland": true,
           "subunitcolor": "white"
          },
          "hoverlabel": {
           "align": "left"
          },
          "hovermode": "closest",
          "mapbox": {
           "style": "light"
          },
          "paper_bgcolor": "white",
          "plot_bgcolor": "#E5ECF6",
          "polar": {
           "angularaxis": {
            "gridcolor": "white",
            "linecolor": "white",
            "ticks": ""
           },
           "bgcolor": "#E5ECF6",
           "radialaxis": {
            "gridcolor": "white",
            "linecolor": "white",
            "ticks": ""
           }
          },
          "scene": {
           "xaxis": {
            "backgroundcolor": "#E5ECF6",
            "gridcolor": "white",
            "gridwidth": 2,
            "linecolor": "white",
            "showbackground": true,
            "ticks": "",
            "zerolinecolor": "white"
           },
           "yaxis": {
            "backgroundcolor": "#E5ECF6",
            "gridcolor": "white",
            "gridwidth": 2,
            "linecolor": "white",
            "showbackground": true,
            "ticks": "",
            "zerolinecolor": "white"
           },
           "zaxis": {
            "backgroundcolor": "#E5ECF6",
            "gridcolor": "white",
            "gridwidth": 2,
            "linecolor": "white",
            "showbackground": true,
            "ticks": "",
            "zerolinecolor": "white"
           }
          },
          "shapedefaults": {
           "line": {
            "color": "#2a3f5f"
           }
          },
          "ternary": {
           "aaxis": {
            "gridcolor": "white",
            "linecolor": "white",
            "ticks": ""
           },
           "baxis": {
            "gridcolor": "white",
            "linecolor": "white",
            "ticks": ""
           },
           "bgcolor": "#E5ECF6",
           "caxis": {
            "gridcolor": "white",
            "linecolor": "white",
            "ticks": ""
           }
          },
          "title": {
           "x": 0.05
          },
          "xaxis": {
           "automargin": true,
           "gridcolor": "white",
           "linecolor": "white",
           "ticks": "",
           "title": {
            "standoff": 15
           },
           "zerolinecolor": "white",
           "zerolinewidth": 2
          },
          "yaxis": {
           "automargin": true,
           "gridcolor": "white",
           "linecolor": "white",
           "ticks": "",
           "title": {
            "standoff": 15
           },
           "zerolinecolor": "white",
           "zerolinewidth": 2
          }
         }
        },
        "title": {
         "text": "Distribution of Substitutions Number by Time and Length"
        },
        "width": 1500,
        "xaxis": {
         "anchor": "y",
         "domain": [
          0,
          0.16799999999999998
         ],
         "range": [
          0.354,
          0.4285
         ],
         "title": {
          "text": "Subsitution Number"
         }
        },
        "xaxis10": {
         "anchor": "y10",
         "domain": [
          0.832,
          1
         ],
         "range": [
          1.441,
          1.609
         ]
        },
        "xaxis11": {
         "anchor": "y11",
         "domain": [
          0,
          0.16799999999999998
         ],
         "range": [
          0.354,
          0.4285
         ]
        },
        "xaxis12": {
         "anchor": "y12",
         "domain": [
          0.208,
          0.376
         ],
         "range": [
          0.612,
          0.707
         ]
        },
        "xaxis13": {
         "anchor": "y13",
         "domain": [
          0.416,
          0.584
         ],
         "range": [
          0.971,
          1.078
         ]
        },
        "xaxis14": {
         "anchor": "y14",
         "domain": [
          0.624,
          0.792
         ],
         "range": [
          1.2165,
          1.383
         ]
        },
        "xaxis15": {
         "anchor": "y15",
         "domain": [
          0.832,
          1
         ],
         "range": [
          1.441,
          1.609
         ]
        },
        "xaxis16": {
         "anchor": "y16",
         "domain": [
          0,
          0.16799999999999998
         ],
         "range": [
          0.354,
          0.4285
         ]
        },
        "xaxis17": {
         "anchor": "y17",
         "domain": [
          0.208,
          0.376
         ],
         "range": [
          0.612,
          0.707
         ]
        },
        "xaxis18": {
         "anchor": "y18",
         "domain": [
          0.416,
          0.584
         ],
         "range": [
          0.971,
          1.078
         ]
        },
        "xaxis19": {
         "anchor": "y19",
         "domain": [
          0.624,
          0.792
         ],
         "range": [
          1.2165,
          1.383
         ]
        },
        "xaxis2": {
         "anchor": "y2",
         "domain": [
          0.208,
          0.376
         ],
         "range": [
          0.612,
          0.707
         ]
        },
        "xaxis20": {
         "anchor": "y20",
         "domain": [
          0.832,
          1
         ],
         "range": [
          1.441,
          1.609
         ]
        },
        "xaxis3": {
         "anchor": "y3",
         "domain": [
          0.416,
          0.584
         ],
         "range": [
          0.971,
          1.078
         ]
        },
        "xaxis4": {
         "anchor": "y4",
         "domain": [
          0.624,
          0.792
         ],
         "range": [
          1.2165,
          1.383
         ]
        },
        "xaxis5": {
         "anchor": "y5",
         "domain": [
          0.832,
          1
         ],
         "range": [
          1.441,
          1.609
         ]
        },
        "xaxis6": {
         "anchor": "y6",
         "domain": [
          0,
          0.16799999999999998
         ],
         "range": [
          0.354,
          0.4285
         ]
        },
        "xaxis7": {
         "anchor": "y7",
         "domain": [
          0.208,
          0.376
         ],
         "range": [
          0.612,
          0.707
         ]
        },
        "xaxis8": {
         "anchor": "y8",
         "domain": [
          0.416,
          0.584
         ],
         "range": [
          0.971,
          1.078
         ]
        },
        "xaxis9": {
         "anchor": "y9",
         "domain": [
          0.624,
          0.792
         ],
         "range": [
          1.2165,
          1.383
         ]
        },
        "yaxis": {
         "anchor": "x",
         "domain": [
          0.84375,
          1
         ]
        },
        "yaxis10": {
         "anchor": "x10",
         "domain": [
          0.5625,
          0.71875
         ]
        },
        "yaxis11": {
         "anchor": "x11",
         "domain": [
          0.28125,
          0.4375
         ]
        },
        "yaxis12": {
         "anchor": "x12",
         "domain": [
          0.28125,
          0.4375
         ]
        },
        "yaxis13": {
         "anchor": "x13",
         "domain": [
          0.28125,
          0.4375
         ]
        },
        "yaxis14": {
         "anchor": "x14",
         "domain": [
          0.28125,
          0.4375
         ]
        },
        "yaxis15": {
         "anchor": "x15",
         "domain": [
          0.28125,
          0.4375
         ]
        },
        "yaxis16": {
         "anchor": "x16",
         "domain": [
          0,
          0.15625
         ]
        },
        "yaxis17": {
         "anchor": "x17",
         "domain": [
          0,
          0.15625
         ]
        },
        "yaxis18": {
         "anchor": "x18",
         "domain": [
          0,
          0.15625
         ]
        },
        "yaxis19": {
         "anchor": "x19",
         "domain": [
          0,
          0.15625
         ]
        },
        "yaxis2": {
         "anchor": "x2",
         "domain": [
          0.84375,
          1
         ]
        },
        "yaxis20": {
         "anchor": "x20",
         "domain": [
          0,
          0.15625
         ]
        },
        "yaxis3": {
         "anchor": "x3",
         "domain": [
          0.84375,
          1
         ]
        },
        "yaxis4": {
         "anchor": "x4",
         "domain": [
          0.84375,
          1
         ]
        },
        "yaxis5": {
         "anchor": "x5",
         "domain": [
          0.84375,
          1
         ]
        },
        "yaxis6": {
         "anchor": "x6",
         "domain": [
          0.5625,
          0.71875
         ]
        },
        "yaxis7": {
         "anchor": "x7",
         "domain": [
          0.5625,
          0.71875
         ]
        },
        "yaxis8": {
         "anchor": "x8",
         "domain": [
          0.5625,
          0.71875
         ]
        },
        "yaxis9": {
         "anchor": "x9",
         "domain": [
          0.5625,
          0.71875
         ]
        }
       }
      }
     },
     "metadata": {},
     "output_type": "display_data"
    }
   ],
   "source": [
    "fig = get_histograms1(ns_dict_all, theoretical_ns_dict)\n",
    "fig.update_layout(title_text='Distribution of Substitutions Number by Time and Length',\n",
    "        xaxis_title_text='Subsitution Number')\n",
    "\n",
    "fig.write_image('Distribution of Substitutions Number by Time and Length.pdf')\n",
    "fig.show()"
   ]
  },
  {
   "cell_type": "code",
   "execution_count": null,
   "metadata": {},
   "outputs": [],
   "source": [
    "error_ns_dict_all = {}\n",
    "for key, times in ns_dict_all.items():\n",
    "    error_ns_dict_all[key] = {}\n",
    "    for time, ns_value in times.items():\n",
    "        ns_error_list = [a - theoretical_ns_dict[time] for a in ns_value['ns_per_site_list']]\n",
    "        error_ns_dict_all[key][time] = {'avg_ns_per_site': ns_value['avg_ns_per_site']-theoretical_ns_dict[time], 'ns_per_site_list': ns_error_list}"
   ]
  },
  {
   "cell_type": "code",
   "execution_count": null,
   "metadata": {},
   "outputs": [],
   "source": [
    "theoretical_ns_error_dict = {time: 0 for time in time_range}"
   ]
  },
  {
   "cell_type": "code",
   "execution_count": null,
   "metadata": {},
   "outputs": [],
   "source": [
    "\n",
    "\n",
    "def get_histograms2(ns_dict, theoretical_ns_list):\n",
    "    lengths = list(ns_dict.keys())\n",
    "    all_times = {time for length in ns_dict for time in ns_dict[length].keys()}\n",
    "    times = sorted(all_times)  # Sorting to maintain a consistent order\n",
    "\n",
    "    rows = len(lengths)\n",
    "    cols = len(times)\n",
    "    \n",
    "    # Determine global minimum and maximum x values for axis range consistency\n",
    "    x_min = min(min(ns_dict[length][time]['ns_per_site_list']) for length in ns_dict for time in ns_dict[length] if time in ns_dict[length])\n",
    "    x_max = max(max(ns_dict[length][time]['ns_per_site_list']) for length in ns_dict for time in ns_dict[length] if time in ns_dict[length])\n",
    "    \n",
    "    # Create subplots\n",
    "    fig = make_subplots(rows=rows, cols=cols, subplot_titles=[f'Time = {t}, Length = {l}' for l in lengths for t in times])\n",
    "\n",
    "    # Populate subplots\n",
    "    for row, length in enumerate(lengths, start=1):\n",
    "        for col, time in enumerate(times, start=1):\n",
    "            data = ns_dict[length][time]['ns_per_site_list'] if time in ns_dict[length] else []\n",
    "            theoretical_ns = theoretical_ns_list[time] if time in theoretical_ns_list else None\n",
    "            average_ns = ns_dict[length][time]['avg_ns_per_site'] if time in ns_dict[length] else None\n",
    "\n",
    "            # Add histogram to subplot\n",
    "            fig.add_trace(\n",
    "                go.Histogram(\n",
    "                    x=data,\n",
    "                    xbins=dict(  # Control the bar widths here\n",
    "                        start=x_min,\n",
    "                        end=x_max,\n",
    "                        size=(x_max - x_min) / 20  # Adjust size for consistent bar width\n",
    "                    ),\n",
    "                    marker=dict(line=dict(width=1)),\n",
    "                    name=f'Length {length}, Time {time}'\n",
    "                ),\n",
    "                row=row,\n",
    "                col=col\n",
    "            )\n",
    "            \n",
    "            # Add vertical lines for average and theoretical values\n",
    "            fig.add_vline(x=average_ns, line_width=2, line_dash=\"dash\", line_color=\"red\", row=row, col=col)\n",
    "            fig.add_vline(x=theoretical_ns, line_width=2, line_dash=\"dash\", line_color=\"green\", row=row, col=col)\n",
    "\n",
    "    # Update layout for all subplots\n",
    "    fig.update_layout(\n",
    "        height=300 * rows,\n",
    "        width=300 * cols,\n",
    "        showlegend=False,\n",
    "        bargap=0.05  # Adjust space between bars\n",
    "    )\n",
    "    \n",
    "    # Set consistent x-axis range across all subplots\n",
    "    for r in range(1, rows+1):\n",
    "        for c in range(1, cols+1):\n",
    "            fig.update_xaxes(range=[-0.09, 0.06], row=r, col=c)\n",
    "\n",
    "    return fig\n"
   ]
  },
  {
   "cell_type": "code",
   "execution_count": null,
   "metadata": {},
   "outputs": [
    {
     "data": {
      "application/vnd.plotly.v1+json": {
       "config": {
        "plotlyServerURL": "https://plot.ly"
       },
       "data": [
        {
         "marker": {
          "line": {
           "width": 1
          }
         },
         "name": "Length 1000, Time 0.5",
         "type": "histogram",
         "x": [
          0.018602788665416314,
          0.020602788665416316,
          0.020602788665416316,
          0.0016027886654163548,
          0.022602788665416318,
          0.01360278866541631,
          0.005602788665416358,
          -0.0033972113345836497,
          0.027602788665416322,
          0.020602788665416316,
          -0.01439721133458366,
          -0.011397211334583657,
          0.0026027886654163557,
          0.0046027886654163574,
          -0.01539721133458366,
          0.009602788665416306,
          -0.010397211334583656,
          0.019602788665416315,
          -0.0033972113345836497,
          -0.0033972113345836497,
          -0.007397211334583653,
          0.009602788665416306,
          0.01460278866541631,
          0.00760278866541636,
          0.0016027886654163548,
          0.022602788665416318,
          -0.019397211334583664,
          -0.008397211334583654,
          -0.043397211334583685,
          -0.010397211334583656,
          0.0036027886654163566,
          0.010602788665416307,
          0.010602788665416307,
          0.00760278866541636,
          -0.030397211334583674,
          0.006602788665416359,
          -0.0013972113345836479,
          -0.009397211334583655,
          0.017602788665416313,
          -0.005397211334583651,
          0.011602788665416308,
          -0.017397211334583662,
          0.008602788665416361,
          0.01460278866541631,
          -0.011397211334583657,
          -0.008397211334583654,
          0.012602788665416309,
          0.010602788665416307,
          -0.0023972113345836488,
          0.030602788665416325,
          0.015602788665416312,
          -0.023397211334583667,
          -0.011397211334583657,
          0.027602788665416322,
          0.011602788665416308,
          0.010602788665416307,
          0.0016027886654163548,
          -0.0023972113345836488,
          -0.0033972113345836497,
          -0.0033972113345836497,
          0.009602788665416306,
          -0.008397211334583654,
          -0.0023972113345836488,
          -0.012397211334583658,
          0.01360278866541631,
          -0.0033972113345836497,
          0.0006027886654163539,
          -0.013397211334583659,
          0.011602788665416308,
          -0.02439721133458367,
          -0.02539721133458367,
          -0.01539721133458366,
          0.0046027886654163574,
          -0.013397211334583659,
          -0.013397211334583659,
          -0.000397211334583647,
          0.00760278866541636,
          0.009602788665416306,
          -0.02439721133458367,
          0.017602788665416313,
          0.012602788665416309,
          -0.01439721133458366,
          -0.0023972113345836488,
          0.02360278866541632,
          0.0036027886654163566,
          -0.006397211334583652,
          -0.01639721133458366,
          0.012602788665416309,
          0.027602788665416322,
          -0.017397211334583662,
          0.009602788665416306,
          0.009602788665416306,
          0.017602788665416313,
          -0.022397211334583667,
          -0.010397211334583656,
          0.028602788665416323,
          0.0046027886654163574,
          0.01360278866541631,
          0.02460278866541632,
          -0.007397211334583653
         ],
         "xaxis": "x",
         "xbins": {
          "end": 0.08852342542147595,
          "size": 0.008883980028159067,
          "start": -0.08915617514170537
         },
         "yaxis": "y"
        },
        {
         "marker": {
          "line": {
           "width": 1
          }
         },
         "name": "Length 1000, Time 1",
         "type": "histogram",
         "x": [
          0.006013242082536285,
          0.013013242082536292,
          -0.02098675791746374,
          -0.02098675791746374,
          -0.02398675791746374,
          0.016013242082536294,
          0.014013242082536292,
          0.002013242082536282,
          0.018013242082536296,
          -0.0039867579174637235,
          0.007013242082536286,
          0.017013242082536295,
          0.014013242082536292,
          0.002013242082536282,
          -0.025986757917463743,
          0.0240132420825363,
          0.0220132420825363,
          0.0220132420825363,
          0.015013242082536293,
          -0.026986757917463744,
          0.014013242082536292,
          -0.004986757917463724,
          0.01101324208253629,
          -0.008986757917463728,
          0.01101324208253629,
          -0.018986757917463737,
          -0.01198675791746373,
          0.008013242082536287,
          -0.015986757917463734,
          0.014013242082536292,
          0.009013242082536288,
          0.0030132420825362827,
          -0.02098675791746374,
          0.018013242082536296,
          -0.0019867579174637218,
          0.01201324208253629,
          -0.038986757917463755,
          0.018013242082536296,
          0.006013242082536285,
          -0.013986757917463732,
          -0.017986757917463736,
          0.0030132420825362827,
          0.001013242082536281,
          0.000013242082536280009,
          -0.03198675791746375,
          -0.0029867579174637227,
          0.0040132420825362836,
          -0.008986757917463728,
          -0.012986757917463732,
          -0.007986757917463727,
          -0.01198675791746373,
          -0.040986757917463756,
          0.0210132420825363,
          -0.01198675791746373,
          0.0320132420825362,
          -0.02198675791746374,
          0.014013242082536292,
          0.006013242082536285,
          -0.018986757917463737,
          0.002013242082536282,
          0.014013242082536292,
          0.007013242082536286,
          -0.024986757917463742,
          0.008013242082536287,
          0.001013242082536281,
          0.0230132420825363,
          0.01201324208253629,
          0.015013242082536293,
          -0.028986757917463746,
          -0.019986757917463738,
          -0.0029867579174637227,
          -0.0029867579174637227,
          0.010013242082536289,
          0.009013242082536288,
          0.0230132420825363,
          -0.019986757917463738,
          -0.029986757917463747,
          -0.005986757917463725,
          0.001013242082536281,
          -0.030986757917463748,
          -0.04198675791746376,
          -0.013986757917463732,
          -0.030986757917463748,
          0.04401324208253621,
          -0.02198675791746374,
          -0.02098675791746374,
          0.017013242082536295,
          0.0040132420825362836,
          0.01201324208253629,
          -0.050986757917463765,
          0.04401324208253621,
          0.008013242082536287,
          0.006013242082536285,
          -0.005986757917463725,
          -0.030986757917463748,
          0.006013242082536285,
          -0.01098675791746373,
          0.002013242082536282,
          0.0370132420825362,
          -0.029986757917463747
         ],
         "xaxis": "x2",
         "xbins": {
          "end": 0.08852342542147595,
          "size": 0.008883980028159067,
          "start": -0.08915617514170537
         },
         "yaxis": "y2"
        },
        {
         "marker": {
          "line": {
           "width": 1
          }
         },
         "name": "Length 1000, Time 2",
         "type": "histogram",
         "x": [
          0.0021735995691098964,
          0.026173599569109918,
          -0.010826400430890226,
          0.0061735995691099,
          -0.032826400430890135,
          0.015173599569109797,
          0.0171735995691098,
          0.02917359956910981,
          -0.008826400430890224,
          -0.011826400430890116,
          0.0021735995691098964,
          0.05417359956910994,
          -0.01482640043089023,
          -0.029826400430890132,
          0.020173599569109912,
          -0.03882640043089014,
          0.004173599569109898,
          0.035173599569109815,
          0.0011735995691097845,
          0.0021735995691098964,
          0.025173599569109806,
          -0.010826400430890226,
          0.01617359956910991,
          0.0061735995691099,
          0.01617359956910991,
          -0.013826400430890118,
          0.011173599569109793,
          -0.042826400430890144,
          -0.02582640043089013,
          -0.03782640043089014,
          -0.002826400430890219,
          -0.011826400430890116,
          0.04217359956910993,
          -0.04982640043089015,
          0.025173599569109806,
          -0.011826400430890116,
          -0.0018264004308901072,
          -0.007826400430890113,
          -0.03682640043089014,
          0.0001735995691098946,
          -0.022826400430890237,
          -0.0018264004308901072,
          0.025173599569109806,
          -0.03682640043089014,
          0.03017359956910992,
          -0.01582640043089012,
          0.026173599569109918,
          -0.0008264004308902173,
          0.023173599569109804,
          0.00717359956910979,
          -0.05282640043089015,
          0.022173599569109914,
          0.02917359956910981,
          -0.012826400430890228,
          -0.030826400430890133,
          -0.030826400430890133,
          0.0011735995691097845,
          -0.032826400430890135,
          -0.003826400430890109,
          0.0021735995691098964,
          0.015173599569109797,
          0.034173599569109925,
          -0.022826400430890237,
          -0.005826400430890111,
          -0.04082640043089014,
          -0.003826400430890109,
          0.008173599569109902,
          -0.042826400430890144,
          -0.0018264004308901072,
          -0.023826400430890127,
          -0.009826400430890114,
          0.0191735995691098,
          0.005173599569109788,
          -0.042826400430890144,
          -0.05182640043089015,
          -0.004826400430890221,
          0.015173599569109797,
          0.034173599569109925,
          0.010173599569109903,
          -0.02582640043089013,
          0.008173599569109902,
          0.014173599569109907,
          0.005173599569109788,
          -0.02582640043089013,
          0.03217359956910992,
          0.04217359956910993,
          -0.013826400430890118,
          0.044173599569109934,
          -0.002826400430890219,
          -0.044826400430890145,
          0.020173599569109912,
          0.00717359956910979,
          -0.04082640043089014,
          0.0011735995691097845,
          0.02817359956910992,
          0.010173599569109903,
          -0.005826400430890111,
          -0.007826400430890113,
          0.0011735995691097845,
          -0.011826400430890116
         ],
         "xaxis": "x3",
         "xbins": {
          "end": 0.08852342542147595,
          "size": 0.008883980028159067,
          "start": -0.08915617514170537
         },
         "yaxis": "y3"
        },
        {
         "marker": {
          "line": {
           "width": 1
          }
         },
         "name": "Length 1000, Time 3",
         "type": "histogram",
         "x": [
          0.017523425421476002,
          -0.00047657457852401386,
          -0.008476574578524021,
          -0.03047657457852404,
          0.04752342542147603,
          -0.024476574578524035,
          -0.05747657457852395,
          -0.03247657457852404,
          0.002523425421475878,
          -0.004476574578524017,
          0.008523425421475883,
          0.020523425421475894,
          -0.024476574578524035,
          0.001523425421475988,
          -0.012476574578524025,
          -0.0014765745785241258,
          0.009523425421475995,
          -0.059476574578523955,
          -0.04147657457852416,
          0.013523425421475999,
          0.019523425421476004,
          0.0045234254214758796,
          0.011523425421475997,
          -0.005476574578524129,
          -0.015476574578524138,
          -0.036476574578524046,
          0.010523425421475885,
          0.011523425421475997,
          -0.026476574578524037,
          0.012523425421475887,
          -0.0014765745785241258,
          -0.026476574578524037,
          -0.049476574578523946,
          -0.009476574578524133,
          0.05052342542147592,
          0.05852342542147593,
          -0.036476574578524046,
          -0.014476574578524026,
          -0.010476574578524023,
          0.031523425421476015,
          -0.04447657457852405,
          0.001523425421475988,
          0.007523425421475993,
          0.0035234254214759897,
          0.01652342542147589,
          -0.025476574578524147,
          -0.02047657457852403,
          0.04252342542147591,
          0.0265234254214759,
          -0.014476574578524026,
          -0.004476574578524017,
          0.018523425421475892,
          -0.048476574578524056,
          -0.01847657457852403,
          -0.0034765745785241275,
          0.015523425421476,
          -0.007476574578524131,
          0.017523425421476002,
          -0.016476574578524028,
          -0.011476574578524135,
          0.009523425421475995,
          -0.02847657457852404,
          0.0055234254214759915,
          -0.02047657457852403,
          -0.013476574578524136,
          -0.04047657457852405,
          0.06852342542147594,
          -0.04347657457852416,
          0.02752342542147601,
          -0.07547657457852397,
          0.0035234254214759897,
          0.03752342542147602,
          -0.021476574578524144,
          0.02552342542147601,
          -0.03847657457852405,
          -0.0024765745785240156,
          -0.006476574578524019,
          -0.03847657457852405,
          -0.056476574578524064,
          0.020523425421475894,
          -0.0014765745785241258,
          -0.06047657457852407,
          -0.006476574578524019,
          -0.0034765745785241275,
          0.006523425421475881,
          0.08852342542147595,
          -0.012476574578524025,
          -0.004476574578524017,
          -0.026476574578524037,
          -0.04247657457852405,
          -0.010476574578524023,
          -0.03847657457852405,
          0.04652342542147592,
          0.02752342542147601,
          -0.033476574578524154,
          -0.024476574578524035,
          0.018523425421475892,
          0.019523425421476004,
          -0.035476574578524156,
          -0.02847657457852404
         ],
         "xaxis": "x4",
         "xbins": {
          "end": 0.08852342542147595,
          "size": 0.008883980028159067,
          "start": -0.08915617514170537
         },
         "yaxis": "y4"
        },
        {
         "marker": {
          "line": {
           "width": 1
          }
         },
         "name": "Length 1000, Time 4",
         "type": "histogram",
         "x": [
          -0.06015617514170546,
          -0.04115617514170533,
          -0.07415617514170547,
          -0.04015617514170544,
          -0.02815617514170543,
          0.01584382485829461,
          0.013843824858294607,
          -0.03815617514170544,
          -0.029156175141705543,
          0.05084382485829453,
          -0.006156175141705411,
          0.009843824858294603,
          0.01584382485829461,
          0.04484382485829452,
          -0.01515617514170553,
          -0.023156175141705537,
          0.009843824858294603,
          0.04384382485829463,
          -0.01615617514170542,
          0.0008438248582944841,
          0.0058438248582945995,
          -0.04615617514170545,
          0.01784382485829461,
          0.002843824858294486,
          -0.04915617514170534,
          0.04184382485829463,
          -0.02515617514170554,
          0.022843824858294504,
          -0.032156175141705434,
          0.0038438248582945977,
          0.0008438248582944841,
          -0.03715617514170533,
          0.025843824858294617,
          -0.02515617514170554,
          -0.024156175141705427,
          -0.0011561751417055177,
          0.001843824858294596,
          -0.07415617514170547,
          -0.022156175141705425,
          -0.02715617514170554,
          0.001843824858294596,
          0.010843824858294493,
          -0.045156175141705335,
          0.009843824858294603,
          0.0168438248582945,
          0.07884382485829455,
          0.03984382485829463,
          -0.044156175141705445,
          0.05084382485829453,
          -0.0021561751417054076,
          -0.06615617514170546,
          0.011843824858294605,
          -0.04615617514170545,
          -0.06915617514170536,
          0.024843824858294505,
          0.002843824858294486,
          -0.056156175141705456,
          -0.018156175141705422,
          -0.007156175141705523,
          -0.011156175141705527,
          0.046843824858294525,
          0.03784382485829463,
          -0.021156175141705535,
          -0.013156175141705528,
          -0.0011561751417055177,
          -0.04115617514170533,
          -0.03615617514170544,
          -0.044156175141705445,
          0.001843824858294596,
          0.004843824858294488,
          -0.004156175141705409,
          -0.03815617514170544,
          0.002843824858294486,
          -0.06615617514170546,
          -0.04315617514170533,
          0.014843824858294496,
          0.05284382485829453,
          -0.034156175141705436,
          0.02784382485829462,
          -0.020156175141705424,
          -0.030156175141705432,
          0.014843824858294496,
          -0.01515617514170553,
          0.019843824858294612,
          -0.03815617514170544,
          -0.004156175141705409,
          0.020843824858294502,
          0.004843824858294488,
          -0.04815617514170545,
          0.026843824858294507,
          0.022843824858294504,
          -0.017156175141705532,
          -0.0001561751417054058,
          -0.08915617514170537,
          0.01784382485829461,
          -0.012156175141705416,
          -0.019156175141705534,
          -0.06715617514170535,
          0.034843824858294514,
          0.036843824858294516
         ],
         "xaxis": "x5",
         "xbins": {
          "end": 0.08852342542147595,
          "size": 0.008883980028159067,
          "start": -0.08915617514170537
         },
         "yaxis": "y5"
        },
        {
         "marker": {
          "line": {
           "width": 1
          }
         },
         "name": "Length 2000, Time 0.5",
         "type": "histogram",
         "x": [
          0.015602788665416312,
          -0.010897211334583656,
          0.00010278866541635345,
          -0.006897211334583653,
          -0.000397211334583647,
          0.0016027886654163548,
          0.0006027886654163539,
          -0.004897211334583651,
          -0.0008972113345836474,
          0.011602788665416308,
          0.00760278866541636,
          -0.020897211334583665,
          -0.009397211334583655,
          -0.012897211334583658,
          0.027102788665416322,
          -0.006397211334583652,
          -0.013397211334583659,
          0.012102788665416309,
          0.003102788665416356,
          -0.0008972113345836474,
          -0.00389721133458365,
          0.005602788665416358,
          -0.006397211334583652,
          -0.00389721133458365,
          0.01460278866541631,
          -0.011897211334583657,
          -0.007897211334583654,
          -0.0043972113345836505,
          -0.009897211334583655,
          -0.023897211334583668,
          -0.0033972113345836497,
          0.021102788665416317,
          -0.00389721133458365,
          -0.020397211334583665,
          -0.007397211334583653,
          -0.03389721133458368,
          0.00810278866541636,
          -0.007897211334583654,
          -0.004897211334583651,
          0.00710278866541636,
          -0.013897211334583659,
          -0.010397211334583656,
          -0.010397211334583656,
          0.0011027886654163543,
          0.0011027886654163543,
          -0.010397211334583656,
          -0.0043972113345836505,
          -0.010897211334583656,
          -0.018897211334583663,
          -0.010897211334583656,
          -0.00389721133458365,
          -0.012397211334583658,
          -0.0033972113345836497,
          -0.007397211334583653,
          -0.009897211334583655,
          -0.017897211334583663,
          0.008602788665416361,
          0.010102788665416307,
          -0.0023972113345836488,
          -0.006397211334583652,
          -0.012397211334583658,
          0.010602788665416307,
          -0.01539721133458366,
          -0.010897211334583656,
          -0.02589721133458367,
          0.00810278866541636,
          -0.01539721133458366,
          -0.007897211334583654,
          -0.01439721133458366,
          -0.010397211334583656,
          0.003102788665416356,
          0.003102788665416356,
          -0.01439721133458366,
          -0.011397211334583657,
          0.00010278866541635345,
          0.031102788665416325,
          0.003102788665416356,
          0.003102788665416356,
          -0.008897211334583655,
          0.011102788665416308,
          -0.0033972113345836497,
          -0.011397211334583657,
          -0.0013972113345836479,
          -0.007397211334583653,
          0.0046027886654163574,
          -0.017397211334583662,
          0.015602788665416312,
          -0.020397211334583665,
          -0.0043972113345836505,
          -0.01539721133458366,
          -0.0008972113345836474,
          -0.01589721133458366,
          -0.004897211334583651,
          0.006602788665416359,
          0.006602788665416359,
          0.0021027886654163552,
          0.00760278866541636,
          -0.019897211334583664,
          -0.009897211334583655,
          -0.017897211334583663
         ],
         "xaxis": "x6",
         "xbins": {
          "end": 0.08852342542147595,
          "size": 0.008883980028159067,
          "start": -0.08915617514170537
         },
         "yaxis": "y6"
        },
        {
         "marker": {
          "line": {
           "width": 1
          }
         },
         "name": "Length 2000, Time 1",
         "type": "histogram",
         "x": [
          -0.010486757917463785,
          0.005513242082536229,
          -0.019486757917463793,
          -0.02398675791746374,
          -0.018986757917463737,
          -0.004986757917463724,
          -0.012986757917463732,
          -0.014986757917463733,
          0.007513242082536231,
          0.0040132420825362836,
          -0.02298675791746374,
          0.0040132420825362836,
          0.0005132420825362249,
          -0.010486757917463785,
          0.0040132420825362836,
          -0.017986757917463736,
          0.0035132420825362276,
          0.00651324208253623,
          -0.012486757917463787,
          -0.004986757917463724,
          -0.014486757917463788,
          -0.019986757917463738,
          -0.007486757917463782,
          0.0030132420825362827,
          -0.028986757917463746,
          -0.008486757917463783,
          0.013513242082536236,
          -0.02198675791746374,
          -0.0044867579174637795,
          -0.006486757917463781,
          0.009013242082536288,
          -0.04398675791746376,
          0.01751324208253624,
          -0.012486757917463787,
          0.0045132420825362285,
          0.01751324208253624,
          -0.01198675791746373,
          -0.018986757917463737,
          -0.024486757917463797,
          0.01101324208253629,
          0.008013242082536287,
          -0.012986757917463732,
          -0.0009867579174637209,
          -0.0039867579174637235,
          -0.006986757917463726,
          -0.004986757917463724,
          0.008513242082536232,
          0.007013242082536286,
          0.0030132420825362827,
          0.0035132420825362276,
          0.007013242082536286,
          -0.0014867579174637768,
          0.0035132420825362276,
          -0.0009867579174637209,
          -0.0014867579174637768,
          -0.012986757917463732,
          -0.006986757917463726,
          -0.019986757917463738,
          0.005513242082536229,
          0.01101324208253629,
          0.016013242082536294,
          -0.0029867579174637227,
          -0.03398675791746375,
          -0.006486757917463781,
          -0.0019867579174637218,
          -0.013486757917463787,
          -0.01198675791746373,
          -0.00548675791746378,
          -0.017986757917463736,
          0.01201324208253629,
          -0.0294867579174638,
          0.0040132420825362836,
          -0.00048675791746377595,
          -0.020486757917463794,
          -0.019486757917463793,
          -0.007486757917463782,
          -0.01198675791746373,
          -0.027986757917463745,
          -0.015986757917463734,
          0.00651324208253623,
          0.001013242082536281,
          -0.023486757917463796,
          0.0045132420825362285,
          0.015013242082536293,
          -0.008486757917463783,
          -0.005986757917463725,
          -0.008986757917463728,
          -0.0019867579174637218,
          -0.018986757917463737,
          0.010013242082536289,
          0.005513242082536229,
          0.010513242082536234,
          0.0050132420825362844,
          0.000013242082536280009,
          0.013013242082536292,
          0.014513242082536237,
          -0.006486757917463781,
          0.0030132420825362827,
          -0.01748675791746379,
          0.001013242082536281
         ],
         "xaxis": "x7",
         "xbins": {
          "end": 0.08852342542147595,
          "size": 0.008883980028159067,
          "start": -0.08915617514170537
         },
         "yaxis": "y7"
        },
        {
         "marker": {
          "line": {
           "width": 1
          }
         },
         "name": "Length 2000, Time 2",
         "type": "histogram",
         "x": [
          -0.018326400430890066,
          -0.004326400430890054,
          -0.0018264004308901072,
          -0.0018264004308901072,
          -0.03332640043089008,
          -0.022826400430890237,
          -0.00932640043089017,
          -0.012826400430890228,
          -0.027326400430890074,
          -0.01582640043089012,
          -0.03882640043089014,
          -0.03732640043089008,
          -0.01032640043089006,
          0.0021735995691098964,
          -0.003826400430890109,
          0.0006735995691098395,
          -0.004826400430890221,
          -0.00932640043089017,
          0.04917359956910983,
          -0.022826400430890237,
          -0.029826400430890132,
          -0.022826400430890237,
          -0.03332640043089008,
          -0.016326400430890065,
          -0.01682640043089023,
          0.00717359956910979,
          -0.026326400430890073,
          -0.005326400430890166,
          -0.014326400430890063,
          0.019673599569109967,
          0.03817359956910993,
          0.016673599569109854,
          0.023173599569109804,
          -0.008826400430890224,
          0.0031735995691097862,
          -0.006826400430890223,
          0.009173599569109792,
          -0.00032640043089005033,
          -0.007326400430890168,
          -0.010826400430890226,
          -0.002826400430890219,
          -0.01032640043089006,
          -0.03982640043089014,
          0.02167359956910997,
          -0.007326400430890168,
          0.005173599569109788,
          -0.002326400430890052,
          -0.006826400430890223,
          0.017673599569109966,
          -0.003326400430890164,
          0.015673599569109964,
          -0.027326400430890074,
          -0.023326400430890182,
          -0.03432640043089008,
          -0.024826400430890128,
          -0.02232640043089007,
          -0.032826400430890135,
          -0.03632640043089008,
          0.010173599569109903,
          0.004173599569109898,
          -0.028326400430890075,
          0.010173599569109903,
          -0.01682640043089023,
          -0.01682640043089023,
          0.0001735995691098946,
          0.01267359956910985,
          -0.006826400430890223,
          -0.009826400430890114,
          -0.028326400430890075,
          -0.003326400430890164,
          -0.018826400430890233,
          0.012173599569109905,
          -0.029826400430890132,
          0.029673599569109976,
          -0.018326400430890066,
          -0.01482640043089023,
          -0.008826400430890224,
          -0.00932640043089017,
          -0.02232640043089007,
          -0.013826400430890118,
          -0.031826400430890134,
          0.013173599569109795,
          -0.008326400430890057,
          -0.020826400430890235,
          0.0001735995691098946,
          0.0031735995691097862,
          -0.005826400430890111,
          -0.005326400430890166,
          -0.003326400430890164,
          -0.011826400430890116,
          -0.024826400430890128,
          -0.004826400430890221,
          -0.005826400430890111,
          0.009173599569109792,
          -0.00032640043089005033,
          0.0006735995691098395,
          0.013673599569109962,
          -0.004826400430890221,
          0.013673599569109962,
          -0.003326400430890164
         ],
         "xaxis": "x8",
         "xbins": {
          "end": 0.08852342542147595,
          "size": 0.008883980028159067,
          "start": -0.08915617514170537
         },
         "yaxis": "y8"
        },
        {
         "marker": {
          "line": {
           "width": 1
          }
         },
         "name": "Length 2000, Time 3",
         "type": "histogram",
         "x": [
          -0.017976574578524085,
          0.012023425421475942,
          -0.010476574578524023,
          -0.016976574578523973,
          -0.014976574578523971,
          -0.028976574578523984,
          -0.013476574578524136,
          -0.025976574578524092,
          -0.010476574578524023,
          -0.013476574578524136,
          0.010523425421475885,
          0.0050234254214760465,
          -0.03847657457852405,
          0.010523425421475885,
          -0.03147657457852415,
          -0.03147657457852415,
          -0.010976574578523968,
          0.013023425421476054,
          0.015023425421476055,
          0.007023425421476048,
          -0.027976574578524094,
          -0.027976574578524094,
          0.02202342542147595,
          0.03552342542147602,
          -0.01847657457852403,
          -0.009976574578524078,
          -0.008476574578524021,
          0.000023425421475931074,
          -0.010476574578524023,
          -0.007976574578524076,
          0.017023425421476057,
          0.008523425421475883,
          -0.01747657457852414,
          -0.019976574578524087,
          -0.051976574578524115,
          -0.007476574578524131,
          -0.0029765745785239606,
          -0.021476574578524144,
          0.007023425421476048,
          -0.03147657457852415,
          -0.020976574578523977,
          -0.008976574578523966,
          -0.02497657457852398,
          -0.0029765745785239606,
          -0.03297657457852399,
          -0.00047657457852401386,
          -0.0359765745785241,
          -0.007476574578524131,
          -0.018976574578523975,
          -0.022476574578524033,
          -0.028976574578523984,
          -0.04247657457852405,
          -0.023476574578524145,
          -0.04547657457852394,
          -0.01197657457852408,
          0.014023425421475944,
          -0.011476574578524135,
          -0.022476574578524033,
          0.001523425421475988,
          -0.009976574578524078,
          -0.008476574578524021,
          0.000023425421475931074,
          -0.0039765745785240725,
          -0.018976574578523975,
          -0.025976574578524092,
          -0.014476574578524026,
          -0.013476574578524136,
          0.04502342542147586,
          -0.03897657457852399,
          0.006523425421475881,
          0.001523425421475988,
          0.000023425421475931074,
          -0.010476574578524023,
          -0.0014765745785241258,
          -0.033476574578524154,
          0.004023425421475935,
          -0.013476574578524136,
          -0.013976574578524081,
          -0.01197657457852408,
          0.0285234254214759,
          -0.03697657457852399,
          -0.07797657457852414,
          -0.046476574578524055,
          -0.008976574578523966,
          0.0045234254214758796,
          -0.012476574578524025,
          0.000023425421475931074,
          0.0045234254214758796,
          -0.05447657457852406,
          -0.026976574578523982,
          -0.039976574578524104,
          -0.019476574578524142,
          -0.004976574578523962,
          -0.02847657457852404,
          0.004023425421475935,
          -0.004976574578523962,
          -0.029976574578524096,
          -0.0034765745785241275,
          -0.021476574578524144,
          -0.03747657457852416
         ],
         "xaxis": "x9",
         "xbins": {
          "end": 0.08852342542147595,
          "size": 0.008883980028159067,
          "start": -0.08915617514170537
         },
         "yaxis": "y9"
        },
        {
         "marker": {
          "line": {
           "width": 1
          }
         },
         "name": "Length 2000, Time 4",
         "type": "histogram",
         "x": [
          -0.008656175141705358,
          0.0058438248582945995,
          -0.01065617514170536,
          -0.024656175141705372,
          0.01584382485829461,
          0.010843824858294493,
          0.009343824858294658,
          -0.03615617514170544,
          0.03334382485829446,
          -0.014156175141705418,
          -0.025656175141705484,
          -0.02815617514170543,
          0.004343824858294543,
          -0.007656175141705468,
          -0.02815617514170543,
          -0.021156175141705535,
          0.027343824858294674,
          -0.024656175141705372,
          -0.03815617514170544,
          -0.028656175141705376,
          0.02434382485829456,
          -0.035156175141705326,
          -0.006156175141705411,
          0.02334382485829467,
          -0.047156175141705337,
          -0.015656175141705475,
          -0.016656175141705365,
          -0.0011561751417055177,
          0.008343824858294546,
          -0.0011561751417055177,
          -0.017656175141705477,
          -0.012656175141705361,
          0.008343824858294546,
          -0.026656175141705374,
          -0.0456561751417055,
          -0.024156175141705427,
          -0.06465617514170541,
          -0.0001561751417054058,
          0.019343824858294667,
          0.020343824858294557,
          -0.006656175141705356,
          -0.030156175141705432,
          -0.005656175141705466,
          -0.007656175141705468,
          -0.0526561751417054,
          -0.016656175141705365,
          0.016343824858294553,
          -0.0436561751417055,
          -0.007156175141705523,
          -0.07965617514170553,
          -0.004656175141705354,
          -0.019156175141705534,
          0.011843824858294605,
          -0.028656175141705376,
          -0.04915617514170534,
          -0.023656175141705482,
          0.03534382485829446,
          -0.014656175141705363,
          -0.04315617514170533,
          -0.03265617514170538,
          -0.045156175141705335,
          -0.06865617514170541,
          -0.004656175141705354,
          -0.013156175141705528,
          -0.0021561751417054076,
          -0.0001561751417054058,
          -0.0021561751417054076,
          -0.03665617514170538,
          -0.021156175141705535,
          -0.012156175141705416,
          -0.03565617514170549,
          -0.03715617514170533,
          -0.044156175141705445,
          -0.006156175141705411,
          0.01234382485829455,
          0.0038438248582945977,
          0.013843824858294607,
          -0.02715617514170554,
          -0.005656175141705466,
          -0.0031561751417055195,
          -0.0011561751417055177,
          -0.027656175141705486,
          -0.03915617514170533,
          -0.01615617514170542,
          -0.0011561751417055177,
          -0.019156175141705534,
          -0.018656175141705367,
          -0.04015617514170544,
          -0.04115617514170533,
          -0.019156175141705534,
          -0.0526561751417054,
          -0.013156175141705528,
          -0.0001561751417054058,
          -0.011156175141705527,
          -0.008656175141705358,
          0.030343824858294566,
          -0.05765617514170551,
          -0.006156175141705411,
          -0.0011561751417055177,
          -0.01615617514170542
         ],
         "xaxis": "x10",
         "xbins": {
          "end": 0.08852342542147595,
          "size": 0.008883980028159067,
          "start": -0.08915617514170537
         },
         "yaxis": "y10"
        },
        {
         "marker": {
          "line": {
           "width": 1
          }
         },
         "name": "Length 3000, Time 0.5",
         "type": "histogram",
         "x": [
          0.0019361219987496514,
          0.011269455332083012,
          0.017936121998749666,
          0.0026027886654163557,
          0.015936121998749664,
          0.011602788665416308,
          0.011269455332083012,
          -0.01373054466791701,
          -0.009063878001250358,
          -0.001730544667917,
          -0.010397211334583656,
          0.009602788665416306,
          -0.002730544667917001,
          0.018602788665416314,
          -0.006397211334583652,
          0.006936121998749656,
          0.003936121998749653,
          0.004936121998749654,
          -0.005063878001250355,
          0.005936121998749655,
          -0.001730544667917,
          -0.004730544667917003,
          -0.0007305446679169991,
          -0.012397211334583658,
          0.012936121998749661,
          -0.002063878001250352,
          0.0012694553320830027,
          0.0036027886654163566,
          0.0006027886654163539,
          0.009602788665416306,
          0.0019361219987496514,
          0.005602788665416358,
          -0.0023972113345836488,
          0.00026945533208300176,
          0.004269455332083005,
          -0.003730544667917002,
          -0.002063878001250352,
          0.004936121998749654,
          0.01026945533208301,
          0.007269455332083008,
          -0.020063878001250313,
          0.0026027886654163557,
          0.0036027886654163566,
          0.0019361219987496514,
          -0.003730544667917002,
          0.011269455332083012,
          -0.01006387800125036,
          -0.008730544667917006,
          0.01093612199874966,
          0.008936121998749658
         ],
         "xaxis": "x11",
         "xbins": {
          "end": 0.08852342542147595,
          "size": 0.008883980028159067,
          "start": -0.08915617514170537
         },
         "yaxis": "y11"
        },
        {
         "marker": {
          "line": {
           "width": 1
          }
         },
         "name": "Length 3000, Time 1",
         "type": "histogram",
         "x": [
          0.008013242082536287,
          0.0006799087492028733,
          0.010013242082536289,
          0.010346575415869586,
          0.015013242082536293,
          -0.008320091250797135,
          0.010013242082536289,
          0.002013242082536282,
          -0.0023200912507971294,
          0.002679908749202875,
          0.0013465754158695775,
          -0.012653424584130435,
          0.036679908749202905,
          0.00867990874920288,
          0.0030132420825362827,
          0.006679908749202879,
          0.011346575415869586,
          0.006013242082536285,
          0.007013242082536286,
          0.003679908749202876,
          0.0023465754158695784,
          -0.0039867579174637235,
          0.002013242082536282,
          0.007013242082536286,
          0.0050132420825362844,
          0.006346575415869582,
          -0.010320091250797137,
          0.011346575415869586,
          0.008346575415869584,
          -0.016320091250797142,
          -0.020320091250797034,
          -0.007986757917463727,
          0.001013242082536281,
          0.0040132420825362836,
          0.008346575415869584,
          0.008346575415869584,
          0.022346575415869596,
          0.006679908749202879,
          0.000013242082536280009,
          0.009346575415869585,
          0.006346575415869582,
          0.0013465754158695775,
          0.002013242082536282,
          0.006346575415869582,
          -0.0029867579174637227,
          0.008346575415869584,
          0.0220132420825363,
          0.006013242082536285,
          -0.014986757917463733,
          -0.012320091250797138
         ],
         "xaxis": "x12",
         "xbins": {
          "end": 0.08852342542147595,
          "size": 0.008883980028159067,
          "start": -0.08915617514170537
         },
         "yaxis": "y12"
        },
        {
         "marker": {
          "line": {
           "width": 1
          }
         },
         "name": "Length 3000, Time 2",
         "type": "histogram",
         "x": [
          0.0011735995691097845,
          0.003506932902443305,
          0.018506932902443207,
          -0.03015973376422343,
          -0.009826400430890114,
          0.005840266235776603,
          0.007840266235776605,
          -0.0051597337642235175,
          0.02384026623577662,
          0.0001735995691098946,
          0.02050693290244321,
          0.013173599569109795,
          -0.008826400430890224,
          0.008506932902443198,
          0.005173599569109788,
          -0.0031597337642235157,
          -0.0051597337642235175,
          0.00950693290244331,
          0.013506932902443314,
          0.02050693290244321,
          0.008506932902443198,
          0.0031735995691097862,
          -0.003826400430890109,
          0.04050693290244323,
          -0.007826400430890113,
          0.011506932902443312,
          -0.006493067097556704,
          0.016840266235776502,
          0.009840266235776607,
          0.0028402662357764896,
          0.007840266235776605,
          0.005506932902443307,
          0.006840266235776493,
          0.00717359956910979,
          0.0061735995691099,
          0.003506932902443305,
          -0.002159733764223404,
          0.023173599569109804,
          0.01384026623577661,
          -0.008159733764223409,
          0.012173599569109905,
          0.0018402662357765998,
          -0.0008264004308902173,
          -0.006826400430890223,
          -0.017159733764223528,
          0.02584026623577662,
          0.022173599569109914,
          -0.016493067097556713,
          0.0031735995691097862,
          0.023173599569109804
         ],
         "xaxis": "x13",
         "xbins": {
          "end": 0.08852342542147595,
          "size": 0.008883980028159067,
          "start": -0.08915617514170537
         },
         "yaxis": "y13"
        },
        {
         "marker": {
          "line": {
           "width": 1
          }
         },
         "name": "Length 3000, Time 3",
         "type": "histogram",
         "x": [
          0.007523425421475993,
          0.022523425421475896,
          0.03219009208814261,
          -0.0028099079118573123,
          0.0045234254214758796,
          0.029190092088142716,
          0.005856758754809288,
          -0.00980990791185743,
          -0.008143241245190724,
          0.0008567587548091726,
          -0.009143241245190614,
          0.00019009208814257939,
          0.04385675875480932,
          0.009523425421475995,
          -0.011143241245190616,
          -0.004143241245190721,
          -0.0011432412451908291,
          0.031190092088142718,
          0.029190092088142716,
          0.007523425421475993,
          0.00019009208814257939,
          0.019190092088142707,
          -0.011143241245190616,
          0.02085675875480919,
          0.0011900920881426913,
          0.014856758754809185,
          0.00019009208814257939,
          -0.006476574578524019,
          0.009190092088142698,
          0.0285234254214759,
          0.043523425421476025,
          0.031190092088142718,
          0.026856758754809196,
          0.008190092088142586,
          0.02319009208814271,
          -0.0008099079118573105,
          -0.007143241245190612,
          -0.026476574578524037,
          0.007190092088142697,
          0.006523425421475881,
          -0.007809907911857428,
          -0.01080990791185732,
          0.02119009208814271,
          -0.0024765745785240156,
          -0.0014765745785241258,
          -0.01514324124519062,
          0.03719009208814272,
          0.04752342542147603,
          0.024523425421475897,
          -0.007809907911857428
         ],
         "xaxis": "x14",
         "xbins": {
          "end": 0.08852342542147595,
          "size": 0.008883980028159067,
          "start": -0.08915617514170537
         },
         "yaxis": "y14"
        },
        {
         "marker": {
          "line": {
           "width": 1
          }
         },
         "name": "Length 3000, Time 4",
         "type": "histogram",
         "x": [
          0.030177158191627917,
          -0.016489508475038717,
          0.008177158191627898,
          0.0211771581916278,
          0.014843824858294496,
          0.0101771581916279,
          0.01351049152496131,
          0.01351049152496131,
          -0.0031561751417055195,
          -0.019822841808372127,
          -0.021489508475038832,
          0.015510491524961312,
          -0.009822841808372118,
          -0.008822841808372006,
          0.017177158191627795,
          -0.037489508475038846,
          -0.015822841808372123,
          -0.0058228418083721145,
          0.015510491524961312,
          -0.010489508475038711,
          0.03951049152496133,
          0.026843824858294507,
          0.03951049152496133,
          0.02451049152496121,
          0.006510491524961193,
          -0.006489508475038708,
          -0.0014895084750388143,
          0.01351049152496131,
          0.0038438248582945977,
          0.0231771581916278,
          -0.0004895084750387024,
          -0.00748950847503882,
          0.0231771581916278,
          -0.02182284180837213,
          0.007843824858294601,
          0.006510491524961193,
          -0.000822841808371999,
          0.0211771581916278,
          0.00017715819162789082,
          -0.024156175141705427,
          0.010843824858294493,
          -0.0021561751417054076,
          -0.024489508475038724,
          0.04484382485829452,
          0.012510491524961198,
          -0.018156175141705422,
          -0.005489508475038818,
          0.0231771581916278,
          0.0038438248582945977,
          -0.011156175141705527
         ],
         "xaxis": "x15",
         "xbins": {
          "end": 0.08852342542147595,
          "size": 0.008883980028159067,
          "start": -0.08915617514170537
         },
         "yaxis": "y15"
        },
        {
         "marker": {
          "line": {
           "width": 1
          }
         },
         "name": "Length 4000, Time 0.5",
         "type": "histogram",
         "x": [
          0.008852788665416333,
          -0.009897211334583655,
          -0.006397211334583652,
          -0.00664721133458368,
          -0.004147211334583678,
          0.008602788665416361,
          -0.002897211334583649,
          0.009102788665416306,
          -0.010147211334583683,
          -0.00014721133458367452,
          0.006352788665416331,
          -0.009397211334583655,
          0.00535278866541633,
          0.008602788665416361,
          0.005602788665416358,
          0.008352788665416333,
          0.005102788665416358,
          -0.012647211334583686,
          -0.007897211334583654,
          -0.0008972113345836474,
          0.0033527886654163286,
          -0.005397211334583651,
          -0.000647211334583675,
          -0.011397211334583657,
          -0.012147211334583685,
          0.010852788665416335,
          0.0016027886654163548,
          0.0011027886654163543,
          0.010352788665416335,
          -0.0011472113345836754,
          -0.011397211334583657,
          -0.009147211334583683,
          0.005852788665416331,
          0.01360278866541631,
          0.005602788665416358,
          0.0013527886654163268,
          0.004102788665416357,
          0.012102788665416309,
          0.006852788665416332,
          0.0016027886654163548,
          0.007352788665416332,
          0.018352788665416342,
          0.006852788665416332,
          0.003852788665416329,
          0.006602788665416359,
          -0.0018972113345836483,
          0.0013527886654163268,
          -0.00014721133458367452,
          0.004102788665416357,
          0.0011027886654163543
         ],
         "xaxis": "x16",
         "xbins": {
          "end": 0.08852342542147595,
          "size": 0.008883980028159067,
          "start": -0.08915617514170537
         },
         "yaxis": "y16"
        },
        {
         "marker": {
          "line": {
           "width": 1
          }
         },
         "name": "Length 4000, Time 1",
         "type": "histogram",
         "x": [
          -0.01373675791746376,
          0.004263242082536256,
          -0.00548675791746378,
          0.0050132420825362844,
          -0.008486757917463783,
          0.0005132420825362249,
          -0.005236757917463808,
          -0.00048675791746377595,
          0.016013242082536294,
          -0.00023675791746380348,
          0.007513242082536231,
          -0.003736757917463751,
          -0.027236757917463716,
          0.010513242082536234,
          -0.008736757917463756,
          0.005263242082536257,
          -0.004986757917463724,
          -0.009486757917463784,
          0.002763242082536199,
          0.005763242082536202,
          -0.010236757917463701,
          -0.010236757917463701,
          0.000013242082536280009,
          0.008013242082536287,
          -0.00048675791746377595,
          -0.0014867579174637768,
          0.0007632420825361974,
          -0.016986757917463735,
          0.013013242082536292,
          0.002013242082536282,
          0.014013242082536292,
          -0.00548675791746378,
          -0.006236757917463809,
          0.010763242082536206,
          0.006013242082536285,
          0.007763242082536204,
          -0.010486757917463785,
          -0.024236757917463714,
          0.000013242082536280009,
          0.006763242082536203,
          -0.0022367579174638053,
          -0.01098675791746373,
          0.012263242082536263,
          -0.004236757917463807,
          -0.00273675791746375,
          0.010763242082536206,
          0.002013242082536282,
          0.011763242082536207,
          0.004263242082536256,
          0.027263242082536276
         ],
         "xaxis": "x17",
         "xbins": {
          "end": 0.08852342542147595,
          "size": 0.008883980028159067,
          "start": -0.08915617514170537
         },
         "yaxis": "y17"
        },
        {
         "marker": {
          "line": {
           "width": 1
          }
         },
         "name": "Length 4000, Time 2",
         "type": "histogram",
         "x": [
          0.0026735995691098413,
          0.0036735995691099532,
          -0.0030764004308900805,
          -0.0005764004308901338,
          -0.0010764004308900788,
          -0.005076400430890082,
          0.000923599569109923,
          0.007673599569109957,
          0.023423599569109887,
          0.020423599569109774,
          -0.00932640043089017,
          0.0011735995691097845,
          -0.017076400430890093,
          0.026673599569109863,
          0.0001735995691098946,
          -0.016326400430890065,
          -0.003326400430890164,
          -0.005576400430890027,
          0.014423599569109768,
          -0.0030764004308900805,
          0.000923599569109923,
          0.009173599569109792,
          0.010673599569109848,
          -0.0005764004308901338,
          -0.0010764004308900788,
          -0.01582640043089012,
          0.0026735995691098413,
          0.016673599569109854,
          -0.002326400430890052,
          0.001423599569109868,
          -0.003826400430890109,
          -0.012826400430890228,
          -0.007826400430890113,
          0.013423599569109879,
          -0.0018264004308901072,
          -0.00957640043089003,
          -0.011326400430890171,
          -0.007076400430890084,
          -0.0020764004308901907,
          -0.018076400430890205,
          -0.0020764004308901907,
          0.010423599569109765,
          0.020173599569109912,
          0.016673599569109854,
          -0.0020764004308901907,
          0.008423599569109763,
          0.016923599569109937,
          -0.003826400430890109,
          0.013923599569109824,
          0.012423599569109767
         ],
         "xaxis": "x18",
         "xbins": {
          "end": 0.08852342542147595,
          "size": 0.008883980028159067,
          "start": -0.08915617514170537
         },
         "yaxis": "y18"
        },
        {
         "marker": {
          "line": {
           "width": 1
          }
         },
         "name": "Length 4000, Time 3",
         "type": "histogram",
         "x": [
          -0.022476574578524033,
          -0.02122657457852406,
          0.016773425421475974,
          -0.016226574578523945,
          0.008773425421475967,
          0.004773425421475963,
          0.004023425421475935,
          0.008023425421475938,
          -0.02422657457852395,
          -0.004976574578523962,
          -0.002226574578524154,
          0.014773425421475972,
          -0.008976574578523966,
          0.012273425421476025,
          0.018523425421475892,
          0.011773425421475858,
          -0.018976574578523975,
          0.0045234254214758796,
          -0.007976574578524076,
          0.00902342542147605,
          0.02102342542147584,
          0.015023425421476055,
          -0.010476574578524023,
          0.006023425421475936,
          0.011523425421475997,
          0.0017734254214758494,
          -0.005726574578523991,
          0.002023425421475933,
          0.003273425421475906,
          0.00727342542147591,
          -0.0014765745785241258,
          0.02477342542147598,
          0.0045234254214758796,
          -0.006726574578524103,
          0.008023425421475938,
          -0.013726574578523998,
          -0.011226574578524051,
          0.006523425421475881,
          -0.01847657457852403,
          0.02277342542147598,
          0.021523425421476006,
          0.011273425421475913,
          0.009523425421475995,
          0.006023425421475936,
          0.014523425421475888,
          0.001023425421476043,
          -0.008476574578524021,
          0.02002342542147595,
          -0.019476574578524142,
          -0.015726574578524
         ],
         "xaxis": "x19",
         "xbins": {
          "end": 0.08852342542147595,
          "size": 0.008883980028159067,
          "start": -0.08915617514170537
         },
         "yaxis": "y19"
        },
        {
         "marker": {
          "line": {
           "width": 1
          }
         },
         "name": "Length 4000, Time 4",
         "type": "histogram",
         "x": [],
         "xaxis": "x20",
         "xbins": {
          "end": 0.08852342542147595,
          "size": 0.008883980028159067,
          "start": -0.08915617514170537
         },
         "yaxis": "y20"
        }
       ],
       "layout": {
        "annotations": [
         {
          "font": {
           "size": 16
          },
          "showarrow": false,
          "text": "Time = 0.5, Length = 1000",
          "x": 0.08399999999999999,
          "xanchor": "center",
          "xref": "paper",
          "y": 1,
          "yanchor": "bottom",
          "yref": "paper"
         },
         {
          "font": {
           "size": 16
          },
          "showarrow": false,
          "text": "Time = 1, Length = 1000",
          "x": 0.292,
          "xanchor": "center",
          "xref": "paper",
          "y": 1,
          "yanchor": "bottom",
          "yref": "paper"
         },
         {
          "font": {
           "size": 16
          },
          "showarrow": false,
          "text": "Time = 2, Length = 1000",
          "x": 0.5,
          "xanchor": "center",
          "xref": "paper",
          "y": 1,
          "yanchor": "bottom",
          "yref": "paper"
         },
         {
          "font": {
           "size": 16
          },
          "showarrow": false,
          "text": "Time = 3, Length = 1000",
          "x": 0.708,
          "xanchor": "center",
          "xref": "paper",
          "y": 1,
          "yanchor": "bottom",
          "yref": "paper"
         },
         {
          "font": {
           "size": 16
          },
          "showarrow": false,
          "text": "Time = 4, Length = 1000",
          "x": 0.9159999999999999,
          "xanchor": "center",
          "xref": "paper",
          "y": 1,
          "yanchor": "bottom",
          "yref": "paper"
         },
         {
          "font": {
           "size": 16
          },
          "showarrow": false,
          "text": "Time = 0.5, Length = 2000",
          "x": 0.08399999999999999,
          "xanchor": "center",
          "xref": "paper",
          "y": 0.71875,
          "yanchor": "bottom",
          "yref": "paper"
         },
         {
          "font": {
           "size": 16
          },
          "showarrow": false,
          "text": "Time = 1, Length = 2000",
          "x": 0.292,
          "xanchor": "center",
          "xref": "paper",
          "y": 0.71875,
          "yanchor": "bottom",
          "yref": "paper"
         },
         {
          "font": {
           "size": 16
          },
          "showarrow": false,
          "text": "Time = 2, Length = 2000",
          "x": 0.5,
          "xanchor": "center",
          "xref": "paper",
          "y": 0.71875,
          "yanchor": "bottom",
          "yref": "paper"
         },
         {
          "font": {
           "size": 16
          },
          "showarrow": false,
          "text": "Time = 3, Length = 2000",
          "x": 0.708,
          "xanchor": "center",
          "xref": "paper",
          "y": 0.71875,
          "yanchor": "bottom",
          "yref": "paper"
         },
         {
          "font": {
           "size": 16
          },
          "showarrow": false,
          "text": "Time = 4, Length = 2000",
          "x": 0.9159999999999999,
          "xanchor": "center",
          "xref": "paper",
          "y": 0.71875,
          "yanchor": "bottom",
          "yref": "paper"
         },
         {
          "font": {
           "size": 16
          },
          "showarrow": false,
          "text": "Time = 0.5, Length = 3000",
          "x": 0.08399999999999999,
          "xanchor": "center",
          "xref": "paper",
          "y": 0.4375,
          "yanchor": "bottom",
          "yref": "paper"
         },
         {
          "font": {
           "size": 16
          },
          "showarrow": false,
          "text": "Time = 1, Length = 3000",
          "x": 0.292,
          "xanchor": "center",
          "xref": "paper",
          "y": 0.4375,
          "yanchor": "bottom",
          "yref": "paper"
         },
         {
          "font": {
           "size": 16
          },
          "showarrow": false,
          "text": "Time = 2, Length = 3000",
          "x": 0.5,
          "xanchor": "center",
          "xref": "paper",
          "y": 0.4375,
          "yanchor": "bottom",
          "yref": "paper"
         },
         {
          "font": {
           "size": 16
          },
          "showarrow": false,
          "text": "Time = 3, Length = 3000",
          "x": 0.708,
          "xanchor": "center",
          "xref": "paper",
          "y": 0.4375,
          "yanchor": "bottom",
          "yref": "paper"
         },
         {
          "font": {
           "size": 16
          },
          "showarrow": false,
          "text": "Time = 4, Length = 3000",
          "x": 0.9159999999999999,
          "xanchor": "center",
          "xref": "paper",
          "y": 0.4375,
          "yanchor": "bottom",
          "yref": "paper"
         },
         {
          "font": {
           "size": 16
          },
          "showarrow": false,
          "text": "Time = 0.5, Length = 4000",
          "x": 0.08399999999999999,
          "xanchor": "center",
          "xref": "paper",
          "y": 0.15625,
          "yanchor": "bottom",
          "yref": "paper"
         },
         {
          "font": {
           "size": 16
          },
          "showarrow": false,
          "text": "Time = 1, Length = 4000",
          "x": 0.292,
          "xanchor": "center",
          "xref": "paper",
          "y": 0.15625,
          "yanchor": "bottom",
          "yref": "paper"
         },
         {
          "font": {
           "size": 16
          },
          "showarrow": false,
          "text": "Time = 2, Length = 4000",
          "x": 0.5,
          "xanchor": "center",
          "xref": "paper",
          "y": 0.15625,
          "yanchor": "bottom",
          "yref": "paper"
         },
         {
          "font": {
           "size": 16
          },
          "showarrow": false,
          "text": "Time = 3, Length = 4000",
          "x": 0.708,
          "xanchor": "center",
          "xref": "paper",
          "y": 0.15625,
          "yanchor": "bottom",
          "yref": "paper"
         },
         {
          "font": {
           "size": 16
          },
          "showarrow": false,
          "text": "Time = 4, Length = 4000",
          "x": 0.9159999999999999,
          "xanchor": "center",
          "xref": "paper",
          "y": 0.15625,
          "yanchor": "bottom",
          "yref": "paper"
         }
        ],
        "bargap": 0.05,
        "height": 1200,
        "shapes": [
         {
          "line": {
           "color": "red",
           "dash": "dash",
           "width": 2
          },
          "type": "line",
          "x0": 0.0018427886654163173,
          "x1": 0.0018427886654163173,
          "xref": "x",
          "y0": 0,
          "y1": 1,
          "yref": "y domain"
         },
         {
          "line": {
           "color": "green",
           "dash": "dash",
           "width": 2
          },
          "type": "line",
          "x0": 0,
          "x1": 0,
          "xref": "x",
          "y0": 0,
          "y1": 1,
          "yref": "y domain"
         },
         {
          "line": {
           "color": "red",
           "dash": "dash",
           "width": 2
          },
          "type": "line",
          "x0": -0.0017167579174637293,
          "x1": -0.0017167579174637293,
          "xref": "x2",
          "y0": 0,
          "y1": 1,
          "yref": "y2 domain"
         },
         {
          "line": {
           "color": "green",
           "dash": "dash",
           "width": 2
          },
          "type": "line",
          "x0": 0,
          "x1": 0,
          "xref": "x2",
          "y0": 0,
          "y1": 1,
          "yref": "y2 domain"
         },
         {
          "line": {
           "color": "red",
           "dash": "dash",
           "width": 2
          },
          "type": "line",
          "x0": -0.0019464004308902272,
          "x1": -0.0019464004308902272,
          "xref": "x3",
          "y0": 0,
          "y1": 1,
          "yref": "y3 domain"
         },
         {
          "line": {
           "color": "green",
           "dash": "dash",
           "width": 2
          },
          "type": "line",
          "x0": 0,
          "x1": 0,
          "xref": "x3",
          "y0": 0,
          "y1": 1,
          "yref": "y3 domain"
         },
         {
          "line": {
           "color": "red",
           "dash": "dash",
           "width": 2
          },
          "type": "line",
          "x0": -0.005726574578523991,
          "x1": -0.005726574578523991,
          "xref": "x4",
          "y0": 0,
          "y1": 1,
          "yref": "y4 domain"
         },
         {
          "line": {
           "color": "green",
           "dash": "dash",
           "width": 2
          },
          "type": "line",
          "x0": 0,
          "x1": 0,
          "xref": "x4",
          "y0": 0,
          "y1": 1,
          "yref": "y4 domain"
         },
         {
          "line": {
           "color": "red",
           "dash": "dash",
           "width": 2
          },
          "type": "line",
          "x0": -0.008376175141705522,
          "x1": -0.008376175141705522,
          "xref": "x5",
          "y0": 0,
          "y1": 1,
          "yref": "y5 domain"
         },
         {
          "line": {
           "color": "green",
           "dash": "dash",
           "width": 2
          },
          "type": "line",
          "x0": 0,
          "x1": 0,
          "xref": "x5",
          "y0": 0,
          "y1": 1,
          "yref": "y5 domain"
         },
         {
          "line": {
           "color": "red",
           "dash": "dash",
           "width": 2
          },
          "type": "line",
          "x0": -0.00420221133458365,
          "x1": -0.00420221133458365,
          "xref": "x6",
          "y0": 0,
          "y1": 1,
          "yref": "y6 domain"
         },
         {
          "line": {
           "color": "green",
           "dash": "dash",
           "width": 2
          },
          "type": "line",
          "x0": 0,
          "x1": 0,
          "xref": "x6",
          "y0": 0,
          "y1": 1,
          "yref": "y6 domain"
         },
         {
          "line": {
           "color": "red",
           "dash": "dash",
           "width": 2
          },
          "type": "line",
          "x0": -0.005021757917463732,
          "x1": -0.005021757917463732,
          "xref": "x7",
          "y0": 0,
          "y1": 1,
          "yref": "y7 domain"
         },
         {
          "line": {
           "color": "green",
           "dash": "dash",
           "width": 2
          },
          "type": "line",
          "x0": 0,
          "x1": 0,
          "xref": "x7",
          "y0": 0,
          "y1": 1,
          "yref": "y7 domain"
         },
         {
          "line": {
           "color": "red",
           "dash": "dash",
           "width": 2
          },
          "type": "line",
          "x0": -0.007636400430889978,
          "x1": -0.007636400430889978,
          "xref": "x8",
          "y0": 0,
          "y1": 1,
          "yref": "y8 domain"
         },
         {
          "line": {
           "color": "green",
           "dash": "dash",
           "width": 2
          },
          "type": "line",
          "x0": 0,
          "x1": 0,
          "xref": "x8",
          "y0": 0,
          "y1": 1,
          "yref": "y8 domain"
         },
         {
          "line": {
           "color": "red",
           "dash": "dash",
           "width": 2
          },
          "type": "line",
          "x0": -0.012881574578524013,
          "x1": -0.012881574578524013,
          "xref": "x9",
          "y0": 0,
          "y1": 1,
          "yref": "y9 domain"
         },
         {
          "line": {
           "color": "green",
           "dash": "dash",
           "width": 2
          },
          "type": "line",
          "x0": 0,
          "x1": 0,
          "xref": "x9",
          "y0": 0,
          "y1": 1,
          "yref": "y9 domain"
         },
         {
          "line": {
           "color": "red",
           "dash": "dash",
           "width": 2
          },
          "type": "line",
          "x0": -0.014976175141705461,
          "x1": -0.014976175141705461,
          "xref": "x10",
          "y0": 0,
          "y1": 1,
          "yref": "y10 domain"
         },
         {
          "line": {
           "color": "green",
           "dash": "dash",
           "width": 2
          },
          "type": "line",
          "x0": 0,
          "x1": 0,
          "xref": "x10",
          "y0": 0,
          "y1": 1,
          "yref": "y10 domain"
         },
         {
          "line": {
           "color": "red",
           "dash": "dash",
           "width": 2
          },
          "type": "line",
          "x0": 0.0020561219987496604,
          "x1": 0.0020561219987496604,
          "xref": "x11",
          "y0": 0,
          "y1": 1,
          "yref": "y11 domain"
         },
         {
          "line": {
           "color": "green",
           "dash": "dash",
           "width": 2
          },
          "type": "line",
          "x0": 0,
          "x1": 0,
          "xref": "x11",
          "y0": 0,
          "y1": 1,
          "yref": "y11 domain"
         },
         {
          "line": {
           "color": "red",
           "dash": "dash",
           "width": 2
          },
          "type": "line",
          "x0": 0.0037132420825362056,
          "x1": 0.0037132420825362056,
          "xref": "x12",
          "y0": 0,
          "y1": 1,
          "yref": "y12 domain"
         },
         {
          "line": {
           "color": "green",
           "dash": "dash",
           "width": 2
          },
          "type": "line",
          "x0": 0,
          "x1": 0,
          "xref": "x12",
          "y0": 0,
          "y1": 1,
          "yref": "y12 domain"
         },
         {
          "line": {
           "color": "red",
           "dash": "dash",
           "width": 2
          },
          "type": "line",
          "x0": 0.005506932902443307,
          "x1": 0.005506932902443307,
          "xref": "x13",
          "y0": 0,
          "y1": 1,
          "yref": "y13 domain"
         },
         {
          "line": {
           "color": "green",
           "dash": "dash",
           "width": 2
          },
          "type": "line",
          "x0": 0,
          "x1": 0,
          "xref": "x13",
          "y0": 0,
          "y1": 1,
          "yref": "y13 domain"
         },
         {
          "line": {
           "color": "red",
           "dash": "dash",
           "width": 2
          },
          "type": "line",
          "x0": 0.009030092088142538,
          "x1": 0.009030092088142538,
          "xref": "x14",
          "y0": 0,
          "y1": 1,
          "yref": "y14 domain"
         },
         {
          "line": {
           "color": "green",
           "dash": "dash",
           "width": 2
          },
          "type": "line",
          "x0": 0,
          "x1": 0,
          "xref": "x14",
          "y0": 0,
          "y1": 1,
          "yref": "y14 domain"
         },
         {
          "line": {
           "color": "red",
           "dash": "dash",
           "width": 2
          },
          "type": "line",
          "x0": 0.004357158191627963,
          "x1": 0.004357158191627963,
          "xref": "x15",
          "y0": 0,
          "y1": 1,
          "yref": "y15 domain"
         },
         {
          "line": {
           "color": "green",
           "dash": "dash",
           "width": 2
          },
          "type": "line",
          "x0": 0,
          "x1": 0,
          "xref": "x15",
          "y0": 0,
          "y1": 1,
          "yref": "y15 domain"
         },
         {
          "line": {
           "color": "red",
           "dash": "dash",
           "width": 2
          },
          "type": "line",
          "x0": 0.001387788665416334,
          "x1": 0.001387788665416334,
          "xref": "x16",
          "y0": 0,
          "y1": 1,
          "yref": "y16 domain"
         },
         {
          "line": {
           "color": "green",
           "dash": "dash",
           "width": 2
          },
          "type": "line",
          "x0": 0,
          "x1": 0,
          "xref": "x16",
          "y0": 0,
          "y1": 1,
          "yref": "y16 domain"
         },
         {
          "line": {
           "color": "red",
           "dash": "dash",
           "width": 2
          },
          "type": "line",
          "x0": 0.0000232420825362345,
          "x1": 0.0000232420825362345,
          "xref": "x17",
          "y0": 0,
          "y1": 1,
          "yref": "y17 domain"
         },
         {
          "line": {
           "color": "green",
           "dash": "dash",
           "width": 2
          },
          "type": "line",
          "x0": 0,
          "x1": 0,
          "xref": "x17",
          "y0": 0,
          "y1": 1,
          "yref": "y17 domain"
         },
         {
          "line": {
           "color": "red",
           "dash": "dash",
           "width": 2
          },
          "type": "line",
          "x0": 0.0017685995691099077,
          "x1": 0.0017685995691099077,
          "xref": "x18",
          "y0": 0,
          "y1": 1,
          "yref": "y18 domain"
         },
         {
          "line": {
           "color": "green",
           "dash": "dash",
           "width": 2
          },
          "type": "line",
          "x0": 0,
          "x1": 0,
          "xref": "x18",
          "y0": 0,
          "y1": 1,
          "yref": "y18 domain"
         },
         {
          "line": {
           "color": "red",
           "dash": "dash",
           "width": 2
          },
          "type": "line",
          "x0": 0.0018584254214759621,
          "x1": 0.0018584254214759621,
          "xref": "x19",
          "y0": 0,
          "y1": 1,
          "yref": "y19 domain"
         },
         {
          "line": {
           "color": "green",
           "dash": "dash",
           "width": 2
          },
          "type": "line",
          "x0": 0,
          "x1": 0,
          "xref": "x19",
          "y0": 0,
          "y1": 1,
          "yref": "y19 domain"
         },
         {
          "line": {
           "color": "red",
           "dash": "dash",
           "width": 2
          },
          "type": "line",
          "xref": "x20",
          "y0": 0,
          "y1": 1,
          "yref": "y20 domain"
         },
         {
          "line": {
           "color": "green",
           "dash": "dash",
           "width": 2
          },
          "type": "line",
          "x0": 0,
          "x1": 0,
          "xref": "x20",
          "y0": 0,
          "y1": 1,
          "yref": "y20 domain"
         }
        ],
        "showlegend": false,
        "template": {
         "data": {
          "bar": [
           {
            "error_x": {
             "color": "#2a3f5f"
            },
            "error_y": {
             "color": "#2a3f5f"
            },
            "marker": {
             "line": {
              "color": "#E5ECF6",
              "width": 0.5
             },
             "pattern": {
              "fillmode": "overlay",
              "size": 10,
              "solidity": 0.2
             }
            },
            "type": "bar"
           }
          ],
          "barpolar": [
           {
            "marker": {
             "line": {
              "color": "#E5ECF6",
              "width": 0.5
             },
             "pattern": {
              "fillmode": "overlay",
              "size": 10,
              "solidity": 0.2
             }
            },
            "type": "barpolar"
           }
          ],
          "carpet": [
           {
            "aaxis": {
             "endlinecolor": "#2a3f5f",
             "gridcolor": "white",
             "linecolor": "white",
             "minorgridcolor": "white",
             "startlinecolor": "#2a3f5f"
            },
            "baxis": {
             "endlinecolor": "#2a3f5f",
             "gridcolor": "white",
             "linecolor": "white",
             "minorgridcolor": "white",
             "startlinecolor": "#2a3f5f"
            },
            "type": "carpet"
           }
          ],
          "choropleth": [
           {
            "colorbar": {
             "outlinewidth": 0,
             "ticks": ""
            },
            "type": "choropleth"
           }
          ],
          "contour": [
           {
            "colorbar": {
             "outlinewidth": 0,
             "ticks": ""
            },
            "colorscale": [
             [
              0,
              "#0d0887"
             ],
             [
              0.1111111111111111,
              "#46039f"
             ],
             [
              0.2222222222222222,
              "#7201a8"
             ],
             [
              0.3333333333333333,
              "#9c179e"
             ],
             [
              0.4444444444444444,
              "#bd3786"
             ],
             [
              0.5555555555555556,
              "#d8576b"
             ],
             [
              0.6666666666666666,
              "#ed7953"
             ],
             [
              0.7777777777777778,
              "#fb9f3a"
             ],
             [
              0.8888888888888888,
              "#fdca26"
             ],
             [
              1,
              "#f0f921"
             ]
            ],
            "type": "contour"
           }
          ],
          "contourcarpet": [
           {
            "colorbar": {
             "outlinewidth": 0,
             "ticks": ""
            },
            "type": "contourcarpet"
           }
          ],
          "heatmap": [
           {
            "colorbar": {
             "outlinewidth": 0,
             "ticks": ""
            },
            "colorscale": [
             [
              0,
              "#0d0887"
             ],
             [
              0.1111111111111111,
              "#46039f"
             ],
             [
              0.2222222222222222,
              "#7201a8"
             ],
             [
              0.3333333333333333,
              "#9c179e"
             ],
             [
              0.4444444444444444,
              "#bd3786"
             ],
             [
              0.5555555555555556,
              "#d8576b"
             ],
             [
              0.6666666666666666,
              "#ed7953"
             ],
             [
              0.7777777777777778,
              "#fb9f3a"
             ],
             [
              0.8888888888888888,
              "#fdca26"
             ],
             [
              1,
              "#f0f921"
             ]
            ],
            "type": "heatmap"
           }
          ],
          "heatmapgl": [
           {
            "colorbar": {
             "outlinewidth": 0,
             "ticks": ""
            },
            "colorscale": [
             [
              0,
              "#0d0887"
             ],
             [
              0.1111111111111111,
              "#46039f"
             ],
             [
              0.2222222222222222,
              "#7201a8"
             ],
             [
              0.3333333333333333,
              "#9c179e"
             ],
             [
              0.4444444444444444,
              "#bd3786"
             ],
             [
              0.5555555555555556,
              "#d8576b"
             ],
             [
              0.6666666666666666,
              "#ed7953"
             ],
             [
              0.7777777777777778,
              "#fb9f3a"
             ],
             [
              0.8888888888888888,
              "#fdca26"
             ],
             [
              1,
              "#f0f921"
             ]
            ],
            "type": "heatmapgl"
           }
          ],
          "histogram": [
           {
            "marker": {
             "pattern": {
              "fillmode": "overlay",
              "size": 10,
              "solidity": 0.2
             }
            },
            "type": "histogram"
           }
          ],
          "histogram2d": [
           {
            "colorbar": {
             "outlinewidth": 0,
             "ticks": ""
            },
            "colorscale": [
             [
              0,
              "#0d0887"
             ],
             [
              0.1111111111111111,
              "#46039f"
             ],
             [
              0.2222222222222222,
              "#7201a8"
             ],
             [
              0.3333333333333333,
              "#9c179e"
             ],
             [
              0.4444444444444444,
              "#bd3786"
             ],
             [
              0.5555555555555556,
              "#d8576b"
             ],
             [
              0.6666666666666666,
              "#ed7953"
             ],
             [
              0.7777777777777778,
              "#fb9f3a"
             ],
             [
              0.8888888888888888,
              "#fdca26"
             ],
             [
              1,
              "#f0f921"
             ]
            ],
            "type": "histogram2d"
           }
          ],
          "histogram2dcontour": [
           {
            "colorbar": {
             "outlinewidth": 0,
             "ticks": ""
            },
            "colorscale": [
             [
              0,
              "#0d0887"
             ],
             [
              0.1111111111111111,
              "#46039f"
             ],
             [
              0.2222222222222222,
              "#7201a8"
             ],
             [
              0.3333333333333333,
              "#9c179e"
             ],
             [
              0.4444444444444444,
              "#bd3786"
             ],
             [
              0.5555555555555556,
              "#d8576b"
             ],
             [
              0.6666666666666666,
              "#ed7953"
             ],
             [
              0.7777777777777778,
              "#fb9f3a"
             ],
             [
              0.8888888888888888,
              "#fdca26"
             ],
             [
              1,
              "#f0f921"
             ]
            ],
            "type": "histogram2dcontour"
           }
          ],
          "mesh3d": [
           {
            "colorbar": {
             "outlinewidth": 0,
             "ticks": ""
            },
            "type": "mesh3d"
           }
          ],
          "parcoords": [
           {
            "line": {
             "colorbar": {
              "outlinewidth": 0,
              "ticks": ""
             }
            },
            "type": "parcoords"
           }
          ],
          "pie": [
           {
            "automargin": true,
            "type": "pie"
           }
          ],
          "scatter": [
           {
            "fillpattern": {
             "fillmode": "overlay",
             "size": 10,
             "solidity": 0.2
            },
            "type": "scatter"
           }
          ],
          "scatter3d": [
           {
            "line": {
             "colorbar": {
              "outlinewidth": 0,
              "ticks": ""
             }
            },
            "marker": {
             "colorbar": {
              "outlinewidth": 0,
              "ticks": ""
             }
            },
            "type": "scatter3d"
           }
          ],
          "scattercarpet": [
           {
            "marker": {
             "colorbar": {
              "outlinewidth": 0,
              "ticks": ""
             }
            },
            "type": "scattercarpet"
           }
          ],
          "scattergeo": [
           {
            "marker": {
             "colorbar": {
              "outlinewidth": 0,
              "ticks": ""
             }
            },
            "type": "scattergeo"
           }
          ],
          "scattergl": [
           {
            "marker": {
             "colorbar": {
              "outlinewidth": 0,
              "ticks": ""
             }
            },
            "type": "scattergl"
           }
          ],
          "scattermapbox": [
           {
            "marker": {
             "colorbar": {
              "outlinewidth": 0,
              "ticks": ""
             }
            },
            "type": "scattermapbox"
           }
          ],
          "scatterpolar": [
           {
            "marker": {
             "colorbar": {
              "outlinewidth": 0,
              "ticks": ""
             }
            },
            "type": "scatterpolar"
           }
          ],
          "scatterpolargl": [
           {
            "marker": {
             "colorbar": {
              "outlinewidth": 0,
              "ticks": ""
             }
            },
            "type": "scatterpolargl"
           }
          ],
          "scatterternary": [
           {
            "marker": {
             "colorbar": {
              "outlinewidth": 0,
              "ticks": ""
             }
            },
            "type": "scatterternary"
           }
          ],
          "surface": [
           {
            "colorbar": {
             "outlinewidth": 0,
             "ticks": ""
            },
            "colorscale": [
             [
              0,
              "#0d0887"
             ],
             [
              0.1111111111111111,
              "#46039f"
             ],
             [
              0.2222222222222222,
              "#7201a8"
             ],
             [
              0.3333333333333333,
              "#9c179e"
             ],
             [
              0.4444444444444444,
              "#bd3786"
             ],
             [
              0.5555555555555556,
              "#d8576b"
             ],
             [
              0.6666666666666666,
              "#ed7953"
             ],
             [
              0.7777777777777778,
              "#fb9f3a"
             ],
             [
              0.8888888888888888,
              "#fdca26"
             ],
             [
              1,
              "#f0f921"
             ]
            ],
            "type": "surface"
           }
          ],
          "table": [
           {
            "cells": {
             "fill": {
              "color": "#EBF0F8"
             },
             "line": {
              "color": "white"
             }
            },
            "header": {
             "fill": {
              "color": "#C8D4E3"
             },
             "line": {
              "color": "white"
             }
            },
            "type": "table"
           }
          ]
         },
         "layout": {
          "annotationdefaults": {
           "arrowcolor": "#2a3f5f",
           "arrowhead": 0,
           "arrowwidth": 1
          },
          "autotypenumbers": "strict",
          "coloraxis": {
           "colorbar": {
            "outlinewidth": 0,
            "ticks": ""
           }
          },
          "colorscale": {
           "diverging": [
            [
             0,
             "#8e0152"
            ],
            [
             0.1,
             "#c51b7d"
            ],
            [
             0.2,
             "#de77ae"
            ],
            [
             0.3,
             "#f1b6da"
            ],
            [
             0.4,
             "#fde0ef"
            ],
            [
             0.5,
             "#f7f7f7"
            ],
            [
             0.6,
             "#e6f5d0"
            ],
            [
             0.7,
             "#b8e186"
            ],
            [
             0.8,
             "#7fbc41"
            ],
            [
             0.9,
             "#4d9221"
            ],
            [
             1,
             "#276419"
            ]
           ],
           "sequential": [
            [
             0,
             "#0d0887"
            ],
            [
             0.1111111111111111,
             "#46039f"
            ],
            [
             0.2222222222222222,
             "#7201a8"
            ],
            [
             0.3333333333333333,
             "#9c179e"
            ],
            [
             0.4444444444444444,
             "#bd3786"
            ],
            [
             0.5555555555555556,
             "#d8576b"
            ],
            [
             0.6666666666666666,
             "#ed7953"
            ],
            [
             0.7777777777777778,
             "#fb9f3a"
            ],
            [
             0.8888888888888888,
             "#fdca26"
            ],
            [
             1,
             "#f0f921"
            ]
           ],
           "sequentialminus": [
            [
             0,
             "#0d0887"
            ],
            [
             0.1111111111111111,
             "#46039f"
            ],
            [
             0.2222222222222222,
             "#7201a8"
            ],
            [
             0.3333333333333333,
             "#9c179e"
            ],
            [
             0.4444444444444444,
             "#bd3786"
            ],
            [
             0.5555555555555556,
             "#d8576b"
            ],
            [
             0.6666666666666666,
             "#ed7953"
            ],
            [
             0.7777777777777778,
             "#fb9f3a"
            ],
            [
             0.8888888888888888,
             "#fdca26"
            ],
            [
             1,
             "#f0f921"
            ]
           ]
          },
          "colorway": [
           "#636efa",
           "#EF553B",
           "#00cc96",
           "#ab63fa",
           "#FFA15A",
           "#19d3f3",
           "#FF6692",
           "#B6E880",
           "#FF97FF",
           "#FECB52"
          ],
          "font": {
           "color": "#2a3f5f"
          },
          "geo": {
           "bgcolor": "white",
           "lakecolor": "white",
           "landcolor": "#E5ECF6",
           "showlakes": true,
           "showland": true,
           "subunitcolor": "white"
          },
          "hoverlabel": {
           "align": "left"
          },
          "hovermode": "closest",
          "mapbox": {
           "style": "light"
          },
          "paper_bgcolor": "white",
          "plot_bgcolor": "#E5ECF6",
          "polar": {
           "angularaxis": {
            "gridcolor": "white",
            "linecolor": "white",
            "ticks": ""
           },
           "bgcolor": "#E5ECF6",
           "radialaxis": {
            "gridcolor": "white",
            "linecolor": "white",
            "ticks": ""
           }
          },
          "scene": {
           "xaxis": {
            "backgroundcolor": "#E5ECF6",
            "gridcolor": "white",
            "gridwidth": 2,
            "linecolor": "white",
            "showbackground": true,
            "ticks": "",
            "zerolinecolor": "white"
           },
           "yaxis": {
            "backgroundcolor": "#E5ECF6",
            "gridcolor": "white",
            "gridwidth": 2,
            "linecolor": "white",
            "showbackground": true,
            "ticks": "",
            "zerolinecolor": "white"
           },
           "zaxis": {
            "backgroundcolor": "#E5ECF6",
            "gridcolor": "white",
            "gridwidth": 2,
            "linecolor": "white",
            "showbackground": true,
            "ticks": "",
            "zerolinecolor": "white"
           }
          },
          "shapedefaults": {
           "line": {
            "color": "#2a3f5f"
           }
          },
          "ternary": {
           "aaxis": {
            "gridcolor": "white",
            "linecolor": "white",
            "ticks": ""
           },
           "baxis": {
            "gridcolor": "white",
            "linecolor": "white",
            "ticks": ""
           },
           "bgcolor": "#E5ECF6",
           "caxis": {
            "gridcolor": "white",
            "linecolor": "white",
            "ticks": ""
           }
          },
          "title": {
           "x": 0.05
          },
          "xaxis": {
           "automargin": true,
           "gridcolor": "white",
           "linecolor": "white",
           "ticks": "",
           "title": {
            "standoff": 15
           },
           "zerolinecolor": "white",
           "zerolinewidth": 2
          },
          "yaxis": {
           "automargin": true,
           "gridcolor": "white",
           "linecolor": "white",
           "ticks": "",
           "title": {
            "standoff": 15
           },
           "zerolinecolor": "white",
           "zerolinewidth": 2
          }
         }
        },
        "title": {
         "text": "Distribution of Substitutions Number Error by Time and Length, repetition = 100"
        },
        "width": 1500,
        "xaxis": {
         "anchor": "y",
         "domain": [
          0,
          0.16799999999999998
         ],
         "range": [
          -0.09,
          0.06
         ],
         "title": {
          "text": "Subsitution Number Error"
         }
        },
        "xaxis10": {
         "anchor": "y10",
         "domain": [
          0.832,
          1
         ],
         "range": [
          -0.09,
          0.06
         ]
        },
        "xaxis11": {
         "anchor": "y11",
         "domain": [
          0,
          0.16799999999999998
         ],
         "range": [
          -0.09,
          0.06
         ]
        },
        "xaxis12": {
         "anchor": "y12",
         "domain": [
          0.208,
          0.376
         ],
         "range": [
          -0.09,
          0.06
         ]
        },
        "xaxis13": {
         "anchor": "y13",
         "domain": [
          0.416,
          0.584
         ],
         "range": [
          -0.09,
          0.06
         ]
        },
        "xaxis14": {
         "anchor": "y14",
         "domain": [
          0.624,
          0.792
         ],
         "range": [
          -0.09,
          0.06
         ]
        },
        "xaxis15": {
         "anchor": "y15",
         "domain": [
          0.832,
          1
         ],
         "range": [
          -0.09,
          0.06
         ]
        },
        "xaxis16": {
         "anchor": "y16",
         "domain": [
          0,
          0.16799999999999998
         ],
         "range": [
          -0.09,
          0.06
         ]
        },
        "xaxis17": {
         "anchor": "y17",
         "domain": [
          0.208,
          0.376
         ],
         "range": [
          -0.09,
          0.06
         ]
        },
        "xaxis18": {
         "anchor": "y18",
         "domain": [
          0.416,
          0.584
         ],
         "range": [
          -0.09,
          0.06
         ]
        },
        "xaxis19": {
         "anchor": "y19",
         "domain": [
          0.624,
          0.792
         ],
         "range": [
          -0.09,
          0.06
         ]
        },
        "xaxis2": {
         "anchor": "y2",
         "domain": [
          0.208,
          0.376
         ],
         "range": [
          -0.09,
          0.06
         ]
        },
        "xaxis20": {
         "anchor": "y20",
         "domain": [
          0.832,
          1
         ],
         "range": [
          -0.09,
          0.06
         ]
        },
        "xaxis3": {
         "anchor": "y3",
         "domain": [
          0.416,
          0.584
         ],
         "range": [
          -0.09,
          0.06
         ]
        },
        "xaxis4": {
         "anchor": "y4",
         "domain": [
          0.624,
          0.792
         ],
         "range": [
          -0.09,
          0.06
         ]
        },
        "xaxis5": {
         "anchor": "y5",
         "domain": [
          0.832,
          1
         ],
         "range": [
          -0.09,
          0.06
         ]
        },
        "xaxis6": {
         "anchor": "y6",
         "domain": [
          0,
          0.16799999999999998
         ],
         "range": [
          -0.09,
          0.06
         ]
        },
        "xaxis7": {
         "anchor": "y7",
         "domain": [
          0.208,
          0.376
         ],
         "range": [
          -0.09,
          0.06
         ]
        },
        "xaxis8": {
         "anchor": "y8",
         "domain": [
          0.416,
          0.584
         ],
         "range": [
          -0.09,
          0.06
         ]
        },
        "xaxis9": {
         "anchor": "y9",
         "domain": [
          0.624,
          0.792
         ],
         "range": [
          -0.09,
          0.06
         ]
        },
        "yaxis": {
         "anchor": "x",
         "domain": [
          0.84375,
          1
         ]
        },
        "yaxis10": {
         "anchor": "x10",
         "domain": [
          0.5625,
          0.71875
         ]
        },
        "yaxis11": {
         "anchor": "x11",
         "domain": [
          0.28125,
          0.4375
         ]
        },
        "yaxis12": {
         "anchor": "x12",
         "domain": [
          0.28125,
          0.4375
         ]
        },
        "yaxis13": {
         "anchor": "x13",
         "domain": [
          0.28125,
          0.4375
         ]
        },
        "yaxis14": {
         "anchor": "x14",
         "domain": [
          0.28125,
          0.4375
         ]
        },
        "yaxis15": {
         "anchor": "x15",
         "domain": [
          0.28125,
          0.4375
         ]
        },
        "yaxis16": {
         "anchor": "x16",
         "domain": [
          0,
          0.15625
         ]
        },
        "yaxis17": {
         "anchor": "x17",
         "domain": [
          0,
          0.15625
         ]
        },
        "yaxis18": {
         "anchor": "x18",
         "domain": [
          0,
          0.15625
         ]
        },
        "yaxis19": {
         "anchor": "x19",
         "domain": [
          0,
          0.15625
         ]
        },
        "yaxis2": {
         "anchor": "x2",
         "domain": [
          0.84375,
          1
         ]
        },
        "yaxis20": {
         "anchor": "x20",
         "domain": [
          0,
          0.15625
         ]
        },
        "yaxis3": {
         "anchor": "x3",
         "domain": [
          0.84375,
          1
         ]
        },
        "yaxis4": {
         "anchor": "x4",
         "domain": [
          0.84375,
          1
         ]
        },
        "yaxis5": {
         "anchor": "x5",
         "domain": [
          0.84375,
          1
         ]
        },
        "yaxis6": {
         "anchor": "x6",
         "domain": [
          0.5625,
          0.71875
         ]
        },
        "yaxis7": {
         "anchor": "x7",
         "domain": [
          0.5625,
          0.71875
         ]
        },
        "yaxis8": {
         "anchor": "x8",
         "domain": [
          0.5625,
          0.71875
         ]
        },
        "yaxis9": {
         "anchor": "x9",
         "domain": [
          0.5625,
          0.71875
         ]
        }
       }
      }
     },
     "metadata": {},
     "output_type": "display_data"
    }
   ],
   "source": [
    "fig2 = get_histograms2(error_ns_dict_all, theoretical_ns_error_dict)\n",
    "fig2.update_layout(title_text='Distribution of Substitutions Number Error by Time and Length, repetition = 100',\n",
    "        xaxis_title_text='Subsitution Number Error')\n",
    "\n",
    "fig2.write_image('Distribution of Substitutions Number Error by Time and Length.pdf')\n",
    "fig2.show()"
   ]
  },
  {
   "cell_type": "code",
   "execution_count": 4,
   "metadata": {},
   "outputs": [
    {
     "data": {
      "text/plain": [
       "4.974190140095442"
      ]
     },
     "execution_count": 4,
     "metadata": {},
     "output_type": "execute_result"
    }
   ],
   "source": [
    "import sys\n",
    "sys.path.insert(0, '/Users/gulugulu/repos/PuningAnalysis/src')\n",
    "from cogent3.maths.matrix_exponential_integration import expected_number_subs\n",
    "import numpy as np\n",
    "pi = [0.35, 0.15, 0.05, 0.45]\n",
    "repeats = 100\n",
    "markov_order = 0\n",
    "length = 1000\n",
    "time_range = [0.5, 1, 2, 3, 4]\n",
    "t = 3\n",
    "Q1 = np.array([[-1.75025094,  0.94143256,  0.45306226,  0.35575611],\n",
    "       [ 0.49505807, -2.27893035,  0.88176788,  0.90210439],\n",
    "       [ 0.36411798,  0.18070926, -0.91594839,  0.37112115],\n",
    "       [ 0.77758124,  0.75396143,  0.52505328, -2.05659595]])\n",
    "\n",
    "theoretical_ns = expected_number_subs(pi, Q1, t)\n",
    "theoretical_ns"
   ]
  },
  {
   "cell_type": "code",
   "execution_count": 5,
   "metadata": {},
   "outputs": [
    {
     "data": {
      "text/plain": [
       "4962"
      ]
     },
     "execution_count": 5,
     "metadata": {},
     "output_type": "execute_result"
    }
   ],
   "source": [
    "from simulation.waiting_time_simulator_iid import average_substitution, generate_ancestor, simulate_seq\n",
    "ances_seq = generate_ancestor(length, pi)\n",
    "seqs = simulate_seq(3, Q1, ances_seq)\n",
    "len(seqs)"
   ]
  },
  {
   "cell_type": "code",
   "execution_count": 50,
   "metadata": {},
   "outputs": [],
   "source": [
    "# Loop over each sequence length and time to perform simulations\n",
    "ns_per_site_list, avg_ns_per_site = average_substitution(Q1, t, repeats, length, pi)"
   ]
  },
  {
   "cell_type": "code",
   "execution_count": 53,
   "metadata": {},
   "outputs": [
    {
     "data": {
      "text/plain": [
       "4.97912"
      ]
     },
     "execution_count": 53,
     "metadata": {},
     "output_type": "execute_result"
    }
   ],
   "source": [
    "avg_ns_per_site"
   ]
  },
  {
   "cell_type": "code",
   "execution_count": 6,
   "metadata": {},
   "outputs": [
    {
     "ename": "KeyboardInterrupt",
     "evalue": "",
     "output_type": "error",
     "traceback": [
      "\u001b[0;31m---------------------------------------------------------------------------\u001b[0m",
      "\u001b[0;31mKeyboardInterrupt\u001b[0m                         Traceback (most recent call last)",
      "Cell \u001b[0;32mIn[6], line 3\u001b[0m\n\u001b[1;32m      1\u001b[0m \u001b[38;5;28;01mfrom\u001b[39;00m \u001b[38;5;21;01msimulation\u001b[39;00m\u001b[38;5;21;01m.\u001b[39;00m\u001b[38;5;21;01mWTS_class\u001b[39;00m \u001b[38;5;28;01mimport\u001b[39;00m SeqSimulate\n\u001b[1;32m      2\u001b[0m simulator \u001b[38;5;241m=\u001b[39m SeqSimulate(Q1, \u001b[38;5;241m1000\u001b[39m, \u001b[38;5;241m100\u001b[39m, \u001b[38;5;241m3\u001b[39m, pi)\n\u001b[0;32m----> 3\u001b[0m result \u001b[38;5;241m=\u001b[39m \u001b[43msimulator\u001b[49m\u001b[38;5;241;43m.\u001b[39;49m\u001b[43maverage_substitution\u001b[49m\u001b[43m(\u001b[49m\u001b[38;5;241;43m3\u001b[39;49m\u001b[43m)\u001b[49m\n\u001b[1;32m      4\u001b[0m result[\u001b[38;5;241m1\u001b[39m]\n",
      "File \u001b[0;32m~/repos/PuningAnalysis/src/simulation/WTS_class.py:125\u001b[0m, in \u001b[0;36mSeqSimulate.average_substitution\u001b[0;34m(self, max_time)\u001b[0m\n\u001b[1;32m    123\u001b[0m ns_per_site_list \u001b[38;5;241m=\u001b[39m []\n\u001b[1;32m    124\u001b[0m ns_total_list \u001b[38;5;241m=\u001b[39m []\n\u001b[0;32m--> 125\u001b[0m results \u001b[38;5;241m=\u001b[39m \u001b[38;5;28;43mself\u001b[39;49m\u001b[38;5;241;43m.\u001b[39;49m\u001b[43mmain\u001b[49m\u001b[43m(\u001b[49m\u001b[43mmax_time\u001b[49m\u001b[43m)\u001b[49m\n\u001b[1;32m    126\u001b[0m \u001b[38;5;28;01mfor\u001b[39;00m simulation \u001b[38;5;129;01min\u001b[39;00m results:\n\u001b[1;32m    127\u001b[0m     num_subt \u001b[38;5;241m=\u001b[39m \u001b[38;5;28mlen\u001b[39m(simulation) \u001b[38;5;241m-\u001b[39m \u001b[38;5;241m1\u001b[39m\n",
      "File \u001b[0;32m~/repos/PuningAnalysis/src/simulation/WTS_class.py:53\u001b[0m, in \u001b[0;36mSeqSimulate.main\u001b[0;34m(self, max_time)\u001b[0m\n\u001b[1;32m     51\u001b[0m     rng \u001b[38;5;241m=\u001b[39m \u001b[38;5;28mself\u001b[39m\u001b[38;5;241m.\u001b[39mrngs[i]\n\u001b[1;32m     52\u001b[0m     ancestor_sequence \u001b[38;5;241m=\u001b[39m \u001b[38;5;28mself\u001b[39m\u001b[38;5;241m.\u001b[39mgenerate_ancestor(rng)\n\u001b[0;32m---> 53\u001b[0m     simulation_result \u001b[38;5;241m=\u001b[39m \u001b[38;5;28;43mself\u001b[39;49m\u001b[38;5;241;43m.\u001b[39;49m\u001b[43msimulate_seq\u001b[49m\u001b[43m(\u001b[49m\u001b[43mancestor_sequence\u001b[49m\u001b[43m,\u001b[49m\u001b[43m \u001b[49m\u001b[43mmax_time\u001b[49m\u001b[43m,\u001b[49m\u001b[43m \u001b[49m\u001b[43mrng\u001b[49m\u001b[43m)\u001b[49m\n\u001b[1;32m     55\u001b[0m     results\u001b[38;5;241m.\u001b[39mappend(simulation_result)\n\u001b[1;32m     56\u001b[0m \u001b[38;5;28;01mreturn\u001b[39;00m results\n",
      "File \u001b[0;32m~/repos/PuningAnalysis/src/simulation/WTS_class.py:115\u001b[0m, in \u001b[0;36mSeqSimulate.simulate_seq\u001b[0;34m(self, ancestor_seq, max_time, rng)\u001b[0m\n\u001b[1;32m    113\u001b[0m seq_index, new_base \u001b[38;5;241m=\u001b[39m min_position\n\u001b[1;32m    114\u001b[0m substitution_time \u001b[38;5;241m=\u001b[39m min_time\n\u001b[0;32m--> 115\u001b[0m min_position, min_time \u001b[38;5;241m=\u001b[39m \u001b[38;5;28;43mself\u001b[39;49m\u001b[38;5;241;43m.\u001b[39;49m\u001b[43mupdate_waiting_times\u001b[49m\u001b[43m(\u001b[49m\u001b[43mDNA_seq\u001b[49m\u001b[43m,\u001b[49m\u001b[43m \u001b[49m\u001b[43mmin_position\u001b[49m\u001b[43m,\u001b[49m\u001b[43m \u001b[49m\u001b[43mmin_time\u001b[49m\u001b[43m,\u001b[49m\u001b[43m \u001b[49m\u001b[43mrng\u001b[49m\u001b[43m)\u001b[49m\n\u001b[1;32m    116\u001b[0m DNA_seq[seq_index] \u001b[38;5;241m=\u001b[39m new_base\n\u001b[1;32m    117\u001b[0m history\u001b[38;5;241m.\u001b[39mappend(DNA_seq\u001b[38;5;241m.\u001b[39mcopy())\n",
      "File \u001b[0;32m~/repos/PuningAnalysis/src/simulation/WTS_class.py:103\u001b[0m, in \u001b[0;36mSeqSimulate.update_waiting_times\u001b[0;34m(self, DNA_seq, min_position, min_time, rng)\u001b[0m\n\u001b[1;32m    101\u001b[0m seq_index, new_base \u001b[38;5;241m=\u001b[39m min_position\n\u001b[1;32m    102\u001b[0m DNA_seq[seq_index] \u001b[38;5;241m=\u001b[39m new_base  \u001b[38;5;66;03m# Substitue with new base in DNA sequence\u001b[39;00m\n\u001b[0;32m--> 103\u001b[0m min_position, min_time \u001b[38;5;241m=\u001b[39m \u001b[38;5;28;43mself\u001b[39;49m\u001b[38;5;241;43m.\u001b[39;49m\u001b[43minitialize_waiting_times_vectorized\u001b[49m\u001b[43m(\u001b[49m\u001b[43mDNA_seq\u001b[49m\u001b[43m,\u001b[49m\u001b[43m \u001b[49m\u001b[43mrng\u001b[49m\u001b[43m)\u001b[49m\n\u001b[1;32m    104\u001b[0m \u001b[38;5;28;01mreturn\u001b[39;00m min_position, min_time\n",
      "File \u001b[0;32m~/repos/PuningAnalysis/src/simulation/WTS_class.py:69\u001b[0m, in \u001b[0;36mSeqSimulate.initialize_waiting_times_vectorized\u001b[0;34m(self, DNA_seq, rng)\u001b[0m\n\u001b[1;32m     67\u001b[0m \u001b[38;5;66;03m# Iterate through each possible nucleotide transition\u001b[39;00m\n\u001b[1;32m     68\u001b[0m \u001b[38;5;28;01mfor\u001b[39;00m next_base \u001b[38;5;129;01min\u001b[39;00m \u001b[38;5;28mrange\u001b[39m(\u001b[38;5;241m4\u001b[39m):\n\u001b[0;32m---> 69\u001b[0m     rates \u001b[38;5;241m=\u001b[39m np\u001b[38;5;241m.\u001b[39marray([\u001b[38;5;28mself\u001b[39m\u001b[38;5;241m.\u001b[39mQ[curr_base, next_base] \u001b[38;5;28;01mif\u001b[39;00m curr_base \u001b[38;5;241m!=\u001b[39m next_base \u001b[38;5;28;01melse\u001b[39;00m \u001b[38;5;28mfloat\u001b[39m(\u001b[38;5;124m'\u001b[39m\u001b[38;5;124minf\u001b[39m\u001b[38;5;124m'\u001b[39m) \n\u001b[1;32m     70\u001b[0m                     \u001b[38;5;28;01mfor\u001b[39;00m curr_base \u001b[38;5;129;01min\u001b[39;00m DNA_seq])\n\u001b[1;32m     72\u001b[0m     \u001b[38;5;66;03m# Calculate waiting times where rates are not infinity\u001b[39;00m\n\u001b[1;32m     73\u001b[0m     valid_rates \u001b[38;5;241m=\u001b[39m rates \u001b[38;5;241m!=\u001b[39m \u001b[38;5;28mfloat\u001b[39m(\u001b[38;5;124m'\u001b[39m\u001b[38;5;124minf\u001b[39m\u001b[38;5;124m'\u001b[39m)\n",
      "\u001b[0;31mKeyboardInterrupt\u001b[0m: "
     ]
    }
   ],
   "source": [
    "from simulation.WTS_class import SeqSimulate\n",
    "simulator = SeqSimulate(Q1, 1000, 100, 3, pi)\n",
    "result = simulator.average_substitution(3)\n",
    "result[1]"
   ]
  },
  {
   "cell_type": "code",
   "execution_count": 7,
   "metadata": {},
   "outputs": [
    {
     "ename": "KeyboardInterrupt",
     "evalue": "",
     "output_type": "error",
     "traceback": [
      "\u001b[0;31m---------------------------------------------------------------------------\u001b[0m",
      "\u001b[0;31mKeyboardInterrupt\u001b[0m                         Traceback (most recent call last)",
      "Cell \u001b[0;32mIn[7], line 12\u001b[0m\n\u001b[1;32m     10\u001b[0m \u001b[38;5;28;01mfor\u001b[39;00m time \u001b[38;5;129;01min\u001b[39;00m time_range:\n\u001b[1;32m     11\u001b[0m     simulator \u001b[38;5;241m=\u001b[39m SeqSimulate(Q1, \u001b[38;5;241m2000\u001b[39m, repeat, \u001b[38;5;241m1\u001b[39m, pi)\n\u001b[0;32m---> 12\u001b[0m     result \u001b[38;5;241m=\u001b[39m \u001b[43msimulator\u001b[49m\u001b[38;5;241;43m.\u001b[39;49m\u001b[43maverage_substitution\u001b[49m\u001b[43m(\u001b[49m\u001b[43mtime\u001b[49m\u001b[43m)\u001b[49m\n\u001b[1;32m     13\u001b[0m     ns_per_site1 \u001b[38;5;241m=\u001b[39m result[\u001b[38;5;241m0\u001b[39m]\n\u001b[1;32m     14\u001b[0m     avg_ns_per_site \u001b[38;5;241m=\u001b[39m result[\u001b[38;5;241m1\u001b[39m]\n",
      "File \u001b[0;32m~/repos/PuningAnalysis/src/simulation/WTS_class.py:125\u001b[0m, in \u001b[0;36mSeqSimulate.average_substitution\u001b[0;34m(self, max_time)\u001b[0m\n\u001b[1;32m    123\u001b[0m ns_per_site_list \u001b[38;5;241m=\u001b[39m []\n\u001b[1;32m    124\u001b[0m ns_total_list \u001b[38;5;241m=\u001b[39m []\n\u001b[0;32m--> 125\u001b[0m results \u001b[38;5;241m=\u001b[39m \u001b[38;5;28;43mself\u001b[39;49m\u001b[38;5;241;43m.\u001b[39;49m\u001b[43mmain\u001b[49m\u001b[43m(\u001b[49m\u001b[43mmax_time\u001b[49m\u001b[43m)\u001b[49m\n\u001b[1;32m    126\u001b[0m \u001b[38;5;28;01mfor\u001b[39;00m simulation \u001b[38;5;129;01min\u001b[39;00m results:\n\u001b[1;32m    127\u001b[0m     num_subt \u001b[38;5;241m=\u001b[39m \u001b[38;5;28mlen\u001b[39m(simulation) \u001b[38;5;241m-\u001b[39m \u001b[38;5;241m1\u001b[39m\n",
      "File \u001b[0;32m~/repos/PuningAnalysis/src/simulation/WTS_class.py:53\u001b[0m, in \u001b[0;36mSeqSimulate.main\u001b[0;34m(self, max_time)\u001b[0m\n\u001b[1;32m     51\u001b[0m     rng \u001b[38;5;241m=\u001b[39m \u001b[38;5;28mself\u001b[39m\u001b[38;5;241m.\u001b[39mrngs[i]\n\u001b[1;32m     52\u001b[0m     ancestor_sequence \u001b[38;5;241m=\u001b[39m \u001b[38;5;28mself\u001b[39m\u001b[38;5;241m.\u001b[39mgenerate_ancestor(rng)\n\u001b[0;32m---> 53\u001b[0m     simulation_result \u001b[38;5;241m=\u001b[39m \u001b[38;5;28;43mself\u001b[39;49m\u001b[38;5;241;43m.\u001b[39;49m\u001b[43msimulate_seq\u001b[49m\u001b[43m(\u001b[49m\u001b[43mancestor_sequence\u001b[49m\u001b[43m,\u001b[49m\u001b[43m \u001b[49m\u001b[43mmax_time\u001b[49m\u001b[43m,\u001b[49m\u001b[43m \u001b[49m\u001b[43mrng\u001b[49m\u001b[43m)\u001b[49m\n\u001b[1;32m     55\u001b[0m     results\u001b[38;5;241m.\u001b[39mappend(simulation_result)\n\u001b[1;32m     56\u001b[0m \u001b[38;5;28;01mreturn\u001b[39;00m results\n",
      "File \u001b[0;32m~/repos/PuningAnalysis/src/simulation/WTS_class.py:115\u001b[0m, in \u001b[0;36mSeqSimulate.simulate_seq\u001b[0;34m(self, ancestor_seq, max_time, rng)\u001b[0m\n\u001b[1;32m    113\u001b[0m seq_index, new_base \u001b[38;5;241m=\u001b[39m min_position\n\u001b[1;32m    114\u001b[0m substitution_time \u001b[38;5;241m=\u001b[39m min_time\n\u001b[0;32m--> 115\u001b[0m min_position, min_time \u001b[38;5;241m=\u001b[39m \u001b[38;5;28;43mself\u001b[39;49m\u001b[38;5;241;43m.\u001b[39;49m\u001b[43mupdate_waiting_times\u001b[49m\u001b[43m(\u001b[49m\u001b[43mDNA_seq\u001b[49m\u001b[43m,\u001b[49m\u001b[43m \u001b[49m\u001b[43mmin_position\u001b[49m\u001b[43m,\u001b[49m\u001b[43m \u001b[49m\u001b[43mmin_time\u001b[49m\u001b[43m,\u001b[49m\u001b[43m \u001b[49m\u001b[43mrng\u001b[49m\u001b[43m)\u001b[49m\n\u001b[1;32m    116\u001b[0m DNA_seq[seq_index] \u001b[38;5;241m=\u001b[39m new_base\n\u001b[1;32m    117\u001b[0m history\u001b[38;5;241m.\u001b[39mappend(DNA_seq\u001b[38;5;241m.\u001b[39mcopy())\n",
      "File \u001b[0;32m~/repos/PuningAnalysis/src/simulation/WTS_class.py:103\u001b[0m, in \u001b[0;36mSeqSimulate.update_waiting_times\u001b[0;34m(self, DNA_seq, min_position, min_time, rng)\u001b[0m\n\u001b[1;32m    101\u001b[0m seq_index, new_base \u001b[38;5;241m=\u001b[39m min_position\n\u001b[1;32m    102\u001b[0m DNA_seq[seq_index] \u001b[38;5;241m=\u001b[39m new_base  \u001b[38;5;66;03m# Substitue with new base in DNA sequence\u001b[39;00m\n\u001b[0;32m--> 103\u001b[0m min_position, min_time \u001b[38;5;241m=\u001b[39m \u001b[38;5;28;43mself\u001b[39;49m\u001b[38;5;241;43m.\u001b[39;49m\u001b[43minitialize_waiting_times_vectorized\u001b[49m\u001b[43m(\u001b[49m\u001b[43mDNA_seq\u001b[49m\u001b[43m,\u001b[49m\u001b[43m \u001b[49m\u001b[43mrng\u001b[49m\u001b[43m)\u001b[49m\n\u001b[1;32m    104\u001b[0m \u001b[38;5;28;01mreturn\u001b[39;00m min_position, min_time\n",
      "File \u001b[0;32m~/repos/PuningAnalysis/src/simulation/WTS_class.py:69\u001b[0m, in \u001b[0;36minitialize_waiting_times_vectorized\u001b[0;34m(self, DNA_seq, rng)\u001b[0m\n\u001b[1;32m     67\u001b[0m results \u001b[38;5;241m=\u001b[39m []\n\u001b[1;32m     68\u001b[0m \u001b[38;5;28;01mfor\u001b[39;00m i \u001b[38;5;129;01min\u001b[39;00m \u001b[38;5;28mrange\u001b[39m(\u001b[38;5;28mself\u001b[39m\u001b[38;5;241m.\u001b[39mnum_repeat):\n\u001b[0;32m---> 69\u001b[0m     rng \u001b[38;5;241m=\u001b[39m \u001b[38;5;28mself\u001b[39m\u001b[38;5;241m.\u001b[39mrngs[i]\n\u001b[1;32m     70\u001b[0m     ancestor_sequence \u001b[38;5;241m=\u001b[39m \u001b[38;5;28mself\u001b[39m\u001b[38;5;241m.\u001b[39mgenerate_ancestor(rng)\n\u001b[1;32m     71\u001b[0m     simulation_result \u001b[38;5;241m=\u001b[39m \u001b[38;5;28mself\u001b[39m\u001b[38;5;241m.\u001b[39msimulate_seq(ancestor_sequence, max_time, rng)\n",
      "\u001b[0;31mKeyboardInterrupt\u001b[0m: "
     ]
    }
   ],
   "source": [
    "from scipy import stats\n",
    "repeats = [10, 50, 100, 200, 300, 500]\n",
    "time_range = [0.5, 1, 2, 3, 4]\n",
    "p_value_repeats = []\n",
    "p_value_times = []\n",
    "avg_ns_per_site_list = []\n",
    "ns_per_site_list = []\n",
    "repeat = 200\n",
    "\n",
    "for time in time_range:\n",
    "    simulator = SeqSimulate(Q1, 2000, repeat, 1, pi)\n",
    "    result = simulator.average_substitution(time)\n",
    "    ns_per_site1 = result[0]\n",
    "    avg_ns_per_site = result[1]\n",
    "    ns_per_site_list.append(ns_per_site1) \n",
    "    avg_ns_per_site_list.append(avg_ns_per_site)\n",
    "    theoretical = expected_number_subs(pi, Q1, time)\n",
    "    t_stat, p_value = stats.ttest_1samp(ns_per_site1, theoretical)\n",
    "    p_value_times.append(p_value)\n",
    "\n",
    "    "
   ]
  },
  {
   "cell_type": "code",
   "execution_count": null,
   "metadata": {},
   "outputs": [
    {
     "data": {
      "text/plain": [
       "[]"
      ]
     },
     "execution_count": 64,
     "metadata": {},
     "output_type": "execute_result"
    }
   ],
   "source": [
    "p_value_times"
   ]
  },
  {
   "cell_type": "code",
   "execution_count": null,
   "metadata": {},
   "outputs": [],
   "source": [
    "[0.9302196085652216,\n",
    " 0.07717452701048522,\n",
    " 0.5006176654234513,\n",
    " 0.603339376254266,\n",
    " 0.8039563687641299,\n",
    " 0.8353028901063684]"
   ]
  },
  {
   "cell_type": "code",
   "execution_count": null,
   "metadata": {},
   "outputs": [],
   "source": [
    "from scipy import stats\n",
    "import statistics\n",
    "time_range = [0.5, 1, 2, 3, 4]\n",
    "repeats = [10, 50, 100, 200, 300, 500]\n",
    "p_value_repeats = []\n",
    "avg_ns_per_site_list = []\n",
    "for repeat in repeats:\n",
    "    simulator = SeqSimulate(Q1, 2000, repeat, 1, pi)\n",
    "    result = simulator.average_substitution(1)\n",
    "    ns_per_site_list = result[0]\n",
    "    avg_ns_per_site = result[1]\n",
    "    avg_ns_per_site_list.append(avg_ns_per_site)\n",
    "    theoretical = expected_number_subs(pi, Q1, 1)\n",
    "    t_stat, p_value = stats.ttest_1samp(ns_per_site_list, theoretical)\n",
    "    p_value_repeats.append(p_value)"
   ]
  }
 ],
 "metadata": {
  "kernelspec": {
   "display_name": "c311",
   "language": "python",
   "name": "python3"
  },
  "language_info": {
   "codemirror_mode": {
    "name": "ipython",
    "version": 3
   },
   "file_extension": ".py",
   "mimetype": "text/x-python",
   "name": "python",
   "nbconvert_exporter": "python",
   "pygments_lexer": "ipython3",
   "version": "3.12.1"
  }
 },
 "nbformat": 4,
 "nbformat_minor": 2
}
