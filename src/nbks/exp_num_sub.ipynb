{
 "cells": [
  {
   "cell_type": "code",
   "execution_count": 125,
   "metadata": {},
   "outputs": [],
   "source": [
    "from cogent3.maths.matrix_exponential_integration import expected_number_subs\n",
    "from cogent3 import get_app, load_aligned_seqs\n",
    "import numpy as np\n",
    "\n",
    "from numpy import array\n",
    "\n",
    "GN_model = get_app(\"model\", sm = \"GN\", \n",
    "                unique_trees = True, time_het = \"max\", optimise_motif_probs = True, \n",
    "                show_progress = False, opt_args = dict(max_restarts=5))\n",
    "\n",
    "no_degenerates = get_app(\n",
    "    \"omit_degenerates\",\n",
    "    moltype = 'dna',\n",
    "    gap_is_degen = True,\n",
    "    motif_length = 1,\n",
    ")\n",
    "\n"
   ]
  },
  {
   "cell_type": "code",
   "execution_count": 100,
   "metadata": {},
   "outputs": [
    {
     "data": {
      "text/plain": [
       "cogent3.app.evo.model"
      ]
     },
     "execution_count": 100,
     "metadata": {},
     "output_type": "execute_result"
    }
   ],
   "source": [
    "type(GN_model)"
   ]
  },
  {
   "cell_type": "code",
   "execution_count": 44,
   "metadata": {},
   "outputs": [],
   "source": [
    "import pathlib\n",
    "paths = list(pathlib.Path(\"../data/16s-10\").glob(\"**/*.json\"))"
   ]
  },
  {
   "cell_type": "code",
   "execution_count": 116,
   "metadata": {},
   "outputs": [],
   "source": [
    "path = paths[0]\n",
    "aln = load_aligned_seqs(path)\n",
    "aln1 = no_degenerates(aln)\n",
    "result = GN_model(aln1)\n"
   ]
  },
  {
   "cell_type": "code",
   "execution_count": 121,
   "metadata": {},
   "outputs": [
    {
     "data": {
      "text/html": [
       "\n",
       "<div class=\"c3table\">\n",
       "\n",
       "<style>\n",
       ".c3table table {margin: 10px 0;}\n",
       ".c3table tr:last-child {border-bottom: 1px solid #000;} \n",
       ".c3table tr > th {text-align: left; padding: 0 5px;}\n",
       ".c3table tr > td {text-align: left; padding: 5px;}\n",
       ".c3table tr:nth-child(even) {background: #f7f7f7 !important;}\n",
       ".c3table .ellipsis {background: rgba(0, 0, 0, .01);}\n",
       ".c3table .index {background: rgba(161, 195, 209, 0.0); margin: 10px; font-weight: 600;}\n",
       ".c3table .head_cell {background: rgba(161, 195, 209, 0.75); font-weight: bold; text-align: center;}\n",
       ".c3table caption {color: rgb(250, 250, 250); background: rgba(30, 140, 200, 1); padding: 3px; white-space: nowrap; caption-side: top;}\n",
       ".c3table .cell_title {font-weight: bold;}\n",
       ".c3col_left { text-align: left !important; display: block;}\n",
       ".c3col_right { text-align: right !important; display: block;}\n",
       ".c3col_center { text-align: center !important; display: block;}\n",
       "</style>\n",
       "\n",
       "<table>\n",
       "\n",
       "<thead class=\"head_cell\">\n",
       "<th>T</th><th>C</th><th>A</th><th>G</th>\n",
       "</thead>\n",
       "<tbody>\n",
       "<tr><td><span class=\"c3col_right\">0.2017</span></td><td><span class=\"c3col_right\">0.2469</span></td><td><span class=\"c3col_right\">0.2197</span></td><td><span class=\"c3col_right\">0.3316</span></td></tr>\n",
       "</tbody>\n",
       "</table>\n",
       "\n",
       "</div>"
      ],
      "text/plain": [
       "====================================\n",
       "     T         C         A         G\n",
       "------------------------------------\n",
       "0.2017    0.2469    0.2197    0.3316\n",
       "------------------------------------"
      ]
     },
     "execution_count": 121,
     "metadata": {},
     "output_type": "execute_result"
    }
   ],
   "source": [
    "result.lf.get_motif_probs()"
   ]
  },
  {
   "cell_type": "code",
   "execution_count": 101,
   "metadata": {},
   "outputs": [],
   "source": [
    "def get_matrix_pi(path):\n",
    "    aln = load_aligned_seqs(path)\n",
    "    aln1 = no_degenerates(aln)\n",
    "    result = GN_model(aln1)\n",
    "    edge_name = result.tree.get_node_names(includeself = False)[1]\n",
    "    Q = result.lf.get_rate_matrix_for_edge(edge_name, calibrated=True)\n",
    "    pi = result.lf.get_motif_probs()\n",
    "    return Q, pi\n"
   ]
  },
  {
   "cell_type": "code",
   "execution_count": 102,
   "metadata": {},
   "outputs": [],
   "source": [
    "Q1, pi1 = get_matrix_pi(paths[0])\n",
    "Q2, pi2 = get_matrix_pi(paths[1])\n",
    "\n",
    "Q1 = np.array(Q1)\n",
    "Q2 = np.array(Q2)"
   ]
  },
  {
   "cell_type": "code",
   "execution_count": 103,
   "metadata": {},
   "outputs": [],
   "source": [
    "import math\n",
    "#stationary process \n",
    "def calculate_stationary_distribution(Q):\n",
    "    \"\"\"\n",
    "    Calculate the stationary distribution pi for a given substitution rate matrix Q.\n",
    "\n",
    "    Parameters:\n",
    "    Q (numpy.ndarray): The substitution rate matrix.\n",
    "\n",
    "    Returns:\n",
    "    numpy.ndarray: The stationary distribution pi.\n",
    "    \"\"\"\n",
    "    # Add an additional equation to account for the sum of pi elements being 1\n",
    "    A = np.vstack([Q.T, np.ones(Q.shape[0])])\n",
    "\n",
    "    b = np.zeros(Q.shape[0] + 1)\n",
    "    b[-1] = 1\n",
    "\n",
    "    # Solve for pi\n",
    "    pi = np.linalg.lstsq(A, b, rcond=None)[0]\n",
    "\n",
    "    return pi\n",
    "\n",
    "\n",
    "def calculate_stationary_rate(Q):\n",
    "    \"\"\"\n",
    "    Calculate the stationary evolution rate mu_stationary for a given substitution rate matrix Q.\n",
    "\n",
    "    Parameters:\n",
    "    Q (numpy.ndarray): The substitution rate matrix.\n",
    "\n",
    "    Returns:\n",
    "    float: The stationary evolution rate mu_stationary.\n",
    "    \"\"\"\n",
    "    # Get the stationary disitrbution of Q\n",
    "    pi_stationary = calculate_stationary_distribution(Q)\n",
    "\n",
    "    # Calculate stationary evolution rate using the formula mu = - sum_i(pi*Qii)\n",
    "    mu_stationary = - np.sum(pi_stationary*np.diagonal(Q))\n",
    "    return mu_stationary"
   ]
  },
  {
   "cell_type": "code",
   "execution_count": 122,
   "metadata": {},
   "outputs": [
    {
     "data": {
      "text/plain": [
       "0.1585570958504568"
      ]
     },
     "execution_count": 122,
     "metadata": {},
     "output_type": "execute_result"
    }
   ],
   "source": [
    "calculate_stationary_rate(Q2)"
   ]
  },
  {
   "cell_type": "code",
   "execution_count": 123,
   "metadata": {},
   "outputs": [],
   "source": [
    "def matrix_calibration(Q):\n",
    "    Q_c = Q/ (- math.fsum(calculate_stationary_distribution(Q)*np.diagonal(Q)))\n",
    "    return Q_c"
   ]
  },
  {
   "cell_type": "code",
   "execution_count": 124,
   "metadata": {},
   "outputs": [
    {
     "data": {
      "text/plain": [
       "0.9999999999999964"
      ]
     },
     "execution_count": 124,
     "metadata": {},
     "output_type": "execute_result"
    }
   ],
   "source": [
    "Q2c = matrix_calibration(Q2)\n",
    "calculate_stationary_rate(Q2c)"
   ]
  },
  {
   "cell_type": "code",
   "execution_count": null,
   "metadata": {},
   "outputs": [],
   "source": []
  },
  {
   "cell_type": "code",
   "execution_count": null,
   "metadata": {},
   "outputs": [],
   "source": []
  },
  {
   "cell_type": "code",
   "execution_count": null,
   "metadata": {},
   "outputs": [],
   "source": []
  },
  {
   "cell_type": "code",
   "execution_count": null,
   "metadata": {},
   "outputs": [],
   "source": []
  },
  {
   "cell_type": "code",
   "execution_count": null,
   "metadata": {},
   "outputs": [],
   "source": []
  },
  {
   "cell_type": "code",
   "execution_count": null,
   "metadata": {},
   "outputs": [],
   "source": []
  },
  {
   "cell_type": "code",
   "execution_count": null,
   "metadata": {},
   "outputs": [],
   "source": []
  },
  {
   "cell_type": "code",
   "execution_count": 107,
   "metadata": {},
   "outputs": [],
   "source": [
    "# R = np.array([\n",
    "#     [-4.5,  2.0,  1.0,  1.5],\n",
    "#     [ 2.0, -4.5,  1.5,  1.0],\n",
    "#     [ 1.0,  1.5, -4.5,  2.0],\n",
    "#     [ 1.5,  1.0,  2.0, -4.5]\n",
    "# ])\n",
    "\n",
    "R2 = np.array([\n",
    "    [-4.5,  2.0,  1.0,  1.5],\n",
    "    [ 2.0, -3.5,  0.5,  1.0],\n",
    "    [ 1.0,  0.5, -2.5,  1.0],\n",
    "    [ 0.5,  1.0,  1.0, -2.5]\n",
    "])\n",
    "\n",
    "\n",
    "Q = array([[-1.4, 0.1, 0.4, 0.9], \n",
    "           [4.0, -6.9, 0.9, 2.0], \n",
    "           [6.3, 2.0, -11.3, 3.0], \n",
    "           [0.7,0.1, 0.2, -1]], dtype=float)\n",
    "i = np.array([0.25, 0.25, 0.25, 0.25])\n",
    "\n",
    "test_nst_array1 = np.array([0.05, 0.35, 0.35, 0.25])\n",
    "\n",
    "\n",
    "Q_2 = np.array([[-0.0935, 0.0148, 0.0558, 0.0229], \n",
    "           [0.0469, -0.0676, 0.0108, 0.0099], \n",
    "           [0.00, 0.0058, -0.0319, 0.0261], \n",
    "           [0.00,0.0132, 0.0370, -0.0501]], dtype=float)\n",
    "\n",
    "Q3= np.array([\n",
    "    [-4.5,  2.0,  1.0,  1.5],\n",
    "    [ 2.0, -3.5,  0.5,  1.0],\n",
    "    [ 1.0,  0.5, -2.5,  1.0],\n",
    "    [ 0.0,  1.0,  2.0, -3.0]\n",
    "])"
   ]
  },
  {
   "cell_type": "code",
   "execution_count": 108,
   "metadata": {},
   "outputs": [
    {
     "name": "stdout",
     "output_type": "stream",
     "text": [
      "Stationary distribution pi: [0.16834885 0.01212364 0.81174323 0.00778429]\n"
     ]
    }
   ],
   "source": [
    "# Add an additional equation to account for the sum of pi elements being 1\n",
    "A = np.vstack([Q2.T, np.ones(Q2.shape[0])])\n",
    "\n",
    "# Right-hand side of the equations\n",
    "b = np.zeros(Q2.shape[0] + 1)\n",
    "b[-1] = 1  # The sum of pi elements is 1\n",
    "\n",
    "# Solve for pi\n",
    "pi = np.linalg.lstsq(A, b, rcond=None)[0]\n",
    "\n",
    "print(\"Stationary distribution pi:\", pi)\n",
    "\n",
    "\n"
   ]
  },
  {
   "cell_type": "code",
   "execution_count": 109,
   "metadata": {},
   "outputs": [
    {
     "name": "stdout",
     "output_type": "stream",
     "text": [
      "Best p: [0.97 0.01 0.01 0.01]\n",
      "Largest d: 5.050499975249976\n"
     ]
    }
   ],
   "source": [
    "# Function to calculate d\n",
    "def calculate_d(p, R):\n",
    "    return np.linalg.norm(np.dot(p, R))\n",
    "\n",
    "# Settings for grid search\n",
    "resolution = 10\n",
    "min_val = 0.01  # Minimum value for each element in p to avoid extreme cases\n",
    "largest_d = -np.inf\n",
    "best_p = None\n",
    "\n",
    "# Adjusted search to ensure all elements are non-zero and sum to 1\n",
    "for a in np.linspace(min_val, 1 - 3*min_val, resolution):\n",
    "    for b in np.linspace(min_val, 1 - 2*min_val - a, resolution):\n",
    "        for c in np.linspace(min_val, 1 - min_val - a - b, resolution):\n",
    "            d = 1 - (a + b + c)  # Remaining value to ensure sum(p) = 1\n",
    "            if d >= min_val:  # Check if the last value is also above the minimum\n",
    "                p = np.array([a, b, c, d])\n",
    "                current_d = calculate_d(p, Q3)\n",
    "                if current_d > largest_d:\n",
    "                    largest_d = current_d\n",
    "                    best_p = p\n",
    "\n",
    "print(\"Best p:\", best_p)\n",
    "print(\"Largest d:\", largest_d)"
   ]
  },
  {
   "cell_type": "code",
   "execution_count": 110,
   "metadata": {},
   "outputs": [],
   "source": [
    "t_range =  np.linspace(0, 2, 100)\n",
    "s_exp_numb_sub_value_1 = list()\n",
    "n_exp_numb_sub_value_1 = list()\n",
    "\n",
    "for t in t_range:\n",
    "    s_exp_numb_sub_value_1.append(expected_number_subs(test_nst_array1, Q, t))\n",
    "\n",
    "\n",
    "for t in t_range:\n",
    "    n_exp_numb_sub_value_1.append(expected_number_subs(test_nst_array1, Q2, t))\n",
    "\n"
   ]
  },
  {
   "cell_type": "code",
   "execution_count": 111,
   "metadata": {},
   "outputs": [
    {
     "name": "stderr",
     "output_type": "stream",
     "text": [
      "/Users/gulugulu/opt/anaconda3/envs/c312/lib/python3.12/site-packages/plotly/express/_core.py:2065: FutureWarning: When grouping with a length-1 list-like, you will need to pass a length-1 tuple to get_group in a future version of pandas. Pass `(name,)` instead of `name` to silence this warning.\n",
      "  sf: grouped.get_group(s if len(s) > 1 else s[0])\n"
     ]
    },
    {
     "data": {
      "application/vnd.plotly.v1+json": {
       "config": {
        "plotlyServerURL": "https://plot.ly"
       },
       "data": [
        {
         "hovertemplate": "series=Stationary<br>t=%{x}<br>ENS=%{y}<extra></extra>",
         "legendgroup": "Stationary",
         "line": {
          "color": "#636efa",
          "dash": "solid",
          "width": 5
         },
         "marker": {
          "symbol": "circle"
         },
         "mode": "lines",
         "name": "Stationary",
         "orientation": "v",
         "showlegend": true,
         "type": "scatter",
         "x": [
          0,
          0.020202020202020204,
          0.04040404040404041,
          0.06060606060606061,
          0.08080808080808081,
          0.10101010101010102,
          0.12121212121212122,
          0.14141414141414144,
          0.16161616161616163,
          0.18181818181818182,
          0.20202020202020204,
          0.22222222222222224,
          0.24242424242424243,
          0.26262626262626265,
          0.2828282828282829,
          0.30303030303030304,
          0.32323232323232326,
          0.3434343434343435,
          0.36363636363636365,
          0.38383838383838387,
          0.4040404040404041,
          0.42424242424242425,
          0.4444444444444445,
          0.4646464646464647,
          0.48484848484848486,
          0.5050505050505051,
          0.5252525252525253,
          0.5454545454545455,
          0.5656565656565657,
          0.5858585858585859,
          0.6060606060606061,
          0.6262626262626263,
          0.6464646464646465,
          0.6666666666666667,
          0.686868686868687,
          0.7070707070707072,
          0.7272727272727273,
          0.7474747474747475,
          0.7676767676767677,
          0.787878787878788,
          0.8080808080808082,
          0.8282828282828284,
          0.8484848484848485,
          0.8686868686868687,
          0.888888888888889,
          0.9090909090909092,
          0.9292929292929294,
          0.9494949494949496,
          0.9696969696969697,
          0.98989898989899,
          1.0101010101010102,
          1.0303030303030305,
          1.0505050505050506,
          1.0707070707070707,
          1.090909090909091,
          1.1111111111111112,
          1.1313131313131315,
          1.1515151515151516,
          1.1717171717171717,
          1.191919191919192,
          1.2121212121212122,
          1.2323232323232325,
          1.2525252525252526,
          1.272727272727273,
          1.292929292929293,
          1.3131313131313131,
          1.3333333333333335,
          1.3535353535353536,
          1.373737373737374,
          1.393939393939394,
          1.4141414141414144,
          1.4343434343434345,
          1.4545454545454546,
          1.474747474747475,
          1.494949494949495,
          1.5151515151515154,
          1.5353535353535355,
          1.5555555555555556,
          1.575757575757576,
          1.595959595959596,
          1.6161616161616164,
          1.6363636363636365,
          1.6565656565656568,
          1.676767676767677,
          1.696969696969697,
          1.7171717171717173,
          1.7373737373737375,
          1.7575757575757578,
          1.777777777777778,
          1.7979797979797982,
          1.8181818181818183,
          1.8383838383838385,
          1.8585858585858588,
          1.878787878787879,
          1.8989898989898992,
          1.9191919191919193,
          1.9393939393939394,
          1.9595959595959598,
          1.97979797979798,
          2
         ],
         "xaxis": "x",
         "y": [
          0,
          0.12648963265519816,
          0.23770714531032996,
          0.3362976023747954,
          0.4244197019738122,
          0.5038395466757625,
          0.5760056958712523,
          0.6421093266772147,
          0.7031325355070706,
          0.7598871844070575,
          0.8130461997299809,
          0.863168837974045,
          0.9107211227995485,
          0.9560924111175915,
          0.9996088511333171,
          1.0415443406027138,
          1.0821294708699347,
          1.1215588448175573,
          1.1599970794167538,
          1.1975837419475819,
          1.2344374198850314,
          1.2706590853167121,
          1.3063348835197526,
          1.3415384503531627,
          1.3763328431321575,
          1.4107721536246849,
          1.444902858941009,
          1.4787649557350868,
          1.5123929147940243,
          1.5458164863560349,
          1.579061381047637,
          1.6121498469123223,
          1.6451011594125595,
          1.6779320383628287,
          1.710657003364086,
          1.7432886773563365,
          1.7758380463030143,
          1.808314681702344,
          1.8407269315334671,
          1.8730820843459928,
          1.9053865104562329,
          1.9376457835937688,
          1.9698647858256586,
          2.002047798154138,
          2.034198578822277,
          2.06632043105858,
          2.0984162617360704,
          2.130488632205862,
          2.1625398023829714,
          2.194571769007667,
          2.226586298874496,
          2.2585849577095245,
          2.2905691352811934,
          2.3225400672489567,
          2.3544988541843717,
          2.386446478139786,
          2.418383817088686,
          2.4503116575178963,
          2.4822307054140778,
          2.5141415958544555,
          2.5460449013837008,
          2.5779411393346976,
          2.6098307782300276,
          2.641714243382971,
          2.67359192180116,
          2.7054641664825265,
          2.7373313001814394,
          2.769193618712776,
          2.801051393852859,
          2.8329048758885254,
          2.8647542958589773,
          2.8965998675292592,
          2.928441789129239,
          2.9602802448875503,
          2.9921154063862323,
          3.0239474337584484,
          3.055776476748826,
          3.087602675653458,
          3.1194261621544244,
          3.151247060061813,
          3.183065485974555,
          3.2148815498699665,
          3.246695355630627,
          3.2785070015161404,
          3.3103165805863752,
          3.3421241810819415,
          3.3739298867669487,
          3.4057337772384617,
          3.4375359282065014,
          3.4693364117479923,
          3.501135296537593,
          3.5329326480580363,
          3.5647285287922275,
          3.596522998399122,
          3.6283161138751323,
          3.6601079297025927,
          3.6918984979866694,
          3.723687868581878,
          3.755476089209284,
          3.7872632055653055
         ],
         "yaxis": "y"
        },
        {
         "hovertemplate": "series=Non-Stationary<br>t=%{x}<br>ENS=%{y}<extra></extra>",
         "legendgroup": "Non-Stationary",
         "line": {
          "color": "#EF553B",
          "dash": "solid",
          "width": 5
         },
         "marker": {
          "symbol": "circle"
         },
         "mode": "lines",
         "name": "Non-Stationary",
         "orientation": "v",
         "showlegend": true,
         "type": "scatter",
         "x": [
          0,
          0.020202020202020204,
          0.04040404040404041,
          0.06060606060606061,
          0.08080808080808081,
          0.10101010101010102,
          0.12121212121212122,
          0.14141414141414144,
          0.16161616161616163,
          0.18181818181818182,
          0.20202020202020204,
          0.22222222222222224,
          0.24242424242424243,
          0.26262626262626265,
          0.2828282828282829,
          0.30303030303030304,
          0.32323232323232326,
          0.3434343434343435,
          0.36363636363636365,
          0.38383838383838387,
          0.4040404040404041,
          0.42424242424242425,
          0.4444444444444445,
          0.4646464646464647,
          0.48484848484848486,
          0.5050505050505051,
          0.5252525252525253,
          0.5454545454545455,
          0.5656565656565657,
          0.5858585858585859,
          0.6060606060606061,
          0.6262626262626263,
          0.6464646464646465,
          0.6666666666666667,
          0.686868686868687,
          0.7070707070707072,
          0.7272727272727273,
          0.7474747474747475,
          0.7676767676767677,
          0.787878787878788,
          0.8080808080808082,
          0.8282828282828284,
          0.8484848484848485,
          0.8686868686868687,
          0.888888888888889,
          0.9090909090909092,
          0.9292929292929294,
          0.9494949494949496,
          0.9696969696969697,
          0.98989898989899,
          1.0101010101010102,
          1.0303030303030305,
          1.0505050505050506,
          1.0707070707070707,
          1.090909090909091,
          1.1111111111111112,
          1.1313131313131315,
          1.1515151515151516,
          1.1717171717171717,
          1.191919191919192,
          1.2121212121212122,
          1.2323232323232325,
          1.2525252525252526,
          1.272727272727273,
          1.292929292929293,
          1.3131313131313131,
          1.3333333333333335,
          1.3535353535353536,
          1.373737373737374,
          1.393939393939394,
          1.4141414141414144,
          1.4343434343434345,
          1.4545454545454546,
          1.474747474747475,
          1.494949494949495,
          1.5151515151515154,
          1.5353535353535355,
          1.5555555555555556,
          1.575757575757576,
          1.595959595959596,
          1.6161616161616164,
          1.6363636363636365,
          1.6565656565656568,
          1.676767676767677,
          1.696969696969697,
          1.7171717171717173,
          1.7373737373737375,
          1.7575757575757578,
          1.777777777777778,
          1.7979797979797982,
          1.8181818181818183,
          1.8383838383838385,
          1.8585858585858588,
          1.878787878787879,
          1.8989898989898992,
          1.9191919191919193,
          1.9393939393939394,
          1.9595959595959598,
          1.97979797979798,
          2
         ],
         "xaxis": "x",
         "y": [
          0,
          0.019444979729232304,
          0.038511583591501884,
          0.05721008719167578,
          0.07555046525965804,
          0.09354240090647972,
          0.11119529458375808,
          0.12851827275637634,
          0.14552019629789725,
          0.16220966861789904,
          0.17859504353010655,
          0.1946844328698914,
          0.21048571386941844,
          0.22600653629843542,
          0.24125432937843178,
          0.25623630847762796,
          0.2709594815940038,
          0.2854306556333294,
          0.29965644248892676,
          0.3136432649296614,
          0.3273973623024433,
          0.340924796055305,
          0.35423145508691817,
          0.36732306092821376,
          0.38020517276157817,
          0.3928831922829153,
          0.4053623684116838,
          0.41764780185384986,
          0.42974444952252794,
          0.4416571288209215,
          0.45339052179202466,
          0.46494917913938866,
          0.47633752412312313,
          0.4875598563351543,
          0.4986203553576313,
          0.5095230843082439,
          0.5202719932760848,
          0.530870922651573,
          0.541323606353836,
          0.5516336749588344,
          0.5618046587314082,
          0.5718399905643099,
          0.5817430088272006,
          0.5915169601284734,
          0.6011650019926835,
          0.610690205456269,
          0.6200955575841555,
          0.6293839639097597,
          0.6385582508008156,
          0.6476211677533701,
          0.6565753896162243,
          0.6654235187480108,
          0.6741680871090349,
          0.6828115582899333,
          0.6913563294791388,
          0.6998047333710711,
          0.7081590400169168,
          0.7164214586197974,
          0.7245941392760646,
          0.7326791746644078,
          0.7406786016844048,
          0.74859440304609,
          0.7564285088120692,
          0.7641827978936518,
          0.771859099502436,
          0.779459194558723,
          0.786984817058102,
          0.7944376553975001,
          0.8018193536619488,
          0.8091315128732809,
          0.8163756922019332,
          0.8235534101429882,
          0.8306661456575581,
          0.8377153392805723,
          0.8447023941960017,
          0.8516286772805197,
          0.8584955201165578,
          0.8653042199757018,
          0.8720560407733264,
          0.878752213995347,
          0.8853939395979404,
          0.8919823868810534,
          0.898518695336495,
          0.9050039754713877,
          0.9114393096077191,
          0.9178257526587194,
          0.9241643328827659,
          0.9304560526154926,
          0.9367018889807572,
          0.9429027945811126,
          0.9490596981683859,
          0.9551735052949741,
          0.9612450989464247,
          0.9672753401558734,
          0.9732650686008684,
          0.9792151031831184,
          0.985126242591669,
          0.9909992658500011,
          0.9968349328475322,
          1.0026339848559829
         ],
         "yaxis": "y"
        }
       ],
       "layout": {
        "font": {
         "size": 25
        },
        "height": 600,
        "legend": {
         "orientation": "h",
         "title": {
          "font": {
           "size": 18
          },
          "text": ""
         },
         "tracegroupgap": 0,
         "x": 0.5,
         "xanchor": "center",
         "y": -0.25,
         "yanchor": "bottom"
        },
        "margin": {
         "t": 60
        },
        "template": {
         "data": {
          "bar": [
           {
            "error_x": {
             "color": "#2a3f5f"
            },
            "error_y": {
             "color": "#2a3f5f"
            },
            "marker": {
             "line": {
              "color": "#E5ECF6",
              "width": 0.5
             },
             "pattern": {
              "fillmode": "overlay",
              "size": 10,
              "solidity": 0.2
             }
            },
            "type": "bar"
           }
          ],
          "barpolar": [
           {
            "marker": {
             "line": {
              "color": "#E5ECF6",
              "width": 0.5
             },
             "pattern": {
              "fillmode": "overlay",
              "size": 10,
              "solidity": 0.2
             }
            },
            "type": "barpolar"
           }
          ],
          "carpet": [
           {
            "aaxis": {
             "endlinecolor": "#2a3f5f",
             "gridcolor": "white",
             "linecolor": "white",
             "minorgridcolor": "white",
             "startlinecolor": "#2a3f5f"
            },
            "baxis": {
             "endlinecolor": "#2a3f5f",
             "gridcolor": "white",
             "linecolor": "white",
             "minorgridcolor": "white",
             "startlinecolor": "#2a3f5f"
            },
            "type": "carpet"
           }
          ],
          "choropleth": [
           {
            "colorbar": {
             "outlinewidth": 0,
             "ticks": ""
            },
            "type": "choropleth"
           }
          ],
          "contour": [
           {
            "colorbar": {
             "outlinewidth": 0,
             "ticks": ""
            },
            "colorscale": [
             [
              0,
              "#0d0887"
             ],
             [
              0.1111111111111111,
              "#46039f"
             ],
             [
              0.2222222222222222,
              "#7201a8"
             ],
             [
              0.3333333333333333,
              "#9c179e"
             ],
             [
              0.4444444444444444,
              "#bd3786"
             ],
             [
              0.5555555555555556,
              "#d8576b"
             ],
             [
              0.6666666666666666,
              "#ed7953"
             ],
             [
              0.7777777777777778,
              "#fb9f3a"
             ],
             [
              0.8888888888888888,
              "#fdca26"
             ],
             [
              1,
              "#f0f921"
             ]
            ],
            "type": "contour"
           }
          ],
          "contourcarpet": [
           {
            "colorbar": {
             "outlinewidth": 0,
             "ticks": ""
            },
            "type": "contourcarpet"
           }
          ],
          "heatmap": [
           {
            "colorbar": {
             "outlinewidth": 0,
             "ticks": ""
            },
            "colorscale": [
             [
              0,
              "#0d0887"
             ],
             [
              0.1111111111111111,
              "#46039f"
             ],
             [
              0.2222222222222222,
              "#7201a8"
             ],
             [
              0.3333333333333333,
              "#9c179e"
             ],
             [
              0.4444444444444444,
              "#bd3786"
             ],
             [
              0.5555555555555556,
              "#d8576b"
             ],
             [
              0.6666666666666666,
              "#ed7953"
             ],
             [
              0.7777777777777778,
              "#fb9f3a"
             ],
             [
              0.8888888888888888,
              "#fdca26"
             ],
             [
              1,
              "#f0f921"
             ]
            ],
            "type": "heatmap"
           }
          ],
          "heatmapgl": [
           {
            "colorbar": {
             "outlinewidth": 0,
             "ticks": ""
            },
            "colorscale": [
             [
              0,
              "#0d0887"
             ],
             [
              0.1111111111111111,
              "#46039f"
             ],
             [
              0.2222222222222222,
              "#7201a8"
             ],
             [
              0.3333333333333333,
              "#9c179e"
             ],
             [
              0.4444444444444444,
              "#bd3786"
             ],
             [
              0.5555555555555556,
              "#d8576b"
             ],
             [
              0.6666666666666666,
              "#ed7953"
             ],
             [
              0.7777777777777778,
              "#fb9f3a"
             ],
             [
              0.8888888888888888,
              "#fdca26"
             ],
             [
              1,
              "#f0f921"
             ]
            ],
            "type": "heatmapgl"
           }
          ],
          "histogram": [
           {
            "marker": {
             "pattern": {
              "fillmode": "overlay",
              "size": 10,
              "solidity": 0.2
             }
            },
            "type": "histogram"
           }
          ],
          "histogram2d": [
           {
            "colorbar": {
             "outlinewidth": 0,
             "ticks": ""
            },
            "colorscale": [
             [
              0,
              "#0d0887"
             ],
             [
              0.1111111111111111,
              "#46039f"
             ],
             [
              0.2222222222222222,
              "#7201a8"
             ],
             [
              0.3333333333333333,
              "#9c179e"
             ],
             [
              0.4444444444444444,
              "#bd3786"
             ],
             [
              0.5555555555555556,
              "#d8576b"
             ],
             [
              0.6666666666666666,
              "#ed7953"
             ],
             [
              0.7777777777777778,
              "#fb9f3a"
             ],
             [
              0.8888888888888888,
              "#fdca26"
             ],
             [
              1,
              "#f0f921"
             ]
            ],
            "type": "histogram2d"
           }
          ],
          "histogram2dcontour": [
           {
            "colorbar": {
             "outlinewidth": 0,
             "ticks": ""
            },
            "colorscale": [
             [
              0,
              "#0d0887"
             ],
             [
              0.1111111111111111,
              "#46039f"
             ],
             [
              0.2222222222222222,
              "#7201a8"
             ],
             [
              0.3333333333333333,
              "#9c179e"
             ],
             [
              0.4444444444444444,
              "#bd3786"
             ],
             [
              0.5555555555555556,
              "#d8576b"
             ],
             [
              0.6666666666666666,
              "#ed7953"
             ],
             [
              0.7777777777777778,
              "#fb9f3a"
             ],
             [
              0.8888888888888888,
              "#fdca26"
             ],
             [
              1,
              "#f0f921"
             ]
            ],
            "type": "histogram2dcontour"
           }
          ],
          "mesh3d": [
           {
            "colorbar": {
             "outlinewidth": 0,
             "ticks": ""
            },
            "type": "mesh3d"
           }
          ],
          "parcoords": [
           {
            "line": {
             "colorbar": {
              "outlinewidth": 0,
              "ticks": ""
             }
            },
            "type": "parcoords"
           }
          ],
          "pie": [
           {
            "automargin": true,
            "type": "pie"
           }
          ],
          "scatter": [
           {
            "fillpattern": {
             "fillmode": "overlay",
             "size": 10,
             "solidity": 0.2
            },
            "type": "scatter"
           }
          ],
          "scatter3d": [
           {
            "line": {
             "colorbar": {
              "outlinewidth": 0,
              "ticks": ""
             }
            },
            "marker": {
             "colorbar": {
              "outlinewidth": 0,
              "ticks": ""
             }
            },
            "type": "scatter3d"
           }
          ],
          "scattercarpet": [
           {
            "marker": {
             "colorbar": {
              "outlinewidth": 0,
              "ticks": ""
             }
            },
            "type": "scattercarpet"
           }
          ],
          "scattergeo": [
           {
            "marker": {
             "colorbar": {
              "outlinewidth": 0,
              "ticks": ""
             }
            },
            "type": "scattergeo"
           }
          ],
          "scattergl": [
           {
            "marker": {
             "colorbar": {
              "outlinewidth": 0,
              "ticks": ""
             }
            },
            "type": "scattergl"
           }
          ],
          "scattermapbox": [
           {
            "marker": {
             "colorbar": {
              "outlinewidth": 0,
              "ticks": ""
             }
            },
            "type": "scattermapbox"
           }
          ],
          "scatterpolar": [
           {
            "marker": {
             "colorbar": {
              "outlinewidth": 0,
              "ticks": ""
             }
            },
            "type": "scatterpolar"
           }
          ],
          "scatterpolargl": [
           {
            "marker": {
             "colorbar": {
              "outlinewidth": 0,
              "ticks": ""
             }
            },
            "type": "scatterpolargl"
           }
          ],
          "scatterternary": [
           {
            "marker": {
             "colorbar": {
              "outlinewidth": 0,
              "ticks": ""
             }
            },
            "type": "scatterternary"
           }
          ],
          "surface": [
           {
            "colorbar": {
             "outlinewidth": 0,
             "ticks": ""
            },
            "colorscale": [
             [
              0,
              "#0d0887"
             ],
             [
              0.1111111111111111,
              "#46039f"
             ],
             [
              0.2222222222222222,
              "#7201a8"
             ],
             [
              0.3333333333333333,
              "#9c179e"
             ],
             [
              0.4444444444444444,
              "#bd3786"
             ],
             [
              0.5555555555555556,
              "#d8576b"
             ],
             [
              0.6666666666666666,
              "#ed7953"
             ],
             [
              0.7777777777777778,
              "#fb9f3a"
             ],
             [
              0.8888888888888888,
              "#fdca26"
             ],
             [
              1,
              "#f0f921"
             ]
            ],
            "type": "surface"
           }
          ],
          "table": [
           {
            "cells": {
             "fill": {
              "color": "#EBF0F8"
             },
             "line": {
              "color": "white"
             }
            },
            "header": {
             "fill": {
              "color": "#C8D4E3"
             },
             "line": {
              "color": "white"
             }
            },
            "type": "table"
           }
          ]
         },
         "layout": {
          "annotationdefaults": {
           "arrowcolor": "#2a3f5f",
           "arrowhead": 0,
           "arrowwidth": 1
          },
          "autotypenumbers": "strict",
          "coloraxis": {
           "colorbar": {
            "outlinewidth": 0,
            "ticks": ""
           }
          },
          "colorscale": {
           "diverging": [
            [
             0,
             "#8e0152"
            ],
            [
             0.1,
             "#c51b7d"
            ],
            [
             0.2,
             "#de77ae"
            ],
            [
             0.3,
             "#f1b6da"
            ],
            [
             0.4,
             "#fde0ef"
            ],
            [
             0.5,
             "#f7f7f7"
            ],
            [
             0.6,
             "#e6f5d0"
            ],
            [
             0.7,
             "#b8e186"
            ],
            [
             0.8,
             "#7fbc41"
            ],
            [
             0.9,
             "#4d9221"
            ],
            [
             1,
             "#276419"
            ]
           ],
           "sequential": [
            [
             0,
             "#0d0887"
            ],
            [
             0.1111111111111111,
             "#46039f"
            ],
            [
             0.2222222222222222,
             "#7201a8"
            ],
            [
             0.3333333333333333,
             "#9c179e"
            ],
            [
             0.4444444444444444,
             "#bd3786"
            ],
            [
             0.5555555555555556,
             "#d8576b"
            ],
            [
             0.6666666666666666,
             "#ed7953"
            ],
            [
             0.7777777777777778,
             "#fb9f3a"
            ],
            [
             0.8888888888888888,
             "#fdca26"
            ],
            [
             1,
             "#f0f921"
            ]
           ],
           "sequentialminus": [
            [
             0,
             "#0d0887"
            ],
            [
             0.1111111111111111,
             "#46039f"
            ],
            [
             0.2222222222222222,
             "#7201a8"
            ],
            [
             0.3333333333333333,
             "#9c179e"
            ],
            [
             0.4444444444444444,
             "#bd3786"
            ],
            [
             0.5555555555555556,
             "#d8576b"
            ],
            [
             0.6666666666666666,
             "#ed7953"
            ],
            [
             0.7777777777777778,
             "#fb9f3a"
            ],
            [
             0.8888888888888888,
             "#fdca26"
            ],
            [
             1,
             "#f0f921"
            ]
           ]
          },
          "colorway": [
           "#636efa",
           "#EF553B",
           "#00cc96",
           "#ab63fa",
           "#FFA15A",
           "#19d3f3",
           "#FF6692",
           "#B6E880",
           "#FF97FF",
           "#FECB52"
          ],
          "font": {
           "color": "#2a3f5f"
          },
          "geo": {
           "bgcolor": "white",
           "lakecolor": "white",
           "landcolor": "#E5ECF6",
           "showlakes": true,
           "showland": true,
           "subunitcolor": "white"
          },
          "hoverlabel": {
           "align": "left"
          },
          "hovermode": "closest",
          "mapbox": {
           "style": "light"
          },
          "paper_bgcolor": "white",
          "plot_bgcolor": "#E5ECF6",
          "polar": {
           "angularaxis": {
            "gridcolor": "white",
            "linecolor": "white",
            "ticks": ""
           },
           "bgcolor": "#E5ECF6",
           "radialaxis": {
            "gridcolor": "white",
            "linecolor": "white",
            "ticks": ""
           }
          },
          "scene": {
           "xaxis": {
            "backgroundcolor": "#E5ECF6",
            "gridcolor": "white",
            "gridwidth": 2,
            "linecolor": "white",
            "showbackground": true,
            "ticks": "",
            "zerolinecolor": "white"
           },
           "yaxis": {
            "backgroundcolor": "#E5ECF6",
            "gridcolor": "white",
            "gridwidth": 2,
            "linecolor": "white",
            "showbackground": true,
            "ticks": "",
            "zerolinecolor": "white"
           },
           "zaxis": {
            "backgroundcolor": "#E5ECF6",
            "gridcolor": "white",
            "gridwidth": 2,
            "linecolor": "white",
            "showbackground": true,
            "ticks": "",
            "zerolinecolor": "white"
           }
          },
          "shapedefaults": {
           "line": {
            "color": "#2a3f5f"
           }
          },
          "ternary": {
           "aaxis": {
            "gridcolor": "white",
            "linecolor": "white",
            "ticks": ""
           },
           "baxis": {
            "gridcolor": "white",
            "linecolor": "white",
            "ticks": ""
           },
           "bgcolor": "#E5ECF6",
           "caxis": {
            "gridcolor": "white",
            "linecolor": "white",
            "ticks": ""
           }
          },
          "title": {
           "x": 0.05
          },
          "xaxis": {
           "automargin": true,
           "gridcolor": "white",
           "linecolor": "white",
           "ticks": "",
           "title": {
            "standoff": 15
           },
           "zerolinecolor": "white",
           "zerolinewidth": 2
          },
          "yaxis": {
           "automargin": true,
           "gridcolor": "white",
           "linecolor": "white",
           "ticks": "",
           "title": {
            "standoff": 15
           },
           "zerolinecolor": "white",
           "zerolinewidth": 2
          }
         }
        },
        "width": 600,
        "xaxis": {
         "anchor": "y",
         "domain": [
          0,
          1
         ],
         "tickfont": {
          "size": 20
         },
         "title": {
          "font": {
           "size": 25
          },
          "text": "t"
         }
        },
        "yaxis": {
         "anchor": "x",
         "domain": [
          0,
          1
         ],
         "tickfont": {
          "size": 20
         },
         "title": {
          "font": {
           "size": 25
          },
          "text": "ENS"
         }
        }
       }
      }
     },
     "metadata": {},
     "output_type": "display_data"
    }
   ],
   "source": [
    "import plotly.express as px\n",
    "\n",
    "# Assuming t_range, s_exp_numb_sub_value_1, and n_exp_numb_sub_value_1 are defined elsewhere in your code\n",
    "\n",
    "data1 = []\n",
    "for i, t in enumerate(t_range):\n",
    "    data1.append({'t': t, 'value': s_exp_numb_sub_value_1[i], 'series': 'Stationary'})\n",
    "    data1.append({'t': t, 'value': n_exp_numb_sub_value_1[i], 'series': 'Non-Stationary'})\n",
    "\n",
    "# Plotting with Plotly Express\n",
    "fig = px.line(data1, x='t', y='value', color='series', labels={'value': 'ENS'})\n",
    "fig.update_traces(line=dict(width=5))\n",
    "\n",
    "# Setting plot aspect to equal (makes width and height equal)\n",
    "fig.update_layout(width=600, height=600, legend_title_text='')\n",
    "\n",
    "# Remove the legend title\n",
    "fig.update_layout(legend_title_text='')\n",
    "\n",
    "fig.update_layout(\n",
    "    xaxis_title='t',\n",
    "    yaxis_title='ENS',\n",
    "    font=dict(\n",
    "        size=25\n",
    "    )\n",
    ")\n",
    "\n",
    "# Update legend title font size\n",
    "fig.update_layout(legend_title_font=dict(size=18))\n",
    "\n",
    "# Update axis label font size\n",
    "fig.update_layout(\n",
    "    xaxis=dict(\n",
    "        title_font=dict(size=25),\n",
    "        tickfont=dict(size=20),\n",
    "    ),\n",
    "    yaxis=dict(\n",
    "        title_font=dict(size=25),\n",
    "        tickfont=dict(size=20),\n",
    "    )\n",
    ")\n",
    "\n",
    "# Move the legend to the bottom\n",
    "fig.update_layout(legend=dict(\n",
    "    orientation='h',\n",
    "    yanchor='bottom',\n",
    "    y=-0.25,  # Adjust this value as needed to move the legend up or down\n",
    "    xanchor='center',\n",
    "    x=0.5  # Adjust this value as needed to move the legend left or right\n",
    "))\n",
    "\n",
    "fig.show()\n"
   ]
  },
  {
   "cell_type": "code",
   "execution_count": 112,
   "metadata": {},
   "outputs": [],
   "source": [
    "# from scipy.stats import linregress\n",
    "\n",
    "# # Perform linear regression for s_exp_numb_sub_value\n",
    "# slope_s, intercept_s, r_value_s, p_value_s, std_err_s = linregress(t_range, s_exp_numb_sub_value_1)\n",
    "# print(\"Linear regression for s_exp_numb_sub_value:\")\n",
    "# print(f\"Slope: {slope_s}, Intercept: {intercept_s}, R-squared: {r_value_s**2}, P-value: {p_value_s}\")\n",
    "\n",
    "# # Perform linear regression for n_exp_numb_sub_value_1\n",
    "# slope_n1, intercept_n1, r_value_n1, p_value_n1, std_err_n1 = linregress(t_range, n_exp_numb_sub_value_1)\n",
    "# print(\"Linear regression for n_exp_numb_sub_value_1:\")\n",
    "# print(f\"Slope: {slope_n1}, Intercept: {intercept_n1}, R-squared: {r_value_n1**2}, P-value: {p_value_n1}\")"
   ]
  }
 ],
 "metadata": {
  "kernelspec": {
   "display_name": "c312",
   "language": "python",
   "name": "python3"
  },
  "language_info": {
   "codemirror_mode": {
    "name": "ipython",
    "version": 3
   },
   "file_extension": ".py",
   "mimetype": "text/x-python",
   "name": "python",
   "nbconvert_exporter": "python",
   "pygments_lexer": "ipython3",
   "version": "3.12.1"
  }
 },
 "nbformat": 4,
 "nbformat_minor": 2
}
