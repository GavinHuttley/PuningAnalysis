{
 "cells": [
  {
   "cell_type": "code",
   "execution_count": 1,
   "metadata": {},
   "outputs": [],
   "source": [
    "from cogent3 import load_aligned_seqs, get_app\n",
    "import pathlib\n"
   ]
  },
  {
   "cell_type": "code",
   "execution_count": 6,
   "metadata": {},
   "outputs": [],
   "source": [
    "paths = list(pathlib.Path(\"../../data/dataset1_16s-10_initial_alignments/processed_data/selected_alns\").glob(\"**/*.json\"))\n",
    "\n",
    "GN_model = get_app(\"model\", sm = \"GN\", \n",
    "                unique_trees = True, time_het = \"max\", optimise_motif_probs = True, \n",
    "                show_progress = False, opt_args = dict(max_restarts=5))\n",
    "\n",
    "no_degenerates = get_app(\n",
    "    \"omit_degenerates\",\n",
    "    moltype = None,\n",
    "    gap_is_degen = True,\n",
    "    motif_length = 1,\n",
    ")"
   ]
  },
  {
   "cell_type": "code",
   "execution_count": 9,
   "metadata": {},
   "outputs": [],
   "source": [
    "def alns_to_matx_pi(path, model):\n",
    "    aln = load_aligned_seqs(path)\n",
    "    aln1 = no_degenerates(aln)\n",
    "    result = model(aln1)\n",
    "    edge_names = result.tree.get_node_names(includeself = False)\n",
    "    matrices = {n:result.lf.get_rate_matrix_for_edge(n, calibrated = True) for n in edge_names}\n",
    "    motif_probs = result.lf.get_motif_probs()\n",
    "    return matrices, motif_probs\n",
    "\n",
    "matrix_dict_array = list()\n",
    "motif_probs_dict_array = list()\n",
    "for path in paths:\n",
    "    matrix_dict_array.append(alns_to_matx_pi(path, GN_model)[0])\n",
    "    motif_probs_dict_array.append(alns_to_matx_pi(path, GN_model)[1])\n"
   ]
  },
  {
   "cell_type": "code",
   "execution_count": 10,
   "metadata": {},
   "outputs": [
    {
     "data": {
      "text/plain": [
       "{'279422': =============================================\n",
       "            T          C          A          G\n",
       " ---------------------------------------------\n",
       " T    -1.5788     0.2494     0.9428     0.3867\n",
       " C     0.7931    -1.1426     0.1821     0.1674\n",
       " A     0.0000     0.0980    -0.5393     0.4412\n",
       " G     0.0000     0.2226     0.6243    -0.8469\n",
       " ---------------------------------------------,\n",
       " '100667': =============================================\n",
       "            T          C          A          G\n",
       " ---------------------------------------------\n",
       " T    -1.6392     1.0377     0.1438     0.4577\n",
       " C     0.2564    -1.1133     0.1260     0.7310\n",
       " A     0.0846     0.0966    -0.6663     0.4851\n",
       " G     0.0700     0.6191     0.0587    -0.7478\n",
       " ---------------------------------------------,\n",
       " '200580': =============================================\n",
       "            T          C          A          G\n",
       " ---------------------------------------------\n",
       " T    -0.5081     0.0250     0.3783     0.1047\n",
       " C     1.2675    -1.6334     0.3308     0.0352\n",
       " A     0.0847     0.0000    -0.1006     0.0160\n",
       " G     0.3783     0.0325     1.0126    -1.4234\n",
       " ---------------------------------------------}"
      ]
     },
     "execution_count": 10,
     "metadata": {},
     "output_type": "execute_result"
    }
   ],
   "source": [
    "matrix_dict_array[0]"
   ]
  },
  {
   "cell_type": "code",
   "execution_count": 6,
   "metadata": {},
   "outputs": [],
   "source": [
    "def process_compel_data(matrix_dict_array, motif_probs_dict_array):\n",
    "    motif_probs_np_array = [motif_prob.array for motif_prob in motif_probs_dict_array]\n",
    "    motif_probs_list = [inner_array.tolist() for inner_array in motif_probs_np_array]\n",
    "\n",
    "    matrix_dict_np_array = [{n: matrix[n].array for n in matrix} for matrix in matrix_dict_array]\n",
    "    matrix_dict_of_lists = [{k: v.tolist() for k, v in matrix.items()} for matrix in matrix_dict_np_array]\n",
    "\n",
    "    data = dict()\n",
    "    for i in range(len(matrix_dict_array)):\n",
    "        data[i] = {'motif_prob': motif_probs_list[i], 'matrix': matrix_dict_of_lists[i]}\n",
    "\n",
    "    return data\n",
    "\n",
    "data = process_compel_data(matrix_dict_array, motif_probs_dict_array)"
   ]
  },
  {
   "cell_type": "code",
   "execution_count": 7,
   "metadata": {},
   "outputs": [],
   "source": [
    "import json\n",
    "\n",
    "with open('../data/matrix_motif.json', 'w') as json_file:\n",
    "    json.dump(data, json_file)"
   ]
  },
  {
   "cell_type": "code",
   "execution_count": 20,
   "metadata": {},
   "outputs": [],
   "source": [
    "import sys\n",
    "sys.path.insert(0, '/Users/gulugulu/repos/PuningAnalysis/src')\n",
    "from simulation.waiting_time_simulator import generate_ancestor, average_substitution, get_descrip_stat, simulate_seq\n",
    "from cogent3.maths.matrix_exponential_integration import expected_number_subs\n",
    "import numpy as np"
   ]
  },
  {
   "cell_type": "code",
   "execution_count": 21,
   "metadata": {},
   "outputs": [],
   "source": [
    "with open('../../data/dataset1_16s-10_initial_alignments/matrix_motif.json', 'r') as file:\n",
    "    matrix_motif = json.load(file)"
   ]
  },
  {
   "cell_type": "code",
   "execution_count": 24,
   "metadata": {},
   "outputs": [],
   "source": [
    "Q_ = {'0': np.array(matrix_motif['0']['matrix']['200580'])}\n",
    "pi_0 = matrix_motif['0']['motif_prob']\n",
    "repeats = 100\n",
    "markov_order = 0\n",
    "length = 1000\n",
    "time_range = [0.5, 1, 2, 3, 4]\n",
    "ances_seq = generate_ancestor(length, pi_0)\n"
   ]
  },
  {
   "cell_type": "code",
   "execution_count": 25,
   "metadata": {},
   "outputs": [
    {
     "name": "stdout",
     "output_type": "stream",
     "text": [
      "0.5\n",
      "1\n",
      "2\n",
      "3\n",
      "4\n"
     ]
    },
    {
     "ename": "FileNotFoundError",
     "evalue": "[Errno 2] No such file or directory: '../../../results/length_1000.json'",
     "output_type": "error",
     "traceback": [
      "\u001b[0;31m---------------------------------------------------------------------------\u001b[0m",
      "\u001b[0;31mFileNotFoundError\u001b[0m                         Traceback (most recent call last)",
      "Cell \u001b[0;32mIn[25], line 16\u001b[0m\n\u001b[1;32m     10\u001b[0m     \u001b[38;5;66;03m# Store the results\u001b[39;00m\n\u001b[1;32m     11\u001b[0m     results[\u001b[38;5;124mf\u001b[39m\u001b[38;5;124m\"\u001b[39m\u001b[38;5;124mLength \u001b[39m\u001b[38;5;132;01m{\u001b[39;00mlength\u001b[38;5;132;01m}\u001b[39;00m\u001b[38;5;124m, Time \u001b[39m\u001b[38;5;132;01m{\u001b[39;00mt\u001b[38;5;132;01m}\u001b[39;00m\u001b[38;5;124m\"\u001b[39m] \u001b[38;5;241m=\u001b[39m {\n\u001b[1;32m     12\u001b[0m         \u001b[38;5;124m'\u001b[39m\u001b[38;5;124mavg_ns_per_site\u001b[39m\u001b[38;5;124m'\u001b[39m: avg_ns_per_site,\n\u001b[1;32m     13\u001b[0m         \u001b[38;5;124m'\u001b[39m\u001b[38;5;124mns_per_site_list\u001b[39m\u001b[38;5;124m'\u001b[39m: ns_per_site_list\n\u001b[1;32m     14\u001b[0m     }\n\u001b[0;32m---> 16\u001b[0m \u001b[38;5;28;01mwith\u001b[39;00m \u001b[38;5;28;43mopen\u001b[39;49m\u001b[43m(\u001b[49m\u001b[38;5;124;43m'\u001b[39;49m\u001b[38;5;124;43m../../../results/length_1000.json\u001b[39;49m\u001b[38;5;124;43m'\u001b[39;49m\u001b[43m,\u001b[49m\u001b[43m \u001b[49m\u001b[38;5;124;43m'\u001b[39;49m\u001b[38;5;124;43mw\u001b[39;49m\u001b[38;5;124;43m'\u001b[39;49m\u001b[43m)\u001b[49m \u001b[38;5;28;01mas\u001b[39;00m outfile:\n\u001b[1;32m     17\u001b[0m     json\u001b[38;5;241m.\u001b[39mdump(results, outfile, indent\u001b[38;5;241m=\u001b[39m\u001b[38;5;241m4\u001b[39m)\n",
      "File \u001b[0;32m~/opt/anaconda3/envs/c312/lib/python3.12/site-packages/IPython/core/interactiveshell.py:310\u001b[0m, in \u001b[0;36m_modified_open\u001b[0;34m(file, *args, **kwargs)\u001b[0m\n\u001b[1;32m    303\u001b[0m \u001b[38;5;28;01mif\u001b[39;00m file \u001b[38;5;129;01min\u001b[39;00m {\u001b[38;5;241m0\u001b[39m, \u001b[38;5;241m1\u001b[39m, \u001b[38;5;241m2\u001b[39m}:\n\u001b[1;32m    304\u001b[0m     \u001b[38;5;28;01mraise\u001b[39;00m \u001b[38;5;167;01mValueError\u001b[39;00m(\n\u001b[1;32m    305\u001b[0m         \u001b[38;5;124mf\u001b[39m\u001b[38;5;124m\"\u001b[39m\u001b[38;5;124mIPython won\u001b[39m\u001b[38;5;124m'\u001b[39m\u001b[38;5;124mt let you open fd=\u001b[39m\u001b[38;5;132;01m{\u001b[39;00mfile\u001b[38;5;132;01m}\u001b[39;00m\u001b[38;5;124m by default \u001b[39m\u001b[38;5;124m\"\u001b[39m\n\u001b[1;32m    306\u001b[0m         \u001b[38;5;124m\"\u001b[39m\u001b[38;5;124mas it is likely to crash IPython. If you know what you are doing, \u001b[39m\u001b[38;5;124m\"\u001b[39m\n\u001b[1;32m    307\u001b[0m         \u001b[38;5;124m\"\u001b[39m\u001b[38;5;124myou can use builtins\u001b[39m\u001b[38;5;124m'\u001b[39m\u001b[38;5;124m open.\u001b[39m\u001b[38;5;124m\"\u001b[39m\n\u001b[1;32m    308\u001b[0m     )\n\u001b[0;32m--> 310\u001b[0m \u001b[38;5;28;01mreturn\u001b[39;00m \u001b[43mio_open\u001b[49m\u001b[43m(\u001b[49m\u001b[43mfile\u001b[49m\u001b[43m,\u001b[49m\u001b[43m \u001b[49m\u001b[38;5;241;43m*\u001b[39;49m\u001b[43margs\u001b[49m\u001b[43m,\u001b[49m\u001b[43m \u001b[49m\u001b[38;5;241;43m*\u001b[39;49m\u001b[38;5;241;43m*\u001b[39;49m\u001b[43mkwargs\u001b[49m\u001b[43m)\u001b[49m\n",
      "\u001b[0;31mFileNotFoundError\u001b[0m: [Errno 2] No such file or directory: '../../../results/length_1000.json'"
     ]
    }
   ],
   "source": [
    "# Dictionary to store results\n",
    "results = {}\n",
    "\n",
    "\n",
    "# Loop over each sequence length and time to perform simulations\n",
    "for t in time_range:\n",
    "    print(t)\n",
    "    length = 1000\n",
    "    ns_per_site_list, avg_ns_per_site = average_substitution(Q_, t, ances_seq, repeats, markov_order)\n",
    "    # Store the results\n",
    "    results[f\"Length {length}, Time {t}\"] = {\n",
    "        'avg_ns_per_site': avg_ns_per_site,\n",
    "        'ns_per_site_list': ns_per_site_list\n",
    "    }\n",
    "\n"
   ]
  },
  {
   "cell_type": "code",
   "execution_count": 26,
   "metadata": {},
   "outputs": [],
   "source": [
    "# a = simulate_seq(ances_seq, 3, Q_, 0)\n",
    "with open('../../results/length_1000.json', 'w') as outfile:\n",
    "    json.dump(results, outfile, indent=4)"
   ]
  }
 ],
 "metadata": {
  "kernelspec": {
   "display_name": "c312",
   "language": "python",
   "name": "python3"
  },
  "language_info": {
   "codemirror_mode": {
    "name": "ipython",
    "version": 3
   },
   "file_extension": ".py",
   "mimetype": "text/x-python",
   "name": "python",
   "nbconvert_exporter": "python",
   "pygments_lexer": "ipython3",
   "version": "3.12.1"
  }
 },
 "nbformat": 4,
 "nbformat_minor": 2
}
