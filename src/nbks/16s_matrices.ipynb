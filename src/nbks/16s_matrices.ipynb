{
 "cells": [
  {
   "cell_type": "code",
   "execution_count": 2,
   "metadata": {},
   "outputs": [],
   "source": [
    "from cogent3 import load_aligned_seqs, get_app\n",
    "import pathlib\n"
   ]
  },
  {
   "cell_type": "code",
   "execution_count": 3,
   "metadata": {},
   "outputs": [],
   "source": [
    "paths = list(pathlib.Path(\"../data/16s-10\").glob(\"**/*.json\"))\n",
    "\n",
    "GN_model = get_app(\"model\", sm = \"GN\", \n",
    "                unique_trees = True, time_het = \"max\", optimise_motif_probs = True, \n",
    "                show_progress = True, opt_args = dict(max_restarts=5))\n",
    "\n",
    "no_degenerates = get_app(\n",
    "    \"omit_degenerates\",\n",
    "    moltype = None,\n",
    "    gap_is_degen = True,\n",
    "    motif_length = 1,\n",
    ")"
   ]
  },
  {
   "cell_type": "code",
   "execution_count": 4,
   "metadata": {},
   "outputs": [
    {
     "data": {
      "application/vnd.jupyter.widget-view+json": {
       "model_id": "104a79762df64c4cac381ef119fc5bc6",
       "version_major": 2,
       "version_minor": 0
      },
      "text/plain": [
       "   0%|          |00:00<?"
      ]
     },
     "metadata": {},
     "output_type": "display_data"
    },
    {
     "data": {
      "application/vnd.jupyter.widget-view+json": {
       "model_id": "3f5b03cd936344e1b13a5dc35feb05b6",
       "version_major": 2,
       "version_minor": 0
      },
      "text/plain": [
       "   0%|          |00:00<?"
      ]
     },
     "metadata": {},
     "output_type": "display_data"
    },
    {
     "ename": "ModuleNotFoundError",
     "evalue": "No module named 'cogent3.tution_model'",
     "output_type": "error",
     "traceback": [
      "\u001b[0;31m---------------------------------------------------------------------------\u001b[0m",
      "\u001b[0;31mModuleNotFoundError\u001b[0m                       Traceback (most recent call last)",
      "Cell \u001b[0;32mIn[4], line 13\u001b[0m\n\u001b[1;32m     11\u001b[0m motif_probs_dict_array \u001b[38;5;241m=\u001b[39m \u001b[38;5;28mlist\u001b[39m()\n\u001b[1;32m     12\u001b[0m \u001b[38;5;28;01mfor\u001b[39;00m path \u001b[38;5;129;01min\u001b[39;00m paths:\n\u001b[0;32m---> 13\u001b[0m     matrix_dict_array\u001b[38;5;241m.\u001b[39mappend(\u001b[43malns_to_matx_pi\u001b[49m\u001b[43m(\u001b[49m\u001b[43mpath\u001b[49m\u001b[43m,\u001b[49m\u001b[43m \u001b[49m\u001b[43mGN_model\u001b[49m\u001b[43m)\u001b[49m[\u001b[38;5;241m0\u001b[39m])\n\u001b[1;32m     14\u001b[0m     motif_probs_dict_array\u001b[38;5;241m.\u001b[39mappend(alns_to_matx_pi(path, GN_model)[\u001b[38;5;241m1\u001b[39m])\n",
      "Cell \u001b[0;32mIn[4], line 5\u001b[0m, in \u001b[0;36malns_to_matx_pi\u001b[0;34m(path, model)\u001b[0m\n\u001b[1;32m      3\u001b[0m aln1 \u001b[38;5;241m=\u001b[39m no_degenerates(aln)\n\u001b[1;32m      4\u001b[0m result \u001b[38;5;241m=\u001b[39m model(aln1)\n\u001b[0;32m----> 5\u001b[0m edge_names \u001b[38;5;241m=\u001b[39m \u001b[43mresult\u001b[49m\u001b[38;5;241;43m.\u001b[39;49m\u001b[43mtree\u001b[49m\u001b[38;5;241m.\u001b[39mget_node_names(includeself \u001b[38;5;241m=\u001b[39m \u001b[38;5;28;01mFalse\u001b[39;00m)\n\u001b[1;32m      6\u001b[0m matrices \u001b[38;5;241m=\u001b[39m {n:result\u001b[38;5;241m.\u001b[39mlf\u001b[38;5;241m.\u001b[39mget_rate_matrix_for_edge(n, calibrated \u001b[38;5;241m=\u001b[39m \u001b[38;5;28;01mFalse\u001b[39;00m) \u001b[38;5;28;01mfor\u001b[39;00m n \u001b[38;5;129;01min\u001b[39;00m edge_names}\n\u001b[1;32m      7\u001b[0m motif_probs \u001b[38;5;241m=\u001b[39m result\u001b[38;5;241m.\u001b[39mlf\u001b[38;5;241m.\u001b[39mget_motif_probs()\n",
      "File \u001b[0;32m~/opt/anaconda3/envs/c312/lib/python3.12/site-packages/cogent3/app/result.py:363\u001b[0m, in \u001b[0;36mmodel_result.tree\u001b[0;34m(self)\u001b[0m\n\u001b[1;32m    361\u001b[0m \u001b[38;5;28;01mif\u001b[39;00m \u001b[38;5;129;01mnot\u001b[39;00m \u001b[38;5;28mhasattr\u001b[39m(\u001b[38;5;28mself\u001b[39m, \u001b[38;5;124m\"\u001b[39m\u001b[38;5;124m_tree\u001b[39m\u001b[38;5;124m\"\u001b[39m):\n\u001b[1;32m    362\u001b[0m     \u001b[38;5;28;01mif\u001b[39;00m \u001b[38;5;28mlen\u001b[39m(\u001b[38;5;28mself\u001b[39m) \u001b[38;5;241m==\u001b[39m \u001b[38;5;241m1\u001b[39m:\n\u001b[0;32m--> 363\u001b[0m         tree \u001b[38;5;241m=\u001b[39m \u001b[38;5;28;43mself\u001b[39;49m\u001b[38;5;241;43m.\u001b[39;49m\u001b[43mlf\u001b[49m\u001b[38;5;241;43m.\u001b[39;49m\u001b[43mget_annotated_tree\u001b[49m\u001b[43m(\u001b[49m\u001b[43mlength_as\u001b[49m\u001b[38;5;241;43m=\u001b[39;49m\u001b[43mlength_as\u001b[49m\u001b[43m)\u001b[49m\n\u001b[1;32m    364\u001b[0m     \u001b[38;5;28;01melse\u001b[39;00m:\n\u001b[1;32m    365\u001b[0m         tree \u001b[38;5;241m=\u001b[39m OrderedDict()\n",
      "File \u001b[0;32m~/opt/anaconda3/envs/c312/lib/python3.12/site-packages/cogent3/evolve/likelihood_function.py:591\u001b[0m, in \u001b[0;36mLikelihoodFunction.get_annotated_tree\u001b[0;34m(self, length_as)\u001b[0m\n\u001b[1;32m    589\u001b[0m d \u001b[38;5;241m=\u001b[39m \u001b[38;5;28mself\u001b[39m\u001b[38;5;241m.\u001b[39mget_param_value_dict([\u001b[38;5;124m\"\u001b[39m\u001b[38;5;124medge\u001b[39m\u001b[38;5;124m\"\u001b[39m])\n\u001b[1;32m    590\u001b[0m lengths \u001b[38;5;241m=\u001b[39m d\u001b[38;5;241m.\u001b[39mpop(\u001b[38;5;124m\"\u001b[39m\u001b[38;5;124mlength\u001b[39m\u001b[38;5;124m\"\u001b[39m, \u001b[38;5;28;01mNone\u001b[39;00m)\n\u001b[0;32m--> 591\u001b[0m mprobs \u001b[38;5;241m=\u001b[39m \u001b[38;5;28;43mself\u001b[39;49m\u001b[38;5;241;43m.\u001b[39;49m\u001b[43mget_motif_probs_by_node\u001b[49m\u001b[43m(\u001b[49m\u001b[43m)\u001b[49m\n\u001b[1;32m    592\u001b[0m \u001b[38;5;28;01mif\u001b[39;00m \u001b[38;5;129;01mnot\u001b[39;00m is_discrete:\n\u001b[1;32m    593\u001b[0m     ens \u001b[38;5;241m=\u001b[39m \u001b[38;5;28mself\u001b[39m\u001b[38;5;241m.\u001b[39mget_lengths_as_ens(motif_probs\u001b[38;5;241m=\u001b[39mmprobs)\n",
      "File \u001b[0;32m~/opt/anaconda3/envs/c312/lib/python3.12/site-packages/cogent3/evolve/likelihood_function.py:1004\u001b[0m, in \u001b[0;36mLikelihoodFunction.get_motif_probs_by_node\u001b[0;34m(self, edges, bin, locus)\u001b[0m\n\u001b[1;32m   1003\u001b[0m \u001b[38;5;28;01mdef\u001b[39;00m \u001b[38;5;21mget_motif_probs_by_node\u001b[39m(\u001b[38;5;28mself\u001b[39m, edges\u001b[38;5;241m=\u001b[39m\u001b[38;5;28;01mNone\u001b[39;00m, \u001b[38;5;28mbin\u001b[39m\u001b[38;5;241m=\u001b[39m\u001b[38;5;28;01mNone\u001b[39;00m, locus\u001b[38;5;241m=\u001b[39m\u001b[38;5;28;01mNone\u001b[39;00m):\n\u001b[0;32m-> 1004\u001b[0m     \u001b[38;5;28;01mfrom\u001b[39;00m \u001b[38;5;21;01mcogent3\u001b[39;00m\u001b[38;5;21;01m.\u001b[39;00m\u001b[38;5;21;01mtution_model\u001b[39;00m \u001b[38;5;28;01mimport\u001b[39;00m TimeReversible\n\u001b[1;32m   1006\u001b[0m     \u001b[38;5;28;01mif\u001b[39;00m \u001b[38;5;28misinstance\u001b[39m(\u001b[38;5;28mself\u001b[39m\u001b[38;5;241m.\u001b[39mmodel, TimeReversible):\n\u001b[1;32m   1007\u001b[0m         \u001b[38;5;28;01mreturn\u001b[39;00m \u001b[38;5;28mself\u001b[39m\u001b[38;5;241m.\u001b[39m_get_motif_probs_by_node_tr(edges\u001b[38;5;241m=\u001b[39medges, \u001b[38;5;28mbin\u001b[39m\u001b[38;5;241m=\u001b[39m\u001b[38;5;28mbin\u001b[39m, locus\u001b[38;5;241m=\u001b[39mlocus)\n",
      "\u001b[0;31mModuleNotFoundError\u001b[0m: No module named 'cogent3.tution_model'"
     ]
    }
   ],
   "source": [
    "def alns_to_matx_pi(path, model):\n",
    "    aln = load_aligned_seqs(path)\n",
    "    aln1 = no_degenerates(aln)\n",
    "    result = model(aln1)\n",
    "    edge_names = result.tree.get_node_names(includeself = False)\n",
    "    matrices = {n:result.lf.get_rate_matrix_for_edge(n, calibrated = False) for n in edge_names}\n",
    "    motif_probs = result.lf.get_motif_probs()\n",
    "    return matrices, motif_probs\n",
    "\n",
    "matrix_dict_array = list()\n",
    "motif_probs_dict_array = list()\n",
    "for path in paths:\n",
    "    matrix_dict_array.append(alns_to_matx_pi(path, GN_model)[0])\n",
    "    motif_probs_dict_array.append(alns_to_matx_pi(path, GN_model)[1])\n"
   ]
  },
  {
   "cell_type": "code",
   "execution_count": 10,
   "metadata": {},
   "outputs": [
    {
     "data": {
      "text/plain": [
       "{'236027': =============================================\n",
       "            T          C          A          G\n",
       " ---------------------------------------------\n",
       " T    -1.7071     0.5367     0.3064     0.8640\n",
       " C     0.2488    -0.8894     0.1158     0.5248\n",
       " A     0.0380     0.1822    -0.5550     0.3347\n",
       " G     0.2033     0.5798     0.2337    -1.0169\n",
       " ---------------------------------------------,\n",
       " '243748': =============================================\n",
       "            T          C          A          G\n",
       " ---------------------------------------------\n",
       " T    -0.4260     0.1099     0.2782     0.0379\n",
       " C     0.9957    -1.6865     0.3531     0.3377\n",
       " A     0.0689     0.0000    -0.0689     0.0000\n",
       " G     0.4794     0.2493     0.6167    -1.3455\n",
       " ---------------------------------------------,\n",
       " '11986': =============================================\n",
       "            T          C          A          G\n",
       " ---------------------------------------------\n",
       " T    -1.5629     1.0337     0.2136     0.3156\n",
       " C     0.7493    -0.9929     0.0868     0.1568\n",
       " A     0.2793     0.2508    -1.1354     0.6054\n",
       " G     0.2090     0.1284     0.3103    -0.6477\n",
       " ---------------------------------------------}"
      ]
     },
     "execution_count": 10,
     "metadata": {},
     "output_type": "execute_result"
    }
   ],
   "source": [
    "matrix_dict_array[1]"
   ]
  },
  {
   "cell_type": "code",
   "execution_count": 6,
   "metadata": {},
   "outputs": [],
   "source": [
    "def process_compel_data(matrix_dict_array, motif_probs_dict_array):\n",
    "    motif_probs_np_array = [motif_prob.array for motif_prob in motif_probs_dict_array]\n",
    "    motif_probs_list = [inner_array.tolist() for inner_array in motif_probs_np_array]\n",
    "\n",
    "    matrix_dict_np_array = [{n: matrix[n].array for n in matrix} for matrix in matrix_dict_array]\n",
    "    matrix_dict_of_lists = [{k: v.tolist() for k, v in matrix.items()} for matrix in matrix_dict_np_array]\n",
    "\n",
    "    data = dict()\n",
    "    for i in range(len(matrix_dict_array)):\n",
    "        data[i] = {'motif_prob': motif_probs_list[i], 'matrix': matrix_dict_of_lists[i]}\n",
    "\n",
    "    return data\n",
    "\n",
    "data = process_compel_data(matrix_dict_array, motif_probs_dict_array)"
   ]
  },
  {
   "cell_type": "code",
   "execution_count": 7,
   "metadata": {},
   "outputs": [],
   "source": [
    "import json\n",
    "\n",
    "with open('../data/matrix_motif.json', 'w') as json_file:\n",
    "    json.dump(data, json_file)"
   ]
  }
 ],
 "metadata": {
  "kernelspec": {
   "display_name": "c312",
   "language": "python",
   "name": "python3"
  },
  "language_info": {
   "codemirror_mode": {
    "name": "ipython",
    "version": 3
   },
   "file_extension": ".py",
   "mimetype": "text/x-python",
   "name": "python",
   "nbconvert_exporter": "python",
   "pygments_lexer": "ipython3",
   "version": "3.12.1"
  }
 },
 "nbformat": 4,
 "nbformat_minor": 2
}
