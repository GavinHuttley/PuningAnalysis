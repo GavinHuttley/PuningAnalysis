{
 "cells": [
  {
   "cell_type": "code",
   "execution_count": 1,
   "metadata": {},
   "outputs": [],
   "source": [
    "from cogent3 import load_aligned_seqs, get_app, app_help, available_apps\n",
    "import pathlib\n"
   ]
  },
  {
   "cell_type": "code",
   "execution_count": 2,
   "metadata": {},
   "outputs": [],
   "source": [
    "paths = list(pathlib.Path(\"../data/16s-10\").glob(\"**/*.json\"))\n"
   ]
  },
  {
   "cell_type": "code",
   "execution_count": 3,
   "metadata": {},
   "outputs": [],
   "source": [
    "path = paths[0]\n"
   ]
  },
  {
   "cell_type": "code",
   "execution_count": 4,
   "metadata": {},
   "outputs": [
    {
     "data": {
      "text/plain": [
       "PosixPath('../data/16s-10/selected_alns/6-100667_200580_279422.json')"
      ]
     },
     "execution_count": 4,
     "metadata": {},
     "output_type": "execute_result"
    }
   ],
   "source": [
    "path"
   ]
  },
  {
   "cell_type": "code",
   "execution_count": 5,
   "metadata": {},
   "outputs": [],
   "source": [
    "aln = load_aligned_seqs(path)"
   ]
  },
  {
   "cell_type": "code",
   "execution_count": 6,
   "metadata": {},
   "outputs": [
    {
     "data": {
      "text/html": [
       "<style>\n",
       ".c3align table {margin: 10px 0;}\n",
       ".c3align td { border: none !important; text-align: left !important; }\n",
       ".c3align tr:not(.num_row) td span {margin: 0 2px;}\n",
       ".c3align tr:nth-child(even) {background: #f7f7f7;}\n",
       ".c3align .num_row {background-color:rgba(161, 195, 209, 0.5) !important; border-top: solid 1px black; }\n",
       ".c3align .label { font-size: 12pt ; text-align: right !important; color: black !important; padding: 0 4px; display: table-cell !important; font-weight: normal !important; }\n",
       ".c3align .T_dna{font-family: \"Lucida Console\",monospace !important; font-size: 12pt !important; color: blue; }\n",
       ".c3align .C_dna{font-family: \"Lucida Console\",monospace !important; font-size: 12pt !important; color: black; }\n",
       ".c3align .A_dna{font-family: \"Lucida Console\",monospace !important; font-size: 12pt !important; color: #FF0102; }\n",
       ".c3align .G_dna{font-family: \"Lucida Console\",monospace !important; font-size: 12pt !important; color: green; }\n",
       ".c3align .terminal_ambig_dna{font-family: \"Lucida Console\",monospace !important; font-size: 12pt !important; color: gray; }\n",
       ".c3align .ambig_dna{font-family: \"Lucida Console\",monospace !important; font-size: 12pt !important; color: gray; }\n",
       "</style>\n",
       "<div class=\"c3align\">\n",
       "<table>\n",
       "<tr class=\"num_row\"><td></td><td><b>0</b></td></tr>\n",
       "<tr><td class=\"label\">200580</td><td><span class=\"terminal_ambig_dna\">-</span><span class=\"terminal_ambig_dna\">-</span><span class=\"terminal_ambig_dna\">-</span><span class=\"terminal_ambig_dna\">-</span><span class=\"A_dna\">A</span><span class=\"A_dna\">A</span><span class=\"C_dna\">C</span><span class=\"G_dna\">G</span><span class=\"C_dna\">C</span><span class=\"T_dna\">T</span><span class=\"A_dna\">A</span><span class=\"G_dna\">G</span><span class=\"C_dna\">C</span><span class=\"G_dna\">G</span><span class=\"A_dna\">A</span><span class=\"C_dna\">C</span><span class=\"A_dna\">A</span><span class=\"A_dna\">A</span><span class=\"G_dna\">G</span><span class=\"C_dna\">C</span><span class=\"C_dna\">C</span><span class=\"T_dna\">T</span><span class=\"A_dna\">A</span><span class=\"A_dna\">A</span><span class=\"C_dna\">C</span><span class=\"A_dna\">A</span><span class=\"C_dna\">C</span><span class=\"A_dna\">A</span><span class=\"T_dna\">T</span><span class=\"G_dna\">G</span><span class=\"C_dna\">C</span><span class=\"A_dna\">A</span><span class=\"A_dna\">A</span><span class=\"G_dna\">G</span><span class=\"T_dna\">T</span><span class=\"T_dna\">T</span><span class=\"G_dna\">G</span><span class=\"T_dna\">T</span><span class=\"G_dna\">G</span><span class=\"C_dna\">C</span><span class=\"G_dna\">G</span><span class=\"A_dna\">A</span><span class=\"A_dna\">A</span><span class=\"G_dna\">G</span><span class=\"C_dna\">C</span><span class=\"A_dna\">A</span><span class=\"G_dna\">G</span><span class=\"C_dna\">C</span><span class=\"G_dna\">G</span><span class=\"A_dna\">A</span><span class=\"A_dna\">A</span><span class=\"C_dna\">C</span><span class=\"G_dna\">G</span><span class=\"G_dna\">G</span><span class=\"G_dna\">G</span><span class=\"T_dna\">T</span><span class=\"G_dna\">G</span><span class=\"A_dna\">A</span><span class=\"G_dna\">G</span><span class=\"T_dna\">T</span></td></tr>\n",
       "<tr><td class=\"label\">279422</td><td><span class=\"terminal_ambig_dna\">.</span><span class=\"terminal_ambig_dna\">.</span><span class=\"terminal_ambig_dna\">.</span><span class=\"terminal_ambig_dna\">.</span><span class=\"ambig_dna\">-</span><span class=\"ambig_dna\">-</span><span class=\"ambig_dna\">-</span><span class=\"ambig_dna\">-</span><span class=\"ambig_dna\">-</span><span class=\"ambig_dna\">-</span><span class=\"G_dna\">G</span><span class=\"G_dna\">.</span><span class=\"T_dna\">T</span><span class=\"G_dna\">.</span><span class=\"A_dna\">.</span><span class=\"G_dna\">G</span><span class=\"T_dna\">T</span><span class=\"G_dna\">G</span><span class=\"G_dna\">.</span><span class=\"C_dna\">.</span><span class=\"ambig_dna\">-</span><span class=\"ambig_dna\">-</span><span class=\"ambig_dna\">-</span><span class=\"ambig_dna\">-</span><span class=\"ambig_dna\">-</span><span class=\"ambig_dna\">-</span><span class=\"ambig_dna\">-</span><span class=\"ambig_dna\">-</span><span class=\"ambig_dna\">-</span><span class=\"ambig_dna\">-</span><span class=\"ambig_dna\">-</span><span class=\"ambig_dna\">-</span><span class=\"A_dna\">.</span><span class=\"ambig_dna\">-</span><span class=\"ambig_dna\">-</span><span class=\"ambig_dna\">-</span><span class=\"ambig_dna\">-</span><span class=\"ambig_dna\">-</span><span class=\"ambig_dna\">-</span><span class=\"ambig_dna\">-</span><span class=\"ambig_dna\">-</span><span class=\"ambig_dna\">-</span><span class=\"ambig_dna\">-</span><span class=\"ambig_dna\">-</span><span class=\"ambig_dna\">-</span><span class=\"ambig_dna\">-</span><span class=\"ambig_dna\">-</span><span class=\"ambig_dna\">-</span><span class=\"G_dna\">.</span><span class=\"A_dna\">.</span><span class=\"A_dna\">.</span><span class=\"C_dna\">.</span><span class=\"G_dna\">.</span><span class=\"G_dna\">.</span><span class=\"G_dna\">.</span><span class=\"T_dna\">.</span><span class=\"G_dna\">.</span><span class=\"A_dna\">.</span><span class=\"G_dna\">.</span><span class=\"T_dna\">.</span></td></tr>\n",
       "<tr><td class=\"label\">100667</td><td><span class=\"G_dna\">G</span><span class=\"C_dna\">C</span><span class=\"C_dna\">C</span><span class=\"terminal_ambig_dna\">.</span><span class=\"A_dna\">.</span><span class=\"C_dna\">C</span><span class=\"T_dna\">T</span><span class=\"G_dna\">.</span><span class=\"C_dna\">.</span><span class=\"T_dna\">.</span><span class=\"A_dna\">.</span><span class=\"T_dna\">T</span><span class=\"G_dna\">G</span><span class=\"G_dna\">.</span><span class=\"G_dna\">G</span><span class=\"G_dna\">G</span><span class=\"G_dna\">G</span><span class=\"C_dna\">C</span><span class=\"C_dna\">C</span><span class=\"G_dna\">G</span><span class=\"C_dna\">.</span><span class=\"T_dna\">.</span><span class=\"A_dna\">.</span><span class=\"A_dna\">.</span><span class=\"G_dna\">G</span><span class=\"C_dna\">C</span><span class=\"C_dna\">.</span><span class=\"A_dna\">.</span><span class=\"T_dna\">.</span><span class=\"G_dna\">.</span><span class=\"C_dna\">.</span><span class=\"G_dna\">G</span><span class=\"A_dna\">.</span><span class=\"G_dna\">.</span><span class=\"T_dna\">.</span><span class=\"C_dna\">C</span><span class=\"A_dna\">A</span><span class=\"T_dna\">.</span><span class=\"G_dna\">.</span><span class=\"G_dna\">G</span><span class=\"G_dna\">.</span><span class=\"ambig_dna\">-</span><span class=\"A_dna\">.</span><span class=\"C_dna\">C</span><span class=\"C_dna\">.</span><span class=\"G_dna\">G</span><span class=\"G_dna\">.</span><span class=\"C_dna\">.</span><span class=\"G_dna\">.</span><span class=\"G_dna\">G</span><span class=\"A_dna\">.</span><span class=\"C_dna\">.</span><span class=\"G_dna\">.</span><span class=\"G_dna\">.</span><span class=\"C_dna\">C</span><span class=\"T_dna\">.</span><span class=\"C_dna\">C</span><span class=\"A_dna\">.</span><span class=\"G_dna\">.</span><span class=\"T_dna\">.</span></td></tr>\n",
       "</table>\n",
       "<p><i>3 x 1287 (truncated to 3 x 60) dna alignment</i></p>\n",
       "</div>"
      ],
      "text/plain": [
       "3 x 1287 alignment: 279422[----------G...], 100667[GCC-ACTGCTA...], 200580[----AACGCTA...]"
      ]
     },
     "execution_count": 6,
     "metadata": {},
     "output_type": "execute_result"
    }
   ],
   "source": [
    "aln"
   ]
  },
  {
   "cell_type": "code",
   "execution_count": 7,
   "metadata": {},
   "outputs": [
    {
     "name": "stdout",
     "output_type": "stream",
     "text": [
      "Overview\n",
      "--------\n",
      "Excludes alignment columns with degenerate characters. Can accomodate\n",
      "reading frame.\n",
      "\n",
      "Options for making the app\n",
      "--------------------------\n",
      "omit_degenerates_app = get_app(\n",
      "    \"omit_degenerates\",\n",
      "    moltype: Optional[str] = None,\n",
      "    gap_is_degen: bool = True,\n",
      "    motif_length: int = 1,\n",
      ")\n",
      "\n",
      "Parameters\n",
      "----------\n",
      "moltype : str\n",
      "    molecular type, must be either DNA or RNA\n",
      "gap_is_degen : bool\n",
      "    include gap character in degenerate character set\n",
      "motif_length : int\n",
      "    sequences split into non-overlapping tuples of this size. If a\n",
      "    tuple contains a degen character at any position the entire tuple\n",
      "    is excluded\n",
      "\n",
      "Examples\n",
      "--------\n",
      "Degenerate IUPAC base symbols represents a site position that can have\n",
      "multiple possible nucleotides. For example, \"Y\" represents\n",
      "pyrimidines where the site can be either \"C\" or \"T\".\n",
      "\n",
      "Note: In molecular evolutionary and phylogenetic analyses, the gap\n",
      "character \"-\" is considered to be any base \"N\".\n",
      "\n",
      "Create sample data with degenerate characters\n",
      "\n",
      ">>> from cogent3 import app_help, get_app, make_aligned_seqs\n",
      ">>> aln = make_aligned_seqs({\"s1\": \"ACGA-GACG\", \"s2\": \"GATGATGYT\"}, moltype=\"dna\")\n",
      "\n",
      "Create an app that omits aligned columns containing a degenerate\n",
      "character from an alignment\n",
      "\n",
      ">>> app = get_app(\"omit_degenerates\", moltype=\"dna\")\n",
      ">>> result = app(aln)\n",
      ">>> print(result.to_pretty())\n",
      "s1    ACGAGAG\n",
      "s2    GATGTGT\n",
      "\n",
      "Create an app which omits degenerate characters, but retains gaps\n",
      "\n",
      ">>> app = get_app(\"omit_degenerates\", moltype=\"dna\", gap_is_degen=False)\n",
      ">>> result = app(aln)\n",
      ">>> print(result.to_pretty())\n",
      "s1    ACGA-GAG\n",
      "s2    GATGATGT\n",
      "\n",
      "Split sequences into non-overlapping tuples of length 2 and exclude\n",
      "any tuple that contains a degenerate character\n",
      "\n",
      ">>> app = get_app(\"omit_degenerates\", moltype=\"dna\", motif_length=2)\n",
      ">>> result = app(aln)\n",
      ">>> print(result.to_pretty())\n",
      "s1    ACGA\n",
      "s2    GATG\n",
      "\n",
      "A NotCompleted object (see https://cogent3.org/doc/app/not-completed.html)\n",
      "is returned if the moltype is not specified in the alignment or app\n",
      "\n",
      ">>> aln = make_aligned_seqs({\"s1\": \"ACGA-GACG\", \"s2\": \"GATGATGYT\"})\n",
      ">>> app = get_app(\"omit_degenerates\")\n",
      ">>> result = app(aln)\n",
      ">>> result.message\n",
      "'Traceback...\n",
      "\n",
      "Input type\n",
      "----------\n",
      "ArrayAlignment, Alignment\n",
      "\n",
      "Output type\n",
      "-----------\n",
      "ArrayAlignment, Alignment, SerialisableType\n"
     ]
    }
   ],
   "source": [
    "app_help(\"omit_degenerates\")\n",
    "# available_apps(\"sample\")"
   ]
  },
  {
   "cell_type": "code",
   "execution_count": 8,
   "metadata": {},
   "outputs": [],
   "source": [
    "no_degenerates = get_app(\n",
    "    \"omit_degenerates\",\n",
    "    moltype = None,\n",
    "    gap_is_degen = True,\n",
    "    motif_length = 1,\n",
    ")"
   ]
  },
  {
   "cell_type": "code",
   "execution_count": 9,
   "metadata": {},
   "outputs": [
    {
     "data": {
      "text/html": [
       "<style>\n",
       ".c3align table {margin: 10px 0;}\n",
       ".c3align td { border: none !important; text-align: left !important; }\n",
       ".c3align tr:not(.num_row) td span {margin: 0 2px;}\n",
       ".c3align tr:nth-child(even) {background: #f7f7f7;}\n",
       ".c3align .num_row {background-color:rgba(161, 195, 209, 0.5) !important; border-top: solid 1px black; }\n",
       ".c3align .label { font-size: 12pt ; text-align: right !important; color: black !important; padding: 0 4px; display: table-cell !important; font-weight: normal !important; }\n",
       ".c3align .T_dna{font-family: \"Lucida Console\",monospace !important; font-size: 12pt !important; color: blue; }\n",
       ".c3align .C_dna{font-family: \"Lucida Console\",monospace !important; font-size: 12pt !important; color: black; }\n",
       ".c3align .A_dna{font-family: \"Lucida Console\",monospace !important; font-size: 12pt !important; color: #FF0102; }\n",
       ".c3align .G_dna{font-family: \"Lucida Console\",monospace !important; font-size: 12pt !important; color: green; }\n",
       ".c3align .terminal_ambig_dna{font-family: \"Lucida Console\",monospace !important; font-size: 12pt !important; color: gray; }\n",
       ".c3align .ambig_dna{font-family: \"Lucida Console\",monospace !important; font-size: 12pt !important; color: gray; }\n",
       "</style>\n",
       "<div class=\"c3align\">\n",
       "<table>\n",
       "<tr class=\"num_row\"><td></td><td><b>0</b></td></tr>\n",
       "<tr><td class=\"label\">100667</td><td><span class=\"A_dna\">A</span><span class=\"T_dna\">T</span><span class=\"G_dna\">G</span><span class=\"G_dna\">G</span><span class=\"G_dna\">G</span><span class=\"G_dna\">G</span><span class=\"G_dna\">G</span><span class=\"C_dna\">C</span><span class=\"C_dna\">C</span><span class=\"G_dna\">G</span><span class=\"A_dna\">A</span><span class=\"G_dna\">G</span><span class=\"G_dna\">G</span><span class=\"A_dna\">A</span><span class=\"C_dna\">C</span><span class=\"G_dna\">G</span><span class=\"G_dna\">G</span><span class=\"C_dna\">C</span><span class=\"T_dna\">T</span><span class=\"C_dna\">C</span><span class=\"A_dna\">A</span><span class=\"G_dna\">G</span><span class=\"T_dna\">T</span><span class=\"A_dna\">A</span><span class=\"A_dna\">A</span><span class=\"C_dna\">C</span><span class=\"A_dna\">A</span><span class=\"C_dna\">C</span><span class=\"G_dna\">G</span><span class=\"T_dna\">T</span><span class=\"C_dna\">C</span><span class=\"G_dna\">G</span><span class=\"G_dna\">G</span><span class=\"T_dna\">T</span><span class=\"A_dna\">A</span><span class=\"C_dna\">C</span><span class=\"C_dna\">C</span><span class=\"T_dna\">T</span><span class=\"A_dna\">A</span><span class=\"C_dna\">C</span><span class=\"C_dna\">C</span><span class=\"C_dna\">C</span><span class=\"T_dna\">T</span><span class=\"C_dna\">C</span><span class=\"G_dna\">G</span><span class=\"G_dna\">G</span><span class=\"G_dna\">G</span><span class=\"A_dna\">A</span><span class=\"G_dna\">G</span><span class=\"G_dna\">G</span><span class=\"G_dna\">G</span><span class=\"G_dna\">G</span><span class=\"G_dna\">G</span><span class=\"A_dna\">A</span><span class=\"T_dna\">T</span><span class=\"A_dna\">A</span><span class=\"A_dna\">A</span><span class=\"C_dna\">C</span><span class=\"C_dna\">C</span><span class=\"C_dna\">C</span></td></tr>\n",
       "<tr><td class=\"label\">279422</td><td><span class=\"G_dna\">G</span><span class=\"G_dna\">G</span><span class=\"T_dna\">T</span><span class=\"G_dna\">.</span><span class=\"A_dna\">A</span><span class=\"G_dna\">.</span><span class=\"T_dna\">T</span><span class=\"G_dna\">G</span><span class=\"G_dna\">G</span><span class=\"C_dna\">C</span><span class=\"A_dna\">.</span><span class=\"G_dna\">.</span><span class=\"A_dna\">A</span><span class=\"A_dna\">.</span><span class=\"C_dna\">.</span><span class=\"G_dna\">.</span><span class=\"G_dna\">.</span><span class=\"G_dna\">G</span><span class=\"T_dna\">.</span><span class=\"G_dna\">G</span><span class=\"A_dna\">.</span><span class=\"G_dna\">.</span><span class=\"T_dna\">.</span><span class=\"A_dna\">.</span><span class=\"A_dna\">.</span><span class=\"C_dna\">.</span><span class=\"G_dna\">G</span><span class=\"C_dna\">.</span><span class=\"G_dna\">.</span><span class=\"T_dna\">.</span><span class=\"G_dna\">G</span><span class=\"G_dna\">.</span><span class=\"G_dna\">.</span><span class=\"A_dna\">A</span><span class=\"A_dna\">.</span><span class=\"T_dna\">T</span><span class=\"C_dna\">.</span><span class=\"T_dna\">.</span><span class=\"A_dna\">.</span><span class=\"C_dna\">.</span><span class=\"C_dna\">.</span><span class=\"C_dna\">.</span><span class=\"A_dna\">A</span><span class=\"T_dna\">T</span><span class=\"C_dna\">C</span><span class=\"C_dna\">C</span><span class=\"C_dna\">C</span><span class=\"T_dna\">T</span><span class=\"A_dna\">A</span><span class=\"C_dna\">C</span><span class=\"G_dna\">.</span><span class=\"G_dna\">.</span><span class=\"G_dna\">.</span><span class=\"A_dna\">.</span><span class=\"T_dna\">.</span><span class=\"A_dna\">.</span><span class=\"G_dna\">G</span><span class=\"C_dna\">.</span><span class=\"T_dna\">T</span><span class=\"C_dna\">.</span></td></tr>\n",
       "<tr><td class=\"label\">200580</td><td><span class=\"A_dna\">.</span><span class=\"G_dna\">G</span><span class=\"C_dna\">C</span><span class=\"G_dna\">.</span><span class=\"A_dna\">A</span><span class=\"C_dna\">C</span><span class=\"A_dna\">A</span><span class=\"A_dna\">A</span><span class=\"G_dna\">G</span><span class=\"C_dna\">C</span><span class=\"A_dna\">.</span><span class=\"G_dna\">.</span><span class=\"A_dna\">A</span><span class=\"A_dna\">.</span><span class=\"C_dna\">.</span><span class=\"G_dna\">.</span><span class=\"G_dna\">.</span><span class=\"G_dna\">G</span><span class=\"T_dna\">.</span><span class=\"G_dna\">G</span><span class=\"A_dna\">.</span><span class=\"G_dna\">.</span><span class=\"T_dna\">.</span><span class=\"A_dna\">.</span><span class=\"A_dna\">.</span><span class=\"A_dna\">A</span><span class=\"A_dna\">.</span><span class=\"T_dna\">T</span><span class=\"A_dna\">A</span><span class=\"C_dna\">C</span><span class=\"A_dna\">A</span><span class=\"A_dna\">A</span><span class=\"G_dna\">.</span><span class=\"A_dna\">A</span><span class=\"A_dna\">.</span><span class=\"T_dna\">T</span><span class=\"C_dna\">.</span><span class=\"T_dna\">.</span><span class=\"G_dna\">G</span><span class=\"C_dna\">.</span><span class=\"C_dna\">.</span><span class=\"T_dna\">T</span><span class=\"T_dna\">.</span><span class=\"T_dna\">T</span><span class=\"T_dna\">T</span><span class=\"A_dna\">A</span><span class=\"G_dna\">.</span><span class=\"T_dna\">T</span><span class=\"A_dna\">A</span><span class=\"T_dna\">T</span><span class=\"T_dna\">T</span><span class=\"A_dna\">A</span><span class=\"G_dna\">.</span><span class=\"A_dna\">.</span><span class=\"A_dna\">A</span><span class=\"A_dna\">.</span><span class=\"A_dna\">.</span><span class=\"T_dna\">T</span><span class=\"A_dna\">A</span><span class=\"T_dna\">T</span></td></tr>\n",
       "</table>\n",
       "<p><i>3 x 1192 (truncated to 3 x 60) dna alignment</i></p>\n",
       "</div>"
      ],
      "text/plain": [
       "3 x 1192 alignment: 279422[GGTGAGTGGCA...], 100667[ATGGGGGCCGA...], 200580[AGCGACAAGCA...]"
      ]
     },
     "execution_count": 9,
     "metadata": {},
     "output_type": "execute_result"
    }
   ],
   "source": [
    "aln1 = no_degenerates(aln)\n",
    "aln1"
   ]
  },
  {
   "cell_type": "code",
   "execution_count": 10,
   "metadata": {},
   "outputs": [
    {
     "name": "stdout",
     "output_type": "stream",
     "text": [
      "Overview\n",
      "--------\n",
      "Define a substitution model + tree for maximum likelihood evaluation.\n",
      "\n",
      "Options for making the app\n",
      "--------------------------\n",
      "model_app = get_app(\n",
      "    \"model\",\n",
      "    sm,\n",
      "    tree=None,\n",
      "    unique_trees=False,\n",
      "    tree_func=None,\n",
      "    name=None,\n",
      "    optimise_motif_probs=False,\n",
      "    sm_args=None,\n",
      "    lf_args=None,\n",
      "    time_het=None,\n",
      "    param_rules=None,\n",
      "    opt_args=None,\n",
      "    lower=1e-06,\n",
      "    upper=50,\n",
      "    split_codons=False,\n",
      "    show_progress=False,\n",
      "    verbose=False,\n",
      ")\n",
      "\n",
      "Parameters\n",
      "----------\n",
      "sm : str or instance\n",
      "    substitution model if string must be available via get_model()\n",
      "tree\n",
      "    if None, assumes a star phylogeny (only valid for 3 taxa). Can be a\n",
      "    newick formatted tree, a path to a file containing one, or a Tree\n",
      "    instance.\n",
      "unique_trees : bool\n",
      "    whether to specify a unique tree per alignment. Only applies if\n",
      "    number of sequences equals 3.\n",
      "tree_func: callable\n",
      "    a callable that takes an alignment and returns a Tree instance.\n",
      "    Overrides tree and unique_tree settings.\n",
      "name : str\n",
      "    name of the model\n",
      "optimise_motif_probs : bool\n",
      "    whether the motif probabilities are free parameters. If False,\n",
      "    takes the average of frequencies from the alignment. Overrides\n",
      "    the setting of a sub model instance, or any value provided in\n",
      "    sm_args.\n",
      "sm_args : dict\n",
      "    arguments to be passed to the substitution model constructor\n",
      "lf_args : dict\n",
      "    arguments to be passed to the likelihood function constructor\n",
      "time_het\n",
      "    Affects whether substitution model rate parameters are\n",
      "    heterogeneous between branches on the tree. To define a maximally\n",
      "    time-heterogeneous model, set the string value 'max', which\n",
      "    makes all rate matrix exchangeability parameters unique for all\n",
      "    edges. More restricted time-heterogeneity can be specified\n",
      "    using a list of dicts corresponding to edge_sets, e.g.\n",
      "    ``[dict(edges=['Human', 'Chimp'], is_independent=False, upper=10)]``.\n",
      "    This value is passed to <likelihood function>.set_time_heterogeneity()\n",
      "param_rules : list\n",
      "    other parameter rules, passed to\n",
      "    <likelihood function>.set_param_rule()\n",
      "opt_args : dict\n",
      "    arguments for the numerical optimiser, e.g.\n",
      "    dict(max_restarts=5, tolerance=1e-6, max_evaluations=1000,\n",
      "    limit_action='ignore')\n",
      "lower, upper\n",
      "    bounds for all rate and length parameters. Ignored if a\n",
      "    rule in ``param_rules`` or ``time_het`` has a value defined.\n",
      "split_codons : bool\n",
      "    if True, incoming alignments are split into the 3 frames and each\n",
      "    frame is fit separately\n",
      "show_progress : bool\n",
      "    show progress bars during numerical optimisation\n",
      "verbose : bool\n",
      "    prints intermediate states to screen during fitting\n",
      "\n",
      "Returns\n",
      "-------\n",
      "Calling an instance with an alignment returns a model_result instance\n",
      "with the optimised likelihood function. In the case of split_codons,\n",
      "the result object has a separate entry for each codon position.\n",
      "\n",
      "Input type\n",
      "----------\n",
      "ArrayAlignment, Alignment\n",
      "\n",
      "Output type\n",
      "-----------\n",
      "model_result, SerialisableType\n"
     ]
    }
   ],
   "source": [
    "app_help(\"model\")"
   ]
  },
  {
   "cell_type": "code",
   "execution_count": 11,
   "metadata": {},
   "outputs": [],
   "source": [
    "GN_model = get_app(\"model\", sm = \"GN\", \n",
    "                unique_trees = True, time_het = \"max\", optimise_motif_probs = True, \n",
    "                show_progress = True, opt_args = dict(max_restarts=5))"
   ]
  },
  {
   "cell_type": "code",
   "execution_count": 12,
   "metadata": {},
   "outputs": [
    {
     "data": {
      "application/vnd.jupyter.widget-view+json": {
       "model_id": "9ff18c342efb4282b6e2a0eb356dd558",
       "version_major": 2,
       "version_minor": 0
      },
      "text/plain": [
       "   0%|          |00:00<?"
      ]
     },
     "metadata": {},
     "output_type": "display_data"
    },
    {
     "data": {
      "application/vnd.jupyter.widget-view+json": {
       "model_id": "3f44a50c4182473f86347c62240ff3f2",
       "version_major": 2,
       "version_minor": 0
      },
      "text/plain": [
       "   0%|          |00:00<?"
      ]
     },
     "metadata": {},
     "output_type": "display_data"
    }
   ],
   "source": [
    "result = GN_model(aln1)"
   ]
  },
  {
   "cell_type": "code",
   "execution_count": 13,
   "metadata": {},
   "outputs": [
    {
     "data": {
      "text/html": [
       "\n",
       "<div class=\"c3table\">\n",
       "\n",
       "<style>\n",
       ".c3table table {margin: 10px 0;}\n",
       ".c3table tr:last-child {border-bottom: 1px solid #000;} \n",
       ".c3table tr > th {text-align: left; padding: 0 5px;}\n",
       ".c3table tr > td {text-align: left; padding: 5px;}\n",
       ".c3table tr:nth-child(even) {background: #f7f7f7 !important;}\n",
       ".c3table .ellipsis {background: rgba(0, 0, 0, .01);}\n",
       ".c3table .index {background: rgba(161, 195, 209, 0.0); margin: 10px; font-weight: 600;}\n",
       ".c3table .head_cell {background: rgba(161, 195, 209, 0.75); font-weight: bold; text-align: center;}\n",
       ".c3table caption {color: rgb(250, 250, 250); background: rgba(30, 140, 200, 1); padding: 3px; white-space: nowrap; caption-side: top;}\n",
       ".c3table .cell_title {font-weight: bold;}\n",
       ".c3col_left { text-align: left !important; display: block;}\n",
       ".c3col_right { text-align: right !important; display: block;}\n",
       ".c3col_center { text-align: center !important; display: block;}\n",
       "</style>\n",
       "\n",
       "<table>\n",
       "\n",
       "<caption>\n",
       "<span class=\"cell_title\">GN</span>\n",
       "</caption>\n",
       "<thead class=\"head_cell\">\n",
       "<th>key</th><th>lnL</th><th>nfp</th><th>DLC</th><th>unique_Q</th>\n",
       "</thead>\n",
       "<tbody>\n",
       "<tr><td><span class=\"c3col_left\">'GN'</span></td><td><span class=\"c3col_right\">-3559.8498</span></td><td><span class=\"c3col_right\">39</span></td><td><span class=\"c3col_left\">True</span></td><td><span class=\"c3col_left\">True</span></td></tr>\n",
       "</tbody>\n",
       "</table>\n",
       "\n",
       "</div>"
      ],
      "text/plain": [
       "GN\n",
       "=============================================\n",
       "key            lnL    nfp    DLC     unique_Q\n",
       "---------------------------------------------\n",
       "'GN'    -3559.8498     39    True    True    \n",
       "---------------------------------------------\n",
       "\n",
       "1 rows x 5 columns"
      ]
     },
     "execution_count": 13,
     "metadata": {},
     "output_type": "execute_result"
    }
   ],
   "source": [
    "result"
   ]
  },
  {
   "cell_type": "code",
   "execution_count": 14,
   "metadata": {},
   "outputs": [
    {
     "data": {
      "text/html": [
       "<h4>GN</h4>\n",
       "<p>log-likelihood = -3559.8498</p>\n",
       "<p>number of free parameters = 39</p>\n",
       "\n",
       "<div class=\"c3table\">\n",
       "\n",
       "<style>\n",
       ".c3table table {margin: 10px 0;}\n",
       ".c3table tr:last-child {border-bottom: 1px solid #000;} \n",
       ".c3table tr > th {text-align: left; padding: 0 5px;}\n",
       ".c3table tr > td {text-align: left; padding: 5px;}\n",
       ".c3table tr:nth-child(even) {background: #f7f7f7 !important;}\n",
       ".c3table .ellipsis {background: rgba(0, 0, 0, .01);}\n",
       ".c3table .index {background: rgba(161, 195, 209, 0.0); margin: 10px; font-weight: 600;}\n",
       ".c3table .head_cell {background: rgba(161, 195, 209, 0.75); font-weight: bold; text-align: center;}\n",
       ".c3table caption {color: rgb(250, 250, 250); background: rgba(30, 140, 200, 1); padding: 3px; white-space: nowrap; caption-side: top;}\n",
       ".c3table .cell_title {font-weight: bold;}\n",
       ".c3col_left { text-align: left !important; display: block;}\n",
       ".c3col_right { text-align: right !important; display: block;}\n",
       ".c3col_center { text-align: center !important; display: block;}\n",
       "</style>\n",
       "\n",
       "<table>\n",
       "\n",
       "<caption>\n",
       "<span class=\"cell_title\">Edge params</span>\n",
       "</caption>\n",
       "<thead class=\"head_cell\">\n",
       "<th>edge</th><th>parent</th><th>length</th><th>A>C</th><th>A>G</th><th>A>T</th><th>C>A</th><th>C>G</th><th>C>T</th>\n",
       "</thead>\n",
       "<tbody>\n",
       "<tr><td><span class=\"c3col_left\">279422</span></td><td><span class=\"c3col_left\">root</span></td><td><span class=\"c3col_right\">0.0592</span></td><td><span class=\"c3col_right\">0.2535</span></td><td><span class=\"c3col_right\">1.1411</span></td><td><span class=\"c3col_right\">0.0000</span></td><td><span class=\"c3col_right\">0.4709</span></td><td><span class=\"c3col_right\">0.4331</span></td><td><span class=\"c3col_right\">2.0511</span></td></tr>\n",
       "<tr><td><span class=\"c3col_left\">100667</span></td><td><span class=\"c3col_left\">root</span></td><td><span class=\"c3col_right\">0.3943</span></td><td><span class=\"c3col_right\">0.2112</span></td><td><span class=\"c3col_right\">1.0599</span></td><td><span class=\"c3col_right\">0.1849</span></td><td><span class=\"c3col_right\">0.2753</span></td><td><span class=\"c3col_right\">1.5972</span></td><td><span class=\"c3col_right\">0.5602</span></td></tr>\n",
       "<tr><td><span class=\"c3col_left\">200580</span></td><td><span class=\"c3col_left\">root</span></td><td><span class=\"c3col_right\">0.2845</span></td><td><span class=\"c3col_right\">0.0000</span></td><td><span class=\"c3col_right\">0.1527</span></td><td><span class=\"c3col_right\">0.8086</span></td><td><span class=\"c3col_right\">3.1596</span></td><td><span class=\"c3col_right\">0.3360</span></td><td><span class=\"c3col_right\">12.1076</span></td></tr>\n",
       "</tbody>\n",
       "</table>\n",
       "\n",
       "<table>\n",
       "\n",
       "<caption>\n",
       "<span class=\"cell_title\">continuation</span>\n",
       "</caption>\n",
       "<thead class=\"head_cell\">\n",
       "<th>G>A</th><th>G>C</th><th>G>T</th><th>T>A</th><th>T>C</th>\n",
       "</thead>\n",
       "<tbody>\n",
       "<tr><td><span class=\"c3col_right\">1.6146</span></td><td><span class=\"c3col_right\">0.5758</span></td><td><span class=\"c3col_right\">0.0000</span></td><td><span class=\"c3col_right\">2.4382</span></td><td><span class=\"c3col_right\">0.6451</span></td></tr>\n",
       "<tr><td><span class=\"c3col_right\">0.1283</span></td><td><span class=\"c3col_right\">1.3527</span></td><td><span class=\"c3col_right\">0.1530</span></td><td><span class=\"c3col_right\">0.3143</span></td><td><span class=\"c3col_right\">2.2674</span></td></tr>\n",
       "<tr><td><span class=\"c3col_right\">9.6731</span></td><td><span class=\"c3col_right\">0.3106</span></td><td><span class=\"c3col_right\">3.6135</span></td><td><span class=\"c3col_right\">3.6140</span></td><td><span class=\"c3col_right\">0.2391</span></td></tr>\n",
       "</tbody>\n",
       "</table>\n",
       "\n",
       "</div>\n",
       "\n",
       "<div class=\"c3table\">\n",
       "\n",
       "<style>\n",
       ".c3table table {margin: 10px 0;}\n",
       ".c3table tr:last-child {border-bottom: 1px solid #000;} \n",
       ".c3table tr > th {text-align: left; padding: 0 5px;}\n",
       ".c3table tr > td {text-align: left; padding: 5px;}\n",
       ".c3table tr:nth-child(even) {background: #f7f7f7 !important;}\n",
       ".c3table .ellipsis {background: rgba(0, 0, 0, .01);}\n",
       ".c3table .index {background: rgba(161, 195, 209, 0.0); margin: 10px; font-weight: 600;}\n",
       ".c3table .head_cell {background: rgba(161, 195, 209, 0.75); font-weight: bold; text-align: center;}\n",
       ".c3table caption {color: rgb(250, 250, 250); background: rgba(30, 140, 200, 1); padding: 3px; white-space: nowrap; caption-side: top;}\n",
       ".c3table .cell_title {font-weight: bold;}\n",
       ".c3col_left { text-align: left !important; display: block;}\n",
       ".c3col_right { text-align: right !important; display: block;}\n",
       ".c3col_center { text-align: center !important; display: block;}\n",
       "</style>\n",
       "\n",
       "<table>\n",
       "\n",
       "<caption>\n",
       "<span class=\"cell_title\">Motif params</span>\n",
       "</caption>\n",
       "<thead class=\"head_cell\">\n",
       "<th>A</th><th>C</th><th>G</th><th>T</th>\n",
       "</thead>\n",
       "<tbody>\n",
       "<tr><td><span class=\"c3col_right\">0.2197</span></td><td><span class=\"c3col_right\">0.2469</span></td><td><span class=\"c3col_right\">0.3316</span></td><td><span class=\"c3col_right\">0.2017</span></td></tr>\n",
       "</tbody>\n",
       "</table>\n",
       "\n",
       "</div>"
      ],
      "text/plain": [
       "GN\n",
       "log-likelihood = -3559.8498\n",
       "number of free parameters = 39\n",
       "============================================================================\n",
       "edge      parent    length       A>C       A>G       A>T       C>A       C>G\n",
       "----------------------------------------------------------------------------\n",
       "279422    root      0.0592    0.2535    1.1411    0.0000    0.4709    0.4331\n",
       "100667    root      0.3943    0.2112    1.0599    0.1849    0.2753    1.5972\n",
       "200580    root      0.2845    0.0000    0.1527    0.8086    3.1596    0.3360\n",
       "----------------------------------------------------------------------------\n",
       "\n",
       "continued: \n",
       "=========================================================\n",
       "    C>T       G>A       G>C       G>T       T>A       T>C\n",
       "---------------------------------------------------------\n",
       " 2.0511    1.6146    0.5758    0.0000    2.4382    0.6451\n",
       " 0.5602    0.1283    1.3527    0.1530    0.3143    2.2674\n",
       "12.1076    9.6731    0.3106    3.6135    3.6140    0.2391\n",
       "---------------------------------------------------------\n",
       "\n",
       "====================================\n",
       "     A         C         G         T\n",
       "------------------------------------\n",
       "0.2197    0.2469    0.3316    0.2017\n",
       "------------------------------------"
      ]
     },
     "execution_count": 14,
     "metadata": {},
     "output_type": "execute_result"
    }
   ],
   "source": [
    "result.lf\n"
   ]
  },
  {
   "cell_type": "code",
   "execution_count": 15,
   "metadata": {},
   "outputs": [],
   "source": [
    "edge_names = result.tree.get_node_names(includeself = False)\n",
    "matrices = {n:result.lf.get_rate_matrix_for_edge(n, calibrated = True) for n in edge_names}\n",
    "motif_probs = result.lf.get_motif_probs()"
   ]
  },
  {
   "cell_type": "code",
   "execution_count": 16,
   "metadata": {},
   "outputs": [
    {
     "data": {
      "text/html": [
       "\n",
       "<div class=\"c3table\">\n",
       "\n",
       "<style>\n",
       ".c3table table {margin: 10px 0;}\n",
       ".c3table tr:last-child {border-bottom: 1px solid #000;} \n",
       ".c3table tr > th {text-align: left; padding: 0 5px;}\n",
       ".c3table tr > td {text-align: left; padding: 5px;}\n",
       ".c3table tr:nth-child(even) {background: #f7f7f7 !important;}\n",
       ".c3table .ellipsis {background: rgba(0, 0, 0, .01);}\n",
       ".c3table .index {background: rgba(161, 195, 209, 0.0); margin: 10px; font-weight: 600;}\n",
       ".c3table .head_cell {background: rgba(161, 195, 209, 0.75); font-weight: bold; text-align: center;}\n",
       ".c3table caption {color: rgb(250, 250, 250); background: rgba(30, 140, 200, 1); padding: 3px; white-space: nowrap; caption-side: top;}\n",
       ".c3table .cell_title {font-weight: bold;}\n",
       ".c3col_left { text-align: left !important; display: block;}\n",
       ".c3col_right { text-align: right !important; display: block;}\n",
       ".c3col_center { text-align: center !important; display: block;}\n",
       "</style>\n",
       "\n",
       "<table>\n",
       "\n",
       "<thead class=\"head_cell\">\n",
       "<th>T</th><th>C</th><th>A</th><th>G</th>\n",
       "</thead>\n",
       "<tbody>\n",
       "<tr><td><span class=\"c3col_right\">0.2017</span></td><td><span class=\"c3col_right\">0.2469</span></td><td><span class=\"c3col_right\">0.2197</span></td><td><span class=\"c3col_right\">0.3316</span></td></tr>\n",
       "</tbody>\n",
       "</table>\n",
       "\n",
       "</div>"
      ],
      "text/plain": [
       "====================================\n",
       "     T         C         A         G\n",
       "------------------------------------\n",
       "0.2017    0.2469    0.2197    0.3316\n",
       "------------------------------------"
      ]
     },
     "execution_count": 16,
     "metadata": {},
     "output_type": "execute_result"
    }
   ],
   "source": [
    "motif_probs\n"
   ]
  },
  {
   "cell_type": "code",
   "execution_count": 17,
   "metadata": {},
   "outputs": [
    {
     "data": {
      "text/html": [
       "<h4>GN</h4>\n",
       "<p>log-likelihood = -3559.8498</p>\n",
       "<p>number of free parameters = 39</p>\n",
       "\n",
       "<div class=\"c3table\">\n",
       "\n",
       "<style>\n",
       ".c3table table {margin: 10px 0;}\n",
       ".c3table tr:last-child {border-bottom: 1px solid #000;} \n",
       ".c3table tr > th {text-align: left; padding: 0 5px;}\n",
       ".c3table tr > td {text-align: left; padding: 5px;}\n",
       ".c3table tr:nth-child(even) {background: #f7f7f7 !important;}\n",
       ".c3table .ellipsis {background: rgba(0, 0, 0, .01);}\n",
       ".c3table .index {background: rgba(161, 195, 209, 0.0); margin: 10px; font-weight: 600;}\n",
       ".c3table .head_cell {background: rgba(161, 195, 209, 0.75); font-weight: bold; text-align: center;}\n",
       ".c3table caption {color: rgb(250, 250, 250); background: rgba(30, 140, 200, 1); padding: 3px; white-space: nowrap; caption-side: top;}\n",
       ".c3table .cell_title {font-weight: bold;}\n",
       ".c3col_left { text-align: left !important; display: block;}\n",
       ".c3col_right { text-align: right !important; display: block;}\n",
       ".c3col_center { text-align: center !important; display: block;}\n",
       "</style>\n",
       "\n",
       "<table>\n",
       "\n",
       "<caption>\n",
       "<span class=\"cell_title\">Edge params</span>\n",
       "</caption>\n",
       "<thead class=\"head_cell\">\n",
       "<th>edge</th><th>parent</th><th>length</th><th>A>C</th><th>A>G</th><th>A>T</th><th>C>A</th><th>C>G</th><th>C>T</th>\n",
       "</thead>\n",
       "<tbody>\n",
       "<tr><td><span class=\"c3col_left\">279422</span></td><td><span class=\"c3col_left\">root</span></td><td><span class=\"c3col_right\">0.0592</span></td><td><span class=\"c3col_right\">0.2535</span></td><td><span class=\"c3col_right\">1.1411</span></td><td><span class=\"c3col_right\">0.0000</span></td><td><span class=\"c3col_right\">0.4709</span></td><td><span class=\"c3col_right\">0.4331</span></td><td><span class=\"c3col_right\">2.0511</span></td></tr>\n",
       "<tr><td><span class=\"c3col_left\">100667</span></td><td><span class=\"c3col_left\">root</span></td><td><span class=\"c3col_right\">0.3943</span></td><td><span class=\"c3col_right\">0.2112</span></td><td><span class=\"c3col_right\">1.0599</span></td><td><span class=\"c3col_right\">0.1849</span></td><td><span class=\"c3col_right\">0.2753</span></td><td><span class=\"c3col_right\">1.5972</span></td><td><span class=\"c3col_right\">0.5602</span></td></tr>\n",
       "<tr><td><span class=\"c3col_left\">200580</span></td><td><span class=\"c3col_left\">root</span></td><td><span class=\"c3col_right\">0.2845</span></td><td><span class=\"c3col_right\">0.0000</span></td><td><span class=\"c3col_right\">0.1527</span></td><td><span class=\"c3col_right\">0.8086</span></td><td><span class=\"c3col_right\">3.1596</span></td><td><span class=\"c3col_right\">0.3360</span></td><td><span class=\"c3col_right\">12.1076</span></td></tr>\n",
       "</tbody>\n",
       "</table>\n",
       "\n",
       "<table>\n",
       "\n",
       "<caption>\n",
       "<span class=\"cell_title\">continuation</span>\n",
       "</caption>\n",
       "<thead class=\"head_cell\">\n",
       "<th>G>A</th><th>G>C</th><th>G>T</th><th>T>A</th><th>T>C</th>\n",
       "</thead>\n",
       "<tbody>\n",
       "<tr><td><span class=\"c3col_right\">1.6146</span></td><td><span class=\"c3col_right\">0.5758</span></td><td><span class=\"c3col_right\">0.0000</span></td><td><span class=\"c3col_right\">2.4382</span></td><td><span class=\"c3col_right\">0.6451</span></td></tr>\n",
       "<tr><td><span class=\"c3col_right\">0.1283</span></td><td><span class=\"c3col_right\">1.3527</span></td><td><span class=\"c3col_right\">0.1530</span></td><td><span class=\"c3col_right\">0.3143</span></td><td><span class=\"c3col_right\">2.2674</span></td></tr>\n",
       "<tr><td><span class=\"c3col_right\">9.6731</span></td><td><span class=\"c3col_right\">0.3106</span></td><td><span class=\"c3col_right\">3.6135</span></td><td><span class=\"c3col_right\">3.6140</span></td><td><span class=\"c3col_right\">0.2391</span></td></tr>\n",
       "</tbody>\n",
       "</table>\n",
       "\n",
       "</div>\n",
       "\n",
       "<div class=\"c3table\">\n",
       "\n",
       "<style>\n",
       ".c3table table {margin: 10px 0;}\n",
       ".c3table tr:last-child {border-bottom: 1px solid #000;} \n",
       ".c3table tr > th {text-align: left; padding: 0 5px;}\n",
       ".c3table tr > td {text-align: left; padding: 5px;}\n",
       ".c3table tr:nth-child(even) {background: #f7f7f7 !important;}\n",
       ".c3table .ellipsis {background: rgba(0, 0, 0, .01);}\n",
       ".c3table .index {background: rgba(161, 195, 209, 0.0); margin: 10px; font-weight: 600;}\n",
       ".c3table .head_cell {background: rgba(161, 195, 209, 0.75); font-weight: bold; text-align: center;}\n",
       ".c3table caption {color: rgb(250, 250, 250); background: rgba(30, 140, 200, 1); padding: 3px; white-space: nowrap; caption-side: top;}\n",
       ".c3table .cell_title {font-weight: bold;}\n",
       ".c3col_left { text-align: left !important; display: block;}\n",
       ".c3col_right { text-align: right !important; display: block;}\n",
       ".c3col_center { text-align: center !important; display: block;}\n",
       "</style>\n",
       "\n",
       "<table>\n",
       "\n",
       "<caption>\n",
       "<span class=\"cell_title\">Motif params</span>\n",
       "</caption>\n",
       "<thead class=\"head_cell\">\n",
       "<th>A</th><th>C</th><th>G</th><th>T</th>\n",
       "</thead>\n",
       "<tbody>\n",
       "<tr><td><span class=\"c3col_right\">0.2197</span></td><td><span class=\"c3col_right\">0.2469</span></td><td><span class=\"c3col_right\">0.3316</span></td><td><span class=\"c3col_right\">0.2017</span></td></tr>\n",
       "</tbody>\n",
       "</table>\n",
       "\n",
       "</div>"
      ],
      "text/plain": [
       "GN\n",
       "log-likelihood = -3559.8498\n",
       "number of free parameters = 39\n",
       "============================================================================\n",
       "edge      parent    length       A>C       A>G       A>T       C>A       C>G\n",
       "----------------------------------------------------------------------------\n",
       "279422    root      0.0592    0.2535    1.1411    0.0000    0.4709    0.4331\n",
       "100667    root      0.3943    0.2112    1.0599    0.1849    0.2753    1.5972\n",
       "200580    root      0.2845    0.0000    0.1527    0.8086    3.1596    0.3360\n",
       "----------------------------------------------------------------------------\n",
       "\n",
       "continued: \n",
       "=========================================================\n",
       "    C>T       G>A       G>C       G>T       T>A       T>C\n",
       "---------------------------------------------------------\n",
       " 2.0511    1.6146    0.5758    0.0000    2.4382    0.6451\n",
       " 0.5602    0.1283    1.3527    0.1530    0.3143    2.2674\n",
       "12.1076    9.6731    0.3106    3.6135    3.6140    0.2391\n",
       "---------------------------------------------------------\n",
       "\n",
       "====================================\n",
       "     A         C         G         T\n",
       "------------------------------------\n",
       "0.2197    0.2469    0.3316    0.2017\n",
       "------------------------------------"
      ]
     },
     "execution_count": 17,
     "metadata": {},
     "output_type": "execute_result"
    }
   ],
   "source": [
    "result.lf\n"
   ]
  },
  {
   "cell_type": "code",
   "execution_count": 18,
   "metadata": {},
   "outputs": [
    {
     "data": {
      "text/plain": [
       "{'T': 0.20274049217002238,\n",
       " 'C': 0.22930648769574943,\n",
       " 'A': 0.2569910514541387,\n",
       " 'G': 0.31096196868008946}"
      ]
     },
     "execution_count": 18,
     "metadata": {},
     "output_type": "execute_result"
    }
   ],
   "source": [
    "aln1.get_motif_probs()"
   ]
  },
  {
   "cell_type": "code",
   "execution_count": 19,
   "metadata": {},
   "outputs": [
    {
     "data": {
      "text/plain": [
       "cogent3.util.dict_array.DictArray"
      ]
     },
     "execution_count": 19,
     "metadata": {},
     "output_type": "execute_result"
    }
   ],
   "source": [
    "type(motif_probs)"
   ]
  },
  {
   "cell_type": "code",
   "execution_count": 20,
   "metadata": {},
   "outputs": [
    {
     "data": {
      "text/plain": [
       "cogent3.util.dict_array.DictArray"
      ]
     },
     "execution_count": 20,
     "metadata": {},
     "output_type": "execute_result"
    }
   ],
   "source": [
    "type(list(matrices.values())[0])"
   ]
  },
  {
   "cell_type": "code",
   "execution_count": 21,
   "metadata": {},
   "outputs": [
    {
     "data": {
      "text/plain": [
       "array([0.20174636, 0.24692541, 0.21970177, 0.33162646])"
      ]
     },
     "execution_count": 21,
     "metadata": {},
     "output_type": "execute_result"
    }
   ],
   "source": [
    "def to_array(darray):\n",
    "    return darray.array\n",
    "\n",
    "\n",
    "\n",
    "\n",
    "to_array(motif_probs)"
   ]
  },
  {
   "cell_type": "code",
   "execution_count": 22,
   "metadata": {},
   "outputs": [],
   "source": [
    "matrices_arrays = {n: to_array(matrices[n]) for n in matrices}"
   ]
  },
  {
   "cell_type": "code",
   "execution_count": 23,
   "metadata": {},
   "outputs": [
    {
     "data": {
      "text/plain": [
       "{'279422': array([[-1.57883956e+00,  2.49420647e-01,  9.42761512e-01,\n",
       "          3.86657404e-01],\n",
       "        [ 7.93059922e-01, -1.14256195e+00,  1.82059184e-01,\n",
       "          1.67442839e-01],\n",
       "        [ 3.86657508e-07,  9.80320365e-02, -5.39262121e-01,\n",
       "          4.41229698e-01],\n",
       "        [ 3.86657501e-07,  2.22638516e-01,  6.24309330e-01,\n",
       "         -8.46948233e-01]]),\n",
       " '100667': array([[-1.63919085,  1.03769811,  0.14382828,  0.45766446],\n",
       "        [ 0.25640298, -1.1133397 ,  0.12597443,  0.73096229],\n",
       "        [ 0.08461593,  0.09664797, -0.66633476,  0.48507086],\n",
       "        [ 0.07000723,  0.61906724,  0.05873203, -0.7478065 ]]),\n",
       " '200580': array([[-5.08052261e-01,  2.50306145e-02,  3.78335455e-01,\n",
       "          1.04686192e-01],\n",
       "        [ 1.26749712e+00, -1.63343872e+00,  3.30767248e-01,\n",
       "          3.51743525e-02],\n",
       "        [ 8.46540546e-02,  1.04686200e-07, -1.00644002e-01,\n",
       "          1.59898427e-02],\n",
       "        [ 3.78286260e-01,  3.25173270e-02,  1.01264471e+00,\n",
       "         -1.42344830e+00]])}"
      ]
     },
     "execution_count": 23,
     "metadata": {},
     "output_type": "execute_result"
    }
   ],
   "source": [
    "matrices_arrays"
   ]
  },
  {
   "cell_type": "code",
   "execution_count": null,
   "metadata": {},
   "outputs": [],
   "source": []
  },
  {
   "cell_type": "code",
   "execution_count": 24,
   "metadata": {},
   "outputs": [],
   "source": [
    "def alns_to_matx_pi(path, model):\n",
    "    aln = load_aligned_seqs(path)\n",
    "    aln1 = no_degenerates(aln)\n",
    "    result = model(aln1)\n",
    "    edge_names = result.tree.get_node_names(includeself = False)\n",
    "    matrices = {n:result.lf.get_rate_matrix_for_edge(n, calibrated = True) for n in edge_names}\n",
    "    motif_probs = result.lf.get_motif_probs()\n",
    "    return matrices, motif_probs"
   ]
  },
  {
   "cell_type": "code",
   "execution_count": 25,
   "metadata": {},
   "outputs": [
    {
     "data": {
      "application/vnd.jupyter.widget-view+json": {
       "model_id": "c38494ed88264a7093b49473ee6a0e69",
       "version_major": 2,
       "version_minor": 0
      },
      "text/plain": [
       "   0%|          |00:00<?"
      ]
     },
     "metadata": {},
     "output_type": "display_data"
    },
    {
     "data": {
      "application/vnd.jupyter.widget-view+json": {
       "model_id": "d8b59b98ef764e4586888dfea058e7be",
       "version_major": 2,
       "version_minor": 0
      },
      "text/plain": [
       "   0%|          |00:00<?"
      ]
     },
     "metadata": {},
     "output_type": "display_data"
    },
    {
     "data": {
      "application/vnd.jupyter.widget-view+json": {
       "model_id": "c7830a5f265d4408959fa7ca149a8397",
       "version_major": 2,
       "version_minor": 0
      },
      "text/plain": [
       "   0%|          |00:00<?"
      ]
     },
     "metadata": {},
     "output_type": "display_data"
    },
    {
     "data": {
      "application/vnd.jupyter.widget-view+json": {
       "model_id": "302485ccab724db192aec247eb0de749",
       "version_major": 2,
       "version_minor": 0
      },
      "text/plain": [
       "   0%|          |00:00<?"
      ]
     },
     "metadata": {},
     "output_type": "display_data"
    },
    {
     "data": {
      "application/vnd.jupyter.widget-view+json": {
       "model_id": "912e804033914e42a3f44206f5b131b6",
       "version_major": 2,
       "version_minor": 0
      },
      "text/plain": [
       "   0%|          |00:00<?"
      ]
     },
     "metadata": {},
     "output_type": "display_data"
    },
    {
     "data": {
      "application/vnd.jupyter.widget-view+json": {
       "model_id": "f500ab9cd35f46308814d28f4006eb20",
       "version_major": 2,
       "version_minor": 0
      },
      "text/plain": [
       "   0%|          |00:00<?"
      ]
     },
     "metadata": {},
     "output_type": "display_data"
    },
    {
     "data": {
      "application/vnd.jupyter.widget-view+json": {
       "model_id": "a8d39d0ee4734b0dab8b7c18af839654",
       "version_major": 2,
       "version_minor": 0
      },
      "text/plain": [
       "   0%|          |00:00<?"
      ]
     },
     "metadata": {},
     "output_type": "display_data"
    },
    {
     "data": {
      "application/vnd.jupyter.widget-view+json": {
       "model_id": "24f5063577684122b213e09812d43c70",
       "version_major": 2,
       "version_minor": 0
      },
      "text/plain": [
       "   0%|          |00:00<?"
      ]
     },
     "metadata": {},
     "output_type": "display_data"
    },
    {
     "data": {
      "application/vnd.jupyter.widget-view+json": {
       "model_id": "8705eb518f6f4e449894a2f75a940547",
       "version_major": 2,
       "version_minor": 0
      },
      "text/plain": [
       "   0%|          |00:00<?"
      ]
     },
     "metadata": {},
     "output_type": "display_data"
    },
    {
     "data": {
      "application/vnd.jupyter.widget-view+json": {
       "model_id": "05de1d9c149d407a8b76d420e4cf8468",
       "version_major": 2,
       "version_minor": 0
      },
      "text/plain": [
       "   0%|          |00:00<?"
      ]
     },
     "metadata": {},
     "output_type": "display_data"
    },
    {
     "data": {
      "application/vnd.jupyter.widget-view+json": {
       "model_id": "6ff8cb784a924c8b99efb879e86b3a02",
       "version_major": 2,
       "version_minor": 0
      },
      "text/plain": [
       "   0%|          |00:00<?"
      ]
     },
     "metadata": {},
     "output_type": "display_data"
    },
    {
     "data": {
      "application/vnd.jupyter.widget-view+json": {
       "model_id": "27760a657d154bb490c3c1ff297d2189",
       "version_major": 2,
       "version_minor": 0
      },
      "text/plain": [
       "   0%|          |00:00<?"
      ]
     },
     "metadata": {},
     "output_type": "display_data"
    },
    {
     "data": {
      "application/vnd.jupyter.widget-view+json": {
       "model_id": "aea70e20d1ac49739c3dcc6443de171e",
       "version_major": 2,
       "version_minor": 0
      },
      "text/plain": [
       "   0%|          |00:00<?"
      ]
     },
     "metadata": {},
     "output_type": "display_data"
    },
    {
     "data": {
      "application/vnd.jupyter.widget-view+json": {
       "model_id": "6c1a785b1ee24fee9b4fc392d20b96af",
       "version_major": 2,
       "version_minor": 0
      },
      "text/plain": [
       "   0%|          |00:00<?"
      ]
     },
     "metadata": {},
     "output_type": "display_data"
    },
    {
     "data": {
      "application/vnd.jupyter.widget-view+json": {
       "model_id": "e4627ab912024e39948d66a53f1cc27a",
       "version_major": 2,
       "version_minor": 0
      },
      "text/plain": [
       "   0%|          |00:00<?"
      ]
     },
     "metadata": {},
     "output_type": "display_data"
    },
    {
     "data": {
      "application/vnd.jupyter.widget-view+json": {
       "model_id": "df86cf07c1e14796b612d6b6461a4986",
       "version_major": 2,
       "version_minor": 0
      },
      "text/plain": [
       "   0%|          |00:00<?"
      ]
     },
     "metadata": {},
     "output_type": "display_data"
    },
    {
     "data": {
      "application/vnd.jupyter.widget-view+json": {
       "model_id": "47ad7679b43a474c88c7e45c95d2e70f",
       "version_major": 2,
       "version_minor": 0
      },
      "text/plain": [
       "   0%|          |00:00<?"
      ]
     },
     "metadata": {},
     "output_type": "display_data"
    },
    {
     "data": {
      "application/vnd.jupyter.widget-view+json": {
       "model_id": "ee79839b621445ee86f046747261453d",
       "version_major": 2,
       "version_minor": 0
      },
      "text/plain": [
       "   0%|          |00:00<?"
      ]
     },
     "metadata": {},
     "output_type": "display_data"
    },
    {
     "data": {
      "application/vnd.jupyter.widget-view+json": {
       "model_id": "a0357cf45b824df8bc80bebd46a6e7c9",
       "version_major": 2,
       "version_minor": 0
      },
      "text/plain": [
       "   0%|          |00:00<?"
      ]
     },
     "metadata": {},
     "output_type": "display_data"
    },
    {
     "data": {
      "application/vnd.jupyter.widget-view+json": {
       "model_id": "16a0394a12ec409ba01303b7714d96c8",
       "version_major": 2,
       "version_minor": 0
      },
      "text/plain": [
       "   0%|          |00:00<?"
      ]
     },
     "metadata": {},
     "output_type": "display_data"
    },
    {
     "data": {
      "application/vnd.jupyter.widget-view+json": {
       "model_id": "cd6f627e528843a3af0862106630096e",
       "version_major": 2,
       "version_minor": 0
      },
      "text/plain": [
       "   0%|          |00:00<?"
      ]
     },
     "metadata": {},
     "output_type": "display_data"
    },
    {
     "data": {
      "application/vnd.jupyter.widget-view+json": {
       "model_id": "cb23356cdeea4d2bb73f2f631e8559d1",
       "version_major": 2,
       "version_minor": 0
      },
      "text/plain": [
       "   0%|          |00:00<?"
      ]
     },
     "metadata": {},
     "output_type": "display_data"
    },
    {
     "data": {
      "application/vnd.jupyter.widget-view+json": {
       "model_id": "74a3e245336f403f86f556e67b06da6b",
       "version_major": 2,
       "version_minor": 0
      },
      "text/plain": [
       "   0%|          |00:00<?"
      ]
     },
     "metadata": {},
     "output_type": "display_data"
    },
    {
     "data": {
      "application/vnd.jupyter.widget-view+json": {
       "model_id": "c12b4d4cbe92421eb2b10e7bb0a7dfc6",
       "version_major": 2,
       "version_minor": 0
      },
      "text/plain": [
       "   0%|          |00:00<?"
      ]
     },
     "metadata": {},
     "output_type": "display_data"
    },
    {
     "data": {
      "application/vnd.jupyter.widget-view+json": {
       "model_id": "ba152e8a5cd24b53985713d706987667",
       "version_major": 2,
       "version_minor": 0
      },
      "text/plain": [
       "   0%|          |00:00<?"
      ]
     },
     "metadata": {},
     "output_type": "display_data"
    },
    {
     "data": {
      "application/vnd.jupyter.widget-view+json": {
       "model_id": "e1a8184f8b2d483b9b67a2da12f5ef0a",
       "version_major": 2,
       "version_minor": 0
      },
      "text/plain": [
       "   0%|          |00:00<?"
      ]
     },
     "metadata": {},
     "output_type": "display_data"
    },
    {
     "data": {
      "application/vnd.jupyter.widget-view+json": {
       "model_id": "dccbf813ffae43b791616abea664b50e",
       "version_major": 2,
       "version_minor": 0
      },
      "text/plain": [
       "   0%|          |00:00<?"
      ]
     },
     "metadata": {},
     "output_type": "display_data"
    },
    {
     "data": {
      "application/vnd.jupyter.widget-view+json": {
       "model_id": "c043f0f5d93b4b67bdc1cfa438125a90",
       "version_major": 2,
       "version_minor": 0
      },
      "text/plain": [
       "   0%|          |00:00<?"
      ]
     },
     "metadata": {},
     "output_type": "display_data"
    },
    {
     "data": {
      "application/vnd.jupyter.widget-view+json": {
       "model_id": "e0c0b52c450d4209aae845f7bf6a31a8",
       "version_major": 2,
       "version_minor": 0
      },
      "text/plain": [
       "   0%|          |00:00<?"
      ]
     },
     "metadata": {},
     "output_type": "display_data"
    },
    {
     "data": {
      "application/vnd.jupyter.widget-view+json": {
       "model_id": "9195a567cdf44bd5beb83838375dc497",
       "version_major": 2,
       "version_minor": 0
      },
      "text/plain": [
       "   0%|          |00:00<?"
      ]
     },
     "metadata": {},
     "output_type": "display_data"
    },
    {
     "data": {
      "application/vnd.jupyter.widget-view+json": {
       "model_id": "e296f9e18bb94a3792aba7d962446e4a",
       "version_major": 2,
       "version_minor": 0
      },
      "text/plain": [
       "   0%|          |00:00<?"
      ]
     },
     "metadata": {},
     "output_type": "display_data"
    },
    {
     "data": {
      "application/vnd.jupyter.widget-view+json": {
       "model_id": "cb0af14cbb974b359a28e94271c342b9",
       "version_major": 2,
       "version_minor": 0
      },
      "text/plain": [
       "   0%|          |00:00<?"
      ]
     },
     "metadata": {},
     "output_type": "display_data"
    },
    {
     "data": {
      "application/vnd.jupyter.widget-view+json": {
       "model_id": "4f8c6cc8a12a4366805f54abc6d00a3b",
       "version_major": 2,
       "version_minor": 0
      },
      "text/plain": [
       "   0%|          |00:00<?"
      ]
     },
     "metadata": {},
     "output_type": "display_data"
    },
    {
     "data": {
      "application/vnd.jupyter.widget-view+json": {
       "model_id": "af020864c17041b7bbc873fe5a9b2c95",
       "version_major": 2,
       "version_minor": 0
      },
      "text/plain": [
       "   0%|          |00:00<?"
      ]
     },
     "metadata": {},
     "output_type": "display_data"
    },
    {
     "data": {
      "application/vnd.jupyter.widget-view+json": {
       "model_id": "936f2f369444452cacedcb192452996e",
       "version_major": 2,
       "version_minor": 0
      },
      "text/plain": [
       "   0%|          |00:00<?"
      ]
     },
     "metadata": {},
     "output_type": "display_data"
    },
    {
     "data": {
      "application/vnd.jupyter.widget-view+json": {
       "model_id": "fe3eba6cf8e14298896eaaae5c09f902",
       "version_major": 2,
       "version_minor": 0
      },
      "text/plain": [
       "   0%|          |00:00<?"
      ]
     },
     "metadata": {},
     "output_type": "display_data"
    },
    {
     "data": {
      "application/vnd.jupyter.widget-view+json": {
       "model_id": "b7ad54b313d74420920c67ffcce8b90e",
       "version_major": 2,
       "version_minor": 0
      },
      "text/plain": [
       "   0%|          |00:00<?"
      ]
     },
     "metadata": {},
     "output_type": "display_data"
    },
    {
     "data": {
      "application/vnd.jupyter.widget-view+json": {
       "model_id": "80039f6680d541d9942ab5d7fbf07809",
       "version_major": 2,
       "version_minor": 0
      },
      "text/plain": [
       "   0%|          |00:00<?"
      ]
     },
     "metadata": {},
     "output_type": "display_data"
    },
    {
     "data": {
      "application/vnd.jupyter.widget-view+json": {
       "model_id": "ed8ef9ea0fcf4315ad5b76326bba5214",
       "version_major": 2,
       "version_minor": 0
      },
      "text/plain": [
       "   0%|          |00:00<?"
      ]
     },
     "metadata": {},
     "output_type": "display_data"
    },
    {
     "data": {
      "application/vnd.jupyter.widget-view+json": {
       "model_id": "6e43fc76259842828f3e2303cf3e5794",
       "version_major": 2,
       "version_minor": 0
      },
      "text/plain": [
       "   0%|          |00:00<?"
      ]
     },
     "metadata": {},
     "output_type": "display_data"
    }
   ],
   "source": [
    "maxtrix_dict_array = list()\n",
    "motif_probs_dict_array = list()\n",
    "for path in paths:\n",
    "    maxtrix_dict_array.append(alns_to_matx_pi(paths[0], GN_model)[0])\n",
    "    motif_probs_dict_array.append(alns_to_matx_pi(paths[0], GN_model)[1])"
   ]
  },
  {
   "cell_type": "code",
   "execution_count": 26,
   "metadata": {},
   "outputs": [],
   "source": [
    "maxtrix_numpy_array = list()\n",
    "motif_probs_numpy_array = list()\n",
    "for matrices in maxtrix_dict_array:\n",
    "    for matrix in list(matrices.values()):\n",
    "        maxtrix_numpy_array.append(to_array(matrix))\n",
    "\n",
    "for motif_prob in motif_probs_dict_array:\n",
    "    motif_probs_numpy_array.append(to_array(motif_prob))\n",
    "\n"
   ]
  },
  {
   "cell_type": "code",
   "execution_count": 27,
   "metadata": {},
   "outputs": [
    {
     "data": {
      "text/plain": [
       "[array([[-1.57883956e+00,  2.49420647e-01,  9.42761512e-01,\n",
       "          3.86657404e-01],\n",
       "        [ 7.93059922e-01, -1.14256195e+00,  1.82059184e-01,\n",
       "          1.67442839e-01],\n",
       "        [ 3.86657508e-07,  9.80320365e-02, -5.39262121e-01,\n",
       "          4.41229698e-01],\n",
       "        [ 3.86657501e-07,  2.22638516e-01,  6.24309330e-01,\n",
       "         -8.46948233e-01]]),\n",
       " array([[-1.63919085,  1.03769811,  0.14382828,  0.45766446],\n",
       "        [ 0.25640298, -1.1133397 ,  0.12597443,  0.73096229],\n",
       "        [ 0.08461593,  0.09664797, -0.66633476,  0.48507086],\n",
       "        [ 0.07000723,  0.61906724,  0.05873203, -0.7478065 ]]),\n",
       " array([[-5.08052261e-01,  2.50306145e-02,  3.78335455e-01,\n",
       "          1.04686192e-01],\n",
       "        [ 1.26749712e+00, -1.63343872e+00,  3.30767248e-01,\n",
       "          3.51743525e-02],\n",
       "        [ 8.46540546e-02,  1.04686200e-07, -1.00644002e-01,\n",
       "          1.59898427e-02],\n",
       "        [ 3.78286260e-01,  3.25173270e-02,  1.01264471e+00,\n",
       "         -1.42344830e+00]]),\n",
       " array([[-1.57883956e+00,  2.49420647e-01,  9.42761512e-01,\n",
       "          3.86657404e-01],\n",
       "        [ 7.93059922e-01, -1.14256195e+00,  1.82059184e-01,\n",
       "          1.67442839e-01],\n",
       "        [ 3.86657508e-07,  9.80320365e-02, -5.39262121e-01,\n",
       "          4.41229698e-01],\n",
       "        [ 3.86657501e-07,  2.22638516e-01,  6.24309330e-01,\n",
       "         -8.46948233e-01]]),\n",
       " array([[-1.63919085,  1.03769811,  0.14382828,  0.45766446],\n",
       "        [ 0.25640298, -1.1133397 ,  0.12597443,  0.73096229],\n",
       "        [ 0.08461593,  0.09664797, -0.66633476,  0.48507086],\n",
       "        [ 0.07000723,  0.61906724,  0.05873203, -0.7478065 ]]),\n",
       " array([[-5.08052261e-01,  2.50306145e-02,  3.78335455e-01,\n",
       "          1.04686192e-01],\n",
       "        [ 1.26749712e+00, -1.63343872e+00,  3.30767248e-01,\n",
       "          3.51743525e-02],\n",
       "        [ 8.46540546e-02,  1.04686200e-07, -1.00644002e-01,\n",
       "          1.59898427e-02],\n",
       "        [ 3.78286260e-01,  3.25173270e-02,  1.01264471e+00,\n",
       "         -1.42344830e+00]]),\n",
       " array([[-1.57883956e+00,  2.49420647e-01,  9.42761512e-01,\n",
       "          3.86657404e-01],\n",
       "        [ 7.93059922e-01, -1.14256195e+00,  1.82059184e-01,\n",
       "          1.67442839e-01],\n",
       "        [ 3.86657508e-07,  9.80320365e-02, -5.39262121e-01,\n",
       "          4.41229698e-01],\n",
       "        [ 3.86657501e-07,  2.22638516e-01,  6.24309330e-01,\n",
       "         -8.46948233e-01]]),\n",
       " array([[-1.63919085,  1.03769811,  0.14382828,  0.45766446],\n",
       "        [ 0.25640298, -1.1133397 ,  0.12597443,  0.73096229],\n",
       "        [ 0.08461593,  0.09664797, -0.66633476,  0.48507086],\n",
       "        [ 0.07000723,  0.61906724,  0.05873203, -0.7478065 ]]),\n",
       " array([[-5.08052261e-01,  2.50306145e-02,  3.78335455e-01,\n",
       "          1.04686192e-01],\n",
       "        [ 1.26749712e+00, -1.63343872e+00,  3.30767248e-01,\n",
       "          3.51743525e-02],\n",
       "        [ 8.46540546e-02,  1.04686200e-07, -1.00644002e-01,\n",
       "          1.59898427e-02],\n",
       "        [ 3.78286260e-01,  3.25173270e-02,  1.01264471e+00,\n",
       "         -1.42344830e+00]]),\n",
       " array([[-1.57883956e+00,  2.49420647e-01,  9.42761512e-01,\n",
       "          3.86657404e-01],\n",
       "        [ 7.93059922e-01, -1.14256195e+00,  1.82059184e-01,\n",
       "          1.67442839e-01],\n",
       "        [ 3.86657508e-07,  9.80320365e-02, -5.39262121e-01,\n",
       "          4.41229698e-01],\n",
       "        [ 3.86657501e-07,  2.22638516e-01,  6.24309330e-01,\n",
       "         -8.46948233e-01]]),\n",
       " array([[-1.63919085,  1.03769811,  0.14382828,  0.45766446],\n",
       "        [ 0.25640298, -1.1133397 ,  0.12597443,  0.73096229],\n",
       "        [ 0.08461593,  0.09664797, -0.66633476,  0.48507086],\n",
       "        [ 0.07000723,  0.61906724,  0.05873203, -0.7478065 ]]),\n",
       " array([[-5.08052261e-01,  2.50306145e-02,  3.78335455e-01,\n",
       "          1.04686192e-01],\n",
       "        [ 1.26749712e+00, -1.63343872e+00,  3.30767248e-01,\n",
       "          3.51743525e-02],\n",
       "        [ 8.46540546e-02,  1.04686200e-07, -1.00644002e-01,\n",
       "          1.59898427e-02],\n",
       "        [ 3.78286260e-01,  3.25173270e-02,  1.01264471e+00,\n",
       "         -1.42344830e+00]]),\n",
       " array([[-1.57883956e+00,  2.49420647e-01,  9.42761512e-01,\n",
       "          3.86657404e-01],\n",
       "        [ 7.93059922e-01, -1.14256195e+00,  1.82059184e-01,\n",
       "          1.67442839e-01],\n",
       "        [ 3.86657508e-07,  9.80320365e-02, -5.39262121e-01,\n",
       "          4.41229698e-01],\n",
       "        [ 3.86657501e-07,  2.22638516e-01,  6.24309330e-01,\n",
       "         -8.46948233e-01]]),\n",
       " array([[-1.63919085,  1.03769811,  0.14382828,  0.45766446],\n",
       "        [ 0.25640298, -1.1133397 ,  0.12597443,  0.73096229],\n",
       "        [ 0.08461593,  0.09664797, -0.66633476,  0.48507086],\n",
       "        [ 0.07000723,  0.61906724,  0.05873203, -0.7478065 ]]),\n",
       " array([[-5.08052261e-01,  2.50306145e-02,  3.78335455e-01,\n",
       "          1.04686192e-01],\n",
       "        [ 1.26749712e+00, -1.63343872e+00,  3.30767248e-01,\n",
       "          3.51743525e-02],\n",
       "        [ 8.46540546e-02,  1.04686200e-07, -1.00644002e-01,\n",
       "          1.59898427e-02],\n",
       "        [ 3.78286260e-01,  3.25173270e-02,  1.01264471e+00,\n",
       "         -1.42344830e+00]]),\n",
       " array([[-1.57883956e+00,  2.49420647e-01,  9.42761512e-01,\n",
       "          3.86657404e-01],\n",
       "        [ 7.93059922e-01, -1.14256195e+00,  1.82059184e-01,\n",
       "          1.67442839e-01],\n",
       "        [ 3.86657508e-07,  9.80320365e-02, -5.39262121e-01,\n",
       "          4.41229698e-01],\n",
       "        [ 3.86657501e-07,  2.22638516e-01,  6.24309330e-01,\n",
       "         -8.46948233e-01]]),\n",
       " array([[-1.63919085,  1.03769811,  0.14382828,  0.45766446],\n",
       "        [ 0.25640298, -1.1133397 ,  0.12597443,  0.73096229],\n",
       "        [ 0.08461593,  0.09664797, -0.66633476,  0.48507086],\n",
       "        [ 0.07000723,  0.61906724,  0.05873203, -0.7478065 ]]),\n",
       " array([[-5.08052261e-01,  2.50306145e-02,  3.78335455e-01,\n",
       "          1.04686192e-01],\n",
       "        [ 1.26749712e+00, -1.63343872e+00,  3.30767248e-01,\n",
       "          3.51743525e-02],\n",
       "        [ 8.46540546e-02,  1.04686200e-07, -1.00644002e-01,\n",
       "          1.59898427e-02],\n",
       "        [ 3.78286260e-01,  3.25173270e-02,  1.01264471e+00,\n",
       "         -1.42344830e+00]]),\n",
       " array([[-1.57883956e+00,  2.49420647e-01,  9.42761512e-01,\n",
       "          3.86657404e-01],\n",
       "        [ 7.93059922e-01, -1.14256195e+00,  1.82059184e-01,\n",
       "          1.67442839e-01],\n",
       "        [ 3.86657508e-07,  9.80320365e-02, -5.39262121e-01,\n",
       "          4.41229698e-01],\n",
       "        [ 3.86657501e-07,  2.22638516e-01,  6.24309330e-01,\n",
       "         -8.46948233e-01]]),\n",
       " array([[-1.63919085,  1.03769811,  0.14382828,  0.45766446],\n",
       "        [ 0.25640298, -1.1133397 ,  0.12597443,  0.73096229],\n",
       "        [ 0.08461593,  0.09664797, -0.66633476,  0.48507086],\n",
       "        [ 0.07000723,  0.61906724,  0.05873203, -0.7478065 ]]),\n",
       " array([[-5.08052261e-01,  2.50306145e-02,  3.78335455e-01,\n",
       "          1.04686192e-01],\n",
       "        [ 1.26749712e+00, -1.63343872e+00,  3.30767248e-01,\n",
       "          3.51743525e-02],\n",
       "        [ 8.46540546e-02,  1.04686200e-07, -1.00644002e-01,\n",
       "          1.59898427e-02],\n",
       "        [ 3.78286260e-01,  3.25173270e-02,  1.01264471e+00,\n",
       "         -1.42344830e+00]]),\n",
       " array([[-1.57883956e+00,  2.49420647e-01,  9.42761512e-01,\n",
       "          3.86657404e-01],\n",
       "        [ 7.93059922e-01, -1.14256195e+00,  1.82059184e-01,\n",
       "          1.67442839e-01],\n",
       "        [ 3.86657508e-07,  9.80320365e-02, -5.39262121e-01,\n",
       "          4.41229698e-01],\n",
       "        [ 3.86657501e-07,  2.22638516e-01,  6.24309330e-01,\n",
       "         -8.46948233e-01]]),\n",
       " array([[-1.63919085,  1.03769811,  0.14382828,  0.45766446],\n",
       "        [ 0.25640298, -1.1133397 ,  0.12597443,  0.73096229],\n",
       "        [ 0.08461593,  0.09664797, -0.66633476,  0.48507086],\n",
       "        [ 0.07000723,  0.61906724,  0.05873203, -0.7478065 ]]),\n",
       " array([[-5.08052261e-01,  2.50306145e-02,  3.78335455e-01,\n",
       "          1.04686192e-01],\n",
       "        [ 1.26749712e+00, -1.63343872e+00,  3.30767248e-01,\n",
       "          3.51743525e-02],\n",
       "        [ 8.46540546e-02,  1.04686200e-07, -1.00644002e-01,\n",
       "          1.59898427e-02],\n",
       "        [ 3.78286260e-01,  3.25173270e-02,  1.01264471e+00,\n",
       "         -1.42344830e+00]]),\n",
       " array([[-1.57883956e+00,  2.49420647e-01,  9.42761512e-01,\n",
       "          3.86657404e-01],\n",
       "        [ 7.93059922e-01, -1.14256195e+00,  1.82059184e-01,\n",
       "          1.67442839e-01],\n",
       "        [ 3.86657508e-07,  9.80320365e-02, -5.39262121e-01,\n",
       "          4.41229698e-01],\n",
       "        [ 3.86657501e-07,  2.22638516e-01,  6.24309330e-01,\n",
       "         -8.46948233e-01]]),\n",
       " array([[-1.63919085,  1.03769811,  0.14382828,  0.45766446],\n",
       "        [ 0.25640298, -1.1133397 ,  0.12597443,  0.73096229],\n",
       "        [ 0.08461593,  0.09664797, -0.66633476,  0.48507086],\n",
       "        [ 0.07000723,  0.61906724,  0.05873203, -0.7478065 ]]),\n",
       " array([[-5.08052261e-01,  2.50306145e-02,  3.78335455e-01,\n",
       "          1.04686192e-01],\n",
       "        [ 1.26749712e+00, -1.63343872e+00,  3.30767248e-01,\n",
       "          3.51743525e-02],\n",
       "        [ 8.46540546e-02,  1.04686200e-07, -1.00644002e-01,\n",
       "          1.59898427e-02],\n",
       "        [ 3.78286260e-01,  3.25173270e-02,  1.01264471e+00,\n",
       "         -1.42344830e+00]]),\n",
       " array([[-1.57883956e+00,  2.49420647e-01,  9.42761512e-01,\n",
       "          3.86657404e-01],\n",
       "        [ 7.93059922e-01, -1.14256195e+00,  1.82059184e-01,\n",
       "          1.67442839e-01],\n",
       "        [ 3.86657508e-07,  9.80320365e-02, -5.39262121e-01,\n",
       "          4.41229698e-01],\n",
       "        [ 3.86657501e-07,  2.22638516e-01,  6.24309330e-01,\n",
       "         -8.46948233e-01]]),\n",
       " array([[-1.63919085,  1.03769811,  0.14382828,  0.45766446],\n",
       "        [ 0.25640298, -1.1133397 ,  0.12597443,  0.73096229],\n",
       "        [ 0.08461593,  0.09664797, -0.66633476,  0.48507086],\n",
       "        [ 0.07000723,  0.61906724,  0.05873203, -0.7478065 ]]),\n",
       " array([[-5.08052261e-01,  2.50306145e-02,  3.78335455e-01,\n",
       "          1.04686192e-01],\n",
       "        [ 1.26749712e+00, -1.63343872e+00,  3.30767248e-01,\n",
       "          3.51743525e-02],\n",
       "        [ 8.46540546e-02,  1.04686200e-07, -1.00644002e-01,\n",
       "          1.59898427e-02],\n",
       "        [ 3.78286260e-01,  3.25173270e-02,  1.01264471e+00,\n",
       "         -1.42344830e+00]])]"
      ]
     },
     "execution_count": 27,
     "metadata": {},
     "output_type": "execute_result"
    }
   ],
   "source": [
    "maxtrix_numpy_array"
   ]
  },
  {
   "cell_type": "code",
   "execution_count": 28,
   "metadata": {},
   "outputs": [
    {
     "data": {
      "text/plain": [
       "[array([0.20174636, 0.24692541, 0.21970177, 0.33162646]),\n",
       " array([0.20174636, 0.24692541, 0.21970177, 0.33162646]),\n",
       " array([0.20174636, 0.24692541, 0.21970177, 0.33162646]),\n",
       " array([0.20174636, 0.24692541, 0.21970177, 0.33162646]),\n",
       " array([0.20174636, 0.24692541, 0.21970177, 0.33162646]),\n",
       " array([0.20174636, 0.24692541, 0.21970177, 0.33162646]),\n",
       " array([0.20174636, 0.24692541, 0.21970177, 0.33162646]),\n",
       " array([0.20174636, 0.24692541, 0.21970177, 0.33162646]),\n",
       " array([0.20174636, 0.24692541, 0.21970177, 0.33162646]),\n",
       " array([0.20174636, 0.24692541, 0.21970177, 0.33162646])]"
      ]
     },
     "execution_count": 28,
     "metadata": {},
     "output_type": "execute_result"
    }
   ],
   "source": [
    "motif_probs_numpy_array"
   ]
  },
  {
   "cell_type": "code",
   "execution_count": 29,
   "metadata": {},
   "outputs": [
    {
     "data": {
      "text/plain": [
       "[{'279422': =============================================\n",
       "             T          C          A          G\n",
       "  ---------------------------------------------\n",
       "  T    -1.5788     0.2494     0.9428     0.3867\n",
       "  C     0.7931    -1.1426     0.1821     0.1674\n",
       "  A     0.0000     0.0980    -0.5393     0.4412\n",
       "  G     0.0000     0.2226     0.6243    -0.8469\n",
       "  ---------------------------------------------,\n",
       "  '100667': =============================================\n",
       "             T          C          A          G\n",
       "  ---------------------------------------------\n",
       "  T    -1.6392     1.0377     0.1438     0.4577\n",
       "  C     0.2564    -1.1133     0.1260     0.7310\n",
       "  A     0.0846     0.0966    -0.6663     0.4851\n",
       "  G     0.0700     0.6191     0.0587    -0.7478\n",
       "  ---------------------------------------------,\n",
       "  '200580': =============================================\n",
       "             T          C          A          G\n",
       "  ---------------------------------------------\n",
       "  T    -0.5081     0.0250     0.3783     0.1047\n",
       "  C     1.2675    -1.6334     0.3308     0.0352\n",
       "  A     0.0847     0.0000    -0.1006     0.0160\n",
       "  G     0.3783     0.0325     1.0126    -1.4234\n",
       "  ---------------------------------------------},\n",
       " {'279422': =============================================\n",
       "             T          C          A          G\n",
       "  ---------------------------------------------\n",
       "  T    -1.5788     0.2494     0.9428     0.3867\n",
       "  C     0.7931    -1.1426     0.1821     0.1674\n",
       "  A     0.0000     0.0980    -0.5393     0.4412\n",
       "  G     0.0000     0.2226     0.6243    -0.8469\n",
       "  ---------------------------------------------,\n",
       "  '100667': =============================================\n",
       "             T          C          A          G\n",
       "  ---------------------------------------------\n",
       "  T    -1.6392     1.0377     0.1438     0.4577\n",
       "  C     0.2564    -1.1133     0.1260     0.7310\n",
       "  A     0.0846     0.0966    -0.6663     0.4851\n",
       "  G     0.0700     0.6191     0.0587    -0.7478\n",
       "  ---------------------------------------------,\n",
       "  '200580': =============================================\n",
       "             T          C          A          G\n",
       "  ---------------------------------------------\n",
       "  T    -0.5081     0.0250     0.3783     0.1047\n",
       "  C     1.2675    -1.6334     0.3308     0.0352\n",
       "  A     0.0847     0.0000    -0.1006     0.0160\n",
       "  G     0.3783     0.0325     1.0126    -1.4234\n",
       "  ---------------------------------------------},\n",
       " {'279422': =============================================\n",
       "             T          C          A          G\n",
       "  ---------------------------------------------\n",
       "  T    -1.5788     0.2494     0.9428     0.3867\n",
       "  C     0.7931    -1.1426     0.1821     0.1674\n",
       "  A     0.0000     0.0980    -0.5393     0.4412\n",
       "  G     0.0000     0.2226     0.6243    -0.8469\n",
       "  ---------------------------------------------,\n",
       "  '100667': =============================================\n",
       "             T          C          A          G\n",
       "  ---------------------------------------------\n",
       "  T    -1.6392     1.0377     0.1438     0.4577\n",
       "  C     0.2564    -1.1133     0.1260     0.7310\n",
       "  A     0.0846     0.0966    -0.6663     0.4851\n",
       "  G     0.0700     0.6191     0.0587    -0.7478\n",
       "  ---------------------------------------------,\n",
       "  '200580': =============================================\n",
       "             T          C          A          G\n",
       "  ---------------------------------------------\n",
       "  T    -0.5081     0.0250     0.3783     0.1047\n",
       "  C     1.2675    -1.6334     0.3308     0.0352\n",
       "  A     0.0847     0.0000    -0.1006     0.0160\n",
       "  G     0.3783     0.0325     1.0126    -1.4234\n",
       "  ---------------------------------------------},\n",
       " {'279422': =============================================\n",
       "             T          C          A          G\n",
       "  ---------------------------------------------\n",
       "  T    -1.5788     0.2494     0.9428     0.3867\n",
       "  C     0.7931    -1.1426     0.1821     0.1674\n",
       "  A     0.0000     0.0980    -0.5393     0.4412\n",
       "  G     0.0000     0.2226     0.6243    -0.8469\n",
       "  ---------------------------------------------,\n",
       "  '100667': =============================================\n",
       "             T          C          A          G\n",
       "  ---------------------------------------------\n",
       "  T    -1.6392     1.0377     0.1438     0.4577\n",
       "  C     0.2564    -1.1133     0.1260     0.7310\n",
       "  A     0.0846     0.0966    -0.6663     0.4851\n",
       "  G     0.0700     0.6191     0.0587    -0.7478\n",
       "  ---------------------------------------------,\n",
       "  '200580': =============================================\n",
       "             T          C          A          G\n",
       "  ---------------------------------------------\n",
       "  T    -0.5081     0.0250     0.3783     0.1047\n",
       "  C     1.2675    -1.6334     0.3308     0.0352\n",
       "  A     0.0847     0.0000    -0.1006     0.0160\n",
       "  G     0.3783     0.0325     1.0126    -1.4234\n",
       "  ---------------------------------------------},\n",
       " {'279422': =============================================\n",
       "             T          C          A          G\n",
       "  ---------------------------------------------\n",
       "  T    -1.5788     0.2494     0.9428     0.3867\n",
       "  C     0.7931    -1.1426     0.1821     0.1674\n",
       "  A     0.0000     0.0980    -0.5393     0.4412\n",
       "  G     0.0000     0.2226     0.6243    -0.8469\n",
       "  ---------------------------------------------,\n",
       "  '100667': =============================================\n",
       "             T          C          A          G\n",
       "  ---------------------------------------------\n",
       "  T    -1.6392     1.0377     0.1438     0.4577\n",
       "  C     0.2564    -1.1133     0.1260     0.7310\n",
       "  A     0.0846     0.0966    -0.6663     0.4851\n",
       "  G     0.0700     0.6191     0.0587    -0.7478\n",
       "  ---------------------------------------------,\n",
       "  '200580': =============================================\n",
       "             T          C          A          G\n",
       "  ---------------------------------------------\n",
       "  T    -0.5081     0.0250     0.3783     0.1047\n",
       "  C     1.2675    -1.6334     0.3308     0.0352\n",
       "  A     0.0847     0.0000    -0.1006     0.0160\n",
       "  G     0.3783     0.0325     1.0126    -1.4234\n",
       "  ---------------------------------------------},\n",
       " {'279422': =============================================\n",
       "             T          C          A          G\n",
       "  ---------------------------------------------\n",
       "  T    -1.5788     0.2494     0.9428     0.3867\n",
       "  C     0.7931    -1.1426     0.1821     0.1674\n",
       "  A     0.0000     0.0980    -0.5393     0.4412\n",
       "  G     0.0000     0.2226     0.6243    -0.8469\n",
       "  ---------------------------------------------,\n",
       "  '100667': =============================================\n",
       "             T          C          A          G\n",
       "  ---------------------------------------------\n",
       "  T    -1.6392     1.0377     0.1438     0.4577\n",
       "  C     0.2564    -1.1133     0.1260     0.7310\n",
       "  A     0.0846     0.0966    -0.6663     0.4851\n",
       "  G     0.0700     0.6191     0.0587    -0.7478\n",
       "  ---------------------------------------------,\n",
       "  '200580': =============================================\n",
       "             T          C          A          G\n",
       "  ---------------------------------------------\n",
       "  T    -0.5081     0.0250     0.3783     0.1047\n",
       "  C     1.2675    -1.6334     0.3308     0.0352\n",
       "  A     0.0847     0.0000    -0.1006     0.0160\n",
       "  G     0.3783     0.0325     1.0126    -1.4234\n",
       "  ---------------------------------------------},\n",
       " {'279422': =============================================\n",
       "             T          C          A          G\n",
       "  ---------------------------------------------\n",
       "  T    -1.5788     0.2494     0.9428     0.3867\n",
       "  C     0.7931    -1.1426     0.1821     0.1674\n",
       "  A     0.0000     0.0980    -0.5393     0.4412\n",
       "  G     0.0000     0.2226     0.6243    -0.8469\n",
       "  ---------------------------------------------,\n",
       "  '100667': =============================================\n",
       "             T          C          A          G\n",
       "  ---------------------------------------------\n",
       "  T    -1.6392     1.0377     0.1438     0.4577\n",
       "  C     0.2564    -1.1133     0.1260     0.7310\n",
       "  A     0.0846     0.0966    -0.6663     0.4851\n",
       "  G     0.0700     0.6191     0.0587    -0.7478\n",
       "  ---------------------------------------------,\n",
       "  '200580': =============================================\n",
       "             T          C          A          G\n",
       "  ---------------------------------------------\n",
       "  T    -0.5081     0.0250     0.3783     0.1047\n",
       "  C     1.2675    -1.6334     0.3308     0.0352\n",
       "  A     0.0847     0.0000    -0.1006     0.0160\n",
       "  G     0.3783     0.0325     1.0126    -1.4234\n",
       "  ---------------------------------------------},\n",
       " {'279422': =============================================\n",
       "             T          C          A          G\n",
       "  ---------------------------------------------\n",
       "  T    -1.5788     0.2494     0.9428     0.3867\n",
       "  C     0.7931    -1.1426     0.1821     0.1674\n",
       "  A     0.0000     0.0980    -0.5393     0.4412\n",
       "  G     0.0000     0.2226     0.6243    -0.8469\n",
       "  ---------------------------------------------,\n",
       "  '100667': =============================================\n",
       "             T          C          A          G\n",
       "  ---------------------------------------------\n",
       "  T    -1.6392     1.0377     0.1438     0.4577\n",
       "  C     0.2564    -1.1133     0.1260     0.7310\n",
       "  A     0.0846     0.0966    -0.6663     0.4851\n",
       "  G     0.0700     0.6191     0.0587    -0.7478\n",
       "  ---------------------------------------------,\n",
       "  '200580': =============================================\n",
       "             T          C          A          G\n",
       "  ---------------------------------------------\n",
       "  T    -0.5081     0.0250     0.3783     0.1047\n",
       "  C     1.2675    -1.6334     0.3308     0.0352\n",
       "  A     0.0847     0.0000    -0.1006     0.0160\n",
       "  G     0.3783     0.0325     1.0126    -1.4234\n",
       "  ---------------------------------------------},\n",
       " {'279422': =============================================\n",
       "             T          C          A          G\n",
       "  ---------------------------------------------\n",
       "  T    -1.5788     0.2494     0.9428     0.3867\n",
       "  C     0.7931    -1.1426     0.1821     0.1674\n",
       "  A     0.0000     0.0980    -0.5393     0.4412\n",
       "  G     0.0000     0.2226     0.6243    -0.8469\n",
       "  ---------------------------------------------,\n",
       "  '100667': =============================================\n",
       "             T          C          A          G\n",
       "  ---------------------------------------------\n",
       "  T    -1.6392     1.0377     0.1438     0.4577\n",
       "  C     0.2564    -1.1133     0.1260     0.7310\n",
       "  A     0.0846     0.0966    -0.6663     0.4851\n",
       "  G     0.0700     0.6191     0.0587    -0.7478\n",
       "  ---------------------------------------------,\n",
       "  '200580': =============================================\n",
       "             T          C          A          G\n",
       "  ---------------------------------------------\n",
       "  T    -0.5081     0.0250     0.3783     0.1047\n",
       "  C     1.2675    -1.6334     0.3308     0.0352\n",
       "  A     0.0847     0.0000    -0.1006     0.0160\n",
       "  G     0.3783     0.0325     1.0126    -1.4234\n",
       "  ---------------------------------------------},\n",
       " {'279422': =============================================\n",
       "             T          C          A          G\n",
       "  ---------------------------------------------\n",
       "  T    -1.5788     0.2494     0.9428     0.3867\n",
       "  C     0.7931    -1.1426     0.1821     0.1674\n",
       "  A     0.0000     0.0980    -0.5393     0.4412\n",
       "  G     0.0000     0.2226     0.6243    -0.8469\n",
       "  ---------------------------------------------,\n",
       "  '100667': =============================================\n",
       "             T          C          A          G\n",
       "  ---------------------------------------------\n",
       "  T    -1.6392     1.0377     0.1438     0.4577\n",
       "  C     0.2564    -1.1133     0.1260     0.7310\n",
       "  A     0.0846     0.0966    -0.6663     0.4851\n",
       "  G     0.0700     0.6191     0.0587    -0.7478\n",
       "  ---------------------------------------------,\n",
       "  '200580': =============================================\n",
       "             T          C          A          G\n",
       "  ---------------------------------------------\n",
       "  T    -0.5081     0.0250     0.3783     0.1047\n",
       "  C     1.2675    -1.6334     0.3308     0.0352\n",
       "  A     0.0847     0.0000    -0.1006     0.0160\n",
       "  G     0.3783     0.0325     1.0126    -1.4234\n",
       "  ---------------------------------------------}]"
      ]
     },
     "execution_count": 29,
     "metadata": {},
     "output_type": "execute_result"
    }
   ],
   "source": [
    "maxtrix_dict_array"
   ]
  },
  {
   "cell_type": "code",
   "execution_count": 30,
   "metadata": {},
   "outputs": [
    {
     "data": {
      "text/plain": [
       "[====================================\n",
       "      T         C         A         G\n",
       " ------------------------------------\n",
       " 0.2017    0.2469    0.2197    0.3316\n",
       " ------------------------------------,\n",
       " ====================================\n",
       "      T         C         A         G\n",
       " ------------------------------------\n",
       " 0.2017    0.2469    0.2197    0.3316\n",
       " ------------------------------------,\n",
       " ====================================\n",
       "      T         C         A         G\n",
       " ------------------------------------\n",
       " 0.2017    0.2469    0.2197    0.3316\n",
       " ------------------------------------,\n",
       " ====================================\n",
       "      T         C         A         G\n",
       " ------------------------------------\n",
       " 0.2017    0.2469    0.2197    0.3316\n",
       " ------------------------------------,\n",
       " ====================================\n",
       "      T         C         A         G\n",
       " ------------------------------------\n",
       " 0.2017    0.2469    0.2197    0.3316\n",
       " ------------------------------------,\n",
       " ====================================\n",
       "      T         C         A         G\n",
       " ------------------------------------\n",
       " 0.2017    0.2469    0.2197    0.3316\n",
       " ------------------------------------,\n",
       " ====================================\n",
       "      T         C         A         G\n",
       " ------------------------------------\n",
       " 0.2017    0.2469    0.2197    0.3316\n",
       " ------------------------------------,\n",
       " ====================================\n",
       "      T         C         A         G\n",
       " ------------------------------------\n",
       " 0.2017    0.2469    0.2197    0.3316\n",
       " ------------------------------------,\n",
       " ====================================\n",
       "      T         C         A         G\n",
       " ------------------------------------\n",
       " 0.2017    0.2469    0.2197    0.3316\n",
       " ------------------------------------,\n",
       " ====================================\n",
       "      T         C         A         G\n",
       " ------------------------------------\n",
       " 0.2017    0.2469    0.2197    0.3316\n",
       " ------------------------------------]"
      ]
     },
     "execution_count": 30,
     "metadata": {},
     "output_type": "execute_result"
    }
   ],
   "source": [
    "motif_probs_dict_array"
   ]
  }
 ],
 "metadata": {
  "kernelspec": {
   "display_name": "c312",
   "language": "python",
   "name": "python3"
  },
  "language_info": {
   "codemirror_mode": {
    "name": "ipython",
    "version": 3
   },
   "file_extension": ".py",
   "mimetype": "text/x-python",
   "name": "python",
   "nbconvert_exporter": "python",
   "pygments_lexer": "ipython3",
   "version": "3.12.1"
  }
 },
 "nbformat": 4,
 "nbformat_minor": 2
}
