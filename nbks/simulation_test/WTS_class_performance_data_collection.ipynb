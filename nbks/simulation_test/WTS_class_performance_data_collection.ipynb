{
 "cells": [
  {
   "cell_type": "code",
   "execution_count": 1,
   "metadata": {},
   "outputs": [],
   "source": [
    "import sys\n",
    "sys.path.insert(0, '/Users/gulugulu/repos/PuningAnalysis/src')\n",
    "from clock_project.simulation.wts import SeqSimulate, generate_ancestor\n",
    "from scipy import stats\n",
    "from numpy.random import default_rng\n",
    "import numpy as np\n",
    "from cogent3.maths.matrix_exponential_integration import expected_number_subs\n",
    "import numpy as np\n",
    "import json"
   ]
  },
  {
   "cell_type": "code",
   "execution_count": 2,
   "metadata": {},
   "outputs": [],
   "source": [
    "Q_matrix = np.array([[-1.75025094,  0.94143256,  0.45306226,  0.35575611],\n",
    "       [ 0.49505807, -2.27893035,  0.88176788,  0.90210439],\n",
    "       [ 0.36411798,  0.18070926, -0.91594839,  0.37112115],\n",
    "       [ 0.77758124,  0.75396143,  0.52505328, -2.05659595]])\n",
    "\n",
    "Q_matrix2 = np.array([[-0.8913651590062768,\n",
    "  0.06758713003981928,\n",
    "  0.26750861021623484,\n",
    "  0.5562694187502226],\n",
    " [0.48766534934241146,\n",
    "  -1.1914228729789795,\n",
    "  0.2796236707498311,\n",
    "  0.42413385288673694],\n",
    " [0.48963798725695706,\n",
    "  0.6855172408178508,\n",
    "  -1.5509279536481513,\n",
    "  0.3757727255733433],\n",
    " [0.1537313911769212,\n",
    "  0.7977890102842006,\n",
    "  0.551525454894267,\n",
    "  -1.5030458563553888]])\n",
    "\n",
    "Q_matrix3 = np.array([[-1.4789149719418297,\n",
    "  0.2942056179993613,\n",
    "  0.5014501422645519,\n",
    "  0.6832592116779167],\n",
    " [0.7335649348307921,\n",
    "  -1.319277973081591,\n",
    "  0.19058964898276037,\n",
    "  0.39512338926803847],\n",
    " [0.02241627235342083,\n",
    "  0.2150187330048211,\n",
    "  -0.8805864461303382,\n",
    "  0.6431514407720963],\n",
    " [0.08026712260332504,\n",
    "  0.35104850742302635,\n",
    "  0.1772278959502105,\n",
    "  -0.6085435259765619]])\n",
    "\n",
    "n = 1000\n",
    "pi = [0.35, 0.15, 0.05, 0.45]\n",
    "pi2 = [0.1, 0.1, 0.1, 0.7]\n",
    "pi3 = [0.25, 0.25, 0.25, 0.25]\n",
    "\n",
    "repeats = [10, 50, 100, 200, 300, 500]\n",
    "time_range = [0.5, 1, 2, 3, 4]\n",
    "repeat = 100"
   ]
  },
  {
   "cell_type": "code",
   "execution_count": 3,
   "metadata": {},
   "outputs": [
    {
     "name": "stdout",
     "output_type": "stream",
     "text": [
      "-200.2264440059662\n",
      "-1175.6177761554718\n",
      "-7998.251464128494\n",
      "-28442.827325105667\n",
      "-193.3866879940033\n",
      "-1153.5928111076355\n",
      "-7831.394597291946\n",
      "-24847.03361606598\n",
      "-192.14946007728577\n",
      "-1142.2613499164581\n",
      "-7831.995266675949\n"
     ]
    },
    {
     "ename": "KeyboardInterrupt",
     "evalue": "",
     "output_type": "error",
     "traceback": [
      "\u001b[0;31m---------------------------------------------------------------------------\u001b[0m",
      "\u001b[0;31mKeyboardInterrupt\u001b[0m                         Traceback (most recent call last)",
      "Cell \u001b[0;32mIn[3], line 13\u001b[0m\n\u001b[1;32m     11\u001b[0m \u001b[38;5;28;01mfor\u001b[39;00m length \u001b[38;5;129;01min\u001b[39;00m sequence_length:\n\u001b[1;32m     12\u001b[0m     start_time \u001b[38;5;241m=\u001b[39m time\u001b[38;5;241m.\u001b[39mtime()\n\u001b[0;32m---> 13\u001b[0m     original \u001b[38;5;241m=\u001b[39m average_substitution(Q_dict, \u001b[38;5;241m1\u001b[39m, \u001b[38;5;241m100\u001b[39m, length, pi, \u001b[38;5;241m0\u001b[39m)\n\u001b[1;32m     14\u001b[0m     end_time \u001b[38;5;241m=\u001b[39m time\u001b[38;5;241m.\u001b[39mtime()\n\u001b[1;32m     15\u001b[0m     elapsed_time \u001b[38;5;241m=\u001b[39m start_time \u001b[38;5;241m-\u001b[39m end_time\n",
      "File \u001b[0;32m~/repos/PuningAnalysis/src/clock_project/simulation/waiting_time_simulator_original.py:309\u001b[0m, in \u001b[0;36maverage_substitution\u001b[0;34m(Q, t, repeats, length, pi, markov)\u001b[0m\n\u001b[1;32m    307\u001b[0m \u001b[38;5;28;01mfor\u001b[39;00m i \u001b[38;5;129;01min\u001b[39;00m \u001b[38;5;28mrange\u001b[39m(repeats):\n\u001b[1;32m    308\u001b[0m     ancestor_sequence \u001b[38;5;241m=\u001b[39m generate_ancestor(length, pi)\n\u001b[0;32m--> 309\u001b[0m     history \u001b[38;5;241m=\u001b[39m simulate_seq(ancestor_sequence, t, Q, markov)[\u001b[38;5;241m1\u001b[39m]\n\u001b[1;32m    310\u001b[0m     ns_total \u001b[38;5;241m=\u001b[39m \u001b[38;5;28mlen\u001b[39m(history)\u001b[38;5;241m-\u001b[39m\u001b[38;5;241m1\u001b[39m\n\u001b[1;32m    311\u001b[0m     ns_per_site \u001b[38;5;241m=\u001b[39m ns_total\u001b[38;5;241m/\u001b[39mn\n",
      "File \u001b[0;32m~/repos/PuningAnalysis/src/clock_project/simulation/waiting_time_simulator_original.py:290\u001b[0m, in \u001b[0;36msimulate_seq\u001b[0;34m(ancestor_seq, max_time, rate_matrices_dict, markov_order)\u001b[0m\n\u001b[1;32m    288\u001b[0m new_base \u001b[38;5;241m=\u001b[39m min_position[\u001b[38;5;241m1\u001b[39m]\n\u001b[1;32m    289\u001b[0m substitution_time \u001b[38;5;241m=\u001b[39m min_time \n\u001b[0;32m--> 290\u001b[0m waiting_times, min_position, min_time \u001b[38;5;241m=\u001b[39m update_waiting_times(DNA_seq, Q_dict, waiting_times, min_position, min_time, markov_order)\n\u001b[1;32m    291\u001b[0m DNA_seq[seq_index] \u001b[38;5;241m=\u001b[39m \u001b[38;5;124mf\u001b[39m\u001b[38;5;124m\"\u001b[39m\u001b[38;5;132;01m{\u001b[39;00mnew_base\u001b[38;5;132;01m}\u001b[39;00m\u001b[38;5;124m\"\u001b[39m \u001b[38;5;66;03m# Substitue with new base in DNA sequence\u001b[39;00m\n\u001b[1;32m    292\u001b[0m history\u001b[38;5;241m.\u001b[39mappend(DNA_seq\u001b[38;5;241m.\u001b[39mcopy())\n",
      "File \u001b[0;32m~/repos/PuningAnalysis/src/clock_project/simulation/waiting_time_simulator_original.py:257\u001b[0m, in \u001b[0;36mupdate_waiting_times\u001b[0;34m(DNA_seq, Q_dict, waiting_times, min_position, min_time, markov_order)\u001b[0m\n\u001b[1;32m    254\u001b[0m DNA_seq[seq_index] \u001b[38;5;241m=\u001b[39m \u001b[38;5;124mf\u001b[39m\u001b[38;5;124m\"\u001b[39m\u001b[38;5;132;01m{\u001b[39;00mnew_base\u001b[38;5;132;01m}\u001b[39;00m\u001b[38;5;124m\"\u001b[39m \u001b[38;5;66;03m# Substitue with new base in DNA sequence \u001b[39;00m\n\u001b[1;32m    256\u001b[0m \u001b[38;5;66;03m# Regenerate all waiting times\u001b[39;00m\n\u001b[0;32m--> 257\u001b[0m waiting_times, min_position, min_time \u001b[38;5;241m=\u001b[39m initialize_waiting_times(DNA_seq, Q_dict, markov_order)\n\u001b[1;32m    259\u001b[0m \u001b[38;5;28;01mreturn\u001b[39;00m waiting_times, min_position, min_time\n",
      "File \u001b[0;32m~/repos/PuningAnalysis/src/clock_project/simulation/waiting_time_simulator_original.py:187\u001b[0m, in \u001b[0;36minitialize_waiting_times\u001b[0;34m(DNA_seq, Q_dict, markov_order)\u001b[0m\n\u001b[1;32m    185\u001b[0m \u001b[38;5;28;01mfor\u001b[39;00m seq_index \u001b[38;5;129;01min\u001b[39;00m \u001b[38;5;28mrange\u001b[39m(\u001b[38;5;28mlen\u001b[39m(DNA_seq)):\n\u001b[1;32m    186\u001b[0m     curr_base \u001b[38;5;241m=\u001b[39m \u001b[38;5;28mint\u001b[39m(DNA_seq[seq_index])\n\u001b[0;32m--> 187\u001b[0m     curr_context \u001b[38;5;241m=\u001b[39m get_context(seq_index, DNA_seq, markov_order)\n\u001b[1;32m    189\u001b[0m     \u001b[38;5;28;01mfor\u001b[39;00m next_base \u001b[38;5;129;01min\u001b[39;00m \u001b[38;5;28mrange\u001b[39m(\u001b[38;5;241m4\u001b[39m):\n\u001b[1;32m    190\u001b[0m         \u001b[38;5;28;01mif\u001b[39;00m next_base \u001b[38;5;241m!=\u001b[39m curr_base:\n",
      "File \u001b[0;32m~/repos/PuningAnalysis/src/clock_project/simulation/waiting_time_simulator_original.py:136\u001b[0m, in \u001b[0;36mget_context\u001b[0;34m(seq_index, DNA_seq, markov_order, anchor_base)\u001b[0m\n\u001b[1;32m    119\u001b[0m \u001b[38;5;28;01mdef\u001b[39;00m \u001b[38;5;21mget_context\u001b[39m(seq_index, DNA_seq, markov_order, anchor_base \u001b[38;5;241m=\u001b[39m \u001b[38;5;124m'\u001b[39m\u001b[38;5;124m0\u001b[39m\u001b[38;5;124m'\u001b[39m):\n\u001b[1;32m    120\u001b[0m \u001b[38;5;250m    \u001b[39m\u001b[38;5;124;03m\"\"\"\u001b[39;00m\n\u001b[1;32m    121\u001b[0m \u001b[38;5;124;03m    Given the index of a base in the given DNA sequence list and order, obtain the context i.e. left and right neighbours in a tuple.\u001b[39;00m\n\u001b[1;32m    122\u001b[0m \n\u001b[0;32m   (...)\u001b[0m\n\u001b[1;32m    133\u001b[0m \u001b[38;5;124;03m    get_context(1, ['3', '2', '3', '1', '2'], 2) = ('03', '31')\u001b[39;00m\n\u001b[1;32m    134\u001b[0m \u001b[38;5;124;03m    \"\"\"\u001b[39;00m\n\u001b[0;32m--> 136\u001b[0m     DNA_seq \u001b[38;5;241m=\u001b[39m \u001b[38;5;124m'\u001b[39m\u001b[38;5;124m'\u001b[39m\u001b[38;5;241m.\u001b[39mjoin(DNA_seq) \u001b[38;5;66;03m# convert list DNA_seq to string \u001b[39;00m\n\u001b[1;32m    138\u001b[0m     \u001b[38;5;28;01mif\u001b[39;00m markov_order \u001b[38;5;241m==\u001b[39m \u001b[38;5;241m0\u001b[39m:\n\u001b[1;32m    139\u001b[0m         \u001b[38;5;28;01mreturn\u001b[39;00m \u001b[38;5;124m'\u001b[39m\u001b[38;5;124m0\u001b[39m\u001b[38;5;124m'\u001b[39m \u001b[38;5;66;03m# needed to access single independent matrix in rate_matrices_dict\u001b[39;00m\n",
      "\u001b[0;31mKeyboardInterrupt\u001b[0m: "
     ]
    }
   ],
   "source": [
    "from clock_project.simulation.waiting_time_simulator_original import average_substitution\n",
    "import time\n",
    "\n",
    "elapsed_time_list = []\n",
    "\n",
    "Q_dict  = {'0': Q_matrix}\n",
    "\n",
    "sequence_length = [500, 1000, 2000, 3000]\n",
    "\n",
    "for i in range(3):\n",
    "    for length in sequence_length:\n",
    "        start_time = time.time()\n",
    "        original = average_substitution(Q_dict, 1, 100, length, pi, 0)\n",
    "        end_time = time.time()\n",
    "        elapsed_time = start_time - end_time\n",
    "        print(elapsed_time)\n",
    "        elapsed_time_list.append(elapsed_time)\n"
   ]
  },
  {
   "cell_type": "markdown",
   "metadata": {},
   "source": [
    "## Test for different simulation time & sequence length\n",
    "### sequence length = 1000, repeat = 200"
   ]
  },
  {
   "cell_type": "code",
   "execution_count": 9,
   "metadata": {},
   "outputs": [],
   "source": [
    "# repeat = 200\n",
    "# results = {'1000': {}}\n",
    "# for time in time_range:\n",
    "#     simulator = SeqSimulate(Q_matrix, 1000, repeat, 11, pi)\n",
    "#     result = simulator.average_substitution(time)\n",
    "#     ns_per_site = result[0]\n",
    "#     avg_ns_per_site = result[1]\n",
    "#     theoretical = expected_number_subs(pi, Q_matrix, time)\n",
    "#     t_stat, p_value = stats.ttest_1samp(ns_per_site, theoretical)\n",
    "#     results['1000'][time] = {'ns_per_site_list': ns_per_site, 'avg_ns_per_site': avg_ns_per_site, 'theoretical_value': theoretical, 'p_value': p_value, 't_stat': t_stat}\n",
    "\n",
    "\n",
    "# with open('../../../results/WTS_1000(2).json', 'w') as outfile:\n",
    "#     json.dump(results, outfile, indent=4)"
   ]
  },
  {
   "cell_type": "code",
   "execution_count": 10,
   "metadata": {},
   "outputs": [],
   "source": [
    "# repeat = 200\n",
    "# results2 = {'1000': {}}\n",
    "# simulator = SeqSimulate(Q_matrix, 1000, repeat, 5, pi)\n",
    "\n",
    "# for time in time_range:\n",
    "#     print(time)\n",
    "#     result = simulator.average_substitution(time)\n",
    "#     ns_per_site = result[0]\n",
    "#     avg_ns_per_site = result[1]\n",
    "#     theoretical = expected_number_subs(pi, Q_matrix, time)\n",
    "#     t_stat, p_value = stats.ttest_1samp(ns_per_site, theoretical)\n",
    "#     results2['1000'][time] = {'ns_per_site_list': ns_per_site, 'avg_ns_per_site': avg_ns_per_site, 'theoretical_value': theoretical, 'p_value': p_value, 't_stat': t_stat}\n",
    "\n",
    "\n",
    "# with open('../../../results/WTS_1000(3).json', 'w') as outfile:\n",
    "#     json.dump(results2, outfile, indent=4)"
   ]
  },
  {
   "cell_type": "markdown",
   "metadata": {},
   "source": [
    "### Sequence length = 2000"
   ]
  },
  {
   "cell_type": "code",
   "execution_count": 11,
   "metadata": {},
   "outputs": [],
   "source": [
    "# repeat = 200\n",
    "# results1 = {'2000': {}}\n",
    "# simulator = SeqSimulate(Q_matrix, 2000, repeat, 10, pi)\n",
    "\n",
    "# for time in time_range:\n",
    "#     print(time)\n",
    "#     result = simulator.average_substitution(time)\n",
    "#     ns_per_site = result[0]\n",
    "#     avg_ns_per_site = result[1]\n",
    "#     theoretical = expected_number_subs(pi, Q_matrix, time)\n",
    "#     t_stat, p_value = stats.ttest_1samp(ns_per_site, theoretical)\n",
    "#     results1['2000'][time] = {'ns_per_site_list': ns_per_site, 'avg_ns_per_site': avg_ns_per_site, 'theoretical_value': theoretical, 'p_value': p_value, 't_stat': t_stat}\n",
    "\n",
    "\n",
    "# with open('../../../results/WTS_2000(1).json', 'w') as outfile:\n",
    "#     json.dump(results1, outfile, indent=4)\n",
    "\n"
   ]
  },
  {
   "cell_type": "code",
   "execution_count": 12,
   "metadata": {},
   "outputs": [],
   "source": [
    "\n",
    "# repeat = 200\n",
    "# results2 = {'2000': {}}\n",
    "# simulator = SeqSimulate(Q_matrix, 2000, repeat, 11, pi)\n",
    "\n",
    "# for time in time_range:\n",
    "#     print(time)\n",
    "#     result = simulator.average_substitution(time)\n",
    "#     ns_per_site = result[0]\n",
    "#     avg_ns_per_site = result[1]\n",
    "#     theoretical = expected_number_subs(pi, Q_matrix, time)\n",
    "#     t_stat, p_value = stats.ttest_1samp(ns_per_site, theoretical)\n",
    "#     results2['2000'][time] = {'ns_per_site_list': ns_per_site, 'avg_ns_per_site': avg_ns_per_site, 'theoretical_value': theoretical, 'p_value': p_value, 't_stat': t_stat}\n",
    "\n",
    "\n",
    "# with open('../../../results/WTS_2000(2).json', 'w') as outfile:\n",
    "#     json.dump(results2, outfile, indent=4)"
   ]
  },
  {
   "cell_type": "code",
   "execution_count": 13,
   "metadata": {},
   "outputs": [],
   "source": [
    "# repeat = 200\n",
    "# results3 = {'2000': {}}\n",
    "# simulator = SeqSimulate(Q_matrix, 2000, repeat, 12, pi)\n",
    "\n",
    "# for time in time_range:\n",
    "#     print(time)\n",
    "#     result = simulator.average_substitution(time)\n",
    "#     ns_per_site = result[0]\n",
    "#     avg_ns_per_site = result[1]\n",
    "#     theoretical = expected_number_subs(pi, Q_matrix, time)\n",
    "#     t_stat, p_value = stats.ttest_1samp(ns_per_site, theoretical)\n",
    "#     results3['2000'][time] = {'ns_per_site_list': ns_per_site, 'avg_ns_per_site': avg_ns_per_site, 'theoretical_value': theoretical, 'p_value': p_value, 't_stat': t_stat}\n",
    "\n",
    "\n",
    "# with open('../../../results/WTS_2000(3).json', 'w') as outfile:\n",
    "#     json.dump(results3, outfile, indent=4)"
   ]
  },
  {
   "cell_type": "markdown",
   "metadata": {},
   "source": [
    "### Sequence length = 3000"
   ]
  },
  {
   "cell_type": "code",
   "execution_count": null,
   "metadata": {},
   "outputs": [],
   "source": [
    "repeat = 100\n",
    "results1 = {'3000': {}}\n",
    "simulator = SeqSimulate(Q_matrix, 3000, repeat, 10, pi)\n",
    "\n",
    "for time in time_range:\n",
    "    result = simulator.average_substitution(time)\n",
    "    ns_per_site = result[0]\n",
    "    avg_ns_per_site = result[1]\n",
    "    theoretical = expected_number_subs(pi, Q_matrix, time)\n",
    "    t_stat, p_value = stats.ttest_1samp(ns_per_site, theoretical)\n",
    "    results1['3000'][time] = {'ns_per_site_list': ns_per_site, 'avg_ns_per_site': avg_ns_per_site, 'theoretical_value': theoretical, 'p_value': p_value, 't_stat': t_stat}\n",
    "\n",
    "\n",
    "with open('../../../results/WTS_3000(1).json', 'w') as outfile:\n",
    "    json.dump(results1, outfile, indent=4)\n",
    "\n"
   ]
  },
  {
   "cell_type": "code",
   "execution_count": null,
   "metadata": {},
   "outputs": [],
   "source": [
    "repeat = 100\n",
    "results2 = {'3000': {}}\n",
    "simulator = SeqSimulate(Q_matrix, 3000, repeat, 11, pi)\n",
    "\n",
    "for time in time_range:\n",
    "    print(time)\n",
    "    result = simulator.average_substitution(time)\n",
    "    ns_per_site = result[0]\n",
    "    avg_ns_per_site = result[1]\n",
    "    theoretical = expected_number_subs(pi, Q_matrix, time)\n",
    "    t_stat, p_value = stats.ttest_1samp(ns_per_site, theoretical)\n",
    "    results2['3000'][time] = {'ns_per_site_list': ns_per_site, 'avg_ns_per_site': avg_ns_per_site, 'theoretical_value': theoretical, 'p_value': p_value, 't_stat': t_stat}\n",
    "\n",
    "\n",
    "with open('../../../results/WTS_3000(2).json', 'w') as outfile:\n",
    "    json.dump(results2, outfile, indent=4)\n",
    "\n"
   ]
  },
  {
   "cell_type": "code",
   "execution_count": null,
   "metadata": {},
   "outputs": [],
   "source": [
    "repeat = 100\n",
    "results3 = {'3000': {}}\n",
    "simulator = SeqSimulate(Q_matrix, 3000, repeat, 12, pi)\n",
    "\n",
    "for time in time_range:\n",
    "    print(time)\n",
    "    result = simulator.average_substitution(time)\n",
    "    ns_per_site = result[0]\n",
    "    avg_ns_per_site = result[1]\n",
    "    theoretical = expected_number_subs(pi, Q_matrix, time)\n",
    "    t_stat, p_value = stats.ttest_1samp(ns_per_site, theoretical)\n",
    "    results3['3000'][time] = {'ns_per_site_list': ns_per_site, 'avg_ns_per_site': avg_ns_per_site, 'theoretical_value': theoretical, 'p_value': p_value, 't_stat': t_stat}\n",
    "\n",
    "\n",
    "with open('../../../results/WTS_3000(3).json', 'w') as outfile:\n",
    "    json.dump(results3, outfile, indent=4)"
   ]
  },
  {
   "cell_type": "markdown",
   "metadata": {},
   "source": [
    "## Test for different repeat, length = 1000, time = 1"
   ]
  },
  {
   "cell_type": "code",
   "execution_count": 15,
   "metadata": {},
   "outputs": [],
   "source": [
    "# # seed_seq = range(6)\n",
    "# # repeats = [10, 50, 100, 200, 300, 500]\n",
    "# # results = []\n",
    "# # for element in list(zip(seed_seq, repeats)):\n",
    "# #     seed, repeat = element\n",
    "# #     simulator = SeqSimulate(Q_matrix, 2000, repeat, seed, pi)\n",
    "# #     result = simulator.average_substitution(max_time = 1)\n",
    "# #     results.append(result)\n",
    "\n",
    "# # WTS_repeats_result = {}\n",
    "# # for i in range(len(results)):\n",
    "# #     ns_per_site, avg_ns_per_site = results[i]\n",
    "# #     theoretical = expected_number_subs(pi, Q_matrix, 1)\n",
    "# #     t_stat, p_value = stats.ttest_1samp(ns_per_site, theoretical)\n",
    "# #     WTS_repeats_result[repeats[i]] = {'ns_per_site_list': ns_per_site, 'avg_ns_per_site': avg_ns_per_site, 'theoretical_value': theoretical, 'p_value': p_value, 't_stat': t_stat}\n",
    "    \n",
    "\n",
    "# with open('../../../results/WTS_repeat.json', 'w') as outfile:\n",
    "#     json.dump(WTS_repeats_result, outfile, indent=4)"
   ]
  },
  {
   "cell_type": "code",
   "execution_count": 16,
   "metadata": {},
   "outputs": [],
   "source": [
    "# seed_seq = [1 , 2, 3, 4, 5, 6]\n",
    "# repeats = [10, 50, 100, 200, 300, 500]\n",
    "# results1 = []\n",
    "# for element in list(zip(seed_seq, repeats)):\n",
    "#     seed, repeat = element\n",
    "#     simulator = SeqSimulate(Q_matrix, 2000, repeat, seed, pi)\n",
    "#     result = simulator.average_substitution(max_time = 1)\n",
    "#     results1.append(result)\n",
    "\n",
    "# WTS_repeats_result1 = {}\n",
    "# for i in range(len(results1)):\n",
    "#     ns_per_site, avg_ns_per_site = results1[i]\n",
    "#     theoretical = expected_number_subs(pi, Q_matrix, 1)\n",
    "#     t_stat, p_value = stats.ttest_1samp(ns_per_site, theoretical)\n",
    "#     WTS_repeats_result1[repeats[i]] = {'ns_per_site_list': ns_per_site, 'avg_ns_per_site': avg_ns_per_site, 'theoretical_value': theoretical, 'p_value': p_value, 't_stat': t_stat}\n",
    "\n",
    "# with open('../../../results/WTS_repeat(1).json', 'w') as outfile:\n",
    "#     json.dump(WTS_repeats_result1, outfile, indent=4)"
   ]
  },
  {
   "cell_type": "code",
   "execution_count": 17,
   "metadata": {},
   "outputs": [],
   "source": [
    "# seed_seq = [10, 11, 12, 13, 14, 15]\n",
    "# repeats = [10, 50, 100, 200, 300, 500]\n",
    "# results2 = []\n",
    "# for element in list(zip(seed_seq, repeats)):\n",
    "#     seed, repeat = element\n",
    "#     simulator = SeqSimulate(Q_matrix, 2000, repeat, seed, pi)\n",
    "#     result = simulator.average_substitution(max_time = 1)\n",
    "#     results2.append(result)\n",
    "\n",
    "# WTS_repeats_result2 = {}\n",
    "# for i in range(len(results2)):\n",
    "#     ns_per_site, avg_ns_per_site = results2[i]\n",
    "#     theoretical = expected_number_subs(pi, Q_matrix, 1)\n",
    "#     t_stat, p_value = stats.ttest_1samp(ns_per_site, theoretical)\n",
    "#     WTS_repeats_result2[repeats[i]] = {'ns_per_site_list': ns_per_site, 'avg_ns_per_site': avg_ns_per_site, 'theoretical_value': theoretical, 'p_value': p_value, 't_stat': t_stat}\n",
    "\n",
    "# with open('../../../results/WTS_repeat(2).json', 'w') as outfile:\n",
    "#     json.dump(WTS_repeats_result2, outfile, indent=4)"
   ]
  },
  {
   "cell_type": "code",
   "execution_count": 18,
   "metadata": {},
   "outputs": [],
   "source": [
    "# seed_seq = [20, 21, 22, 23, 24, 25]\n",
    "# repeats = [10, 50, 100, 200, 300, 500]\n",
    "# results3 = []\n",
    "# for element in list(zip(seed_seq, repeats)):\n",
    "#     seed, repeat = element\n",
    "#     simulator = SeqSimulate(Q_matrix, 2000, repeat, seed, pi)\n",
    "#     result = simulator.average_substitution(max_time = 1)\n",
    "#     results3.append(result)\n",
    "\n",
    "# WTS_repeats_result3 = {}\n",
    "# for i in range(len(results3)):\n",
    "#     ns_per_site, avg_ns_per_site = results3[i]\n",
    "#     theoretical = expected_number_subs(pi, Q_matrix, 1)\n",
    "#     t_stat, p_value = stats.ttest_1samp(ns_per_site, theoretical)\n",
    "#     WTS_repeats_result3[repeats[i]] = {'ns_per_site_list': ns_per_site, 'avg_ns_per_site': avg_ns_per_site, 'theoretical_value': theoretical, 'p_value': p_value, 't_stat': t_stat}\n",
    "\n",
    "# with open('../../../results/WTS_repeat(3).json', 'w') as outfile:\n",
    "#     json.dump(WTS_repeats_result3, outfile, indent=4)"
   ]
  },
  {
   "cell_type": "markdown",
   "metadata": {},
   "source": [
    "## Test for different parameter that change the simulation result\n",
    "### Different rate matrix Q, t = 1, repeat = 100, sequence length = 1000"
   ]
  },
  {
   "cell_type": "code",
   "execution_count": 29,
   "metadata": {},
   "outputs": [],
   "source": [
    "length  = 1000\n",
    "t = 1\n",
    "repeat = 100\n",
    "Q = [Q_matrix, Q_matrix2, Q_matrix3]\n"
   ]
  },
  {
   "cell_type": "code",
   "execution_count": 30,
   "metadata": {},
   "outputs": [],
   "source": [
    "seed_seq = [1, 2, 3]\n",
    "results_Q_1 = []\n",
    "for element in list(zip(seed_seq, Q)):\n",
    "    seed, matrix = element\n",
    "    simulator = SeqSimulate(matrix, 1000, 100, seed, pi)\n",
    "    result = simulator.average_substitution(max_time = 1)\n",
    "    results_Q_1.append(result)\n",
    "\n",
    "WTS_Q_result1 = {}\n",
    "for i in range(len(results_Q_1)):\n",
    "    ns_per_site, avg_ns_per_site = results_Q_1[i]\n",
    "    std = np.std(ns_per_site)\n",
    "    cv = std/avg_ns_per_site\n",
    "    theoretical = expected_number_subs(pi, Q[i], 1)\n",
    "    error_list = [a - theoretical for a in ns_per_site]\n",
    "    t_stat, p_value = stats.ttest_1samp(ns_per_site, theoretical)\n",
    "    WTS_Q_result1[i] = {'ns_per_site_list': ns_per_site, 'avg_ns_per_site': avg_ns_per_site, 'theoretical_value': theoretical, 'error': error_list, 'p_value': p_value, 't_stat': t_stat, 'cv': cv, 'std': std}\n",
    "\n",
    "with open('../../../results/WTS_Q(1).json', 'w') as outfile:\n",
    "    json.dump(WTS_Q_result1, outfile, indent=4)"
   ]
  },
  {
   "cell_type": "code",
   "execution_count": 31,
   "metadata": {},
   "outputs": [],
   "source": [
    "seed_seq = [4, 5, 6]\n",
    "results_Q_2 = []\n",
    "for element in list(zip(seed_seq, Q)):\n",
    "    seed, matrix = element\n",
    "    simulator = SeqSimulate(matrix, 1000, 100, seed, pi)\n",
    "    result = simulator.average_substitution(max_time = 1)\n",
    "    results_Q_2.append(result)\n",
    "\n",
    "WTS_Q_result2 = {}\n",
    "for i in range(len(results_Q_2)):\n",
    "    ns_per_site, avg_ns_per_site = results_Q_2[i]\n",
    "    std = np.std(ns_per_site)\n",
    "    cv = std/avg_ns_per_site\n",
    "    theoretical = expected_number_subs(pi, Q[i], 1)\n",
    "    error_list = [a - theoretical for a in ns_per_site]\n",
    "    t_stat, p_value = stats.ttest_1samp(ns_per_site, theoretical)\n",
    "    WTS_Q_result2[i] = {'ns_per_site_list': ns_per_site, 'avg_ns_per_site': avg_ns_per_site, 'theoretical_value': theoretical, 'error': error_list, 'p_value': p_value, 't_stat': t_stat, 'cv': cv, 'std': std}\n",
    "\n",
    "with open('../../../results/WTS_Q(2).json', 'w') as outfile:\n",
    "    json.dump(WTS_Q_result2, outfile, indent=4)"
   ]
  },
  {
   "cell_type": "code",
   "execution_count": 32,
   "metadata": {},
   "outputs": [],
   "source": [
    "seed_seq = [7, 8, 9]\n",
    "results_Q_3 = []\n",
    "for element in list(zip(seed_seq, Q)):\n",
    "    seed, matrix = element\n",
    "    simulator = SeqSimulate(matrix, 1000, 100, seed, pi)\n",
    "    result = simulator.average_substitution(max_time = 1)\n",
    "    results_Q_3.append(result)\n",
    "\n",
    "WTS_Q_result3 = {}\n",
    "for i in range(len(results_Q_3)):\n",
    "    ns_per_site, avg_ns_per_site = results_Q_3[i]\n",
    "    std = np.std(ns_per_site)\n",
    "    cv = std/avg_ns_per_site\n",
    "    theoretical = expected_number_subs(pi, Q[i], 1)\n",
    "    error_list = [a - theoretical for a in ns_per_site]\n",
    "    t_stat, p_value = stats.ttest_1samp(ns_per_site, theoretical)\n",
    "    WTS_Q_result3[i] = {'ns_per_site_list': ns_per_site, 'avg_ns_per_site': avg_ns_per_site, 'theoretical_value': theoretical, 'error': error_list, 'p_value': p_value, 't_stat': t_stat, 'cv': cv, 'std': std}\n",
    "\n",
    "with open('../../../results/WTS_Q(3).json', 'w') as outfile:\n",
    "    json.dump(WTS_Q_result3, outfile, indent=4)"
   ]
  },
  {
   "cell_type": "markdown",
   "metadata": {},
   "source": [
    "### Different pi, length = 1000, repeat = 100, t = 1, Q = Q_matrix"
   ]
  },
  {
   "cell_type": "code",
   "execution_count": 33,
   "metadata": {},
   "outputs": [],
   "source": [
    "length  = 1000\n",
    "t = 1\n",
    "repeat = 100\n",
    "pi_list = [pi, pi2, pi3]"
   ]
  },
  {
   "cell_type": "code",
   "execution_count": 39,
   "metadata": {},
   "outputs": [],
   "source": [
    "seed_seq = [1, 2, 3]\n",
    "results_pi_1 = []\n",
    "for element in list(zip(seed_seq, pi_list)):\n",
    "    seed, pi_element = element\n",
    "    simulator = SeqSimulate(Q_matrix, 1000, 100, seed, pi_element)\n",
    "    result = simulator.average_substitution(max_time = 1)\n",
    "    results_pi_1.append(result)\n",
    "\n",
    "WTS_pi_result1 = {}\n",
    "for i in range(len(results_pi_1)):\n",
    "    ns_per_site, avg_ns_per_site = results_pi_1[i]\n",
    "    std = np.std(ns_per_site)\n",
    "    cv = std/avg_ns_per_site\n",
    "    theoretical = expected_number_subs(pi_list[i], Q_matrix, 1)\n",
    "    error_list = [a - theoretical for a in ns_per_site]\n",
    "    t_stat, p_value = stats.ttest_1samp(ns_per_site, theoretical)\n",
    "    WTS_pi_result1[i] = {'ns_per_site_list': ns_per_site, 'avg_ns_per_site': avg_ns_per_site, 'theoretical_value': theoretical, 'error': error_list, 'p_value': p_value, 't_stat': t_stat, 'cv': cv, 'std': std}\n",
    "\n",
    "with open('../../../results/WTS_pi(1).json', 'w') as outfile:\n",
    "    json.dump(WTS_pi_result1, outfile, indent=4)"
   ]
  },
  {
   "cell_type": "code",
   "execution_count": 40,
   "metadata": {},
   "outputs": [],
   "source": [
    "seed_seq = [4, 5, 6]\n",
    "results_pi_2 = []\n",
    "for element in list(zip(seed_seq, pi_list)):\n",
    "    seed, pi_element = element\n",
    "    simulator = SeqSimulate(Q_matrix, 1000, 100, seed, pi_element)\n",
    "    result = simulator.average_substitution(max_time = 1)\n",
    "    results_pi_2.append(result)\n",
    "\n",
    "WTS_pi_result2 = {}\n",
    "for i in range(len(results_pi_2)):\n",
    "    ns_per_site, avg_ns_per_site = results_pi_2[i]\n",
    "    std = np.std(ns_per_site)\n",
    "    cv = std/avg_ns_per_site\n",
    "    theoretical = expected_number_subs(pi_list[i], Q_matrix, 1)\n",
    "    error_list = [a - theoretical for a in ns_per_site]\n",
    "    t_stat, p_value = stats.ttest_1samp(ns_per_site, theoretical)\n",
    "    WTS_pi_result2[i] = {'ns_per_site_list': ns_per_site, 'avg_ns_per_site': avg_ns_per_site, 'theoretical_value': theoretical, 'error': error_list, 'p_value': p_value, 't_stat': t_stat, 'cv': cv, 'std': std}\n",
    "\n",
    "with open('../../../results/WTS_pi(2).json', 'w') as outfile:\n",
    "    json.dump(WTS_pi_result2, outfile, indent=4)"
   ]
  },
  {
   "cell_type": "code",
   "execution_count": 41,
   "metadata": {},
   "outputs": [],
   "source": [
    "seed_seq = [7, 8, 9]\n",
    "results_pi_3 = []\n",
    "for element in list(zip(seed_seq, pi_list)):\n",
    "    seed, pi_element = element\n",
    "    simulator = SeqSimulate(Q_matrix, 1000, 100, seed, pi_element)\n",
    "    result = simulator.average_substitution(max_time = 1)\n",
    "    results_pi_3.append(result)\n",
    "\n",
    "WTS_pi_result3 = {}\n",
    "for i in range(len(results_pi_3)):\n",
    "    ns_per_site, avg_ns_per_site = results_pi_3[i]\n",
    "    std = np.std(ns_per_site)\n",
    "    cv = std/avg_ns_per_site\n",
    "    theoretical = expected_number_subs(pi_list[i], Q_matrix, 1)\n",
    "    error_list = [a - theoretical for a in ns_per_site]\n",
    "    t_stat, p_value = stats.ttest_1samp(ns_per_site, theoretical)\n",
    "    WTS_pi_result3[i] = {'ns_per_site_list': ns_per_site, 'avg_ns_per_site': avg_ns_per_site, 'theoretical_value': theoretical, 'error': error_list, 'p_value': p_value, 't_stat': t_stat, 'cv': cv, 'std': std}\n",
    "\n",
    "with open('../../../results/WTS_pi(3).json', 'w') as outfile:\n",
    "    json.dump(WTS_pi_result3, outfile, indent=4)"
   ]
  }
 ],
 "metadata": {
  "kernelspec": {
   "display_name": "c312",
   "language": "python",
   "name": "python3"
  },
  "language_info": {
   "codemirror_mode": {
    "name": "ipython",
    "version": 3
   },
   "file_extension": ".py",
   "mimetype": "text/x-python",
   "name": "python",
   "nbconvert_exporter": "python",
   "pygments_lexer": "ipython3",
   "version": "3.11.8"
  }
 },
 "nbformat": 4,
 "nbformat_minor": 2
}
