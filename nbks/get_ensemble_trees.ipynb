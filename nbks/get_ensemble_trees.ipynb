{
 "cells": [
  {
   "cell_type": "code",
   "execution_count": 2,
   "metadata": {},
   "outputs": [
    {
     "name": "stdout",
     "output_type": "stream",
     "text": [
      "Collecting ensembl_lite@ git+https://github.com/cogent3/EnsemblLite.git@develop\n",
      "  Cloning https://github.com/cogent3/EnsemblLite.git (to revision develop) to /private/var/folders/d8/pdrt51hx2jb17vf6k28_x6mh0000gn/T/pip-install-jyka93cg/ensembl-lite_6eca0332e1264409a629af9f6dbdcdaa\n",
      "  Running command git clone --filter=blob:none --quiet https://github.com/cogent3/EnsemblLite.git /private/var/folders/d8/pdrt51hx2jb17vf6k28_x6mh0000gn/T/pip-install-jyka93cg/ensembl-lite_6eca0332e1264409a629af9f6dbdcdaa\n",
      "  Resolved https://github.com/cogent3/EnsemblLite.git to commit 31c8fd276266930801c7d569e0c0517598cc7aa3\n",
      "  Installing build dependencies ... \u001b[?25ldone\n",
      "\u001b[?25h  Getting requirements to build wheel ... \u001b[?25ldone\n",
      "\u001b[?25h  Preparing metadata (pyproject.toml) ... \u001b[?25ldone\n",
      "\u001b[?25hCollecting cogent3@ git+https://github.com/cogent3/cogent3.git@develop (from ensembl_lite@ git+https://github.com/cogent3/EnsemblLite.git@develop)\n",
      "  Cloning https://github.com/cogent3/cogent3.git (to revision develop) to /private/var/folders/d8/pdrt51hx2jb17vf6k28_x6mh0000gn/T/pip-install-jyka93cg/cogent3_f32628dc7d3041018018a3dce68a208b\n",
      "  Running command git clone --filter=blob:none --quiet https://github.com/cogent3/cogent3.git /private/var/folders/d8/pdrt51hx2jb17vf6k28_x6mh0000gn/T/pip-install-jyka93cg/cogent3_f32628dc7d3041018018a3dce68a208b\n",
      "  Resolved https://github.com/cogent3/cogent3.git to commit 1b181270b4cdd4ea47473fa920be12e0a7504db3\n",
      "  Installing build dependencies ... \u001b[?25ldone\n",
      "\u001b[?25h  Getting requirements to build wheel ... \u001b[?25ldone\n",
      "\u001b[?25h  Preparing metadata (pyproject.toml) ... \u001b[?25ldone\n",
      "\u001b[?25hCollecting blosc2 (from ensembl_lite@ git+https://github.com/cogent3/EnsemblLite.git@develop)\n",
      "  Downloading blosc2-2.6.0-cp311-cp311-macosx_10_9_x86_64.whl.metadata (9.1 kB)\n",
      "Requirement already satisfied: click in /Users/gulugulu/opt/anaconda3/envs/c311/lib/python3.11/site-packages (from ensembl_lite@ git+https://github.com/cogent3/EnsemblLite.git@develop) (8.1.7)\n",
      "Collecting scitrack (from ensembl_lite@ git+https://github.com/cogent3/EnsemblLite.git@develop)\n",
      "  Downloading scitrack-2021.5.3-py3-none-any.whl.metadata (8.7 kB)\n",
      "Requirement already satisfied: typing_extensions in /Users/gulugulu/opt/anaconda3/envs/c311/lib/python3.11/site-packages (from ensembl_lite@ git+https://github.com/cogent3/EnsemblLite.git@develop) (4.9.0)\n",
      "Requirement already satisfied: rich in /Users/gulugulu/opt/anaconda3/envs/c311/lib/python3.11/site-packages (from ensembl_lite@ git+https://github.com/cogent3/EnsemblLite.git@develop) (13.3.5)\n",
      "Requirement already satisfied: numba in /Users/gulugulu/opt/anaconda3/envs/c311/lib/python3.11/site-packages (from ensembl_lite@ git+https://github.com/cogent3/EnsemblLite.git@develop) (0.59.1)\n",
      "Requirement already satisfied: numpy in /Users/gulugulu/opt/anaconda3/envs/c311/lib/python3.11/site-packages (from ensembl_lite@ git+https://github.com/cogent3/EnsemblLite.git@develop) (1.26.4)\n",
      "Collecting trogon (from ensembl_lite@ git+https://github.com/cogent3/EnsemblLite.git@develop)\n",
      "  Using cached trogon-0.5.0-py3-none-any.whl.metadata (5.3 kB)\n",
      "Collecting unsync (from ensembl_lite@ git+https://github.com/cogent3/EnsemblLite.git@develop)\n",
      "  Using cached unsync-1.4.0.tar.gz (8.8 kB)\n",
      "  Preparing metadata (setup.py) ... \u001b[?25ldone\n",
      "\u001b[?25hCollecting wakepy>0.7 (from ensembl_lite@ git+https://github.com/cogent3/EnsemblLite.git@develop)\n",
      "  Using cached wakepy-0.7.2-py3-none-any.whl.metadata (4.4 kB)\n",
      "Collecting ndindex>=1.4 (from blosc2->ensembl_lite@ git+https://github.com/cogent3/EnsemblLite.git@develop)\n",
      "  Downloading ndindex-1.8-py3-none-any.whl.metadata (3.4 kB)\n",
      "Requirement already satisfied: msgpack in /Users/gulugulu/opt/anaconda3/envs/c311/lib/python3.11/site-packages (from blosc2->ensembl_lite@ git+https://github.com/cogent3/EnsemblLite.git@develop) (1.0.3)\n",
      "Requirement already satisfied: numexpr in /Users/gulugulu/opt/anaconda3/envs/c311/lib/python3.11/site-packages (from blosc2->ensembl_lite@ git+https://github.com/cogent3/EnsemblLite.git@develop) (2.8.7)\n",
      "Requirement already satisfied: py-cpuinfo in /Users/gulugulu/opt/anaconda3/envs/c311/lib/python3.11/site-packages (from blosc2->ensembl_lite@ git+https://github.com/cogent3/EnsemblLite.git@develop) (9.0.0)\n",
      "Requirement already satisfied: chardet in /Users/gulugulu/opt/anaconda3/envs/c311/lib/python3.11/site-packages (from cogent3@ git+https://github.com/cogent3/cogent3.git@develop->ensembl_lite@ git+https://github.com/cogent3/EnsemblLite.git@develop) (4.0.0)\n",
      "Requirement already satisfied: scipy in /Users/gulugulu/opt/anaconda3/envs/c311/lib/python3.11/site-packages (from cogent3@ git+https://github.com/cogent3/cogent3.git@develop->ensembl_lite@ git+https://github.com/cogent3/EnsemblLite.git@develop) (1.12.0)\n",
      "Requirement already satisfied: tqdm in /Users/gulugulu/opt/anaconda3/envs/c311/lib/python3.11/site-packages (from cogent3@ git+https://github.com/cogent3/cogent3.git@develop->ensembl_lite@ git+https://github.com/cogent3/EnsemblLite.git@develop) (4.65.0)\n",
      "Requirement already satisfied: llvmlite<0.43,>=0.42.0dev0 in /Users/gulugulu/opt/anaconda3/envs/c311/lib/python3.11/site-packages (from numba->ensembl_lite@ git+https://github.com/cogent3/EnsemblLite.git@develop) (0.42.0)\n",
      "Requirement already satisfied: markdown-it-py<3.0.0,>=2.2.0 in /Users/gulugulu/opt/anaconda3/envs/c311/lib/python3.11/site-packages (from rich->ensembl_lite@ git+https://github.com/cogent3/EnsemblLite.git@develop) (2.2.0)\n",
      "Requirement already satisfied: pygments<3.0.0,>=2.13.0 in /Users/gulugulu/opt/anaconda3/envs/c311/lib/python3.11/site-packages (from rich->ensembl_lite@ git+https://github.com/cogent3/EnsemblLite.git@develop) (2.15.1)\n",
      "Collecting textual>=0.26.0 (from trogon->ensembl_lite@ git+https://github.com/cogent3/EnsemblLite.git@develop)\n",
      "  Downloading textual-0.55.1-py3-none-any.whl.metadata (5.6 kB)\n",
      "Requirement already satisfied: mdurl~=0.1 in /Users/gulugulu/opt/anaconda3/envs/c311/lib/python3.11/site-packages (from markdown-it-py<3.0.0,>=2.2.0->rich->ensembl_lite@ git+https://github.com/cogent3/EnsemblLite.git@develop) (0.1.0)\n",
      "Requirement already satisfied: linkify-it-py<3,>=1 in /Users/gulugulu/opt/anaconda3/envs/c311/lib/python3.11/site-packages (from markdown-it-py[linkify,plugins]>=2.1.0->textual>=0.26.0->trogon->ensembl_lite@ git+https://github.com/cogent3/EnsemblLite.git@develop) (2.0.0)\n",
      "Requirement already satisfied: mdit-py-plugins in /Users/gulugulu/opt/anaconda3/envs/c311/lib/python3.11/site-packages (from markdown-it-py[linkify,plugins]>=2.1.0->textual>=0.26.0->trogon->ensembl_lite@ git+https://github.com/cogent3/EnsemblLite.git@develop) (0.3.0)\n",
      "Requirement already satisfied: uc-micro-py in /Users/gulugulu/opt/anaconda3/envs/c311/lib/python3.11/site-packages (from linkify-it-py<3,>=1->markdown-it-py[linkify,plugins]>=2.1.0->textual>=0.26.0->trogon->ensembl_lite@ git+https://github.com/cogent3/EnsemblLite.git@develop) (1.0.1)\n",
      "Downloading wakepy-0.7.2-py3-none-any.whl (15 kB)\n",
      "Downloading blosc2-2.6.0-cp311-cp311-macosx_10_9_x86_64.whl (4.4 MB)\n",
      "\u001b[2K   \u001b[90m━━━━━━━━━━━━━━━━━━━━━━━━━━━━━━━━━━━━━━━━\u001b[0m \u001b[32m4.4/4.4 MB\u001b[0m \u001b[31m2.5 MB/s\u001b[0m eta \u001b[36m0:00:00\u001b[0ma \u001b[36m0:00:01\u001b[0mm\n",
      "\u001b[?25hDownloading scitrack-2021.5.3-py3-none-any.whl (7.8 kB)\n",
      "Downloading trogon-0.5.0-py3-none-any.whl (24 kB)\n",
      "Downloading ndindex-1.8-py3-none-any.whl (91 kB)\n",
      "\u001b[2K   \u001b[90m━━━━━━━━━━━━━━━━━━━━━━━━━━━━━━━━━━━━━━━━\u001b[0m \u001b[32m91.2/91.2 kB\u001b[0m \u001b[31m9.6 MB/s\u001b[0m eta \u001b[36m0:00:00\u001b[0m\n",
      "\u001b[?25hDownloading textual-0.55.1-py3-none-any.whl (547 kB)\n",
      "\u001b[2K   \u001b[90m━━━━━━━━━━━━━━━━━━━━━━━━━━━━━━━━━━━━━━━━\u001b[0m \u001b[32m547.8/547.8 kB\u001b[0m \u001b[31m28.2 MB/s\u001b[0m eta \u001b[36m0:00:00\u001b[0m\n",
      "\u001b[?25hBuilding wheels for collected packages: ensembl_lite, cogent3, unsync\n",
      "  Building wheel for ensembl_lite (pyproject.toml) ... \u001b[?25ldone\n",
      "\u001b[?25h  Created wheel for ensembl_lite: filename=ensembl_lite-2023.7.9a1-py3-none-any.whl size=47255 sha256=5af902dd258d6989199f9059fcdff90b5b3ae073d9d2489ce576cc7257e7d594\n",
      "  Stored in directory: /private/var/folders/d8/pdrt51hx2jb17vf6k28_x6mh0000gn/T/pip-ephem-wheel-cache-42tf19js/wheels/18/0d/b7/8bcbb3ec2ffe0c7737f282a1327217e8e5d8d884be5f32b6c0\n",
      "  Building wheel for cogent3 (pyproject.toml) ... \u001b[?25ldone\n",
      "\u001b[?25h  Created wheel for cogent3: filename=cogent3-2024.2.5a1-py3-none-any.whl size=664845 sha256=b5cb30061b5a217a41c164e1df50501a2334e31a26bd3c32bbecbea2569cce4f\n",
      "  Stored in directory: /private/var/folders/d8/pdrt51hx2jb17vf6k28_x6mh0000gn/T/pip-ephem-wheel-cache-42tf19js/wheels/51/e8/6f/1ed8e6ffb9834d4d0d7e06ed9c40f3aef1cafbf8151ca88d97\n",
      "  Building wheel for unsync (setup.py) ... \u001b[?25ldone\n",
      "\u001b[?25h  Created wheel for unsync: filename=unsync-1.4.0-py3-none-any.whl size=4956 sha256=b0df94473a3ee504c63fe744905b11d9a0a2ae4081a2e6b49cb0c93054d717b4\n",
      "  Stored in directory: /Users/gulugulu/Library/Caches/pip/wheels/e5/5a/33/770465ec131f9c1c1047f95c1f104458b705fce3b6ad76eed6\n",
      "Successfully built ensembl_lite cogent3 unsync\n",
      "Installing collected packages: unsync, wakepy, scitrack, ndindex, cogent3, blosc2, textual, trogon, ensembl_lite\n",
      "Successfully installed blosc2-2.6.0 cogent3-2024.2.5a1 ensembl_lite-2023.7.9a1 ndindex-1.8 scitrack-2021.5.3 textual-0.55.1 trogon-0.5.0 unsync-1.4.0 wakepy-0.7.2\n"
     ]
    }
   ],
   "source": [
    "! python -m pip install \"ensembl_lite @ git+https://github.com/cogent3/EnsemblLite.git@develop\""
   ]
  },
  {
   "cell_type": "code",
   "execution_count": 3,
   "metadata": {},
   "outputs": [],
   "source": [
    "import pathlib\n",
    "from ensembl_lite._download import get_ensembl_trees, download_ensembl_tree\n",
    "from ensembl_lite._species import Species\n",
    "from cogent3 import load_tree"
   ]
  },
  {
   "cell_type": "code",
   "execution_count": 205,
   "metadata": {},
   "outputs": [
    {
     "data": {
      "text/plain": [
       "['pub/release-111/compara/species_trees/100_mammals_Cactus_default.nh',\n",
       " 'pub/release-111/compara/species_trees/10_primates_EPO_default.nh',\n",
       " 'pub/release-111/compara/species_trees/16_pig_breeds_EPO-Extended_default.nh',\n",
       " 'pub/release-111/compara/species_trees/17_sauropsids_EPO_default.nh',\n",
       " 'pub/release-111/compara/species_trees/21_murinae_EPO_default.nh',\n",
       " 'pub/release-111/compara/species_trees/24_primates_EPO-Extended_default.nh',\n",
       " 'pub/release-111/compara/species_trees/27_sauropsids_EPO-Extended_default.nh',\n",
       " 'pub/release-111/compara/species_trees/39_fish_EPO_default.nh',\n",
       " 'pub/release-111/compara/species_trees/43_eutherian_mammals_EPO_default.nh',\n",
       " 'pub/release-111/compara/species_trees/63_amniota_vertebrates_Mercator-Pecan_default.nh',\n",
       " 'pub/release-111/compara/species_trees/65_fish_EPO-Extended_default.nh',\n",
       " 'pub/release-111/compara/species_trees/91_eutherian_mammals_EPO-Extended_default.nh',\n",
       " 'pub/release-111/compara/species_trees/default_ncRNA-trees_cafe.nh',\n",
       " 'pub/release-111/compara/species_trees/default_ncRNA-trees_default.nh',\n",
       " 'pub/release-111/compara/species_trees/default_ncRNA-trees_full_species_tree.nh',\n",
       " 'pub/release-111/compara/species_trees/default_protein-trees_cafe.nh',\n",
       " 'pub/release-111/compara/species_trees/default_protein-trees_default.nh',\n",
       " 'pub/release-111/compara/species_trees/murinae_ncRNA-trees_default.nh',\n",
       " 'pub/release-111/compara/species_trees/murinae_protein-trees_default.nh',\n",
       " 'pub/release-111/compara/species_trees/pig_breeds_ncRNA-trees_default.nh',\n",
       " 'pub/release-111/compara/species_trees/pig_breeds_protein-trees_default.nh',\n",
       " 'pub/release-111/compara/species_trees/vertebrates_species-tree_Ensembl.nh',\n",
       " 'pub/release-111/compara/species_trees/vertebrates_species-tree_NCBI Taxonomy.nh']"
      ]
     },
     "execution_count": 205,
     "metadata": {},
     "output_type": "execute_result"
    }
   ],
   "source": [
    "kwargs = dict(host=\"ftp.ensembl.org\", remote_path=\"pub\", release=\"111\")\n",
    "trees = get_ensembl_trees(**kwargs)\n",
    "trees\n"
   ]
  },
  {
   "cell_type": "code",
   "execution_count": 206,
   "metadata": {},
   "outputs": [],
   "source": [
    "# Filter the list by excluding certain indices\n",
    "exclude_indices = set(range(12, 21)) | {22}\n",
    "DNA_trees = [tree for i, tree in enumerate(trees) if i not in exclude_indices]\n"
   ]
  },
  {
   "cell_type": "code",
   "execution_count": 208,
   "metadata": {},
   "outputs": [],
   "source": [
    "for i in range(len(trees)):\n",
    "    tree_name = pathlib.Path(trees[i]).name\n",
    "    download_kwargs = kwargs.copy()\n",
    "    download_kwargs[\"tree_fname\"] = tree_name\n",
    "\n",
    "    tree = download_ensembl_tree(**download_kwargs)\n",
    "\n",
    "    outpath = f\"../data/ensemble_trees/{tree_name}\"\n",
    "    tree.write(outpath)\n",
    "\n"
   ]
  },
  {
   "cell_type": "code",
   "execution_count": 175,
   "metadata": {},
   "outputs": [],
   "source": [
    "def find_common_name_and_unknown_species(tree):\n",
    "    ## looking up common name from latin name\n",
    "    tree_name = pathlib.Path(tree).name\n",
    "    download_kwargs = kwargs.copy()\n",
    "    download_kwargs[\"tree_fname\"] = tree_name\n",
    "\n",
    "    tree = download_ensembl_tree(**download_kwargs)\n",
    "    tip_names = tree.get_tip_names()\n",
    "\n",
    "    # Assume tree and Species are already defined and imported correctly\n",
    "    tip_names = tree.get_tip_names()\n",
    "    common_names = {}\n",
    "    unknown_species = {}\n",
    "    # Loop through all tip names to get common names\n",
    "    for name in tip_names:\n",
    "        try:\n",
    "            common_name = Species.get_common_name(name)\n",
    "            common_names[name] = common_name\n",
    "        except ValueError:\n",
    "            unknown_species[name] = 'Unknown'\n",
    "            common_names[name] = 'Unknown'\n",
    "    return common_names, unknown_species\n"
   ]
  },
  {
   "cell_type": "code",
   "execution_count": 194,
   "metadata": {},
   "outputs": [],
   "source": [
    "common_names_all = {}\n",
    "unknown_species_all = {}\n",
    "for tree in DNA_trees:\n",
    "    dict_key = pathlib.Path(tree).name\n",
    "    common_name_, unknown_species_ = find_common_name_and_unknown_species(tree)\n",
    "    common_names_all[dict_key] = common_name_\n",
    "    unknown_species_all[dict_key] = unknown_species_\n",
    "\n"
   ]
  },
  {
   "cell_type": "code",
   "execution_count": 181,
   "metadata": {},
   "outputs": [
    {
     "data": {
      "text/plain": [
       "{'100_mammals_Cactus_default.nh': {'Gallus_gallus_reference_breed': 'Unknown',\n",
       "  'Anolis_carolinensis_reference_strain': 'Unknown',\n",
       "  'Bos_indicus_x_Bos_taurus': 'Unknown',\n",
       "  'Bos_taurus_reference_breed': 'Unknown',\n",
       "  'Capra_hircus_reference_breed': 'Unknown',\n",
       "  'Ovis_aries_reference_breed': 'Unknown',\n",
       "  'Sus_scrofa_reference_breed': 'Unknown',\n",
       "  'Equus_caballus_breed_thoroughbred': 'Unknown',\n",
       "  'Equus_asinus_reference_breed': 'Unknown',\n",
       "  'Neogale_vison': 'Unknown',\n",
       "  'Gorilla_gorilla_gorilla': 'Unknown',\n",
       "  'Heterocephalus_glaber_reference_strain': 'Unknown',\n",
       "  'Mus_musculus_reference_CL57BL6_strain': 'Unknown',\n",
       "  'Rattus_norvegicus_strain_BN/NHsdMcwi': 'Unknown',\n",
       "  'Cricetulus_griseus_strain_17A/GY': 'Unknown'},\n",
       " '10_primates_EPO_default.nh': {'Pan_troglodytes_Pan_tro_3.0': 'Unknown',\n",
       "  'Homo_sapiens_GRCh38': 'Unknown',\n",
       "  'Gorilla_gorilla_gorilla_gorGor4': 'Unknown',\n",
       "  'Pongo_abelii_Susie_PABv2': 'Unknown',\n",
       "  'Nomascus_leucogenys_Nleu_3.0': 'Unknown',\n",
       "  'Macaca_mulatta_Mmul_10': 'Unknown',\n",
       "  'Macaca_fascicularis_Macaca_fascicularis_6.0': 'Unknown',\n",
       "  'Microcebus_murinus_Mmur_3.0': 'Unknown'},\n",
       " '16_pig_breeds_EPO-Extended_default.nh': {'Bos_taurus_reference_breed': 'Unknown',\n",
       "  'Ovis_aries_reference_breed': 'Unknown',\n",
       "  'Sus_scrofa_reference_breed': 'Unknown',\n",
       "  'Sus_scrofa_breed_usmarc': 'Unknown',\n",
       "  'Sus_scrofa_breed_jinhua': 'Unknown',\n",
       "  'Sus_scrofa_breed_bamei': 'Unknown',\n",
       "  'Sus_scrofa_breed_rongchang': 'Unknown',\n",
       "  'Sus_scrofa_breed_meishan': 'Unknown',\n",
       "  'Sus_scrofa_breed_hampshire': 'Unknown',\n",
       "  'Sus_scrofa_breed_pietrain': 'Unknown',\n",
       "  'Sus_scrofa_breed_landrace': 'Unknown',\n",
       "  'Sus_scrofa_breed_largewhite': 'Unknown',\n",
       "  'Sus_scrofa_breed_berkshire': 'Unknown',\n",
       "  'Sus_scrofa_breed_tibetan': 'Unknown',\n",
       "  'Sus_scrofa_breed_wuzhishan': 'Unknown',\n",
       "  'Equus_caballus_breed_thoroughbred': 'Unknown'},\n",
       " '17_sauropsids_EPO_default.nh': {'Anolis_carolinensis_reference_strain': 'Unknown',\n",
       "  'Gallus_gallus_reference_breed': 'Unknown',\n",
       "  'Meleagris_gallopavo_reference_strain': 'Unknown',\n",
       "  'Taeniopygia_guttata_bTaeGut1_v1.p': 'Unknown'},\n",
       " '21_murinae_EPO_default.nh': {'Mus_spretus_strain_SPRET/EiJ': 'Unknown',\n",
       "  'Mus_musculus_reference_CL57BL6_strain': 'Unknown',\n",
       "  'Mus_musculus_strain_C57BL/6NJ': 'Unknown',\n",
       "  'Mus_musculus_strain_NZO/HlLtJ': 'Unknown',\n",
       "  'Mus_musculus_strain_A/J': 'Unknown',\n",
       "  'Mus_musculus_strain_BALB/cJ': 'Unknown',\n",
       "  'Mus_musculus_strain_C3H/HeJ': 'Unknown',\n",
       "  'Mus_musculus_strain_CBA/J': 'Unknown',\n",
       "  'Mus_musculus_strain_DBA/2J': 'Unknown',\n",
       "  'Mus_musculus_strain_AKR/J': 'Unknown',\n",
       "  'Mus_musculus_strain_FVB/NJ': 'Unknown',\n",
       "  'Mus_musculus_strain_NOD/ShiLtJ': 'Unknown',\n",
       "  'Mus_musculus_strain_129S1/SvImJ': 'Unknown',\n",
       "  'Mus_musculus_strain_LP/J': 'Unknown',\n",
       "  'Mus_musculus_domesticus_strain_WSB/EiJ': 'Unknown',\n",
       "  'Mus_musculus_musculus_strain_PWK/PhJ': 'Unknown',\n",
       "  'Mus_musculus_castaneus_strain_CAST/EiJ': 'Unknown',\n",
       "  'Mus_caroli_strain_CAROLI_EIJ': 'Unknown',\n",
       "  'Mus_pahari_strain_PAHARI_EIJ': 'Unknown',\n",
       "  'Rattus_norvegicus_strain_BN/NHsdMcwi': 'Unknown'},\n",
       " '24_primates_EPO-Extended_default.nh': {'Gorilla_gorilla_gorilla': 'Unknown'},\n",
       " '27_sauropsids_EPO-Extended_default.nh': {'Anolis_carolinensis_reference_strain': 'Unknown',\n",
       "  'Gallus_gallus_reference_breed': 'Unknown',\n",
       "  'Meleagris_gallopavo_reference_strain': 'Unknown',\n",
       "  'Taeniopygia_guttata_bTaeGut1_v1.p': 'Unknown',\n",
       "  'Ficedula_albicollis_FicAlb1.5': 'Unknown'},\n",
       " '39_fish_EPO_default.nh': {'Astyanax_mexicanus_Astyanax_mexicanus-2.0': 'Unknown',\n",
       "  'Danio_rerio_GRCz11': 'Unknown',\n",
       "  'Xiphophorus_maculatus_X_maculatus-5.0-male': 'Unknown',\n",
       "  'Oryzias_latipes_ASM223467v1': 'Unknown',\n",
       "  'Oreochromis_niloticus_O_niloticus_UMD_NMBU': 'Unknown',\n",
       "  'Scophthalmus_maximus_reference_strain': 'Unknown',\n",
       "  'Dicentrarchus_labrax_dlabrax2021': 'Unknown',\n",
       "  'Tetraodon_nigroviridis_TETRAODON8': 'Unknown',\n",
       "  'Takifugu_rubripes_fTakRub1.2': 'Unknown',\n",
       "  'Oncorhynchus_mykiss_USDA_OmykA_1.1': 'Unknown',\n",
       "  'Salmo_salar_Ssal_v3.1': 'Unknown',\n",
       "  'Esox_lucius_Eluc_v4': 'Unknown',\n",
       "  'Scleropages_formosus_fSclFor1.1': 'Unknown'},\n",
       " '43_eutherian_mammals_EPO_default.nh': {'Cricetulus_griseus_CHOK1GS_HDv1': 'Unknown',\n",
       "  'Microtus_ochrogaster_MicOch1.0': 'Unknown',\n",
       "  'Peromyscus_maniculatus_bairdii_HU_Pman_2.1': 'Unknown',\n",
       "  'Mus_spretus_strain_SPRET/EiJ': 'Unknown',\n",
       "  'Mus_musculus_reference_CL57BL6_strain': 'Unknown',\n",
       "  'Mus_caroli_strain_CAROLI_EIJ': 'Unknown',\n",
       "  'Mus_pahari_strain_PAHARI_EIJ': 'Unknown',\n",
       "  'Rattus_norvegicus_strain_BN/NHsdMcwi': 'Unknown',\n",
       "  'Cavia_porcellus_Cavpor3.0': 'Unknown',\n",
       "  'Sciurus_vulgaris_mSciVul1.1': 'Unknown',\n",
       "  'Marmota_marmota_marmota_marMar2.1': 'Unknown',\n",
       "  'Oryctolagus_cuniculus_OryCun2.0': 'Unknown',\n",
       "  'Pan_troglodytes_Pan_tro_3.0': 'Unknown',\n",
       "  'Pan_paniscus_panpan1.1': 'Unknown',\n",
       "  'Homo_sapiens_GRCh38': 'Unknown',\n",
       "  'Gorilla_gorilla_gorilla_gorGor4': 'Unknown',\n",
       "  'Nomascus_leucogenys_Nleu_3.0': 'Unknown',\n",
       "  'Macaca_mulatta_Mmul_10': 'Unknown',\n",
       "  'Macaca_fascicularis_Macaca_fascicularis_6.0': 'Unknown',\n",
       "  'Chlorocebus_sabaeus_ChlSab1.1': 'Unknown',\n",
       "  'Microcebus_murinus_Mmur_3.0': 'Unknown',\n",
       "  'Panthera_pardus_PanPar1.0': 'Unknown',\n",
       "  'Panthera_leo_PanLeo1.0': 'Unknown',\n",
       "  'Felis_catus_Felis_catus_9.0': 'Unknown',\n",
       "  'Canis_lupus_dingo_ASM325472v1': 'Unknown',\n",
       "  'Canis_lupus_familiaris_reference_breed': 'Unknown',\n",
       "  'Equus_caballus_breed_thoroughbred': 'Unknown',\n",
       "  'Monodon_monoceros_NGI_Narwhal_1': 'Unknown',\n",
       "  'Delphinapterus_leucas_ASM228892v3': 'Unknown',\n",
       "  'Phocoena_sinus_mPhoSin1.pri': 'Unknown',\n",
       "  'Physeter_catodon_ASM283717v2': 'Unknown',\n",
       "  'Balaenoptera_musculus_mBalMus1.v2': 'Unknown',\n",
       "  'Ovis_aries_reference_breed': 'Unknown',\n",
       "  'Capra_hircus_reference_breed': 'Unknown',\n",
       "  'Bos_taurus_reference_breed': 'Unknown',\n",
       "  'Bos_indicus_x_Bos_taurus_UOA_Brahman_1': 'Unknown',\n",
       "  'Bos_grunniens_LU_Bosgru_v3.0': 'Unknown',\n",
       "  'Cervus_hanglu_yarkandensis_CEY_v1': 'Unknown',\n",
       "  'Sus_scrofa_reference_breed': 'Unknown',\n",
       "  'Catagonus_wagneri_CatWag_v2_BIUU_UCD': 'Unknown',\n",
       "  'Camelus_dromedarius_CamDro2': 'Unknown',\n",
       "  'Rhinolophus_ferrumequinum_mRhiFer1_v1.p': 'Unknown',\n",
       "  'Loxodonta_africana_loxAfr3': 'Unknown'},\n",
       " '63_amniota_vertebrates_Mercator-Pecan_default.nh': {'Gallus_gallus_reference_breed': 'Unknown',\n",
       "  'Meleagris_gallopavo_reference_strain': 'Unknown',\n",
       "  'Anolis_carolinensis_reference_strain': 'Unknown',\n",
       "  'Cricetulus_griseus': 'Unknown',\n",
       "  'Mus_spretus_strain_SPRET/EiJ': 'Unknown',\n",
       "  'Mus_musculus_reference_CL57BL6_strain': 'Unknown',\n",
       "  'Mus_caroli_strain_CAROLI_EIJ': 'Unknown',\n",
       "  'Mus_pahari_strain_PAHARI_EIJ': 'Unknown',\n",
       "  'Rattus_norvegicus_strain_BN/NHsdMcwi': 'Unknown',\n",
       "  'Gorilla_gorilla_gorilla': 'Unknown',\n",
       "  'Canis_lupus_familiaris_reference_breed': 'Unknown',\n",
       "  'Equus_caballus_breed_thoroughbred': 'Unknown',\n",
       "  'Bos_indicus_x_Bos_taurus': 'Unknown',\n",
       "  'Capra_hircus_reference_breed': 'Unknown',\n",
       "  'Sus_scrofa_reference_breed': 'Unknown'},\n",
       " '65_fish_EPO-Extended_default.nh': {'Astyanax_mexicanus_Astyanax_mexicanus-2.0': 'Unknown',\n",
       "  'Danio_rerio_GRCz11': 'Unknown',\n",
       "  'Xiphophorus_maculatus_X_maculatus-5.0-male': 'Unknown',\n",
       "  'Oryzias_latipes_ASM223467v1': 'Unknown',\n",
       "  'Oreochromis_niloticus_O_niloticus_UMD_NMBU': 'Unknown',\n",
       "  'Scophthalmus_maximus_reference_strain': 'Unknown',\n",
       "  'Anabas_testudineus_fAnaTes1.2': 'Unknown',\n",
       "  'Mastacembelus_armatus_fMasArm1.2': 'Unknown',\n",
       "  'Dicentrarchus_labrax_dlabrax2021': 'Unknown',\n",
       "  'Tetraodon_nigroviridis_TETRAODON8': 'Unknown',\n",
       "  'Takifugu_rubripes_fTakRub1.2': 'Unknown',\n",
       "  'Gadus_morhua_gadMor3.0': 'Unknown',\n",
       "  'Oncorhynchus_mykiss_USDA_OmykA_1.1': 'Unknown',\n",
       "  'Salmo_salar_Ssal_v3.1': 'Unknown',\n",
       "  'Esox_lucius_Eluc_v4': 'Unknown',\n",
       "  'Scleropages_formosus_fSclFor1.1': 'Unknown'},\n",
       " '91_eutherian_mammals_EPO-Extended_default.nh': {'Loxodonta_africana_loxAfr3': 'Unknown',\n",
       "  'Procavia_capensis_proCap1': 'Unknown',\n",
       "  'Dasypus_novemcinctus_Dasnov3.0': 'Unknown',\n",
       "  'Ailuropoda_melanoleuca_reference_isolate': 'Unknown',\n",
       "  'Neogale_vison': 'Unknown',\n",
       "  'Canis_lupus_familiaris_reference_breed': 'Unknown',\n",
       "  'Felis_catus_Felis_catus_9.0': 'Unknown',\n",
       "  'Equus_caballus_breed_thoroughbred': 'Unknown',\n",
       "  'Equus_asinus_reference_breed': 'Unknown',\n",
       "  'Tursiops_truncatus_turTru1': 'Unknown',\n",
       "  'Ovis_aries_reference_breed': 'Unknown',\n",
       "  'Capra_hircus_reference_breed': 'Unknown',\n",
       "  'Bos_taurus_reference_breed': 'Unknown',\n",
       "  'Bos_indicus_x_Bos_taurus_UOA_Brahman_1': 'Unknown',\n",
       "  'Sus_scrofa_reference_breed': 'Unknown',\n",
       "  'Vicugna_pacos_vicPac1': 'Unknown',\n",
       "  'Pteropus_vampyrus_pteVam1': 'Unknown',\n",
       "  'Myotis_lucifugus_Myoluc2.0': 'Unknown',\n",
       "  'Cricetulus_griseus_CHOK1GS_HDv1': 'Unknown',\n",
       "  'Peromyscus_maniculatus_bairdii_HU_Pman_2.1': 'Unknown',\n",
       "  'Mus_spretus_strain_SPRET/EiJ': 'Unknown',\n",
       "  'Mus_musculus_reference_CL57BL6_strain': 'Unknown',\n",
       "  'Mus_caroli_strain_CAROLI_EIJ': 'Unknown',\n",
       "  'Mus_pahari_strain_PAHARI_EIJ': 'Unknown',\n",
       "  'Rattus_norvegicus_strain_BN/NHsdMcwi': 'Unknown',\n",
       "  'Dipodomys_ordii_Dord_2.0': 'Unknown',\n",
       "  'Cavia_porcellus_Cavpor3.0': 'Unknown',\n",
       "  'Heterocephalus_glaber_reference_strain': 'Unknown',\n",
       "  'Ictidomys_tridecemlineatus_SpeTri2.0': 'Unknown',\n",
       "  'Oryctolagus_cuniculus_OryCun2.0': 'Unknown',\n",
       "  'Ochotona_princeps_OchPri2.0-Ens': 'Unknown',\n",
       "  'Pan_troglodytes_Pan_tro_3.0': 'Unknown',\n",
       "  'Homo_sapiens_GRCh38': 'Unknown',\n",
       "  'Gorilla_gorilla_gorilla_gorGor4': 'Unknown',\n",
       "  'Pongo_abelii_Susie_PABv2': 'Unknown',\n",
       "  'Nomascus_leucogenys_Nleu_3.0': 'Unknown',\n",
       "  'Papio_anubis_Panubis1.0': 'Unknown',\n",
       "  'Macaca_mulatta_Mmul_10': 'Unknown',\n",
       "  'Macaca_fascicularis_Macaca_fascicularis_6.0': 'Unknown',\n",
       "  'Cebus_imitator_Cebus_imitator-1.0': 'Unknown',\n",
       "  'Callithrix_jacchus_mCalJac1.pat.X': 'Unknown',\n",
       "  'Carlito_syrichta_Tarsius_syrichta-2.0.1': 'Unknown',\n",
       "  'Microcebus_murinus_Mmur_3.0': 'Unknown',\n",
       "  'Otolemur_garnettii_OtoGar3': 'Unknown',\n",
       "  'Sorex_araneus_COMMON_SHREW1': 'Unknown'},\n",
       " 'vertebrates_species-tree_Ensembl.nh': {'Gallus_gallus_reference_breed': 'Unknown',\n",
       "  'Meleagris_gallopavo_reference_strain': 'Unknown',\n",
       "  'Anolis_carolinensis_reference_strain': 'Unknown',\n",
       "  'Ailuropoda_melanoleuca_reference_isolate': 'Unknown',\n",
       "  'Neogale_vison': 'Unknown',\n",
       "  'Canis_lupus_familiaris_reference_breed': 'Unknown',\n",
       "  'Equus_caballus_breed_thoroughbred': 'Unknown',\n",
       "  'Equus_asinus_reference_breed': 'Unknown',\n",
       "  'Ovis_aries_reference_breed': 'Unknown',\n",
       "  'Capra_hircus_reference_breed': 'Unknown',\n",
       "  'Bos_taurus_reference_breed': 'Unknown',\n",
       "  'Bos_indicus_x_Bos_taurus': 'Unknown',\n",
       "  'Sus_scrofa_reference_breed': 'Unknown',\n",
       "  'Sus_scrofa_breed_usmarc': 'Unknown',\n",
       "  'Sus_scrofa_breed_jinhua': 'Unknown',\n",
       "  'Sus_scrofa_breed_bamei': 'Unknown',\n",
       "  'Sus_scrofa_breed_rongchang': 'Unknown',\n",
       "  'Sus_scrofa_breed_meishan': 'Unknown',\n",
       "  'Sus_scrofa_breed_hampshire': 'Unknown',\n",
       "  'Sus_scrofa_breed_pietrain': 'Unknown',\n",
       "  'Sus_scrofa_breed_landrace': 'Unknown',\n",
       "  'Sus_scrofa_breed_largewhite': 'Unknown',\n",
       "  'Sus_scrofa_breed_berkshire': 'Unknown',\n",
       "  'Sus_scrofa_breed_tibetan': 'Unknown',\n",
       "  'Sus_scrofa_breed_wuzhishan': 'Unknown',\n",
       "  'Mus_spretus_strain_SPRET/EiJ': 'Unknown',\n",
       "  'Mus_musculus_strain_BALB/cJ': 'Unknown',\n",
       "  'Mus_musculus_strain_NZO/HlLtJ': 'Unknown',\n",
       "  'Mus_musculus_strain_DBA/2J': 'Unknown',\n",
       "  'Mus_musculus_strain_C3H/HeJ': 'Unknown',\n",
       "  'Mus_musculus_strain_CBA/J': 'Unknown',\n",
       "  'Mus_musculus_strain_FVB/NJ': 'Unknown',\n",
       "  'Mus_musculus_strain_NOD/ShiLtJ': 'Unknown',\n",
       "  'Mus_musculus_strain_LP/J': 'Unknown',\n",
       "  'Mus_musculus_strain_129S1/SvImJ': 'Unknown',\n",
       "  'Mus_musculus_reference_CL57BL6_strain': 'Unknown',\n",
       "  'Mus_musculus_strain_C57BL/6NJ': 'Unknown',\n",
       "  'Mus_musculus_strain_AKR/J': 'Unknown',\n",
       "  'Mus_musculus_domesticus_strain_WSB/EiJ': 'Unknown',\n",
       "  'Mus_musculus_strain_A/J': 'Unknown',\n",
       "  'Mus_musculus_musculus_strain_PWK/PhJ': 'Unknown',\n",
       "  'Mus_musculus_castaneus_strain_CAST/EiJ': 'Unknown',\n",
       "  'Mus_caroli_strain_CAROLI_EIJ': 'Unknown',\n",
       "  'Mus_pahari_strain_PAHARI_EIJ': 'Unknown',\n",
       "  'Rattus_norvegicus_strain_BN/NHsdMcwi': 'Unknown',\n",
       "  'Cricetulus_griseus_strain_17A/GY': 'Unknown',\n",
       "  'Cricetulus_griseus_CHOK1GS_HDv1': 'Unknown',\n",
       "  'Heterocephalus_glaber_reference_strain': 'Unknown',\n",
       "  'Gorilla_gorilla_gorilla': 'Unknown',\n",
       "  'Caenorhabditis_elegans_strain_N2': 'Unknown',\n",
       "  'Saccharomyces_cerevisiae_S288C': 'Unknown'}}"
      ]
     },
     "execution_count": 181,
     "metadata": {},
     "output_type": "execute_result"
    }
   ],
   "source": [
    "unknown_species_all"
   ]
  },
  {
   "cell_type": "code",
   "execution_count": 195,
   "metadata": {},
   "outputs": [],
   "source": [
    "unknown_species_list = set()\n",
    "for tree in unknown_species_all.keys():\n",
    "    for species in unknown_species_all[tree]:\n",
    "        unknown_species_list.add(species)"
   ]
  },
  {
   "cell_type": "code",
   "execution_count": 196,
   "metadata": {},
   "outputs": [],
   "source": [
    "unknown_species = {key: \"unknown\" for key in unknown_species_list}\n",
    "\n",
    "unknown_species = {'Ailuropoda_melanoleuca_reference_isolate': 'Giant Panda',\n",
    " 'Anabas_testudineus_fAnaTes1.2': 'Climbing Perch_fAnaTes1.2',\n",
    " 'Anolis_carolinensis_reference_strain': 'Green Anole',\n",
    " 'Astyanax_mexicanus_Astyanax_mexicanus-2.0': 'Mexican tetra',\n",
    " 'Balaenoptera_musculus_mBalMus1.v2': 'Blue whale_mBalMus1.v2',\n",
    " 'Bos_grunniens_LU_Bosgru_v3.0': 'Yak',\n",
    " 'Bos_indicus_x_Bos_taurus': 'India Cattle x Europe Cattle',\n",
    " 'Bos_indicus_x_Bos_taurus_UOA_Brahman_1': 'India Cattle x Europe Cattle__UOA_Brahman_1',\n",
    " 'Bos_taurus_reference_breed': 'Europe Cattle',\n",
    " 'Caenorhabditis_elegans_strain_N2': \"The worm_strain_N2\",\n",
    " 'Callithrix_jacchus_mCalJac1.pat.X': 'Common marmoset_mCalJac1.pat.X',\n",
    " 'Camelus_dromedarius_CamDro2': 'Arabian Camel',\n",
    " 'Canis_lupus_dingo_ASM325472v1': 'Dingo_ASM325472v1',\n",
    " 'Canis_lupus_familiaris_reference_breed': 'Wolf',\n",
    " 'Capra_hircus_reference_breed': 'Goat',\n",
    " 'Carlito_syrichta_Tarsius_syrichta-2.0.1': 'Philippine tarsier-2.0.1',\n",
    " 'Catagonus_wagneri_CatWag_v2_BIUU_UCD': 'Chacoan peccary',\n",
    " 'Cavia_porcellus_Cavpor3.0': 'Guinea pi_Cavpor3.0',\n",
    " 'Cebus_imitator_Cebus_imitator-1.0': 'Panamanian white-faced capuchin',\n",
    " 'Cervus_hanglu_yarkandensis_CEY_v1': 'Yarkand deer',\n",
    " 'Chlorocebus_sabaeus_ChlSab1.1': 'Green monkey',\n",
    " 'Cricetulus_griseus': 'Chinese hamster',\n",
    " 'Cricetulus_griseus_CHOK1GS_HDv1': 'Chinese hamster_CHOK1GS_HDv1',\n",
    " 'Cricetulus_griseus_strain_17A/GY': 'Chinese hamster_strain_17A/GY',\n",
    " 'Danio_rerio_GRCz11': 'Zebrafish_GRCz11',\n",
    " 'Dasypus_novemcinctus_Dasnov3.0': 'Nine-banded armadillo_Dasnov3.0',\n",
    " 'Delphinapterus_leucas_ASM228892v3': 'Beluga whale__ASM228892v3',\n",
    " 'Dicentrarchus_labrax_dlabrax2021': 'European seabass_dlabrax2021',\n",
    " 'Dipodomys_ordii_Dord_2.0': 'Ord`s kangaroo rat',\n",
    " 'Equus_asinus_reference_breed': 'African wild ass',\n",
    " 'Equus_caballus_breed_thoroughbred': 'Thoroughbred',\n",
    " 'Esox_lucius_Eluc_v4': 'Northern pikeEluc_v4',\n",
    " 'Felis_catus_Felis_catus_9.0': 'Cat_9.0',\n",
    " 'Ficedula_albicollis_FicAlb1.5': 'Collared flycatcher_FicAlb1.5',\n",
    " 'Gadus_morhua_gadMor3.0': 'Atlantic cod_gadMor3.0',\n",
    " 'Gallus_gallus_reference_breed': 'Chicken',\n",
    " 'Gorilla_gorilla_gorilla': 'Western lowland gorilla',\n",
    " 'Gorilla_gorilla_gorilla_gorGor4': 'Western lowland gorilla_gorGor4',\n",
    " 'Heterocephalus_glaber_reference_strain': 'Naked mole-rat',\n",
    " 'Homo_sapiens_GRCh38': 'Human_GRCh38',\n",
    " 'Ictidomys_tridecemlineatus_SpeTri2.0': 'Thirteen-lined ground squirrel_SpeTri2.0',\n",
    " 'Loxodonta_africana_loxAfr3': 'African bush elephant_loxAfr3',\n",
    " 'Macaca_fascicularis_Macaca_fascicularis_6.0': 'Crab-eating macaque_6.0',\n",
    " 'Macaca_mulatta_Mmul_10': 'Indochinese rhesus macaque_Mmul_10',\n",
    " 'Marmota_marmota_marmota_marMar2.1': 'Alpine marmot_marMar2.1',\n",
    " 'Mastacembelus_armatus_fMasArm1.2': 'Zig-zag eel_fMasArm1.2',\n",
    " 'Meleagris_gallopavo_reference_strain': 'Wild turkey',\n",
    " 'Microcebus_murinus_Mmur_3.0': 'Gray mouse lemur_Mmur_3.0',\n",
    " 'Microtus_ochrogaster_MicOch1.0': 'Prairie vole_MicOch1.0',\n",
    " 'Monodon_monoceros_NGI_Narwhal_1': 'Narwhal',\n",
    " 'Mus_caroli_strain_CAROLI_EIJ': 'Ryukyu mouse_strain_CAROLI_EIJ',\n",
    " 'Mus_musculus_castaneus_strain_CAST/EiJ': 'southeastern Asian house mouse_strain_CAST/EiJ',\n",
    " 'Mus_musculus_domesticus_strain_WSB/EiJ': 'House mouse_strain_WSB/EiJ',\n",
    " 'Mus_musculus_musculus_strain_PWK/PhJ': 'House mouse_musculus_strain_PWK/PhJ',\n",
    " 'Mus_musculus_reference_CL57BL6_strain': 'House mouse_reference_CL57BL6_strain',\n",
    " 'Mus_musculus_strain_129S1/SvImJ': 'House mouse_strain_129S1/SvImJ',\n",
    " 'Mus_musculus_strain_A/J': 'House mouse_strain_A/J',\n",
    " 'Mus_musculus_strain_AKR/J': 'House mouse_strain_AKR/J',\n",
    " 'Mus_musculus_strain_BALB/cJ': 'House mouse_strain_BALB/cJ',\n",
    " 'Mus_musculus_strain_C3H/HeJ': 'House mouse_strain_C3H/HeJ',\n",
    " 'Mus_musculus_strain_C57BL/6NJ': 'House mouse_strain_C57BL/6NJ',\n",
    " 'Mus_musculus_strain_CBA/J': 'House mouse_strain_CBA/J',\n",
    " 'Mus_musculus_strain_DBA/2J': 'House mouse_strain_DBA/2J',\n",
    " 'Mus_musculus_strain_FVB/NJ': 'House mouse_strain_FVB/NJ',\n",
    " 'Mus_musculus_strain_LP/J': 'House mouse_strain_LP/J',\n",
    " 'Mus_musculus_strain_NOD/ShiLtJ': 'House mouse_strain_NOD/ShiLtJ',\n",
    " 'Mus_musculus_strain_NZO/HlLtJ': 'House mouse_strain_NZO/HlLtJ',\n",
    " 'Mus_pahari_strain_PAHARI_EIJ': 'House mouse_strain_PAHARI_EIJ',\n",
    " 'Mus_spretus_strain_SPRET/EiJ': 'House mouse_strain_SPRET/EiJ',\n",
    " 'Myotis_lucifugus_Myoluc2.0': 'Little brown bat_Myoluc2.0',\n",
    " 'Neogale_vison': 'American mink',\n",
    " 'Nomascus_leucogenys_Nleu_3.0': 'Northern white-cheeked gibbon_Nleu_3.0',\n",
    " 'Ochotona_princeps_OchPri2.0-Ens': 'American pika_OchPri2.0-Ens',\n",
    " 'Oncorhynchus_mykiss_USDA_OmykA_1.1': 'Rainbow trout_USDA_OmykA_1.1',\n",
    " 'Oreochromis_niloticus_O_niloticus_UMD_NMBU': 'Nile tilapia',\n",
    " 'Oryctolagus_cuniculus_OryCun2.0': 'European rabbit_OryCun2.0',\n",
    " 'Oryzias_latipes_ASM223467v1': 'Japanese rice fish_ASM223467v1',\n",
    " 'Otolemur_garnettii_OtoGar3': 'Northern greater galago',\n",
    " 'Ovis_aries_reference_breed': 'Sheep',\n",
    " 'Pan_paniscus_panpan1.1': 'Bonobo_panpan1.1',\n",
    " 'Pan_troglodytes_Pan_tro_3.0': 'Chimpanzee_Pan_tro_3.0',\n",
    " 'Panthera_leo_PanLeo1.0': 'Lion_PanLeo1.0',\n",
    " 'Panthera_pardus_PanPar1.0': 'Leopard_PanPar1.0',\n",
    " 'Papio_anubis_Panubis1.0': 'Olive baboon_Panubis1.0',\n",
    " 'Peromyscus_maniculatus_bairdii_HU_Pman_2.1': 'Prairie Deermouse_HU_Pman_2.1',\n",
    " 'Phocoena_sinus_mPhoSin1.pri': 'Vaquita_mPhoSin1.pri',\n",
    " 'Physeter_catodon_ASM283717v2': 'Sperm whale_ASM283717v2',\n",
    " 'Pongo_abelii_Susie_PABv2': 'Sumatran orangutan_Susie_PABv2',\n",
    " 'Procavia_capensis_proCap1': 'Rock hyrax_proCap1',\n",
    " 'Pteropus_vampyrus_pteVam1': 'Large flying fox_pteVam1',\n",
    " 'Rattus_norvegicus_strain_BN/NHsdMcwi': 'Brown rat_strain_BN/NHsdMcwi',\n",
    " 'Rhinolophus_ferrumequinum_mRhiFer1_v1.p': 'Greater horseshoe bat_mRhiFer1_v1.p',\n",
    " 'Saccharomyces_cerevisiae_S288C': 'Yeast_S288C',\n",
    " 'Salmo_salar_Ssal_v3.1': 'Atlantic salmon_Ssal_v3.1',\n",
    " 'Sciurus_vulgaris_mSciVul1.1': 'Red squirre_mSciVul1.1',\n",
    " 'Scleropages_formosus_fSclFor1.1': 'Asian arowana_fSclFor1.1',\n",
    " 'Scophthalmus_maximus_reference_strain': 'Turbot',\n",
    " 'Sorex_araneus_COMMON_SHREW1': 'Common shrew',\n",
    " 'Sus_scrofa_breed_bamei': 'Pig_breed_bamei',\n",
    " 'Sus_scrofa_breed_berkshire': 'Pig_breed_berkshire',\n",
    " 'Sus_scrofa_breed_hampshire': 'Pig_breed_hampshire',\n",
    " 'Sus_scrofa_breed_jinhua': 'Pig_breed_jinhua',\n",
    " 'Sus_scrofa_breed_landrace': 'Pig_breed_landrace',\n",
    " 'Sus_scrofa_breed_largewhite': 'Pig__breed_largewhite',\n",
    " 'Sus_scrofa_breed_meishan': \"Pig_breed_meishan\",\n",
    " 'Sus_scrofa_breed_pietrain': 'Pig__breed_pietrain',\n",
    " 'Sus_scrofa_breed_rongchang': 'Pig_breed_rongchang',\n",
    " 'Sus_scrofa_breed_tibetan': 'Pig_breed_tibetan',\n",
    " 'Sus_scrofa_breed_usmarc': 'Pig_breed_usmarc',\n",
    " 'Sus_scrofa_breed_wuzhishan': 'Pig_breed_wuzhishan',\n",
    " 'Sus_scrofa_reference_breed': 'Pig_reference_breed',\n",
    " 'Taeniopygia_guttata_bTaeGut1_v1.p': 'Australian zebra finch_bTaeGut1_v1.p',\n",
    " 'Takifugu_rubripes_fTakRub1.2': 'Japanese puffer_fTakRub1.2',\n",
    " 'Tetraodon_nigroviridis_TETRAODON8': 'Puffer fish_TETRAODON8',\n",
    " 'Tursiops_truncatus_turTru1': 'Common bottlenose dolphin_turTru1',\n",
    " 'Vicugna_pacos_vicPac1': 'Alpaca_vicPac1',\n",
    " 'Xiphophorus_maculatus_X_maculatus-5.0-male': 'Southern platyfishX_maculatus-5.0-male'}\n",
    "\n"
   ]
  },
  {
   "cell_type": "code",
   "execution_count": 197,
   "metadata": {},
   "outputs": [],
   "source": [
    "# Loop through each tree in common_name_all\n",
    "for tree, species_dict in common_names_all.items():\n",
    "    # Loop through each species in the current tree\n",
    "    for species, common_name in species_dict.items():\n",
    "        # Check if the common name is 'Unknown'\n",
    "        if common_name == 'Unknown':\n",
    "            # If yes, update it with the corresponding common name from unknown_species\n",
    "            if species in unknown_species:\n",
    "                species_dict[species] = unknown_species[species]"
   ]
  },
  {
   "cell_type": "code",
   "execution_count": 198,
   "metadata": {},
   "outputs": [
    {
     "data": {
      "text/plain": [
       "{'Cricetulus_griseus_CHOK1GS_HDv1': 'Chinese hamster_CHOK1GS_HDv1',\n",
       " 'Microtus_ochrogaster_MicOch1.0': 'Prairie vole_MicOch1.0',\n",
       " 'Peromyscus_maniculatus_bairdii_HU_Pman_2.1': 'Prairie Deermouse_HU_Pman_2.1',\n",
       " 'Mus_spretus_strain_SPRET/EiJ': 'House mouse_strain_SPRET/EiJ',\n",
       " 'Mus_musculus_reference_CL57BL6_strain': 'House mouse_reference_CL57BL6_strain',\n",
       " 'Mus_caroli_strain_CAROLI_EIJ': 'Ryukyu mouse_strain_CAROLI_EIJ',\n",
       " 'Mus_pahari_strain_PAHARI_EIJ': 'House mouse_strain_PAHARI_EIJ',\n",
       " 'Rattus_norvegicus_strain_BN/NHsdMcwi': 'Brown rat_strain_BN/NHsdMcwi',\n",
       " 'Cavia_porcellus_Cavpor3.0': 'Guinea pi_Cavpor3.0',\n",
       " 'Sciurus_vulgaris_mSciVul1.1': 'Red squirre_mSciVul1.1',\n",
       " 'Marmota_marmota_marmota_marMar2.1': 'Alpine marmot_marMar2.1',\n",
       " 'Oryctolagus_cuniculus_OryCun2.0': 'European rabbit_OryCun2.0',\n",
       " 'Pan_troglodytes_Pan_tro_3.0': 'Chimpanzee_Pan_tro_3.0',\n",
       " 'Pan_paniscus_panpan1.1': 'Bonobo_panpan1.1',\n",
       " 'Homo_sapiens_GRCh38': 'Human_GRCh38',\n",
       " 'Gorilla_gorilla_gorilla_gorGor4': 'Western lowland gorilla_gorGor4',\n",
       " 'Nomascus_leucogenys_Nleu_3.0': 'Northern white-cheeked gibbon_Nleu_3.0',\n",
       " 'Macaca_mulatta_Mmul_10': 'Indochinese rhesus macaque_Mmul_10',\n",
       " 'Macaca_fascicularis_Macaca_fascicularis_6.0': 'Crab-eating macaque_6.0',\n",
       " 'Chlorocebus_sabaeus_ChlSab1.1': 'Green monkey',\n",
       " 'Microcebus_murinus_Mmur_3.0': 'Gray mouse lemur_Mmur_3.0',\n",
       " 'Panthera_pardus_PanPar1.0': 'Leopard_PanPar1.0',\n",
       " 'Panthera_leo_PanLeo1.0': 'Lion_PanLeo1.0',\n",
       " 'Felis_catus_Felis_catus_9.0': 'Cat_9.0',\n",
       " 'Canis_lupus_dingo_ASM325472v1': 'Dingo_ASM325472v1',\n",
       " 'Canis_lupus_familiaris_reference_breed': 'Wolf',\n",
       " 'Equus_caballus_breed_thoroughbred': 'Thoroughbred',\n",
       " 'Monodon_monoceros_NGI_Narwhal_1': 'Narwhal',\n",
       " 'Delphinapterus_leucas_ASM228892v3': 'Beluga whale__ASM228892v3',\n",
       " 'Phocoena_sinus_mPhoSin1.pri': 'Vaquita_mPhoSin1.pri',\n",
       " 'Physeter_catodon_ASM283717v2': 'Sperm whale_ASM283717v2',\n",
       " 'Balaenoptera_musculus_mBalMus1.v2': 'Blue whale_mBalMus1.v2',\n",
       " 'Ovis_aries_reference_breed': 'Sheep',\n",
       " 'Capra_hircus_reference_breed': 'Goat',\n",
       " 'Bos_taurus_reference_breed': 'Europe Cattle',\n",
       " 'Bos_indicus_x_Bos_taurus_UOA_Brahman_1': 'India Cattle x Europe Cattle__UOA_Brahman_1',\n",
       " 'Bos_grunniens_LU_Bosgru_v3.0': 'Yak',\n",
       " 'Cervus_hanglu_yarkandensis_CEY_v1': 'Yarkand deer',\n",
       " 'Sus_scrofa_reference_breed': 'Pig_reference_breed',\n",
       " 'Catagonus_wagneri_CatWag_v2_BIUU_UCD': 'Chacoan peccary',\n",
       " 'Camelus_dromedarius_CamDro2': 'Arabian Camel',\n",
       " 'Rhinolophus_ferrumequinum_mRhiFer1_v1.p': 'Greater horseshoe bat_mRhiFer1_v1.p',\n",
       " 'Loxodonta_africana_loxAfr3': 'African bush elephant_loxAfr3'}"
      ]
     },
     "execution_count": 198,
     "metadata": {},
     "output_type": "execute_result"
    }
   ],
   "source": [
    "common_names_all['43_eutherian_mammals_EPO_default.nh']"
   ]
  },
  {
   "cell_type": "code",
   "execution_count": 199,
   "metadata": {},
   "outputs": [
    {
     "data": {
      "text/plain": [
       "[PosixPath('../data/ensemble_trees/43_eutherian_mammals_EPO_default.nh'),\n",
       " PosixPath('../data/ensemble_trees/24_primates_EPO-Extended_default.nh'),\n",
       " PosixPath('../data/ensemble_trees/65_fish_EPO-Extended_default.nh'),\n",
       " PosixPath('../data/ensemble_trees/21_murinae_EPO_default.nh'),\n",
       " PosixPath('../data/ensemble_trees/17_sauropsids_EPO_default.nh'),\n",
       " PosixPath('../data/ensemble_trees/16_pig_breeds_EPO-Extended_default.nh'),\n",
       " PosixPath('../data/ensemble_trees/100_mammals_Cactus_default.nh'),\n",
       " PosixPath('../data/ensemble_trees/10_primates_EPO_default.nh'),\n",
       " PosixPath('../data/ensemble_trees/vertebrates_species-tree_Ensembl.nh'),\n",
       " PosixPath('../data/ensemble_trees/27_sauropsids_EPO-Extended_default.nh'),\n",
       " PosixPath('../data/ensemble_trees/39_fish_EPO_default.nh'),\n",
       " PosixPath('../data/ensemble_trees/91_eutherian_mammals_EPO-Extended_default.nh'),\n",
       " PosixPath('../data/ensemble_trees/63_amniota_vertebrates_Mercator-Pecan_default.nh')]"
      ]
     },
     "execution_count": 199,
     "metadata": {},
     "output_type": "execute_result"
    }
   ],
   "source": [
    "paths = list(pathlib.Path(\"../data/ensemble_trees\").glob(\"**/*.nh\"))\n",
    "paths"
   ]
  },
  {
   "cell_type": "code",
   "execution_count": 203,
   "metadata": {},
   "outputs": [
    {
     "name": "stdout",
     "output_type": "stream",
     "text": [
      "../data/ensemble_trees/43_eutherian_mammals_EPO_default.nh\n"
     ]
    },
    {
     "data": {
      "text/html": [
       "        <script type=\"text/javascript\">\n",
       "        window.PlotlyConfig = {MathJaxConfig: 'local'};\n",
       "        if (window.MathJax && window.MathJax.Hub && window.MathJax.Hub.Config) {window.MathJax.Hub.Config({SVG: {font: \"STIX-Web\"}});}\n",
       "        if (typeof require !== 'undefined') {\n",
       "        require.undef(\"plotly\");\n",
       "        requirejs.config({\n",
       "            paths: {\n",
       "                'plotly': ['https://cdn.plot.ly/plotly-2.29.1.min']\n",
       "            }\n",
       "        });\n",
       "        require(['plotly'], function(Plotly) {\n",
       "            window._Plotly = Plotly;\n",
       "        });\n",
       "        }\n",
       "        </script>\n",
       "        "
      ]
     },
     "metadata": {},
     "output_type": "display_data"
    },
    {
     "data": {
      "application/vnd.plotly.v1+json": {
       "config": {
        "plotlyServerURL": "https://plot.ly"
       },
       "data": [
        {
         "line": {
          "color": "black",
          "shape": "spline",
          "smoothing": 1.3,
          "width": 1.25
         },
         "mode": "lines",
         "showlegend": false,
         "type": "scatter",
         "x": [
          null,
          null,
          0,
          0,
          null,
          0,
          0.00982,
          null,
          0.00982,
          0.00982,
          null,
          0.00982,
          0.02182,
          null,
          0.02182,
          0.02182,
          null,
          0.02182,
          0.02845,
          null,
          0.02845,
          0.02845,
          null,
          0.02845,
          0.040959999999999996,
          null,
          0.040959999999999996,
          0.040959999999999996,
          null,
          0.040959999999999996,
          0.045009999999999994,
          null,
          0.045009999999999994,
          0.045009999999999994,
          null,
          0.045009999999999994,
          0.13495000000000001,
          null,
          0.13495000000000001,
          0.13495000000000001,
          null,
          0.13495000000000001,
          0.14794000000000002,
          null,
          0.14794000000000002,
          0.14794000000000002,
          null,
          0.14794000000000002,
          0.15265,
          null,
          0.15265,
          0.15265,
          null,
          0.15265,
          0.21351,
          null,
          0.15265,
          0.15265,
          null,
          0.15265,
          0.21786,
          null,
          0.14794000000000002,
          0.14794000000000002,
          null,
          0.14794000000000002,
          0.20615,
          null,
          0.13495000000000001,
          0.13495000000000001,
          null,
          0.13495000000000001,
          0.17046,
          null,
          0.17046,
          0.17046,
          null,
          0.17046,
          0.1937,
          null,
          0.1937,
          0.1937,
          null,
          0.1937,
          0.20754,
          null,
          0.20754,
          0.20754,
          null,
          0.20754,
          0.21727,
          null,
          0.21727,
          0.21727,
          null,
          0.21727,
          0.23212,
          null,
          0.21727,
          0.21727,
          null,
          0.21727,
          0.23618,
          null,
          0.20754,
          0.20754,
          null,
          0.20754,
          0.2313,
          null,
          0.1937,
          0.1937,
          null,
          0.1937,
          0.22993000000000002,
          null,
          0.17046,
          0.17046,
          null,
          0.17046,
          0.22463,
          null,
          0.045009999999999994,
          0.045009999999999994,
          null,
          0.045009999999999994,
          0.19239,
          null,
          0.040959999999999996,
          0.040959999999999996,
          null,
          0.040959999999999996,
          0.08174999999999999,
          null,
          0.08174999999999999,
          0.08174999999999999,
          null,
          0.08174999999999999,
          0.12969999999999998,
          null,
          0.08174999999999999,
          0.08174999999999999,
          null,
          0.08174999999999999,
          0.13746999999999998,
          null,
          0.02845,
          0.02845,
          null,
          0.02845,
          0.16413,
          null,
          0.02182,
          0.02182,
          null,
          0.02182,
          0.03155,
          null,
          0.03155,
          0.03155,
          null,
          0.03155,
          0.08569,
          null,
          0.08569,
          0.08569,
          null,
          0.08569,
          0.09421,
          null,
          0.09421,
          0.09421,
          null,
          0.09421,
          0.10769000000000001,
          null,
          0.10769000000000001,
          0.10769000000000001,
          null,
          0.10769000000000001,
          0.111,
          null,
          0.111,
          0.111,
          null,
          0.111,
          0.11685,
          null,
          0.11685,
          0.11685,
          null,
          0.11685,
          0.12397,
          null,
          0.11685,
          0.11685,
          null,
          0.11685,
          0.12622,
          null,
          0.111,
          0.111,
          null,
          0.111,
          0.12121,
          null,
          0.10769000000000001,
          0.10769000000000001,
          null,
          0.10769000000000001,
          0.12755,
          null,
          0.09421,
          0.09421,
          null,
          0.09421,
          0.13139,
          null,
          0.08569,
          0.08569,
          null,
          0.08569,
          0.10578,
          null,
          0.10578,
          0.10578,
          null,
          0.10578,
          0.12162,
          null,
          0.12162,
          0.12162,
          null,
          0.12162,
          0.13065000000000002,
          null,
          0.12162,
          0.12162,
          null,
          0.12162,
          0.13775,
          null,
          0.10578,
          0.10578,
          null,
          0.10578,
          0.12299,
          null,
          0.03155,
          0.03155,
          null,
          0.03155,
          0.11698,
          null,
          0.00982,
          0.00982,
          null,
          0.00982,
          0.02389,
          null,
          0.02389,
          0.02389,
          null,
          0.02389,
          0.027100000000000003,
          null,
          0.027100000000000003,
          0.027100000000000003,
          null,
          0.027100000000000003,
          0.03096,
          null,
          0.03096,
          0.03096,
          null,
          0.03096,
          0.055470000000000005,
          null,
          0.055470000000000005,
          0.055470000000000005,
          null,
          0.055470000000000005,
          0.10315,
          null,
          0.10315,
          0.10315,
          null,
          0.10315,
          0.11305000000000001,
          null,
          0.11305000000000001,
          0.11305000000000001,
          null,
          0.11305000000000001,
          0.12083,
          null,
          0.11305000000000001,
          0.11305000000000001,
          null,
          0.11305000000000001,
          0.12227000000000002,
          null,
          0.10315,
          0.10315,
          null,
          0.10315,
          0.11951,
          null,
          0.055470000000000005,
          0.055470000000000005,
          null,
          0.055470000000000005,
          0.12305,
          null,
          0.12305,
          0.12305,
          null,
          0.12305,
          0.12826,
          null,
          0.12305,
          0.12305,
          null,
          0.12305,
          0.12901,
          null,
          0.03096,
          0.03096,
          null,
          0.03096,
          0.09838,
          null,
          0.027100000000000003,
          0.027100000000000003,
          null,
          0.027100000000000003,
          0.046590000000000006,
          null,
          0.046590000000000006,
          0.046590000000000006,
          null,
          0.046590000000000006,
          0.052730000000000006,
          null,
          0.052730000000000006,
          0.052730000000000006,
          null,
          0.052730000000000006,
          0.06298000000000001,
          null,
          0.06298000000000001,
          0.06298000000000001,
          null,
          0.06298000000000001,
          0.09233000000000001,
          null,
          0.09233000000000001,
          0.09233000000000001,
          null,
          0.09233000000000001,
          0.09658000000000001,
          null,
          0.09658000000000001,
          0.09658000000000001,
          null,
          0.09658000000000001,
          0.11352000000000001,
          null,
          0.11352000000000001,
          0.11352000000000001,
          null,
          0.11352000000000001,
          0.12047000000000001,
          null,
          0.12047000000000001,
          0.12047000000000001,
          null,
          0.12047000000000001,
          0.12829000000000002,
          null,
          0.12047000000000001,
          0.12047000000000001,
          null,
          0.12047000000000001,
          0.1292,
          null,
          0.11352000000000001,
          0.11352000000000001,
          null,
          0.11352000000000001,
          0.13043000000000002,
          null,
          0.09658000000000001,
          0.09658000000000001,
          null,
          0.09658000000000001,
          0.13072,
          null,
          0.09233000000000001,
          0.09233000000000001,
          null,
          0.09233000000000001,
          0.11923,
          null,
          0.06298000000000001,
          0.06298000000000001,
          null,
          0.06298000000000001,
          0.10954,
          null,
          0.10954,
          0.10954,
          null,
          0.10954,
          0.11949,
          null,
          0.11949,
          0.11949,
          null,
          0.11949,
          0.13796,
          null,
          0.13796,
          0.13796,
          null,
          0.13796,
          0.15212,
          null,
          0.13796,
          0.13796,
          null,
          0.13796,
          0.15417,
          null,
          0.11949,
          0.11949,
          null,
          0.11949,
          0.13959,
          null,
          0.13959,
          0.13959,
          null,
          0.13959,
          0.14398999999999998,
          null,
          0.14398999999999998,
          0.14398999999999998,
          null,
          0.14398999999999998,
          0.14986999999999998,
          null,
          0.14398999999999998,
          0.14398999999999998,
          null,
          0.14398999999999998,
          0.15073999999999999,
          null,
          0.13959,
          0.13959,
          null,
          0.13959,
          0.1673,
          null,
          0.10954,
          0.10954,
          null,
          0.10954,
          0.14445,
          null,
          0.052730000000000006,
          0.052730000000000006,
          null,
          0.052730000000000006,
          0.08864,
          null,
          0.08864,
          0.08864,
          null,
          0.08864,
          0.13272,
          null,
          0.08864,
          0.08864,
          null,
          0.08864,
          0.13628,
          null,
          0.046590000000000006,
          0.046590000000000006,
          null,
          0.046590000000000006,
          0.11786,
          null,
          0.02389,
          0.02389,
          null,
          0.02389,
          0.11698,
          null,
          0,
          0,
          null,
          0,
          0.11174,
          null
         ],
         "y": [
          null,
          null,
          -16.235400390625,
          -5.1708007812500005,
          null,
          -5.1708007812500005,
          -5.1708007812500005,
          null,
          -5.1708007812500005,
          9.3208984375,
          null,
          9.3208984375,
          9.3208984375,
          null,
          9.3208984375,
          15.168359375000001,
          null,
          15.168359375000001,
          15.168359375000001,
          null,
          15.168359375000001,
          17.336718750000003,
          null,
          17.336718750000003,
          17.336718750000003,
          null,
          17.336718750000003,
          19.723437500000003,
          null,
          19.723437500000003,
          19.723437500000003,
          null,
          19.723437500000003,
          22.546875,
          null,
          22.546875,
          22.546875,
          null,
          22.546875,
          25.674999999999997,
          null,
          25.674999999999997,
          25.674999999999997,
          null,
          25.674999999999997,
          26.65,
          null,
          26.65,
          26.65,
          null,
          26.65,
          27.3,
          null,
          27.3,
          27.3,
          null,
          26.65,
          26,
          null,
          26,
          26,
          null,
          25.674999999999997,
          24.7,
          null,
          24.7,
          24.7,
          null,
          22.546875,
          19.41875,
          null,
          19.41875,
          19.41875,
          null,
          19.41875,
          20.6375,
          null,
          20.6375,
          20.6375,
          null,
          20.6375,
          21.775,
          null,
          21.775,
          21.775,
          null,
          21.775,
          22.75,
          null,
          22.75,
          22.75,
          null,
          22.75,
          23.400000000000002,
          null,
          23.400000000000002,
          23.400000000000002,
          null,
          22.75,
          22.1,
          null,
          22.1,
          22.1,
          null,
          21.775,
          20.8,
          null,
          20.8,
          20.8,
          null,
          20.6375,
          19.5,
          null,
          19.5,
          19.5,
          null,
          19.41875,
          18.2,
          null,
          18.2,
          18.2,
          null,
          19.723437500000003,
          16.900000000000002,
          null,
          16.900000000000002,
          16.900000000000002,
          null,
          17.336718750000003,
          14.950000000000001,
          null,
          14.950000000000001,
          14.950000000000001,
          null,
          14.950000000000001,
          15.600000000000001,
          null,
          15.600000000000001,
          15.600000000000001,
          null,
          14.950000000000001,
          14.3,
          null,
          14.3,
          14.3,
          null,
          15.168359375000001,
          13,
          null,
          13,
          13,
          null,
          9.3208984375,
          3.4734374999999997,
          null,
          3.4734374999999997,
          3.4734374999999997,
          null,
          3.4734374999999997,
          5.646875,
          null,
          5.646875,
          5.646875,
          null,
          5.646875,
          7.71875,
          null,
          7.71875,
          7.71875,
          null,
          7.71875,
          8.9375,
          null,
          8.9375,
          8.9375,
          null,
          8.9375,
          10.075,
          null,
          10.075,
          10.075,
          null,
          10.075,
          11.05,
          null,
          11.05,
          11.05,
          null,
          11.05,
          11.700000000000001,
          null,
          11.700000000000001,
          11.700000000000001,
          null,
          11.05,
          10.4,
          null,
          10.4,
          10.4,
          null,
          10.075,
          9.1,
          null,
          9.1,
          9.1,
          null,
          8.9375,
          7.800000000000001,
          null,
          7.800000000000001,
          7.800000000000001,
          null,
          7.71875,
          6.5,
          null,
          6.5,
          6.5,
          null,
          5.646875,
          3.575,
          null,
          3.575,
          3.575,
          null,
          3.575,
          4.550000000000001,
          null,
          4.550000000000001,
          4.550000000000001,
          null,
          4.550000000000001,
          5.2,
          null,
          5.2,
          5.2,
          null,
          4.550000000000001,
          3.9000000000000004,
          null,
          3.9000000000000004,
          3.9000000000000004,
          null,
          3.575,
          2.6,
          null,
          2.6,
          2.6,
          null,
          3.4734374999999997,
          1.3,
          null,
          1.3,
          1.3,
          null,
          -5.1708007812500005,
          -19.6625,
          null,
          -19.6625,
          -19.6625,
          null,
          -19.6625,
          -13.325,
          null,
          -13.325,
          -13.325,
          null,
          -13.325,
          -4.79375,
          null,
          -4.79375,
          -4.79375,
          null,
          -4.79375,
          -3.0875000000000004,
          null,
          -3.0875000000000004,
          -3.0875000000000004,
          null,
          -3.0875000000000004,
          -1.625,
          null,
          -1.625,
          -1.625,
          null,
          -1.625,
          -0.65,
          null,
          -0.65,
          -0.65,
          null,
          -0.65,
          0,
          null,
          0,
          0,
          null,
          -0.65,
          -1.3,
          null,
          -1.3,
          -1.3,
          null,
          -1.625,
          -2.6,
          null,
          -2.6,
          -2.6,
          null,
          -3.0875000000000004,
          -4.550000000000001,
          null,
          -4.550000000000001,
          -4.550000000000001,
          null,
          -4.550000000000001,
          -3.9000000000000004,
          null,
          -3.9000000000000004,
          -3.9000000000000004,
          null,
          -4.550000000000001,
          -5.2,
          null,
          -5.2,
          -5.2,
          null,
          -4.79375,
          -6.5,
          null,
          -6.5,
          -6.5,
          null,
          -13.325,
          -21.85625,
          null,
          -21.85625,
          -21.85625,
          null,
          -21.85625,
          -19.0125,
          null,
          -19.0125,
          -19.0125,
          null,
          -19.0125,
          -15.275,
          null,
          -15.275,
          -15.275,
          null,
          -15.275,
          -11.78125,
          null,
          -11.78125,
          -11.78125,
          null,
          -11.78125,
          -10.5625,
          null,
          -10.5625,
          -10.5625,
          null,
          -10.5625,
          -9.425,
          null,
          -9.425,
          -9.425,
          null,
          -9.425,
          -8.45,
          null,
          -8.45,
          -8.45,
          null,
          -8.45,
          -7.800000000000001,
          null,
          -7.800000000000001,
          -7.800000000000001,
          null,
          -8.45,
          -9.1,
          null,
          -9.1,
          -9.1,
          null,
          -9.425,
          -10.4,
          null,
          -10.4,
          -10.4,
          null,
          -10.5625,
          -11.700000000000001,
          null,
          -11.700000000000001,
          -11.700000000000001,
          null,
          -11.78125,
          -13,
          null,
          -13,
          -13,
          null,
          -15.275,
          -18.76875,
          null,
          -18.76875,
          -18.76875,
          null,
          -18.76875,
          -16.7375,
          null,
          -16.7375,
          -16.7375,
          null,
          -16.7375,
          -14.950000000000001,
          null,
          -14.950000000000001,
          -14.950000000000001,
          null,
          -14.950000000000001,
          -14.3,
          null,
          -14.3,
          -14.3,
          null,
          -14.950000000000001,
          -15.600000000000001,
          null,
          -15.600000000000001,
          -15.600000000000001,
          null,
          -16.7375,
          -18.525,
          null,
          -18.525,
          -18.525,
          null,
          -18.525,
          -17.55,
          null,
          -17.55,
          -17.55,
          null,
          -17.55,
          -16.900000000000002,
          null,
          -16.900000000000002,
          -16.900000000000002,
          null,
          -17.55,
          -18.2,
          null,
          -18.2,
          -18.2,
          null,
          -18.525,
          -19.5,
          null,
          -19.5,
          -19.5,
          null,
          -18.76875,
          -20.8,
          null,
          -20.8,
          -20.8,
          null,
          -19.0125,
          -22.75,
          null,
          -22.75,
          -22.75,
          null,
          -22.75,
          -22.1,
          null,
          -22.1,
          -22.1,
          null,
          -22.75,
          -23.400000000000002,
          null,
          -23.400000000000002,
          -23.400000000000002,
          null,
          -21.85625,
          -24.7,
          null,
          -24.7,
          -24.7,
          null,
          -19.6625,
          -26,
          null,
          -26,
          -26,
          null,
          -16.235400390625,
          -27.3,
          null,
          -27.3,
          -27.3,
          null
         ]
        },
        {
         "hoverinfo": "text",
         "marker": {
          "color": "black",
          "size": 3,
          "symbol": "circle"
         },
         "mode": "markers",
         "showlegend": false,
         "text": [
          "Eutheria",
          "Boreoeutheria",
          "Euarchontoglires",
          "Glires",
          "Rodentia.2",
          "Rodentia",
          "Muroidea",
          "Cricetidae.2",
          "Cricetidae",
          "Cricetulus_griseus_CHOK1GS_HDv1",
          "Microtus_ochrogaster_MicOch1.0",
          "Peromyscus_maniculatus_bairdii_HU_Pman_2.1",
          "Murinae",
          "Mus.3",
          "Mus.2",
          "Mus",
          "Mus_spretus_strain_SPRET/EiJ",
          "Mus_musculus_reference_CL57BL6_strain",
          "Mus_caroli_strain_CAROLI_EIJ",
          "Mus_pahari_strain_PAHARI_EIJ",
          "Rattus_norvegicus_strain_BN/NHsdMcwi",
          "Cavia_porcellus_Cavpor3.0",
          "Sciuridae",
          "Sciurus_vulgaris_mSciVul1.1",
          "Marmota_marmota_marmota_marMar2.1",
          "Oryctolagus_cuniculus_OryCun2.0",
          "Primates",
          "Catarrhini",
          "Hominoidea",
          "Homininae.2",
          "Homininae",
          "Pan",
          "Pan_troglodytes_Pan_tro_3.0",
          "Pan_paniscus_panpan1.1",
          "Homo_sapiens_GRCh38",
          "Gorilla_gorilla_gorilla_gorGor4",
          "Nomascus_leucogenys_Nleu_3.0",
          "Cercopithecinae",
          "Macaca",
          "Macaca_mulatta_Mmul_10",
          "Macaca_fascicularis_Macaca_fascicularis_6.0",
          "Chlorocebus_sabaeus_ChlSab1.1",
          "Microcebus_murinus_Mmur_3.0",
          "Laurasiatheria.3",
          "Laurasiatheria.2",
          "Laurasiatheria",
          "Carnivora",
          "Felidae",
          "Panthera",
          "Panthera_pardus_PanPar1.0",
          "Panthera_leo_PanLeo1.0",
          "Felis_catus_Felis_catus_9.0",
          "Canis_lupus",
          "Canis_lupus_dingo_ASM325472v1",
          "Canis_lupus_familiaris_reference_breed",
          "Equus_caballus_breed_thoroughbred",
          "Artiodactyla.3",
          "Artiodactyla.2",
          "Artiodactyla",
          "Cetacea",
          "Odontoceti.2",
          "Odontoceti",
          "Monodontidae",
          "Monodon_monoceros_NGI_Narwhal_1",
          "Delphinapterus_leucas_ASM228892v3",
          "Phocoena_sinus_mPhoSin1.pri",
          "Physeter_catodon_ASM283717v2",
          "Balaenoptera_musculus_mBalMus1.v2",
          "Pecora",
          "Bovidae",
          "Caprinae",
          "Ovis_aries_reference_breed",
          "Capra_hircus_reference_breed",
          "Bos.2",
          "Bos",
          "Bos_taurus_reference_breed",
          "Bos_indicus_x_Bos_taurus_UOA_Brahman_1",
          "Bos_grunniens_LU_Bosgru_v3.0",
          "Cervus_hanglu_yarkandensis_CEY_v1",
          "Suina",
          "Sus_scrofa_reference_breed",
          "Catagonus_wagneri_CatWag_v2_BIUU_UCD",
          "Camelus_dromedarius_CamDro2",
          "Rhinolophus_ferrumequinum_mRhiFer1_v1.p",
          "Loxodonta_africana_loxAfr3"
         ],
         "type": "scatter",
         "x": [
          0,
          0.00982,
          0.02182,
          0.02845,
          0.040959999999999996,
          0.045009999999999994,
          0.13495000000000001,
          0.14794000000000002,
          0.15265,
          0.21351,
          0.21786,
          0.20615,
          0.17046,
          0.1937,
          0.20754,
          0.21727,
          0.23212,
          0.23618,
          0.2313,
          0.22993000000000002,
          0.22463,
          0.19239,
          0.08174999999999999,
          0.12969999999999998,
          0.13746999999999998,
          0.16413,
          0.03155,
          0.08569,
          0.09421,
          0.10769000000000001,
          0.111,
          0.11685,
          0.12397,
          0.12622,
          0.12121,
          0.12755,
          0.13139,
          0.10578,
          0.12162,
          0.13065000000000002,
          0.13775,
          0.12299,
          0.11698,
          0.02389,
          0.027100000000000003,
          0.03096,
          0.055470000000000005,
          0.10315,
          0.11305000000000001,
          0.12083,
          0.12227000000000002,
          0.11951,
          0.12305,
          0.12826,
          0.12901,
          0.09838,
          0.046590000000000006,
          0.052730000000000006,
          0.06298000000000001,
          0.09233000000000001,
          0.09658000000000001,
          0.11352000000000001,
          0.12047000000000001,
          0.12829000000000002,
          0.1292,
          0.13043000000000002,
          0.13072,
          0.11923,
          0.10954,
          0.11949,
          0.13796,
          0.15212,
          0.15417,
          0.13959,
          0.14398999999999998,
          0.14986999999999998,
          0.15073999999999999,
          0.1673,
          0.14445,
          0.08864,
          0.13272,
          0.13628,
          0.11786,
          0.11698,
          0.11174
         ],
         "y": [
          -16.235400390625,
          -5.1708007812500005,
          9.3208984375,
          15.168359375000001,
          17.336718750000003,
          19.723437500000003,
          22.546875,
          25.674999999999997,
          26.65,
          27.3,
          26,
          24.7,
          19.41875,
          20.6375,
          21.775,
          22.75,
          23.400000000000002,
          22.1,
          20.8,
          19.5,
          18.2,
          16.900000000000002,
          14.950000000000001,
          15.600000000000001,
          14.3,
          13,
          3.4734374999999997,
          5.646875,
          7.71875,
          8.9375,
          10.075,
          11.05,
          11.700000000000001,
          10.4,
          9.1,
          7.800000000000001,
          6.5,
          3.575,
          4.550000000000001,
          5.2,
          3.9000000000000004,
          2.6,
          1.3,
          -19.6625,
          -13.325,
          -4.79375,
          -3.0875000000000004,
          -1.625,
          -0.65,
          0,
          -1.3,
          -2.6,
          -4.550000000000001,
          -3.9000000000000004,
          -5.2,
          -6.5,
          -21.85625,
          -19.0125,
          -15.275,
          -11.78125,
          -10.5625,
          -9.425,
          -8.45,
          -7.800000000000001,
          -9.1,
          -10.4,
          -11.700000000000001,
          -13,
          -18.76875,
          -16.7375,
          -14.950000000000001,
          -14.3,
          -15.600000000000001,
          -18.525,
          -17.55,
          -16.900000000000002,
          -18.2,
          -19.5,
          -20.8,
          -22.75,
          -22.1,
          -23.400000000000002,
          -24.7,
          -26,
          -27.3
         ]
        }
       ],
       "layout": {
        "annotations": [
         {
          "font": {
           "family": "Inconsolata, monospace",
           "size": 12
          },
          "showarrow": false,
          "text": "Cricetulus_griseus_CHOK1GS_HDv1",
          "textangle": 0,
          "x": 0.2194145,
          "xanchor": "left",
          "xref": "x",
          "y": 27.3,
          "yref": "y"
         },
         {
          "font": {
           "family": "Inconsolata, monospace",
           "size": 12
          },
          "showarrow": false,
          "text": "Microtus_ochrogaster_MicOch1.0",
          "textangle": 0,
          "x": 0.2237645,
          "xanchor": "left",
          "xref": "x",
          "y": 26,
          "yref": "y"
         },
         {
          "font": {
           "family": "Inconsolata, monospace",
           "size": 12
          },
          "showarrow": false,
          "text": "Peromyscus_maniculatus_bairdii_HU_Pman_2.1",
          "textangle": 0,
          "x": 0.2120545,
          "xanchor": "left",
          "xref": "x",
          "y": 24.7,
          "yref": "y"
         },
         {
          "font": {
           "family": "Inconsolata, monospace",
           "size": 12
          },
          "showarrow": false,
          "text": "Mus_spretus_strain_SPRET/EiJ",
          "textangle": 0,
          "x": 0.2380245,
          "xanchor": "left",
          "xref": "x",
          "y": 23.400000000000002,
          "yref": "y"
         },
         {
          "font": {
           "family": "Inconsolata, monospace",
           "size": 12
          },
          "showarrow": false,
          "text": "Mus_musculus_reference_CL57BL6_strain",
          "textangle": 0,
          "x": 0.2420845,
          "xanchor": "left",
          "xref": "x",
          "y": 22.1,
          "yref": "y"
         },
         {
          "font": {
           "family": "Inconsolata, monospace",
           "size": 12
          },
          "showarrow": false,
          "text": "Mus_caroli_strain_CAROLI_EIJ",
          "textangle": 0,
          "x": 0.2372045,
          "xanchor": "left",
          "xref": "x",
          "y": 20.8,
          "yref": "y"
         },
         {
          "font": {
           "family": "Inconsolata, monospace",
           "size": 12
          },
          "showarrow": false,
          "text": "Mus_pahari_strain_PAHARI_EIJ",
          "textangle": 0,
          "x": 0.23583450000000003,
          "xanchor": "left",
          "xref": "x",
          "y": 19.5,
          "yref": "y"
         },
         {
          "font": {
           "family": "Inconsolata, monospace",
           "size": 12
          },
          "showarrow": false,
          "text": "Rattus_norvegicus_strain_BN/NHsdMcwi",
          "textangle": 0,
          "x": 0.2305345,
          "xanchor": "left",
          "xref": "x",
          "y": 18.2,
          "yref": "y"
         },
         {
          "font": {
           "family": "Inconsolata, monospace",
           "size": 12
          },
          "showarrow": false,
          "text": "Cavia_porcellus_Cavpor3.0",
          "textangle": 0,
          "x": 0.1982945,
          "xanchor": "left",
          "xref": "x",
          "y": 16.900000000000002,
          "yref": "y"
         },
         {
          "font": {
           "family": "Inconsolata, monospace",
           "size": 12
          },
          "showarrow": false,
          "text": "Sciurus_vulgaris_mSciVul1.1",
          "textangle": 0,
          "x": 0.1356045,
          "xanchor": "left",
          "xref": "x",
          "y": 15.600000000000001,
          "yref": "y"
         },
         {
          "font": {
           "family": "Inconsolata, monospace",
           "size": 12
          },
          "showarrow": false,
          "text": "Marmota_marmota_marmota_marMar2.1",
          "textangle": 0,
          "x": 0.1433745,
          "xanchor": "left",
          "xref": "x",
          "y": 14.3,
          "yref": "y"
         },
         {
          "font": {
           "family": "Inconsolata, monospace",
           "size": 12
          },
          "showarrow": false,
          "text": "Oryctolagus_cuniculus_OryCun2.0",
          "textangle": 0,
          "x": 0.1700345,
          "xanchor": "left",
          "xref": "x",
          "y": 13,
          "yref": "y"
         },
         {
          "font": {
           "family": "Inconsolata, monospace",
           "size": 12
          },
          "showarrow": false,
          "text": "Pan_troglodytes_Pan_tro_3.0",
          "textangle": 0,
          "x": 0.1298745,
          "xanchor": "left",
          "xref": "x",
          "y": 11.700000000000001,
          "yref": "y"
         },
         {
          "font": {
           "family": "Inconsolata, monospace",
           "size": 12
          },
          "showarrow": false,
          "text": "Pan_paniscus_panpan1.1",
          "textangle": 0,
          "x": 0.1321245,
          "xanchor": "left",
          "xref": "x",
          "y": 10.4,
          "yref": "y"
         },
         {
          "font": {
           "family": "Inconsolata, monospace",
           "size": 12
          },
          "showarrow": false,
          "text": "Homo_sapiens_GRCh38",
          "textangle": 0,
          "x": 0.1271145,
          "xanchor": "left",
          "xref": "x",
          "y": 9.1,
          "yref": "y"
         },
         {
          "font": {
           "family": "Inconsolata, monospace",
           "size": 12
          },
          "showarrow": false,
          "text": "Gorilla_gorilla_gorilla_gorGor4",
          "textangle": 0,
          "x": 0.1334545,
          "xanchor": "left",
          "xref": "x",
          "y": 7.800000000000001,
          "yref": "y"
         },
         {
          "font": {
           "family": "Inconsolata, monospace",
           "size": 12
          },
          "showarrow": false,
          "text": "Nomascus_leucogenys_Nleu_3.0",
          "textangle": 0,
          "x": 0.1372945,
          "xanchor": "left",
          "xref": "x",
          "y": 6.5,
          "yref": "y"
         },
         {
          "font": {
           "family": "Inconsolata, monospace",
           "size": 12
          },
          "showarrow": false,
          "text": "Macaca_mulatta_Mmul_10",
          "textangle": 0,
          "x": 0.13655450000000002,
          "xanchor": "left",
          "xref": "x",
          "y": 5.2,
          "yref": "y"
         },
         {
          "font": {
           "family": "Inconsolata, monospace",
           "size": 12
          },
          "showarrow": false,
          "text": "Macaca_fascicularis_Macaca_fascicularis_6.0",
          "textangle": 0,
          "x": 0.14365450000000002,
          "xanchor": "left",
          "xref": "x",
          "y": 3.9000000000000004,
          "yref": "y"
         },
         {
          "font": {
           "family": "Inconsolata, monospace",
           "size": 12
          },
          "showarrow": false,
          "text": "Chlorocebus_sabaeus_ChlSab1.1",
          "textangle": 0,
          "x": 0.1288945,
          "xanchor": "left",
          "xref": "x",
          "y": 2.6,
          "yref": "y"
         },
         {
          "font": {
           "family": "Inconsolata, monospace",
           "size": 12
          },
          "showarrow": false,
          "text": "Microcebus_murinus_Mmur_3.0",
          "textangle": 0,
          "x": 0.12288450000000001,
          "xanchor": "left",
          "xref": "x",
          "y": 1.3,
          "yref": "y"
         },
         {
          "font": {
           "family": "Inconsolata, monospace",
           "size": 12
          },
          "showarrow": false,
          "text": "Panthera_pardus_PanPar1.0",
          "textangle": 0,
          "x": 0.1267345,
          "xanchor": "left",
          "xref": "x",
          "y": 0,
          "yref": "y"
         },
         {
          "font": {
           "family": "Inconsolata, monospace",
           "size": 12
          },
          "showarrow": false,
          "text": "Panthera_leo_PanLeo1.0",
          "textangle": 0,
          "x": 0.12817450000000002,
          "xanchor": "left",
          "xref": "x",
          "y": -1.3,
          "yref": "y"
         },
         {
          "font": {
           "family": "Inconsolata, monospace",
           "size": 12
          },
          "showarrow": false,
          "text": "Felis_catus_Felis_catus_9.0",
          "textangle": 0,
          "x": 0.1254145,
          "xanchor": "left",
          "xref": "x",
          "y": -2.6,
          "yref": "y"
         },
         {
          "font": {
           "family": "Inconsolata, monospace",
           "size": 12
          },
          "showarrow": false,
          "text": "Canis_lupus_dingo_ASM325472v1",
          "textangle": 0,
          "x": 0.13416450000000002,
          "xanchor": "left",
          "xref": "x",
          "y": -3.9000000000000004,
          "yref": "y"
         },
         {
          "font": {
           "family": "Inconsolata, monospace",
           "size": 12
          },
          "showarrow": false,
          "text": "Canis_lupus_familiaris_reference_breed",
          "textangle": 0,
          "x": 0.13491450000000002,
          "xanchor": "left",
          "xref": "x",
          "y": -5.2,
          "yref": "y"
         },
         {
          "font": {
           "family": "Inconsolata, monospace",
           "size": 12
          },
          "showarrow": false,
          "text": "Equus_caballus_breed_thoroughbred",
          "textangle": 0,
          "x": 0.1042845,
          "xanchor": "left",
          "xref": "x",
          "y": -6.5,
          "yref": "y"
         },
         {
          "font": {
           "family": "Inconsolata, monospace",
           "size": 12
          },
          "showarrow": false,
          "text": "Monodon_monoceros_NGI_Narwhal_1",
          "textangle": 0,
          "x": 0.13419450000000002,
          "xanchor": "left",
          "xref": "x",
          "y": -7.800000000000001,
          "yref": "y"
         },
         {
          "font": {
           "family": "Inconsolata, monospace",
           "size": 12
          },
          "showarrow": false,
          "text": "Delphinapterus_leucas_ASM228892v3",
          "textangle": 0,
          "x": 0.13510450000000002,
          "xanchor": "left",
          "xref": "x",
          "y": -9.1,
          "yref": "y"
         },
         {
          "font": {
           "family": "Inconsolata, monospace",
           "size": 12
          },
          "showarrow": false,
          "text": "Phocoena_sinus_mPhoSin1.pri",
          "textangle": 0,
          "x": 0.13633450000000003,
          "xanchor": "left",
          "xref": "x",
          "y": -10.4,
          "yref": "y"
         },
         {
          "font": {
           "family": "Inconsolata, monospace",
           "size": 12
          },
          "showarrow": false,
          "text": "Physeter_catodon_ASM283717v2",
          "textangle": 0,
          "x": 0.1366245,
          "xanchor": "left",
          "xref": "x",
          "y": -11.700000000000001,
          "yref": "y"
         },
         {
          "font": {
           "family": "Inconsolata, monospace",
           "size": 12
          },
          "showarrow": false,
          "text": "Balaenoptera_musculus_mBalMus1.v2",
          "textangle": 0,
          "x": 0.1251345,
          "xanchor": "left",
          "xref": "x",
          "y": -13,
          "yref": "y"
         },
         {
          "font": {
           "family": "Inconsolata, monospace",
           "size": 12
          },
          "showarrow": false,
          "text": "Ovis_aries_reference_breed",
          "textangle": 0,
          "x": 0.1580245,
          "xanchor": "left",
          "xref": "x",
          "y": -14.3,
          "yref": "y"
         },
         {
          "font": {
           "family": "Inconsolata, monospace",
           "size": 12
          },
          "showarrow": false,
          "text": "Capra_hircus_reference_breed",
          "textangle": 0,
          "x": 0.1600745,
          "xanchor": "left",
          "xref": "x",
          "y": -15.600000000000001,
          "yref": "y"
         },
         {
          "font": {
           "family": "Inconsolata, monospace",
           "size": 12
          },
          "showarrow": false,
          "text": "Bos_taurus_reference_breed",
          "textangle": 0,
          "x": 0.15577449999999998,
          "xanchor": "left",
          "xref": "x",
          "y": -16.900000000000002,
          "yref": "y"
         },
         {
          "font": {
           "family": "Inconsolata, monospace",
           "size": 12
          },
          "showarrow": false,
          "text": "Bos_indicus_x_Bos_taurus_UOA_Brahman_1",
          "textangle": 0,
          "x": 0.1566445,
          "xanchor": "left",
          "xref": "x",
          "y": -18.2,
          "yref": "y"
         },
         {
          "font": {
           "family": "Inconsolata, monospace",
           "size": 12
          },
          "showarrow": false,
          "text": "Bos_grunniens_LU_Bosgru_v3.0",
          "textangle": 0,
          "x": 0.1732045,
          "xanchor": "left",
          "xref": "x",
          "y": -19.5,
          "yref": "y"
         },
         {
          "font": {
           "family": "Inconsolata, monospace",
           "size": 12
          },
          "showarrow": false,
          "text": "Cervus_hanglu_yarkandensis_CEY_v1",
          "textangle": 0,
          "x": 0.1503545,
          "xanchor": "left",
          "xref": "x",
          "y": -20.8,
          "yref": "y"
         },
         {
          "font": {
           "family": "Inconsolata, monospace",
           "size": 12
          },
          "showarrow": false,
          "text": "Sus_scrofa_reference_breed",
          "textangle": 0,
          "x": 0.1386245,
          "xanchor": "left",
          "xref": "x",
          "y": -22.1,
          "yref": "y"
         },
         {
          "font": {
           "family": "Inconsolata, monospace",
           "size": 12
          },
          "showarrow": false,
          "text": "Catagonus_wagneri_CatWag_v2_BIUU_UCD",
          "textangle": 0,
          "x": 0.14218450000000002,
          "xanchor": "left",
          "xref": "x",
          "y": -23.400000000000002,
          "yref": "y"
         },
         {
          "font": {
           "family": "Inconsolata, monospace",
           "size": 12
          },
          "showarrow": false,
          "text": "Camelus_dromedarius_CamDro2",
          "textangle": 0,
          "x": 0.1237645,
          "xanchor": "left",
          "xref": "x",
          "y": -24.7,
          "yref": "y"
         },
         {
          "font": {
           "family": "Inconsolata, monospace",
           "size": 12
          },
          "showarrow": false,
          "text": "Rhinolophus_ferrumequinum_mRhiFer1_v1.p",
          "textangle": 0,
          "x": 0.12288450000000001,
          "xanchor": "left",
          "xref": "x",
          "y": -26,
          "yref": "y"
         },
         {
          "font": {
           "family": "Inconsolata, monospace",
           "size": 12
          },
          "showarrow": false,
          "text": "Loxodonta_africana_loxAfr3",
          "textangle": 0,
          "x": 0.11764450000000001,
          "xanchor": "left",
          "xref": "x",
          "y": -27.3,
          "yref": "y"
         },
         {
          "ax": 0,
          "ay": 0,
          "showarrow": false,
          "text": "0.02",
          "x": 0.011809,
          "xref": "x",
          "y": -32.263636363636365,
          "yref": "y",
          "yshift": 10
         }
        ],
        "autosize": true,
        "font": {
         "family": "Balto",
         "size": 14
        },
        "hovermode": "closest",
        "margin": {
         "b": 50,
         "l": 50,
         "pad": 4,
         "r": 50,
         "t": 50
        },
        "shapes": [
         {
          "line": {
           "color": "black",
           "width": 1.25
          },
          "name": "scale_bar",
          "type": "line",
          "x0": 0,
          "x1": 0.023618,
          "y0": -32.263636363636365,
          "y1": -32.263636363636365
         }
        ],
        "showlegend": false,
        "template": {
         "data": {
          "bar": [
           {
            "error_x": {
             "color": "#2a3f5f"
            },
            "error_y": {
             "color": "#2a3f5f"
            },
            "marker": {
             "line": {
              "color": "#E5ECF6",
              "width": 0.5
             },
             "pattern": {
              "fillmode": "overlay",
              "size": 10,
              "solidity": 0.2
             }
            },
            "type": "bar"
           }
          ],
          "barpolar": [
           {
            "marker": {
             "line": {
              "color": "#E5ECF6",
              "width": 0.5
             },
             "pattern": {
              "fillmode": "overlay",
              "size": 10,
              "solidity": 0.2
             }
            },
            "type": "barpolar"
           }
          ],
          "carpet": [
           {
            "aaxis": {
             "endlinecolor": "#2a3f5f",
             "gridcolor": "white",
             "linecolor": "white",
             "minorgridcolor": "white",
             "startlinecolor": "#2a3f5f"
            },
            "baxis": {
             "endlinecolor": "#2a3f5f",
             "gridcolor": "white",
             "linecolor": "white",
             "minorgridcolor": "white",
             "startlinecolor": "#2a3f5f"
            },
            "type": "carpet"
           }
          ],
          "choropleth": [
           {
            "colorbar": {
             "outlinewidth": 0,
             "ticks": ""
            },
            "type": "choropleth"
           }
          ],
          "contour": [
           {
            "colorbar": {
             "outlinewidth": 0,
             "ticks": ""
            },
            "colorscale": [
             [
              0,
              "#0d0887"
             ],
             [
              0.1111111111111111,
              "#46039f"
             ],
             [
              0.2222222222222222,
              "#7201a8"
             ],
             [
              0.3333333333333333,
              "#9c179e"
             ],
             [
              0.4444444444444444,
              "#bd3786"
             ],
             [
              0.5555555555555556,
              "#d8576b"
             ],
             [
              0.6666666666666666,
              "#ed7953"
             ],
             [
              0.7777777777777778,
              "#fb9f3a"
             ],
             [
              0.8888888888888888,
              "#fdca26"
             ],
             [
              1,
              "#f0f921"
             ]
            ],
            "type": "contour"
           }
          ],
          "contourcarpet": [
           {
            "colorbar": {
             "outlinewidth": 0,
             "ticks": ""
            },
            "type": "contourcarpet"
           }
          ],
          "heatmap": [
           {
            "colorbar": {
             "outlinewidth": 0,
             "ticks": ""
            },
            "colorscale": [
             [
              0,
              "#0d0887"
             ],
             [
              0.1111111111111111,
              "#46039f"
             ],
             [
              0.2222222222222222,
              "#7201a8"
             ],
             [
              0.3333333333333333,
              "#9c179e"
             ],
             [
              0.4444444444444444,
              "#bd3786"
             ],
             [
              0.5555555555555556,
              "#d8576b"
             ],
             [
              0.6666666666666666,
              "#ed7953"
             ],
             [
              0.7777777777777778,
              "#fb9f3a"
             ],
             [
              0.8888888888888888,
              "#fdca26"
             ],
             [
              1,
              "#f0f921"
             ]
            ],
            "type": "heatmap"
           }
          ],
          "heatmapgl": [
           {
            "colorbar": {
             "outlinewidth": 0,
             "ticks": ""
            },
            "colorscale": [
             [
              0,
              "#0d0887"
             ],
             [
              0.1111111111111111,
              "#46039f"
             ],
             [
              0.2222222222222222,
              "#7201a8"
             ],
             [
              0.3333333333333333,
              "#9c179e"
             ],
             [
              0.4444444444444444,
              "#bd3786"
             ],
             [
              0.5555555555555556,
              "#d8576b"
             ],
             [
              0.6666666666666666,
              "#ed7953"
             ],
             [
              0.7777777777777778,
              "#fb9f3a"
             ],
             [
              0.8888888888888888,
              "#fdca26"
             ],
             [
              1,
              "#f0f921"
             ]
            ],
            "type": "heatmapgl"
           }
          ],
          "histogram": [
           {
            "marker": {
             "pattern": {
              "fillmode": "overlay",
              "size": 10,
              "solidity": 0.2
             }
            },
            "type": "histogram"
           }
          ],
          "histogram2d": [
           {
            "colorbar": {
             "outlinewidth": 0,
             "ticks": ""
            },
            "colorscale": [
             [
              0,
              "#0d0887"
             ],
             [
              0.1111111111111111,
              "#46039f"
             ],
             [
              0.2222222222222222,
              "#7201a8"
             ],
             [
              0.3333333333333333,
              "#9c179e"
             ],
             [
              0.4444444444444444,
              "#bd3786"
             ],
             [
              0.5555555555555556,
              "#d8576b"
             ],
             [
              0.6666666666666666,
              "#ed7953"
             ],
             [
              0.7777777777777778,
              "#fb9f3a"
             ],
             [
              0.8888888888888888,
              "#fdca26"
             ],
             [
              1,
              "#f0f921"
             ]
            ],
            "type": "histogram2d"
           }
          ],
          "histogram2dcontour": [
           {
            "colorbar": {
             "outlinewidth": 0,
             "ticks": ""
            },
            "colorscale": [
             [
              0,
              "#0d0887"
             ],
             [
              0.1111111111111111,
              "#46039f"
             ],
             [
              0.2222222222222222,
              "#7201a8"
             ],
             [
              0.3333333333333333,
              "#9c179e"
             ],
             [
              0.4444444444444444,
              "#bd3786"
             ],
             [
              0.5555555555555556,
              "#d8576b"
             ],
             [
              0.6666666666666666,
              "#ed7953"
             ],
             [
              0.7777777777777778,
              "#fb9f3a"
             ],
             [
              0.8888888888888888,
              "#fdca26"
             ],
             [
              1,
              "#f0f921"
             ]
            ],
            "type": "histogram2dcontour"
           }
          ],
          "mesh3d": [
           {
            "colorbar": {
             "outlinewidth": 0,
             "ticks": ""
            },
            "type": "mesh3d"
           }
          ],
          "parcoords": [
           {
            "line": {
             "colorbar": {
              "outlinewidth": 0,
              "ticks": ""
             }
            },
            "type": "parcoords"
           }
          ],
          "pie": [
           {
            "automargin": true,
            "type": "pie"
           }
          ],
          "scatter": [
           {
            "fillpattern": {
             "fillmode": "overlay",
             "size": 10,
             "solidity": 0.2
            },
            "type": "scatter"
           }
          ],
          "scatter3d": [
           {
            "line": {
             "colorbar": {
              "outlinewidth": 0,
              "ticks": ""
             }
            },
            "marker": {
             "colorbar": {
              "outlinewidth": 0,
              "ticks": ""
             }
            },
            "type": "scatter3d"
           }
          ],
          "scattercarpet": [
           {
            "marker": {
             "colorbar": {
              "outlinewidth": 0,
              "ticks": ""
             }
            },
            "type": "scattercarpet"
           }
          ],
          "scattergeo": [
           {
            "marker": {
             "colorbar": {
              "outlinewidth": 0,
              "ticks": ""
             }
            },
            "type": "scattergeo"
           }
          ],
          "scattergl": [
           {
            "marker": {
             "colorbar": {
              "outlinewidth": 0,
              "ticks": ""
             }
            },
            "type": "scattergl"
           }
          ],
          "scattermapbox": [
           {
            "marker": {
             "colorbar": {
              "outlinewidth": 0,
              "ticks": ""
             }
            },
            "type": "scattermapbox"
           }
          ],
          "scatterpolar": [
           {
            "marker": {
             "colorbar": {
              "outlinewidth": 0,
              "ticks": ""
             }
            },
            "type": "scatterpolar"
           }
          ],
          "scatterpolargl": [
           {
            "marker": {
             "colorbar": {
              "outlinewidth": 0,
              "ticks": ""
             }
            },
            "type": "scatterpolargl"
           }
          ],
          "scatterternary": [
           {
            "marker": {
             "colorbar": {
              "outlinewidth": 0,
              "ticks": ""
             }
            },
            "type": "scatterternary"
           }
          ],
          "surface": [
           {
            "colorbar": {
             "outlinewidth": 0,
             "ticks": ""
            },
            "colorscale": [
             [
              0,
              "#0d0887"
             ],
             [
              0.1111111111111111,
              "#46039f"
             ],
             [
              0.2222222222222222,
              "#7201a8"
             ],
             [
              0.3333333333333333,
              "#9c179e"
             ],
             [
              0.4444444444444444,
              "#bd3786"
             ],
             [
              0.5555555555555556,
              "#d8576b"
             ],
             [
              0.6666666666666666,
              "#ed7953"
             ],
             [
              0.7777777777777778,
              "#fb9f3a"
             ],
             [
              0.8888888888888888,
              "#fdca26"
             ],
             [
              1,
              "#f0f921"
             ]
            ],
            "type": "surface"
           }
          ],
          "table": [
           {
            "cells": {
             "fill": {
              "color": "#EBF0F8"
             },
             "line": {
              "color": "white"
             }
            },
            "header": {
             "fill": {
              "color": "#C8D4E3"
             },
             "line": {
              "color": "white"
             }
            },
            "type": "table"
           }
          ]
         },
         "layout": {
          "annotationdefaults": {
           "arrowcolor": "#2a3f5f",
           "arrowhead": 0,
           "arrowwidth": 1
          },
          "autotypenumbers": "strict",
          "coloraxis": {
           "colorbar": {
            "outlinewidth": 0,
            "ticks": ""
           }
          },
          "colorscale": {
           "diverging": [
            [
             0,
             "#8e0152"
            ],
            [
             0.1,
             "#c51b7d"
            ],
            [
             0.2,
             "#de77ae"
            ],
            [
             0.3,
             "#f1b6da"
            ],
            [
             0.4,
             "#fde0ef"
            ],
            [
             0.5,
             "#f7f7f7"
            ],
            [
             0.6,
             "#e6f5d0"
            ],
            [
             0.7,
             "#b8e186"
            ],
            [
             0.8,
             "#7fbc41"
            ],
            [
             0.9,
             "#4d9221"
            ],
            [
             1,
             "#276419"
            ]
           ],
           "sequential": [
            [
             0,
             "#0d0887"
            ],
            [
             0.1111111111111111,
             "#46039f"
            ],
            [
             0.2222222222222222,
             "#7201a8"
            ],
            [
             0.3333333333333333,
             "#9c179e"
            ],
            [
             0.4444444444444444,
             "#bd3786"
            ],
            [
             0.5555555555555556,
             "#d8576b"
            ],
            [
             0.6666666666666666,
             "#ed7953"
            ],
            [
             0.7777777777777778,
             "#fb9f3a"
            ],
            [
             0.8888888888888888,
             "#fdca26"
            ],
            [
             1,
             "#f0f921"
            ]
           ],
           "sequentialminus": [
            [
             0,
             "#0d0887"
            ],
            [
             0.1111111111111111,
             "#46039f"
            ],
            [
             0.2222222222222222,
             "#7201a8"
            ],
            [
             0.3333333333333333,
             "#9c179e"
            ],
            [
             0.4444444444444444,
             "#bd3786"
            ],
            [
             0.5555555555555556,
             "#d8576b"
            ],
            [
             0.6666666666666666,
             "#ed7953"
            ],
            [
             0.7777777777777778,
             "#fb9f3a"
            ],
            [
             0.8888888888888888,
             "#fdca26"
            ],
            [
             1,
             "#f0f921"
            ]
           ]
          },
          "colorway": [
           "#636efa",
           "#EF553B",
           "#00cc96",
           "#ab63fa",
           "#FFA15A",
           "#19d3f3",
           "#FF6692",
           "#B6E880",
           "#FF97FF",
           "#FECB52"
          ],
          "font": {
           "color": "#2a3f5f"
          },
          "geo": {
           "bgcolor": "white",
           "lakecolor": "white",
           "landcolor": "#E5ECF6",
           "showlakes": true,
           "showland": true,
           "subunitcolor": "white"
          },
          "hoverlabel": {
           "align": "left"
          },
          "hovermode": "closest",
          "mapbox": {
           "style": "light"
          },
          "paper_bgcolor": "white",
          "plot_bgcolor": "#E5ECF6",
          "polar": {
           "angularaxis": {
            "gridcolor": "white",
            "linecolor": "white",
            "ticks": ""
           },
           "bgcolor": "#E5ECF6",
           "radialaxis": {
            "gridcolor": "white",
            "linecolor": "white",
            "ticks": ""
           }
          },
          "scene": {
           "xaxis": {
            "backgroundcolor": "#E5ECF6",
            "gridcolor": "white",
            "gridwidth": 2,
            "linecolor": "white",
            "showbackground": true,
            "ticks": "",
            "zerolinecolor": "white"
           },
           "yaxis": {
            "backgroundcolor": "#E5ECF6",
            "gridcolor": "white",
            "gridwidth": 2,
            "linecolor": "white",
            "showbackground": true,
            "ticks": "",
            "zerolinecolor": "white"
           },
           "zaxis": {
            "backgroundcolor": "#E5ECF6",
            "gridcolor": "white",
            "gridwidth": 2,
            "linecolor": "white",
            "showbackground": true,
            "ticks": "",
            "zerolinecolor": "white"
           }
          },
          "shapedefaults": {
           "line": {
            "color": "#2a3f5f"
           }
          },
          "ternary": {
           "aaxis": {
            "gridcolor": "white",
            "linecolor": "white",
            "ticks": ""
           },
           "baxis": {
            "gridcolor": "white",
            "linecolor": "white",
            "ticks": ""
           },
           "bgcolor": "#E5ECF6",
           "caxis": {
            "gridcolor": "white",
            "linecolor": "white",
            "ticks": ""
           }
          },
          "title": {
           "x": 0.05
          },
          "xaxis": {
           "automargin": true,
           "gridcolor": "white",
           "linecolor": "white",
           "ticks": "",
           "title": {
            "standoff": 15
           },
           "zerolinecolor": "white",
           "zerolinewidth": 2
          },
          "yaxis": {
           "automargin": true,
           "gridcolor": "white",
           "linecolor": "white",
           "ticks": "",
           "title": {
            "standoff": 15
           },
           "zerolinecolor": "white",
           "zerolinewidth": 2
          }
         }
        },
        "xaxis": {
         "visible": false
        },
        "yaxis": {
         "visible": false
        }
       }
      },
      "text/html": [
       "<div>                            <div id=\"bfdbda2b-6539-4aab-a8ed-7f20a128035d\" class=\"plotly-graph-div\" style=\"height:525px; width:100%;\"></div>            <script type=\"text/javascript\">                require([\"plotly\"], function(Plotly) {                    window.PLOTLYENV=window.PLOTLYENV || {};                                    if (document.getElementById(\"bfdbda2b-6539-4aab-a8ed-7f20a128035d\")) {                    Plotly.newPlot(                        \"bfdbda2b-6539-4aab-a8ed-7f20a128035d\",                        [{\"line\":{\"color\":\"black\",\"shape\":\"spline\",\"smoothing\":1.3,\"width\":1.25},\"mode\":\"lines\",\"showlegend\":false,\"x\":[null,null,0,0,null,0,0.00982,null,0.00982,0.00982,null,0.00982,0.02182,null,0.02182,0.02182,null,0.02182,0.02845,null,0.02845,0.02845,null,0.02845,0.040959999999999996,null,0.040959999999999996,0.040959999999999996,null,0.040959999999999996,0.045009999999999994,null,0.045009999999999994,0.045009999999999994,null,0.045009999999999994,0.13495000000000001,null,0.13495000000000001,0.13495000000000001,null,0.13495000000000001,0.14794000000000002,null,0.14794000000000002,0.14794000000000002,null,0.14794000000000002,0.15265,null,0.15265,0.15265,null,0.15265,0.21351,null,0.15265,0.15265,null,0.15265,0.21786,null,0.14794000000000002,0.14794000000000002,null,0.14794000000000002,0.20615,null,0.13495000000000001,0.13495000000000001,null,0.13495000000000001,0.17046,null,0.17046,0.17046,null,0.17046,0.1937,null,0.1937,0.1937,null,0.1937,0.20754,null,0.20754,0.20754,null,0.20754,0.21727,null,0.21727,0.21727,null,0.21727,0.23212,null,0.21727,0.21727,null,0.21727,0.23618,null,0.20754,0.20754,null,0.20754,0.2313,null,0.1937,0.1937,null,0.1937,0.22993000000000002,null,0.17046,0.17046,null,0.17046,0.22463,null,0.045009999999999994,0.045009999999999994,null,0.045009999999999994,0.19239,null,0.040959999999999996,0.040959999999999996,null,0.040959999999999996,0.08174999999999999,null,0.08174999999999999,0.08174999999999999,null,0.08174999999999999,0.12969999999999998,null,0.08174999999999999,0.08174999999999999,null,0.08174999999999999,0.13746999999999998,null,0.02845,0.02845,null,0.02845,0.16413,null,0.02182,0.02182,null,0.02182,0.03155,null,0.03155,0.03155,null,0.03155,0.08569,null,0.08569,0.08569,null,0.08569,0.09421,null,0.09421,0.09421,null,0.09421,0.10769000000000001,null,0.10769000000000001,0.10769000000000001,null,0.10769000000000001,0.111,null,0.111,0.111,null,0.111,0.11685,null,0.11685,0.11685,null,0.11685,0.12397,null,0.11685,0.11685,null,0.11685,0.12622,null,0.111,0.111,null,0.111,0.12121,null,0.10769000000000001,0.10769000000000001,null,0.10769000000000001,0.12755,null,0.09421,0.09421,null,0.09421,0.13139,null,0.08569,0.08569,null,0.08569,0.10578,null,0.10578,0.10578,null,0.10578,0.12162,null,0.12162,0.12162,null,0.12162,0.13065000000000002,null,0.12162,0.12162,null,0.12162,0.13775,null,0.10578,0.10578,null,0.10578,0.12299,null,0.03155,0.03155,null,0.03155,0.11698,null,0.00982,0.00982,null,0.00982,0.02389,null,0.02389,0.02389,null,0.02389,0.027100000000000003,null,0.027100000000000003,0.027100000000000003,null,0.027100000000000003,0.03096,null,0.03096,0.03096,null,0.03096,0.055470000000000005,null,0.055470000000000005,0.055470000000000005,null,0.055470000000000005,0.10315,null,0.10315,0.10315,null,0.10315,0.11305000000000001,null,0.11305000000000001,0.11305000000000001,null,0.11305000000000001,0.12083,null,0.11305000000000001,0.11305000000000001,null,0.11305000000000001,0.12227000000000002,null,0.10315,0.10315,null,0.10315,0.11951,null,0.055470000000000005,0.055470000000000005,null,0.055470000000000005,0.12305,null,0.12305,0.12305,null,0.12305,0.12826,null,0.12305,0.12305,null,0.12305,0.12901,null,0.03096,0.03096,null,0.03096,0.09838,null,0.027100000000000003,0.027100000000000003,null,0.027100000000000003,0.046590000000000006,null,0.046590000000000006,0.046590000000000006,null,0.046590000000000006,0.052730000000000006,null,0.052730000000000006,0.052730000000000006,null,0.052730000000000006,0.06298000000000001,null,0.06298000000000001,0.06298000000000001,null,0.06298000000000001,0.09233000000000001,null,0.09233000000000001,0.09233000000000001,null,0.09233000000000001,0.09658000000000001,null,0.09658000000000001,0.09658000000000001,null,0.09658000000000001,0.11352000000000001,null,0.11352000000000001,0.11352000000000001,null,0.11352000000000001,0.12047000000000001,null,0.12047000000000001,0.12047000000000001,null,0.12047000000000001,0.12829000000000002,null,0.12047000000000001,0.12047000000000001,null,0.12047000000000001,0.1292,null,0.11352000000000001,0.11352000000000001,null,0.11352000000000001,0.13043000000000002,null,0.09658000000000001,0.09658000000000001,null,0.09658000000000001,0.13072,null,0.09233000000000001,0.09233000000000001,null,0.09233000000000001,0.11923,null,0.06298000000000001,0.06298000000000001,null,0.06298000000000001,0.10954,null,0.10954,0.10954,null,0.10954,0.11949,null,0.11949,0.11949,null,0.11949,0.13796,null,0.13796,0.13796,null,0.13796,0.15212,null,0.13796,0.13796,null,0.13796,0.15417,null,0.11949,0.11949,null,0.11949,0.13959,null,0.13959,0.13959,null,0.13959,0.14398999999999998,null,0.14398999999999998,0.14398999999999998,null,0.14398999999999998,0.14986999999999998,null,0.14398999999999998,0.14398999999999998,null,0.14398999999999998,0.15073999999999999,null,0.13959,0.13959,null,0.13959,0.1673,null,0.10954,0.10954,null,0.10954,0.14445,null,0.052730000000000006,0.052730000000000006,null,0.052730000000000006,0.08864,null,0.08864,0.08864,null,0.08864,0.13272,null,0.08864,0.08864,null,0.08864,0.13628,null,0.046590000000000006,0.046590000000000006,null,0.046590000000000006,0.11786,null,0.02389,0.02389,null,0.02389,0.11698,null,0,0,null,0,0.11174,null],\"y\":[null,null,-16.235400390625,-5.1708007812500005,null,-5.1708007812500005,-5.1708007812500005,null,-5.1708007812500005,9.3208984375,null,9.3208984375,9.3208984375,null,9.3208984375,15.168359375000001,null,15.168359375000001,15.168359375000001,null,15.168359375000001,17.336718750000003,null,17.336718750000003,17.336718750000003,null,17.336718750000003,19.723437500000003,null,19.723437500000003,19.723437500000003,null,19.723437500000003,22.546875,null,22.546875,22.546875,null,22.546875,25.674999999999997,null,25.674999999999997,25.674999999999997,null,25.674999999999997,26.65,null,26.65,26.65,null,26.65,27.3,null,27.3,27.3,null,26.65,26.0,null,26.0,26.0,null,25.674999999999997,24.7,null,24.7,24.7,null,22.546875,19.41875,null,19.41875,19.41875,null,19.41875,20.6375,null,20.6375,20.6375,null,20.6375,21.775,null,21.775,21.775,null,21.775,22.75,null,22.75,22.75,null,22.75,23.400000000000002,null,23.400000000000002,23.400000000000002,null,22.75,22.1,null,22.1,22.1,null,21.775,20.8,null,20.8,20.8,null,20.6375,19.5,null,19.5,19.5,null,19.41875,18.2,null,18.2,18.2,null,19.723437500000003,16.900000000000002,null,16.900000000000002,16.900000000000002,null,17.336718750000003,14.950000000000001,null,14.950000000000001,14.950000000000001,null,14.950000000000001,15.600000000000001,null,15.600000000000001,15.600000000000001,null,14.950000000000001,14.3,null,14.3,14.3,null,15.168359375000001,13.0,null,13.0,13.0,null,9.3208984375,3.4734374999999997,null,3.4734374999999997,3.4734374999999997,null,3.4734374999999997,5.646875,null,5.646875,5.646875,null,5.646875,7.71875,null,7.71875,7.71875,null,7.71875,8.9375,null,8.9375,8.9375,null,8.9375,10.075,null,10.075,10.075,null,10.075,11.05,null,11.05,11.05,null,11.05,11.700000000000001,null,11.700000000000001,11.700000000000001,null,11.05,10.4,null,10.4,10.4,null,10.075,9.1,null,9.1,9.1,null,8.9375,7.800000000000001,null,7.800000000000001,7.800000000000001,null,7.71875,6.5,null,6.5,6.5,null,5.646875,3.575,null,3.575,3.575,null,3.575,4.550000000000001,null,4.550000000000001,4.550000000000001,null,4.550000000000001,5.2,null,5.2,5.2,null,4.550000000000001,3.9000000000000004,null,3.9000000000000004,3.9000000000000004,null,3.575,2.6,null,2.6,2.6,null,3.4734374999999997,1.3,null,1.3,1.3,null,-5.1708007812500005,-19.6625,null,-19.6625,-19.6625,null,-19.6625,-13.325,null,-13.325,-13.325,null,-13.325,-4.79375,null,-4.79375,-4.79375,null,-4.79375,-3.0875000000000004,null,-3.0875000000000004,-3.0875000000000004,null,-3.0875000000000004,-1.625,null,-1.625,-1.625,null,-1.625,-0.65,null,-0.65,-0.65,null,-0.65,0.0,null,0.0,0.0,null,-0.65,-1.3,null,-1.3,-1.3,null,-1.625,-2.6,null,-2.6,-2.6,null,-3.0875000000000004,-4.550000000000001,null,-4.550000000000001,-4.550000000000001,null,-4.550000000000001,-3.9000000000000004,null,-3.9000000000000004,-3.9000000000000004,null,-4.550000000000001,-5.2,null,-5.2,-5.2,null,-4.79375,-6.5,null,-6.5,-6.5,null,-13.325,-21.85625,null,-21.85625,-21.85625,null,-21.85625,-19.0125,null,-19.0125,-19.0125,null,-19.0125,-15.275,null,-15.275,-15.275,null,-15.275,-11.78125,null,-11.78125,-11.78125,null,-11.78125,-10.5625,null,-10.5625,-10.5625,null,-10.5625,-9.425,null,-9.425,-9.425,null,-9.425,-8.45,null,-8.45,-8.45,null,-8.45,-7.800000000000001,null,-7.800000000000001,-7.800000000000001,null,-8.45,-9.1,null,-9.1,-9.1,null,-9.425,-10.4,null,-10.4,-10.4,null,-10.5625,-11.700000000000001,null,-11.700000000000001,-11.700000000000001,null,-11.78125,-13.0,null,-13.0,-13.0,null,-15.275,-18.76875,null,-18.76875,-18.76875,null,-18.76875,-16.7375,null,-16.7375,-16.7375,null,-16.7375,-14.950000000000001,null,-14.950000000000001,-14.950000000000001,null,-14.950000000000001,-14.3,null,-14.3,-14.3,null,-14.950000000000001,-15.600000000000001,null,-15.600000000000001,-15.600000000000001,null,-16.7375,-18.525,null,-18.525,-18.525,null,-18.525,-17.55,null,-17.55,-17.55,null,-17.55,-16.900000000000002,null,-16.900000000000002,-16.900000000000002,null,-17.55,-18.2,null,-18.2,-18.2,null,-18.525,-19.5,null,-19.5,-19.5,null,-18.76875,-20.8,null,-20.8,-20.8,null,-19.0125,-22.75,null,-22.75,-22.75,null,-22.75,-22.1,null,-22.1,-22.1,null,-22.75,-23.400000000000002,null,-23.400000000000002,-23.400000000000002,null,-21.85625,-24.7,null,-24.7,-24.7,null,-19.6625,-26.0,null,-26.0,-26.0,null,-16.235400390625,-27.3,null,-27.3,-27.3,null],\"type\":\"scatter\"},{\"hoverinfo\":\"text\",\"marker\":{\"color\":\"black\",\"size\":3,\"symbol\":\"circle\"},\"mode\":\"markers\",\"showlegend\":false,\"text\":[\"Eutheria\",\"Boreoeutheria\",\"Euarchontoglires\",\"Glires\",\"Rodentia.2\",\"Rodentia\",\"Muroidea\",\"Cricetidae.2\",\"Cricetidae\",\"Cricetulus_griseus_CHOK1GS_HDv1\",\"Microtus_ochrogaster_MicOch1.0\",\"Peromyscus_maniculatus_bairdii_HU_Pman_2.1\",\"Murinae\",\"Mus.3\",\"Mus.2\",\"Mus\",\"Mus_spretus_strain_SPRET\\u002fEiJ\",\"Mus_musculus_reference_CL57BL6_strain\",\"Mus_caroli_strain_CAROLI_EIJ\",\"Mus_pahari_strain_PAHARI_EIJ\",\"Rattus_norvegicus_strain_BN\\u002fNHsdMcwi\",\"Cavia_porcellus_Cavpor3.0\",\"Sciuridae\",\"Sciurus_vulgaris_mSciVul1.1\",\"Marmota_marmota_marmota_marMar2.1\",\"Oryctolagus_cuniculus_OryCun2.0\",\"Primates\",\"Catarrhini\",\"Hominoidea\",\"Homininae.2\",\"Homininae\",\"Pan\",\"Pan_troglodytes_Pan_tro_3.0\",\"Pan_paniscus_panpan1.1\",\"Homo_sapiens_GRCh38\",\"Gorilla_gorilla_gorilla_gorGor4\",\"Nomascus_leucogenys_Nleu_3.0\",\"Cercopithecinae\",\"Macaca\",\"Macaca_mulatta_Mmul_10\",\"Macaca_fascicularis_Macaca_fascicularis_6.0\",\"Chlorocebus_sabaeus_ChlSab1.1\",\"Microcebus_murinus_Mmur_3.0\",\"Laurasiatheria.3\",\"Laurasiatheria.2\",\"Laurasiatheria\",\"Carnivora\",\"Felidae\",\"Panthera\",\"Panthera_pardus_PanPar1.0\",\"Panthera_leo_PanLeo1.0\",\"Felis_catus_Felis_catus_9.0\",\"Canis_lupus\",\"Canis_lupus_dingo_ASM325472v1\",\"Canis_lupus_familiaris_reference_breed\",\"Equus_caballus_breed_thoroughbred\",\"Artiodactyla.3\",\"Artiodactyla.2\",\"Artiodactyla\",\"Cetacea\",\"Odontoceti.2\",\"Odontoceti\",\"Monodontidae\",\"Monodon_monoceros_NGI_Narwhal_1\",\"Delphinapterus_leucas_ASM228892v3\",\"Phocoena_sinus_mPhoSin1.pri\",\"Physeter_catodon_ASM283717v2\",\"Balaenoptera_musculus_mBalMus1.v2\",\"Pecora\",\"Bovidae\",\"Caprinae\",\"Ovis_aries_reference_breed\",\"Capra_hircus_reference_breed\",\"Bos.2\",\"Bos\",\"Bos_taurus_reference_breed\",\"Bos_indicus_x_Bos_taurus_UOA_Brahman_1\",\"Bos_grunniens_LU_Bosgru_v3.0\",\"Cervus_hanglu_yarkandensis_CEY_v1\",\"Suina\",\"Sus_scrofa_reference_breed\",\"Catagonus_wagneri_CatWag_v2_BIUU_UCD\",\"Camelus_dromedarius_CamDro2\",\"Rhinolophus_ferrumequinum_mRhiFer1_v1.p\",\"Loxodonta_africana_loxAfr3\"],\"x\":[0,0.00982,0.02182,0.02845,0.040959999999999996,0.045009999999999994,0.13495000000000001,0.14794000000000002,0.15265,0.21351,0.21786,0.20615,0.17046,0.1937,0.20754,0.21727,0.23212,0.23618,0.2313,0.22993000000000002,0.22463,0.19239,0.08174999999999999,0.12969999999999998,0.13746999999999998,0.16413,0.03155,0.08569,0.09421,0.10769000000000001,0.111,0.11685,0.12397,0.12622,0.12121,0.12755,0.13139,0.10578,0.12162,0.13065000000000002,0.13775,0.12299,0.11698,0.02389,0.027100000000000003,0.03096,0.055470000000000005,0.10315,0.11305000000000001,0.12083,0.12227000000000002,0.11951,0.12305,0.12826,0.12901,0.09838,0.046590000000000006,0.052730000000000006,0.06298000000000001,0.09233000000000001,0.09658000000000001,0.11352000000000001,0.12047000000000001,0.12829000000000002,0.1292,0.13043000000000002,0.13072,0.11923,0.10954,0.11949,0.13796,0.15212,0.15417,0.13959,0.14398999999999998,0.14986999999999998,0.15073999999999999,0.1673,0.14445,0.08864,0.13272,0.13628,0.11786,0.11698,0.11174],\"y\":[-16.235400390625,-5.1708007812500005,9.3208984375,15.168359375000001,17.336718750000003,19.723437500000003,22.546875,25.674999999999997,26.65,27.3,26.0,24.7,19.41875,20.6375,21.775,22.75,23.400000000000002,22.1,20.8,19.5,18.2,16.900000000000002,14.950000000000001,15.600000000000001,14.3,13.0,3.4734374999999997,5.646875,7.71875,8.9375,10.075,11.05,11.700000000000001,10.4,9.1,7.800000000000001,6.5,3.575,4.550000000000001,5.2,3.9000000000000004,2.6,1.3,-19.6625,-13.325,-4.79375,-3.0875000000000004,-1.625,-0.65,0.0,-1.3,-2.6,-4.550000000000001,-3.9000000000000004,-5.2,-6.5,-21.85625,-19.0125,-15.275,-11.78125,-10.5625,-9.425,-8.45,-7.800000000000001,-9.1,-10.4,-11.700000000000001,-13.0,-18.76875,-16.7375,-14.950000000000001,-14.3,-15.600000000000001,-18.525,-17.55,-16.900000000000002,-18.2,-19.5,-20.8,-22.75,-22.1,-23.400000000000002,-24.7,-26.0,-27.3],\"type\":\"scatter\"}],                        {\"annotations\":[{\"font\":{\"family\":\"Inconsolata, monospace\",\"size\":12},\"showarrow\":false,\"text\":\"Cricetulus_griseus_CHOK1GS_HDv1\",\"textangle\":0,\"x\":0.2194145,\"xanchor\":\"left\",\"xref\":\"x\",\"y\":27.3,\"yref\":\"y\"},{\"font\":{\"family\":\"Inconsolata, monospace\",\"size\":12},\"showarrow\":false,\"text\":\"Microtus_ochrogaster_MicOch1.0\",\"textangle\":0,\"x\":0.2237645,\"xanchor\":\"left\",\"xref\":\"x\",\"y\":26.0,\"yref\":\"y\"},{\"font\":{\"family\":\"Inconsolata, monospace\",\"size\":12},\"showarrow\":false,\"text\":\"Peromyscus_maniculatus_bairdii_HU_Pman_2.1\",\"textangle\":0,\"x\":0.2120545,\"xanchor\":\"left\",\"xref\":\"x\",\"y\":24.7,\"yref\":\"y\"},{\"font\":{\"family\":\"Inconsolata, monospace\",\"size\":12},\"showarrow\":false,\"text\":\"Mus_spretus_strain_SPRET\\u002fEiJ\",\"textangle\":0,\"x\":0.2380245,\"xanchor\":\"left\",\"xref\":\"x\",\"y\":23.400000000000002,\"yref\":\"y\"},{\"font\":{\"family\":\"Inconsolata, monospace\",\"size\":12},\"showarrow\":false,\"text\":\"Mus_musculus_reference_CL57BL6_strain\",\"textangle\":0,\"x\":0.2420845,\"xanchor\":\"left\",\"xref\":\"x\",\"y\":22.1,\"yref\":\"y\"},{\"font\":{\"family\":\"Inconsolata, monospace\",\"size\":12},\"showarrow\":false,\"text\":\"Mus_caroli_strain_CAROLI_EIJ\",\"textangle\":0,\"x\":0.2372045,\"xanchor\":\"left\",\"xref\":\"x\",\"y\":20.8,\"yref\":\"y\"},{\"font\":{\"family\":\"Inconsolata, monospace\",\"size\":12},\"showarrow\":false,\"text\":\"Mus_pahari_strain_PAHARI_EIJ\",\"textangle\":0,\"x\":0.23583450000000003,\"xanchor\":\"left\",\"xref\":\"x\",\"y\":19.5,\"yref\":\"y\"},{\"font\":{\"family\":\"Inconsolata, monospace\",\"size\":12},\"showarrow\":false,\"text\":\"Rattus_norvegicus_strain_BN\\u002fNHsdMcwi\",\"textangle\":0,\"x\":0.2305345,\"xanchor\":\"left\",\"xref\":\"x\",\"y\":18.2,\"yref\":\"y\"},{\"font\":{\"family\":\"Inconsolata, monospace\",\"size\":12},\"showarrow\":false,\"text\":\"Cavia_porcellus_Cavpor3.0\",\"textangle\":0,\"x\":0.1982945,\"xanchor\":\"left\",\"xref\":\"x\",\"y\":16.900000000000002,\"yref\":\"y\"},{\"font\":{\"family\":\"Inconsolata, monospace\",\"size\":12},\"showarrow\":false,\"text\":\"Sciurus_vulgaris_mSciVul1.1\",\"textangle\":0,\"x\":0.1356045,\"xanchor\":\"left\",\"xref\":\"x\",\"y\":15.600000000000001,\"yref\":\"y\"},{\"font\":{\"family\":\"Inconsolata, monospace\",\"size\":12},\"showarrow\":false,\"text\":\"Marmota_marmota_marmota_marMar2.1\",\"textangle\":0,\"x\":0.1433745,\"xanchor\":\"left\",\"xref\":\"x\",\"y\":14.3,\"yref\":\"y\"},{\"font\":{\"family\":\"Inconsolata, monospace\",\"size\":12},\"showarrow\":false,\"text\":\"Oryctolagus_cuniculus_OryCun2.0\",\"textangle\":0,\"x\":0.1700345,\"xanchor\":\"left\",\"xref\":\"x\",\"y\":13.0,\"yref\":\"y\"},{\"font\":{\"family\":\"Inconsolata, monospace\",\"size\":12},\"showarrow\":false,\"text\":\"Pan_troglodytes_Pan_tro_3.0\",\"textangle\":0,\"x\":0.1298745,\"xanchor\":\"left\",\"xref\":\"x\",\"y\":11.700000000000001,\"yref\":\"y\"},{\"font\":{\"family\":\"Inconsolata, monospace\",\"size\":12},\"showarrow\":false,\"text\":\"Pan_paniscus_panpan1.1\",\"textangle\":0,\"x\":0.1321245,\"xanchor\":\"left\",\"xref\":\"x\",\"y\":10.4,\"yref\":\"y\"},{\"font\":{\"family\":\"Inconsolata, monospace\",\"size\":12},\"showarrow\":false,\"text\":\"Homo_sapiens_GRCh38\",\"textangle\":0,\"x\":0.1271145,\"xanchor\":\"left\",\"xref\":\"x\",\"y\":9.1,\"yref\":\"y\"},{\"font\":{\"family\":\"Inconsolata, monospace\",\"size\":12},\"showarrow\":false,\"text\":\"Gorilla_gorilla_gorilla_gorGor4\",\"textangle\":0,\"x\":0.1334545,\"xanchor\":\"left\",\"xref\":\"x\",\"y\":7.800000000000001,\"yref\":\"y\"},{\"font\":{\"family\":\"Inconsolata, monospace\",\"size\":12},\"showarrow\":false,\"text\":\"Nomascus_leucogenys_Nleu_3.0\",\"textangle\":0,\"x\":0.1372945,\"xanchor\":\"left\",\"xref\":\"x\",\"y\":6.5,\"yref\":\"y\"},{\"font\":{\"family\":\"Inconsolata, monospace\",\"size\":12},\"showarrow\":false,\"text\":\"Macaca_mulatta_Mmul_10\",\"textangle\":0,\"x\":0.13655450000000002,\"xanchor\":\"left\",\"xref\":\"x\",\"y\":5.2,\"yref\":\"y\"},{\"font\":{\"family\":\"Inconsolata, monospace\",\"size\":12},\"showarrow\":false,\"text\":\"Macaca_fascicularis_Macaca_fascicularis_6.0\",\"textangle\":0,\"x\":0.14365450000000002,\"xanchor\":\"left\",\"xref\":\"x\",\"y\":3.9000000000000004,\"yref\":\"y\"},{\"font\":{\"family\":\"Inconsolata, monospace\",\"size\":12},\"showarrow\":false,\"text\":\"Chlorocebus_sabaeus_ChlSab1.1\",\"textangle\":0,\"x\":0.1288945,\"xanchor\":\"left\",\"xref\":\"x\",\"y\":2.6,\"yref\":\"y\"},{\"font\":{\"family\":\"Inconsolata, monospace\",\"size\":12},\"showarrow\":false,\"text\":\"Microcebus_murinus_Mmur_3.0\",\"textangle\":0,\"x\":0.12288450000000001,\"xanchor\":\"left\",\"xref\":\"x\",\"y\":1.3,\"yref\":\"y\"},{\"font\":{\"family\":\"Inconsolata, monospace\",\"size\":12},\"showarrow\":false,\"text\":\"Panthera_pardus_PanPar1.0\",\"textangle\":0,\"x\":0.1267345,\"xanchor\":\"left\",\"xref\":\"x\",\"y\":0.0,\"yref\":\"y\"},{\"font\":{\"family\":\"Inconsolata, monospace\",\"size\":12},\"showarrow\":false,\"text\":\"Panthera_leo_PanLeo1.0\",\"textangle\":0,\"x\":0.12817450000000002,\"xanchor\":\"left\",\"xref\":\"x\",\"y\":-1.3,\"yref\":\"y\"},{\"font\":{\"family\":\"Inconsolata, monospace\",\"size\":12},\"showarrow\":false,\"text\":\"Felis_catus_Felis_catus_9.0\",\"textangle\":0,\"x\":0.1254145,\"xanchor\":\"left\",\"xref\":\"x\",\"y\":-2.6,\"yref\":\"y\"},{\"font\":{\"family\":\"Inconsolata, monospace\",\"size\":12},\"showarrow\":false,\"text\":\"Canis_lupus_dingo_ASM325472v1\",\"textangle\":0,\"x\":0.13416450000000002,\"xanchor\":\"left\",\"xref\":\"x\",\"y\":-3.9000000000000004,\"yref\":\"y\"},{\"font\":{\"family\":\"Inconsolata, monospace\",\"size\":12},\"showarrow\":false,\"text\":\"Canis_lupus_familiaris_reference_breed\",\"textangle\":0,\"x\":0.13491450000000002,\"xanchor\":\"left\",\"xref\":\"x\",\"y\":-5.2,\"yref\":\"y\"},{\"font\":{\"family\":\"Inconsolata, monospace\",\"size\":12},\"showarrow\":false,\"text\":\"Equus_caballus_breed_thoroughbred\",\"textangle\":0,\"x\":0.1042845,\"xanchor\":\"left\",\"xref\":\"x\",\"y\":-6.5,\"yref\":\"y\"},{\"font\":{\"family\":\"Inconsolata, monospace\",\"size\":12},\"showarrow\":false,\"text\":\"Monodon_monoceros_NGI_Narwhal_1\",\"textangle\":0,\"x\":0.13419450000000002,\"xanchor\":\"left\",\"xref\":\"x\",\"y\":-7.800000000000001,\"yref\":\"y\"},{\"font\":{\"family\":\"Inconsolata, monospace\",\"size\":12},\"showarrow\":false,\"text\":\"Delphinapterus_leucas_ASM228892v3\",\"textangle\":0,\"x\":0.13510450000000002,\"xanchor\":\"left\",\"xref\":\"x\",\"y\":-9.1,\"yref\":\"y\"},{\"font\":{\"family\":\"Inconsolata, monospace\",\"size\":12},\"showarrow\":false,\"text\":\"Phocoena_sinus_mPhoSin1.pri\",\"textangle\":0,\"x\":0.13633450000000003,\"xanchor\":\"left\",\"xref\":\"x\",\"y\":-10.4,\"yref\":\"y\"},{\"font\":{\"family\":\"Inconsolata, monospace\",\"size\":12},\"showarrow\":false,\"text\":\"Physeter_catodon_ASM283717v2\",\"textangle\":0,\"x\":0.1366245,\"xanchor\":\"left\",\"xref\":\"x\",\"y\":-11.700000000000001,\"yref\":\"y\"},{\"font\":{\"family\":\"Inconsolata, monospace\",\"size\":12},\"showarrow\":false,\"text\":\"Balaenoptera_musculus_mBalMus1.v2\",\"textangle\":0,\"x\":0.1251345,\"xanchor\":\"left\",\"xref\":\"x\",\"y\":-13.0,\"yref\":\"y\"},{\"font\":{\"family\":\"Inconsolata, monospace\",\"size\":12},\"showarrow\":false,\"text\":\"Ovis_aries_reference_breed\",\"textangle\":0,\"x\":0.1580245,\"xanchor\":\"left\",\"xref\":\"x\",\"y\":-14.3,\"yref\":\"y\"},{\"font\":{\"family\":\"Inconsolata, monospace\",\"size\":12},\"showarrow\":false,\"text\":\"Capra_hircus_reference_breed\",\"textangle\":0,\"x\":0.1600745,\"xanchor\":\"left\",\"xref\":\"x\",\"y\":-15.600000000000001,\"yref\":\"y\"},{\"font\":{\"family\":\"Inconsolata, monospace\",\"size\":12},\"showarrow\":false,\"text\":\"Bos_taurus_reference_breed\",\"textangle\":0,\"x\":0.15577449999999998,\"xanchor\":\"left\",\"xref\":\"x\",\"y\":-16.900000000000002,\"yref\":\"y\"},{\"font\":{\"family\":\"Inconsolata, monospace\",\"size\":12},\"showarrow\":false,\"text\":\"Bos_indicus_x_Bos_taurus_UOA_Brahman_1\",\"textangle\":0,\"x\":0.1566445,\"xanchor\":\"left\",\"xref\":\"x\",\"y\":-18.2,\"yref\":\"y\"},{\"font\":{\"family\":\"Inconsolata, monospace\",\"size\":12},\"showarrow\":false,\"text\":\"Bos_grunniens_LU_Bosgru_v3.0\",\"textangle\":0,\"x\":0.1732045,\"xanchor\":\"left\",\"xref\":\"x\",\"y\":-19.5,\"yref\":\"y\"},{\"font\":{\"family\":\"Inconsolata, monospace\",\"size\":12},\"showarrow\":false,\"text\":\"Cervus_hanglu_yarkandensis_CEY_v1\",\"textangle\":0,\"x\":0.1503545,\"xanchor\":\"left\",\"xref\":\"x\",\"y\":-20.8,\"yref\":\"y\"},{\"font\":{\"family\":\"Inconsolata, monospace\",\"size\":12},\"showarrow\":false,\"text\":\"Sus_scrofa_reference_breed\",\"textangle\":0,\"x\":0.1386245,\"xanchor\":\"left\",\"xref\":\"x\",\"y\":-22.1,\"yref\":\"y\"},{\"font\":{\"family\":\"Inconsolata, monospace\",\"size\":12},\"showarrow\":false,\"text\":\"Catagonus_wagneri_CatWag_v2_BIUU_UCD\",\"textangle\":0,\"x\":0.14218450000000002,\"xanchor\":\"left\",\"xref\":\"x\",\"y\":-23.400000000000002,\"yref\":\"y\"},{\"font\":{\"family\":\"Inconsolata, monospace\",\"size\":12},\"showarrow\":false,\"text\":\"Camelus_dromedarius_CamDro2\",\"textangle\":0,\"x\":0.1237645,\"xanchor\":\"left\",\"xref\":\"x\",\"y\":-24.7,\"yref\":\"y\"},{\"font\":{\"family\":\"Inconsolata, monospace\",\"size\":12},\"showarrow\":false,\"text\":\"Rhinolophus_ferrumequinum_mRhiFer1_v1.p\",\"textangle\":0,\"x\":0.12288450000000001,\"xanchor\":\"left\",\"xref\":\"x\",\"y\":-26.0,\"yref\":\"y\"},{\"font\":{\"family\":\"Inconsolata, monospace\",\"size\":12},\"showarrow\":false,\"text\":\"Loxodonta_africana_loxAfr3\",\"textangle\":0,\"x\":0.11764450000000001,\"xanchor\":\"left\",\"xref\":\"x\",\"y\":-27.3,\"yref\":\"y\"},{\"ax\":0,\"ay\":0,\"showarrow\":false,\"text\":\"0.02\",\"x\":0.011809,\"xref\":\"x\",\"y\":-32.263636363636365,\"yref\":\"y\",\"yshift\":10}],\"autosize\":true,\"font\":{\"family\":\"Balto\",\"size\":14},\"hovermode\":\"closest\",\"margin\":{\"b\":50,\"l\":50,\"pad\":4,\"r\":50,\"t\":50},\"shapes\":[{\"line\":{\"color\":\"black\",\"width\":1.25},\"name\":\"scale_bar\",\"type\":\"line\",\"x0\":0,\"x1\":0.023618,\"y0\":-32.263636363636365,\"y1\":-32.263636363636365}],\"showlegend\":false,\"xaxis\":{\"visible\":false},\"yaxis\":{\"visible\":false},\"template\":{\"data\":{\"histogram2dcontour\":[{\"type\":\"histogram2dcontour\",\"colorbar\":{\"outlinewidth\":0,\"ticks\":\"\"},\"colorscale\":[[0.0,\"#0d0887\"],[0.1111111111111111,\"#46039f\"],[0.2222222222222222,\"#7201a8\"],[0.3333333333333333,\"#9c179e\"],[0.4444444444444444,\"#bd3786\"],[0.5555555555555556,\"#d8576b\"],[0.6666666666666666,\"#ed7953\"],[0.7777777777777778,\"#fb9f3a\"],[0.8888888888888888,\"#fdca26\"],[1.0,\"#f0f921\"]]}],\"choropleth\":[{\"type\":\"choropleth\",\"colorbar\":{\"outlinewidth\":0,\"ticks\":\"\"}}],\"histogram2d\":[{\"type\":\"histogram2d\",\"colorbar\":{\"outlinewidth\":0,\"ticks\":\"\"},\"colorscale\":[[0.0,\"#0d0887\"],[0.1111111111111111,\"#46039f\"],[0.2222222222222222,\"#7201a8\"],[0.3333333333333333,\"#9c179e\"],[0.4444444444444444,\"#bd3786\"],[0.5555555555555556,\"#d8576b\"],[0.6666666666666666,\"#ed7953\"],[0.7777777777777778,\"#fb9f3a\"],[0.8888888888888888,\"#fdca26\"],[1.0,\"#f0f921\"]]}],\"heatmap\":[{\"type\":\"heatmap\",\"colorbar\":{\"outlinewidth\":0,\"ticks\":\"\"},\"colorscale\":[[0.0,\"#0d0887\"],[0.1111111111111111,\"#46039f\"],[0.2222222222222222,\"#7201a8\"],[0.3333333333333333,\"#9c179e\"],[0.4444444444444444,\"#bd3786\"],[0.5555555555555556,\"#d8576b\"],[0.6666666666666666,\"#ed7953\"],[0.7777777777777778,\"#fb9f3a\"],[0.8888888888888888,\"#fdca26\"],[1.0,\"#f0f921\"]]}],\"heatmapgl\":[{\"type\":\"heatmapgl\",\"colorbar\":{\"outlinewidth\":0,\"ticks\":\"\"},\"colorscale\":[[0.0,\"#0d0887\"],[0.1111111111111111,\"#46039f\"],[0.2222222222222222,\"#7201a8\"],[0.3333333333333333,\"#9c179e\"],[0.4444444444444444,\"#bd3786\"],[0.5555555555555556,\"#d8576b\"],[0.6666666666666666,\"#ed7953\"],[0.7777777777777778,\"#fb9f3a\"],[0.8888888888888888,\"#fdca26\"],[1.0,\"#f0f921\"]]}],\"contourcarpet\":[{\"type\":\"contourcarpet\",\"colorbar\":{\"outlinewidth\":0,\"ticks\":\"\"}}],\"contour\":[{\"type\":\"contour\",\"colorbar\":{\"outlinewidth\":0,\"ticks\":\"\"},\"colorscale\":[[0.0,\"#0d0887\"],[0.1111111111111111,\"#46039f\"],[0.2222222222222222,\"#7201a8\"],[0.3333333333333333,\"#9c179e\"],[0.4444444444444444,\"#bd3786\"],[0.5555555555555556,\"#d8576b\"],[0.6666666666666666,\"#ed7953\"],[0.7777777777777778,\"#fb9f3a\"],[0.8888888888888888,\"#fdca26\"],[1.0,\"#f0f921\"]]}],\"surface\":[{\"type\":\"surface\",\"colorbar\":{\"outlinewidth\":0,\"ticks\":\"\"},\"colorscale\":[[0.0,\"#0d0887\"],[0.1111111111111111,\"#46039f\"],[0.2222222222222222,\"#7201a8\"],[0.3333333333333333,\"#9c179e\"],[0.4444444444444444,\"#bd3786\"],[0.5555555555555556,\"#d8576b\"],[0.6666666666666666,\"#ed7953\"],[0.7777777777777778,\"#fb9f3a\"],[0.8888888888888888,\"#fdca26\"],[1.0,\"#f0f921\"]]}],\"mesh3d\":[{\"type\":\"mesh3d\",\"colorbar\":{\"outlinewidth\":0,\"ticks\":\"\"}}],\"scatter\":[{\"fillpattern\":{\"fillmode\":\"overlay\",\"size\":10,\"solidity\":0.2},\"type\":\"scatter\"}],\"parcoords\":[{\"type\":\"parcoords\",\"line\":{\"colorbar\":{\"outlinewidth\":0,\"ticks\":\"\"}}}],\"scatterpolargl\":[{\"type\":\"scatterpolargl\",\"marker\":{\"colorbar\":{\"outlinewidth\":0,\"ticks\":\"\"}}}],\"bar\":[{\"error_x\":{\"color\":\"#2a3f5f\"},\"error_y\":{\"color\":\"#2a3f5f\"},\"marker\":{\"line\":{\"color\":\"#E5ECF6\",\"width\":0.5},\"pattern\":{\"fillmode\":\"overlay\",\"size\":10,\"solidity\":0.2}},\"type\":\"bar\"}],\"scattergeo\":[{\"type\":\"scattergeo\",\"marker\":{\"colorbar\":{\"outlinewidth\":0,\"ticks\":\"\"}}}],\"scatterpolar\":[{\"type\":\"scatterpolar\",\"marker\":{\"colorbar\":{\"outlinewidth\":0,\"ticks\":\"\"}}}],\"histogram\":[{\"marker\":{\"pattern\":{\"fillmode\":\"overlay\",\"size\":10,\"solidity\":0.2}},\"type\":\"histogram\"}],\"scattergl\":[{\"type\":\"scattergl\",\"marker\":{\"colorbar\":{\"outlinewidth\":0,\"ticks\":\"\"}}}],\"scatter3d\":[{\"type\":\"scatter3d\",\"line\":{\"colorbar\":{\"outlinewidth\":0,\"ticks\":\"\"}},\"marker\":{\"colorbar\":{\"outlinewidth\":0,\"ticks\":\"\"}}}],\"scattermapbox\":[{\"type\":\"scattermapbox\",\"marker\":{\"colorbar\":{\"outlinewidth\":0,\"ticks\":\"\"}}}],\"scatterternary\":[{\"type\":\"scatterternary\",\"marker\":{\"colorbar\":{\"outlinewidth\":0,\"ticks\":\"\"}}}],\"scattercarpet\":[{\"type\":\"scattercarpet\",\"marker\":{\"colorbar\":{\"outlinewidth\":0,\"ticks\":\"\"}}}],\"carpet\":[{\"aaxis\":{\"endlinecolor\":\"#2a3f5f\",\"gridcolor\":\"white\",\"linecolor\":\"white\",\"minorgridcolor\":\"white\",\"startlinecolor\":\"#2a3f5f\"},\"baxis\":{\"endlinecolor\":\"#2a3f5f\",\"gridcolor\":\"white\",\"linecolor\":\"white\",\"minorgridcolor\":\"white\",\"startlinecolor\":\"#2a3f5f\"},\"type\":\"carpet\"}],\"table\":[{\"cells\":{\"fill\":{\"color\":\"#EBF0F8\"},\"line\":{\"color\":\"white\"}},\"header\":{\"fill\":{\"color\":\"#C8D4E3\"},\"line\":{\"color\":\"white\"}},\"type\":\"table\"}],\"barpolar\":[{\"marker\":{\"line\":{\"color\":\"#E5ECF6\",\"width\":0.5},\"pattern\":{\"fillmode\":\"overlay\",\"size\":10,\"solidity\":0.2}},\"type\":\"barpolar\"}],\"pie\":[{\"automargin\":true,\"type\":\"pie\"}]},\"layout\":{\"autotypenumbers\":\"strict\",\"colorway\":[\"#636efa\",\"#EF553B\",\"#00cc96\",\"#ab63fa\",\"#FFA15A\",\"#19d3f3\",\"#FF6692\",\"#B6E880\",\"#FF97FF\",\"#FECB52\"],\"font\":{\"color\":\"#2a3f5f\"},\"hovermode\":\"closest\",\"hoverlabel\":{\"align\":\"left\"},\"paper_bgcolor\":\"white\",\"plot_bgcolor\":\"#E5ECF6\",\"polar\":{\"bgcolor\":\"#E5ECF6\",\"angularaxis\":{\"gridcolor\":\"white\",\"linecolor\":\"white\",\"ticks\":\"\"},\"radialaxis\":{\"gridcolor\":\"white\",\"linecolor\":\"white\",\"ticks\":\"\"}},\"ternary\":{\"bgcolor\":\"#E5ECF6\",\"aaxis\":{\"gridcolor\":\"white\",\"linecolor\":\"white\",\"ticks\":\"\"},\"baxis\":{\"gridcolor\":\"white\",\"linecolor\":\"white\",\"ticks\":\"\"},\"caxis\":{\"gridcolor\":\"white\",\"linecolor\":\"white\",\"ticks\":\"\"}},\"coloraxis\":{\"colorbar\":{\"outlinewidth\":0,\"ticks\":\"\"}},\"colorscale\":{\"sequential\":[[0.0,\"#0d0887\"],[0.1111111111111111,\"#46039f\"],[0.2222222222222222,\"#7201a8\"],[0.3333333333333333,\"#9c179e\"],[0.4444444444444444,\"#bd3786\"],[0.5555555555555556,\"#d8576b\"],[0.6666666666666666,\"#ed7953\"],[0.7777777777777778,\"#fb9f3a\"],[0.8888888888888888,\"#fdca26\"],[1.0,\"#f0f921\"]],\"sequentialminus\":[[0.0,\"#0d0887\"],[0.1111111111111111,\"#46039f\"],[0.2222222222222222,\"#7201a8\"],[0.3333333333333333,\"#9c179e\"],[0.4444444444444444,\"#bd3786\"],[0.5555555555555556,\"#d8576b\"],[0.6666666666666666,\"#ed7953\"],[0.7777777777777778,\"#fb9f3a\"],[0.8888888888888888,\"#fdca26\"],[1.0,\"#f0f921\"]],\"diverging\":[[0,\"#8e0152\"],[0.1,\"#c51b7d\"],[0.2,\"#de77ae\"],[0.3,\"#f1b6da\"],[0.4,\"#fde0ef\"],[0.5,\"#f7f7f7\"],[0.6,\"#e6f5d0\"],[0.7,\"#b8e186\"],[0.8,\"#7fbc41\"],[0.9,\"#4d9221\"],[1,\"#276419\"]]},\"xaxis\":{\"gridcolor\":\"white\",\"linecolor\":\"white\",\"ticks\":\"\",\"title\":{\"standoff\":15},\"zerolinecolor\":\"white\",\"automargin\":true,\"zerolinewidth\":2},\"yaxis\":{\"gridcolor\":\"white\",\"linecolor\":\"white\",\"ticks\":\"\",\"title\":{\"standoff\":15},\"zerolinecolor\":\"white\",\"automargin\":true,\"zerolinewidth\":2},\"scene\":{\"xaxis\":{\"backgroundcolor\":\"#E5ECF6\",\"gridcolor\":\"white\",\"linecolor\":\"white\",\"showbackground\":true,\"ticks\":\"\",\"zerolinecolor\":\"white\",\"gridwidth\":2},\"yaxis\":{\"backgroundcolor\":\"#E5ECF6\",\"gridcolor\":\"white\",\"linecolor\":\"white\",\"showbackground\":true,\"ticks\":\"\",\"zerolinecolor\":\"white\",\"gridwidth\":2},\"zaxis\":{\"backgroundcolor\":\"#E5ECF6\",\"gridcolor\":\"white\",\"linecolor\":\"white\",\"showbackground\":true,\"ticks\":\"\",\"zerolinecolor\":\"white\",\"gridwidth\":2}},\"shapedefaults\":{\"line\":{\"color\":\"#2a3f5f\"}},\"annotationdefaults\":{\"arrowcolor\":\"#2a3f5f\",\"arrowhead\":0,\"arrowwidth\":1},\"geo\":{\"bgcolor\":\"white\",\"landcolor\":\"#E5ECF6\",\"subunitcolor\":\"white\",\"showland\":true,\"showlakes\":true,\"lakecolor\":\"white\"},\"title\":{\"x\":0.05},\"mapbox\":{\"style\":\"light\"}}}},                        {\"responsive\": true}                    ).then(function(){\n",
       "                            \n",
       "var gd = document.getElementById('bfdbda2b-6539-4aab-a8ed-7f20a128035d');\n",
       "var x = new MutationObserver(function (mutations, observer) {{\n",
       "        var display = window.getComputedStyle(gd).display;\n",
       "        if (!display || display === 'none') {{\n",
       "            console.log([gd, 'removed!']);\n",
       "            Plotly.purge(gd);\n",
       "            observer.disconnect();\n",
       "        }}\n",
       "}});\n",
       "\n",
       "// Listen for the removal of the full notebook cells\n",
       "var notebookContainer = gd.closest('#notebook-container');\n",
       "if (notebookContainer) {{\n",
       "    x.observe(notebookContainer, {childList: true});\n",
       "}}\n",
       "\n",
       "// Listen for the clearing of the current output cell\n",
       "var outputEl = gd.closest('.output');\n",
       "if (outputEl) {{\n",
       "    x.observe(outputEl, {childList: true});\n",
       "}}\n",
       "\n",
       "                        })                };                });            </script>        </div>"
      ]
     },
     "metadata": {},
     "output_type": "display_data"
    },
    {
     "data": {
      "text/plain": [
       "<cogent3.draw.dendrogram.Dendrogram at 0x196d46750>"
      ]
     },
     "execution_count": 203,
     "metadata": {},
     "output_type": "execute_result"
    }
   ],
   "source": [
    "path = paths[0]\n",
    "print(path)\n",
    "tree_10primate= load_tree(path, format=None, underscore_unmunge=False)\n",
    "tree_10primate.get_figure(show_support=True, threshold=0.8)"
   ]
  }
 ],
 "metadata": {
  "kernelspec": {
   "display_name": "c312",
   "language": "python",
   "name": "python3"
  },
  "language_info": {
   "codemirror_mode": {
    "name": "ipython",
    "version": 3
   },
   "file_extension": ".py",
   "mimetype": "text/x-python",
   "name": "python",
   "nbconvert_exporter": "python",
   "pygments_lexer": "ipython3",
   "version": "3.11.8"
  }
 },
 "nbformat": 4,
 "nbformat_minor": 2
}
