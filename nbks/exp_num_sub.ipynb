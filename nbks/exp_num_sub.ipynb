{
 "cells": [
  {
   "cell_type": "code",
   "execution_count": 1,
   "metadata": {},
   "outputs": [],
   "source": [
    "from cogent3.maths.matrix_exponential_integration import expected_number_subs\n",
    "from cogent3 import get_app, load_aligned_seqs\n",
    "import numpy as np\n",
    "\n",
    "from numpy import array\n",
    "\n",
    "GTR_model = get_app(\"model\", sm = \"GN\", \n",
    "                unique_trees = True, time_het = \"max\", optimise_motif_probs = True, \n",
    "                show_progress = False, opt_args = dict(max_restarts=5))\n",
    "\n",
    "no_degenerates = get_app(\n",
    "    \"omit_degenerates\",\n",
    "    moltype = None,\n",
    "    gap_is_degen = True,\n",
    "    motif_length = 1,\n",
    ")\n",
    "\n"
   ]
  },
  {
   "cell_type": "code",
   "execution_count": 2,
   "metadata": {},
   "outputs": [],
   "source": [
    "import pathlib\n",
    "paths = list(pathlib.Path(\"../data/16s-10\").glob(\"**/*.json\"))"
   ]
  },
  {
   "cell_type": "code",
   "execution_count": 3,
   "metadata": {},
   "outputs": [],
   "source": [
    "def get_matrix_pi(path):\n",
    "    aln = load_aligned_seqs(path)\n",
    "    aln1 = no_degenerates(aln)\n",
    "    result = GTR_model(aln1)\n",
    "    edge_name = result.tree.get_node_names(includeself = False)[0]\n",
    "    Q = result.lf.get_rate_matrix_for_edge(edge_name, calibrated=False)\n",
    "    pi = result.lf.get_motif_probs()\n",
    "    return Q, pi\n"
   ]
  },
  {
   "cell_type": "code",
   "execution_count": 371,
   "metadata": {},
   "outputs": [],
   "source": [
    "Q1, pi1 = get_matrix_pi(paths[0])\n",
    "Q2, pi2 = get_matrix_pi(paths[1])"
   ]
  },
  {
   "cell_type": "code",
   "execution_count": 372,
   "metadata": {},
   "outputs": [
    {
     "data": {
      "text/html": [
       "\n",
       "<div class=\"c3table\">\n",
       "\n",
       "<style>\n",
       ".c3table table {margin: 10px 0;}\n",
       ".c3table tr:last-child {border-bottom: 1px solid #000;} \n",
       ".c3table tr > th {text-align: left; padding: 0 5px;}\n",
       ".c3table tr > td {text-align: left; padding: 5px;}\n",
       ".c3table tr:nth-child(even) {background: #f7f7f7 !important;}\n",
       ".c3table .ellipsis {background: rgba(0, 0, 0, .01);}\n",
       ".c3table .index {background: rgba(161, 195, 209, 0.25); margin: 10px; font-weight: 600;}\n",
       ".c3table .head_cell {background: rgba(161, 195, 209, 0.75); font-weight: bold; text-align: center;}\n",
       ".c3table caption {color: rgb(250, 250, 250); background: rgba(30, 140, 200, 1); padding: 3px; white-space: nowrap; caption-side: top;}\n",
       ".c3table .cell_title {font-weight: bold;}\n",
       ".c3col_left { text-align: left !important; display: block;}\n",
       ".c3col_right { text-align: right !important; display: block;}\n",
       ".c3col_center { text-align: center !important; display: block;}\n",
       "</style>\n",
       "\n",
       "<table>\n",
       "\n",
       "<thead class=\"head_cell\">\n",
       "<th></th><th>T</th><th>C</th><th>A</th><th>G</th>\n",
       "</thead>\n",
       "<tbody>\n",
       "<tr><td class=\"index\"><span class=\"c3col_left\">T</span></td><td><span class=\"c3col_right\">-0.0935</span></td><td><span class=\"c3col_right\">0.0148</span></td><td><span class=\"c3col_right\">0.0558</span></td><td><span class=\"c3col_right\">0.0229</span></td></tr>\n",
       "<tr><td class=\"index\"><span class=\"c3col_left\">C</span></td><td><span class=\"c3col_right\">0.0469</span></td><td><span class=\"c3col_right\">-0.0676</span></td><td><span class=\"c3col_right\">0.0108</span></td><td><span class=\"c3col_right\">0.0099</span></td></tr>\n",
       "<tr><td class=\"index\"><span class=\"c3col_left\">A</span></td><td><span class=\"c3col_right\">0.0000</span></td><td><span class=\"c3col_right\">0.0058</span></td><td><span class=\"c3col_right\">-0.0319</span></td><td><span class=\"c3col_right\">0.0261</span></td></tr>\n",
       "<tr><td class=\"index\"><span class=\"c3col_left\">G</span></td><td><span class=\"c3col_right\">0.0000</span></td><td><span class=\"c3col_right\">0.0132</span></td><td><span class=\"c3col_right\">0.0370</span></td><td><span class=\"c3col_right\">-0.0501</span></td></tr>\n",
       "</tbody>\n",
       "</table>\n",
       "\n",
       "</div>"
      ],
      "text/plain": [
       "=============================================\n",
       "           T          C          A          G\n",
       "---------------------------------------------\n",
       "T    -0.0935     0.0148     0.0558     0.0229\n",
       "C     0.0469    -0.0676     0.0108     0.0099\n",
       "A     0.0000     0.0058    -0.0319     0.0261\n",
       "G     0.0000     0.0132     0.0370    -0.0501\n",
       "---------------------------------------------"
      ]
     },
     "execution_count": 372,
     "metadata": {},
     "output_type": "execute_result"
    }
   ],
   "source": [
    "Q1"
   ]
  },
  {
   "cell_type": "code",
   "execution_count": 367,
   "metadata": {},
   "outputs": [],
   "source": [
    "t_range =  np.linspace(0, 0.3, 100)\n",
    "\n",
    "# R = np.array([\n",
    "#     [-4.5,  2.0,  1.0,  1.5],\n",
    "#     [ 2.0, -4.5,  1.5,  1.0],\n",
    "#     [ 1.0,  1.5, -4.5,  2.0],\n",
    "#     [ 1.5,  1.0,  2.0, -4.5]\n",
    "# ])\n",
    "\n",
    "R2 = np.array([\n",
    "    [-4.5,  2.0,  1.0,  1.5],\n",
    "    [ 2.0, -3.5,  0.5,  1.0],\n",
    "    [ 1.0,  0.5, -2.5,  1.0],\n",
    "    [ 0.5,  1.0,  1.0, -2.5]\n",
    "])\n",
    "\n",
    "\n",
    "Q = array([[-1.4, 0.1, 0.4, 0.9], \n",
    "           [4.0, -6.9, 0.9, 2.0], \n",
    "           [6.3, 2.0, -11.3, 3.0], \n",
    "           [0.7,0.1, 0.2, -1]], dtype=float)\n",
    "i = np.array([0.25, 0.25, 0.25, 0.25])\n",
    "\n",
    "\n",
    "\n"
   ]
  },
  {
   "cell_type": "code",
   "execution_count": 370,
   "metadata": {},
   "outputs": [
    {
     "name": "stdout",
     "output_type": "stream",
     "text": [
      "Stationary distribution pi: [0.43712579 0.02142362 0.02629754 0.51515306]\n"
     ]
    }
   ],
   "source": [
    "# Add an additional equation to account for the sum of pi elements being 1\n",
    "A = np.vstack([Q.T, np.ones(Q.shape[0])])\n",
    "\n",
    "# Right-hand side of the equations\n",
    "b = np.zeros(Q.shape[0] + 1)\n",
    "b[-1] = 1  # The sum of pi elements is 1\n",
    "\n",
    "# Solve for pi\n",
    "pi = np.linalg.lstsq(A, b, rcond=None)[0]\n",
    "\n",
    "print(\"Stationary distribution pi:\", pi)\n",
    "\n",
    "\n"
   ]
  },
  {
   "cell_type": "code",
   "execution_count": 247,
   "metadata": {},
   "outputs": [
    {
     "name": "stdout",
     "output_type": "stream",
     "text": [
      "Best p: [0.01 0.01 0.97 0.01]\n",
      "Largest d: 13.025007562377843\n"
     ]
    }
   ],
   "source": [
    "# Function to calculate d\n",
    "def calculate_d(p, R):\n",
    "    return np.linalg.norm(np.dot(p, R))\n",
    "\n",
    "# Settings for grid search\n",
    "resolution = 10\n",
    "min_val = 0.01  # Minimum value for each element in p to avoid extreme cases\n",
    "largest_d = -np.inf\n",
    "best_p = None\n",
    "\n",
    "# Adjusted search to ensure all elements are non-zero and sum to 1\n",
    "for a in np.linspace(min_val, 1 - 3*min_val, resolution):\n",
    "    for b in np.linspace(min_val, 1 - 2*min_val - a, resolution):\n",
    "        for c in np.linspace(min_val, 1 - min_val - a - b, resolution):\n",
    "            d = 1 - (a + b + c)  # Remaining value to ensure sum(p) = 1\n",
    "            if d >= min_val:  # Check if the last value is also above the minimum\n",
    "                p = np.array([a, b, c, d])\n",
    "                current_d = calculate_d(p, Q)\n",
    "                if current_d > largest_d:\n",
    "                    largest_d = current_d\n",
    "                    best_p = p\n",
    "\n",
    "print(\"Best p:\", best_p)\n",
    "print(\"Largest d:\", largest_d)"
   ]
  },
  {
   "cell_type": "code",
   "execution_count": 350,
   "metadata": {},
   "outputs": [],
   "source": [
    "\n",
    "s_exp_numb_sub_value_1 = list()\n",
    "n_exp_numb_sub_value_1 = list()\n",
    "\n",
    "for t in t_range:\n",
    "    s_exp_numb_sub_value_1.append(expected_number_subs(pi, Q, t))\n",
    "\n",
    "\n",
    "for t in t_range:\n",
    "    n_exp_numb_sub_value_1.append(expected_number_subs(d, Q, t))\n",
    "\n",
    "\n",
    "# s_exp_numb_sub_value_2 = list()\n",
    "# n_exp_numb_sub_value_2 = list()\n",
    "\n",
    "# for t in t_range:\n",
    "#     s_exp_numb_sub_value_2.append(expected_number_subs(i, R, t))\n",
    "\n",
    "\n",
    "# for t in t_range:\n",
    "#     n_exp_numb_sub_value_2.append(expected_number_subs(best_p, R, t)) \n",
    "\n"
   ]
  },
  {
   "cell_type": "code",
   "execution_count": 373,
   "metadata": {},
   "outputs": [
    {
     "name": "stderr",
     "output_type": "stream",
     "text": [
      "/Users/gulugulu/opt/anaconda3/envs/c312/lib/python3.12/site-packages/plotly/express/_core.py:2065: FutureWarning:\n",
      "\n",
      "When grouping with a length-1 list-like, you will need to pass a length-1 tuple to get_group in a future version of pandas. Pass `(name,)` instead of `name` to silence this warning.\n",
      "\n"
     ]
    },
    {
     "data": {
      "application/vnd.plotly.v1+json": {
       "config": {
        "plotlyServerURL": "https://plot.ly"
       },
       "data": [
        {
         "hovertemplate": "series=Stationary<br>t=%{x}<br>ENS=%{y}<extra></extra>",
         "legendgroup": "Stationary",
         "line": {
          "color": "#636efa",
          "dash": "solid",
          "width": 5
         },
         "marker": {
          "symbol": "circle"
         },
         "mode": "lines",
         "name": "Stationary",
         "orientation": "v",
         "showlegend": true,
         "type": "scatter",
         "x": [
          0,
          0.0030303030303030303,
          0.006060606060606061,
          0.00909090909090909,
          0.012121212121212121,
          0.015151515151515152,
          0.01818181818181818,
          0.021212121212121213,
          0.024242424242424242,
          0.02727272727272727,
          0.030303030303030304,
          0.03333333333333333,
          0.03636363636363636,
          0.03939393939393939,
          0.04242424242424243,
          0.045454545454545456,
          0.048484848484848485,
          0.051515151515151514,
          0.05454545454545454,
          0.05757575757575758,
          0.06060606060606061,
          0.06363636363636363,
          0.06666666666666667,
          0.0696969696969697,
          0.07272727272727272,
          0.07575757575757576,
          0.07878787878787878,
          0.08181818181818182,
          0.08484848484848485,
          0.08787878787878788,
          0.09090909090909091,
          0.09393939393939393,
          0.09696969696969697,
          0.1,
          0.10303030303030303,
          0.10606060606060606,
          0.10909090909090909,
          0.11212121212121212,
          0.11515151515151516,
          0.11818181818181818,
          0.12121212121212122,
          0.12424242424242424,
          0.12727272727272726,
          0.1303030303030303,
          0.13333333333333333,
          0.13636363636363635,
          0.1393939393939394,
          0.14242424242424243,
          0.14545454545454545,
          0.1484848484848485,
          0.15151515151515152,
          0.15454545454545454,
          0.15757575757575756,
          0.1606060606060606,
          0.16363636363636364,
          0.16666666666666666,
          0.1696969696969697,
          0.17272727272727273,
          0.17575757575757575,
          0.1787878787878788,
          0.18181818181818182,
          0.18484848484848485,
          0.18787878787878787,
          0.19090909090909092,
          0.19393939393939394,
          0.19696969696969696,
          0.2,
          0.20303030303030303,
          0.20606060606060606,
          0.20909090909090908,
          0.21212121212121213,
          0.21515151515151515,
          0.21818181818181817,
          0.22121212121212122,
          0.22424242424242424,
          0.22727272727272727,
          0.23030303030303031,
          0.23333333333333334,
          0.23636363636363636,
          0.23939393939393938,
          0.24242424242424243,
          0.24545454545454545,
          0.24848484848484848,
          0.2515151515151515,
          0.2545454545454545,
          0.25757575757575757,
          0.2606060606060606,
          0.2636363636363636,
          0.26666666666666666,
          0.2696969696969697,
          0.2727272727272727,
          0.27575757575757576,
          0.2787878787878788,
          0.2818181818181818,
          0.28484848484848485,
          0.2878787878787879,
          0.2909090909090909,
          0.29393939393939394,
          0.296969696969697,
          0.3
         ],
         "xaxis": "x",
         "y": [
          0,
          0.004763982732461319,
          0.009527965464922638,
          0.014291948197383955,
          0.019055930929845272,
          0.023819913662306597,
          0.02858389639476791,
          0.03334787912722923,
          0.03811186185969055,
          0.042875844592151865,
          0.047639827324613186,
          0.0524038100570745,
          0.05716779278953582,
          0.06193177552199715,
          0.06669575825445846,
          0.07145974098691976,
          0.07622372371938109,
          0.08098770645184242,
          0.08575168918430373,
          0.09051567191676506,
          0.09527965464922637,
          0.10004363738168767,
          0.10480762011414899,
          0.10957160284661033,
          0.11433558557907163,
          0.11909956831153293,
          0.12386355104399427,
          0.12862753377645558,
          0.1333915165089169,
          0.1381554992413782,
          0.14291948197383952,
          0.14768346470630084,
          0.15244744743876218,
          0.1572114301712235,
          0.1619754129036848,
          0.16673939563614612,
          0.1715033783686074,
          0.17626736110106878,
          0.1810313438335301,
          0.18579532656599138,
          0.19055930929845272,
          0.195323292030914,
          0.20008727476337534,
          0.20485125749583666,
          0.20961524022829794,
          0.21437922296075929,
          0.21914320569322063,
          0.22390718842568189,
          0.22867117115814323,
          0.23343515389060457,
          0.23819913662306585,
          0.2429631193555271,
          0.24772710208798848,
          0.25249108482044985,
          0.25725506755291117,
          0.2620190502853724,
          0.2667830330178338,
          0.2715470157502951,
          0.27631099848275636,
          0.28107498121521773,
          0.285838963947679,
          0.2906029466801403,
          0.2953669294126017,
          0.300130912145063,
          0.3048948948775243,
          0.30965887760998556,
          0.31442286034244693,
          0.3191868430749082,
          0.32395082580736956,
          0.3287148085398308,
          0.3334787912722922,
          0.3382427740047535,
          0.3430067567372148,
          0.3477707394696762,
          0.35253472220213744,
          0.35729870493459875,
          0.3620626876670602,
          0.36682667039952144,
          0.3715906531319827,
          0.376354635864444,
          0.3811186185969053,
          0.3858826013293667,
          0.39064658406182795,
          0.3954105667942893,
          0.4001745495267506,
          0.40493853225921195,
          0.4097025149916732,
          0.41446649772413446,
          0.4192304804565959,
          0.4239944631890572,
          0.42875844592151846,
          0.43352242865397983,
          0.43828641138644114,
          0.4430503941189024,
          0.4478143768513637,
          0.4525783595838251,
          0.45734234231628634,
          0.4621063250487477,
          0.4668703077812091,
          0.4716342905136703
         ],
         "yaxis": "y"
        },
        {
         "hovertemplate": "series=Non-Stationary<br>t=%{x}<br>ENS=%{y}<extra></extra>",
         "legendgroup": "Non-Stationary",
         "line": {
          "color": "#EF553B",
          "dash": "solid",
          "width": 5
         },
         "marker": {
          "symbol": "circle"
         },
         "mode": "lines",
         "name": "Non-Stationary",
         "orientation": "v",
         "showlegend": true,
         "type": "scatter",
         "x": [
          0,
          0.0030303030303030303,
          0.006060606060606061,
          0.00909090909090909,
          0.012121212121212121,
          0.015151515151515152,
          0.01818181818181818,
          0.021212121212121213,
          0.024242424242424242,
          0.02727272727272727,
          0.030303030303030304,
          0.03333333333333333,
          0.03636363636363636,
          0.03939393939393939,
          0.04242424242424243,
          0.045454545454545456,
          0.048484848484848485,
          0.051515151515151514,
          0.05454545454545454,
          0.05757575757575758,
          0.06060606060606061,
          0.06363636363636363,
          0.06666666666666667,
          0.0696969696969697,
          0.07272727272727272,
          0.07575757575757576,
          0.07878787878787878,
          0.08181818181818182,
          0.08484848484848485,
          0.08787878787878788,
          0.09090909090909091,
          0.09393939393939393,
          0.09696969696969697,
          0.1,
          0.10303030303030303,
          0.10606060606060606,
          0.10909090909090909,
          0.11212121212121212,
          0.11515151515151516,
          0.11818181818181818,
          0.12121212121212122,
          0.12424242424242424,
          0.12727272727272726,
          0.1303030303030303,
          0.13333333333333333,
          0.13636363636363635,
          0.1393939393939394,
          0.14242424242424243,
          0.14545454545454545,
          0.1484848484848485,
          0.15151515151515152,
          0.15454545454545454,
          0.15757575757575756,
          0.1606060606060606,
          0.16363636363636364,
          0.16666666666666666,
          0.1696969696969697,
          0.17272727272727273,
          0.17575757575757575,
          0.1787878787878788,
          0.18181818181818182,
          0.18484848484848485,
          0.18787878787878787,
          0.19090909090909092,
          0.19393939393939394,
          0.19696969696969696,
          0.2,
          0.20303030303030303,
          0.20606060606060606,
          0.20909090909090908,
          0.21212121212121213,
          0.21515151515151515,
          0.21818181818181817,
          0.22121212121212122,
          0.22424242424242424,
          0.22727272727272727,
          0.23030303030303031,
          0.23333333333333334,
          0.23636363636363636,
          0.23939393939393938,
          0.24242424242424243,
          0.24545454545454545,
          0.24848484848484848,
          0.2515151515151515,
          0.2545454545454545,
          0.25757575757575757,
          0.2606060606060606,
          0.2636363636363636,
          0.26666666666666666,
          0.2696969696969697,
          0.2727272727272727,
          0.27575757575757576,
          0.2787878787878788,
          0.2818181818181818,
          0.28484848484848485,
          0.2878787878787879,
          0.2909090909090909,
          0.29393939393939394,
          0.296969696969697,
          0.3
         ],
         "xaxis": "x",
         "y": [
          0,
          0.017948250407019056,
          0.035557158583267766,
          0.05283636971185553,
          0.06979523461033904,
          0.08644281919211291,
          0.1027879136126641,
          0.11883904111143201,
          0.1346044665596447,
          0.1500922047241423,
          0.1653100282568551,
          0.1802654754192659,
          0.19496585755086887,
          0.20941826629032192,
          0.2236295805576912,
          0.23760647330589704,
          0.2513554180491902,
          0.26488269517621676,
          0.27819439805497176,
          0.29129643893668733,
          0.3041945546654605,
          0.3168943122001916,
          0.3294011139551748,
          0.34172020296547084,
          0.35385666788297243,
          0.36581544780887865,
          0.37760133696809045,
          0.38921898923085574,
          0.4006729224868063,
          0.411967522876354,
          0.4231070488842415,
          0.4340956352998816,
          0.44493729704895635,
          0.45563593290059656,
          0.46619532905431404,
          0.4766191626107167,
          0.48691100492989436,
          0.4970743248812388,
          0.5071124919883223,
          0.5170287794723452,
          0.526826367197536,
          0.536508344521774,
          0.5460777130555964,
          0.5555373893326367,
          0.5648902073944451,
          0.5741389212925381,
          0.5832862075104223,
          0.592334667308254,
          0.6012868289926998,
          0.6101451501144719,
          0.6189120195959406,
          0.6275897597911291,
          0.6361806284803333,
          0.6446868208015171,
          0.6531104711205755,
          0.6614536548424789,
          0.6697183901652427,
          0.6779066397786061,
          0.6860203125092372,
          0.6940612649142188,
          0.7020313028245115,
          0.7099321828400373,
          0.7177656137779607,
          0.7255332580757049,
          0.7332367331501779,
          0.7408776127146398,
          0.748457428054591,
          0.7559776692640172,
          0.7634397864432805,
          0.7708451908599039,
          0.7781952560734532,
          0.78549131902568,
          0.7927346810970548,
          0.7999266091307702,
          0.8070683364252775,
          0.814161063696359,
          0.821205960009729,
          0.8282041636851085,
          0.8351567831726902,
          0.8420648979028853,
          0.8489295591102035,
          0.8557517906321024,
          0.8625325896836031,
          0.8692729276084458,
          0.8759737506075401,
          0.8826359804454306,
          0.8892605151354762,
          0.8958482296044261,
          0.9023999763370414,
          0.9089165860013992,
          0.9153988680554901,
          0.9218476113357009,
          0.9282635846277549,
          0.9346475372206651,
          0.941000199444234,
          0.9473222831906174,
          0.9536144824204551,
          0.9598774736540535,
          0.9661119164480829,
          0.9723184538582508
         ],
         "yaxis": "y"
        }
       ],
       "layout": {
        "font": {
         "size": 25
        },
        "height": 600,
        "legend": {
         "orientation": "h",
         "title": {
          "font": {
           "size": 18
          },
          "text": ""
         },
         "tracegroupgap": 0,
         "x": 0.5,
         "xanchor": "center",
         "y": -0.25,
         "yanchor": "bottom"
        },
        "margin": {
         "t": 60
        },
        "template": {
         "data": {
          "bar": [
           {
            "error_x": {
             "color": "#2a3f5f"
            },
            "error_y": {
             "color": "#2a3f5f"
            },
            "marker": {
             "line": {
              "color": "#E5ECF6",
              "width": 0.5
             },
             "pattern": {
              "fillmode": "overlay",
              "size": 10,
              "solidity": 0.2
             }
            },
            "type": "bar"
           }
          ],
          "barpolar": [
           {
            "marker": {
             "line": {
              "color": "#E5ECF6",
              "width": 0.5
             },
             "pattern": {
              "fillmode": "overlay",
              "size": 10,
              "solidity": 0.2
             }
            },
            "type": "barpolar"
           }
          ],
          "carpet": [
           {
            "aaxis": {
             "endlinecolor": "#2a3f5f",
             "gridcolor": "white",
             "linecolor": "white",
             "minorgridcolor": "white",
             "startlinecolor": "#2a3f5f"
            },
            "baxis": {
             "endlinecolor": "#2a3f5f",
             "gridcolor": "white",
             "linecolor": "white",
             "minorgridcolor": "white",
             "startlinecolor": "#2a3f5f"
            },
            "type": "carpet"
           }
          ],
          "choropleth": [
           {
            "colorbar": {
             "outlinewidth": 0,
             "ticks": ""
            },
            "type": "choropleth"
           }
          ],
          "contour": [
           {
            "colorbar": {
             "outlinewidth": 0,
             "ticks": ""
            },
            "colorscale": [
             [
              0,
              "#0d0887"
             ],
             [
              0.1111111111111111,
              "#46039f"
             ],
             [
              0.2222222222222222,
              "#7201a8"
             ],
             [
              0.3333333333333333,
              "#9c179e"
             ],
             [
              0.4444444444444444,
              "#bd3786"
             ],
             [
              0.5555555555555556,
              "#d8576b"
             ],
             [
              0.6666666666666666,
              "#ed7953"
             ],
             [
              0.7777777777777778,
              "#fb9f3a"
             ],
             [
              0.8888888888888888,
              "#fdca26"
             ],
             [
              1,
              "#f0f921"
             ]
            ],
            "type": "contour"
           }
          ],
          "contourcarpet": [
           {
            "colorbar": {
             "outlinewidth": 0,
             "ticks": ""
            },
            "type": "contourcarpet"
           }
          ],
          "heatmap": [
           {
            "colorbar": {
             "outlinewidth": 0,
             "ticks": ""
            },
            "colorscale": [
             [
              0,
              "#0d0887"
             ],
             [
              0.1111111111111111,
              "#46039f"
             ],
             [
              0.2222222222222222,
              "#7201a8"
             ],
             [
              0.3333333333333333,
              "#9c179e"
             ],
             [
              0.4444444444444444,
              "#bd3786"
             ],
             [
              0.5555555555555556,
              "#d8576b"
             ],
             [
              0.6666666666666666,
              "#ed7953"
             ],
             [
              0.7777777777777778,
              "#fb9f3a"
             ],
             [
              0.8888888888888888,
              "#fdca26"
             ],
             [
              1,
              "#f0f921"
             ]
            ],
            "type": "heatmap"
           }
          ],
          "heatmapgl": [
           {
            "colorbar": {
             "outlinewidth": 0,
             "ticks": ""
            },
            "colorscale": [
             [
              0,
              "#0d0887"
             ],
             [
              0.1111111111111111,
              "#46039f"
             ],
             [
              0.2222222222222222,
              "#7201a8"
             ],
             [
              0.3333333333333333,
              "#9c179e"
             ],
             [
              0.4444444444444444,
              "#bd3786"
             ],
             [
              0.5555555555555556,
              "#d8576b"
             ],
             [
              0.6666666666666666,
              "#ed7953"
             ],
             [
              0.7777777777777778,
              "#fb9f3a"
             ],
             [
              0.8888888888888888,
              "#fdca26"
             ],
             [
              1,
              "#f0f921"
             ]
            ],
            "type": "heatmapgl"
           }
          ],
          "histogram": [
           {
            "marker": {
             "pattern": {
              "fillmode": "overlay",
              "size": 10,
              "solidity": 0.2
             }
            },
            "type": "histogram"
           }
          ],
          "histogram2d": [
           {
            "colorbar": {
             "outlinewidth": 0,
             "ticks": ""
            },
            "colorscale": [
             [
              0,
              "#0d0887"
             ],
             [
              0.1111111111111111,
              "#46039f"
             ],
             [
              0.2222222222222222,
              "#7201a8"
             ],
             [
              0.3333333333333333,
              "#9c179e"
             ],
             [
              0.4444444444444444,
              "#bd3786"
             ],
             [
              0.5555555555555556,
              "#d8576b"
             ],
             [
              0.6666666666666666,
              "#ed7953"
             ],
             [
              0.7777777777777778,
              "#fb9f3a"
             ],
             [
              0.8888888888888888,
              "#fdca26"
             ],
             [
              1,
              "#f0f921"
             ]
            ],
            "type": "histogram2d"
           }
          ],
          "histogram2dcontour": [
           {
            "colorbar": {
             "outlinewidth": 0,
             "ticks": ""
            },
            "colorscale": [
             [
              0,
              "#0d0887"
             ],
             [
              0.1111111111111111,
              "#46039f"
             ],
             [
              0.2222222222222222,
              "#7201a8"
             ],
             [
              0.3333333333333333,
              "#9c179e"
             ],
             [
              0.4444444444444444,
              "#bd3786"
             ],
             [
              0.5555555555555556,
              "#d8576b"
             ],
             [
              0.6666666666666666,
              "#ed7953"
             ],
             [
              0.7777777777777778,
              "#fb9f3a"
             ],
             [
              0.8888888888888888,
              "#fdca26"
             ],
             [
              1,
              "#f0f921"
             ]
            ],
            "type": "histogram2dcontour"
           }
          ],
          "mesh3d": [
           {
            "colorbar": {
             "outlinewidth": 0,
             "ticks": ""
            },
            "type": "mesh3d"
           }
          ],
          "parcoords": [
           {
            "line": {
             "colorbar": {
              "outlinewidth": 0,
              "ticks": ""
             }
            },
            "type": "parcoords"
           }
          ],
          "pie": [
           {
            "automargin": true,
            "type": "pie"
           }
          ],
          "scatter": [
           {
            "fillpattern": {
             "fillmode": "overlay",
             "size": 10,
             "solidity": 0.2
            },
            "type": "scatter"
           }
          ],
          "scatter3d": [
           {
            "line": {
             "colorbar": {
              "outlinewidth": 0,
              "ticks": ""
             }
            },
            "marker": {
             "colorbar": {
              "outlinewidth": 0,
              "ticks": ""
             }
            },
            "type": "scatter3d"
           }
          ],
          "scattercarpet": [
           {
            "marker": {
             "colorbar": {
              "outlinewidth": 0,
              "ticks": ""
             }
            },
            "type": "scattercarpet"
           }
          ],
          "scattergeo": [
           {
            "marker": {
             "colorbar": {
              "outlinewidth": 0,
              "ticks": ""
             }
            },
            "type": "scattergeo"
           }
          ],
          "scattergl": [
           {
            "marker": {
             "colorbar": {
              "outlinewidth": 0,
              "ticks": ""
             }
            },
            "type": "scattergl"
           }
          ],
          "scattermapbox": [
           {
            "marker": {
             "colorbar": {
              "outlinewidth": 0,
              "ticks": ""
             }
            },
            "type": "scattermapbox"
           }
          ],
          "scatterpolar": [
           {
            "marker": {
             "colorbar": {
              "outlinewidth": 0,
              "ticks": ""
             }
            },
            "type": "scatterpolar"
           }
          ],
          "scatterpolargl": [
           {
            "marker": {
             "colorbar": {
              "outlinewidth": 0,
              "ticks": ""
             }
            },
            "type": "scatterpolargl"
           }
          ],
          "scatterternary": [
           {
            "marker": {
             "colorbar": {
              "outlinewidth": 0,
              "ticks": ""
             }
            },
            "type": "scatterternary"
           }
          ],
          "surface": [
           {
            "colorbar": {
             "outlinewidth": 0,
             "ticks": ""
            },
            "colorscale": [
             [
              0,
              "#0d0887"
             ],
             [
              0.1111111111111111,
              "#46039f"
             ],
             [
              0.2222222222222222,
              "#7201a8"
             ],
             [
              0.3333333333333333,
              "#9c179e"
             ],
             [
              0.4444444444444444,
              "#bd3786"
             ],
             [
              0.5555555555555556,
              "#d8576b"
             ],
             [
              0.6666666666666666,
              "#ed7953"
             ],
             [
              0.7777777777777778,
              "#fb9f3a"
             ],
             [
              0.8888888888888888,
              "#fdca26"
             ],
             [
              1,
              "#f0f921"
             ]
            ],
            "type": "surface"
           }
          ],
          "table": [
           {
            "cells": {
             "fill": {
              "color": "#EBF0F8"
             },
             "line": {
              "color": "white"
             }
            },
            "header": {
             "fill": {
              "color": "#C8D4E3"
             },
             "line": {
              "color": "white"
             }
            },
            "type": "table"
           }
          ]
         },
         "layout": {
          "annotationdefaults": {
           "arrowcolor": "#2a3f5f",
           "arrowhead": 0,
           "arrowwidth": 1
          },
          "autotypenumbers": "strict",
          "coloraxis": {
           "colorbar": {
            "outlinewidth": 0,
            "ticks": ""
           }
          },
          "colorscale": {
           "diverging": [
            [
             0,
             "#8e0152"
            ],
            [
             0.1,
             "#c51b7d"
            ],
            [
             0.2,
             "#de77ae"
            ],
            [
             0.3,
             "#f1b6da"
            ],
            [
             0.4,
             "#fde0ef"
            ],
            [
             0.5,
             "#f7f7f7"
            ],
            [
             0.6,
             "#e6f5d0"
            ],
            [
             0.7,
             "#b8e186"
            ],
            [
             0.8,
             "#7fbc41"
            ],
            [
             0.9,
             "#4d9221"
            ],
            [
             1,
             "#276419"
            ]
           ],
           "sequential": [
            [
             0,
             "#0d0887"
            ],
            [
             0.1111111111111111,
             "#46039f"
            ],
            [
             0.2222222222222222,
             "#7201a8"
            ],
            [
             0.3333333333333333,
             "#9c179e"
            ],
            [
             0.4444444444444444,
             "#bd3786"
            ],
            [
             0.5555555555555556,
             "#d8576b"
            ],
            [
             0.6666666666666666,
             "#ed7953"
            ],
            [
             0.7777777777777778,
             "#fb9f3a"
            ],
            [
             0.8888888888888888,
             "#fdca26"
            ],
            [
             1,
             "#f0f921"
            ]
           ],
           "sequentialminus": [
            [
             0,
             "#0d0887"
            ],
            [
             0.1111111111111111,
             "#46039f"
            ],
            [
             0.2222222222222222,
             "#7201a8"
            ],
            [
             0.3333333333333333,
             "#9c179e"
            ],
            [
             0.4444444444444444,
             "#bd3786"
            ],
            [
             0.5555555555555556,
             "#d8576b"
            ],
            [
             0.6666666666666666,
             "#ed7953"
            ],
            [
             0.7777777777777778,
             "#fb9f3a"
            ],
            [
             0.8888888888888888,
             "#fdca26"
            ],
            [
             1,
             "#f0f921"
            ]
           ]
          },
          "colorway": [
           "#636efa",
           "#EF553B",
           "#00cc96",
           "#ab63fa",
           "#FFA15A",
           "#19d3f3",
           "#FF6692",
           "#B6E880",
           "#FF97FF",
           "#FECB52"
          ],
          "font": {
           "color": "#2a3f5f"
          },
          "geo": {
           "bgcolor": "white",
           "lakecolor": "white",
           "landcolor": "#E5ECF6",
           "showlakes": true,
           "showland": true,
           "subunitcolor": "white"
          },
          "hoverlabel": {
           "align": "left"
          },
          "hovermode": "closest",
          "mapbox": {
           "style": "light"
          },
          "paper_bgcolor": "white",
          "plot_bgcolor": "#E5ECF6",
          "polar": {
           "angularaxis": {
            "gridcolor": "white",
            "linecolor": "white",
            "ticks": ""
           },
           "bgcolor": "#E5ECF6",
           "radialaxis": {
            "gridcolor": "white",
            "linecolor": "white",
            "ticks": ""
           }
          },
          "scene": {
           "xaxis": {
            "backgroundcolor": "#E5ECF6",
            "gridcolor": "white",
            "gridwidth": 2,
            "linecolor": "white",
            "showbackground": true,
            "ticks": "",
            "zerolinecolor": "white"
           },
           "yaxis": {
            "backgroundcolor": "#E5ECF6",
            "gridcolor": "white",
            "gridwidth": 2,
            "linecolor": "white",
            "showbackground": true,
            "ticks": "",
            "zerolinecolor": "white"
           },
           "zaxis": {
            "backgroundcolor": "#E5ECF6",
            "gridcolor": "white",
            "gridwidth": 2,
            "linecolor": "white",
            "showbackground": true,
            "ticks": "",
            "zerolinecolor": "white"
           }
          },
          "shapedefaults": {
           "line": {
            "color": "#2a3f5f"
           }
          },
          "ternary": {
           "aaxis": {
            "gridcolor": "white",
            "linecolor": "white",
            "ticks": ""
           },
           "baxis": {
            "gridcolor": "white",
            "linecolor": "white",
            "ticks": ""
           },
           "bgcolor": "#E5ECF6",
           "caxis": {
            "gridcolor": "white",
            "linecolor": "white",
            "ticks": ""
           }
          },
          "title": {
           "x": 0.05
          },
          "xaxis": {
           "automargin": true,
           "gridcolor": "white",
           "linecolor": "white",
           "ticks": "",
           "title": {
            "standoff": 15
           },
           "zerolinecolor": "white",
           "zerolinewidth": 2
          },
          "yaxis": {
           "automargin": true,
           "gridcolor": "white",
           "linecolor": "white",
           "ticks": "",
           "title": {
            "standoff": 15
           },
           "zerolinecolor": "white",
           "zerolinewidth": 2
          }
         }
        },
        "width": 600,
        "xaxis": {
         "anchor": "y",
         "domain": [
          0,
          1
         ],
         "tickfont": {
          "size": 20
         },
         "title": {
          "font": {
           "size": 25
          },
          "text": "t"
         }
        },
        "yaxis": {
         "anchor": "x",
         "domain": [
          0,
          1
         ],
         "tickfont": {
          "size": 20
         },
         "title": {
          "font": {
           "size": 25
          },
          "text": "ENS"
         }
        }
       }
      }
     },
     "metadata": {},
     "output_type": "display_data"
    }
   ],
   "source": [
    "import plotly.express as px\n",
    "\n",
    "# Assuming t_range, s_exp_numb_sub_value_1, and n_exp_numb_sub_value_1 are defined elsewhere in your code\n",
    "\n",
    "data1 = []\n",
    "for i, t in enumerate(t_range):\n",
    "    data1.append({'t': t, 'value': s_exp_numb_sub_value_1[i], 'series': 'Stationary'})\n",
    "    data1.append({'t': t, 'value': n_exp_numb_sub_value_1[i], 'series': 'Non-Stationary'})\n",
    "\n",
    "# Plotting with Plotly Express\n",
    "fig = px.line(data1, x='t', y='value', color='series', labels={'value': 'ENS'})\n",
    "fig.update_traces(line=dict(width=5))\n",
    "\n",
    "# Setting plot aspect to equal (makes width and height equal)\n",
    "fig.update_layout(width=600, height=600, legend_title_text='')\n",
    "\n",
    "# Remove the legend title\n",
    "fig.update_layout(legend_title_text='')\n",
    "\n",
    "fig.update_layout(\n",
    "    xaxis_title='t',\n",
    "    yaxis_title='ENS',\n",
    "    font=dict(\n",
    "        size=25\n",
    "    )\n",
    ")\n",
    "\n",
    "# Update legend title font size\n",
    "fig.update_layout(legend_title_font=dict(size=18))\n",
    "\n",
    "# Update axis label font size\n",
    "fig.update_layout(\n",
    "    xaxis=dict(\n",
    "        title_font=dict(size=25),\n",
    "        tickfont=dict(size=20),\n",
    "    ),\n",
    "    yaxis=dict(\n",
    "        title_font=dict(size=25),\n",
    "        tickfont=dict(size=20),\n",
    "    )\n",
    ")\n",
    "\n",
    "# Move the legend to the bottom\n",
    "fig.update_layout(legend=dict(\n",
    "    orientation='h',\n",
    "    yanchor='bottom',\n",
    "    y=-0.25,  # Adjust this value as needed to move the legend up or down\n",
    "    xanchor='center',\n",
    "    x=0.5  # Adjust this value as needed to move the legend left or right\n",
    "))\n",
    "\n",
    "fig.show()\n"
   ]
  },
  {
   "cell_type": "code",
   "execution_count": 255,
   "metadata": {},
   "outputs": [
    {
     "name": "stdout",
     "output_type": "stream",
     "text": [
      "Linear regression for s_exp_numb_sub_value:\n",
      "Slope: 1.5721143017122345, Intercept: 2.7755575615628914e-17, R-squared: 1.0, P-value: 0.0\n",
      "Linear regression for n_exp_numb_sub_value_1:\n",
      "Slope: 2.7920253113979694, Intercept: 0.08856288220741321, R-squared: 0.9830997943925857, P-value: 1.1900169403353296e-88\n"
     ]
    }
   ],
   "source": [
    "# from scipy.stats import linregress\n",
    "\n",
    "# # Perform linear regression for s_exp_numb_sub_value\n",
    "# slope_s, intercept_s, r_value_s, p_value_s, std_err_s = linregress(t_range, s_exp_numb_sub_value_1)\n",
    "# print(\"Linear regression for s_exp_numb_sub_value:\")\n",
    "# print(f\"Slope: {slope_s}, Intercept: {intercept_s}, R-squared: {r_value_s**2}, P-value: {p_value_s}\")\n",
    "\n",
    "# # Perform linear regression for n_exp_numb_sub_value_1\n",
    "# slope_n1, intercept_n1, r_value_n1, p_value_n1, std_err_n1 = linregress(t_range, n_exp_numb_sub_value_1)\n",
    "# print(\"Linear regression for n_exp_numb_sub_value_1:\")\n",
    "# print(f\"Slope: {slope_n1}, Intercept: {intercept_n1}, R-squared: {r_value_n1**2}, P-value: {p_value_n1}\")"
   ]
  }
 ],
 "metadata": {
  "kernelspec": {
   "display_name": "c312",
   "language": "python",
   "name": "python3"
  },
  "language_info": {
   "codemirror_mode": {
    "name": "ipython",
    "version": 3
   },
   "file_extension": ".py",
   "mimetype": "text/x-python",
   "name": "python",
   "nbconvert_exporter": "python",
   "pygments_lexer": "ipython3",
   "version": "3.12.1"
  }
 },
 "nbformat": 4,
 "nbformat_minor": 2
}
