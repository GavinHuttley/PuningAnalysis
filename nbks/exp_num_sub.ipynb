{
 "cells": [
  {
   "cell_type": "code",
   "execution_count": 1,
   "metadata": {},
   "outputs": [],
   "source": [
    "from cogent3.maths.matrix_exponential_integration import expected_number_subs\n",
    "from cogent3 import get_app, load_aligned_seqs\n",
    "import numpy as np\n",
    "\n",
    "from numpy import array\n",
    "\n",
    "GTR_model = get_app(\"model\", sm = \"GTR\", \n",
    "                unique_trees = True, time_het = \"max\", optimise_motif_probs = True, \n",
    "                show_progress = False, opt_args = dict(max_restarts=5))\n",
    "\n",
    "no_degenerates = get_app(\n",
    "    \"omit_degenerates\",\n",
    "    moltype = None,\n",
    "    gap_is_degen = True,\n",
    "    motif_length = 1,\n",
    ")\n",
    "\n"
   ]
  },
  {
   "cell_type": "code",
   "execution_count": 2,
   "metadata": {},
   "outputs": [],
   "source": [
    "import pathlib\n",
    "paths = list(pathlib.Path(\"../data/16s-10\").glob(\"**/*.json\"))"
   ]
  },
  {
   "cell_type": "code",
   "execution_count": 3,
   "metadata": {},
   "outputs": [],
   "source": [
    "def get_matrix_pi(path):\n",
    "    aln = load_aligned_seqs(path)\n",
    "    aln1 = no_degenerates(aln)\n",
    "    result = GTR_model(aln1)\n",
    "    edge_name = result.tree.get_node_names(includeself = False)[0]\n",
    "    Q = result.lf.get_rate_matrix_for_edge(edge_name, calibrated=False)\n",
    "    pi = result.lf.get_motif_probs()\n",
    "    return Q, pi\n"
   ]
  },
  {
   "cell_type": "code",
   "execution_count": 4,
   "metadata": {},
   "outputs": [],
   "source": [
    "Q1, pi1 = get_matrix_pi(paths[0])\n",
    "Q2, pi2 = get_matrix_pi(paths[1])"
   ]
  },
  {
   "cell_type": "code",
   "execution_count": 214,
   "metadata": {},
   "outputs": [],
   "source": [
    "t_range =  np.linspace(0, 0.3, 100)\n",
    "\n",
    "# R = np.array([\n",
    "#     [-4.5,  2.0,  1.0,  1.5],\n",
    "#     [ 2.0, -4.5,  1.5,  1.0],\n",
    "#     [ 1.0,  1.5, -4.5,  2.0],\n",
    "#     [ 1.5,  1.0,  2.0, -4.5]\n",
    "# ])\n",
    "\n",
    "Q = array([[-1.4, 0.1, 0.4, 0.9], \n",
    "           [4.0, -6.9, 0.9, 2.0], \n",
    "           [6.3, 2.0, -11.3, 3.0], \n",
    "           [0.7,0.1, 0.2, -1]], dtype=float)\n",
    "i = [0.25, 0.25, 0.25, 0.25]\n",
    "\n"
   ]
  },
  {
   "cell_type": "code",
   "execution_count": 215,
   "metadata": {},
   "outputs": [
    {
     "name": "stdout",
     "output_type": "stream",
     "text": [
      "Stationary distribution pi: [0.43712579 0.02142362 0.02629754 0.51515306]\n"
     ]
    }
   ],
   "source": [
    "# Add an additional equation to account for the sum of pi elements being 1\n",
    "A = np.vstack([Q.T, np.ones(Q.shape[0])])\n",
    "\n",
    "# Right-hand side of the equations\n",
    "b = np.zeros(Q.shape[0] + 1)\n",
    "b[-1] = 1  # The sum of pi elements is 1\n",
    "\n",
    "# Solve for pi\n",
    "pi = np.linalg.lstsq(A, b, rcond=None)[0]\n",
    "\n",
    "print(\"Stationary distribution pi:\", pi)"
   ]
  },
  {
   "cell_type": "code",
   "execution_count": 202,
   "metadata": {},
   "outputs": [
    {
     "name": "stdout",
     "output_type": "stream",
     "text": [
      "Best p: [0.01 0.01 0.97 0.01]\n",
      "Largest d: 13.025007562377843\n"
     ]
    }
   ],
   "source": [
    "\n",
    "# Function to calculate d\n",
    "def calculate_d(p, R):\n",
    "    return np.linalg.norm(np.dot(p, R))\n",
    "\n",
    "# Settings for grid search\n",
    "resolution = 10\n",
    "min_val = 0.01  # Minimum value for each element in p to avoid extreme cases\n",
    "largest_d = -np.inf\n",
    "best_p = None\n",
    "\n",
    "# Adjusted search to ensure all elements are non-zero and sum to 1\n",
    "for a in np.linspace(min_val, 1 - 3*min_val, resolution):\n",
    "    for b in np.linspace(min_val, 1 - 2*min_val - a, resolution):\n",
    "        for c in np.linspace(min_val, 1 - min_val - a - b, resolution):\n",
    "            d = 1 - (a + b + c)  # Remaining value to ensure sum(p) = 1\n",
    "            if d >= min_val:  # Check if the last value is also above the minimum\n",
    "                p = np.array([a, b, c, d])\n",
    "                current_d = calculate_d(p, Q)\n",
    "                if current_d > largest_d:\n",
    "                    largest_d = current_d\n",
    "                    best_p = p\n",
    "\n",
    "print(\"Best p:\", best_p)\n",
    "print(\"Largest d:\", largest_d)"
   ]
  },
  {
   "cell_type": "code",
   "execution_count": 203,
   "metadata": {},
   "outputs": [],
   "source": [
    "s_exp_numb_sub_value_1 = list()\n",
    "n_exp_numb_sub_value_1 = list()\n",
    "\n",
    "for t in t_range:\n",
    "    s_exp_numb_sub_value_1.append(expected_number_subs(pi, Q, t))\n",
    "\n",
    "\n",
    "for t in t_range:\n",
    "    n_exp_numb_sub_value_1.append(expected_number_subs(i, Q, t))\n",
    "\n",
    "\n",
    "# s_exp_numb_sub_value_2 = list()\n",
    "# n_exp_numb_sub_value_2 = list()\n",
    "\n",
    "# for t in t_range:\n",
    "#     s_exp_numb_sub_value_2.append(expected_number_subs(i, R, t))\n",
    "\n",
    "\n",
    "# for t in t_range:\n",
    "#     n_exp_numb_sub_value_2.append(expected_number_subs(best_p, R, t)) \n",
    "\n"
   ]
  },
  {
   "cell_type": "code",
   "execution_count": 204,
   "metadata": {},
   "outputs": [
    {
     "name": "stderr",
     "output_type": "stream",
     "text": [
      "/Users/gulugulu/opt/anaconda3/envs/c312/lib/python3.12/site-packages/plotly/express/_core.py:2065: FutureWarning:\n",
      "\n",
      "When grouping with a length-1 list-like, you will need to pass a length-1 tuple to get_group in a future version of pandas. Pass `(name,)` instead of `name` to silence this warning.\n",
      "\n"
     ]
    },
    {
     "data": {
      "application/vnd.plotly.v1+json": {
       "config": {
        "plotlyServerURL": "https://plot.ly"
       },
       "data": [
        {
         "hovertemplate": "series=Stationary<br>t=%{x}<br>ENS=%{y}<extra></extra>",
         "legendgroup": "Stationary",
         "line": {
          "color": "#636efa",
          "dash": "solid",
          "width": 3
         },
         "marker": {
          "symbol": "circle"
         },
         "mode": "lines",
         "name": "Stationary",
         "orientation": "v",
         "showlegend": true,
         "type": "scatter",
         "x": [
          0,
          0.0030303030303030303,
          0.006060606060606061,
          0.00909090909090909,
          0.012121212121212121,
          0.015151515151515152,
          0.01818181818181818,
          0.021212121212121213,
          0.024242424242424242,
          0.02727272727272727,
          0.030303030303030304,
          0.03333333333333333,
          0.03636363636363636,
          0.03939393939393939,
          0.04242424242424243,
          0.045454545454545456,
          0.048484848484848485,
          0.051515151515151514,
          0.05454545454545454,
          0.05757575757575758,
          0.06060606060606061,
          0.06363636363636363,
          0.06666666666666667,
          0.0696969696969697,
          0.07272727272727272,
          0.07575757575757576,
          0.07878787878787878,
          0.08181818181818182,
          0.08484848484848485,
          0.08787878787878788,
          0.09090909090909091,
          0.09393939393939393,
          0.09696969696969697,
          0.1,
          0.10303030303030303,
          0.10606060606060606,
          0.10909090909090909,
          0.11212121212121212,
          0.11515151515151516,
          0.11818181818181818,
          0.12121212121212122,
          0.12424242424242424,
          0.12727272727272726,
          0.1303030303030303,
          0.13333333333333333,
          0.13636363636363635,
          0.1393939393939394,
          0.14242424242424243,
          0.14545454545454545,
          0.1484848484848485,
          0.15151515151515152,
          0.15454545454545454,
          0.15757575757575756,
          0.1606060606060606,
          0.16363636363636364,
          0.16666666666666666,
          0.1696969696969697,
          0.17272727272727273,
          0.17575757575757575,
          0.1787878787878788,
          0.18181818181818182,
          0.18484848484848485,
          0.18787878787878787,
          0.19090909090909092,
          0.19393939393939394,
          0.19696969696969696,
          0.2,
          0.20303030303030303,
          0.20606060606060606,
          0.20909090909090908,
          0.21212121212121213,
          0.21515151515151515,
          0.21818181818181817,
          0.22121212121212122,
          0.22424242424242424,
          0.22727272727272727,
          0.23030303030303031,
          0.23333333333333334,
          0.23636363636363636,
          0.23939393939393938,
          0.24242424242424243,
          0.24545454545454545,
          0.24848484848484848,
          0.2515151515151515,
          0.2545454545454545,
          0.25757575757575757,
          0.2606060606060606,
          0.2636363636363636,
          0.26666666666666666,
          0.2696969696969697,
          0.2727272727272727,
          0.27575757575757576,
          0.2787878787878788,
          0.2818181818181818,
          0.28484848484848485,
          0.2878787878787879,
          0.2909090909090909,
          0.29393939393939394,
          0.296969696969697,
          0.3
         ],
         "xaxis": "x",
         "y": [
          0,
          0.004763982732461319,
          0.009527965464922638,
          0.014291948197383955,
          0.019055930929845272,
          0.023819913662306597,
          0.02858389639476791,
          0.03334787912722923,
          0.03811186185969055,
          0.042875844592151865,
          0.047639827324613186,
          0.0524038100570745,
          0.05716779278953582,
          0.06193177552199715,
          0.06669575825445846,
          0.07145974098691976,
          0.07622372371938109,
          0.08098770645184242,
          0.08575168918430373,
          0.09051567191676506,
          0.09527965464922637,
          0.10004363738168767,
          0.10480762011414899,
          0.10957160284661033,
          0.11433558557907163,
          0.11909956831153293,
          0.12386355104399427,
          0.12862753377645558,
          0.1333915165089169,
          0.1381554992413782,
          0.14291948197383952,
          0.14768346470630084,
          0.15244744743876218,
          0.1572114301712235,
          0.1619754129036848,
          0.16673939563614612,
          0.1715033783686074,
          0.17626736110106878,
          0.1810313438335301,
          0.18579532656599138,
          0.19055930929845272,
          0.195323292030914,
          0.20008727476337534,
          0.20485125749583666,
          0.20961524022829794,
          0.21437922296075929,
          0.21914320569322063,
          0.22390718842568189,
          0.22867117115814323,
          0.23343515389060457,
          0.23819913662306585,
          0.2429631193555271,
          0.24772710208798848,
          0.25249108482044985,
          0.25725506755291117,
          0.2620190502853724,
          0.2667830330178338,
          0.2715470157502951,
          0.27631099848275636,
          0.28107498121521773,
          0.285838963947679,
          0.2906029466801403,
          0.2953669294126017,
          0.300130912145063,
          0.3048948948775243,
          0.30965887760998556,
          0.31442286034244693,
          0.3191868430749082,
          0.32395082580736956,
          0.3287148085398308,
          0.3334787912722922,
          0.3382427740047535,
          0.3430067567372148,
          0.3477707394696762,
          0.35253472220213744,
          0.35729870493459875,
          0.3620626876670602,
          0.36682667039952144,
          0.3715906531319827,
          0.376354635864444,
          0.3811186185969053,
          0.3858826013293667,
          0.39064658406182795,
          0.3954105667942893,
          0.4001745495267506,
          0.40493853225921195,
          0.4097025149916732,
          0.41446649772413446,
          0.4192304804565959,
          0.4239944631890572,
          0.42875844592151846,
          0.43352242865397983,
          0.43828641138644114,
          0.4430503941189024,
          0.4478143768513637,
          0.4525783595838251,
          0.45734234231628634,
          0.4621063250487477,
          0.4668703077812091,
          0.4716342905136703
         ],
         "yaxis": "y"
        },
        {
         "hovertemplate": "series=Non-Stationary<br>t=%{x}<br>ENS=%{y}<extra></extra>",
         "legendgroup": "Non-Stationary",
         "line": {
          "color": "#EF553B",
          "dash": "solid",
          "width": 3
         },
         "marker": {
          "symbol": "circle"
         },
         "mode": "lines",
         "name": "Non-Stationary",
         "orientation": "v",
         "showlegend": true,
         "type": "scatter",
         "x": [
          0,
          0.0030303030303030303,
          0.006060606060606061,
          0.00909090909090909,
          0.012121212121212121,
          0.015151515151515152,
          0.01818181818181818,
          0.021212121212121213,
          0.024242424242424242,
          0.02727272727272727,
          0.030303030303030304,
          0.03333333333333333,
          0.03636363636363636,
          0.03939393939393939,
          0.04242424242424243,
          0.045454545454545456,
          0.048484848484848485,
          0.051515151515151514,
          0.05454545454545454,
          0.05757575757575758,
          0.06060606060606061,
          0.06363636363636363,
          0.06666666666666667,
          0.0696969696969697,
          0.07272727272727272,
          0.07575757575757576,
          0.07878787878787878,
          0.08181818181818182,
          0.08484848484848485,
          0.08787878787878788,
          0.09090909090909091,
          0.09393939393939393,
          0.09696969696969697,
          0.1,
          0.10303030303030303,
          0.10606060606060606,
          0.10909090909090909,
          0.11212121212121212,
          0.11515151515151516,
          0.11818181818181818,
          0.12121212121212122,
          0.12424242424242424,
          0.12727272727272726,
          0.1303030303030303,
          0.13333333333333333,
          0.13636363636363635,
          0.1393939393939394,
          0.14242424242424243,
          0.14545454545454545,
          0.1484848484848485,
          0.15151515151515152,
          0.15454545454545454,
          0.15757575757575756,
          0.1606060606060606,
          0.16363636363636364,
          0.16666666666666666,
          0.1696969696969697,
          0.17272727272727273,
          0.17575757575757575,
          0.1787878787878788,
          0.18181818181818182,
          0.18484848484848485,
          0.18787878787878787,
          0.19090909090909092,
          0.19393939393939394,
          0.19696969696969696,
          0.2,
          0.20303030303030303,
          0.20606060606060606,
          0.20909090909090908,
          0.21212121212121213,
          0.21515151515151515,
          0.21818181818181817,
          0.22121212121212122,
          0.22424242424242424,
          0.22727272727272727,
          0.23030303030303031,
          0.23333333333333334,
          0.23636363636363636,
          0.23939393939393938,
          0.24242424242424243,
          0.24545454545454545,
          0.24848484848484848,
          0.2515151515151515,
          0.2545454545454545,
          0.25757575757575757,
          0.2606060606060606,
          0.2636363636363636,
          0.26666666666666666,
          0.2696969696969697,
          0.2727272727272727,
          0.27575757575757576,
          0.2787878787878788,
          0.2818181818181818,
          0.28484848484848485,
          0.2878787878787879,
          0.2909090909090909,
          0.29393939393939394,
          0.296969696969697,
          0.3
         ],
         "xaxis": "x",
         "y": [
          0,
          0.015464149991160928,
          0.03064989225535174,
          0.04556516053367995,
          0.0602176462918287,
          0.07461480650830718,
          0.08876387120328086,
          0.10267185071682527,
          0.11634554274513914,
          0.1297915391429598,
          0.14301623250013765,
          0.15602582250005148,
          0.16882632206728193,
          0.1814235633117044,
          0.19382320327591387,
          0.206030729492658,
          0.21805146535872313,
          0.2298905753314957,
          0.24155306995420758,
          0.25304381071566673,
          0.2643675147500744,
          0.2755287593823386,
          0.28653198652410417,
          0.2973815069255451,
          0.30808150428778625,
          0.3186360392406582,
          0.32904905319032474,
          0.3393243720411678,
          0.3494657097961642,
          0.35947667203984307,
          0.36936075930777096,
          0.37912137034638016,
          0.38876180526682014,
          0.39828526859638974,
          0.4076948722309851,
          0.41699363829187786,
          0.42618450189002954,
          0.43527031380103465,
          0.4442538430536803,
          0.45313777943500966,
          0.46192473591467553,
          0.47061725099127577,
          0.47921779096327355,
          0.4877287521270105,
          0.4961524629042423,
          0.5044911859015384,
          0.512747119903809,
          0.5209224018041481,
          0.5290191084721033,
          0.5370392585624123,
          0.5449848142661786,
          0.5528576830063914,
          0.5606597190796261,
          0.5683927252457047,
          0.5760584542670345,
          0.5836586103992811,
          0.5911948508349786,
          0.5986687871016272,
          0.6060819864157749,
          0.6134359729945229,
          0.6207322293258588,
          0.627972197399164,
          0.6351572798971965,
          0.6422888413508142,
          0.6493682092576514,
          0.6563966751659299,
          0.6633754957245376,
          0.6703058937004742,
          0.6771890589647288,
          0.6840261494476108,
          0.6908182920645303,
          0.6975665836131824,
          0.704272091643067,
          0.710935855298233,
          0.7175588861341176,
          0.7241421689093152,
          0.7306866623530837,
          0.7371932999093704,
          0.7436629904581156,
          0.7500966190145568,
          0.7564950474072498,
          0.7628591149354802,
          0.7691896390067294,
          0.7754874157548342,
          0.7817532206394511,
          0.7879878090274294,
          0.7941919167566621,
          0.8003662606829774,
          0.8065115392106071,
          0.8126284328067528,
          0.8187176045007571,
          0.8247797003683625,
          0.8308153500015321,
          0.8368251669642895,
          0.8428097492350133,
          0.8487696796356172,
          0.8547055262480276,
          0.8606178428183549,
          0.8665071691491454,
          0.8723740314800884
         ],
         "yaxis": "y"
        }
       ],
       "layout": {
        "font": {
         "size": 18
        },
        "height": 600,
        "legend": {
         "title": {
          "font": {
           "size": 18
          },
          "text": ""
         },
         "tracegroupgap": 0
        },
        "template": {
         "data": {
          "bar": [
           {
            "error_x": {
             "color": "#2a3f5f"
            },
            "error_y": {
             "color": "#2a3f5f"
            },
            "marker": {
             "line": {
              "color": "#E5ECF6",
              "width": 0.5
             },
             "pattern": {
              "fillmode": "overlay",
              "size": 10,
              "solidity": 0.2
             }
            },
            "type": "bar"
           }
          ],
          "barpolar": [
           {
            "marker": {
             "line": {
              "color": "#E5ECF6",
              "width": 0.5
             },
             "pattern": {
              "fillmode": "overlay",
              "size": 10,
              "solidity": 0.2
             }
            },
            "type": "barpolar"
           }
          ],
          "carpet": [
           {
            "aaxis": {
             "endlinecolor": "#2a3f5f",
             "gridcolor": "white",
             "linecolor": "white",
             "minorgridcolor": "white",
             "startlinecolor": "#2a3f5f"
            },
            "baxis": {
             "endlinecolor": "#2a3f5f",
             "gridcolor": "white",
             "linecolor": "white",
             "minorgridcolor": "white",
             "startlinecolor": "#2a3f5f"
            },
            "type": "carpet"
           }
          ],
          "choropleth": [
           {
            "colorbar": {
             "outlinewidth": 0,
             "ticks": ""
            },
            "type": "choropleth"
           }
          ],
          "contour": [
           {
            "colorbar": {
             "outlinewidth": 0,
             "ticks": ""
            },
            "colorscale": [
             [
              0,
              "#0d0887"
             ],
             [
              0.1111111111111111,
              "#46039f"
             ],
             [
              0.2222222222222222,
              "#7201a8"
             ],
             [
              0.3333333333333333,
              "#9c179e"
             ],
             [
              0.4444444444444444,
              "#bd3786"
             ],
             [
              0.5555555555555556,
              "#d8576b"
             ],
             [
              0.6666666666666666,
              "#ed7953"
             ],
             [
              0.7777777777777778,
              "#fb9f3a"
             ],
             [
              0.8888888888888888,
              "#fdca26"
             ],
             [
              1,
              "#f0f921"
             ]
            ],
            "type": "contour"
           }
          ],
          "contourcarpet": [
           {
            "colorbar": {
             "outlinewidth": 0,
             "ticks": ""
            },
            "type": "contourcarpet"
           }
          ],
          "heatmap": [
           {
            "colorbar": {
             "outlinewidth": 0,
             "ticks": ""
            },
            "colorscale": [
             [
              0,
              "#0d0887"
             ],
             [
              0.1111111111111111,
              "#46039f"
             ],
             [
              0.2222222222222222,
              "#7201a8"
             ],
             [
              0.3333333333333333,
              "#9c179e"
             ],
             [
              0.4444444444444444,
              "#bd3786"
             ],
             [
              0.5555555555555556,
              "#d8576b"
             ],
             [
              0.6666666666666666,
              "#ed7953"
             ],
             [
              0.7777777777777778,
              "#fb9f3a"
             ],
             [
              0.8888888888888888,
              "#fdca26"
             ],
             [
              1,
              "#f0f921"
             ]
            ],
            "type": "heatmap"
           }
          ],
          "heatmapgl": [
           {
            "colorbar": {
             "outlinewidth": 0,
             "ticks": ""
            },
            "colorscale": [
             [
              0,
              "#0d0887"
             ],
             [
              0.1111111111111111,
              "#46039f"
             ],
             [
              0.2222222222222222,
              "#7201a8"
             ],
             [
              0.3333333333333333,
              "#9c179e"
             ],
             [
              0.4444444444444444,
              "#bd3786"
             ],
             [
              0.5555555555555556,
              "#d8576b"
             ],
             [
              0.6666666666666666,
              "#ed7953"
             ],
             [
              0.7777777777777778,
              "#fb9f3a"
             ],
             [
              0.8888888888888888,
              "#fdca26"
             ],
             [
              1,
              "#f0f921"
             ]
            ],
            "type": "heatmapgl"
           }
          ],
          "histogram": [
           {
            "marker": {
             "pattern": {
              "fillmode": "overlay",
              "size": 10,
              "solidity": 0.2
             }
            },
            "type": "histogram"
           }
          ],
          "histogram2d": [
           {
            "colorbar": {
             "outlinewidth": 0,
             "ticks": ""
            },
            "colorscale": [
             [
              0,
              "#0d0887"
             ],
             [
              0.1111111111111111,
              "#46039f"
             ],
             [
              0.2222222222222222,
              "#7201a8"
             ],
             [
              0.3333333333333333,
              "#9c179e"
             ],
             [
              0.4444444444444444,
              "#bd3786"
             ],
             [
              0.5555555555555556,
              "#d8576b"
             ],
             [
              0.6666666666666666,
              "#ed7953"
             ],
             [
              0.7777777777777778,
              "#fb9f3a"
             ],
             [
              0.8888888888888888,
              "#fdca26"
             ],
             [
              1,
              "#f0f921"
             ]
            ],
            "type": "histogram2d"
           }
          ],
          "histogram2dcontour": [
           {
            "colorbar": {
             "outlinewidth": 0,
             "ticks": ""
            },
            "colorscale": [
             [
              0,
              "#0d0887"
             ],
             [
              0.1111111111111111,
              "#46039f"
             ],
             [
              0.2222222222222222,
              "#7201a8"
             ],
             [
              0.3333333333333333,
              "#9c179e"
             ],
             [
              0.4444444444444444,
              "#bd3786"
             ],
             [
              0.5555555555555556,
              "#d8576b"
             ],
             [
              0.6666666666666666,
              "#ed7953"
             ],
             [
              0.7777777777777778,
              "#fb9f3a"
             ],
             [
              0.8888888888888888,
              "#fdca26"
             ],
             [
              1,
              "#f0f921"
             ]
            ],
            "type": "histogram2dcontour"
           }
          ],
          "mesh3d": [
           {
            "colorbar": {
             "outlinewidth": 0,
             "ticks": ""
            },
            "type": "mesh3d"
           }
          ],
          "parcoords": [
           {
            "line": {
             "colorbar": {
              "outlinewidth": 0,
              "ticks": ""
             }
            },
            "type": "parcoords"
           }
          ],
          "pie": [
           {
            "automargin": true,
            "type": "pie"
           }
          ],
          "scatter": [
           {
            "fillpattern": {
             "fillmode": "overlay",
             "size": 10,
             "solidity": 0.2
            },
            "type": "scatter"
           }
          ],
          "scatter3d": [
           {
            "line": {
             "colorbar": {
              "outlinewidth": 0,
              "ticks": ""
             }
            },
            "marker": {
             "colorbar": {
              "outlinewidth": 0,
              "ticks": ""
             }
            },
            "type": "scatter3d"
           }
          ],
          "scattercarpet": [
           {
            "marker": {
             "colorbar": {
              "outlinewidth": 0,
              "ticks": ""
             }
            },
            "type": "scattercarpet"
           }
          ],
          "scattergeo": [
           {
            "marker": {
             "colorbar": {
              "outlinewidth": 0,
              "ticks": ""
             }
            },
            "type": "scattergeo"
           }
          ],
          "scattergl": [
           {
            "marker": {
             "colorbar": {
              "outlinewidth": 0,
              "ticks": ""
             }
            },
            "type": "scattergl"
           }
          ],
          "scattermapbox": [
           {
            "marker": {
             "colorbar": {
              "outlinewidth": 0,
              "ticks": ""
             }
            },
            "type": "scattermapbox"
           }
          ],
          "scatterpolar": [
           {
            "marker": {
             "colorbar": {
              "outlinewidth": 0,
              "ticks": ""
             }
            },
            "type": "scatterpolar"
           }
          ],
          "scatterpolargl": [
           {
            "marker": {
             "colorbar": {
              "outlinewidth": 0,
              "ticks": ""
             }
            },
            "type": "scatterpolargl"
           }
          ],
          "scatterternary": [
           {
            "marker": {
             "colorbar": {
              "outlinewidth": 0,
              "ticks": ""
             }
            },
            "type": "scatterternary"
           }
          ],
          "surface": [
           {
            "colorbar": {
             "outlinewidth": 0,
             "ticks": ""
            },
            "colorscale": [
             [
              0,
              "#0d0887"
             ],
             [
              0.1111111111111111,
              "#46039f"
             ],
             [
              0.2222222222222222,
              "#7201a8"
             ],
             [
              0.3333333333333333,
              "#9c179e"
             ],
             [
              0.4444444444444444,
              "#bd3786"
             ],
             [
              0.5555555555555556,
              "#d8576b"
             ],
             [
              0.6666666666666666,
              "#ed7953"
             ],
             [
              0.7777777777777778,
              "#fb9f3a"
             ],
             [
              0.8888888888888888,
              "#fdca26"
             ],
             [
              1,
              "#f0f921"
             ]
            ],
            "type": "surface"
           }
          ],
          "table": [
           {
            "cells": {
             "fill": {
              "color": "#EBF0F8"
             },
             "line": {
              "color": "white"
             }
            },
            "header": {
             "fill": {
              "color": "#C8D4E3"
             },
             "line": {
              "color": "white"
             }
            },
            "type": "table"
           }
          ]
         },
         "layout": {
          "annotationdefaults": {
           "arrowcolor": "#2a3f5f",
           "arrowhead": 0,
           "arrowwidth": 1
          },
          "autotypenumbers": "strict",
          "coloraxis": {
           "colorbar": {
            "outlinewidth": 0,
            "ticks": ""
           }
          },
          "colorscale": {
           "diverging": [
            [
             0,
             "#8e0152"
            ],
            [
             0.1,
             "#c51b7d"
            ],
            [
             0.2,
             "#de77ae"
            ],
            [
             0.3,
             "#f1b6da"
            ],
            [
             0.4,
             "#fde0ef"
            ],
            [
             0.5,
             "#f7f7f7"
            ],
            [
             0.6,
             "#e6f5d0"
            ],
            [
             0.7,
             "#b8e186"
            ],
            [
             0.8,
             "#7fbc41"
            ],
            [
             0.9,
             "#4d9221"
            ],
            [
             1,
             "#276419"
            ]
           ],
           "sequential": [
            [
             0,
             "#0d0887"
            ],
            [
             0.1111111111111111,
             "#46039f"
            ],
            [
             0.2222222222222222,
             "#7201a8"
            ],
            [
             0.3333333333333333,
             "#9c179e"
            ],
            [
             0.4444444444444444,
             "#bd3786"
            ],
            [
             0.5555555555555556,
             "#d8576b"
            ],
            [
             0.6666666666666666,
             "#ed7953"
            ],
            [
             0.7777777777777778,
             "#fb9f3a"
            ],
            [
             0.8888888888888888,
             "#fdca26"
            ],
            [
             1,
             "#f0f921"
            ]
           ],
           "sequentialminus": [
            [
             0,
             "#0d0887"
            ],
            [
             0.1111111111111111,
             "#46039f"
            ],
            [
             0.2222222222222222,
             "#7201a8"
            ],
            [
             0.3333333333333333,
             "#9c179e"
            ],
            [
             0.4444444444444444,
             "#bd3786"
            ],
            [
             0.5555555555555556,
             "#d8576b"
            ],
            [
             0.6666666666666666,
             "#ed7953"
            ],
            [
             0.7777777777777778,
             "#fb9f3a"
            ],
            [
             0.8888888888888888,
             "#fdca26"
            ],
            [
             1,
             "#f0f921"
            ]
           ]
          },
          "colorway": [
           "#636efa",
           "#EF553B",
           "#00cc96",
           "#ab63fa",
           "#FFA15A",
           "#19d3f3",
           "#FF6692",
           "#B6E880",
           "#FF97FF",
           "#FECB52"
          ],
          "font": {
           "color": "#2a3f5f"
          },
          "geo": {
           "bgcolor": "white",
           "lakecolor": "white",
           "landcolor": "#E5ECF6",
           "showlakes": true,
           "showland": true,
           "subunitcolor": "white"
          },
          "hoverlabel": {
           "align": "left"
          },
          "hovermode": "closest",
          "mapbox": {
           "style": "light"
          },
          "paper_bgcolor": "white",
          "plot_bgcolor": "#E5ECF6",
          "polar": {
           "angularaxis": {
            "gridcolor": "white",
            "linecolor": "white",
            "ticks": ""
           },
           "bgcolor": "#E5ECF6",
           "radialaxis": {
            "gridcolor": "white",
            "linecolor": "white",
            "ticks": ""
           }
          },
          "scene": {
           "xaxis": {
            "backgroundcolor": "#E5ECF6",
            "gridcolor": "white",
            "gridwidth": 2,
            "linecolor": "white",
            "showbackground": true,
            "ticks": "",
            "zerolinecolor": "white"
           },
           "yaxis": {
            "backgroundcolor": "#E5ECF6",
            "gridcolor": "white",
            "gridwidth": 2,
            "linecolor": "white",
            "showbackground": true,
            "ticks": "",
            "zerolinecolor": "white"
           },
           "zaxis": {
            "backgroundcolor": "#E5ECF6",
            "gridcolor": "white",
            "gridwidth": 2,
            "linecolor": "white",
            "showbackground": true,
            "ticks": "",
            "zerolinecolor": "white"
           }
          },
          "shapedefaults": {
           "line": {
            "color": "#2a3f5f"
           }
          },
          "ternary": {
           "aaxis": {
            "gridcolor": "white",
            "linecolor": "white",
            "ticks": ""
           },
           "baxis": {
            "gridcolor": "white",
            "linecolor": "white",
            "ticks": ""
           },
           "bgcolor": "#E5ECF6",
           "caxis": {
            "gridcolor": "white",
            "linecolor": "white",
            "ticks": ""
           }
          },
          "title": {
           "x": 0.05
          },
          "xaxis": {
           "automargin": true,
           "gridcolor": "white",
           "linecolor": "white",
           "ticks": "",
           "title": {
            "standoff": 15
           },
           "zerolinecolor": "white",
           "zerolinewidth": 2
          },
          "yaxis": {
           "automargin": true,
           "gridcolor": "white",
           "linecolor": "white",
           "ticks": "",
           "title": {
            "standoff": 15
           },
           "zerolinecolor": "white",
           "zerolinewidth": 2
          }
         }
        },
        "title": {
         "text": "Expected Number of Substitutions Over Time"
        },
        "width": 600,
        "xaxis": {
         "anchor": "y",
         "domain": [
          0,
          1
         ],
         "tickfont": {
          "size": 16
         },
         "title": {
          "font": {
           "size": 20
          },
          "text": "t"
         }
        },
        "yaxis": {
         "anchor": "x",
         "domain": [
          0,
          1
         ],
         "tickfont": {
          "size": 16
         },
         "title": {
          "font": {
           "size": 20
          },
          "text": "ENS"
         }
        }
       }
      }
     },
     "metadata": {},
     "output_type": "display_data"
    }
   ],
   "source": [
    "import plotly.express as px\n",
    "\n",
    "data1 = []\n",
    "for i, t in enumerate(t_range):\n",
    "    data1.append({'t': t, 'value': s_exp_numb_sub_value_1[i], 'series': 'Stationary'})\n",
    "    data1.append({'t': t, 'value': n_exp_numb_sub_value_1[i], 'series': 'Non-Stationary'})\n",
    "\n",
    "# Plotting with Plotly Express\n",
    "fig = px.line(data1, x='t', y='value', color='series', \n",
    "              labels={'value': 'ENS'}, \n",
    "              title='Expected Number of Substitutions Over Time')\n",
    "fig.update_traces(line=dict(width=3))\n",
    "\n",
    "# Setting plot aspect to equal (makes width and height equal)\n",
    "fig.update_layout(width=600, height=600, legend_title_text='', )\n",
    "\n",
    "# Remove the legend title\n",
    "fig.update_layout(legend_title_text='')\n",
    "\n",
    "fig.update_layout(\n",
    "    xaxis_title='t',\n",
    "    yaxis_title='ENS',\n",
    "    font=dict(\n",
    "        size=18\n",
    "    )\n",
    ")\n",
    "\n",
    "# Update legend title font size\n",
    "fig.update_layout(legend_title_font=dict(size=18))\n",
    "\n",
    "# Update axis label font size\n",
    "fig.update_layout(\n",
    "    xaxis=dict(\n",
    "        title_font=dict(size=20),\n",
    "        tickfont=dict(size=16),\n",
    "    ),\n",
    "    yaxis=dict(\n",
    "        title_font=dict(size=20),\n",
    "        tickfont=dict(size=16),\n",
    "    )\n",
    ")\n",
    "\n",
    "fig.show()"
   ]
  },
  {
   "cell_type": "code",
   "execution_count": 208,
   "metadata": {},
   "outputs": [
    {
     "name": "stdout",
     "output_type": "stream",
     "text": [
      "Linear regression for s_exp_numb_sub_value:\n",
      "Slope: 1.5721143017122345, Intercept: 2.7755575615628914e-17, R-squared: 1.0, P-value: 0.0\n",
      "Linear regression for n_exp_numb_sub_value_1:\n",
      "Slope: 2.7920253113979694, Intercept: 0.08856288220741321, R-squared: 0.9830997943925857, P-value: 1.1900169403353296e-88\n"
     ]
    }
   ],
   "source": [
    "from scipy.stats import linregress\n",
    "\n",
    "# Perform linear regression for s_exp_numb_sub_value\n",
    "slope_s, intercept_s, r_value_s, p_value_s, std_err_s = linregress(t_range, s_exp_numb_sub_value_1)\n",
    "print(\"Linear regression for s_exp_numb_sub_value:\")\n",
    "print(f\"Slope: {slope_s}, Intercept: {intercept_s}, R-squared: {r_value_s**2}, P-value: {p_value_s}\")\n",
    "\n",
    "# Perform linear regression for n_exp_numb_sub_value_1\n",
    "slope_n1, intercept_n1, r_value_n1, p_value_n1, std_err_n1 = linregress(t_range, n_exp_numb_sub_value_1)\n",
    "print(\"Linear regression for n_exp_numb_sub_value_1:\")\n",
    "print(f\"Slope: {slope_n1}, Intercept: {intercept_n1}, R-squared: {r_value_n1**2}, P-value: {p_value_n1}\")"
   ]
  },
  {
   "cell_type": "code",
   "execution_count": 206,
   "metadata": {},
   "outputs": [],
   "source": [
    "# import plotly.express as px\n",
    "\n",
    "# data2 = []\n",
    "# for i, t in enumerate(t_range):\n",
    "#     data2.append({'t': t, 'value': s_exp_numb_sub_value_2[i], 'series': 'Stationary2'})\n",
    "#     data2.append({'t': t, 'value': n_exp_numb_sub_value_2[i], 'series': 'Non-Stationary2'})\n",
    "\n",
    "# # Plotting with Plotly Express\n",
    "# fig = px.line(data2, x='t', y='value', color='series', \n",
    "#               labels={'value': 'the expected number of substitutions'}, \n",
    "#               title='Expected Number of Substitutions Over Time')\n",
    "# fig.update_traces(line=dict(width=1))\n",
    "\n",
    "# fig.show()"
   ]
  },
  {
   "cell_type": "code",
   "execution_count": 217,
   "metadata": {},
   "outputs": [
    {
     "name": "stdout",
     "output_type": "stream",
     "text": [
      "Stationary distribution pi: [0.43713889 0.02141566 0.02629728 0.51514817]\n"
     ]
    }
   ],
   "source": [
    "Q = array([[-1.6, 0.3, 0.4, 0.9], \n",
    "           [8.085, -10.985, 0.9, 2.0], \n",
    "           [6.3, 2.0, -11.3, 3.0], \n",
    "           [0.7,0.1, 0.2, -1]], dtype=float)\n",
    "\n",
    "\n",
    "# Add an additional equation to account for the sum of pi elements being 1\n",
    "A = np.vstack([Q.T, np.ones(Q.shape[0])])\n",
    "\n",
    "# Right-hand side of the equations\n",
    "b = np.zeros(Q.shape[0] + 1)\n",
    "b[-1] = 1  # The sum of pi elements is 1\n",
    "\n",
    "# Solve for pi\n",
    "pi = np.linalg.lstsq(A, b, rcond=None)[0]\n",
    "\n",
    "print(\"Stationary distribution pi:\", pi)"
   ]
  },
  {
   "cell_type": "code",
   "execution_count": 213,
   "metadata": {},
   "outputs": [
    {
     "data": {
      "text/html": [
       "        <script type=\"text/javascript\">\n",
       "        window.PlotlyConfig = {MathJaxConfig: 'local'};\n",
       "        if (window.MathJax && window.MathJax.Hub && window.MathJax.Hub.Config) {window.MathJax.Hub.Config({SVG: {font: \"STIX-Web\"}});}\n",
       "        if (typeof require !== 'undefined') {\n",
       "        require.undef(\"plotly\");\n",
       "        requirejs.config({\n",
       "            paths: {\n",
       "                'plotly': ['https://cdn.plot.ly/plotly-2.27.0.min']\n",
       "            }\n",
       "        });\n",
       "        require(['plotly'], function(Plotly) {\n",
       "            window._Plotly = Plotly;\n",
       "        });\n",
       "        }\n",
       "        </script>\n",
       "        "
      ]
     },
     "metadata": {},
     "output_type": "display_data"
    },
    {
     "data": {
      "application/vnd.plotly.v1+json": {
       "config": {
        "plotlyServerURL": "https://plot.ly"
       },
       "data": [
        {
         "line": {
          "color": "black",
          "shape": "spline",
          "smoothing": 1.3,
          "width": 4
         },
         "mode": "lines",
         "showlegend": false,
         "type": "scatter",
         "x": [
          null,
          null
         ],
         "y": [
          null,
          null
         ]
        },
        {
         "line": {
          "color": "darkgreen",
          "width": 4
         },
         "mode": "lines",
         "type": "scatter",
         "x": [
          0,
          0,
          null,
          0,
          1,
          null,
          0,
          0,
          null,
          0,
          0.5,
          null
         ],
         "y": [
          0.325,
          1.3,
          null,
          1.3,
          1.3,
          null,
          0.325,
          -0.65,
          null,
          -0.65,
          -0.65,
          null
         ]
        },
        {
         "line": {
          "color": "orange",
          "width": 4
         },
         "mode": "lines",
         "type": "scatter",
         "x": [
          0.5,
          0.5,
          null,
          0.5,
          1,
          null
         ],
         "y": [
          -0.65,
          0,
          null,
          0,
          0,
          null
         ]
        },
        {
         "line": {
          "color": "blue",
          "width": 4
         },
         "mode": "lines",
         "type": "scatter",
         "x": [
          0.5,
          0.5,
          null,
          0.5,
          1,
          null
         ],
         "y": [
          -0.65,
          -1.3,
          null,
          -1.3,
          -1.3,
          null
         ]
        },
        {
         "hoverinfo": "text",
         "marker": {
          "color": "black",
          "size": 14,
          "symbol": "circle"
         },
         "mode": "markers",
         "showlegend": false,
         "text": [
          "root",
          "A",
          "edge.0",
          "B",
          "C"
         ],
         "type": "scatter",
         "x": [
          0,
          1,
          0.5,
          1,
          1
         ],
         "y": [
          0.325,
          1.3,
          -0.65,
          0,
          -1.3
         ]
        }
       ],
       "layout": {
        "annotations": [
         {
          "font": {
           "color": "darkgreen",
           "family": "Inconsolata, monospace",
           "size": 30
          },
          "showarrow": false,
          "text": "C C C G C T",
          "x": 1.1,
          "xanchor": "left",
          "y": 1.3
         },
         {
          "font": {
           "color": "darkgreen",
           "family": "Inconsolata, monospace",
           "size": 30
          },
          "showarrow": false,
          "text": "<b><i>P</i><sub>1</sub><b>",
          "x": 0.6,
          "xanchor": "left",
          "y": 1.5
         },
         {
          "font": {
           "color": "orange",
           "family": "Inconsolata, monospace",
           "size": 30
          },
          "showarrow": false,
          "text": "T C C G G T",
          "x": 1.1,
          "xanchor": "left",
          "y": 0
         },
         {
          "font": {
           "color": "orange",
           "family": "Inconsolata, monospace",
           "size": 30
          },
          "showarrow": false,
          "text": "<b><i>P</i><sub>2</sub><b>",
          "x": 0.6,
          "xanchor": "left",
          "y": 0.2
         },
         {
          "font": {
           "color": "blue",
           "family": "Inconsolata, monospace",
           "size": 30
          },
          "showarrow": false,
          "text": "C C C G A T",
          "x": 1.1,
          "xanchor": "left",
          "y": -1.3
         },
         {
          "font": {
           "color": "blue",
           "family": "Inconsolata, monospace",
           "size": 30
          },
          "showarrow": false,
          "text": "<b><i>P</i><sub>3</sub><b>",
          "x": 0.6,
          "xanchor": "left",
          "y": -1.1
         },
         {
          "font": {
           "color": "black",
           "family": "Inconsolata, monospace",
           "size": 30
          },
          "showarrow": false,
          "text": "π",
          "x": 0.55,
          "xanchor": "left",
          "y": -0.65
         }
        ],
        "autosize": true,
        "font": {
         "family": "Balto",
         "size": 14
        },
        "height": 350,
        "hovermode": "closest",
        "margin": {
         "b": 50,
         "l": 50,
         "pad": 4,
         "r": 50,
         "t": 50
        },
        "showlegend": false,
        "template": {
         "data": {
          "bar": [
           {
            "error_x": {
             "color": "#2a3f5f"
            },
            "error_y": {
             "color": "#2a3f5f"
            },
            "marker": {
             "line": {
              "color": "#E5ECF6",
              "width": 0.5
             },
             "pattern": {
              "fillmode": "overlay",
              "size": 10,
              "solidity": 0.2
             }
            },
            "type": "bar"
           }
          ],
          "barpolar": [
           {
            "marker": {
             "line": {
              "color": "#E5ECF6",
              "width": 0.5
             },
             "pattern": {
              "fillmode": "overlay",
              "size": 10,
              "solidity": 0.2
             }
            },
            "type": "barpolar"
           }
          ],
          "carpet": [
           {
            "aaxis": {
             "endlinecolor": "#2a3f5f",
             "gridcolor": "white",
             "linecolor": "white",
             "minorgridcolor": "white",
             "startlinecolor": "#2a3f5f"
            },
            "baxis": {
             "endlinecolor": "#2a3f5f",
             "gridcolor": "white",
             "linecolor": "white",
             "minorgridcolor": "white",
             "startlinecolor": "#2a3f5f"
            },
            "type": "carpet"
           }
          ],
          "choropleth": [
           {
            "colorbar": {
             "outlinewidth": 0,
             "ticks": ""
            },
            "type": "choropleth"
           }
          ],
          "contour": [
           {
            "colorbar": {
             "outlinewidth": 0,
             "ticks": ""
            },
            "colorscale": [
             [
              0,
              "#0d0887"
             ],
             [
              0.1111111111111111,
              "#46039f"
             ],
             [
              0.2222222222222222,
              "#7201a8"
             ],
             [
              0.3333333333333333,
              "#9c179e"
             ],
             [
              0.4444444444444444,
              "#bd3786"
             ],
             [
              0.5555555555555556,
              "#d8576b"
             ],
             [
              0.6666666666666666,
              "#ed7953"
             ],
             [
              0.7777777777777778,
              "#fb9f3a"
             ],
             [
              0.8888888888888888,
              "#fdca26"
             ],
             [
              1,
              "#f0f921"
             ]
            ],
            "type": "contour"
           }
          ],
          "contourcarpet": [
           {
            "colorbar": {
             "outlinewidth": 0,
             "ticks": ""
            },
            "type": "contourcarpet"
           }
          ],
          "heatmap": [
           {
            "colorbar": {
             "outlinewidth": 0,
             "ticks": ""
            },
            "colorscale": [
             [
              0,
              "#0d0887"
             ],
             [
              0.1111111111111111,
              "#46039f"
             ],
             [
              0.2222222222222222,
              "#7201a8"
             ],
             [
              0.3333333333333333,
              "#9c179e"
             ],
             [
              0.4444444444444444,
              "#bd3786"
             ],
             [
              0.5555555555555556,
              "#d8576b"
             ],
             [
              0.6666666666666666,
              "#ed7953"
             ],
             [
              0.7777777777777778,
              "#fb9f3a"
             ],
             [
              0.8888888888888888,
              "#fdca26"
             ],
             [
              1,
              "#f0f921"
             ]
            ],
            "type": "heatmap"
           }
          ],
          "heatmapgl": [
           {
            "colorbar": {
             "outlinewidth": 0,
             "ticks": ""
            },
            "colorscale": [
             [
              0,
              "#0d0887"
             ],
             [
              0.1111111111111111,
              "#46039f"
             ],
             [
              0.2222222222222222,
              "#7201a8"
             ],
             [
              0.3333333333333333,
              "#9c179e"
             ],
             [
              0.4444444444444444,
              "#bd3786"
             ],
             [
              0.5555555555555556,
              "#d8576b"
             ],
             [
              0.6666666666666666,
              "#ed7953"
             ],
             [
              0.7777777777777778,
              "#fb9f3a"
             ],
             [
              0.8888888888888888,
              "#fdca26"
             ],
             [
              1,
              "#f0f921"
             ]
            ],
            "type": "heatmapgl"
           }
          ],
          "histogram": [
           {
            "marker": {
             "pattern": {
              "fillmode": "overlay",
              "size": 10,
              "solidity": 0.2
             }
            },
            "type": "histogram"
           }
          ],
          "histogram2d": [
           {
            "colorbar": {
             "outlinewidth": 0,
             "ticks": ""
            },
            "colorscale": [
             [
              0,
              "#0d0887"
             ],
             [
              0.1111111111111111,
              "#46039f"
             ],
             [
              0.2222222222222222,
              "#7201a8"
             ],
             [
              0.3333333333333333,
              "#9c179e"
             ],
             [
              0.4444444444444444,
              "#bd3786"
             ],
             [
              0.5555555555555556,
              "#d8576b"
             ],
             [
              0.6666666666666666,
              "#ed7953"
             ],
             [
              0.7777777777777778,
              "#fb9f3a"
             ],
             [
              0.8888888888888888,
              "#fdca26"
             ],
             [
              1,
              "#f0f921"
             ]
            ],
            "type": "histogram2d"
           }
          ],
          "histogram2dcontour": [
           {
            "colorbar": {
             "outlinewidth": 0,
             "ticks": ""
            },
            "colorscale": [
             [
              0,
              "#0d0887"
             ],
             [
              0.1111111111111111,
              "#46039f"
             ],
             [
              0.2222222222222222,
              "#7201a8"
             ],
             [
              0.3333333333333333,
              "#9c179e"
             ],
             [
              0.4444444444444444,
              "#bd3786"
             ],
             [
              0.5555555555555556,
              "#d8576b"
             ],
             [
              0.6666666666666666,
              "#ed7953"
             ],
             [
              0.7777777777777778,
              "#fb9f3a"
             ],
             [
              0.8888888888888888,
              "#fdca26"
             ],
             [
              1,
              "#f0f921"
             ]
            ],
            "type": "histogram2dcontour"
           }
          ],
          "mesh3d": [
           {
            "colorbar": {
             "outlinewidth": 0,
             "ticks": ""
            },
            "type": "mesh3d"
           }
          ],
          "parcoords": [
           {
            "line": {
             "colorbar": {
              "outlinewidth": 0,
              "ticks": ""
             }
            },
            "type": "parcoords"
           }
          ],
          "pie": [
           {
            "automargin": true,
            "type": "pie"
           }
          ],
          "scatter": [
           {
            "fillpattern": {
             "fillmode": "overlay",
             "size": 10,
             "solidity": 0.2
            },
            "type": "scatter"
           }
          ],
          "scatter3d": [
           {
            "line": {
             "colorbar": {
              "outlinewidth": 0,
              "ticks": ""
             }
            },
            "marker": {
             "colorbar": {
              "outlinewidth": 0,
              "ticks": ""
             }
            },
            "type": "scatter3d"
           }
          ],
          "scattercarpet": [
           {
            "marker": {
             "colorbar": {
              "outlinewidth": 0,
              "ticks": ""
             }
            },
            "type": "scattercarpet"
           }
          ],
          "scattergeo": [
           {
            "marker": {
             "colorbar": {
              "outlinewidth": 0,
              "ticks": ""
             }
            },
            "type": "scattergeo"
           }
          ],
          "scattergl": [
           {
            "marker": {
             "colorbar": {
              "outlinewidth": 0,
              "ticks": ""
             }
            },
            "type": "scattergl"
           }
          ],
          "scattermapbox": [
           {
            "marker": {
             "colorbar": {
              "outlinewidth": 0,
              "ticks": ""
             }
            },
            "type": "scattermapbox"
           }
          ],
          "scatterpolar": [
           {
            "marker": {
             "colorbar": {
              "outlinewidth": 0,
              "ticks": ""
             }
            },
            "type": "scatterpolar"
           }
          ],
          "scatterpolargl": [
           {
            "marker": {
             "colorbar": {
              "outlinewidth": 0,
              "ticks": ""
             }
            },
            "type": "scatterpolargl"
           }
          ],
          "scatterternary": [
           {
            "marker": {
             "colorbar": {
              "outlinewidth": 0,
              "ticks": ""
             }
            },
            "type": "scatterternary"
           }
          ],
          "surface": [
           {
            "colorbar": {
             "outlinewidth": 0,
             "ticks": ""
            },
            "colorscale": [
             [
              0,
              "#0d0887"
             ],
             [
              0.1111111111111111,
              "#46039f"
             ],
             [
              0.2222222222222222,
              "#7201a8"
             ],
             [
              0.3333333333333333,
              "#9c179e"
             ],
             [
              0.4444444444444444,
              "#bd3786"
             ],
             [
              0.5555555555555556,
              "#d8576b"
             ],
             [
              0.6666666666666666,
              "#ed7953"
             ],
             [
              0.7777777777777778,
              "#fb9f3a"
             ],
             [
              0.8888888888888888,
              "#fdca26"
             ],
             [
              1,
              "#f0f921"
             ]
            ],
            "type": "surface"
           }
          ],
          "table": [
           {
            "cells": {
             "fill": {
              "color": "#EBF0F8"
             },
             "line": {
              "color": "white"
             }
            },
            "header": {
             "fill": {
              "color": "#C8D4E3"
             },
             "line": {
              "color": "white"
             }
            },
            "type": "table"
           }
          ]
         },
         "layout": {
          "annotationdefaults": {
           "arrowcolor": "#2a3f5f",
           "arrowhead": 0,
           "arrowwidth": 1
          },
          "autotypenumbers": "strict",
          "coloraxis": {
           "colorbar": {
            "outlinewidth": 0,
            "ticks": ""
           }
          },
          "colorscale": {
           "diverging": [
            [
             0,
             "#8e0152"
            ],
            [
             0.1,
             "#c51b7d"
            ],
            [
             0.2,
             "#de77ae"
            ],
            [
             0.3,
             "#f1b6da"
            ],
            [
             0.4,
             "#fde0ef"
            ],
            [
             0.5,
             "#f7f7f7"
            ],
            [
             0.6,
             "#e6f5d0"
            ],
            [
             0.7,
             "#b8e186"
            ],
            [
             0.8,
             "#7fbc41"
            ],
            [
             0.9,
             "#4d9221"
            ],
            [
             1,
             "#276419"
            ]
           ],
           "sequential": [
            [
             0,
             "#0d0887"
            ],
            [
             0.1111111111111111,
             "#46039f"
            ],
            [
             0.2222222222222222,
             "#7201a8"
            ],
            [
             0.3333333333333333,
             "#9c179e"
            ],
            [
             0.4444444444444444,
             "#bd3786"
            ],
            [
             0.5555555555555556,
             "#d8576b"
            ],
            [
             0.6666666666666666,
             "#ed7953"
            ],
            [
             0.7777777777777778,
             "#fb9f3a"
            ],
            [
             0.8888888888888888,
             "#fdca26"
            ],
            [
             1,
             "#f0f921"
            ]
           ],
           "sequentialminus": [
            [
             0,
             "#0d0887"
            ],
            [
             0.1111111111111111,
             "#46039f"
            ],
            [
             0.2222222222222222,
             "#7201a8"
            ],
            [
             0.3333333333333333,
             "#9c179e"
            ],
            [
             0.4444444444444444,
             "#bd3786"
            ],
            [
             0.5555555555555556,
             "#d8576b"
            ],
            [
             0.6666666666666666,
             "#ed7953"
            ],
            [
             0.7777777777777778,
             "#fb9f3a"
            ],
            [
             0.8888888888888888,
             "#fdca26"
            ],
            [
             1,
             "#f0f921"
            ]
           ]
          },
          "colorway": [
           "#636efa",
           "#EF553B",
           "#00cc96",
           "#ab63fa",
           "#FFA15A",
           "#19d3f3",
           "#FF6692",
           "#B6E880",
           "#FF97FF",
           "#FECB52"
          ],
          "font": {
           "color": "#2a3f5f"
          },
          "geo": {
           "bgcolor": "white",
           "lakecolor": "white",
           "landcolor": "#E5ECF6",
           "showlakes": true,
           "showland": true,
           "subunitcolor": "white"
          },
          "hoverlabel": {
           "align": "left"
          },
          "hovermode": "closest",
          "mapbox": {
           "style": "light"
          },
          "paper_bgcolor": "white",
          "plot_bgcolor": "#E5ECF6",
          "polar": {
           "angularaxis": {
            "gridcolor": "white",
            "linecolor": "white",
            "ticks": ""
           },
           "bgcolor": "#E5ECF6",
           "radialaxis": {
            "gridcolor": "white",
            "linecolor": "white",
            "ticks": ""
           }
          },
          "scene": {
           "xaxis": {
            "backgroundcolor": "#E5ECF6",
            "gridcolor": "white",
            "gridwidth": 2,
            "linecolor": "white",
            "showbackground": true,
            "ticks": "",
            "zerolinecolor": "white"
           },
           "yaxis": {
            "backgroundcolor": "#E5ECF6",
            "gridcolor": "white",
            "gridwidth": 2,
            "linecolor": "white",
            "showbackground": true,
            "ticks": "",
            "zerolinecolor": "white"
           },
           "zaxis": {
            "backgroundcolor": "#E5ECF6",
            "gridcolor": "white",
            "gridwidth": 2,
            "linecolor": "white",
            "showbackground": true,
            "ticks": "",
            "zerolinecolor": "white"
           }
          },
          "shapedefaults": {
           "line": {
            "color": "#2a3f5f"
           }
          },
          "ternary": {
           "aaxis": {
            "gridcolor": "white",
            "linecolor": "white",
            "ticks": ""
           },
           "baxis": {
            "gridcolor": "white",
            "linecolor": "white",
            "ticks": ""
           },
           "bgcolor": "#E5ECF6",
           "caxis": {
            "gridcolor": "white",
            "linecolor": "white",
            "ticks": ""
           }
          },
          "title": {
           "x": 0.05
          },
          "xaxis": {
           "automargin": true,
           "gridcolor": "white",
           "linecolor": "white",
           "ticks": "",
           "title": {
            "standoff": 15
           },
           "zerolinecolor": "white",
           "zerolinewidth": 2
          },
          "yaxis": {
           "automargin": true,
           "gridcolor": "white",
           "linecolor": "white",
           "ticks": "",
           "title": {
            "standoff": 15
           },
           "zerolinecolor": "white",
           "zerolinewidth": 2
          }
         }
        },
        "width": 450,
        "xaxis": {
         "visible": false
        },
        "yaxis": {
         "visible": false
        }
       }
      },
      "text/html": [
       "<div>                            <div id=\"aaa798ce-adb3-412d-aeab-856f3a136321\" class=\"plotly-graph-div\" style=\"height:350px; width:450px;\"></div>            <script type=\"text/javascript\">                require([\"plotly\"], function(Plotly) {                    window.PLOTLYENV=window.PLOTLYENV || {};                                    if (document.getElementById(\"aaa798ce-adb3-412d-aeab-856f3a136321\")) {                    Plotly.newPlot(                        \"aaa798ce-adb3-412d-aeab-856f3a136321\",                        [{\"line\":{\"color\":\"black\",\"shape\":\"spline\",\"smoothing\":1.3,\"width\":4},\"mode\":\"lines\",\"showlegend\":false,\"x\":[null,null],\"y\":[null,null],\"type\":\"scatter\"},{\"line\":{\"color\":\"darkgreen\",\"width\":4},\"mode\":\"lines\",\"x\":[0,0,null,0,1,null,0,0,null,0,0.5,null],\"y\":[0.325,1.3,null,1.3,1.3,null,0.325,-0.65,null,-0.65,-0.65,null],\"type\":\"scatter\"},{\"line\":{\"color\":\"orange\",\"width\":4},\"mode\":\"lines\",\"x\":[0.5,0.5,null,0.5,1.0,null],\"y\":[-0.65,0.0,null,0.0,0.0,null],\"type\":\"scatter\"},{\"line\":{\"color\":\"blue\",\"width\":4},\"mode\":\"lines\",\"x\":[0.5,0.5,null,0.5,1.0,null],\"y\":[-0.65,-1.3,null,-1.3,-1.3,null],\"type\":\"scatter\"},{\"hoverinfo\":\"text\",\"marker\":{\"color\":\"black\",\"size\":14,\"symbol\":\"circle\"},\"mode\":\"markers\",\"showlegend\":false,\"text\":[\"root\",\"A\",\"edge.0\",\"B\",\"C\"],\"x\":[0,1,0.5,1.0,1.0],\"y\":[0.325,1.3,-0.65,0.0,-1.3],\"type\":\"scatter\"}],                        {\"annotations\":[{\"font\":{\"color\":\"darkgreen\",\"family\":\"Inconsolata, monospace\",\"size\":30},\"showarrow\":false,\"text\":\"C C C G C T\",\"x\":1.1,\"xanchor\":\"left\",\"y\":1.3},{\"font\":{\"color\":\"darkgreen\",\"family\":\"Inconsolata, monospace\",\"size\":30},\"showarrow\":false,\"text\":\"\\u003cb\\u003e\\u003ci\\u003eP\\u003c\\u002fi\\u003e\\u003csub\\u003e1\\u003c\\u002fsub\\u003e\\u003cb\\u003e\",\"x\":0.6,\"xanchor\":\"left\",\"y\":1.5},{\"font\":{\"color\":\"orange\",\"family\":\"Inconsolata, monospace\",\"size\":30},\"showarrow\":false,\"text\":\"T C C G G T\",\"x\":1.1,\"xanchor\":\"left\",\"y\":0.0},{\"font\":{\"color\":\"orange\",\"family\":\"Inconsolata, monospace\",\"size\":30},\"showarrow\":false,\"text\":\"\\u003cb\\u003e\\u003ci\\u003eP\\u003c\\u002fi\\u003e\\u003csub\\u003e2\\u003c\\u002fsub\\u003e\\u003cb\\u003e\",\"x\":0.6,\"xanchor\":\"left\",\"y\":0.2},{\"font\":{\"color\":\"blue\",\"family\":\"Inconsolata, monospace\",\"size\":30},\"showarrow\":false,\"text\":\"C C C G A T\",\"x\":1.1,\"xanchor\":\"left\",\"y\":-1.3},{\"font\":{\"color\":\"blue\",\"family\":\"Inconsolata, monospace\",\"size\":30},\"showarrow\":false,\"text\":\"\\u003cb\\u003e\\u003ci\\u003eP\\u003c\\u002fi\\u003e\\u003csub\\u003e3\\u003c\\u002fsub\\u003e\\u003cb\\u003e\",\"x\":0.6,\"xanchor\":\"left\",\"y\":-1.1},{\"font\":{\"color\":\"black\",\"family\":\"Inconsolata, monospace\",\"size\":30},\"showarrow\":false,\"text\":\"\\u03c0\",\"x\":0.55,\"xanchor\":\"left\",\"y\":-0.65}],\"autosize\":true,\"font\":{\"family\":\"Balto\",\"size\":14},\"height\":350,\"hovermode\":\"closest\",\"margin\":{\"b\":50,\"l\":50,\"pad\":4,\"r\":50,\"t\":50},\"showlegend\":false,\"width\":450,\"xaxis\":{\"visible\":false},\"yaxis\":{\"visible\":false},\"template\":{\"data\":{\"histogram2dcontour\":[{\"type\":\"histogram2dcontour\",\"colorbar\":{\"outlinewidth\":0,\"ticks\":\"\"},\"colorscale\":[[0.0,\"#0d0887\"],[0.1111111111111111,\"#46039f\"],[0.2222222222222222,\"#7201a8\"],[0.3333333333333333,\"#9c179e\"],[0.4444444444444444,\"#bd3786\"],[0.5555555555555556,\"#d8576b\"],[0.6666666666666666,\"#ed7953\"],[0.7777777777777778,\"#fb9f3a\"],[0.8888888888888888,\"#fdca26\"],[1.0,\"#f0f921\"]]}],\"choropleth\":[{\"type\":\"choropleth\",\"colorbar\":{\"outlinewidth\":0,\"ticks\":\"\"}}],\"histogram2d\":[{\"type\":\"histogram2d\",\"colorbar\":{\"outlinewidth\":0,\"ticks\":\"\"},\"colorscale\":[[0.0,\"#0d0887\"],[0.1111111111111111,\"#46039f\"],[0.2222222222222222,\"#7201a8\"],[0.3333333333333333,\"#9c179e\"],[0.4444444444444444,\"#bd3786\"],[0.5555555555555556,\"#d8576b\"],[0.6666666666666666,\"#ed7953\"],[0.7777777777777778,\"#fb9f3a\"],[0.8888888888888888,\"#fdca26\"],[1.0,\"#f0f921\"]]}],\"heatmap\":[{\"type\":\"heatmap\",\"colorbar\":{\"outlinewidth\":0,\"ticks\":\"\"},\"colorscale\":[[0.0,\"#0d0887\"],[0.1111111111111111,\"#46039f\"],[0.2222222222222222,\"#7201a8\"],[0.3333333333333333,\"#9c179e\"],[0.4444444444444444,\"#bd3786\"],[0.5555555555555556,\"#d8576b\"],[0.6666666666666666,\"#ed7953\"],[0.7777777777777778,\"#fb9f3a\"],[0.8888888888888888,\"#fdca26\"],[1.0,\"#f0f921\"]]}],\"heatmapgl\":[{\"type\":\"heatmapgl\",\"colorbar\":{\"outlinewidth\":0,\"ticks\":\"\"},\"colorscale\":[[0.0,\"#0d0887\"],[0.1111111111111111,\"#46039f\"],[0.2222222222222222,\"#7201a8\"],[0.3333333333333333,\"#9c179e\"],[0.4444444444444444,\"#bd3786\"],[0.5555555555555556,\"#d8576b\"],[0.6666666666666666,\"#ed7953\"],[0.7777777777777778,\"#fb9f3a\"],[0.8888888888888888,\"#fdca26\"],[1.0,\"#f0f921\"]]}],\"contourcarpet\":[{\"type\":\"contourcarpet\",\"colorbar\":{\"outlinewidth\":0,\"ticks\":\"\"}}],\"contour\":[{\"type\":\"contour\",\"colorbar\":{\"outlinewidth\":0,\"ticks\":\"\"},\"colorscale\":[[0.0,\"#0d0887\"],[0.1111111111111111,\"#46039f\"],[0.2222222222222222,\"#7201a8\"],[0.3333333333333333,\"#9c179e\"],[0.4444444444444444,\"#bd3786\"],[0.5555555555555556,\"#d8576b\"],[0.6666666666666666,\"#ed7953\"],[0.7777777777777778,\"#fb9f3a\"],[0.8888888888888888,\"#fdca26\"],[1.0,\"#f0f921\"]]}],\"surface\":[{\"type\":\"surface\",\"colorbar\":{\"outlinewidth\":0,\"ticks\":\"\"},\"colorscale\":[[0.0,\"#0d0887\"],[0.1111111111111111,\"#46039f\"],[0.2222222222222222,\"#7201a8\"],[0.3333333333333333,\"#9c179e\"],[0.4444444444444444,\"#bd3786\"],[0.5555555555555556,\"#d8576b\"],[0.6666666666666666,\"#ed7953\"],[0.7777777777777778,\"#fb9f3a\"],[0.8888888888888888,\"#fdca26\"],[1.0,\"#f0f921\"]]}],\"mesh3d\":[{\"type\":\"mesh3d\",\"colorbar\":{\"outlinewidth\":0,\"ticks\":\"\"}}],\"scatter\":[{\"fillpattern\":{\"fillmode\":\"overlay\",\"size\":10,\"solidity\":0.2},\"type\":\"scatter\"}],\"parcoords\":[{\"type\":\"parcoords\",\"line\":{\"colorbar\":{\"outlinewidth\":0,\"ticks\":\"\"}}}],\"scatterpolargl\":[{\"type\":\"scatterpolargl\",\"marker\":{\"colorbar\":{\"outlinewidth\":0,\"ticks\":\"\"}}}],\"bar\":[{\"error_x\":{\"color\":\"#2a3f5f\"},\"error_y\":{\"color\":\"#2a3f5f\"},\"marker\":{\"line\":{\"color\":\"#E5ECF6\",\"width\":0.5},\"pattern\":{\"fillmode\":\"overlay\",\"size\":10,\"solidity\":0.2}},\"type\":\"bar\"}],\"scattergeo\":[{\"type\":\"scattergeo\",\"marker\":{\"colorbar\":{\"outlinewidth\":0,\"ticks\":\"\"}}}],\"scatterpolar\":[{\"type\":\"scatterpolar\",\"marker\":{\"colorbar\":{\"outlinewidth\":0,\"ticks\":\"\"}}}],\"histogram\":[{\"marker\":{\"pattern\":{\"fillmode\":\"overlay\",\"size\":10,\"solidity\":0.2}},\"type\":\"histogram\"}],\"scattergl\":[{\"type\":\"scattergl\",\"marker\":{\"colorbar\":{\"outlinewidth\":0,\"ticks\":\"\"}}}],\"scatter3d\":[{\"type\":\"scatter3d\",\"line\":{\"colorbar\":{\"outlinewidth\":0,\"ticks\":\"\"}},\"marker\":{\"colorbar\":{\"outlinewidth\":0,\"ticks\":\"\"}}}],\"scattermapbox\":[{\"type\":\"scattermapbox\",\"marker\":{\"colorbar\":{\"outlinewidth\":0,\"ticks\":\"\"}}}],\"scatterternary\":[{\"type\":\"scatterternary\",\"marker\":{\"colorbar\":{\"outlinewidth\":0,\"ticks\":\"\"}}}],\"scattercarpet\":[{\"type\":\"scattercarpet\",\"marker\":{\"colorbar\":{\"outlinewidth\":0,\"ticks\":\"\"}}}],\"carpet\":[{\"aaxis\":{\"endlinecolor\":\"#2a3f5f\",\"gridcolor\":\"white\",\"linecolor\":\"white\",\"minorgridcolor\":\"white\",\"startlinecolor\":\"#2a3f5f\"},\"baxis\":{\"endlinecolor\":\"#2a3f5f\",\"gridcolor\":\"white\",\"linecolor\":\"white\",\"minorgridcolor\":\"white\",\"startlinecolor\":\"#2a3f5f\"},\"type\":\"carpet\"}],\"table\":[{\"cells\":{\"fill\":{\"color\":\"#EBF0F8\"},\"line\":{\"color\":\"white\"}},\"header\":{\"fill\":{\"color\":\"#C8D4E3\"},\"line\":{\"color\":\"white\"}},\"type\":\"table\"}],\"barpolar\":[{\"marker\":{\"line\":{\"color\":\"#E5ECF6\",\"width\":0.5},\"pattern\":{\"fillmode\":\"overlay\",\"size\":10,\"solidity\":0.2}},\"type\":\"barpolar\"}],\"pie\":[{\"automargin\":true,\"type\":\"pie\"}]},\"layout\":{\"autotypenumbers\":\"strict\",\"colorway\":[\"#636efa\",\"#EF553B\",\"#00cc96\",\"#ab63fa\",\"#FFA15A\",\"#19d3f3\",\"#FF6692\",\"#B6E880\",\"#FF97FF\",\"#FECB52\"],\"font\":{\"color\":\"#2a3f5f\"},\"hovermode\":\"closest\",\"hoverlabel\":{\"align\":\"left\"},\"paper_bgcolor\":\"white\",\"plot_bgcolor\":\"#E5ECF6\",\"polar\":{\"bgcolor\":\"#E5ECF6\",\"angularaxis\":{\"gridcolor\":\"white\",\"linecolor\":\"white\",\"ticks\":\"\"},\"radialaxis\":{\"gridcolor\":\"white\",\"linecolor\":\"white\",\"ticks\":\"\"}},\"ternary\":{\"bgcolor\":\"#E5ECF6\",\"aaxis\":{\"gridcolor\":\"white\",\"linecolor\":\"white\",\"ticks\":\"\"},\"baxis\":{\"gridcolor\":\"white\",\"linecolor\":\"white\",\"ticks\":\"\"},\"caxis\":{\"gridcolor\":\"white\",\"linecolor\":\"white\",\"ticks\":\"\"}},\"coloraxis\":{\"colorbar\":{\"outlinewidth\":0,\"ticks\":\"\"}},\"colorscale\":{\"sequential\":[[0.0,\"#0d0887\"],[0.1111111111111111,\"#46039f\"],[0.2222222222222222,\"#7201a8\"],[0.3333333333333333,\"#9c179e\"],[0.4444444444444444,\"#bd3786\"],[0.5555555555555556,\"#d8576b\"],[0.6666666666666666,\"#ed7953\"],[0.7777777777777778,\"#fb9f3a\"],[0.8888888888888888,\"#fdca26\"],[1.0,\"#f0f921\"]],\"sequentialminus\":[[0.0,\"#0d0887\"],[0.1111111111111111,\"#46039f\"],[0.2222222222222222,\"#7201a8\"],[0.3333333333333333,\"#9c179e\"],[0.4444444444444444,\"#bd3786\"],[0.5555555555555556,\"#d8576b\"],[0.6666666666666666,\"#ed7953\"],[0.7777777777777778,\"#fb9f3a\"],[0.8888888888888888,\"#fdca26\"],[1.0,\"#f0f921\"]],\"diverging\":[[0,\"#8e0152\"],[0.1,\"#c51b7d\"],[0.2,\"#de77ae\"],[0.3,\"#f1b6da\"],[0.4,\"#fde0ef\"],[0.5,\"#f7f7f7\"],[0.6,\"#e6f5d0\"],[0.7,\"#b8e186\"],[0.8,\"#7fbc41\"],[0.9,\"#4d9221\"],[1,\"#276419\"]]},\"xaxis\":{\"gridcolor\":\"white\",\"linecolor\":\"white\",\"ticks\":\"\",\"title\":{\"standoff\":15},\"zerolinecolor\":\"white\",\"automargin\":true,\"zerolinewidth\":2},\"yaxis\":{\"gridcolor\":\"white\",\"linecolor\":\"white\",\"ticks\":\"\",\"title\":{\"standoff\":15},\"zerolinecolor\":\"white\",\"automargin\":true,\"zerolinewidth\":2},\"scene\":{\"xaxis\":{\"backgroundcolor\":\"#E5ECF6\",\"gridcolor\":\"white\",\"linecolor\":\"white\",\"showbackground\":true,\"ticks\":\"\",\"zerolinecolor\":\"white\",\"gridwidth\":2},\"yaxis\":{\"backgroundcolor\":\"#E5ECF6\",\"gridcolor\":\"white\",\"linecolor\":\"white\",\"showbackground\":true,\"ticks\":\"\",\"zerolinecolor\":\"white\",\"gridwidth\":2},\"zaxis\":{\"backgroundcolor\":\"#E5ECF6\",\"gridcolor\":\"white\",\"linecolor\":\"white\",\"showbackground\":true,\"ticks\":\"\",\"zerolinecolor\":\"white\",\"gridwidth\":2}},\"shapedefaults\":{\"line\":{\"color\":\"#2a3f5f\"}},\"annotationdefaults\":{\"arrowcolor\":\"#2a3f5f\",\"arrowhead\":0,\"arrowwidth\":1},\"geo\":{\"bgcolor\":\"white\",\"landcolor\":\"#E5ECF6\",\"subunitcolor\":\"white\",\"showland\":true,\"showlakes\":true,\"lakecolor\":\"white\"},\"title\":{\"x\":0.05},\"mapbox\":{\"style\":\"light\"}}}},                        {\"responsive\": true}                    ).then(function(){\n",
       "                            \n",
       "var gd = document.getElementById('aaa798ce-adb3-412d-aeab-856f3a136321');\n",
       "var x = new MutationObserver(function (mutations, observer) {{\n",
       "        var display = window.getComputedStyle(gd).display;\n",
       "        if (!display || display === 'none') {{\n",
       "            console.log([gd, 'removed!']);\n",
       "            Plotly.purge(gd);\n",
       "            observer.disconnect();\n",
       "        }}\n",
       "}});\n",
       "\n",
       "// Listen for the removal of the full notebook cells\n",
       "var notebookContainer = gd.closest('#notebook-container');\n",
       "if (notebookContainer) {{\n",
       "    x.observe(notebookContainer, {childList: true});\n",
       "}}\n",
       "\n",
       "// Listen for the clearing of the current output cell\n",
       "var outputEl = gd.closest('.output');\n",
       "if (outputEl) {{\n",
       "    x.observe(outputEl, {childList: true});\n",
       "}}\n",
       "\n",
       "                        })                };                });            </script>        </div>"
      ]
     },
     "metadata": {},
     "output_type": "display_data"
    }
   ],
   "source": [
    "from cogent3 import make_tree\n",
    "\n",
    "def make_annotation(text, x, y, fontsize, color):\n",
    "    annot = dict(text=text, x=x, y=y,\n",
    "            showarrow=False, xanchor=\"left\",\n",
    "            font=dict(size=fontsize,\n",
    "                        family=\"Inconsolata, monospace\", color=color))\n",
    "    return annot\n",
    "\n",
    "def add_text_annotation(fig, name_text_colour, fontsize=24):\n",
    "    \"\"\"adds an annotation to the figure\"\"\"\n",
    "    annotes = []\n",
    "    num = 1\n",
    "    for name, val in name_text_colour.items():\n",
    "        node = fig.tree.get_node_matching_name(name)\n",
    "        annot = make_annotation(val[\"text\"], 1.1 * node.x,\n",
    "                                node.y, fontsize, val[\"color\"])\n",
    "        annotes.append(annot)\n",
    "        if name.startswith(\"edge\"):\n",
    "            continue\n",
    "\n",
    "        annot = make_annotation(f\"<b><i>P</i><sub>{num}</sub><b>\",\n",
    "                                node.x - 0.4, 0.2 + node.y,\n",
    "                                fontsize, val[\"color\"])\n",
    "        annotes.append(annot)\n",
    "\n",
    "        num += 1\n",
    "\n",
    "    fig.figure.layout.annotations = tuple(annotes)\n",
    "    return fig\n",
    "\n",
    "tree = make_tree(\"(A,(B,C))\")\n",
    "fig = tree.get_figure()\n",
    "fig.line_width = 4\n",
    "fig.marker = 14\n",
    "fig.tips_as_text = False\n",
    "fig.style_edges([\"A\", \"edge.0\"], line=dict(color=\"darkgreen\"))\n",
    "fig.style_edges(\"B\", line=dict(color=\"orange\"))\n",
    "fig.style_edges(\"C\", line=dict(color=\"blue\"))\n",
    "name_seq_colour = {\"A\": dict(color=\"darkgreen\", text=\"C C C G C T\"),\n",
    "                        \"B\":dict(color=\"orange\", text=\"T C C G G T\"),\n",
    "                        \"C\": dict(color=\"blue\", text=\"C C C G A T\"),\n",
    "                        \"edge.0\": dict(color=\"black\", text=\"π\"),\n",
    "                        }\n",
    "\n",
    "fig = add_text_annotation(fig, name_seq_colour, fontsize=30)\n",
    "fig.show(width=450, height=350)\n",
    "fig.write(\"phylo.pdf\")\n"
   ]
  }
 ],
 "metadata": {
  "kernelspec": {
   "display_name": "c312",
   "language": "python",
   "name": "python3"
  },
  "language_info": {
   "codemirror_mode": {
    "name": "ipython",
    "version": 3
   },
   "file_extension": ".py",
   "mimetype": "text/x-python",
   "name": "python",
   "nbconvert_exporter": "python",
   "pygments_lexer": "ipython3",
   "version": "3.12.1"
  }
 },
 "nbformat": 4,
 "nbformat_minor": 2
}
