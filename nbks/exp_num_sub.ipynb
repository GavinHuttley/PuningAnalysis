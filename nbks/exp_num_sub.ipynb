{
 "cells": [
  {
   "cell_type": "code",
   "execution_count": 1,
   "metadata": {},
   "outputs": [],
   "source": [
    "from cogent3.maths.matrix_exponential_integration import expected_number_subs\n",
    "from cogent3 import get_app, load_aligned_seqs\n",
    "import numpy as np\n",
    "\n",
    "from numpy import array\n",
    "\n",
    "GTR_model = get_app(\"model\", sm = \"GN\", \n",
    "                unique_trees = True, time_het = \"max\", optimise_motif_probs = True, \n",
    "                show_progress = False, opt_args = dict(max_restarts=5))\n",
    "\n",
    "no_degenerates = get_app(\n",
    "    \"omit_degenerates\",\n",
    "    moltype = None,\n",
    "    gap_is_degen = True,\n",
    "    motif_length = 1,\n",
    ")\n",
    "\n"
   ]
  },
  {
   "cell_type": "code",
   "execution_count": 2,
   "metadata": {},
   "outputs": [],
   "source": [
    "import pathlib\n",
    "paths = list(pathlib.Path(\"../data/16s-10\").glob(\"**/*.json\"))"
   ]
  },
  {
   "cell_type": "code",
   "execution_count": 3,
   "metadata": {},
   "outputs": [],
   "source": [
    "def get_matrix_pi(path):\n",
    "    aln = load_aligned_seqs(path)\n",
    "    aln1 = no_degenerates(aln)\n",
    "    result = GTR_model(aln1)\n",
    "    edge_name = result.tree.get_node_names(includeself = False)[0]\n",
    "    Q = result.lf.get_rate_matrix_for_edge(edge_name, calibrated=False)\n",
    "    pi = result.lf.get_motif_probs()\n",
    "    return Q, pi\n"
   ]
  },
  {
   "cell_type": "code",
   "execution_count": 4,
   "metadata": {},
   "outputs": [],
   "source": [
    "Q1, pi1 = get_matrix_pi(paths[0])\n",
    "Q2, pi2 = get_matrix_pi(paths[1])"
   ]
  },
  {
   "cell_type": "code",
   "execution_count": 5,
   "metadata": {},
   "outputs": [
    {
     "data": {
      "text/plain": [
       "array([[-0.17467399,  0.05491648,  0.03135201,  0.0884055 ],\n",
       "       [ 0.02545779, -0.09100662,  0.01185158,  0.05369725],\n",
       "       [ 0.00389331,  0.0186483 , -0.05678742,  0.0342458 ],\n",
       "       [ 0.02080633,  0.05933214,  0.02391244, -0.10405091]])"
      ]
     },
     "execution_count": 5,
     "metadata": {},
     "output_type": "execute_result"
    }
   ],
   "source": [
    "np.array(Q2)"
   ]
  },
  {
   "cell_type": "code",
   "execution_count": 6,
   "metadata": {},
   "outputs": [],
   "source": [
    "# R = np.array([\n",
    "#     [-4.5,  2.0,  1.0,  1.5],\n",
    "#     [ 2.0, -4.5,  1.5,  1.0],\n",
    "#     [ 1.0,  1.5, -4.5,  2.0],\n",
    "#     [ 1.5,  1.0,  2.0, -4.5]\n",
    "# ])\n",
    "\n",
    "R2 = np.array([\n",
    "    [-4.5,  2.0,  1.0,  1.5],\n",
    "    [ 2.0, -3.5,  0.5,  1.0],\n",
    "    [ 1.0,  0.5, -2.5,  1.0],\n",
    "    [ 0.5,  1.0,  1.0, -2.5]\n",
    "])\n",
    "\n",
    "\n",
    "Q = array([[-1.4, 0.1, 0.4, 0.9], \n",
    "           [4.0, -6.9, 0.9, 2.0], \n",
    "           [6.3, 2.0, -11.3, 3.0], \n",
    "           [0.7,0.1, 0.2, -1]], dtype=float)\n",
    "i = np.array([0.25, 0.25, 0.25, 0.25])\n",
    "\n",
    "test_nst_array1 = np.array([0.05, 0.35, 0.35, 0.25])\n",
    "\n",
    "\n",
    "Q_2 = np.array([[-0.0935, 0.0148, 0.0558, 0.0229], \n",
    "           [0.0469, -0.0676, 0.0108, 0.0099], \n",
    "           [0.00, 0.0058, -0.0319, 0.0261], \n",
    "           [0.00,0.0132, 0.0370, -0.0501]], dtype=float)\n",
    "\n",
    "Q3= np.array([\n",
    "    [-4.5,  2.0,  1.0,  1.5],\n",
    "    [ 2.0, -3.5,  0.5,  1.0],\n",
    "    [ 1.0,  0.5, -2.5,  1.0],\n",
    "    [ 0.0,  1.0,  2.0, -3.0]\n",
    "])"
   ]
  },
  {
   "cell_type": "code",
   "execution_count": 7,
   "metadata": {},
   "outputs": [
    {
     "name": "stdout",
     "output_type": "stream",
     "text": [
      "Stationary distribution pi: [0.05905364 0.11789734 0.50817748 0.31487154]\n"
     ]
    }
   ],
   "source": [
    "# Add an additional equation to account for the sum of pi elements being 1\n",
    "A = np.vstack([Q_2.T, np.ones(Q_2.shape[0])])\n",
    "\n",
    "# Right-hand side of the equations\n",
    "b = np.zeros(Q_2.shape[0] + 1)\n",
    "b[-1] = 1  # The sum of pi elements is 1\n",
    "\n",
    "# Solve for pi\n",
    "pi = np.linalg.lstsq(A, b, rcond=None)[0]\n",
    "\n",
    "print(\"Stationary distribution pi:\", pi)\n",
    "\n",
    "\n"
   ]
  },
  {
   "cell_type": "code",
   "execution_count": 8,
   "metadata": {},
   "outputs": [
    {
     "name": "stdout",
     "output_type": "stream",
     "text": [
      "Best p: [0.97 0.01 0.01 0.01]\n",
      "Largest d: 5.050499975249976\n"
     ]
    }
   ],
   "source": [
    "# Function to calculate d\n",
    "def calculate_d(p, R):\n",
    "    return np.linalg.norm(np.dot(p, R))\n",
    "\n",
    "# Settings for grid search\n",
    "resolution = 10\n",
    "min_val = 0.01  # Minimum value for each element in p to avoid extreme cases\n",
    "largest_d = -np.inf\n",
    "best_p = None\n",
    "\n",
    "# Adjusted search to ensure all elements are non-zero and sum to 1\n",
    "for a in np.linspace(min_val, 1 - 3*min_val, resolution):\n",
    "    for b in np.linspace(min_val, 1 - 2*min_val - a, resolution):\n",
    "        for c in np.linspace(min_val, 1 - min_val - a - b, resolution):\n",
    "            d = 1 - (a + b + c)  # Remaining value to ensure sum(p) = 1\n",
    "            if d >= min_val:  # Check if the last value is also above the minimum\n",
    "                p = np.array([a, b, c, d])\n",
    "                current_d = calculate_d(p, Q3)\n",
    "                if current_d > largest_d:\n",
    "                    largest_d = current_d\n",
    "                    best_p = p\n",
    "\n",
    "print(\"Best p:\", best_p)\n",
    "print(\"Largest d:\", largest_d)"
   ]
  },
  {
   "cell_type": "code",
   "execution_count": 9,
   "metadata": {},
   "outputs": [],
   "source": [
    "t_range =  np.linspace(0, 2, 100)\n",
    "s_exp_numb_sub_value_1 = list()\n",
    "n_exp_numb_sub_value_1 = list()\n",
    "\n",
    "for t in t_range:\n",
    "    s_exp_numb_sub_value_1.append(expected_number_subs(test_nst_array1, Q, t))\n",
    "\n",
    "\n",
    "for t in t_range:\n",
    "    n_exp_numb_sub_value_1.append(expected_number_subs(test_nst_array1, Q2, t))\n",
    "\n"
   ]
  },
  {
   "cell_type": "code",
   "execution_count": 10,
   "metadata": {},
   "outputs": [
    {
     "name": "stderr",
     "output_type": "stream",
     "text": [
      "/Users/gulugulu/opt/anaconda3/envs/c312/lib/python3.12/site-packages/plotly/express/_core.py:2065: FutureWarning: When grouping with a length-1 list-like, you will need to pass a length-1 tuple to get_group in a future version of pandas. Pass `(name,)` instead of `name` to silence this warning.\n",
      "  sf: grouped.get_group(s if len(s) > 1 else s[0])\n"
     ]
    },
    {
     "data": {
      "application/vnd.plotly.v1+json": {
       "config": {
        "plotlyServerURL": "https://plot.ly"
       },
       "data": [
        {
         "hovertemplate": "series=Stationary<br>t=%{x}<br>ENS=%{y}<extra></extra>",
         "legendgroup": "Stationary",
         "line": {
          "color": "#636efa",
          "dash": "solid",
          "width": 5
         },
         "marker": {
          "symbol": "circle"
         },
         "mode": "lines",
         "name": "Stationary",
         "orientation": "v",
         "showlegend": true,
         "type": "scatter",
         "x": [
          0,
          0.020202020202020204,
          0.04040404040404041,
          0.06060606060606061,
          0.08080808080808081,
          0.10101010101010102,
          0.12121212121212122,
          0.14141414141414144,
          0.16161616161616163,
          0.18181818181818182,
          0.20202020202020204,
          0.22222222222222224,
          0.24242424242424243,
          0.26262626262626265,
          0.2828282828282829,
          0.30303030303030304,
          0.32323232323232326,
          0.3434343434343435,
          0.36363636363636365,
          0.38383838383838387,
          0.4040404040404041,
          0.42424242424242425,
          0.4444444444444445,
          0.4646464646464647,
          0.48484848484848486,
          0.5050505050505051,
          0.5252525252525253,
          0.5454545454545455,
          0.5656565656565657,
          0.5858585858585859,
          0.6060606060606061,
          0.6262626262626263,
          0.6464646464646465,
          0.6666666666666667,
          0.686868686868687,
          0.7070707070707072,
          0.7272727272727273,
          0.7474747474747475,
          0.7676767676767677,
          0.787878787878788,
          0.8080808080808082,
          0.8282828282828284,
          0.8484848484848485,
          0.8686868686868687,
          0.888888888888889,
          0.9090909090909092,
          0.9292929292929294,
          0.9494949494949496,
          0.9696969696969697,
          0.98989898989899,
          1.0101010101010102,
          1.0303030303030305,
          1.0505050505050506,
          1.0707070707070707,
          1.090909090909091,
          1.1111111111111112,
          1.1313131313131315,
          1.1515151515151516,
          1.1717171717171717,
          1.191919191919192,
          1.2121212121212122,
          1.2323232323232325,
          1.2525252525252526,
          1.272727272727273,
          1.292929292929293,
          1.3131313131313131,
          1.3333333333333335,
          1.3535353535353536,
          1.373737373737374,
          1.393939393939394,
          1.4141414141414144,
          1.4343434343434345,
          1.4545454545454546,
          1.474747474747475,
          1.494949494949495,
          1.5151515151515154,
          1.5353535353535355,
          1.5555555555555556,
          1.575757575757576,
          1.595959595959596,
          1.6161616161616164,
          1.6363636363636365,
          1.6565656565656568,
          1.676767676767677,
          1.696969696969697,
          1.7171717171717173,
          1.7373737373737375,
          1.7575757575757578,
          1.777777777777778,
          1.7979797979797982,
          1.8181818181818183,
          1.8383838383838385,
          1.8585858585858588,
          1.878787878787879,
          1.8989898989898992,
          1.9191919191919193,
          1.9393939393939394,
          1.9595959595959598,
          1.97979797979798,
          2
         ],
         "xaxis": "x",
         "y": [
          0,
          0.12648963265519816,
          0.23770714531032996,
          0.3362976023747954,
          0.4244197019738122,
          0.5038395466757625,
          0.5760056958712523,
          0.6421093266772147,
          0.7031325355070706,
          0.7598871844070575,
          0.8130461997299809,
          0.863168837974045,
          0.9107211227995485,
          0.9560924111175915,
          0.9996088511333171,
          1.0415443406027138,
          1.0821294708699347,
          1.1215588448175573,
          1.1599970794167538,
          1.1975837419475819,
          1.2344374198850314,
          1.2706590853167121,
          1.3063348835197526,
          1.3415384503531627,
          1.3763328431321575,
          1.4107721536246849,
          1.444902858941009,
          1.4787649557350868,
          1.5123929147940243,
          1.5458164863560349,
          1.579061381047637,
          1.6121498469123223,
          1.6451011594125595,
          1.6779320383628287,
          1.710657003364086,
          1.7432886773563365,
          1.7758380463030143,
          1.808314681702344,
          1.8407269315334671,
          1.8730820843459928,
          1.9053865104562329,
          1.9376457835937688,
          1.9698647858256586,
          2.002047798154138,
          2.034198578822277,
          2.06632043105858,
          2.0984162617360704,
          2.130488632205862,
          2.1625398023829714,
          2.194571769007667,
          2.226586298874496,
          2.2585849577095245,
          2.2905691352811934,
          2.3225400672489567,
          2.3544988541843717,
          2.386446478139786,
          2.418383817088686,
          2.4503116575178963,
          2.4822307054140778,
          2.5141415958544555,
          2.5460449013837008,
          2.5779411393346976,
          2.6098307782300276,
          2.641714243382971,
          2.67359192180116,
          2.7054641664825265,
          2.7373313001814394,
          2.769193618712776,
          2.801051393852859,
          2.8329048758885254,
          2.8647542958589773,
          2.8965998675292592,
          2.928441789129239,
          2.9602802448875503,
          2.9921154063862323,
          3.0239474337584484,
          3.055776476748826,
          3.087602675653458,
          3.1194261621544244,
          3.151247060061813,
          3.183065485974555,
          3.2148815498699665,
          3.246695355630627,
          3.2785070015161404,
          3.3103165805863752,
          3.3421241810819415,
          3.3739298867669487,
          3.4057337772384617,
          3.4375359282065014,
          3.4693364117479923,
          3.501135296537593,
          3.5329326480580363,
          3.5647285287922275,
          3.596522998399122,
          3.6283161138751323,
          3.6601079297025927,
          3.6918984979866694,
          3.723687868581878,
          3.755476089209284,
          3.7872632055653055
         ],
         "yaxis": "y"
        },
        {
         "hovertemplate": "series=Non-Stationary<br>t=%{x}<br>ENS=%{y}<extra></extra>",
         "legendgroup": "Non-Stationary",
         "line": {
          "color": "#EF553B",
          "dash": "solid",
          "width": 5
         },
         "marker": {
          "symbol": "circle"
         },
         "mode": "lines",
         "name": "Non-Stationary",
         "orientation": "v",
         "showlegend": true,
         "type": "scatter",
         "x": [
          0,
          0.020202020202020204,
          0.04040404040404041,
          0.06060606060606061,
          0.08080808080808081,
          0.10101010101010102,
          0.12121212121212122,
          0.14141414141414144,
          0.16161616161616163,
          0.18181818181818182,
          0.20202020202020204,
          0.22222222222222224,
          0.24242424242424243,
          0.26262626262626265,
          0.2828282828282829,
          0.30303030303030304,
          0.32323232323232326,
          0.3434343434343435,
          0.36363636363636365,
          0.38383838383838387,
          0.4040404040404041,
          0.42424242424242425,
          0.4444444444444445,
          0.4646464646464647,
          0.48484848484848486,
          0.5050505050505051,
          0.5252525252525253,
          0.5454545454545455,
          0.5656565656565657,
          0.5858585858585859,
          0.6060606060606061,
          0.6262626262626263,
          0.6464646464646465,
          0.6666666666666667,
          0.686868686868687,
          0.7070707070707072,
          0.7272727272727273,
          0.7474747474747475,
          0.7676767676767677,
          0.787878787878788,
          0.8080808080808082,
          0.8282828282828284,
          0.8484848484848485,
          0.8686868686868687,
          0.888888888888889,
          0.9090909090909092,
          0.9292929292929294,
          0.9494949494949496,
          0.9696969696969697,
          0.98989898989899,
          1.0101010101010102,
          1.0303030303030305,
          1.0505050505050506,
          1.0707070707070707,
          1.090909090909091,
          1.1111111111111112,
          1.1313131313131315,
          1.1515151515151516,
          1.1717171717171717,
          1.191919191919192,
          1.2121212121212122,
          1.2323232323232325,
          1.2525252525252526,
          1.272727272727273,
          1.292929292929293,
          1.3131313131313131,
          1.3333333333333335,
          1.3535353535353536,
          1.373737373737374,
          1.393939393939394,
          1.4141414141414144,
          1.4343434343434345,
          1.4545454545454546,
          1.474747474747475,
          1.494949494949495,
          1.5151515151515154,
          1.5353535353535355,
          1.5555555555555556,
          1.575757575757576,
          1.595959595959596,
          1.6161616161616164,
          1.6363636363636365,
          1.6565656565656568,
          1.676767676767677,
          1.696969696969697,
          1.7171717171717173,
          1.7373737373737375,
          1.7575757575757578,
          1.777777777777778,
          1.7979797979797982,
          1.8181818181818183,
          1.8383838383838385,
          1.8585858585858588,
          1.878787878787879,
          1.8989898989898992,
          1.9191919191919193,
          1.9393939393939394,
          1.9595959595959598,
          1.97979797979798,
          2
         ],
         "xaxis": "x",
         "y": [
          0,
          0.0017471528288107907,
          0.0034946978304488683,
          0.005242633832095136,
          0.0069909596648770325,
          0.0087396741638544,
          0.010488776168005323,
          0.012238264520212084,
          0.013988138067247122,
          0.01573839565975911,
          0.017489036152258972,
          0.019240058403106088,
          0.02099146127449444,
          0.022743243632438886,
          0.024495404346761403,
          0.026247942291077485,
          0.02800085634278251,
          0.02975414538303814,
          0.03150780829675892,
          0.03326184397259872,
          0.03501625130293737,
          0.03677102918386729,
          0.03852617651518025,
          0.04028169220035399,
          0.0420375751465391,
          0.04379382426454585,
          0.04555043846883107,
          0.047307416677485045,
          0.049064757812218585,
          0.050822460798350004,
          0.0525805245647922,
          0.05433894804403982,
          0.05609773017215638,
          0.05785686988876156,
          0.059616366137018456,
          0.06137621786362087,
          0.0631364240187807,
          0.06489698355621532,
          0.0666578954331351,
          0.06841915861023093,
          0.07018077205166164,
          0.07194273472504174,
          0.07370504560142896,
          0.0754677036553121,
          0.07723070786459853,
          0.07899405721060218,
          0.08075775067803126,
          0.08252178725497619,
          0.08428616593289744,
          0.0860508857066136,
          0.08781594557428926,
          0.08958134453742321,
          0.09134708160083635,
          0.09311315577266004,
          0.09487956606432411,
          0.09664631149054512,
          0.09841339106931482,
          0.1001808038218881,
          0.10194854877277165,
          0.10371662494971234,
          0.10548503138368544,
          0.10725376710888335,
          0.109022831162704,
          0.11079222258573948,
          0.11256194042176457,
          0.11433198371772546,
          0.11610235152372858,
          0.11787304289302895,
          0.11964405688201943,
          0.12141539255021912,
          0.12318704896026263,
          0.12495902517788862,
          0.12673132027192896,
          0.12850393331429769,
          0.1302768633799799,
          0.13205010954702112,
          0.13382367089651598,
          0.13559754651259778,
          0.13737173548242745,
          0.1391462368961828,
          0.14092104984704784,
          0.14269617343120203,
          0.1444716067478097,
          0.1462473488990094,
          0.14802339898990324,
          0.14979975612854662,
          0.1515764194259373,
          0.1533533879960054,
          0.15513066095560274,
          0.1569082374244924,
          0.15868611652533848,
          0.16046429738369597,
          0.1622427791280001,
          0.16402156088955638,
          0.16580064180253043,
          0.16758002100393754,
          0.16935969763363298,
          0.17113967083430162,
          0.17291993975144782,
          0.1747005035333858
         ],
         "yaxis": "y"
        }
       ],
       "layout": {
        "font": {
         "size": 25
        },
        "height": 600,
        "legend": {
         "orientation": "h",
         "title": {
          "font": {
           "size": 18
          },
          "text": ""
         },
         "tracegroupgap": 0,
         "x": 0.5,
         "xanchor": "center",
         "y": -0.25,
         "yanchor": "bottom"
        },
        "margin": {
         "t": 60
        },
        "template": {
         "data": {
          "bar": [
           {
            "error_x": {
             "color": "#2a3f5f"
            },
            "error_y": {
             "color": "#2a3f5f"
            },
            "marker": {
             "line": {
              "color": "#E5ECF6",
              "width": 0.5
             },
             "pattern": {
              "fillmode": "overlay",
              "size": 10,
              "solidity": 0.2
             }
            },
            "type": "bar"
           }
          ],
          "barpolar": [
           {
            "marker": {
             "line": {
              "color": "#E5ECF6",
              "width": 0.5
             },
             "pattern": {
              "fillmode": "overlay",
              "size": 10,
              "solidity": 0.2
             }
            },
            "type": "barpolar"
           }
          ],
          "carpet": [
           {
            "aaxis": {
             "endlinecolor": "#2a3f5f",
             "gridcolor": "white",
             "linecolor": "white",
             "minorgridcolor": "white",
             "startlinecolor": "#2a3f5f"
            },
            "baxis": {
             "endlinecolor": "#2a3f5f",
             "gridcolor": "white",
             "linecolor": "white",
             "minorgridcolor": "white",
             "startlinecolor": "#2a3f5f"
            },
            "type": "carpet"
           }
          ],
          "choropleth": [
           {
            "colorbar": {
             "outlinewidth": 0,
             "ticks": ""
            },
            "type": "choropleth"
           }
          ],
          "contour": [
           {
            "colorbar": {
             "outlinewidth": 0,
             "ticks": ""
            },
            "colorscale": [
             [
              0,
              "#0d0887"
             ],
             [
              0.1111111111111111,
              "#46039f"
             ],
             [
              0.2222222222222222,
              "#7201a8"
             ],
             [
              0.3333333333333333,
              "#9c179e"
             ],
             [
              0.4444444444444444,
              "#bd3786"
             ],
             [
              0.5555555555555556,
              "#d8576b"
             ],
             [
              0.6666666666666666,
              "#ed7953"
             ],
             [
              0.7777777777777778,
              "#fb9f3a"
             ],
             [
              0.8888888888888888,
              "#fdca26"
             ],
             [
              1,
              "#f0f921"
             ]
            ],
            "type": "contour"
           }
          ],
          "contourcarpet": [
           {
            "colorbar": {
             "outlinewidth": 0,
             "ticks": ""
            },
            "type": "contourcarpet"
           }
          ],
          "heatmap": [
           {
            "colorbar": {
             "outlinewidth": 0,
             "ticks": ""
            },
            "colorscale": [
             [
              0,
              "#0d0887"
             ],
             [
              0.1111111111111111,
              "#46039f"
             ],
             [
              0.2222222222222222,
              "#7201a8"
             ],
             [
              0.3333333333333333,
              "#9c179e"
             ],
             [
              0.4444444444444444,
              "#bd3786"
             ],
             [
              0.5555555555555556,
              "#d8576b"
             ],
             [
              0.6666666666666666,
              "#ed7953"
             ],
             [
              0.7777777777777778,
              "#fb9f3a"
             ],
             [
              0.8888888888888888,
              "#fdca26"
             ],
             [
              1,
              "#f0f921"
             ]
            ],
            "type": "heatmap"
           }
          ],
          "heatmapgl": [
           {
            "colorbar": {
             "outlinewidth": 0,
             "ticks": ""
            },
            "colorscale": [
             [
              0,
              "#0d0887"
             ],
             [
              0.1111111111111111,
              "#46039f"
             ],
             [
              0.2222222222222222,
              "#7201a8"
             ],
             [
              0.3333333333333333,
              "#9c179e"
             ],
             [
              0.4444444444444444,
              "#bd3786"
             ],
             [
              0.5555555555555556,
              "#d8576b"
             ],
             [
              0.6666666666666666,
              "#ed7953"
             ],
             [
              0.7777777777777778,
              "#fb9f3a"
             ],
             [
              0.8888888888888888,
              "#fdca26"
             ],
             [
              1,
              "#f0f921"
             ]
            ],
            "type": "heatmapgl"
           }
          ],
          "histogram": [
           {
            "marker": {
             "pattern": {
              "fillmode": "overlay",
              "size": 10,
              "solidity": 0.2
             }
            },
            "type": "histogram"
           }
          ],
          "histogram2d": [
           {
            "colorbar": {
             "outlinewidth": 0,
             "ticks": ""
            },
            "colorscale": [
             [
              0,
              "#0d0887"
             ],
             [
              0.1111111111111111,
              "#46039f"
             ],
             [
              0.2222222222222222,
              "#7201a8"
             ],
             [
              0.3333333333333333,
              "#9c179e"
             ],
             [
              0.4444444444444444,
              "#bd3786"
             ],
             [
              0.5555555555555556,
              "#d8576b"
             ],
             [
              0.6666666666666666,
              "#ed7953"
             ],
             [
              0.7777777777777778,
              "#fb9f3a"
             ],
             [
              0.8888888888888888,
              "#fdca26"
             ],
             [
              1,
              "#f0f921"
             ]
            ],
            "type": "histogram2d"
           }
          ],
          "histogram2dcontour": [
           {
            "colorbar": {
             "outlinewidth": 0,
             "ticks": ""
            },
            "colorscale": [
             [
              0,
              "#0d0887"
             ],
             [
              0.1111111111111111,
              "#46039f"
             ],
             [
              0.2222222222222222,
              "#7201a8"
             ],
             [
              0.3333333333333333,
              "#9c179e"
             ],
             [
              0.4444444444444444,
              "#bd3786"
             ],
             [
              0.5555555555555556,
              "#d8576b"
             ],
             [
              0.6666666666666666,
              "#ed7953"
             ],
             [
              0.7777777777777778,
              "#fb9f3a"
             ],
             [
              0.8888888888888888,
              "#fdca26"
             ],
             [
              1,
              "#f0f921"
             ]
            ],
            "type": "histogram2dcontour"
           }
          ],
          "mesh3d": [
           {
            "colorbar": {
             "outlinewidth": 0,
             "ticks": ""
            },
            "type": "mesh3d"
           }
          ],
          "parcoords": [
           {
            "line": {
             "colorbar": {
              "outlinewidth": 0,
              "ticks": ""
             }
            },
            "type": "parcoords"
           }
          ],
          "pie": [
           {
            "automargin": true,
            "type": "pie"
           }
          ],
          "scatter": [
           {
            "fillpattern": {
             "fillmode": "overlay",
             "size": 10,
             "solidity": 0.2
            },
            "type": "scatter"
           }
          ],
          "scatter3d": [
           {
            "line": {
             "colorbar": {
              "outlinewidth": 0,
              "ticks": ""
             }
            },
            "marker": {
             "colorbar": {
              "outlinewidth": 0,
              "ticks": ""
             }
            },
            "type": "scatter3d"
           }
          ],
          "scattercarpet": [
           {
            "marker": {
             "colorbar": {
              "outlinewidth": 0,
              "ticks": ""
             }
            },
            "type": "scattercarpet"
           }
          ],
          "scattergeo": [
           {
            "marker": {
             "colorbar": {
              "outlinewidth": 0,
              "ticks": ""
             }
            },
            "type": "scattergeo"
           }
          ],
          "scattergl": [
           {
            "marker": {
             "colorbar": {
              "outlinewidth": 0,
              "ticks": ""
             }
            },
            "type": "scattergl"
           }
          ],
          "scattermapbox": [
           {
            "marker": {
             "colorbar": {
              "outlinewidth": 0,
              "ticks": ""
             }
            },
            "type": "scattermapbox"
           }
          ],
          "scatterpolar": [
           {
            "marker": {
             "colorbar": {
              "outlinewidth": 0,
              "ticks": ""
             }
            },
            "type": "scatterpolar"
           }
          ],
          "scatterpolargl": [
           {
            "marker": {
             "colorbar": {
              "outlinewidth": 0,
              "ticks": ""
             }
            },
            "type": "scatterpolargl"
           }
          ],
          "scatterternary": [
           {
            "marker": {
             "colorbar": {
              "outlinewidth": 0,
              "ticks": ""
             }
            },
            "type": "scatterternary"
           }
          ],
          "surface": [
           {
            "colorbar": {
             "outlinewidth": 0,
             "ticks": ""
            },
            "colorscale": [
             [
              0,
              "#0d0887"
             ],
             [
              0.1111111111111111,
              "#46039f"
             ],
             [
              0.2222222222222222,
              "#7201a8"
             ],
             [
              0.3333333333333333,
              "#9c179e"
             ],
             [
              0.4444444444444444,
              "#bd3786"
             ],
             [
              0.5555555555555556,
              "#d8576b"
             ],
             [
              0.6666666666666666,
              "#ed7953"
             ],
             [
              0.7777777777777778,
              "#fb9f3a"
             ],
             [
              0.8888888888888888,
              "#fdca26"
             ],
             [
              1,
              "#f0f921"
             ]
            ],
            "type": "surface"
           }
          ],
          "table": [
           {
            "cells": {
             "fill": {
              "color": "#EBF0F8"
             },
             "line": {
              "color": "white"
             }
            },
            "header": {
             "fill": {
              "color": "#C8D4E3"
             },
             "line": {
              "color": "white"
             }
            },
            "type": "table"
           }
          ]
         },
         "layout": {
          "annotationdefaults": {
           "arrowcolor": "#2a3f5f",
           "arrowhead": 0,
           "arrowwidth": 1
          },
          "autotypenumbers": "strict",
          "coloraxis": {
           "colorbar": {
            "outlinewidth": 0,
            "ticks": ""
           }
          },
          "colorscale": {
           "diverging": [
            [
             0,
             "#8e0152"
            ],
            [
             0.1,
             "#c51b7d"
            ],
            [
             0.2,
             "#de77ae"
            ],
            [
             0.3,
             "#f1b6da"
            ],
            [
             0.4,
             "#fde0ef"
            ],
            [
             0.5,
             "#f7f7f7"
            ],
            [
             0.6,
             "#e6f5d0"
            ],
            [
             0.7,
             "#b8e186"
            ],
            [
             0.8,
             "#7fbc41"
            ],
            [
             0.9,
             "#4d9221"
            ],
            [
             1,
             "#276419"
            ]
           ],
           "sequential": [
            [
             0,
             "#0d0887"
            ],
            [
             0.1111111111111111,
             "#46039f"
            ],
            [
             0.2222222222222222,
             "#7201a8"
            ],
            [
             0.3333333333333333,
             "#9c179e"
            ],
            [
             0.4444444444444444,
             "#bd3786"
            ],
            [
             0.5555555555555556,
             "#d8576b"
            ],
            [
             0.6666666666666666,
             "#ed7953"
            ],
            [
             0.7777777777777778,
             "#fb9f3a"
            ],
            [
             0.8888888888888888,
             "#fdca26"
            ],
            [
             1,
             "#f0f921"
            ]
           ],
           "sequentialminus": [
            [
             0,
             "#0d0887"
            ],
            [
             0.1111111111111111,
             "#46039f"
            ],
            [
             0.2222222222222222,
             "#7201a8"
            ],
            [
             0.3333333333333333,
             "#9c179e"
            ],
            [
             0.4444444444444444,
             "#bd3786"
            ],
            [
             0.5555555555555556,
             "#d8576b"
            ],
            [
             0.6666666666666666,
             "#ed7953"
            ],
            [
             0.7777777777777778,
             "#fb9f3a"
            ],
            [
             0.8888888888888888,
             "#fdca26"
            ],
            [
             1,
             "#f0f921"
            ]
           ]
          },
          "colorway": [
           "#636efa",
           "#EF553B",
           "#00cc96",
           "#ab63fa",
           "#FFA15A",
           "#19d3f3",
           "#FF6692",
           "#B6E880",
           "#FF97FF",
           "#FECB52"
          ],
          "font": {
           "color": "#2a3f5f"
          },
          "geo": {
           "bgcolor": "white",
           "lakecolor": "white",
           "landcolor": "#E5ECF6",
           "showlakes": true,
           "showland": true,
           "subunitcolor": "white"
          },
          "hoverlabel": {
           "align": "left"
          },
          "hovermode": "closest",
          "mapbox": {
           "style": "light"
          },
          "paper_bgcolor": "white",
          "plot_bgcolor": "#E5ECF6",
          "polar": {
           "angularaxis": {
            "gridcolor": "white",
            "linecolor": "white",
            "ticks": ""
           },
           "bgcolor": "#E5ECF6",
           "radialaxis": {
            "gridcolor": "white",
            "linecolor": "white",
            "ticks": ""
           }
          },
          "scene": {
           "xaxis": {
            "backgroundcolor": "#E5ECF6",
            "gridcolor": "white",
            "gridwidth": 2,
            "linecolor": "white",
            "showbackground": true,
            "ticks": "",
            "zerolinecolor": "white"
           },
           "yaxis": {
            "backgroundcolor": "#E5ECF6",
            "gridcolor": "white",
            "gridwidth": 2,
            "linecolor": "white",
            "showbackground": true,
            "ticks": "",
            "zerolinecolor": "white"
           },
           "zaxis": {
            "backgroundcolor": "#E5ECF6",
            "gridcolor": "white",
            "gridwidth": 2,
            "linecolor": "white",
            "showbackground": true,
            "ticks": "",
            "zerolinecolor": "white"
           }
          },
          "shapedefaults": {
           "line": {
            "color": "#2a3f5f"
           }
          },
          "ternary": {
           "aaxis": {
            "gridcolor": "white",
            "linecolor": "white",
            "ticks": ""
           },
           "baxis": {
            "gridcolor": "white",
            "linecolor": "white",
            "ticks": ""
           },
           "bgcolor": "#E5ECF6",
           "caxis": {
            "gridcolor": "white",
            "linecolor": "white",
            "ticks": ""
           }
          },
          "title": {
           "x": 0.05
          },
          "xaxis": {
           "automargin": true,
           "gridcolor": "white",
           "linecolor": "white",
           "ticks": "",
           "title": {
            "standoff": 15
           },
           "zerolinecolor": "white",
           "zerolinewidth": 2
          },
          "yaxis": {
           "automargin": true,
           "gridcolor": "white",
           "linecolor": "white",
           "ticks": "",
           "title": {
            "standoff": 15
           },
           "zerolinecolor": "white",
           "zerolinewidth": 2
          }
         }
        },
        "width": 600,
        "xaxis": {
         "anchor": "y",
         "domain": [
          0,
          1
         ],
         "tickfont": {
          "size": 20
         },
         "title": {
          "font": {
           "size": 25
          },
          "text": "t"
         }
        },
        "yaxis": {
         "anchor": "x",
         "domain": [
          0,
          1
         ],
         "tickfont": {
          "size": 20
         },
         "title": {
          "font": {
           "size": 25
          },
          "text": "ENS"
         }
        }
       }
      }
     },
     "metadata": {},
     "output_type": "display_data"
    }
   ],
   "source": [
    "import plotly.express as px\n",
    "\n",
    "# Assuming t_range, s_exp_numb_sub_value_1, and n_exp_numb_sub_value_1 are defined elsewhere in your code\n",
    "\n",
    "data1 = []\n",
    "for i, t in enumerate(t_range):\n",
    "    data1.append({'t': t, 'value': s_exp_numb_sub_value_1[i], 'series': 'Stationary'})\n",
    "    data1.append({'t': t, 'value': n_exp_numb_sub_value_1[i], 'series': 'Non-Stationary'})\n",
    "\n",
    "# Plotting with Plotly Express\n",
    "fig = px.line(data1, x='t', y='value', color='series', labels={'value': 'ENS'})\n",
    "fig.update_traces(line=dict(width=5))\n",
    "\n",
    "# Setting plot aspect to equal (makes width and height equal)\n",
    "fig.update_layout(width=600, height=600, legend_title_text='')\n",
    "\n",
    "# Remove the legend title\n",
    "fig.update_layout(legend_title_text='')\n",
    "\n",
    "fig.update_layout(\n",
    "    xaxis_title='t',\n",
    "    yaxis_title='ENS',\n",
    "    font=dict(\n",
    "        size=25\n",
    "    )\n",
    ")\n",
    "\n",
    "# Update legend title font size\n",
    "fig.update_layout(legend_title_font=dict(size=18))\n",
    "\n",
    "# Update axis label font size\n",
    "fig.update_layout(\n",
    "    xaxis=dict(\n",
    "        title_font=dict(size=25),\n",
    "        tickfont=dict(size=20),\n",
    "    ),\n",
    "    yaxis=dict(\n",
    "        title_font=dict(size=25),\n",
    "        tickfont=dict(size=20),\n",
    "    )\n",
    ")\n",
    "\n",
    "# Move the legend to the bottom\n",
    "fig.update_layout(legend=dict(\n",
    "    orientation='h',\n",
    "    yanchor='bottom',\n",
    "    y=-0.25,  # Adjust this value as needed to move the legend up or down\n",
    "    xanchor='center',\n",
    "    x=0.5  # Adjust this value as needed to move the legend left or right\n",
    "))\n",
    "\n",
    "fig.show()\n"
   ]
  },
  {
   "cell_type": "code",
   "execution_count": 11,
   "metadata": {},
   "outputs": [],
   "source": [
    "# from scipy.stats import linregress\n",
    "\n",
    "# # Perform linear regression for s_exp_numb_sub_value\n",
    "# slope_s, intercept_s, r_value_s, p_value_s, std_err_s = linregress(t_range, s_exp_numb_sub_value_1)\n",
    "# print(\"Linear regression for s_exp_numb_sub_value:\")\n",
    "# print(f\"Slope: {slope_s}, Intercept: {intercept_s}, R-squared: {r_value_s**2}, P-value: {p_value_s}\")\n",
    "\n",
    "# # Perform linear regression for n_exp_numb_sub_value_1\n",
    "# slope_n1, intercept_n1, r_value_n1, p_value_n1, std_err_n1 = linregress(t_range, n_exp_numb_sub_value_1)\n",
    "# print(\"Linear regression for n_exp_numb_sub_value_1:\")\n",
    "# print(f\"Slope: {slope_n1}, Intercept: {intercept_n1}, R-squared: {r_value_n1**2}, P-value: {p_value_n1}\")"
   ]
  }
 ],
 "metadata": {
  "kernelspec": {
   "display_name": "c312",
   "language": "python",
   "name": "python3"
  },
  "language_info": {
   "codemirror_mode": {
    "name": "ipython",
    "version": 3
   },
   "file_extension": ".py",
   "mimetype": "text/x-python",
   "name": "python",
   "nbconvert_exporter": "python",
   "pygments_lexer": "ipython3",
   "version": "3.12.1"
  }
 },
 "nbformat": 4,
 "nbformat_minor": 2
}
