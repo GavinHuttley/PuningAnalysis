{
 "cells": [
  {
   "cell_type": "code",
   "execution_count": 2,
   "metadata": {},
   "outputs": [],
   "source": [
    "import numpy as np\n",
    "from clock_project.simulation.magnitude_quantification import calculate_ENS, calculate_non_stationarity\n",
    "from clock_project.simulation.waiting_time_simulator_original import generate_rate_matrix\n"
   ]
  }
 ],
 "metadata": {
  "kernelspec": {
   "display_name": "c311",
   "language": "python",
   "name": "python3"
  },
  "language_info": {
   "codemirror_mode": {
    "name": "ipython",
    "version": 3
   },
   "file_extension": ".py",
   "mimetype": "text/x-python",
   "name": "python",
   "nbconvert_exporter": "python",
   "pygments_lexer": "ipython3",
   "version": "3.11.8"
  }
 },
 "nbformat": 4,
 "nbformat_minor": 2
}
