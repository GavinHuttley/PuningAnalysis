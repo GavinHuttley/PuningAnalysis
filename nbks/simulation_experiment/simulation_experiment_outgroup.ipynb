{
 "cells": [
  {
   "cell_type": "code",
   "execution_count": 1,
   "metadata": {},
   "outputs": [],
   "source": [
    "import numpy as np\n",
    "from cogent3 import get_app, open_data_store\n",
    "from cogent3.app.composable import define_app, NotCompleted\n",
    "from cogent3.maths.measure import jsd\n",
    "import scipy.stats as stats\n",
    "from scipy.spatial.distance import correlation\n",
    "import plotly.express as px\n",
    "import plotly.graph_objects as go"
   ]
  },
  {
   "cell_type": "code",
   "execution_count": 2,
   "metadata": {},
   "outputs": [],
   "source": [
    "from clock_project.simulation.wts import taxonomic_triple_simulation, three_seq_simulation_star_shape, generate_ancestor\n"
   ]
  },
  {
   "cell_type": "code",
   "execution_count": 3,
   "metadata": {},
   "outputs": [],
   "source": [
    "import json\n",
    "with open ('../ensembl_genome_analysis/matrix_full.json', 'r') as infile:\n",
    "    matrices_dict = json.load(infile)"
   ]
  },
  {
   "cell_type": "code",
   "execution_count": 4,
   "metadata": {},
   "outputs": [],
   "source": [
    "matrix_collection = []\n",
    "for gene, matrices_list in matrices_dict.items():\n",
    "    matrix_collection.extend(matrices_list)"
   ]
  },
  {
   "cell_type": "code",
   "execution_count": 6,
   "metadata": {},
   "outputs": [],
   "source": [
    "Q_ingroup1, Q_ingroup2, Q_outgroup = matrices_dict['ENSG00000020129'][0].values()"
   ]
  },
  {
   "cell_type": "code",
   "execution_count": 7,
   "metadata": {},
   "outputs": [],
   "source": [
    "Q_ingroup1_, Q_ingroup2_, Q_outgroup_ = matrices_dict['ENSG00000048707'][0].values()"
   ]
  },
  {
   "cell_type": "code",
   "execution_count": 8,
   "metadata": {},
   "outputs": [],
   "source": [
    "p0 = [0.25, 0.25, 0.25, 0.25]"
   ]
  },
  {
   "cell_type": "code",
   "execution_count": 10,
   "metadata": {},
   "outputs": [],
   "source": [
    "path1 = '/Users/gulugulu/Desktop/honours/data_local/whole_genome_mammal87/triads_model_fitting_350_threshold/ENSG00000007933/model_fitting_result/0.json'\n",
    "load_json_app = get_app(\"load_json\")\n",
    "res = load_json_app(path1)"
   ]
  },
  {
   "cell_type": "code",
   "execution_count": 13,
   "metadata": {},
   "outputs": [],
   "source": [
    "\n",
    "def get_seed_ancester_seq(pi_low, pi_high, len_short, len_long):\n",
    "    seq_ls = generate_ancestor(len_short, pi_low)\n",
    "    seq_ll = generate_ancestor(len_long, pi_low)\n",
    "    seq_hs = generate_ancestor(len_short, pi_high)\n",
    "    seq_hl = generate_ancestor(len_long, pi_high)\n",
    "    seqs = {'low_short': seq_ls, 'high_short': seq_hs, 'low_long': seq_ll, 'high_long': seq_hl}\n",
    "    return seqs\n"
   ]
  },
  {
   "cell_type": "code",
   "execution_count": 14,
   "metadata": {},
   "outputs": [],
   "source": [
    "from cogent3 import open_data_store\n",
    "def simulate_taxanomic_triples(ancester_seq, Q_collection, pi, seed, t, path_to_dir):\n",
    "    length = len(ancester_seq)\n",
    "    for matrix_dict in Q_collection:\n",
    "        Q_ingroup1, Q_ingroup2, Q_outgroup = matrices_dict.values()\n",
    "        aln, ens = taxanomic_triple_simulation(p0, np.array(Q_ingroup1), np.array(Q_ingroup2), np.array(Q_outgroup), 0, t, length, 1, 123, ancester_seq)\n",
    "        path_to_dir = '/Users/gulugulu/Desktop/honours/data_local/bootstrapping_test_non'\n",
    "        out_dstore = open_data_store(path_to_dir, mode=\"w\", suffix=\"json\")\n",
    "        write_json_app = get_app(\"write_json\", data_store=out_dstore)\n",
    "        write_json_app(aln, identifier = Q_collection.index(matrix_dict))\n",
    "\n",
    "\n",
    "\n",
    "\n"
   ]
  },
  {
   "cell_type": "code",
   "execution_count": 15,
   "metadata": {},
   "outputs": [],
   "source": [
    "ances_seq = generate_ancestor(300, p0)"
   ]
  },
  {
   "cell_type": "code",
   "execution_count": 16,
   "metadata": {},
   "outputs": [
    {
     "data": {
      "text/plain": [
       "DataMember(data_store=/Users/gulugulu/Desktop/honours/data_local/simulated_triple_aln, unique_id=0.json)"
      ]
     },
     "execution_count": 16,
     "metadata": {},
     "output_type": "execute_result"
    }
   ],
   "source": [
    "path_to_dir = '/Users/gulugulu/Desktop/honours/data_local/simulated_triple_aln'\n",
    "out_dstore = open_data_store(path_to_dir, mode=\"w\", suffix=\"json\")\n",
    "write_json_app = get_app(\"write_json\", data_store=out_dstore)\n",
    "Q_ingroup1, Q_ingroup2, Q_outgroup = matrix_collection[0].values()\n",
    "aln, ens = taxonomic_triple_simulation(p0, np.array(Q_ingroup1), np.array(Q_ingroup2), np.array(Q_outgroup), 0, 1, 1000, 1, 123, ances_seq)\n",
    "# Open a data store for each simulation\n",
    "write_json_app(aln, identifier=f'{matrix_collection.index(matrix_collection[0])}.json')"
   ]
  },
  {
   "cell_type": "code",
   "execution_count": 17,
   "metadata": {},
   "outputs": [],
   "source": [
    "import itertools\n",
    "\n",
    "def generate_combinations(time_list, length_list, pi_list):\n",
    "    # Create all combinations of time, length, and pi\n",
    "    combinations = itertools.product(time_list, length_list, pi_list)\n",
    "    return list(combinations)\n",
    "\n",
    "# Example lists\n",
    "time_list = [0, 1]\n",
    "length_list = [100, 1000]\n",
    "pi_list = ['pi1', 'pi2']\n",
    "\n",
    "# Generate and print all combinations\n",
    "combinations = generate_combinations(time_list, length_list, pi_list)\n"
   ]
  },
  {
   "cell_type": "code",
   "execution_count": 49,
   "metadata": {},
   "outputs": [],
   "source": [
    "aln1, ens1 = taxonomic_triple_simulation(p0, np.array(Q_ingroup1), np.array(Q_ingroup2), np.array(Q_outgroup), 0, 1, 300, 1, 123, ances_seq)"
   ]
  },
  {
   "cell_type": "code",
   "execution_count": 39,
   "metadata": {},
   "outputs": [],
   "source": [
    "aln2, ens2= taxonomic_triple_simulation(p0, np.array(Q_ingroup1), np.array(Q_ingroup2), np.array(Q_outgroup_), 0, 1, 300, 1, 123, ances_seq)"
   ]
  },
  {
   "cell_type": "markdown",
   "metadata": {},
   "source": [
    "Model fitting for all the simulated alignment"
   ]
  },
  {
   "cell_type": "code",
   "execution_count": 66,
   "metadata": {},
   "outputs": [],
   "source": [
    "from cogent3.app.typing import AlignedSeqsType, SerialisableType, IdentifierType\n",
    "\n",
    "@define_app\n",
    "def model_fitting(aln: AlignedSeqsType, opt_args = None) -> SerialisableType:\n",
    "    tree=\"('outgroup_edge3',('ingroup_edge1','ingroup_edge2')'internal_node');\"\n",
    "    GN_model = get_app(\"model\", \"GN\", \n",
    "                    tree=tree,\n",
    "                    opt_args=opt_args,\n",
    "                    # unique_trees=True,\n",
    "                    # lf_args=dict(discrete_edges=[['outgroup_edge3']]),\n",
    "                    time_het=\"max\",\n",
    "                    optimise_motif_probs=True)\n",
    "    res = GN_model(aln)\n",
    "    return res\n",
    "\n",
    "model_fitting_app = model_fitting()\n",
    "\n",
    "@define_app\n",
    "def customised_load_json(DataMember: IdentifierType) -> AlignedSeqsType:\n",
    "    unique_id = DataMember.unique_id\n",
    "    aln = load_json_app(DataMember)\n",
    "    aln.source = unique_id\n",
    "    return aln\n",
    "\n",
    "def get_id(result):\n",
    "    return result.alignment.source\n",
    "\n",
    "\n",
    "load_json_app_customised = customised_load_json()\n",
    "load_json_app = get_app(\"load_json\")\n",
    "\n",
    "outdir = '/Users/gulugulu/Desktop/honours/data_local/simulated_triple_model_fitting/aln_high_5000_1'\n",
    "out_dstore = open_data_store(outdir, mode=\"w\", suffix=\"json\")\n",
    "write_json_app = get_app(\"write_json\", data_store=out_dstore, id_from_source = get_id)\n",
    "\n",
    "simulated_aln_high_5000_2 = '/Users/gulugulu/Desktop/honours/data_local/simulated_triple_aln/aln_high_5000_2'\n",
    "input_data_store_simulated_aln = open_data_store(simulated_aln_high_5000_2, suffix= 'json')\n",
    "\n"
   ]
  },
  {
   "cell_type": "code",
   "execution_count": 50,
   "metadata": {},
   "outputs": [],
   "source": [
    "a = model_fitting_app(aln1)"
   ]
  },
  {
   "cell_type": "code",
   "execution_count": 63,
   "metadata": {},
   "outputs": [
    {
     "data": {
      "text/html": [
       "\n",
       "<div class=\"c3table\">\n",
       "\n",
       "<style>\n",
       ".c3table table {margin: 10px 0;}\n",
       ".c3table tr:last-child {border-bottom: 1px solid #000;} \n",
       ".c3table tr > th {text-align: left; padding: 0 5px;}\n",
       ".c3table tr > td {text-align: left; padding: 5px;}\n",
       ".c3table tr:nth-child(even) {background: #f7f7f7 !important;}\n",
       ".c3table .ellipsis {background: rgba(0, 0, 0, .01);}\n",
       ".c3table .index {background: rgba(161, 195, 209, 0.25); margin: 10px; font-weight: 600;}\n",
       ".c3table .head_cell {background: rgba(161, 195, 209, 0.75); font-weight: bold; text-align: center;}\n",
       ".c3table caption {color: rgb(250, 250, 250); background: rgba(30, 140, 200, 1); padding: 3px; white-space: nowrap; caption-side: top;}\n",
       ".c3table .cell_title {font-weight: bold;}\n",
       ".c3col_left { text-align: left !important; display: block;}\n",
       ".c3col_right { text-align: right !important; display: block;}\n",
       ".c3col_center { text-align: center !important; display: block;}\n",
       "</style>\n",
       "\n",
       "<table>\n",
       "\n",
       "<thead class=\"head_cell\">\n",
       "<th></th><th>T</th><th>C</th><th>A</th><th>G</th>\n",
       "</thead>\n",
       "<tbody>\n",
       "<tr><td class=\"index\"><span class=\"c3col_left\">root</span></td><td><span class=\"c3col_right\">0.1910</span></td><td><span class=\"c3col_right\">0.2553</span></td><td><span class=\"c3col_right\">0.2602</span></td><td><span class=\"c3col_right\">0.2935</span></td></tr>\n",
       "<tr><td class=\"index\"><span class=\"c3col_left\">outgroup_edge3</span></td><td><span class=\"c3col_right\">0.1933</span></td><td><span class=\"c3col_right\">0.2533</span></td><td><span class=\"c3col_right\">0.2666</span></td><td><span class=\"c3col_right\">0.2868</span></td></tr>\n",
       "<tr><td class=\"index\"><span class=\"c3col_left\">internal_node</span></td><td><span class=\"c3col_right\">0.2246</span></td><td><span class=\"c3col_right\">0.2263</span></td><td><span class=\"c3col_right\">0.2562</span></td><td><span class=\"c3col_right\">0.2929</span></td></tr>\n",
       "<tr><td class=\"index\"><span class=\"c3col_left\">ingroup_edge1</span></td><td><span class=\"c3col_right\">0.2233</span></td><td><span class=\"c3col_right\">0.2367</span></td><td><span class=\"c3col_right\">0.2500</span></td><td><span class=\"c3col_right\">0.2900</span></td></tr>\n",
       "<tr><td class=\"index\"><span class=\"c3col_left\">ingroup_edge2</span></td><td><span class=\"c3col_right\">0.1896</span></td><td><span class=\"c3col_right\">0.2770</span></td><td><span class=\"c3col_right\">0.2266</span></td><td><span class=\"c3col_right\">0.3068</span></td></tr>\n",
       "</tbody>\n",
       "</table>\n",
       "\n",
       "</div>"
      ],
      "text/plain": [
       "======================================================\n",
       "                       T         C         A         G\n",
       "------------------------------------------------------\n",
       "root              0.1910    0.2553    0.2602    0.2935\n",
       "outgroup_edge3    0.1933    0.2533    0.2666    0.2868\n",
       "internal_node     0.2246    0.2263    0.2562    0.2929\n",
       "ingroup_edge1     0.2233    0.2367    0.2500    0.2900\n",
       "ingroup_edge2     0.1896    0.2770    0.2266    0.3068\n",
       "------------------------------------------------------"
      ]
     },
     "execution_count": 63,
     "metadata": {},
     "output_type": "execute_result"
    }
   ],
   "source": [
    "a.lf.get_motif_probs_by_node()"
   ]
  },
  {
   "cell_type": "code",
   "execution_count": 55,
   "metadata": {},
   "outputs": [
    {
     "data": {
      "text/plain": [
       "{'internal_edge': 0.0,\n",
       " 'ingroup_edge1': 0.11333333333333333,\n",
       " 'ingroup_edge2': 0.23333333333333334,\n",
       " 'outgroup_edge': 0.03333333333333333}"
      ]
     },
     "execution_count": 55,
     "metadata": {},
     "output_type": "execute_result"
    }
   ],
   "source": [
    "ens1"
   ]
  },
  {
   "cell_type": "code",
   "execution_count": 56,
   "metadata": {},
   "outputs": [
    {
     "data": {
      "text/html": [
       "<style>\n",
       ".c3align table {margin: 10px 0;}\n",
       ".c3align td { border: none !important; text-align: left !important; }\n",
       ".c3align tr:not(.num_row) td span {margin: 0 2px;}\n",
       ".c3align tr:nth-child(even) {background: #f7f7f7;}\n",
       ".c3align .num_row {background-color:rgba(161, 195, 209, 0.5) !important; border-top: solid 1px black; }\n",
       ".c3align .label { font-size: 12pt ; text-align: right !important; color: black !important; padding: 0 4px; display: table-cell !important; font-weight: normal !important; }\n",
       ".c3align .T_dna{font-family: \"Lucida Console\",monospace !important; font-size: 12pt !important; color: blue; }\n",
       ".c3align .C_dna{font-family: \"Lucida Console\",monospace !important; font-size: 12pt !important; color: black; }\n",
       ".c3align .A_dna{font-family: \"Lucida Console\",monospace !important; font-size: 12pt !important; color: #FF0102; }\n",
       ".c3align .G_dna{font-family: \"Lucida Console\",monospace !important; font-size: 12pt !important; color: green; }\n",
       ".c3align .terminal_ambig_dna{font-family: \"Lucida Console\",monospace !important; font-size: 12pt !important; color: gray; }\n",
       ".c3align .ambig_dna{font-family: \"Lucida Console\",monospace !important; font-size: 12pt !important; color: gray; }\n",
       "</style>\n",
       "<div class=\"c3align\">\n",
       "<table>\n",
       "<tr class=\"num_row\"><td></td><td><b>0</b></td></tr>\n",
       "<tr><td class=\"label\">ingroup_edge1</td><td><span class=\"C_dna\">C</span><span class=\"T_dna\">T</span><span class=\"C_dna\">C</span><span class=\"C_dna\">C</span><span class=\"G_dna\">G</span><span class=\"C_dna\">C</span><span class=\"G_dna\">G</span><span class=\"T_dna\">T</span><span class=\"G_dna\">G</span><span class=\"C_dna\">C</span><span class=\"A_dna\">A</span><span class=\"G_dna\">G</span><span class=\"C_dna\">C</span><span class=\"C_dna\">C</span><span class=\"C_dna\">C</span><span class=\"C_dna\">C</span><span class=\"A_dna\">A</span><span class=\"C_dna\">C</span><span class=\"G_dna\">G</span><span class=\"C_dna\">C</span><span class=\"A_dna\">A</span><span class=\"T_dna\">T</span><span class=\"T_dna\">T</span><span class=\"G_dna\">G</span><span class=\"G_dna\">G</span><span class=\"A_dna\">A</span><span class=\"C_dna\">C</span><span class=\"A_dna\">A</span><span class=\"G_dna\">G</span><span class=\"C_dna\">C</span><span class=\"A_dna\">A</span><span class=\"A_dna\">A</span><span class=\"T_dna\">T</span><span class=\"A_dna\">A</span><span class=\"T_dna\">T</span><span class=\"G_dna\">G</span><span class=\"C_dna\">C</span><span class=\"G_dna\">G</span><span class=\"G_dna\">G</span><span class=\"C_dna\">C</span><span class=\"T_dna\">T</span><span class=\"G_dna\">G</span><span class=\"A_dna\">A</span><span class=\"T_dna\">T</span><span class=\"C_dna\">C</span><span class=\"C_dna\">C</span><span class=\"G_dna\">G</span><span class=\"G_dna\">G</span><span class=\"T_dna\">T</span><span class=\"A_dna\">A</span><span class=\"A_dna\">A</span><span class=\"C_dna\">C</span><span class=\"C_dna\">C</span><span class=\"A_dna\">A</span><span class=\"G_dna\">G</span><span class=\"G_dna\">G</span><span class=\"A_dna\">A</span><span class=\"C_dna\">C</span><span class=\"G_dna\">G</span><span class=\"C_dna\">C</span></td></tr>\n",
       "<tr><td class=\"label\">ingroup_edge2</td><td><span class=\"T_dna\">T</span><span class=\"A_dna\">A</span><span class=\"T_dna\">T</span><span class=\"C_dna\">.</span><span class=\"G_dna\">.</span><span class=\"T_dna\">T</span><span class=\"G_dna\">.</span><span class=\"T_dna\">.</span><span class=\"G_dna\">.</span><span class=\"C_dna\">.</span><span class=\"A_dna\">.</span><span class=\"G_dna\">.</span><span class=\"C_dna\">.</span><span class=\"C_dna\">.</span><span class=\"C_dna\">.</span><span class=\"C_dna\">.</span><span class=\"G_dna\">G</span><span class=\"C_dna\">.</span><span class=\"G_dna\">.</span><span class=\"C_dna\">.</span><span class=\"A_dna\">.</span><span class=\"T_dna\">.</span><span class=\"T_dna\">.</span><span class=\"G_dna\">.</span><span class=\"G_dna\">.</span><span class=\"A_dna\">.</span><span class=\"C_dna\">.</span><span class=\"A_dna\">.</span><span class=\"G_dna\">.</span><span class=\"C_dna\">.</span><span class=\"C_dna\">C</span><span class=\"A_dna\">.</span><span class=\"T_dna\">.</span><span class=\"G_dna\">G</span><span class=\"T_dna\">.</span><span class=\"G_dna\">.</span><span class=\"T_dna\">T</span><span class=\"G_dna\">.</span><span class=\"G_dna\">.</span><span class=\"C_dna\">.</span><span class=\"T_dna\">.</span><span class=\"G_dna\">.</span><span class=\"C_dna\">C</span><span class=\"T_dna\">.</span><span class=\"T_dna\">T</span><span class=\"T_dna\">T</span><span class=\"G_dna\">.</span><span class=\"G_dna\">.</span><span class=\"T_dna\">.</span><span class=\"A_dna\">.</span><span class=\"C_dna\">C</span><span class=\"C_dna\">.</span><span class=\"T_dna\">T</span><span class=\"A_dna\">.</span><span class=\"G_dna\">.</span><span class=\"G_dna\">.</span><span class=\"A_dna\">.</span><span class=\"C_dna\">.</span><span class=\"G_dna\">.</span><span class=\"T_dna\">T</span></td></tr>\n",
       "<tr><td class=\"label\">outgroup_edge3</td><td><span class=\"T_dna\">T</span><span class=\"A_dna\">A</span><span class=\"T_dna\">T</span><span class=\"C_dna\">.</span><span class=\"G_dna\">.</span><span class=\"C_dna\">.</span><span class=\"G_dna\">.</span><span class=\"T_dna\">.</span><span class=\"G_dna\">.</span><span class=\"C_dna\">.</span><span class=\"A_dna\">.</span><span class=\"G_dna\">.</span><span class=\"C_dna\">.</span><span class=\"C_dna\">.</span><span class=\"C_dna\">.</span><span class=\"C_dna\">.</span><span class=\"C_dna\">C</span><span class=\"C_dna\">.</span><span class=\"G_dna\">.</span><span class=\"C_dna\">.</span><span class=\"A_dna\">.</span><span class=\"T_dna\">.</span><span class=\"T_dna\">.</span><span class=\"A_dna\">A</span><span class=\"G_dna\">.</span><span class=\"A_dna\">.</span><span class=\"C_dna\">.</span><span class=\"A_dna\">.</span><span class=\"G_dna\">.</span><span class=\"C_dna\">.</span><span class=\"A_dna\">.</span><span class=\"A_dna\">.</span><span class=\"C_dna\">C</span><span class=\"G_dna\">G</span><span class=\"T_dna\">.</span><span class=\"G_dna\">.</span><span class=\"T_dna\">T</span><span class=\"G_dna\">.</span><span class=\"G_dna\">.</span><span class=\"C_dna\">.</span><span class=\"T_dna\">.</span><span class=\"G_dna\">.</span><span class=\"A_dna\">.</span><span class=\"C_dna\">C</span><span class=\"C_dna\">.</span><span class=\"T_dna\">T</span><span class=\"G_dna\">.</span><span class=\"G_dna\">.</span><span class=\"T_dna\">.</span><span class=\"A_dna\">.</span><span class=\"A_dna\">.</span><span class=\"C_dna\">.</span><span class=\"C_dna\">.</span><span class=\"A_dna\">.</span><span class=\"G_dna\">.</span><span class=\"G_dna\">.</span><span class=\"A_dna\">.</span><span class=\"C_dna\">.</span><span class=\"G_dna\">.</span><span class=\"C_dna\">.</span></td></tr>\n",
       "</table>\n",
       "<p><i>3 x 300 (truncated to 3 x 60) dna alignment</i></p>\n",
       "</div>"
      ],
      "text/plain": [
       "3 x 300 dna alignment: ingroup_edge1[CTCCGCGTGC...], ingroup_edge2[TATCGTGTGC...], outgroup_edge3[TATCGCGTGC...]"
      ]
     },
     "execution_count": 56,
     "metadata": {},
     "output_type": "execute_result"
    }
   ],
   "source": [
    "aln1"
   ]
  },
  {
   "cell_type": "code",
   "execution_count": 51,
   "metadata": {},
   "outputs": [],
   "source": [
    "res = a.lf"
   ]
  },
  {
   "cell_type": "code",
   "execution_count": 52,
   "metadata": {},
   "outputs": [
    {
     "data": {
      "text/html": [
       "\n",
       "<div class=\"c3table\">\n",
       "\n",
       "<style>\n",
       ".c3table table {margin: 10px 0;}\n",
       ".c3table tr:last-child {border-bottom: 1px solid #000;} \n",
       ".c3table tr > th {text-align: left; padding: 0 5px;}\n",
       ".c3table tr > td {text-align: left; padding: 5px;}\n",
       ".c3table tr:nth-child(even) {background: #f7f7f7 !important;}\n",
       ".c3table .ellipsis {background: rgba(0, 0, 0, .01);}\n",
       ".c3table .index {background: rgba(161, 195, 209, 0.25); margin: 10px; font-weight: 600;}\n",
       ".c3table .head_cell {background: rgba(161, 195, 209, 0.75); font-weight: bold; text-align: center;}\n",
       ".c3table caption {color: rgb(250, 250, 250); background: rgba(30, 140, 200, 1); padding: 3px; white-space: nowrap; caption-side: top;}\n",
       ".c3table .cell_title {font-weight: bold;}\n",
       ".c3col_left { text-align: left !important; display: block;}\n",
       ".c3col_right { text-align: right !important; display: block;}\n",
       ".c3col_center { text-align: center !important; display: block;}\n",
       "</style>\n",
       "\n",
       "<table>\n",
       "\n",
       "<thead class=\"head_cell\">\n",
       "<th></th><th>T</th><th>C</th><th>A</th><th>G</th>\n",
       "</thead>\n",
       "<tbody>\n",
       "<tr><td class=\"index\"><span class=\"c3col_left\">root</span></td><td><span class=\"c3col_right\">0.1910</span></td><td><span class=\"c3col_right\">0.2553</span></td><td><span class=\"c3col_right\">0.2602</span></td><td><span class=\"c3col_right\">0.2935</span></td></tr>\n",
       "<tr><td class=\"index\"><span class=\"c3col_left\">outgroup_edge3</span></td><td><span class=\"c3col_right\">0.1933</span></td><td><span class=\"c3col_right\">0.2533</span></td><td><span class=\"c3col_right\">0.2666</span></td><td><span class=\"c3col_right\">0.2868</span></td></tr>\n",
       "<tr><td class=\"index\"><span class=\"c3col_left\">internal_node</span></td><td><span class=\"c3col_right\">0.2246</span></td><td><span class=\"c3col_right\">0.2263</span></td><td><span class=\"c3col_right\">0.2562</span></td><td><span class=\"c3col_right\">0.2929</span></td></tr>\n",
       "<tr><td class=\"index\"><span class=\"c3col_left\">ingroup_edge1</span></td><td><span class=\"c3col_right\">0.2233</span></td><td><span class=\"c3col_right\">0.2367</span></td><td><span class=\"c3col_right\">0.2500</span></td><td><span class=\"c3col_right\">0.2900</span></td></tr>\n",
       "<tr><td class=\"index\"><span class=\"c3col_left\">ingroup_edge2</span></td><td><span class=\"c3col_right\">0.1896</span></td><td><span class=\"c3col_right\">0.2770</span></td><td><span class=\"c3col_right\">0.2266</span></td><td><span class=\"c3col_right\">0.3068</span></td></tr>\n",
       "</tbody>\n",
       "</table>\n",
       "\n",
       "</div>"
      ],
      "text/plain": [
       "======================================================\n",
       "                       T         C         A         G\n",
       "------------------------------------------------------\n",
       "root              0.1910    0.2553    0.2602    0.2935\n",
       "outgroup_edge3    0.1933    0.2533    0.2666    0.2868\n",
       "internal_node     0.2246    0.2263    0.2562    0.2929\n",
       "ingroup_edge1     0.2233    0.2367    0.2500    0.2900\n",
       "ingroup_edge2     0.1896    0.2770    0.2266    0.3068\n",
       "------------------------------------------------------"
      ]
     },
     "execution_count": 52,
     "metadata": {},
     "output_type": "execute_result"
    }
   ],
   "source": [
    "res.get_motif_probs_by_node()"
   ]
  },
  {
   "cell_type": "code",
   "execution_count": 54,
   "metadata": {},
   "outputs": [
    {
     "data": {
      "text/plain": [
       "{'outgroup_edge3': 0.011702916393696977,\n",
       " 'ingroup_edge1': 0.09029985191773744,\n",
       " 'ingroup_edge2': 0.24013567622653245,\n",
       " 'internal_node': 0.043613544647546035}"
      ]
     },
     "execution_count": 54,
     "metadata": {},
     "output_type": "execute_result"
    }
   ],
   "source": [
    "res.get_lengths_as_ens()"
   ]
  },
  {
   "cell_type": "code",
   "execution_count": 60,
   "metadata": {},
   "outputs": [
    {
     "data": {
      "text/plain": [
       "['ingroup_edge1', 'ingroup_edge2', 'outgroup_edge3']"
      ]
     },
     "execution_count": 60,
     "metadata": {},
     "output_type": "execute_result"
    }
   ],
   "source": [
    "aln.names"
   ]
  },
  {
   "cell_type": "code",
   "execution_count": 37,
   "metadata": {},
   "outputs": [
    {
     "data": {
      "text/plain": [
       "DataMember(data_store=/Users/gulugulu/Desktop/honours/data_local/simulated_triple_model_fitting/aln_high_3000_2, unique_id=729.json)"
      ]
     },
     "execution_count": 37,
     "metadata": {},
     "output_type": "execute_result"
    }
   ],
   "source": [
    "model_fitting_path(input_data_store_simulated_aln[0])"
   ]
  },
  {
   "cell_type": "code",
   "execution_count": 79,
   "metadata": {},
   "outputs": [],
   "source": [
    "from clock_project.simulation.wts import calculate_non_stationarity\n",
    "\n",
    "def get_triads_info(path):\n",
    "    aln = load_json_app_customised(path)\n",
    "    model_fitting_result = model_fitting_app(aln)\n",
    "    seq_names = aln.names\n",
    "    matrices = {n: model_fitting_result.lf.get_rate_matrix_for_edge(n, calibrated=True) for n in seq_names}\n",
    "    sub_ens_tree = model_fitting_result.lf.get_ens_tree()\n",
    "    lca_node = sub_ens_tree.lowest_common_ancestor(['ingroup_edge1', 'ingroup_edge2']).get_node_names()[0]\n",
    "    ingroup_seqs = aln.take_seqs(['ingroup_edge1', 'ingroup_edge2'])\n",
    "    nuc_freqs = ingroup_seqs.probs_per_seq()\n",
    "    nuc_freqs1 = nuc_freqs['ingroup_edge1']\n",
    "    nuc_freqs2 = nuc_freqs['ingroup_edge2']\n",
    "    ingroup_jsd = jsd(nuc_freqs1, nuc_freqs2)\n",
    "    distribution_internal_root = list(model_fitting_result.lf.get_motif_probs_by_node()[lca_node])\n",
    "    jsd1 = jsd(nuc_freqs1, distribution_internal_root)\n",
    "    jsd2 = jsd(nuc_freqs2, distribution_internal_root)\n",
    "    distribution_root = list(model_fitting_result.lf.get_motif_probs_by_node()['root'])\n",
    "    ens_dict = {n: sub_ens_tree.to_rich_dict()['edge_attributes'][n]['length'] for n in seq_names}\n",
    "    ens_difference = abs(ens_dict['ingroup_edge1']-ens_dict['ingroup_edge2'])\n",
    "    jsd_dict = {'Ingroup_JSD': ingroup_jsd, 'JSD_difference': {'ingroup_edge1': jsd1, 'ingroup_edge2': jsd2}}\n",
    "    nabla_dict = {}\n",
    "    for species in ['ingroup_edge1', 'ingroup_edge2']:\n",
    "        nabla_dict[species] = calculate_non_stationarity(distribution_internal_root, matrices[species], ens_dict[species])\n",
    "    nabla_dict['outgroup_edge3'] = calculate_non_stationarity(distribution_root, matrices['outgroup_edge3'], ens_dict['outgroup_edge3'])\n",
    "    shortest_ens = min(ens_dict.values())  \n",
    "    matrices_list = {n: matrices[n].to_array().tolist() for n in seq_names}\n",
    "    distributions = {'internal_node': distribution_internal_root, 'root': distribution_root, 'ingroup1': list(nuc_freqs1), 'ingroup2': list(nuc_freqs2)}\n",
    "    triad_data = {'triads_species_names': seq_names, 'triads_info_small_tree': \n",
    "        {'ens_difference': ens_difference,\n",
    "        'shortest_ingroup_ens': shortest_ens,\n",
    "        'ens': ens_dict,\n",
    "        'jsd_dict': jsd_dict,\n",
    "        'nuc_freqs_dict': distributions,\n",
    "        'nabla_values': nabla_dict,\n",
    "        'matrices': matrices_list}}\n",
    "    return triad_data, model_fitting_result"
   ]
  },
  {
   "cell_type": "code",
   "execution_count": 80,
   "metadata": {},
   "outputs": [],
   "source": [
    "info, res = get_triads_info(input_data_store_simulated_aln[0]) "
   ]
  },
  {
   "cell_type": "code",
   "execution_count": 84,
   "metadata": {},
   "outputs": [
    {
     "data": {
      "text/plain": [
       "'729'"
      ]
     },
     "execution_count": 84,
     "metadata": {},
     "output_type": "execute_result"
    }
   ],
   "source": [
    "res.alignment.source.split('.')[0]"
   ]
  },
  {
   "cell_type": "code",
   "execution_count": 87,
   "metadata": {},
   "outputs": [],
   "source": [
    "import glob\n",
    "import os\n",
    "path = '/Users/gulugulu/Desktop/honours/data_local/simulated_triple_aln/aln_high_500_2'\n",
    "triads_alignment_paths = glob.glob(os.path.join(path, \"*.json\"))"
   ]
  },
  {
   "cell_type": "code",
   "execution_count": 90,
   "metadata": {},
   "outputs": [
    {
     "data": {
      "text/plain": [
       "NotCompleted(type=ERROR, origin=customised_load_json, source=\"729.json\", message=\"Traceback (most recent call last):\n",
       "  File \"/Users/gulugulu/opt/anaconda3/envs/c312/lib/python3.12/site-packages/cogent3/app/composable.py\", line 384, in _call\n",
       "    result = self.main(val, *args, **kwargs)\n",
       "             ^^^^^^^^^^^^^^^^^^^^^^^^^^^^^^^\n",
       "  File \"/Users/gulugulu/opt/anaconda3/envs/c312/lib/python3.12/site-packages/cogent3/app/composable.py\", line 444, in _main\n",
       "    return self._user_func(**bound.arguments)\n",
       "           ^^^^^^^^^^^^^^^^^^^^^^^^^^^^^^^^^^\n",
       "  File \"/var/folders/d8/pdrt51hx2jb17vf6k28_x6mh0000gn/T/ipykernel_4101/3093290215.py\", line 20, in customised_load_json\n",
       "    unique_id = DataMember.unique_id\n",
       "                ^^^^^^^^^^^^^^^^^^^^\n",
       "AttributeError: 'str' object has no attribute 'unique_id'\n",
       "\")"
      ]
     },
     "execution_count": 90,
     "metadata": {},
     "output_type": "execute_result"
    }
   ],
   "source": [
    "load_json_app_customised(triads_alignment_paths[0])"
   ]
  },
  {
   "cell_type": "code",
   "execution_count": null,
   "metadata": {},
   "outputs": [],
   "source": [
    "load_json_app()"
   ]
  }
 ],
 "metadata": {
  "kernelspec": {
   "display_name": "c312",
   "language": "python",
   "name": "python3"
  },
  "language_info": {
   "codemirror_mode": {
    "name": "ipython",
    "version": 3
   },
   "file_extension": ".py",
   "mimetype": "text/x-python",
   "name": "python",
   "nbconvert_exporter": "python",
   "pygments_lexer": "ipython3",
   "version": "3.12.1"
  }
 },
 "nbformat": 4,
 "nbformat_minor": 2
}
