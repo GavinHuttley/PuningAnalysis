{
 "cells": [
  {
   "cell_type": "code",
   "execution_count": 1,
   "metadata": {},
   "outputs": [],
   "source": [
    "import numpy as np\n",
    "from cogent3 import get_app, open_data_store\n",
    "from cogent3.app.composable import define_app, NotCompleted\n",
    "from cogent3.maths.measure import jsd\n",
    "import scipy.stats as stats\n",
    "from scipy.spatial.distance import correlation\n",
    "import plotly.express as px\n",
    "import plotly.graph_objects as go"
   ]
  },
  {
   "cell_type": "code",
   "execution_count": 2,
   "metadata": {},
   "outputs": [],
   "source": [
    "from clock_project.simulation.wts import taxonomic_triple_simulation, three_seq_simulation_star_shape, generate_ancestor\n"
   ]
  },
  {
   "cell_type": "code",
   "execution_count": 3,
   "metadata": {},
   "outputs": [],
   "source": [
    "import json\n",
    "with open ('../ensembl_genome_analysis/matrix_full.json', 'r') as infile:\n",
    "    matrices_dict = json.load(infile)"
   ]
  },
  {
   "cell_type": "code",
   "execution_count": 4,
   "metadata": {},
   "outputs": [],
   "source": [
    "matrix_collection = []\n",
    "for gene, matrices_list in matrices_dict.items():\n",
    "    matrix_collection.extend(matrices_list)"
   ]
  },
  {
   "cell_type": "code",
   "execution_count": 5,
   "metadata": {},
   "outputs": [],
   "source": [
    "Q_ingroup1, Q_ingroup2, Q_outgroup = matrices_dict['ENSG00000020129'][0].values()"
   ]
  },
  {
   "cell_type": "code",
   "execution_count": 6,
   "metadata": {},
   "outputs": [],
   "source": [
    "Q_ingroup1_, Q_ingroup2_, Q_outgroup_ = matrices_dict['ENSG00000048707'][0].values()"
   ]
  },
  {
   "cell_type": "code",
   "execution_count": 7,
   "metadata": {},
   "outputs": [],
   "source": [
    "p0 = [0.25, 0.25, 0.25, 0.25]"
   ]
  },
  {
   "cell_type": "code",
   "execution_count": 8,
   "metadata": {},
   "outputs": [],
   "source": [
    "path1 = '/Users/gulugulu/Desktop/honours/data_local/whole_genome_mammal87/triads_model_fitting_350_threshold/ENSG00000007933/model_fitting_result/0.json'\n",
    "load_json_app = get_app(\"load_json\")\n",
    "res = load_json_app(path1)"
   ]
  },
  {
   "cell_type": "code",
   "execution_count": 9,
   "metadata": {},
   "outputs": [],
   "source": [
    "\n",
    "def get_seed_ancester_seq(pi_low, pi_high, len_short, len_long):\n",
    "    seq_ls = generate_ancestor(len_short, pi_low)\n",
    "    seq_ll = generate_ancestor(len_long, pi_low)\n",
    "    seq_hs = generate_ancestor(len_short, pi_high)\n",
    "    seq_hl = generate_ancestor(len_long, pi_high)\n",
    "    seqs = {'low_short': seq_ls, 'high_short': seq_hs, 'low_long': seq_ll, 'high_long': seq_hl}\n",
    "    return seqs\n"
   ]
  },
  {
   "cell_type": "code",
   "execution_count": 10,
   "metadata": {},
   "outputs": [],
   "source": [
    "# from cogent3 import open_data_store\n",
    "# def simulate_taxanomic_triples(ancester_seq, Q_collection, pi, seed, t, path_to_dir):\n",
    "#     length = len(ancester_seq)\n",
    "#     for matrix_dict in Q_collection:\n",
    "#         Q_ingroup1, Q_ingroup2, Q_outgroup = matrices_dict.values()\n",
    "#         aln, ens = taxanomic_triple_simulation(p0, np.array(Q_ingroup1), np.array(Q_ingroup2), np.array(Q_outgroup), 0, t, length, 1, 123, ancester_seq)\n",
    "#         path_to_dir = '/Users/gulugulu/Desktop/honours/data_local/bootstrapping_test_non'\n",
    "#         out_dstore = open_data_store(path_to_dir, mode=\"w\", suffix=\"json\")\n",
    "#         write_json_app = get_app(\"write_json\", data_store=out_dstore)\n",
    "#         write_json_app(aln, identifier = Q_collection.index(matrix_dict))\n",
    "\n",
    "\n",
    "\n",
    "\n"
   ]
  },
  {
   "cell_type": "code",
   "execution_count": 15,
   "metadata": {},
   "outputs": [],
   "source": [
    "ances_seq = generate_ancestor(300, p0)"
   ]
  },
  {
   "cell_type": "code",
   "execution_count": 16,
   "metadata": {},
   "outputs": [
    {
     "data": {
      "text/plain": [
       "DataMember(data_store=/Users/gulugulu/Desktop/honours/data_local/simulated_triple_aln, unique_id=0.json)"
      ]
     },
     "execution_count": 16,
     "metadata": {},
     "output_type": "execute_result"
    }
   ],
   "source": [
    "path_to_dir = '/Users/gulugulu/Desktop/honours/data_local/simulated_triple_aln'\n",
    "out_dstore = open_data_store(path_to_dir, mode=\"w\", suffix=\"json\")\n",
    "write_json_app = get_app(\"write_json\", data_store=out_dstore)\n",
    "Q_ingroup1, Q_ingroup2, Q_outgroup = matrix_collection[0].values()\n",
    "aln, ens = taxonomic_triple_simulation(p0, np.array(Q_ingroup1), np.array(Q_ingroup2), np.array(Q_outgroup), 0, 1, 1000, 1, 123, ances_seq)\n",
    "# Open a data store for each simulation\n",
    "write_json_app(aln, identifier=f'{matrix_collection.index(matrix_collection[0])}.json')"
   ]
  },
  {
   "cell_type": "code",
   "execution_count": 17,
   "metadata": {},
   "outputs": [],
   "source": [
    "import itertools\n",
    "\n",
    "def generate_combinations(time_list, length_list, pi_list):\n",
    "    # Create all combinations of time, length, and pi\n",
    "    combinations = itertools.product(time_list, length_list, pi_list)\n",
    "    return list(combinations)\n",
    "\n",
    "# Example lists\n",
    "time_list = [0, 1]\n",
    "length_list = [100, 1000]\n",
    "pi_list = ['pi1', 'pi2']\n",
    "\n",
    "# Generate and print all combinations\n",
    "combinations = generate_combinations(time_list, length_list, pi_list)\n"
   ]
  },
  {
   "cell_type": "code",
   "execution_count": 49,
   "metadata": {},
   "outputs": [],
   "source": [
    "aln1, ens1 = taxonomic_triple_simulation(p0, np.array(Q_ingroup1), np.array(Q_ingroup2), np.array(Q_outgroup), 0, 1, 300, 1, 123, ances_seq)"
   ]
  },
  {
   "cell_type": "code",
   "execution_count": 39,
   "metadata": {},
   "outputs": [],
   "source": [
    "aln2, ens2= taxonomic_triple_simulation(p0, np.array(Q_ingroup1), np.array(Q_ingroup2), np.array(Q_outgroup_), 0, 1, 300, 1, 123, ances_seq)"
   ]
  },
  {
   "cell_type": "markdown",
   "metadata": {},
   "source": [
    "Model fitting for all the simulated alignment"
   ]
  },
  {
   "cell_type": "code",
   "execution_count": 11,
   "metadata": {},
   "outputs": [],
   "source": [
    "from cogent3.app.typing import AlignedSeqsType, SerialisableType, IdentifierType\n",
    "from cogent3.app.composable import define_app\n",
    "from cogent3 import get_app, open_data_store\n",
    "\n",
    "@define_app\n",
    "def model_fitting(aln: AlignedSeqsType, opt_args = None) -> SerialisableType:\n",
    "    tree=\"('outgroup_edge3',('ingroup_edge1','ingroup_edge2')'internal_node');\"\n",
    "    GN_model = get_app(\"model\", \"GN\", \n",
    "                    tree=tree,\n",
    "                    opt_args=opt_args,\n",
    "                    # unique_trees=True,\n",
    "                    # lf_args=dict(discrete_edges=[['outgroup_edge3']]),\n",
    "                    time_het=\"max\",\n",
    "                    optimise_motif_probs=True)\n",
    "    res = GN_model(aln)\n",
    "    return res\n",
    "\n",
    "model_fitting_app = model_fitting()\n",
    "\n",
    "load_json_app = get_app(\"load_json\")\n",
    "\n",
    "@define_app\n",
    "def customised_load_json(DataMember: IdentifierType) -> AlignedSeqsType:\n",
    "    unique_id = DataMember.unique_id\n",
    "    aln = load_json_app(DataMember)\n",
    "    aln.source = unique_id\n",
    "    return aln\n",
    "\n",
    "def get_id(result):\n",
    "    return result.alignment.source\n",
    "\n",
    "\n",
    "load_json_app_customised = customised_load_json()\n",
    "\n",
    "outdir = '/Users/gulugulu/Desktop/honours/data_local/simulated_triple_model_fitting/aln_high_5000_1'\n",
    "out_dstore = open_data_store(outdir, mode=\"w\", suffix=\"json\")\n",
    "write_json_app = get_app(\"write_json\", data_store=out_dstore, id_from_source = get_id)\n",
    "\n",
    "simulated_aln_high_5000_2 = '/Users/gulugulu/Desktop/honours/data_local/simulated_triple_aln/aln_low_5000_2'\n",
    "input_data_store_simulated_aln = open_data_store(simulated_aln_high_5000_2, suffix= 'json')\n",
    "\n"
   ]
  },
  {
   "cell_type": "code",
   "execution_count": 12,
   "metadata": {},
   "outputs": [],
   "source": [
    "app = load_json_app_customised+ model_fitting_app\n",
    "res = app(input_data_store_simulated_aln[0])"
   ]
  },
  {
   "cell_type": "code",
   "execution_count": 13,
   "metadata": {},
   "outputs": [],
   "source": [
    "aln = load_json_app(input_data_store_simulated_aln[0])"
   ]
  },
  {
   "cell_type": "code",
   "execution_count": 14,
   "metadata": {},
   "outputs": [],
   "source": [
    "from clock_project.simulation.wts import calculate_non_stationarity\n",
    "from cogent3.maths.measure import jsd\n",
    "def get_triads_info(aln, res):\n",
    "    seq_names = aln.names\n",
    "    matrices = {n: res.lf.get_rate_matrix_for_edge(n, calibrated=True) for n in seq_names}\n",
    "    sub_ens_tree = res.lf.get_ens_tree()\n",
    "    lca_node = sub_ens_tree.lowest_common_ancestor(['ingroup_edge1', 'ingroup_edge2']).get_node_names()[0]\n",
    "    ingroup_seqs = aln.take_seqs(['ingroup_edge1', 'ingroup_edge2'])\n",
    "    nuc_freqs = ingroup_seqs.probs_per_seq()\n",
    "    nuc_freqs1 = nuc_freqs['ingroup_edge1']\n",
    "    nuc_freqs2 = nuc_freqs['ingroup_edge2']\n",
    "    ingroup_jsd = jsd(nuc_freqs1, nuc_freqs2)\n",
    "    distribution_internal_root = list(res.lf.get_motif_probs_by_node()[lca_node])\n",
    "    jsd1 = jsd(nuc_freqs1, distribution_internal_root)\n",
    "    jsd2 = jsd(nuc_freqs2, distribution_internal_root)\n",
    "    distribution_root = list(res.lf.get_motif_probs_by_node()['root'])\n",
    "    ens_dict = {n: sub_ens_tree.to_rich_dict()['edge_attributes'][n]['length'] for n in seq_names}\n",
    "    ens_difference = abs(ens_dict['ingroup_edge1']-ens_dict['ingroup_edge2'])\n",
    "    jsd_dict = {'Ingroup_JSD': ingroup_jsd, 'JSD_difference': {'ingroup_edge1': jsd1, 'ingroup_edge2': jsd2}}\n",
    "    nabla_dict = {}\n",
    "    for species in ['ingroup_edge1', 'ingroup_edge2']:\n",
    "        nabla_dict[species] = calculate_non_stationarity(distribution_internal_root, matrices[species], ens_dict[species])\n",
    "    nabla_dict['outgroup_edge3'] = calculate_non_stationarity(distribution_root, matrices['outgroup_edge3'], ens_dict['outgroup_edge3'])\n",
    "    shortest_ens = min(ens_dict.values())  \n",
    "    matrices_list = {n: matrices[n].to_array().tolist() for n in seq_names}\n",
    "    distributions = {'internal_node': distribution_internal_root, 'root': distribution_root, 'ingroup1': list(nuc_freqs1), 'ingroup2': list(nuc_freqs2)}\n",
    "    triad_data = {'triads_species_names': seq_names, 'triads_info_small_tree': \n",
    "        {'ens_difference': ens_difference,\n",
    "        'shortest_ingroup_ens': shortest_ens,\n",
    "        'ens': ens_dict,\n",
    "        'jsd_dict': jsd_dict,\n",
    "        'nuc_freqs_dict': distributions,\n",
    "        'nabla_values': nabla_dict,\n",
    "        'matrices': matrices_list}}\n",
    "    return triad_data"
   ]
  },
  {
   "cell_type": "code",
   "execution_count": 15,
   "metadata": {},
   "outputs": [
    {
     "data": {
      "text/html": [
       "\n",
       "<div class=\"c3table\">\n",
       "\n",
       "<style>\n",
       ".c3table table {margin: 10px 0;}\n",
       ".c3table tr:last-child {border-bottom: 1px solid #000;} \n",
       ".c3table tr > th {text-align: left; padding: 0 5px;}\n",
       ".c3table tr > td {text-align: left; padding: 5px;}\n",
       ".c3table tr:nth-child(even) {background: #f7f7f7 !important;}\n",
       ".c3table .ellipsis {background: rgba(0, 0, 0, .01);}\n",
       ".c3table .index {background: rgba(161, 195, 209, 0.25); margin: 10px; font-weight: 600;}\n",
       ".c3table .head_cell {background: rgba(161, 195, 209, 0.75); font-weight: bold; text-align: center;}\n",
       ".c3table caption {color: rgb(250, 250, 250); background: rgba(30, 140, 200, 1); padding: 3px; white-space: nowrap; caption-side: top;}\n",
       ".c3table .cell_title {font-weight: bold;}\n",
       ".c3col_left { text-align: left !important; display: block;}\n",
       ".c3col_right { text-align: right !important; display: block;}\n",
       ".c3col_center { text-align: center !important; display: block;}\n",
       "</style>\n",
       "\n",
       "<table>\n",
       "\n",
       "<thead class=\"head_cell\">\n",
       "<th></th><th>A</th><th>C</th><th>G</th><th>T</th>\n",
       "</thead>\n",
       "<tbody>\n",
       "<tr><td class=\"index\"><span class=\"c3col_left\">ingroup_edge1</span></td><td><span class=\"c3col_right\">0.2330</span></td><td><span class=\"c3col_right\">0.2552</span></td><td><span class=\"c3col_right\">0.2452</span></td><td><span class=\"c3col_right\">0.2666</span></td></tr>\n",
       "<tr><td class=\"index\"><span class=\"c3col_left\">ingroup_edge2</span></td><td><span class=\"c3col_right\">0.1882</span></td><td><span class=\"c3col_right\">0.2884</span></td><td><span class=\"c3col_right\">0.3106</span></td><td><span class=\"c3col_right\">0.2128</span></td></tr>\n",
       "<tr><td class=\"index\"><span class=\"c3col_left\">outgroup_edge3</span></td><td><span class=\"c3col_right\">0.2402</span></td><td><span class=\"c3col_right\">0.2782</span></td><td><span class=\"c3col_right\">0.2466</span></td><td><span class=\"c3col_right\">0.2350</span></td></tr>\n",
       "</tbody>\n",
       "</table>\n",
       "\n",
       "</div>"
      ],
      "text/plain": [
       "======================================================\n",
       "                       A         C         G         T\n",
       "------------------------------------------------------\n",
       "ingroup_edge1     0.2330    0.2552    0.2452    0.2666\n",
       "ingroup_edge2     0.1882    0.2884    0.3106    0.2128\n",
       "outgroup_edge3    0.2402    0.2782    0.2466    0.2350\n",
       "------------------------------------------------------"
      ]
     },
     "execution_count": 15,
     "metadata": {},
     "output_type": "execute_result"
    }
   ],
   "source": [
    "aln.probs_per_seq()"
   ]
  },
  {
   "cell_type": "code",
   "execution_count": 16,
   "metadata": {},
   "outputs": [
    {
     "data": {
      "text/html": [
       "\n",
       "<div class=\"c3table\">\n",
       "\n",
       "<style>\n",
       ".c3table table {margin: 10px 0;}\n",
       ".c3table tr:last-child {border-bottom: 1px solid #000;} \n",
       ".c3table tr > th {text-align: left; padding: 0 5px;}\n",
       ".c3table tr > td {text-align: left; padding: 5px;}\n",
       ".c3table tr:nth-child(even) {background: #f7f7f7 !important;}\n",
       ".c3table .ellipsis {background: rgba(0, 0, 0, .01);}\n",
       ".c3table .index {background: rgba(161, 195, 209, 0.25); margin: 10px; font-weight: 600;}\n",
       ".c3table .head_cell {background: rgba(161, 195, 209, 0.75); font-weight: bold; text-align: center;}\n",
       ".c3table caption {color: rgb(250, 250, 250); background: rgba(30, 140, 200, 1); padding: 3px; white-space: nowrap; caption-side: top;}\n",
       ".c3table .cell_title {font-weight: bold;}\n",
       ".c3col_left { text-align: left !important; display: block;}\n",
       ".c3col_right { text-align: right !important; display: block;}\n",
       ".c3col_center { text-align: center !important; display: block;}\n",
       "</style>\n",
       "\n",
       "<table>\n",
       "\n",
       "<thead class=\"head_cell\">\n",
       "<th></th><th>T</th><th>C</th><th>A</th><th>G</th>\n",
       "</thead>\n",
       "<tbody>\n",
       "<tr><td class=\"index\"><span class=\"c3col_left\">root</span></td><td><span class=\"c3col_right\">0.2591</span></td><td><span class=\"c3col_right\">0.2454</span></td><td><span class=\"c3col_right\">0.2640</span></td><td><span class=\"c3col_right\">0.2314</span></td></tr>\n",
       "<tr><td class=\"index\"><span class=\"c3col_left\">outgroup_edge3</span></td><td><span class=\"c3col_right\">0.2350</span></td><td><span class=\"c3col_right\">0.2781</span></td><td><span class=\"c3col_right\">0.2402</span></td><td><span class=\"c3col_right\">0.2466</span></td></tr>\n",
       "<tr><td class=\"index\"><span class=\"c3col_left\">internal_node</span></td><td><span class=\"c3col_right\">0.2544</span></td><td><span class=\"c3col_right\">0.2539</span></td><td><span class=\"c3col_right\">0.2483</span></td><td><span class=\"c3col_right\">0.2434</span></td></tr>\n",
       "<tr><td class=\"index\"><span class=\"c3col_left\">ingroup_edge1</span></td><td><span class=\"c3col_right\">0.2667</span></td><td><span class=\"c3col_right\">0.2550</span></td><td><span class=\"c3col_right\">0.2331</span></td><td><span class=\"c3col_right\">0.2452</span></td></tr>\n",
       "<tr><td class=\"index\"><span class=\"c3col_left\">ingroup_edge2</span></td><td><span class=\"c3col_right\">0.2127</span></td><td><span class=\"c3col_right\">0.2882</span></td><td><span class=\"c3col_right\">0.1884</span></td><td><span class=\"c3col_right\">0.3107</span></td></tr>\n",
       "</tbody>\n",
       "</table>\n",
       "\n",
       "</div>"
      ],
      "text/plain": [
       "======================================================\n",
       "                       T         C         A         G\n",
       "------------------------------------------------------\n",
       "root              0.2591    0.2454    0.2640    0.2314\n",
       "outgroup_edge3    0.2350    0.2781    0.2402    0.2466\n",
       "internal_node     0.2544    0.2539    0.2483    0.2434\n",
       "ingroup_edge1     0.2667    0.2550    0.2331    0.2452\n",
       "ingroup_edge2     0.2127    0.2882    0.1884    0.3107\n",
       "------------------------------------------------------"
      ]
     },
     "execution_count": 16,
     "metadata": {},
     "output_type": "execute_result"
    }
   ],
   "source": [
    "res.lf.get_motif_probs_by_node()"
   ]
  },
  {
   "cell_type": "code",
   "execution_count": 17,
   "metadata": {},
   "outputs": [
    {
     "data": {
      "text/plain": [
       "{'triads_species_names': ['ingroup_edge1', 'ingroup_edge2', 'outgroup_edge3'],\n",
       " 'triads_info_small_tree': {'ens_difference': 0.050871592127046894,\n",
       "  'shortest_ingroup_ens': 0.058656513867625805,\n",
       "  'ens': {'ingroup_edge1': 0.3207321309779797,\n",
       "   'ingroup_edge2': 0.2698605388509328,\n",
       "   'outgroup_edge3': 0.058656513867625805},\n",
       "  'jsd_dict': {'Ingroup_JSD': 0.007417881565678686,\n",
       "   'JSD_difference': {'ingroup_edge1': 0.0007275389796452814,\n",
       "    'ingroup_edge2': 0.0076309657433017986}},\n",
       "  'nuc_freqs_dict': {'internal_node': [0.25440807383737934,\n",
       "    0.2538715646102941,\n",
       "    0.24829801744581037,\n",
       "    0.24342234410651614],\n",
       "   'root': [0.25912521694994767,\n",
       "    0.24537883928135276,\n",
       "    0.2640478616552446,\n",
       "    0.23144808211345497],\n",
       "   'ingroup1': [0.233, 0.2552, 0.2452, 0.2666],\n",
       "   'ingroup2': [0.1882, 0.2884, 0.3106, 0.2128]},\n",
       "  'nabla_values': {'ingroup_edge1': 0.04886884516246603,\n",
       "   'ingroup_edge2': 0.28729330139493847,\n",
       "   'outgroup_edge3': 0.7826931074765656},\n",
       "  'matrices': {'ingroup_edge1': [[-1.019845701788799,\n",
       "     0.6363123554190102,\n",
       "     0.23009361581911342,\n",
       "     0.15343973055067525],\n",
       "    [0.8067702271910774,\n",
       "     -0.9092115368166758,\n",
       "     0.08382505253897385,\n",
       "     0.018616257086624458],\n",
       "    [0.24423619652502834,\n",
       "     0.21064093679581922,\n",
       "     -1.1784747154242592,\n",
       "     0.7235975821034116],\n",
       "    [0.16456029100895803,\n",
       "     0.0748369752414413,\n",
       "     0.6310236905407345,\n",
       "     -0.8704209567911338]],\n",
       "   'ingroup_edge2': [[-1.2724210357885646,\n",
       "     1.015709595282388,\n",
       "     0.22709453814611014,\n",
       "     0.029616902360066415],\n",
       "    [0.38719015729306383,\n",
       "     -0.5276392863348178,\n",
       "     0.00789382019969631,\n",
       "     0.13255530884205777],\n",
       "    [0.13502764239168039,\n",
       "     0.01866902807513207,\n",
       "     -1.6345417884637594,\n",
       "     1.4808451179969468],\n",
       "    [0.06432343956387025,\n",
       "     0.07684458350792955,\n",
       "     0.3307081851138466,\n",
       "     -0.4718762081856464]],\n",
       "   'outgroup_edge3': [[-1.6482442043639358,\n",
       "     1.5998352087577332,\n",
       "     4.841325736784274e-08,\n",
       "     0.04840894719294535],\n",
       "    [0.03698923320085954,\n",
       "     -0.042874388246330844,\n",
       "     4.841659719829678e-08,\n",
       "     0.0058851066288741006],\n",
       "    [4.840909657998826e-08,\n",
       "     4.841037021010952e-08,\n",
       "     -1.5572606471061328,\n",
       "     1.557260550286666],\n",
       "    [4.8412672872034884e-08,\n",
       "     0.6532200551861442,\n",
       "     4.861039627994533e-08,\n",
       "     -0.6532201522092134]]}}}"
      ]
     },
     "execution_count": 17,
     "metadata": {},
     "output_type": "execute_result"
    }
   ],
   "source": [
    "get_triads_info(aln, res)"
   ]
  },
  {
   "cell_type": "code",
   "execution_count": 12,
   "metadata": {},
   "outputs": [],
   "source": [
    "path = '/Users/gulugulu/Desktop/honours/data_local/whole_genome_mammal87/triads_model_fitting_350_threshold/ENSG00000007933/model_fitting_result/0.json'\n",
    "res_1 = load_json_app(path)"
   ]
  },
  {
   "cell_type": "code",
   "execution_count": 70,
   "metadata": {},
   "outputs": [
    {
     "data": {
      "text/html": [
       "        <script type=\"text/javascript\">\n",
       "        window.PlotlyConfig = {MathJaxConfig: 'local'};\n",
       "        if (window.MathJax && window.MathJax.Hub && window.MathJax.Hub.Config) {window.MathJax.Hub.Config({SVG: {font: \"STIX-Web\"}});}\n",
       "        if (typeof require !== 'undefined') {\n",
       "        require.undef(\"plotly\");\n",
       "        requirejs.config({\n",
       "            paths: {\n",
       "                'plotly': ['https://cdn.plot.ly/plotly-2.27.0.min']\n",
       "            }\n",
       "        });\n",
       "        require(['plotly'], function(Plotly) {\n",
       "            window._Plotly = Plotly;\n",
       "        });\n",
       "        }\n",
       "        </script>\n",
       "        "
      ]
     },
     "metadata": {},
     "output_type": "display_data"
    },
    {
     "data": {
      "application/vnd.plotly.v1+json": {
       "config": {
        "plotlyServerURL": "https://plot.ly"
       },
       "data": [
        {
         "line": {
          "color": "black",
          "shape": "spline",
          "smoothing": 1.3,
          "width": 1.25
         },
         "mode": "lines",
         "showlegend": false,
         "type": "scatter",
         "x": [
          null,
          null,
          0,
          0,
          null,
          0,
          0.03780993556934605,
          null,
          0.03780993556934605,
          0.03780993556934605,
          null,
          0.03780993556934605,
          0.1900604882739107,
          null,
          0.03780993556934605,
          0.03780993556934605,
          null,
          0.03780993556934605,
          0.2820585589510393,
          null,
          0,
          0,
          null,
          0,
          0.14497410439570096,
          null
         ],
         "y": [
          null,
          null,
          -0.325,
          0.65,
          null,
          0.65,
          0.65,
          null,
          0.65,
          1.3,
          null,
          1.3,
          1.3,
          null,
          0.65,
          0,
          null,
          0,
          0,
          null,
          -0.325,
          -1.3,
          null,
          -1.3,
          -1.3,
          null
         ]
        },
        {
         "hoverinfo": "text",
         "marker": {
          "color": "black",
          "size": 3,
          "symbol": "circle"
         },
         "mode": "markers",
         "showlegend": false,
         "text": [
          "root",
          "Euarchontoglires",
          "Ma's_night_monkey",
          "Steppe_mouse",
          "Siberian_musk_deer"
         ],
         "type": "scatter",
         "x": [
          0,
          0.03780993556934605,
          0.1900604882739107,
          0.2820585589510393,
          0.14497410439570096
         ],
         "y": [
          -0.325,
          0.65,
          1.3,
          0,
          -1.3
         ]
        }
       ],
       "layout": {
        "annotations": [
         {
          "font": {
           "family": "Inconsolata, monospace",
           "size": 12
          },
          "showarrow": false,
          "text": "Ma's_night_monkey",
          "textangle": 0,
          "x": 0.19711195224768668,
          "xanchor": "left",
          "xref": "x",
          "y": 1.3,
          "yref": "y"
         },
         {
          "font": {
           "family": "Inconsolata, monospace",
           "size": 12
          },
          "showarrow": false,
          "text": "Steppe_mouse",
          "textangle": 0,
          "x": 0.2891100229248153,
          "xanchor": "left",
          "xref": "x",
          "y": 0,
          "yref": "y"
         },
         {
          "font": {
           "family": "Inconsolata, monospace",
           "size": 12
          },
          "showarrow": false,
          "text": "Siberian_musk_deer",
          "textangle": 0,
          "x": 0.15202556836947695,
          "xanchor": "left",
          "xref": "x",
          "y": -1.3,
          "yref": "y"
         },
         {
          "ax": 0,
          "ay": 0,
          "showarrow": false,
          "text": "0.03",
          "x": 0.014102927947551967,
          "xref": "x",
          "y": -1.5363636363636364,
          "yref": "y",
          "yshift": 10
         }
        ],
        "autosize": true,
        "font": {
         "family": "Balto",
         "size": 14
        },
        "hovermode": "closest",
        "margin": {
         "b": 50,
         "l": 50,
         "pad": 4,
         "r": 50,
         "t": 50
        },
        "shapes": [
         {
          "line": {
           "color": "black",
           "width": 1.25
          },
          "name": "scale_bar",
          "type": "line",
          "x0": 0,
          "x1": 0.028205855895103934,
          "y0": -1.5363636363636364,
          "y1": -1.5363636363636364
         }
        ],
        "showlegend": false,
        "template": {
         "data": {
          "bar": [
           {
            "error_x": {
             "color": "#2a3f5f"
            },
            "error_y": {
             "color": "#2a3f5f"
            },
            "marker": {
             "line": {
              "color": "#E5ECF6",
              "width": 0.5
             },
             "pattern": {
              "fillmode": "overlay",
              "size": 10,
              "solidity": 0.2
             }
            },
            "type": "bar"
           }
          ],
          "barpolar": [
           {
            "marker": {
             "line": {
              "color": "#E5ECF6",
              "width": 0.5
             },
             "pattern": {
              "fillmode": "overlay",
              "size": 10,
              "solidity": 0.2
             }
            },
            "type": "barpolar"
           }
          ],
          "carpet": [
           {
            "aaxis": {
             "endlinecolor": "#2a3f5f",
             "gridcolor": "white",
             "linecolor": "white",
             "minorgridcolor": "white",
             "startlinecolor": "#2a3f5f"
            },
            "baxis": {
             "endlinecolor": "#2a3f5f",
             "gridcolor": "white",
             "linecolor": "white",
             "minorgridcolor": "white",
             "startlinecolor": "#2a3f5f"
            },
            "type": "carpet"
           }
          ],
          "choropleth": [
           {
            "colorbar": {
             "outlinewidth": 0,
             "ticks": ""
            },
            "type": "choropleth"
           }
          ],
          "contour": [
           {
            "colorbar": {
             "outlinewidth": 0,
             "ticks": ""
            },
            "colorscale": [
             [
              0,
              "#0d0887"
             ],
             [
              0.1111111111111111,
              "#46039f"
             ],
             [
              0.2222222222222222,
              "#7201a8"
             ],
             [
              0.3333333333333333,
              "#9c179e"
             ],
             [
              0.4444444444444444,
              "#bd3786"
             ],
             [
              0.5555555555555556,
              "#d8576b"
             ],
             [
              0.6666666666666666,
              "#ed7953"
             ],
             [
              0.7777777777777778,
              "#fb9f3a"
             ],
             [
              0.8888888888888888,
              "#fdca26"
             ],
             [
              1,
              "#f0f921"
             ]
            ],
            "type": "contour"
           }
          ],
          "contourcarpet": [
           {
            "colorbar": {
             "outlinewidth": 0,
             "ticks": ""
            },
            "type": "contourcarpet"
           }
          ],
          "heatmap": [
           {
            "colorbar": {
             "outlinewidth": 0,
             "ticks": ""
            },
            "colorscale": [
             [
              0,
              "#0d0887"
             ],
             [
              0.1111111111111111,
              "#46039f"
             ],
             [
              0.2222222222222222,
              "#7201a8"
             ],
             [
              0.3333333333333333,
              "#9c179e"
             ],
             [
              0.4444444444444444,
              "#bd3786"
             ],
             [
              0.5555555555555556,
              "#d8576b"
             ],
             [
              0.6666666666666666,
              "#ed7953"
             ],
             [
              0.7777777777777778,
              "#fb9f3a"
             ],
             [
              0.8888888888888888,
              "#fdca26"
             ],
             [
              1,
              "#f0f921"
             ]
            ],
            "type": "heatmap"
           }
          ],
          "heatmapgl": [
           {
            "colorbar": {
             "outlinewidth": 0,
             "ticks": ""
            },
            "colorscale": [
             [
              0,
              "#0d0887"
             ],
             [
              0.1111111111111111,
              "#46039f"
             ],
             [
              0.2222222222222222,
              "#7201a8"
             ],
             [
              0.3333333333333333,
              "#9c179e"
             ],
             [
              0.4444444444444444,
              "#bd3786"
             ],
             [
              0.5555555555555556,
              "#d8576b"
             ],
             [
              0.6666666666666666,
              "#ed7953"
             ],
             [
              0.7777777777777778,
              "#fb9f3a"
             ],
             [
              0.8888888888888888,
              "#fdca26"
             ],
             [
              1,
              "#f0f921"
             ]
            ],
            "type": "heatmapgl"
           }
          ],
          "histogram": [
           {
            "marker": {
             "pattern": {
              "fillmode": "overlay",
              "size": 10,
              "solidity": 0.2
             }
            },
            "type": "histogram"
           }
          ],
          "histogram2d": [
           {
            "colorbar": {
             "outlinewidth": 0,
             "ticks": ""
            },
            "colorscale": [
             [
              0,
              "#0d0887"
             ],
             [
              0.1111111111111111,
              "#46039f"
             ],
             [
              0.2222222222222222,
              "#7201a8"
             ],
             [
              0.3333333333333333,
              "#9c179e"
             ],
             [
              0.4444444444444444,
              "#bd3786"
             ],
             [
              0.5555555555555556,
              "#d8576b"
             ],
             [
              0.6666666666666666,
              "#ed7953"
             ],
             [
              0.7777777777777778,
              "#fb9f3a"
             ],
             [
              0.8888888888888888,
              "#fdca26"
             ],
             [
              1,
              "#f0f921"
             ]
            ],
            "type": "histogram2d"
           }
          ],
          "histogram2dcontour": [
           {
            "colorbar": {
             "outlinewidth": 0,
             "ticks": ""
            },
            "colorscale": [
             [
              0,
              "#0d0887"
             ],
             [
              0.1111111111111111,
              "#46039f"
             ],
             [
              0.2222222222222222,
              "#7201a8"
             ],
             [
              0.3333333333333333,
              "#9c179e"
             ],
             [
              0.4444444444444444,
              "#bd3786"
             ],
             [
              0.5555555555555556,
              "#d8576b"
             ],
             [
              0.6666666666666666,
              "#ed7953"
             ],
             [
              0.7777777777777778,
              "#fb9f3a"
             ],
             [
              0.8888888888888888,
              "#fdca26"
             ],
             [
              1,
              "#f0f921"
             ]
            ],
            "type": "histogram2dcontour"
           }
          ],
          "mesh3d": [
           {
            "colorbar": {
             "outlinewidth": 0,
             "ticks": ""
            },
            "type": "mesh3d"
           }
          ],
          "parcoords": [
           {
            "line": {
             "colorbar": {
              "outlinewidth": 0,
              "ticks": ""
             }
            },
            "type": "parcoords"
           }
          ],
          "pie": [
           {
            "automargin": true,
            "type": "pie"
           }
          ],
          "scatter": [
           {
            "fillpattern": {
             "fillmode": "overlay",
             "size": 10,
             "solidity": 0.2
            },
            "type": "scatter"
           }
          ],
          "scatter3d": [
           {
            "line": {
             "colorbar": {
              "outlinewidth": 0,
              "ticks": ""
             }
            },
            "marker": {
             "colorbar": {
              "outlinewidth": 0,
              "ticks": ""
             }
            },
            "type": "scatter3d"
           }
          ],
          "scattercarpet": [
           {
            "marker": {
             "colorbar": {
              "outlinewidth": 0,
              "ticks": ""
             }
            },
            "type": "scattercarpet"
           }
          ],
          "scattergeo": [
           {
            "marker": {
             "colorbar": {
              "outlinewidth": 0,
              "ticks": ""
             }
            },
            "type": "scattergeo"
           }
          ],
          "scattergl": [
           {
            "marker": {
             "colorbar": {
              "outlinewidth": 0,
              "ticks": ""
             }
            },
            "type": "scattergl"
           }
          ],
          "scattermapbox": [
           {
            "marker": {
             "colorbar": {
              "outlinewidth": 0,
              "ticks": ""
             }
            },
            "type": "scattermapbox"
           }
          ],
          "scatterpolar": [
           {
            "marker": {
             "colorbar": {
              "outlinewidth": 0,
              "ticks": ""
             }
            },
            "type": "scatterpolar"
           }
          ],
          "scatterpolargl": [
           {
            "marker": {
             "colorbar": {
              "outlinewidth": 0,
              "ticks": ""
             }
            },
            "type": "scatterpolargl"
           }
          ],
          "scatterternary": [
           {
            "marker": {
             "colorbar": {
              "outlinewidth": 0,
              "ticks": ""
             }
            },
            "type": "scatterternary"
           }
          ],
          "surface": [
           {
            "colorbar": {
             "outlinewidth": 0,
             "ticks": ""
            },
            "colorscale": [
             [
              0,
              "#0d0887"
             ],
             [
              0.1111111111111111,
              "#46039f"
             ],
             [
              0.2222222222222222,
              "#7201a8"
             ],
             [
              0.3333333333333333,
              "#9c179e"
             ],
             [
              0.4444444444444444,
              "#bd3786"
             ],
             [
              0.5555555555555556,
              "#d8576b"
             ],
             [
              0.6666666666666666,
              "#ed7953"
             ],
             [
              0.7777777777777778,
              "#fb9f3a"
             ],
             [
              0.8888888888888888,
              "#fdca26"
             ],
             [
              1,
              "#f0f921"
             ]
            ],
            "type": "surface"
           }
          ],
          "table": [
           {
            "cells": {
             "fill": {
              "color": "#EBF0F8"
             },
             "line": {
              "color": "white"
             }
            },
            "header": {
             "fill": {
              "color": "#C8D4E3"
             },
             "line": {
              "color": "white"
             }
            },
            "type": "table"
           }
          ]
         },
         "layout": {
          "annotationdefaults": {
           "arrowcolor": "#2a3f5f",
           "arrowhead": 0,
           "arrowwidth": 1
          },
          "autotypenumbers": "strict",
          "coloraxis": {
           "colorbar": {
            "outlinewidth": 0,
            "ticks": ""
           }
          },
          "colorscale": {
           "diverging": [
            [
             0,
             "#8e0152"
            ],
            [
             0.1,
             "#c51b7d"
            ],
            [
             0.2,
             "#de77ae"
            ],
            [
             0.3,
             "#f1b6da"
            ],
            [
             0.4,
             "#fde0ef"
            ],
            [
             0.5,
             "#f7f7f7"
            ],
            [
             0.6,
             "#e6f5d0"
            ],
            [
             0.7,
             "#b8e186"
            ],
            [
             0.8,
             "#7fbc41"
            ],
            [
             0.9,
             "#4d9221"
            ],
            [
             1,
             "#276419"
            ]
           ],
           "sequential": [
            [
             0,
             "#0d0887"
            ],
            [
             0.1111111111111111,
             "#46039f"
            ],
            [
             0.2222222222222222,
             "#7201a8"
            ],
            [
             0.3333333333333333,
             "#9c179e"
            ],
            [
             0.4444444444444444,
             "#bd3786"
            ],
            [
             0.5555555555555556,
             "#d8576b"
            ],
            [
             0.6666666666666666,
             "#ed7953"
            ],
            [
             0.7777777777777778,
             "#fb9f3a"
            ],
            [
             0.8888888888888888,
             "#fdca26"
            ],
            [
             1,
             "#f0f921"
            ]
           ],
           "sequentialminus": [
            [
             0,
             "#0d0887"
            ],
            [
             0.1111111111111111,
             "#46039f"
            ],
            [
             0.2222222222222222,
             "#7201a8"
            ],
            [
             0.3333333333333333,
             "#9c179e"
            ],
            [
             0.4444444444444444,
             "#bd3786"
            ],
            [
             0.5555555555555556,
             "#d8576b"
            ],
            [
             0.6666666666666666,
             "#ed7953"
            ],
            [
             0.7777777777777778,
             "#fb9f3a"
            ],
            [
             0.8888888888888888,
             "#fdca26"
            ],
            [
             1,
             "#f0f921"
            ]
           ]
          },
          "colorway": [
           "#636efa",
           "#EF553B",
           "#00cc96",
           "#ab63fa",
           "#FFA15A",
           "#19d3f3",
           "#FF6692",
           "#B6E880",
           "#FF97FF",
           "#FECB52"
          ],
          "font": {
           "color": "#2a3f5f"
          },
          "geo": {
           "bgcolor": "white",
           "lakecolor": "white",
           "landcolor": "#E5ECF6",
           "showlakes": true,
           "showland": true,
           "subunitcolor": "white"
          },
          "hoverlabel": {
           "align": "left"
          },
          "hovermode": "closest",
          "mapbox": {
           "style": "light"
          },
          "paper_bgcolor": "white",
          "plot_bgcolor": "#E5ECF6",
          "polar": {
           "angularaxis": {
            "gridcolor": "white",
            "linecolor": "white",
            "ticks": ""
           },
           "bgcolor": "#E5ECF6",
           "radialaxis": {
            "gridcolor": "white",
            "linecolor": "white",
            "ticks": ""
           }
          },
          "scene": {
           "xaxis": {
            "backgroundcolor": "#E5ECF6",
            "gridcolor": "white",
            "gridwidth": 2,
            "linecolor": "white",
            "showbackground": true,
            "ticks": "",
            "zerolinecolor": "white"
           },
           "yaxis": {
            "backgroundcolor": "#E5ECF6",
            "gridcolor": "white",
            "gridwidth": 2,
            "linecolor": "white",
            "showbackground": true,
            "ticks": "",
            "zerolinecolor": "white"
           },
           "zaxis": {
            "backgroundcolor": "#E5ECF6",
            "gridcolor": "white",
            "gridwidth": 2,
            "linecolor": "white",
            "showbackground": true,
            "ticks": "",
            "zerolinecolor": "white"
           }
          },
          "shapedefaults": {
           "line": {
            "color": "#2a3f5f"
           }
          },
          "ternary": {
           "aaxis": {
            "gridcolor": "white",
            "linecolor": "white",
            "ticks": ""
           },
           "baxis": {
            "gridcolor": "white",
            "linecolor": "white",
            "ticks": ""
           },
           "bgcolor": "#E5ECF6",
           "caxis": {
            "gridcolor": "white",
            "linecolor": "white",
            "ticks": ""
           }
          },
          "title": {
           "x": 0.05
          },
          "xaxis": {
           "automargin": true,
           "gridcolor": "white",
           "linecolor": "white",
           "ticks": "",
           "title": {
            "standoff": 15
           },
           "zerolinecolor": "white",
           "zerolinewidth": 2
          },
          "yaxis": {
           "automargin": true,
           "gridcolor": "white",
           "linecolor": "white",
           "ticks": "",
           "title": {
            "standoff": 15
           },
           "zerolinecolor": "white",
           "zerolinewidth": 2
          }
         }
        },
        "xaxis": {
         "visible": false
        },
        "yaxis": {
         "visible": false
        }
       }
      },
      "text/html": [
       "<div>                            <div id=\"5fdb446a-34a3-4f0a-be45-4f1129cc6e30\" class=\"plotly-graph-div\" style=\"height:525px; width:100%;\"></div>            <script type=\"text/javascript\">                require([\"plotly\"], function(Plotly) {                    window.PLOTLYENV=window.PLOTLYENV || {};                                    if (document.getElementById(\"5fdb446a-34a3-4f0a-be45-4f1129cc6e30\")) {                    Plotly.newPlot(                        \"5fdb446a-34a3-4f0a-be45-4f1129cc6e30\",                        [{\"line\":{\"color\":\"black\",\"shape\":\"spline\",\"smoothing\":1.3,\"width\":1.25},\"mode\":\"lines\",\"showlegend\":false,\"x\":[null,null,0,0,null,0,0.03780993556934605,null,0.03780993556934605,0.03780993556934605,null,0.03780993556934605,0.1900604882739107,null,0.03780993556934605,0.03780993556934605,null,0.03780993556934605,0.2820585589510393,null,0,0,null,0,0.14497410439570096,null],\"y\":[null,null,-0.325,0.65,null,0.65,0.65,null,0.65,1.3,null,1.3,1.3,null,0.65,0.0,null,0.0,0.0,null,-0.325,-1.3,null,-1.3,-1.3,null],\"type\":\"scatter\"},{\"hoverinfo\":\"text\",\"marker\":{\"color\":\"black\",\"size\":3,\"symbol\":\"circle\"},\"mode\":\"markers\",\"showlegend\":false,\"text\":[\"root\",\"Euarchontoglires\",\"Ma's_night_monkey\",\"Steppe_mouse\",\"Siberian_musk_deer\"],\"x\":[0,0.03780993556934605,0.1900604882739107,0.2820585589510393,0.14497410439570096],\"y\":[-0.325,0.65,1.3,0.0,-1.3],\"type\":\"scatter\"}],                        {\"annotations\":[{\"font\":{\"family\":\"Inconsolata, monospace\",\"size\":12},\"showarrow\":false,\"text\":\"Ma's_night_monkey\",\"textangle\":0,\"x\":0.19711195224768668,\"xanchor\":\"left\",\"xref\":\"x\",\"y\":1.3,\"yref\":\"y\"},{\"font\":{\"family\":\"Inconsolata, monospace\",\"size\":12},\"showarrow\":false,\"text\":\"Steppe_mouse\",\"textangle\":0,\"x\":0.2891100229248153,\"xanchor\":\"left\",\"xref\":\"x\",\"y\":0.0,\"yref\":\"y\"},{\"font\":{\"family\":\"Inconsolata, monospace\",\"size\":12},\"showarrow\":false,\"text\":\"Siberian_musk_deer\",\"textangle\":0,\"x\":0.15202556836947695,\"xanchor\":\"left\",\"xref\":\"x\",\"y\":-1.3,\"yref\":\"y\"},{\"ax\":0,\"ay\":0,\"showarrow\":false,\"text\":\"0.03\",\"x\":0.014102927947551967,\"xref\":\"x\",\"y\":-1.5363636363636364,\"yref\":\"y\",\"yshift\":10}],\"autosize\":true,\"font\":{\"family\":\"Balto\",\"size\":14},\"hovermode\":\"closest\",\"margin\":{\"b\":50,\"l\":50,\"pad\":4,\"r\":50,\"t\":50},\"shapes\":[{\"line\":{\"color\":\"black\",\"width\":1.25},\"name\":\"scale_bar\",\"type\":\"line\",\"x0\":0,\"x1\":0.028205855895103934,\"y0\":-1.5363636363636364,\"y1\":-1.5363636363636364}],\"showlegend\":false,\"xaxis\":{\"visible\":false},\"yaxis\":{\"visible\":false},\"template\":{\"data\":{\"histogram2dcontour\":[{\"type\":\"histogram2dcontour\",\"colorbar\":{\"outlinewidth\":0,\"ticks\":\"\"},\"colorscale\":[[0.0,\"#0d0887\"],[0.1111111111111111,\"#46039f\"],[0.2222222222222222,\"#7201a8\"],[0.3333333333333333,\"#9c179e\"],[0.4444444444444444,\"#bd3786\"],[0.5555555555555556,\"#d8576b\"],[0.6666666666666666,\"#ed7953\"],[0.7777777777777778,\"#fb9f3a\"],[0.8888888888888888,\"#fdca26\"],[1.0,\"#f0f921\"]]}],\"choropleth\":[{\"type\":\"choropleth\",\"colorbar\":{\"outlinewidth\":0,\"ticks\":\"\"}}],\"histogram2d\":[{\"type\":\"histogram2d\",\"colorbar\":{\"outlinewidth\":0,\"ticks\":\"\"},\"colorscale\":[[0.0,\"#0d0887\"],[0.1111111111111111,\"#46039f\"],[0.2222222222222222,\"#7201a8\"],[0.3333333333333333,\"#9c179e\"],[0.4444444444444444,\"#bd3786\"],[0.5555555555555556,\"#d8576b\"],[0.6666666666666666,\"#ed7953\"],[0.7777777777777778,\"#fb9f3a\"],[0.8888888888888888,\"#fdca26\"],[1.0,\"#f0f921\"]]}],\"heatmap\":[{\"type\":\"heatmap\",\"colorbar\":{\"outlinewidth\":0,\"ticks\":\"\"},\"colorscale\":[[0.0,\"#0d0887\"],[0.1111111111111111,\"#46039f\"],[0.2222222222222222,\"#7201a8\"],[0.3333333333333333,\"#9c179e\"],[0.4444444444444444,\"#bd3786\"],[0.5555555555555556,\"#d8576b\"],[0.6666666666666666,\"#ed7953\"],[0.7777777777777778,\"#fb9f3a\"],[0.8888888888888888,\"#fdca26\"],[1.0,\"#f0f921\"]]}],\"heatmapgl\":[{\"type\":\"heatmapgl\",\"colorbar\":{\"outlinewidth\":0,\"ticks\":\"\"},\"colorscale\":[[0.0,\"#0d0887\"],[0.1111111111111111,\"#46039f\"],[0.2222222222222222,\"#7201a8\"],[0.3333333333333333,\"#9c179e\"],[0.4444444444444444,\"#bd3786\"],[0.5555555555555556,\"#d8576b\"],[0.6666666666666666,\"#ed7953\"],[0.7777777777777778,\"#fb9f3a\"],[0.8888888888888888,\"#fdca26\"],[1.0,\"#f0f921\"]]}],\"contourcarpet\":[{\"type\":\"contourcarpet\",\"colorbar\":{\"outlinewidth\":0,\"ticks\":\"\"}}],\"contour\":[{\"type\":\"contour\",\"colorbar\":{\"outlinewidth\":0,\"ticks\":\"\"},\"colorscale\":[[0.0,\"#0d0887\"],[0.1111111111111111,\"#46039f\"],[0.2222222222222222,\"#7201a8\"],[0.3333333333333333,\"#9c179e\"],[0.4444444444444444,\"#bd3786\"],[0.5555555555555556,\"#d8576b\"],[0.6666666666666666,\"#ed7953\"],[0.7777777777777778,\"#fb9f3a\"],[0.8888888888888888,\"#fdca26\"],[1.0,\"#f0f921\"]]}],\"surface\":[{\"type\":\"surface\",\"colorbar\":{\"outlinewidth\":0,\"ticks\":\"\"},\"colorscale\":[[0.0,\"#0d0887\"],[0.1111111111111111,\"#46039f\"],[0.2222222222222222,\"#7201a8\"],[0.3333333333333333,\"#9c179e\"],[0.4444444444444444,\"#bd3786\"],[0.5555555555555556,\"#d8576b\"],[0.6666666666666666,\"#ed7953\"],[0.7777777777777778,\"#fb9f3a\"],[0.8888888888888888,\"#fdca26\"],[1.0,\"#f0f921\"]]}],\"mesh3d\":[{\"type\":\"mesh3d\",\"colorbar\":{\"outlinewidth\":0,\"ticks\":\"\"}}],\"scatter\":[{\"fillpattern\":{\"fillmode\":\"overlay\",\"size\":10,\"solidity\":0.2},\"type\":\"scatter\"}],\"parcoords\":[{\"type\":\"parcoords\",\"line\":{\"colorbar\":{\"outlinewidth\":0,\"ticks\":\"\"}}}],\"scatterpolargl\":[{\"type\":\"scatterpolargl\",\"marker\":{\"colorbar\":{\"outlinewidth\":0,\"ticks\":\"\"}}}],\"bar\":[{\"error_x\":{\"color\":\"#2a3f5f\"},\"error_y\":{\"color\":\"#2a3f5f\"},\"marker\":{\"line\":{\"color\":\"#E5ECF6\",\"width\":0.5},\"pattern\":{\"fillmode\":\"overlay\",\"size\":10,\"solidity\":0.2}},\"type\":\"bar\"}],\"scattergeo\":[{\"type\":\"scattergeo\",\"marker\":{\"colorbar\":{\"outlinewidth\":0,\"ticks\":\"\"}}}],\"scatterpolar\":[{\"type\":\"scatterpolar\",\"marker\":{\"colorbar\":{\"outlinewidth\":0,\"ticks\":\"\"}}}],\"histogram\":[{\"marker\":{\"pattern\":{\"fillmode\":\"overlay\",\"size\":10,\"solidity\":0.2}},\"type\":\"histogram\"}],\"scattergl\":[{\"type\":\"scattergl\",\"marker\":{\"colorbar\":{\"outlinewidth\":0,\"ticks\":\"\"}}}],\"scatter3d\":[{\"type\":\"scatter3d\",\"line\":{\"colorbar\":{\"outlinewidth\":0,\"ticks\":\"\"}},\"marker\":{\"colorbar\":{\"outlinewidth\":0,\"ticks\":\"\"}}}],\"scattermapbox\":[{\"type\":\"scattermapbox\",\"marker\":{\"colorbar\":{\"outlinewidth\":0,\"ticks\":\"\"}}}],\"scatterternary\":[{\"type\":\"scatterternary\",\"marker\":{\"colorbar\":{\"outlinewidth\":0,\"ticks\":\"\"}}}],\"scattercarpet\":[{\"type\":\"scattercarpet\",\"marker\":{\"colorbar\":{\"outlinewidth\":0,\"ticks\":\"\"}}}],\"carpet\":[{\"aaxis\":{\"endlinecolor\":\"#2a3f5f\",\"gridcolor\":\"white\",\"linecolor\":\"white\",\"minorgridcolor\":\"white\",\"startlinecolor\":\"#2a3f5f\"},\"baxis\":{\"endlinecolor\":\"#2a3f5f\",\"gridcolor\":\"white\",\"linecolor\":\"white\",\"minorgridcolor\":\"white\",\"startlinecolor\":\"#2a3f5f\"},\"type\":\"carpet\"}],\"table\":[{\"cells\":{\"fill\":{\"color\":\"#EBF0F8\"},\"line\":{\"color\":\"white\"}},\"header\":{\"fill\":{\"color\":\"#C8D4E3\"},\"line\":{\"color\":\"white\"}},\"type\":\"table\"}],\"barpolar\":[{\"marker\":{\"line\":{\"color\":\"#E5ECF6\",\"width\":0.5},\"pattern\":{\"fillmode\":\"overlay\",\"size\":10,\"solidity\":0.2}},\"type\":\"barpolar\"}],\"pie\":[{\"automargin\":true,\"type\":\"pie\"}]},\"layout\":{\"autotypenumbers\":\"strict\",\"colorway\":[\"#636efa\",\"#EF553B\",\"#00cc96\",\"#ab63fa\",\"#FFA15A\",\"#19d3f3\",\"#FF6692\",\"#B6E880\",\"#FF97FF\",\"#FECB52\"],\"font\":{\"color\":\"#2a3f5f\"},\"hovermode\":\"closest\",\"hoverlabel\":{\"align\":\"left\"},\"paper_bgcolor\":\"white\",\"plot_bgcolor\":\"#E5ECF6\",\"polar\":{\"bgcolor\":\"#E5ECF6\",\"angularaxis\":{\"gridcolor\":\"white\",\"linecolor\":\"white\",\"ticks\":\"\"},\"radialaxis\":{\"gridcolor\":\"white\",\"linecolor\":\"white\",\"ticks\":\"\"}},\"ternary\":{\"bgcolor\":\"#E5ECF6\",\"aaxis\":{\"gridcolor\":\"white\",\"linecolor\":\"white\",\"ticks\":\"\"},\"baxis\":{\"gridcolor\":\"white\",\"linecolor\":\"white\",\"ticks\":\"\"},\"caxis\":{\"gridcolor\":\"white\",\"linecolor\":\"white\",\"ticks\":\"\"}},\"coloraxis\":{\"colorbar\":{\"outlinewidth\":0,\"ticks\":\"\"}},\"colorscale\":{\"sequential\":[[0.0,\"#0d0887\"],[0.1111111111111111,\"#46039f\"],[0.2222222222222222,\"#7201a8\"],[0.3333333333333333,\"#9c179e\"],[0.4444444444444444,\"#bd3786\"],[0.5555555555555556,\"#d8576b\"],[0.6666666666666666,\"#ed7953\"],[0.7777777777777778,\"#fb9f3a\"],[0.8888888888888888,\"#fdca26\"],[1.0,\"#f0f921\"]],\"sequentialminus\":[[0.0,\"#0d0887\"],[0.1111111111111111,\"#46039f\"],[0.2222222222222222,\"#7201a8\"],[0.3333333333333333,\"#9c179e\"],[0.4444444444444444,\"#bd3786\"],[0.5555555555555556,\"#d8576b\"],[0.6666666666666666,\"#ed7953\"],[0.7777777777777778,\"#fb9f3a\"],[0.8888888888888888,\"#fdca26\"],[1.0,\"#f0f921\"]],\"diverging\":[[0,\"#8e0152\"],[0.1,\"#c51b7d\"],[0.2,\"#de77ae\"],[0.3,\"#f1b6da\"],[0.4,\"#fde0ef\"],[0.5,\"#f7f7f7\"],[0.6,\"#e6f5d0\"],[0.7,\"#b8e186\"],[0.8,\"#7fbc41\"],[0.9,\"#4d9221\"],[1,\"#276419\"]]},\"xaxis\":{\"gridcolor\":\"white\",\"linecolor\":\"white\",\"ticks\":\"\",\"title\":{\"standoff\":15},\"zerolinecolor\":\"white\",\"automargin\":true,\"zerolinewidth\":2},\"yaxis\":{\"gridcolor\":\"white\",\"linecolor\":\"white\",\"ticks\":\"\",\"title\":{\"standoff\":15},\"zerolinecolor\":\"white\",\"automargin\":true,\"zerolinewidth\":2},\"scene\":{\"xaxis\":{\"backgroundcolor\":\"#E5ECF6\",\"gridcolor\":\"white\",\"linecolor\":\"white\",\"showbackground\":true,\"ticks\":\"\",\"zerolinecolor\":\"white\",\"gridwidth\":2},\"yaxis\":{\"backgroundcolor\":\"#E5ECF6\",\"gridcolor\":\"white\",\"linecolor\":\"white\",\"showbackground\":true,\"ticks\":\"\",\"zerolinecolor\":\"white\",\"gridwidth\":2},\"zaxis\":{\"backgroundcolor\":\"#E5ECF6\",\"gridcolor\":\"white\",\"linecolor\":\"white\",\"showbackground\":true,\"ticks\":\"\",\"zerolinecolor\":\"white\",\"gridwidth\":2}},\"shapedefaults\":{\"line\":{\"color\":\"#2a3f5f\"}},\"annotationdefaults\":{\"arrowcolor\":\"#2a3f5f\",\"arrowhead\":0,\"arrowwidth\":1},\"geo\":{\"bgcolor\":\"white\",\"landcolor\":\"#E5ECF6\",\"subunitcolor\":\"white\",\"showland\":true,\"showlakes\":true,\"lakecolor\":\"white\"},\"title\":{\"x\":0.05},\"mapbox\":{\"style\":\"light\"}}}},                        {\"responsive\": true}                    ).then(function(){\n",
       "                            \n",
       "var gd = document.getElementById('5fdb446a-34a3-4f0a-be45-4f1129cc6e30');\n",
       "var x = new MutationObserver(function (mutations, observer) {{\n",
       "        var display = window.getComputedStyle(gd).display;\n",
       "        if (!display || display === 'none') {{\n",
       "            console.log([gd, 'removed!']);\n",
       "            Plotly.purge(gd);\n",
       "            observer.disconnect();\n",
       "        }}\n",
       "}});\n",
       "\n",
       "// Listen for the removal of the full notebook cells\n",
       "var notebookContainer = gd.closest('#notebook-container');\n",
       "if (notebookContainer) {{\n",
       "    x.observe(notebookContainer, {childList: true});\n",
       "}}\n",
       "\n",
       "// Listen for the clearing of the current output cell\n",
       "var outputEl = gd.closest('.output');\n",
       "if (outputEl) {{\n",
       "    x.observe(outputEl, {childList: true});\n",
       "}}\n",
       "\n",
       "                        })                };                });            </script>        </div>"
      ]
     },
     "metadata": {},
     "output_type": "display_data"
    },
    {
     "data": {
      "text/plain": [
       "<cogent3.draw.dendrogram.Dendrogram at 0x15ea6e900>"
      ]
     },
     "execution_count": 70,
     "metadata": {},
     "output_type": "execute_result"
    }
   ],
   "source": [
    "res_1.get_ens_tree().get_figure()"
   ]
  },
  {
   "cell_type": "code",
   "execution_count": 14,
   "metadata": {},
   "outputs": [
    {
     "data": {
      "text/html": [
       "\n",
       "<div class=\"c3table\">\n",
       "\n",
       "<style>\n",
       ".c3table table {margin: 10px 0;}\n",
       ".c3table tr:last-child {border-bottom: 1px solid #000;} \n",
       ".c3table tr > th {text-align: left; padding: 0 5px;}\n",
       ".c3table tr > td {text-align: left; padding: 5px;}\n",
       ".c3table tr:nth-child(even) {background: #f7f7f7 !important;}\n",
       ".c3table .ellipsis {background: rgba(0, 0, 0, .01);}\n",
       ".c3table .index {background: rgba(161, 195, 209, 0.25); margin: 10px; font-weight: 600;}\n",
       ".c3table .head_cell {background: rgba(161, 195, 209, 0.75); font-weight: bold; text-align: center;}\n",
       ".c3table caption {color: rgb(250, 250, 250); background: rgba(30, 140, 200, 1); padding: 3px; white-space: nowrap; caption-side: top;}\n",
       ".c3table .cell_title {font-weight: bold;}\n",
       ".c3col_left { text-align: left !important; display: block;}\n",
       ".c3col_right { text-align: right !important; display: block;}\n",
       ".c3col_center { text-align: center !important; display: block;}\n",
       "</style>\n",
       "\n",
       "<table>\n",
       "\n",
       "<thead class=\"head_cell\">\n",
       "<th></th><th>T</th><th>C</th><th>A</th><th>G</th>\n",
       "</thead>\n",
       "<tbody>\n",
       "<tr><td class=\"index\"><span class=\"c3col_left\">T</span></td><td><span class=\"c3col_right\">-0.7648</span></td><td><span class=\"c3col_right\">0.5499</span></td><td><span class=\"c3col_right\">0.1486</span></td><td><span class=\"c3col_right\">0.0663</span></td></tr>\n",
       "<tr><td class=\"index\"><span class=\"c3col_left\">C</span></td><td><span class=\"c3col_right\">1.0654</span></td><td><span class=\"c3col_right\">-1.4139</span></td><td><span class=\"c3col_right\">0.1575</span></td><td><span class=\"c3col_right\">0.1911</span></td></tr>\n",
       "<tr><td class=\"index\"><span class=\"c3col_left\">A</span></td><td><span class=\"c3col_right\">0.2451</span></td><td><span class=\"c3col_right\">0.0000</span></td><td><span class=\"c3col_right\">-0.7942</span></td><td><span class=\"c3col_right\">0.5490</span></td></tr>\n",
       "<tr><td class=\"index\"><span class=\"c3col_left\">G</span></td><td><span class=\"c3col_right\">0.0473</span></td><td><span class=\"c3col_right\">0.1964</span></td><td><span class=\"c3col_right\">0.5971</span></td><td><span class=\"c3col_right\">-0.8408</span></td></tr>\n",
       "</tbody>\n",
       "</table>\n",
       "\n",
       "</div>"
      ],
      "text/plain": [
       "=============================================\n",
       "           T          C          A          G\n",
       "---------------------------------------------\n",
       "T    -0.7648     0.5499     0.1486     0.0663\n",
       "C     1.0654    -1.4139     0.1575     0.1911\n",
       "A     0.2451     0.0000    -0.7942     0.5490\n",
       "G     0.0473     0.1964     0.5971    -0.8408\n",
       "---------------------------------------------"
      ]
     },
     "execution_count": 14,
     "metadata": {},
     "output_type": "execute_result"
    }
   ],
   "source": [
    "res_1.get_rate_matrix_for_edge(\"Ma's_night_monkey\", calibrated=True)"
   ]
  },
  {
   "cell_type": "code",
   "execution_count": 18,
   "metadata": {},
   "outputs": [
    {
     "data": {
      "text/html": [
       "\n",
       "<div class=\"c3table\">\n",
       "\n",
       "<style>\n",
       ".c3table table {margin: 10px 0;}\n",
       ".c3table tr:last-child {border-bottom: 1px solid #000;} \n",
       ".c3table tr > th {text-align: left; padding: 0 5px;}\n",
       ".c3table tr > td {text-align: left; padding: 5px;}\n",
       ".c3table tr:nth-child(even) {background: #f7f7f7 !important;}\n",
       ".c3table .ellipsis {background: rgba(0, 0, 0, .01);}\n",
       ".c3table .index {background: rgba(161, 195, 209, 0.0); margin: 10px; font-weight: 600;}\n",
       ".c3table .head_cell {background: rgba(161, 195, 209, 0.75); font-weight: bold; text-align: center;}\n",
       ".c3table caption {color: rgb(250, 250, 250); background: rgba(30, 140, 200, 1); padding: 3px; white-space: nowrap; caption-side: top;}\n",
       ".c3table .cell_title {font-weight: bold;}\n",
       ".c3col_left { text-align: left !important; display: block;}\n",
       ".c3col_right { text-align: right !important; display: block;}\n",
       ".c3col_center { text-align: center !important; display: block;}\n",
       "</style>\n",
       "\n",
       "<table>\n",
       "\n",
       "<thead class=\"head_cell\">\n",
       "<th>T</th><th>C</th><th>A</th><th>G</th>\n",
       "</thead>\n",
       "<tbody>\n",
       "<tr><td><span class=\"c3col_right\">0.2489</span></td><td><span class=\"c3col_right\">0.3162</span></td><td><span class=\"c3col_right\">0.2075</span></td><td><span class=\"c3col_right\">0.2274</span></td></tr>\n",
       "</tbody>\n",
       "</table>\n",
       "\n",
       "</div>"
      ],
      "text/plain": [
       "====================================\n",
       "     T         C         A         G\n",
       "------------------------------------\n",
       "0.2489    0.3162    0.2075    0.2274\n",
       "------------------------------------"
      ]
     },
     "execution_count": 18,
     "metadata": {},
     "output_type": "execute_result"
    }
   ],
   "source": [
    "res_1.get_motif_probs_by_node()['Euarchontoglires']"
   ]
  },
  {
   "cell_type": "code",
   "execution_count": 19,
   "metadata": {},
   "outputs": [
    {
     "ename": "NameError",
     "evalue": "name 'aln1' is not defined",
     "output_type": "error",
     "traceback": [
      "\u001b[0;31m---------------------------------------------------------------------------\u001b[0m",
      "\u001b[0;31mNameError\u001b[0m                                 Traceback (most recent call last)",
      "Cell \u001b[0;32mIn[19], line 1\u001b[0m\n\u001b[0;32m----> 1\u001b[0m \u001b[43maln1\u001b[49m\u001b[38;5;241m.\u001b[39mprobs_per_seq()\n",
      "\u001b[0;31mNameError\u001b[0m: name 'aln1' is not defined"
     ]
    }
   ],
   "source": [
    "aln1.probs_per_seq()"
   ]
  },
  {
   "cell_type": "code",
   "execution_count": 15,
   "metadata": {},
   "outputs": [
    {
     "data": {
      "text/plain": [
       "{('Euarchontoglires',): =============================================\n",
       "            T          C          A          G\n",
       " ---------------------------------------------\n",
       " T    -1.1225     0.0000     1.1005     0.0220\n",
       " C     0.4227    -1.0058     0.5831     0.0000\n",
       " A     0.0010     0.0173    -0.0182     0.0000\n",
       " G     0.2226     0.2836     1.0894    -1.5955\n",
       " ---------------------------------------------,\n",
       " (\"Ma's_night_monkey\",): =============================================\n",
       "            T          C          A          G\n",
       " ---------------------------------------------\n",
       " T    -0.7648     0.5499     0.1486     0.0663\n",
       " C     1.0654    -1.4139     0.1575     0.1911\n",
       " A     0.2451     0.0000    -0.7942     0.5490\n",
       " G     0.0473     0.1964     0.5971    -0.8408\n",
       " ---------------------------------------------,\n",
       " ('Siberian_musk_deer',): =============================================\n",
       "            T          C          A          G\n",
       " ---------------------------------------------\n",
       " T    -1.1390     0.6766     0.3314     0.1310\n",
       " C     0.8997    -1.0002     0.0858     0.0147\n",
       " A     0.0000     0.0000    -0.8762     0.8762\n",
       " G     0.0000     0.0000     0.9467    -0.9467\n",
       " ---------------------------------------------,\n",
       " ('Steppe_mouse',): =============================================\n",
       "            T          C          A          G\n",
       " ---------------------------------------------\n",
       " T    -1.2088     0.6359     0.1194     0.4535\n",
       " C     0.6588    -0.7476     0.0888     0.0000\n",
       " A     0.0989     0.3369    -1.3948     0.9591\n",
       " G     0.1346     0.0983     0.5953    -0.8282\n",
       " ---------------------------------------------}"
      ]
     },
     "execution_count": 15,
     "metadata": {},
     "output_type": "execute_result"
    }
   ],
   "source": [
    "res_1.get_all_rate_matrices()"
   ]
  },
  {
   "cell_type": "code",
   "execution_count": 72,
   "metadata": {},
   "outputs": [
    {
     "data": {
      "text/html": [
       "        <script type=\"text/javascript\">\n",
       "        window.PlotlyConfig = {MathJaxConfig: 'local'};\n",
       "        if (window.MathJax && window.MathJax.Hub && window.MathJax.Hub.Config) {window.MathJax.Hub.Config({SVG: {font: \"STIX-Web\"}});}\n",
       "        if (typeof require !== 'undefined') {\n",
       "        require.undef(\"plotly\");\n",
       "        requirejs.config({\n",
       "            paths: {\n",
       "                'plotly': ['https://cdn.plot.ly/plotly-2.27.0.min']\n",
       "            }\n",
       "        });\n",
       "        require(['plotly'], function(Plotly) {\n",
       "            window._Plotly = Plotly;\n",
       "        });\n",
       "        }\n",
       "        </script>\n",
       "        "
      ]
     },
     "metadata": {},
     "output_type": "display_data"
    },
    {
     "data": {
      "application/vnd.plotly.v1+json": {
       "config": {
        "plotlyServerURL": "https://plot.ly"
       },
       "data": [
        {
         "line": {
          "color": "black",
          "shape": "spline",
          "smoothing": 1.3,
          "width": 1.25
         },
         "mode": "lines",
         "showlegend": false,
         "type": "scatter",
         "x": [
          null,
          null,
          0,
          0,
          null,
          0,
          0.08363852660431251,
          null,
          0.08363852660431251,
          0.08363852660431251,
          null,
          0.08363852660431251,
          0.09988975175748026,
          null,
          0.09988975175748026,
          0.09988975175748026,
          null,
          0.09988975175748026,
          0.10527921641069646,
          null,
          0.10527921641069646,
          0.10527921641069646,
          null,
          0.10527921641069646,
          0.1303142700287236,
          null,
          0.1303142700287236,
          0.1303142700287236,
          null,
          0.1303142700287236,
          0.14722089737796618,
          null,
          0.14722089737796618,
          0.14722089737796618,
          null,
          0.14722089737796618,
          0.15564873282912203,
          null,
          0.15564873282912203,
          0.15564873282912203,
          null,
          0.15564873282912203,
          0.17883997318311456,
          null,
          0.17883997318311456,
          0.17883997318311456,
          null,
          0.17883997318311456,
          0.21568511111813862,
          null,
          0.21568511111813862,
          0.21568511111813862,
          null,
          0.21568511111813862,
          0.2900309616439667,
          null,
          0.2900309616439667,
          0.2900309616439667,
          null,
          0.2900309616439667,
          0.3145158841748846,
          null,
          0.3145158841748846,
          0.3145158841748846,
          null,
          0.3145158841748846,
          0.317318853118394,
          null,
          0.317318853118394,
          0.317318853118394,
          null,
          0.317318853118394,
          0.38305814483084216,
          null,
          0.317318853118394,
          0.317318853118394,
          null,
          0.317318853118394,
          0.4169656534289441,
          null,
          0.3145158841748846,
          0.3145158841748846,
          null,
          0.3145158841748846,
          0.361273089189734,
          null,
          0.2900309616439667,
          0.2900309616439667,
          null,
          0.2900309616439667,
          0.33004161278858324,
          null,
          0.33004161278858324,
          0.33004161278858324,
          null,
          0.33004161278858324,
          0.42304691647564985,
          null,
          0.33004161278858324,
          0.33004161278858324,
          null,
          0.33004161278858324,
          0.42934310813607535,
          null,
          0.21568511111813862,
          0.21568511111813862,
          null,
          0.21568511111813862,
          0.34794109709397747,
          null,
          0.17883997318311456,
          0.17883997318311456,
          null,
          0.17883997318311456,
          0.3548470400421223,
          null,
          0.15564873282912203,
          0.15564873282912203,
          null,
          0.15564873282912203,
          0.4361759642237464,
          null,
          0.14722089737796618,
          0.14722089737796618,
          null,
          0.14722089737796618,
          0.1869057567747806,
          null,
          0.1869057567747806,
          0.1869057567747806,
          null,
          0.1869057567747806,
          0.19915644723614068,
          null,
          0.19915644723614068,
          0.19915644723614068,
          null,
          0.19915644723614068,
          0.2333771956948391,
          null,
          0.19915644723614068,
          0.19915644723614068,
          null,
          0.19915644723614068,
          0.3083507331740634,
          null,
          0.1869057567747806,
          0.1869057567747806,
          null,
          0.1869057567747806,
          0.2921492739912387,
          null,
          0.1303142700287236,
          0.1303142700287236,
          null,
          0.1303142700287236,
          0.2566979958357617,
          null,
          0.2566979958357617,
          0.2566979958357617,
          null,
          0.2566979958357617,
          0.3674566971790438,
          null,
          0.3674566971790438,
          0.3674566971790438,
          null,
          0.3674566971790438,
          0.3835776033131048,
          null,
          0.3674566971790438,
          0.3674566971790438,
          null,
          0.3674566971790438,
          0.3967841423337549,
          null,
          0.3967841423337549,
          0.3967841423337549,
          null,
          0.3967841423337549,
          0.412344539336105,
          null,
          0.3967841423337549,
          0.3967841423337549,
          null,
          0.3967841423337549,
          0.4214395023727382,
          null,
          0.2566979958357617,
          0.2566979958357617,
          null,
          0.2566979958357617,
          0.3980764064934109,
          null,
          0.10527921641069646,
          0.10527921641069646,
          null,
          0.10527921641069646,
          0.3448941577539318,
          null,
          0.09988975175748026,
          0.09988975175748026,
          null,
          0.09988975175748026,
          0.11220148258053138,
          null,
          0.11220148258053138,
          0.11220148258053138,
          null,
          0.11220148258053138,
          0.15154119637015778,
          null,
          0.15154119637015778,
          0.15154119637015778,
          null,
          0.15154119637015778,
          0.17381391149618908,
          null,
          0.17381391149618908,
          0.17381391149618908,
          null,
          0.17381391149618908,
          0.17986702246163835,
          null,
          0.17986702246163835,
          0.17986702246163835,
          null,
          0.17986702246163835,
          0.22214794266529603,
          null,
          0.17986702246163835,
          0.17986702246163835,
          null,
          0.17986702246163835,
          0.24266706353583845,
          null,
          0.17381391149618908,
          0.17381391149618908,
          null,
          0.17381391149618908,
          0.23957543393656056,
          null,
          0.15154119637015778,
          0.15154119637015778,
          null,
          0.15154119637015778,
          0.26332238472835606,
          null,
          0.11220148258053138,
          0.11220148258053138,
          null,
          0.11220148258053138,
          0.20010639192377255,
          null,
          0.20010639192377255,
          0.20010639192377255,
          null,
          0.20010639192377255,
          0.22260687352702752,
          null,
          0.22260687352702752,
          0.22260687352702752,
          null,
          0.22260687352702752,
          0.2381611783161295,
          null,
          0.2381611783161295,
          0.2381611783161295,
          null,
          0.2381611783161295,
          0.24557803898981478,
          null,
          0.24557803898981478,
          0.24557803898981478,
          null,
          0.24557803898981478,
          0.24557894415125195,
          null,
          0.24557803898981478,
          0.24557803898981478,
          null,
          0.24557803898981478,
          0.26052039827095147,
          null,
          0.2381611783161295,
          0.2381611783161295,
          null,
          0.2381611783161295,
          0.2506462989013177,
          null,
          0.22260687352702752,
          0.22260687352702752,
          null,
          0.22260687352702752,
          0.23962535365354107,
          null,
          0.23962535365354107,
          0.23962535365354107,
          null,
          0.23962535365354107,
          0.24208194848318515,
          null,
          0.24208194848318515,
          0.24208194848318515,
          null,
          0.24208194848318515,
          0.24456131283712443,
          null,
          0.24456131283712443,
          0.24456131283712443,
          null,
          0.24456131283712443,
          0.24947174673411945,
          null,
          0.24456131283712443,
          0.24456131283712443,
          null,
          0.24456131283712443,
          0.24953431553681635,
          null,
          0.24208194848318515,
          0.24208194848318515,
          null,
          0.24208194848318515,
          0.2621222439783219,
          null,
          0.23962535365354107,
          0.23962535365354107,
          null,
          0.23962535365354107,
          0.257197828044932,
          null,
          0.20010639192377255,
          0.20010639192377255,
          null,
          0.20010639192377255,
          0.2506480017307146,
          null,
          0.2506480017307146,
          0.2506480017307146,
          null,
          0.2506480017307146,
          0.2524413389057679,
          null,
          0.2524413389057679,
          0.2524413389057679,
          null,
          0.2524413389057679,
          0.2545651954474783,
          null,
          0.2545651954474783,
          0.2545651954474783,
          null,
          0.2545651954474783,
          0.2808473529724739,
          null,
          0.2545651954474783,
          0.2545651954474783,
          null,
          0.2545651954474783,
          0.29223878620471855,
          null,
          0.2524413389057679,
          0.2524413389057679,
          null,
          0.2524413389057679,
          0.27806823601038094,
          null,
          0.2506480017307146,
          0.2506480017307146,
          null,
          0.2506480017307146,
          0.2734217223875657,
          null,
          0.08363852660431251,
          0.08363852660431251,
          null,
          0.08363852660431251,
          0.10048819656513322,
          null,
          0.10048819656513322,
          0.10048819656513322,
          null,
          0.10048819656513322,
          0.10820554225659174,
          null,
          0.10820554225659174,
          0.10820554225659174,
          null,
          0.10820554225659174,
          0.1693436941419258,
          null,
          0.1693436941419258,
          0.1693436941419258,
          null,
          0.1693436941419258,
          0.1811239186117701,
          null,
          0.1811239186117701,
          0.1811239186117701,
          null,
          0.1811239186117701,
          0.19702828041763365,
          null,
          0.19702828041763365,
          0.19702828041763365,
          null,
          0.19702828041763365,
          0.23640529551484057,
          null,
          0.19702828041763365,
          0.19702828041763365,
          null,
          0.19702828041763365,
          0.3043078820885822,
          null,
          0.1811239186117701,
          0.1811239186117701,
          null,
          0.1811239186117701,
          0.24041890254225737,
          null,
          0.24041890254225737,
          0.24041890254225737,
          null,
          0.24041890254225737,
          0.2429095506688111,
          null,
          0.24041890254225737,
          0.24041890254225737,
          null,
          0.24041890254225737,
          0.25035266815663026,
          null,
          0.1693436941419258,
          0.1693436941419258,
          null,
          0.1693436941419258,
          0.24242780235247707,
          null,
          0.24242780235247707,
          0.24242780235247707,
          null,
          0.24242780235247707,
          0.2522761257553826,
          null,
          0.24242780235247707,
          0.24242780235247707,
          null,
          0.24242780235247707,
          0.2524660499586697,
          null,
          0.10820554225659174,
          0.10820554225659174,
          null,
          0.10820554225659174,
          0.1966190174492377,
          null,
          0.10048819656513322,
          0.10048819656513322,
          null,
          0.10048819656513322,
          0.13526923744701808,
          null,
          0.13526923744701808,
          0.13526923744701808,
          null,
          0.13526923744701808,
          0.15528902769440797,
          null,
          0.15528902769440797,
          0.15528902769440797,
          null,
          0.15528902769440797,
          0.1682489842654885,
          null,
          0.1682489842654885,
          0.1682489842654885,
          null,
          0.1682489842654885,
          0.1880480293173736,
          null,
          0.1880480293173736,
          0.1880480293173736,
          null,
          0.1880480293173736,
          0.18804898430756203,
          null,
          0.18804898430756203,
          0.18804898430756203,
          null,
          0.18804898430756203,
          0.1929837790804658,
          null,
          0.18804898430756203,
          0.18804898430756203,
          null,
          0.18804898430756203,
          0.20800783436505108,
          null,
          0.20800783436505108,
          0.20800783436505108,
          null,
          0.20800783436505108,
          0.21050132962436002,
          null,
          0.21050132962436002,
          0.21050132962436002,
          null,
          0.21050132962436002,
          0.21296408376221415,
          null,
          0.21296408376221415,
          0.21296408376221415,
          null,
          0.21296408376221415,
          0.21542683987534741,
          null,
          0.21296408376221415,
          0.21296408376221415,
          null,
          0.21296408376221415,
          0.22290349178366348,
          null,
          0.21050132962436002,
          0.21050132962436002,
          null,
          0.21050132962436002,
          0.21296408565478536,
          null,
          0.20800783436505108,
          0.20800783436505108,
          null,
          0.20800783436505108,
          0.21785981389212622,
          null,
          0.1880480293173736,
          0.1880480293173736,
          null,
          0.1880480293173736,
          0.21062815249175398,
          null,
          0.1682489842654885,
          0.1682489842654885,
          null,
          0.1682489842654885,
          0.2385408969743253,
          null,
          0.2385408969743253,
          0.2385408969743253,
          null,
          0.2385408969743253,
          0.2385418931915529,
          null,
          0.2385418931915529,
          0.2385418931915529,
          null,
          0.2385418931915529,
          0.24329539747051673,
          null,
          0.24329539747051673,
          0.24329539747051673,
          null,
          0.24329539747051673,
          0.26848044413693584,
          null,
          0.24329539747051673,
          0.24329539747051673,
          null,
          0.24329539747051673,
          0.2767807544790939,
          null,
          0.2385418931915529,
          0.2385418931915529,
          null,
          0.2385418931915529,
          0.25864898395572844,
          null,
          0.2385408969743253,
          0.2385408969743253,
          null,
          0.2385408969743253,
          0.2740211270765571,
          null,
          0.15528902769440797,
          0.15528902769440797,
          null,
          0.15528902769440797,
          0.2741749267719435,
          null,
          0.13526923744701808,
          0.13526923744701808,
          null,
          0.13526923744701808,
          0.20871436808952004,
          null,
          0.20871436808952004,
          0.20871436808952004,
          null,
          0.20871436808952004,
          0.21377588191780406,
          null,
          0.20871436808952004,
          0.20871436808952004,
          null,
          0.20871436808952004,
          0.22858951467546199,
          null,
          0,
          0,
          null,
          0,
          0.11180245026848872,
          null
         ],
         "y": [
          null,
          null,
          -19.1638916015625,
          -5.177783203125,
          null,
          -5.177783203125,
          -5.177783203125,
          null,
          -5.177783203125,
          10.55869140625,
          null,
          10.55869140625,
          10.55869140625,
          null,
          10.55869140625,
          16.7501953125,
          null,
          16.7501953125,
          16.7501953125,
          null,
          16.7501953125,
          19.850390625000003,
          null,
          19.850390625000003,
          19.850390625000003,
          null,
          19.850390625000003,
          23.28828125,
          null,
          23.28828125,
          23.28828125,
          null,
          23.28828125,
          25.4515625,
          null,
          25.4515625,
          25.4515625,
          null,
          25.4515625,
          26.853125000000002,
          null,
          26.853125000000002,
          26.853125000000002,
          null,
          26.853125000000002,
          28.356250000000003,
          null,
          28.356250000000003,
          28.356250000000003,
          null,
          28.356250000000003,
          30.0625,
          null,
          30.0625,
          30.0625,
          null,
          30.0625,
          31.525,
          null,
          31.525,
          31.525,
          null,
          31.525,
          32.5,
          null,
          32.5,
          32.5,
          null,
          32.5,
          33.15,
          null,
          33.15,
          33.15,
          null,
          32.5,
          31.85,
          null,
          31.85,
          31.85,
          null,
          31.525,
          30.55,
          null,
          30.55,
          30.55,
          null,
          30.0625,
          28.6,
          null,
          28.6,
          28.6,
          null,
          28.6,
          29.25,
          null,
          29.25,
          29.25,
          null,
          28.6,
          27.95,
          null,
          27.95,
          27.95,
          null,
          28.356250000000003,
          26.650000000000002,
          null,
          26.650000000000002,
          26.650000000000002,
          null,
          26.853125000000002,
          25.35,
          null,
          25.35,
          25.35,
          null,
          25.4515625,
          24.05,
          null,
          24.05,
          24.05,
          null,
          23.28828125,
          21.125,
          null,
          21.125,
          21.125,
          null,
          21.125,
          22.1,
          null,
          22.1,
          22.1,
          null,
          22.1,
          22.75,
          null,
          22.75,
          22.75,
          null,
          22.1,
          21.45,
          null,
          21.45,
          21.45,
          null,
          21.125,
          20.150000000000002,
          null,
          20.150000000000002,
          20.150000000000002,
          null,
          19.850390625000003,
          16.4125,
          null,
          16.4125,
          16.4125,
          null,
          16.4125,
          17.875,
          null,
          17.875,
          17.875,
          null,
          17.875,
          18.85,
          null,
          18.85,
          18.85,
          null,
          17.875,
          16.9,
          null,
          16.9,
          16.9,
          null,
          16.9,
          17.55,
          null,
          17.55,
          17.55,
          null,
          16.9,
          16.25,
          null,
          16.25,
          16.25,
          null,
          16.4125,
          14.950000000000001,
          null,
          14.950000000000001,
          14.950000000000001,
          null,
          16.7501953125,
          13.65,
          null,
          13.65,
          13.65,
          null,
          10.55869140625,
          4.3671875,
          null,
          4.3671875,
          4.3671875,
          null,
          4.3671875,
          9.5875,
          null,
          9.5875,
          9.5875,
          null,
          9.5875,
          10.725,
          null,
          10.725,
          10.725,
          null,
          10.725,
          11.7,
          null,
          11.7,
          11.7,
          null,
          11.7,
          12.35,
          null,
          12.35,
          12.35,
          null,
          11.7,
          11.05,
          null,
          11.05,
          11.05,
          null,
          10.725,
          9.75,
          null,
          9.75,
          9.75,
          null,
          9.5875,
          8.450000000000001,
          null,
          8.450000000000001,
          8.450000000000001,
          null,
          4.3671875,
          -0.8531250000000001,
          null,
          -0.8531250000000001,
          -0.8531250000000001,
          null,
          -0.8531250000000001,
          3.00625,
          null,
          3.00625,
          3.00625,
          null,
          3.00625,
          5.525,
          null,
          5.525,
          5.525,
          null,
          5.525,
          6.5,
          null,
          6.5,
          6.5,
          null,
          6.5,
          7.15,
          null,
          7.15,
          7.15,
          null,
          6.5,
          5.8500000000000005,
          null,
          5.8500000000000005,
          5.8500000000000005,
          null,
          5.525,
          4.55,
          null,
          4.55,
          4.55,
          null,
          3.00625,
          0.4875,
          null,
          0.4875,
          0.4875,
          null,
          0.4875,
          1.625,
          null,
          1.625,
          1.625,
          null,
          1.625,
          2.6,
          null,
          2.6,
          2.6,
          null,
          2.6,
          3.25,
          null,
          3.25,
          3.25,
          null,
          2.6,
          1.9500000000000002,
          null,
          1.9500000000000002,
          1.9500000000000002,
          null,
          1.625,
          0.65,
          null,
          0.65,
          0.65,
          null,
          0.4875,
          -0.65,
          null,
          -0.65,
          -0.65,
          null,
          -0.8531250000000001,
          -4.7125,
          null,
          -4.7125,
          -4.7125,
          null,
          -4.7125,
          -3.575,
          null,
          -3.575,
          -3.575,
          null,
          -3.575,
          -2.6,
          null,
          -2.6,
          -2.6,
          null,
          -2.6,
          -1.9500000000000002,
          null,
          -1.9500000000000002,
          -1.9500000000000002,
          null,
          -2.6,
          -3.25,
          null,
          -3.25,
          -3.25,
          null,
          -3.575,
          -4.55,
          null,
          -4.55,
          -4.55,
          null,
          -4.7125,
          -5.8500000000000005,
          null,
          -5.8500000000000005,
          -5.8500000000000005,
          null,
          -5.177783203125,
          -20.9142578125,
          null,
          -20.9142578125,
          -20.9142578125,
          null,
          -20.9142578125,
          -13,
          null,
          -13,
          -13,
          null,
          -13,
          -11.05,
          null,
          -11.05,
          -11.05,
          null,
          -11.05,
          -9.100000000000001,
          null,
          -9.100000000000001,
          -9.100000000000001,
          null,
          -9.100000000000001,
          -7.800000000000001,
          null,
          -7.800000000000001,
          -7.800000000000001,
          null,
          -7.800000000000001,
          -7.15,
          null,
          -7.15,
          -7.15,
          null,
          -7.800000000000001,
          -8.450000000000001,
          null,
          -8.450000000000001,
          -8.450000000000001,
          null,
          -9.100000000000001,
          -10.4,
          null,
          -10.4,
          -10.4,
          null,
          -10.4,
          -9.75,
          null,
          -9.75,
          -9.75,
          null,
          -10.4,
          -11.05,
          null,
          -11.05,
          -11.05,
          null,
          -11.05,
          -13,
          null,
          -13,
          -13,
          null,
          -13,
          -12.35,
          null,
          -12.35,
          -12.35,
          null,
          -13,
          -13.65,
          null,
          -13.65,
          -13.65,
          null,
          -13,
          -14.950000000000001,
          null,
          -14.950000000000001,
          -14.950000000000001,
          null,
          -20.9142578125,
          -28.828515625,
          null,
          -28.828515625,
          -28.828515625,
          null,
          -28.828515625,
          -26.45703125,
          null,
          -26.45703125,
          -26.45703125,
          null,
          -26.45703125,
          -23.6640625,
          null,
          -23.6640625,
          -23.6640625,
          null,
          -23.6640625,
          -20.515625,
          null,
          -20.515625,
          -20.515625,
          null,
          -20.515625,
          -18.28125,
          null,
          -18.28125,
          -18.28125,
          null,
          -18.28125,
          -16.25,
          null,
          -16.25,
          -16.25,
          null,
          -18.28125,
          -20.3125,
          null,
          -20.3125,
          -20.3125,
          null,
          -20.3125,
          -19.175000000000004,
          null,
          -19.175000000000004,
          -19.175000000000004,
          null,
          -19.175000000000004,
          -18.200000000000003,
          null,
          -18.200000000000003,
          -18.200000000000003,
          null,
          -18.200000000000003,
          -17.55,
          null,
          -17.55,
          -17.55,
          null,
          -18.200000000000003,
          -18.85,
          null,
          -18.85,
          -18.85,
          null,
          -19.175000000000004,
          -20.150000000000002,
          null,
          -20.150000000000002,
          -20.150000000000002,
          null,
          -20.3125,
          -21.45,
          null,
          -21.45,
          -21.45,
          null,
          -20.515625,
          -22.75,
          null,
          -22.75,
          -22.75,
          null,
          -23.6640625,
          -26.8125,
          null,
          -26.8125,
          -26.8125,
          null,
          -26.8125,
          -25.675000000000004,
          null,
          -25.675000000000004,
          -25.675000000000004,
          null,
          -25.675000000000004,
          -24.700000000000003,
          null,
          -24.700000000000003,
          -24.700000000000003,
          null,
          -24.700000000000003,
          -24.05,
          null,
          -24.05,
          -24.05,
          null,
          -24.700000000000003,
          -25.35,
          null,
          -25.35,
          -25.35,
          null,
          -25.675000000000004,
          -26.650000000000002,
          null,
          -26.650000000000002,
          -26.650000000000002,
          null,
          -26.8125,
          -27.95,
          null,
          -27.95,
          -27.95,
          null,
          -26.45703125,
          -29.25,
          null,
          -29.25,
          -29.25,
          null,
          -28.828515625,
          -31.200000000000003,
          null,
          -31.200000000000003,
          -31.200000000000003,
          null,
          -31.200000000000003,
          -30.55,
          null,
          -30.55,
          -30.55,
          null,
          -31.200000000000003,
          -31.85,
          null,
          -31.85,
          -31.85,
          null,
          -19.1638916015625,
          -33.15,
          null,
          -33.15,
          -33.15,
          null
         ]
        },
        {
         "hoverinfo": "text",
         "marker": {
          "color": "black",
          "size": 3,
          "symbol": "circle"
         },
         "mode": "markers",
         "showlegend": false,
         "text": [
          "root",
          "Boreoeutheria",
          "Euarchontoglires",
          "Glires",
          "Rodentia.3",
          "Rodentia.2",
          "Rodentia",
          "Myomorpha",
          "Muroidea.2",
          "Muroidea",
          "Cricetidae.2",
          "Cricetidae",
          "Golden_Hamster",
          "Prairie_vole",
          "Northern_American_deer_mouse",
          "Murinae",
          "Steppe_mouse",
          "Rat",
          "Upper_Galilee_mountains_blind_mole_rat",
          "Lesser_Egyptian_jerboa",
          "Kangaroo_rat",
          "Hystricomorpha.2",
          "Hystricomorpha",
          "Long_tailed_chinchilla",
          "Degu",
          "Guinea_Pig",
          "Sciuridae",
          "Marmotini.3",
          "Alpine_marmot",
          "Marmotini",
          "Arctic_ground_squirrel",
          "Squirrel",
          "Eurasian_red_squirrel",
          "Rabbit",
          "Primates",
          "Strepsirrhini",
          "Lemuriformes.2",
          "Lemuriformes",
          "Greater_bamboo_lemur",
          "Coquerel's_sifaka",
          "Mouse_Lemur",
          "Bushbaby",
          "Simiiformes",
          "Catarrhini",
          "Cercopithecidae",
          "Cercopithecinae.5",
          "Macaque",
          "Vervet_AGM",
          "Golden_snub_nosed_monkey",
          "Hominoidea",
          "Hominidae",
          "Homininae.2",
          "Gorilla",
          "Bonobo",
          "Sumatran_orangutan",
          "Gibbon",
          "Platyrrhini.2",
          "Platyrrhini",
          "Cebidae",
          "Panamanian_white_faced_capuchin",
          "Bolivian_squirrel_monkey",
          "Ma's_night_monkey",
          "White_tufted_ear_marmoset",
          "Laurasiatheria.2",
          "Laurasiatheria",
          "Carnivora",
          "Caniformia.3",
          "Caniformia.2",
          "Giant_panda",
          "Ferret",
          "Canidae",
          "Dingo",
          "Red_fox",
          "Felidae",
          "Tiger",
          "Cat",
          "Donkey",
          "Artiodactyla.3",
          "Artiodactyla.2",
          "Artiodactyla",
          "Cetacea",
          "Odontoceti.3",
          "Sperm_whale",
          "Odontoceti.2",
          "Odontoceti",
          "Monodontidae",
          "Narwhal",
          "Beluga_whale",
          "Vaquita",
          "Dolphin",
          "Blue_whale",
          "Pecora.2",
          "Pecora",
          "Bovidae",
          "Goat",
          "Cow",
          "Siberian_musk_deer",
          "Yarkand_deer",
          "Pig",
          "Camelidae",
          "Arabian_camel",
          "Alpaca",
          "Lesser_hedgehog_tenrec"
         ],
         "type": "scatter",
         "x": [
          0,
          0.08363852660431251,
          0.09988975175748026,
          0.10527921641069646,
          0.1303142700287236,
          0.14722089737796618,
          0.15564873282912203,
          0.17883997318311456,
          0.21568511111813862,
          0.2900309616439667,
          0.3145158841748846,
          0.317318853118394,
          0.38305814483084216,
          0.4169656534289441,
          0.361273089189734,
          0.33004161278858324,
          0.42304691647564985,
          0.42934310813607535,
          0.34794109709397747,
          0.3548470400421223,
          0.4361759642237464,
          0.1869057567747806,
          0.19915644723614068,
          0.2333771956948391,
          0.3083507331740634,
          0.2921492739912387,
          0.2566979958357617,
          0.3674566971790438,
          0.3835776033131048,
          0.3967841423337549,
          0.412344539336105,
          0.4214395023727382,
          0.3980764064934109,
          0.3448941577539318,
          0.11220148258053138,
          0.15154119637015778,
          0.17381391149618908,
          0.17986702246163835,
          0.22214794266529603,
          0.24266706353583845,
          0.23957543393656056,
          0.26332238472835606,
          0.20010639192377255,
          0.22260687352702752,
          0.2381611783161295,
          0.24557803898981478,
          0.24557894415125195,
          0.26052039827095147,
          0.2506462989013177,
          0.23962535365354107,
          0.24208194848318515,
          0.24456131283712443,
          0.24947174673411945,
          0.24953431553681635,
          0.2621222439783219,
          0.257197828044932,
          0.2506480017307146,
          0.2524413389057679,
          0.2545651954474783,
          0.2808473529724739,
          0.29223878620471855,
          0.27806823601038094,
          0.2734217223875657,
          0.10048819656513322,
          0.10820554225659174,
          0.1693436941419258,
          0.1811239186117701,
          0.19702828041763365,
          0.23640529551484057,
          0.3043078820885822,
          0.24041890254225737,
          0.2429095506688111,
          0.25035266815663026,
          0.24242780235247707,
          0.2522761257553826,
          0.2524660499586697,
          0.1966190174492377,
          0.13526923744701808,
          0.15528902769440797,
          0.1682489842654885,
          0.1880480293173736,
          0.18804898430756203,
          0.1929837790804658,
          0.20800783436505108,
          0.21050132962436002,
          0.21296408376221415,
          0.21542683987534741,
          0.22290349178366348,
          0.21296408565478536,
          0.21785981389212622,
          0.21062815249175398,
          0.2385408969743253,
          0.2385418931915529,
          0.24329539747051673,
          0.26848044413693584,
          0.2767807544790939,
          0.25864898395572844,
          0.2740211270765571,
          0.2741749267719435,
          0.20871436808952004,
          0.21377588191780406,
          0.22858951467546199,
          0.11180245026848872
         ],
         "y": [
          -19.1638916015625,
          -5.177783203125,
          10.55869140625,
          16.7501953125,
          19.850390625000003,
          23.28828125,
          25.4515625,
          26.853125000000002,
          28.356250000000003,
          30.0625,
          31.525,
          32.5,
          33.15,
          31.85,
          30.55,
          28.6,
          29.25,
          27.95,
          26.650000000000002,
          25.35,
          24.05,
          21.125,
          22.1,
          22.75,
          21.45,
          20.150000000000002,
          16.4125,
          17.875,
          18.85,
          16.9,
          17.55,
          16.25,
          14.950000000000001,
          13.65,
          4.3671875,
          9.5875,
          10.725,
          11.7,
          12.35,
          11.05,
          9.75,
          8.450000000000001,
          -0.8531250000000001,
          3.00625,
          5.525,
          6.5,
          7.15,
          5.8500000000000005,
          4.55,
          0.4875,
          1.625,
          2.6,
          3.25,
          1.9500000000000002,
          0.65,
          -0.65,
          -4.7125,
          -3.575,
          -2.6,
          -1.9500000000000002,
          -3.25,
          -4.55,
          -5.8500000000000005,
          -20.9142578125,
          -13,
          -11.05,
          -9.100000000000001,
          -7.800000000000001,
          -7.15,
          -8.450000000000001,
          -10.4,
          -9.75,
          -11.05,
          -13,
          -12.35,
          -13.65,
          -14.950000000000001,
          -28.828515625,
          -26.45703125,
          -23.6640625,
          -20.515625,
          -18.28125,
          -16.25,
          -20.3125,
          -19.175000000000004,
          -18.200000000000003,
          -17.55,
          -18.85,
          -20.150000000000002,
          -21.45,
          -22.75,
          -26.8125,
          -25.675000000000004,
          -24.700000000000003,
          -24.05,
          -25.35,
          -26.650000000000002,
          -27.95,
          -29.25,
          -31.200000000000003,
          -30.55,
          -31.85,
          -33.15
         ]
        }
       ],
       "layout": {
        "annotations": [
         {
          "font": {
           "family": "Inconsolata, monospace",
           "size": 12
          },
          "showarrow": false,
          "text": "Golden_Hamster",
          "textangle": 0,
          "x": 0.3939625439364358,
          "xanchor": "left",
          "xref": "x",
          "y": 33.15,
          "yref": "y"
         },
         {
          "font": {
           "family": "Inconsolata, monospace",
           "size": 12
          },
          "showarrow": false,
          "text": "Prairie_vole",
          "textangle": 0,
          "x": 0.42787005253453775,
          "xanchor": "left",
          "xref": "x",
          "y": 31.85,
          "yref": "y"
         },
         {
          "font": {
           "family": "Inconsolata, monospace",
           "size": 12
          },
          "showarrow": false,
          "text": "Northern_American_deer_mouse",
          "textangle": 0,
          "x": 0.37217748829532765,
          "xanchor": "left",
          "xref": "x",
          "y": 30.55,
          "yref": "y"
         },
         {
          "font": {
           "family": "Inconsolata, monospace",
           "size": 12
          },
          "showarrow": false,
          "text": "Steppe_mouse",
          "textangle": 0,
          "x": 0.4339513155812435,
          "xanchor": "left",
          "xref": "x",
          "y": 29.25,
          "yref": "y"
         },
         {
          "font": {
           "family": "Inconsolata, monospace",
           "size": 12
          },
          "showarrow": false,
          "text": "Rat",
          "textangle": 0,
          "x": 0.440247507241669,
          "xanchor": "left",
          "xref": "x",
          "y": 27.95,
          "yref": "y"
         },
         {
          "font": {
           "family": "Inconsolata, monospace",
           "size": 12
          },
          "showarrow": false,
          "text": "Upper_Galilee_mountains_blind_mole_rat",
          "textangle": 0,
          "x": 0.3588454961995711,
          "xanchor": "left",
          "xref": "x",
          "y": 26.650000000000002,
          "yref": "y"
         },
         {
          "font": {
           "family": "Inconsolata, monospace",
           "size": 12
          },
          "showarrow": false,
          "text": "Lesser_Egyptian_jerboa",
          "textangle": 0,
          "x": 0.36575143914771596,
          "xanchor": "left",
          "xref": "x",
          "y": 25.35,
          "yref": "y"
         },
         {
          "font": {
           "family": "Inconsolata, monospace",
           "size": 12
          },
          "showarrow": false,
          "text": "Kangaroo_rat",
          "textangle": 0,
          "x": 0.44708036332934004,
          "xanchor": "left",
          "xref": "x",
          "y": 24.05,
          "yref": "y"
         },
         {
          "font": {
           "family": "Inconsolata, monospace",
           "size": 12
          },
          "showarrow": false,
          "text": "Long_tailed_chinchilla",
          "textangle": 0,
          "x": 0.24428159480043277,
          "xanchor": "left",
          "xref": "x",
          "y": 22.75,
          "yref": "y"
         },
         {
          "font": {
           "family": "Inconsolata, monospace",
           "size": 12
          },
          "showarrow": false,
          "text": "Degu",
          "textangle": 0,
          "x": 0.3192551322796571,
          "xanchor": "left",
          "xref": "x",
          "y": 21.45,
          "yref": "y"
         },
         {
          "font": {
           "family": "Inconsolata, monospace",
           "size": 12
          },
          "showarrow": false,
          "text": "Guinea_Pig",
          "textangle": 0,
          "x": 0.30305367309683234,
          "xanchor": "left",
          "xref": "x",
          "y": 20.150000000000002,
          "yref": "y"
         },
         {
          "font": {
           "family": "Inconsolata, monospace",
           "size": 12
          },
          "showarrow": false,
          "text": "Alpine_marmot",
          "textangle": 0,
          "x": 0.39448200241869846,
          "xanchor": "left",
          "xref": "x",
          "y": 18.85,
          "yref": "y"
         },
         {
          "font": {
           "family": "Inconsolata, monospace",
           "size": 12
          },
          "showarrow": false,
          "text": "Arctic_ground_squirrel",
          "textangle": 0,
          "x": 0.42324893844169864,
          "xanchor": "left",
          "xref": "x",
          "y": 17.55,
          "yref": "y"
         },
         {
          "font": {
           "family": "Inconsolata, monospace",
           "size": 12
          },
          "showarrow": false,
          "text": "Squirrel",
          "textangle": 0,
          "x": 0.43234390147833185,
          "xanchor": "left",
          "xref": "x",
          "y": 16.25,
          "yref": "y"
         },
         {
          "font": {
           "family": "Inconsolata, monospace",
           "size": 12
          },
          "showarrow": false,
          "text": "Eurasian_red_squirrel",
          "textangle": 0,
          "x": 0.40898080559900457,
          "xanchor": "left",
          "xref": "x",
          "y": 14.950000000000001,
          "yref": "y"
         },
         {
          "font": {
           "family": "Inconsolata, monospace",
           "size": 12
          },
          "showarrow": false,
          "text": "Rabbit",
          "textangle": 0,
          "x": 0.35579855685952544,
          "xanchor": "left",
          "xref": "x",
          "y": 13.65,
          "yref": "y"
         },
         {
          "font": {
           "family": "Inconsolata, monospace",
           "size": 12
          },
          "showarrow": false,
          "text": "Greater_bamboo_lemur",
          "textangle": 0,
          "x": 0.23305234177088968,
          "xanchor": "left",
          "xref": "x",
          "y": 12.35,
          "yref": "y"
         },
         {
          "font": {
           "family": "Inconsolata, monospace",
           "size": 12
          },
          "showarrow": false,
          "text": "Coquerel's_sifaka",
          "textangle": 0,
          "x": 0.2535714626414321,
          "xanchor": "left",
          "xref": "x",
          "y": 11.05,
          "yref": "y"
         },
         {
          "font": {
           "family": "Inconsolata, monospace",
           "size": 12
          },
          "showarrow": false,
          "text": "Mouse_Lemur",
          "textangle": 0,
          "x": 0.2504798330421542,
          "xanchor": "left",
          "xref": "x",
          "y": 9.75,
          "yref": "y"
         },
         {
          "font": {
           "family": "Inconsolata, monospace",
           "size": 12
          },
          "showarrow": false,
          "text": "Bushbaby",
          "textangle": 0,
          "x": 0.2742267838339497,
          "xanchor": "left",
          "xref": "x",
          "y": 8.450000000000001,
          "yref": "y"
         },
         {
          "font": {
           "family": "Inconsolata, monospace",
           "size": 12
          },
          "showarrow": false,
          "text": "Macaque",
          "textangle": 0,
          "x": 0.25648334325684563,
          "xanchor": "left",
          "xref": "x",
          "y": 7.15,
          "yref": "y"
         },
         {
          "font": {
           "family": "Inconsolata, monospace",
           "size": 12
          },
          "showarrow": false,
          "text": "Vervet_AGM",
          "textangle": 0,
          "x": 0.2714247973765451,
          "xanchor": "left",
          "xref": "x",
          "y": 5.8500000000000005,
          "yref": "y"
         },
         {
          "font": {
           "family": "Inconsolata, monospace",
           "size": 12
          },
          "showarrow": false,
          "text": "Golden_snub_nosed_monkey",
          "textangle": 0,
          "x": 0.26155069800691133,
          "xanchor": "left",
          "xref": "x",
          "y": 4.55,
          "yref": "y"
         },
         {
          "font": {
           "family": "Inconsolata, monospace",
           "size": 12
          },
          "showarrow": false,
          "text": "Gorilla",
          "textangle": 0,
          "x": 0.26037614583971314,
          "xanchor": "left",
          "xref": "x",
          "y": 3.25,
          "yref": "y"
         },
         {
          "font": {
           "family": "Inconsolata, monospace",
           "size": 12
          },
          "showarrow": false,
          "text": "Bonobo",
          "textangle": 0,
          "x": 0.26043871464241003,
          "xanchor": "left",
          "xref": "x",
          "y": 1.9500000000000002,
          "yref": "y"
         },
         {
          "font": {
           "family": "Inconsolata, monospace",
           "size": 12
          },
          "showarrow": false,
          "text": "Sumatran_orangutan",
          "textangle": 0,
          "x": 0.27302664308391555,
          "xanchor": "left",
          "xref": "x",
          "y": 0.65,
          "yref": "y"
         },
         {
          "font": {
           "family": "Inconsolata, monospace",
           "size": 12
          },
          "showarrow": false,
          "text": "Gibbon",
          "textangle": 0,
          "x": 0.2681022271505257,
          "xanchor": "left",
          "xref": "x",
          "y": -0.65,
          "yref": "y"
         },
         {
          "font": {
           "family": "Inconsolata, monospace",
           "size": 12
          },
          "showarrow": false,
          "text": "Panamanian_white_faced_capuchin",
          "textangle": 0,
          "x": 0.2917517520780675,
          "xanchor": "left",
          "xref": "x",
          "y": -1.9500000000000002,
          "yref": "y"
         },
         {
          "font": {
           "family": "Inconsolata, monospace",
           "size": 12
          },
          "showarrow": false,
          "text": "Bolivian_squirrel_monkey",
          "textangle": 0,
          "x": 0.3031431853103122,
          "xanchor": "left",
          "xref": "x",
          "y": -3.25,
          "yref": "y"
         },
         {
          "font": {
           "family": "Inconsolata, monospace",
           "size": 12
          },
          "showarrow": false,
          "text": "Ma's_night_monkey",
          "textangle": 0,
          "x": 0.2889726351159746,
          "xanchor": "left",
          "xref": "x",
          "y": -4.55,
          "yref": "y"
         },
         {
          "font": {
           "family": "Inconsolata, monospace",
           "size": 12
          },
          "showarrow": false,
          "text": "White_tufted_ear_marmoset",
          "textangle": 0,
          "x": 0.28432612149315933,
          "xanchor": "left",
          "xref": "x",
          "y": -5.8500000000000005,
          "yref": "y"
         },
         {
          "font": {
           "family": "Inconsolata, monospace",
           "size": 12
          },
          "showarrow": false,
          "text": "Giant_panda",
          "textangle": 0,
          "x": 0.24730969462043423,
          "xanchor": "left",
          "xref": "x",
          "y": -7.15,
          "yref": "y"
         },
         {
          "font": {
           "family": "Inconsolata, monospace",
           "size": 12
          },
          "showarrow": false,
          "text": "Ferret",
          "textangle": 0,
          "x": 0.3152122811941759,
          "xanchor": "left",
          "xref": "x",
          "y": -8.450000000000001,
          "yref": "y"
         },
         {
          "font": {
           "family": "Inconsolata, monospace",
           "size": 12
          },
          "showarrow": false,
          "text": "Dingo",
          "textangle": 0,
          "x": 0.25381394977440475,
          "xanchor": "left",
          "xref": "x",
          "y": -9.75,
          "yref": "y"
         },
         {
          "font": {
           "family": "Inconsolata, monospace",
           "size": 12
          },
          "showarrow": false,
          "text": "Red_fox",
          "textangle": 0,
          "x": 0.2612570672622239,
          "xanchor": "left",
          "xref": "x",
          "y": -11.05,
          "yref": "y"
         },
         {
          "font": {
           "family": "Inconsolata, monospace",
           "size": 12
          },
          "showarrow": false,
          "text": "Tiger",
          "textangle": 0,
          "x": 0.26318052486097626,
          "xanchor": "left",
          "xref": "x",
          "y": -12.35,
          "yref": "y"
         },
         {
          "font": {
           "family": "Inconsolata, monospace",
           "size": 12
          },
          "showarrow": false,
          "text": "Cat",
          "textangle": 0,
          "x": 0.2633704490642634,
          "xanchor": "left",
          "xref": "x",
          "y": -13.65,
          "yref": "y"
         },
         {
          "font": {
           "family": "Inconsolata, monospace",
           "size": 12
          },
          "showarrow": false,
          "text": "Donkey",
          "textangle": 0,
          "x": 0.20752341655483136,
          "xanchor": "left",
          "xref": "x",
          "y": -14.950000000000001,
          "yref": "y"
         },
         {
          "font": {
           "family": "Inconsolata, monospace",
           "size": 12
          },
          "showarrow": false,
          "text": "Sperm_whale",
          "textangle": 0,
          "x": 0.20388817818605945,
          "xanchor": "left",
          "xref": "x",
          "y": -16.25,
          "yref": "y"
         },
         {
          "font": {
           "family": "Inconsolata, monospace",
           "size": 12
          },
          "showarrow": false,
          "text": "Narwhal",
          "textangle": 0,
          "x": 0.22633123898094107,
          "xanchor": "left",
          "xref": "x",
          "y": -17.55,
          "yref": "y"
         },
         {
          "font": {
           "family": "Inconsolata, monospace",
           "size": 12
          },
          "showarrow": false,
          "text": "Beluga_whale",
          "textangle": 0,
          "x": 0.23380789088925713,
          "xanchor": "left",
          "xref": "x",
          "y": -18.85,
          "yref": "y"
         },
         {
          "font": {
           "family": "Inconsolata, monospace",
           "size": 12
          },
          "showarrow": false,
          "text": "Vaquita",
          "textangle": 0,
          "x": 0.22386848476037902,
          "xanchor": "left",
          "xref": "x",
          "y": -20.150000000000002,
          "yref": "y"
         },
         {
          "font": {
           "family": "Inconsolata, monospace",
           "size": 12
          },
          "showarrow": false,
          "text": "Dolphin",
          "textangle": 0,
          "x": 0.22876421299771987,
          "xanchor": "left",
          "xref": "x",
          "y": -21.45,
          "yref": "y"
         },
         {
          "font": {
           "family": "Inconsolata, monospace",
           "size": 12
          },
          "showarrow": false,
          "text": "Blue_whale",
          "textangle": 0,
          "x": 0.22153255159734764,
          "xanchor": "left",
          "xref": "x",
          "y": -22.75,
          "yref": "y"
         },
         {
          "font": {
           "family": "Inconsolata, monospace",
           "size": 12
          },
          "showarrow": false,
          "text": "Goat",
          "textangle": 0,
          "x": 0.2793848432425295,
          "xanchor": "left",
          "xref": "x",
          "y": -24.05,
          "yref": "y"
         },
         {
          "font": {
           "family": "Inconsolata, monospace",
           "size": 12
          },
          "showarrow": false,
          "text": "Cow",
          "textangle": 0,
          "x": 0.28768515358468755,
          "xanchor": "left",
          "xref": "x",
          "y": -25.35,
          "yref": "y"
         },
         {
          "font": {
           "family": "Inconsolata, monospace",
           "size": 12
          },
          "showarrow": false,
          "text": "Siberian_musk_deer",
          "textangle": 0,
          "x": 0.2695533830613221,
          "xanchor": "left",
          "xref": "x",
          "y": -26.650000000000002,
          "yref": "y"
         },
         {
          "font": {
           "family": "Inconsolata, monospace",
           "size": 12
          },
          "showarrow": false,
          "text": "Yarkand_deer",
          "textangle": 0,
          "x": 0.2849255261821508,
          "xanchor": "left",
          "xref": "x",
          "y": -27.95,
          "yref": "y"
         },
         {
          "font": {
           "family": "Inconsolata, monospace",
           "size": 12
          },
          "showarrow": false,
          "text": "Pig",
          "textangle": 0,
          "x": 0.28507932587753715,
          "xanchor": "left",
          "xref": "x",
          "y": -29.25,
          "yref": "y"
         },
         {
          "font": {
           "family": "Inconsolata, monospace",
           "size": 12
          },
          "showarrow": false,
          "text": "Arabian_camel",
          "textangle": 0,
          "x": 0.2246802810233977,
          "xanchor": "left",
          "xref": "x",
          "y": -30.55,
          "yref": "y"
         },
         {
          "font": {
           "family": "Inconsolata, monospace",
           "size": 12
          },
          "showarrow": false,
          "text": "Alpaca",
          "textangle": 0,
          "x": 0.23949391378105564,
          "xanchor": "left",
          "xref": "x",
          "y": -31.85,
          "yref": "y"
         },
         {
          "font": {
           "family": "Inconsolata, monospace",
           "size": 12
          },
          "showarrow": false,
          "text": "Lesser_hedgehog_tenrec",
          "textangle": 0,
          "x": 0.12270684937408238,
          "xanchor": "left",
          "xref": "x",
          "y": -33.15,
          "yref": "y"
         },
         {
          "ax": 0,
          "ay": 0,
          "showarrow": false,
          "text": "0.04",
          "x": 0.021808798211187322,
          "xref": "x",
          "y": -39.17727272727272,
          "yref": "y",
          "yshift": 10
         }
        ],
        "autosize": true,
        "font": {
         "family": "Balto",
         "size": 14
        },
        "height": 1200,
        "hovermode": "closest",
        "margin": {
         "b": 50,
         "l": 50,
         "pad": 4,
         "r": 50,
         "t": 50
        },
        "shapes": [
         {
          "line": {
           "color": "black",
           "width": 1.25
          },
          "name": "scale_bar",
          "type": "line",
          "x0": 0,
          "x1": 0.043617596422374644,
          "y0": -39.17727272727272,
          "y1": -39.17727272727272
         }
        ],
        "showlegend": false,
        "template": {
         "data": {
          "bar": [
           {
            "error_x": {
             "color": "#2a3f5f"
            },
            "error_y": {
             "color": "#2a3f5f"
            },
            "marker": {
             "line": {
              "color": "#E5ECF6",
              "width": 0.5
             },
             "pattern": {
              "fillmode": "overlay",
              "size": 10,
              "solidity": 0.2
             }
            },
            "type": "bar"
           }
          ],
          "barpolar": [
           {
            "marker": {
             "line": {
              "color": "#E5ECF6",
              "width": 0.5
             },
             "pattern": {
              "fillmode": "overlay",
              "size": 10,
              "solidity": 0.2
             }
            },
            "type": "barpolar"
           }
          ],
          "carpet": [
           {
            "aaxis": {
             "endlinecolor": "#2a3f5f",
             "gridcolor": "white",
             "linecolor": "white",
             "minorgridcolor": "white",
             "startlinecolor": "#2a3f5f"
            },
            "baxis": {
             "endlinecolor": "#2a3f5f",
             "gridcolor": "white",
             "linecolor": "white",
             "minorgridcolor": "white",
             "startlinecolor": "#2a3f5f"
            },
            "type": "carpet"
           }
          ],
          "choropleth": [
           {
            "colorbar": {
             "outlinewidth": 0,
             "ticks": ""
            },
            "type": "choropleth"
           }
          ],
          "contour": [
           {
            "colorbar": {
             "outlinewidth": 0,
             "ticks": ""
            },
            "colorscale": [
             [
              0,
              "#0d0887"
             ],
             [
              0.1111111111111111,
              "#46039f"
             ],
             [
              0.2222222222222222,
              "#7201a8"
             ],
             [
              0.3333333333333333,
              "#9c179e"
             ],
             [
              0.4444444444444444,
              "#bd3786"
             ],
             [
              0.5555555555555556,
              "#d8576b"
             ],
             [
              0.6666666666666666,
              "#ed7953"
             ],
             [
              0.7777777777777778,
              "#fb9f3a"
             ],
             [
              0.8888888888888888,
              "#fdca26"
             ],
             [
              1,
              "#f0f921"
             ]
            ],
            "type": "contour"
           }
          ],
          "contourcarpet": [
           {
            "colorbar": {
             "outlinewidth": 0,
             "ticks": ""
            },
            "type": "contourcarpet"
           }
          ],
          "heatmap": [
           {
            "colorbar": {
             "outlinewidth": 0,
             "ticks": ""
            },
            "colorscale": [
             [
              0,
              "#0d0887"
             ],
             [
              0.1111111111111111,
              "#46039f"
             ],
             [
              0.2222222222222222,
              "#7201a8"
             ],
             [
              0.3333333333333333,
              "#9c179e"
             ],
             [
              0.4444444444444444,
              "#bd3786"
             ],
             [
              0.5555555555555556,
              "#d8576b"
             ],
             [
              0.6666666666666666,
              "#ed7953"
             ],
             [
              0.7777777777777778,
              "#fb9f3a"
             ],
             [
              0.8888888888888888,
              "#fdca26"
             ],
             [
              1,
              "#f0f921"
             ]
            ],
            "type": "heatmap"
           }
          ],
          "heatmapgl": [
           {
            "colorbar": {
             "outlinewidth": 0,
             "ticks": ""
            },
            "colorscale": [
             [
              0,
              "#0d0887"
             ],
             [
              0.1111111111111111,
              "#46039f"
             ],
             [
              0.2222222222222222,
              "#7201a8"
             ],
             [
              0.3333333333333333,
              "#9c179e"
             ],
             [
              0.4444444444444444,
              "#bd3786"
             ],
             [
              0.5555555555555556,
              "#d8576b"
             ],
             [
              0.6666666666666666,
              "#ed7953"
             ],
             [
              0.7777777777777778,
              "#fb9f3a"
             ],
             [
              0.8888888888888888,
              "#fdca26"
             ],
             [
              1,
              "#f0f921"
             ]
            ],
            "type": "heatmapgl"
           }
          ],
          "histogram": [
           {
            "marker": {
             "pattern": {
              "fillmode": "overlay",
              "size": 10,
              "solidity": 0.2
             }
            },
            "type": "histogram"
           }
          ],
          "histogram2d": [
           {
            "colorbar": {
             "outlinewidth": 0,
             "ticks": ""
            },
            "colorscale": [
             [
              0,
              "#0d0887"
             ],
             [
              0.1111111111111111,
              "#46039f"
             ],
             [
              0.2222222222222222,
              "#7201a8"
             ],
             [
              0.3333333333333333,
              "#9c179e"
             ],
             [
              0.4444444444444444,
              "#bd3786"
             ],
             [
              0.5555555555555556,
              "#d8576b"
             ],
             [
              0.6666666666666666,
              "#ed7953"
             ],
             [
              0.7777777777777778,
              "#fb9f3a"
             ],
             [
              0.8888888888888888,
              "#fdca26"
             ],
             [
              1,
              "#f0f921"
             ]
            ],
            "type": "histogram2d"
           }
          ],
          "histogram2dcontour": [
           {
            "colorbar": {
             "outlinewidth": 0,
             "ticks": ""
            },
            "colorscale": [
             [
              0,
              "#0d0887"
             ],
             [
              0.1111111111111111,
              "#46039f"
             ],
             [
              0.2222222222222222,
              "#7201a8"
             ],
             [
              0.3333333333333333,
              "#9c179e"
             ],
             [
              0.4444444444444444,
              "#bd3786"
             ],
             [
              0.5555555555555556,
              "#d8576b"
             ],
             [
              0.6666666666666666,
              "#ed7953"
             ],
             [
              0.7777777777777778,
              "#fb9f3a"
             ],
             [
              0.8888888888888888,
              "#fdca26"
             ],
             [
              1,
              "#f0f921"
             ]
            ],
            "type": "histogram2dcontour"
           }
          ],
          "mesh3d": [
           {
            "colorbar": {
             "outlinewidth": 0,
             "ticks": ""
            },
            "type": "mesh3d"
           }
          ],
          "parcoords": [
           {
            "line": {
             "colorbar": {
              "outlinewidth": 0,
              "ticks": ""
             }
            },
            "type": "parcoords"
           }
          ],
          "pie": [
           {
            "automargin": true,
            "type": "pie"
           }
          ],
          "scatter": [
           {
            "fillpattern": {
             "fillmode": "overlay",
             "size": 10,
             "solidity": 0.2
            },
            "type": "scatter"
           }
          ],
          "scatter3d": [
           {
            "line": {
             "colorbar": {
              "outlinewidth": 0,
              "ticks": ""
             }
            },
            "marker": {
             "colorbar": {
              "outlinewidth": 0,
              "ticks": ""
             }
            },
            "type": "scatter3d"
           }
          ],
          "scattercarpet": [
           {
            "marker": {
             "colorbar": {
              "outlinewidth": 0,
              "ticks": ""
             }
            },
            "type": "scattercarpet"
           }
          ],
          "scattergeo": [
           {
            "marker": {
             "colorbar": {
              "outlinewidth": 0,
              "ticks": ""
             }
            },
            "type": "scattergeo"
           }
          ],
          "scattergl": [
           {
            "marker": {
             "colorbar": {
              "outlinewidth": 0,
              "ticks": ""
             }
            },
            "type": "scattergl"
           }
          ],
          "scattermapbox": [
           {
            "marker": {
             "colorbar": {
              "outlinewidth": 0,
              "ticks": ""
             }
            },
            "type": "scattermapbox"
           }
          ],
          "scatterpolar": [
           {
            "marker": {
             "colorbar": {
              "outlinewidth": 0,
              "ticks": ""
             }
            },
            "type": "scatterpolar"
           }
          ],
          "scatterpolargl": [
           {
            "marker": {
             "colorbar": {
              "outlinewidth": 0,
              "ticks": ""
             }
            },
            "type": "scatterpolargl"
           }
          ],
          "scatterternary": [
           {
            "marker": {
             "colorbar": {
              "outlinewidth": 0,
              "ticks": ""
             }
            },
            "type": "scatterternary"
           }
          ],
          "surface": [
           {
            "colorbar": {
             "outlinewidth": 0,
             "ticks": ""
            },
            "colorscale": [
             [
              0,
              "#0d0887"
             ],
             [
              0.1111111111111111,
              "#46039f"
             ],
             [
              0.2222222222222222,
              "#7201a8"
             ],
             [
              0.3333333333333333,
              "#9c179e"
             ],
             [
              0.4444444444444444,
              "#bd3786"
             ],
             [
              0.5555555555555556,
              "#d8576b"
             ],
             [
              0.6666666666666666,
              "#ed7953"
             ],
             [
              0.7777777777777778,
              "#fb9f3a"
             ],
             [
              0.8888888888888888,
              "#fdca26"
             ],
             [
              1,
              "#f0f921"
             ]
            ],
            "type": "surface"
           }
          ],
          "table": [
           {
            "cells": {
             "fill": {
              "color": "#EBF0F8"
             },
             "line": {
              "color": "white"
             }
            },
            "header": {
             "fill": {
              "color": "#C8D4E3"
             },
             "line": {
              "color": "white"
             }
            },
            "type": "table"
           }
          ]
         },
         "layout": {
          "annotationdefaults": {
           "arrowcolor": "#2a3f5f",
           "arrowhead": 0,
           "arrowwidth": 1
          },
          "autotypenumbers": "strict",
          "coloraxis": {
           "colorbar": {
            "outlinewidth": 0,
            "ticks": ""
           }
          },
          "colorscale": {
           "diverging": [
            [
             0,
             "#8e0152"
            ],
            [
             0.1,
             "#c51b7d"
            ],
            [
             0.2,
             "#de77ae"
            ],
            [
             0.3,
             "#f1b6da"
            ],
            [
             0.4,
             "#fde0ef"
            ],
            [
             0.5,
             "#f7f7f7"
            ],
            [
             0.6,
             "#e6f5d0"
            ],
            [
             0.7,
             "#b8e186"
            ],
            [
             0.8,
             "#7fbc41"
            ],
            [
             0.9,
             "#4d9221"
            ],
            [
             1,
             "#276419"
            ]
           ],
           "sequential": [
            [
             0,
             "#0d0887"
            ],
            [
             0.1111111111111111,
             "#46039f"
            ],
            [
             0.2222222222222222,
             "#7201a8"
            ],
            [
             0.3333333333333333,
             "#9c179e"
            ],
            [
             0.4444444444444444,
             "#bd3786"
            ],
            [
             0.5555555555555556,
             "#d8576b"
            ],
            [
             0.6666666666666666,
             "#ed7953"
            ],
            [
             0.7777777777777778,
             "#fb9f3a"
            ],
            [
             0.8888888888888888,
             "#fdca26"
            ],
            [
             1,
             "#f0f921"
            ]
           ],
           "sequentialminus": [
            [
             0,
             "#0d0887"
            ],
            [
             0.1111111111111111,
             "#46039f"
            ],
            [
             0.2222222222222222,
             "#7201a8"
            ],
            [
             0.3333333333333333,
             "#9c179e"
            ],
            [
             0.4444444444444444,
             "#bd3786"
            ],
            [
             0.5555555555555556,
             "#d8576b"
            ],
            [
             0.6666666666666666,
             "#ed7953"
            ],
            [
             0.7777777777777778,
             "#fb9f3a"
            ],
            [
             0.8888888888888888,
             "#fdca26"
            ],
            [
             1,
             "#f0f921"
            ]
           ]
          },
          "colorway": [
           "#636efa",
           "#EF553B",
           "#00cc96",
           "#ab63fa",
           "#FFA15A",
           "#19d3f3",
           "#FF6692",
           "#B6E880",
           "#FF97FF",
           "#FECB52"
          ],
          "font": {
           "color": "#2a3f5f"
          },
          "geo": {
           "bgcolor": "white",
           "lakecolor": "white",
           "landcolor": "#E5ECF6",
           "showlakes": true,
           "showland": true,
           "subunitcolor": "white"
          },
          "hoverlabel": {
           "align": "left"
          },
          "hovermode": "closest",
          "mapbox": {
           "style": "light"
          },
          "paper_bgcolor": "white",
          "plot_bgcolor": "#E5ECF6",
          "polar": {
           "angularaxis": {
            "gridcolor": "white",
            "linecolor": "white",
            "ticks": ""
           },
           "bgcolor": "#E5ECF6",
           "radialaxis": {
            "gridcolor": "white",
            "linecolor": "white",
            "ticks": ""
           }
          },
          "scene": {
           "xaxis": {
            "backgroundcolor": "#E5ECF6",
            "gridcolor": "white",
            "gridwidth": 2,
            "linecolor": "white",
            "showbackground": true,
            "ticks": "",
            "zerolinecolor": "white"
           },
           "yaxis": {
            "backgroundcolor": "#E5ECF6",
            "gridcolor": "white",
            "gridwidth": 2,
            "linecolor": "white",
            "showbackground": true,
            "ticks": "",
            "zerolinecolor": "white"
           },
           "zaxis": {
            "backgroundcolor": "#E5ECF6",
            "gridcolor": "white",
            "gridwidth": 2,
            "linecolor": "white",
            "showbackground": true,
            "ticks": "",
            "zerolinecolor": "white"
           }
          },
          "shapedefaults": {
           "line": {
            "color": "#2a3f5f"
           }
          },
          "ternary": {
           "aaxis": {
            "gridcolor": "white",
            "linecolor": "white",
            "ticks": ""
           },
           "baxis": {
            "gridcolor": "white",
            "linecolor": "white",
            "ticks": ""
           },
           "bgcolor": "#E5ECF6",
           "caxis": {
            "gridcolor": "white",
            "linecolor": "white",
            "ticks": ""
           }
          },
          "title": {
           "x": 0.05
          },
          "xaxis": {
           "automargin": true,
           "gridcolor": "white",
           "linecolor": "white",
           "ticks": "",
           "title": {
            "standoff": 15
           },
           "zerolinecolor": "white",
           "zerolinewidth": 2
          },
          "yaxis": {
           "automargin": true,
           "gridcolor": "white",
           "linecolor": "white",
           "ticks": "",
           "title": {
            "standoff": 15
           },
           "zerolinecolor": "white",
           "zerolinewidth": 2
          }
         }
        },
        "width": 1200,
        "xaxis": {
         "visible": false
        },
        "yaxis": {
         "visible": false
        }
       }
      },
      "text/html": [
       "<div>                            <div id=\"fc36164a-b618-439e-a60e-4d4f6652c1ce\" class=\"plotly-graph-div\" style=\"height:1200px; width:1200px;\"></div>            <script type=\"text/javascript\">                require([\"plotly\"], function(Plotly) {                    window.PLOTLYENV=window.PLOTLYENV || {};                                    if (document.getElementById(\"fc36164a-b618-439e-a60e-4d4f6652c1ce\")) {                    Plotly.newPlot(                        \"fc36164a-b618-439e-a60e-4d4f6652c1ce\",                        [{\"line\":{\"color\":\"black\",\"shape\":\"spline\",\"smoothing\":1.3,\"width\":1.25},\"mode\":\"lines\",\"showlegend\":false,\"x\":[null,null,0,0,null,0,0.08363852660431251,null,0.08363852660431251,0.08363852660431251,null,0.08363852660431251,0.09988975175748026,null,0.09988975175748026,0.09988975175748026,null,0.09988975175748026,0.10527921641069646,null,0.10527921641069646,0.10527921641069646,null,0.10527921641069646,0.1303142700287236,null,0.1303142700287236,0.1303142700287236,null,0.1303142700287236,0.14722089737796618,null,0.14722089737796618,0.14722089737796618,null,0.14722089737796618,0.15564873282912203,null,0.15564873282912203,0.15564873282912203,null,0.15564873282912203,0.17883997318311456,null,0.17883997318311456,0.17883997318311456,null,0.17883997318311456,0.21568511111813862,null,0.21568511111813862,0.21568511111813862,null,0.21568511111813862,0.2900309616439667,null,0.2900309616439667,0.2900309616439667,null,0.2900309616439667,0.3145158841748846,null,0.3145158841748846,0.3145158841748846,null,0.3145158841748846,0.317318853118394,null,0.317318853118394,0.317318853118394,null,0.317318853118394,0.38305814483084216,null,0.317318853118394,0.317318853118394,null,0.317318853118394,0.4169656534289441,null,0.3145158841748846,0.3145158841748846,null,0.3145158841748846,0.361273089189734,null,0.2900309616439667,0.2900309616439667,null,0.2900309616439667,0.33004161278858324,null,0.33004161278858324,0.33004161278858324,null,0.33004161278858324,0.42304691647564985,null,0.33004161278858324,0.33004161278858324,null,0.33004161278858324,0.42934310813607535,null,0.21568511111813862,0.21568511111813862,null,0.21568511111813862,0.34794109709397747,null,0.17883997318311456,0.17883997318311456,null,0.17883997318311456,0.3548470400421223,null,0.15564873282912203,0.15564873282912203,null,0.15564873282912203,0.4361759642237464,null,0.14722089737796618,0.14722089737796618,null,0.14722089737796618,0.1869057567747806,null,0.1869057567747806,0.1869057567747806,null,0.1869057567747806,0.19915644723614068,null,0.19915644723614068,0.19915644723614068,null,0.19915644723614068,0.2333771956948391,null,0.19915644723614068,0.19915644723614068,null,0.19915644723614068,0.3083507331740634,null,0.1869057567747806,0.1869057567747806,null,0.1869057567747806,0.2921492739912387,null,0.1303142700287236,0.1303142700287236,null,0.1303142700287236,0.2566979958357617,null,0.2566979958357617,0.2566979958357617,null,0.2566979958357617,0.3674566971790438,null,0.3674566971790438,0.3674566971790438,null,0.3674566971790438,0.3835776033131048,null,0.3674566971790438,0.3674566971790438,null,0.3674566971790438,0.3967841423337549,null,0.3967841423337549,0.3967841423337549,null,0.3967841423337549,0.412344539336105,null,0.3967841423337549,0.3967841423337549,null,0.3967841423337549,0.4214395023727382,null,0.2566979958357617,0.2566979958357617,null,0.2566979958357617,0.3980764064934109,null,0.10527921641069646,0.10527921641069646,null,0.10527921641069646,0.3448941577539318,null,0.09988975175748026,0.09988975175748026,null,0.09988975175748026,0.11220148258053138,null,0.11220148258053138,0.11220148258053138,null,0.11220148258053138,0.15154119637015778,null,0.15154119637015778,0.15154119637015778,null,0.15154119637015778,0.17381391149618908,null,0.17381391149618908,0.17381391149618908,null,0.17381391149618908,0.17986702246163835,null,0.17986702246163835,0.17986702246163835,null,0.17986702246163835,0.22214794266529603,null,0.17986702246163835,0.17986702246163835,null,0.17986702246163835,0.24266706353583845,null,0.17381391149618908,0.17381391149618908,null,0.17381391149618908,0.23957543393656056,null,0.15154119637015778,0.15154119637015778,null,0.15154119637015778,0.26332238472835606,null,0.11220148258053138,0.11220148258053138,null,0.11220148258053138,0.20010639192377255,null,0.20010639192377255,0.20010639192377255,null,0.20010639192377255,0.22260687352702752,null,0.22260687352702752,0.22260687352702752,null,0.22260687352702752,0.2381611783161295,null,0.2381611783161295,0.2381611783161295,null,0.2381611783161295,0.24557803898981478,null,0.24557803898981478,0.24557803898981478,null,0.24557803898981478,0.24557894415125195,null,0.24557803898981478,0.24557803898981478,null,0.24557803898981478,0.26052039827095147,null,0.2381611783161295,0.2381611783161295,null,0.2381611783161295,0.2506462989013177,null,0.22260687352702752,0.22260687352702752,null,0.22260687352702752,0.23962535365354107,null,0.23962535365354107,0.23962535365354107,null,0.23962535365354107,0.24208194848318515,null,0.24208194848318515,0.24208194848318515,null,0.24208194848318515,0.24456131283712443,null,0.24456131283712443,0.24456131283712443,null,0.24456131283712443,0.24947174673411945,null,0.24456131283712443,0.24456131283712443,null,0.24456131283712443,0.24953431553681635,null,0.24208194848318515,0.24208194848318515,null,0.24208194848318515,0.2621222439783219,null,0.23962535365354107,0.23962535365354107,null,0.23962535365354107,0.257197828044932,null,0.20010639192377255,0.20010639192377255,null,0.20010639192377255,0.2506480017307146,null,0.2506480017307146,0.2506480017307146,null,0.2506480017307146,0.2524413389057679,null,0.2524413389057679,0.2524413389057679,null,0.2524413389057679,0.2545651954474783,null,0.2545651954474783,0.2545651954474783,null,0.2545651954474783,0.2808473529724739,null,0.2545651954474783,0.2545651954474783,null,0.2545651954474783,0.29223878620471855,null,0.2524413389057679,0.2524413389057679,null,0.2524413389057679,0.27806823601038094,null,0.2506480017307146,0.2506480017307146,null,0.2506480017307146,0.2734217223875657,null,0.08363852660431251,0.08363852660431251,null,0.08363852660431251,0.10048819656513322,null,0.10048819656513322,0.10048819656513322,null,0.10048819656513322,0.10820554225659174,null,0.10820554225659174,0.10820554225659174,null,0.10820554225659174,0.1693436941419258,null,0.1693436941419258,0.1693436941419258,null,0.1693436941419258,0.1811239186117701,null,0.1811239186117701,0.1811239186117701,null,0.1811239186117701,0.19702828041763365,null,0.19702828041763365,0.19702828041763365,null,0.19702828041763365,0.23640529551484057,null,0.19702828041763365,0.19702828041763365,null,0.19702828041763365,0.3043078820885822,null,0.1811239186117701,0.1811239186117701,null,0.1811239186117701,0.24041890254225737,null,0.24041890254225737,0.24041890254225737,null,0.24041890254225737,0.2429095506688111,null,0.24041890254225737,0.24041890254225737,null,0.24041890254225737,0.25035266815663026,null,0.1693436941419258,0.1693436941419258,null,0.1693436941419258,0.24242780235247707,null,0.24242780235247707,0.24242780235247707,null,0.24242780235247707,0.2522761257553826,null,0.24242780235247707,0.24242780235247707,null,0.24242780235247707,0.2524660499586697,null,0.10820554225659174,0.10820554225659174,null,0.10820554225659174,0.1966190174492377,null,0.10048819656513322,0.10048819656513322,null,0.10048819656513322,0.13526923744701808,null,0.13526923744701808,0.13526923744701808,null,0.13526923744701808,0.15528902769440797,null,0.15528902769440797,0.15528902769440797,null,0.15528902769440797,0.1682489842654885,null,0.1682489842654885,0.1682489842654885,null,0.1682489842654885,0.1880480293173736,null,0.1880480293173736,0.1880480293173736,null,0.1880480293173736,0.18804898430756203,null,0.18804898430756203,0.18804898430756203,null,0.18804898430756203,0.1929837790804658,null,0.18804898430756203,0.18804898430756203,null,0.18804898430756203,0.20800783436505108,null,0.20800783436505108,0.20800783436505108,null,0.20800783436505108,0.21050132962436002,null,0.21050132962436002,0.21050132962436002,null,0.21050132962436002,0.21296408376221415,null,0.21296408376221415,0.21296408376221415,null,0.21296408376221415,0.21542683987534741,null,0.21296408376221415,0.21296408376221415,null,0.21296408376221415,0.22290349178366348,null,0.21050132962436002,0.21050132962436002,null,0.21050132962436002,0.21296408565478536,null,0.20800783436505108,0.20800783436505108,null,0.20800783436505108,0.21785981389212622,null,0.1880480293173736,0.1880480293173736,null,0.1880480293173736,0.21062815249175398,null,0.1682489842654885,0.1682489842654885,null,0.1682489842654885,0.2385408969743253,null,0.2385408969743253,0.2385408969743253,null,0.2385408969743253,0.2385418931915529,null,0.2385418931915529,0.2385418931915529,null,0.2385418931915529,0.24329539747051673,null,0.24329539747051673,0.24329539747051673,null,0.24329539747051673,0.26848044413693584,null,0.24329539747051673,0.24329539747051673,null,0.24329539747051673,0.2767807544790939,null,0.2385418931915529,0.2385418931915529,null,0.2385418931915529,0.25864898395572844,null,0.2385408969743253,0.2385408969743253,null,0.2385408969743253,0.2740211270765571,null,0.15528902769440797,0.15528902769440797,null,0.15528902769440797,0.2741749267719435,null,0.13526923744701808,0.13526923744701808,null,0.13526923744701808,0.20871436808952004,null,0.20871436808952004,0.20871436808952004,null,0.20871436808952004,0.21377588191780406,null,0.20871436808952004,0.20871436808952004,null,0.20871436808952004,0.22858951467546199,null,0,0,null,0,0.11180245026848872,null],\"y\":[null,null,-19.1638916015625,-5.177783203125,null,-5.177783203125,-5.177783203125,null,-5.177783203125,10.55869140625,null,10.55869140625,10.55869140625,null,10.55869140625,16.7501953125,null,16.7501953125,16.7501953125,null,16.7501953125,19.850390625000003,null,19.850390625000003,19.850390625000003,null,19.850390625000003,23.28828125,null,23.28828125,23.28828125,null,23.28828125,25.4515625,null,25.4515625,25.4515625,null,25.4515625,26.853125000000002,null,26.853125000000002,26.853125000000002,null,26.853125000000002,28.356250000000003,null,28.356250000000003,28.356250000000003,null,28.356250000000003,30.0625,null,30.0625,30.0625,null,30.0625,31.525,null,31.525,31.525,null,31.525,32.5,null,32.5,32.5,null,32.5,33.15,null,33.15,33.15,null,32.5,31.85,null,31.85,31.85,null,31.525,30.55,null,30.55,30.55,null,30.0625,28.6,null,28.6,28.6,null,28.6,29.25,null,29.25,29.25,null,28.6,27.95,null,27.95,27.95,null,28.356250000000003,26.650000000000002,null,26.650000000000002,26.650000000000002,null,26.853125000000002,25.35,null,25.35,25.35,null,25.4515625,24.05,null,24.05,24.05,null,23.28828125,21.125,null,21.125,21.125,null,21.125,22.1,null,22.1,22.1,null,22.1,22.75,null,22.75,22.75,null,22.1,21.45,null,21.45,21.45,null,21.125,20.150000000000002,null,20.150000000000002,20.150000000000002,null,19.850390625000003,16.4125,null,16.4125,16.4125,null,16.4125,17.875,null,17.875,17.875,null,17.875,18.85,null,18.85,18.85,null,17.875,16.9,null,16.9,16.9,null,16.9,17.55,null,17.55,17.55,null,16.9,16.25,null,16.25,16.25,null,16.4125,14.950000000000001,null,14.950000000000001,14.950000000000001,null,16.7501953125,13.65,null,13.65,13.65,null,10.55869140625,4.3671875,null,4.3671875,4.3671875,null,4.3671875,9.5875,null,9.5875,9.5875,null,9.5875,10.725,null,10.725,10.725,null,10.725,11.7,null,11.7,11.7,null,11.7,12.35,null,12.35,12.35,null,11.7,11.05,null,11.05,11.05,null,10.725,9.75,null,9.75,9.75,null,9.5875,8.450000000000001,null,8.450000000000001,8.450000000000001,null,4.3671875,-0.8531250000000001,null,-0.8531250000000001,-0.8531250000000001,null,-0.8531250000000001,3.00625,null,3.00625,3.00625,null,3.00625,5.525,null,5.525,5.525,null,5.525,6.5,null,6.5,6.5,null,6.5,7.15,null,7.15,7.15,null,6.5,5.8500000000000005,null,5.8500000000000005,5.8500000000000005,null,5.525,4.55,null,4.55,4.55,null,3.00625,0.4875,null,0.4875,0.4875,null,0.4875,1.625,null,1.625,1.625,null,1.625,2.6,null,2.6,2.6,null,2.6,3.25,null,3.25,3.25,null,2.6,1.9500000000000002,null,1.9500000000000002,1.9500000000000002,null,1.625,0.65,null,0.65,0.65,null,0.4875,-0.65,null,-0.65,-0.65,null,-0.8531250000000001,-4.7125,null,-4.7125,-4.7125,null,-4.7125,-3.575,null,-3.575,-3.575,null,-3.575,-2.6,null,-2.6,-2.6,null,-2.6,-1.9500000000000002,null,-1.9500000000000002,-1.9500000000000002,null,-2.6,-3.25,null,-3.25,-3.25,null,-3.575,-4.55,null,-4.55,-4.55,null,-4.7125,-5.8500000000000005,null,-5.8500000000000005,-5.8500000000000005,null,-5.177783203125,-20.9142578125,null,-20.9142578125,-20.9142578125,null,-20.9142578125,-13.0,null,-13.0,-13.0,null,-13.0,-11.05,null,-11.05,-11.05,null,-11.05,-9.100000000000001,null,-9.100000000000001,-9.100000000000001,null,-9.100000000000001,-7.800000000000001,null,-7.800000000000001,-7.800000000000001,null,-7.800000000000001,-7.15,null,-7.15,-7.15,null,-7.800000000000001,-8.450000000000001,null,-8.450000000000001,-8.450000000000001,null,-9.100000000000001,-10.4,null,-10.4,-10.4,null,-10.4,-9.75,null,-9.75,-9.75,null,-10.4,-11.05,null,-11.05,-11.05,null,-11.05,-13.0,null,-13.0,-13.0,null,-13.0,-12.35,null,-12.35,-12.35,null,-13.0,-13.65,null,-13.65,-13.65,null,-13.0,-14.950000000000001,null,-14.950000000000001,-14.950000000000001,null,-20.9142578125,-28.828515625,null,-28.828515625,-28.828515625,null,-28.828515625,-26.45703125,null,-26.45703125,-26.45703125,null,-26.45703125,-23.6640625,null,-23.6640625,-23.6640625,null,-23.6640625,-20.515625,null,-20.515625,-20.515625,null,-20.515625,-18.28125,null,-18.28125,-18.28125,null,-18.28125,-16.25,null,-16.25,-16.25,null,-18.28125,-20.3125,null,-20.3125,-20.3125,null,-20.3125,-19.175000000000004,null,-19.175000000000004,-19.175000000000004,null,-19.175000000000004,-18.200000000000003,null,-18.200000000000003,-18.200000000000003,null,-18.200000000000003,-17.55,null,-17.55,-17.55,null,-18.200000000000003,-18.85,null,-18.85,-18.85,null,-19.175000000000004,-20.150000000000002,null,-20.150000000000002,-20.150000000000002,null,-20.3125,-21.45,null,-21.45,-21.45,null,-20.515625,-22.75,null,-22.75,-22.75,null,-23.6640625,-26.8125,null,-26.8125,-26.8125,null,-26.8125,-25.675000000000004,null,-25.675000000000004,-25.675000000000004,null,-25.675000000000004,-24.700000000000003,null,-24.700000000000003,-24.700000000000003,null,-24.700000000000003,-24.05,null,-24.05,-24.05,null,-24.700000000000003,-25.35,null,-25.35,-25.35,null,-25.675000000000004,-26.650000000000002,null,-26.650000000000002,-26.650000000000002,null,-26.8125,-27.95,null,-27.95,-27.95,null,-26.45703125,-29.25,null,-29.25,-29.25,null,-28.828515625,-31.200000000000003,null,-31.200000000000003,-31.200000000000003,null,-31.200000000000003,-30.55,null,-30.55,-30.55,null,-31.200000000000003,-31.85,null,-31.85,-31.85,null,-19.1638916015625,-33.15,null,-33.15,-33.15,null],\"type\":\"scatter\"},{\"hoverinfo\":\"text\",\"marker\":{\"color\":\"black\",\"size\":3,\"symbol\":\"circle\"},\"mode\":\"markers\",\"showlegend\":false,\"text\":[\"root\",\"Boreoeutheria\",\"Euarchontoglires\",\"Glires\",\"Rodentia.3\",\"Rodentia.2\",\"Rodentia\",\"Myomorpha\",\"Muroidea.2\",\"Muroidea\",\"Cricetidae.2\",\"Cricetidae\",\"Golden_Hamster\",\"Prairie_vole\",\"Northern_American_deer_mouse\",\"Murinae\",\"Steppe_mouse\",\"Rat\",\"Upper_Galilee_mountains_blind_mole_rat\",\"Lesser_Egyptian_jerboa\",\"Kangaroo_rat\",\"Hystricomorpha.2\",\"Hystricomorpha\",\"Long_tailed_chinchilla\",\"Degu\",\"Guinea_Pig\",\"Sciuridae\",\"Marmotini.3\",\"Alpine_marmot\",\"Marmotini\",\"Arctic_ground_squirrel\",\"Squirrel\",\"Eurasian_red_squirrel\",\"Rabbit\",\"Primates\",\"Strepsirrhini\",\"Lemuriformes.2\",\"Lemuriformes\",\"Greater_bamboo_lemur\",\"Coquerel's_sifaka\",\"Mouse_Lemur\",\"Bushbaby\",\"Simiiformes\",\"Catarrhini\",\"Cercopithecidae\",\"Cercopithecinae.5\",\"Macaque\",\"Vervet_AGM\",\"Golden_snub_nosed_monkey\",\"Hominoidea\",\"Hominidae\",\"Homininae.2\",\"Gorilla\",\"Bonobo\",\"Sumatran_orangutan\",\"Gibbon\",\"Platyrrhini.2\",\"Platyrrhini\",\"Cebidae\",\"Panamanian_white_faced_capuchin\",\"Bolivian_squirrel_monkey\",\"Ma's_night_monkey\",\"White_tufted_ear_marmoset\",\"Laurasiatheria.2\",\"Laurasiatheria\",\"Carnivora\",\"Caniformia.3\",\"Caniformia.2\",\"Giant_panda\",\"Ferret\",\"Canidae\",\"Dingo\",\"Red_fox\",\"Felidae\",\"Tiger\",\"Cat\",\"Donkey\",\"Artiodactyla.3\",\"Artiodactyla.2\",\"Artiodactyla\",\"Cetacea\",\"Odontoceti.3\",\"Sperm_whale\",\"Odontoceti.2\",\"Odontoceti\",\"Monodontidae\",\"Narwhal\",\"Beluga_whale\",\"Vaquita\",\"Dolphin\",\"Blue_whale\",\"Pecora.2\",\"Pecora\",\"Bovidae\",\"Goat\",\"Cow\",\"Siberian_musk_deer\",\"Yarkand_deer\",\"Pig\",\"Camelidae\",\"Arabian_camel\",\"Alpaca\",\"Lesser_hedgehog_tenrec\"],\"x\":[0,0.08363852660431251,0.09988975175748026,0.10527921641069646,0.1303142700287236,0.14722089737796618,0.15564873282912203,0.17883997318311456,0.21568511111813862,0.2900309616439667,0.3145158841748846,0.317318853118394,0.38305814483084216,0.4169656534289441,0.361273089189734,0.33004161278858324,0.42304691647564985,0.42934310813607535,0.34794109709397747,0.3548470400421223,0.4361759642237464,0.1869057567747806,0.19915644723614068,0.2333771956948391,0.3083507331740634,0.2921492739912387,0.2566979958357617,0.3674566971790438,0.3835776033131048,0.3967841423337549,0.412344539336105,0.4214395023727382,0.3980764064934109,0.3448941577539318,0.11220148258053138,0.15154119637015778,0.17381391149618908,0.17986702246163835,0.22214794266529603,0.24266706353583845,0.23957543393656056,0.26332238472835606,0.20010639192377255,0.22260687352702752,0.2381611783161295,0.24557803898981478,0.24557894415125195,0.26052039827095147,0.2506462989013177,0.23962535365354107,0.24208194848318515,0.24456131283712443,0.24947174673411945,0.24953431553681635,0.2621222439783219,0.257197828044932,0.2506480017307146,0.2524413389057679,0.2545651954474783,0.2808473529724739,0.29223878620471855,0.27806823601038094,0.2734217223875657,0.10048819656513322,0.10820554225659174,0.1693436941419258,0.1811239186117701,0.19702828041763365,0.23640529551484057,0.3043078820885822,0.24041890254225737,0.2429095506688111,0.25035266815663026,0.24242780235247707,0.2522761257553826,0.2524660499586697,0.1966190174492377,0.13526923744701808,0.15528902769440797,0.1682489842654885,0.1880480293173736,0.18804898430756203,0.1929837790804658,0.20800783436505108,0.21050132962436002,0.21296408376221415,0.21542683987534741,0.22290349178366348,0.21296408565478536,0.21785981389212622,0.21062815249175398,0.2385408969743253,0.2385418931915529,0.24329539747051673,0.26848044413693584,0.2767807544790939,0.25864898395572844,0.2740211270765571,0.2741749267719435,0.20871436808952004,0.21377588191780406,0.22858951467546199,0.11180245026848872],\"y\":[-19.1638916015625,-5.177783203125,10.55869140625,16.7501953125,19.850390625000003,23.28828125,25.4515625,26.853125000000002,28.356250000000003,30.0625,31.525,32.5,33.15,31.85,30.55,28.6,29.25,27.95,26.650000000000002,25.35,24.05,21.125,22.1,22.75,21.45,20.150000000000002,16.4125,17.875,18.85,16.9,17.55,16.25,14.950000000000001,13.65,4.3671875,9.5875,10.725,11.7,12.35,11.05,9.75,8.450000000000001,-0.8531250000000001,3.00625,5.525,6.5,7.15,5.8500000000000005,4.55,0.4875,1.625,2.6,3.25,1.9500000000000002,0.65,-0.65,-4.7125,-3.575,-2.6,-1.9500000000000002,-3.25,-4.55,-5.8500000000000005,-20.9142578125,-13.0,-11.05,-9.100000000000001,-7.800000000000001,-7.15,-8.450000000000001,-10.4,-9.75,-11.05,-13.0,-12.35,-13.65,-14.950000000000001,-28.828515625,-26.45703125,-23.6640625,-20.515625,-18.28125,-16.25,-20.3125,-19.175000000000004,-18.200000000000003,-17.55,-18.85,-20.150000000000002,-21.45,-22.75,-26.8125,-25.675000000000004,-24.700000000000003,-24.05,-25.35,-26.650000000000002,-27.95,-29.25,-31.200000000000003,-30.55,-31.85,-33.15],\"type\":\"scatter\"}],                        {\"annotations\":[{\"font\":{\"family\":\"Inconsolata, monospace\",\"size\":12},\"showarrow\":false,\"text\":\"Golden_Hamster\",\"textangle\":0,\"x\":0.3939625439364358,\"xanchor\":\"left\",\"xref\":\"x\",\"y\":33.15,\"yref\":\"y\"},{\"font\":{\"family\":\"Inconsolata, monospace\",\"size\":12},\"showarrow\":false,\"text\":\"Prairie_vole\",\"textangle\":0,\"x\":0.42787005253453775,\"xanchor\":\"left\",\"xref\":\"x\",\"y\":31.85,\"yref\":\"y\"},{\"font\":{\"family\":\"Inconsolata, monospace\",\"size\":12},\"showarrow\":false,\"text\":\"Northern_American_deer_mouse\",\"textangle\":0,\"x\":0.37217748829532765,\"xanchor\":\"left\",\"xref\":\"x\",\"y\":30.55,\"yref\":\"y\"},{\"font\":{\"family\":\"Inconsolata, monospace\",\"size\":12},\"showarrow\":false,\"text\":\"Steppe_mouse\",\"textangle\":0,\"x\":0.4339513155812435,\"xanchor\":\"left\",\"xref\":\"x\",\"y\":29.25,\"yref\":\"y\"},{\"font\":{\"family\":\"Inconsolata, monospace\",\"size\":12},\"showarrow\":false,\"text\":\"Rat\",\"textangle\":0,\"x\":0.440247507241669,\"xanchor\":\"left\",\"xref\":\"x\",\"y\":27.95,\"yref\":\"y\"},{\"font\":{\"family\":\"Inconsolata, monospace\",\"size\":12},\"showarrow\":false,\"text\":\"Upper_Galilee_mountains_blind_mole_rat\",\"textangle\":0,\"x\":0.3588454961995711,\"xanchor\":\"left\",\"xref\":\"x\",\"y\":26.650000000000002,\"yref\":\"y\"},{\"font\":{\"family\":\"Inconsolata, monospace\",\"size\":12},\"showarrow\":false,\"text\":\"Lesser_Egyptian_jerboa\",\"textangle\":0,\"x\":0.36575143914771596,\"xanchor\":\"left\",\"xref\":\"x\",\"y\":25.35,\"yref\":\"y\"},{\"font\":{\"family\":\"Inconsolata, monospace\",\"size\":12},\"showarrow\":false,\"text\":\"Kangaroo_rat\",\"textangle\":0,\"x\":0.44708036332934004,\"xanchor\":\"left\",\"xref\":\"x\",\"y\":24.05,\"yref\":\"y\"},{\"font\":{\"family\":\"Inconsolata, monospace\",\"size\":12},\"showarrow\":false,\"text\":\"Long_tailed_chinchilla\",\"textangle\":0,\"x\":0.24428159480043277,\"xanchor\":\"left\",\"xref\":\"x\",\"y\":22.75,\"yref\":\"y\"},{\"font\":{\"family\":\"Inconsolata, monospace\",\"size\":12},\"showarrow\":false,\"text\":\"Degu\",\"textangle\":0,\"x\":0.3192551322796571,\"xanchor\":\"left\",\"xref\":\"x\",\"y\":21.45,\"yref\":\"y\"},{\"font\":{\"family\":\"Inconsolata, monospace\",\"size\":12},\"showarrow\":false,\"text\":\"Guinea_Pig\",\"textangle\":0,\"x\":0.30305367309683234,\"xanchor\":\"left\",\"xref\":\"x\",\"y\":20.150000000000002,\"yref\":\"y\"},{\"font\":{\"family\":\"Inconsolata, monospace\",\"size\":12},\"showarrow\":false,\"text\":\"Alpine_marmot\",\"textangle\":0,\"x\":0.39448200241869846,\"xanchor\":\"left\",\"xref\":\"x\",\"y\":18.85,\"yref\":\"y\"},{\"font\":{\"family\":\"Inconsolata, monospace\",\"size\":12},\"showarrow\":false,\"text\":\"Arctic_ground_squirrel\",\"textangle\":0,\"x\":0.42324893844169864,\"xanchor\":\"left\",\"xref\":\"x\",\"y\":17.55,\"yref\":\"y\"},{\"font\":{\"family\":\"Inconsolata, monospace\",\"size\":12},\"showarrow\":false,\"text\":\"Squirrel\",\"textangle\":0,\"x\":0.43234390147833185,\"xanchor\":\"left\",\"xref\":\"x\",\"y\":16.25,\"yref\":\"y\"},{\"font\":{\"family\":\"Inconsolata, monospace\",\"size\":12},\"showarrow\":false,\"text\":\"Eurasian_red_squirrel\",\"textangle\":0,\"x\":0.40898080559900457,\"xanchor\":\"left\",\"xref\":\"x\",\"y\":14.950000000000001,\"yref\":\"y\"},{\"font\":{\"family\":\"Inconsolata, monospace\",\"size\":12},\"showarrow\":false,\"text\":\"Rabbit\",\"textangle\":0,\"x\":0.35579855685952544,\"xanchor\":\"left\",\"xref\":\"x\",\"y\":13.65,\"yref\":\"y\"},{\"font\":{\"family\":\"Inconsolata, monospace\",\"size\":12},\"showarrow\":false,\"text\":\"Greater_bamboo_lemur\",\"textangle\":0,\"x\":0.23305234177088968,\"xanchor\":\"left\",\"xref\":\"x\",\"y\":12.35,\"yref\":\"y\"},{\"font\":{\"family\":\"Inconsolata, monospace\",\"size\":12},\"showarrow\":false,\"text\":\"Coquerel's_sifaka\",\"textangle\":0,\"x\":0.2535714626414321,\"xanchor\":\"left\",\"xref\":\"x\",\"y\":11.05,\"yref\":\"y\"},{\"font\":{\"family\":\"Inconsolata, monospace\",\"size\":12},\"showarrow\":false,\"text\":\"Mouse_Lemur\",\"textangle\":0,\"x\":0.2504798330421542,\"xanchor\":\"left\",\"xref\":\"x\",\"y\":9.75,\"yref\":\"y\"},{\"font\":{\"family\":\"Inconsolata, monospace\",\"size\":12},\"showarrow\":false,\"text\":\"Bushbaby\",\"textangle\":0,\"x\":0.2742267838339497,\"xanchor\":\"left\",\"xref\":\"x\",\"y\":8.450000000000001,\"yref\":\"y\"},{\"font\":{\"family\":\"Inconsolata, monospace\",\"size\":12},\"showarrow\":false,\"text\":\"Macaque\",\"textangle\":0,\"x\":0.25648334325684563,\"xanchor\":\"left\",\"xref\":\"x\",\"y\":7.15,\"yref\":\"y\"},{\"font\":{\"family\":\"Inconsolata, monospace\",\"size\":12},\"showarrow\":false,\"text\":\"Vervet_AGM\",\"textangle\":0,\"x\":0.2714247973765451,\"xanchor\":\"left\",\"xref\":\"x\",\"y\":5.8500000000000005,\"yref\":\"y\"},{\"font\":{\"family\":\"Inconsolata, monospace\",\"size\":12},\"showarrow\":false,\"text\":\"Golden_snub_nosed_monkey\",\"textangle\":0,\"x\":0.26155069800691133,\"xanchor\":\"left\",\"xref\":\"x\",\"y\":4.55,\"yref\":\"y\"},{\"font\":{\"family\":\"Inconsolata, monospace\",\"size\":12},\"showarrow\":false,\"text\":\"Gorilla\",\"textangle\":0,\"x\":0.26037614583971314,\"xanchor\":\"left\",\"xref\":\"x\",\"y\":3.25,\"yref\":\"y\"},{\"font\":{\"family\":\"Inconsolata, monospace\",\"size\":12},\"showarrow\":false,\"text\":\"Bonobo\",\"textangle\":0,\"x\":0.26043871464241003,\"xanchor\":\"left\",\"xref\":\"x\",\"y\":1.9500000000000002,\"yref\":\"y\"},{\"font\":{\"family\":\"Inconsolata, monospace\",\"size\":12},\"showarrow\":false,\"text\":\"Sumatran_orangutan\",\"textangle\":0,\"x\":0.27302664308391555,\"xanchor\":\"left\",\"xref\":\"x\",\"y\":0.65,\"yref\":\"y\"},{\"font\":{\"family\":\"Inconsolata, monospace\",\"size\":12},\"showarrow\":false,\"text\":\"Gibbon\",\"textangle\":0,\"x\":0.2681022271505257,\"xanchor\":\"left\",\"xref\":\"x\",\"y\":-0.65,\"yref\":\"y\"},{\"font\":{\"family\":\"Inconsolata, monospace\",\"size\":12},\"showarrow\":false,\"text\":\"Panamanian_white_faced_capuchin\",\"textangle\":0,\"x\":0.2917517520780675,\"xanchor\":\"left\",\"xref\":\"x\",\"y\":-1.9500000000000002,\"yref\":\"y\"},{\"font\":{\"family\":\"Inconsolata, monospace\",\"size\":12},\"showarrow\":false,\"text\":\"Bolivian_squirrel_monkey\",\"textangle\":0,\"x\":0.3031431853103122,\"xanchor\":\"left\",\"xref\":\"x\",\"y\":-3.25,\"yref\":\"y\"},{\"font\":{\"family\":\"Inconsolata, monospace\",\"size\":12},\"showarrow\":false,\"text\":\"Ma's_night_monkey\",\"textangle\":0,\"x\":0.2889726351159746,\"xanchor\":\"left\",\"xref\":\"x\",\"y\":-4.55,\"yref\":\"y\"},{\"font\":{\"family\":\"Inconsolata, monospace\",\"size\":12},\"showarrow\":false,\"text\":\"White_tufted_ear_marmoset\",\"textangle\":0,\"x\":0.28432612149315933,\"xanchor\":\"left\",\"xref\":\"x\",\"y\":-5.8500000000000005,\"yref\":\"y\"},{\"font\":{\"family\":\"Inconsolata, monospace\",\"size\":12},\"showarrow\":false,\"text\":\"Giant_panda\",\"textangle\":0,\"x\":0.24730969462043423,\"xanchor\":\"left\",\"xref\":\"x\",\"y\":-7.15,\"yref\":\"y\"},{\"font\":{\"family\":\"Inconsolata, monospace\",\"size\":12},\"showarrow\":false,\"text\":\"Ferret\",\"textangle\":0,\"x\":0.3152122811941759,\"xanchor\":\"left\",\"xref\":\"x\",\"y\":-8.450000000000001,\"yref\":\"y\"},{\"font\":{\"family\":\"Inconsolata, monospace\",\"size\":12},\"showarrow\":false,\"text\":\"Dingo\",\"textangle\":0,\"x\":0.25381394977440475,\"xanchor\":\"left\",\"xref\":\"x\",\"y\":-9.75,\"yref\":\"y\"},{\"font\":{\"family\":\"Inconsolata, monospace\",\"size\":12},\"showarrow\":false,\"text\":\"Red_fox\",\"textangle\":0,\"x\":0.2612570672622239,\"xanchor\":\"left\",\"xref\":\"x\",\"y\":-11.05,\"yref\":\"y\"},{\"font\":{\"family\":\"Inconsolata, monospace\",\"size\":12},\"showarrow\":false,\"text\":\"Tiger\",\"textangle\":0,\"x\":0.26318052486097626,\"xanchor\":\"left\",\"xref\":\"x\",\"y\":-12.35,\"yref\":\"y\"},{\"font\":{\"family\":\"Inconsolata, monospace\",\"size\":12},\"showarrow\":false,\"text\":\"Cat\",\"textangle\":0,\"x\":0.2633704490642634,\"xanchor\":\"left\",\"xref\":\"x\",\"y\":-13.65,\"yref\":\"y\"},{\"font\":{\"family\":\"Inconsolata, monospace\",\"size\":12},\"showarrow\":false,\"text\":\"Donkey\",\"textangle\":0,\"x\":0.20752341655483136,\"xanchor\":\"left\",\"xref\":\"x\",\"y\":-14.950000000000001,\"yref\":\"y\"},{\"font\":{\"family\":\"Inconsolata, monospace\",\"size\":12},\"showarrow\":false,\"text\":\"Sperm_whale\",\"textangle\":0,\"x\":0.20388817818605945,\"xanchor\":\"left\",\"xref\":\"x\",\"y\":-16.25,\"yref\":\"y\"},{\"font\":{\"family\":\"Inconsolata, monospace\",\"size\":12},\"showarrow\":false,\"text\":\"Narwhal\",\"textangle\":0,\"x\":0.22633123898094107,\"xanchor\":\"left\",\"xref\":\"x\",\"y\":-17.55,\"yref\":\"y\"},{\"font\":{\"family\":\"Inconsolata, monospace\",\"size\":12},\"showarrow\":false,\"text\":\"Beluga_whale\",\"textangle\":0,\"x\":0.23380789088925713,\"xanchor\":\"left\",\"xref\":\"x\",\"y\":-18.85,\"yref\":\"y\"},{\"font\":{\"family\":\"Inconsolata, monospace\",\"size\":12},\"showarrow\":false,\"text\":\"Vaquita\",\"textangle\":0,\"x\":0.22386848476037902,\"xanchor\":\"left\",\"xref\":\"x\",\"y\":-20.150000000000002,\"yref\":\"y\"},{\"font\":{\"family\":\"Inconsolata, monospace\",\"size\":12},\"showarrow\":false,\"text\":\"Dolphin\",\"textangle\":0,\"x\":0.22876421299771987,\"xanchor\":\"left\",\"xref\":\"x\",\"y\":-21.45,\"yref\":\"y\"},{\"font\":{\"family\":\"Inconsolata, monospace\",\"size\":12},\"showarrow\":false,\"text\":\"Blue_whale\",\"textangle\":0,\"x\":0.22153255159734764,\"xanchor\":\"left\",\"xref\":\"x\",\"y\":-22.75,\"yref\":\"y\"},{\"font\":{\"family\":\"Inconsolata, monospace\",\"size\":12},\"showarrow\":false,\"text\":\"Goat\",\"textangle\":0,\"x\":0.2793848432425295,\"xanchor\":\"left\",\"xref\":\"x\",\"y\":-24.05,\"yref\":\"y\"},{\"font\":{\"family\":\"Inconsolata, monospace\",\"size\":12},\"showarrow\":false,\"text\":\"Cow\",\"textangle\":0,\"x\":0.28768515358468755,\"xanchor\":\"left\",\"xref\":\"x\",\"y\":-25.35,\"yref\":\"y\"},{\"font\":{\"family\":\"Inconsolata, monospace\",\"size\":12},\"showarrow\":false,\"text\":\"Siberian_musk_deer\",\"textangle\":0,\"x\":0.2695533830613221,\"xanchor\":\"left\",\"xref\":\"x\",\"y\":-26.650000000000002,\"yref\":\"y\"},{\"font\":{\"family\":\"Inconsolata, monospace\",\"size\":12},\"showarrow\":false,\"text\":\"Yarkand_deer\",\"textangle\":0,\"x\":0.2849255261821508,\"xanchor\":\"left\",\"xref\":\"x\",\"y\":-27.95,\"yref\":\"y\"},{\"font\":{\"family\":\"Inconsolata, monospace\",\"size\":12},\"showarrow\":false,\"text\":\"Pig\",\"textangle\":0,\"x\":0.28507932587753715,\"xanchor\":\"left\",\"xref\":\"x\",\"y\":-29.25,\"yref\":\"y\"},{\"font\":{\"family\":\"Inconsolata, monospace\",\"size\":12},\"showarrow\":false,\"text\":\"Arabian_camel\",\"textangle\":0,\"x\":0.2246802810233977,\"xanchor\":\"left\",\"xref\":\"x\",\"y\":-30.55,\"yref\":\"y\"},{\"font\":{\"family\":\"Inconsolata, monospace\",\"size\":12},\"showarrow\":false,\"text\":\"Alpaca\",\"textangle\":0,\"x\":0.23949391378105564,\"xanchor\":\"left\",\"xref\":\"x\",\"y\":-31.85,\"yref\":\"y\"},{\"font\":{\"family\":\"Inconsolata, monospace\",\"size\":12},\"showarrow\":false,\"text\":\"Lesser_hedgehog_tenrec\",\"textangle\":0,\"x\":0.12270684937408238,\"xanchor\":\"left\",\"xref\":\"x\",\"y\":-33.15,\"yref\":\"y\"},{\"ax\":0,\"ay\":0,\"showarrow\":false,\"text\":\"0.04\",\"x\":0.021808798211187322,\"xref\":\"x\",\"y\":-39.17727272727272,\"yref\":\"y\",\"yshift\":10}],\"autosize\":true,\"font\":{\"family\":\"Balto\",\"size\":14},\"height\":1200,\"hovermode\":\"closest\",\"margin\":{\"b\":50,\"l\":50,\"pad\":4,\"r\":50,\"t\":50},\"shapes\":[{\"line\":{\"color\":\"black\",\"width\":1.25},\"name\":\"scale_bar\",\"type\":\"line\",\"x0\":0,\"x1\":0.043617596422374644,\"y0\":-39.17727272727272,\"y1\":-39.17727272727272}],\"showlegend\":false,\"width\":1200,\"xaxis\":{\"visible\":false},\"yaxis\":{\"visible\":false},\"template\":{\"data\":{\"histogram2dcontour\":[{\"type\":\"histogram2dcontour\",\"colorbar\":{\"outlinewidth\":0,\"ticks\":\"\"},\"colorscale\":[[0.0,\"#0d0887\"],[0.1111111111111111,\"#46039f\"],[0.2222222222222222,\"#7201a8\"],[0.3333333333333333,\"#9c179e\"],[0.4444444444444444,\"#bd3786\"],[0.5555555555555556,\"#d8576b\"],[0.6666666666666666,\"#ed7953\"],[0.7777777777777778,\"#fb9f3a\"],[0.8888888888888888,\"#fdca26\"],[1.0,\"#f0f921\"]]}],\"choropleth\":[{\"type\":\"choropleth\",\"colorbar\":{\"outlinewidth\":0,\"ticks\":\"\"}}],\"histogram2d\":[{\"type\":\"histogram2d\",\"colorbar\":{\"outlinewidth\":0,\"ticks\":\"\"},\"colorscale\":[[0.0,\"#0d0887\"],[0.1111111111111111,\"#46039f\"],[0.2222222222222222,\"#7201a8\"],[0.3333333333333333,\"#9c179e\"],[0.4444444444444444,\"#bd3786\"],[0.5555555555555556,\"#d8576b\"],[0.6666666666666666,\"#ed7953\"],[0.7777777777777778,\"#fb9f3a\"],[0.8888888888888888,\"#fdca26\"],[1.0,\"#f0f921\"]]}],\"heatmap\":[{\"type\":\"heatmap\",\"colorbar\":{\"outlinewidth\":0,\"ticks\":\"\"},\"colorscale\":[[0.0,\"#0d0887\"],[0.1111111111111111,\"#46039f\"],[0.2222222222222222,\"#7201a8\"],[0.3333333333333333,\"#9c179e\"],[0.4444444444444444,\"#bd3786\"],[0.5555555555555556,\"#d8576b\"],[0.6666666666666666,\"#ed7953\"],[0.7777777777777778,\"#fb9f3a\"],[0.8888888888888888,\"#fdca26\"],[1.0,\"#f0f921\"]]}],\"heatmapgl\":[{\"type\":\"heatmapgl\",\"colorbar\":{\"outlinewidth\":0,\"ticks\":\"\"},\"colorscale\":[[0.0,\"#0d0887\"],[0.1111111111111111,\"#46039f\"],[0.2222222222222222,\"#7201a8\"],[0.3333333333333333,\"#9c179e\"],[0.4444444444444444,\"#bd3786\"],[0.5555555555555556,\"#d8576b\"],[0.6666666666666666,\"#ed7953\"],[0.7777777777777778,\"#fb9f3a\"],[0.8888888888888888,\"#fdca26\"],[1.0,\"#f0f921\"]]}],\"contourcarpet\":[{\"type\":\"contourcarpet\",\"colorbar\":{\"outlinewidth\":0,\"ticks\":\"\"}}],\"contour\":[{\"type\":\"contour\",\"colorbar\":{\"outlinewidth\":0,\"ticks\":\"\"},\"colorscale\":[[0.0,\"#0d0887\"],[0.1111111111111111,\"#46039f\"],[0.2222222222222222,\"#7201a8\"],[0.3333333333333333,\"#9c179e\"],[0.4444444444444444,\"#bd3786\"],[0.5555555555555556,\"#d8576b\"],[0.6666666666666666,\"#ed7953\"],[0.7777777777777778,\"#fb9f3a\"],[0.8888888888888888,\"#fdca26\"],[1.0,\"#f0f921\"]]}],\"surface\":[{\"type\":\"surface\",\"colorbar\":{\"outlinewidth\":0,\"ticks\":\"\"},\"colorscale\":[[0.0,\"#0d0887\"],[0.1111111111111111,\"#46039f\"],[0.2222222222222222,\"#7201a8\"],[0.3333333333333333,\"#9c179e\"],[0.4444444444444444,\"#bd3786\"],[0.5555555555555556,\"#d8576b\"],[0.6666666666666666,\"#ed7953\"],[0.7777777777777778,\"#fb9f3a\"],[0.8888888888888888,\"#fdca26\"],[1.0,\"#f0f921\"]]}],\"mesh3d\":[{\"type\":\"mesh3d\",\"colorbar\":{\"outlinewidth\":0,\"ticks\":\"\"}}],\"scatter\":[{\"fillpattern\":{\"fillmode\":\"overlay\",\"size\":10,\"solidity\":0.2},\"type\":\"scatter\"}],\"parcoords\":[{\"type\":\"parcoords\",\"line\":{\"colorbar\":{\"outlinewidth\":0,\"ticks\":\"\"}}}],\"scatterpolargl\":[{\"type\":\"scatterpolargl\",\"marker\":{\"colorbar\":{\"outlinewidth\":0,\"ticks\":\"\"}}}],\"bar\":[{\"error_x\":{\"color\":\"#2a3f5f\"},\"error_y\":{\"color\":\"#2a3f5f\"},\"marker\":{\"line\":{\"color\":\"#E5ECF6\",\"width\":0.5},\"pattern\":{\"fillmode\":\"overlay\",\"size\":10,\"solidity\":0.2}},\"type\":\"bar\"}],\"scattergeo\":[{\"type\":\"scattergeo\",\"marker\":{\"colorbar\":{\"outlinewidth\":0,\"ticks\":\"\"}}}],\"scatterpolar\":[{\"type\":\"scatterpolar\",\"marker\":{\"colorbar\":{\"outlinewidth\":0,\"ticks\":\"\"}}}],\"histogram\":[{\"marker\":{\"pattern\":{\"fillmode\":\"overlay\",\"size\":10,\"solidity\":0.2}},\"type\":\"histogram\"}],\"scattergl\":[{\"type\":\"scattergl\",\"marker\":{\"colorbar\":{\"outlinewidth\":0,\"ticks\":\"\"}}}],\"scatter3d\":[{\"type\":\"scatter3d\",\"line\":{\"colorbar\":{\"outlinewidth\":0,\"ticks\":\"\"}},\"marker\":{\"colorbar\":{\"outlinewidth\":0,\"ticks\":\"\"}}}],\"scattermapbox\":[{\"type\":\"scattermapbox\",\"marker\":{\"colorbar\":{\"outlinewidth\":0,\"ticks\":\"\"}}}],\"scatterternary\":[{\"type\":\"scatterternary\",\"marker\":{\"colorbar\":{\"outlinewidth\":0,\"ticks\":\"\"}}}],\"scattercarpet\":[{\"type\":\"scattercarpet\",\"marker\":{\"colorbar\":{\"outlinewidth\":0,\"ticks\":\"\"}}}],\"carpet\":[{\"aaxis\":{\"endlinecolor\":\"#2a3f5f\",\"gridcolor\":\"white\",\"linecolor\":\"white\",\"minorgridcolor\":\"white\",\"startlinecolor\":\"#2a3f5f\"},\"baxis\":{\"endlinecolor\":\"#2a3f5f\",\"gridcolor\":\"white\",\"linecolor\":\"white\",\"minorgridcolor\":\"white\",\"startlinecolor\":\"#2a3f5f\"},\"type\":\"carpet\"}],\"table\":[{\"cells\":{\"fill\":{\"color\":\"#EBF0F8\"},\"line\":{\"color\":\"white\"}},\"header\":{\"fill\":{\"color\":\"#C8D4E3\"},\"line\":{\"color\":\"white\"}},\"type\":\"table\"}],\"barpolar\":[{\"marker\":{\"line\":{\"color\":\"#E5ECF6\",\"width\":0.5},\"pattern\":{\"fillmode\":\"overlay\",\"size\":10,\"solidity\":0.2}},\"type\":\"barpolar\"}],\"pie\":[{\"automargin\":true,\"type\":\"pie\"}]},\"layout\":{\"autotypenumbers\":\"strict\",\"colorway\":[\"#636efa\",\"#EF553B\",\"#00cc96\",\"#ab63fa\",\"#FFA15A\",\"#19d3f3\",\"#FF6692\",\"#B6E880\",\"#FF97FF\",\"#FECB52\"],\"font\":{\"color\":\"#2a3f5f\"},\"hovermode\":\"closest\",\"hoverlabel\":{\"align\":\"left\"},\"paper_bgcolor\":\"white\",\"plot_bgcolor\":\"#E5ECF6\",\"polar\":{\"bgcolor\":\"#E5ECF6\",\"angularaxis\":{\"gridcolor\":\"white\",\"linecolor\":\"white\",\"ticks\":\"\"},\"radialaxis\":{\"gridcolor\":\"white\",\"linecolor\":\"white\",\"ticks\":\"\"}},\"ternary\":{\"bgcolor\":\"#E5ECF6\",\"aaxis\":{\"gridcolor\":\"white\",\"linecolor\":\"white\",\"ticks\":\"\"},\"baxis\":{\"gridcolor\":\"white\",\"linecolor\":\"white\",\"ticks\":\"\"},\"caxis\":{\"gridcolor\":\"white\",\"linecolor\":\"white\",\"ticks\":\"\"}},\"coloraxis\":{\"colorbar\":{\"outlinewidth\":0,\"ticks\":\"\"}},\"colorscale\":{\"sequential\":[[0.0,\"#0d0887\"],[0.1111111111111111,\"#46039f\"],[0.2222222222222222,\"#7201a8\"],[0.3333333333333333,\"#9c179e\"],[0.4444444444444444,\"#bd3786\"],[0.5555555555555556,\"#d8576b\"],[0.6666666666666666,\"#ed7953\"],[0.7777777777777778,\"#fb9f3a\"],[0.8888888888888888,\"#fdca26\"],[1.0,\"#f0f921\"]],\"sequentialminus\":[[0.0,\"#0d0887\"],[0.1111111111111111,\"#46039f\"],[0.2222222222222222,\"#7201a8\"],[0.3333333333333333,\"#9c179e\"],[0.4444444444444444,\"#bd3786\"],[0.5555555555555556,\"#d8576b\"],[0.6666666666666666,\"#ed7953\"],[0.7777777777777778,\"#fb9f3a\"],[0.8888888888888888,\"#fdca26\"],[1.0,\"#f0f921\"]],\"diverging\":[[0,\"#8e0152\"],[0.1,\"#c51b7d\"],[0.2,\"#de77ae\"],[0.3,\"#f1b6da\"],[0.4,\"#fde0ef\"],[0.5,\"#f7f7f7\"],[0.6,\"#e6f5d0\"],[0.7,\"#b8e186\"],[0.8,\"#7fbc41\"],[0.9,\"#4d9221\"],[1,\"#276419\"]]},\"xaxis\":{\"gridcolor\":\"white\",\"linecolor\":\"white\",\"ticks\":\"\",\"title\":{\"standoff\":15},\"zerolinecolor\":\"white\",\"automargin\":true,\"zerolinewidth\":2},\"yaxis\":{\"gridcolor\":\"white\",\"linecolor\":\"white\",\"ticks\":\"\",\"title\":{\"standoff\":15},\"zerolinecolor\":\"white\",\"automargin\":true,\"zerolinewidth\":2},\"scene\":{\"xaxis\":{\"backgroundcolor\":\"#E5ECF6\",\"gridcolor\":\"white\",\"linecolor\":\"white\",\"showbackground\":true,\"ticks\":\"\",\"zerolinecolor\":\"white\",\"gridwidth\":2},\"yaxis\":{\"backgroundcolor\":\"#E5ECF6\",\"gridcolor\":\"white\",\"linecolor\":\"white\",\"showbackground\":true,\"ticks\":\"\",\"zerolinecolor\":\"white\",\"gridwidth\":2},\"zaxis\":{\"backgroundcolor\":\"#E5ECF6\",\"gridcolor\":\"white\",\"linecolor\":\"white\",\"showbackground\":true,\"ticks\":\"\",\"zerolinecolor\":\"white\",\"gridwidth\":2}},\"shapedefaults\":{\"line\":{\"color\":\"#2a3f5f\"}},\"annotationdefaults\":{\"arrowcolor\":\"#2a3f5f\",\"arrowhead\":0,\"arrowwidth\":1},\"geo\":{\"bgcolor\":\"white\",\"landcolor\":\"#E5ECF6\",\"subunitcolor\":\"white\",\"showland\":true,\"showlakes\":true,\"lakecolor\":\"white\"},\"title\":{\"x\":0.05},\"mapbox\":{\"style\":\"light\"}}}},                        {\"responsive\": true}                    ).then(function(){\n",
       "                            \n",
       "var gd = document.getElementById('fc36164a-b618-439e-a60e-4d4f6652c1ce');\n",
       "var x = new MutationObserver(function (mutations, observer) {{\n",
       "        var display = window.getComputedStyle(gd).display;\n",
       "        if (!display || display === 'none') {{\n",
       "            console.log([gd, 'removed!']);\n",
       "            Plotly.purge(gd);\n",
       "            observer.disconnect();\n",
       "        }}\n",
       "}});\n",
       "\n",
       "// Listen for the removal of the full notebook cells\n",
       "var notebookContainer = gd.closest('#notebook-container');\n",
       "if (notebookContainer) {{\n",
       "    x.observe(notebookContainer, {childList: true});\n",
       "}}\n",
       "\n",
       "// Listen for the clearing of the current output cell\n",
       "var outputEl = gd.closest('.output');\n",
       "if (outputEl) {{\n",
       "    x.observe(outputEl, {childList: true});\n",
       "}}\n",
       "\n",
       "                        })                };                });            </script>        </div>"
      ]
     },
     "metadata": {},
     "output_type": "display_data"
    },
    {
     "data": {
      "text/plain": [
       "<cogent3.draw.dendrogram.Dendrogram at 0x15e8e7d10>"
      ]
     },
     "execution_count": 72,
     "metadata": {},
     "output_type": "execute_result"
    }
   ],
   "source": [
    "big_tree_result_path = '/Users/gulugulu/repos/PuningAnalysis/results/output_data/model_fitting_result_350_threshold/ENSG00000007933.json'\n",
    "big_tree_result = load_json_app(big_tree_result_path)\n",
    "big_tree_result.get_ens_tree().get_figure(height=1200, width=1200)"
   ]
  },
  {
   "cell_type": "code",
   "execution_count": 79,
   "metadata": {},
   "outputs": [],
   "source": [
    "from clock_project.simulation.wts import calculate_non_stationarity\n",
    "\n",
    "def get_triads_info(path):\n",
    "    aln = load_json_app_customised(path)\n",
    "    model_fitting_result = model_fitting_app(aln)\n",
    "    seq_names = aln.names\n",
    "    matrices = {n: model_fitting_result.lf.get_rate_matrix_for_edge(n, calibrated=True) for n in seq_names}\n",
    "    sub_ens_tree = model_fitting_result.lf.get_ens_tree()\n",
    "    lca_node = sub_ens_tree.lowest_common_ancestor(['ingroup_edge1', 'ingroup_edge2']).get_node_names()[0]\n",
    "    ingroup_seqs = aln.take_seqs(['ingroup_edge1', 'ingroup_edge2'])\n",
    "    nuc_freqs = ingroup_seqs.probs_per_seq()\n",
    "    nuc_freqs1 = nuc_freqs['ingroup_edge1']\n",
    "    nuc_freqs2 = nuc_freqs['ingroup_edge2']\n",
    "    ingroup_jsd = jsd(nuc_freqs1, nuc_freqs2)\n",
    "    distribution_internal_root = list(model_fitting_result.lf.get_motif_probs_by_node()[lca_node])\n",
    "    jsd1 = jsd(nuc_freqs1, distribution_internal_root)\n",
    "    jsd2 = jsd(nuc_freqs2, distribution_internal_root)\n",
    "    distribution_root = list(model_fitting_result.lf.get_motif_probs_by_node()['root'])\n",
    "    ens_dict = {n: sub_ens_tree.to_rich_dict()['edge_attributes'][n]['length'] for n in seq_names}\n",
    "    ens_difference = abs(ens_dict['ingroup_edge1']-ens_dict['ingroup_edge2'])\n",
    "    jsd_dict = {'Ingroup_JSD': ingroup_jsd, 'JSD_difference': {'ingroup_edge1': jsd1, 'ingroup_edge2': jsd2}}\n",
    "    nabla_dict = {}\n",
    "    for species in ['ingroup_edge1', 'ingroup_edge2']:\n",
    "        nabla_dict[species] = calculate_non_stationarity(distribution_internal_root, matrices[species], ens_dict[species])\n",
    "    nabla_dict['outgroup_edge3'] = calculate_non_stationarity(distribution_root, matrices['outgroup_edge3'], ens_dict['outgroup_edge3'])\n",
    "    shortest_ens = min(ens_dict.values())  \n",
    "    matrices_list = {n: matrices[n].to_array().tolist() for n in seq_names}\n",
    "    distributions = {'internal_node': distribution_internal_root, 'root': distribution_root, 'ingroup1': list(nuc_freqs1), 'ingroup2': list(nuc_freqs2)}\n",
    "    triad_data = {'triads_species_names': seq_names, 'triads_info_small_tree': \n",
    "        {'ens_difference': ens_difference,\n",
    "        'shortest_ingroup_ens': shortest_ens,\n",
    "        'ens': ens_dict,\n",
    "        'jsd_dict': jsd_dict,\n",
    "        'nuc_freqs_dict': distributions,\n",
    "        'nabla_values': nabla_dict,\n",
    "        'matrices': matrices_list}}\n",
    "    return triad_data, model_fitting_result"
   ]
  },
  {
   "cell_type": "code",
   "execution_count": 80,
   "metadata": {},
   "outputs": [],
   "source": [
    "info, res = get_triads_info(input_data_store_simulated_aln[0]) "
   ]
  },
  {
   "cell_type": "code",
   "execution_count": 1,
   "metadata": {},
   "outputs": [
    {
     "ename": "NameError",
     "evalue": "name 'res' is not defined",
     "output_type": "error",
     "traceback": [
      "\u001b[0;31m---------------------------------------------------------------------------\u001b[0m",
      "\u001b[0;31mNameError\u001b[0m                                 Traceback (most recent call last)",
      "Cell \u001b[0;32mIn[1], line 1\u001b[0m\n\u001b[0;32m----> 1\u001b[0m \u001b[43mres\u001b[49m\u001b[38;5;241m.\u001b[39malignment\u001b[38;5;241m.\u001b[39msource\u001b[38;5;241m.\u001b[39msplit(\u001b[38;5;124m'\u001b[39m\u001b[38;5;124m.\u001b[39m\u001b[38;5;124m'\u001b[39m)[\u001b[38;5;241m0\u001b[39m]\n",
      "\u001b[0;31mNameError\u001b[0m: name 'res' is not defined"
     ]
    }
   ],
   "source": [
    "res.alignment.source.split('.')[0]"
   ]
  },
  {
   "cell_type": "code",
   "execution_count": null,
   "metadata": {},
   "outputs": [],
   "source": []
  },
  {
   "cell_type": "code",
   "execution_count": 1,
   "metadata": {},
   "outputs": [],
   "source": [
    "import glob\n",
    "import os\n",
    "path = '/Users/gulugulu/Desktop/honours/data_local/simulated_triple_aln'\n",
    "triads_alignment_paths = glob.glob(os.path.join(path, \"*.json\"))"
   ]
  },
  {
   "cell_type": "code",
   "execution_count": 10,
   "metadata": {},
   "outputs": [],
   "source": [
    "paths = glob.glob(os.path.join(path, '*/'))"
   ]
  }
 ],
 "metadata": {
  "kernelspec": {
   "display_name": "c312",
   "language": "python",
   "name": "python3"
  },
  "language_info": {
   "codemirror_mode": {
    "name": "ipython",
    "version": 3
   },
   "file_extension": ".py",
   "mimetype": "text/x-python",
   "name": "python",
   "nbconvert_exporter": "python",
   "pygments_lexer": "ipython3",
   "version": "3.12.1"
  }
 },
 "nbformat": 4,
 "nbformat_minor": 2
}
