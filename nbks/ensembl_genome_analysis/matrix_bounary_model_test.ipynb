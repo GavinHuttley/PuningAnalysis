{
 "cells": [
  {
   "cell_type": "code",
   "execution_count": 30,
   "metadata": {},
   "outputs": [],
   "source": [
    "from cogent3.util.deserialise import deserialise_object\n",
    "import json\n",
    "import os\n",
    "import glob\n",
    "from cogent3 import get_app, open_data_store\n",
    "from clock_project.simulation.wts import calculate_non_stationarity\n",
    "import numpy as np\n",
    "\n",
    "load_json_app = get_app(\"load_json\")\n",
    "\n",
    "\n",
    "def set_model(triads_species_name, ens_tree):\n",
    "    tree_topology_triads = ens_tree.get_sub_tree(triads_species_name.values())\n",
    "    null = get_app(\"model\", \"TN93\", tree=tree_topology_triads, time_het=\"max\", optimise_motif_probs=True)\n",
    "    alt = get_app(\"model\", \"GN\", tree=tree_topology_triads, time_het=\"max\", optimise_motif_probs=True)\n",
    "    hyp = get_app(\"hypothesis\", null, alt)\n",
    "    return hyp\n",
    "\n",
    "def get_model_fitting_result(triads_species_name, triads_aln, ens_tree):\n",
    "    # ingroup_species_gene_name = [triads_species_name['ingroup1'], triads_species_name['ingroup2']]\n",
    "    # outgroup = triads_species_name['outgroup']\n",
    "    model = set_model(triads_species_name, ens_tree)\n",
    "    model_fitting_result = model(triads_aln)\n",
    "    return model_fitting_result\n",
    "\n",
    "\n",
    "def process_path(path, result_lf_dir, triads_info_dir):\n",
    "    model_fitting_result_dict = {}\n",
    "    file_name = os.path.basename(path.rstrip('/'))\n",
    "    print(file_name)\n",
    "    triads_alignment_paths = glob.glob(os.path.join(path, \"*.json\"))\n",
    "    triads_info_path = os.path.join(triads_info_dir, file_name, \"triads_species_names_dict.json\")\n",
    "    triads_speccies_infos = json.load((open(triads_info_path, 'r')))\n",
    "    result_lf_path = os.path.join(result_lf_dir, f\"{file_name}.json\")\n",
    "    result_lf = load_json_app(result_lf_path)\n",
    "    \n",
    "    for alignment_path in triads_alignment_paths:\n",
    "        identifier_number = os.path.basename(alignment_path).rsplit('.', 1)[0]\n",
    "        print(identifier_number)\n",
    "        triads_aln = deserialise_object(json.load(open(alignment_path, 'r')))\n",
    "        triads_species_name = triads_speccies_infos[identifier_number]\n",
    "        print(triads_species_name)\n",
    "        ens_tree = result_lf.get_ens_tree()\n",
    "        model_fitting_result= get_model_fitting_result(triads_species_name, triads_aln, ens_tree)\n",
    "        model_fitting_result_dict[identifier_number] = model_fitting_result\n",
    "\n",
    "    return model_fitting_result_dict"
   ]
  },
  {
   "cell_type": "code",
   "execution_count": null,
   "metadata": {},
   "outputs": [],
   "source": [
    "from clock_project.maths.evolutionary_rate import calculate_stationary_distribution\n",
    "\n",
    "def get_STI(triads_info):\n",
    "    matrix_ingroup_dict = {}\n",
    "    nuc_freq_ingroup_dict = {}\n",
    "    STI_dict = {}\n",
    "    for identifier, info in triads_info.items():\n",
    "        triads_info_value = info['triads_info_small_tree']\n",
    "        triads_names = info['triads_species_names']\n",
    "        matrix_dict = triads_info_value['matrices']\n",
    "        nuc_freqs_dict = triads_info_value['nuc_freqs_dict']\n",
    "        nuc_freqs_ingroup_pair = {triads_names['ingroup1']: nuc_freqs_dict['ingroup1'], triads_names['ingroup2']: nuc_freqs_dict['ingroup2']}\n",
    "        nuc_freq_ingroup_dict[identifier] = nuc_freqs_ingroup_pair\n",
    "        matrix_ingroup_pair = {triads_names['ingroup1']: matrix_dict[triads_names['ingroup1']], triads_names['ingroup2']: matrix_dict[triads_names['ingroup2']]}\n",
    "        matrix_ingroup_dict[identifier] = matrix_ingroup_pair\n",
    "        stationary_distirbution_dict = {triads_names['ingroup1']: calculate_stationary_distribution(matrix_dict[triads_names['ingroup1']]), triads_names['ingroup2']: calculate_stationary_distribution(matrix_dict[triads_names['ingroup2']])}\n",
    "        \n",
    "\n",
    "\n",
    "\n",
    "\n",
    "\n"
   ]
  },
  {
   "cell_type": "code",
   "execution_count": null,
   "metadata": {},
   "outputs": [],
   "source": [
    "from clock_project.maths.evolutionary_rate import calculate_stationary_distribution\n",
    "\n",
    "def get_STI(triads_info):\n",
    "    matrix_ingroup_dict = {}\n",
    "    nuc_freq_ingroup_dict = {}\n",
    "    STI_dict = {}\n",
    "    for identifier, info in triads_info.items():\n",
    "        triads_info_value = info['triads_info_small_tree']\n",
    "        triads_names = info['triads_species_names']\n",
    "        matrix_dict = triads_info_value['matrices']\n",
    "        nuc_freqs_dict = triads_info_value['nuc_freqs_dict']\n",
    "        nuc_freqs_ingroup_pair = {\n",
    "            triads_names['ingroup1']: nuc_freqs_dict['ingroup1'],\n",
    "            triads_names['ingroup2']: nuc_freqs_dict['ingroup2']\n",
    "        }\n",
    "        nuc_freq_ingroup_dict[identifier] = nuc_freqs_ingroup_pair\n",
    "        matrix_ingroup_pair = {\n",
    "            triads_names['ingroup1']: matrix_dict[triads_names['ingroup1']],\n",
    "            triads_names['ingroup2']: matrix_dict[triads_names['ingroup2']]\n",
    "        }\n",
    "        matrix_ingroup_dict[identifier] = matrix_ingroup_pair\n",
    "        stationary_distribution_dict = {\n",
    "            triads_names['ingroup1']: calculate_stationary_distribution(matrix_dict[triads_names['ingroup1']]),\n",
    "            triads_names['ingroup2']: calculate_stationary_distribution(matrix_dict[triads_names['ingroup2']])\n",
    "        }\n",
    "        \n",
    "        # Calculate STI values for each ingroup species\n",
    "        for species, freqs in nuc_freqs_ingroup_pair.items():\n",
    "            π = stationary_distribution_dict[species]\n",
    "            p = freqs\n",
    "            ΔC = p[2] - π[2]  # C\n",
    "            ΔG = p[3] - π[3]  # G\n",
    "            ΔA = p[1] - π[1]  # A\n",
    "            ΔT = p[0] - π[0]  # T\n",
    "            \n",
    "            STI1 = ΔC + ΔG\n",
    "            STI2 = ΔA - ΔT\n",
    "            STI3 = ΔC - ΔG\n",
    "            \n",
    "            if identifier not in STI_dict:\n",
    "                STI_dict[identifier] = {}\n",
    "            STI_dict[identifier][species] = (STI1, STI2, STI3)\n",
    "\n",
    "    return STI_dict\n"
   ]
  },
  {
   "cell_type": "code",
   "execution_count": 43,
   "metadata": {},
   "outputs": [],
   "source": [
    "path_test = '/Users/gulugulu/Desktop/honours/data_local/whole_genome_mammal87/triads_alignment_350_threshold/ENSG00000152779'\n",
    "result_lf_dir_test = '/Users/gulugulu/repos/PuningAnalysis/results/output_data/model_fitting_result_350_threshold'\n",
    "triads_info_dir_test = '/Users/gulugulu/Desktop/honours/data_local/whole_genome_mammal87/triads_350_threshold'"
   ]
  },
  {
   "cell_type": "code",
   "execution_count": 44,
   "metadata": {},
   "outputs": [
    {
     "name": "stdout",
     "output_type": "stream",
     "text": [
      "ENSG00000152779\n",
      "396\n",
      "{'ingroup1': 'Ferret', 'ingroup2': 'Narwhal', 'outgroup': 'Megabat'}\n",
      "115\n",
      "{'ingroup1': 'Sooty_mangabey', 'ingroup2': 'Panamanian_white_faced_capuchin', 'outgroup': 'Tarsier'}\n",
      "457\n",
      "{'ingroup1': 'Red_fox', 'ingroup2': 'Cat', 'outgroup': 'Donkey'}\n",
      "20\n",
      "{'ingroup1': 'Macaque', 'ingroup2': 'Sumatran_orangutan', 'outgroup': 'Panamanian_white_faced_capuchin'}\n",
      "98\n",
      "{'ingroup1': 'Vervet_AGM', 'ingroup2': 'Gorilla', 'outgroup': \"Ma's_night_monkey\"}\n",
      "61\n",
      "{'ingroup1': 'Vervet_AGM', 'ingroup2': 'Arctic_ground_squirrel', 'outgroup': 'Tree_Shrew'}\n",
      "302\n",
      "{'ingroup1': 'Cow', 'ingroup2': 'Dog', 'outgroup': 'Megabat'}\n",
      "181\n",
      "{'ingroup1': 'Sooty_mangabey', 'ingroup2': 'Long_tailed_chinchilla', 'outgroup': 'Tree_Shrew'}\n",
      "494\n",
      "{'ingroup1': 'American_black_bear', 'ingroup2': 'Megabat', 'outgroup': 'Guinea_Pig'}\n",
      "230\n",
      "{'ingroup1': 'Squirrel', 'ingroup2': 'Tree_Shrew', 'outgroup': 'Greater_horseshoe_bat'}\n",
      "16\n",
      "{'ingroup1': 'Alpaca', 'ingroup2': 'Ferret', 'outgroup': 'Greater_horseshoe_bat'}\n",
      "267\n",
      "{'ingroup1': 'Golden_Hamster', 'ingroup2': 'Tree_Shrew', 'outgroup': 'Dolphin'}\n",
      "158\n",
      "{'ingroup1': 'Beluga_whale', 'ingroup2': 'Blue_whale', 'outgroup': 'Yarkand_deer'}\n",
      "271\n",
      "{'ingroup1': \"Coquerel's_sifaka\", 'ingroup2': 'Golden_Hamster', 'outgroup': 'Tree_Shrew'}\n",
      "318\n",
      "{'ingroup1': 'Cat', 'ingroup2': 'Leopard', 'outgroup': 'Ferret'}\n",
      "94\n",
      "{'ingroup1': 'Donkey', 'ingroup2': 'Cow', 'outgroup': 'Megabat'}\n",
      "123\n",
      "{'ingroup1': 'Vervet_AGM', 'ingroup2': 'Bolivian_squirrel_monkey', 'outgroup': 'Tarsier'}\n",
      "476\n",
      "{'ingroup1': 'Northern_American_deer_mouse', 'ingroup2': 'Human', 'outgroup': 'Tree_Shrew'}\n",
      "499\n",
      "{'ingroup1': 'Mouse_Lemur', 'ingroup2': \"Coquerel's_sifaka\", 'outgroup': 'Bushbaby'}\n",
      "437\n",
      "{'ingroup1': 'Siberian_musk_deer', 'ingroup2': 'Alpaca', 'outgroup': 'Ferret'}\n",
      "319\n",
      "{'ingroup1': 'Alpaca', 'ingroup2': 'Megabat', 'outgroup': 'Sooty_mangabey'}\n",
      "175\n",
      "{'ingroup1': 'Bushbaby', 'ingroup2': 'Guinea_Pig', 'outgroup': 'Tree_Shrew'}\n",
      "227\n",
      "{'ingroup1': 'Sperm_whale', 'ingroup2': 'Yarkand_deer', 'outgroup': 'Chacoan_peccary'}\n",
      "56\n",
      "{'ingroup1': 'Northern_American_deer_mouse', 'ingroup2': 'Panamanian_white_faced_capuchin', 'outgroup': 'Tree_Shrew'}\n",
      "270\n",
      "{'ingroup1': 'Leopard', 'ingroup2': 'Microbat', 'outgroup': 'Olive_baboon'}\n",
      "159\n",
      "{'ingroup1': 'Mouse_Lemur', 'ingroup2': 'Chimpanzee', 'outgroup': 'Prairie_vole'}\n",
      "323\n",
      "{'ingroup1': 'Tree_Shrew', 'ingroup2': 'Sumatran_orangutan', 'outgroup': 'American_bison'}\n",
      "118\n",
      "{'ingroup1': 'Northern_American_deer_mouse', 'ingroup2': 'Golden_Hamster', 'outgroup': 'Rat'}\n",
      "138\n",
      "{'ingroup1': 'Red_fox', 'ingroup2': 'Dog', 'outgroup': 'Giant_panda'}\n",
      "60\n",
      "{'ingroup1': 'Tarsier', 'ingroup2': 'Arctic_ground_squirrel', 'outgroup': 'Tree_Shrew'}\n",
      "354\n",
      "{'ingroup1': 'Chimpanzee', 'ingroup2': 'Northern_American_deer_mouse', 'outgroup': 'Tree_Shrew'}\n",
      "179\n",
      "{'ingroup1': 'Drill', 'ingroup2': \"Ma's_night_monkey\", 'outgroup': 'Tarsier'}\n",
      "21\n",
      "{'ingroup1': 'Tree_Shrew', 'ingroup2': 'Mouse_Lemur', 'outgroup': 'Yarkand_deer'}\n",
      "250\n",
      "{'ingroup1': 'Donkey', 'ingroup2': 'American_bison', 'outgroup': 'Megabat'}\n",
      "102\n",
      "{'ingroup1': 'Vervet_AGM', 'ingroup2': 'Panamanian_white_faced_capuchin', 'outgroup': 'Tarsier'}\n",
      "293\n",
      "{'ingroup1': 'American_black_bear', 'ingroup2': 'Siberian_musk_deer', 'outgroup': 'Greater_horseshoe_bat'}\n",
      "397\n",
      "{'ingroup1': 'Chimpanzee', 'ingroup2': 'Macaque', 'outgroup': 'Panamanian_white_faced_capuchin'}\n",
      "47\n",
      "{'ingroup1': 'Siberian_musk_deer', 'ingroup2': 'Cat', 'outgroup': 'Microbat'}\n",
      "148\n",
      "{'ingroup1': 'Chacoan_peccary', 'ingroup2': 'Dolphin', 'outgroup': 'Arabian_camel'}\n",
      "277\n",
      "{'ingroup1': 'Bushbaby', 'ingroup2': 'Golden_Hamster', 'outgroup': 'Tree_Shrew'}\n",
      "109\n",
      "{'ingroup1': 'Ferret', 'ingroup2': 'Cow', 'outgroup': 'Microbat'}\n",
      "220\n",
      "{'ingroup1': 'Tarsier', 'ingroup2': 'Northern_American_deer_mouse', 'outgroup': 'Tree_Shrew'}\n",
      "172\n",
      "{'ingroup1': 'Gorilla', 'ingroup2': 'Greater_bamboo_lemur', 'outgroup': 'Alpine_marmot'}\n",
      "471\n",
      "{'ingroup1': 'Bolivian_squirrel_monkey', 'ingroup2': 'Bushbaby', 'outgroup': 'Degu'}\n",
      "164\n",
      "{'ingroup1': 'Arabian_camel', 'ingroup2': 'Giant_panda', 'outgroup': 'Megabat'}\n",
      "390\n",
      "{'ingroup1': 'Ferret', 'ingroup2': 'Dog', 'outgroup': 'Leopard'}\n",
      "406\n",
      "{'ingroup1': 'Sperm_whale', 'ingroup2': 'Giant_panda', 'outgroup': 'Microbat'}\n",
      "144\n",
      "{'ingroup1': 'Beluga_whale', 'ingroup2': 'Cow', 'outgroup': 'Pig'}\n",
      "152\n",
      "{'ingroup1': 'Drill', 'ingroup2': 'White_tufted_ear_marmoset', 'outgroup': 'Tarsier'}\n",
      "191\n",
      "{'ingroup1': 'Bushbaby', 'ingroup2': 'Tarsier', 'outgroup': 'Eurasian_red_squirrel'}\n",
      "200\n",
      "{'ingroup1': 'Guinea_Pig', 'ingroup2': 'Eurasian_red_squirrel', 'outgroup': 'Golden_snub_nosed_monkey'}\n",
      "71\n",
      "{'ingroup1': 'Vaquita', 'ingroup2': 'Chacoan_peccary', 'outgroup': 'Alpaca'}\n",
      "216\n",
      "{'ingroup1': 'Golden_Hamster', 'ingroup2': 'White_tufted_ear_marmoset', 'outgroup': 'Tree_Shrew'}\n",
      "30\n",
      "{'ingroup1': 'Bolivian_squirrel_monkey', 'ingroup2': 'Sooty_mangabey', 'outgroup': 'Tarsier'}\n",
      "89\n",
      "{'ingroup1': 'Siberian_musk_deer', 'ingroup2': 'Sperm_whale', 'outgroup': 'Pig'}\n",
      "66\n",
      "{'ingroup1': 'Giant_panda', 'ingroup2': 'Alpaca', 'outgroup': 'Microbat'}\n",
      "70\n",
      "{'ingroup1': 'Chimpanzee', 'ingroup2': 'Golden_Hamster', 'outgroup': 'Tree_Shrew'}\n",
      "190\n",
      "{'ingroup1': 'Sooty_mangabey', 'ingroup2': 'Algerian_mouse', 'outgroup': 'Tree_Shrew'}\n",
      "313\n",
      "{'ingroup1': 'Sooty_mangabey', 'ingroup2': 'Gibbon', 'outgroup': \"Ma's_night_monkey\"}\n",
      "411\n",
      "{'ingroup1': 'Alpine_marmot', 'ingroup2': 'Tree_Shrew', 'outgroup': 'Yarkand_deer'}\n",
      "153\n",
      "{'ingroup1': 'Greater_bamboo_lemur', 'ingroup2': 'Panamanian_white_faced_capuchin', 'outgroup': 'Arctic_ground_squirrel'}\n",
      "446\n",
      "{'ingroup1': 'Guinea_Pig', 'ingroup2': 'Gibbon', 'outgroup': 'Tree_Shrew'}\n",
      "145\n",
      "{'ingroup1': 'Alpine_marmot', 'ingroup2': 'Human', 'outgroup': 'Tree_Shrew'}\n",
      "391\n",
      "{'ingroup1': 'Northern_American_deer_mouse', 'ingroup2': 'Bolivian_squirrel_monkey', 'outgroup': 'Tree_Shrew'}\n",
      "309\n",
      "{'ingroup1': 'Mouse_Lemur', 'ingroup2': 'Gorilla', 'outgroup': 'Squirrel'}\n",
      "470\n",
      "{'ingroup1': 'Arabian_camel', 'ingroup2': 'Donkey', 'outgroup': 'Microbat'}\n",
      "1\n",
      "{'ingroup1': 'Alpine_marmot', 'ingroup2': 'Guinea_Pig', 'outgroup': 'White_tufted_ear_marmoset'}\n",
      "93\n",
      "{'ingroup1': 'Bushbaby', 'ingroup2': 'Drill', 'outgroup': 'Arctic_ground_squirrel'}\n",
      "124\n",
      "{'ingroup1': 'Pig', 'ingroup2': 'Goat', 'outgroup': 'Alpaca'}\n",
      "173\n",
      "{'ingroup1': 'Degu', 'ingroup2': 'Sumatran_orangutan', 'outgroup': 'Tree_Shrew'}\n",
      "50\n",
      "{'ingroup1': 'Tree_Shrew', 'ingroup2': 'Algerian_mouse', 'outgroup': 'Yarkand_deer'}\n",
      "372\n",
      "{'ingroup1': 'Degu', 'ingroup2': 'Algerian_mouse', 'outgroup': 'Squirrel'}\n",
      "189\n",
      "{'ingroup1': 'American_black_bear', 'ingroup2': 'Narwhal', 'outgroup': 'Megabat'}\n",
      "69\n",
      "{'ingroup1': 'Sperm_whale', 'ingroup2': 'Blue_whale', 'outgroup': 'Cow'}\n",
      "259\n",
      "{'ingroup1': 'Ferret', 'ingroup2': 'Greater_horseshoe_bat', 'outgroup': 'White_tufted_ear_marmoset'}\n",
      "28\n",
      "{'ingroup1': 'Cow', 'ingroup2': 'Greater_horseshoe_bat', 'outgroup': 'White_tufted_ear_marmoset'}\n",
      "367\n",
      "{'ingroup1': 'Siberian_musk_deer', 'ingroup2': 'American_bison', 'outgroup': 'Yarkand_deer'}\n",
      "53\n",
      "{'ingroup1': 'Sperm_whale', 'ingroup2': 'Pig', 'outgroup': 'Arabian_camel'}\n",
      "326\n",
      "{'ingroup1': 'Alpine_marmot', 'ingroup2': 'Tarsier', 'outgroup': 'Tree_Shrew'}\n",
      "12\n",
      "{'ingroup1': 'Mouse_Lemur', 'ingroup2': 'Arctic_ground_squirrel', 'outgroup': 'Tree_Shrew'}\n",
      "45\n",
      "{'ingroup1': 'Bolivian_squirrel_monkey', 'ingroup2': 'Tarsier', 'outgroup': 'Bushbaby'}\n",
      "490\n",
      "{'ingroup1': 'Eurasian_red_squirrel', 'ingroup2': 'Northern_American_deer_mouse', 'outgroup': 'Sooty_mangabey'}\n",
      "306\n",
      "{'ingroup1': 'Cat', 'ingroup2': 'Megabat', 'outgroup': 'Northern_American_deer_mouse'}\n",
      "428\n",
      "{'ingroup1': 'Bolivian_squirrel_monkey', 'ingroup2': 'Rat', 'outgroup': 'Tree_Shrew'}\n",
      "73\n",
      "{'ingroup1': 'Cow', 'ingroup2': 'Cat', 'outgroup': 'Greater_horseshoe_bat'}\n",
      "347\n",
      "{'ingroup1': 'White_tufted_ear_marmoset', 'ingroup2': 'Greater_bamboo_lemur', 'outgroup': 'Algerian_mouse'}\n",
      "202\n",
      "{'ingroup1': 'Drill', 'ingroup2': 'Vervet_AGM', 'outgroup': 'Golden_snub_nosed_monkey'}\n",
      "24\n",
      "{'ingroup1': 'Narwhal', 'ingroup2': 'Vaquita', 'outgroup': 'Dolphin'}\n",
      "193\n",
      "{'ingroup1': 'Northern_American_deer_mouse', 'ingroup2': 'Gorilla', 'outgroup': 'Tree_Shrew'}\n",
      "107\n",
      "{'ingroup1': 'Donkey', 'ingroup2': 'Pig', 'outgroup': 'Microbat'}\n",
      "150\n",
      "{'ingroup1': \"Coquerel's_sifaka\", 'ingroup2': 'Panamanian_white_faced_capuchin', 'outgroup': 'Rat'}\n",
      "296\n",
      "{'ingroup1': 'Squirrel', 'ingroup2': 'Long_tailed_chinchilla', 'outgroup': \"Ma's_night_monkey\"}\n",
      "453\n",
      "{'ingroup1': 'Greater_bamboo_lemur', 'ingroup2': 'Gorilla', 'outgroup': 'Kangaroo_rat'}\n",
      "280\n",
      "{'ingroup1': 'Prairie_vole', 'ingroup2': 'Golden_snub_nosed_monkey', 'outgroup': 'Tree_Shrew'}\n",
      "393\n",
      "{'ingroup1': 'White_tufted_ear_marmoset', 'ingroup2': 'Guinea_Pig', 'outgroup': 'Tree_Shrew'}\n",
      "239\n",
      "{'ingroup1': 'Megabat', 'ingroup2': 'Blue_whale', 'outgroup': 'Prairie_vole'}\n",
      "48\n",
      "{'ingroup1': \"Coquerel's_sifaka\", 'ingroup2': 'Bolivian_squirrel_monkey', 'outgroup': 'Guinea_Pig'}\n",
      "147\n",
      "{'ingroup1': 'Ferret', 'ingroup2': 'Cow', 'outgroup': 'Megabat'}\n",
      "106\n",
      "{'ingroup1': 'Microbat', 'ingroup2': 'Donkey', 'outgroup': 'Sooty_mangabey'}\n",
      "311\n",
      "{'ingroup1': 'Golden_snub_nosed_monkey', 'ingroup2': 'Rat', 'outgroup': 'Tree_Shrew'}\n"
     ]
    }
   ],
   "source": [
    "model_fitting_result_dict = process_path(path_test, result_lf_dir_test, triads_info_dir_test)"
   ]
  },
  {
   "cell_type": "code",
   "execution_count": 45,
   "metadata": {},
   "outputs": [
    {
     "data": {
      "text/plain": [
       "{'396': Statistics\n",
       " =======================\n",
       "      LR    df    pvalue\n",
       " -----------------------\n",
       " 59.0506    36    0.0091\n",
       " -----------------------\n",
       " =============================================================\n",
       " hypothesis    key              lnL    nfp    DLC     unique_Q\n",
       " -------------------------------------------------------------\n",
       " null          'TN93'    -1251.4650     15    True    True    \n",
       " alt           'GN'      -1221.9397     51    True    True    \n",
       " -------------------------------------------------------------,\n",
       " '115': Statistics\n",
       " =======================\n",
       "      LR    df    pvalue\n",
       " -----------------------\n",
       " 35.9832    36    0.4694\n",
       " -----------------------\n",
       " =============================================================\n",
       " hypothesis    key              lnL    nfp    DLC     unique_Q\n",
       " -------------------------------------------------------------\n",
       " null          'TN93'    -1025.9271     15    True    True    \n",
       " alt           'GN'      -1007.9355     51    True    True    \n",
       " -------------------------------------------------------------,\n",
       " '457': Statistics\n",
       " =======================\n",
       "      LR    df    pvalue\n",
       " -----------------------\n",
       " 51.7731    36    0.0430\n",
       " -----------------------\n",
       " =============================================================\n",
       " hypothesis    key              lnL    nfp    DLC     unique_Q\n",
       " -------------------------------------------------------------\n",
       " null          'TN93'    -1130.3814     15    True    True    \n",
       " alt           'GN'      -1104.4948     51    True    True    \n",
       " -------------------------------------------------------------,\n",
       " '20': Statistics\n",
       " =======================\n",
       "      LR    df    pvalue\n",
       " -----------------------\n",
       " 28.5698    36    0.8063\n",
       " -----------------------\n",
       " ============================================================\n",
       " hypothesis    key             lnL    nfp    DLC     unique_Q\n",
       " ------------------------------------------------------------\n",
       " null          'TN93'    -981.8941     15    True    True    \n",
       " alt           'GN'      -967.6092     51    True    True    \n",
       " ------------------------------------------------------------,\n",
       " '98': Statistics\n",
       " =======================\n",
       "      LR    df    pvalue\n",
       " -----------------------\n",
       " 24.4764    36    0.9274\n",
       " -----------------------\n",
       " ============================================================\n",
       " hypothesis    key             lnL    nfp    DLC     unique_Q\n",
       " ------------------------------------------------------------\n",
       " null          'TN93'    -913.3921     15    True    True    \n",
       " alt           'GN'      -901.1539     51    True    True    \n",
       " ------------------------------------------------------------,\n",
       " '61': Statistics\n",
       " =========================\n",
       "      LR    df      pvalue\n",
       " -------------------------\n",
       " 73.2527    36    2.41e-04\n",
       " -------------------------\n",
       " =============================================================\n",
       " hypothesis    key              lnL    nfp    DLC     unique_Q\n",
       " -------------------------------------------------------------\n",
       " null          'TN93'    -1274.5248     15    True    True    \n",
       " alt           'GN'      -1237.8984     51    True    True    \n",
       " -------------------------------------------------------------,\n",
       " '302': Statistics\n",
       " =======================\n",
       "      LR    df    pvalue\n",
       " -----------------------\n",
       " 35.5863    36    0.4881\n",
       " -----------------------\n",
       " =============================================================\n",
       " hypothesis    key              lnL    nfp    DLC     unique_Q\n",
       " -------------------------------------------------------------\n",
       " null          'TN93'    -1231.4887     15    True    True    \n",
       " alt           'GN'      -1213.6956     51    True    True    \n",
       " -------------------------------------------------------------,\n",
       " '181': Statistics\n",
       " =======================\n",
       "      LR    df    pvalue\n",
       " -----------------------\n",
       " 56.3570    36    0.0166\n",
       " -----------------------\n",
       " =============================================================\n",
       " hypothesis    key              lnL    nfp    DLC     unique_Q\n",
       " -------------------------------------------------------------\n",
       " null          'TN93'    -1340.4159     15    True    True    \n",
       " alt           'GN'      -1312.2374     51    True    True    \n",
       " -------------------------------------------------------------,\n",
       " '494': Statistics\n",
       " =======================\n",
       "      LR    df    pvalue\n",
       " -----------------------\n",
       " 60.6339    36    0.0063\n",
       " -----------------------\n",
       " =============================================================\n",
       " hypothesis    key              lnL    nfp    DLC     unique_Q\n",
       " -------------------------------------------------------------\n",
       " null          'TN93'    -1326.6510     15    True    True    \n",
       " alt           'GN'      -1296.3340     51    True    True    \n",
       " -------------------------------------------------------------,\n",
       " '230': Statistics\n",
       " =========================\n",
       "      LR    df      pvalue\n",
       " -------------------------\n",
       " 72.2975    36    3.14e-04\n",
       " -------------------------\n",
       " =============================================================\n",
       " hypothesis    key              lnL    nfp    DLC     unique_Q\n",
       " -------------------------------------------------------------\n",
       " null          'TN93'    -1270.5015     15    True    True    \n",
       " alt           'GN'      -1234.3528     51    True    True    \n",
       " -------------------------------------------------------------,\n",
       " '16': Statistics\n",
       " =========================\n",
       "      LR    df      pvalue\n",
       " -------------------------\n",
       " 75.2499    36    1.37e-04\n",
       " -------------------------\n",
       " =============================================================\n",
       " hypothesis    key              lnL    nfp    DLC     unique_Q\n",
       " -------------------------------------------------------------\n",
       " null          'TN93'    -1254.6664     15    True    True    \n",
       " alt           'GN'      -1217.0414     51    True    True    \n",
       " -------------------------------------------------------------,\n",
       " '267': Statistics\n",
       " =======================\n",
       "      LR    df    pvalue\n",
       " -----------------------\n",
       " 46.3348    36    0.1161\n",
       " -----------------------\n",
       " =============================================================\n",
       " hypothesis    key              lnL    nfp    DLC     unique_Q\n",
       " -------------------------------------------------------------\n",
       " null          'TN93'    -1400.1143     15    True    True    \n",
       " alt           'GN'      -1376.9469     51    True    True    \n",
       " -------------------------------------------------------------,\n",
       " '158': Statistics\n",
       " =======================\n",
       "      LR    df    pvalue\n",
       " -----------------------\n",
       " 24.6555    36    0.9236\n",
       " -----------------------\n",
       " ============================================================\n",
       " hypothesis    key             lnL    nfp    DLC     unique_Q\n",
       " ------------------------------------------------------------\n",
       " null          'TN93'    -982.1021     15    True    True    \n",
       " alt           'GN'      -969.7744     51    True    True    \n",
       " ------------------------------------------------------------,\n",
       " '271': Statistics\n",
       " =======================\n",
       "      LR    df    pvalue\n",
       " -----------------------\n",
       " 45.0695    36    0.1429\n",
       " -----------------------\n",
       " =============================================================\n",
       " hypothesis    key              lnL    nfp    DLC     unique_Q\n",
       " -------------------------------------------------------------\n",
       " null          'TN93'    -1366.3448     15    True    True    \n",
       " alt           'GN'      -1343.8100     51    True    True    \n",
       " -------------------------------------------------------------,\n",
       " '318': Statistics\n",
       " =======================\n",
       "      LR    df    pvalue\n",
       " -----------------------\n",
       " 29.6483    36    0.7636\n",
       " -----------------------\n",
       " =============================================================\n",
       " hypothesis    key              lnL    nfp    DLC     unique_Q\n",
       " -------------------------------------------------------------\n",
       " null          'TN93'    -1029.8956     15    True    True    \n",
       " alt           'GN'      -1015.0715     51    True    True    \n",
       " -------------------------------------------------------------,\n",
       " '94': Statistics\n",
       " =======================\n",
       "      LR    df    pvalue\n",
       " -----------------------\n",
       " 39.4527    36    0.3182\n",
       " -----------------------\n",
       " =============================================================\n",
       " hypothesis    key              lnL    nfp    DLC     unique_Q\n",
       " -------------------------------------------------------------\n",
       " null          'TN93'    -1162.2506     15    True    True    \n",
       " alt           'GN'      -1142.5242     51    True    True    \n",
       " -------------------------------------------------------------,\n",
       " '123': Statistics\n",
       " =======================\n",
       "      LR    df    pvalue\n",
       " -----------------------\n",
       " 33.0040    36    0.6119\n",
       " -----------------------\n",
       " =============================================================\n",
       " hypothesis    key              lnL    nfp    DLC     unique_Q\n",
       " -------------------------------------------------------------\n",
       " null          'TN93'    -1020.2545     15    True    True    \n",
       " alt           'GN'      -1003.7525     51    True    True    \n",
       " -------------------------------------------------------------,\n",
       " '476': Statistics\n",
       " =======================\n",
       "      LR    df    pvalue\n",
       " -----------------------\n",
       " 56.2048    36    0.0171\n",
       " -----------------------\n",
       " =============================================================\n",
       " hypothesis    key              lnL    nfp    DLC     unique_Q\n",
       " -------------------------------------------------------------\n",
       " null          'TN93'    -1401.8663     15    True    True    \n",
       " alt           'GN'      -1373.7639     51    True    True    \n",
       " -------------------------------------------------------------,\n",
       " '499': Statistics\n",
       " =======================\n",
       "      LR    df    pvalue\n",
       " -----------------------\n",
       " 62.1486    36    0.0044\n",
       " -----------------------\n",
       " =============================================================\n",
       " hypothesis    key              lnL    nfp    DLC     unique_Q\n",
       " -------------------------------------------------------------\n",
       " null          'TN93'    -1037.5405     15    True    True    \n",
       " alt           'GN'      -1006.4662     51    True    True    \n",
       " -------------------------------------------------------------,\n",
       " '437': Statistics\n",
       " =======================\n",
       "      LR    df    pvalue\n",
       " -----------------------\n",
       " 60.1055    36    0.0071\n",
       " -----------------------\n",
       " =============================================================\n",
       " hypothesis    key              lnL    nfp    DLC     unique_Q\n",
       " -------------------------------------------------------------\n",
       " null          'TN93'    -1258.7562     15    True    True    \n",
       " alt           'GN'      -1228.7034     51    True    True    \n",
       " -------------------------------------------------------------,\n",
       " '319': Statistics\n",
       " =======================\n",
       "      LR    df    pvalue\n",
       " -----------------------\n",
       " 57.0428    36    0.0143\n",
       " -----------------------\n",
       " =============================================================\n",
       " hypothesis    key              lnL    nfp    DLC     unique_Q\n",
       " -------------------------------------------------------------\n",
       " null          'TN93'    -1219.9435     15    True    True    \n",
       " alt           'GN'      -1191.4221     51    True    True    \n",
       " -------------------------------------------------------------,\n",
       " '175': Statistics\n",
       " =======================\n",
       "      LR    df    pvalue\n",
       " -----------------------\n",
       " 64.3639    36    0.0025\n",
       " -----------------------\n",
       " =============================================================\n",
       " hypothesis    key              lnL    nfp    DLC     unique_Q\n",
       " -------------------------------------------------------------\n",
       " null          'TN93'    -1393.5787     15    True    True    \n",
       " alt           'GN'      -1361.3968     51    True    True    \n",
       " -------------------------------------------------------------,\n",
       " '227': Statistics\n",
       " =======================\n",
       "      LR    df    pvalue\n",
       " -----------------------\n",
       " 42.7552    36    0.2037\n",
       " -----------------------\n",
       " =============================================================\n",
       " hypothesis    key              lnL    nfp    DLC     unique_Q\n",
       " -------------------------------------------------------------\n",
       " null          'TN93'    -1152.9028     15    True    True    \n",
       " alt           'GN'      -1131.5252     51    True    True    \n",
       " -------------------------------------------------------------,\n",
       " '56': Statistics\n",
       " =======================\n",
       "      LR    df    pvalue\n",
       " -----------------------\n",
       " 63.7650    36    0.0029\n",
       " -----------------------\n",
       " =============================================================\n",
       " hypothesis    key              lnL    nfp    DLC     unique_Q\n",
       " -------------------------------------------------------------\n",
       " null          'TN93'    -1382.7021     15    True    True    \n",
       " alt           'GN'      -1350.8196     51    True    True    \n",
       " -------------------------------------------------------------,\n",
       " '270': Statistics\n",
       " =======================\n",
       "      LR    df    pvalue\n",
       " -----------------------\n",
       " 23.3101    36    0.9493\n",
       " -----------------------\n",
       " =============================================================\n",
       " hypothesis    key              lnL    nfp    DLC     unique_Q\n",
       " -------------------------------------------------------------\n",
       " null          'TN93'    -1153.7633     15    True    True    \n",
       " alt           'GN'      -1142.1083     51    True    True    \n",
       " -------------------------------------------------------------,\n",
       " '159': Statistics\n",
       " =======================\n",
       "      LR    df    pvalue\n",
       " -----------------------\n",
       " 46.3582    36    0.1157\n",
       " -----------------------\n",
       " =============================================================\n",
       " hypothesis    key              lnL    nfp    DLC     unique_Q\n",
       " -------------------------------------------------------------\n",
       " null          'TN93'    -1313.9993     15    True    True    \n",
       " alt           'GN'      -1290.8202     51    True    True    \n",
       " -------------------------------------------------------------,\n",
       " '323': Statistics\n",
       " =======================\n",
       "      LR    df    pvalue\n",
       " -----------------------\n",
       " 61.7597    36    0.0048\n",
       " -----------------------\n",
       " =============================================================\n",
       " hypothesis    key              lnL    nfp    DLC     unique_Q\n",
       " -------------------------------------------------------------\n",
       " null          'TN93'    -1342.8660     15    True    True    \n",
       " alt           'GN'      -1311.9862     51    True    True    \n",
       " -------------------------------------------------------------,\n",
       " '118': Statistics\n",
       " =======================\n",
       "      LR    df    pvalue\n",
       " -----------------------\n",
       " 40.4090    36    0.2817\n",
       " -----------------------\n",
       " =============================================================\n",
       " hypothesis    key              lnL    nfp    DLC     unique_Q\n",
       " -------------------------------------------------------------\n",
       " null          'TN93'    -1241.3010     15    True    True    \n",
       " alt           'GN'      -1221.0965     51    True    True    \n",
       " -------------------------------------------------------------,\n",
       " '138': Statistics\n",
       " =======================\n",
       "      LR    df    pvalue\n",
       " -----------------------\n",
       " 48.1874    36    0.0843\n",
       " -----------------------\n",
       " ============================================================\n",
       " hypothesis    key             lnL    nfp    DLC     unique_Q\n",
       " ------------------------------------------------------------\n",
       " null          'TN93'    -970.2615     15    True    True    \n",
       " alt           'GN'      -946.1678     51    True    True    \n",
       " ------------------------------------------------------------,\n",
       " '60': Statistics\n",
       " =======================\n",
       "      LR    df    pvalue\n",
       " -----------------------\n",
       " 56.8744    36    0.0148\n",
       " -----------------------\n",
       " =============================================================\n",
       " hypothesis    key              lnL    nfp    DLC     unique_Q\n",
       " -------------------------------------------------------------\n",
       " null          'TN93'    -1200.4859     15    True    True    \n",
       " alt           'GN'      -1172.0487     51    True    True    \n",
       " -------------------------------------------------------------,\n",
       " '354': Statistics\n",
       " =======================\n",
       "      LR    df    pvalue\n",
       " -----------------------\n",
       " 55.6029    36    0.0195\n",
       " -----------------------\n",
       " =============================================================\n",
       " hypothesis    key              lnL    nfp    DLC     unique_Q\n",
       " -------------------------------------------------------------\n",
       " null          'TN93'    -1400.1634     15    True    True    \n",
       " alt           'GN'      -1372.3620     51    True    True    \n",
       " -------------------------------------------------------------,\n",
       " '179': Statistics\n",
       " =======================\n",
       "      LR    df    pvalue\n",
       " -----------------------\n",
       " 30.5273    36    0.7261\n",
       " -----------------------\n",
       " =============================================================\n",
       " hypothesis    key              lnL    nfp    DLC     unique_Q\n",
       " -------------------------------------------------------------\n",
       " null          'TN93'    -1022.2497     15    True    True    \n",
       " alt           'GN'      -1006.9860     51    True    True    \n",
       " -------------------------------------------------------------,\n",
       " '21': Statistics\n",
       " =======================\n",
       "      LR    df    pvalue\n",
       " -----------------------\n",
       " 40.8679    36    0.2652\n",
       " -----------------------\n",
       " =============================================================\n",
       " hypothesis    key              lnL    nfp    DLC     unique_Q\n",
       " -------------------------------------------------------------\n",
       " null          'TN93'    -1296.2454     15    True    True    \n",
       " alt           'GN'      -1275.8115     51    True    True    \n",
       " -------------------------------------------------------------,\n",
       " '250': Statistics\n",
       " =======================\n",
       "      LR    df    pvalue\n",
       " -----------------------\n",
       " 35.4761    36    0.4933\n",
       " -----------------------\n",
       " =============================================================\n",
       " hypothesis    key              lnL    nfp    DLC     unique_Q\n",
       " -------------------------------------------------------------\n",
       " null          'TN93'    -1168.9049     15    True    True    \n",
       " alt           'GN'      -1151.1668     51    True    True    \n",
       " -------------------------------------------------------------,\n",
       " '102': Statistics\n",
       " =======================\n",
       "      LR    df    pvalue\n",
       " -----------------------\n",
       " 36.2362    36    0.4576\n",
       " -----------------------\n",
       " =============================================================\n",
       " hypothesis    key              lnL    nfp    DLC     unique_Q\n",
       " -------------------------------------------------------------\n",
       " null          'TN93'    -1026.4235     15    True    True    \n",
       " alt           'GN'      -1008.3054     51    True    True    \n",
       " -------------------------------------------------------------,\n",
       " '293': Statistics\n",
       " =========================\n",
       "      LR    df      pvalue\n",
       " -------------------------\n",
       " 75.1980    36    1.39e-04\n",
       " -------------------------\n",
       " =============================================================\n",
       " hypothesis    key              lnL    nfp    DLC     unique_Q\n",
       " -------------------------------------------------------------\n",
       " null          'TN93'    -1261.7556     15    True    True    \n",
       " alt           'GN'      -1224.1566     51    True    True    \n",
       " -------------------------------------------------------------,\n",
       " '397': Statistics\n",
       " =======================\n",
       "      LR    df    pvalue\n",
       " -----------------------\n",
       " 29.0899    36    0.7862\n",
       " -----------------------\n",
       " ============================================================\n",
       " hypothesis    key             lnL    nfp    DLC     unique_Q\n",
       " ------------------------------------------------------------\n",
       " null          'TN93'    -976.6272     15    True    True    \n",
       " alt           'GN'      -962.0823     51    True    True    \n",
       " ------------------------------------------------------------,\n",
       " '47': Statistics\n",
       " =======================\n",
       "      LR    df    pvalue\n",
       " -----------------------\n",
       " 32.2501    36    0.6476\n",
       " -----------------------\n",
       " =============================================================\n",
       " hypothesis    key              lnL    nfp    DLC     unique_Q\n",
       " -------------------------------------------------------------\n",
       " null          'TN93'    -1234.2180     15    True    True    \n",
       " alt           'GN'      -1218.0929     51    True    True    \n",
       " -------------------------------------------------------------,\n",
       " '148': Statistics\n",
       " =======================\n",
       "      LR    df    pvalue\n",
       " -----------------------\n",
       " 45.1043    36    0.1421\n",
       " -----------------------\n",
       " =============================================================\n",
       " hypothesis    key              lnL    nfp    DLC     unique_Q\n",
       " -------------------------------------------------------------\n",
       " null          'TN93'    -1167.3613     15    True    True    \n",
       " alt           'GN'      -1144.8091     51    True    True    \n",
       " -------------------------------------------------------------,\n",
       " '277': Statistics\n",
       " =======================\n",
       "      LR    df    pvalue\n",
       " -----------------------\n",
       " 55.4309    36    0.0203\n",
       " -----------------------\n",
       " =============================================================\n",
       " hypothesis    key              lnL    nfp    DLC     unique_Q\n",
       " -------------------------------------------------------------\n",
       " null          'TN93'    -1423.5277     15    True    True    \n",
       " alt           'GN'      -1395.8122     51    True    True    \n",
       " -------------------------------------------------------------,\n",
       " '109': Statistics\n",
       " =======================\n",
       "      LR    df    pvalue\n",
       " -----------------------\n",
       " 60.1742    36    0.0070\n",
       " -----------------------\n",
       " =============================================================\n",
       " hypothesis    key              lnL    nfp    DLC     unique_Q\n",
       " -------------------------------------------------------------\n",
       " null          'TN93'    -1290.2585     15    True    True    \n",
       " alt           'GN'      -1260.1714     51    True    True    \n",
       " -------------------------------------------------------------,\n",
       " '220': Statistics\n",
       " =======================\n",
       "      LR    df    pvalue\n",
       " -----------------------\n",
       " 38.4869    36    0.3576\n",
       " -----------------------\n",
       " =============================================================\n",
       " hypothesis    key              lnL    nfp    DLC     unique_Q\n",
       " -------------------------------------------------------------\n",
       " null          'TN93'    -1309.7345     15    True    True    \n",
       " alt           'GN'      -1290.4910     51    True    True    \n",
       " -------------------------------------------------------------,\n",
       " '172': Statistics\n",
       " =======================\n",
       "      LR    df    pvalue\n",
       " -----------------------\n",
       " 26.1529    36    0.8862\n",
       " -----------------------\n",
       " =============================================================\n",
       " hypothesis    key              lnL    nfp    DLC     unique_Q\n",
       " -------------------------------------------------------------\n",
       " null          'TN93'    -1165.6121     15    True    True    \n",
       " alt           'GN'      -1152.5357     51    True    True    \n",
       " -------------------------------------------------------------,\n",
       " '471': Statistics\n",
       " =======================\n",
       "      LR    df    pvalue\n",
       " -----------------------\n",
       " 64.1646    36    0.0027\n",
       " -----------------------\n",
       " =============================================================\n",
       " hypothesis    key              lnL    nfp    DLC     unique_Q\n",
       " -------------------------------------------------------------\n",
       " null          'TN93'    -1314.0651     15    True    True    \n",
       " alt           'GN'      -1281.9827     51    True    True    \n",
       " -------------------------------------------------------------,\n",
       " '164': Statistics\n",
       " =======================\n",
       "      LR    df    pvalue\n",
       " -----------------------\n",
       " 47.5568    36    0.0942\n",
       " -----------------------\n",
       " =============================================================\n",
       " hypothesis    key              lnL    nfp    DLC     unique_Q\n",
       " -------------------------------------------------------------\n",
       " null          'TN93'    -1242.9755     15    True    True    \n",
       " alt           'GN'      -1219.1971     51    True    True    \n",
       " -------------------------------------------------------------,\n",
       " '390': Statistics\n",
       " =========================\n",
       "      LR    df      pvalue\n",
       " -------------------------\n",
       " 68.6936    36    8.30e-04\n",
       " -------------------------\n",
       " =============================================================\n",
       " hypothesis    key              lnL    nfp    DLC     unique_Q\n",
       " -------------------------------------------------------------\n",
       " null          'TN93'    -1176.0792     15    True    True    \n",
       " alt           'GN'      -1141.7324     51    True    True    \n",
       " -------------------------------------------------------------,\n",
       " '406': Statistics\n",
       " =======================\n",
       "      LR    df    pvalue\n",
       " -----------------------\n",
       " 48.0281    36    0.0867\n",
       " -----------------------\n",
       " =============================================================\n",
       " hypothesis    key              lnL    nfp    DLC     unique_Q\n",
       " -------------------------------------------------------------\n",
       " null          'TN93'    -1225.7131     15    True    True    \n",
       " alt           'GN'      -1201.6990     51    True    True    \n",
       " -------------------------------------------------------------,\n",
       " '144': Statistics\n",
       " =======================\n",
       "      LR    df    pvalue\n",
       " -----------------------\n",
       " 33.8971    36    0.5690\n",
       " -----------------------\n",
       " =============================================================\n",
       " hypothesis    key              lnL    nfp    DLC     unique_Q\n",
       " -------------------------------------------------------------\n",
       " null          'TN93'    -1164.9550     15    True    True    \n",
       " alt           'GN'      -1148.0065     51    True    True    \n",
       " -------------------------------------------------------------,\n",
       " '152': Statistics\n",
       " =======================\n",
       "      LR    df    pvalue\n",
       " -----------------------\n",
       " 33.8217    36    0.5726\n",
       " -----------------------\n",
       " =============================================================\n",
       " hypothesis    key              lnL    nfp    DLC     unique_Q\n",
       " -------------------------------------------------------------\n",
       " null          'TN93'    -1024.5451     15    True    True    \n",
       " alt           'GN'      -1007.6343     51    True    True    \n",
       " -------------------------------------------------------------,\n",
       " '191': Statistics\n",
       " =======================\n",
       "      LR    df    pvalue\n",
       " -----------------------\n",
       " 36.9694    36    0.4240\n",
       " -----------------------\n",
       " =============================================================\n",
       " hypothesis    key              lnL    nfp    DLC     unique_Q\n",
       " -------------------------------------------------------------\n",
       " null          'TN93'    -1130.2282     15    True    True    \n",
       " alt           'GN'      -1111.7435     51    True    True    \n",
       " -------------------------------------------------------------,\n",
       " '200': Statistics\n",
       " =======================\n",
       "      LR    df    pvalue\n",
       " -----------------------\n",
       " 26.8566    36    0.8654\n",
       " -----------------------\n",
       " =============================================================\n",
       " hypothesis    key              lnL    nfp    DLC     unique_Q\n",
       " -------------------------------------------------------------\n",
       " null          'TN93'    -1224.5324     15    True    True    \n",
       " alt           'GN'      -1211.1041     51    True    True    \n",
       " -------------------------------------------------------------,\n",
       " '71': Statistics\n",
       " =======================\n",
       "      LR    df    pvalue\n",
       " -----------------------\n",
       " 48.3781    36    0.0815\n",
       " -----------------------\n",
       " =============================================================\n",
       " hypothesis    key              lnL    nfp    DLC     unique_Q\n",
       " -------------------------------------------------------------\n",
       " null          'TN93'    -1176.4471     15    True    True    \n",
       " alt           'GN'      -1152.2580     51    True    True    \n",
       " -------------------------------------------------------------,\n",
       " '216': Statistics\n",
       " =======================\n",
       "      LR    df    pvalue\n",
       " -----------------------\n",
       " 56.0986    36    0.0175\n",
       " -----------------------\n",
       " =============================================================\n",
       " hypothesis    key              lnL    nfp    DLC     unique_Q\n",
       " -------------------------------------------------------------\n",
       " null          'TN93'    -1395.4019     15    True    True    \n",
       " alt           'GN'      -1367.3526     51    True    True    \n",
       " -------------------------------------------------------------,\n",
       " '30': Statistics\n",
       " =======================\n",
       "      LR    df    pvalue\n",
       " -----------------------\n",
       " 33.5344    36    0.5864\n",
       " -----------------------\n",
       " =============================================================\n",
       " hypothesis    key              lnL    nfp    DLC     unique_Q\n",
       " -------------------------------------------------------------\n",
       " null          'TN93'    -1009.9341     15    True    True    \n",
       " alt           'GN'       -993.1669     51    True    True    \n",
       " -------------------------------------------------------------,\n",
       " '89': Statistics\n",
       " =======================\n",
       "      LR    df    pvalue\n",
       " -----------------------\n",
       " 47.5962    36    0.0935\n",
       " -----------------------\n",
       " =============================================================\n",
       " hypothesis    key              lnL    nfp    DLC     unique_Q\n",
       " -------------------------------------------------------------\n",
       " null          'TN93'    -1161.9384     15    True    True    \n",
       " alt           'GN'      -1138.1403     51    True    True    \n",
       " -------------------------------------------------------------,\n",
       " '66': Statistics\n",
       " =======================\n",
       "      LR    df    pvalue\n",
       " -----------------------\n",
       " 44.1745    36    0.1645\n",
       " -----------------------\n",
       " =============================================================\n",
       " hypothesis    key              lnL    nfp    DLC     unique_Q\n",
       " -------------------------------------------------------------\n",
       " null          'TN93'    -1238.8540     15    True    True    \n",
       " alt           'GN'      -1216.7667     51    True    True    \n",
       " -------------------------------------------------------------,\n",
       " '70': Statistics\n",
       " =======================\n",
       "      LR    df    pvalue\n",
       " -----------------------\n",
       " 53.0756    36    0.0331\n",
       " -----------------------\n",
       " =============================================================\n",
       " hypothesis    key              lnL    nfp    DLC     unique_Q\n",
       " -------------------------------------------------------------\n",
       " null          'TN93'    -1392.5581     15    True    True    \n",
       " alt           'GN'      -1366.0203     51    True    True    \n",
       " -------------------------------------------------------------,\n",
       " '190': Statistics\n",
       " =======================\n",
       "      LR    df    pvalue\n",
       " -----------------------\n",
       " 63.0687    36    0.0035\n",
       " -----------------------\n",
       " =============================================================\n",
       " hypothesis    key              lnL    nfp    DLC     unique_Q\n",
       " -------------------------------------------------------------\n",
       " null          'TN93'    -1419.6300     15    True    True    \n",
       " alt           'GN'      -1388.0957     51    True    True    \n",
       " -------------------------------------------------------------,\n",
       " '313': Statistics\n",
       " =======================\n",
       "      LR    df    pvalue\n",
       " -----------------------\n",
       " 21.6958    36    0.9713\n",
       " -----------------------\n",
       " ============================================================\n",
       " hypothesis    key             lnL    nfp    DLC     unique_Q\n",
       " ------------------------------------------------------------\n",
       " null          'TN93'    -909.9449     15    True    True    \n",
       " alt           'GN'      -899.0970     51    True    True    \n",
       " ------------------------------------------------------------,\n",
       " '411': Statistics\n",
       " =======================\n",
       "      LR    df    pvalue\n",
       " -----------------------\n",
       " 64.5619    36    0.0024\n",
       " -----------------------\n",
       " =============================================================\n",
       " hypothesis    key              lnL    nfp    DLC     unique_Q\n",
       " -------------------------------------------------------------\n",
       " null          'TN93'    -1315.8395     15    True    True    \n",
       " alt           'GN'      -1283.5586     51    True    True    \n",
       " -------------------------------------------------------------,\n",
       " '153': Statistics\n",
       " =======================\n",
       "      LR    df    pvalue\n",
       " -----------------------\n",
       " 38.9360    36    0.3390\n",
       " -----------------------\n",
       " =============================================================\n",
       " hypothesis    key              lnL    nfp    DLC     unique_Q\n",
       " -------------------------------------------------------------\n",
       " null          'TN93'    -1165.5638     15    True    True    \n",
       " alt           'GN'      -1146.0958     51    True    True    \n",
       " -------------------------------------------------------------,\n",
       " '446': Statistics\n",
       " =======================\n",
       "      LR    df    pvalue\n",
       " -----------------------\n",
       " 58.9659    36    0.0092\n",
       " -----------------------\n",
       " =============================================================\n",
       " hypothesis    key              lnL    nfp    DLC     unique_Q\n",
       " -------------------------------------------------------------\n",
       " null          'TN93'    -1339.9373     15    True    True    \n",
       " alt           'GN'      -1310.4543     51    True    True    \n",
       " -------------------------------------------------------------,\n",
       " '145': Statistics\n",
       " =========================\n",
       "      LR    df      pvalue\n",
       " -------------------------\n",
       " 69.0574    36    7.54e-04\n",
       " -------------------------\n",
       " =============================================================\n",
       " hypothesis    key              lnL    nfp    DLC     unique_Q\n",
       " -------------------------------------------------------------\n",
       " null          'TN93'    -1276.7045     15    True    True    \n",
       " alt           'GN'      -1242.1758     51    True    True    \n",
       " -------------------------------------------------------------,\n",
       " '391': Statistics\n",
       " =======================\n",
       "      LR    df    pvalue\n",
       " -----------------------\n",
       " 66.8690    36    0.0013\n",
       " -----------------------\n",
       " =============================================================\n",
       " hypothesis    key              lnL    nfp    DLC     unique_Q\n",
       " -------------------------------------------------------------\n",
       " null          'TN93'    -1394.5175     15    True    True    \n",
       " alt           'GN'      -1361.0830     51    True    True    \n",
       " -------------------------------------------------------------,\n",
       " '309': Statistics\n",
       " =======================\n",
       "      LR    df    pvalue\n",
       " -----------------------\n",
       " 33.2046    36    0.6023\n",
       " -----------------------\n",
       " =============================================================\n",
       " hypothesis    key              lnL    nfp    DLC     unique_Q\n",
       " -------------------------------------------------------------\n",
       " null          'TN93'    -1139.2193     15    True    True    \n",
       " alt           'GN'      -1122.6171     51    True    True    \n",
       " -------------------------------------------------------------,\n",
       " '470': Statistics\n",
       " =======================\n",
       "      LR    df    pvalue\n",
       " -----------------------\n",
       " 61.1450    36    0.0055\n",
       " -----------------------\n",
       " =============================================================\n",
       " hypothesis    key              lnL    nfp    DLC     unique_Q\n",
       " -------------------------------------------------------------\n",
       " null          'TN93'    -1132.3727     15    True    True    \n",
       " alt           'GN'      -1101.8002     51    True    True    \n",
       " -------------------------------------------------------------,\n",
       " '1': Statistics\n",
       " =======================\n",
       "      LR    df    pvalue\n",
       " -----------------------\n",
       " 28.2592    36    0.8178\n",
       " -----------------------\n",
       " =============================================================\n",
       " hypothesis    key              lnL    nfp    DLC     unique_Q\n",
       " -------------------------------------------------------------\n",
       " null          'TN93'    -1237.5845     15    True    True    \n",
       " alt           'GN'      -1223.4549     51    True    True    \n",
       " -------------------------------------------------------------,\n",
       " '93': Statistics\n",
       " =======================\n",
       "      LR    df    pvalue\n",
       " -----------------------\n",
       " 48.9773    36    0.0731\n",
       " -----------------------\n",
       " =============================================================\n",
       " hypothesis    key              lnL    nfp    DLC     unique_Q\n",
       " -------------------------------------------------------------\n",
       " null          'TN93'    -1213.2331     15    True    True    \n",
       " alt           'GN'      -1188.7444     51    True    True    \n",
       " -------------------------------------------------------------,\n",
       " '124': Statistics\n",
       " =======================\n",
       "      LR    df    pvalue\n",
       " -----------------------\n",
       " 47.2736    36    0.0989\n",
       " -----------------------\n",
       " =============================================================\n",
       " hypothesis    key              lnL    nfp    DLC     unique_Q\n",
       " -------------------------------------------------------------\n",
       " null          'TN93'    -1167.4227     15    True    True    \n",
       " alt           'GN'      -1143.7859     51    True    True    \n",
       " -------------------------------------------------------------,\n",
       " '173': Statistics\n",
       " =======================\n",
       "      LR    df    pvalue\n",
       " -----------------------\n",
       " 62.3189    36    0.0042\n",
       " -----------------------\n",
       " =============================================================\n",
       " hypothesis    key              lnL    nfp    DLC     unique_Q\n",
       " -------------------------------------------------------------\n",
       " null          'TN93'    -1357.8304     15    True    True    \n",
       " alt           'GN'      -1326.6710     51    True    True    \n",
       " -------------------------------------------------------------,\n",
       " '50': Statistics\n",
       " =======================\n",
       "      LR    df    pvalue\n",
       " -----------------------\n",
       " 51.6995    36    0.0436\n",
       " -----------------------\n",
       " =============================================================\n",
       " hypothesis    key              lnL    nfp    DLC     unique_Q\n",
       " -------------------------------------------------------------\n",
       " null          'TN93'    -1436.3233     15    True    True    \n",
       " alt           'GN'      -1410.4736     51    True    True    \n",
       " -------------------------------------------------------------,\n",
       " '372': Statistics\n",
       " =======================\n",
       "      LR    df    pvalue\n",
       " -----------------------\n",
       " 45.3144    36    0.1374\n",
       " -----------------------\n",
       " =============================================================\n",
       " hypothesis    key              lnL    nfp    DLC     unique_Q\n",
       " -------------------------------------------------------------\n",
       " null          'TN93'    -1365.2703     15    True    True    \n",
       " alt           'GN'      -1342.6131     51    True    True    \n",
       " -------------------------------------------------------------,\n",
       " '189': Statistics\n",
       " =========================\n",
       "      LR    df      pvalue\n",
       " -------------------------\n",
       " 76.1963    36    1.05e-04\n",
       " -------------------------\n",
       " =============================================================\n",
       " hypothesis    key              lnL    nfp    DLC     unique_Q\n",
       " -------------------------------------------------------------\n",
       " null          'TN93'    -1236.6190     15    True    True    \n",
       " alt           'GN'      -1198.5209     51    True    True    \n",
       " -------------------------------------------------------------,\n",
       " '69': Statistics\n",
       " =======================\n",
       "      LR    df    pvalue\n",
       " -----------------------\n",
       " 40.7983    36    0.2676\n",
       " -----------------------\n",
       " ============================================================\n",
       " hypothesis    key             lnL    nfp    DLC     unique_Q\n",
       " ------------------------------------------------------------\n",
       " null          'TN93'    -984.9890     15    True    True    \n",
       " alt           'GN'      -964.5898     51    True    True    \n",
       " ------------------------------------------------------------,\n",
       " '259': Statistics\n",
       " =======================\n",
       "      LR    df    pvalue\n",
       " -----------------------\n",
       " 56.7995    36    0.0150\n",
       " -----------------------\n",
       " =============================================================\n",
       " hypothesis    key              lnL    nfp    DLC     unique_Q\n",
       " -------------------------------------------------------------\n",
       " null          'TN93'    -1271.9021     15    True    True    \n",
       " alt           'GN'      -1243.5023     51    True    True    \n",
       " -------------------------------------------------------------,\n",
       " '28': Statistics\n",
       " =======================\n",
       "      LR    df    pvalue\n",
       " -----------------------\n",
       " 42.5346    36    0.2103\n",
       " -----------------------\n",
       " =============================================================\n",
       " hypothesis    key              lnL    nfp    DLC     unique_Q\n",
       " -------------------------------------------------------------\n",
       " null          'TN93'    -1215.5915     15    True    True    \n",
       " alt           'GN'      -1194.3242     51    True    True    \n",
       " -------------------------------------------------------------,\n",
       " '367': Statistics\n",
       " =======================\n",
       "      LR    df    pvalue\n",
       " -----------------------\n",
       " 35.4053    36    0.4967\n",
       " -----------------------\n",
       " ============================================================\n",
       " hypothesis    key             lnL    nfp    DLC     unique_Q\n",
       " ------------------------------------------------------------\n",
       " null          'TN93'    -962.9920     15    True    True    \n",
       " alt           'GN'      -945.2894     51    True    True    \n",
       " ------------------------------------------------------------,\n",
       " '53': Statistics\n",
       " =======================\n",
       "      LR    df    pvalue\n",
       " -----------------------\n",
       " 55.1346    36    0.0216\n",
       " -----------------------\n",
       " =============================================================\n",
       " hypothesis    key              lnL    nfp    DLC     unique_Q\n",
       " -------------------------------------------------------------\n",
       " null          'TN93'    -1165.6208     15    True    True    \n",
       " alt           'GN'      -1138.0535     51    True    True    \n",
       " -------------------------------------------------------------,\n",
       " '326': Statistics\n",
       " =======================\n",
       "      LR    df    pvalue\n",
       " -----------------------\n",
       " 57.3381    36    0.0133\n",
       " -----------------------\n",
       " =============================================================\n",
       " hypothesis    key              lnL    nfp    DLC     unique_Q\n",
       " -------------------------------------------------------------\n",
       " null          'TN93'    -1204.4132     15    True    True    \n",
       " alt           'GN'      -1175.7441     51    True    True    \n",
       " -------------------------------------------------------------,\n",
       " '12': Statistics\n",
       " =======================\n",
       "      LR    df    pvalue\n",
       " -----------------------\n",
       " 64.8103    36    0.0023\n",
       " -----------------------\n",
       " =============================================================\n",
       " hypothesis    key              lnL    nfp    DLC     unique_Q\n",
       " -------------------------------------------------------------\n",
       " null          'TN93'    -1273.5104     15    True    True    \n",
       " alt           'GN'      -1241.1052     51    True    True    \n",
       " -------------------------------------------------------------,\n",
       " '45': Statistics\n",
       " =======================\n",
       "      LR    df    pvalue\n",
       " -----------------------\n",
       " 39.1010    36    0.3323\n",
       " -----------------------\n",
       " =============================================================\n",
       " hypothesis    key              lnL    nfp    DLC     unique_Q\n",
       " -------------------------------------------------------------\n",
       " null          'TN93'    -1120.9717     15    True    True    \n",
       " alt           'GN'      -1101.4212     51    True    True    \n",
       " -------------------------------------------------------------,\n",
       " '490': Statistics\n",
       " =======================\n",
       "      LR    df    pvalue\n",
       " -----------------------\n",
       " 30.7183    36    0.7177\n",
       " -----------------------\n",
       " =============================================================\n",
       " hypothesis    key              lnL    nfp    DLC     unique_Q\n",
       " -------------------------------------------------------------\n",
       " null          'TN93'    -1295.9450     15    True    True    \n",
       " alt           'GN'      -1280.5858     51    True    True    \n",
       " -------------------------------------------------------------,\n",
       " '306': Statistics\n",
       " =======================\n",
       "      LR    df    pvalue\n",
       " -----------------------\n",
       " 18.3429    36    0.9936\n",
       " -----------------------\n",
       " =============================================================\n",
       " hypothesis    key              lnL    nfp    DLC     unique_Q\n",
       " -------------------------------------------------------------\n",
       " null          'TN93'    -1342.7838     15    True    True    \n",
       " alt           'GN'      -1333.6124     51    True    True    \n",
       " -------------------------------------------------------------,\n",
       " '428': Statistics\n",
       " =========================\n",
       "      LR    df      pvalue\n",
       " -------------------------\n",
       " 71.8959    36    3.50e-04\n",
       " -------------------------\n",
       " =============================================================\n",
       " hypothesis    key              lnL    nfp    DLC     unique_Q\n",
       " -------------------------------------------------------------\n",
       " null          'TN93'    -1410.1652     15    True    True    \n",
       " alt           'GN'      -1374.2172     51    True    True    \n",
       " -------------------------------------------------------------,\n",
       " '73': Statistics\n",
       " =======================\n",
       "      LR    df    pvalue\n",
       " -----------------------\n",
       " 49.8246    36    0.0625\n",
       " -----------------------\n",
       " =============================================================\n",
       " hypothesis    key              lnL    nfp    DLC     unique_Q\n",
       " -------------------------------------------------------------\n",
       " null          'TN93'    -1252.6193     15    True    True    \n",
       " alt           'GN'      -1227.7070     51    True    True    \n",
       " -------------------------------------------------------------,\n",
       " '347': Statistics\n",
       " =======================\n",
       "      LR    df    pvalue\n",
       " -----------------------\n",
       " 56.0253    36    0.0178\n",
       " -----------------------\n",
       " =============================================================\n",
       " hypothesis    key              lnL    nfp    DLC     unique_Q\n",
       " -------------------------------------------------------------\n",
       " null          'TN93'    -1336.2563     15    True    True    \n",
       " alt           'GN'      -1308.2437     51    True    True    \n",
       " -------------------------------------------------------------,\n",
       " '202': Statistics\n",
       " =======================\n",
       "      LR    df    pvalue\n",
       " -----------------------\n",
       " 18.9249    36    0.9914\n",
       " -----------------------\n",
       " ============================================================\n",
       " hypothesis    key             lnL    nfp    DLC     unique_Q\n",
       " ------------------------------------------------------------\n",
       " null          'TN93'    -831.5055     15    True    True    \n",
       " alt           'GN'      -822.0430     51    True    True    \n",
       " ------------------------------------------------------------,\n",
       " '24': Statistics\n",
       " =======================\n",
       "      LR    df    pvalue\n",
       " -----------------------\n",
       " 24.9805    36    0.9163\n",
       " -----------------------\n",
       " ============================================================\n",
       " hypothesis    key             lnL    nfp    DLC     unique_Q\n",
       " ------------------------------------------------------------\n",
       " null          'TN93'    -798.1923     15    True    True    \n",
       " alt           'GN'      -785.7021     51    True    True    \n",
       " ------------------------------------------------------------,\n",
       " '193': Statistics\n",
       " =======================\n",
       "      LR    df    pvalue\n",
       " -----------------------\n",
       " 55.4376    36    0.0202\n",
       " -----------------------\n",
       " =============================================================\n",
       " hypothesis    key              lnL    nfp    DLC     unique_Q\n",
       " -------------------------------------------------------------\n",
       " null          'TN93'    -1396.2894     15    True    True    \n",
       " alt           'GN'      -1368.5706     51    True    True    \n",
       " -------------------------------------------------------------,\n",
       " '107': Statistics\n",
       " =======================\n",
       "      LR    df    pvalue\n",
       " -----------------------\n",
       " 52.1977    36    0.0395\n",
       " -----------------------\n",
       " =============================================================\n",
       " hypothesis    key              lnL    nfp    DLC     unique_Q\n",
       " -------------------------------------------------------------\n",
       " null          'TN93'    -1162.9152     15    True    True    \n",
       " alt           'GN'      -1136.8164     51    True    True    \n",
       " -------------------------------------------------------------,\n",
       " '150': Statistics\n",
       " =======================\n",
       "      LR    df    pvalue\n",
       " -----------------------\n",
       " 47.7558    36    0.0910\n",
       " -----------------------\n",
       " =============================================================\n",
       " hypothesis    key              lnL    nfp    DLC     unique_Q\n",
       " -------------------------------------------------------------\n",
       " null          'TN93'    -1285.8663     15    True    True    \n",
       " alt           'GN'      -1261.9884     51    True    True    \n",
       " -------------------------------------------------------------,\n",
       " '296': Statistics\n",
       " =======================\n",
       "      LR    df    pvalue\n",
       " -----------------------\n",
       " 24.1516    36    0.9341\n",
       " -----------------------\n",
       " =============================================================\n",
       " hypothesis    key              lnL    nfp    DLC     unique_Q\n",
       " -------------------------------------------------------------\n",
       " null          'TN93'    -1216.2707     15    True    True    \n",
       " alt           'GN'      -1204.1949     51    True    True    \n",
       " -------------------------------------------------------------,\n",
       " '453': Statistics\n",
       " =======================\n",
       "      LR    df    pvalue\n",
       " -----------------------\n",
       " 29.4098    36    0.7734\n",
       " -----------------------\n",
       " =============================================================\n",
       " hypothesis    key              lnL    nfp    DLC     unique_Q\n",
       " -------------------------------------------------------------\n",
       " null          'TN93'    -1265.5434     15    True    True    \n",
       " alt           'GN'      -1250.8384     51    True    True    \n",
       " -------------------------------------------------------------,\n",
       " '280': Statistics\n",
       " =========================\n",
       "      LR    df      pvalue\n",
       " -------------------------\n",
       " 73.8700    36    2.03e-04\n",
       " -------------------------\n",
       " =============================================================\n",
       " hypothesis    key              lnL    nfp    DLC     unique_Q\n",
       " -------------------------------------------------------------\n",
       " null          'TN93'    -1414.9893     15    True    True    \n",
       " alt           'GN'      -1378.0543     51    True    True    \n",
       " -------------------------------------------------------------,\n",
       " '393': Statistics\n",
       " =======================\n",
       "      LR    df    pvalue\n",
       " -----------------------\n",
       " 60.8339    36    0.0060\n",
       " -----------------------\n",
       " =============================================================\n",
       " hypothesis    key              lnL    nfp    DLC     unique_Q\n",
       " -------------------------------------------------------------\n",
       " null          'TN93'    -1347.9243     15    True    True    \n",
       " alt           'GN'      -1317.5074     51    True    True    \n",
       " -------------------------------------------------------------,\n",
       " '239': Statistics\n",
       " =======================\n",
       "      LR    df    pvalue\n",
       " -----------------------\n",
       " 43.4520    36    0.1837\n",
       " -----------------------\n",
       " =============================================================\n",
       " hypothesis    key              lnL    nfp    DLC     unique_Q\n",
       " -------------------------------------------------------------\n",
       " null          'TN93'    -1345.0893     15    True    True    \n",
       " alt           'GN'      -1323.3634     51    True    True    \n",
       " -------------------------------------------------------------,\n",
       " '48': Statistics\n",
       " =======================\n",
       "      LR    df    pvalue\n",
       " -----------------------\n",
       " 47.4501    36    0.0960\n",
       " -----------------------\n",
       " =============================================================\n",
       " hypothesis    key              lnL    nfp    DLC     unique_Q\n",
       " -------------------------------------------------------------\n",
       " null          'TN93'    -1209.3342     15    True    True    \n",
       " alt           'GN'      -1185.6091     51    True    True    \n",
       " -------------------------------------------------------------,\n",
       " '147': Statistics\n",
       " =======================\n",
       "      LR    df    pvalue\n",
       " -----------------------\n",
       " 53.7534    36    0.0288\n",
       " -----------------------\n",
       " =============================================================\n",
       " hypothesis    key              lnL    nfp    DLC     unique_Q\n",
       " -------------------------------------------------------------\n",
       " null          'TN93'    -1280.4524     15    True    True    \n",
       " alt           'GN'      -1253.5757     51    True    True    \n",
       " -------------------------------------------------------------,\n",
       " '106': Statistics\n",
       " =======================\n",
       "      LR    df    pvalue\n",
       " -----------------------\n",
       " 29.8375    36    0.7557\n",
       " -----------------------\n",
       " =============================================================\n",
       " hypothesis    key              lnL    nfp    DLC     unique_Q\n",
       " -------------------------------------------------------------\n",
       " null          'TN93'    -1145.4103     15    True    True    \n",
       " alt           'GN'      -1130.4916     51    True    True    \n",
       " -------------------------------------------------------------,\n",
       " '311': Statistics\n",
       " =======================\n",
       "      LR    df    pvalue\n",
       " -----------------------\n",
       " 62.6551    36    0.0039\n",
       " -----------------------\n",
       " =============================================================\n",
       " hypothesis    key              lnL    nfp    DLC     unique_Q\n",
       " -------------------------------------------------------------\n",
       " null          'TN93'    -1413.0147     15    True    True    \n",
       " alt           'GN'      -1381.6871     51    True    True    \n",
       " -------------------------------------------------------------}"
      ]
     },
     "execution_count": 45,
     "metadata": {},
     "output_type": "execute_result"
    }
   ],
   "source": [
    "model_fitting_result_dict"
   ]
  },
  {
   "cell_type": "code",
   "execution_count": 11,
   "metadata": {},
   "outputs": [],
   "source": [
    "model_fitting_dir = '/Users/gulugulu/Desktop/honours/data_local/whole_genome_mammal87/triads_model_fitting_info/ENSG00000160050'\n",
    "model_fitting_result_dir = os.path.join(model_fitting_dir, 'model_fitting_result')\n",
    "model_fitting_results_paths = glob.glob(os.path.join(model_fitting_result_dir, '*.json'))\n",
    "model_fitting_results_path ='/Users/gulugulu/Desktop/honours/data_local/whole_genome_mammal87/triads_model_fitting_info/ENSG00000160050/model_fitting_result/100.json'\n",
    "model_fitting_result = load_json_app(model_fitting_results_path)"
   ]
  },
  {
   "cell_type": "code",
   "execution_count": 49,
   "metadata": {},
   "outputs": [],
   "source": [
    "p_value_dict = {}\n",
    "for identifier, result in model_fitting_result_dict.items():\n",
    "    p_value = result.pvalue\n",
    "    p_value_dict[identifier] = p_value\n",
    "    "
   ]
  },
  {
   "cell_type": "code",
   "execution_count": 50,
   "metadata": {},
   "outputs": [
    {
     "data": {
      "text/plain": [
       "100"
      ]
     },
     "execution_count": 50,
     "metadata": {},
     "output_type": "execute_result"
    }
   ],
   "source": [
    "len(p_value_dict)"
   ]
  },
  {
   "cell_type": "code",
   "execution_count": 51,
   "metadata": {},
   "outputs": [
    {
     "data": {
      "application/vnd.plotly.v1+json": {
       "config": {
        "plotlyServerURL": "https://plot.ly"
       },
       "data": [
        {
         "alignmentgroup": "True",
         "bingroup": "x",
         "hovertemplate": "variable=0<br>value=%{x}<br>count=%{y}<extra></extra>",
         "legendgroup": "0",
         "marker": {
          "color": "#636efa",
          "pattern": {
           "shape": ""
          }
         },
         "name": "0",
         "offsetgroup": "0",
         "orientation": "v",
         "showlegend": true,
         "type": "histogram",
         "x": [
          0.009059545903261378,
          0.46943483251552276,
          0.042988733871597726,
          0.8062837550933865,
          0.9274463332111713,
          0.00024078420268197406,
          0.48811285151398964,
          0.016572600662205558,
          0.006264300269248298,
          0.0003136288664779453,
          0.00013741812205203684,
          0.11610599742887329,
          0.923603151331684,
          0.14287517947575384,
          0.7635804938317325,
          0.3182339698525983,
          0.611853947097416,
          0.017132254193901453,
          0.004361225294261542,
          0.0070930117704452,
          0.014252434409287926,
          0.0025288647527888777,
          0.20365141164270623,
          0.0029354259601407015,
          0.9493203108572361,
          0.11565203352573289,
          0.004790199897741829,
          0.2817358602420893,
          0.08427437954101855,
          0.014793060338515674,
          0.01951608132573592,
          0.7261403816347305,
          0.26515850522900397,
          0.4933293062590369,
          0.4576309113737598,
          0.000139453890807252,
          0.7861752204080618,
          0.6476243696132526,
          0.14208142130275947,
          0.020250168581609638,
          0.0069797674477364334,
          0.35762221687839474,
          0.8862133100047106,
          0.002657846506908795,
          0.09419048762806988,
          0.0008298181064188418,
          0.08669304628125923,
          0.5689761216782205,
          0.5726063286441172,
          0.4239758889125254,
          0.8653770939189956,
          0.08145059877428139,
          0.017532459704637182,
          0.586424143403848,
          0.09354382720881836,
          0.16450887071302628,
          0.033121666003994896,
          0.0034853736784218074,
          0.9712714656721733,
          0.0024065835983545425,
          0.3390039627248905,
          0.009237387817890151,
          0.0007535404240772758,
          0.0013373000081032056,
          0.6022566089840891,
          0.005549331128818022,
          0.8178363991388787,
          0.07308600773960888,
          0.09894434095985716,
          0.004184947825038436,
          0.04361635239495868,
          0.1373530126935527,
          0.0001049485925553867,
          0.26763409142147504,
          0.015039267116661753,
          0.21028105417997398,
          0.4966902524008199,
          0.02157378358115823,
          0.01334765852511507,
          0.002261008006691497,
          0.33229370595958524,
          0.7177362102771719,
          0.993609806838698,
          0.00035021239944940636,
          0.06249689853301156,
          0.017813721536127924,
          0.9913972413628022,
          0.9162902996308337,
          0.020220955151243218,
          0.039521834108964864,
          0.09096210524845784,
          0.934081751271449,
          0.7733504847907572,
          0.0002026973821186302,
          0.005974962628286651,
          0.18367926555622588,
          0.09595849294524364,
          0.028825587465385764,
          0.7557075856879443,
          0.003856365327189809
         ],
         "xaxis": "x",
         "yaxis": "y"
        }
       ],
       "layout": {
        "barmode": "relative",
        "legend": {
         "title": {
          "text": "variable"
         },
         "tracegroupgap": 0
        },
        "margin": {
         "t": 60
        },
        "template": {
         "data": {
          "bar": [
           {
            "error_x": {
             "color": "#2a3f5f"
            },
            "error_y": {
             "color": "#2a3f5f"
            },
            "marker": {
             "line": {
              "color": "#E5ECF6",
              "width": 0.5
             },
             "pattern": {
              "fillmode": "overlay",
              "size": 10,
              "solidity": 0.2
             }
            },
            "type": "bar"
           }
          ],
          "barpolar": [
           {
            "marker": {
             "line": {
              "color": "#E5ECF6",
              "width": 0.5
             },
             "pattern": {
              "fillmode": "overlay",
              "size": 10,
              "solidity": 0.2
             }
            },
            "type": "barpolar"
           }
          ],
          "carpet": [
           {
            "aaxis": {
             "endlinecolor": "#2a3f5f",
             "gridcolor": "white",
             "linecolor": "white",
             "minorgridcolor": "white",
             "startlinecolor": "#2a3f5f"
            },
            "baxis": {
             "endlinecolor": "#2a3f5f",
             "gridcolor": "white",
             "linecolor": "white",
             "minorgridcolor": "white",
             "startlinecolor": "#2a3f5f"
            },
            "type": "carpet"
           }
          ],
          "choropleth": [
           {
            "colorbar": {
             "outlinewidth": 0,
             "ticks": ""
            },
            "type": "choropleth"
           }
          ],
          "contour": [
           {
            "colorbar": {
             "outlinewidth": 0,
             "ticks": ""
            },
            "colorscale": [
             [
              0,
              "#0d0887"
             ],
             [
              0.1111111111111111,
              "#46039f"
             ],
             [
              0.2222222222222222,
              "#7201a8"
             ],
             [
              0.3333333333333333,
              "#9c179e"
             ],
             [
              0.4444444444444444,
              "#bd3786"
             ],
             [
              0.5555555555555556,
              "#d8576b"
             ],
             [
              0.6666666666666666,
              "#ed7953"
             ],
             [
              0.7777777777777778,
              "#fb9f3a"
             ],
             [
              0.8888888888888888,
              "#fdca26"
             ],
             [
              1,
              "#f0f921"
             ]
            ],
            "type": "contour"
           }
          ],
          "contourcarpet": [
           {
            "colorbar": {
             "outlinewidth": 0,
             "ticks": ""
            },
            "type": "contourcarpet"
           }
          ],
          "heatmap": [
           {
            "colorbar": {
             "outlinewidth": 0,
             "ticks": ""
            },
            "colorscale": [
             [
              0,
              "#0d0887"
             ],
             [
              0.1111111111111111,
              "#46039f"
             ],
             [
              0.2222222222222222,
              "#7201a8"
             ],
             [
              0.3333333333333333,
              "#9c179e"
             ],
             [
              0.4444444444444444,
              "#bd3786"
             ],
             [
              0.5555555555555556,
              "#d8576b"
             ],
             [
              0.6666666666666666,
              "#ed7953"
             ],
             [
              0.7777777777777778,
              "#fb9f3a"
             ],
             [
              0.8888888888888888,
              "#fdca26"
             ],
             [
              1,
              "#f0f921"
             ]
            ],
            "type": "heatmap"
           }
          ],
          "heatmapgl": [
           {
            "colorbar": {
             "outlinewidth": 0,
             "ticks": ""
            },
            "colorscale": [
             [
              0,
              "#0d0887"
             ],
             [
              0.1111111111111111,
              "#46039f"
             ],
             [
              0.2222222222222222,
              "#7201a8"
             ],
             [
              0.3333333333333333,
              "#9c179e"
             ],
             [
              0.4444444444444444,
              "#bd3786"
             ],
             [
              0.5555555555555556,
              "#d8576b"
             ],
             [
              0.6666666666666666,
              "#ed7953"
             ],
             [
              0.7777777777777778,
              "#fb9f3a"
             ],
             [
              0.8888888888888888,
              "#fdca26"
             ],
             [
              1,
              "#f0f921"
             ]
            ],
            "type": "heatmapgl"
           }
          ],
          "histogram": [
           {
            "marker": {
             "pattern": {
              "fillmode": "overlay",
              "size": 10,
              "solidity": 0.2
             }
            },
            "type": "histogram"
           }
          ],
          "histogram2d": [
           {
            "colorbar": {
             "outlinewidth": 0,
             "ticks": ""
            },
            "colorscale": [
             [
              0,
              "#0d0887"
             ],
             [
              0.1111111111111111,
              "#46039f"
             ],
             [
              0.2222222222222222,
              "#7201a8"
             ],
             [
              0.3333333333333333,
              "#9c179e"
             ],
             [
              0.4444444444444444,
              "#bd3786"
             ],
             [
              0.5555555555555556,
              "#d8576b"
             ],
             [
              0.6666666666666666,
              "#ed7953"
             ],
             [
              0.7777777777777778,
              "#fb9f3a"
             ],
             [
              0.8888888888888888,
              "#fdca26"
             ],
             [
              1,
              "#f0f921"
             ]
            ],
            "type": "histogram2d"
           }
          ],
          "histogram2dcontour": [
           {
            "colorbar": {
             "outlinewidth": 0,
             "ticks": ""
            },
            "colorscale": [
             [
              0,
              "#0d0887"
             ],
             [
              0.1111111111111111,
              "#46039f"
             ],
             [
              0.2222222222222222,
              "#7201a8"
             ],
             [
              0.3333333333333333,
              "#9c179e"
             ],
             [
              0.4444444444444444,
              "#bd3786"
             ],
             [
              0.5555555555555556,
              "#d8576b"
             ],
             [
              0.6666666666666666,
              "#ed7953"
             ],
             [
              0.7777777777777778,
              "#fb9f3a"
             ],
             [
              0.8888888888888888,
              "#fdca26"
             ],
             [
              1,
              "#f0f921"
             ]
            ],
            "type": "histogram2dcontour"
           }
          ],
          "mesh3d": [
           {
            "colorbar": {
             "outlinewidth": 0,
             "ticks": ""
            },
            "type": "mesh3d"
           }
          ],
          "parcoords": [
           {
            "line": {
             "colorbar": {
              "outlinewidth": 0,
              "ticks": ""
             }
            },
            "type": "parcoords"
           }
          ],
          "pie": [
           {
            "automargin": true,
            "type": "pie"
           }
          ],
          "scatter": [
           {
            "fillpattern": {
             "fillmode": "overlay",
             "size": 10,
             "solidity": 0.2
            },
            "type": "scatter"
           }
          ],
          "scatter3d": [
           {
            "line": {
             "colorbar": {
              "outlinewidth": 0,
              "ticks": ""
             }
            },
            "marker": {
             "colorbar": {
              "outlinewidth": 0,
              "ticks": ""
             }
            },
            "type": "scatter3d"
           }
          ],
          "scattercarpet": [
           {
            "marker": {
             "colorbar": {
              "outlinewidth": 0,
              "ticks": ""
             }
            },
            "type": "scattercarpet"
           }
          ],
          "scattergeo": [
           {
            "marker": {
             "colorbar": {
              "outlinewidth": 0,
              "ticks": ""
             }
            },
            "type": "scattergeo"
           }
          ],
          "scattergl": [
           {
            "marker": {
             "colorbar": {
              "outlinewidth": 0,
              "ticks": ""
             }
            },
            "type": "scattergl"
           }
          ],
          "scattermapbox": [
           {
            "marker": {
             "colorbar": {
              "outlinewidth": 0,
              "ticks": ""
             }
            },
            "type": "scattermapbox"
           }
          ],
          "scatterpolar": [
           {
            "marker": {
             "colorbar": {
              "outlinewidth": 0,
              "ticks": ""
             }
            },
            "type": "scatterpolar"
           }
          ],
          "scatterpolargl": [
           {
            "marker": {
             "colorbar": {
              "outlinewidth": 0,
              "ticks": ""
             }
            },
            "type": "scatterpolargl"
           }
          ],
          "scatterternary": [
           {
            "marker": {
             "colorbar": {
              "outlinewidth": 0,
              "ticks": ""
             }
            },
            "type": "scatterternary"
           }
          ],
          "surface": [
           {
            "colorbar": {
             "outlinewidth": 0,
             "ticks": ""
            },
            "colorscale": [
             [
              0,
              "#0d0887"
             ],
             [
              0.1111111111111111,
              "#46039f"
             ],
             [
              0.2222222222222222,
              "#7201a8"
             ],
             [
              0.3333333333333333,
              "#9c179e"
             ],
             [
              0.4444444444444444,
              "#bd3786"
             ],
             [
              0.5555555555555556,
              "#d8576b"
             ],
             [
              0.6666666666666666,
              "#ed7953"
             ],
             [
              0.7777777777777778,
              "#fb9f3a"
             ],
             [
              0.8888888888888888,
              "#fdca26"
             ],
             [
              1,
              "#f0f921"
             ]
            ],
            "type": "surface"
           }
          ],
          "table": [
           {
            "cells": {
             "fill": {
              "color": "#EBF0F8"
             },
             "line": {
              "color": "white"
             }
            },
            "header": {
             "fill": {
              "color": "#C8D4E3"
             },
             "line": {
              "color": "white"
             }
            },
            "type": "table"
           }
          ]
         },
         "layout": {
          "annotationdefaults": {
           "arrowcolor": "#2a3f5f",
           "arrowhead": 0,
           "arrowwidth": 1
          },
          "autotypenumbers": "strict",
          "coloraxis": {
           "colorbar": {
            "outlinewidth": 0,
            "ticks": ""
           }
          },
          "colorscale": {
           "diverging": [
            [
             0,
             "#8e0152"
            ],
            [
             0.1,
             "#c51b7d"
            ],
            [
             0.2,
             "#de77ae"
            ],
            [
             0.3,
             "#f1b6da"
            ],
            [
             0.4,
             "#fde0ef"
            ],
            [
             0.5,
             "#f7f7f7"
            ],
            [
             0.6,
             "#e6f5d0"
            ],
            [
             0.7,
             "#b8e186"
            ],
            [
             0.8,
             "#7fbc41"
            ],
            [
             0.9,
             "#4d9221"
            ],
            [
             1,
             "#276419"
            ]
           ],
           "sequential": [
            [
             0,
             "#0d0887"
            ],
            [
             0.1111111111111111,
             "#46039f"
            ],
            [
             0.2222222222222222,
             "#7201a8"
            ],
            [
             0.3333333333333333,
             "#9c179e"
            ],
            [
             0.4444444444444444,
             "#bd3786"
            ],
            [
             0.5555555555555556,
             "#d8576b"
            ],
            [
             0.6666666666666666,
             "#ed7953"
            ],
            [
             0.7777777777777778,
             "#fb9f3a"
            ],
            [
             0.8888888888888888,
             "#fdca26"
            ],
            [
             1,
             "#f0f921"
            ]
           ],
           "sequentialminus": [
            [
             0,
             "#0d0887"
            ],
            [
             0.1111111111111111,
             "#46039f"
            ],
            [
             0.2222222222222222,
             "#7201a8"
            ],
            [
             0.3333333333333333,
             "#9c179e"
            ],
            [
             0.4444444444444444,
             "#bd3786"
            ],
            [
             0.5555555555555556,
             "#d8576b"
            ],
            [
             0.6666666666666666,
             "#ed7953"
            ],
            [
             0.7777777777777778,
             "#fb9f3a"
            ],
            [
             0.8888888888888888,
             "#fdca26"
            ],
            [
             1,
             "#f0f921"
            ]
           ]
          },
          "colorway": [
           "#636efa",
           "#EF553B",
           "#00cc96",
           "#ab63fa",
           "#FFA15A",
           "#19d3f3",
           "#FF6692",
           "#B6E880",
           "#FF97FF",
           "#FECB52"
          ],
          "font": {
           "color": "#2a3f5f"
          },
          "geo": {
           "bgcolor": "white",
           "lakecolor": "white",
           "landcolor": "#E5ECF6",
           "showlakes": true,
           "showland": true,
           "subunitcolor": "white"
          },
          "hoverlabel": {
           "align": "left"
          },
          "hovermode": "closest",
          "mapbox": {
           "style": "light"
          },
          "paper_bgcolor": "white",
          "plot_bgcolor": "#E5ECF6",
          "polar": {
           "angularaxis": {
            "gridcolor": "white",
            "linecolor": "white",
            "ticks": ""
           },
           "bgcolor": "#E5ECF6",
           "radialaxis": {
            "gridcolor": "white",
            "linecolor": "white",
            "ticks": ""
           }
          },
          "scene": {
           "xaxis": {
            "backgroundcolor": "#E5ECF6",
            "gridcolor": "white",
            "gridwidth": 2,
            "linecolor": "white",
            "showbackground": true,
            "ticks": "",
            "zerolinecolor": "white"
           },
           "yaxis": {
            "backgroundcolor": "#E5ECF6",
            "gridcolor": "white",
            "gridwidth": 2,
            "linecolor": "white",
            "showbackground": true,
            "ticks": "",
            "zerolinecolor": "white"
           },
           "zaxis": {
            "backgroundcolor": "#E5ECF6",
            "gridcolor": "white",
            "gridwidth": 2,
            "linecolor": "white",
            "showbackground": true,
            "ticks": "",
            "zerolinecolor": "white"
           }
          },
          "shapedefaults": {
           "line": {
            "color": "#2a3f5f"
           }
          },
          "ternary": {
           "aaxis": {
            "gridcolor": "white",
            "linecolor": "white",
            "ticks": ""
           },
           "baxis": {
            "gridcolor": "white",
            "linecolor": "white",
            "ticks": ""
           },
           "bgcolor": "#E5ECF6",
           "caxis": {
            "gridcolor": "white",
            "linecolor": "white",
            "ticks": ""
           }
          },
          "title": {
           "x": 0.05
          },
          "xaxis": {
           "automargin": true,
           "gridcolor": "white",
           "linecolor": "white",
           "ticks": "",
           "title": {
            "standoff": 15
           },
           "zerolinecolor": "white",
           "zerolinewidth": 2
          },
          "yaxis": {
           "automargin": true,
           "gridcolor": "white",
           "linecolor": "white",
           "ticks": "",
           "title": {
            "standoff": 15
           },
           "zerolinecolor": "white",
           "zerolinewidth": 2
          }
         }
        },
        "xaxis": {
         "anchor": "y",
         "domain": [
          0,
          1
         ],
         "title": {
          "text": "value"
         }
        },
        "yaxis": {
         "anchor": "x",
         "domain": [
          0,
          1
         ],
         "title": {
          "text": "count"
         }
        }
       }
      }
     },
     "metadata": {},
     "output_type": "display_data"
    }
   ],
   "source": [
    "import plotly.express as px\n",
    "px.histogram(p_value_dict.values())"
   ]
  },
  {
   "cell_type": "code",
   "execution_count": 41,
   "metadata": {},
   "outputs": [
    {
     "data": {
      "text/plain": [
       "100"
      ]
     },
     "execution_count": 41,
     "metadata": {},
     "output_type": "execute_result"
    }
   ],
   "source": [
    "len(p_value_dict)"
   ]
  },
  {
   "cell_type": "code",
   "execution_count": 43,
   "metadata": {},
   "outputs": [],
   "source": [
    "valid_triads_identifier = []\n",
    "load_json_app = get_app(\"load_json\")\n",
    "\n",
    "for identifier, model_fitting_results in model_fitting_result_alt_dict.items():\n",
    "    vio = []\n",
    "    exclude_params = (\"length\", \"mprobs\")\n",
    "    list_of_params = model_fitting_results.get_param_rules()\n",
    "    for param in list_of_params:\n",
    "        if param[\"par_name\"] not in exclude_params:\n",
    "            if (abs(param[\"init\"] - param[\"lower\"]) <= 1e-12) or (\n",
    "                abs(param[\"init\"] - param[\"upper\"]) <= 1e-12):\n",
    "                vio.append(param)\n",
    "    if vio == []:\n",
    "        valid_triads_identifier.append(identifier)\n"
   ]
  },
  {
   "cell_type": "code",
   "execution_count": 41,
   "metadata": {},
   "outputs": [
    {
     "data": {
      "text/plain": [
       "['134',\n",
       " '40',\n",
       " '99',\n",
       " '99',\n",
       " '99',\n",
       " '99',\n",
       " '76',\n",
       " '102',\n",
       " '107',\n",
       " '106',\n",
       " '13',\n",
       " '13',\n",
       " '188',\n",
       " '183',\n",
       " '63',\n",
       " '96',\n",
       " '23']"
      ]
     },
     "execution_count": 41,
     "metadata": {},
     "output_type": "execute_result"
    }
   ],
   "source": [
    "valid_triads_identifier"
   ]
  },
  {
   "cell_type": "code",
   "execution_count": 4,
   "metadata": {},
   "outputs": [
    {
     "ename": "NameError",
     "evalue": "name 'model_fitting_result_nul_dict' is not defined",
     "output_type": "error",
     "traceback": [
      "\u001b[0;31m---------------------------------------------------------------------------\u001b[0m",
      "\u001b[0;31mNameError\u001b[0m                                 Traceback (most recent call last)",
      "Cell \u001b[0;32mIn[4], line 1\u001b[0m\n\u001b[0;32m----> 1\u001b[0m \u001b[43mmodel_fitting_result_nul_dict\u001b[49m\n",
      "\u001b[0;31mNameError\u001b[0m: name 'model_fitting_result_nul_dict' is not defined"
     ]
    }
   ],
   "source": [
    "model_fitting_result_nul_dict"
   ]
  },
  {
   "cell_type": "code",
   "execution_count": 15,
   "metadata": {},
   "outputs": [
    {
     "data": {
      "text/html": [
       "\n",
       "<div class=\"c3table\">\n",
       "\n",
       "<style>\n",
       ".c3table table {margin: 10px 0;}\n",
       ".c3table tr:last-child {border-bottom: 1px solid #000;} \n",
       ".c3table tr > th {text-align: left; padding: 0 5px;}\n",
       ".c3table tr > td {text-align: left; padding: 5px;}\n",
       ".c3table tr:nth-child(even) {background: #f7f7f7 !important;}\n",
       ".c3table .ellipsis {background: rgba(0, 0, 0, .01);}\n",
       ".c3table .index {background: rgba(161, 195, 209, 0.0); margin: 10px; font-weight: 600;}\n",
       ".c3table .head_cell {background: rgba(161, 195, 209, 0.75); font-weight: bold; text-align: center;}\n",
       ".c3table caption {color: rgb(250, 250, 250); background: rgba(30, 140, 200, 1); padding: 3px; white-space: nowrap; caption-side: top;}\n",
       ".c3table .cell_title {font-weight: bold;}\n",
       ".c3col_left { text-align: left !important; display: block;}\n",
       ".c3col_right { text-align: right !important; display: block;}\n",
       ".c3col_center { text-align: center !important; display: block;}\n",
       "</style>\n",
       "\n",
       "<table>\n",
       "\n",
       "<caption>\n",
       "<span class=\"cell_title\">Specify a model using 'Abbreviation' (case sensitive).</span>\n",
       "</caption>\n",
       "<thead class=\"head_cell\">\n",
       "<th>Model Type</th><th>Abbreviation</th><th>Description</th>\n",
       "</thead>\n",
       "<tbody>\n",
       "<tr><td><span class=\"c3col_left\">nucleotide</span></td><td><span class=\"c3col_left\">BH</span></td><td><span class=\"c3col_left\">Barry and Hartigan Discrete Time substitution model Barry and Hartigan 1987. Biometrics 43: 261–76.</span></td></tr>\n",
       "<tr><td><span class=\"c3col_left\">nucleotide</span></td><td><span class=\"c3col_left\">DT</span></td><td><span class=\"c3col_left\">Discrete Time substitution model (non-stationary, non-reversible). motif_length=2 makes this a dinucleotide model, motif_length=3 a trinucleotide model.</span></td></tr>\n",
       "<tr><td><span class=\"c3col_left\">nucleotide</span></td><td><span class=\"c3col_left\">GN</span></td><td><span class=\"c3col_left\">General Markov Nucleotide (non-stationary, non-reversible). Kaehler, Yap, Zhang, Huttley, 2015, Sys Biol 64 (2): 281–93</span></td></tr>\n",
       "<tr><td><span class=\"c3col_left\">nucleotide</span></td><td><span class=\"c3col_left\">ssGN</span></td><td><span class=\"c3col_left\">strand-symmetric general Markov nucleotide (non-stationary, non-reversible). Kaehler, 2017, Journal of Theoretical Biology 420: 144–51</span></td></tr>\n",
       "<tr><td><span class=\"c3col_left\">nucleotide</span></td><td><span class=\"c3col_left\">K80</span></td><td><span class=\"c3col_left\">Kimura 1980</span></td></tr>\n",
       "<tr><td><span class=\"c3col_left\">nucleotide</span></td><td><span class=\"c3col_left\">JC69</span></td><td><span class=\"c3col_left\">Jukes and Cantor's 1969 model</span></td></tr>\n",
       "<tr><td><span class=\"c3col_left\">nucleotide</span></td><td><span class=\"c3col_left\">GTR</span></td><td><span class=\"c3col_left\">General Time Reversible nucleotide substitution model.</span></td></tr>\n",
       "<tr><td><span class=\"c3col_left\">nucleotide</span></td><td><span class=\"c3col_left\">TN93</span></td><td><span class=\"c3col_left\">Tamura and Nei 1993 model</span></td></tr>\n",
       "<tr><td><span class=\"c3col_left\">nucleotide</span></td><td><span class=\"c3col_left\">HKY85</span></td><td><span class=\"c3col_left\">Hasegawa, Kishino and Yano 1985 model</span></td></tr>\n",
       "<tr><td><span class=\"c3col_left\">nucleotide</span></td><td><span class=\"c3col_left\">F81</span></td><td><span class=\"c3col_left\">Felsenstein's 1981 model</span></td></tr>\n",
       "<tr><td><span class=\"c3col_left\">codon</span></td><td><span class=\"c3col_left\">CNFGTR</span></td><td><span class=\"c3col_left\">Conditional nucleotide frequency codon substitution model, GTR variant (with params analagous to the nucleotide GTR model). Yap, Lindsay, Easteal and Huttley, 2010, Mol Biol Evol 27: 726-734</span></td></tr>\n",
       "<tr><td><span class=\"c3col_left\">codon</span></td><td><span class=\"c3col_left\">CNFHKY</span></td><td><span class=\"c3col_left\">Conditional nucleotide frequency codon substitution model, HKY variant (with kappa, the ratio of transitions to transversions) Yap, Lindsay, Easteal and Huttley, 2010, Mol Biol Evol 27: 726-734</span></td></tr>\n",
       "<tr><td><span class=\"c3col_left\">codon</span></td><td><span class=\"c3col_left\">MG94HKY</span></td><td><span class=\"c3col_left\">Muse and Gaut 1994 codon substitution model, HKY variant (with kappa, the ratio of transitions to transversions) Muse and Gaut, 1994, Mol Biol Evol, 11, 715-24</span></td></tr>\n",
       "<tr><td><span class=\"c3col_left\">codon</span></td><td><span class=\"c3col_left\">MG94GTR</span></td><td><span class=\"c3col_left\">Muse and Gaut 1994 codon substitution model, GTR variant (with params analagous to the nucleotide GTR model) Muse and Gaut, 1994, Mol Biol Evol, 11, 715-24</span></td></tr>\n",
       "<tr><td><span class=\"c3col_left\">codon</span></td><td><span class=\"c3col_left\">GY94</span></td><td><span class=\"c3col_left\">Goldman and Yang 1994 codon substitution model. N Goldman and Z Yang, 1994, Mol Biol Evol, 11(5):725-36.</span></td></tr>\n",
       "<tr><td><span class=\"c3col_left\">codon</span></td><td><span class=\"c3col_left\">Y98</span></td><td><span class=\"c3col_left\">Yang's 1998 substitution model, a derivative of the GY94. Z Yang, 1998, Mol Biol Evol, 15(5):568-73</span></td></tr>\n",
       "<tr><td><span class=\"c3col_left\">codon</span></td><td><span class=\"c3col_left\">H04G</span></td><td><span class=\"c3col_left\">Huttley 2004 CpG substitution model. Includes a term for substitutions to or from CpG's. GA Huttley, 2004, Mol Biol Evol, 21(9):1760-8</span></td></tr>\n",
       "<tr><td><span class=\"c3col_left\">codon</span></td><td><span class=\"c3col_left\">H04GK</span></td><td><span class=\"c3col_left\">Huttley 2004 CpG substitution model. Includes a term for transition substitutions to or from CpG's. GA Huttley, 2004, Mol Biol Evol, 21(9):1760-8</span></td></tr>\n",
       "<tr><td><span class=\"c3col_left\">codon</span></td><td><span class=\"c3col_left\">H04GGK</span></td><td><span class=\"c3col_left\">Huttley 2004 CpG substitution model. Includes a general term for substitutions to or from CpG's and an adjustment for CpG transitions. GA Huttley, 2004, Mol Biol Evol, 21(9):1760-8</span></td></tr>\n",
       "<tr><td><span class=\"c3col_left\">codon</span></td><td><span class=\"c3col_left\">GNC</span></td><td><span class=\"c3col_left\">General Nucleotide Codon, a non-reversible codon model. Kaehler, Yap, Huttley, 2017, Gen Biol Evol 9(1): 134–49</span></td></tr>\n",
       "<tr><td><span class=\"c3col_left\">protein</span></td><td><span class=\"c3col_left\">DSO78</span></td><td><span class=\"c3col_left\">Dayhoff et al 1978 empirical protein model Dayhoff, MO, Schwartz RM, and Orcutt, BC. 1978 A model of evolutionary change in proteins. Pp. 345-352. Atlas of protein sequence and structure, Vol 5, Suppl. 3. National Biomedical Research Foundation, Washington D. C Matrix imported from PAML dayhoff.dat file</span></td></tr>\n",
       "<tr><td><span class=\"c3col_left\">protein</span></td><td><span class=\"c3col_left\">JTT92</span></td><td><span class=\"c3col_left\">Jones, Taylor and Thornton 1992 empirical protein model Jones DT, Taylor WR, Thornton JM. The rapid generation of mutation data matrices from protein sequences. Comput Appl Biosci. 1992 Jun;8(3):275-82. Matrix imported from PAML jones.dat file</span></td></tr>\n",
       "<tr><td><span class=\"c3col_left\">protein</span></td><td><span class=\"c3col_left\">AH96</span></td><td><span class=\"c3col_left\">Adachi and Hasegawa 1996 empirical model for mitochondrial proteins. Adachi J, Hasegawa M. Model of amino acid substitution in proteins encoded by mitochondrial DNA. J Mol Evol. 1996 Apr;42(4):459-68. Matrix imported from PAML mtREV24.dat file</span></td></tr>\n",
       "<tr><td><span class=\"c3col_left\">protein</span></td><td><span class=\"c3col_left\">AH96_mtmammals</span></td><td><span class=\"c3col_left\">Adachi and Hasegawa 1996 empirical model for mammalian mitochondrial proteins. Adachi J, Hasegawa M. Model of amino acid substitution in proteins encoded by mitochondrial DNA. J Mol Evol. 1996 Apr;42(4):459-68. Matrix imported from PAML mtmam.dat file</span></td></tr>\n",
       "<tr><td><span class=\"c3col_left\">protein</span></td><td><span class=\"c3col_left\">WG01</span></td><td><span class=\"c3col_left\">Whelan and Goldman 2001 empirical model for globular proteins. Whelan S, Goldman N. A general empirical model of protein evolution derived from multiple protein families using a maximum-likelihood approach. Mol Biol Evol. 2001 May;18(5):691-9. Matrix imported from PAML wag.dat file</span></td></tr>\n",
       "</tbody>\n",
       "</table>\n",
       "<p>\n",
       "25 rows x 3 columns</p>\n",
       "</div>"
      ],
      "text/plain": [
       "Specify a model using 'Abbreviation' (case sensitive).\n",
       "================================================================================================================================================================================================================================================================================================================================================\n",
       "Model Type    Abbreviation      Description                                                                                                                                                                                                                                                                                                     \n",
       "------------------------------------------------------------------------------------------------------------------------------------------------------------------------------------------------------------------------------------------------------------------------------------------------------------------------------------------------\n",
       "nucleotide    BH                Barry and Hartigan Discrete Time substitution model Barry and Hartigan 1987. Biometrics 43: 261–76.                                                                                                                                                                                                             \n",
       "nucleotide    DT                Discrete Time substitution model (non-stationary, non-reversible). motif_length=2 makes this a dinucleotide model, motif_length=3 a trinucleotide model.                                                                                                                                                        \n",
       "nucleotide    GN                General Markov Nucleotide (non-stationary, non-reversible). Kaehler, Yap, Zhang, Huttley, 2015, Sys Biol 64 (2): 281–93                                                                                                                                                                                         \n",
       "nucleotide    ssGN              strand-symmetric general Markov nucleotide (non-stationary, non-reversible). Kaehler, 2017, Journal of Theoretical Biology 420: 144–51                                                                                                                                                                          \n",
       "nucleotide    K80               Kimura 1980                                                                                                                                                                                                                                                                                                     \n",
       "nucleotide    JC69              Jukes and Cantor's 1969 model                                                                                                                                                                                                                                                                                   \n",
       "nucleotide    GTR               General Time Reversible nucleotide substitution model.                                                                                                                                                                                                                                                          \n",
       "nucleotide    TN93              Tamura and Nei 1993 model                                                                                                                                                                                                                                                                                       \n",
       "nucleotide    HKY85             Hasegawa, Kishino and Yano 1985 model                                                                                                                                                                                                                                                                           \n",
       "nucleotide    F81               Felsenstein's 1981 model                                                                                                                                                                                                                                                                                        \n",
       "codon         CNFGTR            Conditional nucleotide frequency codon substitution model, GTR variant (with params analagous to the nucleotide GTR model). Yap, Lindsay, Easteal and Huttley, 2010, Mol Biol Evol 27: 726-734                                                                                                                  \n",
       "codon         CNFHKY            Conditional nucleotide frequency codon substitution model, HKY variant (with kappa, the ratio of transitions to transversions) Yap, Lindsay, Easteal and Huttley, 2010, Mol Biol Evol 27: 726-734                                                                                                               \n",
       "codon         MG94HKY           Muse and Gaut 1994 codon substitution model, HKY variant (with kappa, the ratio of transitions to transversions) Muse and Gaut, 1994, Mol Biol Evol, 11, 715-24                                                                                                                                                 \n",
       "codon         MG94GTR           Muse and Gaut 1994 codon substitution model, GTR variant (with params analagous to the nucleotide GTR model) Muse and Gaut, 1994, Mol Biol Evol, 11, 715-24                                                                                                                                                     \n",
       "codon         GY94              Goldman and Yang 1994 codon substitution model. N Goldman and Z Yang, 1994, Mol Biol Evol, 11(5):725-36.                                                                                                                                                                                                        \n",
       "codon         Y98               Yang's 1998 substitution model, a derivative of the GY94. Z Yang, 1998, Mol Biol Evol, 15(5):568-73                                                                                                                                                                                                             \n",
       "codon         H04G              Huttley 2004 CpG substitution model. Includes a term for substitutions to or from CpG's. GA Huttley, 2004, Mol Biol Evol, 21(9):1760-8                                                                                                                                                                          \n",
       "codon         H04GK             Huttley 2004 CpG substitution model. Includes a term for transition substitutions to or from CpG's. GA Huttley, 2004, Mol Biol Evol, 21(9):1760-8                                                                                                                                                               \n",
       "codon         H04GGK            Huttley 2004 CpG substitution model. Includes a general term for substitutions to or from CpG's and an adjustment for CpG transitions. GA Huttley, 2004, Mol Biol Evol, 21(9):1760-8                                                                                                                            \n",
       "codon         GNC               General Nucleotide Codon, a non-reversible codon model. Kaehler, Yap, Huttley, 2017, Gen Biol Evol 9(1): 134–49                                                                                                                                                                                                 \n",
       "protein       DSO78             Dayhoff et al 1978 empirical protein model Dayhoff, MO, Schwartz RM, and Orcutt, BC. 1978 A model of evolutionary change in proteins. Pp. 345-352. Atlas of protein sequence and structure, Vol 5, Suppl. 3. National Biomedical Research Foundation, Washington D. C Matrix imported from PAML dayhoff.dat file\n",
       "protein       JTT92             Jones, Taylor and Thornton 1992 empirical protein model Jones DT, Taylor WR, Thornton JM. The rapid generation of mutation data matrices from protein sequences. Comput Appl Biosci. 1992 Jun;8(3):275-82. Matrix imported from PAML jones.dat file                                                             \n",
       "protein       AH96              Adachi and Hasegawa 1996 empirical model for mitochondrial proteins. Adachi J, Hasegawa M. Model of amino acid substitution in proteins encoded by mitochondrial DNA. J Mol Evol. 1996 Apr;42(4):459-68. Matrix imported from PAML mtREV24.dat file                                                             \n",
       "protein       AH96_mtmammals    Adachi and Hasegawa 1996 empirical model for mammalian mitochondrial proteins. Adachi J, Hasegawa M. Model of amino acid substitution in proteins encoded by mitochondrial DNA. J Mol Evol. 1996 Apr;42(4):459-68. Matrix imported from PAML mtmam.dat file                                                     \n",
       "protein       WG01              Whelan and Goldman 2001 empirical model for globular proteins. Whelan S, Goldman N. A general empirical model of protein evolution derived from multiple protein families using a maximum-likelihood approach. Mol Biol Evol. 2001 May;18(5):691-9. Matrix imported from PAML wag.dat file                      \n",
       "------------------------------------------------------------------------------------------------------------------------------------------------------------------------------------------------------------------------------------------------------------------------------------------------------------------------------------------------\n",
       "\n",
       "25 rows x 3 columns"
      ]
     },
     "execution_count": 15,
     "metadata": {},
     "output_type": "execute_result"
    }
   ],
   "source": [
    "from cogent3 import available_models\n",
    "available_models(model_types=None)"
   ]
  }
 ],
 "metadata": {
  "kernelspec": {
   "display_name": "c312",
   "language": "python",
   "name": "python3"
  },
  "language_info": {
   "codemirror_mode": {
    "name": "ipython",
    "version": 3
   },
   "file_extension": ".py",
   "mimetype": "text/x-python",
   "name": "python",
   "nbconvert_exporter": "python",
   "pygments_lexer": "ipython3",
   "version": "3.12.1"
  }
 },
 "nbformat": 4,
 "nbformat_minor": 2
}
