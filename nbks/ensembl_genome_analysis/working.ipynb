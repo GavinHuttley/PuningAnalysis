{
 "cells": [
  {
   "cell_type": "code",
   "execution_count": 1,
   "metadata": {},
   "outputs": [],
   "source": [
    "import numpy as np\n",
    "import scipy\n",
    "from clock_project.simulation.magnitude_quantification import calculate_information\n",
    "import scipy\n",
    "import json\n",
    "from cogent3.util.deserialise import deserialise_object\n",
    "import numpy as np\n",
    "import os\n",
    "import glob\n",
    "from cogent3 import get_app\n",
    "\n",
    "import plotly.express as px\n",
    "from cogent3.maths.measure import jsd\n",
    "from cogent3.app.composable import define_app, NotCompleted\n"
   ]
  },
  {
   "cell_type": "code",
   "execution_count": 2,
   "metadata": {},
   "outputs": [],
   "source": [
    "from cogent3.app.typing import UnalignedSeqsType, HypothesisResultType, SerialisableType, IdentifierType\n",
    "@define_app\n",
    "def too_many_ambigs(seqs: UnalignedSeqsType, frac=0.05) -> UnalignedSeqsType:\n",
    "    w_ambig = seqs.get_lengths(include_ambiguity=True)\n",
    "    wo_ambig = seqs.get_lengths(include_ambiguity=False)\n",
    "    keep = {name for name in wo_ambig.keys() if wo_ambig[name] / w_ambig[name] >= 1 - frac}\n",
    "    return seqs.take_seqs(keep)\n",
    "\n",
    "# filter = too_many_ambigs(0.2)"
   ]
  },
  {
   "cell_type": "code",
   "execution_count": 3,
   "metadata": {},
   "outputs": [],
   "source": [
    "loader = get_app(\"load_unaligned\", format=\"fasta\", moltype=\"dna\")\n",
    "codon_aligner = get_app(\"progressive_align\", \"codon\", unique_guides=True)\n"
   ]
  },
  {
   "cell_type": "code",
   "execution_count": 10,
   "metadata": {},
   "outputs": [
    {
     "ename": "KeyboardInterrupt",
     "evalue": "",
     "output_type": "error",
     "traceback": [
      "\u001b[0;31m---------------------------------------------------------------------------\u001b[0m",
      "\u001b[0;31mKeyboardInterrupt\u001b[0m                         Traceback (most recent call last)",
      "Cell \u001b[0;32mIn[10], line 14\u001b[0m\n\u001b[1;32m     12\u001b[0m aln_paths \u001b[38;5;241m=\u001b[39m glob\u001b[38;5;241m.\u001b[39mglob(os\u001b[38;5;241m.\u001b[39mpath\u001b[38;5;241m.\u001b[39mjoin(gene_path, \u001b[38;5;124m'\u001b[39m\u001b[38;5;124m*.json\u001b[39m\u001b[38;5;124m'\u001b[39m))\n\u001b[1;32m     13\u001b[0m \u001b[38;5;28;01mfor\u001b[39;00m i \u001b[38;5;129;01min\u001b[39;00m \u001b[38;5;28mrange\u001b[39m(\u001b[38;5;28mlen\u001b[39m(aln_paths)):\n\u001b[0;32m---> 14\u001b[0m     aln \u001b[38;5;241m=\u001b[39m \u001b[43mdeserialise_object\u001b[49m\u001b[43m(\u001b[49m\u001b[43mjson\u001b[49m\u001b[38;5;241;43m.\u001b[39;49m\u001b[43mload\u001b[49m\u001b[43m(\u001b[49m\u001b[38;5;28;43mopen\u001b[39;49m\u001b[43m(\u001b[49m\u001b[43maln_paths\u001b[49m\u001b[43m[\u001b[49m\u001b[43mi\u001b[49m\u001b[43m]\u001b[49m\u001b[43m,\u001b[49m\u001b[43m \u001b[49m\u001b[38;5;124;43m'\u001b[39;49m\u001b[38;5;124;43mr\u001b[39;49m\u001b[38;5;124;43m'\u001b[39;49m\u001b[43m)\u001b[49m\u001b[43m)\u001b[49m\u001b[43m)\u001b[49m\n\u001b[1;32m     15\u001b[0m     alignment_quality_list\u001b[38;5;241m.\u001b[39mappend(aln\u001b[38;5;241m.\u001b[39malignment_quality())\n\u001b[1;32m     16\u001b[0m alignment_quality_dict[gene_name] \u001b[38;5;241m=\u001b[39m alignment_quality_list\n",
      "File \u001b[0;32m~/opt/anaconda3/envs/c312/lib/python3.12/site-packages/cogent3/util/deserialise.py:404\u001b[0m, in \u001b[0;36mdeserialise_object\u001b[0;34m(data)\u001b[0m\n\u001b[1;32m    401\u001b[0m     msg \u001b[38;5;241m=\u001b[39m \u001b[38;5;124mf\u001b[39m\u001b[38;5;124m\"\u001b[39m\u001b[38;5;124mdeserialising \u001b[39m\u001b[38;5;124m'\u001b[39m\u001b[38;5;132;01m{\u001b[39;00mtype_\u001b[38;5;132;01m}\u001b[39;00m\u001b[38;5;124m'\u001b[39m\u001b[38;5;124m from json\u001b[39m\u001b[38;5;124m\"\u001b[39m\n\u001b[1;32m    402\u001b[0m     \u001b[38;5;28;01mraise\u001b[39;00m \u001b[38;5;167;01mNotImplementedError\u001b[39;00m(msg)\n\u001b[0;32m--> 404\u001b[0m \u001b[38;5;28;01mreturn\u001b[39;00m \u001b[43mfunc\u001b[49m\u001b[43m(\u001b[49m\u001b[43mdata\u001b[49m\u001b[43m)\u001b[49m\n",
      "File \u001b[0;32m~/opt/anaconda3/envs/c312/lib/python3.12/site-packages/cogent3/util/deserialise.py:281\u001b[0m, in \u001b[0;36mdeserialise_seq_collections\u001b[0;34m(data)\u001b[0m\n\u001b[1;32m    279\u001b[0m         seq \u001b[38;5;241m=\u001b[39m deserialise_aligned(v)\n\u001b[1;32m    280\u001b[0m     \u001b[38;5;28;01melse\u001b[39;00m:\n\u001b[0;32m--> 281\u001b[0m         seq \u001b[38;5;241m=\u001b[39m \u001b[43mdeserialise_seq\u001b[49m\u001b[43m(\u001b[49m\u001b[43mv\u001b[49m\u001b[43m,\u001b[49m\u001b[43m \u001b[49m\u001b[43maligned\u001b[49m\u001b[38;5;241;43m=\u001b[39;49m\u001b[43maligned\u001b[49m\u001b[43m)\u001b[49m\n\u001b[1;32m    282\u001b[0m     seqs\u001b[38;5;241m.\u001b[39mappend(seq)\n\u001b[1;32m    284\u001b[0m result \u001b[38;5;241m=\u001b[39m klass(seqs, \u001b[38;5;241m*\u001b[39m\u001b[38;5;241m*\u001b[39mdata)\n",
      "File \u001b[0;32m~/opt/anaconda3/envs/c312/lib/python3.12/site-packages/cogent3/util/deserialise.py:239\u001b[0m, in \u001b[0;36mdeserialise_seq\u001b[0;34m(data, aligned)\u001b[0m\n\u001b[1;32m    236\u001b[0m \u001b[38;5;28;01mif\u001b[39;00m \u001b[38;5;28misinstance\u001b[39m(data[\u001b[38;5;124m\"\u001b[39m\u001b[38;5;124mseq\u001b[39m\u001b[38;5;124m\"\u001b[39m], \u001b[38;5;28mdict\u001b[39m):\n\u001b[1;32m    237\u001b[0m     data \u001b[38;5;241m=\u001b[39m _from_seqview(data)\n\u001b[0;32m--> 239\u001b[0m result \u001b[38;5;241m=\u001b[39m \u001b[43mmake_seq\u001b[49m\u001b[43m(\u001b[49m\u001b[38;5;241;43m*\u001b[39;49m\u001b[38;5;241;43m*\u001b[39;49m\u001b[43mdata\u001b[49m\u001b[43m)\u001b[49m\n\u001b[1;32m    241\u001b[0m \u001b[38;5;28;01mif\u001b[39;00m annotation_db:\n\u001b[1;32m    242\u001b[0m     annotation_db \u001b[38;5;241m=\u001b[39m deserialise_object(annotation_db)\n",
      "File \u001b[0;32m~/opt/anaconda3/envs/c312/lib/python3.12/site-packages/cogent3/core/moltype.py:766\u001b[0m, in \u001b[0;36mMolType.make_seq\u001b[0;34m(self, seq, name, **kwargs)\u001b[0m\n\u001b[1;32m    764\u001b[0m \u001b[38;5;28;01mif\u001b[39;00m \u001b[38;5;28misinstance\u001b[39m(seq, ArraySequence):\n\u001b[1;32m    765\u001b[0m     seq \u001b[38;5;241m=\u001b[39m \u001b[38;5;28mstr\u001b[39m(seq)\n\u001b[0;32m--> 766\u001b[0m \u001b[38;5;28;01mreturn\u001b[39;00m \u001b[38;5;28;43mself\u001b[39;49m\u001b[38;5;241;43m.\u001b[39;49m\u001b[43m_make_seq\u001b[49m\u001b[43m(\u001b[49m\u001b[43mseq\u001b[49m\u001b[38;5;241;43m=\u001b[39;49m\u001b[38;5;28;43mself\u001b[39;49m\u001b[38;5;241;43m.\u001b[39;49m\u001b[43mcoerce_str\u001b[49m\u001b[43m(\u001b[49m\u001b[43mseq\u001b[49m\u001b[43m)\u001b[49m\u001b[43m,\u001b[49m\u001b[43m \u001b[49m\u001b[43mname\u001b[49m\u001b[38;5;241;43m=\u001b[39;49m\u001b[43mname\u001b[49m\u001b[43m,\u001b[49m\u001b[43m \u001b[49m\u001b[38;5;241;43m*\u001b[39;49m\u001b[38;5;241;43m*\u001b[39;49m\u001b[43mkwargs\u001b[49m\u001b[43m)\u001b[49m\n",
      "File \u001b[0;32m~/opt/anaconda3/envs/c312/lib/python3.12/site-packages/cogent3/core/sequence.py:838\u001b[0m, in \u001b[0;36mSequence.__init__\u001b[0;34m(self, seq, name, info, check, preserve_case, gaps_allowed, wildcards_allowed, annotation_offset)\u001b[0m\n\u001b[1;32m    835\u001b[0m \u001b[38;5;28mself\u001b[39m\u001b[38;5;241m.\u001b[39minfo \u001b[38;5;241m=\u001b[39m info\n\u001b[1;32m    837\u001b[0m \u001b[38;5;28mself\u001b[39m\u001b[38;5;241m.\u001b[39m_repr_policy \u001b[38;5;241m=\u001b[39m \u001b[38;5;28mdict\u001b[39m(num_pos\u001b[38;5;241m=\u001b[39m\u001b[38;5;241m60\u001b[39m)\n\u001b[0;32m--> 838\u001b[0m \u001b[38;5;28mself\u001b[39m\u001b[38;5;241m.\u001b[39m_annotation_db \u001b[38;5;241m=\u001b[39m \u001b[43mDEFAULT_ANNOTATION_DB\u001b[49m\u001b[43m(\u001b[49m\u001b[43m)\u001b[49m\n\u001b[1;32m    839\u001b[0m \u001b[38;5;28mself\u001b[39m\u001b[38;5;241m.\u001b[39mannotation_offset \u001b[38;5;241m=\u001b[39m annotation_offset\n",
      "File \u001b[0;32m~/opt/anaconda3/envs/c312/lib/python3.12/site-packages/cogent3/core/annotation_db.py:1231\u001b[0m, in \u001b[0;36mBasicAnnotationDb.__init__\u001b[0;34m(self, data, db, source)\u001b[0m\n\u001b[1;32m   1229\u001b[0m \u001b[38;5;28mself\u001b[39m\u001b[38;5;241m.\u001b[39msource \u001b[38;5;241m=\u001b[39m source\n\u001b[1;32m   1230\u001b[0m \u001b[38;5;28mself\u001b[39m\u001b[38;5;241m.\u001b[39m_db \u001b[38;5;241m=\u001b[39m \u001b[38;5;28;01mNone\u001b[39;00m\n\u001b[0;32m-> 1231\u001b[0m \u001b[38;5;28;43mself\u001b[39;49m\u001b[38;5;241;43m.\u001b[39;49m\u001b[43m_setup_db\u001b[49m\u001b[43m(\u001b[49m\u001b[43mdb\u001b[49m\u001b[43m)\u001b[49m\n\u001b[1;32m   1233\u001b[0m \u001b[38;5;28mself\u001b[39m\u001b[38;5;241m.\u001b[39madd_records(data)\n",
      "File \u001b[0;32m~/opt/anaconda3/envs/c312/lib/python3.12/site-packages/cogent3/core/annotation_db.py:628\u001b[0m, in \u001b[0;36mSqliteAnnotationDbMixin._setup_db\u001b[0;34m(self, db)\u001b[0m\n\u001b[1;32m    625\u001b[0m \u001b[38;5;28;01mif\u001b[39;00m db \u001b[38;5;129;01mand\u001b[39;00m \u001b[38;5;129;01mnot\u001b[39;00m \u001b[38;5;28mself\u001b[39m\u001b[38;5;241m.\u001b[39mcompatible(db):\n\u001b[1;32m    626\u001b[0m     \u001b[38;5;28;01mraise\u001b[39;00m \u001b[38;5;167;01mTypeError\u001b[39;00m(\u001b[38;5;124mf\u001b[39m\u001b[38;5;124m\"\u001b[39m\u001b[38;5;124mcannot initialise annotation db from \u001b[39m\u001b[38;5;132;01m{\u001b[39;00m\u001b[38;5;28mtype\u001b[39m(db)\u001b[38;5;132;01m}\u001b[39;00m\u001b[38;5;124m\"\u001b[39m)\n\u001b[0;32m--> 628\u001b[0m \u001b[38;5;28;43mself\u001b[39;49m\u001b[38;5;241;43m.\u001b[39;49m\u001b[43m_init_tables\u001b[49m\u001b[43m(\u001b[49m\u001b[43m)\u001b[49m\n\u001b[1;32m    630\u001b[0m \u001b[38;5;28;01mif\u001b[39;00m db \u001b[38;5;129;01mand\u001b[39;00m \u001b[38;5;28mlen\u001b[39m(db):\n\u001b[1;32m    631\u001b[0m     \u001b[38;5;66;03m# update self with data from other\u001b[39;00m\n\u001b[1;32m    632\u001b[0m     \u001b[38;5;28mself\u001b[39m\u001b[38;5;241m.\u001b[39mupdate(db)\n",
      "File \u001b[0;32m~/opt/anaconda3/envs/c312/lib/python3.12/site-packages/cogent3/core/annotation_db.py:640\u001b[0m, in \u001b[0;36mSqliteAnnotationDbMixin._init_tables\u001b[0;34m(self)\u001b[0m\n\u001b[1;32m    638\u001b[0m attr \u001b[38;5;241m=\u001b[39m \u001b[38;5;28mgetattr\u001b[39m(\u001b[38;5;28mself\u001b[39m, \u001b[38;5;124mf\u001b[39m\u001b[38;5;124m\"\u001b[39m\u001b[38;5;124m_\u001b[39m\u001b[38;5;132;01m{\u001b[39;00mtable_name\u001b[38;5;132;01m}\u001b[39;00m\u001b[38;5;124m_schema\u001b[39m\u001b[38;5;124m\"\u001b[39m)\n\u001b[1;32m    639\u001b[0m sql \u001b[38;5;241m=\u001b[39m _make_table_sql(table_name, attr)\n\u001b[0;32m--> 640\u001b[0m \u001b[38;5;28;43mself\u001b[39;49m\u001b[38;5;241;43m.\u001b[39;49m\u001b[43m_execute_sql\u001b[49m\u001b[43m(\u001b[49m\u001b[43msql\u001b[49m\u001b[43m)\u001b[49m\n",
      "File \u001b[0;32m~/opt/anaconda3/envs/c312/lib/python3.12/site-packages/cogent3/core/annotation_db.py:663\u001b[0m, in \u001b[0;36mSqliteAnnotationDbMixin._execute_sql\u001b[0;34m(self, cmnd, values)\u001b[0m\n\u001b[1;32m    662\u001b[0m \u001b[38;5;28;01mdef\u001b[39;00m \u001b[38;5;21m_execute_sql\u001b[39m(\u001b[38;5;28mself\u001b[39m, cmnd, values\u001b[38;5;241m=\u001b[39m\u001b[38;5;28;01mNone\u001b[39;00m):\n\u001b[0;32m--> 663\u001b[0m     \u001b[38;5;28;01mwith\u001b[39;00m \u001b[38;5;28;43mself\u001b[39;49m\u001b[38;5;241;43m.\u001b[39;49m\u001b[43mdb\u001b[49m:\n\u001b[1;32m    664\u001b[0m         \u001b[38;5;66;03m# context manager ensures safe transactions\u001b[39;00m\n\u001b[1;32m    665\u001b[0m         cursor \u001b[38;5;241m=\u001b[39m \u001b[38;5;28mself\u001b[39m\u001b[38;5;241m.\u001b[39mdb\u001b[38;5;241m.\u001b[39mcursor()\n\u001b[1;32m    666\u001b[0m         cursor\u001b[38;5;241m.\u001b[39mexecute(cmnd, values \u001b[38;5;129;01mor\u001b[39;00m [])\n",
      "File \u001b[0;32m~/opt/anaconda3/envs/c312/lib/python3.12/site-packages/cogent3/core/annotation_db.py:658\u001b[0m, in \u001b[0;36mSqliteAnnotationDbMixin.db\u001b[0;34m(self)\u001b[0m\n\u001b[1;32m    655\u001b[0m     \u001b[38;5;28mself\u001b[39m\u001b[38;5;241m.\u001b[39m_db\u001b[38;5;241m.\u001b[39mrow_factory \u001b[38;5;241m=\u001b[39m sqlite3\u001b[38;5;241m.\u001b[39mRow\n\u001b[1;32m    657\u001b[0m     \u001b[38;5;28;01mfor\u001b[39;00m table_name \u001b[38;5;129;01min\u001b[39;00m \u001b[38;5;28mself\u001b[39m\u001b[38;5;241m.\u001b[39mtable_names:\n\u001b[0;32m--> 658\u001b[0m         \u001b[43m_rename_column_if_exists\u001b[49m\u001b[43m(\u001b[49m\u001b[38;5;28;43mself\u001b[39;49m\u001b[38;5;241;43m.\u001b[39;49m\u001b[43m_db\u001b[49m\u001b[43m,\u001b[49m\u001b[43m \u001b[49m\u001b[43mtable_name\u001b[49m\u001b[43m,\u001b[49m\u001b[43m \u001b[49m\u001b[38;5;124;43m\"\u001b[39;49m\u001b[38;5;124;43mend\u001b[39;49m\u001b[38;5;124;43m\"\u001b[39;49m\u001b[43m,\u001b[49m\u001b[43m \u001b[49m\u001b[38;5;124;43m\"\u001b[39;49m\u001b[38;5;124;43mstop\u001b[39;49m\u001b[38;5;124;43m\"\u001b[39;49m\u001b[43m)\u001b[49m\n\u001b[1;32m    660\u001b[0m \u001b[38;5;28;01mreturn\u001b[39;00m \u001b[38;5;28mself\u001b[39m\u001b[38;5;241m.\u001b[39m_db\n",
      "File \u001b[0;32m~/opt/anaconda3/envs/c312/lib/python3.12/site-packages/cogent3/core/annotation_db.py:512\u001b[0m, in \u001b[0;36m_rename_column_if_exists\u001b[0;34m(db, table_name, old_column, new_column)\u001b[0m\n\u001b[1;32m    498\u001b[0m \u001b[38;5;250m\u001b[39m\u001b[38;5;124;03m\"\"\"Rename a column in a sqlite3 database only if it exists.\u001b[39;00m\n\u001b[1;32m    499\u001b[0m \n\u001b[1;32m    500\u001b[0m \u001b[38;5;124;03mParameters\u001b[39;00m\n\u001b[0;32m   (...)\u001b[0m\n\u001b[1;32m    509\u001b[0m \u001b[38;5;124;03m    the new name of old_column\u001b[39;00m\n\u001b[1;32m    510\u001b[0m \u001b[38;5;124;03m\"\"\"\u001b[39;00m\n\u001b[1;32m    511\u001b[0m cur \u001b[38;5;241m=\u001b[39m db\u001b[38;5;241m.\u001b[39mcursor()\n\u001b[0;32m--> 512\u001b[0m table_info \u001b[38;5;241m=\u001b[39m \u001b[43mcur\u001b[49m\u001b[38;5;241;43m.\u001b[39;49m\u001b[43mexecute\u001b[49m\u001b[43m(\u001b[49m\u001b[38;5;124;43mf\u001b[39;49m\u001b[38;5;124;43m\"\u001b[39;49m\u001b[38;5;124;43mPRAGMA table_info(\u001b[39;49m\u001b[38;5;132;43;01m{\u001b[39;49;00m\u001b[43mtable_name\u001b[49m\u001b[38;5;132;43;01m}\u001b[39;49;00m\u001b[38;5;124;43m);\u001b[39;49m\u001b[38;5;124;43m\"\u001b[39;49m\u001b[43m)\u001b[49m\u001b[38;5;241m.\u001b[39mfetchall()\n\u001b[1;32m    514\u001b[0m \u001b[38;5;66;03m# Check if the column exists\u001b[39;00m\n\u001b[1;32m    515\u001b[0m \u001b[38;5;28;01mfor\u001b[39;00m column_info \u001b[38;5;129;01min\u001b[39;00m table_info:\n",
      "\u001b[0;31mKeyboardInterrupt\u001b[0m: "
     ]
    }
   ],
   "source": [
    "base_dir = '/Users/gulugulu/Desktop/honours/data_local/whole_genome_mammal87/triples_model_fitting_350_threshold'\n",
    "gene_paths = glob.glob(os.path.join(base_dir, '*/'))\n",
    "alignment_dir = '/Users/gulugulu/repos/PuningAnalysis/data/ensembl_ortholog_sequences/homologies_alignment_common_name_350_threshold'\n",
    "gene_aln_paths = glob.glob(os.path.join(alignment_dir, '*.json'))\n",
    "\n",
    "paths = '/Users/gulugulu/Desktop/honours/data_local/whole_genome_mammal87/triples_alignment_350_threshold/'\n",
    "gene_paths = glob.glob(os.path.join(paths, '*/'))\n",
    "alignment_quality_dict = {}\n",
    "for gene_path in gene_paths:\n",
    "    alignment_quality_list = []\n",
    "    gene_name = os.path.basename(gene_path.rstrip('/'))\n",
    "    aln_paths = glob.glob(os.path.join(gene_path, '*.json'))\n",
    "    for i in range(len(aln_paths)):\n",
    "        aln = deserialise_object(json.load(open(aln_paths[i], 'r')))\n",
    "        alignment_quality_list.append(aln.alignment_quality())\n",
    "    alignment_quality_dict[gene_name] = alignment_quality_list\n",
    "        "
   ]
  },
  {
   "cell_type": "code",
   "execution_count": 44,
   "metadata": {},
   "outputs": [
    {
     "name": "stdout",
     "output_type": "stream",
     "text": [
      "ENSG00000138315 900.1331386487989\n",
      "ENSG00000143479 938.798267348283\n",
      "ENSG00000117707 1302.18226648796\n",
      "ENSG00000155380 822.2085839451365\n",
      "ENSG00000183801 663.7507440497105\n",
      "ENSG00000149782 1993.8111890308949\n",
      "ENSG00000107560 885.5761608583209\n",
      "ENSG00000110344 1868.7406373636363\n",
      "ENSG00000111262 904.3828970311353\n",
      "ENSG00000120457 696.5060138293431\n",
      "ENSG00000143105 882.7584325426644\n",
      "ENSG00000135372 1678.6390598094752\n",
      "ENSG00000171492 1439.5747808434478\n",
      "ENSG00000197147 1317.003108271381\n",
      "ENSG00000148948 1145.439370217685\n",
      "ENSG00000116991 2639.8885544255054\n",
      "ENSG00000165494 2791.8336383860706\n",
      "ENSG00000174576 1386.682505097766\n",
      "ENSG00000149295 779.0068129632482\n",
      "ENSG00000185085 1739.0167938687025\n",
      "ENSG00000198198 5556.257233593411\n",
      "ENSG00000133816 1601.567316620108\n",
      "ENSG00000116194 843.447451824149\n",
      "ENSG00000171862 759.1386087158572\n",
      "ENSG00000185875 1241.5148048787355\n",
      "ENSG00000135775 1080.2905845460646\n",
      "ENSG00000198162 1058.2687825125333\n",
      "ENSG00000172409 716.6770449210414\n",
      "ENSG00000172269 715.2709839752561\n",
      "ENSG00000197106 1277.0669112588535\n",
      "ENSG00000156097 769.1425888142439\n",
      "ENSG00000058085 1951.784068726134\n",
      "ENSG00000187554 1352.3238052576985\n",
      "ENSG00000265203 1992.0541434186491\n",
      "ENSG00000110075 1462.4503034786753\n",
      "ENSG00000197136 3167.4709728227053\n",
      "ENSG00000171488 1323.4609259328595\n",
      "ENSG00000148700 1167.9947636062398\n",
      "ENSG00000142661 2263.77817753173\n",
      "ENSG00000160703 1597.9420702565249\n",
      "ENSG00000196878 1813.610566522219\n",
      "ENSG00000117000 3228.3298637949447\n",
      "ENSG00000109906 1124.83342076384\n",
      "ENSG00000129159 987.006648060172\n",
      "ENSG00000010165 1208.3345393456577\n",
      "ENSG00000116128 2495.487738467328\n",
      "ENSG00000171812 1130.5132445682555\n",
      "ENSG00000048707 7120.0473143697045\n",
      "ENSG00000138161 970.8668866577143\n",
      "ENSG00000152778 853.028163848834\n",
      "ENSG00000166189 1296.8337971718622\n",
      "ENSG00000196968 806.2041219322517\n",
      "ENSG00000174684 710.6608149069937\n",
      "ENSG00000166341 5328.778882025756\n",
      "ENSG00000117322 1663.989639530769\n",
      "ENSG00000152779 822.2920117124396\n",
      "ENSG00000065613 2113.1755728133903\n",
      "ENSG00000143669 5628.488305353442\n",
      "ENSG00000129083 1665.8539532799296\n",
      "ENSG00000166349 1699.3010091838553\n",
      "ENSG00000215009 955.7534210302437\n",
      "ENSG00000187486 658.6794236150283\n",
      "ENSG00000143278 1051.2642154578036\n",
      "ENSG00000181333 1925.9071326284218\n",
      "ENSG00000073756 965.1098089339371\n",
      "ENSG00000254685 993.3499165146984\n",
      "ENSG00000166106 1553.9685597041278\n",
      "ENSG00000160695 1601.1436470719536\n",
      "ENSG00000116679 1149.3261656298125\n",
      "ENSG00000137507 1089.8967883171015\n",
      "ENSG00000166507 1524.8253356165878\n",
      "ENSG00000133019 986.0024943580904\n",
      "ENSG00000116539 4231.9661704228165\n",
      "ENSG00000020129 1254.6172493021477\n",
      "ENSG00000174516 759.7539455283677\n",
      "ENSG00000283703 1257.3424072126513\n",
      "ENSG00000150347 1946.8250965573695\n",
      "ENSG00000198561 1654.0208033680735\n",
      "ENSG00000109927 3663.0090232401208\n",
      "ENSG00000107815 1044.6494632980823\n",
      "ENSG00000185278 879.0991369827466\n",
      "ENSG00000126705 2530.534190061744\n",
      "ENSG00000170382 1163.9278012324778\n",
      "ENSG00000186603 588.3457292535263\n",
      "ENSG00000198739 1011.6469663436078\n",
      "ENSG00000257315 1707.689418305497\n",
      "ENSG00000143368 733.4698696688198\n",
      "ENSG00000198730 1962.4133172365125\n",
      "ENSG00000175097 916.6667260463288\n",
      "ENSG00000116199 713.3834950113228\n",
      "ENSG00000183340 901.3056666606635\n",
      "ENSG00000198797 1340.2188795127554\n",
      "ENSG00000143107 1145.426153885204\n",
      "ENSG00000233436 1152.8452396256694\n",
      "ENSG00000170322 2088.3990864697025\n",
      "ENSG00000154143 674.7429582550743\n",
      "ENSG00000007933 860.5779962981259\n",
      "ENSG00000214655 3054.3886880719083\n",
      "ENSG00000151079 883.0657840039099\n",
      "ENSG00000182022 941.9654909494546\n",
      "ENSG00000152092 2089.944528824742\n",
      "ENSG00000157184 1087.7504265128457\n",
      "ENSG00000248746 1508.688639130137\n",
      "ENSG00000116183 2885.5301918851605\n",
      "ENSG00000154309 2270.541776268508\n",
      "ENSG00000187151 680.3079095935265\n",
      "ENSG00000169641 1751.9321764420274\n",
      "ENSG00000123836 846.094129995361\n",
      "ENSG00000107862 3181.5167773384974\n",
      "ENSG00000162630 735.6379009767483\n",
      "ENSG00000042781 6456.110082012469\n",
      "ENSG00000168539 793.9279774508879\n",
      "ENSG00000180720 809.6334735539596\n",
      "ENSG00000236287 1262.6876126242998\n",
      "ENSG00000064309 1980.2823247272433\n",
      "ENSG00000162711 1540.536023106661\n",
      "ENSG00000087365 1457.0134654072688\n",
      "ENSG00000091664 991.192210170198\n",
      "ENSG00000127124 3746.895142373372\n",
      "ENSG00000173456 751.3119728714635\n",
      "ENSG00000159164 1253.689484514195\n",
      "ENSG00000173898 3939.4199019298126\n",
      "ENSG00000119285 3478.464814845525\n",
      "ENSG00000162775 1671.4263074847731\n",
      "ENSG00000023839 2511.0141307012764\n",
      "ENSG00000177853 2434.4676692998064\n",
      "ENSG00000176986 1991.242030376264\n"
     ]
    }
   ],
   "source": [
    "for gene, score_list in alignment_quality_dict.items():\n",
    "    print(gene, np.mean(score_list))"
   ]
  },
  {
   "cell_type": "code",
   "execution_count": null,
   "metadata": {},
   "outputs": [],
   "source": [
    "import plotly.graph_objects as go\n",
    "from plotly.subplots import make_subplots\n",
    "\n",
    "def plot_gene_data(alignment_quality_dict):\n",
    "    keys = list(alignment_quality_dict.keys())\n",
    "    rows = int(len(keys) ** 0.5) + 1  # Calculate the number of rows for subplots\n",
    "    cols = (len(keys) + rows - 1) // rows  # Calculate the number of columns\n",
    "\n",
    "    fig = make_subplots(rows=rows, cols=cols, subplot_titles=[f'{key}' for key in keys])\n",
    "    \n",
    "    # Populate subplots\n",
    "    for key in keys:\n",
    "        \n",
    "        alignment_quality_list = alignment_quality_dict[key]\n",
    "        row = (index - 1) // cols + 1\n",
    "        col = (index - 1) % cols + 1\n",
    "        \n",
    "        fig.add_trace(\n",
    "            go.histogram(\n",
    "                x=alignment_quality_list,\n",
    "                name=f'{key}'\n",
    "            ),\n",
    "            row=row,\n",
    "            col=col\n",
    "        )\n",
    "        \n",
    "        # # Update axis properties\n",
    "        # fig.update_xaxes(title_text=xcol if row == rows else \"\", row=row, col=col)\n",
    "        # fig.update_yaxes(title_text=ycol if col == 1 else \"\", row=row, col=col)\n",
    "    \n",
    "    fig.update_layout(\n",
    "        height=300 * rows,  # Set a reasonable height based on the number of rows\n",
    "        width=300 * cols,   # Set a reasonable width based on the number of columns\n",
    "        showlegend=False\n",
    "    )\n",
    "    \n",
    "    return fig"
   ]
  },
  {
   "cell_type": "code",
   "execution_count": 99,
   "metadata": {},
   "outputs": [
    {
     "data": {
      "text/html": [
       "        <script type=\"text/javascript\">\n",
       "        window.PlotlyConfig = {MathJaxConfig: 'local'};\n",
       "        if (window.MathJax && window.MathJax.Hub && window.MathJax.Hub.Config) {window.MathJax.Hub.Config({SVG: {font: \"STIX-Web\"}});}\n",
       "        if (typeof require !== 'undefined') {\n",
       "        require.undef(\"plotly\");\n",
       "        requirejs.config({\n",
       "            paths: {\n",
       "                'plotly': ['https://cdn.plot.ly/plotly-2.27.0.min']\n",
       "            }\n",
       "        });\n",
       "        require(['plotly'], function(Plotly) {\n",
       "            window._Plotly = Plotly;\n",
       "        });\n",
       "        }\n",
       "        </script>\n",
       "        "
      ]
     },
     "metadata": {},
     "output_type": "display_data"
    },
    {
     "data": {
      "application/vnd.plotly.v1+json": {
       "config": {
        "plotlyServerURL": "https://plot.ly"
       },
       "data": [
        {
         "line": {
          "color": "blue"
         },
         "mode": "lines",
         "name": "+ strand",
         "showlegend": true,
         "type": "scatter",
         "x": [
          0,
          355,
          null,
          406,
          497,
          null,
          506,
          531,
          null,
          353,
          419,
          null,
          54,
          79,
          null,
          341,
          361,
          null,
          129,
          155,
          null,
          102,
          122,
          null,
          136,
          157,
          null,
          432,
          454,
          null,
          323,
          348,
          null,
          354,
          379,
          null,
          385,
          407
         ],
         "xaxis": "x",
         "y": [
          0,
          355,
          null,
          406,
          497,
          null,
          506,
          531,
          null,
          353,
          419,
          null,
          270,
          295,
          null,
          290,
          310,
          null,
          213,
          239,
          null,
          470,
          490,
          null,
          186,
          207,
          null,
          147,
          169,
          null,
          88,
          113,
          null,
          327,
          352,
          null,
          480,
          502
         ],
         "yaxis": "y"
        },
        {
         "line": {
          "color": "black",
          "dash": "dot"
         },
         "mode": "lines",
         "name": "Alignment",
         "showlegend": true,
         "type": "scatter",
         "x": [
          0.2,
          539.2
         ],
         "xaxis": "x",
         "y": [
          0,
          539
         ],
         "yaxis": "y"
        }
       ],
       "layout": {
        "autosize": false,
        "font": {
         "family": "Balto",
         "size": 14
        },
        "height": 500,
        "hovermode": "closest",
        "margin": {
         "b": 50,
         "l": 50,
         "pad": 4,
         "r": 50,
         "t": 50
        },
        "showlegend": true,
        "template": {
         "data": {
          "bar": [
           {
            "error_x": {
             "color": "#2a3f5f"
            },
            "error_y": {
             "color": "#2a3f5f"
            },
            "marker": {
             "line": {
              "color": "#E5ECF6",
              "width": 0.5
             },
             "pattern": {
              "fillmode": "overlay",
              "size": 10,
              "solidity": 0.2
             }
            },
            "type": "bar"
           }
          ],
          "barpolar": [
           {
            "marker": {
             "line": {
              "color": "#E5ECF6",
              "width": 0.5
             },
             "pattern": {
              "fillmode": "overlay",
              "size": 10,
              "solidity": 0.2
             }
            },
            "type": "barpolar"
           }
          ],
          "carpet": [
           {
            "aaxis": {
             "endlinecolor": "#2a3f5f",
             "gridcolor": "white",
             "linecolor": "white",
             "minorgridcolor": "white",
             "startlinecolor": "#2a3f5f"
            },
            "baxis": {
             "endlinecolor": "#2a3f5f",
             "gridcolor": "white",
             "linecolor": "white",
             "minorgridcolor": "white",
             "startlinecolor": "#2a3f5f"
            },
            "type": "carpet"
           }
          ],
          "choropleth": [
           {
            "colorbar": {
             "outlinewidth": 0,
             "ticks": ""
            },
            "type": "choropleth"
           }
          ],
          "contour": [
           {
            "colorbar": {
             "outlinewidth": 0,
             "ticks": ""
            },
            "colorscale": [
             [
              0,
              "#0d0887"
             ],
             [
              0.1111111111111111,
              "#46039f"
             ],
             [
              0.2222222222222222,
              "#7201a8"
             ],
             [
              0.3333333333333333,
              "#9c179e"
             ],
             [
              0.4444444444444444,
              "#bd3786"
             ],
             [
              0.5555555555555556,
              "#d8576b"
             ],
             [
              0.6666666666666666,
              "#ed7953"
             ],
             [
              0.7777777777777778,
              "#fb9f3a"
             ],
             [
              0.8888888888888888,
              "#fdca26"
             ],
             [
              1,
              "#f0f921"
             ]
            ],
            "type": "contour"
           }
          ],
          "contourcarpet": [
           {
            "colorbar": {
             "outlinewidth": 0,
             "ticks": ""
            },
            "type": "contourcarpet"
           }
          ],
          "heatmap": [
           {
            "colorbar": {
             "outlinewidth": 0,
             "ticks": ""
            },
            "colorscale": [
             [
              0,
              "#0d0887"
             ],
             [
              0.1111111111111111,
              "#46039f"
             ],
             [
              0.2222222222222222,
              "#7201a8"
             ],
             [
              0.3333333333333333,
              "#9c179e"
             ],
             [
              0.4444444444444444,
              "#bd3786"
             ],
             [
              0.5555555555555556,
              "#d8576b"
             ],
             [
              0.6666666666666666,
              "#ed7953"
             ],
             [
              0.7777777777777778,
              "#fb9f3a"
             ],
             [
              0.8888888888888888,
              "#fdca26"
             ],
             [
              1,
              "#f0f921"
             ]
            ],
            "type": "heatmap"
           }
          ],
          "heatmapgl": [
           {
            "colorbar": {
             "outlinewidth": 0,
             "ticks": ""
            },
            "colorscale": [
             [
              0,
              "#0d0887"
             ],
             [
              0.1111111111111111,
              "#46039f"
             ],
             [
              0.2222222222222222,
              "#7201a8"
             ],
             [
              0.3333333333333333,
              "#9c179e"
             ],
             [
              0.4444444444444444,
              "#bd3786"
             ],
             [
              0.5555555555555556,
              "#d8576b"
             ],
             [
              0.6666666666666666,
              "#ed7953"
             ],
             [
              0.7777777777777778,
              "#fb9f3a"
             ],
             [
              0.8888888888888888,
              "#fdca26"
             ],
             [
              1,
              "#f0f921"
             ]
            ],
            "type": "heatmapgl"
           }
          ],
          "histogram": [
           {
            "marker": {
             "pattern": {
              "fillmode": "overlay",
              "size": 10,
              "solidity": 0.2
             }
            },
            "type": "histogram"
           }
          ],
          "histogram2d": [
           {
            "colorbar": {
             "outlinewidth": 0,
             "ticks": ""
            },
            "colorscale": [
             [
              0,
              "#0d0887"
             ],
             [
              0.1111111111111111,
              "#46039f"
             ],
             [
              0.2222222222222222,
              "#7201a8"
             ],
             [
              0.3333333333333333,
              "#9c179e"
             ],
             [
              0.4444444444444444,
              "#bd3786"
             ],
             [
              0.5555555555555556,
              "#d8576b"
             ],
             [
              0.6666666666666666,
              "#ed7953"
             ],
             [
              0.7777777777777778,
              "#fb9f3a"
             ],
             [
              0.8888888888888888,
              "#fdca26"
             ],
             [
              1,
              "#f0f921"
             ]
            ],
            "type": "histogram2d"
           }
          ],
          "histogram2dcontour": [
           {
            "colorbar": {
             "outlinewidth": 0,
             "ticks": ""
            },
            "colorscale": [
             [
              0,
              "#0d0887"
             ],
             [
              0.1111111111111111,
              "#46039f"
             ],
             [
              0.2222222222222222,
              "#7201a8"
             ],
             [
              0.3333333333333333,
              "#9c179e"
             ],
             [
              0.4444444444444444,
              "#bd3786"
             ],
             [
              0.5555555555555556,
              "#d8576b"
             ],
             [
              0.6666666666666666,
              "#ed7953"
             ],
             [
              0.7777777777777778,
              "#fb9f3a"
             ],
             [
              0.8888888888888888,
              "#fdca26"
             ],
             [
              1,
              "#f0f921"
             ]
            ],
            "type": "histogram2dcontour"
           }
          ],
          "mesh3d": [
           {
            "colorbar": {
             "outlinewidth": 0,
             "ticks": ""
            },
            "type": "mesh3d"
           }
          ],
          "parcoords": [
           {
            "line": {
             "colorbar": {
              "outlinewidth": 0,
              "ticks": ""
             }
            },
            "type": "parcoords"
           }
          ],
          "pie": [
           {
            "automargin": true,
            "type": "pie"
           }
          ],
          "scatter": [
           {
            "fillpattern": {
             "fillmode": "overlay",
             "size": 10,
             "solidity": 0.2
            },
            "type": "scatter"
           }
          ],
          "scatter3d": [
           {
            "line": {
             "colorbar": {
              "outlinewidth": 0,
              "ticks": ""
             }
            },
            "marker": {
             "colorbar": {
              "outlinewidth": 0,
              "ticks": ""
             }
            },
            "type": "scatter3d"
           }
          ],
          "scattercarpet": [
           {
            "marker": {
             "colorbar": {
              "outlinewidth": 0,
              "ticks": ""
             }
            },
            "type": "scattercarpet"
           }
          ],
          "scattergeo": [
           {
            "marker": {
             "colorbar": {
              "outlinewidth": 0,
              "ticks": ""
             }
            },
            "type": "scattergeo"
           }
          ],
          "scattergl": [
           {
            "marker": {
             "colorbar": {
              "outlinewidth": 0,
              "ticks": ""
             }
            },
            "type": "scattergl"
           }
          ],
          "scattermapbox": [
           {
            "marker": {
             "colorbar": {
              "outlinewidth": 0,
              "ticks": ""
             }
            },
            "type": "scattermapbox"
           }
          ],
          "scatterpolar": [
           {
            "marker": {
             "colorbar": {
              "outlinewidth": 0,
              "ticks": ""
             }
            },
            "type": "scatterpolar"
           }
          ],
          "scatterpolargl": [
           {
            "marker": {
             "colorbar": {
              "outlinewidth": 0,
              "ticks": ""
             }
            },
            "type": "scatterpolargl"
           }
          ],
          "scatterternary": [
           {
            "marker": {
             "colorbar": {
              "outlinewidth": 0,
              "ticks": ""
             }
            },
            "type": "scatterternary"
           }
          ],
          "surface": [
           {
            "colorbar": {
             "outlinewidth": 0,
             "ticks": ""
            },
            "colorscale": [
             [
              0,
              "#0d0887"
             ],
             [
              0.1111111111111111,
              "#46039f"
             ],
             [
              0.2222222222222222,
              "#7201a8"
             ],
             [
              0.3333333333333333,
              "#9c179e"
             ],
             [
              0.4444444444444444,
              "#bd3786"
             ],
             [
              0.5555555555555556,
              "#d8576b"
             ],
             [
              0.6666666666666666,
              "#ed7953"
             ],
             [
              0.7777777777777778,
              "#fb9f3a"
             ],
             [
              0.8888888888888888,
              "#fdca26"
             ],
             [
              1,
              "#f0f921"
             ]
            ],
            "type": "surface"
           }
          ],
          "table": [
           {
            "cells": {
             "fill": {
              "color": "#EBF0F8"
             },
             "line": {
              "color": "white"
             }
            },
            "header": {
             "fill": {
              "color": "#C8D4E3"
             },
             "line": {
              "color": "white"
             }
            },
            "type": "table"
           }
          ]
         },
         "layout": {
          "annotationdefaults": {
           "arrowcolor": "#2a3f5f",
           "arrowhead": 0,
           "arrowwidth": 1
          },
          "autotypenumbers": "strict",
          "coloraxis": {
           "colorbar": {
            "outlinewidth": 0,
            "ticks": ""
           }
          },
          "colorscale": {
           "diverging": [
            [
             0,
             "#8e0152"
            ],
            [
             0.1,
             "#c51b7d"
            ],
            [
             0.2,
             "#de77ae"
            ],
            [
             0.3,
             "#f1b6da"
            ],
            [
             0.4,
             "#fde0ef"
            ],
            [
             0.5,
             "#f7f7f7"
            ],
            [
             0.6,
             "#e6f5d0"
            ],
            [
             0.7,
             "#b8e186"
            ],
            [
             0.8,
             "#7fbc41"
            ],
            [
             0.9,
             "#4d9221"
            ],
            [
             1,
             "#276419"
            ]
           ],
           "sequential": [
            [
             0,
             "#0d0887"
            ],
            [
             0.1111111111111111,
             "#46039f"
            ],
            [
             0.2222222222222222,
             "#7201a8"
            ],
            [
             0.3333333333333333,
             "#9c179e"
            ],
            [
             0.4444444444444444,
             "#bd3786"
            ],
            [
             0.5555555555555556,
             "#d8576b"
            ],
            [
             0.6666666666666666,
             "#ed7953"
            ],
            [
             0.7777777777777778,
             "#fb9f3a"
            ],
            [
             0.8888888888888888,
             "#fdca26"
            ],
            [
             1,
             "#f0f921"
            ]
           ],
           "sequentialminus": [
            [
             0,
             "#0d0887"
            ],
            [
             0.1111111111111111,
             "#46039f"
            ],
            [
             0.2222222222222222,
             "#7201a8"
            ],
            [
             0.3333333333333333,
             "#9c179e"
            ],
            [
             0.4444444444444444,
             "#bd3786"
            ],
            [
             0.5555555555555556,
             "#d8576b"
            ],
            [
             0.6666666666666666,
             "#ed7953"
            ],
            [
             0.7777777777777778,
             "#fb9f3a"
            ],
            [
             0.8888888888888888,
             "#fdca26"
            ],
            [
             1,
             "#f0f921"
            ]
           ]
          },
          "colorway": [
           "#636efa",
           "#EF553B",
           "#00cc96",
           "#ab63fa",
           "#FFA15A",
           "#19d3f3",
           "#FF6692",
           "#B6E880",
           "#FF97FF",
           "#FECB52"
          ],
          "font": {
           "color": "#2a3f5f"
          },
          "geo": {
           "bgcolor": "white",
           "lakecolor": "white",
           "landcolor": "#E5ECF6",
           "showlakes": true,
           "showland": true,
           "subunitcolor": "white"
          },
          "hoverlabel": {
           "align": "left"
          },
          "hovermode": "closest",
          "mapbox": {
           "style": "light"
          },
          "paper_bgcolor": "white",
          "plot_bgcolor": "#E5ECF6",
          "polar": {
           "angularaxis": {
            "gridcolor": "white",
            "linecolor": "white",
            "ticks": ""
           },
           "bgcolor": "#E5ECF6",
           "radialaxis": {
            "gridcolor": "white",
            "linecolor": "white",
            "ticks": ""
           }
          },
          "scene": {
           "xaxis": {
            "backgroundcolor": "#E5ECF6",
            "gridcolor": "white",
            "gridwidth": 2,
            "linecolor": "white",
            "showbackground": true,
            "ticks": "",
            "zerolinecolor": "white"
           },
           "yaxis": {
            "backgroundcolor": "#E5ECF6",
            "gridcolor": "white",
            "gridwidth": 2,
            "linecolor": "white",
            "showbackground": true,
            "ticks": "",
            "zerolinecolor": "white"
           },
           "zaxis": {
            "backgroundcolor": "#E5ECF6",
            "gridcolor": "white",
            "gridwidth": 2,
            "linecolor": "white",
            "showbackground": true,
            "ticks": "",
            "zerolinecolor": "white"
           }
          },
          "shapedefaults": {
           "line": {
            "color": "#2a3f5f"
           }
          },
          "ternary": {
           "aaxis": {
            "gridcolor": "white",
            "linecolor": "white",
            "ticks": ""
           },
           "baxis": {
            "gridcolor": "white",
            "linecolor": "white",
            "ticks": ""
           },
           "bgcolor": "#E5ECF6",
           "caxis": {
            "gridcolor": "white",
            "linecolor": "white",
            "ticks": ""
           }
          },
          "title": {
           "x": 0.05
          },
          "xaxis": {
           "automargin": true,
           "gridcolor": "white",
           "linecolor": "white",
           "ticks": "",
           "title": {
            "standoff": 15
           },
           "zerolinecolor": "white",
           "zerolinewidth": 2
          },
          "yaxis": {
           "automargin": true,
           "gridcolor": "white",
           "linecolor": "white",
           "ticks": "",
           "title": {
            "standoff": 15
           },
           "zerolinecolor": "white",
           "zerolinewidth": 2
          }
         }
        },
        "title": {
         "text": "Window=20, Matched ≥ 13/20 & Gap ≤ 0"
        },
        "width": 500,
        "xaxis": {
         "mirror": true,
         "range": [
          0,
          540
         ],
         "showgrid": false,
         "showline": true,
         "title": {
          "text": "Megabat"
         },
         "visible": true
        },
        "yaxis": {
         "mirror": true,
         "range": [
          0,
          540
         ],
         "showgrid": false,
         "showline": true,
         "title": {
          "text": "American_bison"
         },
         "visible": true
        }
       }
      },
      "text/html": [
       "<div>                            <div id=\"daf4ae78-71f1-4e5e-add9-a9cd0c8dafb2\" class=\"plotly-graph-div\" style=\"height:500.0px; width:500px;\"></div>            <script type=\"text/javascript\">                require([\"plotly\"], function(Plotly) {                    window.PLOTLYENV=window.PLOTLYENV || {};                                    if (document.getElementById(\"daf4ae78-71f1-4e5e-add9-a9cd0c8dafb2\")) {                    Plotly.newPlot(                        \"daf4ae78-71f1-4e5e-add9-a9cd0c8dafb2\",                        [{\"line\":{\"color\":\"blue\"},\"mode\":\"lines\",\"name\":\"+ strand\",\"showlegend\":true,\"x\":[0,355,null,406,497,null,506,531,null,353,419,null,54,79,null,341,361,null,129,155,null,102,122,null,136,157,null,432,454,null,323,348,null,354,379,null,385,407],\"xaxis\":\"x\",\"y\":[0,355,null,406,497,null,506,531,null,353,419,null,270,295,null,290,310,null,213,239,null,470,490,null,186,207,null,147,169,null,88,113,null,327,352,null,480,502],\"yaxis\":\"y\",\"type\":\"scatter\"},{\"line\":{\"color\":\"black\",\"dash\":\"dot\"},\"mode\":\"lines\",\"name\":\"Alignment\",\"showlegend\":true,\"x\":[0.2,539.2],\"xaxis\":\"x\",\"y\":[0,539],\"yaxis\":\"y\",\"type\":\"scatter\"}],                        {\"autosize\":false,\"font\":{\"family\":\"Balto\",\"size\":14},\"height\":500.0,\"hovermode\":\"closest\",\"margin\":{\"b\":50,\"l\":50,\"pad\":4,\"r\":50,\"t\":50},\"showlegend\":true,\"title\":{\"text\":\"Window=20, Matched \\u2265 13\\u002f20 & Gap \\u2264 0\"},\"width\":500,\"xaxis\":{\"mirror\":true,\"range\":[0,540],\"showgrid\":false,\"showline\":true,\"title\":{\"text\":\"Megabat\"},\"visible\":true},\"yaxis\":{\"mirror\":true,\"range\":[0,540],\"showgrid\":false,\"showline\":true,\"title\":{\"text\":\"American_bison\"},\"visible\":true},\"template\":{\"data\":{\"histogram2dcontour\":[{\"type\":\"histogram2dcontour\",\"colorbar\":{\"outlinewidth\":0,\"ticks\":\"\"},\"colorscale\":[[0.0,\"#0d0887\"],[0.1111111111111111,\"#46039f\"],[0.2222222222222222,\"#7201a8\"],[0.3333333333333333,\"#9c179e\"],[0.4444444444444444,\"#bd3786\"],[0.5555555555555556,\"#d8576b\"],[0.6666666666666666,\"#ed7953\"],[0.7777777777777778,\"#fb9f3a\"],[0.8888888888888888,\"#fdca26\"],[1.0,\"#f0f921\"]]}],\"choropleth\":[{\"type\":\"choropleth\",\"colorbar\":{\"outlinewidth\":0,\"ticks\":\"\"}}],\"histogram2d\":[{\"type\":\"histogram2d\",\"colorbar\":{\"outlinewidth\":0,\"ticks\":\"\"},\"colorscale\":[[0.0,\"#0d0887\"],[0.1111111111111111,\"#46039f\"],[0.2222222222222222,\"#7201a8\"],[0.3333333333333333,\"#9c179e\"],[0.4444444444444444,\"#bd3786\"],[0.5555555555555556,\"#d8576b\"],[0.6666666666666666,\"#ed7953\"],[0.7777777777777778,\"#fb9f3a\"],[0.8888888888888888,\"#fdca26\"],[1.0,\"#f0f921\"]]}],\"heatmap\":[{\"type\":\"heatmap\",\"colorbar\":{\"outlinewidth\":0,\"ticks\":\"\"},\"colorscale\":[[0.0,\"#0d0887\"],[0.1111111111111111,\"#46039f\"],[0.2222222222222222,\"#7201a8\"],[0.3333333333333333,\"#9c179e\"],[0.4444444444444444,\"#bd3786\"],[0.5555555555555556,\"#d8576b\"],[0.6666666666666666,\"#ed7953\"],[0.7777777777777778,\"#fb9f3a\"],[0.8888888888888888,\"#fdca26\"],[1.0,\"#f0f921\"]]}],\"heatmapgl\":[{\"type\":\"heatmapgl\",\"colorbar\":{\"outlinewidth\":0,\"ticks\":\"\"},\"colorscale\":[[0.0,\"#0d0887\"],[0.1111111111111111,\"#46039f\"],[0.2222222222222222,\"#7201a8\"],[0.3333333333333333,\"#9c179e\"],[0.4444444444444444,\"#bd3786\"],[0.5555555555555556,\"#d8576b\"],[0.6666666666666666,\"#ed7953\"],[0.7777777777777778,\"#fb9f3a\"],[0.8888888888888888,\"#fdca26\"],[1.0,\"#f0f921\"]]}],\"contourcarpet\":[{\"type\":\"contourcarpet\",\"colorbar\":{\"outlinewidth\":0,\"ticks\":\"\"}}],\"contour\":[{\"type\":\"contour\",\"colorbar\":{\"outlinewidth\":0,\"ticks\":\"\"},\"colorscale\":[[0.0,\"#0d0887\"],[0.1111111111111111,\"#46039f\"],[0.2222222222222222,\"#7201a8\"],[0.3333333333333333,\"#9c179e\"],[0.4444444444444444,\"#bd3786\"],[0.5555555555555556,\"#d8576b\"],[0.6666666666666666,\"#ed7953\"],[0.7777777777777778,\"#fb9f3a\"],[0.8888888888888888,\"#fdca26\"],[1.0,\"#f0f921\"]]}],\"surface\":[{\"type\":\"surface\",\"colorbar\":{\"outlinewidth\":0,\"ticks\":\"\"},\"colorscale\":[[0.0,\"#0d0887\"],[0.1111111111111111,\"#46039f\"],[0.2222222222222222,\"#7201a8\"],[0.3333333333333333,\"#9c179e\"],[0.4444444444444444,\"#bd3786\"],[0.5555555555555556,\"#d8576b\"],[0.6666666666666666,\"#ed7953\"],[0.7777777777777778,\"#fb9f3a\"],[0.8888888888888888,\"#fdca26\"],[1.0,\"#f0f921\"]]}],\"mesh3d\":[{\"type\":\"mesh3d\",\"colorbar\":{\"outlinewidth\":0,\"ticks\":\"\"}}],\"scatter\":[{\"fillpattern\":{\"fillmode\":\"overlay\",\"size\":10,\"solidity\":0.2},\"type\":\"scatter\"}],\"parcoords\":[{\"type\":\"parcoords\",\"line\":{\"colorbar\":{\"outlinewidth\":0,\"ticks\":\"\"}}}],\"scatterpolargl\":[{\"type\":\"scatterpolargl\",\"marker\":{\"colorbar\":{\"outlinewidth\":0,\"ticks\":\"\"}}}],\"bar\":[{\"error_x\":{\"color\":\"#2a3f5f\"},\"error_y\":{\"color\":\"#2a3f5f\"},\"marker\":{\"line\":{\"color\":\"#E5ECF6\",\"width\":0.5},\"pattern\":{\"fillmode\":\"overlay\",\"size\":10,\"solidity\":0.2}},\"type\":\"bar\"}],\"scattergeo\":[{\"type\":\"scattergeo\",\"marker\":{\"colorbar\":{\"outlinewidth\":0,\"ticks\":\"\"}}}],\"scatterpolar\":[{\"type\":\"scatterpolar\",\"marker\":{\"colorbar\":{\"outlinewidth\":0,\"ticks\":\"\"}}}],\"histogram\":[{\"marker\":{\"pattern\":{\"fillmode\":\"overlay\",\"size\":10,\"solidity\":0.2}},\"type\":\"histogram\"}],\"scattergl\":[{\"type\":\"scattergl\",\"marker\":{\"colorbar\":{\"outlinewidth\":0,\"ticks\":\"\"}}}],\"scatter3d\":[{\"type\":\"scatter3d\",\"line\":{\"colorbar\":{\"outlinewidth\":0,\"ticks\":\"\"}},\"marker\":{\"colorbar\":{\"outlinewidth\":0,\"ticks\":\"\"}}}],\"scattermapbox\":[{\"type\":\"scattermapbox\",\"marker\":{\"colorbar\":{\"outlinewidth\":0,\"ticks\":\"\"}}}],\"scatterternary\":[{\"type\":\"scatterternary\",\"marker\":{\"colorbar\":{\"outlinewidth\":0,\"ticks\":\"\"}}}],\"scattercarpet\":[{\"type\":\"scattercarpet\",\"marker\":{\"colorbar\":{\"outlinewidth\":0,\"ticks\":\"\"}}}],\"carpet\":[{\"aaxis\":{\"endlinecolor\":\"#2a3f5f\",\"gridcolor\":\"white\",\"linecolor\":\"white\",\"minorgridcolor\":\"white\",\"startlinecolor\":\"#2a3f5f\"},\"baxis\":{\"endlinecolor\":\"#2a3f5f\",\"gridcolor\":\"white\",\"linecolor\":\"white\",\"minorgridcolor\":\"white\",\"startlinecolor\":\"#2a3f5f\"},\"type\":\"carpet\"}],\"table\":[{\"cells\":{\"fill\":{\"color\":\"#EBF0F8\"},\"line\":{\"color\":\"white\"}},\"header\":{\"fill\":{\"color\":\"#C8D4E3\"},\"line\":{\"color\":\"white\"}},\"type\":\"table\"}],\"barpolar\":[{\"marker\":{\"line\":{\"color\":\"#E5ECF6\",\"width\":0.5},\"pattern\":{\"fillmode\":\"overlay\",\"size\":10,\"solidity\":0.2}},\"type\":\"barpolar\"}],\"pie\":[{\"automargin\":true,\"type\":\"pie\"}]},\"layout\":{\"autotypenumbers\":\"strict\",\"colorway\":[\"#636efa\",\"#EF553B\",\"#00cc96\",\"#ab63fa\",\"#FFA15A\",\"#19d3f3\",\"#FF6692\",\"#B6E880\",\"#FF97FF\",\"#FECB52\"],\"font\":{\"color\":\"#2a3f5f\"},\"hovermode\":\"closest\",\"hoverlabel\":{\"align\":\"left\"},\"paper_bgcolor\":\"white\",\"plot_bgcolor\":\"#E5ECF6\",\"polar\":{\"bgcolor\":\"#E5ECF6\",\"angularaxis\":{\"gridcolor\":\"white\",\"linecolor\":\"white\",\"ticks\":\"\"},\"radialaxis\":{\"gridcolor\":\"white\",\"linecolor\":\"white\",\"ticks\":\"\"}},\"ternary\":{\"bgcolor\":\"#E5ECF6\",\"aaxis\":{\"gridcolor\":\"white\",\"linecolor\":\"white\",\"ticks\":\"\"},\"baxis\":{\"gridcolor\":\"white\",\"linecolor\":\"white\",\"ticks\":\"\"},\"caxis\":{\"gridcolor\":\"white\",\"linecolor\":\"white\",\"ticks\":\"\"}},\"coloraxis\":{\"colorbar\":{\"outlinewidth\":0,\"ticks\":\"\"}},\"colorscale\":{\"sequential\":[[0.0,\"#0d0887\"],[0.1111111111111111,\"#46039f\"],[0.2222222222222222,\"#7201a8\"],[0.3333333333333333,\"#9c179e\"],[0.4444444444444444,\"#bd3786\"],[0.5555555555555556,\"#d8576b\"],[0.6666666666666666,\"#ed7953\"],[0.7777777777777778,\"#fb9f3a\"],[0.8888888888888888,\"#fdca26\"],[1.0,\"#f0f921\"]],\"sequentialminus\":[[0.0,\"#0d0887\"],[0.1111111111111111,\"#46039f\"],[0.2222222222222222,\"#7201a8\"],[0.3333333333333333,\"#9c179e\"],[0.4444444444444444,\"#bd3786\"],[0.5555555555555556,\"#d8576b\"],[0.6666666666666666,\"#ed7953\"],[0.7777777777777778,\"#fb9f3a\"],[0.8888888888888888,\"#fdca26\"],[1.0,\"#f0f921\"]],\"diverging\":[[0,\"#8e0152\"],[0.1,\"#c51b7d\"],[0.2,\"#de77ae\"],[0.3,\"#f1b6da\"],[0.4,\"#fde0ef\"],[0.5,\"#f7f7f7\"],[0.6,\"#e6f5d0\"],[0.7,\"#b8e186\"],[0.8,\"#7fbc41\"],[0.9,\"#4d9221\"],[1,\"#276419\"]]},\"xaxis\":{\"gridcolor\":\"white\",\"linecolor\":\"white\",\"ticks\":\"\",\"title\":{\"standoff\":15},\"zerolinecolor\":\"white\",\"automargin\":true,\"zerolinewidth\":2},\"yaxis\":{\"gridcolor\":\"white\",\"linecolor\":\"white\",\"ticks\":\"\",\"title\":{\"standoff\":15},\"zerolinecolor\":\"white\",\"automargin\":true,\"zerolinewidth\":2},\"scene\":{\"xaxis\":{\"backgroundcolor\":\"#E5ECF6\",\"gridcolor\":\"white\",\"linecolor\":\"white\",\"showbackground\":true,\"ticks\":\"\",\"zerolinecolor\":\"white\",\"gridwidth\":2},\"yaxis\":{\"backgroundcolor\":\"#E5ECF6\",\"gridcolor\":\"white\",\"linecolor\":\"white\",\"showbackground\":true,\"ticks\":\"\",\"zerolinecolor\":\"white\",\"gridwidth\":2},\"zaxis\":{\"backgroundcolor\":\"#E5ECF6\",\"gridcolor\":\"white\",\"linecolor\":\"white\",\"showbackground\":true,\"ticks\":\"\",\"zerolinecolor\":\"white\",\"gridwidth\":2}},\"shapedefaults\":{\"line\":{\"color\":\"#2a3f5f\"}},\"annotationdefaults\":{\"arrowcolor\":\"#2a3f5f\",\"arrowhead\":0,\"arrowwidth\":1},\"geo\":{\"bgcolor\":\"white\",\"landcolor\":\"#E5ECF6\",\"subunitcolor\":\"white\",\"showland\":true,\"showlakes\":true,\"lakecolor\":\"white\"},\"title\":{\"x\":0.05},\"mapbox\":{\"style\":\"light\"}}}},                        {\"responsive\": true}                    ).then(function(){\n",
       "                            \n",
       "var gd = document.getElementById('daf4ae78-71f1-4e5e-add9-a9cd0c8dafb2');\n",
       "var x = new MutationObserver(function (mutations, observer) {{\n",
       "        var display = window.getComputedStyle(gd).display;\n",
       "        if (!display || display === 'none') {{\n",
       "            console.log([gd, 'removed!']);\n",
       "            Plotly.purge(gd);\n",
       "            observer.disconnect();\n",
       "        }}\n",
       "}});\n",
       "\n",
       "// Listen for the removal of the full notebook cells\n",
       "var notebookContainer = gd.closest('#notebook-container');\n",
       "if (notebookContainer) {{\n",
       "    x.observe(notebookContainer, {childList: true});\n",
       "}}\n",
       "\n",
       "// Listen for the clearing of the current output cell\n",
       "var outputEl = gd.closest('.output');\n",
       "if (outputEl) {{\n",
       "    x.observe(outputEl, {childList: true});\n",
       "}}\n",
       "\n",
       "                        })                };                });            </script>        </div>"
      ]
     },
     "metadata": {},
     "output_type": "display_data"
    },
    {
     "data": {
      "text/plain": [
       "<cogent3.draw.dotplot.Dotplot at 0x173109c10>"
      ]
     },
     "execution_count": 99,
     "metadata": {},
     "output_type": "execute_result"
    }
   ],
   "source": [
    "path = gene_paths[0]\n",
    "aln_paths = glob.glob(os.path.join(path, '*.json'))\n",
    "aln = deserialise_object(json.load(open(aln_paths[0], 'r')))\n",
    "aln_sub = aln.take_seqs(aln.names[:2])\n",
    "aln_sub.dotplot()"
   ]
  },
  {
   "cell_type": "code",
   "execution_count": 33,
   "metadata": {},
   "outputs": [
    {
     "data": {
      "text/html": [
       "        <script type=\"text/javascript\">\n",
       "        window.PlotlyConfig = {MathJaxConfig: 'local'};\n",
       "        if (window.MathJax && window.MathJax.Hub && window.MathJax.Hub.Config) {window.MathJax.Hub.Config({SVG: {font: \"STIX-Web\"}});}\n",
       "        if (typeof require !== 'undefined') {\n",
       "        require.undef(\"plotly\");\n",
       "        requirejs.config({\n",
       "            paths: {\n",
       "                'plotly': ['https://cdn.plot.ly/plotly-2.27.0.min']\n",
       "            }\n",
       "        });\n",
       "        require(['plotly'], function(Plotly) {\n",
       "            window._Plotly = Plotly;\n",
       "        });\n",
       "        }\n",
       "        </script>\n",
       "        "
      ]
     },
     "metadata": {},
     "output_type": "display_data"
    },
    {
     "data": {
      "application/vnd.plotly.v1+json": {
       "config": {
        "plotlyServerURL": "https://plot.ly"
       },
       "data": [
        {
         "line": {
          "color": "blue"
         },
         "mode": "lines",
         "name": "+ strand",
         "showlegend": true,
         "type": "scatter",
         "x": [
          0,
          31,
          null,
          294,
          497,
          null,
          154,
          210,
          null,
          532,
          582,
          null,
          227,
          279,
          null,
          102,
          210,
          null,
          19,
          96,
          null,
          197,
          582,
          null,
          549,
          575,
          null,
          44,
          72,
          null,
          98,
          122,
          null,
          336,
          356,
          null,
          204,
          225,
          null,
          83,
          108,
          null,
          365,
          386,
          null,
          107,
          128,
          null,
          310,
          332,
          null,
          544,
          565,
          null,
          358,
          380,
          null,
          544,
          565,
          null,
          397,
          418,
          null,
          333,
          353,
          null,
          539,
          565,
          null,
          221,
          242,
          null,
          360,
          381,
          null,
          222,
          244,
          null,
          229,
          249,
          null,
          477,
          505,
          null,
          284,
          305,
          null,
          364,
          384,
          null,
          361,
          389,
          null,
          318,
          344,
          null,
          405,
          431,
          null,
          347,
          367,
          null,
          478,
          498
         ],
         "xaxis": "x",
         "y": [
          0,
          31,
          null,
          294,
          497,
          null,
          154,
          210,
          null,
          532,
          582,
          null,
          227,
          279,
          null,
          102,
          210,
          null,
          19,
          96,
          null,
          197,
          582,
          null,
          279,
          305,
          null,
          0,
          28,
          null,
          186,
          210,
          null,
          353,
          373,
          null,
          163,
          184,
          null,
          387,
          412,
          null,
          292,
          313,
          null,
          160,
          181,
          null,
          363,
          385,
          null,
          161,
          182,
          null,
          150,
          172,
          null,
          154,
          175,
          null,
          91,
          112,
          null,
          543,
          563,
          null,
          329,
          355,
          null,
          360,
          381,
          null,
          221,
          242,
          null,
          94,
          116,
          null,
          385,
          405,
          null,
          380,
          408,
          null,
          342,
          363,
          null,
          210,
          230,
          null,
          539,
          567,
          null,
          242,
          268,
          null,
          328,
          354,
          null,
          351,
          371,
          null,
          103,
          123
         ],
         "yaxis": "y"
        },
        {
         "line": {
          "color": "black",
          "dash": "dot"
         },
         "mode": "lines",
         "name": "Alignment",
         "showlegend": true,
         "type": "scatter",
         "x": [
          0.2,
          581.2
         ],
         "xaxis": "x",
         "y": [
          0,
          581
         ],
         "yaxis": "y"
        }
       ],
       "layout": {
        "autosize": false,
        "font": {
         "family": "Balto",
         "size": 14
        },
        "height": 500,
        "hovermode": "closest",
        "margin": {
         "b": 50,
         "l": 50,
         "pad": 4,
         "r": 50,
         "t": 50
        },
        "showlegend": true,
        "template": {
         "data": {
          "bar": [
           {
            "error_x": {
             "color": "#2a3f5f"
            },
            "error_y": {
             "color": "#2a3f5f"
            },
            "marker": {
             "line": {
              "color": "#E5ECF6",
              "width": 0.5
             },
             "pattern": {
              "fillmode": "overlay",
              "size": 10,
              "solidity": 0.2
             }
            },
            "type": "bar"
           }
          ],
          "barpolar": [
           {
            "marker": {
             "line": {
              "color": "#E5ECF6",
              "width": 0.5
             },
             "pattern": {
              "fillmode": "overlay",
              "size": 10,
              "solidity": 0.2
             }
            },
            "type": "barpolar"
           }
          ],
          "carpet": [
           {
            "aaxis": {
             "endlinecolor": "#2a3f5f",
             "gridcolor": "white",
             "linecolor": "white",
             "minorgridcolor": "white",
             "startlinecolor": "#2a3f5f"
            },
            "baxis": {
             "endlinecolor": "#2a3f5f",
             "gridcolor": "white",
             "linecolor": "white",
             "minorgridcolor": "white",
             "startlinecolor": "#2a3f5f"
            },
            "type": "carpet"
           }
          ],
          "choropleth": [
           {
            "colorbar": {
             "outlinewidth": 0,
             "ticks": ""
            },
            "type": "choropleth"
           }
          ],
          "contour": [
           {
            "colorbar": {
             "outlinewidth": 0,
             "ticks": ""
            },
            "colorscale": [
             [
              0,
              "#0d0887"
             ],
             [
              0.1111111111111111,
              "#46039f"
             ],
             [
              0.2222222222222222,
              "#7201a8"
             ],
             [
              0.3333333333333333,
              "#9c179e"
             ],
             [
              0.4444444444444444,
              "#bd3786"
             ],
             [
              0.5555555555555556,
              "#d8576b"
             ],
             [
              0.6666666666666666,
              "#ed7953"
             ],
             [
              0.7777777777777778,
              "#fb9f3a"
             ],
             [
              0.8888888888888888,
              "#fdca26"
             ],
             [
              1,
              "#f0f921"
             ]
            ],
            "type": "contour"
           }
          ],
          "contourcarpet": [
           {
            "colorbar": {
             "outlinewidth": 0,
             "ticks": ""
            },
            "type": "contourcarpet"
           }
          ],
          "heatmap": [
           {
            "colorbar": {
             "outlinewidth": 0,
             "ticks": ""
            },
            "colorscale": [
             [
              0,
              "#0d0887"
             ],
             [
              0.1111111111111111,
              "#46039f"
             ],
             [
              0.2222222222222222,
              "#7201a8"
             ],
             [
              0.3333333333333333,
              "#9c179e"
             ],
             [
              0.4444444444444444,
              "#bd3786"
             ],
             [
              0.5555555555555556,
              "#d8576b"
             ],
             [
              0.6666666666666666,
              "#ed7953"
             ],
             [
              0.7777777777777778,
              "#fb9f3a"
             ],
             [
              0.8888888888888888,
              "#fdca26"
             ],
             [
              1,
              "#f0f921"
             ]
            ],
            "type": "heatmap"
           }
          ],
          "heatmapgl": [
           {
            "colorbar": {
             "outlinewidth": 0,
             "ticks": ""
            },
            "colorscale": [
             [
              0,
              "#0d0887"
             ],
             [
              0.1111111111111111,
              "#46039f"
             ],
             [
              0.2222222222222222,
              "#7201a8"
             ],
             [
              0.3333333333333333,
              "#9c179e"
             ],
             [
              0.4444444444444444,
              "#bd3786"
             ],
             [
              0.5555555555555556,
              "#d8576b"
             ],
             [
              0.6666666666666666,
              "#ed7953"
             ],
             [
              0.7777777777777778,
              "#fb9f3a"
             ],
             [
              0.8888888888888888,
              "#fdca26"
             ],
             [
              1,
              "#f0f921"
             ]
            ],
            "type": "heatmapgl"
           }
          ],
          "histogram": [
           {
            "marker": {
             "pattern": {
              "fillmode": "overlay",
              "size": 10,
              "solidity": 0.2
             }
            },
            "type": "histogram"
           }
          ],
          "histogram2d": [
           {
            "colorbar": {
             "outlinewidth": 0,
             "ticks": ""
            },
            "colorscale": [
             [
              0,
              "#0d0887"
             ],
             [
              0.1111111111111111,
              "#46039f"
             ],
             [
              0.2222222222222222,
              "#7201a8"
             ],
             [
              0.3333333333333333,
              "#9c179e"
             ],
             [
              0.4444444444444444,
              "#bd3786"
             ],
             [
              0.5555555555555556,
              "#d8576b"
             ],
             [
              0.6666666666666666,
              "#ed7953"
             ],
             [
              0.7777777777777778,
              "#fb9f3a"
             ],
             [
              0.8888888888888888,
              "#fdca26"
             ],
             [
              1,
              "#f0f921"
             ]
            ],
            "type": "histogram2d"
           }
          ],
          "histogram2dcontour": [
           {
            "colorbar": {
             "outlinewidth": 0,
             "ticks": ""
            },
            "colorscale": [
             [
              0,
              "#0d0887"
             ],
             [
              0.1111111111111111,
              "#46039f"
             ],
             [
              0.2222222222222222,
              "#7201a8"
             ],
             [
              0.3333333333333333,
              "#9c179e"
             ],
             [
              0.4444444444444444,
              "#bd3786"
             ],
             [
              0.5555555555555556,
              "#d8576b"
             ],
             [
              0.6666666666666666,
              "#ed7953"
             ],
             [
              0.7777777777777778,
              "#fb9f3a"
             ],
             [
              0.8888888888888888,
              "#fdca26"
             ],
             [
              1,
              "#f0f921"
             ]
            ],
            "type": "histogram2dcontour"
           }
          ],
          "mesh3d": [
           {
            "colorbar": {
             "outlinewidth": 0,
             "ticks": ""
            },
            "type": "mesh3d"
           }
          ],
          "parcoords": [
           {
            "line": {
             "colorbar": {
              "outlinewidth": 0,
              "ticks": ""
             }
            },
            "type": "parcoords"
           }
          ],
          "pie": [
           {
            "automargin": true,
            "type": "pie"
           }
          ],
          "scatter": [
           {
            "fillpattern": {
             "fillmode": "overlay",
             "size": 10,
             "solidity": 0.2
            },
            "type": "scatter"
           }
          ],
          "scatter3d": [
           {
            "line": {
             "colorbar": {
              "outlinewidth": 0,
              "ticks": ""
             }
            },
            "marker": {
             "colorbar": {
              "outlinewidth": 0,
              "ticks": ""
             }
            },
            "type": "scatter3d"
           }
          ],
          "scattercarpet": [
           {
            "marker": {
             "colorbar": {
              "outlinewidth": 0,
              "ticks": ""
             }
            },
            "type": "scattercarpet"
           }
          ],
          "scattergeo": [
           {
            "marker": {
             "colorbar": {
              "outlinewidth": 0,
              "ticks": ""
             }
            },
            "type": "scattergeo"
           }
          ],
          "scattergl": [
           {
            "marker": {
             "colorbar": {
              "outlinewidth": 0,
              "ticks": ""
             }
            },
            "type": "scattergl"
           }
          ],
          "scattermapbox": [
           {
            "marker": {
             "colorbar": {
              "outlinewidth": 0,
              "ticks": ""
             }
            },
            "type": "scattermapbox"
           }
          ],
          "scatterpolar": [
           {
            "marker": {
             "colorbar": {
              "outlinewidth": 0,
              "ticks": ""
             }
            },
            "type": "scatterpolar"
           }
          ],
          "scatterpolargl": [
           {
            "marker": {
             "colorbar": {
              "outlinewidth": 0,
              "ticks": ""
             }
            },
            "type": "scatterpolargl"
           }
          ],
          "scatterternary": [
           {
            "marker": {
             "colorbar": {
              "outlinewidth": 0,
              "ticks": ""
             }
            },
            "type": "scatterternary"
           }
          ],
          "surface": [
           {
            "colorbar": {
             "outlinewidth": 0,
             "ticks": ""
            },
            "colorscale": [
             [
              0,
              "#0d0887"
             ],
             [
              0.1111111111111111,
              "#46039f"
             ],
             [
              0.2222222222222222,
              "#7201a8"
             ],
             [
              0.3333333333333333,
              "#9c179e"
             ],
             [
              0.4444444444444444,
              "#bd3786"
             ],
             [
              0.5555555555555556,
              "#d8576b"
             ],
             [
              0.6666666666666666,
              "#ed7953"
             ],
             [
              0.7777777777777778,
              "#fb9f3a"
             ],
             [
              0.8888888888888888,
              "#fdca26"
             ],
             [
              1,
              "#f0f921"
             ]
            ],
            "type": "surface"
           }
          ],
          "table": [
           {
            "cells": {
             "fill": {
              "color": "#EBF0F8"
             },
             "line": {
              "color": "white"
             }
            },
            "header": {
             "fill": {
              "color": "#C8D4E3"
             },
             "line": {
              "color": "white"
             }
            },
            "type": "table"
           }
          ]
         },
         "layout": {
          "annotationdefaults": {
           "arrowcolor": "#2a3f5f",
           "arrowhead": 0,
           "arrowwidth": 1
          },
          "autotypenumbers": "strict",
          "coloraxis": {
           "colorbar": {
            "outlinewidth": 0,
            "ticks": ""
           }
          },
          "colorscale": {
           "diverging": [
            [
             0,
             "#8e0152"
            ],
            [
             0.1,
             "#c51b7d"
            ],
            [
             0.2,
             "#de77ae"
            ],
            [
             0.3,
             "#f1b6da"
            ],
            [
             0.4,
             "#fde0ef"
            ],
            [
             0.5,
             "#f7f7f7"
            ],
            [
             0.6,
             "#e6f5d0"
            ],
            [
             0.7,
             "#b8e186"
            ],
            [
             0.8,
             "#7fbc41"
            ],
            [
             0.9,
             "#4d9221"
            ],
            [
             1,
             "#276419"
            ]
           ],
           "sequential": [
            [
             0,
             "#0d0887"
            ],
            [
             0.1111111111111111,
             "#46039f"
            ],
            [
             0.2222222222222222,
             "#7201a8"
            ],
            [
             0.3333333333333333,
             "#9c179e"
            ],
            [
             0.4444444444444444,
             "#bd3786"
            ],
            [
             0.5555555555555556,
             "#d8576b"
            ],
            [
             0.6666666666666666,
             "#ed7953"
            ],
            [
             0.7777777777777778,
             "#fb9f3a"
            ],
            [
             0.8888888888888888,
             "#fdca26"
            ],
            [
             1,
             "#f0f921"
            ]
           ],
           "sequentialminus": [
            [
             0,
             "#0d0887"
            ],
            [
             0.1111111111111111,
             "#46039f"
            ],
            [
             0.2222222222222222,
             "#7201a8"
            ],
            [
             0.3333333333333333,
             "#9c179e"
            ],
            [
             0.4444444444444444,
             "#bd3786"
            ],
            [
             0.5555555555555556,
             "#d8576b"
            ],
            [
             0.6666666666666666,
             "#ed7953"
            ],
            [
             0.7777777777777778,
             "#fb9f3a"
            ],
            [
             0.8888888888888888,
             "#fdca26"
            ],
            [
             1,
             "#f0f921"
            ]
           ]
          },
          "colorway": [
           "#636efa",
           "#EF553B",
           "#00cc96",
           "#ab63fa",
           "#FFA15A",
           "#19d3f3",
           "#FF6692",
           "#B6E880",
           "#FF97FF",
           "#FECB52"
          ],
          "font": {
           "color": "#2a3f5f"
          },
          "geo": {
           "bgcolor": "white",
           "lakecolor": "white",
           "landcolor": "#E5ECF6",
           "showlakes": true,
           "showland": true,
           "subunitcolor": "white"
          },
          "hoverlabel": {
           "align": "left"
          },
          "hovermode": "closest",
          "mapbox": {
           "style": "light"
          },
          "paper_bgcolor": "white",
          "plot_bgcolor": "#E5ECF6",
          "polar": {
           "angularaxis": {
            "gridcolor": "white",
            "linecolor": "white",
            "ticks": ""
           },
           "bgcolor": "#E5ECF6",
           "radialaxis": {
            "gridcolor": "white",
            "linecolor": "white",
            "ticks": ""
           }
          },
          "scene": {
           "xaxis": {
            "backgroundcolor": "#E5ECF6",
            "gridcolor": "white",
            "gridwidth": 2,
            "linecolor": "white",
            "showbackground": true,
            "ticks": "",
            "zerolinecolor": "white"
           },
           "yaxis": {
            "backgroundcolor": "#E5ECF6",
            "gridcolor": "white",
            "gridwidth": 2,
            "linecolor": "white",
            "showbackground": true,
            "ticks": "",
            "zerolinecolor": "white"
           },
           "zaxis": {
            "backgroundcolor": "#E5ECF6",
            "gridcolor": "white",
            "gridwidth": 2,
            "linecolor": "white",
            "showbackground": true,
            "ticks": "",
            "zerolinecolor": "white"
           }
          },
          "shapedefaults": {
           "line": {
            "color": "#2a3f5f"
           }
          },
          "ternary": {
           "aaxis": {
            "gridcolor": "white",
            "linecolor": "white",
            "ticks": ""
           },
           "baxis": {
            "gridcolor": "white",
            "linecolor": "white",
            "ticks": ""
           },
           "bgcolor": "#E5ECF6",
           "caxis": {
            "gridcolor": "white",
            "linecolor": "white",
            "ticks": ""
           }
          },
          "title": {
           "x": 0.05
          },
          "xaxis": {
           "automargin": true,
           "gridcolor": "white",
           "linecolor": "white",
           "ticks": "",
           "title": {
            "standoff": 15
           },
           "zerolinecolor": "white",
           "zerolinewidth": 2
          },
          "yaxis": {
           "automargin": true,
           "gridcolor": "white",
           "linecolor": "white",
           "ticks": "",
           "title": {
            "standoff": 15
           },
           "zerolinecolor": "white",
           "zerolinewidth": 2
          }
         }
        },
        "title": {
         "text": "Window=20, Matched ≥ 13/20 & Gap ≤ 0"
        },
        "width": 500,
        "xaxis": {
         "mirror": true,
         "range": [
          0,
          582
         ],
         "showgrid": false,
         "showline": true,
         "title": {
          "text": "Kangaroo_rat"
         },
         "visible": true
        },
        "yaxis": {
         "mirror": true,
         "range": [
          0,
          582
         ],
         "showgrid": false,
         "showline": true,
         "title": {
          "text": "Guinea_Pig"
         },
         "visible": true
        }
       }
      },
      "text/html": [
       "<div>                            <div id=\"56f5d701-f8e9-4e07-8ad0-fc79e7ec518c\" class=\"plotly-graph-div\" style=\"height:500.0px; width:500px;\"></div>            <script type=\"text/javascript\">                require([\"plotly\"], function(Plotly) {                    window.PLOTLYENV=window.PLOTLYENV || {};                                    if (document.getElementById(\"56f5d701-f8e9-4e07-8ad0-fc79e7ec518c\")) {                    Plotly.newPlot(                        \"56f5d701-f8e9-4e07-8ad0-fc79e7ec518c\",                        [{\"line\":{\"color\":\"blue\"},\"mode\":\"lines\",\"name\":\"+ strand\",\"showlegend\":true,\"x\":[0,31,null,294,497,null,154,210,null,532,582,null,227,279,null,102,210,null,19,96,null,197,582,null,549,575,null,44,72,null,98,122,null,336,356,null,204,225,null,83,108,null,365,386,null,107,128,null,310,332,null,544,565,null,358,380,null,544,565,null,397,418,null,333,353,null,539,565,null,221,242,null,360,381,null,222,244,null,229,249,null,477,505,null,284,305,null,364,384,null,361,389,null,318,344,null,405,431,null,347,367,null,478,498],\"xaxis\":\"x\",\"y\":[0,31,null,294,497,null,154,210,null,532,582,null,227,279,null,102,210,null,19,96,null,197,582,null,279,305,null,0,28,null,186,210,null,353,373,null,163,184,null,387,412,null,292,313,null,160,181,null,363,385,null,161,182,null,150,172,null,154,175,null,91,112,null,543,563,null,329,355,null,360,381,null,221,242,null,94,116,null,385,405,null,380,408,null,342,363,null,210,230,null,539,567,null,242,268,null,328,354,null,351,371,null,103,123],\"yaxis\":\"y\",\"type\":\"scatter\"},{\"line\":{\"color\":\"black\",\"dash\":\"dot\"},\"mode\":\"lines\",\"name\":\"Alignment\",\"showlegend\":true,\"x\":[0.2,581.2],\"xaxis\":\"x\",\"y\":[0,581],\"yaxis\":\"y\",\"type\":\"scatter\"}],                        {\"autosize\":false,\"font\":{\"family\":\"Balto\",\"size\":14},\"height\":500.0,\"hovermode\":\"closest\",\"margin\":{\"b\":50,\"l\":50,\"pad\":4,\"r\":50,\"t\":50},\"showlegend\":true,\"title\":{\"text\":\"Window=20, Matched \\u2265 13\\u002f20 & Gap \\u2264 0\"},\"width\":500,\"xaxis\":{\"mirror\":true,\"range\":[0,582],\"showgrid\":false,\"showline\":true,\"title\":{\"text\":\"Kangaroo_rat\"},\"visible\":true},\"yaxis\":{\"mirror\":true,\"range\":[0,582],\"showgrid\":false,\"showline\":true,\"title\":{\"text\":\"Guinea_Pig\"},\"visible\":true},\"template\":{\"data\":{\"histogram2dcontour\":[{\"type\":\"histogram2dcontour\",\"colorbar\":{\"outlinewidth\":0,\"ticks\":\"\"},\"colorscale\":[[0.0,\"#0d0887\"],[0.1111111111111111,\"#46039f\"],[0.2222222222222222,\"#7201a8\"],[0.3333333333333333,\"#9c179e\"],[0.4444444444444444,\"#bd3786\"],[0.5555555555555556,\"#d8576b\"],[0.6666666666666666,\"#ed7953\"],[0.7777777777777778,\"#fb9f3a\"],[0.8888888888888888,\"#fdca26\"],[1.0,\"#f0f921\"]]}],\"choropleth\":[{\"type\":\"choropleth\",\"colorbar\":{\"outlinewidth\":0,\"ticks\":\"\"}}],\"histogram2d\":[{\"type\":\"histogram2d\",\"colorbar\":{\"outlinewidth\":0,\"ticks\":\"\"},\"colorscale\":[[0.0,\"#0d0887\"],[0.1111111111111111,\"#46039f\"],[0.2222222222222222,\"#7201a8\"],[0.3333333333333333,\"#9c179e\"],[0.4444444444444444,\"#bd3786\"],[0.5555555555555556,\"#d8576b\"],[0.6666666666666666,\"#ed7953\"],[0.7777777777777778,\"#fb9f3a\"],[0.8888888888888888,\"#fdca26\"],[1.0,\"#f0f921\"]]}],\"heatmap\":[{\"type\":\"heatmap\",\"colorbar\":{\"outlinewidth\":0,\"ticks\":\"\"},\"colorscale\":[[0.0,\"#0d0887\"],[0.1111111111111111,\"#46039f\"],[0.2222222222222222,\"#7201a8\"],[0.3333333333333333,\"#9c179e\"],[0.4444444444444444,\"#bd3786\"],[0.5555555555555556,\"#d8576b\"],[0.6666666666666666,\"#ed7953\"],[0.7777777777777778,\"#fb9f3a\"],[0.8888888888888888,\"#fdca26\"],[1.0,\"#f0f921\"]]}],\"heatmapgl\":[{\"type\":\"heatmapgl\",\"colorbar\":{\"outlinewidth\":0,\"ticks\":\"\"},\"colorscale\":[[0.0,\"#0d0887\"],[0.1111111111111111,\"#46039f\"],[0.2222222222222222,\"#7201a8\"],[0.3333333333333333,\"#9c179e\"],[0.4444444444444444,\"#bd3786\"],[0.5555555555555556,\"#d8576b\"],[0.6666666666666666,\"#ed7953\"],[0.7777777777777778,\"#fb9f3a\"],[0.8888888888888888,\"#fdca26\"],[1.0,\"#f0f921\"]]}],\"contourcarpet\":[{\"type\":\"contourcarpet\",\"colorbar\":{\"outlinewidth\":0,\"ticks\":\"\"}}],\"contour\":[{\"type\":\"contour\",\"colorbar\":{\"outlinewidth\":0,\"ticks\":\"\"},\"colorscale\":[[0.0,\"#0d0887\"],[0.1111111111111111,\"#46039f\"],[0.2222222222222222,\"#7201a8\"],[0.3333333333333333,\"#9c179e\"],[0.4444444444444444,\"#bd3786\"],[0.5555555555555556,\"#d8576b\"],[0.6666666666666666,\"#ed7953\"],[0.7777777777777778,\"#fb9f3a\"],[0.8888888888888888,\"#fdca26\"],[1.0,\"#f0f921\"]]}],\"surface\":[{\"type\":\"surface\",\"colorbar\":{\"outlinewidth\":0,\"ticks\":\"\"},\"colorscale\":[[0.0,\"#0d0887\"],[0.1111111111111111,\"#46039f\"],[0.2222222222222222,\"#7201a8\"],[0.3333333333333333,\"#9c179e\"],[0.4444444444444444,\"#bd3786\"],[0.5555555555555556,\"#d8576b\"],[0.6666666666666666,\"#ed7953\"],[0.7777777777777778,\"#fb9f3a\"],[0.8888888888888888,\"#fdca26\"],[1.0,\"#f0f921\"]]}],\"mesh3d\":[{\"type\":\"mesh3d\",\"colorbar\":{\"outlinewidth\":0,\"ticks\":\"\"}}],\"scatter\":[{\"fillpattern\":{\"fillmode\":\"overlay\",\"size\":10,\"solidity\":0.2},\"type\":\"scatter\"}],\"parcoords\":[{\"type\":\"parcoords\",\"line\":{\"colorbar\":{\"outlinewidth\":0,\"ticks\":\"\"}}}],\"scatterpolargl\":[{\"type\":\"scatterpolargl\",\"marker\":{\"colorbar\":{\"outlinewidth\":0,\"ticks\":\"\"}}}],\"bar\":[{\"error_x\":{\"color\":\"#2a3f5f\"},\"error_y\":{\"color\":\"#2a3f5f\"},\"marker\":{\"line\":{\"color\":\"#E5ECF6\",\"width\":0.5},\"pattern\":{\"fillmode\":\"overlay\",\"size\":10,\"solidity\":0.2}},\"type\":\"bar\"}],\"scattergeo\":[{\"type\":\"scattergeo\",\"marker\":{\"colorbar\":{\"outlinewidth\":0,\"ticks\":\"\"}}}],\"scatterpolar\":[{\"type\":\"scatterpolar\",\"marker\":{\"colorbar\":{\"outlinewidth\":0,\"ticks\":\"\"}}}],\"histogram\":[{\"marker\":{\"pattern\":{\"fillmode\":\"overlay\",\"size\":10,\"solidity\":0.2}},\"type\":\"histogram\"}],\"scattergl\":[{\"type\":\"scattergl\",\"marker\":{\"colorbar\":{\"outlinewidth\":0,\"ticks\":\"\"}}}],\"scatter3d\":[{\"type\":\"scatter3d\",\"line\":{\"colorbar\":{\"outlinewidth\":0,\"ticks\":\"\"}},\"marker\":{\"colorbar\":{\"outlinewidth\":0,\"ticks\":\"\"}}}],\"scattermapbox\":[{\"type\":\"scattermapbox\",\"marker\":{\"colorbar\":{\"outlinewidth\":0,\"ticks\":\"\"}}}],\"scatterternary\":[{\"type\":\"scatterternary\",\"marker\":{\"colorbar\":{\"outlinewidth\":0,\"ticks\":\"\"}}}],\"scattercarpet\":[{\"type\":\"scattercarpet\",\"marker\":{\"colorbar\":{\"outlinewidth\":0,\"ticks\":\"\"}}}],\"carpet\":[{\"aaxis\":{\"endlinecolor\":\"#2a3f5f\",\"gridcolor\":\"white\",\"linecolor\":\"white\",\"minorgridcolor\":\"white\",\"startlinecolor\":\"#2a3f5f\"},\"baxis\":{\"endlinecolor\":\"#2a3f5f\",\"gridcolor\":\"white\",\"linecolor\":\"white\",\"minorgridcolor\":\"white\",\"startlinecolor\":\"#2a3f5f\"},\"type\":\"carpet\"}],\"table\":[{\"cells\":{\"fill\":{\"color\":\"#EBF0F8\"},\"line\":{\"color\":\"white\"}},\"header\":{\"fill\":{\"color\":\"#C8D4E3\"},\"line\":{\"color\":\"white\"}},\"type\":\"table\"}],\"barpolar\":[{\"marker\":{\"line\":{\"color\":\"#E5ECF6\",\"width\":0.5},\"pattern\":{\"fillmode\":\"overlay\",\"size\":10,\"solidity\":0.2}},\"type\":\"barpolar\"}],\"pie\":[{\"automargin\":true,\"type\":\"pie\"}]},\"layout\":{\"autotypenumbers\":\"strict\",\"colorway\":[\"#636efa\",\"#EF553B\",\"#00cc96\",\"#ab63fa\",\"#FFA15A\",\"#19d3f3\",\"#FF6692\",\"#B6E880\",\"#FF97FF\",\"#FECB52\"],\"font\":{\"color\":\"#2a3f5f\"},\"hovermode\":\"closest\",\"hoverlabel\":{\"align\":\"left\"},\"paper_bgcolor\":\"white\",\"plot_bgcolor\":\"#E5ECF6\",\"polar\":{\"bgcolor\":\"#E5ECF6\",\"angularaxis\":{\"gridcolor\":\"white\",\"linecolor\":\"white\",\"ticks\":\"\"},\"radialaxis\":{\"gridcolor\":\"white\",\"linecolor\":\"white\",\"ticks\":\"\"}},\"ternary\":{\"bgcolor\":\"#E5ECF6\",\"aaxis\":{\"gridcolor\":\"white\",\"linecolor\":\"white\",\"ticks\":\"\"},\"baxis\":{\"gridcolor\":\"white\",\"linecolor\":\"white\",\"ticks\":\"\"},\"caxis\":{\"gridcolor\":\"white\",\"linecolor\":\"white\",\"ticks\":\"\"}},\"coloraxis\":{\"colorbar\":{\"outlinewidth\":0,\"ticks\":\"\"}},\"colorscale\":{\"sequential\":[[0.0,\"#0d0887\"],[0.1111111111111111,\"#46039f\"],[0.2222222222222222,\"#7201a8\"],[0.3333333333333333,\"#9c179e\"],[0.4444444444444444,\"#bd3786\"],[0.5555555555555556,\"#d8576b\"],[0.6666666666666666,\"#ed7953\"],[0.7777777777777778,\"#fb9f3a\"],[0.8888888888888888,\"#fdca26\"],[1.0,\"#f0f921\"]],\"sequentialminus\":[[0.0,\"#0d0887\"],[0.1111111111111111,\"#46039f\"],[0.2222222222222222,\"#7201a8\"],[0.3333333333333333,\"#9c179e\"],[0.4444444444444444,\"#bd3786\"],[0.5555555555555556,\"#d8576b\"],[0.6666666666666666,\"#ed7953\"],[0.7777777777777778,\"#fb9f3a\"],[0.8888888888888888,\"#fdca26\"],[1.0,\"#f0f921\"]],\"diverging\":[[0,\"#8e0152\"],[0.1,\"#c51b7d\"],[0.2,\"#de77ae\"],[0.3,\"#f1b6da\"],[0.4,\"#fde0ef\"],[0.5,\"#f7f7f7\"],[0.6,\"#e6f5d0\"],[0.7,\"#b8e186\"],[0.8,\"#7fbc41\"],[0.9,\"#4d9221\"],[1,\"#276419\"]]},\"xaxis\":{\"gridcolor\":\"white\",\"linecolor\":\"white\",\"ticks\":\"\",\"title\":{\"standoff\":15},\"zerolinecolor\":\"white\",\"automargin\":true,\"zerolinewidth\":2},\"yaxis\":{\"gridcolor\":\"white\",\"linecolor\":\"white\",\"ticks\":\"\",\"title\":{\"standoff\":15},\"zerolinecolor\":\"white\",\"automargin\":true,\"zerolinewidth\":2},\"scene\":{\"xaxis\":{\"backgroundcolor\":\"#E5ECF6\",\"gridcolor\":\"white\",\"linecolor\":\"white\",\"showbackground\":true,\"ticks\":\"\",\"zerolinecolor\":\"white\",\"gridwidth\":2},\"yaxis\":{\"backgroundcolor\":\"#E5ECF6\",\"gridcolor\":\"white\",\"linecolor\":\"white\",\"showbackground\":true,\"ticks\":\"\",\"zerolinecolor\":\"white\",\"gridwidth\":2},\"zaxis\":{\"backgroundcolor\":\"#E5ECF6\",\"gridcolor\":\"white\",\"linecolor\":\"white\",\"showbackground\":true,\"ticks\":\"\",\"zerolinecolor\":\"white\",\"gridwidth\":2}},\"shapedefaults\":{\"line\":{\"color\":\"#2a3f5f\"}},\"annotationdefaults\":{\"arrowcolor\":\"#2a3f5f\",\"arrowhead\":0,\"arrowwidth\":1},\"geo\":{\"bgcolor\":\"white\",\"landcolor\":\"#E5ECF6\",\"subunitcolor\":\"white\",\"showland\":true,\"showlakes\":true,\"lakecolor\":\"white\"},\"title\":{\"x\":0.05},\"mapbox\":{\"style\":\"light\"}}}},                        {\"responsive\": true}                    ).then(function(){\n",
       "                            \n",
       "var gd = document.getElementById('56f5d701-f8e9-4e07-8ad0-fc79e7ec518c');\n",
       "var x = new MutationObserver(function (mutations, observer) {{\n",
       "        var display = window.getComputedStyle(gd).display;\n",
       "        if (!display || display === 'none') {{\n",
       "            console.log([gd, 'removed!']);\n",
       "            Plotly.purge(gd);\n",
       "            observer.disconnect();\n",
       "        }}\n",
       "}});\n",
       "\n",
       "// Listen for the removal of the full notebook cells\n",
       "var notebookContainer = gd.closest('#notebook-container');\n",
       "if (notebookContainer) {{\n",
       "    x.observe(notebookContainer, {childList: true});\n",
       "}}\n",
       "\n",
       "// Listen for the clearing of the current output cell\n",
       "var outputEl = gd.closest('.output');\n",
       "if (outputEl) {{\n",
       "    x.observe(outputEl, {childList: true});\n",
       "}}\n",
       "\n",
       "                        })                };                });            </script>        </div>"
      ]
     },
     "metadata": {},
     "output_type": "display_data"
    },
    {
     "data": {
      "text/plain": [
       "<cogent3.draw.dotplot.Dotplot at 0x16dd39970>"
      ]
     },
     "execution_count": 33,
     "metadata": {},
     "output_type": "execute_result"
    }
   ],
   "source": [
    "aln_gene = deserialise_object(json.load(open(gene_aln_paths[5], 'r')))\n",
    "aln_gene.dotplot()"
   ]
  },
  {
   "cell_type": "code",
   "execution_count": 66,
   "metadata": {},
   "outputs": [],
   "source": [
    "from cogent3.app.typing import UnalignedSeqsType, HypothesisResultType, SerialisableType, IdentifierType\n",
    "@define_app\n",
    "def too_many_ambigs(seqs: UnalignedSeqsType, frac=0.05) -> UnalignedSeqsType:\n",
    "    w_ambig = seqs.get_lengths(include_ambiguity=True)\n",
    "    wo_ambig = seqs.get_lengths(include_ambiguity=False)\n",
    "    keep = {name for name in wo_ambig.keys() if wo_ambig[name] / w_ambig[name] >= 1 - frac}\n",
    "    return seqs.take_seqs(keep)\n",
    "\n",
    "filter = too_many_ambigs(0.05)"
   ]
  },
  {
   "cell_type": "code",
   "execution_count": 89,
   "metadata": {},
   "outputs": [],
   "source": [
    "path1 = '/Users/gulugulu/Desktop/honours/data_local/mammal_genome_codon_aln/ENSG00000138315.json'\n",
    "load_json_app = get_app(\"load_json\")\n",
    "aln = load_json_app(path1)\n",
    "aln_sub = aln_filtered.take_seqs(['pteropus_vampyrus-ENSPVAG00000014009', 'bison_bison_bison-ENSBBBG00000020546'])"
   ]
  },
  {
   "cell_type": "code",
   "execution_count": 90,
   "metadata": {},
   "outputs": [
    {
     "data": {
      "text/html": [
       "        <script type=\"text/javascript\">\n",
       "        window.PlotlyConfig = {MathJaxConfig: 'local'};\n",
       "        if (window.MathJax && window.MathJax.Hub && window.MathJax.Hub.Config) {window.MathJax.Hub.Config({SVG: {font: \"STIX-Web\"}});}\n",
       "        if (typeof require !== 'undefined') {\n",
       "        require.undef(\"plotly\");\n",
       "        requirejs.config({\n",
       "            paths: {\n",
       "                'plotly': ['https://cdn.plot.ly/plotly-2.27.0.min']\n",
       "            }\n",
       "        });\n",
       "        require(['plotly'], function(Plotly) {\n",
       "            window._Plotly = Plotly;\n",
       "        });\n",
       "        }\n",
       "        </script>\n",
       "        "
      ]
     },
     "metadata": {},
     "output_type": "display_data"
    },
    {
     "data": {
      "application/vnd.plotly.v1+json": {
       "config": {
        "plotlyServerURL": "https://plot.ly"
       },
       "data": [
        {
         "line": {
          "color": "blue"
         },
         "mode": "lines",
         "name": "+ strand",
         "showlegend": true,
         "type": "scatter",
         "x": [
          0,
          49,
          null,
          42,
          1351,
          null,
          1329,
          1563,
          null,
          869,
          899,
          null,
          76,
          99,
          null,
          473,
          495,
          null,
          240,
          271,
          null,
          453,
          483,
          null,
          1478,
          1499,
          null,
          38,
          69,
          null,
          323,
          343,
          null,
          550,
          591,
          null,
          603,
          629,
          null,
          1167,
          1194,
          null,
          904,
          924,
          null,
          1553,
          1635,
          null,
          1168,
          1188,
          null,
          828,
          859,
          null,
          1168,
          1193,
          null,
          850,
          873,
          null,
          853,
          873,
          null,
          1171,
          1191,
          null,
          344,
          364,
          null,
          334,
          368,
          null,
          1116,
          1141,
          null,
          864,
          884,
          null,
          723,
          751,
          null,
          677,
          710,
          null,
          121,
          143,
          null,
          1517,
          1540,
          null,
          385,
          406,
          null,
          1364,
          1385,
          null,
          149,
          169,
          null,
          952,
          980,
          null,
          950,
          970,
          null,
          199,
          220,
          null,
          192,
          212,
          null,
          203,
          224,
          null,
          201,
          230,
          null,
          1582,
          1605,
          null,
          223,
          253,
          null,
          243,
          268,
          null,
          1267,
          1290,
          null,
          815,
          835,
          null,
          684,
          711,
          null,
          831,
          853,
          null,
          331,
          356,
          null,
          758,
          783,
          null,
          811,
          831,
          null,
          363,
          384,
          null,
          991,
          1012,
          null,
          1041,
          1061,
          null,
          1339,
          1362,
          null,
          1108,
          1136,
          null,
          1114,
          1135,
          null,
          1006,
          1026,
          null,
          750,
          770,
          null,
          890,
          910,
          null,
          1410,
          1431,
          null,
          1415,
          1445,
          null,
          1474,
          1496
         ],
         "xaxis": "x",
         "y": [
          0,
          49,
          null,
          42,
          1351,
          null,
          1332,
          1566,
          null,
          359,
          389,
          null,
          536,
          559,
          null,
          536,
          558,
          null,
          827,
          858,
          null,
          360,
          390,
          null,
          878,
          899,
          null,
          228,
          259,
          null,
          689,
          709,
          null,
          673,
          714,
          null,
          726,
          752,
          null,
          1329,
          1356,
          null,
          1024,
          1044,
          null,
          1559,
          1641,
          null,
          1264,
          1284,
          null,
          1479,
          1510,
          null,
          850,
          875,
          null,
          1168,
          1191,
          null,
          1297,
          1317,
          null,
          1297,
          1317,
          null,
          809,
          829,
          null,
          1108,
          1142,
          null,
          342,
          367,
          null,
          396,
          416,
          null,
          600,
          628,
          null,
          554,
          587,
          null,
          538,
          560,
          null,
          446,
          469,
          null,
          1367,
          1388,
          null,
          385,
          406,
          null,
          932,
          952,
          null,
          145,
          173,
          null,
          1448,
          1468,
          null,
          1500,
          1521,
          null,
          1363,
          1383,
          null,
          1310,
          1331,
          null,
          396,
          425,
          null,
          1474,
          1497,
          null,
          339,
          369,
          null,
          1265,
          1290,
          null,
          245,
          268,
          null,
          668,
          688,
          null,
          318,
          345,
          null,
          54,
          76,
          null,
          758,
          783,
          null,
          331,
          356,
          null,
          1084,
          1104,
          null,
          1557,
          1578,
          null,
          1562,
          1583,
          null,
          975,
          995,
          null,
          1387,
          1410,
          null,
          1027,
          1055,
          null,
          1194,
          1215,
          null,
          747,
          767,
          null,
          167,
          187,
          null,
          1322,
          1342,
          null,
          973,
          994,
          null,
          1475,
          1505,
          null,
          1420,
          1442
         ],
         "yaxis": "y"
        },
        {
         "line": {
          "color": "black",
          "dash": "dot"
         },
         "mode": "lines",
         "name": "Alignment",
         "showlegend": true,
         "type": "scatter",
         "x": [
          0.2,
          -0.8,
          null,
          3.2,
          2.2,
          null,
          6.2,
          56.2,
          null,
          57.2,
          56.2,
          null,
          57.2,
          146.2,
          null,
          147.2,
          146.2,
          null,
          147.2,
          197.2,
          null,
          198.2,
          197.2,
          null,
          198.2,
          353.2,
          null,
          354.2,
          353.2,
          null,
          354.2,
          668.2,
          null,
          831.2,
          830.2,
          null,
          882.2,
          881.2,
          null,
          924.2,
          992.2,
          null,
          993.2,
          992.2,
          null,
          993.2,
          1337.2,
          null,
          3.2,
          2.2,
          null,
          6.2,
          5.2,
          null,
          669.2,
          791.2,
          null,
          1338.2,
          1586.2,
          null,
          792.2,
          791.2,
          null,
          831.2,
          848.2,
          null,
          882.2,
          905.2,
          null,
          792.2,
          812.2,
          null,
          858.2,
          866.2,
          null,
          867.2,
          866.2,
          null,
          1587.2,
          1634.2,
          null,
          1635.2,
          1634.2
         ],
         "xaxis": "x",
         "y": [
          0,
          -1,
          null,
          3,
          2,
          null,
          6,
          56,
          null,
          57,
          56,
          null,
          57,
          146,
          null,
          147,
          146,
          null,
          147,
          197,
          null,
          198,
          197,
          null,
          198,
          353,
          null,
          354,
          353,
          null,
          354,
          668,
          null,
          831,
          830,
          null,
          882,
          881,
          null,
          924,
          992,
          null,
          993,
          992,
          null,
          993,
          1337,
          null,
          0,
          -1,
          null,
          3,
          2,
          null,
          672,
          794,
          null,
          1341,
          1589,
          null,
          810,
          800,
          null,
          849,
          866,
          null,
          900,
          923,
          null,
          801,
          830,
          null,
          867,
          875,
          null,
          882,
          881,
          null,
          1593,
          1640,
          null,
          1641,
          1640
         ],
         "yaxis": "y"
        }
       ],
       "layout": {
        "autosize": false,
        "font": {
         "family": "Balto",
         "size": 14
        },
        "height": 501.8348623853211,
        "hovermode": "closest",
        "margin": {
         "b": 50,
         "l": 50,
         "pad": 4,
         "r": 50,
         "t": 50
        },
        "showlegend": true,
        "template": {
         "data": {
          "bar": [
           {
            "error_x": {
             "color": "#2a3f5f"
            },
            "error_y": {
             "color": "#2a3f5f"
            },
            "marker": {
             "line": {
              "color": "#E5ECF6",
              "width": 0.5
             },
             "pattern": {
              "fillmode": "overlay",
              "size": 10,
              "solidity": 0.2
             }
            },
            "type": "bar"
           }
          ],
          "barpolar": [
           {
            "marker": {
             "line": {
              "color": "#E5ECF6",
              "width": 0.5
             },
             "pattern": {
              "fillmode": "overlay",
              "size": 10,
              "solidity": 0.2
             }
            },
            "type": "barpolar"
           }
          ],
          "carpet": [
           {
            "aaxis": {
             "endlinecolor": "#2a3f5f",
             "gridcolor": "white",
             "linecolor": "white",
             "minorgridcolor": "white",
             "startlinecolor": "#2a3f5f"
            },
            "baxis": {
             "endlinecolor": "#2a3f5f",
             "gridcolor": "white",
             "linecolor": "white",
             "minorgridcolor": "white",
             "startlinecolor": "#2a3f5f"
            },
            "type": "carpet"
           }
          ],
          "choropleth": [
           {
            "colorbar": {
             "outlinewidth": 0,
             "ticks": ""
            },
            "type": "choropleth"
           }
          ],
          "contour": [
           {
            "colorbar": {
             "outlinewidth": 0,
             "ticks": ""
            },
            "colorscale": [
             [
              0,
              "#0d0887"
             ],
             [
              0.1111111111111111,
              "#46039f"
             ],
             [
              0.2222222222222222,
              "#7201a8"
             ],
             [
              0.3333333333333333,
              "#9c179e"
             ],
             [
              0.4444444444444444,
              "#bd3786"
             ],
             [
              0.5555555555555556,
              "#d8576b"
             ],
             [
              0.6666666666666666,
              "#ed7953"
             ],
             [
              0.7777777777777778,
              "#fb9f3a"
             ],
             [
              0.8888888888888888,
              "#fdca26"
             ],
             [
              1,
              "#f0f921"
             ]
            ],
            "type": "contour"
           }
          ],
          "contourcarpet": [
           {
            "colorbar": {
             "outlinewidth": 0,
             "ticks": ""
            },
            "type": "contourcarpet"
           }
          ],
          "heatmap": [
           {
            "colorbar": {
             "outlinewidth": 0,
             "ticks": ""
            },
            "colorscale": [
             [
              0,
              "#0d0887"
             ],
             [
              0.1111111111111111,
              "#46039f"
             ],
             [
              0.2222222222222222,
              "#7201a8"
             ],
             [
              0.3333333333333333,
              "#9c179e"
             ],
             [
              0.4444444444444444,
              "#bd3786"
             ],
             [
              0.5555555555555556,
              "#d8576b"
             ],
             [
              0.6666666666666666,
              "#ed7953"
             ],
             [
              0.7777777777777778,
              "#fb9f3a"
             ],
             [
              0.8888888888888888,
              "#fdca26"
             ],
             [
              1,
              "#f0f921"
             ]
            ],
            "type": "heatmap"
           }
          ],
          "heatmapgl": [
           {
            "colorbar": {
             "outlinewidth": 0,
             "ticks": ""
            },
            "colorscale": [
             [
              0,
              "#0d0887"
             ],
             [
              0.1111111111111111,
              "#46039f"
             ],
             [
              0.2222222222222222,
              "#7201a8"
             ],
             [
              0.3333333333333333,
              "#9c179e"
             ],
             [
              0.4444444444444444,
              "#bd3786"
             ],
             [
              0.5555555555555556,
              "#d8576b"
             ],
             [
              0.6666666666666666,
              "#ed7953"
             ],
             [
              0.7777777777777778,
              "#fb9f3a"
             ],
             [
              0.8888888888888888,
              "#fdca26"
             ],
             [
              1,
              "#f0f921"
             ]
            ],
            "type": "heatmapgl"
           }
          ],
          "histogram": [
           {
            "marker": {
             "pattern": {
              "fillmode": "overlay",
              "size": 10,
              "solidity": 0.2
             }
            },
            "type": "histogram"
           }
          ],
          "histogram2d": [
           {
            "colorbar": {
             "outlinewidth": 0,
             "ticks": ""
            },
            "colorscale": [
             [
              0,
              "#0d0887"
             ],
             [
              0.1111111111111111,
              "#46039f"
             ],
             [
              0.2222222222222222,
              "#7201a8"
             ],
             [
              0.3333333333333333,
              "#9c179e"
             ],
             [
              0.4444444444444444,
              "#bd3786"
             ],
             [
              0.5555555555555556,
              "#d8576b"
             ],
             [
              0.6666666666666666,
              "#ed7953"
             ],
             [
              0.7777777777777778,
              "#fb9f3a"
             ],
             [
              0.8888888888888888,
              "#fdca26"
             ],
             [
              1,
              "#f0f921"
             ]
            ],
            "type": "histogram2d"
           }
          ],
          "histogram2dcontour": [
           {
            "colorbar": {
             "outlinewidth": 0,
             "ticks": ""
            },
            "colorscale": [
             [
              0,
              "#0d0887"
             ],
             [
              0.1111111111111111,
              "#46039f"
             ],
             [
              0.2222222222222222,
              "#7201a8"
             ],
             [
              0.3333333333333333,
              "#9c179e"
             ],
             [
              0.4444444444444444,
              "#bd3786"
             ],
             [
              0.5555555555555556,
              "#d8576b"
             ],
             [
              0.6666666666666666,
              "#ed7953"
             ],
             [
              0.7777777777777778,
              "#fb9f3a"
             ],
             [
              0.8888888888888888,
              "#fdca26"
             ],
             [
              1,
              "#f0f921"
             ]
            ],
            "type": "histogram2dcontour"
           }
          ],
          "mesh3d": [
           {
            "colorbar": {
             "outlinewidth": 0,
             "ticks": ""
            },
            "type": "mesh3d"
           }
          ],
          "parcoords": [
           {
            "line": {
             "colorbar": {
              "outlinewidth": 0,
              "ticks": ""
             }
            },
            "type": "parcoords"
           }
          ],
          "pie": [
           {
            "automargin": true,
            "type": "pie"
           }
          ],
          "scatter": [
           {
            "fillpattern": {
             "fillmode": "overlay",
             "size": 10,
             "solidity": 0.2
            },
            "type": "scatter"
           }
          ],
          "scatter3d": [
           {
            "line": {
             "colorbar": {
              "outlinewidth": 0,
              "ticks": ""
             }
            },
            "marker": {
             "colorbar": {
              "outlinewidth": 0,
              "ticks": ""
             }
            },
            "type": "scatter3d"
           }
          ],
          "scattercarpet": [
           {
            "marker": {
             "colorbar": {
              "outlinewidth": 0,
              "ticks": ""
             }
            },
            "type": "scattercarpet"
           }
          ],
          "scattergeo": [
           {
            "marker": {
             "colorbar": {
              "outlinewidth": 0,
              "ticks": ""
             }
            },
            "type": "scattergeo"
           }
          ],
          "scattergl": [
           {
            "marker": {
             "colorbar": {
              "outlinewidth": 0,
              "ticks": ""
             }
            },
            "type": "scattergl"
           }
          ],
          "scattermapbox": [
           {
            "marker": {
             "colorbar": {
              "outlinewidth": 0,
              "ticks": ""
             }
            },
            "type": "scattermapbox"
           }
          ],
          "scatterpolar": [
           {
            "marker": {
             "colorbar": {
              "outlinewidth": 0,
              "ticks": ""
             }
            },
            "type": "scatterpolar"
           }
          ],
          "scatterpolargl": [
           {
            "marker": {
             "colorbar": {
              "outlinewidth": 0,
              "ticks": ""
             }
            },
            "type": "scatterpolargl"
           }
          ],
          "scatterternary": [
           {
            "marker": {
             "colorbar": {
              "outlinewidth": 0,
              "ticks": ""
             }
            },
            "type": "scatterternary"
           }
          ],
          "surface": [
           {
            "colorbar": {
             "outlinewidth": 0,
             "ticks": ""
            },
            "colorscale": [
             [
              0,
              "#0d0887"
             ],
             [
              0.1111111111111111,
              "#46039f"
             ],
             [
              0.2222222222222222,
              "#7201a8"
             ],
             [
              0.3333333333333333,
              "#9c179e"
             ],
             [
              0.4444444444444444,
              "#bd3786"
             ],
             [
              0.5555555555555556,
              "#d8576b"
             ],
             [
              0.6666666666666666,
              "#ed7953"
             ],
             [
              0.7777777777777778,
              "#fb9f3a"
             ],
             [
              0.8888888888888888,
              "#fdca26"
             ],
             [
              1,
              "#f0f921"
             ]
            ],
            "type": "surface"
           }
          ],
          "table": [
           {
            "cells": {
             "fill": {
              "color": "#EBF0F8"
             },
             "line": {
              "color": "white"
             }
            },
            "header": {
             "fill": {
              "color": "#C8D4E3"
             },
             "line": {
              "color": "white"
             }
            },
            "type": "table"
           }
          ]
         },
         "layout": {
          "annotationdefaults": {
           "arrowcolor": "#2a3f5f",
           "arrowhead": 0,
           "arrowwidth": 1
          },
          "autotypenumbers": "strict",
          "coloraxis": {
           "colorbar": {
            "outlinewidth": 0,
            "ticks": ""
           }
          },
          "colorscale": {
           "diverging": [
            [
             0,
             "#8e0152"
            ],
            [
             0.1,
             "#c51b7d"
            ],
            [
             0.2,
             "#de77ae"
            ],
            [
             0.3,
             "#f1b6da"
            ],
            [
             0.4,
             "#fde0ef"
            ],
            [
             0.5,
             "#f7f7f7"
            ],
            [
             0.6,
             "#e6f5d0"
            ],
            [
             0.7,
             "#b8e186"
            ],
            [
             0.8,
             "#7fbc41"
            ],
            [
             0.9,
             "#4d9221"
            ],
            [
             1,
             "#276419"
            ]
           ],
           "sequential": [
            [
             0,
             "#0d0887"
            ],
            [
             0.1111111111111111,
             "#46039f"
            ],
            [
             0.2222222222222222,
             "#7201a8"
            ],
            [
             0.3333333333333333,
             "#9c179e"
            ],
            [
             0.4444444444444444,
             "#bd3786"
            ],
            [
             0.5555555555555556,
             "#d8576b"
            ],
            [
             0.6666666666666666,
             "#ed7953"
            ],
            [
             0.7777777777777778,
             "#fb9f3a"
            ],
            [
             0.8888888888888888,
             "#fdca26"
            ],
            [
             1,
             "#f0f921"
            ]
           ],
           "sequentialminus": [
            [
             0,
             "#0d0887"
            ],
            [
             0.1111111111111111,
             "#46039f"
            ],
            [
             0.2222222222222222,
             "#7201a8"
            ],
            [
             0.3333333333333333,
             "#9c179e"
            ],
            [
             0.4444444444444444,
             "#bd3786"
            ],
            [
             0.5555555555555556,
             "#d8576b"
            ],
            [
             0.6666666666666666,
             "#ed7953"
            ],
            [
             0.7777777777777778,
             "#fb9f3a"
            ],
            [
             0.8888888888888888,
             "#fdca26"
            ],
            [
             1,
             "#f0f921"
            ]
           ]
          },
          "colorway": [
           "#636efa",
           "#EF553B",
           "#00cc96",
           "#ab63fa",
           "#FFA15A",
           "#19d3f3",
           "#FF6692",
           "#B6E880",
           "#FF97FF",
           "#FECB52"
          ],
          "font": {
           "color": "#2a3f5f"
          },
          "geo": {
           "bgcolor": "white",
           "lakecolor": "white",
           "landcolor": "#E5ECF6",
           "showlakes": true,
           "showland": true,
           "subunitcolor": "white"
          },
          "hoverlabel": {
           "align": "left"
          },
          "hovermode": "closest",
          "mapbox": {
           "style": "light"
          },
          "paper_bgcolor": "white",
          "plot_bgcolor": "#E5ECF6",
          "polar": {
           "angularaxis": {
            "gridcolor": "white",
            "linecolor": "white",
            "ticks": ""
           },
           "bgcolor": "#E5ECF6",
           "radialaxis": {
            "gridcolor": "white",
            "linecolor": "white",
            "ticks": ""
           }
          },
          "scene": {
           "xaxis": {
            "backgroundcolor": "#E5ECF6",
            "gridcolor": "white",
            "gridwidth": 2,
            "linecolor": "white",
            "showbackground": true,
            "ticks": "",
            "zerolinecolor": "white"
           },
           "yaxis": {
            "backgroundcolor": "#E5ECF6",
            "gridcolor": "white",
            "gridwidth": 2,
            "linecolor": "white",
            "showbackground": true,
            "ticks": "",
            "zerolinecolor": "white"
           },
           "zaxis": {
            "backgroundcolor": "#E5ECF6",
            "gridcolor": "white",
            "gridwidth": 2,
            "linecolor": "white",
            "showbackground": true,
            "ticks": "",
            "zerolinecolor": "white"
           }
          },
          "shapedefaults": {
           "line": {
            "color": "#2a3f5f"
           }
          },
          "ternary": {
           "aaxis": {
            "gridcolor": "white",
            "linecolor": "white",
            "ticks": ""
           },
           "baxis": {
            "gridcolor": "white",
            "linecolor": "white",
            "ticks": ""
           },
           "bgcolor": "#E5ECF6",
           "caxis": {
            "gridcolor": "white",
            "linecolor": "white",
            "ticks": ""
           }
          },
          "title": {
           "x": 0.05
          },
          "xaxis": {
           "automargin": true,
           "gridcolor": "white",
           "linecolor": "white",
           "ticks": "",
           "title": {
            "standoff": 15
           },
           "zerolinecolor": "white",
           "zerolinewidth": 2
          },
          "yaxis": {
           "automargin": true,
           "gridcolor": "white",
           "linecolor": "white",
           "ticks": "",
           "title": {
            "standoff": 15
           },
           "zerolinecolor": "white",
           "zerolinewidth": 2
          }
         }
        },
        "title": {
         "text": "Window=20, Matched ≥ 13/20 & Gap ≤ 0"
        },
        "width": 500,
        "xaxis": {
         "mirror": true,
         "range": [
          0,
          1635
         ],
         "showgrid": false,
         "showline": true,
         "title": {
          "text": "pteropus_vampyrus-ENSPVAG00000014009"
         },
         "visible": true
        },
        "yaxis": {
         "mirror": true,
         "range": [
          0,
          1641
         ],
         "showgrid": false,
         "showline": true,
         "title": {
          "text": "bison_bison_bison-ENSBBBG00000020546"
         },
         "visible": true
        }
       }
      },
      "text/html": [
       "<div>                            <div id=\"6bce5d62-ffbd-49a6-a6e1-6475ed818ef4\" class=\"plotly-graph-div\" style=\"height:501.8348623853211px; width:500px;\"></div>            <script type=\"text/javascript\">                require([\"plotly\"], function(Plotly) {                    window.PLOTLYENV=window.PLOTLYENV || {};                                    if (document.getElementById(\"6bce5d62-ffbd-49a6-a6e1-6475ed818ef4\")) {                    Plotly.newPlot(                        \"6bce5d62-ffbd-49a6-a6e1-6475ed818ef4\",                        [{\"line\":{\"color\":\"blue\"},\"mode\":\"lines\",\"name\":\"+ strand\",\"showlegend\":true,\"x\":[0,49,null,42,1351,null,1329,1563,null,869,899,null,76,99,null,473,495,null,240,271,null,453,483,null,1478,1499,null,38,69,null,323,343,null,550,591,null,603,629,null,1167,1194,null,904,924,null,1553,1635,null,1168,1188,null,828,859,null,1168,1193,null,850,873,null,853,873,null,1171,1191,null,344,364,null,334,368,null,1116,1141,null,864,884,null,723,751,null,677,710,null,121,143,null,1517,1540,null,385,406,null,1364,1385,null,149,169,null,952,980,null,950,970,null,199,220,null,192,212,null,203,224,null,201,230,null,1582,1605,null,223,253,null,243,268,null,1267,1290,null,815,835,null,684,711,null,831,853,null,331,356,null,758,783,null,811,831,null,363,384,null,991,1012,null,1041,1061,null,1339,1362,null,1108,1136,null,1114,1135,null,1006,1026,null,750,770,null,890,910,null,1410,1431,null,1415,1445,null,1474,1496],\"xaxis\":\"x\",\"y\":[0,49,null,42,1351,null,1332,1566,null,359,389,null,536,559,null,536,558,null,827,858,null,360,390,null,878,899,null,228,259,null,689,709,null,673,714,null,726,752,null,1329,1356,null,1024,1044,null,1559,1641,null,1264,1284,null,1479,1510,null,850,875,null,1168,1191,null,1297,1317,null,1297,1317,null,809,829,null,1108,1142,null,342,367,null,396,416,null,600,628,null,554,587,null,538,560,null,446,469,null,1367,1388,null,385,406,null,932,952,null,145,173,null,1448,1468,null,1500,1521,null,1363,1383,null,1310,1331,null,396,425,null,1474,1497,null,339,369,null,1265,1290,null,245,268,null,668,688,null,318,345,null,54,76,null,758,783,null,331,356,null,1084,1104,null,1557,1578,null,1562,1583,null,975,995,null,1387,1410,null,1027,1055,null,1194,1215,null,747,767,null,167,187,null,1322,1342,null,973,994,null,1475,1505,null,1420,1442],\"yaxis\":\"y\",\"type\":\"scatter\"},{\"line\":{\"color\":\"black\",\"dash\":\"dot\"},\"mode\":\"lines\",\"name\":\"Alignment\",\"showlegend\":true,\"x\":[0.2,-0.8,null,3.2,2.2,null,6.2,56.2,null,57.2,56.2,null,57.2,146.2,null,147.2,146.2,null,147.2,197.2,null,198.2,197.2,null,198.2,353.2,null,354.2,353.2,null,354.2,668.2,null,831.2,830.2,null,882.2,881.2,null,924.2,992.2,null,993.2,992.2,null,993.2,1337.2,null,3.2,2.2,null,6.2,5.2,null,669.2,791.2,null,1338.2,1586.2,null,792.2,791.2,null,831.2,848.2,null,882.2,905.2,null,792.2,812.2,null,858.2,866.2,null,867.2,866.2,null,1587.2,1634.2,null,1635.2,1634.2],\"xaxis\":\"x\",\"y\":[0,-1,null,3,2,null,6,56,null,57,56,null,57,146,null,147,146,null,147,197,null,198,197,null,198,353,null,354,353,null,354,668,null,831,830,null,882,881,null,924,992,null,993,992,null,993,1337,null,0,-1,null,3,2,null,672,794,null,1341,1589,null,810,800,null,849,866,null,900,923,null,801,830,null,867,875,null,882,881,null,1593,1640,null,1641,1640],\"yaxis\":\"y\",\"type\":\"scatter\"}],                        {\"autosize\":false,\"font\":{\"family\":\"Balto\",\"size\":14},\"height\":501.8348623853211,\"hovermode\":\"closest\",\"margin\":{\"b\":50,\"l\":50,\"pad\":4,\"r\":50,\"t\":50},\"showlegend\":true,\"title\":{\"text\":\"Window=20, Matched \\u2265 13\\u002f20 & Gap \\u2264 0\"},\"width\":500,\"xaxis\":{\"mirror\":true,\"range\":[0,1635],\"showgrid\":false,\"showline\":true,\"title\":{\"text\":\"pteropus_vampyrus-ENSPVAG00000014009\"},\"visible\":true},\"yaxis\":{\"mirror\":true,\"range\":[0,1641],\"showgrid\":false,\"showline\":true,\"title\":{\"text\":\"bison_bison_bison-ENSBBBG00000020546\"},\"visible\":true},\"template\":{\"data\":{\"histogram2dcontour\":[{\"type\":\"histogram2dcontour\",\"colorbar\":{\"outlinewidth\":0,\"ticks\":\"\"},\"colorscale\":[[0.0,\"#0d0887\"],[0.1111111111111111,\"#46039f\"],[0.2222222222222222,\"#7201a8\"],[0.3333333333333333,\"#9c179e\"],[0.4444444444444444,\"#bd3786\"],[0.5555555555555556,\"#d8576b\"],[0.6666666666666666,\"#ed7953\"],[0.7777777777777778,\"#fb9f3a\"],[0.8888888888888888,\"#fdca26\"],[1.0,\"#f0f921\"]]}],\"choropleth\":[{\"type\":\"choropleth\",\"colorbar\":{\"outlinewidth\":0,\"ticks\":\"\"}}],\"histogram2d\":[{\"type\":\"histogram2d\",\"colorbar\":{\"outlinewidth\":0,\"ticks\":\"\"},\"colorscale\":[[0.0,\"#0d0887\"],[0.1111111111111111,\"#46039f\"],[0.2222222222222222,\"#7201a8\"],[0.3333333333333333,\"#9c179e\"],[0.4444444444444444,\"#bd3786\"],[0.5555555555555556,\"#d8576b\"],[0.6666666666666666,\"#ed7953\"],[0.7777777777777778,\"#fb9f3a\"],[0.8888888888888888,\"#fdca26\"],[1.0,\"#f0f921\"]]}],\"heatmap\":[{\"type\":\"heatmap\",\"colorbar\":{\"outlinewidth\":0,\"ticks\":\"\"},\"colorscale\":[[0.0,\"#0d0887\"],[0.1111111111111111,\"#46039f\"],[0.2222222222222222,\"#7201a8\"],[0.3333333333333333,\"#9c179e\"],[0.4444444444444444,\"#bd3786\"],[0.5555555555555556,\"#d8576b\"],[0.6666666666666666,\"#ed7953\"],[0.7777777777777778,\"#fb9f3a\"],[0.8888888888888888,\"#fdca26\"],[1.0,\"#f0f921\"]]}],\"heatmapgl\":[{\"type\":\"heatmapgl\",\"colorbar\":{\"outlinewidth\":0,\"ticks\":\"\"},\"colorscale\":[[0.0,\"#0d0887\"],[0.1111111111111111,\"#46039f\"],[0.2222222222222222,\"#7201a8\"],[0.3333333333333333,\"#9c179e\"],[0.4444444444444444,\"#bd3786\"],[0.5555555555555556,\"#d8576b\"],[0.6666666666666666,\"#ed7953\"],[0.7777777777777778,\"#fb9f3a\"],[0.8888888888888888,\"#fdca26\"],[1.0,\"#f0f921\"]]}],\"contourcarpet\":[{\"type\":\"contourcarpet\",\"colorbar\":{\"outlinewidth\":0,\"ticks\":\"\"}}],\"contour\":[{\"type\":\"contour\",\"colorbar\":{\"outlinewidth\":0,\"ticks\":\"\"},\"colorscale\":[[0.0,\"#0d0887\"],[0.1111111111111111,\"#46039f\"],[0.2222222222222222,\"#7201a8\"],[0.3333333333333333,\"#9c179e\"],[0.4444444444444444,\"#bd3786\"],[0.5555555555555556,\"#d8576b\"],[0.6666666666666666,\"#ed7953\"],[0.7777777777777778,\"#fb9f3a\"],[0.8888888888888888,\"#fdca26\"],[1.0,\"#f0f921\"]]}],\"surface\":[{\"type\":\"surface\",\"colorbar\":{\"outlinewidth\":0,\"ticks\":\"\"},\"colorscale\":[[0.0,\"#0d0887\"],[0.1111111111111111,\"#46039f\"],[0.2222222222222222,\"#7201a8\"],[0.3333333333333333,\"#9c179e\"],[0.4444444444444444,\"#bd3786\"],[0.5555555555555556,\"#d8576b\"],[0.6666666666666666,\"#ed7953\"],[0.7777777777777778,\"#fb9f3a\"],[0.8888888888888888,\"#fdca26\"],[1.0,\"#f0f921\"]]}],\"mesh3d\":[{\"type\":\"mesh3d\",\"colorbar\":{\"outlinewidth\":0,\"ticks\":\"\"}}],\"scatter\":[{\"fillpattern\":{\"fillmode\":\"overlay\",\"size\":10,\"solidity\":0.2},\"type\":\"scatter\"}],\"parcoords\":[{\"type\":\"parcoords\",\"line\":{\"colorbar\":{\"outlinewidth\":0,\"ticks\":\"\"}}}],\"scatterpolargl\":[{\"type\":\"scatterpolargl\",\"marker\":{\"colorbar\":{\"outlinewidth\":0,\"ticks\":\"\"}}}],\"bar\":[{\"error_x\":{\"color\":\"#2a3f5f\"},\"error_y\":{\"color\":\"#2a3f5f\"},\"marker\":{\"line\":{\"color\":\"#E5ECF6\",\"width\":0.5},\"pattern\":{\"fillmode\":\"overlay\",\"size\":10,\"solidity\":0.2}},\"type\":\"bar\"}],\"scattergeo\":[{\"type\":\"scattergeo\",\"marker\":{\"colorbar\":{\"outlinewidth\":0,\"ticks\":\"\"}}}],\"scatterpolar\":[{\"type\":\"scatterpolar\",\"marker\":{\"colorbar\":{\"outlinewidth\":0,\"ticks\":\"\"}}}],\"histogram\":[{\"marker\":{\"pattern\":{\"fillmode\":\"overlay\",\"size\":10,\"solidity\":0.2}},\"type\":\"histogram\"}],\"scattergl\":[{\"type\":\"scattergl\",\"marker\":{\"colorbar\":{\"outlinewidth\":0,\"ticks\":\"\"}}}],\"scatter3d\":[{\"type\":\"scatter3d\",\"line\":{\"colorbar\":{\"outlinewidth\":0,\"ticks\":\"\"}},\"marker\":{\"colorbar\":{\"outlinewidth\":0,\"ticks\":\"\"}}}],\"scattermapbox\":[{\"type\":\"scattermapbox\",\"marker\":{\"colorbar\":{\"outlinewidth\":0,\"ticks\":\"\"}}}],\"scatterternary\":[{\"type\":\"scatterternary\",\"marker\":{\"colorbar\":{\"outlinewidth\":0,\"ticks\":\"\"}}}],\"scattercarpet\":[{\"type\":\"scattercarpet\",\"marker\":{\"colorbar\":{\"outlinewidth\":0,\"ticks\":\"\"}}}],\"carpet\":[{\"aaxis\":{\"endlinecolor\":\"#2a3f5f\",\"gridcolor\":\"white\",\"linecolor\":\"white\",\"minorgridcolor\":\"white\",\"startlinecolor\":\"#2a3f5f\"},\"baxis\":{\"endlinecolor\":\"#2a3f5f\",\"gridcolor\":\"white\",\"linecolor\":\"white\",\"minorgridcolor\":\"white\",\"startlinecolor\":\"#2a3f5f\"},\"type\":\"carpet\"}],\"table\":[{\"cells\":{\"fill\":{\"color\":\"#EBF0F8\"},\"line\":{\"color\":\"white\"}},\"header\":{\"fill\":{\"color\":\"#C8D4E3\"},\"line\":{\"color\":\"white\"}},\"type\":\"table\"}],\"barpolar\":[{\"marker\":{\"line\":{\"color\":\"#E5ECF6\",\"width\":0.5},\"pattern\":{\"fillmode\":\"overlay\",\"size\":10,\"solidity\":0.2}},\"type\":\"barpolar\"}],\"pie\":[{\"automargin\":true,\"type\":\"pie\"}]},\"layout\":{\"autotypenumbers\":\"strict\",\"colorway\":[\"#636efa\",\"#EF553B\",\"#00cc96\",\"#ab63fa\",\"#FFA15A\",\"#19d3f3\",\"#FF6692\",\"#B6E880\",\"#FF97FF\",\"#FECB52\"],\"font\":{\"color\":\"#2a3f5f\"},\"hovermode\":\"closest\",\"hoverlabel\":{\"align\":\"left\"},\"paper_bgcolor\":\"white\",\"plot_bgcolor\":\"#E5ECF6\",\"polar\":{\"bgcolor\":\"#E5ECF6\",\"angularaxis\":{\"gridcolor\":\"white\",\"linecolor\":\"white\",\"ticks\":\"\"},\"radialaxis\":{\"gridcolor\":\"white\",\"linecolor\":\"white\",\"ticks\":\"\"}},\"ternary\":{\"bgcolor\":\"#E5ECF6\",\"aaxis\":{\"gridcolor\":\"white\",\"linecolor\":\"white\",\"ticks\":\"\"},\"baxis\":{\"gridcolor\":\"white\",\"linecolor\":\"white\",\"ticks\":\"\"},\"caxis\":{\"gridcolor\":\"white\",\"linecolor\":\"white\",\"ticks\":\"\"}},\"coloraxis\":{\"colorbar\":{\"outlinewidth\":0,\"ticks\":\"\"}},\"colorscale\":{\"sequential\":[[0.0,\"#0d0887\"],[0.1111111111111111,\"#46039f\"],[0.2222222222222222,\"#7201a8\"],[0.3333333333333333,\"#9c179e\"],[0.4444444444444444,\"#bd3786\"],[0.5555555555555556,\"#d8576b\"],[0.6666666666666666,\"#ed7953\"],[0.7777777777777778,\"#fb9f3a\"],[0.8888888888888888,\"#fdca26\"],[1.0,\"#f0f921\"]],\"sequentialminus\":[[0.0,\"#0d0887\"],[0.1111111111111111,\"#46039f\"],[0.2222222222222222,\"#7201a8\"],[0.3333333333333333,\"#9c179e\"],[0.4444444444444444,\"#bd3786\"],[0.5555555555555556,\"#d8576b\"],[0.6666666666666666,\"#ed7953\"],[0.7777777777777778,\"#fb9f3a\"],[0.8888888888888888,\"#fdca26\"],[1.0,\"#f0f921\"]],\"diverging\":[[0,\"#8e0152\"],[0.1,\"#c51b7d\"],[0.2,\"#de77ae\"],[0.3,\"#f1b6da\"],[0.4,\"#fde0ef\"],[0.5,\"#f7f7f7\"],[0.6,\"#e6f5d0\"],[0.7,\"#b8e186\"],[0.8,\"#7fbc41\"],[0.9,\"#4d9221\"],[1,\"#276419\"]]},\"xaxis\":{\"gridcolor\":\"white\",\"linecolor\":\"white\",\"ticks\":\"\",\"title\":{\"standoff\":15},\"zerolinecolor\":\"white\",\"automargin\":true,\"zerolinewidth\":2},\"yaxis\":{\"gridcolor\":\"white\",\"linecolor\":\"white\",\"ticks\":\"\",\"title\":{\"standoff\":15},\"zerolinecolor\":\"white\",\"automargin\":true,\"zerolinewidth\":2},\"scene\":{\"xaxis\":{\"backgroundcolor\":\"#E5ECF6\",\"gridcolor\":\"white\",\"linecolor\":\"white\",\"showbackground\":true,\"ticks\":\"\",\"zerolinecolor\":\"white\",\"gridwidth\":2},\"yaxis\":{\"backgroundcolor\":\"#E5ECF6\",\"gridcolor\":\"white\",\"linecolor\":\"white\",\"showbackground\":true,\"ticks\":\"\",\"zerolinecolor\":\"white\",\"gridwidth\":2},\"zaxis\":{\"backgroundcolor\":\"#E5ECF6\",\"gridcolor\":\"white\",\"linecolor\":\"white\",\"showbackground\":true,\"ticks\":\"\",\"zerolinecolor\":\"white\",\"gridwidth\":2}},\"shapedefaults\":{\"line\":{\"color\":\"#2a3f5f\"}},\"annotationdefaults\":{\"arrowcolor\":\"#2a3f5f\",\"arrowhead\":0,\"arrowwidth\":1},\"geo\":{\"bgcolor\":\"white\",\"landcolor\":\"#E5ECF6\",\"subunitcolor\":\"white\",\"showland\":true,\"showlakes\":true,\"lakecolor\":\"white\"},\"title\":{\"x\":0.05},\"mapbox\":{\"style\":\"light\"}}}},                        {\"responsive\": true}                    ).then(function(){\n",
       "                            \n",
       "var gd = document.getElementById('6bce5d62-ffbd-49a6-a6e1-6475ed818ef4');\n",
       "var x = new MutationObserver(function (mutations, observer) {{\n",
       "        var display = window.getComputedStyle(gd).display;\n",
       "        if (!display || display === 'none') {{\n",
       "            console.log([gd, 'removed!']);\n",
       "            Plotly.purge(gd);\n",
       "            observer.disconnect();\n",
       "        }}\n",
       "}});\n",
       "\n",
       "// Listen for the removal of the full notebook cells\n",
       "var notebookContainer = gd.closest('#notebook-container');\n",
       "if (notebookContainer) {{\n",
       "    x.observe(notebookContainer, {childList: true});\n",
       "}}\n",
       "\n",
       "// Listen for the clearing of the current output cell\n",
       "var outputEl = gd.closest('.output');\n",
       "if (outputEl) {{\n",
       "    x.observe(outputEl, {childList: true});\n",
       "}}\n",
       "\n",
       "                        })                };                });            </script>        </div>"
      ]
     },
     "metadata": {},
     "output_type": "display_data"
    },
    {
     "data": {
      "text/plain": [
       "<cogent3.draw.dotplot.Dotplot at 0x16e95c650>"
      ]
     },
     "execution_count": 90,
     "metadata": {},
     "output_type": "execute_result"
    }
   ],
   "source": [
    "aln_sub.dotplot()"
   ]
  },
  {
   "cell_type": "code",
   "execution_count": 59,
   "metadata": {},
   "outputs": [],
   "source": [
    "cpos3 = get_app(\"take_codon_positions\", 3)"
   ]
  },
  {
   "cell_type": "code",
   "execution_count": 60,
   "metadata": {},
   "outputs": [
    {
     "data": {
      "text/html": [
       "        <script type=\"text/javascript\">\n",
       "        window.PlotlyConfig = {MathJaxConfig: 'local'};\n",
       "        if (window.MathJax && window.MathJax.Hub && window.MathJax.Hub.Config) {window.MathJax.Hub.Config({SVG: {font: \"STIX-Web\"}});}\n",
       "        if (typeof require !== 'undefined') {\n",
       "        require.undef(\"plotly\");\n",
       "        requirejs.config({\n",
       "            paths: {\n",
       "                'plotly': ['https://cdn.plot.ly/plotly-2.27.0.min']\n",
       "            }\n",
       "        });\n",
       "        require(['plotly'], function(Plotly) {\n",
       "            window._Plotly = Plotly;\n",
       "        });\n",
       "        }\n",
       "        </script>\n",
       "        "
      ]
     },
     "metadata": {},
     "output_type": "display_data"
    },
    {
     "data": {
      "application/vnd.plotly.v1+json": {
       "config": {
        "plotlyServerURL": "https://plot.ly"
       },
       "data": [
        {
         "line": {
          "color": "blue"
         },
         "mode": "lines",
         "name": "+ strand",
         "showlegend": true,
         "type": "scatter",
         "x": [
          17,
          98,
          null,
          327,
          371,
          null,
          92,
          178,
          null,
          260,
          371,
          null,
          425,
          502,
          null,
          175,
          371,
          null,
          102,
          136,
          null,
          389,
          409,
          null,
          436,
          467,
          null,
          5,
          25,
          null,
          124,
          157,
          null,
          279,
          311,
          null,
          131,
          159,
          null,
          289,
          309,
          null,
          286,
          322,
          null,
          406,
          428,
          null,
          9,
          30,
          null,
          121,
          142,
          null,
          22,
          45,
          null,
          154,
          180,
          null,
          187,
          214,
          null,
          190,
          211,
          null,
          378,
          404,
          null,
          465,
          485,
          null,
          68,
          88,
          null,
          372,
          394,
          null,
          368,
          394,
          null,
          366,
          393,
          null,
          94,
          121,
          null,
          370,
          398,
          null,
          343,
          363,
          null,
          100,
          137,
          null,
          418,
          440,
          null,
          118,
          138,
          null,
          126,
          148,
          null,
          152,
          173,
          null,
          441,
          464,
          null,
          432,
          466,
          null,
          258,
          284,
          null,
          295,
          317
         ],
         "xaxis": "x",
         "y": [
          18,
          99,
          null,
          328,
          372,
          null,
          93,
          179,
          null,
          261,
          372,
          null,
          426,
          503,
          null,
          176,
          372,
          null,
          342,
          376,
          null,
          352,
          372,
          null,
          399,
          430,
          null,
          70,
          90,
          null,
          401,
          434,
          null,
          61,
          93,
          null,
          298,
          326,
          null,
          437,
          457,
          null,
          488,
          524,
          null,
          435,
          457,
          null,
          60,
          81,
          null,
          59,
          80,
          null,
          451,
          474,
          null,
          406,
          432,
          null,
          404,
          431,
          null,
          439,
          460,
          null,
          402,
          428,
          null,
          343,
          363,
          null,
          360,
          380,
          null,
          342,
          364,
          null,
          358,
          384,
          null,
          433,
          460,
          null,
          424,
          451,
          null,
          423,
          451,
          null,
          336,
          356,
          null,
          332,
          369,
          null,
          344,
          366,
          null,
          366,
          386,
          null,
          312,
          334,
          null,
          188,
          209,
          null,
          339,
          362,
          null,
          338,
          372,
          null,
          370,
          396,
          null,
          188,
          210
         ],
         "yaxis": "y"
        },
        {
         "line": {
          "color": "black",
          "dash": "dot"
         },
         "mode": "lines",
         "name": "Alignment",
         "showlegend": true,
         "type": "scatter",
         "x": [
          0.2,
          -0.8,
          null,
          0.2,
          0.2,
          null,
          39.2,
          38.2,
          null,
          40.2,
          39.2,
          null,
          72.2,
          71.2,
          null,
          98.2,
          97.2,
          null,
          233.2,
          232.2,
          null,
          274.2,
          273.2,
          null,
          286.2,
          285.2,
          null,
          290.2,
          289.2,
          null,
          295.2,
          294.2,
          null,
          315.2,
          314.2,
          null,
          316.2,
          315.2,
          null,
          523.2,
          522.2,
          null,
          524.2,
          523.2,
          null,
          545.2,
          544.2,
          null,
          1.2,
          0.2,
          null,
          1.2,
          0.2,
          null,
          14.2,
          14.2,
          null,
          15.2,
          15.2,
          null,
          16.2,
          15.2,
          null,
          22.2,
          37.2,
          null,
          39.2,
          38.2,
          null,
          40.2,
          70.2,
          null,
          72.2,
          96.2,
          null,
          98.2,
          231.2,
          null,
          233.2,
          272.2,
          null,
          274.2,
          284.2,
          null,
          286.2,
          288.2,
          null,
          290.2,
          293.2,
          null,
          295.2,
          313.2,
          null,
          315.2,
          314.2,
          null,
          316.2,
          521.2,
          null,
          523.2,
          522.2,
          null,
          524.2,
          543.2,
          null,
          545.2,
          545.2,
          null,
          546.2,
          545.2
         ],
         "xaxis": "x",
         "y": [
          0,
          -1,
          null,
          0,
          0,
          null,
          39,
          38,
          null,
          40,
          39,
          null,
          72,
          71,
          null,
          98,
          97,
          null,
          233,
          232,
          null,
          274,
          273,
          null,
          286,
          285,
          null,
          290,
          289,
          null,
          295,
          294,
          null,
          315,
          314,
          null,
          316,
          315,
          null,
          523,
          522,
          null,
          524,
          523,
          null,
          545,
          544,
          null,
          16,
          14,
          null,
          15,
          15,
          null,
          16,
          16,
          null,
          18,
          18,
          null,
          23,
          22,
          null,
          23,
          38,
          null,
          40,
          39,
          null,
          41,
          71,
          null,
          73,
          97,
          null,
          99,
          232,
          null,
          234,
          273,
          null,
          275,
          285,
          null,
          287,
          289,
          null,
          291,
          294,
          null,
          296,
          314,
          null,
          316,
          315,
          null,
          317,
          522,
          null,
          524,
          523,
          null,
          525,
          544,
          null,
          546,
          546,
          null,
          547,
          546
         ],
         "yaxis": "y"
        }
       ],
       "layout": {
        "autosize": false,
        "font": {
         "family": "Balto",
         "size": 14
        },
        "height": 500.9157509157509,
        "hovermode": "closest",
        "margin": {
         "b": 50,
         "l": 50,
         "pad": 4,
         "r": 50,
         "t": 50
        },
        "showlegend": true,
        "template": {
         "data": {
          "bar": [
           {
            "error_x": {
             "color": "#2a3f5f"
            },
            "error_y": {
             "color": "#2a3f5f"
            },
            "marker": {
             "line": {
              "color": "#E5ECF6",
              "width": 0.5
             },
             "pattern": {
              "fillmode": "overlay",
              "size": 10,
              "solidity": 0.2
             }
            },
            "type": "bar"
           }
          ],
          "barpolar": [
           {
            "marker": {
             "line": {
              "color": "#E5ECF6",
              "width": 0.5
             },
             "pattern": {
              "fillmode": "overlay",
              "size": 10,
              "solidity": 0.2
             }
            },
            "type": "barpolar"
           }
          ],
          "carpet": [
           {
            "aaxis": {
             "endlinecolor": "#2a3f5f",
             "gridcolor": "white",
             "linecolor": "white",
             "minorgridcolor": "white",
             "startlinecolor": "#2a3f5f"
            },
            "baxis": {
             "endlinecolor": "#2a3f5f",
             "gridcolor": "white",
             "linecolor": "white",
             "minorgridcolor": "white",
             "startlinecolor": "#2a3f5f"
            },
            "type": "carpet"
           }
          ],
          "choropleth": [
           {
            "colorbar": {
             "outlinewidth": 0,
             "ticks": ""
            },
            "type": "choropleth"
           }
          ],
          "contour": [
           {
            "colorbar": {
             "outlinewidth": 0,
             "ticks": ""
            },
            "colorscale": [
             [
              0,
              "#0d0887"
             ],
             [
              0.1111111111111111,
              "#46039f"
             ],
             [
              0.2222222222222222,
              "#7201a8"
             ],
             [
              0.3333333333333333,
              "#9c179e"
             ],
             [
              0.4444444444444444,
              "#bd3786"
             ],
             [
              0.5555555555555556,
              "#d8576b"
             ],
             [
              0.6666666666666666,
              "#ed7953"
             ],
             [
              0.7777777777777778,
              "#fb9f3a"
             ],
             [
              0.8888888888888888,
              "#fdca26"
             ],
             [
              1,
              "#f0f921"
             ]
            ],
            "type": "contour"
           }
          ],
          "contourcarpet": [
           {
            "colorbar": {
             "outlinewidth": 0,
             "ticks": ""
            },
            "type": "contourcarpet"
           }
          ],
          "heatmap": [
           {
            "colorbar": {
             "outlinewidth": 0,
             "ticks": ""
            },
            "colorscale": [
             [
              0,
              "#0d0887"
             ],
             [
              0.1111111111111111,
              "#46039f"
             ],
             [
              0.2222222222222222,
              "#7201a8"
             ],
             [
              0.3333333333333333,
              "#9c179e"
             ],
             [
              0.4444444444444444,
              "#bd3786"
             ],
             [
              0.5555555555555556,
              "#d8576b"
             ],
             [
              0.6666666666666666,
              "#ed7953"
             ],
             [
              0.7777777777777778,
              "#fb9f3a"
             ],
             [
              0.8888888888888888,
              "#fdca26"
             ],
             [
              1,
              "#f0f921"
             ]
            ],
            "type": "heatmap"
           }
          ],
          "heatmapgl": [
           {
            "colorbar": {
             "outlinewidth": 0,
             "ticks": ""
            },
            "colorscale": [
             [
              0,
              "#0d0887"
             ],
             [
              0.1111111111111111,
              "#46039f"
             ],
             [
              0.2222222222222222,
              "#7201a8"
             ],
             [
              0.3333333333333333,
              "#9c179e"
             ],
             [
              0.4444444444444444,
              "#bd3786"
             ],
             [
              0.5555555555555556,
              "#d8576b"
             ],
             [
              0.6666666666666666,
              "#ed7953"
             ],
             [
              0.7777777777777778,
              "#fb9f3a"
             ],
             [
              0.8888888888888888,
              "#fdca26"
             ],
             [
              1,
              "#f0f921"
             ]
            ],
            "type": "heatmapgl"
           }
          ],
          "histogram": [
           {
            "marker": {
             "pattern": {
              "fillmode": "overlay",
              "size": 10,
              "solidity": 0.2
             }
            },
            "type": "histogram"
           }
          ],
          "histogram2d": [
           {
            "colorbar": {
             "outlinewidth": 0,
             "ticks": ""
            },
            "colorscale": [
             [
              0,
              "#0d0887"
             ],
             [
              0.1111111111111111,
              "#46039f"
             ],
             [
              0.2222222222222222,
              "#7201a8"
             ],
             [
              0.3333333333333333,
              "#9c179e"
             ],
             [
              0.4444444444444444,
              "#bd3786"
             ],
             [
              0.5555555555555556,
              "#d8576b"
             ],
             [
              0.6666666666666666,
              "#ed7953"
             ],
             [
              0.7777777777777778,
              "#fb9f3a"
             ],
             [
              0.8888888888888888,
              "#fdca26"
             ],
             [
              1,
              "#f0f921"
             ]
            ],
            "type": "histogram2d"
           }
          ],
          "histogram2dcontour": [
           {
            "colorbar": {
             "outlinewidth": 0,
             "ticks": ""
            },
            "colorscale": [
             [
              0,
              "#0d0887"
             ],
             [
              0.1111111111111111,
              "#46039f"
             ],
             [
              0.2222222222222222,
              "#7201a8"
             ],
             [
              0.3333333333333333,
              "#9c179e"
             ],
             [
              0.4444444444444444,
              "#bd3786"
             ],
             [
              0.5555555555555556,
              "#d8576b"
             ],
             [
              0.6666666666666666,
              "#ed7953"
             ],
             [
              0.7777777777777778,
              "#fb9f3a"
             ],
             [
              0.8888888888888888,
              "#fdca26"
             ],
             [
              1,
              "#f0f921"
             ]
            ],
            "type": "histogram2dcontour"
           }
          ],
          "mesh3d": [
           {
            "colorbar": {
             "outlinewidth": 0,
             "ticks": ""
            },
            "type": "mesh3d"
           }
          ],
          "parcoords": [
           {
            "line": {
             "colorbar": {
              "outlinewidth": 0,
              "ticks": ""
             }
            },
            "type": "parcoords"
           }
          ],
          "pie": [
           {
            "automargin": true,
            "type": "pie"
           }
          ],
          "scatter": [
           {
            "fillpattern": {
             "fillmode": "overlay",
             "size": 10,
             "solidity": 0.2
            },
            "type": "scatter"
           }
          ],
          "scatter3d": [
           {
            "line": {
             "colorbar": {
              "outlinewidth": 0,
              "ticks": ""
             }
            },
            "marker": {
             "colorbar": {
              "outlinewidth": 0,
              "ticks": ""
             }
            },
            "type": "scatter3d"
           }
          ],
          "scattercarpet": [
           {
            "marker": {
             "colorbar": {
              "outlinewidth": 0,
              "ticks": ""
             }
            },
            "type": "scattercarpet"
           }
          ],
          "scattergeo": [
           {
            "marker": {
             "colorbar": {
              "outlinewidth": 0,
              "ticks": ""
             }
            },
            "type": "scattergeo"
           }
          ],
          "scattergl": [
           {
            "marker": {
             "colorbar": {
              "outlinewidth": 0,
              "ticks": ""
             }
            },
            "type": "scattergl"
           }
          ],
          "scattermapbox": [
           {
            "marker": {
             "colorbar": {
              "outlinewidth": 0,
              "ticks": ""
             }
            },
            "type": "scattermapbox"
           }
          ],
          "scatterpolar": [
           {
            "marker": {
             "colorbar": {
              "outlinewidth": 0,
              "ticks": ""
             }
            },
            "type": "scatterpolar"
           }
          ],
          "scatterpolargl": [
           {
            "marker": {
             "colorbar": {
              "outlinewidth": 0,
              "ticks": ""
             }
            },
            "type": "scatterpolargl"
           }
          ],
          "scatterternary": [
           {
            "marker": {
             "colorbar": {
              "outlinewidth": 0,
              "ticks": ""
             }
            },
            "type": "scatterternary"
           }
          ],
          "surface": [
           {
            "colorbar": {
             "outlinewidth": 0,
             "ticks": ""
            },
            "colorscale": [
             [
              0,
              "#0d0887"
             ],
             [
              0.1111111111111111,
              "#46039f"
             ],
             [
              0.2222222222222222,
              "#7201a8"
             ],
             [
              0.3333333333333333,
              "#9c179e"
             ],
             [
              0.4444444444444444,
              "#bd3786"
             ],
             [
              0.5555555555555556,
              "#d8576b"
             ],
             [
              0.6666666666666666,
              "#ed7953"
             ],
             [
              0.7777777777777778,
              "#fb9f3a"
             ],
             [
              0.8888888888888888,
              "#fdca26"
             ],
             [
              1,
              "#f0f921"
             ]
            ],
            "type": "surface"
           }
          ],
          "table": [
           {
            "cells": {
             "fill": {
              "color": "#EBF0F8"
             },
             "line": {
              "color": "white"
             }
            },
            "header": {
             "fill": {
              "color": "#C8D4E3"
             },
             "line": {
              "color": "white"
             }
            },
            "type": "table"
           }
          ]
         },
         "layout": {
          "annotationdefaults": {
           "arrowcolor": "#2a3f5f",
           "arrowhead": 0,
           "arrowwidth": 1
          },
          "autotypenumbers": "strict",
          "coloraxis": {
           "colorbar": {
            "outlinewidth": 0,
            "ticks": ""
           }
          },
          "colorscale": {
           "diverging": [
            [
             0,
             "#8e0152"
            ],
            [
             0.1,
             "#c51b7d"
            ],
            [
             0.2,
             "#de77ae"
            ],
            [
             0.3,
             "#f1b6da"
            ],
            [
             0.4,
             "#fde0ef"
            ],
            [
             0.5,
             "#f7f7f7"
            ],
            [
             0.6,
             "#e6f5d0"
            ],
            [
             0.7,
             "#b8e186"
            ],
            [
             0.8,
             "#7fbc41"
            ],
            [
             0.9,
             "#4d9221"
            ],
            [
             1,
             "#276419"
            ]
           ],
           "sequential": [
            [
             0,
             "#0d0887"
            ],
            [
             0.1111111111111111,
             "#46039f"
            ],
            [
             0.2222222222222222,
             "#7201a8"
            ],
            [
             0.3333333333333333,
             "#9c179e"
            ],
            [
             0.4444444444444444,
             "#bd3786"
            ],
            [
             0.5555555555555556,
             "#d8576b"
            ],
            [
             0.6666666666666666,
             "#ed7953"
            ],
            [
             0.7777777777777778,
             "#fb9f3a"
            ],
            [
             0.8888888888888888,
             "#fdca26"
            ],
            [
             1,
             "#f0f921"
            ]
           ],
           "sequentialminus": [
            [
             0,
             "#0d0887"
            ],
            [
             0.1111111111111111,
             "#46039f"
            ],
            [
             0.2222222222222222,
             "#7201a8"
            ],
            [
             0.3333333333333333,
             "#9c179e"
            ],
            [
             0.4444444444444444,
             "#bd3786"
            ],
            [
             0.5555555555555556,
             "#d8576b"
            ],
            [
             0.6666666666666666,
             "#ed7953"
            ],
            [
             0.7777777777777778,
             "#fb9f3a"
            ],
            [
             0.8888888888888888,
             "#fdca26"
            ],
            [
             1,
             "#f0f921"
            ]
           ]
          },
          "colorway": [
           "#636efa",
           "#EF553B",
           "#00cc96",
           "#ab63fa",
           "#FFA15A",
           "#19d3f3",
           "#FF6692",
           "#B6E880",
           "#FF97FF",
           "#FECB52"
          ],
          "font": {
           "color": "#2a3f5f"
          },
          "geo": {
           "bgcolor": "white",
           "lakecolor": "white",
           "landcolor": "#E5ECF6",
           "showlakes": true,
           "showland": true,
           "subunitcolor": "white"
          },
          "hoverlabel": {
           "align": "left"
          },
          "hovermode": "closest",
          "mapbox": {
           "style": "light"
          },
          "paper_bgcolor": "white",
          "plot_bgcolor": "#E5ECF6",
          "polar": {
           "angularaxis": {
            "gridcolor": "white",
            "linecolor": "white",
            "ticks": ""
           },
           "bgcolor": "#E5ECF6",
           "radialaxis": {
            "gridcolor": "white",
            "linecolor": "white",
            "ticks": ""
           }
          },
          "scene": {
           "xaxis": {
            "backgroundcolor": "#E5ECF6",
            "gridcolor": "white",
            "gridwidth": 2,
            "linecolor": "white",
            "showbackground": true,
            "ticks": "",
            "zerolinecolor": "white"
           },
           "yaxis": {
            "backgroundcolor": "#E5ECF6",
            "gridcolor": "white",
            "gridwidth": 2,
            "linecolor": "white",
            "showbackground": true,
            "ticks": "",
            "zerolinecolor": "white"
           },
           "zaxis": {
            "backgroundcolor": "#E5ECF6",
            "gridcolor": "white",
            "gridwidth": 2,
            "linecolor": "white",
            "showbackground": true,
            "ticks": "",
            "zerolinecolor": "white"
           }
          },
          "shapedefaults": {
           "line": {
            "color": "#2a3f5f"
           }
          },
          "ternary": {
           "aaxis": {
            "gridcolor": "white",
            "linecolor": "white",
            "ticks": ""
           },
           "baxis": {
            "gridcolor": "white",
            "linecolor": "white",
            "ticks": ""
           },
           "bgcolor": "#E5ECF6",
           "caxis": {
            "gridcolor": "white",
            "linecolor": "white",
            "ticks": ""
           }
          },
          "title": {
           "x": 0.05
          },
          "xaxis": {
           "automargin": true,
           "gridcolor": "white",
           "linecolor": "white",
           "ticks": "",
           "title": {
            "standoff": 15
           },
           "zerolinecolor": "white",
           "zerolinewidth": 2
          },
          "yaxis": {
           "automargin": true,
           "gridcolor": "white",
           "linecolor": "white",
           "ticks": "",
           "title": {
            "standoff": 15
           },
           "zerolinecolor": "white",
           "zerolinewidth": 2
          }
         }
        },
        "title": {
         "text": "Window=20, Matched ≥ 13/20 & Gap ≤ 0"
        },
        "width": 500,
        "xaxis": {
         "mirror": true,
         "range": [
          0,
          546
         ],
         "showgrid": false,
         "showline": true,
         "title": {
          "text": "urocitellus_parryii-ENSUPAG00010011549"
         },
         "visible": true
        },
        "yaxis": {
         "mirror": true,
         "range": [
          0,
          547
         ],
         "showgrid": false,
         "showline": true,
         "title": {
          "text": "octodon_degus-ENSODEG00000014044"
         },
         "visible": true
        }
       }
      },
      "text/html": [
       "<div>                            <div id=\"5c8087e3-2c1e-44f2-a130-c716b379f4fd\" class=\"plotly-graph-div\" style=\"height:500.9157509157509px; width:500px;\"></div>            <script type=\"text/javascript\">                require([\"plotly\"], function(Plotly) {                    window.PLOTLYENV=window.PLOTLYENV || {};                                    if (document.getElementById(\"5c8087e3-2c1e-44f2-a130-c716b379f4fd\")) {                    Plotly.newPlot(                        \"5c8087e3-2c1e-44f2-a130-c716b379f4fd\",                        [{\"line\":{\"color\":\"blue\"},\"mode\":\"lines\",\"name\":\"+ strand\",\"showlegend\":true,\"x\":[17,98,null,327,371,null,92,178,null,260,371,null,425,502,null,175,371,null,102,136,null,389,409,null,436,467,null,5,25,null,124,157,null,279,311,null,131,159,null,289,309,null,286,322,null,406,428,null,9,30,null,121,142,null,22,45,null,154,180,null,187,214,null,190,211,null,378,404,null,465,485,null,68,88,null,372,394,null,368,394,null,366,393,null,94,121,null,370,398,null,343,363,null,100,137,null,418,440,null,118,138,null,126,148,null,152,173,null,441,464,null,432,466,null,258,284,null,295,317],\"xaxis\":\"x\",\"y\":[18,99,null,328,372,null,93,179,null,261,372,null,426,503,null,176,372,null,342,376,null,352,372,null,399,430,null,70,90,null,401,434,null,61,93,null,298,326,null,437,457,null,488,524,null,435,457,null,60,81,null,59,80,null,451,474,null,406,432,null,404,431,null,439,460,null,402,428,null,343,363,null,360,380,null,342,364,null,358,384,null,433,460,null,424,451,null,423,451,null,336,356,null,332,369,null,344,366,null,366,386,null,312,334,null,188,209,null,339,362,null,338,372,null,370,396,null,188,210],\"yaxis\":\"y\",\"type\":\"scatter\"},{\"line\":{\"color\":\"black\",\"dash\":\"dot\"},\"mode\":\"lines\",\"name\":\"Alignment\",\"showlegend\":true,\"x\":[0.2,-0.8,null,0.2,0.2,null,39.2,38.2,null,40.2,39.2,null,72.2,71.2,null,98.2,97.2,null,233.2,232.2,null,274.2,273.2,null,286.2,285.2,null,290.2,289.2,null,295.2,294.2,null,315.2,314.2,null,316.2,315.2,null,523.2,522.2,null,524.2,523.2,null,545.2,544.2,null,1.2,0.2,null,1.2,0.2,null,14.2,14.2,null,15.2,15.2,null,16.2,15.2,null,22.2,37.2,null,39.2,38.2,null,40.2,70.2,null,72.2,96.2,null,98.2,231.2,null,233.2,272.2,null,274.2,284.2,null,286.2,288.2,null,290.2,293.2,null,295.2,313.2,null,315.2,314.2,null,316.2,521.2,null,523.2,522.2,null,524.2,543.2,null,545.2,545.2,null,546.2,545.2],\"xaxis\":\"x\",\"y\":[0,-1,null,0,0,null,39,38,null,40,39,null,72,71,null,98,97,null,233,232,null,274,273,null,286,285,null,290,289,null,295,294,null,315,314,null,316,315,null,523,522,null,524,523,null,545,544,null,16,14,null,15,15,null,16,16,null,18,18,null,23,22,null,23,38,null,40,39,null,41,71,null,73,97,null,99,232,null,234,273,null,275,285,null,287,289,null,291,294,null,296,314,null,316,315,null,317,522,null,524,523,null,525,544,null,546,546,null,547,546],\"yaxis\":\"y\",\"type\":\"scatter\"}],                        {\"autosize\":false,\"font\":{\"family\":\"Balto\",\"size\":14},\"height\":500.9157509157509,\"hovermode\":\"closest\",\"margin\":{\"b\":50,\"l\":50,\"pad\":4,\"r\":50,\"t\":50},\"showlegend\":true,\"title\":{\"text\":\"Window=20, Matched \\u2265 13\\u002f20 & Gap \\u2264 0\"},\"width\":500,\"xaxis\":{\"mirror\":true,\"range\":[0,546],\"showgrid\":false,\"showline\":true,\"title\":{\"text\":\"urocitellus_parryii-ENSUPAG00010011549\"},\"visible\":true},\"yaxis\":{\"mirror\":true,\"range\":[0,547],\"showgrid\":false,\"showline\":true,\"title\":{\"text\":\"octodon_degus-ENSODEG00000014044\"},\"visible\":true},\"template\":{\"data\":{\"histogram2dcontour\":[{\"type\":\"histogram2dcontour\",\"colorbar\":{\"outlinewidth\":0,\"ticks\":\"\"},\"colorscale\":[[0.0,\"#0d0887\"],[0.1111111111111111,\"#46039f\"],[0.2222222222222222,\"#7201a8\"],[0.3333333333333333,\"#9c179e\"],[0.4444444444444444,\"#bd3786\"],[0.5555555555555556,\"#d8576b\"],[0.6666666666666666,\"#ed7953\"],[0.7777777777777778,\"#fb9f3a\"],[0.8888888888888888,\"#fdca26\"],[1.0,\"#f0f921\"]]}],\"choropleth\":[{\"type\":\"choropleth\",\"colorbar\":{\"outlinewidth\":0,\"ticks\":\"\"}}],\"histogram2d\":[{\"type\":\"histogram2d\",\"colorbar\":{\"outlinewidth\":0,\"ticks\":\"\"},\"colorscale\":[[0.0,\"#0d0887\"],[0.1111111111111111,\"#46039f\"],[0.2222222222222222,\"#7201a8\"],[0.3333333333333333,\"#9c179e\"],[0.4444444444444444,\"#bd3786\"],[0.5555555555555556,\"#d8576b\"],[0.6666666666666666,\"#ed7953\"],[0.7777777777777778,\"#fb9f3a\"],[0.8888888888888888,\"#fdca26\"],[1.0,\"#f0f921\"]]}],\"heatmap\":[{\"type\":\"heatmap\",\"colorbar\":{\"outlinewidth\":0,\"ticks\":\"\"},\"colorscale\":[[0.0,\"#0d0887\"],[0.1111111111111111,\"#46039f\"],[0.2222222222222222,\"#7201a8\"],[0.3333333333333333,\"#9c179e\"],[0.4444444444444444,\"#bd3786\"],[0.5555555555555556,\"#d8576b\"],[0.6666666666666666,\"#ed7953\"],[0.7777777777777778,\"#fb9f3a\"],[0.8888888888888888,\"#fdca26\"],[1.0,\"#f0f921\"]]}],\"heatmapgl\":[{\"type\":\"heatmapgl\",\"colorbar\":{\"outlinewidth\":0,\"ticks\":\"\"},\"colorscale\":[[0.0,\"#0d0887\"],[0.1111111111111111,\"#46039f\"],[0.2222222222222222,\"#7201a8\"],[0.3333333333333333,\"#9c179e\"],[0.4444444444444444,\"#bd3786\"],[0.5555555555555556,\"#d8576b\"],[0.6666666666666666,\"#ed7953\"],[0.7777777777777778,\"#fb9f3a\"],[0.8888888888888888,\"#fdca26\"],[1.0,\"#f0f921\"]]}],\"contourcarpet\":[{\"type\":\"contourcarpet\",\"colorbar\":{\"outlinewidth\":0,\"ticks\":\"\"}}],\"contour\":[{\"type\":\"contour\",\"colorbar\":{\"outlinewidth\":0,\"ticks\":\"\"},\"colorscale\":[[0.0,\"#0d0887\"],[0.1111111111111111,\"#46039f\"],[0.2222222222222222,\"#7201a8\"],[0.3333333333333333,\"#9c179e\"],[0.4444444444444444,\"#bd3786\"],[0.5555555555555556,\"#d8576b\"],[0.6666666666666666,\"#ed7953\"],[0.7777777777777778,\"#fb9f3a\"],[0.8888888888888888,\"#fdca26\"],[1.0,\"#f0f921\"]]}],\"surface\":[{\"type\":\"surface\",\"colorbar\":{\"outlinewidth\":0,\"ticks\":\"\"},\"colorscale\":[[0.0,\"#0d0887\"],[0.1111111111111111,\"#46039f\"],[0.2222222222222222,\"#7201a8\"],[0.3333333333333333,\"#9c179e\"],[0.4444444444444444,\"#bd3786\"],[0.5555555555555556,\"#d8576b\"],[0.6666666666666666,\"#ed7953\"],[0.7777777777777778,\"#fb9f3a\"],[0.8888888888888888,\"#fdca26\"],[1.0,\"#f0f921\"]]}],\"mesh3d\":[{\"type\":\"mesh3d\",\"colorbar\":{\"outlinewidth\":0,\"ticks\":\"\"}}],\"scatter\":[{\"fillpattern\":{\"fillmode\":\"overlay\",\"size\":10,\"solidity\":0.2},\"type\":\"scatter\"}],\"parcoords\":[{\"type\":\"parcoords\",\"line\":{\"colorbar\":{\"outlinewidth\":0,\"ticks\":\"\"}}}],\"scatterpolargl\":[{\"type\":\"scatterpolargl\",\"marker\":{\"colorbar\":{\"outlinewidth\":0,\"ticks\":\"\"}}}],\"bar\":[{\"error_x\":{\"color\":\"#2a3f5f\"},\"error_y\":{\"color\":\"#2a3f5f\"},\"marker\":{\"line\":{\"color\":\"#E5ECF6\",\"width\":0.5},\"pattern\":{\"fillmode\":\"overlay\",\"size\":10,\"solidity\":0.2}},\"type\":\"bar\"}],\"scattergeo\":[{\"type\":\"scattergeo\",\"marker\":{\"colorbar\":{\"outlinewidth\":0,\"ticks\":\"\"}}}],\"scatterpolar\":[{\"type\":\"scatterpolar\",\"marker\":{\"colorbar\":{\"outlinewidth\":0,\"ticks\":\"\"}}}],\"histogram\":[{\"marker\":{\"pattern\":{\"fillmode\":\"overlay\",\"size\":10,\"solidity\":0.2}},\"type\":\"histogram\"}],\"scattergl\":[{\"type\":\"scattergl\",\"marker\":{\"colorbar\":{\"outlinewidth\":0,\"ticks\":\"\"}}}],\"scatter3d\":[{\"type\":\"scatter3d\",\"line\":{\"colorbar\":{\"outlinewidth\":0,\"ticks\":\"\"}},\"marker\":{\"colorbar\":{\"outlinewidth\":0,\"ticks\":\"\"}}}],\"scattermapbox\":[{\"type\":\"scattermapbox\",\"marker\":{\"colorbar\":{\"outlinewidth\":0,\"ticks\":\"\"}}}],\"scatterternary\":[{\"type\":\"scatterternary\",\"marker\":{\"colorbar\":{\"outlinewidth\":0,\"ticks\":\"\"}}}],\"scattercarpet\":[{\"type\":\"scattercarpet\",\"marker\":{\"colorbar\":{\"outlinewidth\":0,\"ticks\":\"\"}}}],\"carpet\":[{\"aaxis\":{\"endlinecolor\":\"#2a3f5f\",\"gridcolor\":\"white\",\"linecolor\":\"white\",\"minorgridcolor\":\"white\",\"startlinecolor\":\"#2a3f5f\"},\"baxis\":{\"endlinecolor\":\"#2a3f5f\",\"gridcolor\":\"white\",\"linecolor\":\"white\",\"minorgridcolor\":\"white\",\"startlinecolor\":\"#2a3f5f\"},\"type\":\"carpet\"}],\"table\":[{\"cells\":{\"fill\":{\"color\":\"#EBF0F8\"},\"line\":{\"color\":\"white\"}},\"header\":{\"fill\":{\"color\":\"#C8D4E3\"},\"line\":{\"color\":\"white\"}},\"type\":\"table\"}],\"barpolar\":[{\"marker\":{\"line\":{\"color\":\"#E5ECF6\",\"width\":0.5},\"pattern\":{\"fillmode\":\"overlay\",\"size\":10,\"solidity\":0.2}},\"type\":\"barpolar\"}],\"pie\":[{\"automargin\":true,\"type\":\"pie\"}]},\"layout\":{\"autotypenumbers\":\"strict\",\"colorway\":[\"#636efa\",\"#EF553B\",\"#00cc96\",\"#ab63fa\",\"#FFA15A\",\"#19d3f3\",\"#FF6692\",\"#B6E880\",\"#FF97FF\",\"#FECB52\"],\"font\":{\"color\":\"#2a3f5f\"},\"hovermode\":\"closest\",\"hoverlabel\":{\"align\":\"left\"},\"paper_bgcolor\":\"white\",\"plot_bgcolor\":\"#E5ECF6\",\"polar\":{\"bgcolor\":\"#E5ECF6\",\"angularaxis\":{\"gridcolor\":\"white\",\"linecolor\":\"white\",\"ticks\":\"\"},\"radialaxis\":{\"gridcolor\":\"white\",\"linecolor\":\"white\",\"ticks\":\"\"}},\"ternary\":{\"bgcolor\":\"#E5ECF6\",\"aaxis\":{\"gridcolor\":\"white\",\"linecolor\":\"white\",\"ticks\":\"\"},\"baxis\":{\"gridcolor\":\"white\",\"linecolor\":\"white\",\"ticks\":\"\"},\"caxis\":{\"gridcolor\":\"white\",\"linecolor\":\"white\",\"ticks\":\"\"}},\"coloraxis\":{\"colorbar\":{\"outlinewidth\":0,\"ticks\":\"\"}},\"colorscale\":{\"sequential\":[[0.0,\"#0d0887\"],[0.1111111111111111,\"#46039f\"],[0.2222222222222222,\"#7201a8\"],[0.3333333333333333,\"#9c179e\"],[0.4444444444444444,\"#bd3786\"],[0.5555555555555556,\"#d8576b\"],[0.6666666666666666,\"#ed7953\"],[0.7777777777777778,\"#fb9f3a\"],[0.8888888888888888,\"#fdca26\"],[1.0,\"#f0f921\"]],\"sequentialminus\":[[0.0,\"#0d0887\"],[0.1111111111111111,\"#46039f\"],[0.2222222222222222,\"#7201a8\"],[0.3333333333333333,\"#9c179e\"],[0.4444444444444444,\"#bd3786\"],[0.5555555555555556,\"#d8576b\"],[0.6666666666666666,\"#ed7953\"],[0.7777777777777778,\"#fb9f3a\"],[0.8888888888888888,\"#fdca26\"],[1.0,\"#f0f921\"]],\"diverging\":[[0,\"#8e0152\"],[0.1,\"#c51b7d\"],[0.2,\"#de77ae\"],[0.3,\"#f1b6da\"],[0.4,\"#fde0ef\"],[0.5,\"#f7f7f7\"],[0.6,\"#e6f5d0\"],[0.7,\"#b8e186\"],[0.8,\"#7fbc41\"],[0.9,\"#4d9221\"],[1,\"#276419\"]]},\"xaxis\":{\"gridcolor\":\"white\",\"linecolor\":\"white\",\"ticks\":\"\",\"title\":{\"standoff\":15},\"zerolinecolor\":\"white\",\"automargin\":true,\"zerolinewidth\":2},\"yaxis\":{\"gridcolor\":\"white\",\"linecolor\":\"white\",\"ticks\":\"\",\"title\":{\"standoff\":15},\"zerolinecolor\":\"white\",\"automargin\":true,\"zerolinewidth\":2},\"scene\":{\"xaxis\":{\"backgroundcolor\":\"#E5ECF6\",\"gridcolor\":\"white\",\"linecolor\":\"white\",\"showbackground\":true,\"ticks\":\"\",\"zerolinecolor\":\"white\",\"gridwidth\":2},\"yaxis\":{\"backgroundcolor\":\"#E5ECF6\",\"gridcolor\":\"white\",\"linecolor\":\"white\",\"showbackground\":true,\"ticks\":\"\",\"zerolinecolor\":\"white\",\"gridwidth\":2},\"zaxis\":{\"backgroundcolor\":\"#E5ECF6\",\"gridcolor\":\"white\",\"linecolor\":\"white\",\"showbackground\":true,\"ticks\":\"\",\"zerolinecolor\":\"white\",\"gridwidth\":2}},\"shapedefaults\":{\"line\":{\"color\":\"#2a3f5f\"}},\"annotationdefaults\":{\"arrowcolor\":\"#2a3f5f\",\"arrowhead\":0,\"arrowwidth\":1},\"geo\":{\"bgcolor\":\"white\",\"landcolor\":\"#E5ECF6\",\"subunitcolor\":\"white\",\"showland\":true,\"showlakes\":true,\"lakecolor\":\"white\"},\"title\":{\"x\":0.05},\"mapbox\":{\"style\":\"light\"}}}},                        {\"responsive\": true}                    ).then(function(){\n",
       "                            \n",
       "var gd = document.getElementById('5c8087e3-2c1e-44f2-a130-c716b379f4fd');\n",
       "var x = new MutationObserver(function (mutations, observer) {{\n",
       "        var display = window.getComputedStyle(gd).display;\n",
       "        if (!display || display === 'none') {{\n",
       "            console.log([gd, 'removed!']);\n",
       "            Plotly.purge(gd);\n",
       "            observer.disconnect();\n",
       "        }}\n",
       "}});\n",
       "\n",
       "// Listen for the removal of the full notebook cells\n",
       "var notebookContainer = gd.closest('#notebook-container');\n",
       "if (notebookContainer) {{\n",
       "    x.observe(notebookContainer, {childList: true});\n",
       "}}\n",
       "\n",
       "// Listen for the clearing of the current output cell\n",
       "var outputEl = gd.closest('.output');\n",
       "if (outputEl) {{\n",
       "    x.observe(outputEl, {childList: true});\n",
       "}}\n",
       "\n",
       "                        })                };                });            </script>        </div>"
      ]
     },
     "metadata": {},
     "output_type": "display_data"
    },
    {
     "data": {
      "text/plain": [
       "<cogent3.draw.dotplot.Dotplot at 0x16ea63c20>"
      ]
     },
     "execution_count": 60,
     "metadata": {},
     "output_type": "execute_result"
    }
   ],
   "source": [
    "cpos3(aln).dotplot()"
   ]
  },
  {
   "cell_type": "markdown",
   "metadata": {},
   "source": [
    "Triple selection test"
   ]
  },
  {
   "cell_type": "code",
   "execution_count": 4,
   "metadata": {},
   "outputs": [],
   "source": [
    "import numpy as np\n",
    "from cogent3 import get_app, open_data_store\n",
    "import plotly.express as px\n",
    "\n",
    "from clock_project.genome_analysis.sequence_alignment_filtering import (common_name_renamer,\n",
    "                                                            cpos3, aligner, filter)\n",
    "import json\n",
    "import os\n",
    "import numpy as np\n",
    "import glob\n",
    "from cogent3 import get_app, open_data_store\n"
   ]
  },
  {
   "cell_type": "code",
   "execution_count": 5,
   "metadata": {},
   "outputs": [],
   "source": [
    "from ensembl_lite._species import Species\n",
    "from cogent3 import load_tree\n",
    "from cogent3.util.deserialise import deserialise_object\n",
    "import click\n",
    "import multiprocessing\n",
    "import json\n",
    "import os\n",
    "import glob\n",
    "from cogent3 import get_app, open_data_store\n",
    "from ensembl_lite._species import Species\n",
    "\n",
    "\n",
    "with open ('/Users/gulugulu/repos/PuningAnalysis/results/output_data/available_species_name.json', 'r') as infile:\n",
    "    available_species_names = json.load(infile)\n",
    "\n",
    "with open ('/Users/gulugulu/repos/PuningAnalysis/results/output_data/common_names_mapping.json',  'r') as common_name_infile:\n",
    "    common_names_mapping = json.load(common_name_infile)\n",
    "\n",
    "load_json_app = get_app(\"load_json\")\n",
    "\n",
    "tree_path = '/Users/gulugulu/repos/PuningAnalysis/data/dataset2_ensemble_trees/raw_data/tree_nh_file/vertebrates_species-tree_Ensembl.nh'\n",
    "tree_vertebrates= load_tree(tree_path, format=None, underscore_unmunge=False)\n",
    "\n",
    "def make_db_prefixes():\n",
    "    return [n.lower().replace(\" \", \"_\") for n in Species.get_species_names()]\n",
    "\n",
    "db_prefixes = make_db_prefixes()\n",
    "\n",
    "def find_db_prefix(name):\n",
    "    for db_prefix in db_prefixes:\n",
    "        if name.startswith(db_prefix):\n",
    "            return db_prefix\n",
    "    return None\n",
    "\n",
    "\n",
    "\n",
    "db_names = []\n",
    "probs = []\n",
    "for tip_name in tree_vertebrates.get_tip_names():\n",
    "    db_name = find_db_prefix(tip_name.lower())\n",
    "    if db_name is None:\n",
    "        probs.append(tip_name)\n",
    "    else:\n",
    "        db_names.append(db_name)\n",
    "\n",
    "db_name_dict = {}\n",
    "for tip_name in tree_vertebrates.get_tip_names():\n",
    "    db_name = find_db_prefix(tip_name.lower())\n",
    "    if db_name is None:\n",
    "        db_name_dict[tip_name] = tip_name\n",
    "    else:\n",
    "        db_name_dict[tip_name] = db_name\n",
    "\n",
    "for key in db_name_dict.keys():\n",
    "    if key.split('_')[0:2] == ['Mus', 'musculus']:\n",
    "        if key != 'Mus_musculus_reference_CL57BL6_strain':\n",
    "            db_name_dict[key] = 'mus_musculus_strain'\n",
    "        else:\n",
    "            db_name_dict[key] = 'mus_musculus'\n",
    "\n",
    "for key in db_name_dict.keys():\n",
    "    if key.split('_')[0:2] == ['Sus','scrofa']:\n",
    "        if key != 'Sus_scrofa_reference_breed':\n",
    "            db_name_dict[key] = 'sus_scrofa_strain'\n",
    "        else:\n",
    "            db_name_dict[key] = 'sus_scrofa'\n",
    "\n",
    "tree_vertebrates.reassign_names(db_name_dict)\n",
    "tree_vertebrates.reassign_names(common_names_mapping)"
   ]
  },
  {
   "cell_type": "code",
   "execution_count": 6,
   "metadata": {},
   "outputs": [],
   "source": [
    "# tree_vertebrates.get_figure(show_support=True, threshold=0.8, height = 2000, width = 2000)"
   ]
  },
  {
   "cell_type": "code",
   "execution_count": 7,
   "metadata": {},
   "outputs": [],
   "source": [
    "def model_fitting_tree(path):\n",
    "    outgroup_species = ['aquila_chrysaetos_chrysaetos']\n",
    "    file_name = path.unique_id\n",
    "    print(file_name)\n",
    "    alignment = load_json_app(path)\n",
    "    species_names = alignment.names\n",
    "    tip_names = species_names + outgroup_species\n",
    "    tree_sub = tree_vertebrates.get_sub_tree(tip_names)\n",
    "    tree_topology = tree_sub.get_sub_tree(species_names)\n",
    "    model = get_app(\"model\", \"GN\", tree=tree_topology, time_het='max', optimise_motif_probs=True)\n",
    "    model_fitting_result = model(alignment)\n",
    "    return model_fitting_result"
   ]
  },
  {
   "cell_type": "code",
   "execution_count": 8,
   "metadata": {},
   "outputs": [],
   "source": [
    "from clock_project.genome_analysis.get_model_fitting_tree import model_fitting_tree\n",
    "dir = '/Users/gulugulu/Desktop/honours/data_local_2/alignments_3rd_filtered_550_threshold'\n",
    "aln_input_dstore = open_data_store(dir, suffix='json', mode='r')\n"
   ]
  },
  {
   "cell_type": "code",
   "execution_count": 9,
   "metadata": {},
   "outputs": [],
   "source": [
    "\n",
    "path_res1 = '/Users/gulugulu/Desktop/honours/data_local_2/whole_gene_model_fitting_550_threshold/ENSG00000265203.json'\n",
    "path_res2 = '/Users/gulugulu/Desktop/honours/data_local_2/whole_gene_model_fitting_550_threshold_time_het_max/ENSG00000265203.json'"
   ]
  },
  {
   "cell_type": "code",
   "execution_count": 10,
   "metadata": {},
   "outputs": [],
   "source": [
    "res1 = load_json_app(path_res1)\n",
    "res2 = load_json_app(path_res2)"
   ]
  },
  {
   "cell_type": "code",
   "execution_count": 11,
   "metadata": {},
   "outputs": [
    {
     "data": {
      "text/html": [
       "        <script type=\"text/javascript\">\n",
       "        window.PlotlyConfig = {MathJaxConfig: 'local'};\n",
       "        if (window.MathJax && window.MathJax.Hub && window.MathJax.Hub.Config) {window.MathJax.Hub.Config({SVG: {font: \"STIX-Web\"}});}\n",
       "        if (typeof require !== 'undefined') {\n",
       "        require.undef(\"plotly\");\n",
       "        requirejs.config({\n",
       "            paths: {\n",
       "                'plotly': ['https://cdn.plot.ly/plotly-2.27.0.min']\n",
       "            }\n",
       "        });\n",
       "        require(['plotly'], function(Plotly) {\n",
       "            window._Plotly = Plotly;\n",
       "        });\n",
       "        }\n",
       "        </script>\n",
       "        "
      ]
     },
     "metadata": {},
     "output_type": "display_data"
    },
    {
     "data": {
      "application/vnd.plotly.v1+json": {
       "config": {
        "plotlyServerURL": "https://plot.ly"
       },
       "data": [
        {
         "line": {
          "color": "black",
          "shape": "spline",
          "smoothing": 1.3,
          "width": 1.25
         },
         "mode": "lines",
         "showlegend": false,
         "type": "scatter",
         "x": [
          null,
          null,
          0,
          0,
          null,
          0,
          0.07452909045632747,
          null,
          0,
          0,
          null,
          0,
          0.20731430890365457,
          null,
          0.20731430890365457,
          0.20731430890365457,
          null,
          0.20731430890365457,
          0.23066247081910432,
          null,
          0.23066247081910432,
          0.23066247081910432,
          null,
          0.23066247081910432,
          0.23705925773288383,
          null,
          0.23705925773288383,
          0.23705925773288383,
          null,
          0.23705925773288383,
          0.2486897148430439,
          null,
          0.2486897148430439,
          0.2486897148430439,
          null,
          0.2486897148430439,
          0.2877342586243145,
          null,
          0.2877342586243145,
          0.2877342586243145,
          null,
          0.2877342586243145,
          0.2877351634219474,
          null,
          0.2877351634219474,
          0.2877351634219474,
          null,
          0.2877351634219474,
          0.44294449031262606,
          null,
          0.44294449031262606,
          0.44294449031262606,
          null,
          0.44294449031262606,
          0.46642876077340656,
          null,
          0.46642876077340656,
          0.46642876077340656,
          null,
          0.46642876077340656,
          0.4920638918614779,
          null,
          0.4920638918614779,
          0.4920638918614779,
          null,
          0.4920638918614779,
          0.5372581155902529,
          null,
          0.5372581155902529,
          0.5372581155902529,
          null,
          0.5372581155902529,
          0.5581907986355186,
          null,
          0.5372581155902529,
          0.5372581155902529,
          null,
          0.5372581155902529,
          0.5798248062386189,
          null,
          0.4920638918614779,
          0.4920638918614779,
          null,
          0.4920638918614779,
          0.6517334045922039,
          null,
          0.46642876077340656,
          0.46642876077340656,
          null,
          0.46642876077340656,
          0.783940791524434,
          null,
          0.783940791524434,
          0.783940791524434,
          null,
          0.783940791524434,
          0.8208835384261851,
          null,
          0.783940791524434,
          0.783940791524434,
          null,
          0.783940791524434,
          0.8234445732705352,
          null,
          0.44294449031262606,
          0.44294449031262606,
          null,
          0.44294449031262606,
          0.511229969219472,
          null,
          0.511229969219472,
          0.511229969219472,
          null,
          0.511229969219472,
          0.5318048222099093,
          null,
          0.511229969219472,
          0.511229969219472,
          null,
          0.511229969219472,
          0.5547420645753857,
          null,
          0.2877351634219474,
          0.2877351634219474,
          null,
          0.2877351634219474,
          0.5164546405170969,
          null,
          0.2877342586243145,
          0.2877342586243145,
          null,
          0.2877342586243145,
          0.34851147095728735,
          null,
          0.34851147095728735,
          0.34851147095728735,
          null,
          0.34851147095728735,
          0.36367285964967605,
          null,
          0.36367285964967605,
          0.36367285964967605,
          null,
          0.36367285964967605,
          0.3829434826108315,
          null,
          0.3829434826108315,
          0.3829434826108315,
          null,
          0.3829434826108315,
          0.4679436326264654,
          null,
          0.4679436326264654,
          0.4679436326264654,
          null,
          0.4679436326264654,
          0.47205764724216615,
          null,
          0.47205764724216615,
          0.47205764724216615,
          null,
          0.47205764724216615,
          0.4874489028132565,
          null,
          0.4874489028132565,
          0.4874489028132565,
          null,
          0.4874489028132565,
          0.5314385260248936,
          null,
          0.5314385260248936,
          0.5314385260248936,
          null,
          0.5314385260248936,
          0.5345424374384365,
          null,
          0.5314385260248936,
          0.5314385260248936,
          null,
          0.5314385260248936,
          0.5349951073459891,
          null,
          0.4874489028132565,
          0.4874489028132565,
          null,
          0.4874489028132565,
          0.538580326687099,
          null,
          0.47205764724216615,
          0.47205764724216615,
          null,
          0.47205764724216615,
          0.5266987768749063,
          null,
          0.4679436326264654,
          0.4679436326264654,
          null,
          0.4679436326264654,
          0.5121975086770535,
          null,
          0.3829434826108315,
          0.3829434826108315,
          null,
          0.3829434826108315,
          0.4769687266998607,
          null,
          0.4769687266998607,
          0.4769687266998607,
          null,
          0.4769687266998607,
          0.47720161791985194,
          null,
          0.47720161791985194,
          0.47720161791985194,
          null,
          0.47720161791985194,
          0.4883547968038085,
          null,
          0.4883547968038085,
          0.4883547968038085,
          null,
          0.4883547968038085,
          0.494922823880009,
          null,
          0.494922823880009,
          0.494922823880009,
          null,
          0.494922823880009,
          0.4980928891344125,
          null,
          0.4980928891344125,
          0.4980928891344125,
          null,
          0.4980928891344125,
          0.5031380870318651,
          null,
          0.4980928891344125,
          0.4980928891344125,
          null,
          0.4980928891344125,
          0.5040544256220929,
          null,
          0.494922823880009,
          0.494922823880009,
          null,
          0.494922823880009,
          0.5180885678374807,
          null,
          0.4883547968038085,
          0.4883547968038085,
          null,
          0.4883547968038085,
          0.5150851152598412,
          null,
          0.47720161791985194,
          0.47720161791985194,
          null,
          0.47720161791985194,
          0.4987223135264229,
          null,
          0.4769687266998607,
          0.4769687266998607,
          null,
          0.4769687266998607,
          0.49407553269375437,
          null,
          0.36367285964967605,
          0.36367285964967605,
          null,
          0.36367285964967605,
          0.4456272796620615,
          null,
          0.4456272796620615,
          0.4456272796620615,
          null,
          0.4456272796620615,
          0.5060327016434345,
          null,
          0.4456272796620615,
          0.4456272796620615,
          null,
          0.4456272796620615,
          0.5186872999534531,
          null,
          0.34851147095728735,
          0.34851147095728735,
          null,
          0.34851147095728735,
          0.5009134870462186,
          null,
          0.2486897148430439,
          0.2486897148430439,
          null,
          0.2486897148430439,
          0.39927473630620736,
          null,
          0.39927473630620736,
          0.39927473630620736,
          null,
          0.39927473630620736,
          0.5234107608630753,
          null,
          0.39927473630620736,
          0.39927473630620736,
          null,
          0.39927473630620736,
          0.5481476963727014,
          null,
          0.23705925773288383,
          0.23705925773288383,
          null,
          0.23705925773288383,
          0.5052385886730744,
          null,
          0.23066247081910432,
          0.23066247081910432,
          null,
          0.23066247081910432,
          0.2701812031418217,
          null,
          0.2701812031418217,
          0.2701812031418217,
          null,
          0.2701812031418217,
          0.2996477911027852,
          null,
          0.2996477911027852,
          0.2996477911027852,
          null,
          0.2996477911027852,
          0.317837735691758,
          null,
          0.317837735691758,
          0.317837735691758,
          null,
          0.317837735691758,
          0.32476663427383506,
          null,
          0.32476663427383506,
          0.32476663427383506,
          null,
          0.32476663427383506,
          0.329306275367125,
          null,
          0.329306275367125,
          0.329306275367125,
          null,
          0.329306275367125,
          0.3735558835904047,
          null,
          0.3735558835904047,
          0.3735558835904047,
          null,
          0.3735558835904047,
          0.5160212872276743,
          null,
          0.5160212872276743,
          0.5160212872276743,
          null,
          0.5160212872276743,
          0.5333594933134554,
          null,
          0.5333594933134554,
          0.5333594933134554,
          null,
          0.5333594933134554,
          0.5395839313115625,
          null,
          0.5395839313115625,
          0.5395839313115625,
          null,
          0.5395839313115625,
          0.6419415246458509,
          null,
          0.5395839313115625,
          0.5395839313115625,
          null,
          0.5395839313115625,
          0.6548678213056068,
          null,
          0.5333594933134554,
          0.5333594933134554,
          null,
          0.5333594933134554,
          0.6087461640685747,
          null,
          0.5160212872276743,
          0.5160212872276743,
          null,
          0.5160212872276743,
          0.5858806563099426,
          null,
          0.5858806563099426,
          0.5858806563099426,
          null,
          0.5858806563099426,
          0.6680609705299961,
          null,
          0.5858806563099426,
          0.5858806563099426,
          null,
          0.5858806563099426,
          0.6891300752948686,
          null,
          0.3735558835904047,
          0.3735558835904047,
          null,
          0.3735558835904047,
          0.6143020401433634,
          null,
          0.329306275367125,
          0.329306275367125,
          null,
          0.329306275367125,
          0.6842470509123599,
          null,
          0.32476663427383506,
          0.32476663427383506,
          null,
          0.32476663427383506,
          0.5079408882093227,
          null,
          0.5079408882093227,
          0.5079408882093227,
          null,
          0.5079408882093227,
          0.5144819070604325,
          null,
          0.5144819070604325,
          0.5144819070604325,
          null,
          0.5144819070604325,
          0.6355260983655159,
          null,
          0.5144819070604325,
          0.5144819070604325,
          null,
          0.5144819070604325,
          0.647202269564104,
          null,
          0.5079408882093227,
          0.5079408882093227,
          null,
          0.5079408882093227,
          0.7899626047665542,
          null,
          0.317837735691758,
          0.317837735691758,
          null,
          0.317837735691758,
          0.41230073204072487,
          null,
          0.41230073204072487,
          0.41230073204072487,
          null,
          0.41230073204072487,
          0.4734111710561057,
          null,
          0.4734111710561057,
          0.4734111710561057,
          null,
          0.4734111710561057,
          0.48868569224529823,
          null,
          0.48868569224529823,
          0.48868569224529823,
          null,
          0.48868569224529823,
          0.5030564426223139,
          null,
          0.48868569224529823,
          0.48868569224529823,
          null,
          0.48868569224529823,
          0.5075408646579991,
          null,
          0.4734111710561057,
          0.4734111710561057,
          null,
          0.4734111710561057,
          0.49165031235215784,
          null,
          0.41230073204072487,
          0.41230073204072487,
          null,
          0.41230073204072487,
          0.49168955188484087,
          null,
          0.2996477911027852,
          0.2996477911027852,
          null,
          0.2996477911027852,
          0.43471402984984026,
          null,
          0.43471402984984026,
          0.43471402984984026,
          null,
          0.43471402984984026,
          0.6792159477287054,
          null,
          0.43471402984984026,
          0.43471402984984026,
          null,
          0.43471402984984026,
          0.6889920343571974,
          null,
          0.2701812031418217,
          0.2701812031418217,
          null,
          0.2701812031418217,
          0.6089339398736927,
          null,
          0.6089339398736927,
          0.6089339398736927,
          null,
          0.6089339398736927,
          0.698729409865984,
          null,
          0.698729409865984,
          0.698729409865984,
          null,
          0.698729409865984,
          0.7209853565954476,
          null,
          0.7209853565954476,
          0.7209853565954476,
          null,
          0.7209853565954476,
          0.7605160515498964,
          null,
          0.7209853565954476,
          0.7209853565954476,
          null,
          0.7209853565954476,
          0.7623872062063174,
          null,
          0.698729409865984,
          0.698729409865984,
          null,
          0.698729409865984,
          0.7633793427393651,
          null,
          0.6089339398736927,
          0.6089339398736927,
          null,
          0.6089339398736927,
          0.7038666428523939,
          null,
          0.7038666428523939,
          0.7038666428523939,
          null,
          0.7038666428523939,
          0.7307476523125823,
          null,
          0.7307476523125823,
          0.7307476523125823,
          null,
          0.7307476523125823,
          0.7543107448026716,
          null,
          0.7543107448026716,
          0.7543107448026716,
          null,
          0.7543107448026716,
          0.7583066307961849,
          null,
          0.7583066307961849,
          0.7583066307961849,
          null,
          0.7583066307961849,
          0.7725994197791695,
          null,
          0.7725994197791695,
          0.7725994197791695,
          null,
          0.7725994197791695,
          0.7740871884178883,
          null,
          0.7740871884178883,
          0.7740871884178883,
          null,
          0.7740871884178883,
          0.78131808238062,
          null,
          0.7740871884178883,
          0.7740871884178883,
          null,
          0.7740871884178883,
          0.7845194265254894,
          null,
          0.7725994197791695,
          0.7725994197791695,
          null,
          0.7725994197791695,
          0.7834049014623043,
          null,
          0.7583066307961849,
          0.7583066307961849,
          null,
          0.7583066307961849,
          0.7847721233464081,
          null,
          0.7543107448026716,
          0.7543107448026716,
          null,
          0.7543107448026716,
          0.7726988164812059,
          null,
          0.7307476523125823,
          0.7307476523125823,
          null,
          0.7307476523125823,
          0.7616286279836203,
          null,
          0.7616286279836203,
          0.7616286279836203,
          null,
          0.7616286279836203,
          0.7745704022605474,
          null,
          0.7745704022605474,
          0.7745704022605474,
          null,
          0.7745704022605474,
          0.7795348937325813,
          null,
          0.7795348937325813,
          0.7795348937325813,
          null,
          0.7795348937325813,
          0.7825640660569797,
          null,
          0.7825640660569797,
          0.7825640660569797,
          null,
          0.7825640660569797,
          0.7863446728414748,
          null,
          0.7863446728414748,
          0.7863446728414748,
          null,
          0.7863446728414748,
          0.7909120203689105,
          null,
          0.7863446728414748,
          0.7863446728414748,
          null,
          0.7863446728414748,
          0.7982260455343055,
          null,
          0.7825640660569797,
          0.7825640660569797,
          null,
          0.7825640660569797,
          0.7888677039519884,
          null,
          0.7795348937325813,
          0.7795348937325813,
          null,
          0.7795348937325813,
          0.7912580643554317,
          null,
          0.7745704022605474,
          0.7745704022605474,
          null,
          0.7745704022605474,
          0.7932669274929206,
          null,
          0.7616286279836203,
          0.7616286279836203,
          null,
          0.7616286279836203,
          0.7885672121102619,
          null,
          0.7038666428523939,
          0.7038666428523939,
          null,
          0.7038666428523939,
          0.7862706392437644,
          null,
          0.7862706392437644,
          0.7862706392437644,
          null,
          0.7862706392437644,
          0.8066402662899025,
          null,
          0.8066402662899025,
          0.8066402662899025,
          null,
          0.8066402662899025,
          0.8116681177497991,
          null,
          0.8116681177497991,
          0.8116681177497991,
          null,
          0.8116681177497991,
          0.8402410341630061,
          null,
          0.8116681177497991,
          0.8116681177497991,
          null,
          0.8116681177497991,
          0.8571030316278142,
          null,
          0.8066402662899025,
          0.8066402662899025,
          null,
          0.8066402662899025,
          0.8437760931525343,
          null,
          0.7862706392437644,
          0.7862706392437644,
          null,
          0.7862706392437644,
          1.1284936364749552,
          null,
          0.20731430890365457,
          0.20731430890365457,
          null,
          0.20731430890365457,
          0.5303837575055619,
          null
         ],
         "y": [
          null,
          null,
          8.923297119140624,
          39,
          null,
          39,
          39,
          null,
          8.923297119140624,
          -21.15340576171875,
          null,
          -21.15340576171875,
          -21.15340576171875,
          null,
          -21.15340576171875,
          -3.3068115234374993,
          null,
          -3.3068115234374993,
          -3.3068115234374993,
          null,
          -3.3068115234374993,
          10.829736328125001,
          null,
          10.829736328125001,
          10.829736328125001,
          null,
          10.829736328125001,
          15.159472656250001,
          null,
          15.159472656250001,
          15.159472656250001,
          null,
          15.159472656250001,
          21.868945312500003,
          null,
          21.868945312500003,
          21.868945312500003,
          null,
          21.868945312500003,
          30.590625000000003,
          null,
          30.590625000000003,
          30.590625000000003,
          null,
          30.590625000000003,
          32.581250000000004,
          null,
          32.581250000000004,
          32.581250000000004,
          null,
          32.581250000000004,
          34.612500000000004,
          null,
          34.612500000000004,
          34.612500000000004,
          null,
          34.612500000000004,
          36.075,
          null,
          36.075,
          36.075,
          null,
          36.075,
          37.05,
          null,
          37.05,
          37.05,
          null,
          37.05,
          37.7,
          null,
          37.7,
          37.7,
          null,
          37.05,
          36.4,
          null,
          36.4,
          36.4,
          null,
          36.075,
          35.1,
          null,
          35.1,
          35.1,
          null,
          34.612500000000004,
          33.150000000000006,
          null,
          33.150000000000006,
          33.150000000000006,
          null,
          33.150000000000006,
          33.800000000000004,
          null,
          33.800000000000004,
          33.800000000000004,
          null,
          33.150000000000006,
          32.5,
          null,
          32.5,
          32.5,
          null,
          32.581250000000004,
          30.550000000000004,
          null,
          30.550000000000004,
          30.550000000000004,
          null,
          30.550000000000004,
          31.200000000000003,
          null,
          31.200000000000003,
          31.200000000000003,
          null,
          30.550000000000004,
          29.900000000000002,
          null,
          29.900000000000002,
          29.900000000000002,
          null,
          30.590625000000003,
          28.6,
          null,
          28.6,
          28.6,
          null,
          21.868945312500003,
          13.147265625000001,
          null,
          13.147265625000001,
          13.147265625000001,
          null,
          13.147265625000001,
          15.894531250000002,
          null,
          15.894531250000002,
          15.894531250000002,
          null,
          15.894531250000002,
          19.439062500000002,
          null,
          19.439062500000002,
          19.439062500000002,
          null,
          19.439062500000002,
          23.31875,
          null,
          23.31875,
          23.31875,
          null,
          23.31875,
          24.5375,
          null,
          24.5375,
          24.5375,
          null,
          24.5375,
          25.674999999999997,
          null,
          25.674999999999997,
          25.674999999999997,
          null,
          25.674999999999997,
          26.65,
          null,
          26.65,
          26.65,
          null,
          26.65,
          27.3,
          null,
          27.3,
          27.3,
          null,
          26.65,
          26,
          null,
          26,
          26,
          null,
          25.674999999999997,
          24.7,
          null,
          24.7,
          24.7,
          null,
          24.5375,
          23.400000000000002,
          null,
          23.400000000000002,
          23.400000000000002,
          null,
          23.31875,
          22.1,
          null,
          22.1,
          22.1,
          null,
          19.439062500000002,
          15.559375000000001,
          null,
          15.559375000000001,
          15.559375000000001,
          null,
          15.559375000000001,
          16.81875,
          null,
          16.81875,
          16.81875,
          null,
          16.81875,
          18.0375,
          null,
          18.0375,
          18.0375,
          null,
          18.0375,
          19.174999999999997,
          null,
          19.174999999999997,
          19.174999999999997,
          null,
          19.174999999999997,
          20.15,
          null,
          20.15,
          20.15,
          null,
          20.15,
          20.8,
          null,
          20.8,
          20.8,
          null,
          20.15,
          19.5,
          null,
          19.5,
          19.5,
          null,
          19.174999999999997,
          18.2,
          null,
          18.2,
          18.2,
          null,
          18.0375,
          16.900000000000002,
          null,
          16.900000000000002,
          16.900000000000002,
          null,
          16.81875,
          15.600000000000001,
          null,
          15.600000000000001,
          15.600000000000001,
          null,
          15.559375000000001,
          14.3,
          null,
          14.3,
          14.3,
          null,
          15.894531250000002,
          12.350000000000001,
          null,
          12.350000000000001,
          12.350000000000001,
          null,
          12.350000000000001,
          13,
          null,
          13,
          13,
          null,
          12.350000000000001,
          11.700000000000001,
          null,
          11.700000000000001,
          11.700000000000001,
          null,
          13.147265625000001,
          10.4,
          null,
          10.4,
          10.4,
          null,
          15.159472656250001,
          8.45,
          null,
          8.45,
          8.45,
          null,
          8.45,
          9.1,
          null,
          9.1,
          9.1,
          null,
          8.45,
          7.800000000000001,
          null,
          7.800000000000001,
          7.800000000000001,
          null,
          10.829736328125001,
          6.5,
          null,
          6.5,
          6.5,
          null,
          -3.3068115234374993,
          -17.443359375,
          null,
          -17.443359375,
          -17.443359375,
          null,
          -17.443359375,
          -10.293359375,
          null,
          -10.293359375,
          -10.293359375,
          null,
          -10.293359375,
          -6.93671875,
          null,
          -6.93671875,
          -6.93671875,
          null,
          -6.93671875,
          -3.3109375,
          null,
          -3.3109375,
          -3.3109375,
          null,
          -3.3109375,
          -1.096875,
          null,
          -1.096875,
          -1.096875,
          null,
          -1.096875,
          0.4062500000000001,
          null,
          0.4062500000000001,
          0.4062500000000001,
          null,
          0.4062500000000001,
          2.1125000000000003,
          null,
          2.1125000000000003,
          2.1125000000000003,
          null,
          2.1125000000000003,
          3.575,
          null,
          3.575,
          3.575,
          null,
          3.575,
          4.550000000000001,
          null,
          4.550000000000001,
          4.550000000000001,
          null,
          4.550000000000001,
          5.2,
          null,
          5.2,
          5.2,
          null,
          4.550000000000001,
          3.9000000000000004,
          null,
          3.9000000000000004,
          3.9000000000000004,
          null,
          3.575,
          2.6,
          null,
          2.6,
          2.6,
          null,
          2.1125000000000003,
          0.65,
          null,
          0.65,
          0.65,
          null,
          0.65,
          1.3,
          null,
          1.3,
          1.3,
          null,
          0.65,
          0,
          null,
          0,
          0,
          null,
          0.4062500000000001,
          -1.3,
          null,
          -1.3,
          -1.3,
          null,
          -1.096875,
          -2.6,
          null,
          -2.6,
          -2.6,
          null,
          -3.3109375,
          -5.525,
          null,
          -5.525,
          -5.525,
          null,
          -5.525,
          -4.550000000000001,
          null,
          -4.550000000000001,
          -4.550000000000001,
          null,
          -4.550000000000001,
          -3.9000000000000004,
          null,
          -3.9000000000000004,
          -3.9000000000000004,
          null,
          -4.550000000000001,
          -5.2,
          null,
          -5.2,
          -5.2,
          null,
          -5.525,
          -6.5,
          null,
          -6.5,
          -6.5,
          null,
          -6.93671875,
          -10.5625,
          null,
          -10.5625,
          -10.5625,
          null,
          -10.5625,
          -9.425,
          null,
          -9.425,
          -9.425,
          null,
          -9.425,
          -8.45,
          null,
          -8.45,
          -8.45,
          null,
          -8.45,
          -7.800000000000001,
          null,
          -7.800000000000001,
          -7.800000000000001,
          null,
          -8.45,
          -9.1,
          null,
          -9.1,
          -9.1,
          null,
          -9.425,
          -10.4,
          null,
          -10.4,
          -10.4,
          null,
          -10.5625,
          -11.700000000000001,
          null,
          -11.700000000000001,
          -11.700000000000001,
          null,
          -10.293359375,
          -13.65,
          null,
          -13.65,
          -13.65,
          null,
          -13.65,
          -13,
          null,
          -13,
          -13,
          null,
          -13.65,
          -14.3,
          null,
          -14.3,
          -14.3,
          null,
          -17.443359375,
          -24.593359375000002,
          null,
          -24.593359375000002,
          -24.593359375000002,
          null,
          -24.593359375000002,
          -17.225,
          null,
          -17.225,
          -17.225,
          null,
          -17.225,
          -16.25,
          null,
          -16.25,
          -16.25,
          null,
          -16.25,
          -15.600000000000001,
          null,
          -15.600000000000001,
          -15.600000000000001,
          null,
          -16.25,
          -16.900000000000002,
          null,
          -16.900000000000002,
          -16.900000000000002,
          null,
          -17.225,
          -18.2,
          null,
          -18.2,
          -18.2,
          null,
          -24.593359375000002,
          -31.961718750000003,
          null,
          -31.961718750000003,
          -31.961718750000003,
          null,
          -31.961718750000003,
          -27.360937500000002,
          null,
          -27.360937500000002,
          -27.360937500000002,
          null,
          -27.360937500000002,
          -23.481250000000003,
          null,
          -23.481250000000003,
          -23.481250000000003,
          null,
          -23.481250000000003,
          -22.262500000000003,
          null,
          -22.262500000000003,
          -22.262500000000003,
          null,
          -22.262500000000003,
          -21.125,
          null,
          -21.125,
          -21.125,
          null,
          -21.125,
          -20.15,
          null,
          -20.15,
          -20.15,
          null,
          -20.15,
          -19.5,
          null,
          -19.5,
          -19.5,
          null,
          -20.15,
          -20.8,
          null,
          -20.8,
          -20.8,
          null,
          -21.125,
          -22.1,
          null,
          -22.1,
          -22.1,
          null,
          -22.262500000000003,
          -23.400000000000002,
          null,
          -23.400000000000002,
          -23.400000000000002,
          null,
          -23.481250000000003,
          -24.7,
          null,
          -24.7,
          -24.7,
          null,
          -27.360937500000002,
          -31.240625,
          null,
          -31.240625,
          -31.240625,
          null,
          -31.240625,
          -29.981250000000003,
          null,
          -29.981250000000003,
          -29.981250000000003,
          null,
          -29.981250000000003,
          -28.762500000000003,
          null,
          -28.762500000000003,
          -28.762500000000003,
          null,
          -28.762500000000003,
          -27.625,
          null,
          -27.625,
          -27.625,
          null,
          -27.625,
          -26.65,
          null,
          -26.65,
          -26.65,
          null,
          -26.65,
          -26,
          null,
          -26,
          -26,
          null,
          -26.65,
          -27.3,
          null,
          -27.3,
          -27.3,
          null,
          -27.625,
          -28.6,
          null,
          -28.6,
          -28.6,
          null,
          -28.762500000000003,
          -29.900000000000002,
          null,
          -29.900000000000002,
          -29.900000000000002,
          null,
          -29.981250000000003,
          -31.200000000000003,
          null,
          -31.200000000000003,
          -31.200000000000003,
          null,
          -31.240625,
          -32.5,
          null,
          -32.5,
          -32.5,
          null,
          -31.961718750000003,
          -36.5625,
          null,
          -36.5625,
          -36.5625,
          null,
          -36.5625,
          -35.425,
          null,
          -35.425,
          -35.425,
          null,
          -35.425,
          -34.45,
          null,
          -34.45,
          -34.45,
          null,
          -34.45,
          -33.800000000000004,
          null,
          -33.800000000000004,
          -33.800000000000004,
          null,
          -34.45,
          -35.1,
          null,
          -35.1,
          -35.1,
          null,
          -35.425,
          -36.4,
          null,
          -36.4,
          -36.4,
          null,
          -36.5625,
          -37.7,
          null,
          -37.7,
          -37.7,
          null,
          -21.15340576171875,
          -39,
          null,
          -39,
          -39,
          null
         ]
        },
        {
         "hoverinfo": "text",
         "marker": {
          "color": "black",
          "size": 3,
          "symbol": "circle"
         },
         "mode": "markers",
         "showlegend": false,
         "text": [
          "root",
          "Shrew",
          "Eutheria.2",
          "Boreoeutheria",
          "Laurasiatheria.4",
          "Laurasiatheria.3",
          "Laurasiatheria.2",
          "Laurasiatheria",
          "Carnivora",
          "Caniformia.3",
          "Caniformia.2",
          "Ursidae",
          "Giant_panda",
          "Polar_bear",
          "Ferret",
          "Canidae",
          "Dingo",
          "Red_fox",
          "Felidae",
          "Cat",
          "Tiger",
          "Horse",
          "Artiodactyla.3",
          "Artiodactyla.2",
          "Artiodactyla",
          "Pecora.2",
          "Pecora",
          "Bovidae",
          "Bovinae",
          "Wild_yak",
          "American_bison",
          "Goat",
          "Siberian_musk_deer",
          "Yarkand_deer",
          "Cetacea",
          "Odontoceti.3",
          "Odontoceti.2",
          "Odontoceti",
          "Monodontidae",
          "Narwhal",
          "Beluga_whale",
          "Vaquita",
          "Dolphin",
          "Sperm_whale",
          "Blue_whale",
          "Suina",
          "Pig",
          "Chacoan_peccary",
          "Arabian_camel",
          "Chiroptera",
          "Megabat",
          "Greater_horseshoe_bat",
          "Hedgehog",
          "Euarchontoglires",
          "Glires",
          "Rodentia.3",
          "Rodentia.2",
          "Rodentia",
          "Myomorpha",
          "Muroidea",
          "Cricetidae.2",
          "Cricetidae",
          "Golden_Hamster",
          "Prairie_vole",
          "Northern_American_deer_mouse",
          "Murinae",
          "Ryukyu_mouse",
          "Rat",
          "Lesser_Egyptian_jerboa",
          "Kangaroo_rat",
          "Hystricomorpha.2",
          "Hystricomorpha",
          "Long_tailed_chinchilla",
          "Degu",
          "Guinea_Pig",
          "Sciuridae",
          "Marmotini.3",
          "Marmotini",
          "Squirrel",
          "Arctic_ground_squirrel",
          "Alpine_marmot",
          "Eurasian_red_squirrel",
          "Lagomorpha",
          "Rabbit",
          "Pika",
          "Primates",
          "Lemuriformes.2",
          "Lemuriformes",
          "Coquerel's_sifaka",
          "Greater_bamboo_lemur",
          "Mouse_Lemur",
          "Simiiformes",
          "Catarrhini",
          "Hominoidea",
          "Hominidae",
          "Homininae.2",
          "Homininae",
          "Human",
          "Chimpanzee",
          "Gorilla",
          "Sumatran_orangutan",
          "Gibbon",
          "Cercopithecidae",
          "Cercopithecinae.5",
          "Cercopithecinae.4",
          "Cercopithecinae.3",
          "Cercopithecinae",
          "Sooty_mangabey",
          "Drill",
          "Olive_baboon",
          "Pig_tailed_macaque",
          "Vervet_AGM",
          "Black_snub_nosed_monkey",
          "Platyrrhini.2",
          "Platyrrhini",
          "Cebidae",
          "Panamanian_white_faced_capuchin",
          "Bolivian_squirrel_monkey",
          "Ma's_night_monkey",
          "White_tufted_ear_marmoset",
          "Elephant"
         ],
         "type": "scatter",
         "x": [
          0,
          0.07452909045632747,
          0.20731430890365457,
          0.23066247081910432,
          0.23705925773288383,
          0.2486897148430439,
          0.2877342586243145,
          0.2877351634219474,
          0.44294449031262606,
          0.46642876077340656,
          0.4920638918614779,
          0.5372581155902529,
          0.5581907986355186,
          0.5798248062386189,
          0.6517334045922039,
          0.783940791524434,
          0.8208835384261851,
          0.8234445732705352,
          0.511229969219472,
          0.5318048222099093,
          0.5547420645753857,
          0.5164546405170969,
          0.34851147095728735,
          0.36367285964967605,
          0.3829434826108315,
          0.4679436326264654,
          0.47205764724216615,
          0.4874489028132565,
          0.5314385260248936,
          0.5345424374384365,
          0.5349951073459891,
          0.538580326687099,
          0.5266987768749063,
          0.5121975086770535,
          0.4769687266998607,
          0.47720161791985194,
          0.4883547968038085,
          0.494922823880009,
          0.4980928891344125,
          0.5031380870318651,
          0.5040544256220929,
          0.5180885678374807,
          0.5150851152598412,
          0.4987223135264229,
          0.49407553269375437,
          0.4456272796620615,
          0.5060327016434345,
          0.5186872999534531,
          0.5009134870462186,
          0.39927473630620736,
          0.5234107608630753,
          0.5481476963727014,
          0.5052385886730744,
          0.2701812031418217,
          0.2996477911027852,
          0.317837735691758,
          0.32476663427383506,
          0.329306275367125,
          0.3735558835904047,
          0.5160212872276743,
          0.5333594933134554,
          0.5395839313115625,
          0.6419415246458509,
          0.6548678213056068,
          0.6087461640685747,
          0.5858806563099426,
          0.6680609705299961,
          0.6891300752948686,
          0.6143020401433634,
          0.6842470509123599,
          0.5079408882093227,
          0.5144819070604325,
          0.6355260983655159,
          0.647202269564104,
          0.7899626047665542,
          0.41230073204072487,
          0.4734111710561057,
          0.48868569224529823,
          0.5030564426223139,
          0.5075408646579991,
          0.49165031235215784,
          0.49168955188484087,
          0.43471402984984026,
          0.6792159477287054,
          0.6889920343571974,
          0.6089339398736927,
          0.698729409865984,
          0.7209853565954476,
          0.7605160515498964,
          0.7623872062063174,
          0.7633793427393651,
          0.7038666428523939,
          0.7307476523125823,
          0.7543107448026716,
          0.7583066307961849,
          0.7725994197791695,
          0.7740871884178883,
          0.78131808238062,
          0.7845194265254894,
          0.7834049014623043,
          0.7847721233464081,
          0.7726988164812059,
          0.7616286279836203,
          0.7745704022605474,
          0.7795348937325813,
          0.7825640660569797,
          0.7863446728414748,
          0.7909120203689105,
          0.7982260455343055,
          0.7888677039519884,
          0.7912580643554317,
          0.7932669274929206,
          0.7885672121102619,
          0.7862706392437644,
          0.8066402662899025,
          0.8116681177497991,
          0.8402410341630061,
          0.8571030316278142,
          0.8437760931525343,
          1.1284936364749552,
          0.5303837575055619
         ],
         "y": [
          8.923297119140624,
          39,
          -21.15340576171875,
          -3.3068115234374993,
          10.829736328125001,
          15.159472656250001,
          21.868945312500003,
          30.590625000000003,
          32.581250000000004,
          34.612500000000004,
          36.075,
          37.05,
          37.7,
          36.4,
          35.1,
          33.150000000000006,
          33.800000000000004,
          32.5,
          30.550000000000004,
          31.200000000000003,
          29.900000000000002,
          28.6,
          13.147265625000001,
          15.894531250000002,
          19.439062500000002,
          23.31875,
          24.5375,
          25.674999999999997,
          26.65,
          27.3,
          26,
          24.7,
          23.400000000000002,
          22.1,
          15.559375000000001,
          16.81875,
          18.0375,
          19.174999999999997,
          20.15,
          20.8,
          19.5,
          18.2,
          16.900000000000002,
          15.600000000000001,
          14.3,
          12.350000000000001,
          13,
          11.700000000000001,
          10.4,
          8.45,
          9.1,
          7.800000000000001,
          6.5,
          -17.443359375,
          -10.293359375,
          -6.93671875,
          -3.3109375,
          -1.096875,
          0.4062500000000001,
          2.1125000000000003,
          3.575,
          4.550000000000001,
          5.2,
          3.9000000000000004,
          2.6,
          0.65,
          1.3,
          0,
          -1.3,
          -2.6,
          -5.525,
          -4.550000000000001,
          -3.9000000000000004,
          -5.2,
          -6.5,
          -10.5625,
          -9.425,
          -8.45,
          -7.800000000000001,
          -9.1,
          -10.4,
          -11.700000000000001,
          -13.65,
          -13,
          -14.3,
          -24.593359375000002,
          -17.225,
          -16.25,
          -15.600000000000001,
          -16.900000000000002,
          -18.2,
          -31.961718750000003,
          -27.360937500000002,
          -23.481250000000003,
          -22.262500000000003,
          -21.125,
          -20.15,
          -19.5,
          -20.8,
          -22.1,
          -23.400000000000002,
          -24.7,
          -31.240625,
          -29.981250000000003,
          -28.762500000000003,
          -27.625,
          -26.65,
          -26,
          -27.3,
          -28.6,
          -29.900000000000002,
          -31.200000000000003,
          -32.5,
          -36.5625,
          -35.425,
          -34.45,
          -33.800000000000004,
          -35.1,
          -36.4,
          -37.7,
          -39
         ]
        }
       ],
       "layout": {
        "annotations": [
         {
          "font": {
           "family": "Inconsolata, monospace",
           "size": 12
          },
          "showarrow": false,
          "text": "Shrew",
          "textangle": 0,
          "x": 0.10274143136820135,
          "xanchor": "left",
          "xref": "x",
          "y": 39,
          "yref": "y"
         },
         {
          "font": {
           "family": "Inconsolata, monospace",
           "size": 12
          },
          "showarrow": false,
          "text": "Giant_panda",
          "textangle": 0,
          "x": 0.5864031395473924,
          "xanchor": "left",
          "xref": "x",
          "y": 37.7,
          "yref": "y"
         },
         {
          "font": {
           "family": "Inconsolata, monospace",
           "size": 12
          },
          "showarrow": false,
          "text": "Polar_bear",
          "textangle": 0,
          "x": 0.6080371471504927,
          "xanchor": "left",
          "xref": "x",
          "y": 36.4,
          "yref": "y"
         },
         {
          "font": {
           "family": "Inconsolata, monospace",
           "size": 12
          },
          "showarrow": false,
          "text": "Ferret",
          "textangle": 0,
          "x": 0.6799457455040777,
          "xanchor": "left",
          "xref": "x",
          "y": 35.1,
          "yref": "y"
         },
         {
          "font": {
           "family": "Inconsolata, monospace",
           "size": 12
          },
          "showarrow": false,
          "text": "Dingo",
          "textangle": 0,
          "x": 0.849095879338059,
          "xanchor": "left",
          "xref": "x",
          "y": 33.800000000000004,
          "yref": "y"
         },
         {
          "font": {
           "family": "Inconsolata, monospace",
           "size": 12
          },
          "showarrow": false,
          "text": "Red_fox",
          "textangle": 0,
          "x": 0.8516569141824091,
          "xanchor": "left",
          "xref": "x",
          "y": 32.5,
          "yref": "y"
         },
         {
          "font": {
           "family": "Inconsolata, monospace",
           "size": 12
          },
          "showarrow": false,
          "text": "Cat",
          "textangle": 0,
          "x": 0.5600171631217832,
          "xanchor": "left",
          "xref": "x",
          "y": 31.200000000000003,
          "yref": "y"
         },
         {
          "font": {
           "family": "Inconsolata, monospace",
           "size": 12
          },
          "showarrow": false,
          "text": "Tiger",
          "textangle": 0,
          "x": 0.5829544054872595,
          "xanchor": "left",
          "xref": "x",
          "y": 29.900000000000002,
          "yref": "y"
         },
         {
          "font": {
           "family": "Inconsolata, monospace",
           "size": 12
          },
          "showarrow": false,
          "text": "Horse",
          "textangle": 0,
          "x": 0.5446669814289707,
          "xanchor": "left",
          "xref": "x",
          "y": 28.6,
          "yref": "y"
         },
         {
          "font": {
           "family": "Inconsolata, monospace",
           "size": 12
          },
          "showarrow": false,
          "text": "Wild_yak",
          "textangle": 0,
          "x": 0.5627547783503104,
          "xanchor": "left",
          "xref": "x",
          "y": 27.3,
          "yref": "y"
         },
         {
          "font": {
           "family": "Inconsolata, monospace",
           "size": 12
          },
          "showarrow": false,
          "text": "American_bison",
          "textangle": 0,
          "x": 0.563207448257863,
          "xanchor": "left",
          "xref": "x",
          "y": 26,
          "yref": "y"
         },
         {
          "font": {
           "family": "Inconsolata, monospace",
           "size": 12
          },
          "showarrow": false,
          "text": "Goat",
          "textangle": 0,
          "x": 0.5667926675989728,
          "xanchor": "left",
          "xref": "x",
          "y": 24.7,
          "yref": "y"
         },
         {
          "font": {
           "family": "Inconsolata, monospace",
           "size": 12
          },
          "showarrow": false,
          "text": "Siberian_musk_deer",
          "textangle": 0,
          "x": 0.5549111177867802,
          "xanchor": "left",
          "xref": "x",
          "y": 23.400000000000002,
          "yref": "y"
         },
         {
          "font": {
           "family": "Inconsolata, monospace",
           "size": 12
          },
          "showarrow": false,
          "text": "Yarkand_deer",
          "textangle": 0,
          "x": 0.5404098495889273,
          "xanchor": "left",
          "xref": "x",
          "y": 22.1,
          "yref": "y"
         },
         {
          "font": {
           "family": "Inconsolata, monospace",
           "size": 12
          },
          "showarrow": false,
          "text": "Narwhal",
          "textangle": 0,
          "x": 0.531350427943739,
          "xanchor": "left",
          "xref": "x",
          "y": 20.8,
          "yref": "y"
         },
         {
          "font": {
           "family": "Inconsolata, monospace",
           "size": 12
          },
          "showarrow": false,
          "text": "Beluga_whale",
          "textangle": 0,
          "x": 0.5322667665339668,
          "xanchor": "left",
          "xref": "x",
          "y": 19.5,
          "yref": "y"
         },
         {
          "font": {
           "family": "Inconsolata, monospace",
           "size": 12
          },
          "showarrow": false,
          "text": "Vaquita",
          "textangle": 0,
          "x": 0.5463009087493546,
          "xanchor": "left",
          "xref": "x",
          "y": 18.2,
          "yref": "y"
         },
         {
          "font": {
           "family": "Inconsolata, monospace",
           "size": 12
          },
          "showarrow": false,
          "text": "Dolphin",
          "textangle": 0,
          "x": 0.5432974561717151,
          "xanchor": "left",
          "xref": "x",
          "y": 16.900000000000002,
          "yref": "y"
         },
         {
          "font": {
           "family": "Inconsolata, monospace",
           "size": 12
          },
          "showarrow": false,
          "text": "Sperm_whale",
          "textangle": 0,
          "x": 0.5269346544382968,
          "xanchor": "left",
          "xref": "x",
          "y": 15.600000000000001,
          "yref": "y"
         },
         {
          "font": {
           "family": "Inconsolata, monospace",
           "size": 12
          },
          "showarrow": false,
          "text": "Blue_whale",
          "textangle": 0,
          "x": 0.5222878736056282,
          "xanchor": "left",
          "xref": "x",
          "y": 14.3,
          "yref": "y"
         },
         {
          "font": {
           "family": "Inconsolata, monospace",
           "size": 12
          },
          "showarrow": false,
          "text": "Pig",
          "textangle": 0,
          "x": 0.5342450425553084,
          "xanchor": "left",
          "xref": "x",
          "y": 13,
          "yref": "y"
         },
         {
          "font": {
           "family": "Inconsolata, monospace",
           "size": 12
          },
          "showarrow": false,
          "text": "Chacoan_peccary",
          "textangle": 0,
          "x": 0.5468996408653269,
          "xanchor": "left",
          "xref": "x",
          "y": 11.700000000000001,
          "yref": "y"
         },
         {
          "font": {
           "family": "Inconsolata, monospace",
           "size": 12
          },
          "showarrow": false,
          "text": "Arabian_camel",
          "textangle": 0,
          "x": 0.5291258279580925,
          "xanchor": "left",
          "xref": "x",
          "y": 10.4,
          "yref": "y"
         },
         {
          "font": {
           "family": "Inconsolata, monospace",
           "size": 12
          },
          "showarrow": false,
          "text": "Megabat",
          "textangle": 0,
          "x": 0.5516231017749491,
          "xanchor": "left",
          "xref": "x",
          "y": 9.1,
          "yref": "y"
         },
         {
          "font": {
           "family": "Inconsolata, monospace",
           "size": 12
          },
          "showarrow": false,
          "text": "Greater_horseshoe_bat",
          "textangle": 0,
          "x": 0.5763600372845753,
          "xanchor": "left",
          "xref": "x",
          "y": 7.800000000000001,
          "yref": "y"
         },
         {
          "font": {
           "family": "Inconsolata, monospace",
           "size": 12
          },
          "showarrow": false,
          "text": "Hedgehog",
          "textangle": 0,
          "x": 0.5334509295849482,
          "xanchor": "left",
          "xref": "x",
          "y": 6.5,
          "yref": "y"
         },
         {
          "font": {
           "family": "Inconsolata, monospace",
           "size": 12
          },
          "showarrow": false,
          "text": "Golden_Hamster",
          "textangle": 0,
          "x": 0.6701538655577247,
          "xanchor": "left",
          "xref": "x",
          "y": 5.2,
          "yref": "y"
         },
         {
          "font": {
           "family": "Inconsolata, monospace",
           "size": 12
          },
          "showarrow": false,
          "text": "Prairie_vole",
          "textangle": 0,
          "x": 0.6830801622174807,
          "xanchor": "left",
          "xref": "x",
          "y": 3.9000000000000004,
          "yref": "y"
         },
         {
          "font": {
           "family": "Inconsolata, monospace",
           "size": 12
          },
          "showarrow": false,
          "text": "Northern_American_deer_mouse",
          "textangle": 0,
          "x": 0.6369585049804486,
          "xanchor": "left",
          "xref": "x",
          "y": 2.6,
          "yref": "y"
         },
         {
          "font": {
           "family": "Inconsolata, monospace",
           "size": 12
          },
          "showarrow": false,
          "text": "Ryukyu_mouse",
          "textangle": 0,
          "x": 0.69627331144187,
          "xanchor": "left",
          "xref": "x",
          "y": 1.3,
          "yref": "y"
         },
         {
          "font": {
           "family": "Inconsolata, monospace",
           "size": 12
          },
          "showarrow": false,
          "text": "Rat",
          "textangle": 0,
          "x": 0.7173424162067424,
          "xanchor": "left",
          "xref": "x",
          "y": 0,
          "yref": "y"
         },
         {
          "font": {
           "family": "Inconsolata, monospace",
           "size": 12
          },
          "showarrow": false,
          "text": "Lesser_Egyptian_jerboa",
          "textangle": 0,
          "x": 0.6425143810552373,
          "xanchor": "left",
          "xref": "x",
          "y": -1.3,
          "yref": "y"
         },
         {
          "font": {
           "family": "Inconsolata, monospace",
           "size": 12
          },
          "showarrow": false,
          "text": "Kangaroo_rat",
          "textangle": 0,
          "x": 0.7124593918242338,
          "xanchor": "left",
          "xref": "x",
          "y": -2.6,
          "yref": "y"
         },
         {
          "font": {
           "family": "Inconsolata, monospace",
           "size": 12
          },
          "showarrow": false,
          "text": "Long_tailed_chinchilla",
          "textangle": 0,
          "x": 0.6637384392773897,
          "xanchor": "left",
          "xref": "x",
          "y": -3.9000000000000004,
          "yref": "y"
         },
         {
          "font": {
           "family": "Inconsolata, monospace",
           "size": 12
          },
          "showarrow": false,
          "text": "Degu",
          "textangle": 0,
          "x": 0.6754146104759778,
          "xanchor": "left",
          "xref": "x",
          "y": -5.2,
          "yref": "y"
         },
         {
          "font": {
           "family": "Inconsolata, monospace",
           "size": 12
          },
          "showarrow": false,
          "text": "Guinea_Pig",
          "textangle": 0,
          "x": 0.8181749456784281,
          "xanchor": "left",
          "xref": "x",
          "y": -6.5,
          "yref": "y"
         },
         {
          "font": {
           "family": "Inconsolata, monospace",
           "size": 12
          },
          "showarrow": false,
          "text": "Squirrel",
          "textangle": 0,
          "x": 0.5312687835341877,
          "xanchor": "left",
          "xref": "x",
          "y": -7.800000000000001,
          "yref": "y"
         },
         {
          "font": {
           "family": "Inconsolata, monospace",
           "size": 12
          },
          "showarrow": false,
          "text": "Arctic_ground_squirrel",
          "textangle": 0,
          "x": 0.5357532055698729,
          "xanchor": "left",
          "xref": "x",
          "y": -9.1,
          "yref": "y"
         },
         {
          "font": {
           "family": "Inconsolata, monospace",
           "size": 12
          },
          "showarrow": false,
          "text": "Alpine_marmot",
          "textangle": 0,
          "x": 0.5198626532640317,
          "xanchor": "left",
          "xref": "x",
          "y": -10.4,
          "yref": "y"
         },
         {
          "font": {
           "family": "Inconsolata, monospace",
           "size": 12
          },
          "showarrow": false,
          "text": "Eurasian_red_squirrel",
          "textangle": 0,
          "x": 0.5199018927967147,
          "xanchor": "left",
          "xref": "x",
          "y": -11.700000000000001,
          "yref": "y"
         },
         {
          "font": {
           "family": "Inconsolata, monospace",
           "size": 12
          },
          "showarrow": false,
          "text": "Rabbit",
          "textangle": 0,
          "x": 0.7074282886405793,
          "xanchor": "left",
          "xref": "x",
          "y": -13,
          "yref": "y"
         },
         {
          "font": {
           "family": "Inconsolata, monospace",
           "size": 12
          },
          "showarrow": false,
          "text": "Pika",
          "textangle": 0,
          "x": 0.7172043752690712,
          "xanchor": "left",
          "xref": "x",
          "y": -14.3,
          "yref": "y"
         },
         {
          "font": {
           "family": "Inconsolata, monospace",
           "size": 12
          },
          "showarrow": false,
          "text": "Coquerel's_sifaka",
          "textangle": 0,
          "x": 0.7887283924617703,
          "xanchor": "left",
          "xref": "x",
          "y": -15.600000000000001,
          "yref": "y"
         },
         {
          "font": {
           "family": "Inconsolata, monospace",
           "size": 12
          },
          "showarrow": false,
          "text": "Greater_bamboo_lemur",
          "textangle": 0,
          "x": 0.7905995471181912,
          "xanchor": "left",
          "xref": "x",
          "y": -16.900000000000002,
          "yref": "y"
         },
         {
          "font": {
           "family": "Inconsolata, monospace",
           "size": 12
          },
          "showarrow": false,
          "text": "Mouse_Lemur",
          "textangle": 0,
          "x": 0.791591683651239,
          "xanchor": "left",
          "xref": "x",
          "y": -18.2,
          "yref": "y"
         },
         {
          "font": {
           "family": "Inconsolata, monospace",
           "size": 12
          },
          "showarrow": false,
          "text": "Human",
          "textangle": 0,
          "x": 0.8095304232924938,
          "xanchor": "left",
          "xref": "x",
          "y": -19.5,
          "yref": "y"
         },
         {
          "font": {
           "family": "Inconsolata, monospace",
           "size": 12
          },
          "showarrow": false,
          "text": "Chimpanzee",
          "textangle": 0,
          "x": 0.8127317674373633,
          "xanchor": "left",
          "xref": "x",
          "y": -20.8,
          "yref": "y"
         },
         {
          "font": {
           "family": "Inconsolata, monospace",
           "size": 12
          },
          "showarrow": false,
          "text": "Gorilla",
          "textangle": 0,
          "x": 0.8116172423741782,
          "xanchor": "left",
          "xref": "x",
          "y": -22.1,
          "yref": "y"
         },
         {
          "font": {
           "family": "Inconsolata, monospace",
           "size": 12
          },
          "showarrow": false,
          "text": "Sumatran_orangutan",
          "textangle": 0,
          "x": 0.812984464258282,
          "xanchor": "left",
          "xref": "x",
          "y": -23.400000000000002,
          "yref": "y"
         },
         {
          "font": {
           "family": "Inconsolata, monospace",
           "size": 12
          },
          "showarrow": false,
          "text": "Gibbon",
          "textangle": 0,
          "x": 0.8009111573930797,
          "xanchor": "left",
          "xref": "x",
          "y": -24.7,
          "yref": "y"
         },
         {
          "font": {
           "family": "Inconsolata, monospace",
           "size": 12
          },
          "showarrow": false,
          "text": "Sooty_mangabey",
          "textangle": 0,
          "x": 0.8191243612807844,
          "xanchor": "left",
          "xref": "x",
          "y": -26,
          "yref": "y"
         },
         {
          "font": {
           "family": "Inconsolata, monospace",
           "size": 12
          },
          "showarrow": false,
          "text": "Drill",
          "textangle": 0,
          "x": 0.8264383864461794,
          "xanchor": "left",
          "xref": "x",
          "y": -27.3,
          "yref": "y"
         },
         {
          "font": {
           "family": "Inconsolata, monospace",
           "size": 12
          },
          "showarrow": false,
          "text": "Olive_baboon",
          "textangle": 0,
          "x": 0.8170800448638622,
          "xanchor": "left",
          "xref": "x",
          "y": -28.6,
          "yref": "y"
         },
         {
          "font": {
           "family": "Inconsolata, monospace",
           "size": 12
          },
          "showarrow": false,
          "text": "Pig_tailed_macaque",
          "textangle": 0,
          "x": 0.8194704052673055,
          "xanchor": "left",
          "xref": "x",
          "y": -29.900000000000002,
          "yref": "y"
         },
         {
          "font": {
           "family": "Inconsolata, monospace",
           "size": 12
          },
          "showarrow": false,
          "text": "Vervet_AGM",
          "textangle": 0,
          "x": 0.8214792684047945,
          "xanchor": "left",
          "xref": "x",
          "y": -31.200000000000003,
          "yref": "y"
         },
         {
          "font": {
           "family": "Inconsolata, monospace",
           "size": 12
          },
          "showarrow": false,
          "text": "Black_snub_nosed_monkey",
          "textangle": 0,
          "x": 0.8167795530221358,
          "xanchor": "left",
          "xref": "x",
          "y": -32.5,
          "yref": "y"
         },
         {
          "font": {
           "family": "Inconsolata, monospace",
           "size": 12
          },
          "showarrow": false,
          "text": "Panamanian_white_faced_capuchin",
          "textangle": 0,
          "x": 0.86845337507488,
          "xanchor": "left",
          "xref": "x",
          "y": -33.800000000000004,
          "yref": "y"
         },
         {
          "font": {
           "family": "Inconsolata, monospace",
           "size": 12
          },
          "showarrow": false,
          "text": "Bolivian_squirrel_monkey",
          "textangle": 0,
          "x": 0.8853153725396881,
          "xanchor": "left",
          "xref": "x",
          "y": -35.1,
          "yref": "y"
         },
         {
          "font": {
           "family": "Inconsolata, monospace",
           "size": 12
          },
          "showarrow": false,
          "text": "Ma's_night_monkey",
          "textangle": 0,
          "x": 0.8719884340644082,
          "xanchor": "left",
          "xref": "x",
          "y": -36.4,
          "yref": "y"
         },
         {
          "font": {
           "family": "Inconsolata, monospace",
           "size": 12
          },
          "showarrow": false,
          "text": "White_tufted_ear_marmoset",
          "textangle": 0,
          "x": 1.1567059773868291,
          "xanchor": "left",
          "xref": "x",
          "y": -37.7,
          "yref": "y"
         },
         {
          "font": {
           "family": "Inconsolata, monospace",
           "size": 12
          },
          "showarrow": false,
          "text": "Elephant",
          "textangle": 0,
          "x": 0.5585960984174357,
          "xanchor": "left",
          "xref": "x",
          "y": -39,
          "yref": "y"
         },
         {
          "ax": 0,
          "ay": 0,
          "showarrow": false,
          "text": "0.11",
          "x": 0.05642468182374776,
          "xref": "x",
          "y": -46.09090909090909,
          "yref": "y",
          "yshift": 10
         }
        ],
        "autosize": true,
        "font": {
         "family": "Balto",
         "size": 14
        },
        "height": 1000,
        "hovermode": "closest",
        "margin": {
         "b": 50,
         "l": 50,
         "pad": 4,
         "r": 50,
         "t": 50
        },
        "shapes": [
         {
          "line": {
           "color": "black",
           "width": 1.25
          },
          "name": "scale_bar",
          "type": "line",
          "x0": 0,
          "x1": 0.11284936364749552,
          "y0": -46.09090909090909,
          "y1": -46.09090909090909
         }
        ],
        "showlegend": false,
        "template": {
         "data": {
          "bar": [
           {
            "error_x": {
             "color": "#2a3f5f"
            },
            "error_y": {
             "color": "#2a3f5f"
            },
            "marker": {
             "line": {
              "color": "#E5ECF6",
              "width": 0.5
             },
             "pattern": {
              "fillmode": "overlay",
              "size": 10,
              "solidity": 0.2
             }
            },
            "type": "bar"
           }
          ],
          "barpolar": [
           {
            "marker": {
             "line": {
              "color": "#E5ECF6",
              "width": 0.5
             },
             "pattern": {
              "fillmode": "overlay",
              "size": 10,
              "solidity": 0.2
             }
            },
            "type": "barpolar"
           }
          ],
          "carpet": [
           {
            "aaxis": {
             "endlinecolor": "#2a3f5f",
             "gridcolor": "white",
             "linecolor": "white",
             "minorgridcolor": "white",
             "startlinecolor": "#2a3f5f"
            },
            "baxis": {
             "endlinecolor": "#2a3f5f",
             "gridcolor": "white",
             "linecolor": "white",
             "minorgridcolor": "white",
             "startlinecolor": "#2a3f5f"
            },
            "type": "carpet"
           }
          ],
          "choropleth": [
           {
            "colorbar": {
             "outlinewidth": 0,
             "ticks": ""
            },
            "type": "choropleth"
           }
          ],
          "contour": [
           {
            "colorbar": {
             "outlinewidth": 0,
             "ticks": ""
            },
            "colorscale": [
             [
              0,
              "#0d0887"
             ],
             [
              0.1111111111111111,
              "#46039f"
             ],
             [
              0.2222222222222222,
              "#7201a8"
             ],
             [
              0.3333333333333333,
              "#9c179e"
             ],
             [
              0.4444444444444444,
              "#bd3786"
             ],
             [
              0.5555555555555556,
              "#d8576b"
             ],
             [
              0.6666666666666666,
              "#ed7953"
             ],
             [
              0.7777777777777778,
              "#fb9f3a"
             ],
             [
              0.8888888888888888,
              "#fdca26"
             ],
             [
              1,
              "#f0f921"
             ]
            ],
            "type": "contour"
           }
          ],
          "contourcarpet": [
           {
            "colorbar": {
             "outlinewidth": 0,
             "ticks": ""
            },
            "type": "contourcarpet"
           }
          ],
          "heatmap": [
           {
            "colorbar": {
             "outlinewidth": 0,
             "ticks": ""
            },
            "colorscale": [
             [
              0,
              "#0d0887"
             ],
             [
              0.1111111111111111,
              "#46039f"
             ],
             [
              0.2222222222222222,
              "#7201a8"
             ],
             [
              0.3333333333333333,
              "#9c179e"
             ],
             [
              0.4444444444444444,
              "#bd3786"
             ],
             [
              0.5555555555555556,
              "#d8576b"
             ],
             [
              0.6666666666666666,
              "#ed7953"
             ],
             [
              0.7777777777777778,
              "#fb9f3a"
             ],
             [
              0.8888888888888888,
              "#fdca26"
             ],
             [
              1,
              "#f0f921"
             ]
            ],
            "type": "heatmap"
           }
          ],
          "heatmapgl": [
           {
            "colorbar": {
             "outlinewidth": 0,
             "ticks": ""
            },
            "colorscale": [
             [
              0,
              "#0d0887"
             ],
             [
              0.1111111111111111,
              "#46039f"
             ],
             [
              0.2222222222222222,
              "#7201a8"
             ],
             [
              0.3333333333333333,
              "#9c179e"
             ],
             [
              0.4444444444444444,
              "#bd3786"
             ],
             [
              0.5555555555555556,
              "#d8576b"
             ],
             [
              0.6666666666666666,
              "#ed7953"
             ],
             [
              0.7777777777777778,
              "#fb9f3a"
             ],
             [
              0.8888888888888888,
              "#fdca26"
             ],
             [
              1,
              "#f0f921"
             ]
            ],
            "type": "heatmapgl"
           }
          ],
          "histogram": [
           {
            "marker": {
             "pattern": {
              "fillmode": "overlay",
              "size": 10,
              "solidity": 0.2
             }
            },
            "type": "histogram"
           }
          ],
          "histogram2d": [
           {
            "colorbar": {
             "outlinewidth": 0,
             "ticks": ""
            },
            "colorscale": [
             [
              0,
              "#0d0887"
             ],
             [
              0.1111111111111111,
              "#46039f"
             ],
             [
              0.2222222222222222,
              "#7201a8"
             ],
             [
              0.3333333333333333,
              "#9c179e"
             ],
             [
              0.4444444444444444,
              "#bd3786"
             ],
             [
              0.5555555555555556,
              "#d8576b"
             ],
             [
              0.6666666666666666,
              "#ed7953"
             ],
             [
              0.7777777777777778,
              "#fb9f3a"
             ],
             [
              0.8888888888888888,
              "#fdca26"
             ],
             [
              1,
              "#f0f921"
             ]
            ],
            "type": "histogram2d"
           }
          ],
          "histogram2dcontour": [
           {
            "colorbar": {
             "outlinewidth": 0,
             "ticks": ""
            },
            "colorscale": [
             [
              0,
              "#0d0887"
             ],
             [
              0.1111111111111111,
              "#46039f"
             ],
             [
              0.2222222222222222,
              "#7201a8"
             ],
             [
              0.3333333333333333,
              "#9c179e"
             ],
             [
              0.4444444444444444,
              "#bd3786"
             ],
             [
              0.5555555555555556,
              "#d8576b"
             ],
             [
              0.6666666666666666,
              "#ed7953"
             ],
             [
              0.7777777777777778,
              "#fb9f3a"
             ],
             [
              0.8888888888888888,
              "#fdca26"
             ],
             [
              1,
              "#f0f921"
             ]
            ],
            "type": "histogram2dcontour"
           }
          ],
          "mesh3d": [
           {
            "colorbar": {
             "outlinewidth": 0,
             "ticks": ""
            },
            "type": "mesh3d"
           }
          ],
          "parcoords": [
           {
            "line": {
             "colorbar": {
              "outlinewidth": 0,
              "ticks": ""
             }
            },
            "type": "parcoords"
           }
          ],
          "pie": [
           {
            "automargin": true,
            "type": "pie"
           }
          ],
          "scatter": [
           {
            "fillpattern": {
             "fillmode": "overlay",
             "size": 10,
             "solidity": 0.2
            },
            "type": "scatter"
           }
          ],
          "scatter3d": [
           {
            "line": {
             "colorbar": {
              "outlinewidth": 0,
              "ticks": ""
             }
            },
            "marker": {
             "colorbar": {
              "outlinewidth": 0,
              "ticks": ""
             }
            },
            "type": "scatter3d"
           }
          ],
          "scattercarpet": [
           {
            "marker": {
             "colorbar": {
              "outlinewidth": 0,
              "ticks": ""
             }
            },
            "type": "scattercarpet"
           }
          ],
          "scattergeo": [
           {
            "marker": {
             "colorbar": {
              "outlinewidth": 0,
              "ticks": ""
             }
            },
            "type": "scattergeo"
           }
          ],
          "scattergl": [
           {
            "marker": {
             "colorbar": {
              "outlinewidth": 0,
              "ticks": ""
             }
            },
            "type": "scattergl"
           }
          ],
          "scattermapbox": [
           {
            "marker": {
             "colorbar": {
              "outlinewidth": 0,
              "ticks": ""
             }
            },
            "type": "scattermapbox"
           }
          ],
          "scatterpolar": [
           {
            "marker": {
             "colorbar": {
              "outlinewidth": 0,
              "ticks": ""
             }
            },
            "type": "scatterpolar"
           }
          ],
          "scatterpolargl": [
           {
            "marker": {
             "colorbar": {
              "outlinewidth": 0,
              "ticks": ""
             }
            },
            "type": "scatterpolargl"
           }
          ],
          "scatterternary": [
           {
            "marker": {
             "colorbar": {
              "outlinewidth": 0,
              "ticks": ""
             }
            },
            "type": "scatterternary"
           }
          ],
          "surface": [
           {
            "colorbar": {
             "outlinewidth": 0,
             "ticks": ""
            },
            "colorscale": [
             [
              0,
              "#0d0887"
             ],
             [
              0.1111111111111111,
              "#46039f"
             ],
             [
              0.2222222222222222,
              "#7201a8"
             ],
             [
              0.3333333333333333,
              "#9c179e"
             ],
             [
              0.4444444444444444,
              "#bd3786"
             ],
             [
              0.5555555555555556,
              "#d8576b"
             ],
             [
              0.6666666666666666,
              "#ed7953"
             ],
             [
              0.7777777777777778,
              "#fb9f3a"
             ],
             [
              0.8888888888888888,
              "#fdca26"
             ],
             [
              1,
              "#f0f921"
             ]
            ],
            "type": "surface"
           }
          ],
          "table": [
           {
            "cells": {
             "fill": {
              "color": "#EBF0F8"
             },
             "line": {
              "color": "white"
             }
            },
            "header": {
             "fill": {
              "color": "#C8D4E3"
             },
             "line": {
              "color": "white"
             }
            },
            "type": "table"
           }
          ]
         },
         "layout": {
          "annotationdefaults": {
           "arrowcolor": "#2a3f5f",
           "arrowhead": 0,
           "arrowwidth": 1
          },
          "autotypenumbers": "strict",
          "coloraxis": {
           "colorbar": {
            "outlinewidth": 0,
            "ticks": ""
           }
          },
          "colorscale": {
           "diverging": [
            [
             0,
             "#8e0152"
            ],
            [
             0.1,
             "#c51b7d"
            ],
            [
             0.2,
             "#de77ae"
            ],
            [
             0.3,
             "#f1b6da"
            ],
            [
             0.4,
             "#fde0ef"
            ],
            [
             0.5,
             "#f7f7f7"
            ],
            [
             0.6,
             "#e6f5d0"
            ],
            [
             0.7,
             "#b8e186"
            ],
            [
             0.8,
             "#7fbc41"
            ],
            [
             0.9,
             "#4d9221"
            ],
            [
             1,
             "#276419"
            ]
           ],
           "sequential": [
            [
             0,
             "#0d0887"
            ],
            [
             0.1111111111111111,
             "#46039f"
            ],
            [
             0.2222222222222222,
             "#7201a8"
            ],
            [
             0.3333333333333333,
             "#9c179e"
            ],
            [
             0.4444444444444444,
             "#bd3786"
            ],
            [
             0.5555555555555556,
             "#d8576b"
            ],
            [
             0.6666666666666666,
             "#ed7953"
            ],
            [
             0.7777777777777778,
             "#fb9f3a"
            ],
            [
             0.8888888888888888,
             "#fdca26"
            ],
            [
             1,
             "#f0f921"
            ]
           ],
           "sequentialminus": [
            [
             0,
             "#0d0887"
            ],
            [
             0.1111111111111111,
             "#46039f"
            ],
            [
             0.2222222222222222,
             "#7201a8"
            ],
            [
             0.3333333333333333,
             "#9c179e"
            ],
            [
             0.4444444444444444,
             "#bd3786"
            ],
            [
             0.5555555555555556,
             "#d8576b"
            ],
            [
             0.6666666666666666,
             "#ed7953"
            ],
            [
             0.7777777777777778,
             "#fb9f3a"
            ],
            [
             0.8888888888888888,
             "#fdca26"
            ],
            [
             1,
             "#f0f921"
            ]
           ]
          },
          "colorway": [
           "#636efa",
           "#EF553B",
           "#00cc96",
           "#ab63fa",
           "#FFA15A",
           "#19d3f3",
           "#FF6692",
           "#B6E880",
           "#FF97FF",
           "#FECB52"
          ],
          "font": {
           "color": "#2a3f5f"
          },
          "geo": {
           "bgcolor": "white",
           "lakecolor": "white",
           "landcolor": "#E5ECF6",
           "showlakes": true,
           "showland": true,
           "subunitcolor": "white"
          },
          "hoverlabel": {
           "align": "left"
          },
          "hovermode": "closest",
          "mapbox": {
           "style": "light"
          },
          "paper_bgcolor": "white",
          "plot_bgcolor": "#E5ECF6",
          "polar": {
           "angularaxis": {
            "gridcolor": "white",
            "linecolor": "white",
            "ticks": ""
           },
           "bgcolor": "#E5ECF6",
           "radialaxis": {
            "gridcolor": "white",
            "linecolor": "white",
            "ticks": ""
           }
          },
          "scene": {
           "xaxis": {
            "backgroundcolor": "#E5ECF6",
            "gridcolor": "white",
            "gridwidth": 2,
            "linecolor": "white",
            "showbackground": true,
            "ticks": "",
            "zerolinecolor": "white"
           },
           "yaxis": {
            "backgroundcolor": "#E5ECF6",
            "gridcolor": "white",
            "gridwidth": 2,
            "linecolor": "white",
            "showbackground": true,
            "ticks": "",
            "zerolinecolor": "white"
           },
           "zaxis": {
            "backgroundcolor": "#E5ECF6",
            "gridcolor": "white",
            "gridwidth": 2,
            "linecolor": "white",
            "showbackground": true,
            "ticks": "",
            "zerolinecolor": "white"
           }
          },
          "shapedefaults": {
           "line": {
            "color": "#2a3f5f"
           }
          },
          "ternary": {
           "aaxis": {
            "gridcolor": "white",
            "linecolor": "white",
            "ticks": ""
           },
           "baxis": {
            "gridcolor": "white",
            "linecolor": "white",
            "ticks": ""
           },
           "bgcolor": "#E5ECF6",
           "caxis": {
            "gridcolor": "white",
            "linecolor": "white",
            "ticks": ""
           }
          },
          "title": {
           "x": 0.05
          },
          "xaxis": {
           "automargin": true,
           "gridcolor": "white",
           "linecolor": "white",
           "ticks": "",
           "title": {
            "standoff": 15
           },
           "zerolinecolor": "white",
           "zerolinewidth": 2
          },
          "yaxis": {
           "automargin": true,
           "gridcolor": "white",
           "linecolor": "white",
           "ticks": "",
           "title": {
            "standoff": 15
           },
           "zerolinecolor": "white",
           "zerolinewidth": 2
          }
         }
        },
        "width": 1000,
        "xaxis": {
         "visible": false
        },
        "yaxis": {
         "visible": false
        }
       }
      },
      "text/html": [
       "<div>                            <div id=\"f01f8355-725e-4b29-b512-4ca7b14e1246\" class=\"plotly-graph-div\" style=\"height:1000px; width:1000px;\"></div>            <script type=\"text/javascript\">                require([\"plotly\"], function(Plotly) {                    window.PLOTLYENV=window.PLOTLYENV || {};                                    if (document.getElementById(\"f01f8355-725e-4b29-b512-4ca7b14e1246\")) {                    Plotly.newPlot(                        \"f01f8355-725e-4b29-b512-4ca7b14e1246\",                        [{\"line\":{\"color\":\"black\",\"shape\":\"spline\",\"smoothing\":1.3,\"width\":1.25},\"mode\":\"lines\",\"showlegend\":false,\"x\":[null,null,0,0,null,0,0.07452909045632747,null,0,0,null,0,0.20731430890365457,null,0.20731430890365457,0.20731430890365457,null,0.20731430890365457,0.23066247081910432,null,0.23066247081910432,0.23066247081910432,null,0.23066247081910432,0.23705925773288383,null,0.23705925773288383,0.23705925773288383,null,0.23705925773288383,0.2486897148430439,null,0.2486897148430439,0.2486897148430439,null,0.2486897148430439,0.2877342586243145,null,0.2877342586243145,0.2877342586243145,null,0.2877342586243145,0.2877351634219474,null,0.2877351634219474,0.2877351634219474,null,0.2877351634219474,0.44294449031262606,null,0.44294449031262606,0.44294449031262606,null,0.44294449031262606,0.46642876077340656,null,0.46642876077340656,0.46642876077340656,null,0.46642876077340656,0.4920638918614779,null,0.4920638918614779,0.4920638918614779,null,0.4920638918614779,0.5372581155902529,null,0.5372581155902529,0.5372581155902529,null,0.5372581155902529,0.5581907986355186,null,0.5372581155902529,0.5372581155902529,null,0.5372581155902529,0.5798248062386189,null,0.4920638918614779,0.4920638918614779,null,0.4920638918614779,0.6517334045922039,null,0.46642876077340656,0.46642876077340656,null,0.46642876077340656,0.783940791524434,null,0.783940791524434,0.783940791524434,null,0.783940791524434,0.8208835384261851,null,0.783940791524434,0.783940791524434,null,0.783940791524434,0.8234445732705352,null,0.44294449031262606,0.44294449031262606,null,0.44294449031262606,0.511229969219472,null,0.511229969219472,0.511229969219472,null,0.511229969219472,0.5318048222099093,null,0.511229969219472,0.511229969219472,null,0.511229969219472,0.5547420645753857,null,0.2877351634219474,0.2877351634219474,null,0.2877351634219474,0.5164546405170969,null,0.2877342586243145,0.2877342586243145,null,0.2877342586243145,0.34851147095728735,null,0.34851147095728735,0.34851147095728735,null,0.34851147095728735,0.36367285964967605,null,0.36367285964967605,0.36367285964967605,null,0.36367285964967605,0.3829434826108315,null,0.3829434826108315,0.3829434826108315,null,0.3829434826108315,0.4679436326264654,null,0.4679436326264654,0.4679436326264654,null,0.4679436326264654,0.47205764724216615,null,0.47205764724216615,0.47205764724216615,null,0.47205764724216615,0.4874489028132565,null,0.4874489028132565,0.4874489028132565,null,0.4874489028132565,0.5314385260248936,null,0.5314385260248936,0.5314385260248936,null,0.5314385260248936,0.5345424374384365,null,0.5314385260248936,0.5314385260248936,null,0.5314385260248936,0.5349951073459891,null,0.4874489028132565,0.4874489028132565,null,0.4874489028132565,0.538580326687099,null,0.47205764724216615,0.47205764724216615,null,0.47205764724216615,0.5266987768749063,null,0.4679436326264654,0.4679436326264654,null,0.4679436326264654,0.5121975086770535,null,0.3829434826108315,0.3829434826108315,null,0.3829434826108315,0.4769687266998607,null,0.4769687266998607,0.4769687266998607,null,0.4769687266998607,0.47720161791985194,null,0.47720161791985194,0.47720161791985194,null,0.47720161791985194,0.4883547968038085,null,0.4883547968038085,0.4883547968038085,null,0.4883547968038085,0.494922823880009,null,0.494922823880009,0.494922823880009,null,0.494922823880009,0.4980928891344125,null,0.4980928891344125,0.4980928891344125,null,0.4980928891344125,0.5031380870318651,null,0.4980928891344125,0.4980928891344125,null,0.4980928891344125,0.5040544256220929,null,0.494922823880009,0.494922823880009,null,0.494922823880009,0.5180885678374807,null,0.4883547968038085,0.4883547968038085,null,0.4883547968038085,0.5150851152598412,null,0.47720161791985194,0.47720161791985194,null,0.47720161791985194,0.4987223135264229,null,0.4769687266998607,0.4769687266998607,null,0.4769687266998607,0.49407553269375437,null,0.36367285964967605,0.36367285964967605,null,0.36367285964967605,0.4456272796620615,null,0.4456272796620615,0.4456272796620615,null,0.4456272796620615,0.5060327016434345,null,0.4456272796620615,0.4456272796620615,null,0.4456272796620615,0.5186872999534531,null,0.34851147095728735,0.34851147095728735,null,0.34851147095728735,0.5009134870462186,null,0.2486897148430439,0.2486897148430439,null,0.2486897148430439,0.39927473630620736,null,0.39927473630620736,0.39927473630620736,null,0.39927473630620736,0.5234107608630753,null,0.39927473630620736,0.39927473630620736,null,0.39927473630620736,0.5481476963727014,null,0.23705925773288383,0.23705925773288383,null,0.23705925773288383,0.5052385886730744,null,0.23066247081910432,0.23066247081910432,null,0.23066247081910432,0.2701812031418217,null,0.2701812031418217,0.2701812031418217,null,0.2701812031418217,0.2996477911027852,null,0.2996477911027852,0.2996477911027852,null,0.2996477911027852,0.317837735691758,null,0.317837735691758,0.317837735691758,null,0.317837735691758,0.32476663427383506,null,0.32476663427383506,0.32476663427383506,null,0.32476663427383506,0.329306275367125,null,0.329306275367125,0.329306275367125,null,0.329306275367125,0.3735558835904047,null,0.3735558835904047,0.3735558835904047,null,0.3735558835904047,0.5160212872276743,null,0.5160212872276743,0.5160212872276743,null,0.5160212872276743,0.5333594933134554,null,0.5333594933134554,0.5333594933134554,null,0.5333594933134554,0.5395839313115625,null,0.5395839313115625,0.5395839313115625,null,0.5395839313115625,0.6419415246458509,null,0.5395839313115625,0.5395839313115625,null,0.5395839313115625,0.6548678213056068,null,0.5333594933134554,0.5333594933134554,null,0.5333594933134554,0.6087461640685747,null,0.5160212872276743,0.5160212872276743,null,0.5160212872276743,0.5858806563099426,null,0.5858806563099426,0.5858806563099426,null,0.5858806563099426,0.6680609705299961,null,0.5858806563099426,0.5858806563099426,null,0.5858806563099426,0.6891300752948686,null,0.3735558835904047,0.3735558835904047,null,0.3735558835904047,0.6143020401433634,null,0.329306275367125,0.329306275367125,null,0.329306275367125,0.6842470509123599,null,0.32476663427383506,0.32476663427383506,null,0.32476663427383506,0.5079408882093227,null,0.5079408882093227,0.5079408882093227,null,0.5079408882093227,0.5144819070604325,null,0.5144819070604325,0.5144819070604325,null,0.5144819070604325,0.6355260983655159,null,0.5144819070604325,0.5144819070604325,null,0.5144819070604325,0.647202269564104,null,0.5079408882093227,0.5079408882093227,null,0.5079408882093227,0.7899626047665542,null,0.317837735691758,0.317837735691758,null,0.317837735691758,0.41230073204072487,null,0.41230073204072487,0.41230073204072487,null,0.41230073204072487,0.4734111710561057,null,0.4734111710561057,0.4734111710561057,null,0.4734111710561057,0.48868569224529823,null,0.48868569224529823,0.48868569224529823,null,0.48868569224529823,0.5030564426223139,null,0.48868569224529823,0.48868569224529823,null,0.48868569224529823,0.5075408646579991,null,0.4734111710561057,0.4734111710561057,null,0.4734111710561057,0.49165031235215784,null,0.41230073204072487,0.41230073204072487,null,0.41230073204072487,0.49168955188484087,null,0.2996477911027852,0.2996477911027852,null,0.2996477911027852,0.43471402984984026,null,0.43471402984984026,0.43471402984984026,null,0.43471402984984026,0.6792159477287054,null,0.43471402984984026,0.43471402984984026,null,0.43471402984984026,0.6889920343571974,null,0.2701812031418217,0.2701812031418217,null,0.2701812031418217,0.6089339398736927,null,0.6089339398736927,0.6089339398736927,null,0.6089339398736927,0.698729409865984,null,0.698729409865984,0.698729409865984,null,0.698729409865984,0.7209853565954476,null,0.7209853565954476,0.7209853565954476,null,0.7209853565954476,0.7605160515498964,null,0.7209853565954476,0.7209853565954476,null,0.7209853565954476,0.7623872062063174,null,0.698729409865984,0.698729409865984,null,0.698729409865984,0.7633793427393651,null,0.6089339398736927,0.6089339398736927,null,0.6089339398736927,0.7038666428523939,null,0.7038666428523939,0.7038666428523939,null,0.7038666428523939,0.7307476523125823,null,0.7307476523125823,0.7307476523125823,null,0.7307476523125823,0.7543107448026716,null,0.7543107448026716,0.7543107448026716,null,0.7543107448026716,0.7583066307961849,null,0.7583066307961849,0.7583066307961849,null,0.7583066307961849,0.7725994197791695,null,0.7725994197791695,0.7725994197791695,null,0.7725994197791695,0.7740871884178883,null,0.7740871884178883,0.7740871884178883,null,0.7740871884178883,0.78131808238062,null,0.7740871884178883,0.7740871884178883,null,0.7740871884178883,0.7845194265254894,null,0.7725994197791695,0.7725994197791695,null,0.7725994197791695,0.7834049014623043,null,0.7583066307961849,0.7583066307961849,null,0.7583066307961849,0.7847721233464081,null,0.7543107448026716,0.7543107448026716,null,0.7543107448026716,0.7726988164812059,null,0.7307476523125823,0.7307476523125823,null,0.7307476523125823,0.7616286279836203,null,0.7616286279836203,0.7616286279836203,null,0.7616286279836203,0.7745704022605474,null,0.7745704022605474,0.7745704022605474,null,0.7745704022605474,0.7795348937325813,null,0.7795348937325813,0.7795348937325813,null,0.7795348937325813,0.7825640660569797,null,0.7825640660569797,0.7825640660569797,null,0.7825640660569797,0.7863446728414748,null,0.7863446728414748,0.7863446728414748,null,0.7863446728414748,0.7909120203689105,null,0.7863446728414748,0.7863446728414748,null,0.7863446728414748,0.7982260455343055,null,0.7825640660569797,0.7825640660569797,null,0.7825640660569797,0.7888677039519884,null,0.7795348937325813,0.7795348937325813,null,0.7795348937325813,0.7912580643554317,null,0.7745704022605474,0.7745704022605474,null,0.7745704022605474,0.7932669274929206,null,0.7616286279836203,0.7616286279836203,null,0.7616286279836203,0.7885672121102619,null,0.7038666428523939,0.7038666428523939,null,0.7038666428523939,0.7862706392437644,null,0.7862706392437644,0.7862706392437644,null,0.7862706392437644,0.8066402662899025,null,0.8066402662899025,0.8066402662899025,null,0.8066402662899025,0.8116681177497991,null,0.8116681177497991,0.8116681177497991,null,0.8116681177497991,0.8402410341630061,null,0.8116681177497991,0.8116681177497991,null,0.8116681177497991,0.8571030316278142,null,0.8066402662899025,0.8066402662899025,null,0.8066402662899025,0.8437760931525343,null,0.7862706392437644,0.7862706392437644,null,0.7862706392437644,1.1284936364749552,null,0.20731430890365457,0.20731430890365457,null,0.20731430890365457,0.5303837575055619,null],\"y\":[null,null,8.923297119140624,39.0,null,39.0,39.0,null,8.923297119140624,-21.15340576171875,null,-21.15340576171875,-21.15340576171875,null,-21.15340576171875,-3.3068115234374993,null,-3.3068115234374993,-3.3068115234374993,null,-3.3068115234374993,10.829736328125001,null,10.829736328125001,10.829736328125001,null,10.829736328125001,15.159472656250001,null,15.159472656250001,15.159472656250001,null,15.159472656250001,21.868945312500003,null,21.868945312500003,21.868945312500003,null,21.868945312500003,30.590625000000003,null,30.590625000000003,30.590625000000003,null,30.590625000000003,32.581250000000004,null,32.581250000000004,32.581250000000004,null,32.581250000000004,34.612500000000004,null,34.612500000000004,34.612500000000004,null,34.612500000000004,36.075,null,36.075,36.075,null,36.075,37.05,null,37.05,37.05,null,37.05,37.7,null,37.7,37.7,null,37.05,36.4,null,36.4,36.4,null,36.075,35.1,null,35.1,35.1,null,34.612500000000004,33.150000000000006,null,33.150000000000006,33.150000000000006,null,33.150000000000006,33.800000000000004,null,33.800000000000004,33.800000000000004,null,33.150000000000006,32.5,null,32.5,32.5,null,32.581250000000004,30.550000000000004,null,30.550000000000004,30.550000000000004,null,30.550000000000004,31.200000000000003,null,31.200000000000003,31.200000000000003,null,30.550000000000004,29.900000000000002,null,29.900000000000002,29.900000000000002,null,30.590625000000003,28.6,null,28.6,28.6,null,21.868945312500003,13.147265625000001,null,13.147265625000001,13.147265625000001,null,13.147265625000001,15.894531250000002,null,15.894531250000002,15.894531250000002,null,15.894531250000002,19.439062500000002,null,19.439062500000002,19.439062500000002,null,19.439062500000002,23.31875,null,23.31875,23.31875,null,23.31875,24.5375,null,24.5375,24.5375,null,24.5375,25.674999999999997,null,25.674999999999997,25.674999999999997,null,25.674999999999997,26.65,null,26.65,26.65,null,26.65,27.3,null,27.3,27.3,null,26.65,26.0,null,26.0,26.0,null,25.674999999999997,24.7,null,24.7,24.7,null,24.5375,23.400000000000002,null,23.400000000000002,23.400000000000002,null,23.31875,22.1,null,22.1,22.1,null,19.439062500000002,15.559375000000001,null,15.559375000000001,15.559375000000001,null,15.559375000000001,16.81875,null,16.81875,16.81875,null,16.81875,18.0375,null,18.0375,18.0375,null,18.0375,19.174999999999997,null,19.174999999999997,19.174999999999997,null,19.174999999999997,20.15,null,20.15,20.15,null,20.15,20.8,null,20.8,20.8,null,20.15,19.5,null,19.5,19.5,null,19.174999999999997,18.2,null,18.2,18.2,null,18.0375,16.900000000000002,null,16.900000000000002,16.900000000000002,null,16.81875,15.600000000000001,null,15.600000000000001,15.600000000000001,null,15.559375000000001,14.3,null,14.3,14.3,null,15.894531250000002,12.350000000000001,null,12.350000000000001,12.350000000000001,null,12.350000000000001,13.0,null,13.0,13.0,null,12.350000000000001,11.700000000000001,null,11.700000000000001,11.700000000000001,null,13.147265625000001,10.4,null,10.4,10.4,null,15.159472656250001,8.45,null,8.45,8.45,null,8.45,9.1,null,9.1,9.1,null,8.45,7.800000000000001,null,7.800000000000001,7.800000000000001,null,10.829736328125001,6.5,null,6.5,6.5,null,-3.3068115234374993,-17.443359375,null,-17.443359375,-17.443359375,null,-17.443359375,-10.293359375,null,-10.293359375,-10.293359375,null,-10.293359375,-6.93671875,null,-6.93671875,-6.93671875,null,-6.93671875,-3.3109375,null,-3.3109375,-3.3109375,null,-3.3109375,-1.096875,null,-1.096875,-1.096875,null,-1.096875,0.4062500000000001,null,0.4062500000000001,0.4062500000000001,null,0.4062500000000001,2.1125000000000003,null,2.1125000000000003,2.1125000000000003,null,2.1125000000000003,3.575,null,3.575,3.575,null,3.575,4.550000000000001,null,4.550000000000001,4.550000000000001,null,4.550000000000001,5.2,null,5.2,5.2,null,4.550000000000001,3.9000000000000004,null,3.9000000000000004,3.9000000000000004,null,3.575,2.6,null,2.6,2.6,null,2.1125000000000003,0.65,null,0.65,0.65,null,0.65,1.3,null,1.3,1.3,null,0.65,0.0,null,0.0,0.0,null,0.4062500000000001,-1.3,null,-1.3,-1.3,null,-1.096875,-2.6,null,-2.6,-2.6,null,-3.3109375,-5.525,null,-5.525,-5.525,null,-5.525,-4.550000000000001,null,-4.550000000000001,-4.550000000000001,null,-4.550000000000001,-3.9000000000000004,null,-3.9000000000000004,-3.9000000000000004,null,-4.550000000000001,-5.2,null,-5.2,-5.2,null,-5.525,-6.5,null,-6.5,-6.5,null,-6.93671875,-10.5625,null,-10.5625,-10.5625,null,-10.5625,-9.425,null,-9.425,-9.425,null,-9.425,-8.45,null,-8.45,-8.45,null,-8.45,-7.800000000000001,null,-7.800000000000001,-7.800000000000001,null,-8.45,-9.1,null,-9.1,-9.1,null,-9.425,-10.4,null,-10.4,-10.4,null,-10.5625,-11.700000000000001,null,-11.700000000000001,-11.700000000000001,null,-10.293359375,-13.65,null,-13.65,-13.65,null,-13.65,-13.0,null,-13.0,-13.0,null,-13.65,-14.3,null,-14.3,-14.3,null,-17.443359375,-24.593359375000002,null,-24.593359375000002,-24.593359375000002,null,-24.593359375000002,-17.225,null,-17.225,-17.225,null,-17.225,-16.25,null,-16.25,-16.25,null,-16.25,-15.600000000000001,null,-15.600000000000001,-15.600000000000001,null,-16.25,-16.900000000000002,null,-16.900000000000002,-16.900000000000002,null,-17.225,-18.2,null,-18.2,-18.2,null,-24.593359375000002,-31.961718750000003,null,-31.961718750000003,-31.961718750000003,null,-31.961718750000003,-27.360937500000002,null,-27.360937500000002,-27.360937500000002,null,-27.360937500000002,-23.481250000000003,null,-23.481250000000003,-23.481250000000003,null,-23.481250000000003,-22.262500000000003,null,-22.262500000000003,-22.262500000000003,null,-22.262500000000003,-21.125,null,-21.125,-21.125,null,-21.125,-20.15,null,-20.15,-20.15,null,-20.15,-19.5,null,-19.5,-19.5,null,-20.15,-20.8,null,-20.8,-20.8,null,-21.125,-22.1,null,-22.1,-22.1,null,-22.262500000000003,-23.400000000000002,null,-23.400000000000002,-23.400000000000002,null,-23.481250000000003,-24.7,null,-24.7,-24.7,null,-27.360937500000002,-31.240625,null,-31.240625,-31.240625,null,-31.240625,-29.981250000000003,null,-29.981250000000003,-29.981250000000003,null,-29.981250000000003,-28.762500000000003,null,-28.762500000000003,-28.762500000000003,null,-28.762500000000003,-27.625,null,-27.625,-27.625,null,-27.625,-26.65,null,-26.65,-26.65,null,-26.65,-26.0,null,-26.0,-26.0,null,-26.65,-27.3,null,-27.3,-27.3,null,-27.625,-28.6,null,-28.6,-28.6,null,-28.762500000000003,-29.900000000000002,null,-29.900000000000002,-29.900000000000002,null,-29.981250000000003,-31.200000000000003,null,-31.200000000000003,-31.200000000000003,null,-31.240625,-32.5,null,-32.5,-32.5,null,-31.961718750000003,-36.5625,null,-36.5625,-36.5625,null,-36.5625,-35.425,null,-35.425,-35.425,null,-35.425,-34.45,null,-34.45,-34.45,null,-34.45,-33.800000000000004,null,-33.800000000000004,-33.800000000000004,null,-34.45,-35.1,null,-35.1,-35.1,null,-35.425,-36.4,null,-36.4,-36.4,null,-36.5625,-37.7,null,-37.7,-37.7,null,-21.15340576171875,-39.0,null,-39.0,-39.0,null],\"type\":\"scatter\"},{\"hoverinfo\":\"text\",\"marker\":{\"color\":\"black\",\"size\":3,\"symbol\":\"circle\"},\"mode\":\"markers\",\"showlegend\":false,\"text\":[\"root\",\"Shrew\",\"Eutheria.2\",\"Boreoeutheria\",\"Laurasiatheria.4\",\"Laurasiatheria.3\",\"Laurasiatheria.2\",\"Laurasiatheria\",\"Carnivora\",\"Caniformia.3\",\"Caniformia.2\",\"Ursidae\",\"Giant_panda\",\"Polar_bear\",\"Ferret\",\"Canidae\",\"Dingo\",\"Red_fox\",\"Felidae\",\"Cat\",\"Tiger\",\"Horse\",\"Artiodactyla.3\",\"Artiodactyla.2\",\"Artiodactyla\",\"Pecora.2\",\"Pecora\",\"Bovidae\",\"Bovinae\",\"Wild_yak\",\"American_bison\",\"Goat\",\"Siberian_musk_deer\",\"Yarkand_deer\",\"Cetacea\",\"Odontoceti.3\",\"Odontoceti.2\",\"Odontoceti\",\"Monodontidae\",\"Narwhal\",\"Beluga_whale\",\"Vaquita\",\"Dolphin\",\"Sperm_whale\",\"Blue_whale\",\"Suina\",\"Pig\",\"Chacoan_peccary\",\"Arabian_camel\",\"Chiroptera\",\"Megabat\",\"Greater_horseshoe_bat\",\"Hedgehog\",\"Euarchontoglires\",\"Glires\",\"Rodentia.3\",\"Rodentia.2\",\"Rodentia\",\"Myomorpha\",\"Muroidea\",\"Cricetidae.2\",\"Cricetidae\",\"Golden_Hamster\",\"Prairie_vole\",\"Northern_American_deer_mouse\",\"Murinae\",\"Ryukyu_mouse\",\"Rat\",\"Lesser_Egyptian_jerboa\",\"Kangaroo_rat\",\"Hystricomorpha.2\",\"Hystricomorpha\",\"Long_tailed_chinchilla\",\"Degu\",\"Guinea_Pig\",\"Sciuridae\",\"Marmotini.3\",\"Marmotini\",\"Squirrel\",\"Arctic_ground_squirrel\",\"Alpine_marmot\",\"Eurasian_red_squirrel\",\"Lagomorpha\",\"Rabbit\",\"Pika\",\"Primates\",\"Lemuriformes.2\",\"Lemuriformes\",\"Coquerel's_sifaka\",\"Greater_bamboo_lemur\",\"Mouse_Lemur\",\"Simiiformes\",\"Catarrhini\",\"Hominoidea\",\"Hominidae\",\"Homininae.2\",\"Homininae\",\"Human\",\"Chimpanzee\",\"Gorilla\",\"Sumatran_orangutan\",\"Gibbon\",\"Cercopithecidae\",\"Cercopithecinae.5\",\"Cercopithecinae.4\",\"Cercopithecinae.3\",\"Cercopithecinae\",\"Sooty_mangabey\",\"Drill\",\"Olive_baboon\",\"Pig_tailed_macaque\",\"Vervet_AGM\",\"Black_snub_nosed_monkey\",\"Platyrrhini.2\",\"Platyrrhini\",\"Cebidae\",\"Panamanian_white_faced_capuchin\",\"Bolivian_squirrel_monkey\",\"Ma's_night_monkey\",\"White_tufted_ear_marmoset\",\"Elephant\"],\"x\":[0,0.07452909045632747,0.20731430890365457,0.23066247081910432,0.23705925773288383,0.2486897148430439,0.2877342586243145,0.2877351634219474,0.44294449031262606,0.46642876077340656,0.4920638918614779,0.5372581155902529,0.5581907986355186,0.5798248062386189,0.6517334045922039,0.783940791524434,0.8208835384261851,0.8234445732705352,0.511229969219472,0.5318048222099093,0.5547420645753857,0.5164546405170969,0.34851147095728735,0.36367285964967605,0.3829434826108315,0.4679436326264654,0.47205764724216615,0.4874489028132565,0.5314385260248936,0.5345424374384365,0.5349951073459891,0.538580326687099,0.5266987768749063,0.5121975086770535,0.4769687266998607,0.47720161791985194,0.4883547968038085,0.494922823880009,0.4980928891344125,0.5031380870318651,0.5040544256220929,0.5180885678374807,0.5150851152598412,0.4987223135264229,0.49407553269375437,0.4456272796620615,0.5060327016434345,0.5186872999534531,0.5009134870462186,0.39927473630620736,0.5234107608630753,0.5481476963727014,0.5052385886730744,0.2701812031418217,0.2996477911027852,0.317837735691758,0.32476663427383506,0.329306275367125,0.3735558835904047,0.5160212872276743,0.5333594933134554,0.5395839313115625,0.6419415246458509,0.6548678213056068,0.6087461640685747,0.5858806563099426,0.6680609705299961,0.6891300752948686,0.6143020401433634,0.6842470509123599,0.5079408882093227,0.5144819070604325,0.6355260983655159,0.647202269564104,0.7899626047665542,0.41230073204072487,0.4734111710561057,0.48868569224529823,0.5030564426223139,0.5075408646579991,0.49165031235215784,0.49168955188484087,0.43471402984984026,0.6792159477287054,0.6889920343571974,0.6089339398736927,0.698729409865984,0.7209853565954476,0.7605160515498964,0.7623872062063174,0.7633793427393651,0.7038666428523939,0.7307476523125823,0.7543107448026716,0.7583066307961849,0.7725994197791695,0.7740871884178883,0.78131808238062,0.7845194265254894,0.7834049014623043,0.7847721233464081,0.7726988164812059,0.7616286279836203,0.7745704022605474,0.7795348937325813,0.7825640660569797,0.7863446728414748,0.7909120203689105,0.7982260455343055,0.7888677039519884,0.7912580643554317,0.7932669274929206,0.7885672121102619,0.7862706392437644,0.8066402662899025,0.8116681177497991,0.8402410341630061,0.8571030316278142,0.8437760931525343,1.1284936364749552,0.5303837575055619],\"y\":[8.923297119140624,39.0,-21.15340576171875,-3.3068115234374993,10.829736328125001,15.159472656250001,21.868945312500003,30.590625000000003,32.581250000000004,34.612500000000004,36.075,37.05,37.7,36.4,35.1,33.150000000000006,33.800000000000004,32.5,30.550000000000004,31.200000000000003,29.900000000000002,28.6,13.147265625000001,15.894531250000002,19.439062500000002,23.31875,24.5375,25.674999999999997,26.65,27.3,26.0,24.7,23.400000000000002,22.1,15.559375000000001,16.81875,18.0375,19.174999999999997,20.15,20.8,19.5,18.2,16.900000000000002,15.600000000000001,14.3,12.350000000000001,13.0,11.700000000000001,10.4,8.45,9.1,7.800000000000001,6.5,-17.443359375,-10.293359375,-6.93671875,-3.3109375,-1.096875,0.4062500000000001,2.1125000000000003,3.575,4.550000000000001,5.2,3.9000000000000004,2.6,0.65,1.3,0.0,-1.3,-2.6,-5.525,-4.550000000000001,-3.9000000000000004,-5.2,-6.5,-10.5625,-9.425,-8.45,-7.800000000000001,-9.1,-10.4,-11.700000000000001,-13.65,-13.0,-14.3,-24.593359375000002,-17.225,-16.25,-15.600000000000001,-16.900000000000002,-18.2,-31.961718750000003,-27.360937500000002,-23.481250000000003,-22.262500000000003,-21.125,-20.15,-19.5,-20.8,-22.1,-23.400000000000002,-24.7,-31.240625,-29.981250000000003,-28.762500000000003,-27.625,-26.65,-26.0,-27.3,-28.6,-29.900000000000002,-31.200000000000003,-32.5,-36.5625,-35.425,-34.45,-33.800000000000004,-35.1,-36.4,-37.7,-39.0],\"type\":\"scatter\"}],                        {\"annotations\":[{\"font\":{\"family\":\"Inconsolata, monospace\",\"size\":12},\"showarrow\":false,\"text\":\"Shrew\",\"textangle\":0,\"x\":0.10274143136820135,\"xanchor\":\"left\",\"xref\":\"x\",\"y\":39.0,\"yref\":\"y\"},{\"font\":{\"family\":\"Inconsolata, monospace\",\"size\":12},\"showarrow\":false,\"text\":\"Giant_panda\",\"textangle\":0,\"x\":0.5864031395473924,\"xanchor\":\"left\",\"xref\":\"x\",\"y\":37.7,\"yref\":\"y\"},{\"font\":{\"family\":\"Inconsolata, monospace\",\"size\":12},\"showarrow\":false,\"text\":\"Polar_bear\",\"textangle\":0,\"x\":0.6080371471504927,\"xanchor\":\"left\",\"xref\":\"x\",\"y\":36.4,\"yref\":\"y\"},{\"font\":{\"family\":\"Inconsolata, monospace\",\"size\":12},\"showarrow\":false,\"text\":\"Ferret\",\"textangle\":0,\"x\":0.6799457455040777,\"xanchor\":\"left\",\"xref\":\"x\",\"y\":35.1,\"yref\":\"y\"},{\"font\":{\"family\":\"Inconsolata, monospace\",\"size\":12},\"showarrow\":false,\"text\":\"Dingo\",\"textangle\":0,\"x\":0.849095879338059,\"xanchor\":\"left\",\"xref\":\"x\",\"y\":33.800000000000004,\"yref\":\"y\"},{\"font\":{\"family\":\"Inconsolata, monospace\",\"size\":12},\"showarrow\":false,\"text\":\"Red_fox\",\"textangle\":0,\"x\":0.8516569141824091,\"xanchor\":\"left\",\"xref\":\"x\",\"y\":32.5,\"yref\":\"y\"},{\"font\":{\"family\":\"Inconsolata, monospace\",\"size\":12},\"showarrow\":false,\"text\":\"Cat\",\"textangle\":0,\"x\":0.5600171631217832,\"xanchor\":\"left\",\"xref\":\"x\",\"y\":31.200000000000003,\"yref\":\"y\"},{\"font\":{\"family\":\"Inconsolata, monospace\",\"size\":12},\"showarrow\":false,\"text\":\"Tiger\",\"textangle\":0,\"x\":0.5829544054872595,\"xanchor\":\"left\",\"xref\":\"x\",\"y\":29.900000000000002,\"yref\":\"y\"},{\"font\":{\"family\":\"Inconsolata, monospace\",\"size\":12},\"showarrow\":false,\"text\":\"Horse\",\"textangle\":0,\"x\":0.5446669814289707,\"xanchor\":\"left\",\"xref\":\"x\",\"y\":28.6,\"yref\":\"y\"},{\"font\":{\"family\":\"Inconsolata, monospace\",\"size\":12},\"showarrow\":false,\"text\":\"Wild_yak\",\"textangle\":0,\"x\":0.5627547783503104,\"xanchor\":\"left\",\"xref\":\"x\",\"y\":27.3,\"yref\":\"y\"},{\"font\":{\"family\":\"Inconsolata, monospace\",\"size\":12},\"showarrow\":false,\"text\":\"American_bison\",\"textangle\":0,\"x\":0.563207448257863,\"xanchor\":\"left\",\"xref\":\"x\",\"y\":26.0,\"yref\":\"y\"},{\"font\":{\"family\":\"Inconsolata, monospace\",\"size\":12},\"showarrow\":false,\"text\":\"Goat\",\"textangle\":0,\"x\":0.5667926675989728,\"xanchor\":\"left\",\"xref\":\"x\",\"y\":24.7,\"yref\":\"y\"},{\"font\":{\"family\":\"Inconsolata, monospace\",\"size\":12},\"showarrow\":false,\"text\":\"Siberian_musk_deer\",\"textangle\":0,\"x\":0.5549111177867802,\"xanchor\":\"left\",\"xref\":\"x\",\"y\":23.400000000000002,\"yref\":\"y\"},{\"font\":{\"family\":\"Inconsolata, monospace\",\"size\":12},\"showarrow\":false,\"text\":\"Yarkand_deer\",\"textangle\":0,\"x\":0.5404098495889273,\"xanchor\":\"left\",\"xref\":\"x\",\"y\":22.1,\"yref\":\"y\"},{\"font\":{\"family\":\"Inconsolata, monospace\",\"size\":12},\"showarrow\":false,\"text\":\"Narwhal\",\"textangle\":0,\"x\":0.531350427943739,\"xanchor\":\"left\",\"xref\":\"x\",\"y\":20.8,\"yref\":\"y\"},{\"font\":{\"family\":\"Inconsolata, monospace\",\"size\":12},\"showarrow\":false,\"text\":\"Beluga_whale\",\"textangle\":0,\"x\":0.5322667665339668,\"xanchor\":\"left\",\"xref\":\"x\",\"y\":19.5,\"yref\":\"y\"},{\"font\":{\"family\":\"Inconsolata, monospace\",\"size\":12},\"showarrow\":false,\"text\":\"Vaquita\",\"textangle\":0,\"x\":0.5463009087493546,\"xanchor\":\"left\",\"xref\":\"x\",\"y\":18.2,\"yref\":\"y\"},{\"font\":{\"family\":\"Inconsolata, monospace\",\"size\":12},\"showarrow\":false,\"text\":\"Dolphin\",\"textangle\":0,\"x\":0.5432974561717151,\"xanchor\":\"left\",\"xref\":\"x\",\"y\":16.900000000000002,\"yref\":\"y\"},{\"font\":{\"family\":\"Inconsolata, monospace\",\"size\":12},\"showarrow\":false,\"text\":\"Sperm_whale\",\"textangle\":0,\"x\":0.5269346544382968,\"xanchor\":\"left\",\"xref\":\"x\",\"y\":15.600000000000001,\"yref\":\"y\"},{\"font\":{\"family\":\"Inconsolata, monospace\",\"size\":12},\"showarrow\":false,\"text\":\"Blue_whale\",\"textangle\":0,\"x\":0.5222878736056282,\"xanchor\":\"left\",\"xref\":\"x\",\"y\":14.3,\"yref\":\"y\"},{\"font\":{\"family\":\"Inconsolata, monospace\",\"size\":12},\"showarrow\":false,\"text\":\"Pig\",\"textangle\":0,\"x\":0.5342450425553084,\"xanchor\":\"left\",\"xref\":\"x\",\"y\":13.0,\"yref\":\"y\"},{\"font\":{\"family\":\"Inconsolata, monospace\",\"size\":12},\"showarrow\":false,\"text\":\"Chacoan_peccary\",\"textangle\":0,\"x\":0.5468996408653269,\"xanchor\":\"left\",\"xref\":\"x\",\"y\":11.700000000000001,\"yref\":\"y\"},{\"font\":{\"family\":\"Inconsolata, monospace\",\"size\":12},\"showarrow\":false,\"text\":\"Arabian_camel\",\"textangle\":0,\"x\":0.5291258279580925,\"xanchor\":\"left\",\"xref\":\"x\",\"y\":10.4,\"yref\":\"y\"},{\"font\":{\"family\":\"Inconsolata, monospace\",\"size\":12},\"showarrow\":false,\"text\":\"Megabat\",\"textangle\":0,\"x\":0.5516231017749491,\"xanchor\":\"left\",\"xref\":\"x\",\"y\":9.1,\"yref\":\"y\"},{\"font\":{\"family\":\"Inconsolata, monospace\",\"size\":12},\"showarrow\":false,\"text\":\"Greater_horseshoe_bat\",\"textangle\":0,\"x\":0.5763600372845753,\"xanchor\":\"left\",\"xref\":\"x\",\"y\":7.800000000000001,\"yref\":\"y\"},{\"font\":{\"family\":\"Inconsolata, monospace\",\"size\":12},\"showarrow\":false,\"text\":\"Hedgehog\",\"textangle\":0,\"x\":0.5334509295849482,\"xanchor\":\"left\",\"xref\":\"x\",\"y\":6.5,\"yref\":\"y\"},{\"font\":{\"family\":\"Inconsolata, monospace\",\"size\":12},\"showarrow\":false,\"text\":\"Golden_Hamster\",\"textangle\":0,\"x\":0.6701538655577247,\"xanchor\":\"left\",\"xref\":\"x\",\"y\":5.2,\"yref\":\"y\"},{\"font\":{\"family\":\"Inconsolata, monospace\",\"size\":12},\"showarrow\":false,\"text\":\"Prairie_vole\",\"textangle\":0,\"x\":0.6830801622174807,\"xanchor\":\"left\",\"xref\":\"x\",\"y\":3.9000000000000004,\"yref\":\"y\"},{\"font\":{\"family\":\"Inconsolata, monospace\",\"size\":12},\"showarrow\":false,\"text\":\"Northern_American_deer_mouse\",\"textangle\":0,\"x\":0.6369585049804486,\"xanchor\":\"left\",\"xref\":\"x\",\"y\":2.6,\"yref\":\"y\"},{\"font\":{\"family\":\"Inconsolata, monospace\",\"size\":12},\"showarrow\":false,\"text\":\"Ryukyu_mouse\",\"textangle\":0,\"x\":0.69627331144187,\"xanchor\":\"left\",\"xref\":\"x\",\"y\":1.3,\"yref\":\"y\"},{\"font\":{\"family\":\"Inconsolata, monospace\",\"size\":12},\"showarrow\":false,\"text\":\"Rat\",\"textangle\":0,\"x\":0.7173424162067424,\"xanchor\":\"left\",\"xref\":\"x\",\"y\":0.0,\"yref\":\"y\"},{\"font\":{\"family\":\"Inconsolata, monospace\",\"size\":12},\"showarrow\":false,\"text\":\"Lesser_Egyptian_jerboa\",\"textangle\":0,\"x\":0.6425143810552373,\"xanchor\":\"left\",\"xref\":\"x\",\"y\":-1.3,\"yref\":\"y\"},{\"font\":{\"family\":\"Inconsolata, monospace\",\"size\":12},\"showarrow\":false,\"text\":\"Kangaroo_rat\",\"textangle\":0,\"x\":0.7124593918242338,\"xanchor\":\"left\",\"xref\":\"x\",\"y\":-2.6,\"yref\":\"y\"},{\"font\":{\"family\":\"Inconsolata, monospace\",\"size\":12},\"showarrow\":false,\"text\":\"Long_tailed_chinchilla\",\"textangle\":0,\"x\":0.6637384392773897,\"xanchor\":\"left\",\"xref\":\"x\",\"y\":-3.9000000000000004,\"yref\":\"y\"},{\"font\":{\"family\":\"Inconsolata, monospace\",\"size\":12},\"showarrow\":false,\"text\":\"Degu\",\"textangle\":0,\"x\":0.6754146104759778,\"xanchor\":\"left\",\"xref\":\"x\",\"y\":-5.2,\"yref\":\"y\"},{\"font\":{\"family\":\"Inconsolata, monospace\",\"size\":12},\"showarrow\":false,\"text\":\"Guinea_Pig\",\"textangle\":0,\"x\":0.8181749456784281,\"xanchor\":\"left\",\"xref\":\"x\",\"y\":-6.5,\"yref\":\"y\"},{\"font\":{\"family\":\"Inconsolata, monospace\",\"size\":12},\"showarrow\":false,\"text\":\"Squirrel\",\"textangle\":0,\"x\":0.5312687835341877,\"xanchor\":\"left\",\"xref\":\"x\",\"y\":-7.800000000000001,\"yref\":\"y\"},{\"font\":{\"family\":\"Inconsolata, monospace\",\"size\":12},\"showarrow\":false,\"text\":\"Arctic_ground_squirrel\",\"textangle\":0,\"x\":0.5357532055698729,\"xanchor\":\"left\",\"xref\":\"x\",\"y\":-9.1,\"yref\":\"y\"},{\"font\":{\"family\":\"Inconsolata, monospace\",\"size\":12},\"showarrow\":false,\"text\":\"Alpine_marmot\",\"textangle\":0,\"x\":0.5198626532640317,\"xanchor\":\"left\",\"xref\":\"x\",\"y\":-10.4,\"yref\":\"y\"},{\"font\":{\"family\":\"Inconsolata, monospace\",\"size\":12},\"showarrow\":false,\"text\":\"Eurasian_red_squirrel\",\"textangle\":0,\"x\":0.5199018927967147,\"xanchor\":\"left\",\"xref\":\"x\",\"y\":-11.700000000000001,\"yref\":\"y\"},{\"font\":{\"family\":\"Inconsolata, monospace\",\"size\":12},\"showarrow\":false,\"text\":\"Rabbit\",\"textangle\":0,\"x\":0.7074282886405793,\"xanchor\":\"left\",\"xref\":\"x\",\"y\":-13.0,\"yref\":\"y\"},{\"font\":{\"family\":\"Inconsolata, monospace\",\"size\":12},\"showarrow\":false,\"text\":\"Pika\",\"textangle\":0,\"x\":0.7172043752690712,\"xanchor\":\"left\",\"xref\":\"x\",\"y\":-14.3,\"yref\":\"y\"},{\"font\":{\"family\":\"Inconsolata, monospace\",\"size\":12},\"showarrow\":false,\"text\":\"Coquerel's_sifaka\",\"textangle\":0,\"x\":0.7887283924617703,\"xanchor\":\"left\",\"xref\":\"x\",\"y\":-15.600000000000001,\"yref\":\"y\"},{\"font\":{\"family\":\"Inconsolata, monospace\",\"size\":12},\"showarrow\":false,\"text\":\"Greater_bamboo_lemur\",\"textangle\":0,\"x\":0.7905995471181912,\"xanchor\":\"left\",\"xref\":\"x\",\"y\":-16.900000000000002,\"yref\":\"y\"},{\"font\":{\"family\":\"Inconsolata, monospace\",\"size\":12},\"showarrow\":false,\"text\":\"Mouse_Lemur\",\"textangle\":0,\"x\":0.791591683651239,\"xanchor\":\"left\",\"xref\":\"x\",\"y\":-18.2,\"yref\":\"y\"},{\"font\":{\"family\":\"Inconsolata, monospace\",\"size\":12},\"showarrow\":false,\"text\":\"Human\",\"textangle\":0,\"x\":0.8095304232924938,\"xanchor\":\"left\",\"xref\":\"x\",\"y\":-19.5,\"yref\":\"y\"},{\"font\":{\"family\":\"Inconsolata, monospace\",\"size\":12},\"showarrow\":false,\"text\":\"Chimpanzee\",\"textangle\":0,\"x\":0.8127317674373633,\"xanchor\":\"left\",\"xref\":\"x\",\"y\":-20.8,\"yref\":\"y\"},{\"font\":{\"family\":\"Inconsolata, monospace\",\"size\":12},\"showarrow\":false,\"text\":\"Gorilla\",\"textangle\":0,\"x\":0.8116172423741782,\"xanchor\":\"left\",\"xref\":\"x\",\"y\":-22.1,\"yref\":\"y\"},{\"font\":{\"family\":\"Inconsolata, monospace\",\"size\":12},\"showarrow\":false,\"text\":\"Sumatran_orangutan\",\"textangle\":0,\"x\":0.812984464258282,\"xanchor\":\"left\",\"xref\":\"x\",\"y\":-23.400000000000002,\"yref\":\"y\"},{\"font\":{\"family\":\"Inconsolata, monospace\",\"size\":12},\"showarrow\":false,\"text\":\"Gibbon\",\"textangle\":0,\"x\":0.8009111573930797,\"xanchor\":\"left\",\"xref\":\"x\",\"y\":-24.7,\"yref\":\"y\"},{\"font\":{\"family\":\"Inconsolata, monospace\",\"size\":12},\"showarrow\":false,\"text\":\"Sooty_mangabey\",\"textangle\":0,\"x\":0.8191243612807844,\"xanchor\":\"left\",\"xref\":\"x\",\"y\":-26.0,\"yref\":\"y\"},{\"font\":{\"family\":\"Inconsolata, monospace\",\"size\":12},\"showarrow\":false,\"text\":\"Drill\",\"textangle\":0,\"x\":0.8264383864461794,\"xanchor\":\"left\",\"xref\":\"x\",\"y\":-27.3,\"yref\":\"y\"},{\"font\":{\"family\":\"Inconsolata, monospace\",\"size\":12},\"showarrow\":false,\"text\":\"Olive_baboon\",\"textangle\":0,\"x\":0.8170800448638622,\"xanchor\":\"left\",\"xref\":\"x\",\"y\":-28.6,\"yref\":\"y\"},{\"font\":{\"family\":\"Inconsolata, monospace\",\"size\":12},\"showarrow\":false,\"text\":\"Pig_tailed_macaque\",\"textangle\":0,\"x\":0.8194704052673055,\"xanchor\":\"left\",\"xref\":\"x\",\"y\":-29.900000000000002,\"yref\":\"y\"},{\"font\":{\"family\":\"Inconsolata, monospace\",\"size\":12},\"showarrow\":false,\"text\":\"Vervet_AGM\",\"textangle\":0,\"x\":0.8214792684047945,\"xanchor\":\"left\",\"xref\":\"x\",\"y\":-31.200000000000003,\"yref\":\"y\"},{\"font\":{\"family\":\"Inconsolata, monospace\",\"size\":12},\"showarrow\":false,\"text\":\"Black_snub_nosed_monkey\",\"textangle\":0,\"x\":0.8167795530221358,\"xanchor\":\"left\",\"xref\":\"x\",\"y\":-32.5,\"yref\":\"y\"},{\"font\":{\"family\":\"Inconsolata, monospace\",\"size\":12},\"showarrow\":false,\"text\":\"Panamanian_white_faced_capuchin\",\"textangle\":0,\"x\":0.86845337507488,\"xanchor\":\"left\",\"xref\":\"x\",\"y\":-33.800000000000004,\"yref\":\"y\"},{\"font\":{\"family\":\"Inconsolata, monospace\",\"size\":12},\"showarrow\":false,\"text\":\"Bolivian_squirrel_monkey\",\"textangle\":0,\"x\":0.8853153725396881,\"xanchor\":\"left\",\"xref\":\"x\",\"y\":-35.1,\"yref\":\"y\"},{\"font\":{\"family\":\"Inconsolata, monospace\",\"size\":12},\"showarrow\":false,\"text\":\"Ma's_night_monkey\",\"textangle\":0,\"x\":0.8719884340644082,\"xanchor\":\"left\",\"xref\":\"x\",\"y\":-36.4,\"yref\":\"y\"},{\"font\":{\"family\":\"Inconsolata, monospace\",\"size\":12},\"showarrow\":false,\"text\":\"White_tufted_ear_marmoset\",\"textangle\":0,\"x\":1.1567059773868291,\"xanchor\":\"left\",\"xref\":\"x\",\"y\":-37.7,\"yref\":\"y\"},{\"font\":{\"family\":\"Inconsolata, monospace\",\"size\":12},\"showarrow\":false,\"text\":\"Elephant\",\"textangle\":0,\"x\":0.5585960984174357,\"xanchor\":\"left\",\"xref\":\"x\",\"y\":-39.0,\"yref\":\"y\"},{\"ax\":0,\"ay\":0,\"showarrow\":false,\"text\":\"0.11\",\"x\":0.05642468182374776,\"xref\":\"x\",\"y\":-46.09090909090909,\"yref\":\"y\",\"yshift\":10}],\"autosize\":true,\"font\":{\"family\":\"Balto\",\"size\":14},\"height\":1000,\"hovermode\":\"closest\",\"margin\":{\"b\":50,\"l\":50,\"pad\":4,\"r\":50,\"t\":50},\"shapes\":[{\"line\":{\"color\":\"black\",\"width\":1.25},\"name\":\"scale_bar\",\"type\":\"line\",\"x0\":0,\"x1\":0.11284936364749552,\"y0\":-46.09090909090909,\"y1\":-46.09090909090909}],\"showlegend\":false,\"width\":1000,\"xaxis\":{\"visible\":false},\"yaxis\":{\"visible\":false},\"template\":{\"data\":{\"histogram2dcontour\":[{\"type\":\"histogram2dcontour\",\"colorbar\":{\"outlinewidth\":0,\"ticks\":\"\"},\"colorscale\":[[0.0,\"#0d0887\"],[0.1111111111111111,\"#46039f\"],[0.2222222222222222,\"#7201a8\"],[0.3333333333333333,\"#9c179e\"],[0.4444444444444444,\"#bd3786\"],[0.5555555555555556,\"#d8576b\"],[0.6666666666666666,\"#ed7953\"],[0.7777777777777778,\"#fb9f3a\"],[0.8888888888888888,\"#fdca26\"],[1.0,\"#f0f921\"]]}],\"choropleth\":[{\"type\":\"choropleth\",\"colorbar\":{\"outlinewidth\":0,\"ticks\":\"\"}}],\"histogram2d\":[{\"type\":\"histogram2d\",\"colorbar\":{\"outlinewidth\":0,\"ticks\":\"\"},\"colorscale\":[[0.0,\"#0d0887\"],[0.1111111111111111,\"#46039f\"],[0.2222222222222222,\"#7201a8\"],[0.3333333333333333,\"#9c179e\"],[0.4444444444444444,\"#bd3786\"],[0.5555555555555556,\"#d8576b\"],[0.6666666666666666,\"#ed7953\"],[0.7777777777777778,\"#fb9f3a\"],[0.8888888888888888,\"#fdca26\"],[1.0,\"#f0f921\"]]}],\"heatmap\":[{\"type\":\"heatmap\",\"colorbar\":{\"outlinewidth\":0,\"ticks\":\"\"},\"colorscale\":[[0.0,\"#0d0887\"],[0.1111111111111111,\"#46039f\"],[0.2222222222222222,\"#7201a8\"],[0.3333333333333333,\"#9c179e\"],[0.4444444444444444,\"#bd3786\"],[0.5555555555555556,\"#d8576b\"],[0.6666666666666666,\"#ed7953\"],[0.7777777777777778,\"#fb9f3a\"],[0.8888888888888888,\"#fdca26\"],[1.0,\"#f0f921\"]]}],\"heatmapgl\":[{\"type\":\"heatmapgl\",\"colorbar\":{\"outlinewidth\":0,\"ticks\":\"\"},\"colorscale\":[[0.0,\"#0d0887\"],[0.1111111111111111,\"#46039f\"],[0.2222222222222222,\"#7201a8\"],[0.3333333333333333,\"#9c179e\"],[0.4444444444444444,\"#bd3786\"],[0.5555555555555556,\"#d8576b\"],[0.6666666666666666,\"#ed7953\"],[0.7777777777777778,\"#fb9f3a\"],[0.8888888888888888,\"#fdca26\"],[1.0,\"#f0f921\"]]}],\"contourcarpet\":[{\"type\":\"contourcarpet\",\"colorbar\":{\"outlinewidth\":0,\"ticks\":\"\"}}],\"contour\":[{\"type\":\"contour\",\"colorbar\":{\"outlinewidth\":0,\"ticks\":\"\"},\"colorscale\":[[0.0,\"#0d0887\"],[0.1111111111111111,\"#46039f\"],[0.2222222222222222,\"#7201a8\"],[0.3333333333333333,\"#9c179e\"],[0.4444444444444444,\"#bd3786\"],[0.5555555555555556,\"#d8576b\"],[0.6666666666666666,\"#ed7953\"],[0.7777777777777778,\"#fb9f3a\"],[0.8888888888888888,\"#fdca26\"],[1.0,\"#f0f921\"]]}],\"surface\":[{\"type\":\"surface\",\"colorbar\":{\"outlinewidth\":0,\"ticks\":\"\"},\"colorscale\":[[0.0,\"#0d0887\"],[0.1111111111111111,\"#46039f\"],[0.2222222222222222,\"#7201a8\"],[0.3333333333333333,\"#9c179e\"],[0.4444444444444444,\"#bd3786\"],[0.5555555555555556,\"#d8576b\"],[0.6666666666666666,\"#ed7953\"],[0.7777777777777778,\"#fb9f3a\"],[0.8888888888888888,\"#fdca26\"],[1.0,\"#f0f921\"]]}],\"mesh3d\":[{\"type\":\"mesh3d\",\"colorbar\":{\"outlinewidth\":0,\"ticks\":\"\"}}],\"scatter\":[{\"fillpattern\":{\"fillmode\":\"overlay\",\"size\":10,\"solidity\":0.2},\"type\":\"scatter\"}],\"parcoords\":[{\"type\":\"parcoords\",\"line\":{\"colorbar\":{\"outlinewidth\":0,\"ticks\":\"\"}}}],\"scatterpolargl\":[{\"type\":\"scatterpolargl\",\"marker\":{\"colorbar\":{\"outlinewidth\":0,\"ticks\":\"\"}}}],\"bar\":[{\"error_x\":{\"color\":\"#2a3f5f\"},\"error_y\":{\"color\":\"#2a3f5f\"},\"marker\":{\"line\":{\"color\":\"#E5ECF6\",\"width\":0.5},\"pattern\":{\"fillmode\":\"overlay\",\"size\":10,\"solidity\":0.2}},\"type\":\"bar\"}],\"scattergeo\":[{\"type\":\"scattergeo\",\"marker\":{\"colorbar\":{\"outlinewidth\":0,\"ticks\":\"\"}}}],\"scatterpolar\":[{\"type\":\"scatterpolar\",\"marker\":{\"colorbar\":{\"outlinewidth\":0,\"ticks\":\"\"}}}],\"histogram\":[{\"marker\":{\"pattern\":{\"fillmode\":\"overlay\",\"size\":10,\"solidity\":0.2}},\"type\":\"histogram\"}],\"scattergl\":[{\"type\":\"scattergl\",\"marker\":{\"colorbar\":{\"outlinewidth\":0,\"ticks\":\"\"}}}],\"scatter3d\":[{\"type\":\"scatter3d\",\"line\":{\"colorbar\":{\"outlinewidth\":0,\"ticks\":\"\"}},\"marker\":{\"colorbar\":{\"outlinewidth\":0,\"ticks\":\"\"}}}],\"scattermapbox\":[{\"type\":\"scattermapbox\",\"marker\":{\"colorbar\":{\"outlinewidth\":0,\"ticks\":\"\"}}}],\"scatterternary\":[{\"type\":\"scatterternary\",\"marker\":{\"colorbar\":{\"outlinewidth\":0,\"ticks\":\"\"}}}],\"scattercarpet\":[{\"type\":\"scattercarpet\",\"marker\":{\"colorbar\":{\"outlinewidth\":0,\"ticks\":\"\"}}}],\"carpet\":[{\"aaxis\":{\"endlinecolor\":\"#2a3f5f\",\"gridcolor\":\"white\",\"linecolor\":\"white\",\"minorgridcolor\":\"white\",\"startlinecolor\":\"#2a3f5f\"},\"baxis\":{\"endlinecolor\":\"#2a3f5f\",\"gridcolor\":\"white\",\"linecolor\":\"white\",\"minorgridcolor\":\"white\",\"startlinecolor\":\"#2a3f5f\"},\"type\":\"carpet\"}],\"table\":[{\"cells\":{\"fill\":{\"color\":\"#EBF0F8\"},\"line\":{\"color\":\"white\"}},\"header\":{\"fill\":{\"color\":\"#C8D4E3\"},\"line\":{\"color\":\"white\"}},\"type\":\"table\"}],\"barpolar\":[{\"marker\":{\"line\":{\"color\":\"#E5ECF6\",\"width\":0.5},\"pattern\":{\"fillmode\":\"overlay\",\"size\":10,\"solidity\":0.2}},\"type\":\"barpolar\"}],\"pie\":[{\"automargin\":true,\"type\":\"pie\"}]},\"layout\":{\"autotypenumbers\":\"strict\",\"colorway\":[\"#636efa\",\"#EF553B\",\"#00cc96\",\"#ab63fa\",\"#FFA15A\",\"#19d3f3\",\"#FF6692\",\"#B6E880\",\"#FF97FF\",\"#FECB52\"],\"font\":{\"color\":\"#2a3f5f\"},\"hovermode\":\"closest\",\"hoverlabel\":{\"align\":\"left\"},\"paper_bgcolor\":\"white\",\"plot_bgcolor\":\"#E5ECF6\",\"polar\":{\"bgcolor\":\"#E5ECF6\",\"angularaxis\":{\"gridcolor\":\"white\",\"linecolor\":\"white\",\"ticks\":\"\"},\"radialaxis\":{\"gridcolor\":\"white\",\"linecolor\":\"white\",\"ticks\":\"\"}},\"ternary\":{\"bgcolor\":\"#E5ECF6\",\"aaxis\":{\"gridcolor\":\"white\",\"linecolor\":\"white\",\"ticks\":\"\"},\"baxis\":{\"gridcolor\":\"white\",\"linecolor\":\"white\",\"ticks\":\"\"},\"caxis\":{\"gridcolor\":\"white\",\"linecolor\":\"white\",\"ticks\":\"\"}},\"coloraxis\":{\"colorbar\":{\"outlinewidth\":0,\"ticks\":\"\"}},\"colorscale\":{\"sequential\":[[0.0,\"#0d0887\"],[0.1111111111111111,\"#46039f\"],[0.2222222222222222,\"#7201a8\"],[0.3333333333333333,\"#9c179e\"],[0.4444444444444444,\"#bd3786\"],[0.5555555555555556,\"#d8576b\"],[0.6666666666666666,\"#ed7953\"],[0.7777777777777778,\"#fb9f3a\"],[0.8888888888888888,\"#fdca26\"],[1.0,\"#f0f921\"]],\"sequentialminus\":[[0.0,\"#0d0887\"],[0.1111111111111111,\"#46039f\"],[0.2222222222222222,\"#7201a8\"],[0.3333333333333333,\"#9c179e\"],[0.4444444444444444,\"#bd3786\"],[0.5555555555555556,\"#d8576b\"],[0.6666666666666666,\"#ed7953\"],[0.7777777777777778,\"#fb9f3a\"],[0.8888888888888888,\"#fdca26\"],[1.0,\"#f0f921\"]],\"diverging\":[[0,\"#8e0152\"],[0.1,\"#c51b7d\"],[0.2,\"#de77ae\"],[0.3,\"#f1b6da\"],[0.4,\"#fde0ef\"],[0.5,\"#f7f7f7\"],[0.6,\"#e6f5d0\"],[0.7,\"#b8e186\"],[0.8,\"#7fbc41\"],[0.9,\"#4d9221\"],[1,\"#276419\"]]},\"xaxis\":{\"gridcolor\":\"white\",\"linecolor\":\"white\",\"ticks\":\"\",\"title\":{\"standoff\":15},\"zerolinecolor\":\"white\",\"automargin\":true,\"zerolinewidth\":2},\"yaxis\":{\"gridcolor\":\"white\",\"linecolor\":\"white\",\"ticks\":\"\",\"title\":{\"standoff\":15},\"zerolinecolor\":\"white\",\"automargin\":true,\"zerolinewidth\":2},\"scene\":{\"xaxis\":{\"backgroundcolor\":\"#E5ECF6\",\"gridcolor\":\"white\",\"linecolor\":\"white\",\"showbackground\":true,\"ticks\":\"\",\"zerolinecolor\":\"white\",\"gridwidth\":2},\"yaxis\":{\"backgroundcolor\":\"#E5ECF6\",\"gridcolor\":\"white\",\"linecolor\":\"white\",\"showbackground\":true,\"ticks\":\"\",\"zerolinecolor\":\"white\",\"gridwidth\":2},\"zaxis\":{\"backgroundcolor\":\"#E5ECF6\",\"gridcolor\":\"white\",\"linecolor\":\"white\",\"showbackground\":true,\"ticks\":\"\",\"zerolinecolor\":\"white\",\"gridwidth\":2}},\"shapedefaults\":{\"line\":{\"color\":\"#2a3f5f\"}},\"annotationdefaults\":{\"arrowcolor\":\"#2a3f5f\",\"arrowhead\":0,\"arrowwidth\":1},\"geo\":{\"bgcolor\":\"white\",\"landcolor\":\"#E5ECF6\",\"subunitcolor\":\"white\",\"showland\":true,\"showlakes\":true,\"lakecolor\":\"white\"},\"title\":{\"x\":0.05},\"mapbox\":{\"style\":\"light\"}}}},                        {\"responsive\": true}                    ).then(function(){\n",
       "                            \n",
       "var gd = document.getElementById('f01f8355-725e-4b29-b512-4ca7b14e1246');\n",
       "var x = new MutationObserver(function (mutations, observer) {{\n",
       "        var display = window.getComputedStyle(gd).display;\n",
       "        if (!display || display === 'none') {{\n",
       "            console.log([gd, 'removed!']);\n",
       "            Plotly.purge(gd);\n",
       "            observer.disconnect();\n",
       "        }}\n",
       "}});\n",
       "\n",
       "// Listen for the removal of the full notebook cells\n",
       "var notebookContainer = gd.closest('#notebook-container');\n",
       "if (notebookContainer) {{\n",
       "    x.observe(notebookContainer, {childList: true});\n",
       "}}\n",
       "\n",
       "// Listen for the clearing of the current output cell\n",
       "var outputEl = gd.closest('.output');\n",
       "if (outputEl) {{\n",
       "    x.observe(outputEl, {childList: true});\n",
       "}}\n",
       "\n",
       "                        })                };                });            </script>        </div>"
      ]
     },
     "metadata": {},
     "output_type": "display_data"
    },
    {
     "data": {
      "text/plain": [
       "<cogent3.draw.dendrogram.Dendrogram at 0x16938fe60>"
      ]
     },
     "execution_count": 11,
     "metadata": {},
     "output_type": "execute_result"
    }
   ],
   "source": [
    "a1 = res1.lf\n",
    "a1.get_ens_tree().get_figure(show_support=True, threshold=0.8, height = 1000, width = 1000)"
   ]
  },
  {
   "cell_type": "code",
   "execution_count": 12,
   "metadata": {},
   "outputs": [
    {
     "data": {
      "text/html": [
       "        <script type=\"text/javascript\">\n",
       "        window.PlotlyConfig = {MathJaxConfig: 'local'};\n",
       "        if (window.MathJax && window.MathJax.Hub && window.MathJax.Hub.Config) {window.MathJax.Hub.Config({SVG: {font: \"STIX-Web\"}});}\n",
       "        if (typeof require !== 'undefined') {\n",
       "        require.undef(\"plotly\");\n",
       "        requirejs.config({\n",
       "            paths: {\n",
       "                'plotly': ['https://cdn.plot.ly/plotly-2.27.0.min']\n",
       "            }\n",
       "        });\n",
       "        require(['plotly'], function(Plotly) {\n",
       "            window._Plotly = Plotly;\n",
       "        });\n",
       "        }\n",
       "        </script>\n",
       "        "
      ]
     },
     "metadata": {},
     "output_type": "display_data"
    },
    {
     "data": {
      "application/vnd.plotly.v1+json": {
       "config": {
        "plotlyServerURL": "https://plot.ly"
       },
       "data": [
        {
         "line": {
          "color": "black",
          "shape": "spline",
          "smoothing": 1.3,
          "width": 1.25
         },
         "mode": "lines",
         "showlegend": false,
         "type": "scatter",
         "x": [
          null,
          null,
          0,
          0,
          null,
          0,
          0.10965453576765488,
          null,
          0,
          0,
          null,
          0,
          0.15056473185271696,
          null,
          0.15056473185271696,
          0.15056473185271696,
          null,
          0.15056473185271696,
          0.19158557364369816,
          null,
          0.19158557364369816,
          0.19158557364369816,
          null,
          0.19158557364369816,
          0.19809795806711084,
          null,
          0.19809795806711084,
          0.19809795806711084,
          null,
          0.19809795806711084,
          0.21406130508000185,
          null,
          0.21406130508000185,
          0.21406130508000185,
          null,
          0.21406130508000185,
          0.2361559543033197,
          null,
          0.2361559543033197,
          0.2361559543033197,
          null,
          0.2361559543033197,
          0.23793154808707015,
          null,
          0.23793154808707015,
          0.23793154808707015,
          null,
          0.23793154808707015,
          0.36464705837890266,
          null,
          0.36464705837890266,
          0.36464705837890266,
          null,
          0.36464705837890266,
          0.3722847284012639,
          null,
          0.3722847284012639,
          0.3722847284012639,
          null,
          0.3722847284012639,
          0.40370665411773426,
          null,
          0.40370665411773426,
          0.40370665411773426,
          null,
          0.40370665411773426,
          0.46006874242840085,
          null,
          0.46006874242840085,
          0.46006874242840085,
          null,
          0.46006874242840085,
          0.48285418900231875,
          null,
          0.46006874242840085,
          0.46006874242840085,
          null,
          0.46006874242840085,
          0.4948940109355859,
          null,
          0.40370665411773426,
          0.40370665411773426,
          null,
          0.40370665411773426,
          0.5529336393486095,
          null,
          0.3722847284012639,
          0.3722847284012639,
          null,
          0.3722847284012639,
          0.6146451990146051,
          null,
          0.6146451990146051,
          0.6146451990146051,
          null,
          0.6146451990146051,
          0.6458121193102004,
          null,
          0.6146451990146051,
          0.6146451990146051,
          null,
          0.6146451990146051,
          0.6488288228995088,
          null,
          0.36464705837890266,
          0.36464705837890266,
          null,
          0.36464705837890266,
          0.4421741984446388,
          null,
          0.4421741984446388,
          0.4421741984446388,
          null,
          0.4421741984446388,
          0.45923860466213057,
          null,
          0.4421741984446388,
          0.4421741984446388,
          null,
          0.4421741984446388,
          0.4833907567713829,
          null,
          0.23793154808707015,
          0.23793154808707015,
          null,
          0.23793154808707015,
          0.452779216987931,
          null,
          0.2361559543033197,
          0.2361559543033197,
          null,
          0.2361559543033197,
          0.28699956126621406,
          null,
          0.28699956126621406,
          0.28699956126621406,
          null,
          0.28699956126621406,
          0.304497691094078,
          null,
          0.304497691094078,
          0.304497691094078,
          null,
          0.304497691094078,
          0.31738762692871814,
          null,
          0.31738762692871814,
          0.31738762692871814,
          null,
          0.31738762692871814,
          0.3969658059390979,
          null,
          0.3969658059390979,
          0.3969658059390979,
          null,
          0.3969658059390979,
          0.40290523216105223,
          null,
          0.40290523216105223,
          0.40290523216105223,
          null,
          0.40290523216105223,
          0.4216618870988009,
          null,
          0.4216618870988009,
          0.4216618870988009,
          null,
          0.4216618870988009,
          0.4632562583327684,
          null,
          0.4632562583327684,
          0.4632562583327684,
          null,
          0.4632562583327684,
          0.4659960613117373,
          null,
          0.4632562583327684,
          0.4632562583327684,
          null,
          0.4632562583327684,
          0.46690082559043106,
          null,
          0.4216618870988009,
          0.4216618870988009,
          null,
          0.4216618870988009,
          0.46834497264821806,
          null,
          0.40290523216105223,
          0.40290523216105223,
          null,
          0.40290523216105223,
          0.45410863444049115,
          null,
          0.3969658059390979,
          0.3969658059390979,
          null,
          0.3969658059390979,
          0.4473660775039391,
          null,
          0.31738762692871814,
          0.31738762692871814,
          null,
          0.31738762692871814,
          0.41096994267887166,
          null,
          0.41096994267887166,
          0.41096994267887166,
          null,
          0.41096994267887166,
          0.4127520587251042,
          null,
          0.4127520587251042,
          0.4127520587251042,
          null,
          0.4127520587251042,
          0.4225705949660543,
          null,
          0.4225705949660543,
          0.4225705949660543,
          null,
          0.4225705949660543,
          0.42808904065600334,
          null,
          0.42808904065600334,
          0.42808904065600334,
          null,
          0.42808904065600334,
          0.43102721662144305,
          null,
          0.43102721662144305,
          0.43102721662144305,
          null,
          0.43102721662144305,
          0.4355838076877109,
          null,
          0.43102721662144305,
          0.43102721662144305,
          null,
          0.43102721662144305,
          0.4365188586608361,
          null,
          0.42808904065600334,
          0.42808904065600334,
          null,
          0.42808904065600334,
          0.4492774664688528,
          null,
          0.4225705949660543,
          0.4225705949660543,
          null,
          0.4225705949660543,
          0.44749344169490046,
          null,
          0.4127520587251042,
          0.4127520587251042,
          null,
          0.4127520587251042,
          0.4318694680889018,
          null,
          0.41096994267887166,
          0.41096994267887166,
          null,
          0.41096994267887166,
          0.4266190902191562,
          null,
          0.304497691094078,
          0.304497691094078,
          null,
          0.304497691094078,
          0.38235974764121655,
          null,
          0.38235974764121655,
          0.38235974764121655,
          null,
          0.38235974764121655,
          0.43671547440696434,
          null,
          0.38235974764121655,
          0.38235974764121655,
          null,
          0.38235974764121655,
          0.45627313845138706,
          null,
          0.28699956126621406,
          0.28699956126621406,
          null,
          0.28699956126621406,
          0.4371015940904023,
          null,
          0.21406130508000185,
          0.21406130508000185,
          null,
          0.21406130508000185,
          0.33999526508993444,
          null,
          0.33999526508993444,
          0.33999526508993444,
          null,
          0.33999526508993444,
          0.48180101969391825,
          null,
          0.33999526508993444,
          0.33999526508993444,
          null,
          0.33999526508993444,
          0.49652774342521666,
          null,
          0.19809795806711084,
          0.19809795806711084,
          null,
          0.19809795806711084,
          0.4869678095171477,
          null,
          0.19158557364369816,
          0.19158557364369816,
          null,
          0.19158557364369816,
          0.2248279140464865,
          null,
          0.2248279140464865,
          0.2248279140464865,
          null,
          0.2248279140464865,
          0.2610807216708177,
          null,
          0.2610807216708177,
          0.2610807216708177,
          null,
          0.2610807216708177,
          0.27042893414975466,
          null,
          0.27042893414975466,
          0.27042893414975466,
          null,
          0.27042893414975466,
          0.2766914789983884,
          null,
          0.2766914789983884,
          0.2766914789983884,
          null,
          0.2766914789983884,
          0.28560367672819803,
          null,
          0.28560367672819803,
          0.28560367672819803,
          null,
          0.28560367672819803,
          0.3354178904124179,
          null,
          0.3354178904124179,
          0.3354178904124179,
          null,
          0.3354178904124179,
          0.4776338483933517,
          null,
          0.4776338483933517,
          0.4776338483933517,
          null,
          0.4776338483933517,
          0.5034518366560025,
          null,
          0.5034518366560025,
          0.5034518366560025,
          null,
          0.5034518366560025,
          0.5161583866776471,
          null,
          0.5161583866776471,
          0.5161583866776471,
          null,
          0.5161583866776471,
          0.6294033601992913,
          null,
          0.5161583866776471,
          0.5161583866776471,
          null,
          0.5161583866776471,
          0.6500557862716309,
          null,
          0.5034518366560025,
          0.5034518366560025,
          null,
          0.5034518366560025,
          0.5911099644502241,
          null,
          0.4776338483933517,
          0.4776338483933517,
          null,
          0.4776338483933517,
          0.5513509574782474,
          null,
          0.5513509574782474,
          0.5513509574782474,
          null,
          0.5513509574782474,
          0.6500787300019593,
          null,
          0.5513509574782474,
          0.5513509574782474,
          null,
          0.5513509574782474,
          0.6828737300855477,
          null,
          0.3354178904124179,
          0.3354178904124179,
          null,
          0.3354178904124179,
          0.577269041521034,
          null,
          0.28560367672819803,
          0.28560367672819803,
          null,
          0.28560367672819803,
          0.62249548369179,
          null,
          0.2766914789983884,
          0.2766914789983884,
          null,
          0.2766914789983884,
          0.43239450455336415,
          null,
          0.43239450455336415,
          0.43239450455336415,
          null,
          0.43239450455336415,
          0.45272525069192804,
          null,
          0.45272525069192804,
          0.45272525069192804,
          null,
          0.45272525069192804,
          0.592068898837347,
          null,
          0.45272525069192804,
          0.45272525069192804,
          null,
          0.45272525069192804,
          0.5932797728131397,
          null,
          0.43239450455336415,
          0.43239450455336415,
          null,
          0.43239450455336415,
          0.6701207635150377,
          null,
          0.27042893414975466,
          0.27042893414975466,
          null,
          0.27042893414975466,
          0.3728280114307067,
          null,
          0.3728280114307067,
          0.3728280114307067,
          null,
          0.3728280114307067,
          0.43959338078690047,
          null,
          0.43959338078690047,
          0.43959338078690047,
          null,
          0.43959338078690047,
          0.4564327903409569,
          null,
          0.4564327903409569,
          0.4564327903409569,
          null,
          0.4564327903409569,
          0.4730426778200292,
          null,
          0.4564327903409569,
          0.4564327903409569,
          null,
          0.4564327903409569,
          0.47730679891987793,
          null,
          0.43959338078690047,
          0.43959338078690047,
          null,
          0.43959338078690047,
          0.4605791310248339,
          null,
          0.3728280114307067,
          0.3728280114307067,
          null,
          0.3728280114307067,
          0.4652151964970418,
          null,
          0.2610807216708177,
          0.2610807216708177,
          null,
          0.2610807216708177,
          0.35666292539866723,
          null,
          0.35666292539866723,
          0.35666292539866723,
          null,
          0.35666292539866723,
          0.6067740358804642,
          null,
          0.35666292539866723,
          0.35666292539866723,
          null,
          0.35666292539866723,
          0.6531173461049147,
          null,
          0.2248279140464865,
          0.2248279140464865,
          null,
          0.2248279140464865,
          0.45129447415392865,
          null,
          0.45129447415392865,
          0.45129447415392865,
          null,
          0.45129447415392865,
          0.5241676676805034,
          null,
          0.5241676676805034,
          0.5241676676805034,
          null,
          0.5241676676805034,
          0.5533988182749252,
          null,
          0.5533988182749252,
          0.5533988182749252,
          null,
          0.5533988182749252,
          0.5865483958152898,
          null,
          0.5533988182749252,
          0.5533988182749252,
          null,
          0.5533988182749252,
          0.5910094413352508,
          null,
          0.5241676676805034,
          0.5241676676805034,
          null,
          0.5241676676805034,
          0.5837452958133902,
          null,
          0.45129447415392865,
          0.45129447415392865,
          null,
          0.45129447415392865,
          0.5704104394519041,
          null,
          0.5704104394519041,
          0.5704104394519041,
          null,
          0.5704104394519041,
          0.5991660094737118,
          null,
          0.5991660094737118,
          0.5991660094737118,
          null,
          0.5991660094737118,
          0.6224946572988276,
          null,
          0.6224946572988276,
          0.6224946572988276,
          null,
          0.6224946572988276,
          0.626844666666846,
          null,
          0.626844666666846,
          0.626844666666846,
          null,
          0.626844666666846,
          0.6377018298691772,
          null,
          0.6377018298691772,
          0.6377018298691772,
          null,
          0.6377018298691772,
          0.6395246294596761,
          null,
          0.6395246294596761,
          0.6395246294596761,
          null,
          0.6395246294596761,
          0.6458565711767141,
          null,
          0.6395246294596761,
          0.6395246294596761,
          null,
          0.6395246294596761,
          0.6505294904181935,
          null,
          0.6377018298691772,
          0.6377018298691772,
          null,
          0.6377018298691772,
          0.6486359757162001,
          null,
          0.626844666666846,
          0.626844666666846,
          null,
          0.626844666666846,
          0.653693903854194,
          null,
          0.6224946572988276,
          0.6224946572988276,
          null,
          0.6224946572988276,
          0.6394099564958368,
          null,
          0.5991660094737118,
          0.5991660094737118,
          null,
          0.5991660094737118,
          0.6288104509667072,
          null,
          0.6288104509667072,
          0.6288104509667072,
          null,
          0.6288104509667072,
          0.642555135036015,
          null,
          0.642555135036015,
          0.642555135036015,
          null,
          0.642555135036015,
          0.6481110308398847,
          null,
          0.6481110308398847,
          0.6481110308398847,
          null,
          0.6481110308398847,
          0.6499263637987933,
          null,
          0.6499263637987933,
          0.6499263637987933,
          null,
          0.6499263637987933,
          0.6544551366636284,
          null,
          0.6544551366636284,
          0.6544551366636284,
          null,
          0.6544551366636284,
          0.6599009956988167,
          null,
          0.6544551366636284,
          0.6544551366636284,
          null,
          0.6544551366636284,
          0.6653679287551075,
          null,
          0.6499263637987933,
          0.6499263637987933,
          null,
          0.6499263637987933,
          0.6562746724880415,
          null,
          0.6481110308398847,
          0.6481110308398847,
          null,
          0.6481110308398847,
          0.6590416987673398,
          null,
          0.642555135036015,
          0.642555135036015,
          null,
          0.642555135036015,
          0.660019107984118,
          null,
          0.6288104509667072,
          0.6288104509667072,
          null,
          0.6288104509667072,
          0.6563437832388853,
          null,
          0.5704104394519041,
          0.5704104394519041,
          null,
          0.5704104394519041,
          0.6463757749519665,
          null,
          0.6463757749519665,
          0.6463757749519665,
          null,
          0.6463757749519665,
          0.6628901076264517,
          null,
          0.6628901076264517,
          0.6628901076264517,
          null,
          0.6628901076264517,
          0.6680790688614695,
          null,
          0.6680790688614695,
          0.6680790688614695,
          null,
          0.6680790688614695,
          0.6977628433996971,
          null,
          0.6680790688614695,
          0.6680790688614695,
          null,
          0.6680790688614695,
          0.7102104367885531,
          null,
          0.6628901076264517,
          0.6628901076264517,
          null,
          0.6628901076264517,
          0.6977263720738317,
          null,
          0.6463757749519665,
          0.6463757749519665,
          null,
          0.6463757749519665,
          0.9228226864407314,
          null,
          0.15056473185271696,
          0.15056473185271696,
          null,
          0.15056473185271696,
          0.46438185063728854,
          null
         ],
         "y": [
          null,
          null,
          8.923297119140624,
          39,
          null,
          39,
          39,
          null,
          8.923297119140624,
          -21.15340576171875,
          null,
          -21.15340576171875,
          -21.15340576171875,
          null,
          -21.15340576171875,
          -3.3068115234374993,
          null,
          -3.3068115234374993,
          -3.3068115234374993,
          null,
          -3.3068115234374993,
          10.829736328125001,
          null,
          10.829736328125001,
          10.829736328125001,
          null,
          10.829736328125001,
          15.159472656250001,
          null,
          15.159472656250001,
          15.159472656250001,
          null,
          15.159472656250001,
          21.868945312500003,
          null,
          21.868945312500003,
          21.868945312500003,
          null,
          21.868945312500003,
          30.590625000000003,
          null,
          30.590625000000003,
          30.590625000000003,
          null,
          30.590625000000003,
          32.581250000000004,
          null,
          32.581250000000004,
          32.581250000000004,
          null,
          32.581250000000004,
          34.612500000000004,
          null,
          34.612500000000004,
          34.612500000000004,
          null,
          34.612500000000004,
          36.075,
          null,
          36.075,
          36.075,
          null,
          36.075,
          37.05,
          null,
          37.05,
          37.05,
          null,
          37.05,
          37.7,
          null,
          37.7,
          37.7,
          null,
          37.05,
          36.4,
          null,
          36.4,
          36.4,
          null,
          36.075,
          35.1,
          null,
          35.1,
          35.1,
          null,
          34.612500000000004,
          33.150000000000006,
          null,
          33.150000000000006,
          33.150000000000006,
          null,
          33.150000000000006,
          33.800000000000004,
          null,
          33.800000000000004,
          33.800000000000004,
          null,
          33.150000000000006,
          32.5,
          null,
          32.5,
          32.5,
          null,
          32.581250000000004,
          30.550000000000004,
          null,
          30.550000000000004,
          30.550000000000004,
          null,
          30.550000000000004,
          31.200000000000003,
          null,
          31.200000000000003,
          31.200000000000003,
          null,
          30.550000000000004,
          29.900000000000002,
          null,
          29.900000000000002,
          29.900000000000002,
          null,
          30.590625000000003,
          28.6,
          null,
          28.6,
          28.6,
          null,
          21.868945312500003,
          13.147265625000001,
          null,
          13.147265625000001,
          13.147265625000001,
          null,
          13.147265625000001,
          15.894531250000002,
          null,
          15.894531250000002,
          15.894531250000002,
          null,
          15.894531250000002,
          19.439062500000002,
          null,
          19.439062500000002,
          19.439062500000002,
          null,
          19.439062500000002,
          23.31875,
          null,
          23.31875,
          23.31875,
          null,
          23.31875,
          24.5375,
          null,
          24.5375,
          24.5375,
          null,
          24.5375,
          25.674999999999997,
          null,
          25.674999999999997,
          25.674999999999997,
          null,
          25.674999999999997,
          26.65,
          null,
          26.65,
          26.65,
          null,
          26.65,
          27.3,
          null,
          27.3,
          27.3,
          null,
          26.65,
          26,
          null,
          26,
          26,
          null,
          25.674999999999997,
          24.7,
          null,
          24.7,
          24.7,
          null,
          24.5375,
          23.400000000000002,
          null,
          23.400000000000002,
          23.400000000000002,
          null,
          23.31875,
          22.1,
          null,
          22.1,
          22.1,
          null,
          19.439062500000002,
          15.559375000000001,
          null,
          15.559375000000001,
          15.559375000000001,
          null,
          15.559375000000001,
          16.81875,
          null,
          16.81875,
          16.81875,
          null,
          16.81875,
          18.0375,
          null,
          18.0375,
          18.0375,
          null,
          18.0375,
          19.174999999999997,
          null,
          19.174999999999997,
          19.174999999999997,
          null,
          19.174999999999997,
          20.15,
          null,
          20.15,
          20.15,
          null,
          20.15,
          20.8,
          null,
          20.8,
          20.8,
          null,
          20.15,
          19.5,
          null,
          19.5,
          19.5,
          null,
          19.174999999999997,
          18.2,
          null,
          18.2,
          18.2,
          null,
          18.0375,
          16.900000000000002,
          null,
          16.900000000000002,
          16.900000000000002,
          null,
          16.81875,
          15.600000000000001,
          null,
          15.600000000000001,
          15.600000000000001,
          null,
          15.559375000000001,
          14.3,
          null,
          14.3,
          14.3,
          null,
          15.894531250000002,
          12.350000000000001,
          null,
          12.350000000000001,
          12.350000000000001,
          null,
          12.350000000000001,
          13,
          null,
          13,
          13,
          null,
          12.350000000000001,
          11.700000000000001,
          null,
          11.700000000000001,
          11.700000000000001,
          null,
          13.147265625000001,
          10.4,
          null,
          10.4,
          10.4,
          null,
          15.159472656250001,
          8.45,
          null,
          8.45,
          8.45,
          null,
          8.45,
          9.1,
          null,
          9.1,
          9.1,
          null,
          8.45,
          7.800000000000001,
          null,
          7.800000000000001,
          7.800000000000001,
          null,
          10.829736328125001,
          6.5,
          null,
          6.5,
          6.5,
          null,
          -3.3068115234374993,
          -17.443359375,
          null,
          -17.443359375,
          -17.443359375,
          null,
          -17.443359375,
          -10.293359375,
          null,
          -10.293359375,
          -10.293359375,
          null,
          -10.293359375,
          -6.93671875,
          null,
          -6.93671875,
          -6.93671875,
          null,
          -6.93671875,
          -3.3109375,
          null,
          -3.3109375,
          -3.3109375,
          null,
          -3.3109375,
          -1.096875,
          null,
          -1.096875,
          -1.096875,
          null,
          -1.096875,
          0.4062500000000001,
          null,
          0.4062500000000001,
          0.4062500000000001,
          null,
          0.4062500000000001,
          2.1125000000000003,
          null,
          2.1125000000000003,
          2.1125000000000003,
          null,
          2.1125000000000003,
          3.575,
          null,
          3.575,
          3.575,
          null,
          3.575,
          4.550000000000001,
          null,
          4.550000000000001,
          4.550000000000001,
          null,
          4.550000000000001,
          5.2,
          null,
          5.2,
          5.2,
          null,
          4.550000000000001,
          3.9000000000000004,
          null,
          3.9000000000000004,
          3.9000000000000004,
          null,
          3.575,
          2.6,
          null,
          2.6,
          2.6,
          null,
          2.1125000000000003,
          0.65,
          null,
          0.65,
          0.65,
          null,
          0.65,
          1.3,
          null,
          1.3,
          1.3,
          null,
          0.65,
          0,
          null,
          0,
          0,
          null,
          0.4062500000000001,
          -1.3,
          null,
          -1.3,
          -1.3,
          null,
          -1.096875,
          -2.6,
          null,
          -2.6,
          -2.6,
          null,
          -3.3109375,
          -5.525,
          null,
          -5.525,
          -5.525,
          null,
          -5.525,
          -4.550000000000001,
          null,
          -4.550000000000001,
          -4.550000000000001,
          null,
          -4.550000000000001,
          -3.9000000000000004,
          null,
          -3.9000000000000004,
          -3.9000000000000004,
          null,
          -4.550000000000001,
          -5.2,
          null,
          -5.2,
          -5.2,
          null,
          -5.525,
          -6.5,
          null,
          -6.5,
          -6.5,
          null,
          -6.93671875,
          -10.5625,
          null,
          -10.5625,
          -10.5625,
          null,
          -10.5625,
          -9.425,
          null,
          -9.425,
          -9.425,
          null,
          -9.425,
          -8.45,
          null,
          -8.45,
          -8.45,
          null,
          -8.45,
          -7.800000000000001,
          null,
          -7.800000000000001,
          -7.800000000000001,
          null,
          -8.45,
          -9.1,
          null,
          -9.1,
          -9.1,
          null,
          -9.425,
          -10.4,
          null,
          -10.4,
          -10.4,
          null,
          -10.5625,
          -11.700000000000001,
          null,
          -11.700000000000001,
          -11.700000000000001,
          null,
          -10.293359375,
          -13.65,
          null,
          -13.65,
          -13.65,
          null,
          -13.65,
          -13,
          null,
          -13,
          -13,
          null,
          -13.65,
          -14.3,
          null,
          -14.3,
          -14.3,
          null,
          -17.443359375,
          -24.593359375000002,
          null,
          -24.593359375000002,
          -24.593359375000002,
          null,
          -24.593359375000002,
          -17.225,
          null,
          -17.225,
          -17.225,
          null,
          -17.225,
          -16.25,
          null,
          -16.25,
          -16.25,
          null,
          -16.25,
          -15.600000000000001,
          null,
          -15.600000000000001,
          -15.600000000000001,
          null,
          -16.25,
          -16.900000000000002,
          null,
          -16.900000000000002,
          -16.900000000000002,
          null,
          -17.225,
          -18.2,
          null,
          -18.2,
          -18.2,
          null,
          -24.593359375000002,
          -31.961718750000003,
          null,
          -31.961718750000003,
          -31.961718750000003,
          null,
          -31.961718750000003,
          -27.360937500000002,
          null,
          -27.360937500000002,
          -27.360937500000002,
          null,
          -27.360937500000002,
          -23.481250000000003,
          null,
          -23.481250000000003,
          -23.481250000000003,
          null,
          -23.481250000000003,
          -22.262500000000003,
          null,
          -22.262500000000003,
          -22.262500000000003,
          null,
          -22.262500000000003,
          -21.125,
          null,
          -21.125,
          -21.125,
          null,
          -21.125,
          -20.15,
          null,
          -20.15,
          -20.15,
          null,
          -20.15,
          -19.5,
          null,
          -19.5,
          -19.5,
          null,
          -20.15,
          -20.8,
          null,
          -20.8,
          -20.8,
          null,
          -21.125,
          -22.1,
          null,
          -22.1,
          -22.1,
          null,
          -22.262500000000003,
          -23.400000000000002,
          null,
          -23.400000000000002,
          -23.400000000000002,
          null,
          -23.481250000000003,
          -24.7,
          null,
          -24.7,
          -24.7,
          null,
          -27.360937500000002,
          -31.240625,
          null,
          -31.240625,
          -31.240625,
          null,
          -31.240625,
          -29.981250000000003,
          null,
          -29.981250000000003,
          -29.981250000000003,
          null,
          -29.981250000000003,
          -28.762500000000003,
          null,
          -28.762500000000003,
          -28.762500000000003,
          null,
          -28.762500000000003,
          -27.625,
          null,
          -27.625,
          -27.625,
          null,
          -27.625,
          -26.65,
          null,
          -26.65,
          -26.65,
          null,
          -26.65,
          -26,
          null,
          -26,
          -26,
          null,
          -26.65,
          -27.3,
          null,
          -27.3,
          -27.3,
          null,
          -27.625,
          -28.6,
          null,
          -28.6,
          -28.6,
          null,
          -28.762500000000003,
          -29.900000000000002,
          null,
          -29.900000000000002,
          -29.900000000000002,
          null,
          -29.981250000000003,
          -31.200000000000003,
          null,
          -31.200000000000003,
          -31.200000000000003,
          null,
          -31.240625,
          -32.5,
          null,
          -32.5,
          -32.5,
          null,
          -31.961718750000003,
          -36.5625,
          null,
          -36.5625,
          -36.5625,
          null,
          -36.5625,
          -35.425,
          null,
          -35.425,
          -35.425,
          null,
          -35.425,
          -34.45,
          null,
          -34.45,
          -34.45,
          null,
          -34.45,
          -33.800000000000004,
          null,
          -33.800000000000004,
          -33.800000000000004,
          null,
          -34.45,
          -35.1,
          null,
          -35.1,
          -35.1,
          null,
          -35.425,
          -36.4,
          null,
          -36.4,
          -36.4,
          null,
          -36.5625,
          -37.7,
          null,
          -37.7,
          -37.7,
          null,
          -21.15340576171875,
          -39,
          null,
          -39,
          -39,
          null
         ]
        },
        {
         "hoverinfo": "text",
         "marker": {
          "color": "black",
          "size": 3,
          "symbol": "circle"
         },
         "mode": "markers",
         "showlegend": false,
         "text": [
          "root",
          "Shrew",
          "Eutheria.2",
          "Boreoeutheria",
          "Laurasiatheria.4",
          "Laurasiatheria.3",
          "Laurasiatheria.2",
          "Laurasiatheria",
          "Carnivora",
          "Caniformia.3",
          "Caniformia.2",
          "Ursidae",
          "Giant_panda",
          "Polar_bear",
          "Ferret",
          "Canidae",
          "Dingo",
          "Red_fox",
          "Felidae",
          "Cat",
          "Tiger",
          "Horse",
          "Artiodactyla.3",
          "Artiodactyla.2",
          "Artiodactyla",
          "Pecora.2",
          "Pecora",
          "Bovidae",
          "Bovinae",
          "Wild_yak",
          "American_bison",
          "Goat",
          "Siberian_musk_deer",
          "Yarkand_deer",
          "Cetacea",
          "Odontoceti.3",
          "Odontoceti.2",
          "Odontoceti",
          "Monodontidae",
          "Narwhal",
          "Beluga_whale",
          "Vaquita",
          "Dolphin",
          "Sperm_whale",
          "Blue_whale",
          "Suina",
          "Pig",
          "Chacoan_peccary",
          "Arabian_camel",
          "Chiroptera",
          "Greater_horseshoe_bat",
          "Megabat",
          "Hedgehog",
          "Euarchontoglires",
          "Glires",
          "Rodentia.3",
          "Rodentia.2",
          "Rodentia",
          "Myomorpha",
          "Muroidea",
          "Cricetidae.2",
          "Cricetidae",
          "Golden_Hamster",
          "Prairie_vole",
          "Northern_American_deer_mouse",
          "Murinae",
          "Ryukyu_mouse",
          "Rat",
          "Lesser_Egyptian_jerboa",
          "Kangaroo_rat",
          "Hystricomorpha.2",
          "Hystricomorpha",
          "Long_tailed_chinchilla",
          "Degu",
          "Guinea_Pig",
          "Sciuridae",
          "Marmotini.3",
          "Marmotini",
          "Squirrel",
          "Arctic_ground_squirrel",
          "Alpine_marmot",
          "Eurasian_red_squirrel",
          "Lagomorpha",
          "Rabbit",
          "Pika",
          "Primates",
          "Lemuriformes.2",
          "Lemuriformes",
          "Coquerel's_sifaka",
          "Greater_bamboo_lemur",
          "Mouse_Lemur",
          "Simiiformes",
          "Catarrhini",
          "Hominoidea",
          "Hominidae",
          "Homininae.2",
          "Homininae",
          "Human",
          "Chimpanzee",
          "Gorilla",
          "Sumatran_orangutan",
          "Gibbon",
          "Cercopithecidae",
          "Cercopithecinae.5",
          "Cercopithecinae.4",
          "Cercopithecinae.3",
          "Cercopithecinae",
          "Sooty_mangabey",
          "Drill",
          "Olive_baboon",
          "Pig_tailed_macaque",
          "Vervet_AGM",
          "Black_snub_nosed_monkey",
          "Platyrrhini.2",
          "Platyrrhini",
          "Cebidae",
          "Panamanian_white_faced_capuchin",
          "Bolivian_squirrel_monkey",
          "Ma's_night_monkey",
          "White_tufted_ear_marmoset",
          "Elephant"
         ],
         "type": "scatter",
         "x": [
          0,
          0.10965453576765488,
          0.15056473185271696,
          0.19158557364369816,
          0.19809795806711084,
          0.21406130508000185,
          0.2361559543033197,
          0.23793154808707015,
          0.36464705837890266,
          0.3722847284012639,
          0.40370665411773426,
          0.46006874242840085,
          0.48285418900231875,
          0.4948940109355859,
          0.5529336393486095,
          0.6146451990146051,
          0.6458121193102004,
          0.6488288228995088,
          0.4421741984446388,
          0.45923860466213057,
          0.4833907567713829,
          0.452779216987931,
          0.28699956126621406,
          0.304497691094078,
          0.31738762692871814,
          0.3969658059390979,
          0.40290523216105223,
          0.4216618870988009,
          0.4632562583327684,
          0.4659960613117373,
          0.46690082559043106,
          0.46834497264821806,
          0.45410863444049115,
          0.4473660775039391,
          0.41096994267887166,
          0.4127520587251042,
          0.4225705949660543,
          0.42808904065600334,
          0.43102721662144305,
          0.4355838076877109,
          0.4365188586608361,
          0.4492774664688528,
          0.44749344169490046,
          0.4318694680889018,
          0.4266190902191562,
          0.38235974764121655,
          0.43671547440696434,
          0.45627313845138706,
          0.4371015940904023,
          0.33999526508993444,
          0.48180101969391825,
          0.49652774342521666,
          0.4869678095171477,
          0.2248279140464865,
          0.2610807216708177,
          0.27042893414975466,
          0.2766914789983884,
          0.28560367672819803,
          0.3354178904124179,
          0.4776338483933517,
          0.5034518366560025,
          0.5161583866776471,
          0.6294033601992913,
          0.6500557862716309,
          0.5911099644502241,
          0.5513509574782474,
          0.6500787300019593,
          0.6828737300855477,
          0.577269041521034,
          0.62249548369179,
          0.43239450455336415,
          0.45272525069192804,
          0.592068898837347,
          0.5932797728131397,
          0.6701207635150377,
          0.3728280114307067,
          0.43959338078690047,
          0.4564327903409569,
          0.4730426778200292,
          0.47730679891987793,
          0.4605791310248339,
          0.4652151964970418,
          0.35666292539866723,
          0.6067740358804642,
          0.6531173461049147,
          0.45129447415392865,
          0.5241676676805034,
          0.5533988182749252,
          0.5865483958152898,
          0.5910094413352508,
          0.5837452958133902,
          0.5704104394519041,
          0.5991660094737118,
          0.6224946572988276,
          0.626844666666846,
          0.6377018298691772,
          0.6395246294596761,
          0.6458565711767141,
          0.6505294904181935,
          0.6486359757162001,
          0.653693903854194,
          0.6394099564958368,
          0.6288104509667072,
          0.642555135036015,
          0.6481110308398847,
          0.6499263637987933,
          0.6544551366636284,
          0.6599009956988167,
          0.6653679287551075,
          0.6562746724880415,
          0.6590416987673398,
          0.660019107984118,
          0.6563437832388853,
          0.6463757749519665,
          0.6628901076264517,
          0.6680790688614695,
          0.6977628433996971,
          0.7102104367885531,
          0.6977263720738317,
          0.9228226864407314,
          0.46438185063728854
         ],
         "y": [
          8.923297119140624,
          39,
          -21.15340576171875,
          -3.3068115234374993,
          10.829736328125001,
          15.159472656250001,
          21.868945312500003,
          30.590625000000003,
          32.581250000000004,
          34.612500000000004,
          36.075,
          37.05,
          37.7,
          36.4,
          35.1,
          33.150000000000006,
          33.800000000000004,
          32.5,
          30.550000000000004,
          31.200000000000003,
          29.900000000000002,
          28.6,
          13.147265625000001,
          15.894531250000002,
          19.439062500000002,
          23.31875,
          24.5375,
          25.674999999999997,
          26.65,
          27.3,
          26,
          24.7,
          23.400000000000002,
          22.1,
          15.559375000000001,
          16.81875,
          18.0375,
          19.174999999999997,
          20.15,
          20.8,
          19.5,
          18.2,
          16.900000000000002,
          15.600000000000001,
          14.3,
          12.350000000000001,
          13,
          11.700000000000001,
          10.4,
          8.45,
          9.1,
          7.800000000000001,
          6.5,
          -17.443359375,
          -10.293359375,
          -6.93671875,
          -3.3109375,
          -1.096875,
          0.4062500000000001,
          2.1125000000000003,
          3.575,
          4.550000000000001,
          5.2,
          3.9000000000000004,
          2.6,
          0.65,
          1.3,
          0,
          -1.3,
          -2.6,
          -5.525,
          -4.550000000000001,
          -3.9000000000000004,
          -5.2,
          -6.5,
          -10.5625,
          -9.425,
          -8.45,
          -7.800000000000001,
          -9.1,
          -10.4,
          -11.700000000000001,
          -13.65,
          -13,
          -14.3,
          -24.593359375000002,
          -17.225,
          -16.25,
          -15.600000000000001,
          -16.900000000000002,
          -18.2,
          -31.961718750000003,
          -27.360937500000002,
          -23.481250000000003,
          -22.262500000000003,
          -21.125,
          -20.15,
          -19.5,
          -20.8,
          -22.1,
          -23.400000000000002,
          -24.7,
          -31.240625,
          -29.981250000000003,
          -28.762500000000003,
          -27.625,
          -26.65,
          -26,
          -27.3,
          -28.6,
          -29.900000000000002,
          -31.200000000000003,
          -32.5,
          -36.5625,
          -35.425,
          -34.45,
          -33.800000000000004,
          -35.1,
          -36.4,
          -37.7,
          -39
         ]
        }
       ],
       "layout": {
        "annotations": [
         {
          "font": {
           "family": "Inconsolata, monospace",
           "size": 12
          },
          "showarrow": false,
          "text": "Shrew",
          "textangle": 0,
          "x": 0.13272510292867318,
          "xanchor": "left",
          "xref": "x",
          "y": 39,
          "yref": "y"
         },
         {
          "font": {
           "family": "Inconsolata, monospace",
           "size": 12
          },
          "showarrow": false,
          "text": "Giant_panda",
          "textangle": 0,
          "x": 0.505924756163337,
          "xanchor": "left",
          "xref": "x",
          "y": 37.7,
          "yref": "y"
         },
         {
          "font": {
           "family": "Inconsolata, monospace",
           "size": 12
          },
          "showarrow": false,
          "text": "Polar_bear",
          "textangle": 0,
          "x": 0.5179645780966041,
          "xanchor": "left",
          "xref": "x",
          "y": 36.4,
          "yref": "y"
         },
         {
          "font": {
           "family": "Inconsolata, monospace",
           "size": 12
          },
          "showarrow": false,
          "text": "Ferret",
          "textangle": 0,
          "x": 0.5760042065096278,
          "xanchor": "left",
          "xref": "x",
          "y": 35.1,
          "yref": "y"
         },
         {
          "font": {
           "family": "Inconsolata, monospace",
           "size": 12
          },
          "showarrow": false,
          "text": "Dingo",
          "textangle": 0,
          "x": 0.6688826864712187,
          "xanchor": "left",
          "xref": "x",
          "y": 33.800000000000004,
          "yref": "y"
         },
         {
          "font": {
           "family": "Inconsolata, monospace",
           "size": 12
          },
          "showarrow": false,
          "text": "Red_fox",
          "textangle": 0,
          "x": 0.6718993900605271,
          "xanchor": "left",
          "xref": "x",
          "y": 32.5,
          "yref": "y"
         },
         {
          "font": {
           "family": "Inconsolata, monospace",
           "size": 12
          },
          "showarrow": false,
          "text": "Cat",
          "textangle": 0,
          "x": 0.48230917182314886,
          "xanchor": "left",
          "xref": "x",
          "y": 31.200000000000003,
          "yref": "y"
         },
         {
          "font": {
           "family": "Inconsolata, monospace",
           "size": 12
          },
          "showarrow": false,
          "text": "Tiger",
          "textangle": 0,
          "x": 0.5064613239324012,
          "xanchor": "left",
          "xref": "x",
          "y": 29.900000000000002,
          "yref": "y"
         },
         {
          "font": {
           "family": "Inconsolata, monospace",
           "size": 12
          },
          "showarrow": false,
          "text": "Horse",
          "textangle": 0,
          "x": 0.4758497841489493,
          "xanchor": "left",
          "xref": "x",
          "y": 28.6,
          "yref": "y"
         },
         {
          "font": {
           "family": "Inconsolata, monospace",
           "size": 12
          },
          "showarrow": false,
          "text": "Wild_yak",
          "textangle": 0,
          "x": 0.4890666284727556,
          "xanchor": "left",
          "xref": "x",
          "y": 27.3,
          "yref": "y"
         },
         {
          "font": {
           "family": "Inconsolata, monospace",
           "size": 12
          },
          "showarrow": false,
          "text": "American_bison",
          "textangle": 0,
          "x": 0.48997139275144935,
          "xanchor": "left",
          "xref": "x",
          "y": 26,
          "yref": "y"
         },
         {
          "font": {
           "family": "Inconsolata, monospace",
           "size": 12
          },
          "showarrow": false,
          "text": "Goat",
          "textangle": 0,
          "x": 0.49141553980923636,
          "xanchor": "left",
          "xref": "x",
          "y": 24.7,
          "yref": "y"
         },
         {
          "font": {
           "family": "Inconsolata, monospace",
           "size": 12
          },
          "showarrow": false,
          "text": "Siberian_musk_deer",
          "textangle": 0,
          "x": 0.47717920160150945,
          "xanchor": "left",
          "xref": "x",
          "y": 23.400000000000002,
          "yref": "y"
         },
         {
          "font": {
           "family": "Inconsolata, monospace",
           "size": 12
          },
          "showarrow": false,
          "text": "Yarkand_deer",
          "textangle": 0,
          "x": 0.4704366446649574,
          "xanchor": "left",
          "xref": "x",
          "y": 22.1,
          "yref": "y"
         },
         {
          "font": {
           "family": "Inconsolata, monospace",
           "size": 12
          },
          "showarrow": false,
          "text": "Narwhal",
          "textangle": 0,
          "x": 0.4586543748487292,
          "xanchor": "left",
          "xref": "x",
          "y": 20.8,
          "yref": "y"
         },
         {
          "font": {
           "family": "Inconsolata, monospace",
           "size": 12
          },
          "showarrow": false,
          "text": "Beluga_whale",
          "textangle": 0,
          "x": 0.4595894258218544,
          "xanchor": "left",
          "xref": "x",
          "y": 19.5,
          "yref": "y"
         },
         {
          "font": {
           "family": "Inconsolata, monospace",
           "size": 12
          },
          "showarrow": false,
          "text": "Vaquita",
          "textangle": 0,
          "x": 0.4723480336298711,
          "xanchor": "left",
          "xref": "x",
          "y": 18.2,
          "yref": "y"
         },
         {
          "font": {
           "family": "Inconsolata, monospace",
           "size": 12
          },
          "showarrow": false,
          "text": "Dolphin",
          "textangle": 0,
          "x": 0.47056400885591876,
          "xanchor": "left",
          "xref": "x",
          "y": 16.900000000000002,
          "yref": "y"
         },
         {
          "font": {
           "family": "Inconsolata, monospace",
           "size": 12
          },
          "showarrow": false,
          "text": "Sperm_whale",
          "textangle": 0,
          "x": 0.4549400352499201,
          "xanchor": "left",
          "xref": "x",
          "y": 15.600000000000001,
          "yref": "y"
         },
         {
          "font": {
           "family": "Inconsolata, monospace",
           "size": 12
          },
          "showarrow": false,
          "text": "Blue_whale",
          "textangle": 0,
          "x": 0.4496896573801745,
          "xanchor": "left",
          "xref": "x",
          "y": 14.3,
          "yref": "y"
         },
         {
          "font": {
           "family": "Inconsolata, monospace",
           "size": 12
          },
          "showarrow": false,
          "text": "Pig",
          "textangle": 0,
          "x": 0.45978604156798264,
          "xanchor": "left",
          "xref": "x",
          "y": 13,
          "yref": "y"
         },
         {
          "font": {
           "family": "Inconsolata, monospace",
           "size": 12
          },
          "showarrow": false,
          "text": "Chacoan_peccary",
          "textangle": 0,
          "x": 0.47934370561240536,
          "xanchor": "left",
          "xref": "x",
          "y": 11.700000000000001,
          "yref": "y"
         },
         {
          "font": {
           "family": "Inconsolata, monospace",
           "size": 12
          },
          "showarrow": false,
          "text": "Arabian_camel",
          "textangle": 0,
          "x": 0.4601721612514206,
          "xanchor": "left",
          "xref": "x",
          "y": 10.4,
          "yref": "y"
         },
         {
          "font": {
           "family": "Inconsolata, monospace",
           "size": 12
          },
          "showarrow": false,
          "text": "Greater_horseshoe_bat",
          "textangle": 0,
          "x": 0.5048715868549365,
          "xanchor": "left",
          "xref": "x",
          "y": 9.1,
          "yref": "y"
         },
         {
          "font": {
           "family": "Inconsolata, monospace",
           "size": 12
          },
          "showarrow": false,
          "text": "Megabat",
          "textangle": 0,
          "x": 0.519598310586235,
          "xanchor": "left",
          "xref": "x",
          "y": 7.800000000000001,
          "yref": "y"
         },
         {
          "font": {
           "family": "Inconsolata, monospace",
           "size": 12
          },
          "showarrow": false,
          "text": "Hedgehog",
          "textangle": 0,
          "x": 0.510038376678166,
          "xanchor": "left",
          "xref": "x",
          "y": 6.5,
          "yref": "y"
         },
         {
          "font": {
           "family": "Inconsolata, monospace",
           "size": 12
          },
          "showarrow": false,
          "text": "Golden_Hamster",
          "textangle": 0,
          "x": 0.6524739273603096,
          "xanchor": "left",
          "xref": "x",
          "y": 5.2,
          "yref": "y"
         },
         {
          "font": {
           "family": "Inconsolata, monospace",
           "size": 12
          },
          "showarrow": false,
          "text": "Prairie_vole",
          "textangle": 0,
          "x": 0.6731263534326491,
          "xanchor": "left",
          "xref": "x",
          "y": 3.9000000000000004,
          "yref": "y"
         },
         {
          "font": {
           "family": "Inconsolata, monospace",
           "size": 12
          },
          "showarrow": false,
          "text": "Northern_American_deer_mouse",
          "textangle": 0,
          "x": 0.6141805316112424,
          "xanchor": "left",
          "xref": "x",
          "y": 2.6,
          "yref": "y"
         },
         {
          "font": {
           "family": "Inconsolata, monospace",
           "size": 12
          },
          "showarrow": false,
          "text": "Ryukyu_mouse",
          "textangle": 0,
          "x": 0.6731492971629776,
          "xanchor": "left",
          "xref": "x",
          "y": 1.3,
          "yref": "y"
         },
         {
          "font": {
           "family": "Inconsolata, monospace",
           "size": 12
          },
          "showarrow": false,
          "text": "Rat",
          "textangle": 0,
          "x": 0.705944297246566,
          "xanchor": "left",
          "xref": "x",
          "y": 0,
          "yref": "y"
         },
         {
          "font": {
           "family": "Inconsolata, monospace",
           "size": 12
          },
          "showarrow": false,
          "text": "Lesser_Egyptian_jerboa",
          "textangle": 0,
          "x": 0.6003396086820523,
          "xanchor": "left",
          "xref": "x",
          "y": -1.3,
          "yref": "y"
         },
         {
          "font": {
           "family": "Inconsolata, monospace",
           "size": 12
          },
          "showarrow": false,
          "text": "Kangaroo_rat",
          "textangle": 0,
          "x": 0.6455660508528083,
          "xanchor": "left",
          "xref": "x",
          "y": -2.6,
          "yref": "y"
         },
         {
          "font": {
           "family": "Inconsolata, monospace",
           "size": 12
          },
          "showarrow": false,
          "text": "Long_tailed_chinchilla",
          "textangle": 0,
          "x": 0.6151394659983653,
          "xanchor": "left",
          "xref": "x",
          "y": -3.9000000000000004,
          "yref": "y"
         },
         {
          "font": {
           "family": "Inconsolata, monospace",
           "size": 12
          },
          "showarrow": false,
          "text": "Degu",
          "textangle": 0,
          "x": 0.616350339974158,
          "xanchor": "left",
          "xref": "x",
          "y": -5.2,
          "yref": "y"
         },
         {
          "font": {
           "family": "Inconsolata, monospace",
           "size": 12
          },
          "showarrow": false,
          "text": "Guinea_Pig",
          "textangle": 0,
          "x": 0.693191330676056,
          "xanchor": "left",
          "xref": "x",
          "y": -6.5,
          "yref": "y"
         },
         {
          "font": {
           "family": "Inconsolata, monospace",
           "size": 12
          },
          "showarrow": false,
          "text": "Squirrel",
          "textangle": 0,
          "x": 0.4961132449810475,
          "xanchor": "left",
          "xref": "x",
          "y": -7.800000000000001,
          "yref": "y"
         },
         {
          "font": {
           "family": "Inconsolata, monospace",
           "size": 12
          },
          "showarrow": false,
          "text": "Arctic_ground_squirrel",
          "textangle": 0,
          "x": 0.5003773660808962,
          "xanchor": "left",
          "xref": "x",
          "y": -9.1,
          "yref": "y"
         },
         {
          "font": {
           "family": "Inconsolata, monospace",
           "size": 12
          },
          "showarrow": false,
          "text": "Alpine_marmot",
          "textangle": 0,
          "x": 0.4836496981858522,
          "xanchor": "left",
          "xref": "x",
          "y": -10.4,
          "yref": "y"
         },
         {
          "font": {
           "family": "Inconsolata, monospace",
           "size": 12
          },
          "showarrow": false,
          "text": "Eurasian_red_squirrel",
          "textangle": 0,
          "x": 0.4882857636580601,
          "xanchor": "left",
          "xref": "x",
          "y": -11.700000000000001,
          "yref": "y"
         },
         {
          "font": {
           "family": "Inconsolata, monospace",
           "size": 12
          },
          "showarrow": false,
          "text": "Rabbit",
          "textangle": 0,
          "x": 0.6298446030414825,
          "xanchor": "left",
          "xref": "x",
          "y": -13,
          "yref": "y"
         },
         {
          "font": {
           "family": "Inconsolata, monospace",
           "size": 12
          },
          "showarrow": false,
          "text": "Pika",
          "textangle": 0,
          "x": 0.676187913265933,
          "xanchor": "left",
          "xref": "x",
          "y": -14.3,
          "yref": "y"
         },
         {
          "font": {
           "family": "Inconsolata, monospace",
           "size": 12
          },
          "showarrow": false,
          "text": "Coquerel's_sifaka",
          "textangle": 0,
          "x": 0.6096189629763081,
          "xanchor": "left",
          "xref": "x",
          "y": -15.600000000000001,
          "yref": "y"
         },
         {
          "font": {
           "family": "Inconsolata, monospace",
           "size": 12
          },
          "showarrow": false,
          "text": "Greater_bamboo_lemur",
          "textangle": 0,
          "x": 0.6140800084962691,
          "xanchor": "left",
          "xref": "x",
          "y": -16.900000000000002,
          "yref": "y"
         },
         {
          "font": {
           "family": "Inconsolata, monospace",
           "size": 12
          },
          "showarrow": false,
          "text": "Mouse_Lemur",
          "textangle": 0,
          "x": 0.6068158629744085,
          "xanchor": "left",
          "xref": "x",
          "y": -18.2,
          "yref": "y"
         },
         {
          "font": {
           "family": "Inconsolata, monospace",
           "size": 12
          },
          "showarrow": false,
          "text": "Human",
          "textangle": 0,
          "x": 0.6689271383377324,
          "xanchor": "left",
          "xref": "x",
          "y": -19.5,
          "yref": "y"
         },
         {
          "font": {
           "family": "Inconsolata, monospace",
           "size": 12
          },
          "showarrow": false,
          "text": "Chimpanzee",
          "textangle": 0,
          "x": 0.6736000575792118,
          "xanchor": "left",
          "xref": "x",
          "y": -20.8,
          "yref": "y"
         },
         {
          "font": {
           "family": "Inconsolata, monospace",
           "size": 12
          },
          "showarrow": false,
          "text": "Gorilla",
          "textangle": 0,
          "x": 0.6717065428772184,
          "xanchor": "left",
          "xref": "x",
          "y": -22.1,
          "yref": "y"
         },
         {
          "font": {
           "family": "Inconsolata, monospace",
           "size": 12
          },
          "showarrow": false,
          "text": "Sumatran_orangutan",
          "textangle": 0,
          "x": 0.6767644710152123,
          "xanchor": "left",
          "xref": "x",
          "y": -23.400000000000002,
          "yref": "y"
         },
         {
          "font": {
           "family": "Inconsolata, monospace",
           "size": 12
          },
          "showarrow": false,
          "text": "Gibbon",
          "textangle": 0,
          "x": 0.6624805236568551,
          "xanchor": "left",
          "xref": "x",
          "y": -24.7,
          "yref": "y"
         },
         {
          "font": {
           "family": "Inconsolata, monospace",
           "size": 12
          },
          "showarrow": false,
          "text": "Sooty_mangabey",
          "textangle": 0,
          "x": 0.682971562859835,
          "xanchor": "left",
          "xref": "x",
          "y": -26,
          "yref": "y"
         },
         {
          "font": {
           "family": "Inconsolata, monospace",
           "size": 12
          },
          "showarrow": false,
          "text": "Drill",
          "textangle": 0,
          "x": 0.6884384959161258,
          "xanchor": "left",
          "xref": "x",
          "y": -27.3,
          "yref": "y"
         },
         {
          "font": {
           "family": "Inconsolata, monospace",
           "size": 12
          },
          "showarrow": false,
          "text": "Olive_baboon",
          "textangle": 0,
          "x": 0.6793452396490598,
          "xanchor": "left",
          "xref": "x",
          "y": -28.6,
          "yref": "y"
         },
         {
          "font": {
           "family": "Inconsolata, monospace",
           "size": 12
          },
          "showarrow": false,
          "text": "Pig_tailed_macaque",
          "textangle": 0,
          "x": 0.682112265928358,
          "xanchor": "left",
          "xref": "x",
          "y": -29.900000000000002,
          "yref": "y"
         },
         {
          "font": {
           "family": "Inconsolata, monospace",
           "size": 12
          },
          "showarrow": false,
          "text": "Vervet_AGM",
          "textangle": 0,
          "x": 0.6830896751451363,
          "xanchor": "left",
          "xref": "x",
          "y": -31.200000000000003,
          "yref": "y"
         },
         {
          "font": {
           "family": "Inconsolata, monospace",
           "size": 12
          },
          "showarrow": false,
          "text": "Black_snub_nosed_monkey",
          "textangle": 0,
          "x": 0.6794143503999036,
          "xanchor": "left",
          "xref": "x",
          "y": -32.5,
          "yref": "y"
         },
         {
          "font": {
           "family": "Inconsolata, monospace",
           "size": 12
          },
          "showarrow": false,
          "text": "Panamanian_white_faced_capuchin",
          "textangle": 0,
          "x": 0.7208334105607154,
          "xanchor": "left",
          "xref": "x",
          "y": -33.800000000000004,
          "yref": "y"
         },
         {
          "font": {
           "family": "Inconsolata, monospace",
           "size": 12
          },
          "showarrow": false,
          "text": "Bolivian_squirrel_monkey",
          "textangle": 0,
          "x": 0.7332810039495714,
          "xanchor": "left",
          "xref": "x",
          "y": -35.1,
          "yref": "y"
         },
         {
          "font": {
           "family": "Inconsolata, monospace",
           "size": 12
          },
          "showarrow": false,
          "text": "Ma's_night_monkey",
          "textangle": 0,
          "x": 0.72079693923485,
          "xanchor": "left",
          "xref": "x",
          "y": -36.4,
          "yref": "y"
         },
         {
          "font": {
           "family": "Inconsolata, monospace",
           "size": 12
          },
          "showarrow": false,
          "text": "White_tufted_ear_marmoset",
          "textangle": 0,
          "x": 0.9458932536017497,
          "xanchor": "left",
          "xref": "x",
          "y": -37.7,
          "yref": "y"
         },
         {
          "font": {
           "family": "Inconsolata, monospace",
           "size": 12
          },
          "showarrow": false,
          "text": "Elephant",
          "textangle": 0,
          "x": 0.48745241779830684,
          "xanchor": "left",
          "xref": "x",
          "y": -39,
          "yref": "y"
         },
         {
          "ax": 0,
          "ay": 0,
          "showarrow": false,
          "text": "0.09",
          "x": 0.04614113432203657,
          "xref": "x",
          "y": -46.09090909090909,
          "yref": "y",
          "yshift": 10
         }
        ],
        "autosize": true,
        "font": {
         "family": "Balto",
         "size": 14
        },
        "height": 1000,
        "hovermode": "closest",
        "margin": {
         "b": 50,
         "l": 50,
         "pad": 4,
         "r": 50,
         "t": 50
        },
        "shapes": [
         {
          "line": {
           "color": "black",
           "width": 1.25
          },
          "name": "scale_bar",
          "type": "line",
          "x0": 0,
          "x1": 0.09228226864407314,
          "y0": -46.09090909090909,
          "y1": -46.09090909090909
         }
        ],
        "showlegend": false,
        "template": {
         "data": {
          "bar": [
           {
            "error_x": {
             "color": "#2a3f5f"
            },
            "error_y": {
             "color": "#2a3f5f"
            },
            "marker": {
             "line": {
              "color": "#E5ECF6",
              "width": 0.5
             },
             "pattern": {
              "fillmode": "overlay",
              "size": 10,
              "solidity": 0.2
             }
            },
            "type": "bar"
           }
          ],
          "barpolar": [
           {
            "marker": {
             "line": {
              "color": "#E5ECF6",
              "width": 0.5
             },
             "pattern": {
              "fillmode": "overlay",
              "size": 10,
              "solidity": 0.2
             }
            },
            "type": "barpolar"
           }
          ],
          "carpet": [
           {
            "aaxis": {
             "endlinecolor": "#2a3f5f",
             "gridcolor": "white",
             "linecolor": "white",
             "minorgridcolor": "white",
             "startlinecolor": "#2a3f5f"
            },
            "baxis": {
             "endlinecolor": "#2a3f5f",
             "gridcolor": "white",
             "linecolor": "white",
             "minorgridcolor": "white",
             "startlinecolor": "#2a3f5f"
            },
            "type": "carpet"
           }
          ],
          "choropleth": [
           {
            "colorbar": {
             "outlinewidth": 0,
             "ticks": ""
            },
            "type": "choropleth"
           }
          ],
          "contour": [
           {
            "colorbar": {
             "outlinewidth": 0,
             "ticks": ""
            },
            "colorscale": [
             [
              0,
              "#0d0887"
             ],
             [
              0.1111111111111111,
              "#46039f"
             ],
             [
              0.2222222222222222,
              "#7201a8"
             ],
             [
              0.3333333333333333,
              "#9c179e"
             ],
             [
              0.4444444444444444,
              "#bd3786"
             ],
             [
              0.5555555555555556,
              "#d8576b"
             ],
             [
              0.6666666666666666,
              "#ed7953"
             ],
             [
              0.7777777777777778,
              "#fb9f3a"
             ],
             [
              0.8888888888888888,
              "#fdca26"
             ],
             [
              1,
              "#f0f921"
             ]
            ],
            "type": "contour"
           }
          ],
          "contourcarpet": [
           {
            "colorbar": {
             "outlinewidth": 0,
             "ticks": ""
            },
            "type": "contourcarpet"
           }
          ],
          "heatmap": [
           {
            "colorbar": {
             "outlinewidth": 0,
             "ticks": ""
            },
            "colorscale": [
             [
              0,
              "#0d0887"
             ],
             [
              0.1111111111111111,
              "#46039f"
             ],
             [
              0.2222222222222222,
              "#7201a8"
             ],
             [
              0.3333333333333333,
              "#9c179e"
             ],
             [
              0.4444444444444444,
              "#bd3786"
             ],
             [
              0.5555555555555556,
              "#d8576b"
             ],
             [
              0.6666666666666666,
              "#ed7953"
             ],
             [
              0.7777777777777778,
              "#fb9f3a"
             ],
             [
              0.8888888888888888,
              "#fdca26"
             ],
             [
              1,
              "#f0f921"
             ]
            ],
            "type": "heatmap"
           }
          ],
          "heatmapgl": [
           {
            "colorbar": {
             "outlinewidth": 0,
             "ticks": ""
            },
            "colorscale": [
             [
              0,
              "#0d0887"
             ],
             [
              0.1111111111111111,
              "#46039f"
             ],
             [
              0.2222222222222222,
              "#7201a8"
             ],
             [
              0.3333333333333333,
              "#9c179e"
             ],
             [
              0.4444444444444444,
              "#bd3786"
             ],
             [
              0.5555555555555556,
              "#d8576b"
             ],
             [
              0.6666666666666666,
              "#ed7953"
             ],
             [
              0.7777777777777778,
              "#fb9f3a"
             ],
             [
              0.8888888888888888,
              "#fdca26"
             ],
             [
              1,
              "#f0f921"
             ]
            ],
            "type": "heatmapgl"
           }
          ],
          "histogram": [
           {
            "marker": {
             "pattern": {
              "fillmode": "overlay",
              "size": 10,
              "solidity": 0.2
             }
            },
            "type": "histogram"
           }
          ],
          "histogram2d": [
           {
            "colorbar": {
             "outlinewidth": 0,
             "ticks": ""
            },
            "colorscale": [
             [
              0,
              "#0d0887"
             ],
             [
              0.1111111111111111,
              "#46039f"
             ],
             [
              0.2222222222222222,
              "#7201a8"
             ],
             [
              0.3333333333333333,
              "#9c179e"
             ],
             [
              0.4444444444444444,
              "#bd3786"
             ],
             [
              0.5555555555555556,
              "#d8576b"
             ],
             [
              0.6666666666666666,
              "#ed7953"
             ],
             [
              0.7777777777777778,
              "#fb9f3a"
             ],
             [
              0.8888888888888888,
              "#fdca26"
             ],
             [
              1,
              "#f0f921"
             ]
            ],
            "type": "histogram2d"
           }
          ],
          "histogram2dcontour": [
           {
            "colorbar": {
             "outlinewidth": 0,
             "ticks": ""
            },
            "colorscale": [
             [
              0,
              "#0d0887"
             ],
             [
              0.1111111111111111,
              "#46039f"
             ],
             [
              0.2222222222222222,
              "#7201a8"
             ],
             [
              0.3333333333333333,
              "#9c179e"
             ],
             [
              0.4444444444444444,
              "#bd3786"
             ],
             [
              0.5555555555555556,
              "#d8576b"
             ],
             [
              0.6666666666666666,
              "#ed7953"
             ],
             [
              0.7777777777777778,
              "#fb9f3a"
             ],
             [
              0.8888888888888888,
              "#fdca26"
             ],
             [
              1,
              "#f0f921"
             ]
            ],
            "type": "histogram2dcontour"
           }
          ],
          "mesh3d": [
           {
            "colorbar": {
             "outlinewidth": 0,
             "ticks": ""
            },
            "type": "mesh3d"
           }
          ],
          "parcoords": [
           {
            "line": {
             "colorbar": {
              "outlinewidth": 0,
              "ticks": ""
             }
            },
            "type": "parcoords"
           }
          ],
          "pie": [
           {
            "automargin": true,
            "type": "pie"
           }
          ],
          "scatter": [
           {
            "fillpattern": {
             "fillmode": "overlay",
             "size": 10,
             "solidity": 0.2
            },
            "type": "scatter"
           }
          ],
          "scatter3d": [
           {
            "line": {
             "colorbar": {
              "outlinewidth": 0,
              "ticks": ""
             }
            },
            "marker": {
             "colorbar": {
              "outlinewidth": 0,
              "ticks": ""
             }
            },
            "type": "scatter3d"
           }
          ],
          "scattercarpet": [
           {
            "marker": {
             "colorbar": {
              "outlinewidth": 0,
              "ticks": ""
             }
            },
            "type": "scattercarpet"
           }
          ],
          "scattergeo": [
           {
            "marker": {
             "colorbar": {
              "outlinewidth": 0,
              "ticks": ""
             }
            },
            "type": "scattergeo"
           }
          ],
          "scattergl": [
           {
            "marker": {
             "colorbar": {
              "outlinewidth": 0,
              "ticks": ""
             }
            },
            "type": "scattergl"
           }
          ],
          "scattermapbox": [
           {
            "marker": {
             "colorbar": {
              "outlinewidth": 0,
              "ticks": ""
             }
            },
            "type": "scattermapbox"
           }
          ],
          "scatterpolar": [
           {
            "marker": {
             "colorbar": {
              "outlinewidth": 0,
              "ticks": ""
             }
            },
            "type": "scatterpolar"
           }
          ],
          "scatterpolargl": [
           {
            "marker": {
             "colorbar": {
              "outlinewidth": 0,
              "ticks": ""
             }
            },
            "type": "scatterpolargl"
           }
          ],
          "scatterternary": [
           {
            "marker": {
             "colorbar": {
              "outlinewidth": 0,
              "ticks": ""
             }
            },
            "type": "scatterternary"
           }
          ],
          "surface": [
           {
            "colorbar": {
             "outlinewidth": 0,
             "ticks": ""
            },
            "colorscale": [
             [
              0,
              "#0d0887"
             ],
             [
              0.1111111111111111,
              "#46039f"
             ],
             [
              0.2222222222222222,
              "#7201a8"
             ],
             [
              0.3333333333333333,
              "#9c179e"
             ],
             [
              0.4444444444444444,
              "#bd3786"
             ],
             [
              0.5555555555555556,
              "#d8576b"
             ],
             [
              0.6666666666666666,
              "#ed7953"
             ],
             [
              0.7777777777777778,
              "#fb9f3a"
             ],
             [
              0.8888888888888888,
              "#fdca26"
             ],
             [
              1,
              "#f0f921"
             ]
            ],
            "type": "surface"
           }
          ],
          "table": [
           {
            "cells": {
             "fill": {
              "color": "#EBF0F8"
             },
             "line": {
              "color": "white"
             }
            },
            "header": {
             "fill": {
              "color": "#C8D4E3"
             },
             "line": {
              "color": "white"
             }
            },
            "type": "table"
           }
          ]
         },
         "layout": {
          "annotationdefaults": {
           "arrowcolor": "#2a3f5f",
           "arrowhead": 0,
           "arrowwidth": 1
          },
          "autotypenumbers": "strict",
          "coloraxis": {
           "colorbar": {
            "outlinewidth": 0,
            "ticks": ""
           }
          },
          "colorscale": {
           "diverging": [
            [
             0,
             "#8e0152"
            ],
            [
             0.1,
             "#c51b7d"
            ],
            [
             0.2,
             "#de77ae"
            ],
            [
             0.3,
             "#f1b6da"
            ],
            [
             0.4,
             "#fde0ef"
            ],
            [
             0.5,
             "#f7f7f7"
            ],
            [
             0.6,
             "#e6f5d0"
            ],
            [
             0.7,
             "#b8e186"
            ],
            [
             0.8,
             "#7fbc41"
            ],
            [
             0.9,
             "#4d9221"
            ],
            [
             1,
             "#276419"
            ]
           ],
           "sequential": [
            [
             0,
             "#0d0887"
            ],
            [
             0.1111111111111111,
             "#46039f"
            ],
            [
             0.2222222222222222,
             "#7201a8"
            ],
            [
             0.3333333333333333,
             "#9c179e"
            ],
            [
             0.4444444444444444,
             "#bd3786"
            ],
            [
             0.5555555555555556,
             "#d8576b"
            ],
            [
             0.6666666666666666,
             "#ed7953"
            ],
            [
             0.7777777777777778,
             "#fb9f3a"
            ],
            [
             0.8888888888888888,
             "#fdca26"
            ],
            [
             1,
             "#f0f921"
            ]
           ],
           "sequentialminus": [
            [
             0,
             "#0d0887"
            ],
            [
             0.1111111111111111,
             "#46039f"
            ],
            [
             0.2222222222222222,
             "#7201a8"
            ],
            [
             0.3333333333333333,
             "#9c179e"
            ],
            [
             0.4444444444444444,
             "#bd3786"
            ],
            [
             0.5555555555555556,
             "#d8576b"
            ],
            [
             0.6666666666666666,
             "#ed7953"
            ],
            [
             0.7777777777777778,
             "#fb9f3a"
            ],
            [
             0.8888888888888888,
             "#fdca26"
            ],
            [
             1,
             "#f0f921"
            ]
           ]
          },
          "colorway": [
           "#636efa",
           "#EF553B",
           "#00cc96",
           "#ab63fa",
           "#FFA15A",
           "#19d3f3",
           "#FF6692",
           "#B6E880",
           "#FF97FF",
           "#FECB52"
          ],
          "font": {
           "color": "#2a3f5f"
          },
          "geo": {
           "bgcolor": "white",
           "lakecolor": "white",
           "landcolor": "#E5ECF6",
           "showlakes": true,
           "showland": true,
           "subunitcolor": "white"
          },
          "hoverlabel": {
           "align": "left"
          },
          "hovermode": "closest",
          "mapbox": {
           "style": "light"
          },
          "paper_bgcolor": "white",
          "plot_bgcolor": "#E5ECF6",
          "polar": {
           "angularaxis": {
            "gridcolor": "white",
            "linecolor": "white",
            "ticks": ""
           },
           "bgcolor": "#E5ECF6",
           "radialaxis": {
            "gridcolor": "white",
            "linecolor": "white",
            "ticks": ""
           }
          },
          "scene": {
           "xaxis": {
            "backgroundcolor": "#E5ECF6",
            "gridcolor": "white",
            "gridwidth": 2,
            "linecolor": "white",
            "showbackground": true,
            "ticks": "",
            "zerolinecolor": "white"
           },
           "yaxis": {
            "backgroundcolor": "#E5ECF6",
            "gridcolor": "white",
            "gridwidth": 2,
            "linecolor": "white",
            "showbackground": true,
            "ticks": "",
            "zerolinecolor": "white"
           },
           "zaxis": {
            "backgroundcolor": "#E5ECF6",
            "gridcolor": "white",
            "gridwidth": 2,
            "linecolor": "white",
            "showbackground": true,
            "ticks": "",
            "zerolinecolor": "white"
           }
          },
          "shapedefaults": {
           "line": {
            "color": "#2a3f5f"
           }
          },
          "ternary": {
           "aaxis": {
            "gridcolor": "white",
            "linecolor": "white",
            "ticks": ""
           },
           "baxis": {
            "gridcolor": "white",
            "linecolor": "white",
            "ticks": ""
           },
           "bgcolor": "#E5ECF6",
           "caxis": {
            "gridcolor": "white",
            "linecolor": "white",
            "ticks": ""
           }
          },
          "title": {
           "x": 0.05
          },
          "xaxis": {
           "automargin": true,
           "gridcolor": "white",
           "linecolor": "white",
           "ticks": "",
           "title": {
            "standoff": 15
           },
           "zerolinecolor": "white",
           "zerolinewidth": 2
          },
          "yaxis": {
           "automargin": true,
           "gridcolor": "white",
           "linecolor": "white",
           "ticks": "",
           "title": {
            "standoff": 15
           },
           "zerolinecolor": "white",
           "zerolinewidth": 2
          }
         }
        },
        "width": 1000,
        "xaxis": {
         "visible": false
        },
        "yaxis": {
         "visible": false
        }
       }
      },
      "text/html": [
       "<div>                            <div id=\"10c16b30-1bd9-4c0d-8530-2b3bc3877fbb\" class=\"plotly-graph-div\" style=\"height:1000px; width:1000px;\"></div>            <script type=\"text/javascript\">                require([\"plotly\"], function(Plotly) {                    window.PLOTLYENV=window.PLOTLYENV || {};                                    if (document.getElementById(\"10c16b30-1bd9-4c0d-8530-2b3bc3877fbb\")) {                    Plotly.newPlot(                        \"10c16b30-1bd9-4c0d-8530-2b3bc3877fbb\",                        [{\"line\":{\"color\":\"black\",\"shape\":\"spline\",\"smoothing\":1.3,\"width\":1.25},\"mode\":\"lines\",\"showlegend\":false,\"x\":[null,null,0,0,null,0,0.10965453576765488,null,0,0,null,0,0.15056473185271696,null,0.15056473185271696,0.15056473185271696,null,0.15056473185271696,0.19158557364369816,null,0.19158557364369816,0.19158557364369816,null,0.19158557364369816,0.19809795806711084,null,0.19809795806711084,0.19809795806711084,null,0.19809795806711084,0.21406130508000185,null,0.21406130508000185,0.21406130508000185,null,0.21406130508000185,0.2361559543033197,null,0.2361559543033197,0.2361559543033197,null,0.2361559543033197,0.23793154808707015,null,0.23793154808707015,0.23793154808707015,null,0.23793154808707015,0.36464705837890266,null,0.36464705837890266,0.36464705837890266,null,0.36464705837890266,0.3722847284012639,null,0.3722847284012639,0.3722847284012639,null,0.3722847284012639,0.40370665411773426,null,0.40370665411773426,0.40370665411773426,null,0.40370665411773426,0.46006874242840085,null,0.46006874242840085,0.46006874242840085,null,0.46006874242840085,0.48285418900231875,null,0.46006874242840085,0.46006874242840085,null,0.46006874242840085,0.4948940109355859,null,0.40370665411773426,0.40370665411773426,null,0.40370665411773426,0.5529336393486095,null,0.3722847284012639,0.3722847284012639,null,0.3722847284012639,0.6146451990146051,null,0.6146451990146051,0.6146451990146051,null,0.6146451990146051,0.6458121193102004,null,0.6146451990146051,0.6146451990146051,null,0.6146451990146051,0.6488288228995088,null,0.36464705837890266,0.36464705837890266,null,0.36464705837890266,0.4421741984446388,null,0.4421741984446388,0.4421741984446388,null,0.4421741984446388,0.45923860466213057,null,0.4421741984446388,0.4421741984446388,null,0.4421741984446388,0.4833907567713829,null,0.23793154808707015,0.23793154808707015,null,0.23793154808707015,0.452779216987931,null,0.2361559543033197,0.2361559543033197,null,0.2361559543033197,0.28699956126621406,null,0.28699956126621406,0.28699956126621406,null,0.28699956126621406,0.304497691094078,null,0.304497691094078,0.304497691094078,null,0.304497691094078,0.31738762692871814,null,0.31738762692871814,0.31738762692871814,null,0.31738762692871814,0.3969658059390979,null,0.3969658059390979,0.3969658059390979,null,0.3969658059390979,0.40290523216105223,null,0.40290523216105223,0.40290523216105223,null,0.40290523216105223,0.4216618870988009,null,0.4216618870988009,0.4216618870988009,null,0.4216618870988009,0.4632562583327684,null,0.4632562583327684,0.4632562583327684,null,0.4632562583327684,0.4659960613117373,null,0.4632562583327684,0.4632562583327684,null,0.4632562583327684,0.46690082559043106,null,0.4216618870988009,0.4216618870988009,null,0.4216618870988009,0.46834497264821806,null,0.40290523216105223,0.40290523216105223,null,0.40290523216105223,0.45410863444049115,null,0.3969658059390979,0.3969658059390979,null,0.3969658059390979,0.4473660775039391,null,0.31738762692871814,0.31738762692871814,null,0.31738762692871814,0.41096994267887166,null,0.41096994267887166,0.41096994267887166,null,0.41096994267887166,0.4127520587251042,null,0.4127520587251042,0.4127520587251042,null,0.4127520587251042,0.4225705949660543,null,0.4225705949660543,0.4225705949660543,null,0.4225705949660543,0.42808904065600334,null,0.42808904065600334,0.42808904065600334,null,0.42808904065600334,0.43102721662144305,null,0.43102721662144305,0.43102721662144305,null,0.43102721662144305,0.4355838076877109,null,0.43102721662144305,0.43102721662144305,null,0.43102721662144305,0.4365188586608361,null,0.42808904065600334,0.42808904065600334,null,0.42808904065600334,0.4492774664688528,null,0.4225705949660543,0.4225705949660543,null,0.4225705949660543,0.44749344169490046,null,0.4127520587251042,0.4127520587251042,null,0.4127520587251042,0.4318694680889018,null,0.41096994267887166,0.41096994267887166,null,0.41096994267887166,0.4266190902191562,null,0.304497691094078,0.304497691094078,null,0.304497691094078,0.38235974764121655,null,0.38235974764121655,0.38235974764121655,null,0.38235974764121655,0.43671547440696434,null,0.38235974764121655,0.38235974764121655,null,0.38235974764121655,0.45627313845138706,null,0.28699956126621406,0.28699956126621406,null,0.28699956126621406,0.4371015940904023,null,0.21406130508000185,0.21406130508000185,null,0.21406130508000185,0.33999526508993444,null,0.33999526508993444,0.33999526508993444,null,0.33999526508993444,0.48180101969391825,null,0.33999526508993444,0.33999526508993444,null,0.33999526508993444,0.49652774342521666,null,0.19809795806711084,0.19809795806711084,null,0.19809795806711084,0.4869678095171477,null,0.19158557364369816,0.19158557364369816,null,0.19158557364369816,0.2248279140464865,null,0.2248279140464865,0.2248279140464865,null,0.2248279140464865,0.2610807216708177,null,0.2610807216708177,0.2610807216708177,null,0.2610807216708177,0.27042893414975466,null,0.27042893414975466,0.27042893414975466,null,0.27042893414975466,0.2766914789983884,null,0.2766914789983884,0.2766914789983884,null,0.2766914789983884,0.28560367672819803,null,0.28560367672819803,0.28560367672819803,null,0.28560367672819803,0.3354178904124179,null,0.3354178904124179,0.3354178904124179,null,0.3354178904124179,0.4776338483933517,null,0.4776338483933517,0.4776338483933517,null,0.4776338483933517,0.5034518366560025,null,0.5034518366560025,0.5034518366560025,null,0.5034518366560025,0.5161583866776471,null,0.5161583866776471,0.5161583866776471,null,0.5161583866776471,0.6294033601992913,null,0.5161583866776471,0.5161583866776471,null,0.5161583866776471,0.6500557862716309,null,0.5034518366560025,0.5034518366560025,null,0.5034518366560025,0.5911099644502241,null,0.4776338483933517,0.4776338483933517,null,0.4776338483933517,0.5513509574782474,null,0.5513509574782474,0.5513509574782474,null,0.5513509574782474,0.6500787300019593,null,0.5513509574782474,0.5513509574782474,null,0.5513509574782474,0.6828737300855477,null,0.3354178904124179,0.3354178904124179,null,0.3354178904124179,0.577269041521034,null,0.28560367672819803,0.28560367672819803,null,0.28560367672819803,0.62249548369179,null,0.2766914789983884,0.2766914789983884,null,0.2766914789983884,0.43239450455336415,null,0.43239450455336415,0.43239450455336415,null,0.43239450455336415,0.45272525069192804,null,0.45272525069192804,0.45272525069192804,null,0.45272525069192804,0.592068898837347,null,0.45272525069192804,0.45272525069192804,null,0.45272525069192804,0.5932797728131397,null,0.43239450455336415,0.43239450455336415,null,0.43239450455336415,0.6701207635150377,null,0.27042893414975466,0.27042893414975466,null,0.27042893414975466,0.3728280114307067,null,0.3728280114307067,0.3728280114307067,null,0.3728280114307067,0.43959338078690047,null,0.43959338078690047,0.43959338078690047,null,0.43959338078690047,0.4564327903409569,null,0.4564327903409569,0.4564327903409569,null,0.4564327903409569,0.4730426778200292,null,0.4564327903409569,0.4564327903409569,null,0.4564327903409569,0.47730679891987793,null,0.43959338078690047,0.43959338078690047,null,0.43959338078690047,0.4605791310248339,null,0.3728280114307067,0.3728280114307067,null,0.3728280114307067,0.4652151964970418,null,0.2610807216708177,0.2610807216708177,null,0.2610807216708177,0.35666292539866723,null,0.35666292539866723,0.35666292539866723,null,0.35666292539866723,0.6067740358804642,null,0.35666292539866723,0.35666292539866723,null,0.35666292539866723,0.6531173461049147,null,0.2248279140464865,0.2248279140464865,null,0.2248279140464865,0.45129447415392865,null,0.45129447415392865,0.45129447415392865,null,0.45129447415392865,0.5241676676805034,null,0.5241676676805034,0.5241676676805034,null,0.5241676676805034,0.5533988182749252,null,0.5533988182749252,0.5533988182749252,null,0.5533988182749252,0.5865483958152898,null,0.5533988182749252,0.5533988182749252,null,0.5533988182749252,0.5910094413352508,null,0.5241676676805034,0.5241676676805034,null,0.5241676676805034,0.5837452958133902,null,0.45129447415392865,0.45129447415392865,null,0.45129447415392865,0.5704104394519041,null,0.5704104394519041,0.5704104394519041,null,0.5704104394519041,0.5991660094737118,null,0.5991660094737118,0.5991660094737118,null,0.5991660094737118,0.6224946572988276,null,0.6224946572988276,0.6224946572988276,null,0.6224946572988276,0.626844666666846,null,0.626844666666846,0.626844666666846,null,0.626844666666846,0.6377018298691772,null,0.6377018298691772,0.6377018298691772,null,0.6377018298691772,0.6395246294596761,null,0.6395246294596761,0.6395246294596761,null,0.6395246294596761,0.6458565711767141,null,0.6395246294596761,0.6395246294596761,null,0.6395246294596761,0.6505294904181935,null,0.6377018298691772,0.6377018298691772,null,0.6377018298691772,0.6486359757162001,null,0.626844666666846,0.626844666666846,null,0.626844666666846,0.653693903854194,null,0.6224946572988276,0.6224946572988276,null,0.6224946572988276,0.6394099564958368,null,0.5991660094737118,0.5991660094737118,null,0.5991660094737118,0.6288104509667072,null,0.6288104509667072,0.6288104509667072,null,0.6288104509667072,0.642555135036015,null,0.642555135036015,0.642555135036015,null,0.642555135036015,0.6481110308398847,null,0.6481110308398847,0.6481110308398847,null,0.6481110308398847,0.6499263637987933,null,0.6499263637987933,0.6499263637987933,null,0.6499263637987933,0.6544551366636284,null,0.6544551366636284,0.6544551366636284,null,0.6544551366636284,0.6599009956988167,null,0.6544551366636284,0.6544551366636284,null,0.6544551366636284,0.6653679287551075,null,0.6499263637987933,0.6499263637987933,null,0.6499263637987933,0.6562746724880415,null,0.6481110308398847,0.6481110308398847,null,0.6481110308398847,0.6590416987673398,null,0.642555135036015,0.642555135036015,null,0.642555135036015,0.660019107984118,null,0.6288104509667072,0.6288104509667072,null,0.6288104509667072,0.6563437832388853,null,0.5704104394519041,0.5704104394519041,null,0.5704104394519041,0.6463757749519665,null,0.6463757749519665,0.6463757749519665,null,0.6463757749519665,0.6628901076264517,null,0.6628901076264517,0.6628901076264517,null,0.6628901076264517,0.6680790688614695,null,0.6680790688614695,0.6680790688614695,null,0.6680790688614695,0.6977628433996971,null,0.6680790688614695,0.6680790688614695,null,0.6680790688614695,0.7102104367885531,null,0.6628901076264517,0.6628901076264517,null,0.6628901076264517,0.6977263720738317,null,0.6463757749519665,0.6463757749519665,null,0.6463757749519665,0.9228226864407314,null,0.15056473185271696,0.15056473185271696,null,0.15056473185271696,0.46438185063728854,null],\"y\":[null,null,8.923297119140624,39.0,null,39.0,39.0,null,8.923297119140624,-21.15340576171875,null,-21.15340576171875,-21.15340576171875,null,-21.15340576171875,-3.3068115234374993,null,-3.3068115234374993,-3.3068115234374993,null,-3.3068115234374993,10.829736328125001,null,10.829736328125001,10.829736328125001,null,10.829736328125001,15.159472656250001,null,15.159472656250001,15.159472656250001,null,15.159472656250001,21.868945312500003,null,21.868945312500003,21.868945312500003,null,21.868945312500003,30.590625000000003,null,30.590625000000003,30.590625000000003,null,30.590625000000003,32.581250000000004,null,32.581250000000004,32.581250000000004,null,32.581250000000004,34.612500000000004,null,34.612500000000004,34.612500000000004,null,34.612500000000004,36.075,null,36.075,36.075,null,36.075,37.05,null,37.05,37.05,null,37.05,37.7,null,37.7,37.7,null,37.05,36.4,null,36.4,36.4,null,36.075,35.1,null,35.1,35.1,null,34.612500000000004,33.150000000000006,null,33.150000000000006,33.150000000000006,null,33.150000000000006,33.800000000000004,null,33.800000000000004,33.800000000000004,null,33.150000000000006,32.5,null,32.5,32.5,null,32.581250000000004,30.550000000000004,null,30.550000000000004,30.550000000000004,null,30.550000000000004,31.200000000000003,null,31.200000000000003,31.200000000000003,null,30.550000000000004,29.900000000000002,null,29.900000000000002,29.900000000000002,null,30.590625000000003,28.6,null,28.6,28.6,null,21.868945312500003,13.147265625000001,null,13.147265625000001,13.147265625000001,null,13.147265625000001,15.894531250000002,null,15.894531250000002,15.894531250000002,null,15.894531250000002,19.439062500000002,null,19.439062500000002,19.439062500000002,null,19.439062500000002,23.31875,null,23.31875,23.31875,null,23.31875,24.5375,null,24.5375,24.5375,null,24.5375,25.674999999999997,null,25.674999999999997,25.674999999999997,null,25.674999999999997,26.65,null,26.65,26.65,null,26.65,27.3,null,27.3,27.3,null,26.65,26.0,null,26.0,26.0,null,25.674999999999997,24.7,null,24.7,24.7,null,24.5375,23.400000000000002,null,23.400000000000002,23.400000000000002,null,23.31875,22.1,null,22.1,22.1,null,19.439062500000002,15.559375000000001,null,15.559375000000001,15.559375000000001,null,15.559375000000001,16.81875,null,16.81875,16.81875,null,16.81875,18.0375,null,18.0375,18.0375,null,18.0375,19.174999999999997,null,19.174999999999997,19.174999999999997,null,19.174999999999997,20.15,null,20.15,20.15,null,20.15,20.8,null,20.8,20.8,null,20.15,19.5,null,19.5,19.5,null,19.174999999999997,18.2,null,18.2,18.2,null,18.0375,16.900000000000002,null,16.900000000000002,16.900000000000002,null,16.81875,15.600000000000001,null,15.600000000000001,15.600000000000001,null,15.559375000000001,14.3,null,14.3,14.3,null,15.894531250000002,12.350000000000001,null,12.350000000000001,12.350000000000001,null,12.350000000000001,13.0,null,13.0,13.0,null,12.350000000000001,11.700000000000001,null,11.700000000000001,11.700000000000001,null,13.147265625000001,10.4,null,10.4,10.4,null,15.159472656250001,8.45,null,8.45,8.45,null,8.45,9.1,null,9.1,9.1,null,8.45,7.800000000000001,null,7.800000000000001,7.800000000000001,null,10.829736328125001,6.5,null,6.5,6.5,null,-3.3068115234374993,-17.443359375,null,-17.443359375,-17.443359375,null,-17.443359375,-10.293359375,null,-10.293359375,-10.293359375,null,-10.293359375,-6.93671875,null,-6.93671875,-6.93671875,null,-6.93671875,-3.3109375,null,-3.3109375,-3.3109375,null,-3.3109375,-1.096875,null,-1.096875,-1.096875,null,-1.096875,0.4062500000000001,null,0.4062500000000001,0.4062500000000001,null,0.4062500000000001,2.1125000000000003,null,2.1125000000000003,2.1125000000000003,null,2.1125000000000003,3.575,null,3.575,3.575,null,3.575,4.550000000000001,null,4.550000000000001,4.550000000000001,null,4.550000000000001,5.2,null,5.2,5.2,null,4.550000000000001,3.9000000000000004,null,3.9000000000000004,3.9000000000000004,null,3.575,2.6,null,2.6,2.6,null,2.1125000000000003,0.65,null,0.65,0.65,null,0.65,1.3,null,1.3,1.3,null,0.65,0.0,null,0.0,0.0,null,0.4062500000000001,-1.3,null,-1.3,-1.3,null,-1.096875,-2.6,null,-2.6,-2.6,null,-3.3109375,-5.525,null,-5.525,-5.525,null,-5.525,-4.550000000000001,null,-4.550000000000001,-4.550000000000001,null,-4.550000000000001,-3.9000000000000004,null,-3.9000000000000004,-3.9000000000000004,null,-4.550000000000001,-5.2,null,-5.2,-5.2,null,-5.525,-6.5,null,-6.5,-6.5,null,-6.93671875,-10.5625,null,-10.5625,-10.5625,null,-10.5625,-9.425,null,-9.425,-9.425,null,-9.425,-8.45,null,-8.45,-8.45,null,-8.45,-7.800000000000001,null,-7.800000000000001,-7.800000000000001,null,-8.45,-9.1,null,-9.1,-9.1,null,-9.425,-10.4,null,-10.4,-10.4,null,-10.5625,-11.700000000000001,null,-11.700000000000001,-11.700000000000001,null,-10.293359375,-13.65,null,-13.65,-13.65,null,-13.65,-13.0,null,-13.0,-13.0,null,-13.65,-14.3,null,-14.3,-14.3,null,-17.443359375,-24.593359375000002,null,-24.593359375000002,-24.593359375000002,null,-24.593359375000002,-17.225,null,-17.225,-17.225,null,-17.225,-16.25,null,-16.25,-16.25,null,-16.25,-15.600000000000001,null,-15.600000000000001,-15.600000000000001,null,-16.25,-16.900000000000002,null,-16.900000000000002,-16.900000000000002,null,-17.225,-18.2,null,-18.2,-18.2,null,-24.593359375000002,-31.961718750000003,null,-31.961718750000003,-31.961718750000003,null,-31.961718750000003,-27.360937500000002,null,-27.360937500000002,-27.360937500000002,null,-27.360937500000002,-23.481250000000003,null,-23.481250000000003,-23.481250000000003,null,-23.481250000000003,-22.262500000000003,null,-22.262500000000003,-22.262500000000003,null,-22.262500000000003,-21.125,null,-21.125,-21.125,null,-21.125,-20.15,null,-20.15,-20.15,null,-20.15,-19.5,null,-19.5,-19.5,null,-20.15,-20.8,null,-20.8,-20.8,null,-21.125,-22.1,null,-22.1,-22.1,null,-22.262500000000003,-23.400000000000002,null,-23.400000000000002,-23.400000000000002,null,-23.481250000000003,-24.7,null,-24.7,-24.7,null,-27.360937500000002,-31.240625,null,-31.240625,-31.240625,null,-31.240625,-29.981250000000003,null,-29.981250000000003,-29.981250000000003,null,-29.981250000000003,-28.762500000000003,null,-28.762500000000003,-28.762500000000003,null,-28.762500000000003,-27.625,null,-27.625,-27.625,null,-27.625,-26.65,null,-26.65,-26.65,null,-26.65,-26.0,null,-26.0,-26.0,null,-26.65,-27.3,null,-27.3,-27.3,null,-27.625,-28.6,null,-28.6,-28.6,null,-28.762500000000003,-29.900000000000002,null,-29.900000000000002,-29.900000000000002,null,-29.981250000000003,-31.200000000000003,null,-31.200000000000003,-31.200000000000003,null,-31.240625,-32.5,null,-32.5,-32.5,null,-31.961718750000003,-36.5625,null,-36.5625,-36.5625,null,-36.5625,-35.425,null,-35.425,-35.425,null,-35.425,-34.45,null,-34.45,-34.45,null,-34.45,-33.800000000000004,null,-33.800000000000004,-33.800000000000004,null,-34.45,-35.1,null,-35.1,-35.1,null,-35.425,-36.4,null,-36.4,-36.4,null,-36.5625,-37.7,null,-37.7,-37.7,null,-21.15340576171875,-39.0,null,-39.0,-39.0,null],\"type\":\"scatter\"},{\"hoverinfo\":\"text\",\"marker\":{\"color\":\"black\",\"size\":3,\"symbol\":\"circle\"},\"mode\":\"markers\",\"showlegend\":false,\"text\":[\"root\",\"Shrew\",\"Eutheria.2\",\"Boreoeutheria\",\"Laurasiatheria.4\",\"Laurasiatheria.3\",\"Laurasiatheria.2\",\"Laurasiatheria\",\"Carnivora\",\"Caniformia.3\",\"Caniformia.2\",\"Ursidae\",\"Giant_panda\",\"Polar_bear\",\"Ferret\",\"Canidae\",\"Dingo\",\"Red_fox\",\"Felidae\",\"Cat\",\"Tiger\",\"Horse\",\"Artiodactyla.3\",\"Artiodactyla.2\",\"Artiodactyla\",\"Pecora.2\",\"Pecora\",\"Bovidae\",\"Bovinae\",\"Wild_yak\",\"American_bison\",\"Goat\",\"Siberian_musk_deer\",\"Yarkand_deer\",\"Cetacea\",\"Odontoceti.3\",\"Odontoceti.2\",\"Odontoceti\",\"Monodontidae\",\"Narwhal\",\"Beluga_whale\",\"Vaquita\",\"Dolphin\",\"Sperm_whale\",\"Blue_whale\",\"Suina\",\"Pig\",\"Chacoan_peccary\",\"Arabian_camel\",\"Chiroptera\",\"Greater_horseshoe_bat\",\"Megabat\",\"Hedgehog\",\"Euarchontoglires\",\"Glires\",\"Rodentia.3\",\"Rodentia.2\",\"Rodentia\",\"Myomorpha\",\"Muroidea\",\"Cricetidae.2\",\"Cricetidae\",\"Golden_Hamster\",\"Prairie_vole\",\"Northern_American_deer_mouse\",\"Murinae\",\"Ryukyu_mouse\",\"Rat\",\"Lesser_Egyptian_jerboa\",\"Kangaroo_rat\",\"Hystricomorpha.2\",\"Hystricomorpha\",\"Long_tailed_chinchilla\",\"Degu\",\"Guinea_Pig\",\"Sciuridae\",\"Marmotini.3\",\"Marmotini\",\"Squirrel\",\"Arctic_ground_squirrel\",\"Alpine_marmot\",\"Eurasian_red_squirrel\",\"Lagomorpha\",\"Rabbit\",\"Pika\",\"Primates\",\"Lemuriformes.2\",\"Lemuriformes\",\"Coquerel's_sifaka\",\"Greater_bamboo_lemur\",\"Mouse_Lemur\",\"Simiiformes\",\"Catarrhini\",\"Hominoidea\",\"Hominidae\",\"Homininae.2\",\"Homininae\",\"Human\",\"Chimpanzee\",\"Gorilla\",\"Sumatran_orangutan\",\"Gibbon\",\"Cercopithecidae\",\"Cercopithecinae.5\",\"Cercopithecinae.4\",\"Cercopithecinae.3\",\"Cercopithecinae\",\"Sooty_mangabey\",\"Drill\",\"Olive_baboon\",\"Pig_tailed_macaque\",\"Vervet_AGM\",\"Black_snub_nosed_monkey\",\"Platyrrhini.2\",\"Platyrrhini\",\"Cebidae\",\"Panamanian_white_faced_capuchin\",\"Bolivian_squirrel_monkey\",\"Ma's_night_monkey\",\"White_tufted_ear_marmoset\",\"Elephant\"],\"x\":[0,0.10965453576765488,0.15056473185271696,0.19158557364369816,0.19809795806711084,0.21406130508000185,0.2361559543033197,0.23793154808707015,0.36464705837890266,0.3722847284012639,0.40370665411773426,0.46006874242840085,0.48285418900231875,0.4948940109355859,0.5529336393486095,0.6146451990146051,0.6458121193102004,0.6488288228995088,0.4421741984446388,0.45923860466213057,0.4833907567713829,0.452779216987931,0.28699956126621406,0.304497691094078,0.31738762692871814,0.3969658059390979,0.40290523216105223,0.4216618870988009,0.4632562583327684,0.4659960613117373,0.46690082559043106,0.46834497264821806,0.45410863444049115,0.4473660775039391,0.41096994267887166,0.4127520587251042,0.4225705949660543,0.42808904065600334,0.43102721662144305,0.4355838076877109,0.4365188586608361,0.4492774664688528,0.44749344169490046,0.4318694680889018,0.4266190902191562,0.38235974764121655,0.43671547440696434,0.45627313845138706,0.4371015940904023,0.33999526508993444,0.48180101969391825,0.49652774342521666,0.4869678095171477,0.2248279140464865,0.2610807216708177,0.27042893414975466,0.2766914789983884,0.28560367672819803,0.3354178904124179,0.4776338483933517,0.5034518366560025,0.5161583866776471,0.6294033601992913,0.6500557862716309,0.5911099644502241,0.5513509574782474,0.6500787300019593,0.6828737300855477,0.577269041521034,0.62249548369179,0.43239450455336415,0.45272525069192804,0.592068898837347,0.5932797728131397,0.6701207635150377,0.3728280114307067,0.43959338078690047,0.4564327903409569,0.4730426778200292,0.47730679891987793,0.4605791310248339,0.4652151964970418,0.35666292539866723,0.6067740358804642,0.6531173461049147,0.45129447415392865,0.5241676676805034,0.5533988182749252,0.5865483958152898,0.5910094413352508,0.5837452958133902,0.5704104394519041,0.5991660094737118,0.6224946572988276,0.626844666666846,0.6377018298691772,0.6395246294596761,0.6458565711767141,0.6505294904181935,0.6486359757162001,0.653693903854194,0.6394099564958368,0.6288104509667072,0.642555135036015,0.6481110308398847,0.6499263637987933,0.6544551366636284,0.6599009956988167,0.6653679287551075,0.6562746724880415,0.6590416987673398,0.660019107984118,0.6563437832388853,0.6463757749519665,0.6628901076264517,0.6680790688614695,0.6977628433996971,0.7102104367885531,0.6977263720738317,0.9228226864407314,0.46438185063728854],\"y\":[8.923297119140624,39.0,-21.15340576171875,-3.3068115234374993,10.829736328125001,15.159472656250001,21.868945312500003,30.590625000000003,32.581250000000004,34.612500000000004,36.075,37.05,37.7,36.4,35.1,33.150000000000006,33.800000000000004,32.5,30.550000000000004,31.200000000000003,29.900000000000002,28.6,13.147265625000001,15.894531250000002,19.439062500000002,23.31875,24.5375,25.674999999999997,26.65,27.3,26.0,24.7,23.400000000000002,22.1,15.559375000000001,16.81875,18.0375,19.174999999999997,20.15,20.8,19.5,18.2,16.900000000000002,15.600000000000001,14.3,12.350000000000001,13.0,11.700000000000001,10.4,8.45,9.1,7.800000000000001,6.5,-17.443359375,-10.293359375,-6.93671875,-3.3109375,-1.096875,0.4062500000000001,2.1125000000000003,3.575,4.550000000000001,5.2,3.9000000000000004,2.6,0.65,1.3,0.0,-1.3,-2.6,-5.525,-4.550000000000001,-3.9000000000000004,-5.2,-6.5,-10.5625,-9.425,-8.45,-7.800000000000001,-9.1,-10.4,-11.700000000000001,-13.65,-13.0,-14.3,-24.593359375000002,-17.225,-16.25,-15.600000000000001,-16.900000000000002,-18.2,-31.961718750000003,-27.360937500000002,-23.481250000000003,-22.262500000000003,-21.125,-20.15,-19.5,-20.8,-22.1,-23.400000000000002,-24.7,-31.240625,-29.981250000000003,-28.762500000000003,-27.625,-26.65,-26.0,-27.3,-28.6,-29.900000000000002,-31.200000000000003,-32.5,-36.5625,-35.425,-34.45,-33.800000000000004,-35.1,-36.4,-37.7,-39.0],\"type\":\"scatter\"}],                        {\"annotations\":[{\"font\":{\"family\":\"Inconsolata, monospace\",\"size\":12},\"showarrow\":false,\"text\":\"Shrew\",\"textangle\":0,\"x\":0.13272510292867318,\"xanchor\":\"left\",\"xref\":\"x\",\"y\":39.0,\"yref\":\"y\"},{\"font\":{\"family\":\"Inconsolata, monospace\",\"size\":12},\"showarrow\":false,\"text\":\"Giant_panda\",\"textangle\":0,\"x\":0.505924756163337,\"xanchor\":\"left\",\"xref\":\"x\",\"y\":37.7,\"yref\":\"y\"},{\"font\":{\"family\":\"Inconsolata, monospace\",\"size\":12},\"showarrow\":false,\"text\":\"Polar_bear\",\"textangle\":0,\"x\":0.5179645780966041,\"xanchor\":\"left\",\"xref\":\"x\",\"y\":36.4,\"yref\":\"y\"},{\"font\":{\"family\":\"Inconsolata, monospace\",\"size\":12},\"showarrow\":false,\"text\":\"Ferret\",\"textangle\":0,\"x\":0.5760042065096278,\"xanchor\":\"left\",\"xref\":\"x\",\"y\":35.1,\"yref\":\"y\"},{\"font\":{\"family\":\"Inconsolata, monospace\",\"size\":12},\"showarrow\":false,\"text\":\"Dingo\",\"textangle\":0,\"x\":0.6688826864712187,\"xanchor\":\"left\",\"xref\":\"x\",\"y\":33.800000000000004,\"yref\":\"y\"},{\"font\":{\"family\":\"Inconsolata, monospace\",\"size\":12},\"showarrow\":false,\"text\":\"Red_fox\",\"textangle\":0,\"x\":0.6718993900605271,\"xanchor\":\"left\",\"xref\":\"x\",\"y\":32.5,\"yref\":\"y\"},{\"font\":{\"family\":\"Inconsolata, monospace\",\"size\":12},\"showarrow\":false,\"text\":\"Cat\",\"textangle\":0,\"x\":0.48230917182314886,\"xanchor\":\"left\",\"xref\":\"x\",\"y\":31.200000000000003,\"yref\":\"y\"},{\"font\":{\"family\":\"Inconsolata, monospace\",\"size\":12},\"showarrow\":false,\"text\":\"Tiger\",\"textangle\":0,\"x\":0.5064613239324012,\"xanchor\":\"left\",\"xref\":\"x\",\"y\":29.900000000000002,\"yref\":\"y\"},{\"font\":{\"family\":\"Inconsolata, monospace\",\"size\":12},\"showarrow\":false,\"text\":\"Horse\",\"textangle\":0,\"x\":0.4758497841489493,\"xanchor\":\"left\",\"xref\":\"x\",\"y\":28.6,\"yref\":\"y\"},{\"font\":{\"family\":\"Inconsolata, monospace\",\"size\":12},\"showarrow\":false,\"text\":\"Wild_yak\",\"textangle\":0,\"x\":0.4890666284727556,\"xanchor\":\"left\",\"xref\":\"x\",\"y\":27.3,\"yref\":\"y\"},{\"font\":{\"family\":\"Inconsolata, monospace\",\"size\":12},\"showarrow\":false,\"text\":\"American_bison\",\"textangle\":0,\"x\":0.48997139275144935,\"xanchor\":\"left\",\"xref\":\"x\",\"y\":26.0,\"yref\":\"y\"},{\"font\":{\"family\":\"Inconsolata, monospace\",\"size\":12},\"showarrow\":false,\"text\":\"Goat\",\"textangle\":0,\"x\":0.49141553980923636,\"xanchor\":\"left\",\"xref\":\"x\",\"y\":24.7,\"yref\":\"y\"},{\"font\":{\"family\":\"Inconsolata, monospace\",\"size\":12},\"showarrow\":false,\"text\":\"Siberian_musk_deer\",\"textangle\":0,\"x\":0.47717920160150945,\"xanchor\":\"left\",\"xref\":\"x\",\"y\":23.400000000000002,\"yref\":\"y\"},{\"font\":{\"family\":\"Inconsolata, monospace\",\"size\":12},\"showarrow\":false,\"text\":\"Yarkand_deer\",\"textangle\":0,\"x\":0.4704366446649574,\"xanchor\":\"left\",\"xref\":\"x\",\"y\":22.1,\"yref\":\"y\"},{\"font\":{\"family\":\"Inconsolata, monospace\",\"size\":12},\"showarrow\":false,\"text\":\"Narwhal\",\"textangle\":0,\"x\":0.4586543748487292,\"xanchor\":\"left\",\"xref\":\"x\",\"y\":20.8,\"yref\":\"y\"},{\"font\":{\"family\":\"Inconsolata, monospace\",\"size\":12},\"showarrow\":false,\"text\":\"Beluga_whale\",\"textangle\":0,\"x\":0.4595894258218544,\"xanchor\":\"left\",\"xref\":\"x\",\"y\":19.5,\"yref\":\"y\"},{\"font\":{\"family\":\"Inconsolata, monospace\",\"size\":12},\"showarrow\":false,\"text\":\"Vaquita\",\"textangle\":0,\"x\":0.4723480336298711,\"xanchor\":\"left\",\"xref\":\"x\",\"y\":18.2,\"yref\":\"y\"},{\"font\":{\"family\":\"Inconsolata, monospace\",\"size\":12},\"showarrow\":false,\"text\":\"Dolphin\",\"textangle\":0,\"x\":0.47056400885591876,\"xanchor\":\"left\",\"xref\":\"x\",\"y\":16.900000000000002,\"yref\":\"y\"},{\"font\":{\"family\":\"Inconsolata, monospace\",\"size\":12},\"showarrow\":false,\"text\":\"Sperm_whale\",\"textangle\":0,\"x\":0.4549400352499201,\"xanchor\":\"left\",\"xref\":\"x\",\"y\":15.600000000000001,\"yref\":\"y\"},{\"font\":{\"family\":\"Inconsolata, monospace\",\"size\":12},\"showarrow\":false,\"text\":\"Blue_whale\",\"textangle\":0,\"x\":0.4496896573801745,\"xanchor\":\"left\",\"xref\":\"x\",\"y\":14.3,\"yref\":\"y\"},{\"font\":{\"family\":\"Inconsolata, monospace\",\"size\":12},\"showarrow\":false,\"text\":\"Pig\",\"textangle\":0,\"x\":0.45978604156798264,\"xanchor\":\"left\",\"xref\":\"x\",\"y\":13.0,\"yref\":\"y\"},{\"font\":{\"family\":\"Inconsolata, monospace\",\"size\":12},\"showarrow\":false,\"text\":\"Chacoan_peccary\",\"textangle\":0,\"x\":0.47934370561240536,\"xanchor\":\"left\",\"xref\":\"x\",\"y\":11.700000000000001,\"yref\":\"y\"},{\"font\":{\"family\":\"Inconsolata, monospace\",\"size\":12},\"showarrow\":false,\"text\":\"Arabian_camel\",\"textangle\":0,\"x\":0.4601721612514206,\"xanchor\":\"left\",\"xref\":\"x\",\"y\":10.4,\"yref\":\"y\"},{\"font\":{\"family\":\"Inconsolata, monospace\",\"size\":12},\"showarrow\":false,\"text\":\"Greater_horseshoe_bat\",\"textangle\":0,\"x\":0.5048715868549365,\"xanchor\":\"left\",\"xref\":\"x\",\"y\":9.1,\"yref\":\"y\"},{\"font\":{\"family\":\"Inconsolata, monospace\",\"size\":12},\"showarrow\":false,\"text\":\"Megabat\",\"textangle\":0,\"x\":0.519598310586235,\"xanchor\":\"left\",\"xref\":\"x\",\"y\":7.800000000000001,\"yref\":\"y\"},{\"font\":{\"family\":\"Inconsolata, monospace\",\"size\":12},\"showarrow\":false,\"text\":\"Hedgehog\",\"textangle\":0,\"x\":0.510038376678166,\"xanchor\":\"left\",\"xref\":\"x\",\"y\":6.5,\"yref\":\"y\"},{\"font\":{\"family\":\"Inconsolata, monospace\",\"size\":12},\"showarrow\":false,\"text\":\"Golden_Hamster\",\"textangle\":0,\"x\":0.6524739273603096,\"xanchor\":\"left\",\"xref\":\"x\",\"y\":5.2,\"yref\":\"y\"},{\"font\":{\"family\":\"Inconsolata, monospace\",\"size\":12},\"showarrow\":false,\"text\":\"Prairie_vole\",\"textangle\":0,\"x\":0.6731263534326491,\"xanchor\":\"left\",\"xref\":\"x\",\"y\":3.9000000000000004,\"yref\":\"y\"},{\"font\":{\"family\":\"Inconsolata, monospace\",\"size\":12},\"showarrow\":false,\"text\":\"Northern_American_deer_mouse\",\"textangle\":0,\"x\":0.6141805316112424,\"xanchor\":\"left\",\"xref\":\"x\",\"y\":2.6,\"yref\":\"y\"},{\"font\":{\"family\":\"Inconsolata, monospace\",\"size\":12},\"showarrow\":false,\"text\":\"Ryukyu_mouse\",\"textangle\":0,\"x\":0.6731492971629776,\"xanchor\":\"left\",\"xref\":\"x\",\"y\":1.3,\"yref\":\"y\"},{\"font\":{\"family\":\"Inconsolata, monospace\",\"size\":12},\"showarrow\":false,\"text\":\"Rat\",\"textangle\":0,\"x\":0.705944297246566,\"xanchor\":\"left\",\"xref\":\"x\",\"y\":0.0,\"yref\":\"y\"},{\"font\":{\"family\":\"Inconsolata, monospace\",\"size\":12},\"showarrow\":false,\"text\":\"Lesser_Egyptian_jerboa\",\"textangle\":0,\"x\":0.6003396086820523,\"xanchor\":\"left\",\"xref\":\"x\",\"y\":-1.3,\"yref\":\"y\"},{\"font\":{\"family\":\"Inconsolata, monospace\",\"size\":12},\"showarrow\":false,\"text\":\"Kangaroo_rat\",\"textangle\":0,\"x\":0.6455660508528083,\"xanchor\":\"left\",\"xref\":\"x\",\"y\":-2.6,\"yref\":\"y\"},{\"font\":{\"family\":\"Inconsolata, monospace\",\"size\":12},\"showarrow\":false,\"text\":\"Long_tailed_chinchilla\",\"textangle\":0,\"x\":0.6151394659983653,\"xanchor\":\"left\",\"xref\":\"x\",\"y\":-3.9000000000000004,\"yref\":\"y\"},{\"font\":{\"family\":\"Inconsolata, monospace\",\"size\":12},\"showarrow\":false,\"text\":\"Degu\",\"textangle\":0,\"x\":0.616350339974158,\"xanchor\":\"left\",\"xref\":\"x\",\"y\":-5.2,\"yref\":\"y\"},{\"font\":{\"family\":\"Inconsolata, monospace\",\"size\":12},\"showarrow\":false,\"text\":\"Guinea_Pig\",\"textangle\":0,\"x\":0.693191330676056,\"xanchor\":\"left\",\"xref\":\"x\",\"y\":-6.5,\"yref\":\"y\"},{\"font\":{\"family\":\"Inconsolata, monospace\",\"size\":12},\"showarrow\":false,\"text\":\"Squirrel\",\"textangle\":0,\"x\":0.4961132449810475,\"xanchor\":\"left\",\"xref\":\"x\",\"y\":-7.800000000000001,\"yref\":\"y\"},{\"font\":{\"family\":\"Inconsolata, monospace\",\"size\":12},\"showarrow\":false,\"text\":\"Arctic_ground_squirrel\",\"textangle\":0,\"x\":0.5003773660808962,\"xanchor\":\"left\",\"xref\":\"x\",\"y\":-9.1,\"yref\":\"y\"},{\"font\":{\"family\":\"Inconsolata, monospace\",\"size\":12},\"showarrow\":false,\"text\":\"Alpine_marmot\",\"textangle\":0,\"x\":0.4836496981858522,\"xanchor\":\"left\",\"xref\":\"x\",\"y\":-10.4,\"yref\":\"y\"},{\"font\":{\"family\":\"Inconsolata, monospace\",\"size\":12},\"showarrow\":false,\"text\":\"Eurasian_red_squirrel\",\"textangle\":0,\"x\":0.4882857636580601,\"xanchor\":\"left\",\"xref\":\"x\",\"y\":-11.700000000000001,\"yref\":\"y\"},{\"font\":{\"family\":\"Inconsolata, monospace\",\"size\":12},\"showarrow\":false,\"text\":\"Rabbit\",\"textangle\":0,\"x\":0.6298446030414825,\"xanchor\":\"left\",\"xref\":\"x\",\"y\":-13.0,\"yref\":\"y\"},{\"font\":{\"family\":\"Inconsolata, monospace\",\"size\":12},\"showarrow\":false,\"text\":\"Pika\",\"textangle\":0,\"x\":0.676187913265933,\"xanchor\":\"left\",\"xref\":\"x\",\"y\":-14.3,\"yref\":\"y\"},{\"font\":{\"family\":\"Inconsolata, monospace\",\"size\":12},\"showarrow\":false,\"text\":\"Coquerel's_sifaka\",\"textangle\":0,\"x\":0.6096189629763081,\"xanchor\":\"left\",\"xref\":\"x\",\"y\":-15.600000000000001,\"yref\":\"y\"},{\"font\":{\"family\":\"Inconsolata, monospace\",\"size\":12},\"showarrow\":false,\"text\":\"Greater_bamboo_lemur\",\"textangle\":0,\"x\":0.6140800084962691,\"xanchor\":\"left\",\"xref\":\"x\",\"y\":-16.900000000000002,\"yref\":\"y\"},{\"font\":{\"family\":\"Inconsolata, monospace\",\"size\":12},\"showarrow\":false,\"text\":\"Mouse_Lemur\",\"textangle\":0,\"x\":0.6068158629744085,\"xanchor\":\"left\",\"xref\":\"x\",\"y\":-18.2,\"yref\":\"y\"},{\"font\":{\"family\":\"Inconsolata, monospace\",\"size\":12},\"showarrow\":false,\"text\":\"Human\",\"textangle\":0,\"x\":0.6689271383377324,\"xanchor\":\"left\",\"xref\":\"x\",\"y\":-19.5,\"yref\":\"y\"},{\"font\":{\"family\":\"Inconsolata, monospace\",\"size\":12},\"showarrow\":false,\"text\":\"Chimpanzee\",\"textangle\":0,\"x\":0.6736000575792118,\"xanchor\":\"left\",\"xref\":\"x\",\"y\":-20.8,\"yref\":\"y\"},{\"font\":{\"family\":\"Inconsolata, monospace\",\"size\":12},\"showarrow\":false,\"text\":\"Gorilla\",\"textangle\":0,\"x\":0.6717065428772184,\"xanchor\":\"left\",\"xref\":\"x\",\"y\":-22.1,\"yref\":\"y\"},{\"font\":{\"family\":\"Inconsolata, monospace\",\"size\":12},\"showarrow\":false,\"text\":\"Sumatran_orangutan\",\"textangle\":0,\"x\":0.6767644710152123,\"xanchor\":\"left\",\"xref\":\"x\",\"y\":-23.400000000000002,\"yref\":\"y\"},{\"font\":{\"family\":\"Inconsolata, monospace\",\"size\":12},\"showarrow\":false,\"text\":\"Gibbon\",\"textangle\":0,\"x\":0.6624805236568551,\"xanchor\":\"left\",\"xref\":\"x\",\"y\":-24.7,\"yref\":\"y\"},{\"font\":{\"family\":\"Inconsolata, monospace\",\"size\":12},\"showarrow\":false,\"text\":\"Sooty_mangabey\",\"textangle\":0,\"x\":0.682971562859835,\"xanchor\":\"left\",\"xref\":\"x\",\"y\":-26.0,\"yref\":\"y\"},{\"font\":{\"family\":\"Inconsolata, monospace\",\"size\":12},\"showarrow\":false,\"text\":\"Drill\",\"textangle\":0,\"x\":0.6884384959161258,\"xanchor\":\"left\",\"xref\":\"x\",\"y\":-27.3,\"yref\":\"y\"},{\"font\":{\"family\":\"Inconsolata, monospace\",\"size\":12},\"showarrow\":false,\"text\":\"Olive_baboon\",\"textangle\":0,\"x\":0.6793452396490598,\"xanchor\":\"left\",\"xref\":\"x\",\"y\":-28.6,\"yref\":\"y\"},{\"font\":{\"family\":\"Inconsolata, monospace\",\"size\":12},\"showarrow\":false,\"text\":\"Pig_tailed_macaque\",\"textangle\":0,\"x\":0.682112265928358,\"xanchor\":\"left\",\"xref\":\"x\",\"y\":-29.900000000000002,\"yref\":\"y\"},{\"font\":{\"family\":\"Inconsolata, monospace\",\"size\":12},\"showarrow\":false,\"text\":\"Vervet_AGM\",\"textangle\":0,\"x\":0.6830896751451363,\"xanchor\":\"left\",\"xref\":\"x\",\"y\":-31.200000000000003,\"yref\":\"y\"},{\"font\":{\"family\":\"Inconsolata, monospace\",\"size\":12},\"showarrow\":false,\"text\":\"Black_snub_nosed_monkey\",\"textangle\":0,\"x\":0.6794143503999036,\"xanchor\":\"left\",\"xref\":\"x\",\"y\":-32.5,\"yref\":\"y\"},{\"font\":{\"family\":\"Inconsolata, monospace\",\"size\":12},\"showarrow\":false,\"text\":\"Panamanian_white_faced_capuchin\",\"textangle\":0,\"x\":0.7208334105607154,\"xanchor\":\"left\",\"xref\":\"x\",\"y\":-33.800000000000004,\"yref\":\"y\"},{\"font\":{\"family\":\"Inconsolata, monospace\",\"size\":12},\"showarrow\":false,\"text\":\"Bolivian_squirrel_monkey\",\"textangle\":0,\"x\":0.7332810039495714,\"xanchor\":\"left\",\"xref\":\"x\",\"y\":-35.1,\"yref\":\"y\"},{\"font\":{\"family\":\"Inconsolata, monospace\",\"size\":12},\"showarrow\":false,\"text\":\"Ma's_night_monkey\",\"textangle\":0,\"x\":0.72079693923485,\"xanchor\":\"left\",\"xref\":\"x\",\"y\":-36.4,\"yref\":\"y\"},{\"font\":{\"family\":\"Inconsolata, monospace\",\"size\":12},\"showarrow\":false,\"text\":\"White_tufted_ear_marmoset\",\"textangle\":0,\"x\":0.9458932536017497,\"xanchor\":\"left\",\"xref\":\"x\",\"y\":-37.7,\"yref\":\"y\"},{\"font\":{\"family\":\"Inconsolata, monospace\",\"size\":12},\"showarrow\":false,\"text\":\"Elephant\",\"textangle\":0,\"x\":0.48745241779830684,\"xanchor\":\"left\",\"xref\":\"x\",\"y\":-39.0,\"yref\":\"y\"},{\"ax\":0,\"ay\":0,\"showarrow\":false,\"text\":\"0.09\",\"x\":0.04614113432203657,\"xref\":\"x\",\"y\":-46.09090909090909,\"yref\":\"y\",\"yshift\":10}],\"autosize\":true,\"font\":{\"family\":\"Balto\",\"size\":14},\"height\":1000,\"hovermode\":\"closest\",\"margin\":{\"b\":50,\"l\":50,\"pad\":4,\"r\":50,\"t\":50},\"shapes\":[{\"line\":{\"color\":\"black\",\"width\":1.25},\"name\":\"scale_bar\",\"type\":\"line\",\"x0\":0,\"x1\":0.09228226864407314,\"y0\":-46.09090909090909,\"y1\":-46.09090909090909}],\"showlegend\":false,\"width\":1000,\"xaxis\":{\"visible\":false},\"yaxis\":{\"visible\":false},\"template\":{\"data\":{\"histogram2dcontour\":[{\"type\":\"histogram2dcontour\",\"colorbar\":{\"outlinewidth\":0,\"ticks\":\"\"},\"colorscale\":[[0.0,\"#0d0887\"],[0.1111111111111111,\"#46039f\"],[0.2222222222222222,\"#7201a8\"],[0.3333333333333333,\"#9c179e\"],[0.4444444444444444,\"#bd3786\"],[0.5555555555555556,\"#d8576b\"],[0.6666666666666666,\"#ed7953\"],[0.7777777777777778,\"#fb9f3a\"],[0.8888888888888888,\"#fdca26\"],[1.0,\"#f0f921\"]]}],\"choropleth\":[{\"type\":\"choropleth\",\"colorbar\":{\"outlinewidth\":0,\"ticks\":\"\"}}],\"histogram2d\":[{\"type\":\"histogram2d\",\"colorbar\":{\"outlinewidth\":0,\"ticks\":\"\"},\"colorscale\":[[0.0,\"#0d0887\"],[0.1111111111111111,\"#46039f\"],[0.2222222222222222,\"#7201a8\"],[0.3333333333333333,\"#9c179e\"],[0.4444444444444444,\"#bd3786\"],[0.5555555555555556,\"#d8576b\"],[0.6666666666666666,\"#ed7953\"],[0.7777777777777778,\"#fb9f3a\"],[0.8888888888888888,\"#fdca26\"],[1.0,\"#f0f921\"]]}],\"heatmap\":[{\"type\":\"heatmap\",\"colorbar\":{\"outlinewidth\":0,\"ticks\":\"\"},\"colorscale\":[[0.0,\"#0d0887\"],[0.1111111111111111,\"#46039f\"],[0.2222222222222222,\"#7201a8\"],[0.3333333333333333,\"#9c179e\"],[0.4444444444444444,\"#bd3786\"],[0.5555555555555556,\"#d8576b\"],[0.6666666666666666,\"#ed7953\"],[0.7777777777777778,\"#fb9f3a\"],[0.8888888888888888,\"#fdca26\"],[1.0,\"#f0f921\"]]}],\"heatmapgl\":[{\"type\":\"heatmapgl\",\"colorbar\":{\"outlinewidth\":0,\"ticks\":\"\"},\"colorscale\":[[0.0,\"#0d0887\"],[0.1111111111111111,\"#46039f\"],[0.2222222222222222,\"#7201a8\"],[0.3333333333333333,\"#9c179e\"],[0.4444444444444444,\"#bd3786\"],[0.5555555555555556,\"#d8576b\"],[0.6666666666666666,\"#ed7953\"],[0.7777777777777778,\"#fb9f3a\"],[0.8888888888888888,\"#fdca26\"],[1.0,\"#f0f921\"]]}],\"contourcarpet\":[{\"type\":\"contourcarpet\",\"colorbar\":{\"outlinewidth\":0,\"ticks\":\"\"}}],\"contour\":[{\"type\":\"contour\",\"colorbar\":{\"outlinewidth\":0,\"ticks\":\"\"},\"colorscale\":[[0.0,\"#0d0887\"],[0.1111111111111111,\"#46039f\"],[0.2222222222222222,\"#7201a8\"],[0.3333333333333333,\"#9c179e\"],[0.4444444444444444,\"#bd3786\"],[0.5555555555555556,\"#d8576b\"],[0.6666666666666666,\"#ed7953\"],[0.7777777777777778,\"#fb9f3a\"],[0.8888888888888888,\"#fdca26\"],[1.0,\"#f0f921\"]]}],\"surface\":[{\"type\":\"surface\",\"colorbar\":{\"outlinewidth\":0,\"ticks\":\"\"},\"colorscale\":[[0.0,\"#0d0887\"],[0.1111111111111111,\"#46039f\"],[0.2222222222222222,\"#7201a8\"],[0.3333333333333333,\"#9c179e\"],[0.4444444444444444,\"#bd3786\"],[0.5555555555555556,\"#d8576b\"],[0.6666666666666666,\"#ed7953\"],[0.7777777777777778,\"#fb9f3a\"],[0.8888888888888888,\"#fdca26\"],[1.0,\"#f0f921\"]]}],\"mesh3d\":[{\"type\":\"mesh3d\",\"colorbar\":{\"outlinewidth\":0,\"ticks\":\"\"}}],\"scatter\":[{\"fillpattern\":{\"fillmode\":\"overlay\",\"size\":10,\"solidity\":0.2},\"type\":\"scatter\"}],\"parcoords\":[{\"type\":\"parcoords\",\"line\":{\"colorbar\":{\"outlinewidth\":0,\"ticks\":\"\"}}}],\"scatterpolargl\":[{\"type\":\"scatterpolargl\",\"marker\":{\"colorbar\":{\"outlinewidth\":0,\"ticks\":\"\"}}}],\"bar\":[{\"error_x\":{\"color\":\"#2a3f5f\"},\"error_y\":{\"color\":\"#2a3f5f\"},\"marker\":{\"line\":{\"color\":\"#E5ECF6\",\"width\":0.5},\"pattern\":{\"fillmode\":\"overlay\",\"size\":10,\"solidity\":0.2}},\"type\":\"bar\"}],\"scattergeo\":[{\"type\":\"scattergeo\",\"marker\":{\"colorbar\":{\"outlinewidth\":0,\"ticks\":\"\"}}}],\"scatterpolar\":[{\"type\":\"scatterpolar\",\"marker\":{\"colorbar\":{\"outlinewidth\":0,\"ticks\":\"\"}}}],\"histogram\":[{\"marker\":{\"pattern\":{\"fillmode\":\"overlay\",\"size\":10,\"solidity\":0.2}},\"type\":\"histogram\"}],\"scattergl\":[{\"type\":\"scattergl\",\"marker\":{\"colorbar\":{\"outlinewidth\":0,\"ticks\":\"\"}}}],\"scatter3d\":[{\"type\":\"scatter3d\",\"line\":{\"colorbar\":{\"outlinewidth\":0,\"ticks\":\"\"}},\"marker\":{\"colorbar\":{\"outlinewidth\":0,\"ticks\":\"\"}}}],\"scattermapbox\":[{\"type\":\"scattermapbox\",\"marker\":{\"colorbar\":{\"outlinewidth\":0,\"ticks\":\"\"}}}],\"scatterternary\":[{\"type\":\"scatterternary\",\"marker\":{\"colorbar\":{\"outlinewidth\":0,\"ticks\":\"\"}}}],\"scattercarpet\":[{\"type\":\"scattercarpet\",\"marker\":{\"colorbar\":{\"outlinewidth\":0,\"ticks\":\"\"}}}],\"carpet\":[{\"aaxis\":{\"endlinecolor\":\"#2a3f5f\",\"gridcolor\":\"white\",\"linecolor\":\"white\",\"minorgridcolor\":\"white\",\"startlinecolor\":\"#2a3f5f\"},\"baxis\":{\"endlinecolor\":\"#2a3f5f\",\"gridcolor\":\"white\",\"linecolor\":\"white\",\"minorgridcolor\":\"white\",\"startlinecolor\":\"#2a3f5f\"},\"type\":\"carpet\"}],\"table\":[{\"cells\":{\"fill\":{\"color\":\"#EBF0F8\"},\"line\":{\"color\":\"white\"}},\"header\":{\"fill\":{\"color\":\"#C8D4E3\"},\"line\":{\"color\":\"white\"}},\"type\":\"table\"}],\"barpolar\":[{\"marker\":{\"line\":{\"color\":\"#E5ECF6\",\"width\":0.5},\"pattern\":{\"fillmode\":\"overlay\",\"size\":10,\"solidity\":0.2}},\"type\":\"barpolar\"}],\"pie\":[{\"automargin\":true,\"type\":\"pie\"}]},\"layout\":{\"autotypenumbers\":\"strict\",\"colorway\":[\"#636efa\",\"#EF553B\",\"#00cc96\",\"#ab63fa\",\"#FFA15A\",\"#19d3f3\",\"#FF6692\",\"#B6E880\",\"#FF97FF\",\"#FECB52\"],\"font\":{\"color\":\"#2a3f5f\"},\"hovermode\":\"closest\",\"hoverlabel\":{\"align\":\"left\"},\"paper_bgcolor\":\"white\",\"plot_bgcolor\":\"#E5ECF6\",\"polar\":{\"bgcolor\":\"#E5ECF6\",\"angularaxis\":{\"gridcolor\":\"white\",\"linecolor\":\"white\",\"ticks\":\"\"},\"radialaxis\":{\"gridcolor\":\"white\",\"linecolor\":\"white\",\"ticks\":\"\"}},\"ternary\":{\"bgcolor\":\"#E5ECF6\",\"aaxis\":{\"gridcolor\":\"white\",\"linecolor\":\"white\",\"ticks\":\"\"},\"baxis\":{\"gridcolor\":\"white\",\"linecolor\":\"white\",\"ticks\":\"\"},\"caxis\":{\"gridcolor\":\"white\",\"linecolor\":\"white\",\"ticks\":\"\"}},\"coloraxis\":{\"colorbar\":{\"outlinewidth\":0,\"ticks\":\"\"}},\"colorscale\":{\"sequential\":[[0.0,\"#0d0887\"],[0.1111111111111111,\"#46039f\"],[0.2222222222222222,\"#7201a8\"],[0.3333333333333333,\"#9c179e\"],[0.4444444444444444,\"#bd3786\"],[0.5555555555555556,\"#d8576b\"],[0.6666666666666666,\"#ed7953\"],[0.7777777777777778,\"#fb9f3a\"],[0.8888888888888888,\"#fdca26\"],[1.0,\"#f0f921\"]],\"sequentialminus\":[[0.0,\"#0d0887\"],[0.1111111111111111,\"#46039f\"],[0.2222222222222222,\"#7201a8\"],[0.3333333333333333,\"#9c179e\"],[0.4444444444444444,\"#bd3786\"],[0.5555555555555556,\"#d8576b\"],[0.6666666666666666,\"#ed7953\"],[0.7777777777777778,\"#fb9f3a\"],[0.8888888888888888,\"#fdca26\"],[1.0,\"#f0f921\"]],\"diverging\":[[0,\"#8e0152\"],[0.1,\"#c51b7d\"],[0.2,\"#de77ae\"],[0.3,\"#f1b6da\"],[0.4,\"#fde0ef\"],[0.5,\"#f7f7f7\"],[0.6,\"#e6f5d0\"],[0.7,\"#b8e186\"],[0.8,\"#7fbc41\"],[0.9,\"#4d9221\"],[1,\"#276419\"]]},\"xaxis\":{\"gridcolor\":\"white\",\"linecolor\":\"white\",\"ticks\":\"\",\"title\":{\"standoff\":15},\"zerolinecolor\":\"white\",\"automargin\":true,\"zerolinewidth\":2},\"yaxis\":{\"gridcolor\":\"white\",\"linecolor\":\"white\",\"ticks\":\"\",\"title\":{\"standoff\":15},\"zerolinecolor\":\"white\",\"automargin\":true,\"zerolinewidth\":2},\"scene\":{\"xaxis\":{\"backgroundcolor\":\"#E5ECF6\",\"gridcolor\":\"white\",\"linecolor\":\"white\",\"showbackground\":true,\"ticks\":\"\",\"zerolinecolor\":\"white\",\"gridwidth\":2},\"yaxis\":{\"backgroundcolor\":\"#E5ECF6\",\"gridcolor\":\"white\",\"linecolor\":\"white\",\"showbackground\":true,\"ticks\":\"\",\"zerolinecolor\":\"white\",\"gridwidth\":2},\"zaxis\":{\"backgroundcolor\":\"#E5ECF6\",\"gridcolor\":\"white\",\"linecolor\":\"white\",\"showbackground\":true,\"ticks\":\"\",\"zerolinecolor\":\"white\",\"gridwidth\":2}},\"shapedefaults\":{\"line\":{\"color\":\"#2a3f5f\"}},\"annotationdefaults\":{\"arrowcolor\":\"#2a3f5f\",\"arrowhead\":0,\"arrowwidth\":1},\"geo\":{\"bgcolor\":\"white\",\"landcolor\":\"#E5ECF6\",\"subunitcolor\":\"white\",\"showland\":true,\"showlakes\":true,\"lakecolor\":\"white\"},\"title\":{\"x\":0.05},\"mapbox\":{\"style\":\"light\"}}}},                        {\"responsive\": true}                    ).then(function(){\n",
       "                            \n",
       "var gd = document.getElementById('10c16b30-1bd9-4c0d-8530-2b3bc3877fbb');\n",
       "var x = new MutationObserver(function (mutations, observer) {{\n",
       "        var display = window.getComputedStyle(gd).display;\n",
       "        if (!display || display === 'none') {{\n",
       "            console.log([gd, 'removed!']);\n",
       "            Plotly.purge(gd);\n",
       "            observer.disconnect();\n",
       "        }}\n",
       "}});\n",
       "\n",
       "// Listen for the removal of the full notebook cells\n",
       "var notebookContainer = gd.closest('#notebook-container');\n",
       "if (notebookContainer) {{\n",
       "    x.observe(notebookContainer, {childList: true});\n",
       "}}\n",
       "\n",
       "// Listen for the clearing of the current output cell\n",
       "var outputEl = gd.closest('.output');\n",
       "if (outputEl) {{\n",
       "    x.observe(outputEl, {childList: true});\n",
       "}}\n",
       "\n",
       "                        })                };                });            </script>        </div>"
      ]
     },
     "metadata": {},
     "output_type": "display_data"
    },
    {
     "data": {
      "text/plain": [
       "<cogent3.draw.dendrogram.Dendrogram at 0x16d0f3200>"
      ]
     },
     "execution_count": 12,
     "metadata": {},
     "output_type": "execute_result"
    }
   ],
   "source": [
    "a2 = res2.lf\n",
    "a2.get_ens_tree().get_figure(show_support=True, threshold=0.8, height = 1000, width = 1000)"
   ]
  },
  {
   "cell_type": "code",
   "execution_count": 13,
   "metadata": {},
   "outputs": [
    {
     "data": {
      "text/plain": [
       "8.233455153893807"
      ]
     },
     "execution_count": 13,
     "metadata": {},
     "output_type": "execute_result"
    }
   ],
   "source": [
    "tree1 = a1.get_ens_tree()\n",
    "tree2 = a2.get_ens_tree()\n",
    "tree1.total_descending_branch_length()\n"
   ]
  },
  {
   "cell_type": "code",
   "execution_count": 14,
   "metadata": {},
   "outputs": [
    {
     "data": {
      "text/plain": [
       "7.953073153610106"
      ]
     },
     "execution_count": 14,
     "metadata": {},
     "output_type": "execute_result"
    }
   ],
   "source": [
    "tree2.total_descending_branch_length()"
   ]
  },
  {
   "cell_type": "code",
   "execution_count": 15,
   "metadata": {},
   "outputs": [
    {
     "data": {
      "text/html": [
       "        <script type=\"text/javascript\">\n",
       "        window.PlotlyConfig = {MathJaxConfig: 'local'};\n",
       "        if (window.MathJax && window.MathJax.Hub && window.MathJax.Hub.Config) {window.MathJax.Hub.Config({SVG: {font: \"STIX-Web\"}});}\n",
       "        if (typeof require !== 'undefined') {\n",
       "        require.undef(\"plotly\");\n",
       "        requirejs.config({\n",
       "            paths: {\n",
       "                'plotly': ['https://cdn.plot.ly/plotly-2.27.0.min']\n",
       "            }\n",
       "        });\n",
       "        require(['plotly'], function(Plotly) {\n",
       "            window._Plotly = Plotly;\n",
       "        });\n",
       "        }\n",
       "        </script>\n",
       "        "
      ]
     },
     "metadata": {},
     "output_type": "display_data"
    },
    {
     "data": {
      "application/vnd.plotly.v1+json": {
       "config": {
        "plotlyServerURL": "https://plot.ly"
       },
       "data": [
        {
         "line": {
          "color": "black",
          "shape": "spline",
          "smoothing": 1.3,
          "width": 1.25
         },
         "mode": "lines",
         "showlegend": false,
         "type": "scatter",
         "x": [
          null,
          null,
          0,
          0,
          null,
          0,
          0.25332,
          null,
          0.25332,
          0.25332,
          null,
          0.25332,
          0.26365,
          null,
          0.26365,
          0.26365,
          null,
          0.26365,
          0.27347,
          null,
          0.27347,
          0.27347,
          null,
          0.27347,
          0.28248,
          null,
          0.28248,
          0.28248,
          null,
          0.28248,
          0.28754,
          null,
          0.28754,
          0.28754,
          null,
          0.28754,
          0.29075,
          null,
          0.29075,
          0.29075,
          null,
          0.29075,
          0.29461,
          null,
          0.29461,
          0.29461,
          null,
          0.29461,
          0.31911999999999996,
          null,
          0.31911999999999996,
          0.31911999999999996,
          null,
          0.31911999999999996,
          0.33011999999999997,
          null,
          0.33011999999999997,
          0.33011999999999997,
          null,
          0.33011999999999997,
          0.33843999999999996,
          null,
          0.33843999999999996,
          0.33843999999999996,
          null,
          0.33843999999999996,
          0.36318999999999996,
          null,
          0.36318999999999996,
          0.36318999999999996,
          null,
          0.36318999999999996,
          0.39094999999999996,
          null,
          0.36318999999999996,
          0.36318999999999996,
          null,
          0.36318999999999996,
          0.39994999999999997,
          null,
          0.33843999999999996,
          0.33843999999999996,
          null,
          0.33843999999999996,
          0.39932999999999996,
          null,
          0.33011999999999997,
          0.33011999999999997,
          null,
          0.33011999999999997,
          0.37589999999999996,
          null,
          0.37589999999999996,
          0.37589999999999996,
          null,
          0.37589999999999996,
          0.39191,
          null,
          0.37589999999999996,
          0.37589999999999996,
          null,
          0.37589999999999996,
          0.39304999999999995,
          null,
          0.31911999999999996,
          0.31911999999999996,
          null,
          0.31911999999999996,
          0.36679999999999996,
          null,
          0.36679999999999996,
          0.36679999999999996,
          null,
          0.36679999999999996,
          0.38315999999999995,
          null,
          0.36679999999999996,
          0.36679999999999996,
          null,
          0.36679999999999996,
          0.39886999999999995,
          null,
          0.29461,
          0.29461,
          null,
          0.29461,
          0.36202999999999996,
          null,
          0.29075,
          0.29075,
          null,
          0.29075,
          0.31024,
          null,
          0.31024,
          0.31024,
          null,
          0.31024,
          0.31638,
          null,
          0.31638,
          0.31638,
          null,
          0.31638,
          0.32663,
          null,
          0.32663,
          0.32663,
          null,
          0.32663,
          0.35597999999999996,
          null,
          0.35597999999999996,
          0.35597999999999996,
          null,
          0.35597999999999996,
          0.36022999999999994,
          null,
          0.36022999999999994,
          0.36022999999999994,
          null,
          0.36022999999999994,
          0.37232999999999994,
          null,
          0.37232999999999994,
          0.37232999999999994,
          null,
          0.37232999999999994,
          0.37716999999999995,
          null,
          0.37716999999999995,
          0.37716999999999995,
          null,
          0.37716999999999995,
          0.38411999999999996,
          null,
          0.38411999999999996,
          0.38411999999999996,
          null,
          0.38411999999999996,
          0.39193999999999996,
          null,
          0.38411999999999996,
          0.38411999999999996,
          null,
          0.38411999999999996,
          0.39285,
          null,
          0.37716999999999995,
          0.37716999999999995,
          null,
          0.37716999999999995,
          0.39407999999999993,
          null,
          0.37232999999999994,
          0.37232999999999994,
          null,
          0.37232999999999994,
          0.42844999999999994,
          null,
          0.36022999999999994,
          0.36022999999999994,
          null,
          0.36022999999999994,
          0.39436999999999994,
          null,
          0.35597999999999996,
          0.35597999999999996,
          null,
          0.35597999999999996,
          0.38287999999999994,
          null,
          0.32663,
          0.32663,
          null,
          0.32663,
          0.37318999999999997,
          null,
          0.37318999999999997,
          0.37318999999999997,
          null,
          0.37318999999999997,
          0.37704999999999994,
          null,
          0.37704999999999994,
          0.37704999999999994,
          null,
          0.37704999999999994,
          0.3831399999999999,
          null,
          0.3831399999999999,
          0.3831399999999999,
          null,
          0.3831399999999999,
          0.40606999999999993,
          null,
          0.40606999999999993,
          0.40606999999999993,
          null,
          0.40606999999999993,
          0.4238599999999999,
          null,
          0.40606999999999993,
          0.40606999999999993,
          null,
          0.40606999999999993,
          0.4249899999999999,
          null,
          0.3831399999999999,
          0.3831399999999999,
          null,
          0.3831399999999999,
          0.4178199999999999,
          null,
          0.37704999999999994,
          0.37704999999999994,
          null,
          0.37704999999999994,
          0.41319999999999996,
          null,
          0.37318999999999997,
          0.37318999999999997,
          null,
          0.37318999999999997,
          0.40809999999999996,
          null,
          0.31638,
          0.31638,
          null,
          0.31638,
          0.35229,
          null,
          0.35229,
          0.35229,
          null,
          0.35229,
          0.39637,
          null,
          0.35229,
          0.35229,
          null,
          0.35229,
          0.39993,
          null,
          0.31024,
          0.31024,
          null,
          0.31024,
          0.38151,
          null,
          0.28754,
          0.28754,
          null,
          0.28754,
          0.31103000000000003,
          null,
          0.31103000000000003,
          0.31103000000000003,
          null,
          0.31103000000000003,
          0.38063,
          null,
          0.31103000000000003,
          0.31103000000000003,
          null,
          0.31103000000000003,
          0.41784000000000004,
          null,
          0.28248,
          0.28248,
          null,
          0.28248,
          0.5899300000000001,
          null,
          0.27347,
          0.27347,
          null,
          0.27347,
          0.28547,
          null,
          0.28547,
          0.28547,
          null,
          0.28547,
          0.2921,
          null,
          0.2921,
          0.2921,
          null,
          0.2921,
          0.30461000000000005,
          null,
          0.30461000000000005,
          0.30461000000000005,
          null,
          0.30461000000000005,
          0.30866000000000005,
          null,
          0.30866000000000005,
          0.30866000000000005,
          null,
          0.30866000000000005,
          0.31820000000000004,
          null,
          0.31820000000000004,
          0.31820000000000004,
          null,
          0.31820000000000004,
          0.33875000000000005,
          null,
          0.33875000000000005,
          0.33875000000000005,
          null,
          0.33875000000000005,
          0.39860000000000007,
          null,
          0.39860000000000007,
          0.39860000000000007,
          null,
          0.39860000000000007,
          0.41159000000000007,
          null,
          0.41159000000000007,
          0.41159000000000007,
          null,
          0.41159000000000007,
          0.41630000000000006,
          null,
          0.41630000000000006,
          0.41630000000000006,
          null,
          0.41630000000000006,
          0.48151000000000005,
          null,
          0.41630000000000006,
          0.41630000000000006,
          null,
          0.41630000000000006,
          0.4999300000000001,
          null,
          0.41159000000000007,
          0.41159000000000007,
          null,
          0.41159000000000007,
          0.46980000000000005,
          null,
          0.39860000000000007,
          0.39860000000000007,
          null,
          0.39860000000000007,
          0.43411000000000005,
          null,
          0.43411000000000005,
          0.43411000000000005,
          null,
          0.43411000000000005,
          0.48828000000000005,
          null,
          0.43411000000000005,
          0.43411000000000005,
          null,
          0.43411000000000005,
          0.49495000000000006,
          null,
          0.33875000000000005,
          0.33875000000000005,
          null,
          0.33875000000000005,
          0.46212000000000003,
          null,
          0.31820000000000004,
          0.31820000000000004,
          null,
          0.31820000000000004,
          0.45614000000000005,
          null,
          0.30866000000000005,
          0.30866000000000005,
          null,
          0.30866000000000005,
          0.37562000000000006,
          null,
          0.37562000000000006,
          0.37562000000000006,
          null,
          0.37562000000000006,
          0.38504000000000005,
          null,
          0.38504000000000005,
          0.38504000000000005,
          null,
          0.38504000000000005,
          0.44344000000000006,
          null,
          0.38504000000000005,
          0.38504000000000005,
          null,
          0.38504000000000005,
          0.46718000000000004,
          null,
          0.37562000000000006,
          0.37562000000000006,
          null,
          0.37562000000000006,
          0.45604000000000006,
          null,
          0.30461000000000005,
          0.30461000000000005,
          null,
          0.30461000000000005,
          0.34540000000000004,
          null,
          0.34540000000000004,
          0.34540000000000004,
          null,
          0.34540000000000004,
          0.37835,
          null,
          0.37835,
          0.37835,
          null,
          0.37835,
          0.38583,
          null,
          0.38583,
          0.38583,
          null,
          0.38583,
          0.40579,
          null,
          0.38583,
          0.38583,
          null,
          0.38583,
          0.40838,
          null,
          0.37835,
          0.37835,
          null,
          0.37835,
          0.40112000000000003,
          null,
          0.34540000000000004,
          0.34540000000000004,
          null,
          0.34540000000000004,
          0.39335000000000003,
          null,
          0.2921,
          0.2921,
          null,
          0.2921,
          0.34008000000000005,
          null,
          0.34008000000000005,
          0.34008000000000005,
          null,
          0.34008000000000005,
          0.42778000000000005,
          null,
          0.34008000000000005,
          0.34008000000000005,
          null,
          0.34008000000000005,
          0.5533100000000001,
          null,
          0.28547,
          0.28547,
          null,
          0.28547,
          0.2952,
          null,
          0.2952,
          0.2952,
          null,
          0.2952,
          0.33415,
          null,
          0.33415,
          0.33415,
          null,
          0.33415,
          0.33747,
          null,
          0.33747,
          0.33747,
          null,
          0.33747,
          0.3781,
          null,
          0.33747,
          0.33747,
          null,
          0.33747,
          0.38789,
          null,
          0.33415,
          0.33415,
          null,
          0.33415,
          0.38063,
          null,
          0.2952,
          0.2952,
          null,
          0.2952,
          0.33549,
          null,
          0.33549,
          0.33549,
          null,
          0.33549,
          0.34934,
          null,
          0.34934,
          0.34934,
          null,
          0.34934,
          0.35785999999999996,
          null,
          0.35785999999999996,
          0.35785999999999996,
          null,
          0.35785999999999996,
          0.36217999999999995,
          null,
          0.36217999999999995,
          0.36217999999999995,
          null,
          0.36217999999999995,
          0.37133999999999995,
          null,
          0.37133999999999995,
          0.37133999999999995,
          null,
          0.37133999999999995,
          0.3746499999999999,
          null,
          0.3746499999999999,
          0.3746499999999999,
          null,
          0.3746499999999999,
          0.3848599999999999,
          null,
          0.3746499999999999,
          0.3746499999999999,
          null,
          0.3746499999999999,
          0.3876199999999999,
          null,
          0.37133999999999995,
          0.37133999999999995,
          null,
          0.37133999999999995,
          0.39119999999999994,
          null,
          0.36217999999999995,
          0.36217999999999995,
          null,
          0.36217999999999995,
          0.38256999999999997,
          null,
          0.35785999999999996,
          0.35785999999999996,
          null,
          0.35785999999999996,
          0.39503999999999995,
          null,
          0.34934,
          0.34934,
          null,
          0.34934,
          0.36322,
          null,
          0.36322,
          0.36322,
          null,
          0.36322,
          0.36943,
          null,
          0.36943,
          0.36943,
          null,
          0.36943,
          0.3736,
          null,
          0.3736,
          0.3736,
          null,
          0.3736,
          0.37573,
          null,
          0.37573,
          0.37573,
          null,
          0.37573,
          0.37845,
          null,
          0.37845,
          0.37845,
          null,
          0.37845,
          0.39393,
          null,
          0.37845,
          0.37845,
          null,
          0.37845,
          0.40061,
          null,
          0.37573,
          0.37573,
          null,
          0.37573,
          0.39199,
          null,
          0.3736,
          0.3736,
          null,
          0.3736,
          0.39416999999999996,
          null,
          0.36943,
          0.36943,
          null,
          0.36943,
          0.38664,
          null,
          0.36322,
          0.36322,
          null,
          0.36322,
          0.40212,
          null,
          0.33549,
          0.33549,
          null,
          0.33549,
          0.35933000000000004,
          null,
          0.35933000000000004,
          0.35933000000000004,
          null,
          0.35933000000000004,
          0.36216000000000004,
          null,
          0.36216000000000004,
          0.36216000000000004,
          null,
          0.36216000000000004,
          0.36636,
          null,
          0.36636,
          0.36636,
          null,
          0.36636,
          0.39537,
          null,
          0.36636,
          0.36636,
          null,
          0.36636,
          0.40168000000000004,
          null,
          0.36216000000000004,
          0.36216000000000004,
          null,
          0.36216000000000004,
          0.39668000000000003,
          null,
          0.35933000000000004,
          0.35933000000000004,
          null,
          0.35933000000000004,
          0.39120000000000005,
          null,
          0.26365,
          0.26365,
          null,
          0.26365,
          0.37539,
          null,
          0.25332,
          0.25332,
          null,
          0.25332,
          0.60322,
          null,
          0,
          0,
          null,
          0,
          0.3078,
          null
         ],
         "y": [
          null,
          null,
          -34.214620971679686,
          -28.779241943359377,
          null,
          -28.779241943359377,
          -28.779241943359377,
          null,
          -28.779241943359377,
          -19.208483886718753,
          null,
          -19.208483886718753,
          -19.208483886718753,
          null,
          -19.208483886718753,
          -1.3669677734374996,
          null,
          -1.3669677734374996,
          -1.3669677734374996,
          null,
          -1.3669677734374996,
          12.759423828125001,
          null,
          12.759423828125001,
          12.759423828125001,
          null,
          12.759423828125001,
          17.06884765625,
          null,
          17.06884765625,
          17.06884765625,
          null,
          17.06884765625,
          23.7376953125,
          null,
          23.7376953125,
          23.7376953125,
          null,
          23.7376953125,
          32.540625,
          null,
          32.540625,
          32.540625,
          null,
          32.540625,
          34.53125,
          null,
          34.53125,
          34.53125,
          null,
          34.53125,
          36.5625,
          null,
          36.5625,
          36.5625,
          null,
          36.5625,
          38.025000000000006,
          null,
          38.025000000000006,
          38.025000000000006,
          null,
          38.025000000000006,
          39,
          null,
          39,
          39,
          null,
          39,
          39.65,
          null,
          39.65,
          39.65,
          null,
          39,
          38.35,
          null,
          38.35,
          38.35,
          null,
          38.025000000000006,
          37.050000000000004,
          null,
          37.050000000000004,
          37.050000000000004,
          null,
          36.5625,
          35.1,
          null,
          35.1,
          35.1,
          null,
          35.1,
          35.75,
          null,
          35.75,
          35.75,
          null,
          35.1,
          34.45,
          null,
          34.45,
          34.45,
          null,
          34.53125,
          32.5,
          null,
          32.5,
          32.5,
          null,
          32.5,
          33.15,
          null,
          33.15,
          33.15,
          null,
          32.5,
          31.85,
          null,
          31.85,
          31.85,
          null,
          32.540625,
          30.55,
          null,
          30.55,
          30.55,
          null,
          23.7376953125,
          14.934765625,
          null,
          14.934765625,
          14.934765625,
          null,
          14.934765625,
          17.51953125,
          null,
          17.51953125,
          17.51953125,
          null,
          17.51953125,
          20.7390625,
          null,
          20.7390625,
          20.7390625,
          null,
          20.7390625,
          24.009375,
          null,
          24.009375,
          24.009375,
          null,
          24.009375,
          25.26875,
          null,
          25.26875,
          25.26875,
          null,
          25.26875,
          26.4875,
          null,
          26.4875,
          26.4875,
          null,
          26.4875,
          27.625,
          null,
          27.625,
          27.625,
          null,
          27.625,
          28.6,
          null,
          28.6,
          28.6,
          null,
          28.6,
          29.25,
          null,
          29.25,
          29.25,
          null,
          28.6,
          27.95,
          null,
          27.95,
          27.95,
          null,
          27.625,
          26.650000000000002,
          null,
          26.650000000000002,
          26.650000000000002,
          null,
          26.4875,
          25.35,
          null,
          25.35,
          25.35,
          null,
          25.26875,
          24.05,
          null,
          24.05,
          24.05,
          null,
          24.009375,
          22.75,
          null,
          22.75,
          22.75,
          null,
          20.7390625,
          17.46875,
          null,
          17.46875,
          17.46875,
          null,
          17.46875,
          18.6875,
          null,
          18.6875,
          18.6875,
          null,
          18.6875,
          19.825000000000003,
          null,
          19.825000000000003,
          19.825000000000003,
          null,
          19.825000000000003,
          20.8,
          null,
          20.8,
          20.8,
          null,
          20.8,
          21.45,
          null,
          21.45,
          21.45,
          null,
          20.8,
          20.150000000000002,
          null,
          20.150000000000002,
          20.150000000000002,
          null,
          19.825000000000003,
          18.85,
          null,
          18.85,
          18.85,
          null,
          18.6875,
          17.55,
          null,
          17.55,
          17.55,
          null,
          17.46875,
          16.25,
          null,
          16.25,
          16.25,
          null,
          17.51953125,
          14.3,
          null,
          14.3,
          14.3,
          null,
          14.3,
          14.950000000000001,
          null,
          14.950000000000001,
          14.950000000000001,
          null,
          14.3,
          13.65,
          null,
          13.65,
          13.65,
          null,
          14.934765625,
          12.35,
          null,
          12.35,
          12.35,
          null,
          17.06884765625,
          10.4,
          null,
          10.4,
          10.4,
          null,
          10.4,
          11.05,
          null,
          11.05,
          11.05,
          null,
          10.4,
          9.75,
          null,
          9.75,
          9.75,
          null,
          12.759423828125001,
          8.450000000000001,
          null,
          8.450000000000001,
          8.450000000000001,
          null,
          -1.3669677734374996,
          -15.493359375,
          null,
          -15.493359375,
          -15.493359375,
          null,
          -15.493359375,
          -8.343359375,
          null,
          -8.343359375,
          -8.343359375,
          null,
          -8.343359375,
          -4.9867187500000005,
          null,
          -4.9867187500000005,
          -4.9867187500000005,
          null,
          -4.9867187500000005,
          -1.3609375,
          null,
          -1.3609375,
          -1.3609375,
          null,
          -1.3609375,
          0.8531250000000001,
          null,
          0.8531250000000001,
          0.8531250000000001,
          null,
          0.8531250000000001,
          2.35625,
          null,
          2.35625,
          2.35625,
          null,
          2.35625,
          4.0625,
          null,
          4.0625,
          4.0625,
          null,
          4.0625,
          5.525,
          null,
          5.525,
          5.525,
          null,
          5.525,
          6.5,
          null,
          6.5,
          6.5,
          null,
          6.5,
          7.15,
          null,
          7.15,
          7.15,
          null,
          6.5,
          5.8500000000000005,
          null,
          5.8500000000000005,
          5.8500000000000005,
          null,
          5.525,
          4.55,
          null,
          4.55,
          4.55,
          null,
          4.0625,
          2.6,
          null,
          2.6,
          2.6,
          null,
          2.6,
          3.25,
          null,
          3.25,
          3.25,
          null,
          2.6,
          1.9500000000000002,
          null,
          1.9500000000000002,
          1.9500000000000002,
          null,
          2.35625,
          0.65,
          null,
          0.65,
          0.65,
          null,
          0.8531250000000001,
          -0.65,
          null,
          -0.65,
          -0.65,
          null,
          -1.3609375,
          -3.575,
          null,
          -3.575,
          -3.575,
          null,
          -3.575,
          -2.6,
          null,
          -2.6,
          -2.6,
          null,
          -2.6,
          -1.9500000000000002,
          null,
          -1.9500000000000002,
          -1.9500000000000002,
          null,
          -2.6,
          -3.25,
          null,
          -3.25,
          -3.25,
          null,
          -3.575,
          -4.55,
          null,
          -4.55,
          -4.55,
          null,
          -4.9867187500000005,
          -8.6125,
          null,
          -8.6125,
          -8.6125,
          null,
          -8.6125,
          -7.4750000000000005,
          null,
          -7.4750000000000005,
          -7.4750000000000005,
          null,
          -7.4750000000000005,
          -6.5,
          null,
          -6.5,
          -6.5,
          null,
          -6.5,
          -5.8500000000000005,
          null,
          -5.8500000000000005,
          -5.8500000000000005,
          null,
          -6.5,
          -7.15,
          null,
          -7.15,
          -7.15,
          null,
          -7.4750000000000005,
          -8.450000000000001,
          null,
          -8.450000000000001,
          -8.450000000000001,
          null,
          -8.6125,
          -9.75,
          null,
          -9.75,
          -9.75,
          null,
          -8.343359375,
          -11.7,
          null,
          -11.7,
          -11.7,
          null,
          -11.7,
          -11.05,
          null,
          -11.05,
          -11.05,
          null,
          -11.7,
          -12.35,
          null,
          -12.35,
          -12.35,
          null,
          -15.493359375,
          -22.643359375,
          null,
          -22.643359375,
          -22.643359375,
          null,
          -22.643359375,
          -15.275,
          null,
          -15.275,
          -15.275,
          null,
          -15.275,
          -14.3,
          null,
          -14.3,
          -14.3,
          null,
          -14.3,
          -13.65,
          null,
          -13.65,
          -13.65,
          null,
          -14.3,
          -14.950000000000001,
          null,
          -14.950000000000001,
          -14.950000000000001,
          null,
          -15.275,
          -16.25,
          null,
          -16.25,
          -16.25,
          null,
          -22.643359375,
          -30.01171875,
          null,
          -30.01171875,
          -30.01171875,
          null,
          -30.01171875,
          -25.4109375,
          null,
          -25.4109375,
          -25.4109375,
          null,
          -25.4109375,
          -21.53125,
          null,
          -21.53125,
          -21.53125,
          null,
          -21.53125,
          -20.3125,
          null,
          -20.3125,
          -20.3125,
          null,
          -20.3125,
          -19.175000000000004,
          null,
          -19.175000000000004,
          -19.175000000000004,
          null,
          -19.175000000000004,
          -18.200000000000003,
          null,
          -18.200000000000003,
          -18.200000000000003,
          null,
          -18.200000000000003,
          -17.55,
          null,
          -17.55,
          -17.55,
          null,
          -18.200000000000003,
          -18.85,
          null,
          -18.85,
          -18.85,
          null,
          -19.175000000000004,
          -20.150000000000002,
          null,
          -20.150000000000002,
          -20.150000000000002,
          null,
          -20.3125,
          -21.45,
          null,
          -21.45,
          -21.45,
          null,
          -21.53125,
          -22.75,
          null,
          -22.75,
          -22.75,
          null,
          -25.4109375,
          -29.290625,
          null,
          -29.290625,
          -29.290625,
          null,
          -29.290625,
          -28.03125,
          null,
          -28.03125,
          -28.03125,
          null,
          -28.03125,
          -26.8125,
          null,
          -26.8125,
          -26.8125,
          null,
          -26.8125,
          -25.675000000000004,
          null,
          -25.675000000000004,
          -25.675000000000004,
          null,
          -25.675000000000004,
          -24.700000000000003,
          null,
          -24.700000000000003,
          -24.700000000000003,
          null,
          -24.700000000000003,
          -24.05,
          null,
          -24.05,
          -24.05,
          null,
          -24.700000000000003,
          -25.35,
          null,
          -25.35,
          -25.35,
          null,
          -25.675000000000004,
          -26.650000000000002,
          null,
          -26.650000000000002,
          -26.650000000000002,
          null,
          -26.8125,
          -27.95,
          null,
          -27.95,
          -27.95,
          null,
          -28.03125,
          -29.25,
          null,
          -29.25,
          -29.25,
          null,
          -29.290625,
          -30.55,
          null,
          -30.55,
          -30.55,
          null,
          -30.01171875,
          -34.6125,
          null,
          -34.6125,
          -34.6125,
          null,
          -34.6125,
          -33.475,
          null,
          -33.475,
          -33.475,
          null,
          -33.475,
          -32.5,
          null,
          -32.5,
          -32.5,
          null,
          -32.5,
          -31.85,
          null,
          -31.85,
          -31.85,
          null,
          -32.5,
          -33.15,
          null,
          -33.15,
          -33.15,
          null,
          -33.475,
          -34.45,
          null,
          -34.45,
          -34.45,
          null,
          -34.6125,
          -35.75,
          null,
          -35.75,
          -35.75,
          null,
          -19.208483886718753,
          -37.050000000000004,
          null,
          -37.050000000000004,
          -37.050000000000004,
          null,
          -28.779241943359377,
          -38.35,
          null,
          -38.35,
          -38.35,
          null,
          -34.214620971679686,
          -39.65,
          null,
          -39.65,
          -39.65,
          null
         ]
        },
        {
         "hoverinfo": "text",
         "marker": {
          "color": "black",
          "size": 3,
          "symbol": "circle"
         },
         "mode": "markers",
         "showlegend": false,
         "text": [
          "root",
          "Eutheria.3",
          "Eutheria.2",
          "Boreoeutheria",
          "Laurasiatheria.4",
          "Laurasiatheria.3",
          "Laurasiatheria.2",
          "Laurasiatheria",
          "Carnivora",
          "Caniformia.3",
          "Caniformia.2",
          "Ursidae",
          "Giant_panda",
          "Polar_bear",
          "Ferret",
          "Canidae",
          "Dingo",
          "Red_fox",
          "Felidae",
          "Cat",
          "Tiger",
          "Horse",
          "Artiodactyla.3",
          "Artiodactyla.2",
          "Artiodactyla",
          "Cetacea",
          "Odontoceti.3",
          "Odontoceti.2",
          "Odontoceti",
          "Monodontidae",
          "Narwhal",
          "Beluga_whale",
          "Vaquita",
          "Dolphin",
          "Sperm_whale",
          "Blue_whale",
          "Pecora.2",
          "Pecora",
          "Bovidae",
          "Bovinae",
          "Wild_yak",
          "American_bison",
          "Goat",
          "Siberian_musk_deer",
          "Yarkand_deer",
          "Suina",
          "Pig",
          "Chacoan_peccary",
          "Arabian_camel",
          "Chiroptera",
          "Greater_horseshoe_bat",
          "Megabat",
          "Hedgehog",
          "Euarchontoglires",
          "Glires",
          "Rodentia.3",
          "Rodentia.2",
          "Rodentia",
          "Myomorpha",
          "Muroidea",
          "Cricetidae.2",
          "Cricetidae",
          "Prairie_vole",
          "Golden_Hamster",
          "Northern_American_deer_mouse",
          "Murinae",
          "Rat",
          "Ryukyu_mouse",
          "Lesser_Egyptian_jerboa",
          "Kangaroo_rat",
          "Hystricomorpha.2",
          "Hystricomorpha",
          "Long_tailed_chinchilla",
          "Degu",
          "Guinea_Pig",
          "Sciuridae",
          "Marmotini.3",
          "Marmotini",
          "Arctic_ground_squirrel",
          "Squirrel",
          "Alpine_marmot",
          "Eurasian_red_squirrel",
          "Lagomorpha",
          "Rabbit",
          "Pika",
          "Primates",
          "Lemuriformes.2",
          "Lemuriformes",
          "Greater_bamboo_lemur",
          "Coquerel's_sifaka",
          "Mouse_Lemur",
          "Simiiformes",
          "Catarrhini",
          "Hominoidea",
          "Hominidae",
          "Homininae.2",
          "Homininae",
          "Human",
          "Chimpanzee",
          "Gorilla",
          "Sumatran_orangutan",
          "Gibbon",
          "Cercopithecidae",
          "Cercopithecinae.5",
          "Cercopithecinae.4",
          "Cercopithecinae.3",
          "Cercopithecinae",
          "Sooty_mangabey",
          "Drill",
          "Olive_baboon",
          "Pig_tailed_macaque",
          "Vervet_AGM",
          "Black_snub_nosed_monkey",
          "Platyrrhini.2",
          "Platyrrhini",
          "Cebidae",
          "Panamanian_white_faced_capuchin",
          "Bolivian_squirrel_monkey",
          "Ma's_night_monkey",
          "White_tufted_ear_marmoset",
          "Elephant",
          "Shrew",
          "aquila_chrysaetos_chrysaetos"
         ],
         "type": "scatter",
         "x": [
          0,
          0.25332,
          0.26365,
          0.27347,
          0.28248,
          0.28754,
          0.29075,
          0.29461,
          0.31911999999999996,
          0.33011999999999997,
          0.33843999999999996,
          0.36318999999999996,
          0.39094999999999996,
          0.39994999999999997,
          0.39932999999999996,
          0.37589999999999996,
          0.39191,
          0.39304999999999995,
          0.36679999999999996,
          0.38315999999999995,
          0.39886999999999995,
          0.36202999999999996,
          0.31024,
          0.31638,
          0.32663,
          0.35597999999999996,
          0.36022999999999994,
          0.37232999999999994,
          0.37716999999999995,
          0.38411999999999996,
          0.39193999999999996,
          0.39285,
          0.39407999999999993,
          0.42844999999999994,
          0.39436999999999994,
          0.38287999999999994,
          0.37318999999999997,
          0.37704999999999994,
          0.3831399999999999,
          0.40606999999999993,
          0.4238599999999999,
          0.4249899999999999,
          0.4178199999999999,
          0.41319999999999996,
          0.40809999999999996,
          0.35229,
          0.39637,
          0.39993,
          0.38151,
          0.31103000000000003,
          0.38063,
          0.41784000000000004,
          0.5899300000000001,
          0.28547,
          0.2921,
          0.30461000000000005,
          0.30866000000000005,
          0.31820000000000004,
          0.33875000000000005,
          0.39860000000000007,
          0.41159000000000007,
          0.41630000000000006,
          0.48151000000000005,
          0.4999300000000001,
          0.46980000000000005,
          0.43411000000000005,
          0.48828000000000005,
          0.49495000000000006,
          0.46212000000000003,
          0.45614000000000005,
          0.37562000000000006,
          0.38504000000000005,
          0.44344000000000006,
          0.46718000000000004,
          0.45604000000000006,
          0.34540000000000004,
          0.37835,
          0.38583,
          0.40579,
          0.40838,
          0.40112000000000003,
          0.39335000000000003,
          0.34008000000000005,
          0.42778000000000005,
          0.5533100000000001,
          0.2952,
          0.33415,
          0.33747,
          0.3781,
          0.38789,
          0.38063,
          0.33549,
          0.34934,
          0.35785999999999996,
          0.36217999999999995,
          0.37133999999999995,
          0.3746499999999999,
          0.3848599999999999,
          0.3876199999999999,
          0.39119999999999994,
          0.38256999999999997,
          0.39503999999999995,
          0.36322,
          0.36943,
          0.3736,
          0.37573,
          0.37845,
          0.39393,
          0.40061,
          0.39199,
          0.39416999999999996,
          0.38664,
          0.40212,
          0.35933000000000004,
          0.36216000000000004,
          0.36636,
          0.39537,
          0.40168000000000004,
          0.39668000000000003,
          0.39120000000000005,
          0.37539,
          0.60322,
          0.3078
         ],
         "y": [
          -34.214620971679686,
          -28.779241943359377,
          -19.208483886718753,
          -1.3669677734374996,
          12.759423828125001,
          17.06884765625,
          23.7376953125,
          32.540625,
          34.53125,
          36.5625,
          38.025000000000006,
          39,
          39.65,
          38.35,
          37.050000000000004,
          35.1,
          35.75,
          34.45,
          32.5,
          33.15,
          31.85,
          30.55,
          14.934765625,
          17.51953125,
          20.7390625,
          24.009375,
          25.26875,
          26.4875,
          27.625,
          28.6,
          29.25,
          27.95,
          26.650000000000002,
          25.35,
          24.05,
          22.75,
          17.46875,
          18.6875,
          19.825000000000003,
          20.8,
          21.45,
          20.150000000000002,
          18.85,
          17.55,
          16.25,
          14.3,
          14.950000000000001,
          13.65,
          12.35,
          10.4,
          11.05,
          9.75,
          8.450000000000001,
          -15.493359375,
          -8.343359375,
          -4.9867187500000005,
          -1.3609375,
          0.8531250000000001,
          2.35625,
          4.0625,
          5.525,
          6.5,
          7.15,
          5.8500000000000005,
          4.55,
          2.6,
          3.25,
          1.9500000000000002,
          0.65,
          -0.65,
          -3.575,
          -2.6,
          -1.9500000000000002,
          -3.25,
          -4.55,
          -8.6125,
          -7.4750000000000005,
          -6.5,
          -5.8500000000000005,
          -7.15,
          -8.450000000000001,
          -9.75,
          -11.7,
          -11.05,
          -12.35,
          -22.643359375,
          -15.275,
          -14.3,
          -13.65,
          -14.950000000000001,
          -16.25,
          -30.01171875,
          -25.4109375,
          -21.53125,
          -20.3125,
          -19.175000000000004,
          -18.200000000000003,
          -17.55,
          -18.85,
          -20.150000000000002,
          -21.45,
          -22.75,
          -29.290625,
          -28.03125,
          -26.8125,
          -25.675000000000004,
          -24.700000000000003,
          -24.05,
          -25.35,
          -26.650000000000002,
          -27.95,
          -29.25,
          -30.55,
          -34.6125,
          -33.475,
          -32.5,
          -31.85,
          -33.15,
          -34.45,
          -35.75,
          -37.050000000000004,
          -38.35,
          -39.65
         ]
        }
       ],
       "layout": {
        "annotations": [
         {
          "font": {
           "family": "Inconsolata, monospace",
           "size": 12
          },
          "showarrow": false,
          "text": "Giant_panda",
          "textangle": 0,
          "x": 0.40603049999999996,
          "xanchor": "left",
          "xref": "x",
          "y": 39.65,
          "yref": "y"
         },
         {
          "font": {
           "family": "Inconsolata, monospace",
           "size": 12
          },
          "showarrow": false,
          "text": "Polar_bear",
          "textangle": 0,
          "x": 0.41503049999999997,
          "xanchor": "left",
          "xref": "x",
          "y": 38.35,
          "yref": "y"
         },
         {
          "font": {
           "family": "Inconsolata, monospace",
           "size": 12
          },
          "showarrow": false,
          "text": "Ferret",
          "textangle": 0,
          "x": 0.41441049999999996,
          "xanchor": "left",
          "xref": "x",
          "y": 37.050000000000004,
          "yref": "y"
         },
         {
          "font": {
           "family": "Inconsolata, monospace",
           "size": 12
          },
          "showarrow": false,
          "text": "Dingo",
          "textangle": 0,
          "x": 0.4069905,
          "xanchor": "left",
          "xref": "x",
          "y": 35.75,
          "yref": "y"
         },
         {
          "font": {
           "family": "Inconsolata, monospace",
           "size": 12
          },
          "showarrow": false,
          "text": "Red_fox",
          "textangle": 0,
          "x": 0.40813049999999995,
          "xanchor": "left",
          "xref": "x",
          "y": 34.45,
          "yref": "y"
         },
         {
          "font": {
           "family": "Inconsolata, monospace",
           "size": 12
          },
          "showarrow": false,
          "text": "Cat",
          "textangle": 0,
          "x": 0.39824049999999994,
          "xanchor": "left",
          "xref": "x",
          "y": 33.15,
          "yref": "y"
         },
         {
          "font": {
           "family": "Inconsolata, monospace",
           "size": 12
          },
          "showarrow": false,
          "text": "Tiger",
          "textangle": 0,
          "x": 0.41395049999999994,
          "xanchor": "left",
          "xref": "x",
          "y": 31.85,
          "yref": "y"
         },
         {
          "font": {
           "family": "Inconsolata, monospace",
           "size": 12
          },
          "showarrow": false,
          "text": "Horse",
          "textangle": 0,
          "x": 0.37711049999999996,
          "xanchor": "left",
          "xref": "x",
          "y": 30.55,
          "yref": "y"
         },
         {
          "font": {
           "family": "Inconsolata, monospace",
           "size": 12
          },
          "showarrow": false,
          "text": "Narwhal",
          "textangle": 0,
          "x": 0.40702049999999995,
          "xanchor": "left",
          "xref": "x",
          "y": 29.25,
          "yref": "y"
         },
         {
          "font": {
           "family": "Inconsolata, monospace",
           "size": 12
          },
          "showarrow": false,
          "text": "Beluga_whale",
          "textangle": 0,
          "x": 0.4079305,
          "xanchor": "left",
          "xref": "x",
          "y": 27.95,
          "yref": "y"
         },
         {
          "font": {
           "family": "Inconsolata, monospace",
           "size": 12
          },
          "showarrow": false,
          "text": "Vaquita",
          "textangle": 0,
          "x": 0.4091604999999999,
          "xanchor": "left",
          "xref": "x",
          "y": 26.650000000000002,
          "yref": "y"
         },
         {
          "font": {
           "family": "Inconsolata, monospace",
           "size": 12
          },
          "showarrow": false,
          "text": "Dolphin",
          "textangle": 0,
          "x": 0.44353049999999994,
          "xanchor": "left",
          "xref": "x",
          "y": 25.35,
          "yref": "y"
         },
         {
          "font": {
           "family": "Inconsolata, monospace",
           "size": 12
          },
          "showarrow": false,
          "text": "Sperm_whale",
          "textangle": 0,
          "x": 0.40945049999999994,
          "xanchor": "left",
          "xref": "x",
          "y": 24.05,
          "yref": "y"
         },
         {
          "font": {
           "family": "Inconsolata, monospace",
           "size": 12
          },
          "showarrow": false,
          "text": "Blue_whale",
          "textangle": 0,
          "x": 0.39796049999999994,
          "xanchor": "left",
          "xref": "x",
          "y": 22.75,
          "yref": "y"
         },
         {
          "font": {
           "family": "Inconsolata, monospace",
           "size": 12
          },
          "showarrow": false,
          "text": "Wild_yak",
          "textangle": 0,
          "x": 0.4389404999999999,
          "xanchor": "left",
          "xref": "x",
          "y": 21.45,
          "yref": "y"
         },
         {
          "font": {
           "family": "Inconsolata, monospace",
           "size": 12
          },
          "showarrow": false,
          "text": "American_bison",
          "textangle": 0,
          "x": 0.4400704999999999,
          "xanchor": "left",
          "xref": "x",
          "y": 20.150000000000002,
          "yref": "y"
         },
         {
          "font": {
           "family": "Inconsolata, monospace",
           "size": 12
          },
          "showarrow": false,
          "text": "Goat",
          "textangle": 0,
          "x": 0.4329004999999999,
          "xanchor": "left",
          "xref": "x",
          "y": 18.85,
          "yref": "y"
         },
         {
          "font": {
           "family": "Inconsolata, monospace",
           "size": 12
          },
          "showarrow": false,
          "text": "Siberian_musk_deer",
          "textangle": 0,
          "x": 0.42828049999999995,
          "xanchor": "left",
          "xref": "x",
          "y": 17.55,
          "yref": "y"
         },
         {
          "font": {
           "family": "Inconsolata, monospace",
           "size": 12
          },
          "showarrow": false,
          "text": "Yarkand_deer",
          "textangle": 0,
          "x": 0.42318049999999996,
          "xanchor": "left",
          "xref": "x",
          "y": 16.25,
          "yref": "y"
         },
         {
          "font": {
           "family": "Inconsolata, monospace",
           "size": 12
          },
          "showarrow": false,
          "text": "Pig",
          "textangle": 0,
          "x": 0.4114505,
          "xanchor": "left",
          "xref": "x",
          "y": 14.950000000000001,
          "yref": "y"
         },
         {
          "font": {
           "family": "Inconsolata, monospace",
           "size": 12
          },
          "showarrow": false,
          "text": "Chacoan_peccary",
          "textangle": 0,
          "x": 0.4150105,
          "xanchor": "left",
          "xref": "x",
          "y": 13.65,
          "yref": "y"
         },
         {
          "font": {
           "family": "Inconsolata, monospace",
           "size": 12
          },
          "showarrow": false,
          "text": "Arabian_camel",
          "textangle": 0,
          "x": 0.3965905,
          "xanchor": "left",
          "xref": "x",
          "y": 12.35,
          "yref": "y"
         },
         {
          "font": {
           "family": "Inconsolata, monospace",
           "size": 12
          },
          "showarrow": false,
          "text": "Greater_horseshoe_bat",
          "textangle": 0,
          "x": 0.3957105,
          "xanchor": "left",
          "xref": "x",
          "y": 11.05,
          "yref": "y"
         },
         {
          "font": {
           "family": "Inconsolata, monospace",
           "size": 12
          },
          "showarrow": false,
          "text": "Megabat",
          "textangle": 0,
          "x": 0.43292050000000004,
          "xanchor": "left",
          "xref": "x",
          "y": 9.75,
          "yref": "y"
         },
         {
          "font": {
           "family": "Inconsolata, monospace",
           "size": 12
          },
          "showarrow": false,
          "text": "Hedgehog",
          "textangle": 0,
          "x": 0.6050105000000001,
          "xanchor": "left",
          "xref": "x",
          "y": 8.450000000000001,
          "yref": "y"
         },
         {
          "font": {
           "family": "Inconsolata, monospace",
           "size": 12
          },
          "showarrow": false,
          "text": "Prairie_vole",
          "textangle": 0,
          "x": 0.49659050000000005,
          "xanchor": "left",
          "xref": "x",
          "y": 7.15,
          "yref": "y"
         },
         {
          "font": {
           "family": "Inconsolata, monospace",
           "size": 12
          },
          "showarrow": false,
          "text": "Golden_Hamster",
          "textangle": 0,
          "x": 0.5150105000000001,
          "xanchor": "left",
          "xref": "x",
          "y": 5.8500000000000005,
          "yref": "y"
         },
         {
          "font": {
           "family": "Inconsolata, monospace",
           "size": 12
          },
          "showarrow": false,
          "text": "Northern_American_deer_mouse",
          "textangle": 0,
          "x": 0.48488050000000005,
          "xanchor": "left",
          "xref": "x",
          "y": 4.55,
          "yref": "y"
         },
         {
          "font": {
           "family": "Inconsolata, monospace",
           "size": 12
          },
          "showarrow": false,
          "text": "Rat",
          "textangle": 0,
          "x": 0.5033605000000001,
          "xanchor": "left",
          "xref": "x",
          "y": 3.25,
          "yref": "y"
         },
         {
          "font": {
           "family": "Inconsolata, monospace",
           "size": 12
          },
          "showarrow": false,
          "text": "Ryukyu_mouse",
          "textangle": 0,
          "x": 0.5100305,
          "xanchor": "left",
          "xref": "x",
          "y": 1.9500000000000002,
          "yref": "y"
         },
         {
          "font": {
           "family": "Inconsolata, monospace",
           "size": 12
          },
          "showarrow": false,
          "text": "Lesser_Egyptian_jerboa",
          "textangle": 0,
          "x": 0.4772005,
          "xanchor": "left",
          "xref": "x",
          "y": 0.65,
          "yref": "y"
         },
         {
          "font": {
           "family": "Inconsolata, monospace",
           "size": 12
          },
          "showarrow": false,
          "text": "Kangaroo_rat",
          "textangle": 0,
          "x": 0.47122050000000004,
          "xanchor": "left",
          "xref": "x",
          "y": -0.65,
          "yref": "y"
         },
         {
          "font": {
           "family": "Inconsolata, monospace",
           "size": 12
          },
          "showarrow": false,
          "text": "Long_tailed_chinchilla",
          "textangle": 0,
          "x": 0.45852050000000005,
          "xanchor": "left",
          "xref": "x",
          "y": -1.9500000000000002,
          "yref": "y"
         },
         {
          "font": {
           "family": "Inconsolata, monospace",
           "size": 12
          },
          "showarrow": false,
          "text": "Degu",
          "textangle": 0,
          "x": 0.48226050000000004,
          "xanchor": "left",
          "xref": "x",
          "y": -3.25,
          "yref": "y"
         },
         {
          "font": {
           "family": "Inconsolata, monospace",
           "size": 12
          },
          "showarrow": false,
          "text": "Guinea_Pig",
          "textangle": 0,
          "x": 0.47112050000000005,
          "xanchor": "left",
          "xref": "x",
          "y": -4.55,
          "yref": "y"
         },
         {
          "font": {
           "family": "Inconsolata, monospace",
           "size": 12
          },
          "showarrow": false,
          "text": "Arctic_ground_squirrel",
          "textangle": 0,
          "x": 0.4208705,
          "xanchor": "left",
          "xref": "x",
          "y": -5.8500000000000005,
          "yref": "y"
         },
         {
          "font": {
           "family": "Inconsolata, monospace",
           "size": 12
          },
          "showarrow": false,
          "text": "Squirrel",
          "textangle": 0,
          "x": 0.4234605,
          "xanchor": "left",
          "xref": "x",
          "y": -7.15,
          "yref": "y"
         },
         {
          "font": {
           "family": "Inconsolata, monospace",
           "size": 12
          },
          "showarrow": false,
          "text": "Alpine_marmot",
          "textangle": 0,
          "x": 0.41620050000000003,
          "xanchor": "left",
          "xref": "x",
          "y": -8.450000000000001,
          "yref": "y"
         },
         {
          "font": {
           "family": "Inconsolata, monospace",
           "size": 12
          },
          "showarrow": false,
          "text": "Eurasian_red_squirrel",
          "textangle": 0,
          "x": 0.40843050000000003,
          "xanchor": "left",
          "xref": "x",
          "y": -9.75,
          "yref": "y"
         },
         {
          "font": {
           "family": "Inconsolata, monospace",
           "size": 12
          },
          "showarrow": false,
          "text": "Rabbit",
          "textangle": 0,
          "x": 0.44286050000000005,
          "xanchor": "left",
          "xref": "x",
          "y": -11.05,
          "yref": "y"
         },
         {
          "font": {
           "family": "Inconsolata, monospace",
           "size": 12
          },
          "showarrow": false,
          "text": "Pika",
          "textangle": 0,
          "x": 0.5683905000000001,
          "xanchor": "left",
          "xref": "x",
          "y": -12.35,
          "yref": "y"
         },
         {
          "font": {
           "family": "Inconsolata, monospace",
           "size": 12
          },
          "showarrow": false,
          "text": "Greater_bamboo_lemur",
          "textangle": 0,
          "x": 0.3931805,
          "xanchor": "left",
          "xref": "x",
          "y": -13.65,
          "yref": "y"
         },
         {
          "font": {
           "family": "Inconsolata, monospace",
           "size": 12
          },
          "showarrow": false,
          "text": "Coquerel's_sifaka",
          "textangle": 0,
          "x": 0.4029705,
          "xanchor": "left",
          "xref": "x",
          "y": -14.950000000000001,
          "yref": "y"
         },
         {
          "font": {
           "family": "Inconsolata, monospace",
           "size": 12
          },
          "showarrow": false,
          "text": "Mouse_Lemur",
          "textangle": 0,
          "x": 0.3957105,
          "xanchor": "left",
          "xref": "x",
          "y": -16.25,
          "yref": "y"
         },
         {
          "font": {
           "family": "Inconsolata, monospace",
           "size": 12
          },
          "showarrow": false,
          "text": "Human",
          "textangle": 0,
          "x": 0.3999404999999999,
          "xanchor": "left",
          "xref": "x",
          "y": -17.55,
          "yref": "y"
         },
         {
          "font": {
           "family": "Inconsolata, monospace",
           "size": 12
          },
          "showarrow": false,
          "text": "Chimpanzee",
          "textangle": 0,
          "x": 0.4027004999999999,
          "xanchor": "left",
          "xref": "x",
          "y": -18.85,
          "yref": "y"
         },
         {
          "font": {
           "family": "Inconsolata, monospace",
           "size": 12
          },
          "showarrow": false,
          "text": "Gorilla",
          "textangle": 0,
          "x": 0.40628049999999993,
          "xanchor": "left",
          "xref": "x",
          "y": -20.150000000000002,
          "yref": "y"
         },
         {
          "font": {
           "family": "Inconsolata, monospace",
           "size": 12
          },
          "showarrow": false,
          "text": "Sumatran_orangutan",
          "textangle": 0,
          "x": 0.39765049999999996,
          "xanchor": "left",
          "xref": "x",
          "y": -21.45,
          "yref": "y"
         },
         {
          "font": {
           "family": "Inconsolata, monospace",
           "size": 12
          },
          "showarrow": false,
          "text": "Gibbon",
          "textangle": 0,
          "x": 0.41012049999999994,
          "xanchor": "left",
          "xref": "x",
          "y": -22.75,
          "yref": "y"
         },
         {
          "font": {
           "family": "Inconsolata, monospace",
           "size": 12
          },
          "showarrow": false,
          "text": "Sooty_mangabey",
          "textangle": 0,
          "x": 0.4090105,
          "xanchor": "left",
          "xref": "x",
          "y": -24.05,
          "yref": "y"
         },
         {
          "font": {
           "family": "Inconsolata, monospace",
           "size": 12
          },
          "showarrow": false,
          "text": "Drill",
          "textangle": 0,
          "x": 0.4156905,
          "xanchor": "left",
          "xref": "x",
          "y": -25.35,
          "yref": "y"
         },
         {
          "font": {
           "family": "Inconsolata, monospace",
           "size": 12
          },
          "showarrow": false,
          "text": "Olive_baboon",
          "textangle": 0,
          "x": 0.4070705,
          "xanchor": "left",
          "xref": "x",
          "y": -26.650000000000002,
          "yref": "y"
         },
         {
          "font": {
           "family": "Inconsolata, monospace",
           "size": 12
          },
          "showarrow": false,
          "text": "Pig_tailed_macaque",
          "textangle": 0,
          "x": 0.40925049999999996,
          "xanchor": "left",
          "xref": "x",
          "y": -27.95,
          "yref": "y"
         },
         {
          "font": {
           "family": "Inconsolata, monospace",
           "size": 12
          },
          "showarrow": false,
          "text": "Vervet_AGM",
          "textangle": 0,
          "x": 0.4017205,
          "xanchor": "left",
          "xref": "x",
          "y": -29.25,
          "yref": "y"
         },
         {
          "font": {
           "family": "Inconsolata, monospace",
           "size": 12
          },
          "showarrow": false,
          "text": "Black_snub_nosed_monkey",
          "textangle": 0,
          "x": 0.4172005,
          "xanchor": "left",
          "xref": "x",
          "y": -30.55,
          "yref": "y"
         },
         {
          "font": {
           "family": "Inconsolata, monospace",
           "size": 12
          },
          "showarrow": false,
          "text": "Panamanian_white_faced_capuchin",
          "textangle": 0,
          "x": 0.4104505,
          "xanchor": "left",
          "xref": "x",
          "y": -31.85,
          "yref": "y"
         },
         {
          "font": {
           "family": "Inconsolata, monospace",
           "size": 12
          },
          "showarrow": false,
          "text": "Bolivian_squirrel_monkey",
          "textangle": 0,
          "x": 0.41676050000000003,
          "xanchor": "left",
          "xref": "x",
          "y": -33.15,
          "yref": "y"
         },
         {
          "font": {
           "family": "Inconsolata, monospace",
           "size": 12
          },
          "showarrow": false,
          "text": "Ma's_night_monkey",
          "textangle": 0,
          "x": 0.41176050000000003,
          "xanchor": "left",
          "xref": "x",
          "y": -34.45,
          "yref": "y"
         },
         {
          "font": {
           "family": "Inconsolata, monospace",
           "size": 12
          },
          "showarrow": false,
          "text": "White_tufted_ear_marmoset",
          "textangle": 0,
          "x": 0.40628050000000004,
          "xanchor": "left",
          "xref": "x",
          "y": -35.75,
          "yref": "y"
         },
         {
          "font": {
           "family": "Inconsolata, monospace",
           "size": 12
          },
          "showarrow": false,
          "text": "Elephant",
          "textangle": 0,
          "x": 0.3904705,
          "xanchor": "left",
          "xref": "x",
          "y": -37.050000000000004,
          "yref": "y"
         },
         {
          "font": {
           "family": "Inconsolata, monospace",
           "size": 12
          },
          "showarrow": false,
          "text": "Shrew",
          "textangle": 0,
          "x": 0.6183005,
          "xanchor": "left",
          "xref": "x",
          "y": -38.35,
          "yref": "y"
         },
         {
          "font": {
           "family": "Inconsolata, monospace",
           "size": 12
          },
          "showarrow": false,
          "text": "aquila_chrysaetos_chrysaetos",
          "textangle": 0,
          "x": 0.3228805,
          "xanchor": "left",
          "xref": "x",
          "y": -39.65,
          "yref": "y"
         },
         {
          "ax": 0,
          "ay": 0,
          "showarrow": false,
          "text": "0.06",
          "x": 0.030161,
          "xref": "x",
          "y": -46.85909090909091,
          "yref": "y",
          "yshift": 10
         }
        ],
        "autosize": true,
        "font": {
         "family": "Balto",
         "size": 14
        },
        "height": 1000,
        "hovermode": "closest",
        "margin": {
         "b": 50,
         "l": 50,
         "pad": 4,
         "r": 50,
         "t": 50
        },
        "shapes": [
         {
          "line": {
           "color": "black",
           "width": 1.25
          },
          "name": "scale_bar",
          "type": "line",
          "x0": 0,
          "x1": 0.060322,
          "y0": -46.85909090909091,
          "y1": -46.85909090909091
         }
        ],
        "showlegend": false,
        "template": {
         "data": {
          "bar": [
           {
            "error_x": {
             "color": "#2a3f5f"
            },
            "error_y": {
             "color": "#2a3f5f"
            },
            "marker": {
             "line": {
              "color": "#E5ECF6",
              "width": 0.5
             },
             "pattern": {
              "fillmode": "overlay",
              "size": 10,
              "solidity": 0.2
             }
            },
            "type": "bar"
           }
          ],
          "barpolar": [
           {
            "marker": {
             "line": {
              "color": "#E5ECF6",
              "width": 0.5
             },
             "pattern": {
              "fillmode": "overlay",
              "size": 10,
              "solidity": 0.2
             }
            },
            "type": "barpolar"
           }
          ],
          "carpet": [
           {
            "aaxis": {
             "endlinecolor": "#2a3f5f",
             "gridcolor": "white",
             "linecolor": "white",
             "minorgridcolor": "white",
             "startlinecolor": "#2a3f5f"
            },
            "baxis": {
             "endlinecolor": "#2a3f5f",
             "gridcolor": "white",
             "linecolor": "white",
             "minorgridcolor": "white",
             "startlinecolor": "#2a3f5f"
            },
            "type": "carpet"
           }
          ],
          "choropleth": [
           {
            "colorbar": {
             "outlinewidth": 0,
             "ticks": ""
            },
            "type": "choropleth"
           }
          ],
          "contour": [
           {
            "colorbar": {
             "outlinewidth": 0,
             "ticks": ""
            },
            "colorscale": [
             [
              0,
              "#0d0887"
             ],
             [
              0.1111111111111111,
              "#46039f"
             ],
             [
              0.2222222222222222,
              "#7201a8"
             ],
             [
              0.3333333333333333,
              "#9c179e"
             ],
             [
              0.4444444444444444,
              "#bd3786"
             ],
             [
              0.5555555555555556,
              "#d8576b"
             ],
             [
              0.6666666666666666,
              "#ed7953"
             ],
             [
              0.7777777777777778,
              "#fb9f3a"
             ],
             [
              0.8888888888888888,
              "#fdca26"
             ],
             [
              1,
              "#f0f921"
             ]
            ],
            "type": "contour"
           }
          ],
          "contourcarpet": [
           {
            "colorbar": {
             "outlinewidth": 0,
             "ticks": ""
            },
            "type": "contourcarpet"
           }
          ],
          "heatmap": [
           {
            "colorbar": {
             "outlinewidth": 0,
             "ticks": ""
            },
            "colorscale": [
             [
              0,
              "#0d0887"
             ],
             [
              0.1111111111111111,
              "#46039f"
             ],
             [
              0.2222222222222222,
              "#7201a8"
             ],
             [
              0.3333333333333333,
              "#9c179e"
             ],
             [
              0.4444444444444444,
              "#bd3786"
             ],
             [
              0.5555555555555556,
              "#d8576b"
             ],
             [
              0.6666666666666666,
              "#ed7953"
             ],
             [
              0.7777777777777778,
              "#fb9f3a"
             ],
             [
              0.8888888888888888,
              "#fdca26"
             ],
             [
              1,
              "#f0f921"
             ]
            ],
            "type": "heatmap"
           }
          ],
          "heatmapgl": [
           {
            "colorbar": {
             "outlinewidth": 0,
             "ticks": ""
            },
            "colorscale": [
             [
              0,
              "#0d0887"
             ],
             [
              0.1111111111111111,
              "#46039f"
             ],
             [
              0.2222222222222222,
              "#7201a8"
             ],
             [
              0.3333333333333333,
              "#9c179e"
             ],
             [
              0.4444444444444444,
              "#bd3786"
             ],
             [
              0.5555555555555556,
              "#d8576b"
             ],
             [
              0.6666666666666666,
              "#ed7953"
             ],
             [
              0.7777777777777778,
              "#fb9f3a"
             ],
             [
              0.8888888888888888,
              "#fdca26"
             ],
             [
              1,
              "#f0f921"
             ]
            ],
            "type": "heatmapgl"
           }
          ],
          "histogram": [
           {
            "marker": {
             "pattern": {
              "fillmode": "overlay",
              "size": 10,
              "solidity": 0.2
             }
            },
            "type": "histogram"
           }
          ],
          "histogram2d": [
           {
            "colorbar": {
             "outlinewidth": 0,
             "ticks": ""
            },
            "colorscale": [
             [
              0,
              "#0d0887"
             ],
             [
              0.1111111111111111,
              "#46039f"
             ],
             [
              0.2222222222222222,
              "#7201a8"
             ],
             [
              0.3333333333333333,
              "#9c179e"
             ],
             [
              0.4444444444444444,
              "#bd3786"
             ],
             [
              0.5555555555555556,
              "#d8576b"
             ],
             [
              0.6666666666666666,
              "#ed7953"
             ],
             [
              0.7777777777777778,
              "#fb9f3a"
             ],
             [
              0.8888888888888888,
              "#fdca26"
             ],
             [
              1,
              "#f0f921"
             ]
            ],
            "type": "histogram2d"
           }
          ],
          "histogram2dcontour": [
           {
            "colorbar": {
             "outlinewidth": 0,
             "ticks": ""
            },
            "colorscale": [
             [
              0,
              "#0d0887"
             ],
             [
              0.1111111111111111,
              "#46039f"
             ],
             [
              0.2222222222222222,
              "#7201a8"
             ],
             [
              0.3333333333333333,
              "#9c179e"
             ],
             [
              0.4444444444444444,
              "#bd3786"
             ],
             [
              0.5555555555555556,
              "#d8576b"
             ],
             [
              0.6666666666666666,
              "#ed7953"
             ],
             [
              0.7777777777777778,
              "#fb9f3a"
             ],
             [
              0.8888888888888888,
              "#fdca26"
             ],
             [
              1,
              "#f0f921"
             ]
            ],
            "type": "histogram2dcontour"
           }
          ],
          "mesh3d": [
           {
            "colorbar": {
             "outlinewidth": 0,
             "ticks": ""
            },
            "type": "mesh3d"
           }
          ],
          "parcoords": [
           {
            "line": {
             "colorbar": {
              "outlinewidth": 0,
              "ticks": ""
             }
            },
            "type": "parcoords"
           }
          ],
          "pie": [
           {
            "automargin": true,
            "type": "pie"
           }
          ],
          "scatter": [
           {
            "fillpattern": {
             "fillmode": "overlay",
             "size": 10,
             "solidity": 0.2
            },
            "type": "scatter"
           }
          ],
          "scatter3d": [
           {
            "line": {
             "colorbar": {
              "outlinewidth": 0,
              "ticks": ""
             }
            },
            "marker": {
             "colorbar": {
              "outlinewidth": 0,
              "ticks": ""
             }
            },
            "type": "scatter3d"
           }
          ],
          "scattercarpet": [
           {
            "marker": {
             "colorbar": {
              "outlinewidth": 0,
              "ticks": ""
             }
            },
            "type": "scattercarpet"
           }
          ],
          "scattergeo": [
           {
            "marker": {
             "colorbar": {
              "outlinewidth": 0,
              "ticks": ""
             }
            },
            "type": "scattergeo"
           }
          ],
          "scattergl": [
           {
            "marker": {
             "colorbar": {
              "outlinewidth": 0,
              "ticks": ""
             }
            },
            "type": "scattergl"
           }
          ],
          "scattermapbox": [
           {
            "marker": {
             "colorbar": {
              "outlinewidth": 0,
              "ticks": ""
             }
            },
            "type": "scattermapbox"
           }
          ],
          "scatterpolar": [
           {
            "marker": {
             "colorbar": {
              "outlinewidth": 0,
              "ticks": ""
             }
            },
            "type": "scatterpolar"
           }
          ],
          "scatterpolargl": [
           {
            "marker": {
             "colorbar": {
              "outlinewidth": 0,
              "ticks": ""
             }
            },
            "type": "scatterpolargl"
           }
          ],
          "scatterternary": [
           {
            "marker": {
             "colorbar": {
              "outlinewidth": 0,
              "ticks": ""
             }
            },
            "type": "scatterternary"
           }
          ],
          "surface": [
           {
            "colorbar": {
             "outlinewidth": 0,
             "ticks": ""
            },
            "colorscale": [
             [
              0,
              "#0d0887"
             ],
             [
              0.1111111111111111,
              "#46039f"
             ],
             [
              0.2222222222222222,
              "#7201a8"
             ],
             [
              0.3333333333333333,
              "#9c179e"
             ],
             [
              0.4444444444444444,
              "#bd3786"
             ],
             [
              0.5555555555555556,
              "#d8576b"
             ],
             [
              0.6666666666666666,
              "#ed7953"
             ],
             [
              0.7777777777777778,
              "#fb9f3a"
             ],
             [
              0.8888888888888888,
              "#fdca26"
             ],
             [
              1,
              "#f0f921"
             ]
            ],
            "type": "surface"
           }
          ],
          "table": [
           {
            "cells": {
             "fill": {
              "color": "#EBF0F8"
             },
             "line": {
              "color": "white"
             }
            },
            "header": {
             "fill": {
              "color": "#C8D4E3"
             },
             "line": {
              "color": "white"
             }
            },
            "type": "table"
           }
          ]
         },
         "layout": {
          "annotationdefaults": {
           "arrowcolor": "#2a3f5f",
           "arrowhead": 0,
           "arrowwidth": 1
          },
          "autotypenumbers": "strict",
          "coloraxis": {
           "colorbar": {
            "outlinewidth": 0,
            "ticks": ""
           }
          },
          "colorscale": {
           "diverging": [
            [
             0,
             "#8e0152"
            ],
            [
             0.1,
             "#c51b7d"
            ],
            [
             0.2,
             "#de77ae"
            ],
            [
             0.3,
             "#f1b6da"
            ],
            [
             0.4,
             "#fde0ef"
            ],
            [
             0.5,
             "#f7f7f7"
            ],
            [
             0.6,
             "#e6f5d0"
            ],
            [
             0.7,
             "#b8e186"
            ],
            [
             0.8,
             "#7fbc41"
            ],
            [
             0.9,
             "#4d9221"
            ],
            [
             1,
             "#276419"
            ]
           ],
           "sequential": [
            [
             0,
             "#0d0887"
            ],
            [
             0.1111111111111111,
             "#46039f"
            ],
            [
             0.2222222222222222,
             "#7201a8"
            ],
            [
             0.3333333333333333,
             "#9c179e"
            ],
            [
             0.4444444444444444,
             "#bd3786"
            ],
            [
             0.5555555555555556,
             "#d8576b"
            ],
            [
             0.6666666666666666,
             "#ed7953"
            ],
            [
             0.7777777777777778,
             "#fb9f3a"
            ],
            [
             0.8888888888888888,
             "#fdca26"
            ],
            [
             1,
             "#f0f921"
            ]
           ],
           "sequentialminus": [
            [
             0,
             "#0d0887"
            ],
            [
             0.1111111111111111,
             "#46039f"
            ],
            [
             0.2222222222222222,
             "#7201a8"
            ],
            [
             0.3333333333333333,
             "#9c179e"
            ],
            [
             0.4444444444444444,
             "#bd3786"
            ],
            [
             0.5555555555555556,
             "#d8576b"
            ],
            [
             0.6666666666666666,
             "#ed7953"
            ],
            [
             0.7777777777777778,
             "#fb9f3a"
            ],
            [
             0.8888888888888888,
             "#fdca26"
            ],
            [
             1,
             "#f0f921"
            ]
           ]
          },
          "colorway": [
           "#636efa",
           "#EF553B",
           "#00cc96",
           "#ab63fa",
           "#FFA15A",
           "#19d3f3",
           "#FF6692",
           "#B6E880",
           "#FF97FF",
           "#FECB52"
          ],
          "font": {
           "color": "#2a3f5f"
          },
          "geo": {
           "bgcolor": "white",
           "lakecolor": "white",
           "landcolor": "#E5ECF6",
           "showlakes": true,
           "showland": true,
           "subunitcolor": "white"
          },
          "hoverlabel": {
           "align": "left"
          },
          "hovermode": "closest",
          "mapbox": {
           "style": "light"
          },
          "paper_bgcolor": "white",
          "plot_bgcolor": "#E5ECF6",
          "polar": {
           "angularaxis": {
            "gridcolor": "white",
            "linecolor": "white",
            "ticks": ""
           },
           "bgcolor": "#E5ECF6",
           "radialaxis": {
            "gridcolor": "white",
            "linecolor": "white",
            "ticks": ""
           }
          },
          "scene": {
           "xaxis": {
            "backgroundcolor": "#E5ECF6",
            "gridcolor": "white",
            "gridwidth": 2,
            "linecolor": "white",
            "showbackground": true,
            "ticks": "",
            "zerolinecolor": "white"
           },
           "yaxis": {
            "backgroundcolor": "#E5ECF6",
            "gridcolor": "white",
            "gridwidth": 2,
            "linecolor": "white",
            "showbackground": true,
            "ticks": "",
            "zerolinecolor": "white"
           },
           "zaxis": {
            "backgroundcolor": "#E5ECF6",
            "gridcolor": "white",
            "gridwidth": 2,
            "linecolor": "white",
            "showbackground": true,
            "ticks": "",
            "zerolinecolor": "white"
           }
          },
          "shapedefaults": {
           "line": {
            "color": "#2a3f5f"
           }
          },
          "ternary": {
           "aaxis": {
            "gridcolor": "white",
            "linecolor": "white",
            "ticks": ""
           },
           "baxis": {
            "gridcolor": "white",
            "linecolor": "white",
            "ticks": ""
           },
           "bgcolor": "#E5ECF6",
           "caxis": {
            "gridcolor": "white",
            "linecolor": "white",
            "ticks": ""
           }
          },
          "title": {
           "x": 0.05
          },
          "xaxis": {
           "automargin": true,
           "gridcolor": "white",
           "linecolor": "white",
           "ticks": "",
           "title": {
            "standoff": 15
           },
           "zerolinecolor": "white",
           "zerolinewidth": 2
          },
          "yaxis": {
           "automargin": true,
           "gridcolor": "white",
           "linecolor": "white",
           "ticks": "",
           "title": {
            "standoff": 15
           },
           "zerolinecolor": "white",
           "zerolinewidth": 2
          }
         }
        },
        "width": 1000,
        "xaxis": {
         "visible": false
        },
        "yaxis": {
         "visible": false
        }
       }
      },
      "text/html": [
       "<div>                            <div id=\"cb8f2ca8-4bd2-418f-96fe-fd075c16e080\" class=\"plotly-graph-div\" style=\"height:1000px; width:1000px;\"></div>            <script type=\"text/javascript\">                require([\"plotly\"], function(Plotly) {                    window.PLOTLYENV=window.PLOTLYENV || {};                                    if (document.getElementById(\"cb8f2ca8-4bd2-418f-96fe-fd075c16e080\")) {                    Plotly.newPlot(                        \"cb8f2ca8-4bd2-418f-96fe-fd075c16e080\",                        [{\"line\":{\"color\":\"black\",\"shape\":\"spline\",\"smoothing\":1.3,\"width\":1.25},\"mode\":\"lines\",\"showlegend\":false,\"x\":[null,null,0,0,null,0,0.25332,null,0.25332,0.25332,null,0.25332,0.26365,null,0.26365,0.26365,null,0.26365,0.27347,null,0.27347,0.27347,null,0.27347,0.28248,null,0.28248,0.28248,null,0.28248,0.28754,null,0.28754,0.28754,null,0.28754,0.29075,null,0.29075,0.29075,null,0.29075,0.29461,null,0.29461,0.29461,null,0.29461,0.31911999999999996,null,0.31911999999999996,0.31911999999999996,null,0.31911999999999996,0.33011999999999997,null,0.33011999999999997,0.33011999999999997,null,0.33011999999999997,0.33843999999999996,null,0.33843999999999996,0.33843999999999996,null,0.33843999999999996,0.36318999999999996,null,0.36318999999999996,0.36318999999999996,null,0.36318999999999996,0.39094999999999996,null,0.36318999999999996,0.36318999999999996,null,0.36318999999999996,0.39994999999999997,null,0.33843999999999996,0.33843999999999996,null,0.33843999999999996,0.39932999999999996,null,0.33011999999999997,0.33011999999999997,null,0.33011999999999997,0.37589999999999996,null,0.37589999999999996,0.37589999999999996,null,0.37589999999999996,0.39191,null,0.37589999999999996,0.37589999999999996,null,0.37589999999999996,0.39304999999999995,null,0.31911999999999996,0.31911999999999996,null,0.31911999999999996,0.36679999999999996,null,0.36679999999999996,0.36679999999999996,null,0.36679999999999996,0.38315999999999995,null,0.36679999999999996,0.36679999999999996,null,0.36679999999999996,0.39886999999999995,null,0.29461,0.29461,null,0.29461,0.36202999999999996,null,0.29075,0.29075,null,0.29075,0.31024,null,0.31024,0.31024,null,0.31024,0.31638,null,0.31638,0.31638,null,0.31638,0.32663,null,0.32663,0.32663,null,0.32663,0.35597999999999996,null,0.35597999999999996,0.35597999999999996,null,0.35597999999999996,0.36022999999999994,null,0.36022999999999994,0.36022999999999994,null,0.36022999999999994,0.37232999999999994,null,0.37232999999999994,0.37232999999999994,null,0.37232999999999994,0.37716999999999995,null,0.37716999999999995,0.37716999999999995,null,0.37716999999999995,0.38411999999999996,null,0.38411999999999996,0.38411999999999996,null,0.38411999999999996,0.39193999999999996,null,0.38411999999999996,0.38411999999999996,null,0.38411999999999996,0.39285,null,0.37716999999999995,0.37716999999999995,null,0.37716999999999995,0.39407999999999993,null,0.37232999999999994,0.37232999999999994,null,0.37232999999999994,0.42844999999999994,null,0.36022999999999994,0.36022999999999994,null,0.36022999999999994,0.39436999999999994,null,0.35597999999999996,0.35597999999999996,null,0.35597999999999996,0.38287999999999994,null,0.32663,0.32663,null,0.32663,0.37318999999999997,null,0.37318999999999997,0.37318999999999997,null,0.37318999999999997,0.37704999999999994,null,0.37704999999999994,0.37704999999999994,null,0.37704999999999994,0.3831399999999999,null,0.3831399999999999,0.3831399999999999,null,0.3831399999999999,0.40606999999999993,null,0.40606999999999993,0.40606999999999993,null,0.40606999999999993,0.4238599999999999,null,0.40606999999999993,0.40606999999999993,null,0.40606999999999993,0.4249899999999999,null,0.3831399999999999,0.3831399999999999,null,0.3831399999999999,0.4178199999999999,null,0.37704999999999994,0.37704999999999994,null,0.37704999999999994,0.41319999999999996,null,0.37318999999999997,0.37318999999999997,null,0.37318999999999997,0.40809999999999996,null,0.31638,0.31638,null,0.31638,0.35229,null,0.35229,0.35229,null,0.35229,0.39637,null,0.35229,0.35229,null,0.35229,0.39993,null,0.31024,0.31024,null,0.31024,0.38151,null,0.28754,0.28754,null,0.28754,0.31103000000000003,null,0.31103000000000003,0.31103000000000003,null,0.31103000000000003,0.38063,null,0.31103000000000003,0.31103000000000003,null,0.31103000000000003,0.41784000000000004,null,0.28248,0.28248,null,0.28248,0.5899300000000001,null,0.27347,0.27347,null,0.27347,0.28547,null,0.28547,0.28547,null,0.28547,0.2921,null,0.2921,0.2921,null,0.2921,0.30461000000000005,null,0.30461000000000005,0.30461000000000005,null,0.30461000000000005,0.30866000000000005,null,0.30866000000000005,0.30866000000000005,null,0.30866000000000005,0.31820000000000004,null,0.31820000000000004,0.31820000000000004,null,0.31820000000000004,0.33875000000000005,null,0.33875000000000005,0.33875000000000005,null,0.33875000000000005,0.39860000000000007,null,0.39860000000000007,0.39860000000000007,null,0.39860000000000007,0.41159000000000007,null,0.41159000000000007,0.41159000000000007,null,0.41159000000000007,0.41630000000000006,null,0.41630000000000006,0.41630000000000006,null,0.41630000000000006,0.48151000000000005,null,0.41630000000000006,0.41630000000000006,null,0.41630000000000006,0.4999300000000001,null,0.41159000000000007,0.41159000000000007,null,0.41159000000000007,0.46980000000000005,null,0.39860000000000007,0.39860000000000007,null,0.39860000000000007,0.43411000000000005,null,0.43411000000000005,0.43411000000000005,null,0.43411000000000005,0.48828000000000005,null,0.43411000000000005,0.43411000000000005,null,0.43411000000000005,0.49495000000000006,null,0.33875000000000005,0.33875000000000005,null,0.33875000000000005,0.46212000000000003,null,0.31820000000000004,0.31820000000000004,null,0.31820000000000004,0.45614000000000005,null,0.30866000000000005,0.30866000000000005,null,0.30866000000000005,0.37562000000000006,null,0.37562000000000006,0.37562000000000006,null,0.37562000000000006,0.38504000000000005,null,0.38504000000000005,0.38504000000000005,null,0.38504000000000005,0.44344000000000006,null,0.38504000000000005,0.38504000000000005,null,0.38504000000000005,0.46718000000000004,null,0.37562000000000006,0.37562000000000006,null,0.37562000000000006,0.45604000000000006,null,0.30461000000000005,0.30461000000000005,null,0.30461000000000005,0.34540000000000004,null,0.34540000000000004,0.34540000000000004,null,0.34540000000000004,0.37835,null,0.37835,0.37835,null,0.37835,0.38583,null,0.38583,0.38583,null,0.38583,0.40579,null,0.38583,0.38583,null,0.38583,0.40838,null,0.37835,0.37835,null,0.37835,0.40112000000000003,null,0.34540000000000004,0.34540000000000004,null,0.34540000000000004,0.39335000000000003,null,0.2921,0.2921,null,0.2921,0.34008000000000005,null,0.34008000000000005,0.34008000000000005,null,0.34008000000000005,0.42778000000000005,null,0.34008000000000005,0.34008000000000005,null,0.34008000000000005,0.5533100000000001,null,0.28547,0.28547,null,0.28547,0.2952,null,0.2952,0.2952,null,0.2952,0.33415,null,0.33415,0.33415,null,0.33415,0.33747,null,0.33747,0.33747,null,0.33747,0.3781,null,0.33747,0.33747,null,0.33747,0.38789,null,0.33415,0.33415,null,0.33415,0.38063,null,0.2952,0.2952,null,0.2952,0.33549,null,0.33549,0.33549,null,0.33549,0.34934,null,0.34934,0.34934,null,0.34934,0.35785999999999996,null,0.35785999999999996,0.35785999999999996,null,0.35785999999999996,0.36217999999999995,null,0.36217999999999995,0.36217999999999995,null,0.36217999999999995,0.37133999999999995,null,0.37133999999999995,0.37133999999999995,null,0.37133999999999995,0.3746499999999999,null,0.3746499999999999,0.3746499999999999,null,0.3746499999999999,0.3848599999999999,null,0.3746499999999999,0.3746499999999999,null,0.3746499999999999,0.3876199999999999,null,0.37133999999999995,0.37133999999999995,null,0.37133999999999995,0.39119999999999994,null,0.36217999999999995,0.36217999999999995,null,0.36217999999999995,0.38256999999999997,null,0.35785999999999996,0.35785999999999996,null,0.35785999999999996,0.39503999999999995,null,0.34934,0.34934,null,0.34934,0.36322,null,0.36322,0.36322,null,0.36322,0.36943,null,0.36943,0.36943,null,0.36943,0.3736,null,0.3736,0.3736,null,0.3736,0.37573,null,0.37573,0.37573,null,0.37573,0.37845,null,0.37845,0.37845,null,0.37845,0.39393,null,0.37845,0.37845,null,0.37845,0.40061,null,0.37573,0.37573,null,0.37573,0.39199,null,0.3736,0.3736,null,0.3736,0.39416999999999996,null,0.36943,0.36943,null,0.36943,0.38664,null,0.36322,0.36322,null,0.36322,0.40212,null,0.33549,0.33549,null,0.33549,0.35933000000000004,null,0.35933000000000004,0.35933000000000004,null,0.35933000000000004,0.36216000000000004,null,0.36216000000000004,0.36216000000000004,null,0.36216000000000004,0.36636,null,0.36636,0.36636,null,0.36636,0.39537,null,0.36636,0.36636,null,0.36636,0.40168000000000004,null,0.36216000000000004,0.36216000000000004,null,0.36216000000000004,0.39668000000000003,null,0.35933000000000004,0.35933000000000004,null,0.35933000000000004,0.39120000000000005,null,0.26365,0.26365,null,0.26365,0.37539,null,0.25332,0.25332,null,0.25332,0.60322,null,0,0,null,0,0.3078,null],\"y\":[null,null,-34.214620971679686,-28.779241943359377,null,-28.779241943359377,-28.779241943359377,null,-28.779241943359377,-19.208483886718753,null,-19.208483886718753,-19.208483886718753,null,-19.208483886718753,-1.3669677734374996,null,-1.3669677734374996,-1.3669677734374996,null,-1.3669677734374996,12.759423828125001,null,12.759423828125001,12.759423828125001,null,12.759423828125001,17.06884765625,null,17.06884765625,17.06884765625,null,17.06884765625,23.7376953125,null,23.7376953125,23.7376953125,null,23.7376953125,32.540625,null,32.540625,32.540625,null,32.540625,34.53125,null,34.53125,34.53125,null,34.53125,36.5625,null,36.5625,36.5625,null,36.5625,38.025000000000006,null,38.025000000000006,38.025000000000006,null,38.025000000000006,39.0,null,39.0,39.0,null,39.0,39.65,null,39.65,39.65,null,39.0,38.35,null,38.35,38.35,null,38.025000000000006,37.050000000000004,null,37.050000000000004,37.050000000000004,null,36.5625,35.1,null,35.1,35.1,null,35.1,35.75,null,35.75,35.75,null,35.1,34.45,null,34.45,34.45,null,34.53125,32.5,null,32.5,32.5,null,32.5,33.15,null,33.15,33.15,null,32.5,31.85,null,31.85,31.85,null,32.540625,30.55,null,30.55,30.55,null,23.7376953125,14.934765625,null,14.934765625,14.934765625,null,14.934765625,17.51953125,null,17.51953125,17.51953125,null,17.51953125,20.7390625,null,20.7390625,20.7390625,null,20.7390625,24.009375,null,24.009375,24.009375,null,24.009375,25.26875,null,25.26875,25.26875,null,25.26875,26.4875,null,26.4875,26.4875,null,26.4875,27.625,null,27.625,27.625,null,27.625,28.6,null,28.6,28.6,null,28.6,29.25,null,29.25,29.25,null,28.6,27.95,null,27.95,27.95,null,27.625,26.650000000000002,null,26.650000000000002,26.650000000000002,null,26.4875,25.35,null,25.35,25.35,null,25.26875,24.05,null,24.05,24.05,null,24.009375,22.75,null,22.75,22.75,null,20.7390625,17.46875,null,17.46875,17.46875,null,17.46875,18.6875,null,18.6875,18.6875,null,18.6875,19.825000000000003,null,19.825000000000003,19.825000000000003,null,19.825000000000003,20.8,null,20.8,20.8,null,20.8,21.45,null,21.45,21.45,null,20.8,20.150000000000002,null,20.150000000000002,20.150000000000002,null,19.825000000000003,18.85,null,18.85,18.85,null,18.6875,17.55,null,17.55,17.55,null,17.46875,16.25,null,16.25,16.25,null,17.51953125,14.3,null,14.3,14.3,null,14.3,14.950000000000001,null,14.950000000000001,14.950000000000001,null,14.3,13.65,null,13.65,13.65,null,14.934765625,12.35,null,12.35,12.35,null,17.06884765625,10.4,null,10.4,10.4,null,10.4,11.05,null,11.05,11.05,null,10.4,9.75,null,9.75,9.75,null,12.759423828125001,8.450000000000001,null,8.450000000000001,8.450000000000001,null,-1.3669677734374996,-15.493359375,null,-15.493359375,-15.493359375,null,-15.493359375,-8.343359375,null,-8.343359375,-8.343359375,null,-8.343359375,-4.9867187500000005,null,-4.9867187500000005,-4.9867187500000005,null,-4.9867187500000005,-1.3609375,null,-1.3609375,-1.3609375,null,-1.3609375,0.8531250000000001,null,0.8531250000000001,0.8531250000000001,null,0.8531250000000001,2.35625,null,2.35625,2.35625,null,2.35625,4.0625,null,4.0625,4.0625,null,4.0625,5.525,null,5.525,5.525,null,5.525,6.5,null,6.5,6.5,null,6.5,7.15,null,7.15,7.15,null,6.5,5.8500000000000005,null,5.8500000000000005,5.8500000000000005,null,5.525,4.55,null,4.55,4.55,null,4.0625,2.6,null,2.6,2.6,null,2.6,3.25,null,3.25,3.25,null,2.6,1.9500000000000002,null,1.9500000000000002,1.9500000000000002,null,2.35625,0.65,null,0.65,0.65,null,0.8531250000000001,-0.65,null,-0.65,-0.65,null,-1.3609375,-3.575,null,-3.575,-3.575,null,-3.575,-2.6,null,-2.6,-2.6,null,-2.6,-1.9500000000000002,null,-1.9500000000000002,-1.9500000000000002,null,-2.6,-3.25,null,-3.25,-3.25,null,-3.575,-4.55,null,-4.55,-4.55,null,-4.9867187500000005,-8.6125,null,-8.6125,-8.6125,null,-8.6125,-7.4750000000000005,null,-7.4750000000000005,-7.4750000000000005,null,-7.4750000000000005,-6.5,null,-6.5,-6.5,null,-6.5,-5.8500000000000005,null,-5.8500000000000005,-5.8500000000000005,null,-6.5,-7.15,null,-7.15,-7.15,null,-7.4750000000000005,-8.450000000000001,null,-8.450000000000001,-8.450000000000001,null,-8.6125,-9.75,null,-9.75,-9.75,null,-8.343359375,-11.7,null,-11.7,-11.7,null,-11.7,-11.05,null,-11.05,-11.05,null,-11.7,-12.35,null,-12.35,-12.35,null,-15.493359375,-22.643359375,null,-22.643359375,-22.643359375,null,-22.643359375,-15.275,null,-15.275,-15.275,null,-15.275,-14.3,null,-14.3,-14.3,null,-14.3,-13.65,null,-13.65,-13.65,null,-14.3,-14.950000000000001,null,-14.950000000000001,-14.950000000000001,null,-15.275,-16.25,null,-16.25,-16.25,null,-22.643359375,-30.01171875,null,-30.01171875,-30.01171875,null,-30.01171875,-25.4109375,null,-25.4109375,-25.4109375,null,-25.4109375,-21.53125,null,-21.53125,-21.53125,null,-21.53125,-20.3125,null,-20.3125,-20.3125,null,-20.3125,-19.175000000000004,null,-19.175000000000004,-19.175000000000004,null,-19.175000000000004,-18.200000000000003,null,-18.200000000000003,-18.200000000000003,null,-18.200000000000003,-17.55,null,-17.55,-17.55,null,-18.200000000000003,-18.85,null,-18.85,-18.85,null,-19.175000000000004,-20.150000000000002,null,-20.150000000000002,-20.150000000000002,null,-20.3125,-21.45,null,-21.45,-21.45,null,-21.53125,-22.75,null,-22.75,-22.75,null,-25.4109375,-29.290625,null,-29.290625,-29.290625,null,-29.290625,-28.03125,null,-28.03125,-28.03125,null,-28.03125,-26.8125,null,-26.8125,-26.8125,null,-26.8125,-25.675000000000004,null,-25.675000000000004,-25.675000000000004,null,-25.675000000000004,-24.700000000000003,null,-24.700000000000003,-24.700000000000003,null,-24.700000000000003,-24.05,null,-24.05,-24.05,null,-24.700000000000003,-25.35,null,-25.35,-25.35,null,-25.675000000000004,-26.650000000000002,null,-26.650000000000002,-26.650000000000002,null,-26.8125,-27.95,null,-27.95,-27.95,null,-28.03125,-29.25,null,-29.25,-29.25,null,-29.290625,-30.55,null,-30.55,-30.55,null,-30.01171875,-34.6125,null,-34.6125,-34.6125,null,-34.6125,-33.475,null,-33.475,-33.475,null,-33.475,-32.5,null,-32.5,-32.5,null,-32.5,-31.85,null,-31.85,-31.85,null,-32.5,-33.15,null,-33.15,-33.15,null,-33.475,-34.45,null,-34.45,-34.45,null,-34.6125,-35.75,null,-35.75,-35.75,null,-19.208483886718753,-37.050000000000004,null,-37.050000000000004,-37.050000000000004,null,-28.779241943359377,-38.35,null,-38.35,-38.35,null,-34.214620971679686,-39.65,null,-39.65,-39.65,null],\"type\":\"scatter\"},{\"hoverinfo\":\"text\",\"marker\":{\"color\":\"black\",\"size\":3,\"symbol\":\"circle\"},\"mode\":\"markers\",\"showlegend\":false,\"text\":[\"root\",\"Eutheria.3\",\"Eutheria.2\",\"Boreoeutheria\",\"Laurasiatheria.4\",\"Laurasiatheria.3\",\"Laurasiatheria.2\",\"Laurasiatheria\",\"Carnivora\",\"Caniformia.3\",\"Caniformia.2\",\"Ursidae\",\"Giant_panda\",\"Polar_bear\",\"Ferret\",\"Canidae\",\"Dingo\",\"Red_fox\",\"Felidae\",\"Cat\",\"Tiger\",\"Horse\",\"Artiodactyla.3\",\"Artiodactyla.2\",\"Artiodactyla\",\"Cetacea\",\"Odontoceti.3\",\"Odontoceti.2\",\"Odontoceti\",\"Monodontidae\",\"Narwhal\",\"Beluga_whale\",\"Vaquita\",\"Dolphin\",\"Sperm_whale\",\"Blue_whale\",\"Pecora.2\",\"Pecora\",\"Bovidae\",\"Bovinae\",\"Wild_yak\",\"American_bison\",\"Goat\",\"Siberian_musk_deer\",\"Yarkand_deer\",\"Suina\",\"Pig\",\"Chacoan_peccary\",\"Arabian_camel\",\"Chiroptera\",\"Greater_horseshoe_bat\",\"Megabat\",\"Hedgehog\",\"Euarchontoglires\",\"Glires\",\"Rodentia.3\",\"Rodentia.2\",\"Rodentia\",\"Myomorpha\",\"Muroidea\",\"Cricetidae.2\",\"Cricetidae\",\"Prairie_vole\",\"Golden_Hamster\",\"Northern_American_deer_mouse\",\"Murinae\",\"Rat\",\"Ryukyu_mouse\",\"Lesser_Egyptian_jerboa\",\"Kangaroo_rat\",\"Hystricomorpha.2\",\"Hystricomorpha\",\"Long_tailed_chinchilla\",\"Degu\",\"Guinea_Pig\",\"Sciuridae\",\"Marmotini.3\",\"Marmotini\",\"Arctic_ground_squirrel\",\"Squirrel\",\"Alpine_marmot\",\"Eurasian_red_squirrel\",\"Lagomorpha\",\"Rabbit\",\"Pika\",\"Primates\",\"Lemuriformes.2\",\"Lemuriformes\",\"Greater_bamboo_lemur\",\"Coquerel's_sifaka\",\"Mouse_Lemur\",\"Simiiformes\",\"Catarrhini\",\"Hominoidea\",\"Hominidae\",\"Homininae.2\",\"Homininae\",\"Human\",\"Chimpanzee\",\"Gorilla\",\"Sumatran_orangutan\",\"Gibbon\",\"Cercopithecidae\",\"Cercopithecinae.5\",\"Cercopithecinae.4\",\"Cercopithecinae.3\",\"Cercopithecinae\",\"Sooty_mangabey\",\"Drill\",\"Olive_baboon\",\"Pig_tailed_macaque\",\"Vervet_AGM\",\"Black_snub_nosed_monkey\",\"Platyrrhini.2\",\"Platyrrhini\",\"Cebidae\",\"Panamanian_white_faced_capuchin\",\"Bolivian_squirrel_monkey\",\"Ma's_night_monkey\",\"White_tufted_ear_marmoset\",\"Elephant\",\"Shrew\",\"aquila_chrysaetos_chrysaetos\"],\"x\":[0,0.25332,0.26365,0.27347,0.28248,0.28754,0.29075,0.29461,0.31911999999999996,0.33011999999999997,0.33843999999999996,0.36318999999999996,0.39094999999999996,0.39994999999999997,0.39932999999999996,0.37589999999999996,0.39191,0.39304999999999995,0.36679999999999996,0.38315999999999995,0.39886999999999995,0.36202999999999996,0.31024,0.31638,0.32663,0.35597999999999996,0.36022999999999994,0.37232999999999994,0.37716999999999995,0.38411999999999996,0.39193999999999996,0.39285,0.39407999999999993,0.42844999999999994,0.39436999999999994,0.38287999999999994,0.37318999999999997,0.37704999999999994,0.3831399999999999,0.40606999999999993,0.4238599999999999,0.4249899999999999,0.4178199999999999,0.41319999999999996,0.40809999999999996,0.35229,0.39637,0.39993,0.38151,0.31103000000000003,0.38063,0.41784000000000004,0.5899300000000001,0.28547,0.2921,0.30461000000000005,0.30866000000000005,0.31820000000000004,0.33875000000000005,0.39860000000000007,0.41159000000000007,0.41630000000000006,0.48151000000000005,0.4999300000000001,0.46980000000000005,0.43411000000000005,0.48828000000000005,0.49495000000000006,0.46212000000000003,0.45614000000000005,0.37562000000000006,0.38504000000000005,0.44344000000000006,0.46718000000000004,0.45604000000000006,0.34540000000000004,0.37835,0.38583,0.40579,0.40838,0.40112000000000003,0.39335000000000003,0.34008000000000005,0.42778000000000005,0.5533100000000001,0.2952,0.33415,0.33747,0.3781,0.38789,0.38063,0.33549,0.34934,0.35785999999999996,0.36217999999999995,0.37133999999999995,0.3746499999999999,0.3848599999999999,0.3876199999999999,0.39119999999999994,0.38256999999999997,0.39503999999999995,0.36322,0.36943,0.3736,0.37573,0.37845,0.39393,0.40061,0.39199,0.39416999999999996,0.38664,0.40212,0.35933000000000004,0.36216000000000004,0.36636,0.39537,0.40168000000000004,0.39668000000000003,0.39120000000000005,0.37539,0.60322,0.3078],\"y\":[-34.214620971679686,-28.779241943359377,-19.208483886718753,-1.3669677734374996,12.759423828125001,17.06884765625,23.7376953125,32.540625,34.53125,36.5625,38.025000000000006,39.0,39.65,38.35,37.050000000000004,35.1,35.75,34.45,32.5,33.15,31.85,30.55,14.934765625,17.51953125,20.7390625,24.009375,25.26875,26.4875,27.625,28.6,29.25,27.95,26.650000000000002,25.35,24.05,22.75,17.46875,18.6875,19.825000000000003,20.8,21.45,20.150000000000002,18.85,17.55,16.25,14.3,14.950000000000001,13.65,12.35,10.4,11.05,9.75,8.450000000000001,-15.493359375,-8.343359375,-4.9867187500000005,-1.3609375,0.8531250000000001,2.35625,4.0625,5.525,6.5,7.15,5.8500000000000005,4.55,2.6,3.25,1.9500000000000002,0.65,-0.65,-3.575,-2.6,-1.9500000000000002,-3.25,-4.55,-8.6125,-7.4750000000000005,-6.5,-5.8500000000000005,-7.15,-8.450000000000001,-9.75,-11.7,-11.05,-12.35,-22.643359375,-15.275,-14.3,-13.65,-14.950000000000001,-16.25,-30.01171875,-25.4109375,-21.53125,-20.3125,-19.175000000000004,-18.200000000000003,-17.55,-18.85,-20.150000000000002,-21.45,-22.75,-29.290625,-28.03125,-26.8125,-25.675000000000004,-24.700000000000003,-24.05,-25.35,-26.650000000000002,-27.95,-29.25,-30.55,-34.6125,-33.475,-32.5,-31.85,-33.15,-34.45,-35.75,-37.050000000000004,-38.35,-39.65],\"type\":\"scatter\"}],                        {\"annotations\":[{\"font\":{\"family\":\"Inconsolata, monospace\",\"size\":12},\"showarrow\":false,\"text\":\"Giant_panda\",\"textangle\":0,\"x\":0.40603049999999996,\"xanchor\":\"left\",\"xref\":\"x\",\"y\":39.65,\"yref\":\"y\"},{\"font\":{\"family\":\"Inconsolata, monospace\",\"size\":12},\"showarrow\":false,\"text\":\"Polar_bear\",\"textangle\":0,\"x\":0.41503049999999997,\"xanchor\":\"left\",\"xref\":\"x\",\"y\":38.35,\"yref\":\"y\"},{\"font\":{\"family\":\"Inconsolata, monospace\",\"size\":12},\"showarrow\":false,\"text\":\"Ferret\",\"textangle\":0,\"x\":0.41441049999999996,\"xanchor\":\"left\",\"xref\":\"x\",\"y\":37.050000000000004,\"yref\":\"y\"},{\"font\":{\"family\":\"Inconsolata, monospace\",\"size\":12},\"showarrow\":false,\"text\":\"Dingo\",\"textangle\":0,\"x\":0.4069905,\"xanchor\":\"left\",\"xref\":\"x\",\"y\":35.75,\"yref\":\"y\"},{\"font\":{\"family\":\"Inconsolata, monospace\",\"size\":12},\"showarrow\":false,\"text\":\"Red_fox\",\"textangle\":0,\"x\":0.40813049999999995,\"xanchor\":\"left\",\"xref\":\"x\",\"y\":34.45,\"yref\":\"y\"},{\"font\":{\"family\":\"Inconsolata, monospace\",\"size\":12},\"showarrow\":false,\"text\":\"Cat\",\"textangle\":0,\"x\":0.39824049999999994,\"xanchor\":\"left\",\"xref\":\"x\",\"y\":33.15,\"yref\":\"y\"},{\"font\":{\"family\":\"Inconsolata, monospace\",\"size\":12},\"showarrow\":false,\"text\":\"Tiger\",\"textangle\":0,\"x\":0.41395049999999994,\"xanchor\":\"left\",\"xref\":\"x\",\"y\":31.85,\"yref\":\"y\"},{\"font\":{\"family\":\"Inconsolata, monospace\",\"size\":12},\"showarrow\":false,\"text\":\"Horse\",\"textangle\":0,\"x\":0.37711049999999996,\"xanchor\":\"left\",\"xref\":\"x\",\"y\":30.55,\"yref\":\"y\"},{\"font\":{\"family\":\"Inconsolata, monospace\",\"size\":12},\"showarrow\":false,\"text\":\"Narwhal\",\"textangle\":0,\"x\":0.40702049999999995,\"xanchor\":\"left\",\"xref\":\"x\",\"y\":29.25,\"yref\":\"y\"},{\"font\":{\"family\":\"Inconsolata, monospace\",\"size\":12},\"showarrow\":false,\"text\":\"Beluga_whale\",\"textangle\":0,\"x\":0.4079305,\"xanchor\":\"left\",\"xref\":\"x\",\"y\":27.95,\"yref\":\"y\"},{\"font\":{\"family\":\"Inconsolata, monospace\",\"size\":12},\"showarrow\":false,\"text\":\"Vaquita\",\"textangle\":0,\"x\":0.4091604999999999,\"xanchor\":\"left\",\"xref\":\"x\",\"y\":26.650000000000002,\"yref\":\"y\"},{\"font\":{\"family\":\"Inconsolata, monospace\",\"size\":12},\"showarrow\":false,\"text\":\"Dolphin\",\"textangle\":0,\"x\":0.44353049999999994,\"xanchor\":\"left\",\"xref\":\"x\",\"y\":25.35,\"yref\":\"y\"},{\"font\":{\"family\":\"Inconsolata, monospace\",\"size\":12},\"showarrow\":false,\"text\":\"Sperm_whale\",\"textangle\":0,\"x\":0.40945049999999994,\"xanchor\":\"left\",\"xref\":\"x\",\"y\":24.05,\"yref\":\"y\"},{\"font\":{\"family\":\"Inconsolata, monospace\",\"size\":12},\"showarrow\":false,\"text\":\"Blue_whale\",\"textangle\":0,\"x\":0.39796049999999994,\"xanchor\":\"left\",\"xref\":\"x\",\"y\":22.75,\"yref\":\"y\"},{\"font\":{\"family\":\"Inconsolata, monospace\",\"size\":12},\"showarrow\":false,\"text\":\"Wild_yak\",\"textangle\":0,\"x\":0.4389404999999999,\"xanchor\":\"left\",\"xref\":\"x\",\"y\":21.45,\"yref\":\"y\"},{\"font\":{\"family\":\"Inconsolata, monospace\",\"size\":12},\"showarrow\":false,\"text\":\"American_bison\",\"textangle\":0,\"x\":0.4400704999999999,\"xanchor\":\"left\",\"xref\":\"x\",\"y\":20.150000000000002,\"yref\":\"y\"},{\"font\":{\"family\":\"Inconsolata, monospace\",\"size\":12},\"showarrow\":false,\"text\":\"Goat\",\"textangle\":0,\"x\":0.4329004999999999,\"xanchor\":\"left\",\"xref\":\"x\",\"y\":18.85,\"yref\":\"y\"},{\"font\":{\"family\":\"Inconsolata, monospace\",\"size\":12},\"showarrow\":false,\"text\":\"Siberian_musk_deer\",\"textangle\":0,\"x\":0.42828049999999995,\"xanchor\":\"left\",\"xref\":\"x\",\"y\":17.55,\"yref\":\"y\"},{\"font\":{\"family\":\"Inconsolata, monospace\",\"size\":12},\"showarrow\":false,\"text\":\"Yarkand_deer\",\"textangle\":0,\"x\":0.42318049999999996,\"xanchor\":\"left\",\"xref\":\"x\",\"y\":16.25,\"yref\":\"y\"},{\"font\":{\"family\":\"Inconsolata, monospace\",\"size\":12},\"showarrow\":false,\"text\":\"Pig\",\"textangle\":0,\"x\":0.4114505,\"xanchor\":\"left\",\"xref\":\"x\",\"y\":14.950000000000001,\"yref\":\"y\"},{\"font\":{\"family\":\"Inconsolata, monospace\",\"size\":12},\"showarrow\":false,\"text\":\"Chacoan_peccary\",\"textangle\":0,\"x\":0.4150105,\"xanchor\":\"left\",\"xref\":\"x\",\"y\":13.65,\"yref\":\"y\"},{\"font\":{\"family\":\"Inconsolata, monospace\",\"size\":12},\"showarrow\":false,\"text\":\"Arabian_camel\",\"textangle\":0,\"x\":0.3965905,\"xanchor\":\"left\",\"xref\":\"x\",\"y\":12.35,\"yref\":\"y\"},{\"font\":{\"family\":\"Inconsolata, monospace\",\"size\":12},\"showarrow\":false,\"text\":\"Greater_horseshoe_bat\",\"textangle\":0,\"x\":0.3957105,\"xanchor\":\"left\",\"xref\":\"x\",\"y\":11.05,\"yref\":\"y\"},{\"font\":{\"family\":\"Inconsolata, monospace\",\"size\":12},\"showarrow\":false,\"text\":\"Megabat\",\"textangle\":0,\"x\":0.43292050000000004,\"xanchor\":\"left\",\"xref\":\"x\",\"y\":9.75,\"yref\":\"y\"},{\"font\":{\"family\":\"Inconsolata, monospace\",\"size\":12},\"showarrow\":false,\"text\":\"Hedgehog\",\"textangle\":0,\"x\":0.6050105000000001,\"xanchor\":\"left\",\"xref\":\"x\",\"y\":8.450000000000001,\"yref\":\"y\"},{\"font\":{\"family\":\"Inconsolata, monospace\",\"size\":12},\"showarrow\":false,\"text\":\"Prairie_vole\",\"textangle\":0,\"x\":0.49659050000000005,\"xanchor\":\"left\",\"xref\":\"x\",\"y\":7.15,\"yref\":\"y\"},{\"font\":{\"family\":\"Inconsolata, monospace\",\"size\":12},\"showarrow\":false,\"text\":\"Golden_Hamster\",\"textangle\":0,\"x\":0.5150105000000001,\"xanchor\":\"left\",\"xref\":\"x\",\"y\":5.8500000000000005,\"yref\":\"y\"},{\"font\":{\"family\":\"Inconsolata, monospace\",\"size\":12},\"showarrow\":false,\"text\":\"Northern_American_deer_mouse\",\"textangle\":0,\"x\":0.48488050000000005,\"xanchor\":\"left\",\"xref\":\"x\",\"y\":4.55,\"yref\":\"y\"},{\"font\":{\"family\":\"Inconsolata, monospace\",\"size\":12},\"showarrow\":false,\"text\":\"Rat\",\"textangle\":0,\"x\":0.5033605000000001,\"xanchor\":\"left\",\"xref\":\"x\",\"y\":3.25,\"yref\":\"y\"},{\"font\":{\"family\":\"Inconsolata, monospace\",\"size\":12},\"showarrow\":false,\"text\":\"Ryukyu_mouse\",\"textangle\":0,\"x\":0.5100305,\"xanchor\":\"left\",\"xref\":\"x\",\"y\":1.9500000000000002,\"yref\":\"y\"},{\"font\":{\"family\":\"Inconsolata, monospace\",\"size\":12},\"showarrow\":false,\"text\":\"Lesser_Egyptian_jerboa\",\"textangle\":0,\"x\":0.4772005,\"xanchor\":\"left\",\"xref\":\"x\",\"y\":0.65,\"yref\":\"y\"},{\"font\":{\"family\":\"Inconsolata, monospace\",\"size\":12},\"showarrow\":false,\"text\":\"Kangaroo_rat\",\"textangle\":0,\"x\":0.47122050000000004,\"xanchor\":\"left\",\"xref\":\"x\",\"y\":-0.65,\"yref\":\"y\"},{\"font\":{\"family\":\"Inconsolata, monospace\",\"size\":12},\"showarrow\":false,\"text\":\"Long_tailed_chinchilla\",\"textangle\":0,\"x\":0.45852050000000005,\"xanchor\":\"left\",\"xref\":\"x\",\"y\":-1.9500000000000002,\"yref\":\"y\"},{\"font\":{\"family\":\"Inconsolata, monospace\",\"size\":12},\"showarrow\":false,\"text\":\"Degu\",\"textangle\":0,\"x\":0.48226050000000004,\"xanchor\":\"left\",\"xref\":\"x\",\"y\":-3.25,\"yref\":\"y\"},{\"font\":{\"family\":\"Inconsolata, monospace\",\"size\":12},\"showarrow\":false,\"text\":\"Guinea_Pig\",\"textangle\":0,\"x\":0.47112050000000005,\"xanchor\":\"left\",\"xref\":\"x\",\"y\":-4.55,\"yref\":\"y\"},{\"font\":{\"family\":\"Inconsolata, monospace\",\"size\":12},\"showarrow\":false,\"text\":\"Arctic_ground_squirrel\",\"textangle\":0,\"x\":0.4208705,\"xanchor\":\"left\",\"xref\":\"x\",\"y\":-5.8500000000000005,\"yref\":\"y\"},{\"font\":{\"family\":\"Inconsolata, monospace\",\"size\":12},\"showarrow\":false,\"text\":\"Squirrel\",\"textangle\":0,\"x\":0.4234605,\"xanchor\":\"left\",\"xref\":\"x\",\"y\":-7.15,\"yref\":\"y\"},{\"font\":{\"family\":\"Inconsolata, monospace\",\"size\":12},\"showarrow\":false,\"text\":\"Alpine_marmot\",\"textangle\":0,\"x\":0.41620050000000003,\"xanchor\":\"left\",\"xref\":\"x\",\"y\":-8.450000000000001,\"yref\":\"y\"},{\"font\":{\"family\":\"Inconsolata, monospace\",\"size\":12},\"showarrow\":false,\"text\":\"Eurasian_red_squirrel\",\"textangle\":0,\"x\":0.40843050000000003,\"xanchor\":\"left\",\"xref\":\"x\",\"y\":-9.75,\"yref\":\"y\"},{\"font\":{\"family\":\"Inconsolata, monospace\",\"size\":12},\"showarrow\":false,\"text\":\"Rabbit\",\"textangle\":0,\"x\":0.44286050000000005,\"xanchor\":\"left\",\"xref\":\"x\",\"y\":-11.05,\"yref\":\"y\"},{\"font\":{\"family\":\"Inconsolata, monospace\",\"size\":12},\"showarrow\":false,\"text\":\"Pika\",\"textangle\":0,\"x\":0.5683905000000001,\"xanchor\":\"left\",\"xref\":\"x\",\"y\":-12.35,\"yref\":\"y\"},{\"font\":{\"family\":\"Inconsolata, monospace\",\"size\":12},\"showarrow\":false,\"text\":\"Greater_bamboo_lemur\",\"textangle\":0,\"x\":0.3931805,\"xanchor\":\"left\",\"xref\":\"x\",\"y\":-13.65,\"yref\":\"y\"},{\"font\":{\"family\":\"Inconsolata, monospace\",\"size\":12},\"showarrow\":false,\"text\":\"Coquerel's_sifaka\",\"textangle\":0,\"x\":0.4029705,\"xanchor\":\"left\",\"xref\":\"x\",\"y\":-14.950000000000001,\"yref\":\"y\"},{\"font\":{\"family\":\"Inconsolata, monospace\",\"size\":12},\"showarrow\":false,\"text\":\"Mouse_Lemur\",\"textangle\":0,\"x\":0.3957105,\"xanchor\":\"left\",\"xref\":\"x\",\"y\":-16.25,\"yref\":\"y\"},{\"font\":{\"family\":\"Inconsolata, monospace\",\"size\":12},\"showarrow\":false,\"text\":\"Human\",\"textangle\":0,\"x\":0.3999404999999999,\"xanchor\":\"left\",\"xref\":\"x\",\"y\":-17.55,\"yref\":\"y\"},{\"font\":{\"family\":\"Inconsolata, monospace\",\"size\":12},\"showarrow\":false,\"text\":\"Chimpanzee\",\"textangle\":0,\"x\":0.4027004999999999,\"xanchor\":\"left\",\"xref\":\"x\",\"y\":-18.85,\"yref\":\"y\"},{\"font\":{\"family\":\"Inconsolata, monospace\",\"size\":12},\"showarrow\":false,\"text\":\"Gorilla\",\"textangle\":0,\"x\":0.40628049999999993,\"xanchor\":\"left\",\"xref\":\"x\",\"y\":-20.150000000000002,\"yref\":\"y\"},{\"font\":{\"family\":\"Inconsolata, monospace\",\"size\":12},\"showarrow\":false,\"text\":\"Sumatran_orangutan\",\"textangle\":0,\"x\":0.39765049999999996,\"xanchor\":\"left\",\"xref\":\"x\",\"y\":-21.45,\"yref\":\"y\"},{\"font\":{\"family\":\"Inconsolata, monospace\",\"size\":12},\"showarrow\":false,\"text\":\"Gibbon\",\"textangle\":0,\"x\":0.41012049999999994,\"xanchor\":\"left\",\"xref\":\"x\",\"y\":-22.75,\"yref\":\"y\"},{\"font\":{\"family\":\"Inconsolata, monospace\",\"size\":12},\"showarrow\":false,\"text\":\"Sooty_mangabey\",\"textangle\":0,\"x\":0.4090105,\"xanchor\":\"left\",\"xref\":\"x\",\"y\":-24.05,\"yref\":\"y\"},{\"font\":{\"family\":\"Inconsolata, monospace\",\"size\":12},\"showarrow\":false,\"text\":\"Drill\",\"textangle\":0,\"x\":0.4156905,\"xanchor\":\"left\",\"xref\":\"x\",\"y\":-25.35,\"yref\":\"y\"},{\"font\":{\"family\":\"Inconsolata, monospace\",\"size\":12},\"showarrow\":false,\"text\":\"Olive_baboon\",\"textangle\":0,\"x\":0.4070705,\"xanchor\":\"left\",\"xref\":\"x\",\"y\":-26.650000000000002,\"yref\":\"y\"},{\"font\":{\"family\":\"Inconsolata, monospace\",\"size\":12},\"showarrow\":false,\"text\":\"Pig_tailed_macaque\",\"textangle\":0,\"x\":0.40925049999999996,\"xanchor\":\"left\",\"xref\":\"x\",\"y\":-27.95,\"yref\":\"y\"},{\"font\":{\"family\":\"Inconsolata, monospace\",\"size\":12},\"showarrow\":false,\"text\":\"Vervet_AGM\",\"textangle\":0,\"x\":0.4017205,\"xanchor\":\"left\",\"xref\":\"x\",\"y\":-29.25,\"yref\":\"y\"},{\"font\":{\"family\":\"Inconsolata, monospace\",\"size\":12},\"showarrow\":false,\"text\":\"Black_snub_nosed_monkey\",\"textangle\":0,\"x\":0.4172005,\"xanchor\":\"left\",\"xref\":\"x\",\"y\":-30.55,\"yref\":\"y\"},{\"font\":{\"family\":\"Inconsolata, monospace\",\"size\":12},\"showarrow\":false,\"text\":\"Panamanian_white_faced_capuchin\",\"textangle\":0,\"x\":0.4104505,\"xanchor\":\"left\",\"xref\":\"x\",\"y\":-31.85,\"yref\":\"y\"},{\"font\":{\"family\":\"Inconsolata, monospace\",\"size\":12},\"showarrow\":false,\"text\":\"Bolivian_squirrel_monkey\",\"textangle\":0,\"x\":0.41676050000000003,\"xanchor\":\"left\",\"xref\":\"x\",\"y\":-33.15,\"yref\":\"y\"},{\"font\":{\"family\":\"Inconsolata, monospace\",\"size\":12},\"showarrow\":false,\"text\":\"Ma's_night_monkey\",\"textangle\":0,\"x\":0.41176050000000003,\"xanchor\":\"left\",\"xref\":\"x\",\"y\":-34.45,\"yref\":\"y\"},{\"font\":{\"family\":\"Inconsolata, monospace\",\"size\":12},\"showarrow\":false,\"text\":\"White_tufted_ear_marmoset\",\"textangle\":0,\"x\":0.40628050000000004,\"xanchor\":\"left\",\"xref\":\"x\",\"y\":-35.75,\"yref\":\"y\"},{\"font\":{\"family\":\"Inconsolata, monospace\",\"size\":12},\"showarrow\":false,\"text\":\"Elephant\",\"textangle\":0,\"x\":0.3904705,\"xanchor\":\"left\",\"xref\":\"x\",\"y\":-37.050000000000004,\"yref\":\"y\"},{\"font\":{\"family\":\"Inconsolata, monospace\",\"size\":12},\"showarrow\":false,\"text\":\"Shrew\",\"textangle\":0,\"x\":0.6183005,\"xanchor\":\"left\",\"xref\":\"x\",\"y\":-38.35,\"yref\":\"y\"},{\"font\":{\"family\":\"Inconsolata, monospace\",\"size\":12},\"showarrow\":false,\"text\":\"aquila_chrysaetos_chrysaetos\",\"textangle\":0,\"x\":0.3228805,\"xanchor\":\"left\",\"xref\":\"x\",\"y\":-39.65,\"yref\":\"y\"},{\"ax\":0,\"ay\":0,\"showarrow\":false,\"text\":\"0.06\",\"x\":0.030161,\"xref\":\"x\",\"y\":-46.85909090909091,\"yref\":\"y\",\"yshift\":10}],\"autosize\":true,\"font\":{\"family\":\"Balto\",\"size\":14},\"height\":1000,\"hovermode\":\"closest\",\"margin\":{\"b\":50,\"l\":50,\"pad\":4,\"r\":50,\"t\":50},\"shapes\":[{\"line\":{\"color\":\"black\",\"width\":1.25},\"name\":\"scale_bar\",\"type\":\"line\",\"x0\":0,\"x1\":0.060322,\"y0\":-46.85909090909091,\"y1\":-46.85909090909091}],\"showlegend\":false,\"width\":1000,\"xaxis\":{\"visible\":false},\"yaxis\":{\"visible\":false},\"template\":{\"data\":{\"histogram2dcontour\":[{\"type\":\"histogram2dcontour\",\"colorbar\":{\"outlinewidth\":0,\"ticks\":\"\"},\"colorscale\":[[0.0,\"#0d0887\"],[0.1111111111111111,\"#46039f\"],[0.2222222222222222,\"#7201a8\"],[0.3333333333333333,\"#9c179e\"],[0.4444444444444444,\"#bd3786\"],[0.5555555555555556,\"#d8576b\"],[0.6666666666666666,\"#ed7953\"],[0.7777777777777778,\"#fb9f3a\"],[0.8888888888888888,\"#fdca26\"],[1.0,\"#f0f921\"]]}],\"choropleth\":[{\"type\":\"choropleth\",\"colorbar\":{\"outlinewidth\":0,\"ticks\":\"\"}}],\"histogram2d\":[{\"type\":\"histogram2d\",\"colorbar\":{\"outlinewidth\":0,\"ticks\":\"\"},\"colorscale\":[[0.0,\"#0d0887\"],[0.1111111111111111,\"#46039f\"],[0.2222222222222222,\"#7201a8\"],[0.3333333333333333,\"#9c179e\"],[0.4444444444444444,\"#bd3786\"],[0.5555555555555556,\"#d8576b\"],[0.6666666666666666,\"#ed7953\"],[0.7777777777777778,\"#fb9f3a\"],[0.8888888888888888,\"#fdca26\"],[1.0,\"#f0f921\"]]}],\"heatmap\":[{\"type\":\"heatmap\",\"colorbar\":{\"outlinewidth\":0,\"ticks\":\"\"},\"colorscale\":[[0.0,\"#0d0887\"],[0.1111111111111111,\"#46039f\"],[0.2222222222222222,\"#7201a8\"],[0.3333333333333333,\"#9c179e\"],[0.4444444444444444,\"#bd3786\"],[0.5555555555555556,\"#d8576b\"],[0.6666666666666666,\"#ed7953\"],[0.7777777777777778,\"#fb9f3a\"],[0.8888888888888888,\"#fdca26\"],[1.0,\"#f0f921\"]]}],\"heatmapgl\":[{\"type\":\"heatmapgl\",\"colorbar\":{\"outlinewidth\":0,\"ticks\":\"\"},\"colorscale\":[[0.0,\"#0d0887\"],[0.1111111111111111,\"#46039f\"],[0.2222222222222222,\"#7201a8\"],[0.3333333333333333,\"#9c179e\"],[0.4444444444444444,\"#bd3786\"],[0.5555555555555556,\"#d8576b\"],[0.6666666666666666,\"#ed7953\"],[0.7777777777777778,\"#fb9f3a\"],[0.8888888888888888,\"#fdca26\"],[1.0,\"#f0f921\"]]}],\"contourcarpet\":[{\"type\":\"contourcarpet\",\"colorbar\":{\"outlinewidth\":0,\"ticks\":\"\"}}],\"contour\":[{\"type\":\"contour\",\"colorbar\":{\"outlinewidth\":0,\"ticks\":\"\"},\"colorscale\":[[0.0,\"#0d0887\"],[0.1111111111111111,\"#46039f\"],[0.2222222222222222,\"#7201a8\"],[0.3333333333333333,\"#9c179e\"],[0.4444444444444444,\"#bd3786\"],[0.5555555555555556,\"#d8576b\"],[0.6666666666666666,\"#ed7953\"],[0.7777777777777778,\"#fb9f3a\"],[0.8888888888888888,\"#fdca26\"],[1.0,\"#f0f921\"]]}],\"surface\":[{\"type\":\"surface\",\"colorbar\":{\"outlinewidth\":0,\"ticks\":\"\"},\"colorscale\":[[0.0,\"#0d0887\"],[0.1111111111111111,\"#46039f\"],[0.2222222222222222,\"#7201a8\"],[0.3333333333333333,\"#9c179e\"],[0.4444444444444444,\"#bd3786\"],[0.5555555555555556,\"#d8576b\"],[0.6666666666666666,\"#ed7953\"],[0.7777777777777778,\"#fb9f3a\"],[0.8888888888888888,\"#fdca26\"],[1.0,\"#f0f921\"]]}],\"mesh3d\":[{\"type\":\"mesh3d\",\"colorbar\":{\"outlinewidth\":0,\"ticks\":\"\"}}],\"scatter\":[{\"fillpattern\":{\"fillmode\":\"overlay\",\"size\":10,\"solidity\":0.2},\"type\":\"scatter\"}],\"parcoords\":[{\"type\":\"parcoords\",\"line\":{\"colorbar\":{\"outlinewidth\":0,\"ticks\":\"\"}}}],\"scatterpolargl\":[{\"type\":\"scatterpolargl\",\"marker\":{\"colorbar\":{\"outlinewidth\":0,\"ticks\":\"\"}}}],\"bar\":[{\"error_x\":{\"color\":\"#2a3f5f\"},\"error_y\":{\"color\":\"#2a3f5f\"},\"marker\":{\"line\":{\"color\":\"#E5ECF6\",\"width\":0.5},\"pattern\":{\"fillmode\":\"overlay\",\"size\":10,\"solidity\":0.2}},\"type\":\"bar\"}],\"scattergeo\":[{\"type\":\"scattergeo\",\"marker\":{\"colorbar\":{\"outlinewidth\":0,\"ticks\":\"\"}}}],\"scatterpolar\":[{\"type\":\"scatterpolar\",\"marker\":{\"colorbar\":{\"outlinewidth\":0,\"ticks\":\"\"}}}],\"histogram\":[{\"marker\":{\"pattern\":{\"fillmode\":\"overlay\",\"size\":10,\"solidity\":0.2}},\"type\":\"histogram\"}],\"scattergl\":[{\"type\":\"scattergl\",\"marker\":{\"colorbar\":{\"outlinewidth\":0,\"ticks\":\"\"}}}],\"scatter3d\":[{\"type\":\"scatter3d\",\"line\":{\"colorbar\":{\"outlinewidth\":0,\"ticks\":\"\"}},\"marker\":{\"colorbar\":{\"outlinewidth\":0,\"ticks\":\"\"}}}],\"scattermapbox\":[{\"type\":\"scattermapbox\",\"marker\":{\"colorbar\":{\"outlinewidth\":0,\"ticks\":\"\"}}}],\"scatterternary\":[{\"type\":\"scatterternary\",\"marker\":{\"colorbar\":{\"outlinewidth\":0,\"ticks\":\"\"}}}],\"scattercarpet\":[{\"type\":\"scattercarpet\",\"marker\":{\"colorbar\":{\"outlinewidth\":0,\"ticks\":\"\"}}}],\"carpet\":[{\"aaxis\":{\"endlinecolor\":\"#2a3f5f\",\"gridcolor\":\"white\",\"linecolor\":\"white\",\"minorgridcolor\":\"white\",\"startlinecolor\":\"#2a3f5f\"},\"baxis\":{\"endlinecolor\":\"#2a3f5f\",\"gridcolor\":\"white\",\"linecolor\":\"white\",\"minorgridcolor\":\"white\",\"startlinecolor\":\"#2a3f5f\"},\"type\":\"carpet\"}],\"table\":[{\"cells\":{\"fill\":{\"color\":\"#EBF0F8\"},\"line\":{\"color\":\"white\"}},\"header\":{\"fill\":{\"color\":\"#C8D4E3\"},\"line\":{\"color\":\"white\"}},\"type\":\"table\"}],\"barpolar\":[{\"marker\":{\"line\":{\"color\":\"#E5ECF6\",\"width\":0.5},\"pattern\":{\"fillmode\":\"overlay\",\"size\":10,\"solidity\":0.2}},\"type\":\"barpolar\"}],\"pie\":[{\"automargin\":true,\"type\":\"pie\"}]},\"layout\":{\"autotypenumbers\":\"strict\",\"colorway\":[\"#636efa\",\"#EF553B\",\"#00cc96\",\"#ab63fa\",\"#FFA15A\",\"#19d3f3\",\"#FF6692\",\"#B6E880\",\"#FF97FF\",\"#FECB52\"],\"font\":{\"color\":\"#2a3f5f\"},\"hovermode\":\"closest\",\"hoverlabel\":{\"align\":\"left\"},\"paper_bgcolor\":\"white\",\"plot_bgcolor\":\"#E5ECF6\",\"polar\":{\"bgcolor\":\"#E5ECF6\",\"angularaxis\":{\"gridcolor\":\"white\",\"linecolor\":\"white\",\"ticks\":\"\"},\"radialaxis\":{\"gridcolor\":\"white\",\"linecolor\":\"white\",\"ticks\":\"\"}},\"ternary\":{\"bgcolor\":\"#E5ECF6\",\"aaxis\":{\"gridcolor\":\"white\",\"linecolor\":\"white\",\"ticks\":\"\"},\"baxis\":{\"gridcolor\":\"white\",\"linecolor\":\"white\",\"ticks\":\"\"},\"caxis\":{\"gridcolor\":\"white\",\"linecolor\":\"white\",\"ticks\":\"\"}},\"coloraxis\":{\"colorbar\":{\"outlinewidth\":0,\"ticks\":\"\"}},\"colorscale\":{\"sequential\":[[0.0,\"#0d0887\"],[0.1111111111111111,\"#46039f\"],[0.2222222222222222,\"#7201a8\"],[0.3333333333333333,\"#9c179e\"],[0.4444444444444444,\"#bd3786\"],[0.5555555555555556,\"#d8576b\"],[0.6666666666666666,\"#ed7953\"],[0.7777777777777778,\"#fb9f3a\"],[0.8888888888888888,\"#fdca26\"],[1.0,\"#f0f921\"]],\"sequentialminus\":[[0.0,\"#0d0887\"],[0.1111111111111111,\"#46039f\"],[0.2222222222222222,\"#7201a8\"],[0.3333333333333333,\"#9c179e\"],[0.4444444444444444,\"#bd3786\"],[0.5555555555555556,\"#d8576b\"],[0.6666666666666666,\"#ed7953\"],[0.7777777777777778,\"#fb9f3a\"],[0.8888888888888888,\"#fdca26\"],[1.0,\"#f0f921\"]],\"diverging\":[[0,\"#8e0152\"],[0.1,\"#c51b7d\"],[0.2,\"#de77ae\"],[0.3,\"#f1b6da\"],[0.4,\"#fde0ef\"],[0.5,\"#f7f7f7\"],[0.6,\"#e6f5d0\"],[0.7,\"#b8e186\"],[0.8,\"#7fbc41\"],[0.9,\"#4d9221\"],[1,\"#276419\"]]},\"xaxis\":{\"gridcolor\":\"white\",\"linecolor\":\"white\",\"ticks\":\"\",\"title\":{\"standoff\":15},\"zerolinecolor\":\"white\",\"automargin\":true,\"zerolinewidth\":2},\"yaxis\":{\"gridcolor\":\"white\",\"linecolor\":\"white\",\"ticks\":\"\",\"title\":{\"standoff\":15},\"zerolinecolor\":\"white\",\"automargin\":true,\"zerolinewidth\":2},\"scene\":{\"xaxis\":{\"backgroundcolor\":\"#E5ECF6\",\"gridcolor\":\"white\",\"linecolor\":\"white\",\"showbackground\":true,\"ticks\":\"\",\"zerolinecolor\":\"white\",\"gridwidth\":2},\"yaxis\":{\"backgroundcolor\":\"#E5ECF6\",\"gridcolor\":\"white\",\"linecolor\":\"white\",\"showbackground\":true,\"ticks\":\"\",\"zerolinecolor\":\"white\",\"gridwidth\":2},\"zaxis\":{\"backgroundcolor\":\"#E5ECF6\",\"gridcolor\":\"white\",\"linecolor\":\"white\",\"showbackground\":true,\"ticks\":\"\",\"zerolinecolor\":\"white\",\"gridwidth\":2}},\"shapedefaults\":{\"line\":{\"color\":\"#2a3f5f\"}},\"annotationdefaults\":{\"arrowcolor\":\"#2a3f5f\",\"arrowhead\":0,\"arrowwidth\":1},\"geo\":{\"bgcolor\":\"white\",\"landcolor\":\"#E5ECF6\",\"subunitcolor\":\"white\",\"showland\":true,\"showlakes\":true,\"lakecolor\":\"white\"},\"title\":{\"x\":0.05},\"mapbox\":{\"style\":\"light\"}}}},                        {\"responsive\": true}                    ).then(function(){\n",
       "                            \n",
       "var gd = document.getElementById('cb8f2ca8-4bd2-418f-96fe-fd075c16e080');\n",
       "var x = new MutationObserver(function (mutations, observer) {{\n",
       "        var display = window.getComputedStyle(gd).display;\n",
       "        if (!display || display === 'none') {{\n",
       "            console.log([gd, 'removed!']);\n",
       "            Plotly.purge(gd);\n",
       "            observer.disconnect();\n",
       "        }}\n",
       "}});\n",
       "\n",
       "// Listen for the removal of the full notebook cells\n",
       "var notebookContainer = gd.closest('#notebook-container');\n",
       "if (notebookContainer) {{\n",
       "    x.observe(notebookContainer, {childList: true});\n",
       "}}\n",
       "\n",
       "// Listen for the clearing of the current output cell\n",
       "var outputEl = gd.closest('.output');\n",
       "if (outputEl) {{\n",
       "    x.observe(outputEl, {childList: true});\n",
       "}}\n",
       "\n",
       "                        })                };                });            </script>        </div>"
      ]
     },
     "metadata": {},
     "output_type": "display_data"
    },
    {
     "data": {
      "text/plain": [
       "<cogent3.draw.dendrogram.Dendrogram at 0x16d1d4d40>"
      ]
     },
     "execution_count": 15,
     "metadata": {},
     "output_type": "execute_result"
    }
   ],
   "source": [
    "seq_path = '/Users/gulugulu/Desktop/honours/data_local_2/sequences_filterd_550_threshold/ENSG00000265203.json'\n",
    "sequence = load_json_app(seq_path)\n",
    "species_names = sequence.names\n",
    "outgroup_species = ['aquila_chrysaetos_chrysaetos']\n",
    "tip_names = species_names + outgroup_species\n",
    "tree_sub = tree_vertebrates.get_sub_tree(tip_names)\n",
    "tree_sub.get_figure(show_support=True, threshold=0.8, height = 1000, width = 1000)"
   ]
  },
  {
   "cell_type": "code",
   "execution_count": 16,
   "metadata": {},
   "outputs": [],
   "source": [
    "from clock_project.genome_analysis.triple_selection import get_ingroup_pair, get_triples_info, get_relationship, get_outgroup_species, get_triples_info, get_trace_back_nodes\n",
    "sequence_path = '/Users/gulugulu/Desktop/honours/data_local_2/sequences_filterd_550_threshold/ENSG00000265203.json'\n",
    "sequence = load_json_app(sequence_path)\n",
    "model_fit_result_path = '/Users/gulugulu/Desktop/honours/data_local_2/whole_gene_model_fitting_550_threshold/ENSG00000265203.json'\n",
    "result_lf = load_json_app(model_fit_result_path)\n",
    "\n",
    "ens_tree = result_lf.lf.get_ens_tree()\n",
    "\n",
    "\n"
   ]
  },
  {
   "cell_type": "code",
   "execution_count": 17,
   "metadata": {},
   "outputs": [
    {
     "data": {
      "text/html": [
       "        <script type=\"text/javascript\">\n",
       "        window.PlotlyConfig = {MathJaxConfig: 'local'};\n",
       "        if (window.MathJax && window.MathJax.Hub && window.MathJax.Hub.Config) {window.MathJax.Hub.Config({SVG: {font: \"STIX-Web\"}});}\n",
       "        if (typeof require !== 'undefined') {\n",
       "        require.undef(\"plotly\");\n",
       "        requirejs.config({\n",
       "            paths: {\n",
       "                'plotly': ['https://cdn.plot.ly/plotly-2.27.0.min']\n",
       "            }\n",
       "        });\n",
       "        require(['plotly'], function(Plotly) {\n",
       "            window._Plotly = Plotly;\n",
       "        });\n",
       "        }\n",
       "        </script>\n",
       "        "
      ]
     },
     "metadata": {},
     "output_type": "display_data"
    },
    {
     "data": {
      "application/vnd.plotly.v1+json": {
       "config": {
        "plotlyServerURL": "https://plot.ly"
       },
       "data": [
        {
         "line": {
          "color": "black",
          "shape": "spline",
          "smoothing": 1.3,
          "width": 1.25
         },
         "mode": "lines",
         "showlegend": false,
         "type": "scatter",
         "x": [
          null,
          null,
          0,
          0,
          null,
          0,
          0.07452909045632747,
          null,
          0,
          0,
          null,
          0,
          0.20731430890365457,
          null,
          0.20731430890365457,
          0.20731430890365457,
          null,
          0.20731430890365457,
          0.23066247081910432,
          null,
          0.23066247081910432,
          0.23066247081910432,
          null,
          0.23066247081910432,
          0.23705925773288383,
          null,
          0.23705925773288383,
          0.23705925773288383,
          null,
          0.23705925773288383,
          0.2486897148430439,
          null,
          0.2486897148430439,
          0.2486897148430439,
          null,
          0.2486897148430439,
          0.2877342586243145,
          null,
          0.2877342586243145,
          0.2877342586243145,
          null,
          0.2877342586243145,
          0.2877351634219474,
          null,
          0.2877351634219474,
          0.2877351634219474,
          null,
          0.2877351634219474,
          0.44294449031262606,
          null,
          0.44294449031262606,
          0.44294449031262606,
          null,
          0.44294449031262606,
          0.46642876077340656,
          null,
          0.46642876077340656,
          0.46642876077340656,
          null,
          0.46642876077340656,
          0.4920638918614779,
          null,
          0.4920638918614779,
          0.4920638918614779,
          null,
          0.4920638918614779,
          0.5372581155902529,
          null,
          0.5372581155902529,
          0.5372581155902529,
          null,
          0.5372581155902529,
          0.5581907986355186,
          null,
          0.5372581155902529,
          0.5372581155902529,
          null,
          0.5372581155902529,
          0.5798248062386189,
          null,
          0.4920638918614779,
          0.4920638918614779,
          null,
          0.4920638918614779,
          0.6517334045922039,
          null,
          0.46642876077340656,
          0.46642876077340656,
          null,
          0.46642876077340656,
          0.783940791524434,
          null,
          0.783940791524434,
          0.783940791524434,
          null,
          0.783940791524434,
          0.8208835384261851,
          null,
          0.783940791524434,
          0.783940791524434,
          null,
          0.783940791524434,
          0.8234445732705352,
          null,
          0.44294449031262606,
          0.44294449031262606,
          null,
          0.44294449031262606,
          0.511229969219472,
          null,
          0.511229969219472,
          0.511229969219472,
          null,
          0.511229969219472,
          0.5318048222099093,
          null,
          0.511229969219472,
          0.511229969219472,
          null,
          0.511229969219472,
          0.5547420645753857,
          null,
          0.2877351634219474,
          0.2877351634219474,
          null,
          0.2877351634219474,
          0.5164546405170969,
          null,
          0.2877342586243145,
          0.2877342586243145,
          null,
          0.2877342586243145,
          0.34851147095728735,
          null,
          0.34851147095728735,
          0.34851147095728735,
          null,
          0.34851147095728735,
          0.36367285964967605,
          null,
          0.36367285964967605,
          0.36367285964967605,
          null,
          0.36367285964967605,
          0.3829434826108315,
          null,
          0.3829434826108315,
          0.3829434826108315,
          null,
          0.3829434826108315,
          0.4679436326264654,
          null,
          0.4679436326264654,
          0.4679436326264654,
          null,
          0.4679436326264654,
          0.47205764724216615,
          null,
          0.47205764724216615,
          0.47205764724216615,
          null,
          0.47205764724216615,
          0.4874489028132565,
          null,
          0.4874489028132565,
          0.4874489028132565,
          null,
          0.4874489028132565,
          0.5314385260248936,
          null,
          0.5314385260248936,
          0.5314385260248936,
          null,
          0.5314385260248936,
          0.5345424374384365,
          null,
          0.5314385260248936,
          0.5314385260248936,
          null,
          0.5314385260248936,
          0.5349951073459891,
          null,
          0.4874489028132565,
          0.4874489028132565,
          null,
          0.4874489028132565,
          0.538580326687099,
          null,
          0.47205764724216615,
          0.47205764724216615,
          null,
          0.47205764724216615,
          0.5266987768749063,
          null,
          0.4679436326264654,
          0.4679436326264654,
          null,
          0.4679436326264654,
          0.5121975086770535,
          null,
          0.3829434826108315,
          0.3829434826108315,
          null,
          0.3829434826108315,
          0.4769687266998607,
          null,
          0.4769687266998607,
          0.4769687266998607,
          null,
          0.4769687266998607,
          0.47720161791985194,
          null,
          0.47720161791985194,
          0.47720161791985194,
          null,
          0.47720161791985194,
          0.4883547968038085,
          null,
          0.4883547968038085,
          0.4883547968038085,
          null,
          0.4883547968038085,
          0.494922823880009,
          null,
          0.494922823880009,
          0.494922823880009,
          null,
          0.494922823880009,
          0.4980928891344125,
          null,
          0.4980928891344125,
          0.4980928891344125,
          null,
          0.4980928891344125,
          0.5031380870318651,
          null,
          0.4980928891344125,
          0.4980928891344125,
          null,
          0.4980928891344125,
          0.5040544256220929,
          null,
          0.494922823880009,
          0.494922823880009,
          null,
          0.494922823880009,
          0.5180885678374807,
          null,
          0.4883547968038085,
          0.4883547968038085,
          null,
          0.4883547968038085,
          0.5150851152598412,
          null,
          0.47720161791985194,
          0.47720161791985194,
          null,
          0.47720161791985194,
          0.4987223135264229,
          null,
          0.4769687266998607,
          0.4769687266998607,
          null,
          0.4769687266998607,
          0.49407553269375437,
          null,
          0.36367285964967605,
          0.36367285964967605,
          null,
          0.36367285964967605,
          0.4456272796620615,
          null,
          0.4456272796620615,
          0.4456272796620615,
          null,
          0.4456272796620615,
          0.5060327016434345,
          null,
          0.4456272796620615,
          0.4456272796620615,
          null,
          0.4456272796620615,
          0.5186872999534531,
          null,
          0.34851147095728735,
          0.34851147095728735,
          null,
          0.34851147095728735,
          0.5009134870462186,
          null,
          0.2486897148430439,
          0.2486897148430439,
          null,
          0.2486897148430439,
          0.39927473630620736,
          null,
          0.39927473630620736,
          0.39927473630620736,
          null,
          0.39927473630620736,
          0.5234107608630753,
          null,
          0.39927473630620736,
          0.39927473630620736,
          null,
          0.39927473630620736,
          0.5481476963727014,
          null,
          0.23705925773288383,
          0.23705925773288383,
          null,
          0.23705925773288383,
          0.5052385886730744,
          null,
          0.23066247081910432,
          0.23066247081910432,
          null,
          0.23066247081910432,
          0.2701812031418217,
          null,
          0.2701812031418217,
          0.2701812031418217,
          null,
          0.2701812031418217,
          0.2996477911027852,
          null,
          0.2996477911027852,
          0.2996477911027852,
          null,
          0.2996477911027852,
          0.317837735691758,
          null,
          0.317837735691758,
          0.317837735691758,
          null,
          0.317837735691758,
          0.32476663427383506,
          null,
          0.32476663427383506,
          0.32476663427383506,
          null,
          0.32476663427383506,
          0.329306275367125,
          null,
          0.329306275367125,
          0.329306275367125,
          null,
          0.329306275367125,
          0.3735558835904047,
          null,
          0.3735558835904047,
          0.3735558835904047,
          null,
          0.3735558835904047,
          0.5160212872276743,
          null,
          0.5160212872276743,
          0.5160212872276743,
          null,
          0.5160212872276743,
          0.5333594933134554,
          null,
          0.5333594933134554,
          0.5333594933134554,
          null,
          0.5333594933134554,
          0.5395839313115625,
          null,
          0.5395839313115625,
          0.5395839313115625,
          null,
          0.5395839313115625,
          0.6419415246458509,
          null,
          0.5395839313115625,
          0.5395839313115625,
          null,
          0.5395839313115625,
          0.6548678213056068,
          null,
          0.5333594933134554,
          0.5333594933134554,
          null,
          0.5333594933134554,
          0.6087461640685747,
          null,
          0.5160212872276743,
          0.5160212872276743,
          null,
          0.5160212872276743,
          0.5858806563099426,
          null,
          0.5858806563099426,
          0.5858806563099426,
          null,
          0.5858806563099426,
          0.6680609705299961,
          null,
          0.5858806563099426,
          0.5858806563099426,
          null,
          0.5858806563099426,
          0.6891300752948686,
          null,
          0.3735558835904047,
          0.3735558835904047,
          null,
          0.3735558835904047,
          0.6143020401433634,
          null,
          0.329306275367125,
          0.329306275367125,
          null,
          0.329306275367125,
          0.6842470509123599,
          null,
          0.32476663427383506,
          0.32476663427383506,
          null,
          0.32476663427383506,
          0.5079408882093227,
          null,
          0.5079408882093227,
          0.5079408882093227,
          null,
          0.5079408882093227,
          0.5144819070604325,
          null,
          0.5144819070604325,
          0.5144819070604325,
          null,
          0.5144819070604325,
          0.6355260983655159,
          null,
          0.5144819070604325,
          0.5144819070604325,
          null,
          0.5144819070604325,
          0.647202269564104,
          null,
          0.5079408882093227,
          0.5079408882093227,
          null,
          0.5079408882093227,
          0.7899626047665542,
          null,
          0.317837735691758,
          0.317837735691758,
          null,
          0.317837735691758,
          0.41230073204072487,
          null,
          0.41230073204072487,
          0.41230073204072487,
          null,
          0.41230073204072487,
          0.4734111710561057,
          null,
          0.4734111710561057,
          0.4734111710561057,
          null,
          0.4734111710561057,
          0.48868569224529823,
          null,
          0.48868569224529823,
          0.48868569224529823,
          null,
          0.48868569224529823,
          0.5030564426223139,
          null,
          0.48868569224529823,
          0.48868569224529823,
          null,
          0.48868569224529823,
          0.5075408646579991,
          null,
          0.4734111710561057,
          0.4734111710561057,
          null,
          0.4734111710561057,
          0.49165031235215784,
          null,
          0.41230073204072487,
          0.41230073204072487,
          null,
          0.41230073204072487,
          0.49168955188484087,
          null,
          0.2996477911027852,
          0.2996477911027852,
          null,
          0.2996477911027852,
          0.43471402984984026,
          null,
          0.43471402984984026,
          0.43471402984984026,
          null,
          0.43471402984984026,
          0.6792159477287054,
          null,
          0.43471402984984026,
          0.43471402984984026,
          null,
          0.43471402984984026,
          0.6889920343571974,
          null,
          0.2701812031418217,
          0.2701812031418217,
          null,
          0.2701812031418217,
          0.6089339398736927,
          null,
          0.6089339398736927,
          0.6089339398736927,
          null,
          0.6089339398736927,
          0.698729409865984,
          null,
          0.698729409865984,
          0.698729409865984,
          null,
          0.698729409865984,
          0.7209853565954476,
          null,
          0.7209853565954476,
          0.7209853565954476,
          null,
          0.7209853565954476,
          0.7605160515498964,
          null,
          0.7209853565954476,
          0.7209853565954476,
          null,
          0.7209853565954476,
          0.7623872062063174,
          null,
          0.698729409865984,
          0.698729409865984,
          null,
          0.698729409865984,
          0.7633793427393651,
          null,
          0.6089339398736927,
          0.6089339398736927,
          null,
          0.6089339398736927,
          0.7038666428523939,
          null,
          0.7038666428523939,
          0.7038666428523939,
          null,
          0.7038666428523939,
          0.7307476523125823,
          null,
          0.7307476523125823,
          0.7307476523125823,
          null,
          0.7307476523125823,
          0.7543107448026716,
          null,
          0.7543107448026716,
          0.7543107448026716,
          null,
          0.7543107448026716,
          0.7583066307961849,
          null,
          0.7583066307961849,
          0.7583066307961849,
          null,
          0.7583066307961849,
          0.7725994197791695,
          null,
          0.7725994197791695,
          0.7725994197791695,
          null,
          0.7725994197791695,
          0.7740871884178883,
          null,
          0.7740871884178883,
          0.7740871884178883,
          null,
          0.7740871884178883,
          0.78131808238062,
          null,
          0.7740871884178883,
          0.7740871884178883,
          null,
          0.7740871884178883,
          0.7845194265254894,
          null,
          0.7725994197791695,
          0.7725994197791695,
          null,
          0.7725994197791695,
          0.7834049014623043,
          null,
          0.7583066307961849,
          0.7583066307961849,
          null,
          0.7583066307961849,
          0.7847721233464081,
          null,
          0.7543107448026716,
          0.7543107448026716,
          null,
          0.7543107448026716,
          0.7726988164812059,
          null,
          0.7307476523125823,
          0.7307476523125823,
          null,
          0.7307476523125823,
          0.7616286279836203,
          null,
          0.7616286279836203,
          0.7616286279836203,
          null,
          0.7616286279836203,
          0.7745704022605474,
          null,
          0.7745704022605474,
          0.7745704022605474,
          null,
          0.7745704022605474,
          0.7795348937325813,
          null,
          0.7795348937325813,
          0.7795348937325813,
          null,
          0.7795348937325813,
          0.7825640660569797,
          null,
          0.7825640660569797,
          0.7825640660569797,
          null,
          0.7825640660569797,
          0.7863446728414748,
          null,
          0.7863446728414748,
          0.7863446728414748,
          null,
          0.7863446728414748,
          0.7909120203689105,
          null,
          0.7863446728414748,
          0.7863446728414748,
          null,
          0.7863446728414748,
          0.7982260455343055,
          null,
          0.7825640660569797,
          0.7825640660569797,
          null,
          0.7825640660569797,
          0.7888677039519884,
          null,
          0.7795348937325813,
          0.7795348937325813,
          null,
          0.7795348937325813,
          0.7912580643554317,
          null,
          0.7745704022605474,
          0.7745704022605474,
          null,
          0.7745704022605474,
          0.7932669274929206,
          null,
          0.7616286279836203,
          0.7616286279836203,
          null,
          0.7616286279836203,
          0.7885672121102619,
          null,
          0.7038666428523939,
          0.7038666428523939,
          null,
          0.7038666428523939,
          0.7862706392437644,
          null,
          0.7862706392437644,
          0.7862706392437644,
          null,
          0.7862706392437644,
          0.8066402662899025,
          null,
          0.8066402662899025,
          0.8066402662899025,
          null,
          0.8066402662899025,
          0.8116681177497991,
          null,
          0.8116681177497991,
          0.8116681177497991,
          null,
          0.8116681177497991,
          0.8402410341630061,
          null,
          0.8116681177497991,
          0.8116681177497991,
          null,
          0.8116681177497991,
          0.8571030316278142,
          null,
          0.8066402662899025,
          0.8066402662899025,
          null,
          0.8066402662899025,
          0.8437760931525343,
          null,
          0.7862706392437644,
          0.7862706392437644,
          null,
          0.7862706392437644,
          1.1284936364749552,
          null,
          0.20731430890365457,
          0.20731430890365457,
          null,
          0.20731430890365457,
          0.5303837575055619,
          null
         ],
         "y": [
          null,
          null,
          8.923297119140624,
          39,
          null,
          39,
          39,
          null,
          8.923297119140624,
          -21.15340576171875,
          null,
          -21.15340576171875,
          -21.15340576171875,
          null,
          -21.15340576171875,
          -3.3068115234374993,
          null,
          -3.3068115234374993,
          -3.3068115234374993,
          null,
          -3.3068115234374993,
          10.829736328125001,
          null,
          10.829736328125001,
          10.829736328125001,
          null,
          10.829736328125001,
          15.159472656250001,
          null,
          15.159472656250001,
          15.159472656250001,
          null,
          15.159472656250001,
          21.868945312500003,
          null,
          21.868945312500003,
          21.868945312500003,
          null,
          21.868945312500003,
          30.590625000000003,
          null,
          30.590625000000003,
          30.590625000000003,
          null,
          30.590625000000003,
          32.581250000000004,
          null,
          32.581250000000004,
          32.581250000000004,
          null,
          32.581250000000004,
          34.612500000000004,
          null,
          34.612500000000004,
          34.612500000000004,
          null,
          34.612500000000004,
          36.075,
          null,
          36.075,
          36.075,
          null,
          36.075,
          37.05,
          null,
          37.05,
          37.05,
          null,
          37.05,
          37.7,
          null,
          37.7,
          37.7,
          null,
          37.05,
          36.4,
          null,
          36.4,
          36.4,
          null,
          36.075,
          35.1,
          null,
          35.1,
          35.1,
          null,
          34.612500000000004,
          33.150000000000006,
          null,
          33.150000000000006,
          33.150000000000006,
          null,
          33.150000000000006,
          33.800000000000004,
          null,
          33.800000000000004,
          33.800000000000004,
          null,
          33.150000000000006,
          32.5,
          null,
          32.5,
          32.5,
          null,
          32.581250000000004,
          30.550000000000004,
          null,
          30.550000000000004,
          30.550000000000004,
          null,
          30.550000000000004,
          31.200000000000003,
          null,
          31.200000000000003,
          31.200000000000003,
          null,
          30.550000000000004,
          29.900000000000002,
          null,
          29.900000000000002,
          29.900000000000002,
          null,
          30.590625000000003,
          28.6,
          null,
          28.6,
          28.6,
          null,
          21.868945312500003,
          13.147265625000001,
          null,
          13.147265625000001,
          13.147265625000001,
          null,
          13.147265625000001,
          15.894531250000002,
          null,
          15.894531250000002,
          15.894531250000002,
          null,
          15.894531250000002,
          19.439062500000002,
          null,
          19.439062500000002,
          19.439062500000002,
          null,
          19.439062500000002,
          23.31875,
          null,
          23.31875,
          23.31875,
          null,
          23.31875,
          24.5375,
          null,
          24.5375,
          24.5375,
          null,
          24.5375,
          25.674999999999997,
          null,
          25.674999999999997,
          25.674999999999997,
          null,
          25.674999999999997,
          26.65,
          null,
          26.65,
          26.65,
          null,
          26.65,
          27.3,
          null,
          27.3,
          27.3,
          null,
          26.65,
          26,
          null,
          26,
          26,
          null,
          25.674999999999997,
          24.7,
          null,
          24.7,
          24.7,
          null,
          24.5375,
          23.400000000000002,
          null,
          23.400000000000002,
          23.400000000000002,
          null,
          23.31875,
          22.1,
          null,
          22.1,
          22.1,
          null,
          19.439062500000002,
          15.559375000000001,
          null,
          15.559375000000001,
          15.559375000000001,
          null,
          15.559375000000001,
          16.81875,
          null,
          16.81875,
          16.81875,
          null,
          16.81875,
          18.0375,
          null,
          18.0375,
          18.0375,
          null,
          18.0375,
          19.174999999999997,
          null,
          19.174999999999997,
          19.174999999999997,
          null,
          19.174999999999997,
          20.15,
          null,
          20.15,
          20.15,
          null,
          20.15,
          20.8,
          null,
          20.8,
          20.8,
          null,
          20.15,
          19.5,
          null,
          19.5,
          19.5,
          null,
          19.174999999999997,
          18.2,
          null,
          18.2,
          18.2,
          null,
          18.0375,
          16.900000000000002,
          null,
          16.900000000000002,
          16.900000000000002,
          null,
          16.81875,
          15.600000000000001,
          null,
          15.600000000000001,
          15.600000000000001,
          null,
          15.559375000000001,
          14.3,
          null,
          14.3,
          14.3,
          null,
          15.894531250000002,
          12.350000000000001,
          null,
          12.350000000000001,
          12.350000000000001,
          null,
          12.350000000000001,
          13,
          null,
          13,
          13,
          null,
          12.350000000000001,
          11.700000000000001,
          null,
          11.700000000000001,
          11.700000000000001,
          null,
          13.147265625000001,
          10.4,
          null,
          10.4,
          10.4,
          null,
          15.159472656250001,
          8.45,
          null,
          8.45,
          8.45,
          null,
          8.45,
          9.1,
          null,
          9.1,
          9.1,
          null,
          8.45,
          7.800000000000001,
          null,
          7.800000000000001,
          7.800000000000001,
          null,
          10.829736328125001,
          6.5,
          null,
          6.5,
          6.5,
          null,
          -3.3068115234374993,
          -17.443359375,
          null,
          -17.443359375,
          -17.443359375,
          null,
          -17.443359375,
          -10.293359375,
          null,
          -10.293359375,
          -10.293359375,
          null,
          -10.293359375,
          -6.93671875,
          null,
          -6.93671875,
          -6.93671875,
          null,
          -6.93671875,
          -3.3109375,
          null,
          -3.3109375,
          -3.3109375,
          null,
          -3.3109375,
          -1.096875,
          null,
          -1.096875,
          -1.096875,
          null,
          -1.096875,
          0.4062500000000001,
          null,
          0.4062500000000001,
          0.4062500000000001,
          null,
          0.4062500000000001,
          2.1125000000000003,
          null,
          2.1125000000000003,
          2.1125000000000003,
          null,
          2.1125000000000003,
          3.575,
          null,
          3.575,
          3.575,
          null,
          3.575,
          4.550000000000001,
          null,
          4.550000000000001,
          4.550000000000001,
          null,
          4.550000000000001,
          5.2,
          null,
          5.2,
          5.2,
          null,
          4.550000000000001,
          3.9000000000000004,
          null,
          3.9000000000000004,
          3.9000000000000004,
          null,
          3.575,
          2.6,
          null,
          2.6,
          2.6,
          null,
          2.1125000000000003,
          0.65,
          null,
          0.65,
          0.65,
          null,
          0.65,
          1.3,
          null,
          1.3,
          1.3,
          null,
          0.65,
          0,
          null,
          0,
          0,
          null,
          0.4062500000000001,
          -1.3,
          null,
          -1.3,
          -1.3,
          null,
          -1.096875,
          -2.6,
          null,
          -2.6,
          -2.6,
          null,
          -3.3109375,
          -5.525,
          null,
          -5.525,
          -5.525,
          null,
          -5.525,
          -4.550000000000001,
          null,
          -4.550000000000001,
          -4.550000000000001,
          null,
          -4.550000000000001,
          -3.9000000000000004,
          null,
          -3.9000000000000004,
          -3.9000000000000004,
          null,
          -4.550000000000001,
          -5.2,
          null,
          -5.2,
          -5.2,
          null,
          -5.525,
          -6.5,
          null,
          -6.5,
          -6.5,
          null,
          -6.93671875,
          -10.5625,
          null,
          -10.5625,
          -10.5625,
          null,
          -10.5625,
          -9.425,
          null,
          -9.425,
          -9.425,
          null,
          -9.425,
          -8.45,
          null,
          -8.45,
          -8.45,
          null,
          -8.45,
          -7.800000000000001,
          null,
          -7.800000000000001,
          -7.800000000000001,
          null,
          -8.45,
          -9.1,
          null,
          -9.1,
          -9.1,
          null,
          -9.425,
          -10.4,
          null,
          -10.4,
          -10.4,
          null,
          -10.5625,
          -11.700000000000001,
          null,
          -11.700000000000001,
          -11.700000000000001,
          null,
          -10.293359375,
          -13.65,
          null,
          -13.65,
          -13.65,
          null,
          -13.65,
          -13,
          null,
          -13,
          -13,
          null,
          -13.65,
          -14.3,
          null,
          -14.3,
          -14.3,
          null,
          -17.443359375,
          -24.593359375000002,
          null,
          -24.593359375000002,
          -24.593359375000002,
          null,
          -24.593359375000002,
          -17.225,
          null,
          -17.225,
          -17.225,
          null,
          -17.225,
          -16.25,
          null,
          -16.25,
          -16.25,
          null,
          -16.25,
          -15.600000000000001,
          null,
          -15.600000000000001,
          -15.600000000000001,
          null,
          -16.25,
          -16.900000000000002,
          null,
          -16.900000000000002,
          -16.900000000000002,
          null,
          -17.225,
          -18.2,
          null,
          -18.2,
          -18.2,
          null,
          -24.593359375000002,
          -31.961718750000003,
          null,
          -31.961718750000003,
          -31.961718750000003,
          null,
          -31.961718750000003,
          -27.360937500000002,
          null,
          -27.360937500000002,
          -27.360937500000002,
          null,
          -27.360937500000002,
          -23.481250000000003,
          null,
          -23.481250000000003,
          -23.481250000000003,
          null,
          -23.481250000000003,
          -22.262500000000003,
          null,
          -22.262500000000003,
          -22.262500000000003,
          null,
          -22.262500000000003,
          -21.125,
          null,
          -21.125,
          -21.125,
          null,
          -21.125,
          -20.15,
          null,
          -20.15,
          -20.15,
          null,
          -20.15,
          -19.5,
          null,
          -19.5,
          -19.5,
          null,
          -20.15,
          -20.8,
          null,
          -20.8,
          -20.8,
          null,
          -21.125,
          -22.1,
          null,
          -22.1,
          -22.1,
          null,
          -22.262500000000003,
          -23.400000000000002,
          null,
          -23.400000000000002,
          -23.400000000000002,
          null,
          -23.481250000000003,
          -24.7,
          null,
          -24.7,
          -24.7,
          null,
          -27.360937500000002,
          -31.240625,
          null,
          -31.240625,
          -31.240625,
          null,
          -31.240625,
          -29.981250000000003,
          null,
          -29.981250000000003,
          -29.981250000000003,
          null,
          -29.981250000000003,
          -28.762500000000003,
          null,
          -28.762500000000003,
          -28.762500000000003,
          null,
          -28.762500000000003,
          -27.625,
          null,
          -27.625,
          -27.625,
          null,
          -27.625,
          -26.65,
          null,
          -26.65,
          -26.65,
          null,
          -26.65,
          -26,
          null,
          -26,
          -26,
          null,
          -26.65,
          -27.3,
          null,
          -27.3,
          -27.3,
          null,
          -27.625,
          -28.6,
          null,
          -28.6,
          -28.6,
          null,
          -28.762500000000003,
          -29.900000000000002,
          null,
          -29.900000000000002,
          -29.900000000000002,
          null,
          -29.981250000000003,
          -31.200000000000003,
          null,
          -31.200000000000003,
          -31.200000000000003,
          null,
          -31.240625,
          -32.5,
          null,
          -32.5,
          -32.5,
          null,
          -31.961718750000003,
          -36.5625,
          null,
          -36.5625,
          -36.5625,
          null,
          -36.5625,
          -35.425,
          null,
          -35.425,
          -35.425,
          null,
          -35.425,
          -34.45,
          null,
          -34.45,
          -34.45,
          null,
          -34.45,
          -33.800000000000004,
          null,
          -33.800000000000004,
          -33.800000000000004,
          null,
          -34.45,
          -35.1,
          null,
          -35.1,
          -35.1,
          null,
          -35.425,
          -36.4,
          null,
          -36.4,
          -36.4,
          null,
          -36.5625,
          -37.7,
          null,
          -37.7,
          -37.7,
          null,
          -21.15340576171875,
          -39,
          null,
          -39,
          -39,
          null
         ]
        },
        {
         "hoverinfo": "text",
         "marker": {
          "color": "black",
          "size": 3,
          "symbol": "circle"
         },
         "mode": "markers",
         "showlegend": false,
         "text": [
          "root",
          "Shrew",
          "Eutheria.2",
          "Boreoeutheria",
          "Laurasiatheria.4",
          "Laurasiatheria.3",
          "Laurasiatheria.2",
          "Laurasiatheria",
          "Carnivora",
          "Caniformia.3",
          "Caniformia.2",
          "Ursidae",
          "Giant_panda",
          "Polar_bear",
          "Ferret",
          "Canidae",
          "Dingo",
          "Red_fox",
          "Felidae",
          "Cat",
          "Tiger",
          "Horse",
          "Artiodactyla.3",
          "Artiodactyla.2",
          "Artiodactyla",
          "Pecora.2",
          "Pecora",
          "Bovidae",
          "Bovinae",
          "Wild_yak",
          "American_bison",
          "Goat",
          "Siberian_musk_deer",
          "Yarkand_deer",
          "Cetacea",
          "Odontoceti.3",
          "Odontoceti.2",
          "Odontoceti",
          "Monodontidae",
          "Narwhal",
          "Beluga_whale",
          "Vaquita",
          "Dolphin",
          "Sperm_whale",
          "Blue_whale",
          "Suina",
          "Pig",
          "Chacoan_peccary",
          "Arabian_camel",
          "Chiroptera",
          "Megabat",
          "Greater_horseshoe_bat",
          "Hedgehog",
          "Euarchontoglires",
          "Glires",
          "Rodentia.3",
          "Rodentia.2",
          "Rodentia",
          "Myomorpha",
          "Muroidea",
          "Cricetidae.2",
          "Cricetidae",
          "Golden_Hamster",
          "Prairie_vole",
          "Northern_American_deer_mouse",
          "Murinae",
          "Ryukyu_mouse",
          "Rat",
          "Lesser_Egyptian_jerboa",
          "Kangaroo_rat",
          "Hystricomorpha.2",
          "Hystricomorpha",
          "Long_tailed_chinchilla",
          "Degu",
          "Guinea_Pig",
          "Sciuridae",
          "Marmotini.3",
          "Marmotini",
          "Squirrel",
          "Arctic_ground_squirrel",
          "Alpine_marmot",
          "Eurasian_red_squirrel",
          "Lagomorpha",
          "Rabbit",
          "Pika",
          "Primates",
          "Lemuriformes.2",
          "Lemuriformes",
          "Coquerel's_sifaka",
          "Greater_bamboo_lemur",
          "Mouse_Lemur",
          "Simiiformes",
          "Catarrhini",
          "Hominoidea",
          "Hominidae",
          "Homininae.2",
          "Homininae",
          "Human",
          "Chimpanzee",
          "Gorilla",
          "Sumatran_orangutan",
          "Gibbon",
          "Cercopithecidae",
          "Cercopithecinae.5",
          "Cercopithecinae.4",
          "Cercopithecinae.3",
          "Cercopithecinae",
          "Sooty_mangabey",
          "Drill",
          "Olive_baboon",
          "Pig_tailed_macaque",
          "Vervet_AGM",
          "Black_snub_nosed_monkey",
          "Platyrrhini.2",
          "Platyrrhini",
          "Cebidae",
          "Panamanian_white_faced_capuchin",
          "Bolivian_squirrel_monkey",
          "Ma's_night_monkey",
          "White_tufted_ear_marmoset",
          "Elephant"
         ],
         "type": "scatter",
         "x": [
          0,
          0.07452909045632747,
          0.20731430890365457,
          0.23066247081910432,
          0.23705925773288383,
          0.2486897148430439,
          0.2877342586243145,
          0.2877351634219474,
          0.44294449031262606,
          0.46642876077340656,
          0.4920638918614779,
          0.5372581155902529,
          0.5581907986355186,
          0.5798248062386189,
          0.6517334045922039,
          0.783940791524434,
          0.8208835384261851,
          0.8234445732705352,
          0.511229969219472,
          0.5318048222099093,
          0.5547420645753857,
          0.5164546405170969,
          0.34851147095728735,
          0.36367285964967605,
          0.3829434826108315,
          0.4679436326264654,
          0.47205764724216615,
          0.4874489028132565,
          0.5314385260248936,
          0.5345424374384365,
          0.5349951073459891,
          0.538580326687099,
          0.5266987768749063,
          0.5121975086770535,
          0.4769687266998607,
          0.47720161791985194,
          0.4883547968038085,
          0.494922823880009,
          0.4980928891344125,
          0.5031380870318651,
          0.5040544256220929,
          0.5180885678374807,
          0.5150851152598412,
          0.4987223135264229,
          0.49407553269375437,
          0.4456272796620615,
          0.5060327016434345,
          0.5186872999534531,
          0.5009134870462186,
          0.39927473630620736,
          0.5234107608630753,
          0.5481476963727014,
          0.5052385886730744,
          0.2701812031418217,
          0.2996477911027852,
          0.317837735691758,
          0.32476663427383506,
          0.329306275367125,
          0.3735558835904047,
          0.5160212872276743,
          0.5333594933134554,
          0.5395839313115625,
          0.6419415246458509,
          0.6548678213056068,
          0.6087461640685747,
          0.5858806563099426,
          0.6680609705299961,
          0.6891300752948686,
          0.6143020401433634,
          0.6842470509123599,
          0.5079408882093227,
          0.5144819070604325,
          0.6355260983655159,
          0.647202269564104,
          0.7899626047665542,
          0.41230073204072487,
          0.4734111710561057,
          0.48868569224529823,
          0.5030564426223139,
          0.5075408646579991,
          0.49165031235215784,
          0.49168955188484087,
          0.43471402984984026,
          0.6792159477287054,
          0.6889920343571974,
          0.6089339398736927,
          0.698729409865984,
          0.7209853565954476,
          0.7605160515498964,
          0.7623872062063174,
          0.7633793427393651,
          0.7038666428523939,
          0.7307476523125823,
          0.7543107448026716,
          0.7583066307961849,
          0.7725994197791695,
          0.7740871884178883,
          0.78131808238062,
          0.7845194265254894,
          0.7834049014623043,
          0.7847721233464081,
          0.7726988164812059,
          0.7616286279836203,
          0.7745704022605474,
          0.7795348937325813,
          0.7825640660569797,
          0.7863446728414748,
          0.7909120203689105,
          0.7982260455343055,
          0.7888677039519884,
          0.7912580643554317,
          0.7932669274929206,
          0.7885672121102619,
          0.7862706392437644,
          0.8066402662899025,
          0.8116681177497991,
          0.8402410341630061,
          0.8571030316278142,
          0.8437760931525343,
          1.1284936364749552,
          0.5303837575055619
         ],
         "y": [
          8.923297119140624,
          39,
          -21.15340576171875,
          -3.3068115234374993,
          10.829736328125001,
          15.159472656250001,
          21.868945312500003,
          30.590625000000003,
          32.581250000000004,
          34.612500000000004,
          36.075,
          37.05,
          37.7,
          36.4,
          35.1,
          33.150000000000006,
          33.800000000000004,
          32.5,
          30.550000000000004,
          31.200000000000003,
          29.900000000000002,
          28.6,
          13.147265625000001,
          15.894531250000002,
          19.439062500000002,
          23.31875,
          24.5375,
          25.674999999999997,
          26.65,
          27.3,
          26,
          24.7,
          23.400000000000002,
          22.1,
          15.559375000000001,
          16.81875,
          18.0375,
          19.174999999999997,
          20.15,
          20.8,
          19.5,
          18.2,
          16.900000000000002,
          15.600000000000001,
          14.3,
          12.350000000000001,
          13,
          11.700000000000001,
          10.4,
          8.45,
          9.1,
          7.800000000000001,
          6.5,
          -17.443359375,
          -10.293359375,
          -6.93671875,
          -3.3109375,
          -1.096875,
          0.4062500000000001,
          2.1125000000000003,
          3.575,
          4.550000000000001,
          5.2,
          3.9000000000000004,
          2.6,
          0.65,
          1.3,
          0,
          -1.3,
          -2.6,
          -5.525,
          -4.550000000000001,
          -3.9000000000000004,
          -5.2,
          -6.5,
          -10.5625,
          -9.425,
          -8.45,
          -7.800000000000001,
          -9.1,
          -10.4,
          -11.700000000000001,
          -13.65,
          -13,
          -14.3,
          -24.593359375000002,
          -17.225,
          -16.25,
          -15.600000000000001,
          -16.900000000000002,
          -18.2,
          -31.961718750000003,
          -27.360937500000002,
          -23.481250000000003,
          -22.262500000000003,
          -21.125,
          -20.15,
          -19.5,
          -20.8,
          -22.1,
          -23.400000000000002,
          -24.7,
          -31.240625,
          -29.981250000000003,
          -28.762500000000003,
          -27.625,
          -26.65,
          -26,
          -27.3,
          -28.6,
          -29.900000000000002,
          -31.200000000000003,
          -32.5,
          -36.5625,
          -35.425,
          -34.45,
          -33.800000000000004,
          -35.1,
          -36.4,
          -37.7,
          -39
         ]
        }
       ],
       "layout": {
        "annotations": [
         {
          "font": {
           "family": "Inconsolata, monospace",
           "size": 12
          },
          "showarrow": false,
          "text": "Shrew",
          "textangle": 0,
          "x": 0.10274143136820135,
          "xanchor": "left",
          "xref": "x",
          "y": 39,
          "yref": "y"
         },
         {
          "font": {
           "family": "Inconsolata, monospace",
           "size": 12
          },
          "showarrow": false,
          "text": "Giant_panda",
          "textangle": 0,
          "x": 0.5864031395473924,
          "xanchor": "left",
          "xref": "x",
          "y": 37.7,
          "yref": "y"
         },
         {
          "font": {
           "family": "Inconsolata, monospace",
           "size": 12
          },
          "showarrow": false,
          "text": "Polar_bear",
          "textangle": 0,
          "x": 0.6080371471504927,
          "xanchor": "left",
          "xref": "x",
          "y": 36.4,
          "yref": "y"
         },
         {
          "font": {
           "family": "Inconsolata, monospace",
           "size": 12
          },
          "showarrow": false,
          "text": "Ferret",
          "textangle": 0,
          "x": 0.6799457455040777,
          "xanchor": "left",
          "xref": "x",
          "y": 35.1,
          "yref": "y"
         },
         {
          "font": {
           "family": "Inconsolata, monospace",
           "size": 12
          },
          "showarrow": false,
          "text": "Dingo",
          "textangle": 0,
          "x": 0.849095879338059,
          "xanchor": "left",
          "xref": "x",
          "y": 33.800000000000004,
          "yref": "y"
         },
         {
          "font": {
           "family": "Inconsolata, monospace",
           "size": 12
          },
          "showarrow": false,
          "text": "Red_fox",
          "textangle": 0,
          "x": 0.8516569141824091,
          "xanchor": "left",
          "xref": "x",
          "y": 32.5,
          "yref": "y"
         },
         {
          "font": {
           "family": "Inconsolata, monospace",
           "size": 12
          },
          "showarrow": false,
          "text": "Cat",
          "textangle": 0,
          "x": 0.5600171631217832,
          "xanchor": "left",
          "xref": "x",
          "y": 31.200000000000003,
          "yref": "y"
         },
         {
          "font": {
           "family": "Inconsolata, monospace",
           "size": 12
          },
          "showarrow": false,
          "text": "Tiger",
          "textangle": 0,
          "x": 0.5829544054872595,
          "xanchor": "left",
          "xref": "x",
          "y": 29.900000000000002,
          "yref": "y"
         },
         {
          "font": {
           "family": "Inconsolata, monospace",
           "size": 12
          },
          "showarrow": false,
          "text": "Horse",
          "textangle": 0,
          "x": 0.5446669814289707,
          "xanchor": "left",
          "xref": "x",
          "y": 28.6,
          "yref": "y"
         },
         {
          "font": {
           "family": "Inconsolata, monospace",
           "size": 12
          },
          "showarrow": false,
          "text": "Wild_yak",
          "textangle": 0,
          "x": 0.5627547783503104,
          "xanchor": "left",
          "xref": "x",
          "y": 27.3,
          "yref": "y"
         },
         {
          "font": {
           "family": "Inconsolata, monospace",
           "size": 12
          },
          "showarrow": false,
          "text": "American_bison",
          "textangle": 0,
          "x": 0.563207448257863,
          "xanchor": "left",
          "xref": "x",
          "y": 26,
          "yref": "y"
         },
         {
          "font": {
           "family": "Inconsolata, monospace",
           "size": 12
          },
          "showarrow": false,
          "text": "Goat",
          "textangle": 0,
          "x": 0.5667926675989728,
          "xanchor": "left",
          "xref": "x",
          "y": 24.7,
          "yref": "y"
         },
         {
          "font": {
           "family": "Inconsolata, monospace",
           "size": 12
          },
          "showarrow": false,
          "text": "Siberian_musk_deer",
          "textangle": 0,
          "x": 0.5549111177867802,
          "xanchor": "left",
          "xref": "x",
          "y": 23.400000000000002,
          "yref": "y"
         },
         {
          "font": {
           "family": "Inconsolata, monospace",
           "size": 12
          },
          "showarrow": false,
          "text": "Yarkand_deer",
          "textangle": 0,
          "x": 0.5404098495889273,
          "xanchor": "left",
          "xref": "x",
          "y": 22.1,
          "yref": "y"
         },
         {
          "font": {
           "family": "Inconsolata, monospace",
           "size": 12
          },
          "showarrow": false,
          "text": "Narwhal",
          "textangle": 0,
          "x": 0.531350427943739,
          "xanchor": "left",
          "xref": "x",
          "y": 20.8,
          "yref": "y"
         },
         {
          "font": {
           "family": "Inconsolata, monospace",
           "size": 12
          },
          "showarrow": false,
          "text": "Beluga_whale",
          "textangle": 0,
          "x": 0.5322667665339668,
          "xanchor": "left",
          "xref": "x",
          "y": 19.5,
          "yref": "y"
         },
         {
          "font": {
           "family": "Inconsolata, monospace",
           "size": 12
          },
          "showarrow": false,
          "text": "Vaquita",
          "textangle": 0,
          "x": 0.5463009087493546,
          "xanchor": "left",
          "xref": "x",
          "y": 18.2,
          "yref": "y"
         },
         {
          "font": {
           "family": "Inconsolata, monospace",
           "size": 12
          },
          "showarrow": false,
          "text": "Dolphin",
          "textangle": 0,
          "x": 0.5432974561717151,
          "xanchor": "left",
          "xref": "x",
          "y": 16.900000000000002,
          "yref": "y"
         },
         {
          "font": {
           "family": "Inconsolata, monospace",
           "size": 12
          },
          "showarrow": false,
          "text": "Sperm_whale",
          "textangle": 0,
          "x": 0.5269346544382968,
          "xanchor": "left",
          "xref": "x",
          "y": 15.600000000000001,
          "yref": "y"
         },
         {
          "font": {
           "family": "Inconsolata, monospace",
           "size": 12
          },
          "showarrow": false,
          "text": "Blue_whale",
          "textangle": 0,
          "x": 0.5222878736056282,
          "xanchor": "left",
          "xref": "x",
          "y": 14.3,
          "yref": "y"
         },
         {
          "font": {
           "family": "Inconsolata, monospace",
           "size": 12
          },
          "showarrow": false,
          "text": "Pig",
          "textangle": 0,
          "x": 0.5342450425553084,
          "xanchor": "left",
          "xref": "x",
          "y": 13,
          "yref": "y"
         },
         {
          "font": {
           "family": "Inconsolata, monospace",
           "size": 12
          },
          "showarrow": false,
          "text": "Chacoan_peccary",
          "textangle": 0,
          "x": 0.5468996408653269,
          "xanchor": "left",
          "xref": "x",
          "y": 11.700000000000001,
          "yref": "y"
         },
         {
          "font": {
           "family": "Inconsolata, monospace",
           "size": 12
          },
          "showarrow": false,
          "text": "Arabian_camel",
          "textangle": 0,
          "x": 0.5291258279580925,
          "xanchor": "left",
          "xref": "x",
          "y": 10.4,
          "yref": "y"
         },
         {
          "font": {
           "family": "Inconsolata, monospace",
           "size": 12
          },
          "showarrow": false,
          "text": "Megabat",
          "textangle": 0,
          "x": 0.5516231017749491,
          "xanchor": "left",
          "xref": "x",
          "y": 9.1,
          "yref": "y"
         },
         {
          "font": {
           "family": "Inconsolata, monospace",
           "size": 12
          },
          "showarrow": false,
          "text": "Greater_horseshoe_bat",
          "textangle": 0,
          "x": 0.5763600372845753,
          "xanchor": "left",
          "xref": "x",
          "y": 7.800000000000001,
          "yref": "y"
         },
         {
          "font": {
           "family": "Inconsolata, monospace",
           "size": 12
          },
          "showarrow": false,
          "text": "Hedgehog",
          "textangle": 0,
          "x": 0.5334509295849482,
          "xanchor": "left",
          "xref": "x",
          "y": 6.5,
          "yref": "y"
         },
         {
          "font": {
           "family": "Inconsolata, monospace",
           "size": 12
          },
          "showarrow": false,
          "text": "Golden_Hamster",
          "textangle": 0,
          "x": 0.6701538655577247,
          "xanchor": "left",
          "xref": "x",
          "y": 5.2,
          "yref": "y"
         },
         {
          "font": {
           "family": "Inconsolata, monospace",
           "size": 12
          },
          "showarrow": false,
          "text": "Prairie_vole",
          "textangle": 0,
          "x": 0.6830801622174807,
          "xanchor": "left",
          "xref": "x",
          "y": 3.9000000000000004,
          "yref": "y"
         },
         {
          "font": {
           "family": "Inconsolata, monospace",
           "size": 12
          },
          "showarrow": false,
          "text": "Northern_American_deer_mouse",
          "textangle": 0,
          "x": 0.6369585049804486,
          "xanchor": "left",
          "xref": "x",
          "y": 2.6,
          "yref": "y"
         },
         {
          "font": {
           "family": "Inconsolata, monospace",
           "size": 12
          },
          "showarrow": false,
          "text": "Ryukyu_mouse",
          "textangle": 0,
          "x": 0.69627331144187,
          "xanchor": "left",
          "xref": "x",
          "y": 1.3,
          "yref": "y"
         },
         {
          "font": {
           "family": "Inconsolata, monospace",
           "size": 12
          },
          "showarrow": false,
          "text": "Rat",
          "textangle": 0,
          "x": 0.7173424162067424,
          "xanchor": "left",
          "xref": "x",
          "y": 0,
          "yref": "y"
         },
         {
          "font": {
           "family": "Inconsolata, monospace",
           "size": 12
          },
          "showarrow": false,
          "text": "Lesser_Egyptian_jerboa",
          "textangle": 0,
          "x": 0.6425143810552373,
          "xanchor": "left",
          "xref": "x",
          "y": -1.3,
          "yref": "y"
         },
         {
          "font": {
           "family": "Inconsolata, monospace",
           "size": 12
          },
          "showarrow": false,
          "text": "Kangaroo_rat",
          "textangle": 0,
          "x": 0.7124593918242338,
          "xanchor": "left",
          "xref": "x",
          "y": -2.6,
          "yref": "y"
         },
         {
          "font": {
           "family": "Inconsolata, monospace",
           "size": 12
          },
          "showarrow": false,
          "text": "Long_tailed_chinchilla",
          "textangle": 0,
          "x": 0.6637384392773897,
          "xanchor": "left",
          "xref": "x",
          "y": -3.9000000000000004,
          "yref": "y"
         },
         {
          "font": {
           "family": "Inconsolata, monospace",
           "size": 12
          },
          "showarrow": false,
          "text": "Degu",
          "textangle": 0,
          "x": 0.6754146104759778,
          "xanchor": "left",
          "xref": "x",
          "y": -5.2,
          "yref": "y"
         },
         {
          "font": {
           "family": "Inconsolata, monospace",
           "size": 12
          },
          "showarrow": false,
          "text": "Guinea_Pig",
          "textangle": 0,
          "x": 0.8181749456784281,
          "xanchor": "left",
          "xref": "x",
          "y": -6.5,
          "yref": "y"
         },
         {
          "font": {
           "family": "Inconsolata, monospace",
           "size": 12
          },
          "showarrow": false,
          "text": "Squirrel",
          "textangle": 0,
          "x": 0.5312687835341877,
          "xanchor": "left",
          "xref": "x",
          "y": -7.800000000000001,
          "yref": "y"
         },
         {
          "font": {
           "family": "Inconsolata, monospace",
           "size": 12
          },
          "showarrow": false,
          "text": "Arctic_ground_squirrel",
          "textangle": 0,
          "x": 0.5357532055698729,
          "xanchor": "left",
          "xref": "x",
          "y": -9.1,
          "yref": "y"
         },
         {
          "font": {
           "family": "Inconsolata, monospace",
           "size": 12
          },
          "showarrow": false,
          "text": "Alpine_marmot",
          "textangle": 0,
          "x": 0.5198626532640317,
          "xanchor": "left",
          "xref": "x",
          "y": -10.4,
          "yref": "y"
         },
         {
          "font": {
           "family": "Inconsolata, monospace",
           "size": 12
          },
          "showarrow": false,
          "text": "Eurasian_red_squirrel",
          "textangle": 0,
          "x": 0.5199018927967147,
          "xanchor": "left",
          "xref": "x",
          "y": -11.700000000000001,
          "yref": "y"
         },
         {
          "font": {
           "family": "Inconsolata, monospace",
           "size": 12
          },
          "showarrow": false,
          "text": "Rabbit",
          "textangle": 0,
          "x": 0.7074282886405793,
          "xanchor": "left",
          "xref": "x",
          "y": -13,
          "yref": "y"
         },
         {
          "font": {
           "family": "Inconsolata, monospace",
           "size": 12
          },
          "showarrow": false,
          "text": "Pika",
          "textangle": 0,
          "x": 0.7172043752690712,
          "xanchor": "left",
          "xref": "x",
          "y": -14.3,
          "yref": "y"
         },
         {
          "font": {
           "family": "Inconsolata, monospace",
           "size": 12
          },
          "showarrow": false,
          "text": "Coquerel's_sifaka",
          "textangle": 0,
          "x": 0.7887283924617703,
          "xanchor": "left",
          "xref": "x",
          "y": -15.600000000000001,
          "yref": "y"
         },
         {
          "font": {
           "family": "Inconsolata, monospace",
           "size": 12
          },
          "showarrow": false,
          "text": "Greater_bamboo_lemur",
          "textangle": 0,
          "x": 0.7905995471181912,
          "xanchor": "left",
          "xref": "x",
          "y": -16.900000000000002,
          "yref": "y"
         },
         {
          "font": {
           "family": "Inconsolata, monospace",
           "size": 12
          },
          "showarrow": false,
          "text": "Mouse_Lemur",
          "textangle": 0,
          "x": 0.791591683651239,
          "xanchor": "left",
          "xref": "x",
          "y": -18.2,
          "yref": "y"
         },
         {
          "font": {
           "family": "Inconsolata, monospace",
           "size": 12
          },
          "showarrow": false,
          "text": "Human",
          "textangle": 0,
          "x": 0.8095304232924938,
          "xanchor": "left",
          "xref": "x",
          "y": -19.5,
          "yref": "y"
         },
         {
          "font": {
           "family": "Inconsolata, monospace",
           "size": 12
          },
          "showarrow": false,
          "text": "Chimpanzee",
          "textangle": 0,
          "x": 0.8127317674373633,
          "xanchor": "left",
          "xref": "x",
          "y": -20.8,
          "yref": "y"
         },
         {
          "font": {
           "family": "Inconsolata, monospace",
           "size": 12
          },
          "showarrow": false,
          "text": "Gorilla",
          "textangle": 0,
          "x": 0.8116172423741782,
          "xanchor": "left",
          "xref": "x",
          "y": -22.1,
          "yref": "y"
         },
         {
          "font": {
           "family": "Inconsolata, monospace",
           "size": 12
          },
          "showarrow": false,
          "text": "Sumatran_orangutan",
          "textangle": 0,
          "x": 0.812984464258282,
          "xanchor": "left",
          "xref": "x",
          "y": -23.400000000000002,
          "yref": "y"
         },
         {
          "font": {
           "family": "Inconsolata, monospace",
           "size": 12
          },
          "showarrow": false,
          "text": "Gibbon",
          "textangle": 0,
          "x": 0.8009111573930797,
          "xanchor": "left",
          "xref": "x",
          "y": -24.7,
          "yref": "y"
         },
         {
          "font": {
           "family": "Inconsolata, monospace",
           "size": 12
          },
          "showarrow": false,
          "text": "Sooty_mangabey",
          "textangle": 0,
          "x": 0.8191243612807844,
          "xanchor": "left",
          "xref": "x",
          "y": -26,
          "yref": "y"
         },
         {
          "font": {
           "family": "Inconsolata, monospace",
           "size": 12
          },
          "showarrow": false,
          "text": "Drill",
          "textangle": 0,
          "x": 0.8264383864461794,
          "xanchor": "left",
          "xref": "x",
          "y": -27.3,
          "yref": "y"
         },
         {
          "font": {
           "family": "Inconsolata, monospace",
           "size": 12
          },
          "showarrow": false,
          "text": "Olive_baboon",
          "textangle": 0,
          "x": 0.8170800448638622,
          "xanchor": "left",
          "xref": "x",
          "y": -28.6,
          "yref": "y"
         },
         {
          "font": {
           "family": "Inconsolata, monospace",
           "size": 12
          },
          "showarrow": false,
          "text": "Pig_tailed_macaque",
          "textangle": 0,
          "x": 0.8194704052673055,
          "xanchor": "left",
          "xref": "x",
          "y": -29.900000000000002,
          "yref": "y"
         },
         {
          "font": {
           "family": "Inconsolata, monospace",
           "size": 12
          },
          "showarrow": false,
          "text": "Vervet_AGM",
          "textangle": 0,
          "x": 0.8214792684047945,
          "xanchor": "left",
          "xref": "x",
          "y": -31.200000000000003,
          "yref": "y"
         },
         {
          "font": {
           "family": "Inconsolata, monospace",
           "size": 12
          },
          "showarrow": false,
          "text": "Black_snub_nosed_monkey",
          "textangle": 0,
          "x": 0.8167795530221358,
          "xanchor": "left",
          "xref": "x",
          "y": -32.5,
          "yref": "y"
         },
         {
          "font": {
           "family": "Inconsolata, monospace",
           "size": 12
          },
          "showarrow": false,
          "text": "Panamanian_white_faced_capuchin",
          "textangle": 0,
          "x": 0.86845337507488,
          "xanchor": "left",
          "xref": "x",
          "y": -33.800000000000004,
          "yref": "y"
         },
         {
          "font": {
           "family": "Inconsolata, monospace",
           "size": 12
          },
          "showarrow": false,
          "text": "Bolivian_squirrel_monkey",
          "textangle": 0,
          "x": 0.8853153725396881,
          "xanchor": "left",
          "xref": "x",
          "y": -35.1,
          "yref": "y"
         },
         {
          "font": {
           "family": "Inconsolata, monospace",
           "size": 12
          },
          "showarrow": false,
          "text": "Ma's_night_monkey",
          "textangle": 0,
          "x": 0.8719884340644082,
          "xanchor": "left",
          "xref": "x",
          "y": -36.4,
          "yref": "y"
         },
         {
          "font": {
           "family": "Inconsolata, monospace",
           "size": 12
          },
          "showarrow": false,
          "text": "White_tufted_ear_marmoset",
          "textangle": 0,
          "x": 1.1567059773868291,
          "xanchor": "left",
          "xref": "x",
          "y": -37.7,
          "yref": "y"
         },
         {
          "font": {
           "family": "Inconsolata, monospace",
           "size": 12
          },
          "showarrow": false,
          "text": "Elephant",
          "textangle": 0,
          "x": 0.5585960984174357,
          "xanchor": "left",
          "xref": "x",
          "y": -39,
          "yref": "y"
         },
         {
          "ax": 0,
          "ay": 0,
          "showarrow": false,
          "text": "0.11",
          "x": 0.05642468182374776,
          "xref": "x",
          "y": -46.09090909090909,
          "yref": "y",
          "yshift": 10
         }
        ],
        "autosize": true,
        "font": {
         "family": "Balto",
         "size": 14
        },
        "height": 1000,
        "hovermode": "closest",
        "margin": {
         "b": 50,
         "l": 50,
         "pad": 4,
         "r": 50,
         "t": 50
        },
        "shapes": [
         {
          "line": {
           "color": "black",
           "width": 1.25
          },
          "name": "scale_bar",
          "type": "line",
          "x0": 0,
          "x1": 0.11284936364749552,
          "y0": -46.09090909090909,
          "y1": -46.09090909090909
         }
        ],
        "showlegend": false,
        "template": {
         "data": {
          "bar": [
           {
            "error_x": {
             "color": "#2a3f5f"
            },
            "error_y": {
             "color": "#2a3f5f"
            },
            "marker": {
             "line": {
              "color": "#E5ECF6",
              "width": 0.5
             },
             "pattern": {
              "fillmode": "overlay",
              "size": 10,
              "solidity": 0.2
             }
            },
            "type": "bar"
           }
          ],
          "barpolar": [
           {
            "marker": {
             "line": {
              "color": "#E5ECF6",
              "width": 0.5
             },
             "pattern": {
              "fillmode": "overlay",
              "size": 10,
              "solidity": 0.2
             }
            },
            "type": "barpolar"
           }
          ],
          "carpet": [
           {
            "aaxis": {
             "endlinecolor": "#2a3f5f",
             "gridcolor": "white",
             "linecolor": "white",
             "minorgridcolor": "white",
             "startlinecolor": "#2a3f5f"
            },
            "baxis": {
             "endlinecolor": "#2a3f5f",
             "gridcolor": "white",
             "linecolor": "white",
             "minorgridcolor": "white",
             "startlinecolor": "#2a3f5f"
            },
            "type": "carpet"
           }
          ],
          "choropleth": [
           {
            "colorbar": {
             "outlinewidth": 0,
             "ticks": ""
            },
            "type": "choropleth"
           }
          ],
          "contour": [
           {
            "colorbar": {
             "outlinewidth": 0,
             "ticks": ""
            },
            "colorscale": [
             [
              0,
              "#0d0887"
             ],
             [
              0.1111111111111111,
              "#46039f"
             ],
             [
              0.2222222222222222,
              "#7201a8"
             ],
             [
              0.3333333333333333,
              "#9c179e"
             ],
             [
              0.4444444444444444,
              "#bd3786"
             ],
             [
              0.5555555555555556,
              "#d8576b"
             ],
             [
              0.6666666666666666,
              "#ed7953"
             ],
             [
              0.7777777777777778,
              "#fb9f3a"
             ],
             [
              0.8888888888888888,
              "#fdca26"
             ],
             [
              1,
              "#f0f921"
             ]
            ],
            "type": "contour"
           }
          ],
          "contourcarpet": [
           {
            "colorbar": {
             "outlinewidth": 0,
             "ticks": ""
            },
            "type": "contourcarpet"
           }
          ],
          "heatmap": [
           {
            "colorbar": {
             "outlinewidth": 0,
             "ticks": ""
            },
            "colorscale": [
             [
              0,
              "#0d0887"
             ],
             [
              0.1111111111111111,
              "#46039f"
             ],
             [
              0.2222222222222222,
              "#7201a8"
             ],
             [
              0.3333333333333333,
              "#9c179e"
             ],
             [
              0.4444444444444444,
              "#bd3786"
             ],
             [
              0.5555555555555556,
              "#d8576b"
             ],
             [
              0.6666666666666666,
              "#ed7953"
             ],
             [
              0.7777777777777778,
              "#fb9f3a"
             ],
             [
              0.8888888888888888,
              "#fdca26"
             ],
             [
              1,
              "#f0f921"
             ]
            ],
            "type": "heatmap"
           }
          ],
          "heatmapgl": [
           {
            "colorbar": {
             "outlinewidth": 0,
             "ticks": ""
            },
            "colorscale": [
             [
              0,
              "#0d0887"
             ],
             [
              0.1111111111111111,
              "#46039f"
             ],
             [
              0.2222222222222222,
              "#7201a8"
             ],
             [
              0.3333333333333333,
              "#9c179e"
             ],
             [
              0.4444444444444444,
              "#bd3786"
             ],
             [
              0.5555555555555556,
              "#d8576b"
             ],
             [
              0.6666666666666666,
              "#ed7953"
             ],
             [
              0.7777777777777778,
              "#fb9f3a"
             ],
             [
              0.8888888888888888,
              "#fdca26"
             ],
             [
              1,
              "#f0f921"
             ]
            ],
            "type": "heatmapgl"
           }
          ],
          "histogram": [
           {
            "marker": {
             "pattern": {
              "fillmode": "overlay",
              "size": 10,
              "solidity": 0.2
             }
            },
            "type": "histogram"
           }
          ],
          "histogram2d": [
           {
            "colorbar": {
             "outlinewidth": 0,
             "ticks": ""
            },
            "colorscale": [
             [
              0,
              "#0d0887"
             ],
             [
              0.1111111111111111,
              "#46039f"
             ],
             [
              0.2222222222222222,
              "#7201a8"
             ],
             [
              0.3333333333333333,
              "#9c179e"
             ],
             [
              0.4444444444444444,
              "#bd3786"
             ],
             [
              0.5555555555555556,
              "#d8576b"
             ],
             [
              0.6666666666666666,
              "#ed7953"
             ],
             [
              0.7777777777777778,
              "#fb9f3a"
             ],
             [
              0.8888888888888888,
              "#fdca26"
             ],
             [
              1,
              "#f0f921"
             ]
            ],
            "type": "histogram2d"
           }
          ],
          "histogram2dcontour": [
           {
            "colorbar": {
             "outlinewidth": 0,
             "ticks": ""
            },
            "colorscale": [
             [
              0,
              "#0d0887"
             ],
             [
              0.1111111111111111,
              "#46039f"
             ],
             [
              0.2222222222222222,
              "#7201a8"
             ],
             [
              0.3333333333333333,
              "#9c179e"
             ],
             [
              0.4444444444444444,
              "#bd3786"
             ],
             [
              0.5555555555555556,
              "#d8576b"
             ],
             [
              0.6666666666666666,
              "#ed7953"
             ],
             [
              0.7777777777777778,
              "#fb9f3a"
             ],
             [
              0.8888888888888888,
              "#fdca26"
             ],
             [
              1,
              "#f0f921"
             ]
            ],
            "type": "histogram2dcontour"
           }
          ],
          "mesh3d": [
           {
            "colorbar": {
             "outlinewidth": 0,
             "ticks": ""
            },
            "type": "mesh3d"
           }
          ],
          "parcoords": [
           {
            "line": {
             "colorbar": {
              "outlinewidth": 0,
              "ticks": ""
             }
            },
            "type": "parcoords"
           }
          ],
          "pie": [
           {
            "automargin": true,
            "type": "pie"
           }
          ],
          "scatter": [
           {
            "fillpattern": {
             "fillmode": "overlay",
             "size": 10,
             "solidity": 0.2
            },
            "type": "scatter"
           }
          ],
          "scatter3d": [
           {
            "line": {
             "colorbar": {
              "outlinewidth": 0,
              "ticks": ""
             }
            },
            "marker": {
             "colorbar": {
              "outlinewidth": 0,
              "ticks": ""
             }
            },
            "type": "scatter3d"
           }
          ],
          "scattercarpet": [
           {
            "marker": {
             "colorbar": {
              "outlinewidth": 0,
              "ticks": ""
             }
            },
            "type": "scattercarpet"
           }
          ],
          "scattergeo": [
           {
            "marker": {
             "colorbar": {
              "outlinewidth": 0,
              "ticks": ""
             }
            },
            "type": "scattergeo"
           }
          ],
          "scattergl": [
           {
            "marker": {
             "colorbar": {
              "outlinewidth": 0,
              "ticks": ""
             }
            },
            "type": "scattergl"
           }
          ],
          "scattermapbox": [
           {
            "marker": {
             "colorbar": {
              "outlinewidth": 0,
              "ticks": ""
             }
            },
            "type": "scattermapbox"
           }
          ],
          "scatterpolar": [
           {
            "marker": {
             "colorbar": {
              "outlinewidth": 0,
              "ticks": ""
             }
            },
            "type": "scatterpolar"
           }
          ],
          "scatterpolargl": [
           {
            "marker": {
             "colorbar": {
              "outlinewidth": 0,
              "ticks": ""
             }
            },
            "type": "scatterpolargl"
           }
          ],
          "scatterternary": [
           {
            "marker": {
             "colorbar": {
              "outlinewidth": 0,
              "ticks": ""
             }
            },
            "type": "scatterternary"
           }
          ],
          "surface": [
           {
            "colorbar": {
             "outlinewidth": 0,
             "ticks": ""
            },
            "colorscale": [
             [
              0,
              "#0d0887"
             ],
             [
              0.1111111111111111,
              "#46039f"
             ],
             [
              0.2222222222222222,
              "#7201a8"
             ],
             [
              0.3333333333333333,
              "#9c179e"
             ],
             [
              0.4444444444444444,
              "#bd3786"
             ],
             [
              0.5555555555555556,
              "#d8576b"
             ],
             [
              0.6666666666666666,
              "#ed7953"
             ],
             [
              0.7777777777777778,
              "#fb9f3a"
             ],
             [
              0.8888888888888888,
              "#fdca26"
             ],
             [
              1,
              "#f0f921"
             ]
            ],
            "type": "surface"
           }
          ],
          "table": [
           {
            "cells": {
             "fill": {
              "color": "#EBF0F8"
             },
             "line": {
              "color": "white"
             }
            },
            "header": {
             "fill": {
              "color": "#C8D4E3"
             },
             "line": {
              "color": "white"
             }
            },
            "type": "table"
           }
          ]
         },
         "layout": {
          "annotationdefaults": {
           "arrowcolor": "#2a3f5f",
           "arrowhead": 0,
           "arrowwidth": 1
          },
          "autotypenumbers": "strict",
          "coloraxis": {
           "colorbar": {
            "outlinewidth": 0,
            "ticks": ""
           }
          },
          "colorscale": {
           "diverging": [
            [
             0,
             "#8e0152"
            ],
            [
             0.1,
             "#c51b7d"
            ],
            [
             0.2,
             "#de77ae"
            ],
            [
             0.3,
             "#f1b6da"
            ],
            [
             0.4,
             "#fde0ef"
            ],
            [
             0.5,
             "#f7f7f7"
            ],
            [
             0.6,
             "#e6f5d0"
            ],
            [
             0.7,
             "#b8e186"
            ],
            [
             0.8,
             "#7fbc41"
            ],
            [
             0.9,
             "#4d9221"
            ],
            [
             1,
             "#276419"
            ]
           ],
           "sequential": [
            [
             0,
             "#0d0887"
            ],
            [
             0.1111111111111111,
             "#46039f"
            ],
            [
             0.2222222222222222,
             "#7201a8"
            ],
            [
             0.3333333333333333,
             "#9c179e"
            ],
            [
             0.4444444444444444,
             "#bd3786"
            ],
            [
             0.5555555555555556,
             "#d8576b"
            ],
            [
             0.6666666666666666,
             "#ed7953"
            ],
            [
             0.7777777777777778,
             "#fb9f3a"
            ],
            [
             0.8888888888888888,
             "#fdca26"
            ],
            [
             1,
             "#f0f921"
            ]
           ],
           "sequentialminus": [
            [
             0,
             "#0d0887"
            ],
            [
             0.1111111111111111,
             "#46039f"
            ],
            [
             0.2222222222222222,
             "#7201a8"
            ],
            [
             0.3333333333333333,
             "#9c179e"
            ],
            [
             0.4444444444444444,
             "#bd3786"
            ],
            [
             0.5555555555555556,
             "#d8576b"
            ],
            [
             0.6666666666666666,
             "#ed7953"
            ],
            [
             0.7777777777777778,
             "#fb9f3a"
            ],
            [
             0.8888888888888888,
             "#fdca26"
            ],
            [
             1,
             "#f0f921"
            ]
           ]
          },
          "colorway": [
           "#636efa",
           "#EF553B",
           "#00cc96",
           "#ab63fa",
           "#FFA15A",
           "#19d3f3",
           "#FF6692",
           "#B6E880",
           "#FF97FF",
           "#FECB52"
          ],
          "font": {
           "color": "#2a3f5f"
          },
          "geo": {
           "bgcolor": "white",
           "lakecolor": "white",
           "landcolor": "#E5ECF6",
           "showlakes": true,
           "showland": true,
           "subunitcolor": "white"
          },
          "hoverlabel": {
           "align": "left"
          },
          "hovermode": "closest",
          "mapbox": {
           "style": "light"
          },
          "paper_bgcolor": "white",
          "plot_bgcolor": "#E5ECF6",
          "polar": {
           "angularaxis": {
            "gridcolor": "white",
            "linecolor": "white",
            "ticks": ""
           },
           "bgcolor": "#E5ECF6",
           "radialaxis": {
            "gridcolor": "white",
            "linecolor": "white",
            "ticks": ""
           }
          },
          "scene": {
           "xaxis": {
            "backgroundcolor": "#E5ECF6",
            "gridcolor": "white",
            "gridwidth": 2,
            "linecolor": "white",
            "showbackground": true,
            "ticks": "",
            "zerolinecolor": "white"
           },
           "yaxis": {
            "backgroundcolor": "#E5ECF6",
            "gridcolor": "white",
            "gridwidth": 2,
            "linecolor": "white",
            "showbackground": true,
            "ticks": "",
            "zerolinecolor": "white"
           },
           "zaxis": {
            "backgroundcolor": "#E5ECF6",
            "gridcolor": "white",
            "gridwidth": 2,
            "linecolor": "white",
            "showbackground": true,
            "ticks": "",
            "zerolinecolor": "white"
           }
          },
          "shapedefaults": {
           "line": {
            "color": "#2a3f5f"
           }
          },
          "ternary": {
           "aaxis": {
            "gridcolor": "white",
            "linecolor": "white",
            "ticks": ""
           },
           "baxis": {
            "gridcolor": "white",
            "linecolor": "white",
            "ticks": ""
           },
           "bgcolor": "#E5ECF6",
           "caxis": {
            "gridcolor": "white",
            "linecolor": "white",
            "ticks": ""
           }
          },
          "title": {
           "x": 0.05
          },
          "xaxis": {
           "automargin": true,
           "gridcolor": "white",
           "linecolor": "white",
           "ticks": "",
           "title": {
            "standoff": 15
           },
           "zerolinecolor": "white",
           "zerolinewidth": 2
          },
          "yaxis": {
           "automargin": true,
           "gridcolor": "white",
           "linecolor": "white",
           "ticks": "",
           "title": {
            "standoff": 15
           },
           "zerolinecolor": "white",
           "zerolinewidth": 2
          }
         }
        },
        "width": 1000,
        "xaxis": {
         "visible": false
        },
        "yaxis": {
         "visible": false
        }
       }
      },
      "text/html": [
       "<div>                            <div id=\"c5c492d2-0e6c-4939-bec2-b1c066ee47e0\" class=\"plotly-graph-div\" style=\"height:1000px; width:1000px;\"></div>            <script type=\"text/javascript\">                require([\"plotly\"], function(Plotly) {                    window.PLOTLYENV=window.PLOTLYENV || {};                                    if (document.getElementById(\"c5c492d2-0e6c-4939-bec2-b1c066ee47e0\")) {                    Plotly.newPlot(                        \"c5c492d2-0e6c-4939-bec2-b1c066ee47e0\",                        [{\"line\":{\"color\":\"black\",\"shape\":\"spline\",\"smoothing\":1.3,\"width\":1.25},\"mode\":\"lines\",\"showlegend\":false,\"x\":[null,null,0,0,null,0,0.07452909045632747,null,0,0,null,0,0.20731430890365457,null,0.20731430890365457,0.20731430890365457,null,0.20731430890365457,0.23066247081910432,null,0.23066247081910432,0.23066247081910432,null,0.23066247081910432,0.23705925773288383,null,0.23705925773288383,0.23705925773288383,null,0.23705925773288383,0.2486897148430439,null,0.2486897148430439,0.2486897148430439,null,0.2486897148430439,0.2877342586243145,null,0.2877342586243145,0.2877342586243145,null,0.2877342586243145,0.2877351634219474,null,0.2877351634219474,0.2877351634219474,null,0.2877351634219474,0.44294449031262606,null,0.44294449031262606,0.44294449031262606,null,0.44294449031262606,0.46642876077340656,null,0.46642876077340656,0.46642876077340656,null,0.46642876077340656,0.4920638918614779,null,0.4920638918614779,0.4920638918614779,null,0.4920638918614779,0.5372581155902529,null,0.5372581155902529,0.5372581155902529,null,0.5372581155902529,0.5581907986355186,null,0.5372581155902529,0.5372581155902529,null,0.5372581155902529,0.5798248062386189,null,0.4920638918614779,0.4920638918614779,null,0.4920638918614779,0.6517334045922039,null,0.46642876077340656,0.46642876077340656,null,0.46642876077340656,0.783940791524434,null,0.783940791524434,0.783940791524434,null,0.783940791524434,0.8208835384261851,null,0.783940791524434,0.783940791524434,null,0.783940791524434,0.8234445732705352,null,0.44294449031262606,0.44294449031262606,null,0.44294449031262606,0.511229969219472,null,0.511229969219472,0.511229969219472,null,0.511229969219472,0.5318048222099093,null,0.511229969219472,0.511229969219472,null,0.511229969219472,0.5547420645753857,null,0.2877351634219474,0.2877351634219474,null,0.2877351634219474,0.5164546405170969,null,0.2877342586243145,0.2877342586243145,null,0.2877342586243145,0.34851147095728735,null,0.34851147095728735,0.34851147095728735,null,0.34851147095728735,0.36367285964967605,null,0.36367285964967605,0.36367285964967605,null,0.36367285964967605,0.3829434826108315,null,0.3829434826108315,0.3829434826108315,null,0.3829434826108315,0.4679436326264654,null,0.4679436326264654,0.4679436326264654,null,0.4679436326264654,0.47205764724216615,null,0.47205764724216615,0.47205764724216615,null,0.47205764724216615,0.4874489028132565,null,0.4874489028132565,0.4874489028132565,null,0.4874489028132565,0.5314385260248936,null,0.5314385260248936,0.5314385260248936,null,0.5314385260248936,0.5345424374384365,null,0.5314385260248936,0.5314385260248936,null,0.5314385260248936,0.5349951073459891,null,0.4874489028132565,0.4874489028132565,null,0.4874489028132565,0.538580326687099,null,0.47205764724216615,0.47205764724216615,null,0.47205764724216615,0.5266987768749063,null,0.4679436326264654,0.4679436326264654,null,0.4679436326264654,0.5121975086770535,null,0.3829434826108315,0.3829434826108315,null,0.3829434826108315,0.4769687266998607,null,0.4769687266998607,0.4769687266998607,null,0.4769687266998607,0.47720161791985194,null,0.47720161791985194,0.47720161791985194,null,0.47720161791985194,0.4883547968038085,null,0.4883547968038085,0.4883547968038085,null,0.4883547968038085,0.494922823880009,null,0.494922823880009,0.494922823880009,null,0.494922823880009,0.4980928891344125,null,0.4980928891344125,0.4980928891344125,null,0.4980928891344125,0.5031380870318651,null,0.4980928891344125,0.4980928891344125,null,0.4980928891344125,0.5040544256220929,null,0.494922823880009,0.494922823880009,null,0.494922823880009,0.5180885678374807,null,0.4883547968038085,0.4883547968038085,null,0.4883547968038085,0.5150851152598412,null,0.47720161791985194,0.47720161791985194,null,0.47720161791985194,0.4987223135264229,null,0.4769687266998607,0.4769687266998607,null,0.4769687266998607,0.49407553269375437,null,0.36367285964967605,0.36367285964967605,null,0.36367285964967605,0.4456272796620615,null,0.4456272796620615,0.4456272796620615,null,0.4456272796620615,0.5060327016434345,null,0.4456272796620615,0.4456272796620615,null,0.4456272796620615,0.5186872999534531,null,0.34851147095728735,0.34851147095728735,null,0.34851147095728735,0.5009134870462186,null,0.2486897148430439,0.2486897148430439,null,0.2486897148430439,0.39927473630620736,null,0.39927473630620736,0.39927473630620736,null,0.39927473630620736,0.5234107608630753,null,0.39927473630620736,0.39927473630620736,null,0.39927473630620736,0.5481476963727014,null,0.23705925773288383,0.23705925773288383,null,0.23705925773288383,0.5052385886730744,null,0.23066247081910432,0.23066247081910432,null,0.23066247081910432,0.2701812031418217,null,0.2701812031418217,0.2701812031418217,null,0.2701812031418217,0.2996477911027852,null,0.2996477911027852,0.2996477911027852,null,0.2996477911027852,0.317837735691758,null,0.317837735691758,0.317837735691758,null,0.317837735691758,0.32476663427383506,null,0.32476663427383506,0.32476663427383506,null,0.32476663427383506,0.329306275367125,null,0.329306275367125,0.329306275367125,null,0.329306275367125,0.3735558835904047,null,0.3735558835904047,0.3735558835904047,null,0.3735558835904047,0.5160212872276743,null,0.5160212872276743,0.5160212872276743,null,0.5160212872276743,0.5333594933134554,null,0.5333594933134554,0.5333594933134554,null,0.5333594933134554,0.5395839313115625,null,0.5395839313115625,0.5395839313115625,null,0.5395839313115625,0.6419415246458509,null,0.5395839313115625,0.5395839313115625,null,0.5395839313115625,0.6548678213056068,null,0.5333594933134554,0.5333594933134554,null,0.5333594933134554,0.6087461640685747,null,0.5160212872276743,0.5160212872276743,null,0.5160212872276743,0.5858806563099426,null,0.5858806563099426,0.5858806563099426,null,0.5858806563099426,0.6680609705299961,null,0.5858806563099426,0.5858806563099426,null,0.5858806563099426,0.6891300752948686,null,0.3735558835904047,0.3735558835904047,null,0.3735558835904047,0.6143020401433634,null,0.329306275367125,0.329306275367125,null,0.329306275367125,0.6842470509123599,null,0.32476663427383506,0.32476663427383506,null,0.32476663427383506,0.5079408882093227,null,0.5079408882093227,0.5079408882093227,null,0.5079408882093227,0.5144819070604325,null,0.5144819070604325,0.5144819070604325,null,0.5144819070604325,0.6355260983655159,null,0.5144819070604325,0.5144819070604325,null,0.5144819070604325,0.647202269564104,null,0.5079408882093227,0.5079408882093227,null,0.5079408882093227,0.7899626047665542,null,0.317837735691758,0.317837735691758,null,0.317837735691758,0.41230073204072487,null,0.41230073204072487,0.41230073204072487,null,0.41230073204072487,0.4734111710561057,null,0.4734111710561057,0.4734111710561057,null,0.4734111710561057,0.48868569224529823,null,0.48868569224529823,0.48868569224529823,null,0.48868569224529823,0.5030564426223139,null,0.48868569224529823,0.48868569224529823,null,0.48868569224529823,0.5075408646579991,null,0.4734111710561057,0.4734111710561057,null,0.4734111710561057,0.49165031235215784,null,0.41230073204072487,0.41230073204072487,null,0.41230073204072487,0.49168955188484087,null,0.2996477911027852,0.2996477911027852,null,0.2996477911027852,0.43471402984984026,null,0.43471402984984026,0.43471402984984026,null,0.43471402984984026,0.6792159477287054,null,0.43471402984984026,0.43471402984984026,null,0.43471402984984026,0.6889920343571974,null,0.2701812031418217,0.2701812031418217,null,0.2701812031418217,0.6089339398736927,null,0.6089339398736927,0.6089339398736927,null,0.6089339398736927,0.698729409865984,null,0.698729409865984,0.698729409865984,null,0.698729409865984,0.7209853565954476,null,0.7209853565954476,0.7209853565954476,null,0.7209853565954476,0.7605160515498964,null,0.7209853565954476,0.7209853565954476,null,0.7209853565954476,0.7623872062063174,null,0.698729409865984,0.698729409865984,null,0.698729409865984,0.7633793427393651,null,0.6089339398736927,0.6089339398736927,null,0.6089339398736927,0.7038666428523939,null,0.7038666428523939,0.7038666428523939,null,0.7038666428523939,0.7307476523125823,null,0.7307476523125823,0.7307476523125823,null,0.7307476523125823,0.7543107448026716,null,0.7543107448026716,0.7543107448026716,null,0.7543107448026716,0.7583066307961849,null,0.7583066307961849,0.7583066307961849,null,0.7583066307961849,0.7725994197791695,null,0.7725994197791695,0.7725994197791695,null,0.7725994197791695,0.7740871884178883,null,0.7740871884178883,0.7740871884178883,null,0.7740871884178883,0.78131808238062,null,0.7740871884178883,0.7740871884178883,null,0.7740871884178883,0.7845194265254894,null,0.7725994197791695,0.7725994197791695,null,0.7725994197791695,0.7834049014623043,null,0.7583066307961849,0.7583066307961849,null,0.7583066307961849,0.7847721233464081,null,0.7543107448026716,0.7543107448026716,null,0.7543107448026716,0.7726988164812059,null,0.7307476523125823,0.7307476523125823,null,0.7307476523125823,0.7616286279836203,null,0.7616286279836203,0.7616286279836203,null,0.7616286279836203,0.7745704022605474,null,0.7745704022605474,0.7745704022605474,null,0.7745704022605474,0.7795348937325813,null,0.7795348937325813,0.7795348937325813,null,0.7795348937325813,0.7825640660569797,null,0.7825640660569797,0.7825640660569797,null,0.7825640660569797,0.7863446728414748,null,0.7863446728414748,0.7863446728414748,null,0.7863446728414748,0.7909120203689105,null,0.7863446728414748,0.7863446728414748,null,0.7863446728414748,0.7982260455343055,null,0.7825640660569797,0.7825640660569797,null,0.7825640660569797,0.7888677039519884,null,0.7795348937325813,0.7795348937325813,null,0.7795348937325813,0.7912580643554317,null,0.7745704022605474,0.7745704022605474,null,0.7745704022605474,0.7932669274929206,null,0.7616286279836203,0.7616286279836203,null,0.7616286279836203,0.7885672121102619,null,0.7038666428523939,0.7038666428523939,null,0.7038666428523939,0.7862706392437644,null,0.7862706392437644,0.7862706392437644,null,0.7862706392437644,0.8066402662899025,null,0.8066402662899025,0.8066402662899025,null,0.8066402662899025,0.8116681177497991,null,0.8116681177497991,0.8116681177497991,null,0.8116681177497991,0.8402410341630061,null,0.8116681177497991,0.8116681177497991,null,0.8116681177497991,0.8571030316278142,null,0.8066402662899025,0.8066402662899025,null,0.8066402662899025,0.8437760931525343,null,0.7862706392437644,0.7862706392437644,null,0.7862706392437644,1.1284936364749552,null,0.20731430890365457,0.20731430890365457,null,0.20731430890365457,0.5303837575055619,null],\"y\":[null,null,8.923297119140624,39.0,null,39.0,39.0,null,8.923297119140624,-21.15340576171875,null,-21.15340576171875,-21.15340576171875,null,-21.15340576171875,-3.3068115234374993,null,-3.3068115234374993,-3.3068115234374993,null,-3.3068115234374993,10.829736328125001,null,10.829736328125001,10.829736328125001,null,10.829736328125001,15.159472656250001,null,15.159472656250001,15.159472656250001,null,15.159472656250001,21.868945312500003,null,21.868945312500003,21.868945312500003,null,21.868945312500003,30.590625000000003,null,30.590625000000003,30.590625000000003,null,30.590625000000003,32.581250000000004,null,32.581250000000004,32.581250000000004,null,32.581250000000004,34.612500000000004,null,34.612500000000004,34.612500000000004,null,34.612500000000004,36.075,null,36.075,36.075,null,36.075,37.05,null,37.05,37.05,null,37.05,37.7,null,37.7,37.7,null,37.05,36.4,null,36.4,36.4,null,36.075,35.1,null,35.1,35.1,null,34.612500000000004,33.150000000000006,null,33.150000000000006,33.150000000000006,null,33.150000000000006,33.800000000000004,null,33.800000000000004,33.800000000000004,null,33.150000000000006,32.5,null,32.5,32.5,null,32.581250000000004,30.550000000000004,null,30.550000000000004,30.550000000000004,null,30.550000000000004,31.200000000000003,null,31.200000000000003,31.200000000000003,null,30.550000000000004,29.900000000000002,null,29.900000000000002,29.900000000000002,null,30.590625000000003,28.6,null,28.6,28.6,null,21.868945312500003,13.147265625000001,null,13.147265625000001,13.147265625000001,null,13.147265625000001,15.894531250000002,null,15.894531250000002,15.894531250000002,null,15.894531250000002,19.439062500000002,null,19.439062500000002,19.439062500000002,null,19.439062500000002,23.31875,null,23.31875,23.31875,null,23.31875,24.5375,null,24.5375,24.5375,null,24.5375,25.674999999999997,null,25.674999999999997,25.674999999999997,null,25.674999999999997,26.65,null,26.65,26.65,null,26.65,27.3,null,27.3,27.3,null,26.65,26.0,null,26.0,26.0,null,25.674999999999997,24.7,null,24.7,24.7,null,24.5375,23.400000000000002,null,23.400000000000002,23.400000000000002,null,23.31875,22.1,null,22.1,22.1,null,19.439062500000002,15.559375000000001,null,15.559375000000001,15.559375000000001,null,15.559375000000001,16.81875,null,16.81875,16.81875,null,16.81875,18.0375,null,18.0375,18.0375,null,18.0375,19.174999999999997,null,19.174999999999997,19.174999999999997,null,19.174999999999997,20.15,null,20.15,20.15,null,20.15,20.8,null,20.8,20.8,null,20.15,19.5,null,19.5,19.5,null,19.174999999999997,18.2,null,18.2,18.2,null,18.0375,16.900000000000002,null,16.900000000000002,16.900000000000002,null,16.81875,15.600000000000001,null,15.600000000000001,15.600000000000001,null,15.559375000000001,14.3,null,14.3,14.3,null,15.894531250000002,12.350000000000001,null,12.350000000000001,12.350000000000001,null,12.350000000000001,13.0,null,13.0,13.0,null,12.350000000000001,11.700000000000001,null,11.700000000000001,11.700000000000001,null,13.147265625000001,10.4,null,10.4,10.4,null,15.159472656250001,8.45,null,8.45,8.45,null,8.45,9.1,null,9.1,9.1,null,8.45,7.800000000000001,null,7.800000000000001,7.800000000000001,null,10.829736328125001,6.5,null,6.5,6.5,null,-3.3068115234374993,-17.443359375,null,-17.443359375,-17.443359375,null,-17.443359375,-10.293359375,null,-10.293359375,-10.293359375,null,-10.293359375,-6.93671875,null,-6.93671875,-6.93671875,null,-6.93671875,-3.3109375,null,-3.3109375,-3.3109375,null,-3.3109375,-1.096875,null,-1.096875,-1.096875,null,-1.096875,0.4062500000000001,null,0.4062500000000001,0.4062500000000001,null,0.4062500000000001,2.1125000000000003,null,2.1125000000000003,2.1125000000000003,null,2.1125000000000003,3.575,null,3.575,3.575,null,3.575,4.550000000000001,null,4.550000000000001,4.550000000000001,null,4.550000000000001,5.2,null,5.2,5.2,null,4.550000000000001,3.9000000000000004,null,3.9000000000000004,3.9000000000000004,null,3.575,2.6,null,2.6,2.6,null,2.1125000000000003,0.65,null,0.65,0.65,null,0.65,1.3,null,1.3,1.3,null,0.65,0.0,null,0.0,0.0,null,0.4062500000000001,-1.3,null,-1.3,-1.3,null,-1.096875,-2.6,null,-2.6,-2.6,null,-3.3109375,-5.525,null,-5.525,-5.525,null,-5.525,-4.550000000000001,null,-4.550000000000001,-4.550000000000001,null,-4.550000000000001,-3.9000000000000004,null,-3.9000000000000004,-3.9000000000000004,null,-4.550000000000001,-5.2,null,-5.2,-5.2,null,-5.525,-6.5,null,-6.5,-6.5,null,-6.93671875,-10.5625,null,-10.5625,-10.5625,null,-10.5625,-9.425,null,-9.425,-9.425,null,-9.425,-8.45,null,-8.45,-8.45,null,-8.45,-7.800000000000001,null,-7.800000000000001,-7.800000000000001,null,-8.45,-9.1,null,-9.1,-9.1,null,-9.425,-10.4,null,-10.4,-10.4,null,-10.5625,-11.700000000000001,null,-11.700000000000001,-11.700000000000001,null,-10.293359375,-13.65,null,-13.65,-13.65,null,-13.65,-13.0,null,-13.0,-13.0,null,-13.65,-14.3,null,-14.3,-14.3,null,-17.443359375,-24.593359375000002,null,-24.593359375000002,-24.593359375000002,null,-24.593359375000002,-17.225,null,-17.225,-17.225,null,-17.225,-16.25,null,-16.25,-16.25,null,-16.25,-15.600000000000001,null,-15.600000000000001,-15.600000000000001,null,-16.25,-16.900000000000002,null,-16.900000000000002,-16.900000000000002,null,-17.225,-18.2,null,-18.2,-18.2,null,-24.593359375000002,-31.961718750000003,null,-31.961718750000003,-31.961718750000003,null,-31.961718750000003,-27.360937500000002,null,-27.360937500000002,-27.360937500000002,null,-27.360937500000002,-23.481250000000003,null,-23.481250000000003,-23.481250000000003,null,-23.481250000000003,-22.262500000000003,null,-22.262500000000003,-22.262500000000003,null,-22.262500000000003,-21.125,null,-21.125,-21.125,null,-21.125,-20.15,null,-20.15,-20.15,null,-20.15,-19.5,null,-19.5,-19.5,null,-20.15,-20.8,null,-20.8,-20.8,null,-21.125,-22.1,null,-22.1,-22.1,null,-22.262500000000003,-23.400000000000002,null,-23.400000000000002,-23.400000000000002,null,-23.481250000000003,-24.7,null,-24.7,-24.7,null,-27.360937500000002,-31.240625,null,-31.240625,-31.240625,null,-31.240625,-29.981250000000003,null,-29.981250000000003,-29.981250000000003,null,-29.981250000000003,-28.762500000000003,null,-28.762500000000003,-28.762500000000003,null,-28.762500000000003,-27.625,null,-27.625,-27.625,null,-27.625,-26.65,null,-26.65,-26.65,null,-26.65,-26.0,null,-26.0,-26.0,null,-26.65,-27.3,null,-27.3,-27.3,null,-27.625,-28.6,null,-28.6,-28.6,null,-28.762500000000003,-29.900000000000002,null,-29.900000000000002,-29.900000000000002,null,-29.981250000000003,-31.200000000000003,null,-31.200000000000003,-31.200000000000003,null,-31.240625,-32.5,null,-32.5,-32.5,null,-31.961718750000003,-36.5625,null,-36.5625,-36.5625,null,-36.5625,-35.425,null,-35.425,-35.425,null,-35.425,-34.45,null,-34.45,-34.45,null,-34.45,-33.800000000000004,null,-33.800000000000004,-33.800000000000004,null,-34.45,-35.1,null,-35.1,-35.1,null,-35.425,-36.4,null,-36.4,-36.4,null,-36.5625,-37.7,null,-37.7,-37.7,null,-21.15340576171875,-39.0,null,-39.0,-39.0,null],\"type\":\"scatter\"},{\"hoverinfo\":\"text\",\"marker\":{\"color\":\"black\",\"size\":3,\"symbol\":\"circle\"},\"mode\":\"markers\",\"showlegend\":false,\"text\":[\"root\",\"Shrew\",\"Eutheria.2\",\"Boreoeutheria\",\"Laurasiatheria.4\",\"Laurasiatheria.3\",\"Laurasiatheria.2\",\"Laurasiatheria\",\"Carnivora\",\"Caniformia.3\",\"Caniformia.2\",\"Ursidae\",\"Giant_panda\",\"Polar_bear\",\"Ferret\",\"Canidae\",\"Dingo\",\"Red_fox\",\"Felidae\",\"Cat\",\"Tiger\",\"Horse\",\"Artiodactyla.3\",\"Artiodactyla.2\",\"Artiodactyla\",\"Pecora.2\",\"Pecora\",\"Bovidae\",\"Bovinae\",\"Wild_yak\",\"American_bison\",\"Goat\",\"Siberian_musk_deer\",\"Yarkand_deer\",\"Cetacea\",\"Odontoceti.3\",\"Odontoceti.2\",\"Odontoceti\",\"Monodontidae\",\"Narwhal\",\"Beluga_whale\",\"Vaquita\",\"Dolphin\",\"Sperm_whale\",\"Blue_whale\",\"Suina\",\"Pig\",\"Chacoan_peccary\",\"Arabian_camel\",\"Chiroptera\",\"Megabat\",\"Greater_horseshoe_bat\",\"Hedgehog\",\"Euarchontoglires\",\"Glires\",\"Rodentia.3\",\"Rodentia.2\",\"Rodentia\",\"Myomorpha\",\"Muroidea\",\"Cricetidae.2\",\"Cricetidae\",\"Golden_Hamster\",\"Prairie_vole\",\"Northern_American_deer_mouse\",\"Murinae\",\"Ryukyu_mouse\",\"Rat\",\"Lesser_Egyptian_jerboa\",\"Kangaroo_rat\",\"Hystricomorpha.2\",\"Hystricomorpha\",\"Long_tailed_chinchilla\",\"Degu\",\"Guinea_Pig\",\"Sciuridae\",\"Marmotini.3\",\"Marmotini\",\"Squirrel\",\"Arctic_ground_squirrel\",\"Alpine_marmot\",\"Eurasian_red_squirrel\",\"Lagomorpha\",\"Rabbit\",\"Pika\",\"Primates\",\"Lemuriformes.2\",\"Lemuriformes\",\"Coquerel's_sifaka\",\"Greater_bamboo_lemur\",\"Mouse_Lemur\",\"Simiiformes\",\"Catarrhini\",\"Hominoidea\",\"Hominidae\",\"Homininae.2\",\"Homininae\",\"Human\",\"Chimpanzee\",\"Gorilla\",\"Sumatran_orangutan\",\"Gibbon\",\"Cercopithecidae\",\"Cercopithecinae.5\",\"Cercopithecinae.4\",\"Cercopithecinae.3\",\"Cercopithecinae\",\"Sooty_mangabey\",\"Drill\",\"Olive_baboon\",\"Pig_tailed_macaque\",\"Vervet_AGM\",\"Black_snub_nosed_monkey\",\"Platyrrhini.2\",\"Platyrrhini\",\"Cebidae\",\"Panamanian_white_faced_capuchin\",\"Bolivian_squirrel_monkey\",\"Ma's_night_monkey\",\"White_tufted_ear_marmoset\",\"Elephant\"],\"x\":[0,0.07452909045632747,0.20731430890365457,0.23066247081910432,0.23705925773288383,0.2486897148430439,0.2877342586243145,0.2877351634219474,0.44294449031262606,0.46642876077340656,0.4920638918614779,0.5372581155902529,0.5581907986355186,0.5798248062386189,0.6517334045922039,0.783940791524434,0.8208835384261851,0.8234445732705352,0.511229969219472,0.5318048222099093,0.5547420645753857,0.5164546405170969,0.34851147095728735,0.36367285964967605,0.3829434826108315,0.4679436326264654,0.47205764724216615,0.4874489028132565,0.5314385260248936,0.5345424374384365,0.5349951073459891,0.538580326687099,0.5266987768749063,0.5121975086770535,0.4769687266998607,0.47720161791985194,0.4883547968038085,0.494922823880009,0.4980928891344125,0.5031380870318651,0.5040544256220929,0.5180885678374807,0.5150851152598412,0.4987223135264229,0.49407553269375437,0.4456272796620615,0.5060327016434345,0.5186872999534531,0.5009134870462186,0.39927473630620736,0.5234107608630753,0.5481476963727014,0.5052385886730744,0.2701812031418217,0.2996477911027852,0.317837735691758,0.32476663427383506,0.329306275367125,0.3735558835904047,0.5160212872276743,0.5333594933134554,0.5395839313115625,0.6419415246458509,0.6548678213056068,0.6087461640685747,0.5858806563099426,0.6680609705299961,0.6891300752948686,0.6143020401433634,0.6842470509123599,0.5079408882093227,0.5144819070604325,0.6355260983655159,0.647202269564104,0.7899626047665542,0.41230073204072487,0.4734111710561057,0.48868569224529823,0.5030564426223139,0.5075408646579991,0.49165031235215784,0.49168955188484087,0.43471402984984026,0.6792159477287054,0.6889920343571974,0.6089339398736927,0.698729409865984,0.7209853565954476,0.7605160515498964,0.7623872062063174,0.7633793427393651,0.7038666428523939,0.7307476523125823,0.7543107448026716,0.7583066307961849,0.7725994197791695,0.7740871884178883,0.78131808238062,0.7845194265254894,0.7834049014623043,0.7847721233464081,0.7726988164812059,0.7616286279836203,0.7745704022605474,0.7795348937325813,0.7825640660569797,0.7863446728414748,0.7909120203689105,0.7982260455343055,0.7888677039519884,0.7912580643554317,0.7932669274929206,0.7885672121102619,0.7862706392437644,0.8066402662899025,0.8116681177497991,0.8402410341630061,0.8571030316278142,0.8437760931525343,1.1284936364749552,0.5303837575055619],\"y\":[8.923297119140624,39.0,-21.15340576171875,-3.3068115234374993,10.829736328125001,15.159472656250001,21.868945312500003,30.590625000000003,32.581250000000004,34.612500000000004,36.075,37.05,37.7,36.4,35.1,33.150000000000006,33.800000000000004,32.5,30.550000000000004,31.200000000000003,29.900000000000002,28.6,13.147265625000001,15.894531250000002,19.439062500000002,23.31875,24.5375,25.674999999999997,26.65,27.3,26.0,24.7,23.400000000000002,22.1,15.559375000000001,16.81875,18.0375,19.174999999999997,20.15,20.8,19.5,18.2,16.900000000000002,15.600000000000001,14.3,12.350000000000001,13.0,11.700000000000001,10.4,8.45,9.1,7.800000000000001,6.5,-17.443359375,-10.293359375,-6.93671875,-3.3109375,-1.096875,0.4062500000000001,2.1125000000000003,3.575,4.550000000000001,5.2,3.9000000000000004,2.6,0.65,1.3,0.0,-1.3,-2.6,-5.525,-4.550000000000001,-3.9000000000000004,-5.2,-6.5,-10.5625,-9.425,-8.45,-7.800000000000001,-9.1,-10.4,-11.700000000000001,-13.65,-13.0,-14.3,-24.593359375000002,-17.225,-16.25,-15.600000000000001,-16.900000000000002,-18.2,-31.961718750000003,-27.360937500000002,-23.481250000000003,-22.262500000000003,-21.125,-20.15,-19.5,-20.8,-22.1,-23.400000000000002,-24.7,-31.240625,-29.981250000000003,-28.762500000000003,-27.625,-26.65,-26.0,-27.3,-28.6,-29.900000000000002,-31.200000000000003,-32.5,-36.5625,-35.425,-34.45,-33.800000000000004,-35.1,-36.4,-37.7,-39.0],\"type\":\"scatter\"}],                        {\"annotations\":[{\"font\":{\"family\":\"Inconsolata, monospace\",\"size\":12},\"showarrow\":false,\"text\":\"Shrew\",\"textangle\":0,\"x\":0.10274143136820135,\"xanchor\":\"left\",\"xref\":\"x\",\"y\":39.0,\"yref\":\"y\"},{\"font\":{\"family\":\"Inconsolata, monospace\",\"size\":12},\"showarrow\":false,\"text\":\"Giant_panda\",\"textangle\":0,\"x\":0.5864031395473924,\"xanchor\":\"left\",\"xref\":\"x\",\"y\":37.7,\"yref\":\"y\"},{\"font\":{\"family\":\"Inconsolata, monospace\",\"size\":12},\"showarrow\":false,\"text\":\"Polar_bear\",\"textangle\":0,\"x\":0.6080371471504927,\"xanchor\":\"left\",\"xref\":\"x\",\"y\":36.4,\"yref\":\"y\"},{\"font\":{\"family\":\"Inconsolata, monospace\",\"size\":12},\"showarrow\":false,\"text\":\"Ferret\",\"textangle\":0,\"x\":0.6799457455040777,\"xanchor\":\"left\",\"xref\":\"x\",\"y\":35.1,\"yref\":\"y\"},{\"font\":{\"family\":\"Inconsolata, monospace\",\"size\":12},\"showarrow\":false,\"text\":\"Dingo\",\"textangle\":0,\"x\":0.849095879338059,\"xanchor\":\"left\",\"xref\":\"x\",\"y\":33.800000000000004,\"yref\":\"y\"},{\"font\":{\"family\":\"Inconsolata, monospace\",\"size\":12},\"showarrow\":false,\"text\":\"Red_fox\",\"textangle\":0,\"x\":0.8516569141824091,\"xanchor\":\"left\",\"xref\":\"x\",\"y\":32.5,\"yref\":\"y\"},{\"font\":{\"family\":\"Inconsolata, monospace\",\"size\":12},\"showarrow\":false,\"text\":\"Cat\",\"textangle\":0,\"x\":0.5600171631217832,\"xanchor\":\"left\",\"xref\":\"x\",\"y\":31.200000000000003,\"yref\":\"y\"},{\"font\":{\"family\":\"Inconsolata, monospace\",\"size\":12},\"showarrow\":false,\"text\":\"Tiger\",\"textangle\":0,\"x\":0.5829544054872595,\"xanchor\":\"left\",\"xref\":\"x\",\"y\":29.900000000000002,\"yref\":\"y\"},{\"font\":{\"family\":\"Inconsolata, monospace\",\"size\":12},\"showarrow\":false,\"text\":\"Horse\",\"textangle\":0,\"x\":0.5446669814289707,\"xanchor\":\"left\",\"xref\":\"x\",\"y\":28.6,\"yref\":\"y\"},{\"font\":{\"family\":\"Inconsolata, monospace\",\"size\":12},\"showarrow\":false,\"text\":\"Wild_yak\",\"textangle\":0,\"x\":0.5627547783503104,\"xanchor\":\"left\",\"xref\":\"x\",\"y\":27.3,\"yref\":\"y\"},{\"font\":{\"family\":\"Inconsolata, monospace\",\"size\":12},\"showarrow\":false,\"text\":\"American_bison\",\"textangle\":0,\"x\":0.563207448257863,\"xanchor\":\"left\",\"xref\":\"x\",\"y\":26.0,\"yref\":\"y\"},{\"font\":{\"family\":\"Inconsolata, monospace\",\"size\":12},\"showarrow\":false,\"text\":\"Goat\",\"textangle\":0,\"x\":0.5667926675989728,\"xanchor\":\"left\",\"xref\":\"x\",\"y\":24.7,\"yref\":\"y\"},{\"font\":{\"family\":\"Inconsolata, monospace\",\"size\":12},\"showarrow\":false,\"text\":\"Siberian_musk_deer\",\"textangle\":0,\"x\":0.5549111177867802,\"xanchor\":\"left\",\"xref\":\"x\",\"y\":23.400000000000002,\"yref\":\"y\"},{\"font\":{\"family\":\"Inconsolata, monospace\",\"size\":12},\"showarrow\":false,\"text\":\"Yarkand_deer\",\"textangle\":0,\"x\":0.5404098495889273,\"xanchor\":\"left\",\"xref\":\"x\",\"y\":22.1,\"yref\":\"y\"},{\"font\":{\"family\":\"Inconsolata, monospace\",\"size\":12},\"showarrow\":false,\"text\":\"Narwhal\",\"textangle\":0,\"x\":0.531350427943739,\"xanchor\":\"left\",\"xref\":\"x\",\"y\":20.8,\"yref\":\"y\"},{\"font\":{\"family\":\"Inconsolata, monospace\",\"size\":12},\"showarrow\":false,\"text\":\"Beluga_whale\",\"textangle\":0,\"x\":0.5322667665339668,\"xanchor\":\"left\",\"xref\":\"x\",\"y\":19.5,\"yref\":\"y\"},{\"font\":{\"family\":\"Inconsolata, monospace\",\"size\":12},\"showarrow\":false,\"text\":\"Vaquita\",\"textangle\":0,\"x\":0.5463009087493546,\"xanchor\":\"left\",\"xref\":\"x\",\"y\":18.2,\"yref\":\"y\"},{\"font\":{\"family\":\"Inconsolata, monospace\",\"size\":12},\"showarrow\":false,\"text\":\"Dolphin\",\"textangle\":0,\"x\":0.5432974561717151,\"xanchor\":\"left\",\"xref\":\"x\",\"y\":16.900000000000002,\"yref\":\"y\"},{\"font\":{\"family\":\"Inconsolata, monospace\",\"size\":12},\"showarrow\":false,\"text\":\"Sperm_whale\",\"textangle\":0,\"x\":0.5269346544382968,\"xanchor\":\"left\",\"xref\":\"x\",\"y\":15.600000000000001,\"yref\":\"y\"},{\"font\":{\"family\":\"Inconsolata, monospace\",\"size\":12},\"showarrow\":false,\"text\":\"Blue_whale\",\"textangle\":0,\"x\":0.5222878736056282,\"xanchor\":\"left\",\"xref\":\"x\",\"y\":14.3,\"yref\":\"y\"},{\"font\":{\"family\":\"Inconsolata, monospace\",\"size\":12},\"showarrow\":false,\"text\":\"Pig\",\"textangle\":0,\"x\":0.5342450425553084,\"xanchor\":\"left\",\"xref\":\"x\",\"y\":13.0,\"yref\":\"y\"},{\"font\":{\"family\":\"Inconsolata, monospace\",\"size\":12},\"showarrow\":false,\"text\":\"Chacoan_peccary\",\"textangle\":0,\"x\":0.5468996408653269,\"xanchor\":\"left\",\"xref\":\"x\",\"y\":11.700000000000001,\"yref\":\"y\"},{\"font\":{\"family\":\"Inconsolata, monospace\",\"size\":12},\"showarrow\":false,\"text\":\"Arabian_camel\",\"textangle\":0,\"x\":0.5291258279580925,\"xanchor\":\"left\",\"xref\":\"x\",\"y\":10.4,\"yref\":\"y\"},{\"font\":{\"family\":\"Inconsolata, monospace\",\"size\":12},\"showarrow\":false,\"text\":\"Megabat\",\"textangle\":0,\"x\":0.5516231017749491,\"xanchor\":\"left\",\"xref\":\"x\",\"y\":9.1,\"yref\":\"y\"},{\"font\":{\"family\":\"Inconsolata, monospace\",\"size\":12},\"showarrow\":false,\"text\":\"Greater_horseshoe_bat\",\"textangle\":0,\"x\":0.5763600372845753,\"xanchor\":\"left\",\"xref\":\"x\",\"y\":7.800000000000001,\"yref\":\"y\"},{\"font\":{\"family\":\"Inconsolata, monospace\",\"size\":12},\"showarrow\":false,\"text\":\"Hedgehog\",\"textangle\":0,\"x\":0.5334509295849482,\"xanchor\":\"left\",\"xref\":\"x\",\"y\":6.5,\"yref\":\"y\"},{\"font\":{\"family\":\"Inconsolata, monospace\",\"size\":12},\"showarrow\":false,\"text\":\"Golden_Hamster\",\"textangle\":0,\"x\":0.6701538655577247,\"xanchor\":\"left\",\"xref\":\"x\",\"y\":5.2,\"yref\":\"y\"},{\"font\":{\"family\":\"Inconsolata, monospace\",\"size\":12},\"showarrow\":false,\"text\":\"Prairie_vole\",\"textangle\":0,\"x\":0.6830801622174807,\"xanchor\":\"left\",\"xref\":\"x\",\"y\":3.9000000000000004,\"yref\":\"y\"},{\"font\":{\"family\":\"Inconsolata, monospace\",\"size\":12},\"showarrow\":false,\"text\":\"Northern_American_deer_mouse\",\"textangle\":0,\"x\":0.6369585049804486,\"xanchor\":\"left\",\"xref\":\"x\",\"y\":2.6,\"yref\":\"y\"},{\"font\":{\"family\":\"Inconsolata, monospace\",\"size\":12},\"showarrow\":false,\"text\":\"Ryukyu_mouse\",\"textangle\":0,\"x\":0.69627331144187,\"xanchor\":\"left\",\"xref\":\"x\",\"y\":1.3,\"yref\":\"y\"},{\"font\":{\"family\":\"Inconsolata, monospace\",\"size\":12},\"showarrow\":false,\"text\":\"Rat\",\"textangle\":0,\"x\":0.7173424162067424,\"xanchor\":\"left\",\"xref\":\"x\",\"y\":0.0,\"yref\":\"y\"},{\"font\":{\"family\":\"Inconsolata, monospace\",\"size\":12},\"showarrow\":false,\"text\":\"Lesser_Egyptian_jerboa\",\"textangle\":0,\"x\":0.6425143810552373,\"xanchor\":\"left\",\"xref\":\"x\",\"y\":-1.3,\"yref\":\"y\"},{\"font\":{\"family\":\"Inconsolata, monospace\",\"size\":12},\"showarrow\":false,\"text\":\"Kangaroo_rat\",\"textangle\":0,\"x\":0.7124593918242338,\"xanchor\":\"left\",\"xref\":\"x\",\"y\":-2.6,\"yref\":\"y\"},{\"font\":{\"family\":\"Inconsolata, monospace\",\"size\":12},\"showarrow\":false,\"text\":\"Long_tailed_chinchilla\",\"textangle\":0,\"x\":0.6637384392773897,\"xanchor\":\"left\",\"xref\":\"x\",\"y\":-3.9000000000000004,\"yref\":\"y\"},{\"font\":{\"family\":\"Inconsolata, monospace\",\"size\":12},\"showarrow\":false,\"text\":\"Degu\",\"textangle\":0,\"x\":0.6754146104759778,\"xanchor\":\"left\",\"xref\":\"x\",\"y\":-5.2,\"yref\":\"y\"},{\"font\":{\"family\":\"Inconsolata, monospace\",\"size\":12},\"showarrow\":false,\"text\":\"Guinea_Pig\",\"textangle\":0,\"x\":0.8181749456784281,\"xanchor\":\"left\",\"xref\":\"x\",\"y\":-6.5,\"yref\":\"y\"},{\"font\":{\"family\":\"Inconsolata, monospace\",\"size\":12},\"showarrow\":false,\"text\":\"Squirrel\",\"textangle\":0,\"x\":0.5312687835341877,\"xanchor\":\"left\",\"xref\":\"x\",\"y\":-7.800000000000001,\"yref\":\"y\"},{\"font\":{\"family\":\"Inconsolata, monospace\",\"size\":12},\"showarrow\":false,\"text\":\"Arctic_ground_squirrel\",\"textangle\":0,\"x\":0.5357532055698729,\"xanchor\":\"left\",\"xref\":\"x\",\"y\":-9.1,\"yref\":\"y\"},{\"font\":{\"family\":\"Inconsolata, monospace\",\"size\":12},\"showarrow\":false,\"text\":\"Alpine_marmot\",\"textangle\":0,\"x\":0.5198626532640317,\"xanchor\":\"left\",\"xref\":\"x\",\"y\":-10.4,\"yref\":\"y\"},{\"font\":{\"family\":\"Inconsolata, monospace\",\"size\":12},\"showarrow\":false,\"text\":\"Eurasian_red_squirrel\",\"textangle\":0,\"x\":0.5199018927967147,\"xanchor\":\"left\",\"xref\":\"x\",\"y\":-11.700000000000001,\"yref\":\"y\"},{\"font\":{\"family\":\"Inconsolata, monospace\",\"size\":12},\"showarrow\":false,\"text\":\"Rabbit\",\"textangle\":0,\"x\":0.7074282886405793,\"xanchor\":\"left\",\"xref\":\"x\",\"y\":-13.0,\"yref\":\"y\"},{\"font\":{\"family\":\"Inconsolata, monospace\",\"size\":12},\"showarrow\":false,\"text\":\"Pika\",\"textangle\":0,\"x\":0.7172043752690712,\"xanchor\":\"left\",\"xref\":\"x\",\"y\":-14.3,\"yref\":\"y\"},{\"font\":{\"family\":\"Inconsolata, monospace\",\"size\":12},\"showarrow\":false,\"text\":\"Coquerel's_sifaka\",\"textangle\":0,\"x\":0.7887283924617703,\"xanchor\":\"left\",\"xref\":\"x\",\"y\":-15.600000000000001,\"yref\":\"y\"},{\"font\":{\"family\":\"Inconsolata, monospace\",\"size\":12},\"showarrow\":false,\"text\":\"Greater_bamboo_lemur\",\"textangle\":0,\"x\":0.7905995471181912,\"xanchor\":\"left\",\"xref\":\"x\",\"y\":-16.900000000000002,\"yref\":\"y\"},{\"font\":{\"family\":\"Inconsolata, monospace\",\"size\":12},\"showarrow\":false,\"text\":\"Mouse_Lemur\",\"textangle\":0,\"x\":0.791591683651239,\"xanchor\":\"left\",\"xref\":\"x\",\"y\":-18.2,\"yref\":\"y\"},{\"font\":{\"family\":\"Inconsolata, monospace\",\"size\":12},\"showarrow\":false,\"text\":\"Human\",\"textangle\":0,\"x\":0.8095304232924938,\"xanchor\":\"left\",\"xref\":\"x\",\"y\":-19.5,\"yref\":\"y\"},{\"font\":{\"family\":\"Inconsolata, monospace\",\"size\":12},\"showarrow\":false,\"text\":\"Chimpanzee\",\"textangle\":0,\"x\":0.8127317674373633,\"xanchor\":\"left\",\"xref\":\"x\",\"y\":-20.8,\"yref\":\"y\"},{\"font\":{\"family\":\"Inconsolata, monospace\",\"size\":12},\"showarrow\":false,\"text\":\"Gorilla\",\"textangle\":0,\"x\":0.8116172423741782,\"xanchor\":\"left\",\"xref\":\"x\",\"y\":-22.1,\"yref\":\"y\"},{\"font\":{\"family\":\"Inconsolata, monospace\",\"size\":12},\"showarrow\":false,\"text\":\"Sumatran_orangutan\",\"textangle\":0,\"x\":0.812984464258282,\"xanchor\":\"left\",\"xref\":\"x\",\"y\":-23.400000000000002,\"yref\":\"y\"},{\"font\":{\"family\":\"Inconsolata, monospace\",\"size\":12},\"showarrow\":false,\"text\":\"Gibbon\",\"textangle\":0,\"x\":0.8009111573930797,\"xanchor\":\"left\",\"xref\":\"x\",\"y\":-24.7,\"yref\":\"y\"},{\"font\":{\"family\":\"Inconsolata, monospace\",\"size\":12},\"showarrow\":false,\"text\":\"Sooty_mangabey\",\"textangle\":0,\"x\":0.8191243612807844,\"xanchor\":\"left\",\"xref\":\"x\",\"y\":-26.0,\"yref\":\"y\"},{\"font\":{\"family\":\"Inconsolata, monospace\",\"size\":12},\"showarrow\":false,\"text\":\"Drill\",\"textangle\":0,\"x\":0.8264383864461794,\"xanchor\":\"left\",\"xref\":\"x\",\"y\":-27.3,\"yref\":\"y\"},{\"font\":{\"family\":\"Inconsolata, monospace\",\"size\":12},\"showarrow\":false,\"text\":\"Olive_baboon\",\"textangle\":0,\"x\":0.8170800448638622,\"xanchor\":\"left\",\"xref\":\"x\",\"y\":-28.6,\"yref\":\"y\"},{\"font\":{\"family\":\"Inconsolata, monospace\",\"size\":12},\"showarrow\":false,\"text\":\"Pig_tailed_macaque\",\"textangle\":0,\"x\":0.8194704052673055,\"xanchor\":\"left\",\"xref\":\"x\",\"y\":-29.900000000000002,\"yref\":\"y\"},{\"font\":{\"family\":\"Inconsolata, monospace\",\"size\":12},\"showarrow\":false,\"text\":\"Vervet_AGM\",\"textangle\":0,\"x\":0.8214792684047945,\"xanchor\":\"left\",\"xref\":\"x\",\"y\":-31.200000000000003,\"yref\":\"y\"},{\"font\":{\"family\":\"Inconsolata, monospace\",\"size\":12},\"showarrow\":false,\"text\":\"Black_snub_nosed_monkey\",\"textangle\":0,\"x\":0.8167795530221358,\"xanchor\":\"left\",\"xref\":\"x\",\"y\":-32.5,\"yref\":\"y\"},{\"font\":{\"family\":\"Inconsolata, monospace\",\"size\":12},\"showarrow\":false,\"text\":\"Panamanian_white_faced_capuchin\",\"textangle\":0,\"x\":0.86845337507488,\"xanchor\":\"left\",\"xref\":\"x\",\"y\":-33.800000000000004,\"yref\":\"y\"},{\"font\":{\"family\":\"Inconsolata, monospace\",\"size\":12},\"showarrow\":false,\"text\":\"Bolivian_squirrel_monkey\",\"textangle\":0,\"x\":0.8853153725396881,\"xanchor\":\"left\",\"xref\":\"x\",\"y\":-35.1,\"yref\":\"y\"},{\"font\":{\"family\":\"Inconsolata, monospace\",\"size\":12},\"showarrow\":false,\"text\":\"Ma's_night_monkey\",\"textangle\":0,\"x\":0.8719884340644082,\"xanchor\":\"left\",\"xref\":\"x\",\"y\":-36.4,\"yref\":\"y\"},{\"font\":{\"family\":\"Inconsolata, monospace\",\"size\":12},\"showarrow\":false,\"text\":\"White_tufted_ear_marmoset\",\"textangle\":0,\"x\":1.1567059773868291,\"xanchor\":\"left\",\"xref\":\"x\",\"y\":-37.7,\"yref\":\"y\"},{\"font\":{\"family\":\"Inconsolata, monospace\",\"size\":12},\"showarrow\":false,\"text\":\"Elephant\",\"textangle\":0,\"x\":0.5585960984174357,\"xanchor\":\"left\",\"xref\":\"x\",\"y\":-39.0,\"yref\":\"y\"},{\"ax\":0,\"ay\":0,\"showarrow\":false,\"text\":\"0.11\",\"x\":0.05642468182374776,\"xref\":\"x\",\"y\":-46.09090909090909,\"yref\":\"y\",\"yshift\":10}],\"autosize\":true,\"font\":{\"family\":\"Balto\",\"size\":14},\"height\":1000,\"hovermode\":\"closest\",\"margin\":{\"b\":50,\"l\":50,\"pad\":4,\"r\":50,\"t\":50},\"shapes\":[{\"line\":{\"color\":\"black\",\"width\":1.25},\"name\":\"scale_bar\",\"type\":\"line\",\"x0\":0,\"x1\":0.11284936364749552,\"y0\":-46.09090909090909,\"y1\":-46.09090909090909}],\"showlegend\":false,\"width\":1000,\"xaxis\":{\"visible\":false},\"yaxis\":{\"visible\":false},\"template\":{\"data\":{\"histogram2dcontour\":[{\"type\":\"histogram2dcontour\",\"colorbar\":{\"outlinewidth\":0,\"ticks\":\"\"},\"colorscale\":[[0.0,\"#0d0887\"],[0.1111111111111111,\"#46039f\"],[0.2222222222222222,\"#7201a8\"],[0.3333333333333333,\"#9c179e\"],[0.4444444444444444,\"#bd3786\"],[0.5555555555555556,\"#d8576b\"],[0.6666666666666666,\"#ed7953\"],[0.7777777777777778,\"#fb9f3a\"],[0.8888888888888888,\"#fdca26\"],[1.0,\"#f0f921\"]]}],\"choropleth\":[{\"type\":\"choropleth\",\"colorbar\":{\"outlinewidth\":0,\"ticks\":\"\"}}],\"histogram2d\":[{\"type\":\"histogram2d\",\"colorbar\":{\"outlinewidth\":0,\"ticks\":\"\"},\"colorscale\":[[0.0,\"#0d0887\"],[0.1111111111111111,\"#46039f\"],[0.2222222222222222,\"#7201a8\"],[0.3333333333333333,\"#9c179e\"],[0.4444444444444444,\"#bd3786\"],[0.5555555555555556,\"#d8576b\"],[0.6666666666666666,\"#ed7953\"],[0.7777777777777778,\"#fb9f3a\"],[0.8888888888888888,\"#fdca26\"],[1.0,\"#f0f921\"]]}],\"heatmap\":[{\"type\":\"heatmap\",\"colorbar\":{\"outlinewidth\":0,\"ticks\":\"\"},\"colorscale\":[[0.0,\"#0d0887\"],[0.1111111111111111,\"#46039f\"],[0.2222222222222222,\"#7201a8\"],[0.3333333333333333,\"#9c179e\"],[0.4444444444444444,\"#bd3786\"],[0.5555555555555556,\"#d8576b\"],[0.6666666666666666,\"#ed7953\"],[0.7777777777777778,\"#fb9f3a\"],[0.8888888888888888,\"#fdca26\"],[1.0,\"#f0f921\"]]}],\"heatmapgl\":[{\"type\":\"heatmapgl\",\"colorbar\":{\"outlinewidth\":0,\"ticks\":\"\"},\"colorscale\":[[0.0,\"#0d0887\"],[0.1111111111111111,\"#46039f\"],[0.2222222222222222,\"#7201a8\"],[0.3333333333333333,\"#9c179e\"],[0.4444444444444444,\"#bd3786\"],[0.5555555555555556,\"#d8576b\"],[0.6666666666666666,\"#ed7953\"],[0.7777777777777778,\"#fb9f3a\"],[0.8888888888888888,\"#fdca26\"],[1.0,\"#f0f921\"]]}],\"contourcarpet\":[{\"type\":\"contourcarpet\",\"colorbar\":{\"outlinewidth\":0,\"ticks\":\"\"}}],\"contour\":[{\"type\":\"contour\",\"colorbar\":{\"outlinewidth\":0,\"ticks\":\"\"},\"colorscale\":[[0.0,\"#0d0887\"],[0.1111111111111111,\"#46039f\"],[0.2222222222222222,\"#7201a8\"],[0.3333333333333333,\"#9c179e\"],[0.4444444444444444,\"#bd3786\"],[0.5555555555555556,\"#d8576b\"],[0.6666666666666666,\"#ed7953\"],[0.7777777777777778,\"#fb9f3a\"],[0.8888888888888888,\"#fdca26\"],[1.0,\"#f0f921\"]]}],\"surface\":[{\"type\":\"surface\",\"colorbar\":{\"outlinewidth\":0,\"ticks\":\"\"},\"colorscale\":[[0.0,\"#0d0887\"],[0.1111111111111111,\"#46039f\"],[0.2222222222222222,\"#7201a8\"],[0.3333333333333333,\"#9c179e\"],[0.4444444444444444,\"#bd3786\"],[0.5555555555555556,\"#d8576b\"],[0.6666666666666666,\"#ed7953\"],[0.7777777777777778,\"#fb9f3a\"],[0.8888888888888888,\"#fdca26\"],[1.0,\"#f0f921\"]]}],\"mesh3d\":[{\"type\":\"mesh3d\",\"colorbar\":{\"outlinewidth\":0,\"ticks\":\"\"}}],\"scatter\":[{\"fillpattern\":{\"fillmode\":\"overlay\",\"size\":10,\"solidity\":0.2},\"type\":\"scatter\"}],\"parcoords\":[{\"type\":\"parcoords\",\"line\":{\"colorbar\":{\"outlinewidth\":0,\"ticks\":\"\"}}}],\"scatterpolargl\":[{\"type\":\"scatterpolargl\",\"marker\":{\"colorbar\":{\"outlinewidth\":0,\"ticks\":\"\"}}}],\"bar\":[{\"error_x\":{\"color\":\"#2a3f5f\"},\"error_y\":{\"color\":\"#2a3f5f\"},\"marker\":{\"line\":{\"color\":\"#E5ECF6\",\"width\":0.5},\"pattern\":{\"fillmode\":\"overlay\",\"size\":10,\"solidity\":0.2}},\"type\":\"bar\"}],\"scattergeo\":[{\"type\":\"scattergeo\",\"marker\":{\"colorbar\":{\"outlinewidth\":0,\"ticks\":\"\"}}}],\"scatterpolar\":[{\"type\":\"scatterpolar\",\"marker\":{\"colorbar\":{\"outlinewidth\":0,\"ticks\":\"\"}}}],\"histogram\":[{\"marker\":{\"pattern\":{\"fillmode\":\"overlay\",\"size\":10,\"solidity\":0.2}},\"type\":\"histogram\"}],\"scattergl\":[{\"type\":\"scattergl\",\"marker\":{\"colorbar\":{\"outlinewidth\":0,\"ticks\":\"\"}}}],\"scatter3d\":[{\"type\":\"scatter3d\",\"line\":{\"colorbar\":{\"outlinewidth\":0,\"ticks\":\"\"}},\"marker\":{\"colorbar\":{\"outlinewidth\":0,\"ticks\":\"\"}}}],\"scattermapbox\":[{\"type\":\"scattermapbox\",\"marker\":{\"colorbar\":{\"outlinewidth\":0,\"ticks\":\"\"}}}],\"scatterternary\":[{\"type\":\"scatterternary\",\"marker\":{\"colorbar\":{\"outlinewidth\":0,\"ticks\":\"\"}}}],\"scattercarpet\":[{\"type\":\"scattercarpet\",\"marker\":{\"colorbar\":{\"outlinewidth\":0,\"ticks\":\"\"}}}],\"carpet\":[{\"aaxis\":{\"endlinecolor\":\"#2a3f5f\",\"gridcolor\":\"white\",\"linecolor\":\"white\",\"minorgridcolor\":\"white\",\"startlinecolor\":\"#2a3f5f\"},\"baxis\":{\"endlinecolor\":\"#2a3f5f\",\"gridcolor\":\"white\",\"linecolor\":\"white\",\"minorgridcolor\":\"white\",\"startlinecolor\":\"#2a3f5f\"},\"type\":\"carpet\"}],\"table\":[{\"cells\":{\"fill\":{\"color\":\"#EBF0F8\"},\"line\":{\"color\":\"white\"}},\"header\":{\"fill\":{\"color\":\"#C8D4E3\"},\"line\":{\"color\":\"white\"}},\"type\":\"table\"}],\"barpolar\":[{\"marker\":{\"line\":{\"color\":\"#E5ECF6\",\"width\":0.5},\"pattern\":{\"fillmode\":\"overlay\",\"size\":10,\"solidity\":0.2}},\"type\":\"barpolar\"}],\"pie\":[{\"automargin\":true,\"type\":\"pie\"}]},\"layout\":{\"autotypenumbers\":\"strict\",\"colorway\":[\"#636efa\",\"#EF553B\",\"#00cc96\",\"#ab63fa\",\"#FFA15A\",\"#19d3f3\",\"#FF6692\",\"#B6E880\",\"#FF97FF\",\"#FECB52\"],\"font\":{\"color\":\"#2a3f5f\"},\"hovermode\":\"closest\",\"hoverlabel\":{\"align\":\"left\"},\"paper_bgcolor\":\"white\",\"plot_bgcolor\":\"#E5ECF6\",\"polar\":{\"bgcolor\":\"#E5ECF6\",\"angularaxis\":{\"gridcolor\":\"white\",\"linecolor\":\"white\",\"ticks\":\"\"},\"radialaxis\":{\"gridcolor\":\"white\",\"linecolor\":\"white\",\"ticks\":\"\"}},\"ternary\":{\"bgcolor\":\"#E5ECF6\",\"aaxis\":{\"gridcolor\":\"white\",\"linecolor\":\"white\",\"ticks\":\"\"},\"baxis\":{\"gridcolor\":\"white\",\"linecolor\":\"white\",\"ticks\":\"\"},\"caxis\":{\"gridcolor\":\"white\",\"linecolor\":\"white\",\"ticks\":\"\"}},\"coloraxis\":{\"colorbar\":{\"outlinewidth\":0,\"ticks\":\"\"}},\"colorscale\":{\"sequential\":[[0.0,\"#0d0887\"],[0.1111111111111111,\"#46039f\"],[0.2222222222222222,\"#7201a8\"],[0.3333333333333333,\"#9c179e\"],[0.4444444444444444,\"#bd3786\"],[0.5555555555555556,\"#d8576b\"],[0.6666666666666666,\"#ed7953\"],[0.7777777777777778,\"#fb9f3a\"],[0.8888888888888888,\"#fdca26\"],[1.0,\"#f0f921\"]],\"sequentialminus\":[[0.0,\"#0d0887\"],[0.1111111111111111,\"#46039f\"],[0.2222222222222222,\"#7201a8\"],[0.3333333333333333,\"#9c179e\"],[0.4444444444444444,\"#bd3786\"],[0.5555555555555556,\"#d8576b\"],[0.6666666666666666,\"#ed7953\"],[0.7777777777777778,\"#fb9f3a\"],[0.8888888888888888,\"#fdca26\"],[1.0,\"#f0f921\"]],\"diverging\":[[0,\"#8e0152\"],[0.1,\"#c51b7d\"],[0.2,\"#de77ae\"],[0.3,\"#f1b6da\"],[0.4,\"#fde0ef\"],[0.5,\"#f7f7f7\"],[0.6,\"#e6f5d0\"],[0.7,\"#b8e186\"],[0.8,\"#7fbc41\"],[0.9,\"#4d9221\"],[1,\"#276419\"]]},\"xaxis\":{\"gridcolor\":\"white\",\"linecolor\":\"white\",\"ticks\":\"\",\"title\":{\"standoff\":15},\"zerolinecolor\":\"white\",\"automargin\":true,\"zerolinewidth\":2},\"yaxis\":{\"gridcolor\":\"white\",\"linecolor\":\"white\",\"ticks\":\"\",\"title\":{\"standoff\":15},\"zerolinecolor\":\"white\",\"automargin\":true,\"zerolinewidth\":2},\"scene\":{\"xaxis\":{\"backgroundcolor\":\"#E5ECF6\",\"gridcolor\":\"white\",\"linecolor\":\"white\",\"showbackground\":true,\"ticks\":\"\",\"zerolinecolor\":\"white\",\"gridwidth\":2},\"yaxis\":{\"backgroundcolor\":\"#E5ECF6\",\"gridcolor\":\"white\",\"linecolor\":\"white\",\"showbackground\":true,\"ticks\":\"\",\"zerolinecolor\":\"white\",\"gridwidth\":2},\"zaxis\":{\"backgroundcolor\":\"#E5ECF6\",\"gridcolor\":\"white\",\"linecolor\":\"white\",\"showbackground\":true,\"ticks\":\"\",\"zerolinecolor\":\"white\",\"gridwidth\":2}},\"shapedefaults\":{\"line\":{\"color\":\"#2a3f5f\"}},\"annotationdefaults\":{\"arrowcolor\":\"#2a3f5f\",\"arrowhead\":0,\"arrowwidth\":1},\"geo\":{\"bgcolor\":\"white\",\"landcolor\":\"#E5ECF6\",\"subunitcolor\":\"white\",\"showland\":true,\"showlakes\":true,\"lakecolor\":\"white\"},\"title\":{\"x\":0.05},\"mapbox\":{\"style\":\"light\"}}}},                        {\"responsive\": true}                    ).then(function(){\n",
       "                            \n",
       "var gd = document.getElementById('c5c492d2-0e6c-4939-bec2-b1c066ee47e0');\n",
       "var x = new MutationObserver(function (mutations, observer) {{\n",
       "        var display = window.getComputedStyle(gd).display;\n",
       "        if (!display || display === 'none') {{\n",
       "            console.log([gd, 'removed!']);\n",
       "            Plotly.purge(gd);\n",
       "            observer.disconnect();\n",
       "        }}\n",
       "}});\n",
       "\n",
       "// Listen for the removal of the full notebook cells\n",
       "var notebookContainer = gd.closest('#notebook-container');\n",
       "if (notebookContainer) {{\n",
       "    x.observe(notebookContainer, {childList: true});\n",
       "}}\n",
       "\n",
       "// Listen for the clearing of the current output cell\n",
       "var outputEl = gd.closest('.output');\n",
       "if (outputEl) {{\n",
       "    x.observe(outputEl, {childList: true});\n",
       "}}\n",
       "\n",
       "                        })                };                });            </script>        </div>"
      ]
     },
     "metadata": {},
     "output_type": "display_data"
    },
    {
     "data": {
      "text/plain": [
       "<cogent3.draw.dendrogram.Dendrogram at 0x16d4c1370>"
      ]
     },
     "execution_count": 17,
     "metadata": {},
     "output_type": "execute_result"
    }
   ],
   "source": [
    "ens_tree.get_figure(show_support=True, threshold=0.8, height = 1000, width = 1000)"
   ]
  },
  {
   "cell_type": "code",
   "execution_count": 18,
   "metadata": {},
   "outputs": [],
   "source": [
    "ingroup_pair = get_ingroup_pair(sequence)"
   ]
  },
  {
   "cell_type": "code",
   "execution_count": 19,
   "metadata": {},
   "outputs": [],
   "source": [
    "outgroup_species = get_outgroup_species(ingroup_pair, ens_tree)"
   ]
  },
  {
   "cell_type": "code",
   "execution_count": 73,
   "metadata": {},
   "outputs": [],
   "source": [
    "triples_species_name = {'ingroup1': 'Arctic_ground_squirrel', 'ingroup2': 'Ryukyu_mouse', 'outgroup': 'Pika'}\n",
    "ingroup_pair = ['Arctic_ground_squirrel', 'Ryukyu_mouse']"
   ]
  },
  {
   "cell_type": "code",
   "execution_count": 74,
   "metadata": {},
   "outputs": [
    {
     "data": {
      "text/plain": [
       "{'sibling': ['Kangaroo_rat',\n",
       "  'Ryukyu_mouse',\n",
       "  'Rat',\n",
       "  'Golden_Hamster',\n",
       "  'Prairie_vole',\n",
       "  'Northern_American_deer_mouse',\n",
       "  'Lesser_Egyptian_jerboa',\n",
       "  'Long_tailed_chinchilla',\n",
       "  'Degu',\n",
       "  'Guinea_Pig',\n",
       "  'Arctic_ground_squirrel',\n",
       "  'Squirrel',\n",
       "  'Alpine_marmot',\n",
       "  'Eurasian_red_squirrel'],\n",
       " 'cousion': ['Rabbit', 'Pika']}"
      ]
     },
     "execution_count": 74,
     "metadata": {},
     "output_type": "execute_result"
    }
   ],
   "source": [
    "get_relationship(ingroup_pair, ens_tree)"
   ]
  },
  {
   "cell_type": "code",
   "execution_count": 75,
   "metadata": {},
   "outputs": [],
   "source": [
    "lca_node = ens_tree.lowest_common_ancestor(ingroup_pair).get_node_names()[0]\n",
    "parent_node = ens_tree.lowest_common_ancestor(ingroup_pair).parent.get_node_names()[0]"
   ]
  },
  {
   "cell_type": "code",
   "execution_count": 76,
   "metadata": {},
   "outputs": [],
   "source": [
    "sub_tree = ens_tree.get_sub_tree(triples_species_name.values())"
   ]
  },
  {
   "cell_type": "code",
   "execution_count": 77,
   "metadata": {},
   "outputs": [
    {
     "data": {
      "text/html": [
       "        <script type=\"text/javascript\">\n",
       "        window.PlotlyConfig = {MathJaxConfig: 'local'};\n",
       "        if (window.MathJax && window.MathJax.Hub && window.MathJax.Hub.Config) {window.MathJax.Hub.Config({SVG: {font: \"STIX-Web\"}});}\n",
       "        if (typeof require !== 'undefined') {\n",
       "        require.undef(\"plotly\");\n",
       "        requirejs.config({\n",
       "            paths: {\n",
       "                'plotly': ['https://cdn.plot.ly/plotly-2.27.0.min']\n",
       "            }\n",
       "        });\n",
       "        require(['plotly'], function(Plotly) {\n",
       "            window._Plotly = Plotly;\n",
       "        });\n",
       "        }\n",
       "        </script>\n",
       "        "
      ]
     },
     "metadata": {},
     "output_type": "display_data"
    },
    {
     "data": {
      "application/vnd.plotly.v1+json": {
       "config": {
        "plotlyServerURL": "https://plot.ly"
       },
       "data": [
        {
         "line": {
          "color": "black",
          "shape": "spline",
          "smoothing": 1.3,
          "width": 1.25
         },
         "mode": "lines",
         "showlegend": false,
         "type": "scatter",
         "x": [
          null,
          null,
          0,
          0,
          null,
          0,
          0.018189944588972773,
          null,
          0.018189944588972773,
          0.018189944588972773,
          null,
          0.018189944588972773,
          0.20789307355521386,
          null,
          0.018189944588972773,
          0.018189944588972773,
          null,
          0.018189944588972773,
          0.3684131794272109,
          null,
          0,
          0,
          null,
          0,
          0.3893442432544122,
          null
         ],
         "y": [
          null,
          null,
          -0.325,
          0.65,
          null,
          0.65,
          0.65,
          null,
          0.65,
          1.3,
          null,
          1.3,
          1.3,
          null,
          0.65,
          0,
          null,
          0,
          0,
          null,
          -0.325,
          -1.3,
          null,
          -1.3,
          -1.3,
          null
         ]
        },
        {
         "hoverinfo": "text",
         "marker": {
          "color": "black",
          "size": 3,
          "symbol": "circle"
         },
         "mode": "markers",
         "showlegend": false,
         "text": [
          "root",
          "Rodentia.3",
          "Arctic_ground_squirrel",
          "Ryukyu_mouse",
          "Pika"
         ],
         "type": "scatter",
         "x": [
          0,
          0.018189944588972773,
          0.20789307355521386,
          0.3684131794272109,
          0.3893442432544122
         ],
         "y": [
          -0.325,
          0.65,
          1.3,
          0,
          -1.3
         ]
        }
       ],
       "layout": {
        "annotations": [
         {
          "font": {
           "family": "Inconsolata, monospace",
           "size": 12
          },
          "showarrow": false,
          "text": "Arctic_ground_squirrel",
          "textangle": 0,
          "x": 0.21762667963657417,
          "xanchor": "left",
          "xref": "x",
          "y": 1.3,
          "yref": "y"
         },
         {
          "font": {
           "family": "Inconsolata, monospace",
           "size": 12
          },
          "showarrow": false,
          "text": "Ryukyu_mouse",
          "textangle": 0,
          "x": 0.3781467855085712,
          "xanchor": "left",
          "xref": "x",
          "y": 0,
          "yref": "y"
         },
         {
          "font": {
           "family": "Inconsolata, monospace",
           "size": 12
          },
          "showarrow": false,
          "text": "Pika",
          "textangle": 0,
          "x": 0.3990778493357725,
          "xanchor": "left",
          "xref": "x",
          "y": -1.3,
          "yref": "y"
         },
         {
          "ax": 0,
          "ay": 0,
          "showarrow": false,
          "text": "0.04",
          "x": 0.019467212162720612,
          "xref": "x",
          "y": -1.5363636363636364,
          "yref": "y",
          "yshift": 10
         }
        ],
        "autosize": true,
        "font": {
         "family": "Balto",
         "size": 14
        },
        "hovermode": "closest",
        "margin": {
         "b": 50,
         "l": 50,
         "pad": 4,
         "r": 50,
         "t": 50
        },
        "shapes": [
         {
          "line": {
           "color": "black",
           "width": 1.25
          },
          "name": "scale_bar",
          "type": "line",
          "x0": 0,
          "x1": 0.038934424325441225,
          "y0": -1.5363636363636364,
          "y1": -1.5363636363636364
         }
        ],
        "showlegend": false,
        "template": {
         "data": {
          "bar": [
           {
            "error_x": {
             "color": "#2a3f5f"
            },
            "error_y": {
             "color": "#2a3f5f"
            },
            "marker": {
             "line": {
              "color": "#E5ECF6",
              "width": 0.5
             },
             "pattern": {
              "fillmode": "overlay",
              "size": 10,
              "solidity": 0.2
             }
            },
            "type": "bar"
           }
          ],
          "barpolar": [
           {
            "marker": {
             "line": {
              "color": "#E5ECF6",
              "width": 0.5
             },
             "pattern": {
              "fillmode": "overlay",
              "size": 10,
              "solidity": 0.2
             }
            },
            "type": "barpolar"
           }
          ],
          "carpet": [
           {
            "aaxis": {
             "endlinecolor": "#2a3f5f",
             "gridcolor": "white",
             "linecolor": "white",
             "minorgridcolor": "white",
             "startlinecolor": "#2a3f5f"
            },
            "baxis": {
             "endlinecolor": "#2a3f5f",
             "gridcolor": "white",
             "linecolor": "white",
             "minorgridcolor": "white",
             "startlinecolor": "#2a3f5f"
            },
            "type": "carpet"
           }
          ],
          "choropleth": [
           {
            "colorbar": {
             "outlinewidth": 0,
             "ticks": ""
            },
            "type": "choropleth"
           }
          ],
          "contour": [
           {
            "colorbar": {
             "outlinewidth": 0,
             "ticks": ""
            },
            "colorscale": [
             [
              0,
              "#0d0887"
             ],
             [
              0.1111111111111111,
              "#46039f"
             ],
             [
              0.2222222222222222,
              "#7201a8"
             ],
             [
              0.3333333333333333,
              "#9c179e"
             ],
             [
              0.4444444444444444,
              "#bd3786"
             ],
             [
              0.5555555555555556,
              "#d8576b"
             ],
             [
              0.6666666666666666,
              "#ed7953"
             ],
             [
              0.7777777777777778,
              "#fb9f3a"
             ],
             [
              0.8888888888888888,
              "#fdca26"
             ],
             [
              1,
              "#f0f921"
             ]
            ],
            "type": "contour"
           }
          ],
          "contourcarpet": [
           {
            "colorbar": {
             "outlinewidth": 0,
             "ticks": ""
            },
            "type": "contourcarpet"
           }
          ],
          "heatmap": [
           {
            "colorbar": {
             "outlinewidth": 0,
             "ticks": ""
            },
            "colorscale": [
             [
              0,
              "#0d0887"
             ],
             [
              0.1111111111111111,
              "#46039f"
             ],
             [
              0.2222222222222222,
              "#7201a8"
             ],
             [
              0.3333333333333333,
              "#9c179e"
             ],
             [
              0.4444444444444444,
              "#bd3786"
             ],
             [
              0.5555555555555556,
              "#d8576b"
             ],
             [
              0.6666666666666666,
              "#ed7953"
             ],
             [
              0.7777777777777778,
              "#fb9f3a"
             ],
             [
              0.8888888888888888,
              "#fdca26"
             ],
             [
              1,
              "#f0f921"
             ]
            ],
            "type": "heatmap"
           }
          ],
          "heatmapgl": [
           {
            "colorbar": {
             "outlinewidth": 0,
             "ticks": ""
            },
            "colorscale": [
             [
              0,
              "#0d0887"
             ],
             [
              0.1111111111111111,
              "#46039f"
             ],
             [
              0.2222222222222222,
              "#7201a8"
             ],
             [
              0.3333333333333333,
              "#9c179e"
             ],
             [
              0.4444444444444444,
              "#bd3786"
             ],
             [
              0.5555555555555556,
              "#d8576b"
             ],
             [
              0.6666666666666666,
              "#ed7953"
             ],
             [
              0.7777777777777778,
              "#fb9f3a"
             ],
             [
              0.8888888888888888,
              "#fdca26"
             ],
             [
              1,
              "#f0f921"
             ]
            ],
            "type": "heatmapgl"
           }
          ],
          "histogram": [
           {
            "marker": {
             "pattern": {
              "fillmode": "overlay",
              "size": 10,
              "solidity": 0.2
             }
            },
            "type": "histogram"
           }
          ],
          "histogram2d": [
           {
            "colorbar": {
             "outlinewidth": 0,
             "ticks": ""
            },
            "colorscale": [
             [
              0,
              "#0d0887"
             ],
             [
              0.1111111111111111,
              "#46039f"
             ],
             [
              0.2222222222222222,
              "#7201a8"
             ],
             [
              0.3333333333333333,
              "#9c179e"
             ],
             [
              0.4444444444444444,
              "#bd3786"
             ],
             [
              0.5555555555555556,
              "#d8576b"
             ],
             [
              0.6666666666666666,
              "#ed7953"
             ],
             [
              0.7777777777777778,
              "#fb9f3a"
             ],
             [
              0.8888888888888888,
              "#fdca26"
             ],
             [
              1,
              "#f0f921"
             ]
            ],
            "type": "histogram2d"
           }
          ],
          "histogram2dcontour": [
           {
            "colorbar": {
             "outlinewidth": 0,
             "ticks": ""
            },
            "colorscale": [
             [
              0,
              "#0d0887"
             ],
             [
              0.1111111111111111,
              "#46039f"
             ],
             [
              0.2222222222222222,
              "#7201a8"
             ],
             [
              0.3333333333333333,
              "#9c179e"
             ],
             [
              0.4444444444444444,
              "#bd3786"
             ],
             [
              0.5555555555555556,
              "#d8576b"
             ],
             [
              0.6666666666666666,
              "#ed7953"
             ],
             [
              0.7777777777777778,
              "#fb9f3a"
             ],
             [
              0.8888888888888888,
              "#fdca26"
             ],
             [
              1,
              "#f0f921"
             ]
            ],
            "type": "histogram2dcontour"
           }
          ],
          "mesh3d": [
           {
            "colorbar": {
             "outlinewidth": 0,
             "ticks": ""
            },
            "type": "mesh3d"
           }
          ],
          "parcoords": [
           {
            "line": {
             "colorbar": {
              "outlinewidth": 0,
              "ticks": ""
             }
            },
            "type": "parcoords"
           }
          ],
          "pie": [
           {
            "automargin": true,
            "type": "pie"
           }
          ],
          "scatter": [
           {
            "fillpattern": {
             "fillmode": "overlay",
             "size": 10,
             "solidity": 0.2
            },
            "type": "scatter"
           }
          ],
          "scatter3d": [
           {
            "line": {
             "colorbar": {
              "outlinewidth": 0,
              "ticks": ""
             }
            },
            "marker": {
             "colorbar": {
              "outlinewidth": 0,
              "ticks": ""
             }
            },
            "type": "scatter3d"
           }
          ],
          "scattercarpet": [
           {
            "marker": {
             "colorbar": {
              "outlinewidth": 0,
              "ticks": ""
             }
            },
            "type": "scattercarpet"
           }
          ],
          "scattergeo": [
           {
            "marker": {
             "colorbar": {
              "outlinewidth": 0,
              "ticks": ""
             }
            },
            "type": "scattergeo"
           }
          ],
          "scattergl": [
           {
            "marker": {
             "colorbar": {
              "outlinewidth": 0,
              "ticks": ""
             }
            },
            "type": "scattergl"
           }
          ],
          "scattermapbox": [
           {
            "marker": {
             "colorbar": {
              "outlinewidth": 0,
              "ticks": ""
             }
            },
            "type": "scattermapbox"
           }
          ],
          "scatterpolar": [
           {
            "marker": {
             "colorbar": {
              "outlinewidth": 0,
              "ticks": ""
             }
            },
            "type": "scatterpolar"
           }
          ],
          "scatterpolargl": [
           {
            "marker": {
             "colorbar": {
              "outlinewidth": 0,
              "ticks": ""
             }
            },
            "type": "scatterpolargl"
           }
          ],
          "scatterternary": [
           {
            "marker": {
             "colorbar": {
              "outlinewidth": 0,
              "ticks": ""
             }
            },
            "type": "scatterternary"
           }
          ],
          "surface": [
           {
            "colorbar": {
             "outlinewidth": 0,
             "ticks": ""
            },
            "colorscale": [
             [
              0,
              "#0d0887"
             ],
             [
              0.1111111111111111,
              "#46039f"
             ],
             [
              0.2222222222222222,
              "#7201a8"
             ],
             [
              0.3333333333333333,
              "#9c179e"
             ],
             [
              0.4444444444444444,
              "#bd3786"
             ],
             [
              0.5555555555555556,
              "#d8576b"
             ],
             [
              0.6666666666666666,
              "#ed7953"
             ],
             [
              0.7777777777777778,
              "#fb9f3a"
             ],
             [
              0.8888888888888888,
              "#fdca26"
             ],
             [
              1,
              "#f0f921"
             ]
            ],
            "type": "surface"
           }
          ],
          "table": [
           {
            "cells": {
             "fill": {
              "color": "#EBF0F8"
             },
             "line": {
              "color": "white"
             }
            },
            "header": {
             "fill": {
              "color": "#C8D4E3"
             },
             "line": {
              "color": "white"
             }
            },
            "type": "table"
           }
          ]
         },
         "layout": {
          "annotationdefaults": {
           "arrowcolor": "#2a3f5f",
           "arrowhead": 0,
           "arrowwidth": 1
          },
          "autotypenumbers": "strict",
          "coloraxis": {
           "colorbar": {
            "outlinewidth": 0,
            "ticks": ""
           }
          },
          "colorscale": {
           "diverging": [
            [
             0,
             "#8e0152"
            ],
            [
             0.1,
             "#c51b7d"
            ],
            [
             0.2,
             "#de77ae"
            ],
            [
             0.3,
             "#f1b6da"
            ],
            [
             0.4,
             "#fde0ef"
            ],
            [
             0.5,
             "#f7f7f7"
            ],
            [
             0.6,
             "#e6f5d0"
            ],
            [
             0.7,
             "#b8e186"
            ],
            [
             0.8,
             "#7fbc41"
            ],
            [
             0.9,
             "#4d9221"
            ],
            [
             1,
             "#276419"
            ]
           ],
           "sequential": [
            [
             0,
             "#0d0887"
            ],
            [
             0.1111111111111111,
             "#46039f"
            ],
            [
             0.2222222222222222,
             "#7201a8"
            ],
            [
             0.3333333333333333,
             "#9c179e"
            ],
            [
             0.4444444444444444,
             "#bd3786"
            ],
            [
             0.5555555555555556,
             "#d8576b"
            ],
            [
             0.6666666666666666,
             "#ed7953"
            ],
            [
             0.7777777777777778,
             "#fb9f3a"
            ],
            [
             0.8888888888888888,
             "#fdca26"
            ],
            [
             1,
             "#f0f921"
            ]
           ],
           "sequentialminus": [
            [
             0,
             "#0d0887"
            ],
            [
             0.1111111111111111,
             "#46039f"
            ],
            [
             0.2222222222222222,
             "#7201a8"
            ],
            [
             0.3333333333333333,
             "#9c179e"
            ],
            [
             0.4444444444444444,
             "#bd3786"
            ],
            [
             0.5555555555555556,
             "#d8576b"
            ],
            [
             0.6666666666666666,
             "#ed7953"
            ],
            [
             0.7777777777777778,
             "#fb9f3a"
            ],
            [
             0.8888888888888888,
             "#fdca26"
            ],
            [
             1,
             "#f0f921"
            ]
           ]
          },
          "colorway": [
           "#636efa",
           "#EF553B",
           "#00cc96",
           "#ab63fa",
           "#FFA15A",
           "#19d3f3",
           "#FF6692",
           "#B6E880",
           "#FF97FF",
           "#FECB52"
          ],
          "font": {
           "color": "#2a3f5f"
          },
          "geo": {
           "bgcolor": "white",
           "lakecolor": "white",
           "landcolor": "#E5ECF6",
           "showlakes": true,
           "showland": true,
           "subunitcolor": "white"
          },
          "hoverlabel": {
           "align": "left"
          },
          "hovermode": "closest",
          "mapbox": {
           "style": "light"
          },
          "paper_bgcolor": "white",
          "plot_bgcolor": "#E5ECF6",
          "polar": {
           "angularaxis": {
            "gridcolor": "white",
            "linecolor": "white",
            "ticks": ""
           },
           "bgcolor": "#E5ECF6",
           "radialaxis": {
            "gridcolor": "white",
            "linecolor": "white",
            "ticks": ""
           }
          },
          "scene": {
           "xaxis": {
            "backgroundcolor": "#E5ECF6",
            "gridcolor": "white",
            "gridwidth": 2,
            "linecolor": "white",
            "showbackground": true,
            "ticks": "",
            "zerolinecolor": "white"
           },
           "yaxis": {
            "backgroundcolor": "#E5ECF6",
            "gridcolor": "white",
            "gridwidth": 2,
            "linecolor": "white",
            "showbackground": true,
            "ticks": "",
            "zerolinecolor": "white"
           },
           "zaxis": {
            "backgroundcolor": "#E5ECF6",
            "gridcolor": "white",
            "gridwidth": 2,
            "linecolor": "white",
            "showbackground": true,
            "ticks": "",
            "zerolinecolor": "white"
           }
          },
          "shapedefaults": {
           "line": {
            "color": "#2a3f5f"
           }
          },
          "ternary": {
           "aaxis": {
            "gridcolor": "white",
            "linecolor": "white",
            "ticks": ""
           },
           "baxis": {
            "gridcolor": "white",
            "linecolor": "white",
            "ticks": ""
           },
           "bgcolor": "#E5ECF6",
           "caxis": {
            "gridcolor": "white",
            "linecolor": "white",
            "ticks": ""
           }
          },
          "title": {
           "x": 0.05
          },
          "xaxis": {
           "automargin": true,
           "gridcolor": "white",
           "linecolor": "white",
           "ticks": "",
           "title": {
            "standoff": 15
           },
           "zerolinecolor": "white",
           "zerolinewidth": 2
          },
          "yaxis": {
           "automargin": true,
           "gridcolor": "white",
           "linecolor": "white",
           "ticks": "",
           "title": {
            "standoff": 15
           },
           "zerolinecolor": "white",
           "zerolinewidth": 2
          }
         }
        },
        "xaxis": {
         "visible": false
        },
        "yaxis": {
         "visible": false
        }
       }
      },
      "text/html": [
       "<div>                            <div id=\"d48cc4b3-9d8f-43e6-b1f6-00781176a1fb\" class=\"plotly-graph-div\" style=\"height:525px; width:100%;\"></div>            <script type=\"text/javascript\">                require([\"plotly\"], function(Plotly) {                    window.PLOTLYENV=window.PLOTLYENV || {};                                    if (document.getElementById(\"d48cc4b3-9d8f-43e6-b1f6-00781176a1fb\")) {                    Plotly.newPlot(                        \"d48cc4b3-9d8f-43e6-b1f6-00781176a1fb\",                        [{\"line\":{\"color\":\"black\",\"shape\":\"spline\",\"smoothing\":1.3,\"width\":1.25},\"mode\":\"lines\",\"showlegend\":false,\"x\":[null,null,0,0,null,0,0.018189944588972773,null,0.018189944588972773,0.018189944588972773,null,0.018189944588972773,0.20789307355521386,null,0.018189944588972773,0.018189944588972773,null,0.018189944588972773,0.3684131794272109,null,0,0,null,0,0.3893442432544122,null],\"y\":[null,null,-0.325,0.65,null,0.65,0.65,null,0.65,1.3,null,1.3,1.3,null,0.65,0.0,null,0.0,0.0,null,-0.325,-1.3,null,-1.3,-1.3,null],\"type\":\"scatter\"},{\"hoverinfo\":\"text\",\"marker\":{\"color\":\"black\",\"size\":3,\"symbol\":\"circle\"},\"mode\":\"markers\",\"showlegend\":false,\"text\":[\"root\",\"Rodentia.3\",\"Arctic_ground_squirrel\",\"Ryukyu_mouse\",\"Pika\"],\"x\":[0,0.018189944588972773,0.20789307355521386,0.3684131794272109,0.3893442432544122],\"y\":[-0.325,0.65,1.3,0.0,-1.3],\"type\":\"scatter\"}],                        {\"annotations\":[{\"font\":{\"family\":\"Inconsolata, monospace\",\"size\":12},\"showarrow\":false,\"text\":\"Arctic_ground_squirrel\",\"textangle\":0,\"x\":0.21762667963657417,\"xanchor\":\"left\",\"xref\":\"x\",\"y\":1.3,\"yref\":\"y\"},{\"font\":{\"family\":\"Inconsolata, monospace\",\"size\":12},\"showarrow\":false,\"text\":\"Ryukyu_mouse\",\"textangle\":0,\"x\":0.3781467855085712,\"xanchor\":\"left\",\"xref\":\"x\",\"y\":0.0,\"yref\":\"y\"},{\"font\":{\"family\":\"Inconsolata, monospace\",\"size\":12},\"showarrow\":false,\"text\":\"Pika\",\"textangle\":0,\"x\":0.3990778493357725,\"xanchor\":\"left\",\"xref\":\"x\",\"y\":-1.3,\"yref\":\"y\"},{\"ax\":0,\"ay\":0,\"showarrow\":false,\"text\":\"0.04\",\"x\":0.019467212162720612,\"xref\":\"x\",\"y\":-1.5363636363636364,\"yref\":\"y\",\"yshift\":10}],\"autosize\":true,\"font\":{\"family\":\"Balto\",\"size\":14},\"hovermode\":\"closest\",\"margin\":{\"b\":50,\"l\":50,\"pad\":4,\"r\":50,\"t\":50},\"shapes\":[{\"line\":{\"color\":\"black\",\"width\":1.25},\"name\":\"scale_bar\",\"type\":\"line\",\"x0\":0,\"x1\":0.038934424325441225,\"y0\":-1.5363636363636364,\"y1\":-1.5363636363636364}],\"showlegend\":false,\"xaxis\":{\"visible\":false},\"yaxis\":{\"visible\":false},\"template\":{\"data\":{\"histogram2dcontour\":[{\"type\":\"histogram2dcontour\",\"colorbar\":{\"outlinewidth\":0,\"ticks\":\"\"},\"colorscale\":[[0.0,\"#0d0887\"],[0.1111111111111111,\"#46039f\"],[0.2222222222222222,\"#7201a8\"],[0.3333333333333333,\"#9c179e\"],[0.4444444444444444,\"#bd3786\"],[0.5555555555555556,\"#d8576b\"],[0.6666666666666666,\"#ed7953\"],[0.7777777777777778,\"#fb9f3a\"],[0.8888888888888888,\"#fdca26\"],[1.0,\"#f0f921\"]]}],\"choropleth\":[{\"type\":\"choropleth\",\"colorbar\":{\"outlinewidth\":0,\"ticks\":\"\"}}],\"histogram2d\":[{\"type\":\"histogram2d\",\"colorbar\":{\"outlinewidth\":0,\"ticks\":\"\"},\"colorscale\":[[0.0,\"#0d0887\"],[0.1111111111111111,\"#46039f\"],[0.2222222222222222,\"#7201a8\"],[0.3333333333333333,\"#9c179e\"],[0.4444444444444444,\"#bd3786\"],[0.5555555555555556,\"#d8576b\"],[0.6666666666666666,\"#ed7953\"],[0.7777777777777778,\"#fb9f3a\"],[0.8888888888888888,\"#fdca26\"],[1.0,\"#f0f921\"]]}],\"heatmap\":[{\"type\":\"heatmap\",\"colorbar\":{\"outlinewidth\":0,\"ticks\":\"\"},\"colorscale\":[[0.0,\"#0d0887\"],[0.1111111111111111,\"#46039f\"],[0.2222222222222222,\"#7201a8\"],[0.3333333333333333,\"#9c179e\"],[0.4444444444444444,\"#bd3786\"],[0.5555555555555556,\"#d8576b\"],[0.6666666666666666,\"#ed7953\"],[0.7777777777777778,\"#fb9f3a\"],[0.8888888888888888,\"#fdca26\"],[1.0,\"#f0f921\"]]}],\"heatmapgl\":[{\"type\":\"heatmapgl\",\"colorbar\":{\"outlinewidth\":0,\"ticks\":\"\"},\"colorscale\":[[0.0,\"#0d0887\"],[0.1111111111111111,\"#46039f\"],[0.2222222222222222,\"#7201a8\"],[0.3333333333333333,\"#9c179e\"],[0.4444444444444444,\"#bd3786\"],[0.5555555555555556,\"#d8576b\"],[0.6666666666666666,\"#ed7953\"],[0.7777777777777778,\"#fb9f3a\"],[0.8888888888888888,\"#fdca26\"],[1.0,\"#f0f921\"]]}],\"contourcarpet\":[{\"type\":\"contourcarpet\",\"colorbar\":{\"outlinewidth\":0,\"ticks\":\"\"}}],\"contour\":[{\"type\":\"contour\",\"colorbar\":{\"outlinewidth\":0,\"ticks\":\"\"},\"colorscale\":[[0.0,\"#0d0887\"],[0.1111111111111111,\"#46039f\"],[0.2222222222222222,\"#7201a8\"],[0.3333333333333333,\"#9c179e\"],[0.4444444444444444,\"#bd3786\"],[0.5555555555555556,\"#d8576b\"],[0.6666666666666666,\"#ed7953\"],[0.7777777777777778,\"#fb9f3a\"],[0.8888888888888888,\"#fdca26\"],[1.0,\"#f0f921\"]]}],\"surface\":[{\"type\":\"surface\",\"colorbar\":{\"outlinewidth\":0,\"ticks\":\"\"},\"colorscale\":[[0.0,\"#0d0887\"],[0.1111111111111111,\"#46039f\"],[0.2222222222222222,\"#7201a8\"],[0.3333333333333333,\"#9c179e\"],[0.4444444444444444,\"#bd3786\"],[0.5555555555555556,\"#d8576b\"],[0.6666666666666666,\"#ed7953\"],[0.7777777777777778,\"#fb9f3a\"],[0.8888888888888888,\"#fdca26\"],[1.0,\"#f0f921\"]]}],\"mesh3d\":[{\"type\":\"mesh3d\",\"colorbar\":{\"outlinewidth\":0,\"ticks\":\"\"}}],\"scatter\":[{\"fillpattern\":{\"fillmode\":\"overlay\",\"size\":10,\"solidity\":0.2},\"type\":\"scatter\"}],\"parcoords\":[{\"type\":\"parcoords\",\"line\":{\"colorbar\":{\"outlinewidth\":0,\"ticks\":\"\"}}}],\"scatterpolargl\":[{\"type\":\"scatterpolargl\",\"marker\":{\"colorbar\":{\"outlinewidth\":0,\"ticks\":\"\"}}}],\"bar\":[{\"error_x\":{\"color\":\"#2a3f5f\"},\"error_y\":{\"color\":\"#2a3f5f\"},\"marker\":{\"line\":{\"color\":\"#E5ECF6\",\"width\":0.5},\"pattern\":{\"fillmode\":\"overlay\",\"size\":10,\"solidity\":0.2}},\"type\":\"bar\"}],\"scattergeo\":[{\"type\":\"scattergeo\",\"marker\":{\"colorbar\":{\"outlinewidth\":0,\"ticks\":\"\"}}}],\"scatterpolar\":[{\"type\":\"scatterpolar\",\"marker\":{\"colorbar\":{\"outlinewidth\":0,\"ticks\":\"\"}}}],\"histogram\":[{\"marker\":{\"pattern\":{\"fillmode\":\"overlay\",\"size\":10,\"solidity\":0.2}},\"type\":\"histogram\"}],\"scattergl\":[{\"type\":\"scattergl\",\"marker\":{\"colorbar\":{\"outlinewidth\":0,\"ticks\":\"\"}}}],\"scatter3d\":[{\"type\":\"scatter3d\",\"line\":{\"colorbar\":{\"outlinewidth\":0,\"ticks\":\"\"}},\"marker\":{\"colorbar\":{\"outlinewidth\":0,\"ticks\":\"\"}}}],\"scattermapbox\":[{\"type\":\"scattermapbox\",\"marker\":{\"colorbar\":{\"outlinewidth\":0,\"ticks\":\"\"}}}],\"scatterternary\":[{\"type\":\"scatterternary\",\"marker\":{\"colorbar\":{\"outlinewidth\":0,\"ticks\":\"\"}}}],\"scattercarpet\":[{\"type\":\"scattercarpet\",\"marker\":{\"colorbar\":{\"outlinewidth\":0,\"ticks\":\"\"}}}],\"carpet\":[{\"aaxis\":{\"endlinecolor\":\"#2a3f5f\",\"gridcolor\":\"white\",\"linecolor\":\"white\",\"minorgridcolor\":\"white\",\"startlinecolor\":\"#2a3f5f\"},\"baxis\":{\"endlinecolor\":\"#2a3f5f\",\"gridcolor\":\"white\",\"linecolor\":\"white\",\"minorgridcolor\":\"white\",\"startlinecolor\":\"#2a3f5f\"},\"type\":\"carpet\"}],\"table\":[{\"cells\":{\"fill\":{\"color\":\"#EBF0F8\"},\"line\":{\"color\":\"white\"}},\"header\":{\"fill\":{\"color\":\"#C8D4E3\"},\"line\":{\"color\":\"white\"}},\"type\":\"table\"}],\"barpolar\":[{\"marker\":{\"line\":{\"color\":\"#E5ECF6\",\"width\":0.5},\"pattern\":{\"fillmode\":\"overlay\",\"size\":10,\"solidity\":0.2}},\"type\":\"barpolar\"}],\"pie\":[{\"automargin\":true,\"type\":\"pie\"}]},\"layout\":{\"autotypenumbers\":\"strict\",\"colorway\":[\"#636efa\",\"#EF553B\",\"#00cc96\",\"#ab63fa\",\"#FFA15A\",\"#19d3f3\",\"#FF6692\",\"#B6E880\",\"#FF97FF\",\"#FECB52\"],\"font\":{\"color\":\"#2a3f5f\"},\"hovermode\":\"closest\",\"hoverlabel\":{\"align\":\"left\"},\"paper_bgcolor\":\"white\",\"plot_bgcolor\":\"#E5ECF6\",\"polar\":{\"bgcolor\":\"#E5ECF6\",\"angularaxis\":{\"gridcolor\":\"white\",\"linecolor\":\"white\",\"ticks\":\"\"},\"radialaxis\":{\"gridcolor\":\"white\",\"linecolor\":\"white\",\"ticks\":\"\"}},\"ternary\":{\"bgcolor\":\"#E5ECF6\",\"aaxis\":{\"gridcolor\":\"white\",\"linecolor\":\"white\",\"ticks\":\"\"},\"baxis\":{\"gridcolor\":\"white\",\"linecolor\":\"white\",\"ticks\":\"\"},\"caxis\":{\"gridcolor\":\"white\",\"linecolor\":\"white\",\"ticks\":\"\"}},\"coloraxis\":{\"colorbar\":{\"outlinewidth\":0,\"ticks\":\"\"}},\"colorscale\":{\"sequential\":[[0.0,\"#0d0887\"],[0.1111111111111111,\"#46039f\"],[0.2222222222222222,\"#7201a8\"],[0.3333333333333333,\"#9c179e\"],[0.4444444444444444,\"#bd3786\"],[0.5555555555555556,\"#d8576b\"],[0.6666666666666666,\"#ed7953\"],[0.7777777777777778,\"#fb9f3a\"],[0.8888888888888888,\"#fdca26\"],[1.0,\"#f0f921\"]],\"sequentialminus\":[[0.0,\"#0d0887\"],[0.1111111111111111,\"#46039f\"],[0.2222222222222222,\"#7201a8\"],[0.3333333333333333,\"#9c179e\"],[0.4444444444444444,\"#bd3786\"],[0.5555555555555556,\"#d8576b\"],[0.6666666666666666,\"#ed7953\"],[0.7777777777777778,\"#fb9f3a\"],[0.8888888888888888,\"#fdca26\"],[1.0,\"#f0f921\"]],\"diverging\":[[0,\"#8e0152\"],[0.1,\"#c51b7d\"],[0.2,\"#de77ae\"],[0.3,\"#f1b6da\"],[0.4,\"#fde0ef\"],[0.5,\"#f7f7f7\"],[0.6,\"#e6f5d0\"],[0.7,\"#b8e186\"],[0.8,\"#7fbc41\"],[0.9,\"#4d9221\"],[1,\"#276419\"]]},\"xaxis\":{\"gridcolor\":\"white\",\"linecolor\":\"white\",\"ticks\":\"\",\"title\":{\"standoff\":15},\"zerolinecolor\":\"white\",\"automargin\":true,\"zerolinewidth\":2},\"yaxis\":{\"gridcolor\":\"white\",\"linecolor\":\"white\",\"ticks\":\"\",\"title\":{\"standoff\":15},\"zerolinecolor\":\"white\",\"automargin\":true,\"zerolinewidth\":2},\"scene\":{\"xaxis\":{\"backgroundcolor\":\"#E5ECF6\",\"gridcolor\":\"white\",\"linecolor\":\"white\",\"showbackground\":true,\"ticks\":\"\",\"zerolinecolor\":\"white\",\"gridwidth\":2},\"yaxis\":{\"backgroundcolor\":\"#E5ECF6\",\"gridcolor\":\"white\",\"linecolor\":\"white\",\"showbackground\":true,\"ticks\":\"\",\"zerolinecolor\":\"white\",\"gridwidth\":2},\"zaxis\":{\"backgroundcolor\":\"#E5ECF6\",\"gridcolor\":\"white\",\"linecolor\":\"white\",\"showbackground\":true,\"ticks\":\"\",\"zerolinecolor\":\"white\",\"gridwidth\":2}},\"shapedefaults\":{\"line\":{\"color\":\"#2a3f5f\"}},\"annotationdefaults\":{\"arrowcolor\":\"#2a3f5f\",\"arrowhead\":0,\"arrowwidth\":1},\"geo\":{\"bgcolor\":\"white\",\"landcolor\":\"#E5ECF6\",\"subunitcolor\":\"white\",\"showland\":true,\"showlakes\":true,\"lakecolor\":\"white\"},\"title\":{\"x\":0.05},\"mapbox\":{\"style\":\"light\"}}}},                        {\"responsive\": true}                    ).then(function(){\n",
       "                            \n",
       "var gd = document.getElementById('d48cc4b3-9d8f-43e6-b1f6-00781176a1fb');\n",
       "var x = new MutationObserver(function (mutations, observer) {{\n",
       "        var display = window.getComputedStyle(gd).display;\n",
       "        if (!display || display === 'none') {{\n",
       "            console.log([gd, 'removed!']);\n",
       "            Plotly.purge(gd);\n",
       "            observer.disconnect();\n",
       "        }}\n",
       "}});\n",
       "\n",
       "// Listen for the removal of the full notebook cells\n",
       "var notebookContainer = gd.closest('#notebook-container');\n",
       "if (notebookContainer) {{\n",
       "    x.observe(notebookContainer, {childList: true});\n",
       "}}\n",
       "\n",
       "// Listen for the clearing of the current output cell\n",
       "var outputEl = gd.closest('.output');\n",
       "if (outputEl) {{\n",
       "    x.observe(outputEl, {childList: true});\n",
       "}}\n",
       "\n",
       "                        })                };                });            </script>        </div>"
      ]
     },
     "metadata": {},
     "output_type": "display_data"
    },
    {
     "data": {
      "text/plain": [
       "<cogent3.draw.dendrogram.Dendrogram at 0x16d1d4d70>"
      ]
     },
     "execution_count": 77,
     "metadata": {},
     "output_type": "execute_result"
    }
   ],
   "source": [
    "sub_tree.get_figure()"
   ]
  },
  {
   "cell_type": "code",
   "execution_count": 78,
   "metadata": {},
   "outputs": [
    {
     "data": {
      "text/plain": [
       "{'Arctic_ground_squirrel': 0.18970312896624109,\n",
       " 'Ryukyu_mouse': 0.35022323483823814,\n",
       " 'Pika': 0.3893442432544122}"
      ]
     },
     "execution_count": 78,
     "metadata": {},
     "output_type": "execute_result"
    }
   ],
   "source": [
    "ens_dict = {n: sub_tree.to_rich_dict()['edge_attributes'][n]['length'] for n in triples_species_name.values()}\n",
    "ens_dict"
   ]
  },
  {
   "cell_type": "code",
   "execution_count": 86,
   "metadata": {},
   "outputs": [],
   "source": [
    "ingroup_species = [triples_species_name['ingroup1'], triples_species_name['ingroup2']]\n",
    "trace_back_nodes = get_trace_back_nodes(ingroup_species, 'Pika', lca_node, parent_node, ens_tree)\n"
   ]
  },
  {
   "cell_type": "code",
   "execution_count": 87,
   "metadata": {},
   "outputs": [
    {
     "data": {
      "text/plain": [
       "'Rodentia.3'"
      ]
     },
     "execution_count": 87,
     "metadata": {},
     "output_type": "execute_result"
    }
   ],
   "source": [
    "lca_node"
   ]
  },
  {
   "cell_type": "code",
   "execution_count": 88,
   "metadata": {},
   "outputs": [
    {
     "data": {
      "text/plain": [
       "'Glires'"
      ]
     },
     "execution_count": 88,
     "metadata": {},
     "output_type": "execute_result"
    }
   ],
   "source": [
    "parent_node"
   ]
  },
  {
   "cell_type": "code",
   "execution_count": 89,
   "metadata": {},
   "outputs": [
    {
     "data": {
      "text/plain": [
       "{'Arctic_ground_squirrel': ['Rodentia.3',\n",
       "  'Sciuridae',\n",
       "  'Marmotini.3',\n",
       "  'Marmotini',\n",
       "  'Arctic_ground_squirrel'],\n",
       " 'Ryukyu_mouse': ['Rodentia.3',\n",
       "  'Rodentia.2',\n",
       "  'Rodentia',\n",
       "  'Myomorpha',\n",
       "  'Muroidea',\n",
       "  'Murinae',\n",
       "  'Ryukyu_mouse'],\n",
       " 'Pika': ['Glires', 'Lagomorpha', 'Pika']}"
      ]
     },
     "execution_count": 89,
     "metadata": {},
     "output_type": "execute_result"
    }
   ],
   "source": [
    "trace_back_nodes"
   ]
  },
  {
   "cell_type": "code",
   "execution_count": 90,
   "metadata": {},
   "outputs": [],
   "source": [
    "def get_Q_matrices(triples_species_names, lca_node, parent_node, ens_tree, result_lf, ens_dict):\n",
    "    ingroup_species = [triples_species_names['ingroup1'], triples_species_names['ingroup2']]\n",
    "    outgroup = triples_species_names['outgroup']\n",
    "    trace_back_nodes = get_trace_back_nodes(ingroup_species, outgroup, lca_node, parent_node, ens_tree)\n",
    "    branch_length_dict = {species: {n: ens_tree.to_rich_dict()['edge_attributes'][n]['length'] for n in trace_back_nodes[species]} for species in triples_species_names.values()}    \n",
    "    matrices_dict = {species: {n: result_lf.get_rate_matrix_for_edge(n, calibrated=True).to_array() for n in trace_back_nodes[species]} for species in triples_species_names.values()}\n",
    "    p_matrices = {}\n",
    "    for species in triples_species_names.values(): \n",
    "        p_matrices[species] = {}\n",
    "        for node_name, matrix in matrices_dict[species].items():\n",
    "            p_matrices[species][node_name] = scipy.linalg.expm(matrix * branch_length_dict[species][node_name])\n",
    "    result_p_matrices = {}\n",
    "    for species in triples_species_names.values(): \n",
    "        result_p_matrix = list(p_matrices[species].values())[0]\n",
    "        for matrix in list(p_matrices[species].values())[1:]:\n",
    "            result_p_matrix = np.dot(result_p_matrix, matrix)\n",
    "        result_p_matrices[species] = result_p_matrix\n",
    "    result_Qt_matrices = {species: scipy.linalg.logm(matrix) for species, matrix in result_p_matrices.items()}\n",
    "    result_Q_matrices = {species: result_Qt_matrices[species]/ens_dict[species] for species in triples_species_names.values()}\n",
    "\n",
    "    return result_Q_matrices"
   ]
  },
  {
   "cell_type": "code",
   "execution_count": 91,
   "metadata": {},
   "outputs": [],
   "source": [
    "branch_length_dict = {species: {n: ens_tree.to_rich_dict()['edge_attributes'][n]['length'] for n in trace_back_nodes[species][1:]} for species in triples_species_name.values()}    "
   ]
  },
  {
   "cell_type": "code",
   "execution_count": 92,
   "metadata": {},
   "outputs": [
    {
     "data": {
      "text/plain": [
       "{'Arctic_ground_squirrel': {'Sciuridae': 0.09446299634896686,\n",
       "  'Marmotini.3': 0.06111043901538081,\n",
       "  'Marmotini': 0.015274521189192532,\n",
       "  'Arctic_ground_squirrel': 0.018855172412700898},\n",
       " 'Ryukyu_mouse': {'Rodentia.2': 0.006928898582077087,\n",
       "  'Rodentia': 0.004539641093289926,\n",
       "  'Myomorpha': 0.044249608223279724,\n",
       "  'Muroidea': 0.14246540363726956,\n",
       "  'Murinae': 0.0698593690822683,\n",
       "  'Ryukyu_mouse': 0.08218031422005358},\n",
       " 'Pika': {'Lagomorpha': 0.13506623874705503, 'Pika': 0.25427800450735716}}"
      ]
     },
     "execution_count": 92,
     "metadata": {},
     "output_type": "execute_result"
    }
   ],
   "source": [
    "branch_length_dict"
   ]
  },
  {
   "cell_type": "code",
   "execution_count": 93,
   "metadata": {},
   "outputs": [
    {
     "data": {
      "text/plain": [
       "0.22471220656975094"
      ]
     },
     "execution_count": 93,
     "metadata": {},
     "output_type": "execute_result"
    }
   ],
   "source": [
    "dict = {'Euarchontoglires': 0.01625122515316775,\n",
    "  'Glires': 0.005389464653216207,\n",
    "  'Rodentia.3': 0.025035053618027145,\n",
    "  'Rodentia.2': 0.0169066273492426,\n",
    "  'Hystricomorpha.2': 0.039684859396814445,\n",
    "  'Hystricomorpha': 0.012250690461360056,\n",
    "  'Degu': 0.10919428593792274}\n",
    "\n",
    "sum(dict.values())"
   ]
  },
  {
   "cell_type": "code",
   "execution_count": 94,
   "metadata": {},
   "outputs": [],
   "source": [
    "# get_Q_matrices(triples_species_name, lca_node, parent_node, ens_tree, result_lf.lf, ens_dict)"
   ]
  },
  {
   "cell_type": "code",
   "execution_count": 95,
   "metadata": {},
   "outputs": [
    {
     "data": {
      "text/plain": [
       "{'identifier': 2,\n",
       " 'triples_species_names': {'ingroup1': 'Arctic_ground_squirrel',\n",
       "  'ingroup2': 'Ryukyu_mouse',\n",
       "  'outgroup': 'Pika'},\n",
       " 'triples_info_big_tree': {'internal_node': 'Rodentia.3',\n",
       "  'root': 'Glires',\n",
       "  'jsd_dict': {'Ingroup_JSD': 0.0016731612268652274,\n",
       "   'JSD_difference': {'Arctic_ground_squirrel': 0.002180861209883478,\n",
       "    'Ryukyu_mouse': 0.004796972640505048}},\n",
       "  'ens_difference': 0.16052010587199705,\n",
       "  'shortest_ingroup_ens': 0.18970312896624109,\n",
       "  'ens': {'Arctic_ground_squirrel': 0.18970312896624109,\n",
       "   'Ryukyu_mouse': 0.35022323483823814,\n",
       "   'Pika': 0.3893442432544122},\n",
       "  'nuc_freqs_dict': {'Ingroup_nuc_freqs': {'Arctic_ground_squirrel': [0.11831442463533225,\n",
       "     0.35170178282009723,\n",
       "     0.3500810372771475,\n",
       "     0.17990275526742303],\n",
       "    'Ryukyu_mouse': [0.146677471636953,\n",
       "     0.3557536466774716,\n",
       "     0.31766612641815234,\n",
       "     0.17990275526742303]},\n",
       "   'internal_root_distribution': [0.14258068426038356,\n",
       "    0.38155418452218853,\n",
       "    0.11135943021404651,\n",
       "    0.364505701003382],\n",
       "   'root_distribution': [0.14437639788652204,\n",
       "    0.37970043986338864,\n",
       "    0.11241661954959037,\n",
       "    0.3635065427004995]}}}"
      ]
     },
     "execution_count": 95,
     "metadata": {},
     "output_type": "execute_result"
    }
   ],
   "source": [
    "get_triples_info(triples_species_name, ens_tree, sequence, result_lf, lca_node, parent_node, 2)[0]"
   ]
  }
 ],
 "metadata": {
  "kernelspec": {
   "display_name": "c312",
   "language": "python",
   "name": "python3"
  },
  "language_info": {
   "codemirror_mode": {
    "name": "ipython",
    "version": 3
   },
   "file_extension": ".py",
   "mimetype": "text/x-python",
   "name": "python",
   "nbconvert_exporter": "python",
   "pygments_lexer": "ipython3",
   "version": "3.12.1"
  }
 },
 "nbformat": 4,
 "nbformat_minor": 2
}
