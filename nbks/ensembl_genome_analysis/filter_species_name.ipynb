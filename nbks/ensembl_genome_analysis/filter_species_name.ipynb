{
 "cells": [
  {
   "cell_type": "code",
   "execution_count": 1,
   "metadata": {},
   "outputs": [],
   "source": [
    "from ensembl_lite._species import Species, SpeciesNameMap\n",
    "from cogent3 import load_tree\n",
    "\n",
    "def make_db_prefixes():\n",
    "    return [n.lower().replace(\" \", \"_\") for n in Species.get_species_names()]\n",
    "\n",
    "db_prefixes = make_db_prefixes()\n",
    "\n",
    "def find_db_prefix(name):\n",
    "    for db_prefix in db_prefixes:\n",
    "        if name.startswith(db_prefix):\n",
    "            return db_prefix\n",
    "    return None\n",
    "\n",
    "tree = load_tree('/Users/gulugulu/repos/PuningAnalysis/data/dataset2_ensemble_trees/raw_data/tree_nh_file/91_eutherian_mammals_EPO-Extended_default.nh')\n",
    "\n",
    "db_names = []\n",
    "probs = []\n",
    "for tip_name in tree.get_tip_names():\n",
    "    db_name = find_db_prefix(tip_name.lower())\n",
    "    if db_name is None:\n",
    "        probs.append(tip_name)\n",
    "    else:\n",
    "        db_names.append(db_name)\n",
    "# import json\n",
    "# with open('available_species_name.json', 'w') as outfile:\n",
    "#     json.dump(db_names, outfile, indent=4)\n"
   ]
  },
  {
   "cell_type": "code",
   "execution_count": 2,
   "metadata": {},
   "outputs": [],
   "source": [
    "Species = SpeciesNameMap()\n"
   ]
  },
  {
   "cell_type": "code",
   "execution_count": 3,
   "metadata": {},
   "outputs": [],
   "source": [
    "common_names = []\n",
    "for name in db_names:\n",
    "    common_names.append(Species.get_common_name(name))"
   ]
  },
  {
   "cell_type": "code",
   "execution_count": 4,
   "metadata": {},
   "outputs": [
    {
     "name": "stdout",
     "output_type": "stream",
     "text": [
      "Elephant\n"
     ]
    }
   ],
   "source": [
    "name_pair = zip(db_names, common_names)\n",
    "for a, b in name_pair:\n",
    "    if a == 'loxodonta_africana':\n",
    "        print(b)"
   ]
  },
  {
   "cell_type": "code",
   "execution_count": null,
   "metadata": {},
   "outputs": [],
   "source": [
    "import pandas as pd\n",
    "\n",
    "def summarize_stat(data):\n",
    "    df = pd.DataFrame(list(data.items()), columns=['Gene', 'Value'])\n",
    "    summary_stats = {\n",
    "        'Mean': df['Value'].mean(),\n",
    "        'Median': df['Value'].median(),\n",
    "        'Standard Deviation': df['Value'].std(),\n",
    "        'Variance': df['Value'].var(),\n",
    "        'Minimum': df['Value'].min(),\n",
    "        'Maximum': df['Value'].max(),\n",
    "        'Range': df['Value'].max() - df['Value'].min()\n",
    "    }\n",
    "    summary_df = pd.DataFrame(summary_stats, index=[0])\n",
    "\n",
    "    return summary_df"
   ]
  },
  {
   "cell_type": "code",
   "execution_count": null,
   "metadata": {},
   "outputs": [],
   "source": [
    "from cogent3.util.deserialise import deserialise_object\n",
    "deserialise_object(a)"
   ]
  }
 ],
 "metadata": {
  "kernelspec": {
   "display_name": "c312",
   "language": "python",
   "name": "python3"
  },
  "language_info": {
   "codemirror_mode": {
    "name": "ipython",
    "version": 3
   },
   "file_extension": ".py",
   "mimetype": "text/x-python",
   "name": "python",
   "nbconvert_exporter": "python",
   "pygments_lexer": "ipython3",
   "version": "3.11.8"
  }
 },
 "nbformat": 4,
 "nbformat_minor": 2
}
