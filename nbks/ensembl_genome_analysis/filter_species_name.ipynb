{
 "cells": [
  {
   "cell_type": "code",
   "execution_count": 69,
   "metadata": {},
   "outputs": [],
   "source": [
    "from ensembl_lite._species import Species, SpeciesNameMap\n",
    "from cogent3 import load_tree\n",
    "\n",
    "def make_db_prefixes():\n",
    "    return [n.lower().replace(\" \", \"_\") for n in Species.get_species_names()]\n",
    "\n",
    "db_prefixes = make_db_prefixes()\n",
    "\n",
    "def find_db_prefix(name):\n",
    "    for db_prefix in db_prefixes:\n",
    "        if name.startswith(db_prefix):\n",
    "            return db_prefix\n",
    "    return None\n",
    "\n",
    "tree = load_tree('/Users/gulugulu/repos/PuningAnalysis/data/dataset2_ensemble_trees/raw_data/tree_nh_file/91_eutherian_mammals_EPO-Extended_default.nh')\n",
    "\n",
    "db_names = []\n",
    "probs = []\n",
    "for tip_name in tree.get_tip_names():\n",
    "    db_name = find_db_prefix(tip_name.lower())\n",
    "    if db_name is None:\n",
    "        probs.append(tip_name)\n",
    "    else:\n",
    "        db_names.append(db_name)\n",
    "# import json\n",
    "# with open('available_species_name.json', 'w') as outfile:\n",
    "#     json.dump(db_names, outfile, indent=4)\n"
   ]
  },
  {
   "cell_type": "code",
   "execution_count": 65,
   "metadata": {},
   "outputs": [],
   "source": [
    "common_names = []\n",
    "for name in db_names:\n",
    "    common_names.append(Species.get_common_name(name))"
   ]
  },
  {
   "cell_type": "code",
   "execution_count": 66,
   "metadata": {},
   "outputs": [],
   "source": [
    "for i in range(len(common_names)):\n",
    "    common_names[i] = common_names[i].replace(' ', '_')"
   ]
  },
  {
   "cell_type": "code",
   "execution_count": 81,
   "metadata": {},
   "outputs": [
    {
     "data": {
      "text/plain": [
       "87"
      ]
     },
     "execution_count": 81,
     "metadata": {},
     "output_type": "execute_result"
    }
   ],
   "source": [
    "len(common_names)"
   ]
  },
  {
   "cell_type": "code",
   "execution_count": 82,
   "metadata": {},
   "outputs": [],
   "source": [
    "common_names_mapping = {}\n",
    "for i in range(len(common_names)):\n",
    "    common_names_mapping[db_names[i]] = common_names[i]"
   ]
  },
  {
   "cell_type": "code",
   "execution_count": 83,
   "metadata": {},
   "outputs": [
    {
     "data": {
      "text/plain": [
       "{'loxodonta_africana': 'Elephant',\n",
       " 'procavia_capensis': 'Hyrax',\n",
       " 'echinops_telfairi': 'Lesser_hedgehog_tenrec',\n",
       " 'dasypus_novemcinctus': 'Armadillo',\n",
       " 'choloepus_hoffmanni': 'Sloth',\n",
       " 'ursus_maritimus': 'Polar_bear',\n",
       " 'ursus_americanus': 'American_black_bear',\n",
       " 'ailuropoda_melanoleuca': 'Giant_panda',\n",
       " 'mustela_putorius_furo': 'Ferret',\n",
       " 'canis_lupus_dingo': 'Dingo',\n",
       " 'canis_lupus_familiaris': 'Dog',\n",
       " 'vulpes_vulpes': 'Red_fox',\n",
       " 'panthera_pardus': 'Leopard',\n",
       " 'panthera_leo': 'Lion',\n",
       " 'panthera_tigris_altaica': 'Tiger',\n",
       " 'felis_catus': 'Cat',\n",
       " 'equus_caballus': 'Horse',\n",
       " 'equus_asinus': 'Donkey',\n",
       " 'monodon_monoceros': 'Narwhal',\n",
       " 'delphinapterus_leucas': 'Beluga_whale',\n",
       " 'phocoena_sinus': 'Vaquita',\n",
       " 'tursiops_truncatus': 'Dolphin',\n",
       " 'physeter_catodon': 'Sperm_whale',\n",
       " 'balaenoptera_musculus': 'Blue_whale',\n",
       " 'ovis_aries': 'Sheep_(texel)',\n",
       " 'capra_hircus': 'Goat',\n",
       " 'bos_mutus': 'Wild_yak',\n",
       " 'bos_grunniens': 'Domestic_yak',\n",
       " 'bison_bison_bison': 'American_bison',\n",
       " 'bos_taurus': 'Cow',\n",
       " 'moschus_moschiferus': 'Siberian_musk_deer',\n",
       " 'cervus_hanglu_yarkandensis': 'Yarkand_deer',\n",
       " 'sus_scrofa': 'Pig',\n",
       " 'catagonus_wagneri': 'Chacoan_peccary',\n",
       " 'camelus_dromedarius': 'Arabian_camel',\n",
       " 'vicugna_pacos': 'Alpaca',\n",
       " 'rhinolophus_ferrumequinum': 'Greater_horseshoe_bat',\n",
       " 'pteropus_vampyrus': 'Megabat',\n",
       " 'myotis_lucifugus': 'Microbat',\n",
       " 'erinaceus_europaeus': 'Hedgehog',\n",
       " 'mesocricetus_auratus': 'Golden_Hamster',\n",
       " 'microtus_ochrogaster': 'Prairie_vole',\n",
       " 'peromyscus_maniculatus_bairdii': 'Northern_American_deer_mouse',\n",
       " 'mus_spretus': 'Algerian_mouse',\n",
       " 'mus_spicilegus': 'Steppe_mouse',\n",
       " 'mus_musculus': 'Mouse',\n",
       " 'mus_caroli': 'Ryukyu_mouse',\n",
       " 'mus_pahari': 'Shrew_mouse',\n",
       " 'rattus_norvegicus': 'Rat',\n",
       " 'nannospalax_galili': 'Upper_Galilee_mountains_blind_mole_rat',\n",
       " 'jaculus_jaculus': 'Lesser_Egyptian_jerboa',\n",
       " 'dipodomys_ordii': 'Kangaroo_rat',\n",
       " 'chinchilla_lanigera': 'Long_tailed_chinchilla',\n",
       " 'octodon_degus': 'Degu',\n",
       " 'cavia_porcellus': 'Guinea_Pig',\n",
       " 'urocitellus_parryii': 'Arctic_ground_squirrel',\n",
       " 'ictidomys_tridecemlineatus': 'Squirrel',\n",
       " 'marmota_marmota_marmota': 'Alpine_marmot',\n",
       " 'sciurus_vulgaris': 'Eurasian_red_squirrel',\n",
       " 'oryctolagus_cuniculus': 'Rabbit',\n",
       " 'ochotona_princeps': 'Pika',\n",
       " 'pan_troglodytes': 'Chimpanzee',\n",
       " 'pan_paniscus': 'Bonobo',\n",
       " 'homo_sapiens': 'Human',\n",
       " 'gorilla_gorilla': 'Gorilla',\n",
       " 'pongo_abelii': 'Sumatran_orangutan',\n",
       " 'nomascus_leucogenys': 'Gibbon',\n",
       " 'cercocebus_atys': 'Sooty_mangabey',\n",
       " 'mandrillus_leucophaeus': 'Drill',\n",
       " 'papio_anubis': 'Olive_baboon',\n",
       " 'macaca_mulatta': 'Macaque',\n",
       " 'macaca_fascicularis': 'Crab_eating_macaque',\n",
       " 'macaca_nemestrina': 'Pig_tailed_macaque',\n",
       " 'chlorocebus_sabaeus': 'Vervet_AGM',\n",
       " 'rhinopithecus_roxellana': 'Golden_snub_nosed_monkey',\n",
       " 'rhinopithecus_bieti': 'Black_snub_nosed_monkey',\n",
       " 'cebus_imitator': 'Panamanian_white_faced_capuchin',\n",
       " 'saimiri_boliviensis_boliviensis': 'Bolivian_squirrel_monkey',\n",
       " 'aotus_nancymaae': \"Ma's_night_monkey\",\n",
       " 'callithrix_jacchus': 'White_tufted_ear_marmoset',\n",
       " 'carlito_syrichta': 'Tarsier',\n",
       " 'prolemur_simus': 'Greater_bamboo_lemur',\n",
       " 'propithecus_coquereli': \"Coquerel's_sifaka\",\n",
       " 'microcebus_murinus': 'Mouse_Lemur',\n",
       " 'otolemur_garnettii': 'Bushbaby',\n",
       " 'tupaia_belangeri': 'Tree_Shrew',\n",
       " 'sorex_araneus': 'Shrew'}"
      ]
     },
     "execution_count": 83,
     "metadata": {},
     "output_type": "execute_result"
    }
   ],
   "source": [
    "common_names_mapping"
   ]
  },
  {
   "cell_type": "code",
   "execution_count": 84,
   "metadata": {},
   "outputs": [],
   "source": [
    "import json\n",
    "with open ('../../results/output_data/common_names_mapping.json', 'w') as outfile:\n",
    "    json.dump(common_names_mapping, outfile, indent=4)"
   ]
  },
  {
   "cell_type": "code",
   "execution_count": 78,
   "metadata": {},
   "outputs": [],
   "source": [
    "import json\n",
    "with open ('../../results/output_data/common_names.json', 'r') as infile:\n",
    "    common_names = json.load(infile)"
   ]
  },
  {
   "cell_type": "code",
   "execution_count": 4,
   "metadata": {},
   "outputs": [
    {
     "name": "stdout",
     "output_type": "stream",
     "text": [
      "Elephant\n"
     ]
    }
   ],
   "source": [
    "name_pair = zip(db_names, common_names)\n",
    "for a, b in name_pair:\n",
    "    if a == 'loxodonta_africana':\n",
    "        print(b)"
   ]
  },
  {
   "cell_type": "code",
   "execution_count": 1,
   "metadata": {},
   "outputs": [],
   "source": [
    "import pandas as pd\n",
    "\n",
    "def summarize_stat(data):\n",
    "    df = pd.DataFrame(list(data.items()), columns=['Gene', 'Value'])\n",
    "    summary_stats = {\n",
    "        'Mean': df['Value'].mean(),\n",
    "        'Median': df['Value'].median(),\n",
    "        'Standard Deviation': df['Value'].std(),\n",
    "        'Variance': df['Value'].var(),\n",
    "        'Minimum': df['Value'].min(),\n",
    "        'Maximum': df['Value'].max(),\n",
    "        'Range': df['Value'].max() - df['Value'].min()\n",
    "    }\n",
    "    summary_df = pd.DataFrame(summary_stats, index=[0])\n",
    "\n",
    "    return summary_df"
   ]
  },
  {
   "cell_type": "code",
   "execution_count": 1,
   "metadata": {},
   "outputs": [],
   "source": [
    "from cogent3.util.deserialise import deserialise_object"
   ]
  },
  {
   "cell_type": "code",
   "execution_count": 6,
   "metadata": {},
   "outputs": [],
   "source": [
    "import os\n",
    "import glob\n",
    "import plotly.io as pio\n",
    "from cogent3 import get_app"
   ]
  },
  {
   "cell_type": "code",
   "execution_count": 12,
   "metadata": {},
   "outputs": [],
   "source": [
    "import json\n",
    "alignment_dir = '/Users/gulugulu/repos/PuningAnalysis/data/ensembl_ortholog_sequences/homologies_alignment_common_name_350_threshold'\n",
    "\n",
    "pattern = os.path.join(alignment_dir, '*.json')\n",
    "alignment_length = {}\n",
    "species_number = {}\n",
    "# Use glob.glob to find all files matching the pattern\n",
    "alignment_paths = glob.glob(pattern)\n",
    "for path in alignment_paths:\n",
    "    file_name = os.path.basename(path).rsplit('.', 1)[0]\n",
    "    with open (path, 'r') as infile:\n",
    "        try: \n",
    "            alignment_serialised = json.load(infile)\n",
    "            alignment = deserialise_object(alignment_serialised)\n",
    "            length = alignment.get_lengths()[0]\n",
    "            species_num = alignment.num_seqs\n",
    "            alignment_length[file_name] = length\n",
    "            species_number[file_name] = species_num\n",
    "        except Exception as e:\n",
    "            print(f\"Failed to process {path}: {str(e)}\")"
   ]
  },
  {
   "cell_type": "code",
   "execution_count": 8,
   "metadata": {},
   "outputs": [],
   "source": [
    "import numpy as np\n",
    "def summarize_stat(list):\n",
    "    data = np.array(list)\n",
    "    summary_stats = {\n",
    "        'Mean': np.mean(data),\n",
    "        'Median': np.median(data),\n",
    "        'Standard Deviation': np.std(data),\n",
    "        'Minimum': min(data),\n",
    "        'Maximum': max(data)\n",
    "    }\n",
    "    return summary_stats"
   ]
  },
  {
   "cell_type": "code",
   "execution_count": 13,
   "metadata": {},
   "outputs": [
    {
     "data": {
      "text/plain": [
       "{'Mean': 56.53543307086614,\n",
       " 'Median': 59.0,\n",
       " 'Standard Deviation': 6.1205672059610485,\n",
       " 'Minimum': 30,\n",
       " 'Maximum': 64}"
      ]
     },
     "execution_count": 13,
     "metadata": {},
     "output_type": "execute_result"
    }
   ],
   "source": [
    "summarize_stat(list(species_number.values()))"
   ]
  },
  {
   "cell_type": "code",
   "execution_count": 14,
   "metadata": {},
   "outputs": [
    {
     "data": {
      "text/plain": [
       "{'Mean': 510.5196850393701,\n",
       " 'Median': 459.0,\n",
       " 'Standard Deviation': 181.08926108038807,\n",
       " 'Minimum': 354,\n",
       " 'Maximum': 1497}"
      ]
     },
     "execution_count": 14,
     "metadata": {},
     "output_type": "execute_result"
    }
   ],
   "source": [
    "summarize_stat(list(alignment_length.values()))"
   ]
  },
  {
   "cell_type": "code",
   "execution_count": 7,
   "metadata": {},
   "outputs": [
    {
     "data": {
      "text/plain": [
       "{'ENSG00000162377': 123,\n",
       " 'ENSG00000120942': 303,\n",
       " 'ENSG00000198492': 114,\n",
       " 'ENSG00000163874': 216,\n",
       " 'ENSG00000116688': 243,\n",
       " 'ENSG00000132768': 156,\n",
       " 'ENSG00000162526': 234,\n",
       " 'ENSG00000116221': 237,\n",
       " 'ENSG00000180098': 135,\n",
       " 'ENSG00000171824': 237,\n",
       " 'ENSG00000187815': 108,\n",
       " 'ENSG00000122420': 261,\n",
       " 'ENSG00000186603': 363,\n",
       " 'ENSG00000197245': 111,\n",
       " 'ENSG00000132773': 303,\n",
       " 'ENSG00000163879': 123,\n",
       " 'ENSG00000158292': 324,\n",
       " 'ENSG00000117000': 441,\n",
       " 'ENSG00000117450': 156,\n",
       " 'ENSG00000117016': 117,\n",
       " 'ENSG00000142959': 198,\n",
       " 'ENSG00000117411': 165,\n",
       " 'ENSG00000158816': 426,\n",
       " 'ENSG00000173662': 315,\n",
       " 'ENSG00000121903': 159,\n",
       " 'ENSG00000092850': 240,\n",
       " 'ENSG00000157184': 423,\n",
       " 'ENSG00000160062': 102,\n",
       " 'ENSG00000116745': 210,\n",
       " 'ENSG00000142661': 477,\n",
       " 'ENSG00000117400': 285,\n",
       " 'ENSG00000116285': 246,\n",
       " 'ENSG00000171357': 204,\n",
       " 'ENSG00000090020': 162,\n",
       " 'ENSG00000177000': 207,\n",
       " 'ENSG00000117640': 237,\n",
       " 'ENSG00000154222': 156,\n",
       " 'ENSG00000197429': 117,\n",
       " 'ENSG00000066135': 174,\n",
       " 'ENSG00000162520': 105,\n",
       " 'ENSG00000203965': 192,\n",
       " 'ENSG00000126107': 126,\n",
       " 'ENSG00000254685': 426,\n",
       " 'ENSG00000178028': 219,\n",
       " 'ENSG00000120656': 156,\n",
       " 'ENSG00000181773': 162,\n",
       " 'ENSG00000053372': 150,\n",
       " 'ENSG00000084652': 138,\n",
       " 'ENSG00000134697': 120,\n",
       " 'ENSG00000243710': 333,\n",
       " 'ENSG00000162624': 135,\n",
       " 'ENSG00000142945': 219,\n",
       " 'ENSG00000132128': 177,\n",
       " 'ENSG00000171819': 285,\n",
       " 'ENSG00000130695': 336,\n",
       " 'ENSG00000162409': 267,\n",
       " 'ENSG00000137941': 279,\n",
       " 'ENSG00000020129': 516,\n",
       " 'ENSG00000130772': 207,\n",
       " 'ENSG00000117114': 198,\n",
       " 'ENSG00000184005': 132,\n",
       " 'ENSG00000085999': 309,\n",
       " 'ENSG00000057757': 117,\n",
       " 'ENSG00000175707': 315,\n",
       " 'ENSG00000127124': 636,\n",
       " 'ENSG00000243725': 189,\n",
       " 'ENSG00000175793': 213,\n",
       " 'ENSG00000162543': 105,\n",
       " 'ENSG00000188822': 270,\n",
       " 'ENSG00000158022': 240,\n",
       " 'ENSG00000036549': 225,\n",
       " 'ENSG00000131910': 108,\n",
       " 'ENSG00000142751': 231,\n",
       " 'ENSG00000117834': 159,\n",
       " 'ENSG00000004455': 192,\n",
       " 'ENSG00000088035': 168,\n",
       " 'ENSG00000169641': 657,\n",
       " 'ENSG00000116863': 105,\n",
       " 'ENSG00000179178': 192,\n",
       " 'ENSG00000117399': 216,\n",
       " 'ENSG00000157211': 171,\n",
       " 'ENSG00000054118': 219,\n",
       " 'ENSG00000048707': 1023,\n",
       " 'ENSG00000125944': 189,\n",
       " 'ENSG00000183520': 168,\n",
       " 'ENSG00000130766': 273,\n",
       " 'ENSG00000169174': 303,\n",
       " 'ENSG00000134748': 126,\n",
       " 'ENSG00000160050': 120,\n",
       " 'ENSG00000197312': 228,\n",
       " 'ENSG00000131233': 255,\n",
       " 'ENSG00000127125': 231,\n",
       " 'ENSG00000173406': 111,\n",
       " 'ENSG00000154007': 252,\n",
       " 'ENSG00000116761': 180,\n",
       " 'ENSG00000066185': 267,\n",
       " 'ENSG00000158966': 192,\n",
       " 'ENSG00000162461': 222,\n",
       " 'ENSG00000132855': 123,\n",
       " 'ENSG00000126705': 438,\n",
       " 'ENSG00000162621': 312,\n",
       " 'ENSG00000142686': 135,\n",
       " 'ENSG00000125703': 297,\n",
       " 'ENSG00000164002': 249,\n",
       " 'ENSG00000189433': 246,\n",
       " 'ENSG00000197587': 195,\n",
       " 'ENSG00000142599': 180,\n",
       " 'ENSG00000159592': 141,\n",
       " 'ENSG00000198520': 141,\n",
       " 'ENSG00000159479': 138,\n",
       " 'ENSG00000187513': 324,\n",
       " 'ENSG00000154027': 183,\n",
       " 'ENSG00000126067': 195,\n",
       " 'ENSG00000158195': 204,\n",
       " 'ENSG00000050628': 294,\n",
       " 'ENSG00000162600': 144,\n",
       " 'ENSG00000203995': 150,\n",
       " 'ENSG00000162616': 324,\n",
       " 'ENSG00000116783': 273,\n",
       " 'ENSG00000162374': 219,\n",
       " 'ENSG00000162620': 183,\n",
       " 'ENSG00000117472': 150,\n",
       " 'ENSG00000117425': 204,\n",
       " 'ENSG00000085840': 183}"
      ]
     },
     "execution_count": 7,
     "metadata": {},
     "output_type": "execute_result"
    }
   ],
   "source": [
    "alignment_length"
   ]
  },
  {
   "cell_type": "code",
   "execution_count": 13,
   "metadata": {},
   "outputs": [
    {
     "data": {
      "text/html": [
       "<style>\n",
       ".c3align table {margin: 10px 0;}\n",
       ".c3align td { border: none !important; text-align: left !important; }\n",
       ".c3align tr:not(.num_row) td span {margin: 0 2px;}\n",
       ".c3align tr:nth-child(even) {background: #f7f7f7;}\n",
       ".c3align .num_row {background-color:rgba(161, 195, 209, 0.5) !important; border-top: solid 1px black; }\n",
       ".c3align .label { font-size: 12pt ; text-align: right !important; color: black !important; padding: 0 4px; display: table-cell !important; font-weight: normal !important; }\n",
       ".c3align .T_dna{font-family: \"Lucida Console\",monospace !important; font-size: 12pt !important; color: blue; }\n",
       ".c3align .C_dna{font-family: \"Lucida Console\",monospace !important; font-size: 12pt !important; color: black; }\n",
       ".c3align .A_dna{font-family: \"Lucida Console\",monospace !important; font-size: 12pt !important; color: #FF0102; }\n",
       ".c3align .G_dna{font-family: \"Lucida Console\",monospace !important; font-size: 12pt !important; color: green; }\n",
       ".c3align .terminal_ambig_dna{font-family: \"Lucida Console\",monospace !important; font-size: 12pt !important; color: gray; }\n",
       ".c3align .ambig_dna{font-family: \"Lucida Console\",monospace !important; font-size: 12pt !important; color: gray; }\n",
       "</style>\n",
       "<div class=\"c3align\">\n",
       "<table>\n",
       "<tr class=\"num_row\"><td></td><td><b>0</b></td></tr>\n",
       "<tr><td class=\"label\">Shrew_mouse-MGP_PahariEiJ_G0028838</td><td><span class=\"A_dna\">A</span><span class=\"T_dna\">T</span><span class=\"G_dna\">G</span><span class=\"G_dna\">G</span><span class=\"C_dna\">C</span><span class=\"T_dna\">T</span><span class=\"C_dna\">C</span><span class=\"C_dna\">C</span><span class=\"C_dna\">C</span><span class=\"A_dna\">A</span><span class=\"A_dna\">A</span><span class=\"C_dna\">C</span><span class=\"G_dna\">G</span><span class=\"T_dna\">T</span><span class=\"G_dna\">G</span><span class=\"T_dna\">T</span><span class=\"T_dna\">T</span><span class=\"G_dna\">G</span><span class=\"G_dna\">G</span><span class=\"C_dna\">C</span><span class=\"T_dna\">T</span><span class=\"T_dna\">T</span><span class=\"C_dna\">C</span><span class=\"C_dna\">C</span><span class=\"G_dna\">G</span><span class=\"A_dna\">A</span><span class=\"A_dna\">A</span><span class=\"C_dna\">C</span><span class=\"C_dna\">C</span><span class=\"C_dna\">C</span><span class=\"G_dna\">G</span><span class=\"A_dna\">A</span><span class=\"G_dna\">G</span><span class=\"T_dna\">T</span><span class=\"A_dna\">A</span><span class=\"T_dna\">T</span><span class=\"C_dna\">C</span><span class=\"C_dna\">C</span><span class=\"T_dna\">T</span><span class=\"A_dna\">A</span><span class=\"A_dna\">A</span><span class=\"G_dna\">G</span><span class=\"G_dna\">G</span><span class=\"G_dna\">G</span><span class=\"C_dna\">C</span><span class=\"A_dna\">A</span><span class=\"T_dna\">T</span><span class=\"C_dna\">C</span><span class=\"C_dna\">C</span><span class=\"G_dna\">G</span><span class=\"G_dna\">G</span><span class=\"G_dna\">G</span><span class=\"C_dna\">C</span><span class=\"C_dna\">C</span><span class=\"G_dna\">G</span><span class=\"T_dna\">T</span><span class=\"G_dna\">G</span><span class=\"T_dna\">T</span><span class=\"T_dna\">T</span><span class=\"G_dna\">G</span></td></tr>\n",
       "<tr><td class=\"label\">Eurasian_red_squirrel-ENSSVLG00005000257</td><td><span class=\"A_dna\">A</span><span class=\"T_dna\">T</span><span class=\"G_dna\">G</span><span class=\"G_dna\">G</span><span class=\"C_dna\">C</span><span class=\"T_dna\">T</span><span class=\"C_dna\">C</span><span class=\"C_dna\">C</span><span class=\"C_dna\">C</span><span class=\"A_dna\">A</span><span class=\"A_dna\">A</span><span class=\"C_dna\">C</span><span class=\"G_dna\">G</span><span class=\"C_dna\">C</span><span class=\"G_dna\">G</span><span class=\"C_dna\">C</span><span class=\"C_dna\">C</span><span class=\"G_dna\">G</span><span class=\"G_dna\">G</span><span class=\"C_dna\">C</span><span class=\"A_dna\">A</span><span class=\"G_dna\">G</span><span class=\"C_dna\">C</span><span class=\"C_dna\">C</span><span class=\"G_dna\">G</span><span class=\"A_dna\">A</span><span class=\"A_dna\">A</span><span class=\"C_dna\">C</span><span class=\"C_dna\">C</span><span class=\"C_dna\">C</span><span class=\"G_dna\">G</span><span class=\"A_dna\">A</span><span class=\"G_dna\">G</span><span class=\"T_dna\">T</span><span class=\"A_dna\">A</span><span class=\"T_dna\">T</span><span class=\"C_dna\">C</span><span class=\"C_dna\">C</span><span class=\"T_dna\">T</span><span class=\"A_dna\">A</span><span class=\"A_dna\">A</span><span class=\"A_dna\">A</span><span class=\"G_dna\">G</span><span class=\"G_dna\">G</span><span class=\"C_dna\">C</span><span class=\"A_dna\">A</span><span class=\"T_dna\">T</span><span class=\"C_dna\">C</span><span class=\"C_dna\">C</span><span class=\"G_dna\">G</span><span class=\"G_dna\">G</span><span class=\"G_dna\">G</span><span class=\"C_dna\">C</span><span class=\"T_dna\">T</span><span class=\"G_dna\">G</span><span class=\"T_dna\">T</span><span class=\"G_dna\">G</span><span class=\"C_dna\">C</span><span class=\"T_dna\">T</span><span class=\"G_dna\">G</span></td></tr>\n",
       "<tr><td class=\"label\">Alpine_marmot-ENSMMMG00000008543</td><td><span class=\"A_dna\">A</span><span class=\"T_dna\">T</span><span class=\"G_dna\">G</span><span class=\"G_dna\">G</span><span class=\"C_dna\">C</span><span class=\"T_dna\">T</span><span class=\"C_dna\">C</span><span class=\"C_dna\">C</span><span class=\"C_dna\">C</span><span class=\"A_dna\">A</span><span class=\"A_dna\">A</span><span class=\"C_dna\">C</span><span class=\"G_dna\">G</span><span class=\"C_dna\">C</span><span class=\"G_dna\">G</span><span class=\"C_dna\">C</span><span class=\"C_dna\">C</span><span class=\"G_dna\">G</span><span class=\"G_dna\">G</span><span class=\"C_dna\">C</span><span class=\"A_dna\">A</span><span class=\"G_dna\">G</span><span class=\"C_dna\">C</span><span class=\"C_dna\">C</span><span class=\"G_dna\">G</span><span class=\"A_dna\">A</span><span class=\"A_dna\">A</span><span class=\"C_dna\">C</span><span class=\"C_dna\">C</span><span class=\"C_dna\">C</span><span class=\"G_dna\">G</span><span class=\"A_dna\">A</span><span class=\"G_dna\">G</span><span class=\"T_dna\">T</span><span class=\"G_dna\">G</span><span class=\"T_dna\">T</span><span class=\"C_dna\">C</span><span class=\"C_dna\">C</span><span class=\"T_dna\">T</span><span class=\"A_dna\">A</span><span class=\"A_dna\">A</span><span class=\"A_dna\">A</span><span class=\"G_dna\">G</span><span class=\"G_dna\">G</span><span class=\"C_dna\">C</span><span class=\"A_dna\">A</span><span class=\"T_dna\">T</span><span class=\"C_dna\">C</span><span class=\"C_dna\">C</span><span class=\"G_dna\">G</span><span class=\"G_dna\">G</span><span class=\"G_dna\">G</span><span class=\"C_dna\">C</span><span class=\"T_dna\">T</span><span class=\"G_dna\">G</span><span class=\"T_dna\">T</span><span class=\"G_dna\">G</span><span class=\"C_dna\">C</span><span class=\"T_dna\">T</span><span class=\"G_dna\">G</span></td></tr>\n",
       "<tr><td class=\"label\">Lion-ENSPLOG00000005332</td><td><span class=\"A_dna\">A</span><span class=\"T_dna\">T</span><span class=\"G_dna\">G</span><span class=\"G_dna\">G</span><span class=\"C_dna\">C</span><span class=\"T_dna\">T</span><span class=\"C_dna\">C</span><span class=\"C_dna\">C</span><span class=\"C_dna\">C</span><span class=\"A_dna\">A</span><span class=\"A_dna\">A</span><span class=\"C_dna\">C</span><span class=\"G_dna\">G</span><span class=\"T_dna\">T</span><span class=\"T_dna\">T</span><span class=\"C_dna\">C</span><span class=\"C_dna\">C</span><span class=\"C_dna\">C</span><span class=\"G_dna\">G</span><span class=\"C_dna\">C</span><span class=\"G_dna\">G</span><span class=\"G_dna\">G</span><span class=\"C_dna\">C</span><span class=\"C_dna\">C</span><span class=\"G_dna\">G</span><span class=\"A_dna\">A</span><span class=\"A_dna\">A</span><span class=\"C_dna\">C</span><span class=\"C_dna\">C</span><span class=\"G_dna\">G</span><span class=\"G_dna\">G</span><span class=\"C_dna\">C</span><span class=\"C_dna\">C</span><span class=\"C_dna\">C</span><span class=\"C_dna\">C</span><span class=\"A_dna\">A</span><span class=\"G_dna\">G</span><span class=\"A_dna\">A</span><span class=\"G_dna\">G</span><span class=\"T_dna\">T</span><span class=\"G_dna\">G</span><span class=\"C_dna\">C</span><span class=\"C_dna\">C</span><span class=\"C_dna\">C</span><span class=\"T_dna\">T</span><span class=\"A_dna\">A</span><span class=\"A_dna\">A</span><span class=\"A_dna\">A</span><span class=\"G_dna\">G</span><span class=\"G_dna\">G</span><span class=\"C_dna\">C</span><span class=\"A_dna\">A</span><span class=\"T_dna\">T</span><span class=\"A_dna\">A</span><span class=\"C_dna\">C</span><span class=\"G_dna\">G</span><span class=\"G_dna\">G</span><span class=\"G_dna\">G</span><span class=\"C_dna\">C</span><span class=\"C_dna\">C</span></td></tr>\n",
       "<tr><td class=\"label\">Gorilla-ENSGGOG00000000069</td><td><span class=\"A_dna\">A</span><span class=\"T_dna\">T</span><span class=\"G_dna\">G</span><span class=\"G_dna\">G</span><span class=\"C_dna\">C</span><span class=\"T_dna\">T</span><span class=\"C_dna\">C</span><span class=\"C_dna\">C</span><span class=\"C_dna\">C</span><span class=\"A_dna\">A</span><span class=\"G_dna\">G</span><span class=\"C_dna\">C</span><span class=\"G_dna\">G</span><span class=\"T_dna\">T</span><span class=\"G_dna\">G</span><span class=\"C_dna\">C</span><span class=\"C_dna\">C</span><span class=\"A_dna\">A</span><span class=\"G_dna\">G</span><span class=\"C_dna\">C</span><span class=\"G_dna\">G</span><span class=\"G_dna\">G</span><span class=\"C_dna\">C</span><span class=\"A_dna\">A</span><span class=\"G_dna\">G</span><span class=\"A_dna\">A</span><span class=\"A_dna\">A</span><span class=\"C_dna\">C</span><span class=\"C_dna\">C</span><span class=\"C_dna\">C</span><span class=\"G_dna\">G</span><span class=\"A_dna\">A</span><span class=\"G_dna\">G</span><span class=\"T_dna\">T</span><span class=\"A_dna\">A</span><span class=\"T_dna\">T</span><span class=\"C_dna\">C</span><span class=\"C_dna\">C</span><span class=\"T_dna\">T</span><span class=\"A_dna\">A</span><span class=\"A_dna\">A</span><span class=\"A_dna\">A</span><span class=\"G_dna\">G</span><span class=\"G_dna\">G</span><span class=\"C_dna\">C</span><span class=\"A_dna\">A</span><span class=\"T_dna\">T</span><span class=\"C_dna\">C</span><span class=\"C_dna\">C</span><span class=\"G_dna\">G</span><span class=\"G_dna\">G</span><span class=\"G_dna\">G</span><span class=\"C_dna\">C</span><span class=\"C_dna\">C</span><span class=\"G_dna\">G</span><span class=\"T_dna\">T</span><span class=\"G_dna\">G</span><span class=\"C_dna\">C</span><span class=\"T_dna\">T</span><span class=\"G_dna\">G</span></td></tr>\n",
       "<tr><td class=\"label\">Dog-ENSCAFG00845005127</td><td><span class=\"A_dna\">A</span><span class=\"T_dna\">T</span><span class=\"G_dna\">G</span><span class=\"G_dna\">G</span><span class=\"C_dna\">C</span><span class=\"T_dna\">T</span><span class=\"C_dna\">C</span><span class=\"C_dna\">C</span><span class=\"C_dna\">C</span><span class=\"A_dna\">A</span><span class=\"A_dna\">A</span><span class=\"C_dna\">C</span><span class=\"G_dna\">G</span><span class=\"T_dna\">T</span><span class=\"C_dna\">C</span><span class=\"C_dna\">C</span><span class=\"C_dna\">C</span><span class=\"C_dna\">C</span><span class=\"G_dna\">G</span><span class=\"C_dna\">C</span><span class=\"G_dna\">G</span><span class=\"G_dna\">G</span><span class=\"C_dna\">C</span><span class=\"C_dna\">C</span><span class=\"G_dna\">G</span><span class=\"A_dna\">A</span><span class=\"A_dna\">A</span><span class=\"C_dna\">C</span><span class=\"C_dna\">C</span><span class=\"G_dna\">G</span><span class=\"G_dna\">G</span><span class=\"C_dna\">C</span><span class=\"C_dna\">C</span><span class=\"C_dna\">C</span><span class=\"C_dna\">C</span><span class=\"A_dna\">A</span><span class=\"G_dna\">G</span><span class=\"A_dna\">A</span><span class=\"G_dna\">G</span><span class=\"A_dna\">A</span><span class=\"G_dna\">G</span><span class=\"T_dna\">T</span><span class=\"C_dna\">C</span><span class=\"C_dna\">C</span><span class=\"T_dna\">T</span><span class=\"A_dna\">A</span><span class=\"A_dna\">A</span><span class=\"A_dna\">A</span><span class=\"G_dna\">G</span><span class=\"G_dna\">G</span><span class=\"C_dna\">C</span><span class=\"A_dna\">A</span><span class=\"T_dna\">T</span><span class=\"C_dna\">C</span><span class=\"C_dna\">C</span><span class=\"G_dna\">G</span><span class=\"G_dna\">G</span><span class=\"G_dna\">G</span><span class=\"C_dna\">C</span><span class=\"T_dna\">T</span></td></tr>\n",
       "<tr><td class=\"label\">Sumatran_orangutan-ENSPPYG00000037048</td><td><span class=\"A_dna\">A</span><span class=\"T_dna\">T</span><span class=\"G_dna\">G</span><span class=\"G_dna\">G</span><span class=\"C_dna\">C</span><span class=\"T_dna\">T</span><span class=\"C_dna\">C</span><span class=\"C_dna\">C</span><span class=\"C_dna\">C</span><span class=\"A_dna\">A</span><span class=\"G_dna\">G</span><span class=\"C_dna\">C</span><span class=\"G_dna\">G</span><span class=\"T_dna\">T</span><span class=\"G_dna\">G</span><span class=\"C_dna\">C</span><span class=\"C_dna\">C</span><span class=\"A_dna\">A</span><span class=\"G_dna\">G</span><span class=\"C_dna\">C</span><span class=\"G_dna\">G</span><span class=\"G_dna\">G</span><span class=\"C_dna\">C</span><span class=\"A_dna\">A</span><span class=\"G_dna\">G</span><span class=\"A_dna\">A</span><span class=\"A_dna\">A</span><span class=\"C_dna\">C</span><span class=\"C_dna\">C</span><span class=\"C_dna\">C</span><span class=\"G_dna\">G</span><span class=\"A_dna\">A</span><span class=\"G_dna\">G</span><span class=\"T_dna\">T</span><span class=\"A_dna\">A</span><span class=\"T_dna\">T</span><span class=\"C_dna\">C</span><span class=\"C_dna\">C</span><span class=\"T_dna\">T</span><span class=\"A_dna\">A</span><span class=\"A_dna\">A</span><span class=\"A_dna\">A</span><span class=\"G_dna\">G</span><span class=\"G_dna\">G</span><span class=\"C_dna\">C</span><span class=\"A_dna\">A</span><span class=\"T_dna\">T</span><span class=\"C_dna\">C</span><span class=\"C_dna\">C</span><span class=\"G_dna\">G</span><span class=\"G_dna\">G</span><span class=\"G_dna\">G</span><span class=\"C_dna\">C</span><span class=\"C_dna\">C</span><span class=\"G_dna\">G</span><span class=\"T_dna\">T</span><span class=\"G_dna\">G</span><span class=\"C_dna\">C</span><span class=\"T_dna\">T</span><span class=\"G_dna\">G</span></td></tr>\n",
       "<tr><td class=\"label\">Hyrax-ENSPCAG00000016958</td><td><span class=\"A_dna\">A</span><span class=\"T_dna\">T</span><span class=\"G_dna\">G</span><span class=\"G_dna\">G</span><span class=\"C_dna\">C</span><span class=\"T_dna\">T</span><span class=\"C_dna\">C</span><span class=\"C_dna\">C</span><span class=\"C_dna\">C</span><span class=\"A_dna\">A</span><span class=\"A_dna\">A</span><span class=\"C_dna\">C</span><span class=\"G_dna\">G</span><span class=\"T_dna\">T</span><span class=\"T_dna\">T</span><span class=\"C_dna\">C</span><span class=\"C_dna\">C</span><span class=\"A_dna\">A</span><span class=\"G_dna\">G</span><span class=\"C_dna\">C</span><span class=\"A_dna\">A</span><span class=\"G_dna\">G</span><span class=\"A_dna\">A</span><span class=\"C_dna\">C</span><span class=\"G_dna\">G</span><span class=\"A_dna\">A</span><span class=\"G_dna\">G</span><span class=\"C_dna\">C</span><span class=\"A_dna\">A</span><span class=\"G_dna\">G</span><span class=\"G_dna\">G</span><span class=\"C_dna\">C</span><span class=\"C_dna\">C</span><span class=\"C_dna\">C</span><span class=\"A_dna\">A</span><span class=\"A_dna\">A</span><span class=\"A_dna\">A</span><span class=\"A_dna\">A</span><span class=\"G_dna\">G</span><span class=\"T_dna\">T</span><span class=\"A_dna\">A</span><span class=\"T_dna\">T</span><span class=\"C_dna\">C</span><span class=\"C_dna\">C</span><span class=\"T_dna\">T</span><span class=\"A_dna\">A</span><span class=\"A_dna\">A</span><span class=\"A_dna\">A</span><span class=\"G_dna\">G</span><span class=\"G_dna\">G</span><span class=\"A_dna\">A</span><span class=\"C_dna\">C</span><span class=\"T_dna\">T</span><span class=\"C_dna\">C</span><span class=\"C_dna\">C</span><span class=\"G_dna\">G</span><span class=\"G_dna\">G</span><span class=\"G_dna\">G</span><span class=\"C_dna\">C</span><span class=\"C_dna\">C</span></td></tr>\n",
       "<tr><td class=\"label\">Human-ENSG00000004455</td><td><span class=\"A_dna\">A</span><span class=\"T_dna\">T</span><span class=\"G_dna\">G</span><span class=\"G_dna\">G</span><span class=\"C_dna\">C</span><span class=\"T_dna\">T</span><span class=\"C_dna\">C</span><span class=\"C_dna\">C</span><span class=\"C_dna\">C</span><span class=\"A_dna\">A</span><span class=\"G_dna\">G</span><span class=\"C_dna\">C</span><span class=\"G_dna\">G</span><span class=\"T_dna\">T</span><span class=\"G_dna\">G</span><span class=\"C_dna\">C</span><span class=\"C_dna\">C</span><span class=\"A_dna\">A</span><span class=\"G_dna\">G</span><span class=\"C_dna\">C</span><span class=\"G_dna\">G</span><span class=\"G_dna\">G</span><span class=\"C_dna\">C</span><span class=\"A_dna\">A</span><span class=\"G_dna\">G</span><span class=\"A_dna\">A</span><span class=\"A_dna\">A</span><span class=\"C_dna\">C</span><span class=\"C_dna\">C</span><span class=\"C_dna\">C</span><span class=\"G_dna\">G</span><span class=\"A_dna\">A</span><span class=\"G_dna\">G</span><span class=\"T_dna\">T</span><span class=\"A_dna\">A</span><span class=\"T_dna\">T</span><span class=\"C_dna\">C</span><span class=\"C_dna\">C</span><span class=\"T_dna\">T</span><span class=\"A_dna\">A</span><span class=\"A_dna\">A</span><span class=\"A_dna\">A</span><span class=\"G_dna\">G</span><span class=\"G_dna\">G</span><span class=\"C_dna\">C</span><span class=\"A_dna\">A</span><span class=\"T_dna\">T</span><span class=\"C_dna\">C</span><span class=\"C_dna\">C</span><span class=\"G_dna\">G</span><span class=\"G_dna\">G</span><span class=\"G_dna\">G</span><span class=\"C_dna\">C</span><span class=\"C_dna\">C</span><span class=\"G_dna\">G</span><span class=\"T_dna\">T</span><span class=\"G_dna\">G</span><span class=\"C_dna\">C</span><span class=\"T_dna\">T</span><span class=\"G_dna\">G</span></td></tr>\n",
       "<tr><td class=\"label\">Cow-ENSBTAG00000017605</td><td><span class=\"A_dna\">A</span><span class=\"T_dna\">T</span><span class=\"G_dna\">G</span><span class=\"G_dna\">G</span><span class=\"C_dna\">C</span><span class=\"T_dna\">T</span><span class=\"C_dna\">C</span><span class=\"C_dna\">C</span><span class=\"C_dna\">C</span><span class=\"A_dna\">A</span><span class=\"A_dna\">A</span><span class=\"C_dna\">C</span><span class=\"G_dna\">G</span><span class=\"T_dna\">T</span><span class=\"G_dna\">G</span><span class=\"C_dna\">C</span><span class=\"C_dna\">C</span><span class=\"T_dna\">T</span><span class=\"G_dna\">G</span><span class=\"C_dna\">C</span><span class=\"G_dna\">G</span><span class=\"G_dna\">G</span><span class=\"C_dna\">C</span><span class=\"C_dna\">C</span><span class=\"G_dna\">G</span><span class=\"A_dna\">A</span><span class=\"A_dna\">A</span><span class=\"C_dna\">C</span><span class=\"C_dna\">C</span><span class=\"G_dna\">G</span><span class=\"G_dna\">G</span><span class=\"T_dna\">T</span><span class=\"C_dna\">C</span><span class=\"C_dna\">C</span><span class=\"C_dna\">C</span><span class=\"G_dna\">G</span><span class=\"G_dna\">G</span><span class=\"A_dna\">A</span><span class=\"G_dna\">G</span><span class=\"T_dna\">T</span><span class=\"C_dna\">C</span><span class=\"T_dna\">T</span><span class=\"C_dna\">C</span><span class=\"C_dna\">C</span><span class=\"T_dna\">T</span><span class=\"A_dna\">A</span><span class=\"A_dna\">A</span><span class=\"A_dna\">A</span><span class=\"G_dna\">G</span><span class=\"G_dna\">G</span><span class=\"C_dna\">C</span><span class=\"G_dna\">G</span><span class=\"T_dna\">T</span><span class=\"C_dna\">C</span><span class=\"C_dna\">C</span><span class=\"G_dna\">G</span><span class=\"G_dna\">G</span><span class=\"G_dna\">G</span><span class=\"C_dna\">C</span><span class=\"C_dna\">C</span></td></tr>\n",
       "</table>\n",
       "<p><i>42 x {min=699, median=720, max=822} (truncated to 10 x 60) dna sequence collection</i></p>\n",
       "</div>"
      ],
      "text/plain": [
       "42x (Eurasian_red_squirrel-ENSSVLG00005000257[ATGGCTCCCA...], ..., Horse-ENSECAG00000023800[ATGGCTCCTA...]) dna seqcollection"
      ]
     },
     "execution_count": 13,
     "metadata": {},
     "output_type": "execute_result"
    }
   ],
   "source": [
    "path = '/Users/gulugulu/repos/PuningAnalysis/results/output_data/homologies_alignments_common_name/ENSG00000162377.json'\n",
    "with open (path, 'r') as infile:\n",
    "    alignment_serialised = json.load(infile)\n",
    "deserialise_object(alignment_serialised)"
   ]
  },
  {
   "cell_type": "code",
   "execution_count": 47,
   "metadata": {},
   "outputs": [
    {
     "name": "stdout",
     "output_type": "stream",
     "text": [
      "{'ingroup1': 'Species2', 'ingroup2': 'Species3', 'outgroup': 'Species4'}\n"
     ]
    }
   ],
   "source": [
    "import random\n",
    "\n",
    "def pseudorandom_sequence_selection_between_order(species_names, order_info):\n",
    "    # Select a random order and get two in-group species\n",
    "    random_order = random.choice(list(order_info.keys()))\n",
    "    ingroup_species_pair = random.sample(order_info[random_order], 2) if len(order_info[random_order]) >= 2 else []\n",
    "\n",
    "    # Prepare a list of all other orders except the selected one\n",
    "    other_orders = {key: value for key, value in order_info.items() if key != random_order}\n",
    "\n",
    "    # Flatten the list of species from other orders\n",
    "    other_species = [species for species_list in other_orders.values() for species in species_list]\n",
    "\n",
    "    # Randomly select one outgroup species, if available\n",
    "    outgroup_species = random.choice(other_species) if other_species else None\n",
    "\n",
    "    return {\n",
    "        'ingroup1': ingroup_species_pair[0],\n",
    "        'ingroup2': ingroup_species_pair[1],\n",
    "        'outgroup': outgroup_species\n",
    "    }\n",
    "\n",
    "# Example usage:\n",
    "order_info = {\n",
    "    'Primates': ['Human', 'Chimpanzee'],\n",
    "    'Carnivora': ['Tiger', 'Bear'],\n",
    "    'Rodentia': ['Rat', 'Mouse']\n",
    "}\n",
    "\n",
    "result = pseudorandom_sequence_selection_between_order(None, order_info)\n",
    "print(result)\n"
   ]
  },
  {
   "cell_type": "code",
   "execution_count": 57,
   "metadata": {},
   "outputs": [
    {
     "name": "stdout",
     "output_type": "stream",
     "text": [
      "{'ingroup1': 'Species1', 'ingroup2': 'Species4', 'outgroup': 'Species3'}\n"
     ]
    }
   ],
   "source": [
    "import random\n",
    "\n",
    "\n",
    "def pseudorandom_sequence_selection_between_species(species_names, taxa_info, order_info):\n",
    "    # Sample two random in-group species\n",
    "    if len(species_names) < 2:\n",
    "        return \"Not enough species to form a pair\"\n",
    "    ingroup_species_pair = random.sample(species_names, 2)\n",
    "\n",
    "    # Extract their taxonomic information\n",
    "    species1_taxa = taxa_info[ingroup_species_pair[0]]\n",
    "    species2_taxa = taxa_info[ingroup_species_pair[1]]\n",
    "\n",
    "    # Determine if they are in the same order or family\n",
    "    if species1_taxa['order'] == species2_taxa['order']:\n",
    "        same_order = True\n",
    "        same_family = 'family' in species1_taxa and 'family' in species2_taxa and species1_taxa['family'] == species2_taxa['family']\n",
    "    else:\n",
    "        same_order = False\n",
    "        same_family = False\n",
    "\n",
    "    if same_family:\n",
    "        # Select outgroup from the same family\n",
    "        family_members = [s for s, taxa in taxa_info.items() if taxa.get('family') == species1_taxa['family']]\n",
    "        family_members = list(set(family_members) - set(ingroup_species_pair))\n",
    "        if family_members:\n",
    "            outgroup_species = random.choice(family_members)\n",
    "        else:\n",
    "            # Fallback to order level if no family members are available\n",
    "            order_members = order_info[species1_taxa['order']]\n",
    "            order_members = list(set(order_members) - set(ingroup_species_pair))\n",
    "            outgroup_species = random.choice(order_members) if order_members else None\n",
    "    elif same_order:\n",
    "        # Select outgroup from the same order\n",
    "        order_members = order_info[species1_taxa['order']]\n",
    "        order_members = list(set(order_members) - set(ingroup_species_pair))\n",
    "        if order_members:\n",
    "            outgroup_species = random.choice(order_members)\n",
    "        else:\n",
    "            # Fallback to any other order if no order members are available\n",
    "            other_species = [s for s, taxa in taxa_info.items() if taxa['order'] not in [species1_taxa['order'], species2_taxa['order']]]\n",
    "            outgroup_species = random.choice(other_species) if other_species else None\n",
    "    else:\n",
    "        # Different orders: select an outgroup from any other order\n",
    "        other_species = [s for s, taxa in taxa_info.items() if taxa['order'] not in [species1_taxa['order'], species2_taxa['order']]]\n",
    "        outgroup_species = random.choice(other_species) if other_species else None\n",
    "\n",
    "    # Prepare the result dictionary\n",
    "    traid_species_name = {\n",
    "        'ingroup1': ingroup_species_pair[0],\n",
    "        'ingroup2': ingroup_species_pair[1],\n",
    "        'outgroup': outgroup_species\n",
    "    }\n",
    "\n",
    "    return traid_species_name\n",
    "\n",
    "# Example usage:\n",
    "species_names = ['Species1', 'Species2', 'Species3', 'Species4']\n",
    "taxa_info = {\n",
    "    'Species1': {'order': 'Carnivora', 'family': 'Felidae'},\n",
    "    'Species2': {'order': 'Carnivora', 'family': 'Canidae'},\n",
    "    'Species3': {'order': 'Primates', 'family': 'Hominidae'},\n",
    "    'Species4': {'order': 'Rodentia', 'family': 'Muridae'}\n",
    "}\n",
    "order_info = {\n",
    "    'Carnivora': ['Species1', 'Species2'],\n",
    "    'Primates': ['Species3'],\n",
    "    'Rodentia': ['Species4']\n",
    "}\n",
    "\n",
    "result = pseudorandom_sequence_selection_between_species(species_names, taxa_info, order_info)\n",
    "print(result)\n"
   ]
  },
  {
   "cell_type": "code",
   "execution_count": null,
   "metadata": {},
   "outputs": [],
   "source": []
  }
 ],
 "metadata": {
  "kernelspec": {
   "display_name": "c311",
   "language": "python",
   "name": "python3"
  },
  "language_info": {
   "codemirror_mode": {
    "name": "ipython",
    "version": 3
   },
   "file_extension": ".py",
   "mimetype": "text/x-python",
   "name": "python",
   "nbconvert_exporter": "python",
   "pygments_lexer": "ipython3",
   "version": "3.11.8"
  }
 },
 "nbformat": 4,
 "nbformat_minor": 2
}
