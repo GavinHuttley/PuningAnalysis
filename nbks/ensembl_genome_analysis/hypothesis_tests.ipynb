{
 "cells": [
  {
   "cell_type": "code",
   "execution_count": 3,
   "metadata": {},
   "outputs": [],
   "source": [
    "import json\n",
    "from cogent3 import get_app, open_data_store\n",
    "from cogent3.evolve.models import register_model\n",
    "from cogent3.evolve.ns_substitution_model import GeneralStationary\n",
    "from cogent3 import make_tree, get_moltype\n",
    "from cogent3.app.composable import define_app, NotCompleted\n",
    "from cogent3.app.typing import AlignedSeqsType, HypothesisResultType, SerialisableType, IdentifierType\n",
    "\n",
    "\n",
    "from cogent3.app import evo\n",
    "RATE_PARAM_UPPER = 50\n",
    "\n",
    "\n",
    "@register_model(\"nucleotide\")\n",
    "def GSN(**kwargs):\n",
    "    \"\"\"A General Stationary Nucleotide substitution model instance.\"\"\"\n",
    "    kwargs[\"optimise_motif_probs\"] = kwargs.get(\"optimise_motif_probs\", True)\n",
    "    kwargs[\"name\"] = kwargs.get(\"name\", \"GSN\")\n",
    "    return GeneralStationary(get_moltype(\"dna\").alphabet, **kwargs)\n",
    "\n",
    "def get_id(result):\n",
    "    return result.source.unique_id\n",
    "\n",
    "\n",
    "\n",
    "def get_param_rules_upper_limit(model_name, upper):\n",
    "    \"\"\"rules to set the upper value for rate matrix terms\"\"\"\n",
    "    from cogent3 import get_model\n",
    "\n",
    "    sm = get_model(model_name)\n",
    "    return [{\"par_name\": par_name, \"upper\": upper} for par_name in sm.get_param_list()]\n",
    "\n",
    "def p_value(result):\n",
    "    return sum(result.observed.LR <= null_lr for null_lr in result.null_dist) / len(result.null_dist)"
   ]
  },
  {
   "cell_type": "code",
   "execution_count": 73,
   "metadata": {},
   "outputs": [
    {
     "data": {
      "text/plain": [
       "'ENSG00000020129.json'"
      ]
     },
     "execution_count": 73,
     "metadata": {},
     "output_type": "execute_result"
    }
   ],
   "source": [
    "import os\n",
    "a = '/Users/gulugulu/repos/PuningAnalysis/results/output_data/model_fitting_result_350_threshold/ENSG00000020129.json'\n",
    "os.path.basename(a.rstrip('/'))"
   ]
  },
  {
   "cell_type": "markdown",
   "metadata": {},
   "source": [
    "## Test of non-stationary model vs. sattionary model"
   ]
  },
  {
   "cell_type": "code",
   "execution_count": 9,
   "metadata": {},
   "outputs": [],
   "source": [
    "@define_app\n",
    "def ton_bootstrapper(aln: AlignedSeqsType, tree=None, opt_args=None) -> SerialisableType:\n",
    "    outgroup_name = aln.info['triads_species_name']['outgroup']\n",
    "    print(outgroup_name)\n",
    "    tree = make_tree(tip_names=aln.names)\n",
    "    \n",
    "    outgroup_edge = [outgroup_name]\n",
    "\n",
    "    model_kwargs = dict(\n",
    "    tree=tree,\n",
    "    opt_args=opt_args,\n",
    "    # unique_trees=True,\n",
    "    lf_args=dict(discrete_edges=[outgroup_edge]),\n",
    "    optimise_motif_probs=True,\n",
    "    )\n",
    "    null = evo.model(\n",
    "            \"GSN\",\n",
    "            param_rules=get_param_rules_upper_limit(\"GSN\", RATE_PARAM_UPPER),\n",
    "            **model_kwargs,\n",
    "        )\n",
    "    alt = evo.model(\n",
    "            \"GN\",\n",
    "            param_rules=get_param_rules_upper_limit(\"GN\", RATE_PARAM_UPPER),\n",
    "            **model_kwargs,\n",
    "        )\n",
    "    \n",
    "    hyp = evo.hypothesis(null, alt, sequential=True)\n",
    "    bootstrapper = evo.bootstrap(hyp, num_reps=100, parallel=True)\n",
    "    result = bootstrapper(aln)    \n",
    "    print('finish one')\n",
    "    return result\n",
    "\n",
    "load_json_app = get_app(\"load_json\")\n",
    "\n",
    "\n",
    "# @define_app\n",
    "# def customised_load_json(DataMember: IdentifierType) -> AlignedSeqsType:\n",
    "#     aln = load_json_app(DataMember)\n",
    "#     aln.source = DataMember.unique_id\n",
    "#     return aln\n",
    "\n",
    "# load_json_customised = customised_load_json()\n",
    "\n",
    "\n",
    "# @define_app(app_type=WRITER)\n",
    "# def customised_write_json(bootstrap_result_serilised: SerialisableType, unique_id: IdentifierType):\n",
    "#     path_to_dir = '/Users/gulugulu/Desktop/honours/data_local/'\n",
    "#     out_dstore = open_data_store(path_to_dir, mode=\"w\", suffix=\"json\")\n",
    "#     write_json_app = get_app(\"write_json\", data_store=out_dstore, identifier = unique_id)\n",
    "#     return write_json_app\n",
    "\n",
    "\n",
    "\n"
   ]
  },
  {
   "cell_type": "code",
   "execution_count": 3,
   "metadata": {},
   "outputs": [],
   "source": [
    "aln_dir_new = '/Users/gulugulu/Desktop/honours/data_local/triples_aln_subset_info_added'\n",
    "\n",
    "path_to_dir = '/Users/gulugulu/Desktop/honours/data_local/bootstrapping_test_non'\n",
    "out_dstore = open_data_store(path_to_dir, mode=\"w\", suffix=\"json\")\n",
    "write_json_app = get_app(\"write_json\", data_store=out_dstore, id_from_source = get_id)\n",
    "\n",
    "input_data_store = open_data_store(aln_dir_new, suffix= 'json', limit=1)\n",
    "\n",
    "bootstrapper_ton = ton_bootstrapper()\n",
    "non_bootstrapper = load_json_app + bootstrapper_ton + write_json_app\n",
    "\n",
    "# non_bootstrapper.apply_to(\n",
    "#         input_data_store,\n",
    "#         parallel=False, \n",
    "#         par_kw=dict(\n",
    "#             max_workers=2, use_mpi=False\n",
    "#         ),\n",
    "# )"
   ]
  },
  {
   "cell_type": "markdown",
   "metadata": {},
   "source": [
    "## Test of clock violation "
   ]
  },
  {
   "cell_type": "code",
   "execution_count": 4,
   "metadata": {},
   "outputs": [],
   "source": [
    "def all_hypothesis_model_collection(aln: AlignedSeqsType, tree=None, opt_args=None) -> HypothesisResultType:\n",
    "    \n",
    "    outgroup_name = aln.info['triads_species_name']['outgroup']\n",
    "    tree = make_tree(tip_names=aln.names)\n",
    "    \n",
    "    outgroup_edge = [outgroup_name]\n",
    "\n",
    "    model_kwargs = dict(\n",
    "    tree=tree,\n",
    "    opt_args=opt_args,\n",
    "    # unique_trees=True,\n",
    "    lf_args=dict(discrete_edges=[outgroup_edge]),\n",
    "    optimise_motif_probs=True,\n",
    "    )\n",
    "    null = evo.model(\n",
    "            \"GSN\",\n",
    "            param_rules=get_param_rules_upper_limit(\"GSN\", RATE_PARAM_UPPER),\n",
    "            time_het = None,\n",
    "            **model_kwargs,\n",
    "        )\n",
    "    alt = evo.model(\n",
    "            \"GN\",\n",
    "            param_rules=get_param_rules_upper_limit(\"GN\", RATE_PARAM_UPPER),\n",
    "            time_het = None,\n",
    "            **model_kwargs,\n",
    "        )\n",
    "    \n",
    "    alt2 = evo.model(\n",
    "            \"GN\",\n",
    "            name=\"GN-max-het\",\n",
    "            param_rules=get_param_rules_upper_limit(\"GN\", RATE_PARAM_UPPER),\n",
    "            time_het = 'max',\n",
    "            **model_kwargs,\n",
    "        )\n",
    "    \n",
    "    \n",
    "    models = [null, alt, alt2]\n",
    "    \n",
    "    return evo.model_collection(*models, sequential=True)\n",
    "    \n",
    "\n"
   ]
  },
  {
   "cell_type": "code",
   "execution_count": 5,
   "metadata": {},
   "outputs": [],
   "source": [
    "\n",
    "@define_app\n",
    "def test_hypothesis_clock_model_whole_gene(aln_path: IdentifierType, result_lf_path, opt_args=None) -> HypothesisResultType:\n",
    "    aln = deserialise_object(json.load(open(aln_path, 'r')))\n",
    "\n",
    "    tree = load_json_app(result_lf_path).get_ens_tree()\n",
    "\n",
    "    model_kwargs = dict(\n",
    "    tree=tree,\n",
    "    opt_args=opt_args,\n",
    "    # unique_trees=True,\n",
    "    optimise_motif_probs=True,\n",
    "    )\n",
    "    null = evo.model(\n",
    "            \"GN\",\n",
    "            param_rules=get_param_rules_upper_limit(\"GN\", RATE_PARAM_UPPER),\n",
    "            time_het = None,\n",
    "            **model_kwargs,\n",
    "        )\n",
    "    alt = evo.model(\n",
    "            \"GN\",\n",
    "            name=\"GN-max-het\",\n",
    "            param_rules=get_param_rules_upper_limit(\"GN\", RATE_PARAM_UPPER),\n",
    "            time_het = \"max\",\n",
    "            **model_kwargs,\n",
    "        )\n",
    "    \n",
    "    hyp = evo.hypothesis(null, alt, sequential=True)\n",
    "    result = hyp(aln)\n",
    "\n",
    "    return result"
   ]
  },
  {
   "cell_type": "code",
   "execution_count": null,
   "metadata": {},
   "outputs": [],
   "source": [
    "import glob\n",
    "import os\n",
    "aln_dir = '/Users/gulugulu/Desktop/honours/data_local/triples_aln_subset_info_added'\n",
    "result_lf_dir = '/Users/gulugulu/repos/PuningAnalysis/results/output_data/model_fitting_result_350_threshold'\n",
    "gene_aln_dir = '/Users/gulugulu/repos/PuningAnalysis/data/ensembl_ortholog_sequences/homologies_alignment_common_name_350_threshold'\n",
    "result_lf_paths = glob.glob(os.path.join(result_lf_dir, '*.json'))\n",
    "aln_paths = glob.glob(os.path.join(aln_dir, '*.json'))\n",
    "gene_aln_paths = glob.glob(os.path.join(gene_aln_dir, '*.json'))"
   ]
  },
  {
   "cell_type": "code",
   "execution_count": 6,
   "metadata": {},
   "outputs": [],
   "source": [
    "from cogent3.evolve import ns_substitution_model, substitution_model\n",
    "\n",
    "@define_app\n",
    "def toc_S(aln: AlignedSeqsType, tree=None, opt_args=None) -> HypothesisResultType:\n",
    "    outgroup_name = aln.info['triads_species_name']['outgroup']\n",
    "    outgroup_edge = [outgroup_name]\n",
    "\n",
    "    tree = make_tree(tip_names=aln.names)\n",
    "\n",
    "    model_kwargs = dict(\n",
    "    tree=tree,\n",
    "    opt_args=opt_args,\n",
    "    # unique_trees=True,\n",
    "    lf_args=dict(discrete_edges=[outgroup_edge]),\n",
    "    optimise_motif_probs=True,\n",
    "    )\n",
    "    null = evo.model(\n",
    "            \"GSN\",\n",
    "            param_rules=get_param_rules_upper_limit(\"GSN\", RATE_PARAM_UPPER),\n",
    "            time_het = None,\n",
    "            **model_kwargs,\n",
    "        )\n",
    "    alt = evo.model(\n",
    "            \"GSN\",\n",
    "            name=\"GSN-max-het\",\n",
    "            param_rules=get_param_rules_upper_limit(\"GSN\", RATE_PARAM_UPPER),\n",
    "            time_het = \"max\",\n",
    "            **model_kwargs,\n",
    "        )\n",
    "    \n",
    "    hyp = evo.hypothesis(null, alt, sequential=True)\n",
    "    result = hyp(aln)\n",
    "\n",
    "    return result"
   ]
  },
  {
   "cell_type": "code",
   "execution_count": 7,
   "metadata": {},
   "outputs": [],
   "source": [
    "@define_app\n",
    "def toc_N_bootstrapper(aln: AlignedSeqsType, tree=None, opt_args=None) -> SerialisableType:\n",
    "    outgroup_name = aln.info['triads_species_name']['outgroup']\n",
    "    tree = make_tree(tip_names=aln.names)\n",
    "    outgroup_edge = [outgroup_name]\n",
    "\n",
    "\n",
    "    model_kwargs = dict(\n",
    "    tree=tree,\n",
    "    opt_args=opt_args,\n",
    "    # unique_trees=True,\n",
    "    lf_args=dict(discrete_edges=[outgroup_edge]),\n",
    "    optimise_motif_probs=True,\n",
    "    )\n",
    "    null = evo.model(\n",
    "            \"GN\",\n",
    "            param_rules=get_param_rules_upper_limit(\"GN\", RATE_PARAM_UPPER),\n",
    "            time_het = None,\n",
    "            **model_kwargs,\n",
    "        )\n",
    "    alt = evo.model(\n",
    "            \"GN\",\n",
    "            name=\"GN-max-het\",\n",
    "            param_rules=get_param_rules_upper_limit(\"GN\", RATE_PARAM_UPPER),\n",
    "            time_het = \"max\",\n",
    "            **model_kwargs,\n",
    "        )\n",
    "    \n",
    "    hyp = evo.hypothesis(null, alt, sequential=True)\n",
    "    bootstrapper = evo.bootstrap(hyp, num_reps=100, parallel=True)\n",
    "    result = bootstrapper(aln)    \n",
    "    return result"
   ]
  },
  {
   "cell_type": "code",
   "execution_count": 9,
   "metadata": {},
   "outputs": [],
   "source": [
    "\n",
    "path_to_dir = '/Users/gulugulu/Desktop/honours/data_local/bootstrapping_test_clock'\n",
    "out_dstore = open_data_store(path_to_dir, mode=\"w\", suffix=\"json\")\n",
    "write_json_app = get_app(\"write_json\", data_store=out_dstore, id_from_source = get_id)\n",
    "\n",
    "bootstrapper_toc_N = toc_N_bootstrapper()\n",
    "clock_bootstrapper = load_json_app + bootstrapper_toc_N + write_json_app\n",
    "\n",
    "# clock_bootstrapper.apply_to(\n",
    "#         input_data_store,\n",
    "#         parallel=False, \n",
    "#         par_kw=dict(\n",
    "#             max_workers=2, use_mpi=False\n",
    "#         ),\n",
    "# )\n",
    "\n",
    "\n"
   ]
  },
  {
   "cell_type": "markdown",
   "metadata": {},
   "source": [
    "Non-stationarity proportion from bootstrape"
   ]
  },
  {
   "cell_type": "code",
   "execution_count": 4,
   "metadata": {},
   "outputs": [],
   "source": [
    "ton_result_dir = '/Users/gulugulu/Desktop/honours/data_local/bootstrapping_test_non'\n",
    "\n",
    "input_data_store_ton_result = open_data_store(ton_result_dir, suffix= 'json')\n"
   ]
  },
  {
   "cell_type": "code",
   "execution_count": 5,
   "metadata": {},
   "outputs": [
    {
     "data": {
      "text/plain": [
       "2170"
      ]
     },
     "execution_count": 5,
     "metadata": {},
     "output_type": "execute_result"
    }
   ],
   "source": [
    "len(input_data_store_ton_result)"
   ]
  },
  {
   "cell_type": "code",
   "execution_count": 33,
   "metadata": {},
   "outputs": [],
   "source": [
    "p_value_observed_dict = {}\n",
    "p_value_tested_dict = {}\n",
    "i = 0\n",
    "for data in input_data_store_ton_result:\n",
    "    gene_name = data.unique_id.split('.')[0]\n",
    "    bootstrap_result = load_json_app(data)\n",
    "    if isinstance(bootstrap_result, NotCompleted):\n",
    "        i += 1\n",
    "        print(data) \n",
    "    else:\n",
    "        p_value_observed_dict[gene_name] = bootstrap_result.observed.pvalue\n",
    "        p_value_tested_dict[gene_name] = p_value(bootstrap_result)\n",
    "        \n"
   ]
  },
  {
   "cell_type": "code",
   "execution_count": 104,
   "metadata": {},
   "outputs": [
    {
     "data": {
      "text/plain": [
       "1294"
      ]
     },
     "execution_count": 104,
     "metadata": {},
     "output_type": "execute_result"
    }
   ],
   "source": [
    "list1 = list(p_value_tested_dict.values())\n",
    "count = len([x for x in list1 if x < 0.25])\n",
    "count\n",
    "#34%, #60%"
   ]
  },
  {
   "cell_type": "code",
   "execution_count": 105,
   "metadata": {},
   "outputs": [
    {
     "name": "stdout",
     "output_type": "stream",
     "text": [
      "1788\n"
     ]
    }
   ],
   "source": [
    "# Assuming list1 is created from p_value_observed_dict.values()\n",
    "list2 = list(p_value_observed_dict.values())\n",
    "\n",
    "# Remove NoneType values\n",
    "filtered_list = [x for x in list2 if x is not None]\n",
    "\n",
    "# Now count the values less than 0.05\n",
    "count = len([x for x in filtered_list if x < 0.25])\n",
    "\n",
    "print(count)\n",
    "#63%, 82%"
   ]
  },
  {
   "cell_type": "code",
   "execution_count": 188,
   "metadata": {},
   "outputs": [
    {
     "data": {
      "text/plain": [
       "78"
      ]
     },
     "execution_count": 188,
     "metadata": {},
     "output_type": "execute_result"
    }
   ],
   "source": [
    "from collections import defaultdict\n",
    "# Dictionary to store the count of values < 0.05 for each gene\n",
    "count_less_than_005 = defaultdict(int)\n",
    "# Dictionary to store the total count of entries for each gene\n",
    "total_count = defaultdict(int)\n",
    "\n",
    "for key, value in p_value_tested_dict.items():\n",
    "    gene = key.split('_')[0]\n",
    "    total_count[gene] += 1\n",
    "    if value < 0.1:\n",
    "        count_less_than_005[gene] += 1\n",
    "\n",
    "# Calculate the proportion of values < 0.05 for each gene\n",
    "proportion_less_than_005 = {gene: count_less_than_005[gene] / total for gene, total in total_count.items()}\n",
    "\n",
    "count_gene = len([x for x in proportion_less_than_005.values() if x > 0.29])\n",
    "\n",
    "count_gene"
   ]
  },
  {
   "cell_type": "code",
   "execution_count": 193,
   "metadata": {},
   "outputs": [],
   "source": [
    "gene_list = [gene for gene in proportion_less_than_005.keys() if proportion_less_than_005[gene] > 0.49]"
   ]
  },
  {
   "cell_type": "code",
   "execution_count": 41,
   "metadata": {},
   "outputs": [],
   "source": [
    "cor_dict1 = {'ENSG00000138315': 0.41632410995929325,\n",
    " 'ENSG00000143479': 0.5011257024334949,\n",
    " 'ENSG00000117707': 0.5143501260471539,\n",
    " 'ENSG00000155380': 0.5368650475105942,\n",
    " 'ENSG00000183801': 0.022257428398586906,\n",
    " 'ENSG00000149782': 0.46981502660235697,\n",
    " 'ENSG00000107560': 0.7094300670960713,\n",
    " 'ENSG00000110344': 0.5799762739532286,\n",
    " 'ENSG00000111262': 0.260748820557938,\n",
    " 'ENSG00000120457': 0.27542735232677007,\n",
    " 'ENSG00000143105': 0.12463917065105679,\n",
    " 'ENSG00000135372': 0.3182468308548365,\n",
    " 'ENSG00000171492': 0.8148554461935932,\n",
    " 'ENSG00000197147': 0.5936434803215991,\n",
    " 'ENSG00000148948': -0.10945862806371154,\n",
    " 'ENSG00000116991': 0.4722474156678038,\n",
    " 'ENSG00000165494': 0.12817487855655793,\n",
    " 'ENSG00000174576': 0.6317601951899616,\n",
    " 'ENSG00000149295': 0.2471135001529111,\n",
    " 'ENSG00000185085': 0.26788426444898955,\n",
    " 'ENSG00000198198': 0.20102316023802388,\n",
    " 'ENSG00000133816': 0.1365249215754618,\n",
    " 'ENSG00000116194': 0.47908216941773996,\n",
    " 'ENSG00000171862': 0.6723851954901209,\n",
    " 'ENSG00000185875': 0.6843284044550202,\n",
    " 'ENSG00000135775': 0.5740332966470127,\n",
    " 'ENSG00000198162': 0.5380384618102918,\n",
    " 'ENSG00000172409': 0.41005625390652123,\n",
    " 'ENSG00000172269': 0.17080298494123955,\n",
    " 'ENSG00000197106': 0.06856965336055383,\n",
    " 'ENSG00000156097': 0.15370764902001904,\n",
    " 'ENSG00000058085': 0.32431042110353203,\n",
    " 'ENSG00000187554': 0.6482192574161928,\n",
    " 'ENSG00000265203': 0.27455067326770816,\n",
    " 'ENSG00000110075': 0.5010018361411549,\n",
    " 'ENSG00000197136': 0.3827179591612949,\n",
    " 'ENSG00000171488': 0.6086915446386395,\n",
    " 'ENSG00000148700': 0.1299460854465024,\n",
    " 'ENSG00000142661': 0.3219402867459939,\n",
    " 'ENSG00000160703': 0.2673626610987112,\n",
    " 'ENSG00000196878': 0.06509661835748794,\n",
    " 'ENSG00000117000': 0.284674665886255,\n",
    " 'ENSG00000109906': 0.5256171962126348,\n",
    " 'ENSG00000129159': 0.5003572604283687,\n",
    " 'ENSG00000010165': 0.19962875695276555,\n",
    " 'ENSG00000116128': 0.16612319575257356,\n",
    " 'ENSG00000171812': 0.5729671938510141,\n",
    " 'ENSG00000048707': 0.7221005961789457,\n",
    " 'ENSG00000138161': 0.7765584173198955,\n",
    " 'ENSG00000152778': 0.22678941737661862,\n",
    " 'ENSG00000166189': 0.3171592551844421,\n",
    " 'ENSG00000196968': 0.3484175670965493,\n",
    " 'ENSG00000174684': 0.5438725336557962,\n",
    " 'ENSG00000166341': 0.48067213421312754,\n",
    " 'ENSG00000117322': 0.5546669947506562,\n",
    " 'ENSG00000152779': 0.5274260838019227,\n",
    " 'ENSG00000065613': 0.7831141862832004,\n",
    " 'ENSG00000143669': 0.6612184830332009,\n",
    " 'ENSG00000129083': 0.6467608735074528,\n",
    " 'ENSG00000166349': 0.15428046620454397,\n",
    " 'ENSG00000215009': 0.21879266609169964,\n",
    " 'ENSG00000187486': 0.3003897168100097,\n",
    " 'ENSG00000143278': 0.7146413646813754,\n",
    " 'ENSG00000181333': 0.432364963437026,\n",
    " 'ENSG00000073756': 0.594792994054204,\n",
    " 'ENSG00000254685': 0.7339048048725467,\n",
    " 'ENSG00000166106': 0.5531644162296107,\n",
    " 'ENSG00000160695': 0.20585172129646584,\n",
    " 'ENSG00000116679': 0.31083423993709836,\n",
    " 'ENSG00000137507': 0.2945378151260505,\n",
    " 'ENSG00000166507': 0.35890842816052354,\n",
    " 'ENSG00000133019': 0.19792968087276314,\n",
    " 'ENSG00000116539': 0.6967705778880635,\n",
    " 'ENSG00000020129': 0.6113947919506353,\n",
    " 'ENSG00000174516': 0.39700866213597164,\n",
    " 'ENSG00000283703': 0.11897731025048351,\n",
    " 'ENSG00000150347': 0.605438855911118,\n",
    " 'ENSG00000198561': 0.3551687903612491,\n",
    " 'ENSG00000109927': 0.3590862182193451,\n",
    " 'ENSG00000107815': 0.19151454249238822,\n",
    " 'ENSG00000185278': 0.3098913443031674,\n",
    " 'ENSG00000126705': 0.5423026825073819,\n",
    " 'ENSG00000170382': 0.31578947368421045,\n",
    " 'ENSG00000186603': 0.12759470716595456,\n",
    " 'ENSG00000198739': 0.7801636755577861,\n",
    " 'ENSG00000257315': 0.26964583080166915,\n",
    " 'ENSG00000143368': 0.24492298998578815,\n",
    " 'ENSG00000198730': 0.6139680006207014,\n",
    " 'ENSG00000175097': 0.15015694923177295,\n",
    " 'ENSG00000116199': 0.20275922630749957,\n",
    " 'ENSG00000183340': 0.24352159468438533,\n",
    " 'ENSG00000198797': 0.14507152489855624,\n",
    " 'ENSG00000143107': 0.5195582472401861,\n",
    " 'ENSG00000233436': 0.332013498312711,\n",
    " 'ENSG00000170322': 0.3128581096323032,\n",
    " 'ENSG00000154143': -0.030822510822510824,\n",
    " 'ENSG00000007933': 0.07033395221866658,\n",
    " 'ENSG00000214655': 0.301628877199347,\n",
    " 'ENSG00000151079': 0.3270859364154192,\n",
    " 'ENSG00000182022': 0.37453836486094544,\n",
    " 'ENSG00000152092': 0.3451792551340063,\n",
    " 'ENSG00000157184': 0.1318165402672445,\n",
    " 'ENSG00000248746': 0.2085294281389793,\n",
    " 'ENSG00000116183': 0.29728309481216464,\n",
    " 'ENSG00000154309': 0.38810083689072183,\n",
    " 'ENSG00000187151': 0.5592882628254435,\n",
    " 'ENSG00000169641': 0.25070798765247365,\n",
    " 'ENSG00000123836': 0.19525319811438982,\n",
    " 'ENSG00000107862': 0.2268386896547902,\n",
    " 'ENSG00000162630': 0.3620248495885296,\n",
    " 'ENSG00000042781': 0.5121527079731414,\n",
    " 'ENSG00000168539': 0.14263555505168665,\n",
    " 'ENSG00000180720': 0.21597056798970987,\n",
    " 'ENSG00000236287': 0.05755297334244703,\n",
    " 'ENSG00000064309': 0.5049529006230988,\n",
    " 'ENSG00000162711': 0.3042397151947045,\n",
    " 'ENSG00000087365': 0.2651905804548907,\n",
    " 'ENSG00000091664': 0.6711631191703112,\n",
    " 'ENSG00000127124': 0.4025830327898054,\n",
    " 'ENSG00000173456': 0.25307337238262184,\n",
    " 'ENSG00000159164': 0.28635811495009494,\n",
    " 'ENSG00000173898': 0.43853169174646606,\n",
    " 'ENSG00000119285': 0.2625868612181497,\n",
    " 'ENSG00000162775': 0.4166611218311266,\n",
    " 'ENSG00000023839': 0.19305049410683214,\n",
    " 'ENSG00000177853': 0.5504728079245905,\n",
    " 'ENSG00000176986': 0.3901180134696867}"
   ]
  },
  {
   "cell_type": "code",
   "execution_count": 42,
   "metadata": {},
   "outputs": [],
   "source": [
    "sorted_proportion = {gene: proportion_less_than_005[gene] for gene in cor_dict1.keys()}"
   ]
  },
  {
   "cell_type": "code",
   "execution_count": 44,
   "metadata": {},
   "outputs": [
    {
     "data": {
      "application/vnd.plotly.v1+json": {
       "config": {
        "plotlyServerURL": "https://plot.ly"
       },
       "data": [
        {
         "hovertemplate": "Non-stationary Evolution propotion=%{x}<br>Correlation Coefficient=%{y}<extra></extra>",
         "legendgroup": "",
         "marker": {
          "color": "#636efa",
          "symbol": "circle"
         },
         "mode": "markers",
         "name": "",
         "orientation": "v",
         "showlegend": false,
         "type": "scatter",
         "x": [
          0.3157894736842105,
          0.5862068965517241,
          0.625,
          0.4375,
          0.25,
          0.7777777777777778,
          0.4666666666666667,
          0.5384615384615384,
          0.25,
          0.25,
          0.5,
          0.6666666666666666,
          0.75,
          0.6333333333333333,
          0.21052631578947367,
          0.7368421052631579,
          0.21428571428571427,
          0.75,
          0.4117647058823529,
          0.5333333333333333,
          0.9375,
          0.3333333333333333,
          0.375,
          0,
          0.5,
          0.75,
          0.4782608695652174,
          0.4666666666666667,
          0.3125,
          0.18181818181818182,
          0.5,
          0.47368421052631576,
          0.5882352941176471,
          0.7368421052631579,
          0.6470588235294118,
          0.5789473684210527,
          0.6666666666666666,
          0.32,
          0.7368421052631579,
          0.5789473684210527,
          0.47058823529411764,
          0.625,
          0.4,
          0.23529411764705882,
          0.6666666666666666,
          0.6875,
          0.65,
          0.8888888888888888,
          0.5,
          0.16666666666666666,
          0.4,
          0.1875,
          0.23529411764705882,
          0.8888888888888888,
          0.5714285714285714,
          0.1875,
          0.4,
          0.7777777777777778,
          0.2857142857142857,
          0.6470588235294118,
          0.6470588235294118,
          0.29411764705882354,
          0.5,
          0.5555555555555556,
          0.5263157894736842,
          0.17647058823529413,
          0.7368421052631579,
          0.5,
          0,
          0.7222222222222222,
          0.38095238095238093,
          0.5882352941176471,
          0.7916666666666666,
          0.7058823529411765,
          0.5263157894736842,
          0.4,
          1,
          0.5,
          0.9411764705882353,
          0.7391304347826086,
          0.25,
          0.8333333333333334,
          0.35294117647058826,
          0.2,
          0.5652173913043478,
          0.3333333333333333,
          0.2,
          0.7058823529411765,
          0.14285714285714285,
          0.5,
          0.3,
          0.625,
          0.375,
          0.4666666666666667,
          0.6111111111111112,
          0.2727272727272727,
          0.17647058823529413,
          0.625,
          0.5789473684210527,
          0.4117647058823529,
          0.8421052631578947,
          0.4117647058823529,
          0.5,
          0.8666666666666667,
          0.9032258064516129,
          0.06666666666666667,
          0.631578947368421,
          0.5882352941176471,
          0.5555555555555556,
          0.375,
          0.7222222222222222,
          0.4444444444444444,
          0.42105263157894735,
          0.1111111111111111,
          0.5555555555555556,
          0.7222222222222222,
          0.6875,
          0.2,
          0.8823529411764706,
          0.15384615384615385,
          0.2777777777777778,
          0.8333333333333334,
          1,
          0.6153846153846154,
          0.75,
          0.2857142857142857,
          0.25
         ],
         "xaxis": "x",
         "y": [
          0.41632410995929325,
          0.5011257024334949,
          0.5143501260471539,
          0.5368650475105942,
          0.022257428398586906,
          0.46981502660235697,
          0.7094300670960713,
          0.5799762739532286,
          0.260748820557938,
          0.27542735232677007,
          0.12463917065105679,
          0.3182468308548365,
          0.8148554461935932,
          0.5936434803215991,
          -0.10945862806371154,
          0.4722474156678038,
          0.12817487855655793,
          0.6317601951899616,
          0.2471135001529111,
          0.26788426444898955,
          0.20102316023802388,
          0.1365249215754618,
          0.47908216941773996,
          0.6723851954901209,
          0.6843284044550202,
          0.5740332966470127,
          0.5380384618102918,
          0.41005625390652123,
          0.17080298494123955,
          0.06856965336055383,
          0.15370764902001904,
          0.32431042110353203,
          0.6482192574161928,
          0.27455067326770816,
          0.5010018361411549,
          0.3827179591612949,
          0.6086915446386395,
          0.1299460854465024,
          0.3219402867459939,
          0.2673626610987112,
          0.06509661835748794,
          0.284674665886255,
          0.5256171962126348,
          0.5003572604283687,
          0.19962875695276555,
          0.16612319575257356,
          0.5729671938510141,
          0.7221005961789457,
          0.7765584173198955,
          0.22678941737661862,
          0.3171592551844421,
          0.3484175670965493,
          0.5438725336557962,
          0.48067213421312754,
          0.5546669947506562,
          0.5274260838019227,
          0.7831141862832004,
          0.6612184830332009,
          0.6467608735074528,
          0.15428046620454397,
          0.21879266609169964,
          0.3003897168100097,
          0.7146413646813754,
          0.432364963437026,
          0.594792994054204,
          0.7339048048725467,
          0.5531644162296107,
          0.20585172129646584,
          0.31083423993709836,
          0.2945378151260505,
          0.35890842816052354,
          0.19792968087276314,
          0.6967705778880635,
          0.6113947919506353,
          0.39700866213597164,
          0.11897731025048351,
          0.605438855911118,
          0.3551687903612491,
          0.3590862182193451,
          0.19151454249238822,
          0.3098913443031674,
          0.5423026825073819,
          0.31578947368421045,
          0.12759470716595456,
          0.7801636755577861,
          0.26964583080166915,
          0.24492298998578815,
          0.6139680006207014,
          0.15015694923177295,
          0.20275922630749957,
          0.24352159468438533,
          0.14507152489855624,
          0.5195582472401861,
          0.332013498312711,
          0.3128581096323032,
          -0.030822510822510824,
          0.07033395221866658,
          0.301628877199347,
          0.3270859364154192,
          0.37453836486094544,
          0.3451792551340063,
          0.1318165402672445,
          0.2085294281389793,
          0.29728309481216464,
          0.38810083689072183,
          0.5592882628254435,
          0.25070798765247365,
          0.19525319811438982,
          0.2268386896547902,
          0.3620248495885296,
          0.5121527079731414,
          0.14263555505168665,
          0.21597056798970987,
          0.05755297334244703,
          0.5049529006230988,
          0.3042397151947045,
          0.2651905804548907,
          0.6711631191703112,
          0.4025830327898054,
          0.25307337238262184,
          0.28635811495009494,
          0.43853169174646606,
          0.2625868612181497,
          0.4166611218311266,
          0.19305049410683214,
          0.5504728079245905,
          0.3901180134696867
         ],
         "yaxis": "y"
        },
        {
         "hovertemplate": "<b>OLS trendline</b><br>y = 0.191342 * x + 0.277986<br>R<sup>2</sup>=0.047995<br><br>Non-stationary Evolution propotion=%{x}<br>Correlation Coefficient=%{y} <b>(trend)</b><extra></extra>",
         "legendgroup": "",
         "marker": {
          "color": "#636efa",
          "symbol": "circle"
         },
         "mode": "lines",
         "name": "",
         "showlegend": false,
         "type": "scatter",
         "x": [
          0,
          0,
          0.06666666666666667,
          0.1111111111111111,
          0.14285714285714285,
          0.15384615384615385,
          0.16666666666666666,
          0.17647058823529413,
          0.17647058823529413,
          0.18181818181818182,
          0.1875,
          0.1875,
          0.2,
          0.2,
          0.2,
          0.21052631578947367,
          0.21428571428571427,
          0.23529411764705882,
          0.23529411764705882,
          0.25,
          0.25,
          0.25,
          0.25,
          0.25,
          0.2727272727272727,
          0.2777777777777778,
          0.2857142857142857,
          0.2857142857142857,
          0.29411764705882354,
          0.3,
          0.3125,
          0.3157894736842105,
          0.32,
          0.3333333333333333,
          0.3333333333333333,
          0.35294117647058826,
          0.375,
          0.375,
          0.375,
          0.38095238095238093,
          0.4,
          0.4,
          0.4,
          0.4,
          0.4117647058823529,
          0.4117647058823529,
          0.4117647058823529,
          0.42105263157894735,
          0.4375,
          0.4444444444444444,
          0.4666666666666667,
          0.4666666666666667,
          0.4666666666666667,
          0.47058823529411764,
          0.47368421052631576,
          0.4782608695652174,
          0.5,
          0.5,
          0.5,
          0.5,
          0.5,
          0.5,
          0.5,
          0.5,
          0.5,
          0.5263157894736842,
          0.5263157894736842,
          0.5333333333333333,
          0.5384615384615384,
          0.5555555555555556,
          0.5555555555555556,
          0.5555555555555556,
          0.5652173913043478,
          0.5714285714285714,
          0.5789473684210527,
          0.5789473684210527,
          0.5789473684210527,
          0.5862068965517241,
          0.5882352941176471,
          0.5882352941176471,
          0.5882352941176471,
          0.6111111111111112,
          0.6153846153846154,
          0.625,
          0.625,
          0.625,
          0.625,
          0.631578947368421,
          0.6333333333333333,
          0.6470588235294118,
          0.6470588235294118,
          0.6470588235294118,
          0.65,
          0.6666666666666666,
          0.6666666666666666,
          0.6666666666666666,
          0.6875,
          0.6875,
          0.7058823529411765,
          0.7058823529411765,
          0.7222222222222222,
          0.7222222222222222,
          0.7222222222222222,
          0.7368421052631579,
          0.7368421052631579,
          0.7368421052631579,
          0.7368421052631579,
          0.7391304347826086,
          0.75,
          0.75,
          0.75,
          0.75,
          0.7777777777777778,
          0.7777777777777778,
          0.7916666666666666,
          0.8333333333333334,
          0.8333333333333334,
          0.8421052631578947,
          0.8666666666666667,
          0.8823529411764706,
          0.8888888888888888,
          0.8888888888888888,
          0.9032258064516129,
          0.9375,
          0.9411764705882353,
          1,
          1
         ],
         "xaxis": "x",
         "y": [
          0.2779858938262302,
          0.2779858938262302,
          0.2907420028310797,
          0.29924607550097937,
          0.30532041312233626,
          0.307423068452806,
          0.3098761663383539,
          0.31175206472142003,
          0.31175206472142003,
          0.3127752820212743,
          0.3138624504023694,
          0.3138624504023694,
          0.3162542208407787,
          0.3162542208407787,
          0.3162542208407787,
          0.31826834331522863,
          0.3189876727703893,
          0.32300745501981665,
          0.32300745501981665,
          0.32582130259441583,
          0.32582130259441583,
          0.32582130259441583,
          0.32582130259441583,
          0.32582130259441583,
          0.33016997611879634,
          0.3311363480131031,
          0.33265493241844235,
          0.33265493241844235,
          0.33426284531821326,
          0.33538838434805296,
          0.33778015478646223,
          0.3384095680597278,
          0.3392152170495078,
          0.3417664388504777,
          0.3417664388504777,
          0.3455182356166099,
          0.3497390069785086,
          0.3497390069785086,
          0.3497390069785086,
          0.35087794528251304,
          0.3545225478553272,
          0.3545225478553272,
          0.3545225478553272,
          0.3545225478553272,
          0.3567736259150065,
          0.3567736259150065,
          0.3567736259150065,
          0.358550792804227,
          0.361697859170555,
          0.36302662052522683,
          0.3672786568601767,
          0.3672786568601767,
          0.3672786568601767,
          0.3680290162134031,
          0.3686214051764766,
          0.36949711060015056,
          0.3736567113626015,
          0.3736567113626015,
          0.3736567113626015,
          0.3736567113626015,
          0.3736567113626015,
          0.3736567113626015,
          0.3736567113626015,
          0.3736567113626015,
          0.3736567113626015,
          0.3786920175487263,
          0.3786920175487263,
          0.3800347658650262,
          0.3810160050192454,
          0.384286802199976,
          0.384286802199976,
          0.384286802199976,
          0.38613551364995424,
          0.38732397101065447,
          0.3887626299209759,
          0.3887626299209759,
          0.3887626299209759,
          0.3901516799033551,
          0.3905397968101964,
          0.3905397968101964,
          0.3905397968101964,
          0.3949168930373506,
          0.3957345923325333,
          0.3975744157466943,
          0.3975744157466943,
          0.3975744157466943,
          0.3975744157466943,
          0.3988332422932255,
          0.3991689293723004,
          0.401795187108593,
          0.401795187108593,
          0.401795187108593,
          0.4023579566235128,
          0.4055469838747252,
          0.4055469838747252,
          0.4055469838747252,
          0.4095332679387407,
          0.4095332679387407,
          0.41305057740698964,
          0.41305057740698964,
          0.4161770747120998,
          0.4161770747120998,
          0.4161770747120998,
          0.4189744670377247,
          0.4189744670377247,
          0.4189744670377247,
          0.4189744670377247,
          0.4194123197495616,
          0.4214921201307871,
          0.4214921201307871,
          0.4214921201307871,
          0.4214921201307871,
          0.4268071655494744,
          0.4268071655494744,
          0.429464688258818,
          0.43743725638684894,
          0.43743725638684894,
          0.43911569178222387,
          0.44381531088927373,
          0.4468167483021795,
          0.44806734722422353,
          0.44806734722422353,
          0.45081059647257826,
          0.4573686767069263,
          0.4580721386005761,
          0.4693275288989727,
          0.4693275288989727
         ],
         "yaxis": "y"
        }
       ],
       "layout": {
        "autosize": true,
        "legend": {
         "tracegroupgap": 0
        },
        "margin": {
         "b": 20,
         "l": 20,
         "r": 20,
         "t": 50
        },
        "template": {
         "data": {
          "bar": [
           {
            "error_x": {
             "color": "#2a3f5f"
            },
            "error_y": {
             "color": "#2a3f5f"
            },
            "marker": {
             "line": {
              "color": "white",
              "width": 0.5
             },
             "pattern": {
              "fillmode": "overlay",
              "size": 10,
              "solidity": 0.2
             }
            },
            "type": "bar"
           }
          ],
          "barpolar": [
           {
            "marker": {
             "line": {
              "color": "white",
              "width": 0.5
             },
             "pattern": {
              "fillmode": "overlay",
              "size": 10,
              "solidity": 0.2
             }
            },
            "type": "barpolar"
           }
          ],
          "carpet": [
           {
            "aaxis": {
             "endlinecolor": "#2a3f5f",
             "gridcolor": "#C8D4E3",
             "linecolor": "#C8D4E3",
             "minorgridcolor": "#C8D4E3",
             "startlinecolor": "#2a3f5f"
            },
            "baxis": {
             "endlinecolor": "#2a3f5f",
             "gridcolor": "#C8D4E3",
             "linecolor": "#C8D4E3",
             "minorgridcolor": "#C8D4E3",
             "startlinecolor": "#2a3f5f"
            },
            "type": "carpet"
           }
          ],
          "choropleth": [
           {
            "colorbar": {
             "outlinewidth": 0,
             "ticks": ""
            },
            "type": "choropleth"
           }
          ],
          "contour": [
           {
            "colorbar": {
             "outlinewidth": 0,
             "ticks": ""
            },
            "colorscale": [
             [
              0,
              "#0d0887"
             ],
             [
              0.1111111111111111,
              "#46039f"
             ],
             [
              0.2222222222222222,
              "#7201a8"
             ],
             [
              0.3333333333333333,
              "#9c179e"
             ],
             [
              0.4444444444444444,
              "#bd3786"
             ],
             [
              0.5555555555555556,
              "#d8576b"
             ],
             [
              0.6666666666666666,
              "#ed7953"
             ],
             [
              0.7777777777777778,
              "#fb9f3a"
             ],
             [
              0.8888888888888888,
              "#fdca26"
             ],
             [
              1,
              "#f0f921"
             ]
            ],
            "type": "contour"
           }
          ],
          "contourcarpet": [
           {
            "colorbar": {
             "outlinewidth": 0,
             "ticks": ""
            },
            "type": "contourcarpet"
           }
          ],
          "heatmap": [
           {
            "colorbar": {
             "outlinewidth": 0,
             "ticks": ""
            },
            "colorscale": [
             [
              0,
              "#0d0887"
             ],
             [
              0.1111111111111111,
              "#46039f"
             ],
             [
              0.2222222222222222,
              "#7201a8"
             ],
             [
              0.3333333333333333,
              "#9c179e"
             ],
             [
              0.4444444444444444,
              "#bd3786"
             ],
             [
              0.5555555555555556,
              "#d8576b"
             ],
             [
              0.6666666666666666,
              "#ed7953"
             ],
             [
              0.7777777777777778,
              "#fb9f3a"
             ],
             [
              0.8888888888888888,
              "#fdca26"
             ],
             [
              1,
              "#f0f921"
             ]
            ],
            "type": "heatmap"
           }
          ],
          "heatmapgl": [
           {
            "colorbar": {
             "outlinewidth": 0,
             "ticks": ""
            },
            "colorscale": [
             [
              0,
              "#0d0887"
             ],
             [
              0.1111111111111111,
              "#46039f"
             ],
             [
              0.2222222222222222,
              "#7201a8"
             ],
             [
              0.3333333333333333,
              "#9c179e"
             ],
             [
              0.4444444444444444,
              "#bd3786"
             ],
             [
              0.5555555555555556,
              "#d8576b"
             ],
             [
              0.6666666666666666,
              "#ed7953"
             ],
             [
              0.7777777777777778,
              "#fb9f3a"
             ],
             [
              0.8888888888888888,
              "#fdca26"
             ],
             [
              1,
              "#f0f921"
             ]
            ],
            "type": "heatmapgl"
           }
          ],
          "histogram": [
           {
            "marker": {
             "pattern": {
              "fillmode": "overlay",
              "size": 10,
              "solidity": 0.2
             }
            },
            "type": "histogram"
           }
          ],
          "histogram2d": [
           {
            "colorbar": {
             "outlinewidth": 0,
             "ticks": ""
            },
            "colorscale": [
             [
              0,
              "#0d0887"
             ],
             [
              0.1111111111111111,
              "#46039f"
             ],
             [
              0.2222222222222222,
              "#7201a8"
             ],
             [
              0.3333333333333333,
              "#9c179e"
             ],
             [
              0.4444444444444444,
              "#bd3786"
             ],
             [
              0.5555555555555556,
              "#d8576b"
             ],
             [
              0.6666666666666666,
              "#ed7953"
             ],
             [
              0.7777777777777778,
              "#fb9f3a"
             ],
             [
              0.8888888888888888,
              "#fdca26"
             ],
             [
              1,
              "#f0f921"
             ]
            ],
            "type": "histogram2d"
           }
          ],
          "histogram2dcontour": [
           {
            "colorbar": {
             "outlinewidth": 0,
             "ticks": ""
            },
            "colorscale": [
             [
              0,
              "#0d0887"
             ],
             [
              0.1111111111111111,
              "#46039f"
             ],
             [
              0.2222222222222222,
              "#7201a8"
             ],
             [
              0.3333333333333333,
              "#9c179e"
             ],
             [
              0.4444444444444444,
              "#bd3786"
             ],
             [
              0.5555555555555556,
              "#d8576b"
             ],
             [
              0.6666666666666666,
              "#ed7953"
             ],
             [
              0.7777777777777778,
              "#fb9f3a"
             ],
             [
              0.8888888888888888,
              "#fdca26"
             ],
             [
              1,
              "#f0f921"
             ]
            ],
            "type": "histogram2dcontour"
           }
          ],
          "mesh3d": [
           {
            "colorbar": {
             "outlinewidth": 0,
             "ticks": ""
            },
            "type": "mesh3d"
           }
          ],
          "parcoords": [
           {
            "line": {
             "colorbar": {
              "outlinewidth": 0,
              "ticks": ""
             }
            },
            "type": "parcoords"
           }
          ],
          "pie": [
           {
            "automargin": true,
            "type": "pie"
           }
          ],
          "scatter": [
           {
            "fillpattern": {
             "fillmode": "overlay",
             "size": 10,
             "solidity": 0.2
            },
            "type": "scatter"
           }
          ],
          "scatter3d": [
           {
            "line": {
             "colorbar": {
              "outlinewidth": 0,
              "ticks": ""
             }
            },
            "marker": {
             "colorbar": {
              "outlinewidth": 0,
              "ticks": ""
             }
            },
            "type": "scatter3d"
           }
          ],
          "scattercarpet": [
           {
            "marker": {
             "colorbar": {
              "outlinewidth": 0,
              "ticks": ""
             }
            },
            "type": "scattercarpet"
           }
          ],
          "scattergeo": [
           {
            "marker": {
             "colorbar": {
              "outlinewidth": 0,
              "ticks": ""
             }
            },
            "type": "scattergeo"
           }
          ],
          "scattergl": [
           {
            "marker": {
             "colorbar": {
              "outlinewidth": 0,
              "ticks": ""
             }
            },
            "type": "scattergl"
           }
          ],
          "scattermapbox": [
           {
            "marker": {
             "colorbar": {
              "outlinewidth": 0,
              "ticks": ""
             }
            },
            "type": "scattermapbox"
           }
          ],
          "scatterpolar": [
           {
            "marker": {
             "colorbar": {
              "outlinewidth": 0,
              "ticks": ""
             }
            },
            "type": "scatterpolar"
           }
          ],
          "scatterpolargl": [
           {
            "marker": {
             "colorbar": {
              "outlinewidth": 0,
              "ticks": ""
             }
            },
            "type": "scatterpolargl"
           }
          ],
          "scatterternary": [
           {
            "marker": {
             "colorbar": {
              "outlinewidth": 0,
              "ticks": ""
             }
            },
            "type": "scatterternary"
           }
          ],
          "surface": [
           {
            "colorbar": {
             "outlinewidth": 0,
             "ticks": ""
            },
            "colorscale": [
             [
              0,
              "#0d0887"
             ],
             [
              0.1111111111111111,
              "#46039f"
             ],
             [
              0.2222222222222222,
              "#7201a8"
             ],
             [
              0.3333333333333333,
              "#9c179e"
             ],
             [
              0.4444444444444444,
              "#bd3786"
             ],
             [
              0.5555555555555556,
              "#d8576b"
             ],
             [
              0.6666666666666666,
              "#ed7953"
             ],
             [
              0.7777777777777778,
              "#fb9f3a"
             ],
             [
              0.8888888888888888,
              "#fdca26"
             ],
             [
              1,
              "#f0f921"
             ]
            ],
            "type": "surface"
           }
          ],
          "table": [
           {
            "cells": {
             "fill": {
              "color": "#EBF0F8"
             },
             "line": {
              "color": "white"
             }
            },
            "header": {
             "fill": {
              "color": "#C8D4E3"
             },
             "line": {
              "color": "white"
             }
            },
            "type": "table"
           }
          ]
         },
         "layout": {
          "annotationdefaults": {
           "arrowcolor": "#2a3f5f",
           "arrowhead": 0,
           "arrowwidth": 1
          },
          "autotypenumbers": "strict",
          "coloraxis": {
           "colorbar": {
            "outlinewidth": 0,
            "ticks": ""
           }
          },
          "colorscale": {
           "diverging": [
            [
             0,
             "#8e0152"
            ],
            [
             0.1,
             "#c51b7d"
            ],
            [
             0.2,
             "#de77ae"
            ],
            [
             0.3,
             "#f1b6da"
            ],
            [
             0.4,
             "#fde0ef"
            ],
            [
             0.5,
             "#f7f7f7"
            ],
            [
             0.6,
             "#e6f5d0"
            ],
            [
             0.7,
             "#b8e186"
            ],
            [
             0.8,
             "#7fbc41"
            ],
            [
             0.9,
             "#4d9221"
            ],
            [
             1,
             "#276419"
            ]
           ],
           "sequential": [
            [
             0,
             "#0d0887"
            ],
            [
             0.1111111111111111,
             "#46039f"
            ],
            [
             0.2222222222222222,
             "#7201a8"
            ],
            [
             0.3333333333333333,
             "#9c179e"
            ],
            [
             0.4444444444444444,
             "#bd3786"
            ],
            [
             0.5555555555555556,
             "#d8576b"
            ],
            [
             0.6666666666666666,
             "#ed7953"
            ],
            [
             0.7777777777777778,
             "#fb9f3a"
            ],
            [
             0.8888888888888888,
             "#fdca26"
            ],
            [
             1,
             "#f0f921"
            ]
           ],
           "sequentialminus": [
            [
             0,
             "#0d0887"
            ],
            [
             0.1111111111111111,
             "#46039f"
            ],
            [
             0.2222222222222222,
             "#7201a8"
            ],
            [
             0.3333333333333333,
             "#9c179e"
            ],
            [
             0.4444444444444444,
             "#bd3786"
            ],
            [
             0.5555555555555556,
             "#d8576b"
            ],
            [
             0.6666666666666666,
             "#ed7953"
            ],
            [
             0.7777777777777778,
             "#fb9f3a"
            ],
            [
             0.8888888888888888,
             "#fdca26"
            ],
            [
             1,
             "#f0f921"
            ]
           ]
          },
          "colorway": [
           "#636efa",
           "#EF553B",
           "#00cc96",
           "#ab63fa",
           "#FFA15A",
           "#19d3f3",
           "#FF6692",
           "#B6E880",
           "#FF97FF",
           "#FECB52"
          ],
          "font": {
           "color": "#2a3f5f"
          },
          "geo": {
           "bgcolor": "white",
           "lakecolor": "white",
           "landcolor": "white",
           "showlakes": true,
           "showland": true,
           "subunitcolor": "#C8D4E3"
          },
          "hoverlabel": {
           "align": "left"
          },
          "hovermode": "closest",
          "mapbox": {
           "style": "light"
          },
          "paper_bgcolor": "white",
          "plot_bgcolor": "white",
          "polar": {
           "angularaxis": {
            "gridcolor": "#EBF0F8",
            "linecolor": "#EBF0F8",
            "ticks": ""
           },
           "bgcolor": "white",
           "radialaxis": {
            "gridcolor": "#EBF0F8",
            "linecolor": "#EBF0F8",
            "ticks": ""
           }
          },
          "scene": {
           "xaxis": {
            "backgroundcolor": "white",
            "gridcolor": "#DFE8F3",
            "gridwidth": 2,
            "linecolor": "#EBF0F8",
            "showbackground": true,
            "ticks": "",
            "zerolinecolor": "#EBF0F8"
           },
           "yaxis": {
            "backgroundcolor": "white",
            "gridcolor": "#DFE8F3",
            "gridwidth": 2,
            "linecolor": "#EBF0F8",
            "showbackground": true,
            "ticks": "",
            "zerolinecolor": "#EBF0F8"
           },
           "zaxis": {
            "backgroundcolor": "white",
            "gridcolor": "#DFE8F3",
            "gridwidth": 2,
            "linecolor": "#EBF0F8",
            "showbackground": true,
            "ticks": "",
            "zerolinecolor": "#EBF0F8"
           }
          },
          "shapedefaults": {
           "line": {
            "color": "#2a3f5f"
           }
          },
          "ternary": {
           "aaxis": {
            "gridcolor": "#DFE8F3",
            "linecolor": "#A2B1C6",
            "ticks": ""
           },
           "baxis": {
            "gridcolor": "#DFE8F3",
            "linecolor": "#A2B1C6",
            "ticks": ""
           },
           "bgcolor": "white",
           "caxis": {
            "gridcolor": "#DFE8F3",
            "linecolor": "#A2B1C6",
            "ticks": ""
           }
          },
          "title": {
           "x": 0.05
          },
          "xaxis": {
           "automargin": true,
           "gridcolor": "#EBF0F8",
           "linecolor": "#EBF0F8",
           "ticks": "",
           "title": {
            "standoff": 15
           },
           "zerolinecolor": "#EBF0F8",
           "zerolinewidth": 2
          },
          "yaxis": {
           "automargin": true,
           "gridcolor": "#EBF0F8",
           "linecolor": "#EBF0F8",
           "ticks": "",
           "title": {
            "standoff": 15
           },
           "zerolinecolor": "#EBF0F8",
           "zerolinewidth": 2
          }
         }
        },
        "xaxis": {
         "anchor": "y",
         "domain": [
          0,
          1
         ],
         "title": {
          "font": {
           "size": 20
          },
          "text": "Non-stationary Evolution propotion"
         }
        },
        "yaxis": {
         "anchor": "x",
         "domain": [
          0,
          1
         ],
         "title": {
          "font": {
           "size": 20
          },
          "text": "Correlation Coefficient"
         }
        }
       }
      }
     },
     "metadata": {},
     "output_type": "display_data"
    }
   ],
   "source": [
    "import plotly.express as px\n",
    "fig = px.scatter(x = list(sorted_proportion.values()), y = list(cor_dict1.values()), labels={'x':'Non-stationary Evolution propotion', 'y':'Correlation Coefficient'}, trendline=\"ols\", title= None)\n",
    "# Update layout with labels and title\n",
    "fig.update_layout(\n",
    "    template='plotly_white',\n",
    "    margin=dict(l=20, r=20, t=50, b=20),\n",
    "    autosize=True,\n",
    "    yaxis_title_font={'size': 20},  \n",
    "    xaxis_title_font={'size': 20}, \n",
    "    width=None \n",
    ")\n",
    "fig.show()"
   ]
  },
  {
   "cell_type": "code",
   "execution_count": 74,
   "metadata": {},
   "outputs": [],
   "source": [
    "from cogent3.util.deserialise import deserialise_object\n",
    "\n",
    "def test_hypothesis_clock_model_whole_gene(aln_path: IdentifierType, result_lf_dir, output_dir, opt_args=None) -> HypothesisResultType:\n",
    "    aln = deserialise_object(json.load(open(aln_path, 'r')))\n",
    "    print('start')\n",
    "    file_name = os.path.basename(aln_path.rstrip('/'))\n",
    "    print(file_name)\n",
    "    result_lf_path = os.path.join(result_lf_dir, file_name)\n",
    "\n",
    "    tree = load_json_app(result_lf_path).get_ens_tree()\n",
    "\n",
    "    model_kwargs = dict(\n",
    "    tree=tree,\n",
    "    opt_args=opt_args,\n",
    "    # unique_trees=True,\n",
    "    optimise_motif_probs=True,\n",
    "    )\n",
    "    null = evo.model(\n",
    "            \"GN\",\n",
    "            param_rules=get_param_rules_upper_limit(\"GN\", RATE_PARAM_UPPER),\n",
    "            time_het = None,\n",
    "            **model_kwargs,\n",
    "        )\n",
    "    alt = evo.model(\n",
    "            \"GN\",\n",
    "            name=\"GN-max-het\",\n",
    "            param_rules=get_param_rules_upper_limit(\"GN\", RATE_PARAM_UPPER),\n",
    "            time_het = \"max\",\n",
    "            **model_kwargs,\n",
    "        )\n",
    "    print('begin hypothesis test')\n",
    "    hyp = evo.hypothesis(null, alt, sequential=True)\n",
    "    result = hyp(aln)\n",
    "    print('end hypothesis test')\n",
    "    out_dstore = open_data_store(output_dir, mode=\"w\", suffix=\"json\")\n",
    "    write_json_app = get_app(\"write_json\", data_store=out_dstore)\n",
    "    write_json_app(result, identifier=file_name)"
   ]
  },
  {
   "cell_type": "code",
   "execution_count": 75,
   "metadata": {},
   "outputs": [],
   "source": [
    "aln_path = '/Users/gulugulu/Desktop/honours/data_local/whole_genome_mammal87/triads_alignment_350_threshold/ENSG00000010165/1.json'\n",
    "result_lf_dir = '/Users/gulugulu/Desktop/honours/data_local/whole_genome_mammal87/triads_model_fitting_350_threshold/ENSG00000010165/model_fitting_result'\n",
    "output_dir = '/Users/gulugulu/Desktop/honours/data_local/'"
   ]
  },
  {
   "cell_type": "code",
   "execution_count": 195,
   "metadata": {},
   "outputs": [],
   "source": [
    "import glob\n",
    "clock_whole_gene_result = '/Users/gulugulu/Desktop/honours/data_local/clock_test_whole_gene'\n",
    "input_data_store_clock_whole_gene_result = open_data_store(clock_whole_gene_result, suffix= 'json')\n",
    "p_value_dict_clock_whole_gene = {}\n",
    "LR_dict_clock_whole_gene = {}\n",
    "for data in input_data_store_clock_whole_gene_result:\n",
    "    gene_name = data.unique_id.split('.')[0]\n",
    "    hyp_result = load_json_app(data)\n",
    "    p_value_dict_clock_whole_gene[gene_name] = hyp_result.pvalue\n",
    "    LR_dict_clock_whole_gene[gene_name] = hyp_result.LR"
   ]
  },
  {
   "cell_type": "code",
   "execution_count": 198,
   "metadata": {},
   "outputs": [
    {
     "data": {
      "text/plain": [
       "55"
      ]
     },
     "execution_count": 198,
     "metadata": {},
     "output_type": "execute_result"
    }
   ],
   "source": [
    "count = len([x for x in p_value_dict_clock_whole_gene.values() if x < 0.25])\n",
    "count"
   ]
  },
  {
   "cell_type": "markdown",
   "metadata": {},
   "source": [
    "Propotion of clock violation from bootstrape"
   ]
  },
  {
   "cell_type": "code",
   "execution_count": 17,
   "metadata": {},
   "outputs": [
    {
     "data": {
      "text/plain": [
       "2170"
      ]
     },
     "execution_count": 17,
     "metadata": {},
     "output_type": "execute_result"
    }
   ],
   "source": [
    "toc_result_dir = '/Users/gulugulu/Desktop/honours/data_local/bootstrapping_test_clock'\n",
    "\n",
    "input_data_store_toc_result = open_data_store(toc_result_dir, suffix= 'json')\n",
    "\n",
    "len(input_data_store_toc_result)"
   ]
  },
  {
   "cell_type": "code",
   "execution_count": 18,
   "metadata": {},
   "outputs": [
    {
     "name": "stdout",
     "output_type": "stream",
     "text": [
      "ENSG00000174684_210.json\n",
      "ENSG00000154309_62.json\n",
      "ENSG00000196878_192.json\n"
     ]
    }
   ],
   "source": [
    "p_value_observed_dict_toc = {}\n",
    "p_value_tested_dict_toc = {}\n",
    "i = 0\n",
    "for data in input_data_store_toc_result:\n",
    "    gene_name = data.unique_id.split('.')[0]\n",
    "    bootstrap_result = load_json_app(data)\n",
    "    if isinstance(bootstrap_result, NotCompleted):\n",
    "        i += 1\n",
    "        print(data) \n",
    "    else:\n",
    "        p_value_observed_dict_toc[gene_name] = bootstrap_result.observed.pvalue\n",
    "        p_value_tested_dict_toc[gene_name] = p_value(bootstrap_result)"
   ]
  },
  {
   "cell_type": "code",
   "execution_count": 31,
   "metadata": {},
   "outputs": [
    {
     "data": {
      "text/plain": [
       "1683"
      ]
     },
     "execution_count": 31,
     "metadata": {},
     "output_type": "execute_result"
    }
   ],
   "source": [
    "list1 = list(p_value_tested_dict_toc.values())\n",
    "count = len([x for x in list1 if x < 0.25])\n",
    "count\n",
    "\n",
    "#55% clock violation with 0.05, 64% with 0.1, 77% with 0.25"
   ]
  },
  {
   "cell_type": "code",
   "execution_count": 32,
   "metadata": {},
   "outputs": [
    {
     "name": "stdout",
     "output_type": "stream",
     "text": [
      "1572\n"
     ]
    }
   ],
   "source": [
    "# Assuming list1 is created from p_value_observed_dict.values()\n",
    "list2 = list(p_value_observed_dict_toc.values())\n",
    "\n",
    "# Remove NoneType values\n",
    "filtered_list = [x for x in list2 if x is not None]\n",
    "\n",
    "# Now count the values less than 0.05\n",
    "count = len([x for x in filtered_list if x < 0.25])\n",
    "\n",
    "print(count)\n",
    "#52%, 60%, 72%"
   ]
  },
  {
   "cell_type": "code",
   "execution_count": 39,
   "metadata": {},
   "outputs": [
    {
     "data": {
      "text/plain": [
       "71"
      ]
     },
     "execution_count": 39,
     "metadata": {},
     "output_type": "execute_result"
    }
   ],
   "source": [
    "from collections import defaultdict\n",
    "# Dictionary to store the count of values < 0.05 for each gene\n",
    "count_less_than_005 = defaultdict(int)\n",
    "# Dictionary to store the total count of entries for each gene\n",
    "total_count = defaultdict(int)\n",
    "\n",
    "for key, value in p_value_observed_dict_toc.items():\n",
    "    gene = key.split('_')[0]\n",
    "    total_count[gene] += 1\n",
    "    if value < 0.05:\n",
    "        count_less_than_005[gene] += 1\n",
    "\n",
    "# Calculate the proportion of values < 0.05 for each gene\n",
    "proportion_less_than_005 = {gene: count_less_than_005[gene] / total for gene, total in total_count.items()}\n",
    "\n",
    "count_gene = len([x for x in proportion_less_than_005.values() if x > 0.49])\n",
    "\n",
    "count_gene"
   ]
  },
  {
   "cell_type": "code",
   "execution_count": null,
   "metadata": {},
   "outputs": [],
   "source": []
  }
 ],
 "metadata": {
  "kernelspec": {
   "display_name": "env",
   "language": "python",
   "name": "python3"
  },
  "language_info": {
   "codemirror_mode": {
    "name": "ipython",
    "version": 3
   },
   "file_extension": ".py",
   "mimetype": "text/x-python",
   "name": "python",
   "nbconvert_exporter": "python",
   "pygments_lexer": "ipython3",
   "version": "3.12.1"
  }
 },
 "nbformat": 4,
 "nbformat_minor": 2
}
