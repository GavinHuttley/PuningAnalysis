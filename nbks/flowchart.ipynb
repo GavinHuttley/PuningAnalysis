{
 "cells": [
  {
   "cell_type": "code",
   "execution_count": 1,
   "metadata": {},
   "outputs": [
    {
     "name": "stdout",
     "output_type": "stream",
     "text": [
      "Collecting biopython\n",
      "  Downloading biopython-1.83-cp312-cp312-macosx_10_9_x86_64.whl.metadata (13 kB)\n",
      "Requirement already satisfied: matplotlib in /Users/gulugulu/opt/anaconda3/envs/c312/lib/python3.12/site-packages (3.8.2)\n",
      "Requirement already satisfied: numpy in /Users/gulugulu/opt/anaconda3/envs/c312/lib/python3.12/site-packages (from biopython) (1.26.4)\n",
      "Requirement already satisfied: contourpy>=1.0.1 in /Users/gulugulu/opt/anaconda3/envs/c312/lib/python3.12/site-packages (from matplotlib) (1.2.0)\n",
      "Requirement already satisfied: cycler>=0.10 in /Users/gulugulu/opt/anaconda3/envs/c312/lib/python3.12/site-packages (from matplotlib) (0.12.1)\n",
      "Requirement already satisfied: fonttools>=4.22.0 in /Users/gulugulu/opt/anaconda3/envs/c312/lib/python3.12/site-packages (from matplotlib) (4.47.2)\n",
      "Requirement already satisfied: kiwisolver>=1.3.1 in /Users/gulugulu/opt/anaconda3/envs/c312/lib/python3.12/site-packages (from matplotlib) (1.4.5)\n",
      "Requirement already satisfied: packaging>=20.0 in /Users/gulugulu/opt/anaconda3/envs/c312/lib/python3.12/site-packages (from matplotlib) (23.2)\n",
      "Requirement already satisfied: pillow>=8 in /Users/gulugulu/opt/anaconda3/envs/c312/lib/python3.12/site-packages (from matplotlib) (10.2.0)\n",
      "Requirement already satisfied: pyparsing>=2.3.1 in /Users/gulugulu/opt/anaconda3/envs/c312/lib/python3.12/site-packages (from matplotlib) (3.1.1)\n",
      "Requirement already satisfied: python-dateutil>=2.7 in /Users/gulugulu/opt/anaconda3/envs/c312/lib/python3.12/site-packages (from matplotlib) (2.8.2)\n",
      "Requirement already satisfied: six>=1.5 in /Users/gulugulu/opt/anaconda3/envs/c312/lib/python3.12/site-packages (from python-dateutil>=2.7->matplotlib) (1.16.0)\n",
      "Downloading biopython-1.83-cp312-cp312-macosx_10_9_x86_64.whl (2.7 MB)\n",
      "\u001b[2K   \u001b[90m━━━━━━━━━━━━━━━━━━━━━━━━━━━━━━━━━━━━━━━━\u001b[0m \u001b[32m2.7/2.7 MB\u001b[0m \u001b[31m10.0 MB/s\u001b[0m eta \u001b[36m0:00:00\u001b[0m00:01\u001b[0m00:01\u001b[0m\n",
      "\u001b[?25hInstalling collected packages: biopython\n",
      "Successfully installed biopython-1.83\n"
     ]
    }
   ],
   "source": [
    "! pip install biopython matplotlib\n"
   ]
  },
  {
   "cell_type": "code",
   "execution_count": 6,
   "metadata": {},
   "outputs": [
    {
     "ename": "NewickError",
     "evalue": "Parenthesis mismatch.",
     "output_type": "error",
     "traceback": [
      "\u001b[0;31m---------------------------------------------------------------------------\u001b[0m",
      "\u001b[0;31mTypeError\u001b[0m                                 Traceback (most recent call last)",
      "File \u001b[0;32m~/opt/anaconda3/envs/c312/lib/python3.12/site-packages/Bio/File.py:72\u001b[0m, in \u001b[0;36mas_handle\u001b[0;34m(handleish, mode, **kwargs)\u001b[0m\n\u001b[1;32m     71\u001b[0m \u001b[38;5;28;01mtry\u001b[39;00m:\n\u001b[0;32m---> 72\u001b[0m     \u001b[38;5;28;01mwith\u001b[39;00m \u001b[38;5;28;43mopen\u001b[39;49m\u001b[43m(\u001b[49m\u001b[43mhandleish\u001b[49m\u001b[43m,\u001b[49m\u001b[43m \u001b[49m\u001b[43mmode\u001b[49m\u001b[43m,\u001b[49m\u001b[43m \u001b[49m\u001b[38;5;241;43m*\u001b[39;49m\u001b[38;5;241;43m*\u001b[39;49m\u001b[43mkwargs\u001b[49m\u001b[43m)\u001b[49m \u001b[38;5;28;01mas\u001b[39;00m fp:\n\u001b[1;32m     73\u001b[0m         \u001b[38;5;28;01myield\u001b[39;00m fp\n",
      "\u001b[0;31mTypeError\u001b[0m: expected str, bytes or os.PathLike object, not StringIO",
      "\nDuring handling of the above exception, another exception occurred:\n",
      "\u001b[0;31mNewickError\u001b[0m                               Traceback (most recent call last)",
      "Cell \u001b[0;32mIn[6], line 11\u001b[0m\n\u001b[1;32m      5\u001b[0m \u001b[38;5;66;03m# Expanded Newick tree with more branches and species\u001b[39;00m\n\u001b[1;32m      6\u001b[0m newick_tree \u001b[38;5;241m=\u001b[39m \u001b[38;5;124m\"\"\"\u001b[39m\n\u001b[1;32m      7\u001b[0m \u001b[38;5;124m((((Species_A:0.1,Species_B:0.2):0.3,Species_C:0.4):0.5,(Species_D:0.6,Species_E:0.7):0.8):0.9,\u001b[39m\n\u001b[1;32m      8\u001b[0m \u001b[38;5;124m((Species_F:0.2,Species_G:0.3):0.4,(Species_H:0.5,Species_I:0.6,Species_J:0.7):0.8):0.9,\u001b[39m\n\u001b[1;32m      9\u001b[0m \u001b[38;5;124m(Species_K:1.0,(Species_L:0.8,Species_M:0.7,(Species_N:0.5,Species_O:0.4):0.3):0.2):0.1):1.0);\u001b[39m\u001b[38;5;124m\"\"\"\u001b[39m\n\u001b[0;32m---> 11\u001b[0m tree \u001b[38;5;241m=\u001b[39m \u001b[43mPhylo\u001b[49m\u001b[38;5;241;43m.\u001b[39;49m\u001b[43mread\u001b[49m\u001b[43m(\u001b[49m\u001b[43mStringIO\u001b[49m\u001b[43m(\u001b[49m\u001b[43mnewick_tree\u001b[49m\u001b[43m)\u001b[49m\u001b[43m,\u001b[49m\u001b[43m \u001b[49m\u001b[38;5;124;43m\"\u001b[39;49m\u001b[38;5;124;43mnewick\u001b[39;49m\u001b[38;5;124;43m\"\u001b[39;49m\u001b[43m)\u001b[49m\n\u001b[1;32m     13\u001b[0m \u001b[38;5;28;01mdef\u001b[39;00m \u001b[38;5;21mdraw_tree_with_annotations\u001b[39m(tree):\n\u001b[1;32m     14\u001b[0m     fig \u001b[38;5;241m=\u001b[39m plt\u001b[38;5;241m.\u001b[39mfigure(figsize\u001b[38;5;241m=\u001b[39m(\u001b[38;5;241m10\u001b[39m, \u001b[38;5;241m8\u001b[39m), dpi\u001b[38;5;241m=\u001b[39m\u001b[38;5;241m100\u001b[39m)  \u001b[38;5;66;03m# Adjust size as needed\u001b[39;00m\n",
      "File \u001b[0;32m~/opt/anaconda3/envs/c312/lib/python3.12/site-packages/Bio/Phylo/_io.py:60\u001b[0m, in \u001b[0;36mread\u001b[0;34m(file, format, **kwargs)\u001b[0m\n\u001b[1;32m     58\u001b[0m \u001b[38;5;28;01mtry\u001b[39;00m:\n\u001b[1;32m     59\u001b[0m     tree_gen \u001b[38;5;241m=\u001b[39m parse(file, \u001b[38;5;28mformat\u001b[39m, \u001b[38;5;241m*\u001b[39m\u001b[38;5;241m*\u001b[39mkwargs)\n\u001b[0;32m---> 60\u001b[0m     tree \u001b[38;5;241m=\u001b[39m \u001b[38;5;28;43mnext\u001b[39;49m\u001b[43m(\u001b[49m\u001b[43mtree_gen\u001b[49m\u001b[43m)\u001b[49m\n\u001b[1;32m     61\u001b[0m \u001b[38;5;28;01mexcept\u001b[39;00m \u001b[38;5;167;01mStopIteration\u001b[39;00m:\n\u001b[1;32m     62\u001b[0m     \u001b[38;5;28;01mraise\u001b[39;00m \u001b[38;5;167;01mValueError\u001b[39;00m(\u001b[38;5;124m\"\u001b[39m\u001b[38;5;124mThere are no trees in this file.\u001b[39m\u001b[38;5;124m\"\u001b[39m) \u001b[38;5;28;01mfrom\u001b[39;00m \u001b[38;5;28;01mNone\u001b[39;00m\n",
      "File \u001b[0;32m~/opt/anaconda3/envs/c312/lib/python3.12/site-packages/Bio/Phylo/_io.py:49\u001b[0m, in \u001b[0;36mparse\u001b[0;34m(file, format, **kwargs)\u001b[0m\n\u001b[1;32m     34\u001b[0m \u001b[38;5;250m\u001b[39m\u001b[38;5;124;03m\"\"\"Parse a file iteratively, and yield each of the trees it contains.\u001b[39;00m\n\u001b[1;32m     35\u001b[0m \n\u001b[1;32m     36\u001b[0m \u001b[38;5;124;03mIf a file only contains one tree, this still returns an iterable object that\u001b[39;00m\n\u001b[0;32m   (...)\u001b[0m\n\u001b[1;32m     46\u001b[0m \n\u001b[1;32m     47\u001b[0m \u001b[38;5;124;03m\"\"\"\u001b[39;00m\n\u001b[1;32m     48\u001b[0m \u001b[38;5;28;01mwith\u001b[39;00m File\u001b[38;5;241m.\u001b[39mas_handle(file) \u001b[38;5;28;01mas\u001b[39;00m fp:\n\u001b[0;32m---> 49\u001b[0m     \u001b[38;5;28;01myield from\u001b[39;00m \u001b[38;5;28mgetattr\u001b[39m(supported_formats[\u001b[38;5;28mformat\u001b[39m], \u001b[38;5;124m\"\u001b[39m\u001b[38;5;124mparse\u001b[39m\u001b[38;5;124m\"\u001b[39m)(fp, \u001b[38;5;241m*\u001b[39m\u001b[38;5;241m*\u001b[39mkwargs)\n",
      "File \u001b[0;32m~/opt/anaconda3/envs/c312/lib/python3.12/site-packages/Bio/Phylo/NewickIO.py:123\u001b[0m, in \u001b[0;36mParser.parse\u001b[0;34m(self, values_are_confidence, comments_are_confidence, rooted)\u001b[0m\n\u001b[1;32m    121\u001b[0m     buf \u001b[38;5;241m+\u001b[39m\u001b[38;5;241m=\u001b[39m line\u001b[38;5;241m.\u001b[39mrstrip()\n\u001b[1;32m    122\u001b[0m     \u001b[38;5;28;01mif\u001b[39;00m buf\u001b[38;5;241m.\u001b[39mendswith(\u001b[38;5;124m\"\u001b[39m\u001b[38;5;124m;\u001b[39m\u001b[38;5;124m\"\u001b[39m):\n\u001b[0;32m--> 123\u001b[0m         \u001b[38;5;28;01myield\u001b[39;00m \u001b[38;5;28;43mself\u001b[39;49m\u001b[38;5;241;43m.\u001b[39;49m\u001b[43m_parse_tree\u001b[49m\u001b[43m(\u001b[49m\u001b[43mbuf\u001b[49m\u001b[43m)\u001b[49m\n\u001b[1;32m    124\u001b[0m         buf \u001b[38;5;241m=\u001b[39m \u001b[38;5;124m\"\u001b[39m\u001b[38;5;124m\"\u001b[39m\n\u001b[1;32m    125\u001b[0m \u001b[38;5;28;01mif\u001b[39;00m buf:\n\u001b[1;32m    126\u001b[0m     \u001b[38;5;66;03m# Last tree is missing a terminal ';' character -- that's OK\u001b[39;00m\n",
      "File \u001b[0;32m~/opt/anaconda3/envs/c312/lib/python3.12/site-packages/Bio/Phylo/NewickIO.py:176\u001b[0m, in \u001b[0;36mParser._parse_tree\u001b[0;34m(self, text)\u001b[0m\n\u001b[1;32m    174\u001b[0m parent \u001b[38;5;241m=\u001b[39m \u001b[38;5;28mself\u001b[39m\u001b[38;5;241m.\u001b[39mprocess_clade(current_clade)\n\u001b[1;32m    175\u001b[0m \u001b[38;5;28;01mif\u001b[39;00m \u001b[38;5;129;01mnot\u001b[39;00m parent:\n\u001b[0;32m--> 176\u001b[0m     \u001b[38;5;28;01mraise\u001b[39;00m NewickError(\u001b[38;5;124m\"\u001b[39m\u001b[38;5;124mParenthesis mismatch.\u001b[39m\u001b[38;5;124m\"\u001b[39m)\n\u001b[1;32m    177\u001b[0m current_clade \u001b[38;5;241m=\u001b[39m parent\n\u001b[1;32m    178\u001b[0m entering_branch_length \u001b[38;5;241m=\u001b[39m \u001b[38;5;28;01mFalse\u001b[39;00m\n",
      "\u001b[0;31mNewickError\u001b[0m: Parenthesis mismatch."
     ]
    }
   ],
   "source": [
    "import matplotlib.pyplot as plt\n",
    "from Bio import Phylo\n",
    "from io import StringIO\n",
    "\n",
    "# Sample Newick tree as a string, replace this with your actual tree file content\n",
    "newick_tree = \"((Species_A:0.1,Species_B:0.2):0.3,(Species_C:0.4,Species_D:0.5):0.6);\"\n",
    "tree = Phylo.read(StringIO(newick_tree), \"newick\")\n",
    "\n",
    "def draw_tree_with_annotations(tree):\n",
    "    fig = plt.figure(figsize=(10, 5), dpi=100)  # Adjust size as needed\n",
    "    axes = fig.add_subplot(1, 1, 1)\n",
    "    Phylo.draw(tree, axes=axes)\n",
    "\n",
    "    # Example of adding annotations - you can customize this part\n",
    "    for clade in tree.find_clades():\n",
    "        if clade.branch_length:\n",
    "            xpos = clade.branch_length + clade.confidence\n",
    "            ypos = clade.y_position\n",
    "            # Example annotation: Name and nucleotide composition (dummy data)\n",
    "            annotation = f\"{clade.name}\\nATGC\"\n",
    "            axes.annotate(annotation, xy=(xpos, ypos), xytext=(5, 2),\n",
    "                           textcoords='offset points', ha='left', va='bottom')\n",
    "\n",
    "    plt.show()\n",
    "\n",
    "draw_tree_with_annotations(tree)\n"
   ]
  }
 ],
 "metadata": {
  "kernelspec": {
   "display_name": "c312",
   "language": "python",
   "name": "python3"
  },
  "language_info": {
   "codemirror_mode": {
    "name": "ipython",
    "version": 3
   },
   "file_extension": ".py",
   "mimetype": "text/x-python",
   "name": "python",
   "nbconvert_exporter": "python",
   "pygments_lexer": "ipython3",
   "version": "3.12.1"
  }
 },
 "nbformat": 4,
 "nbformat_minor": 2
}
